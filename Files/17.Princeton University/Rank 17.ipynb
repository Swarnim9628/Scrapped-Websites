{
 "cells": [
  {
   "cell_type": "code",
   "execution_count": 1,
   "id": "443e1e68",
   "metadata": {},
   "outputs": [],
   "source": [
    "from selenium import webdriver\n",
    "from selenium.webdriver.chrome.service import Service\n",
    "import pandas as pd\n",
    "import json"
   ]
  },
  {
   "cell_type": "code",
   "execution_count": 2,
   "id": "f18a36e6",
   "metadata": {},
   "outputs": [],
   "source": [
    "path = Service('C:\\chromedriver.exe')"
   ]
  },
  {
   "cell_type": "code",
   "execution_count": 3,
   "id": "ca146f06",
   "metadata": {},
   "outputs": [],
   "source": [
    "# set path for the driver\n",
    "browser = webdriver.Chrome(service = path)"
   ]
  },
  {
   "cell_type": "code",
   "execution_count": 4,
   "id": "1b77de64",
   "metadata": {},
   "outputs": [],
   "source": [
    "url = \"https://www.topuniversities.com/university-rankings/world-university-rankings/2023\""
   ]
  },
  {
   "cell_type": "code",
   "execution_count": 5,
   "id": "75696c40",
   "metadata": {},
   "outputs": [],
   "source": [
    "# open the page url ion chrome\n",
    "browser.get(url)"
   ]
  },
  {
   "cell_type": "code",
   "execution_count": 7,
   "id": "2f28b68d",
   "metadata": {},
   "outputs": [
    {
     "data": {
      "text/plain": [
       "[<selenium.webdriver.remote.webelement.WebElement (session=\"c848d6abf4d7804036e31bcf1fdcf636\", element=\"a313b1ea-419a-43fd-8318-688682900f64\")>,\n",
       " <selenium.webdriver.remote.webelement.WebElement (session=\"c848d6abf4d7804036e31bcf1fdcf636\", element=\"20849857-0f44-4cfb-b76c-f6be7e3b78f8\")>,\n",
       " <selenium.webdriver.remote.webelement.WebElement (session=\"c848d6abf4d7804036e31bcf1fdcf636\", element=\"bd1d8c29-a981-4698-be06-7ca2e82c0c61\")>,\n",
       " <selenium.webdriver.remote.webelement.WebElement (session=\"c848d6abf4d7804036e31bcf1fdcf636\", element=\"17b543d3-3c5b-4b47-8bf9-7282f1fd47d8\")>,\n",
       " <selenium.webdriver.remote.webelement.WebElement (session=\"c848d6abf4d7804036e31bcf1fdcf636\", element=\"116962ba-64c8-4948-a46e-8fa7bcbfcddb\")>,\n",
       " <selenium.webdriver.remote.webelement.WebElement (session=\"c848d6abf4d7804036e31bcf1fdcf636\", element=\"690719b2-f85c-4ae9-87f2-0dea980d792c\")>,\n",
       " <selenium.webdriver.remote.webelement.WebElement (session=\"c848d6abf4d7804036e31bcf1fdcf636\", element=\"a186b411-b710-4b7f-a36b-76704353cc92\")>,\n",
       " <selenium.webdriver.remote.webelement.WebElement (session=\"c848d6abf4d7804036e31bcf1fdcf636\", element=\"2b136a7d-1ca6-4df3-b6df-2fe48425ead2\")>,\n",
       " <selenium.webdriver.remote.webelement.WebElement (session=\"c848d6abf4d7804036e31bcf1fdcf636\", element=\"dc34b792-9b48-4be3-9ead-92bfd89be06b\")>,\n",
       " <selenium.webdriver.remote.webelement.WebElement (session=\"c848d6abf4d7804036e31bcf1fdcf636\", element=\"807cae72-9a63-45d2-b1e2-408b58f0718e\")>,\n",
       " <selenium.webdriver.remote.webelement.WebElement (session=\"c848d6abf4d7804036e31bcf1fdcf636\", element=\"e6b890d1-4e47-4e89-9714-cd1f4bcc7fa4\")>,\n",
       " <selenium.webdriver.remote.webelement.WebElement (session=\"c848d6abf4d7804036e31bcf1fdcf636\", element=\"0445e5c0-1a74-4188-9064-a1537a328a9d\")>,\n",
       " <selenium.webdriver.remote.webelement.WebElement (session=\"c848d6abf4d7804036e31bcf1fdcf636\", element=\"1c913f74-2465-4ee0-8729-ea7412efab18\")>,\n",
       " <selenium.webdriver.remote.webelement.WebElement (session=\"c848d6abf4d7804036e31bcf1fdcf636\", element=\"2dcc5960-f2bb-481d-9b7d-471de75d7068\")>,\n",
       " <selenium.webdriver.remote.webelement.WebElement (session=\"c848d6abf4d7804036e31bcf1fdcf636\", element=\"060ced5a-6b35-446d-87bc-3b764031ecd3\")>,\n",
       " <selenium.webdriver.remote.webelement.WebElement (session=\"c848d6abf4d7804036e31bcf1fdcf636\", element=\"2d803412-1067-4d66-9365-10180d1c79c5\")>,\n",
       " <selenium.webdriver.remote.webelement.WebElement (session=\"c848d6abf4d7804036e31bcf1fdcf636\", element=\"f65e4aae-ebe9-419c-a743-fbd909a79b8c\")>,\n",
       " <selenium.webdriver.remote.webelement.WebElement (session=\"c848d6abf4d7804036e31bcf1fdcf636\", element=\"4596608c-16ca-4986-a62c-eede0fcac795\")>,\n",
       " <selenium.webdriver.remote.webelement.WebElement (session=\"c848d6abf4d7804036e31bcf1fdcf636\", element=\"ca1fd38a-243e-4f8b-b0e6-ef0effcf0ee5\")>,\n",
       " <selenium.webdriver.remote.webelement.WebElement (session=\"c848d6abf4d7804036e31bcf1fdcf636\", element=\"bdb58ccd-327a-424d-ae47-63a551f0e7fb\")>]"
      ]
     },
     "execution_count": 7,
     "metadata": {},
     "output_type": "execute_result"
    }
   ],
   "source": [
    "line1=browser.find_elements(\"xpath\",\"//div[@class='location ']\")\n",
    "line1"
   ]
  },
  {
   "cell_type": "code",
   "execution_count": 8,
   "id": "be8dd83e",
   "metadata": {},
   "outputs": [
    {
     "data": {
      "text/plain": [
       "['Singapore, Singapore',\n",
       " 'Beijing, China (Mainland)',\n",
       " 'Philadelphia, United States',\n",
       " 'Beijing, China (Mainland)',\n",
       " 'Edinburgh, United Kingdom',\n",
       " 'Lausanne, Switzerland',\n",
       " 'Princeton, United States',\n",
       " 'New Haven, United States',\n",
       " 'Singapore, Singapore',\n",
       " 'Ithaca, United States']"
      ]
     },
     "execution_count": 8,
     "metadata": {},
     "output_type": "execute_result"
    }
   ],
   "source": [
    "address=[]\n",
    "for data in line1:\n",
    "    #get the text data\n",
    "    temp=data.text\n",
    "    address.append(temp)\n",
    "address=address[10:]\n",
    "address"
   ]
  },
  {
   "cell_type": "code",
   "execution_count": 9,
   "id": "36a46abf",
   "metadata": {},
   "outputs": [
    {
     "data": {
      "text/plain": [
       "[<selenium.webdriver.remote.webelement.WebElement (session=\"c848d6abf4d7804036e31bcf1fdcf636\", element=\"ae8490f9-a74f-4513-a472-9bf4f9c5455b\")>,\n",
       " <selenium.webdriver.remote.webelement.WebElement (session=\"c848d6abf4d7804036e31bcf1fdcf636\", element=\"149f0497-bba7-4a59-8222-7056dc376a02\")>,\n",
       " <selenium.webdriver.remote.webelement.WebElement (session=\"c848d6abf4d7804036e31bcf1fdcf636\", element=\"abc2fec4-95d6-4de8-a7d9-72e853a7ad86\")>,\n",
       " <selenium.webdriver.remote.webelement.WebElement (session=\"c848d6abf4d7804036e31bcf1fdcf636\", element=\"1c485f15-c4dd-4126-b2ff-8655429b6919\")>,\n",
       " <selenium.webdriver.remote.webelement.WebElement (session=\"c848d6abf4d7804036e31bcf1fdcf636\", element=\"d90c8871-425c-4730-bb33-463479e5d22b\")>,\n",
       " <selenium.webdriver.remote.webelement.WebElement (session=\"c848d6abf4d7804036e31bcf1fdcf636\", element=\"b222efb8-0286-4a9e-9f5a-e62559f82ec1\")>,\n",
       " <selenium.webdriver.remote.webelement.WebElement (session=\"c848d6abf4d7804036e31bcf1fdcf636\", element=\"66f5b84c-6589-4495-b7cf-e7bc0d902733\")>,\n",
       " <selenium.webdriver.remote.webelement.WebElement (session=\"c848d6abf4d7804036e31bcf1fdcf636\", element=\"53d8ed5b-e2d6-4d0f-aa8e-12436dc88895\")>,\n",
       " <selenium.webdriver.remote.webelement.WebElement (session=\"c848d6abf4d7804036e31bcf1fdcf636\", element=\"bdc9767a-fc56-4a6f-a5d7-be401f8f51b4\")>,\n",
       " <selenium.webdriver.remote.webelement.WebElement (session=\"c848d6abf4d7804036e31bcf1fdcf636\", element=\"71bbb238-ba3f-40ec-aaa1-5cea8dc49c6b\")>]"
      ]
     },
     "execution_count": 9,
     "metadata": {},
     "output_type": "execute_result"
    }
   ],
   "source": [
    "line2=browser.find_elements(\"xpath\",\"//div[@class='_univ-rank ']\")\n",
    "line2"
   ]
  },
  {
   "cell_type": "code",
   "execution_count": 10,
   "id": "95ac52f8",
   "metadata": {},
   "outputs": [
    {
     "data": {
      "text/plain": [
       "['11', '12', '13', '14', '15', '=16', '=16', '18', '19', '20']"
      ]
     },
     "execution_count": 10,
     "metadata": {},
     "output_type": "execute_result"
    }
   ],
   "source": [
    "Rank=[]\n",
    "for data in line2:\n",
    "    #get the text data\n",
    "    temp=data.text\n",
    "    Rank.append(temp)\n",
    "Rank\n"
   ]
  },
  {
   "cell_type": "code",
   "execution_count": 11,
   "id": "dbe6a068",
   "metadata": {},
   "outputs": [
    {
     "data": {
      "text/plain": [
       "[<selenium.webdriver.remote.webelement.WebElement (session=\"c848d6abf4d7804036e31bcf1fdcf636\", element=\"e473336e-52bc-4091-9020-f620730e8235\")>,\n",
       " <selenium.webdriver.remote.webelement.WebElement (session=\"c848d6abf4d7804036e31bcf1fdcf636\", element=\"3756e256-aeda-47b8-8b2c-09b20215b997\")>,\n",
       " <selenium.webdriver.remote.webelement.WebElement (session=\"c848d6abf4d7804036e31bcf1fdcf636\", element=\"c597bfa0-2918-439a-a3c7-52dbb57e326e\")>,\n",
       " <selenium.webdriver.remote.webelement.WebElement (session=\"c848d6abf4d7804036e31bcf1fdcf636\", element=\"478a13c6-4a39-455d-ac05-2e9ea6e5dc1d\")>,\n",
       " <selenium.webdriver.remote.webelement.WebElement (session=\"c848d6abf4d7804036e31bcf1fdcf636\", element=\"c413f6af-d43d-4cfd-b1da-739b18510c5d\")>,\n",
       " <selenium.webdriver.remote.webelement.WebElement (session=\"c848d6abf4d7804036e31bcf1fdcf636\", element=\"f8c9ecdf-07fd-44b0-aa3b-f53ab9568427\")>,\n",
       " <selenium.webdriver.remote.webelement.WebElement (session=\"c848d6abf4d7804036e31bcf1fdcf636\", element=\"25641c9a-2a37-41b7-bfa8-6ad3f87fc838\")>,\n",
       " <selenium.webdriver.remote.webelement.WebElement (session=\"c848d6abf4d7804036e31bcf1fdcf636\", element=\"f7883f46-5bad-4285-bbfd-0ad4cd467df2\")>,\n",
       " <selenium.webdriver.remote.webelement.WebElement (session=\"c848d6abf4d7804036e31bcf1fdcf636\", element=\"44f171bc-1ad0-442d-9729-d32ce546cd67\")>]"
      ]
     },
     "execution_count": 11,
     "metadata": {},
     "output_type": "execute_result"
    }
   ],
   "source": [
    "# GET EACH COLLEGE SPECIFICATION HEADERS\n",
    "line3=browser.find_elements(\"xpath\",\"//div[@class='_click-function_ind']\")\n",
    "line3"
   ]
  },
  {
   "cell_type": "code",
   "execution_count": 12,
   "id": "b5abfef6",
   "metadata": {},
   "outputs": [
    {
     "data": {
      "text/plain": [
       "['Overall Score',\n",
       " 'Academic Reputation',\n",
       " 'Employer Reputation',\n",
       " 'Citations per Faculty',\n",
       " 'Faculty Student Ratio',\n",
       " 'International Students Ratio',\n",
       " 'International Faculty Ratio',\n",
       " 'International Research Network\\nUnweighted',\n",
       " 'Employment Outcomes\\nUnweighted']"
      ]
     },
     "execution_count": 12,
     "metadata": {},
     "output_type": "execute_result"
    }
   ],
   "source": [
    "#PARSING DATA\n",
    "column=[]\n",
    "for data in line3:\n",
    "    #get the text data\n",
    "    temp=data.text\n",
    "    column.append(temp)\n",
    "column"
   ]
  },
  {
   "cell_type": "code",
   "execution_count": 13,
   "id": "879bcecd",
   "metadata": {},
   "outputs": [
    {
     "data": {
      "text/plain": [
       "[<selenium.webdriver.remote.webelement.WebElement (session=\"c848d6abf4d7804036e31bcf1fdcf636\", element=\"21705157-14bf-44d7-a09b-979ff4371632\")>,\n",
       " <selenium.webdriver.remote.webelement.WebElement (session=\"c848d6abf4d7804036e31bcf1fdcf636\", element=\"45f6d141-f748-4aeb-97e0-42f2cdd265a1\")>,\n",
       " <selenium.webdriver.remote.webelement.WebElement (session=\"c848d6abf4d7804036e31bcf1fdcf636\", element=\"5e2cdc6b-8cf9-4eac-9e62-1344a76e2557\")>,\n",
       " <selenium.webdriver.remote.webelement.WebElement (session=\"c848d6abf4d7804036e31bcf1fdcf636\", element=\"6baaf798-010c-42e4-893f-cbe279da13d0\")>,\n",
       " <selenium.webdriver.remote.webelement.WebElement (session=\"c848d6abf4d7804036e31bcf1fdcf636\", element=\"bc56cef1-ead1-4680-95ba-b4fe41ce458a\")>,\n",
       " <selenium.webdriver.remote.webelement.WebElement (session=\"c848d6abf4d7804036e31bcf1fdcf636\", element=\"22ef9f75-1f96-4599-984b-c8bcc3331c99\")>,\n",
       " <selenium.webdriver.remote.webelement.WebElement (session=\"c848d6abf4d7804036e31bcf1fdcf636\", element=\"cbe01954-833e-4fa2-b91b-4ad9811e3f5c\")>,\n",
       " <selenium.webdriver.remote.webelement.WebElement (session=\"c848d6abf4d7804036e31bcf1fdcf636\", element=\"2170db43-86df-4a71-a89e-568dffd12eff\")>,\n",
       " <selenium.webdriver.remote.webelement.WebElement (session=\"c848d6abf4d7804036e31bcf1fdcf636\", element=\"d18aaa65-330d-4279-8017-a8111da47e4e\")>,\n",
       " <selenium.webdriver.remote.webelement.WebElement (session=\"c848d6abf4d7804036e31bcf1fdcf636\", element=\"a5295e26-75a6-4b80-bca5-f3c966651183\")>,\n",
       " <selenium.webdriver.remote.webelement.WebElement (session=\"c848d6abf4d7804036e31bcf1fdcf636\", element=\"158d2f1e-60c1-4e90-8096-60324d3eba17\")>,\n",
       " <selenium.webdriver.remote.webelement.WebElement (session=\"c848d6abf4d7804036e31bcf1fdcf636\", element=\"3b6ae3de-7ee9-44a0-838c-b98942f9c807\")>,\n",
       " <selenium.webdriver.remote.webelement.WebElement (session=\"c848d6abf4d7804036e31bcf1fdcf636\", element=\"a171686d-b252-48ba-a70a-1993ca02bcf0\")>,\n",
       " <selenium.webdriver.remote.webelement.WebElement (session=\"c848d6abf4d7804036e31bcf1fdcf636\", element=\"6b88d1f2-fe91-4dbf-b05a-0b3f2c21187f\")>,\n",
       " <selenium.webdriver.remote.webelement.WebElement (session=\"c848d6abf4d7804036e31bcf1fdcf636\", element=\"1f3390a7-ad2a-4da6-b3a2-b48dfa8e6674\")>,\n",
       " <selenium.webdriver.remote.webelement.WebElement (session=\"c848d6abf4d7804036e31bcf1fdcf636\", element=\"c29a70a8-b7d0-4031-a354-86abc326848e\")>,\n",
       " <selenium.webdriver.remote.webelement.WebElement (session=\"c848d6abf4d7804036e31bcf1fdcf636\", element=\"16364cab-5413-4ad4-9e53-be2e6342451d\")>,\n",
       " <selenium.webdriver.remote.webelement.WebElement (session=\"c848d6abf4d7804036e31bcf1fdcf636\", element=\"a8dc7210-69f6-4de4-8616-0cd5fe543581\")>,\n",
       " <selenium.webdriver.remote.webelement.WebElement (session=\"c848d6abf4d7804036e31bcf1fdcf636\", element=\"8481d924-f4da-437c-a507-8336c5a1e4b8\")>,\n",
       " <selenium.webdriver.remote.webelement.WebElement (session=\"c848d6abf4d7804036e31bcf1fdcf636\", element=\"71965fb2-db27-4c07-ae80-01b8cb8c90c3\")>,\n",
       " <selenium.webdriver.remote.webelement.WebElement (session=\"c848d6abf4d7804036e31bcf1fdcf636\", element=\"4a8cbe92-3609-4371-89ca-fa05232e855d\")>,\n",
       " <selenium.webdriver.remote.webelement.WebElement (session=\"c848d6abf4d7804036e31bcf1fdcf636\", element=\"92f52b10-30ba-4ce2-8f2b-92eedecd1e76\")>,\n",
       " <selenium.webdriver.remote.webelement.WebElement (session=\"c848d6abf4d7804036e31bcf1fdcf636\", element=\"147ff2c9-3132-4cd0-bcc4-deeb0a33724b\")>,\n",
       " <selenium.webdriver.remote.webelement.WebElement (session=\"c848d6abf4d7804036e31bcf1fdcf636\", element=\"716c134e-3f88-4459-83c8-faa1ad1e6f0e\")>,\n",
       " <selenium.webdriver.remote.webelement.WebElement (session=\"c848d6abf4d7804036e31bcf1fdcf636\", element=\"11c4a861-56c6-4d66-813a-2498982d286c\")>,\n",
       " <selenium.webdriver.remote.webelement.WebElement (session=\"c848d6abf4d7804036e31bcf1fdcf636\", element=\"b80f30c6-0ecb-4c24-9b7e-66439661268b\")>,\n",
       " <selenium.webdriver.remote.webelement.WebElement (session=\"c848d6abf4d7804036e31bcf1fdcf636\", element=\"e81d2a42-f36a-46ff-bed3-1d3414ef88c3\")>,\n",
       " <selenium.webdriver.remote.webelement.WebElement (session=\"c848d6abf4d7804036e31bcf1fdcf636\", element=\"a6059182-e145-4917-8efe-9a43204594b4\")>,\n",
       " <selenium.webdriver.remote.webelement.WebElement (session=\"c848d6abf4d7804036e31bcf1fdcf636\", element=\"c5772cfb-53de-4ab9-8b9a-d261aa2f7f4f\")>,\n",
       " <selenium.webdriver.remote.webelement.WebElement (session=\"c848d6abf4d7804036e31bcf1fdcf636\", element=\"3bbd26c9-570a-4f83-9eda-6fd7952d5e92\")>,\n",
       " <selenium.webdriver.remote.webelement.WebElement (session=\"c848d6abf4d7804036e31bcf1fdcf636\", element=\"2ea627d5-f617-42e0-ae01-5e8b98dc73e6\")>,\n",
       " <selenium.webdriver.remote.webelement.WebElement (session=\"c848d6abf4d7804036e31bcf1fdcf636\", element=\"d9fc9d4c-d5b4-42fa-8259-016e5c28155e\")>,\n",
       " <selenium.webdriver.remote.webelement.WebElement (session=\"c848d6abf4d7804036e31bcf1fdcf636\", element=\"5869d184-5ece-4a09-b689-5a6650228adc\")>,\n",
       " <selenium.webdriver.remote.webelement.WebElement (session=\"c848d6abf4d7804036e31bcf1fdcf636\", element=\"b0aa1e5a-e674-412c-bdc9-87639258cda4\")>,\n",
       " <selenium.webdriver.remote.webelement.WebElement (session=\"c848d6abf4d7804036e31bcf1fdcf636\", element=\"83ba3604-2845-44d1-9282-7d00e3a160c2\")>,\n",
       " <selenium.webdriver.remote.webelement.WebElement (session=\"c848d6abf4d7804036e31bcf1fdcf636\", element=\"5d233f3e-f3eb-41e4-86e7-f5a90039e557\")>,\n",
       " <selenium.webdriver.remote.webelement.WebElement (session=\"c848d6abf4d7804036e31bcf1fdcf636\", element=\"db5dbd78-79df-4d81-906b-a443ae84fd04\")>,\n",
       " <selenium.webdriver.remote.webelement.WebElement (session=\"c848d6abf4d7804036e31bcf1fdcf636\", element=\"3947e20e-cd7c-4a96-ba8e-03afad08d359\")>,\n",
       " <selenium.webdriver.remote.webelement.WebElement (session=\"c848d6abf4d7804036e31bcf1fdcf636\", element=\"f57d5c5c-b10b-4655-a3b4-5b2e17fbb9e6\")>,\n",
       " <selenium.webdriver.remote.webelement.WebElement (session=\"c848d6abf4d7804036e31bcf1fdcf636\", element=\"24ddd8af-0413-4d4e-9cb8-27e127b2ea15\")>,\n",
       " <selenium.webdriver.remote.webelement.WebElement (session=\"c848d6abf4d7804036e31bcf1fdcf636\", element=\"6bbfe4f2-5d26-4923-915e-05a77a94750f\")>,\n",
       " <selenium.webdriver.remote.webelement.WebElement (session=\"c848d6abf4d7804036e31bcf1fdcf636\", element=\"6c9a3837-80c3-4aac-8c97-70a90e827749\")>,\n",
       " <selenium.webdriver.remote.webelement.WebElement (session=\"c848d6abf4d7804036e31bcf1fdcf636\", element=\"cac0dc40-0273-41ab-88bc-3d423f892c73\")>,\n",
       " <selenium.webdriver.remote.webelement.WebElement (session=\"c848d6abf4d7804036e31bcf1fdcf636\", element=\"b734348a-6974-4ec2-88dc-85bbff544e24\")>,\n",
       " <selenium.webdriver.remote.webelement.WebElement (session=\"c848d6abf4d7804036e31bcf1fdcf636\", element=\"f220d54f-b854-4474-a1d6-89bb03ac6507\")>,\n",
       " <selenium.webdriver.remote.webelement.WebElement (session=\"c848d6abf4d7804036e31bcf1fdcf636\", element=\"3f6e4a40-3549-43c0-9733-fd514c4aa52b\")>,\n",
       " <selenium.webdriver.remote.webelement.WebElement (session=\"c848d6abf4d7804036e31bcf1fdcf636\", element=\"468dd741-563a-47b7-a0f2-cb000642b3c6\")>,\n",
       " <selenium.webdriver.remote.webelement.WebElement (session=\"c848d6abf4d7804036e31bcf1fdcf636\", element=\"acd24116-f4e4-450e-84f6-fa79026de1af\")>,\n",
       " <selenium.webdriver.remote.webelement.WebElement (session=\"c848d6abf4d7804036e31bcf1fdcf636\", element=\"79aa6aad-7898-405c-8d84-3f38c4b34ea0\")>,\n",
       " <selenium.webdriver.remote.webelement.WebElement (session=\"c848d6abf4d7804036e31bcf1fdcf636\", element=\"6ac6fbd9-19be-4e78-88d1-eec88b2765d3\")>,\n",
       " <selenium.webdriver.remote.webelement.WebElement (session=\"c848d6abf4d7804036e31bcf1fdcf636\", element=\"9920db3f-7fc9-4085-99a6-74b4dac56cfb\")>,\n",
       " <selenium.webdriver.remote.webelement.WebElement (session=\"c848d6abf4d7804036e31bcf1fdcf636\", element=\"80427b99-2099-40ba-b0ca-1bb593fcc85e\")>,\n",
       " <selenium.webdriver.remote.webelement.WebElement (session=\"c848d6abf4d7804036e31bcf1fdcf636\", element=\"98954acb-fd91-4e36-9880-420307e36fda\")>,\n",
       " <selenium.webdriver.remote.webelement.WebElement (session=\"c848d6abf4d7804036e31bcf1fdcf636\", element=\"8055b5f4-c515-4ae0-95d5-2177e1184be9\")>,\n",
       " <selenium.webdriver.remote.webelement.WebElement (session=\"c848d6abf4d7804036e31bcf1fdcf636\", element=\"64244e49-1c85-47b2-a03f-85d23e09f8ce\")>,\n",
       " <selenium.webdriver.remote.webelement.WebElement (session=\"c848d6abf4d7804036e31bcf1fdcf636\", element=\"75bf1049-c789-4e8e-b65e-73dc6a71fc03\")>,\n",
       " <selenium.webdriver.remote.webelement.WebElement (session=\"c848d6abf4d7804036e31bcf1fdcf636\", element=\"8832645c-cf16-4b20-94ee-154bacd21b65\")>,\n",
       " <selenium.webdriver.remote.webelement.WebElement (session=\"c848d6abf4d7804036e31bcf1fdcf636\", element=\"d06eaddb-7d2f-4a74-93bd-1d62f3ccb940\")>,\n",
       " <selenium.webdriver.remote.webelement.WebElement (session=\"c848d6abf4d7804036e31bcf1fdcf636\", element=\"fb99f15b-9090-40da-8a36-fd2fa493fd24\")>,\n",
       " <selenium.webdriver.remote.webelement.WebElement (session=\"c848d6abf4d7804036e31bcf1fdcf636\", element=\"016e5f9c-6151-4586-b696-31daa2e17af1\")>,\n",
       " <selenium.webdriver.remote.webelement.WebElement (session=\"c848d6abf4d7804036e31bcf1fdcf636\", element=\"cfcfb401-a7ee-45cb-befd-091502d69022\")>,\n",
       " <selenium.webdriver.remote.webelement.WebElement (session=\"c848d6abf4d7804036e31bcf1fdcf636\", element=\"47e4e3bd-01ec-48c4-9b04-0c68cec7b189\")>,\n",
       " <selenium.webdriver.remote.webelement.WebElement (session=\"c848d6abf4d7804036e31bcf1fdcf636\", element=\"87b586c0-06c3-4f39-9352-905b9ada3da4\")>,\n",
       " <selenium.webdriver.remote.webelement.WebElement (session=\"c848d6abf4d7804036e31bcf1fdcf636\", element=\"4681bdca-453c-4415-9b0a-b636e3df7d62\")>,\n",
       " <selenium.webdriver.remote.webelement.WebElement (session=\"c848d6abf4d7804036e31bcf1fdcf636\", element=\"3a25f034-1d38-4c28-be15-4c9ff040c7bc\")>,\n",
       " <selenium.webdriver.remote.webelement.WebElement (session=\"c848d6abf4d7804036e31bcf1fdcf636\", element=\"f3148adf-ead1-40bd-aaa5-dc24d63089bb\")>,\n",
       " <selenium.webdriver.remote.webelement.WebElement (session=\"c848d6abf4d7804036e31bcf1fdcf636\", element=\"200e8f61-1f05-48c2-b0e8-620faee80e45\")>,\n",
       " <selenium.webdriver.remote.webelement.WebElement (session=\"c848d6abf4d7804036e31bcf1fdcf636\", element=\"3d10cac1-36ea-4a21-9e2e-4df24343241a\")>,\n",
       " <selenium.webdriver.remote.webelement.WebElement (session=\"c848d6abf4d7804036e31bcf1fdcf636\", element=\"f759f6ed-e5c6-4a5f-bcd9-db7cf1640072\")>,\n",
       " <selenium.webdriver.remote.webelement.WebElement (session=\"c848d6abf4d7804036e31bcf1fdcf636\", element=\"8f047565-4077-4cf0-b017-0ef2187427ef\")>,\n",
       " <selenium.webdriver.remote.webelement.WebElement (session=\"c848d6abf4d7804036e31bcf1fdcf636\", element=\"903cd458-3870-41b0-9084-918756fc4fa8\")>,\n",
       " <selenium.webdriver.remote.webelement.WebElement (session=\"c848d6abf4d7804036e31bcf1fdcf636\", element=\"6887ebb5-5d26-4dca-9d30-c3e2f5b2a26d\")>,\n",
       " <selenium.webdriver.remote.webelement.WebElement (session=\"c848d6abf4d7804036e31bcf1fdcf636\", element=\"b3307fd8-0e70-41d9-917c-d904ab38673b\")>,\n",
       " <selenium.webdriver.remote.webelement.WebElement (session=\"c848d6abf4d7804036e31bcf1fdcf636\", element=\"5f77afe6-15f0-490e-ad65-7e8bff33ebb1\")>,\n",
       " <selenium.webdriver.remote.webelement.WebElement (session=\"c848d6abf4d7804036e31bcf1fdcf636\", element=\"86962f0b-031a-442c-b021-d32f76f2aa44\")>,\n",
       " <selenium.webdriver.remote.webelement.WebElement (session=\"c848d6abf4d7804036e31bcf1fdcf636\", element=\"63ceb697-55bb-49aa-b595-438e7760e5ba\")>,\n",
       " <selenium.webdriver.remote.webelement.WebElement (session=\"c848d6abf4d7804036e31bcf1fdcf636\", element=\"7411218a-9618-41d8-a1f6-e1b0ed82c0a9\")>,\n",
       " <selenium.webdriver.remote.webelement.WebElement (session=\"c848d6abf4d7804036e31bcf1fdcf636\", element=\"67a7482c-3c4b-42f3-a560-2dda6fee3a47\")>,\n",
       " <selenium.webdriver.remote.webelement.WebElement (session=\"c848d6abf4d7804036e31bcf1fdcf636\", element=\"5365c74f-83c5-4a55-9514-59d7664be6f6\")>,\n",
       " <selenium.webdriver.remote.webelement.WebElement (session=\"c848d6abf4d7804036e31bcf1fdcf636\", element=\"ee185e15-2246-4845-ac47-40d9ad9c0532\")>,\n",
       " <selenium.webdriver.remote.webelement.WebElement (session=\"c848d6abf4d7804036e31bcf1fdcf636\", element=\"26c3860a-2dbc-4392-951c-7a25bfefabbc\")>,\n",
       " <selenium.webdriver.remote.webelement.WebElement (session=\"c848d6abf4d7804036e31bcf1fdcf636\", element=\"804774fe-870f-4f30-aa65-3aa26863225b\")>,\n",
       " <selenium.webdriver.remote.webelement.WebElement (session=\"c848d6abf4d7804036e31bcf1fdcf636\", element=\"f25ef45b-1f96-4125-8cc0-b2cdee8a1789\")>,\n",
       " <selenium.webdriver.remote.webelement.WebElement (session=\"c848d6abf4d7804036e31bcf1fdcf636\", element=\"fe13bfba-ef43-4251-8f6a-06bbb1bda656\")>,\n",
       " <selenium.webdriver.remote.webelement.WebElement (session=\"c848d6abf4d7804036e31bcf1fdcf636\", element=\"5d718efb-5d9a-4df8-9459-588c05d1f66d\")>,\n",
       " <selenium.webdriver.remote.webelement.WebElement (session=\"c848d6abf4d7804036e31bcf1fdcf636\", element=\"e2596fe8-510a-4f51-a35d-e896892c54dc\")>,\n",
       " <selenium.webdriver.remote.webelement.WebElement (session=\"c848d6abf4d7804036e31bcf1fdcf636\", element=\"fd01d996-0574-40b8-a72f-0babc7b82d15\")>,\n",
       " <selenium.webdriver.remote.webelement.WebElement (session=\"c848d6abf4d7804036e31bcf1fdcf636\", element=\"cb58654f-26bf-41ae-b0ca-a9ae0c0a0a3f\")>,\n",
       " <selenium.webdriver.remote.webelement.WebElement (session=\"c848d6abf4d7804036e31bcf1fdcf636\", element=\"fae56e8b-f223-4247-ad4b-807ffd906eee\")>,\n",
       " <selenium.webdriver.remote.webelement.WebElement (session=\"c848d6abf4d7804036e31bcf1fdcf636\", element=\"b976bd57-feab-44fd-ad18-e9986ed155c5\")>,\n",
       " <selenium.webdriver.remote.webelement.WebElement (session=\"c848d6abf4d7804036e31bcf1fdcf636\", element=\"ca203ac2-d0d6-44ef-a59b-8d45673a4523\")>,\n",
       " <selenium.webdriver.remote.webelement.WebElement (session=\"c848d6abf4d7804036e31bcf1fdcf636\", element=\"f3d6fc29-5585-42cb-a0fb-166dd529c250\")>,\n",
       " <selenium.webdriver.remote.webelement.WebElement (session=\"c848d6abf4d7804036e31bcf1fdcf636\", element=\"4f5fc9c5-a735-440a-856e-ea5626d4f24f\")>,\n",
       " <selenium.webdriver.remote.webelement.WebElement (session=\"c848d6abf4d7804036e31bcf1fdcf636\", element=\"c516a7b9-2aee-4bc0-b247-c4fa74391083\")>,\n",
       " <selenium.webdriver.remote.webelement.WebElement (session=\"c848d6abf4d7804036e31bcf1fdcf636\", element=\"c8093167-8a56-4e7f-9407-1452e3cbe234\")>,\n",
       " <selenium.webdriver.remote.webelement.WebElement (session=\"c848d6abf4d7804036e31bcf1fdcf636\", element=\"0f407d1f-f12d-488c-9e4f-927d447598e2\")>,\n",
       " <selenium.webdriver.remote.webelement.WebElement (session=\"c848d6abf4d7804036e31bcf1fdcf636\", element=\"c0d1a1e2-72b5-4765-b42e-8bcc5bfcff8b\")>,\n",
       " <selenium.webdriver.remote.webelement.WebElement (session=\"c848d6abf4d7804036e31bcf1fdcf636\", element=\"7113def2-361b-4799-b6a5-873636edf66d\")>,\n",
       " <selenium.webdriver.remote.webelement.WebElement (session=\"c848d6abf4d7804036e31bcf1fdcf636\", element=\"7d59d44c-55f3-405b-b487-aa6ce1997676\")>,\n",
       " <selenium.webdriver.remote.webelement.WebElement (session=\"c848d6abf4d7804036e31bcf1fdcf636\", element=\"64188127-8b1e-447f-9d83-113634401c0d\")>]"
      ]
     },
     "execution_count": 13,
     "metadata": {},
     "output_type": "execute_result"
    }
   ],
   "source": [
    "line4=browser.find_elements(\"xpath\",\"//div[@class='td-wrap-in']\")\n",
    "line4"
   ]
  },
  {
   "cell_type": "code",
   "execution_count": 15,
   "id": "c1bfbbed",
   "metadata": {},
   "outputs": [
    {
     "data": {
      "text/plain": [
       "['89.2', '99.9', '98.9', '100', '72.6', '62.2', '26', '78.5', '100']"
      ]
     },
     "execution_count": 15,
     "metadata": {},
     "output_type": "execute_result"
    }
   ],
   "source": [
    "#PARSING DATA\n",
    "value=[]\n",
    "for data in line4:\n",
    "    #get the text data\n",
    "    temp=data.text\n",
    "    value.append(temp)\n",
    "value_h=value[61:70]\n",
    "value_h"
   ]
  },
  {
   "cell_type": "code",
   "execution_count": 16,
   "id": "a49e108e",
   "metadata": {},
   "outputs": [
    {
     "data": {
      "text/plain": [
       "{'Name': 'Princeton University',\n",
       " 'Location': 'Princeton, United States',\n",
       " 'Rank': '=16',\n",
       " 'Overall Score': '89.2',\n",
       " 'Academic Reputation': '99.9',\n",
       " 'Employer Reputation': '98.9',\n",
       " 'Citations per Faculty': '100',\n",
       " 'Faculty Student Ratio': '72.6',\n",
       " 'International Students Ratio': '62.2',\n",
       " 'International Faculty Ratio': '26',\n",
       " 'International Research Network\\nUnweighted': '78.5',\n",
       " 'Employment Outcomes\\nUnweighted': '100'}"
      ]
     },
     "execution_count": 16,
     "metadata": {},
     "output_type": "execute_result"
    }
   ],
   "source": [
    "\n",
    "d={}\n",
    "d['Name']=value[60]\n",
    "d['Location']=address[6]\n",
    "d['Rank']=Rank[6]\n",
    "for i in range(len(column)):\n",
    "    d[column[i]]=value_h[i]\n",
    "d"
   ]
  },
  {
   "cell_type": "code",
   "execution_count": 17,
   "id": "36f4c832",
   "metadata": {},
   "outputs": [
    {
     "data": {
      "text/plain": [
       "'{\"Name\": \"Princeton University\", \"Location\": \"Princeton, United States\", \"Rank\": \"=16\", \"Overall Score\": \"89.2\", \"Academic Reputation\": \"99.9\", \"Employer Reputation\": \"98.9\", \"Citations per Faculty\": \"100\", \"Faculty Student Ratio\": \"72.6\", \"International Students Ratio\": \"62.2\", \"International Faculty Ratio\": \"26\", \"International Research Network\\\\nUnweighted\": \"78.5\", \"Employment Outcomes\\\\nUnweighted\": \"100\"}'"
      ]
     },
     "execution_count": 17,
     "metadata": {},
     "output_type": "execute_result"
    }
   ],
   "source": [
    "s1=json.dumps(d)\n",
    "s1"
   ]
  },
  {
   "cell_type": "code",
   "execution_count": 18,
   "id": "431569e9",
   "metadata": {},
   "outputs": [],
   "source": [
    "with open('Princeton University.json','w') as f:\n",
    "    json.dump(d,f)"
   ]
  },
  {
   "cell_type": "code",
   "execution_count": null,
   "id": "c3d9abd8",
   "metadata": {},
   "outputs": [],
   "source": []
  }
 ],
 "metadata": {
  "kernelspec": {
   "display_name": "Python 3.9.12 ('base')",
   "language": "python",
   "name": "python3"
  },
  "language_info": {
   "codemirror_mode": {
    "name": "ipython",
    "version": 3
   },
   "file_extension": ".py",
   "mimetype": "text/x-python",
   "name": "python",
   "nbconvert_exporter": "python",
   "pygments_lexer": "ipython3",
   "version": "3.9.12"
  },
  "vscode": {
   "interpreter": {
    "hash": "ad2bdc8ecc057115af97d19610ffacc2b4e99fae6737bb82f5d7fb13d2f2c186"
   }
  }
 },
 "nbformat": 4,
 "nbformat_minor": 5
}
