{
 "cells": [
  {
   "cell_type": "code",
   "execution_count": 1,
   "id": "972cf993",
   "metadata": {},
   "outputs": [],
   "source": [
    "from selenium import webdriver\n",
    "from selenium.webdriver.chrome.service import Service\n",
    "import pandas as pd\n",
    "import json"
   ]
  },
  {
   "cell_type": "code",
   "execution_count": 2,
   "id": "9e0a781c",
   "metadata": {},
   "outputs": [],
   "source": [
    "path = Service('C:\\chromedriver.exe')"
   ]
  },
  {
   "cell_type": "code",
   "execution_count": 3,
   "id": "4baa6d6e",
   "metadata": {},
   "outputs": [],
   "source": [
    "# set path for the driver\n",
    "browser = webdriver.Chrome(service = path)"
   ]
  },
  {
   "cell_type": "code",
   "execution_count": 4,
   "id": "69bdda93",
   "metadata": {},
   "outputs": [],
   "source": [
    "url = \"https://www.topuniversities.com/university-rankings/world-university-rankings/2023\""
   ]
  },
  {
   "cell_type": "code",
   "execution_count": 5,
   "id": "f12b6991",
   "metadata": {},
   "outputs": [],
   "source": [
    "# open the page url ion chrome\n",
    "browser.get(url)\n"
   ]
  },
  {
   "cell_type": "code",
   "execution_count": 6,
   "id": "76d378ad",
   "metadata": {},
   "outputs": [
    {
     "data": {
      "text/plain": [
       "[<selenium.webdriver.remote.webelement.WebElement (session=\"88c68b6f9a0784e9b75004954e2f878e\", element=\"04e3ced8-e3ac-40c6-8905-33dfffec2100\")>,\n",
       " <selenium.webdriver.remote.webelement.WebElement (session=\"88c68b6f9a0784e9b75004954e2f878e\", element=\"a574bde5-28e0-4575-8a52-5204ac2e5570\")>,\n",
       " <selenium.webdriver.remote.webelement.WebElement (session=\"88c68b6f9a0784e9b75004954e2f878e\", element=\"503e2d0d-04ec-4e48-af94-eef2e2a1fdef\")>,\n",
       " <selenium.webdriver.remote.webelement.WebElement (session=\"88c68b6f9a0784e9b75004954e2f878e\", element=\"bd274906-e2b0-40ba-abf8-22ff1ba3a5f6\")>,\n",
       " <selenium.webdriver.remote.webelement.WebElement (session=\"88c68b6f9a0784e9b75004954e2f878e\", element=\"ccbabec7-8ca2-4338-97f5-f75f7f0801a0\")>,\n",
       " <selenium.webdriver.remote.webelement.WebElement (session=\"88c68b6f9a0784e9b75004954e2f878e\", element=\"5316cfd4-01c9-4b0a-99df-25f7d23b22f1\")>,\n",
       " <selenium.webdriver.remote.webelement.WebElement (session=\"88c68b6f9a0784e9b75004954e2f878e\", element=\"1ba254f6-7fea-4e23-9418-1a03f991a0a0\")>,\n",
       " <selenium.webdriver.remote.webelement.WebElement (session=\"88c68b6f9a0784e9b75004954e2f878e\", element=\"e4ad62d7-1278-46c1-9137-0fc6203b4021\")>,\n",
       " <selenium.webdriver.remote.webelement.WebElement (session=\"88c68b6f9a0784e9b75004954e2f878e\", element=\"07116e2d-90d0-4340-9702-281ef91f8c4c\")>,\n",
       " <selenium.webdriver.remote.webelement.WebElement (session=\"88c68b6f9a0784e9b75004954e2f878e\", element=\"ffd59f91-39b6-4492-9901-b7f59e6e8c5b\")>,\n",
       " <selenium.webdriver.remote.webelement.WebElement (session=\"88c68b6f9a0784e9b75004954e2f878e\", element=\"37adedcb-4b8d-4495-9218-800558cca4ee\")>,\n",
       " <selenium.webdriver.remote.webelement.WebElement (session=\"88c68b6f9a0784e9b75004954e2f878e\", element=\"b9519596-8107-49de-b371-e9a17f214681\")>,\n",
       " <selenium.webdriver.remote.webelement.WebElement (session=\"88c68b6f9a0784e9b75004954e2f878e\", element=\"55150105-f87e-4802-b8e3-c60ad5e49544\")>,\n",
       " <selenium.webdriver.remote.webelement.WebElement (session=\"88c68b6f9a0784e9b75004954e2f878e\", element=\"f12919cd-a7b8-4015-9f92-531f5a75cbf2\")>,\n",
       " <selenium.webdriver.remote.webelement.WebElement (session=\"88c68b6f9a0784e9b75004954e2f878e\", element=\"bec42a14-6192-44a1-8055-762389d8ffa4\")>,\n",
       " <selenium.webdriver.remote.webelement.WebElement (session=\"88c68b6f9a0784e9b75004954e2f878e\", element=\"23e4d54b-58cc-4007-a308-42c77470eda8\")>,\n",
       " <selenium.webdriver.remote.webelement.WebElement (session=\"88c68b6f9a0784e9b75004954e2f878e\", element=\"064b2555-02a3-4d08-9f94-3f23f0d125b6\")>,\n",
       " <selenium.webdriver.remote.webelement.WebElement (session=\"88c68b6f9a0784e9b75004954e2f878e\", element=\"ad0ed72f-0d2e-4710-a2dc-f670da9ace00\")>,\n",
       " <selenium.webdriver.remote.webelement.WebElement (session=\"88c68b6f9a0784e9b75004954e2f878e\", element=\"060d03e4-0920-4add-9fef-4e8b97432392\")>,\n",
       " <selenium.webdriver.remote.webelement.WebElement (session=\"88c68b6f9a0784e9b75004954e2f878e\", element=\"c49cfa59-071b-46f8-8d8c-3fa812070342\")>]"
      ]
     },
     "execution_count": 6,
     "metadata": {},
     "output_type": "execute_result"
    }
   ],
   "source": [
    "line1=browser.find_elements(\"xpath\",\"//div[@class='location ']\")\n",
    "line1"
   ]
  },
  {
   "cell_type": "code",
   "execution_count": 7,
   "id": "aca8960a",
   "metadata": {},
   "outputs": [
    {
     "data": {
      "text/plain": [
       "['Montreal, Canada',\n",
       " 'Evanston, United States',\n",
       " 'Parkville, Australia',\n",
       " 'Shanghai, China (Mainland)',\n",
       " 'Toronto, Canada',\n",
       " 'Kyoto, Japan',\n",
       " 'London, United Kingdom',\n",
       " 'Hong Kong SAR, Hong Kong SAR',\n",
       " 'New York City, United States',\n",
       " 'Hong Kong SAR, Hong Kong SAR']"
      ]
     },
     "execution_count": 7,
     "metadata": {},
     "output_type": "execute_result"
    }
   ],
   "source": [
    "address=[]\n",
    "for data in line1:\n",
    "    #get the text data\n",
    "    temp=data.text\n",
    "    address.append(temp)\n",
    "address=address[10:]\n",
    "address"
   ]
  },
  {
   "cell_type": "code",
   "execution_count": 8,
   "id": "3154bc3e",
   "metadata": {},
   "outputs": [
    {
     "data": {
      "text/plain": [
       "[<selenium.webdriver.remote.webelement.WebElement (session=\"88c68b6f9a0784e9b75004954e2f878e\", element=\"b782d50d-8396-4876-85fd-87b19a197d72\")>,\n",
       " <selenium.webdriver.remote.webelement.WebElement (session=\"88c68b6f9a0784e9b75004954e2f878e\", element=\"dc4a9671-da3c-4edf-b5be-f3fd3ac0216f\")>,\n",
       " <selenium.webdriver.remote.webelement.WebElement (session=\"88c68b6f9a0784e9b75004954e2f878e\", element=\"5b4658d3-ea3a-41f5-a63b-dd8895b54bec\")>,\n",
       " <selenium.webdriver.remote.webelement.WebElement (session=\"88c68b6f9a0784e9b75004954e2f878e\", element=\"c0b67cbd-762c-4be1-b3a1-5b3b07d63f36\")>,\n",
       " <selenium.webdriver.remote.webelement.WebElement (session=\"88c68b6f9a0784e9b75004954e2f878e\", element=\"9b10a5de-6e09-4975-96d9-b7e3ff19cfa9\")>,\n",
       " <selenium.webdriver.remote.webelement.WebElement (session=\"88c68b6f9a0784e9b75004954e2f878e\", element=\"f8181459-68ec-46ee-ac6f-bb4c0cab6cf6\")>,\n",
       " <selenium.webdriver.remote.webelement.WebElement (session=\"88c68b6f9a0784e9b75004954e2f878e\", element=\"7b1d0422-1e18-443f-ac57-d446e98fa14f\")>,\n",
       " <selenium.webdriver.remote.webelement.WebElement (session=\"88c68b6f9a0784e9b75004954e2f878e\", element=\"4636b324-d2cc-4fb4-a1ca-a117474d4df9\")>,\n",
       " <selenium.webdriver.remote.webelement.WebElement (session=\"88c68b6f9a0784e9b75004954e2f878e\", element=\"ab78979e-211f-438c-a28a-44b4ffbb6b12\")>,\n",
       " <selenium.webdriver.remote.webelement.WebElement (session=\"88c68b6f9a0784e9b75004954e2f878e\", element=\"407e2fe0-3c4c-4653-bdc4-00f7945a7e9d\")>]"
      ]
     },
     "execution_count": 8,
     "metadata": {},
     "output_type": "execute_result"
    }
   ],
   "source": [
    "\n",
    "line2=browser.find_elements(\"xpath\",\"//div[@class='_univ-rank ']\")\n",
    "line2"
   ]
  },
  {
   "cell_type": "code",
   "execution_count": 9,
   "id": "e5279f14",
   "metadata": {},
   "outputs": [
    {
     "data": {
      "text/plain": [
       "['31', '32', '33', '=34', '=34', '36', '37', '38', '39', '40']"
      ]
     },
     "execution_count": 9,
     "metadata": {},
     "output_type": "execute_result"
    }
   ],
   "source": [
    "Rank=[]\n",
    "for data in line2:\n",
    "    #get the text data\n",
    "    temp=data.text\n",
    "    Rank.append(temp)\n",
    "Rank"
   ]
  },
  {
   "cell_type": "code",
   "execution_count": 10,
   "id": "7f0d8cd8",
   "metadata": {},
   "outputs": [
    {
     "data": {
      "text/plain": [
       "[<selenium.webdriver.remote.webelement.WebElement (session=\"88c68b6f9a0784e9b75004954e2f878e\", element=\"546e4dc4-9a5c-4e77-b446-1c3b518975d4\")>,\n",
       " <selenium.webdriver.remote.webelement.WebElement (session=\"88c68b6f9a0784e9b75004954e2f878e\", element=\"1786e31f-d743-410b-9e02-5c99df382ea9\")>,\n",
       " <selenium.webdriver.remote.webelement.WebElement (session=\"88c68b6f9a0784e9b75004954e2f878e\", element=\"5dfd5756-cd6a-4293-bfbe-6120ef0197d0\")>,\n",
       " <selenium.webdriver.remote.webelement.WebElement (session=\"88c68b6f9a0784e9b75004954e2f878e\", element=\"2ee924b9-b32a-4e64-ac63-1be784e91229\")>,\n",
       " <selenium.webdriver.remote.webelement.WebElement (session=\"88c68b6f9a0784e9b75004954e2f878e\", element=\"16dd6ef1-7f5e-4eda-ab0e-f2709c209cdb\")>,\n",
       " <selenium.webdriver.remote.webelement.WebElement (session=\"88c68b6f9a0784e9b75004954e2f878e\", element=\"96bd19bf-6c9c-4dc1-8bc2-470b04547c7b\")>,\n",
       " <selenium.webdriver.remote.webelement.WebElement (session=\"88c68b6f9a0784e9b75004954e2f878e\", element=\"624714f8-72e3-4eab-adc8-d1a9c0f2fb8f\")>,\n",
       " <selenium.webdriver.remote.webelement.WebElement (session=\"88c68b6f9a0784e9b75004954e2f878e\", element=\"9436de6b-5dd6-428a-a719-2046e312135a\")>,\n",
       " <selenium.webdriver.remote.webelement.WebElement (session=\"88c68b6f9a0784e9b75004954e2f878e\", element=\"0f583f10-9e15-455e-871f-10e6e1c432e3\")>]"
      ]
     },
     "execution_count": 10,
     "metadata": {},
     "output_type": "execute_result"
    }
   ],
   "source": [
    "# GET EACH COLLEGE SPECIFICATION HEADERS\n",
    "line3=browser.find_elements(\"xpath\",\"//div[@class='_click-function_ind']\")\n",
    "line3"
   ]
  },
  {
   "cell_type": "code",
   "execution_count": 11,
   "id": "bbbb1f50",
   "metadata": {},
   "outputs": [
    {
     "data": {
      "text/plain": [
       "['Overall Score',\n",
       " 'Academic Reputation',\n",
       " 'Employer Reputation',\n",
       " 'Citations per Faculty',\n",
       " 'Faculty Student Ratio',\n",
       " 'International Students Ratio',\n",
       " 'International Faculty Ratio',\n",
       " 'International Research Network\\nUnweighted',\n",
       " 'Employment Outcomes\\nUnweighted']"
      ]
     },
     "execution_count": 11,
     "metadata": {},
     "output_type": "execute_result"
    }
   ],
   "source": [
    "#PARSING DATA\n",
    "column=[]\n",
    "for data in line3:\n",
    "    #get the text data\n",
    "    temp=data.text\n",
    "    column.append(temp)\n",
    "column"
   ]
  },
  {
   "cell_type": "code",
   "execution_count": 12,
   "id": "798c43e8",
   "metadata": {},
   "outputs": [
    {
     "data": {
      "text/plain": [
       "[<selenium.webdriver.remote.webelement.WebElement (session=\"88c68b6f9a0784e9b75004954e2f878e\", element=\"e67d5185-fa29-4a73-b674-265a113ad509\")>,\n",
       " <selenium.webdriver.remote.webelement.WebElement (session=\"88c68b6f9a0784e9b75004954e2f878e\", element=\"1d5481f5-71b5-4fdd-9ccb-16d8fa0874cb\")>,\n",
       " <selenium.webdriver.remote.webelement.WebElement (session=\"88c68b6f9a0784e9b75004954e2f878e\", element=\"d8a7cc22-47eb-4d7b-92b7-aa741ebb6051\")>,\n",
       " <selenium.webdriver.remote.webelement.WebElement (session=\"88c68b6f9a0784e9b75004954e2f878e\", element=\"80801735-47eb-44c0-9113-7ffec82c1bca\")>,\n",
       " <selenium.webdriver.remote.webelement.WebElement (session=\"88c68b6f9a0784e9b75004954e2f878e\", element=\"cc53cc6d-b6a2-4dd4-870c-657552893712\")>,\n",
       " <selenium.webdriver.remote.webelement.WebElement (session=\"88c68b6f9a0784e9b75004954e2f878e\", element=\"f0d4f4e0-90bc-49e2-a6cd-3b2e18875375\")>,\n",
       " <selenium.webdriver.remote.webelement.WebElement (session=\"88c68b6f9a0784e9b75004954e2f878e\", element=\"6f4c0d43-fb19-48ed-971f-e8d444091f0f\")>,\n",
       " <selenium.webdriver.remote.webelement.WebElement (session=\"88c68b6f9a0784e9b75004954e2f878e\", element=\"147148aa-3661-407b-8d7c-3a88cb6c869f\")>,\n",
       " <selenium.webdriver.remote.webelement.WebElement (session=\"88c68b6f9a0784e9b75004954e2f878e\", element=\"7ff58313-7932-4e7a-a5aa-30d18e3f5ed2\")>,\n",
       " <selenium.webdriver.remote.webelement.WebElement (session=\"88c68b6f9a0784e9b75004954e2f878e\", element=\"d208fda5-4805-4af2-acc5-c0ab9382be86\")>,\n",
       " <selenium.webdriver.remote.webelement.WebElement (session=\"88c68b6f9a0784e9b75004954e2f878e\", element=\"4b41e73c-ad9c-485c-91d9-f70a1c148d31\")>,\n",
       " <selenium.webdriver.remote.webelement.WebElement (session=\"88c68b6f9a0784e9b75004954e2f878e\", element=\"f0cbcc37-9021-4722-814e-df7b7330d216\")>,\n",
       " <selenium.webdriver.remote.webelement.WebElement (session=\"88c68b6f9a0784e9b75004954e2f878e\", element=\"31576ed0-89b6-4801-af89-b1b02adb6aea\")>,\n",
       " <selenium.webdriver.remote.webelement.WebElement (session=\"88c68b6f9a0784e9b75004954e2f878e\", element=\"4bf84dd4-88b7-4ea0-bc94-bd2c99573d80\")>,\n",
       " <selenium.webdriver.remote.webelement.WebElement (session=\"88c68b6f9a0784e9b75004954e2f878e\", element=\"3b1e13c9-f819-4d64-9d98-f323c192939d\")>,\n",
       " <selenium.webdriver.remote.webelement.WebElement (session=\"88c68b6f9a0784e9b75004954e2f878e\", element=\"a5f87945-8140-4a75-b5f4-40b7d7244871\")>,\n",
       " <selenium.webdriver.remote.webelement.WebElement (session=\"88c68b6f9a0784e9b75004954e2f878e\", element=\"7fcd855d-e1ca-4dcd-ac8c-41beda04258f\")>,\n",
       " <selenium.webdriver.remote.webelement.WebElement (session=\"88c68b6f9a0784e9b75004954e2f878e\", element=\"bf3b6c88-508e-428e-8e14-e4fc248f6bbd\")>,\n",
       " <selenium.webdriver.remote.webelement.WebElement (session=\"88c68b6f9a0784e9b75004954e2f878e\", element=\"427ced32-1840-45e4-8b2f-14f29daeff73\")>,\n",
       " <selenium.webdriver.remote.webelement.WebElement (session=\"88c68b6f9a0784e9b75004954e2f878e\", element=\"2fe02fd5-5893-477e-b6c3-43604f5bd44c\")>,\n",
       " <selenium.webdriver.remote.webelement.WebElement (session=\"88c68b6f9a0784e9b75004954e2f878e\", element=\"ac4bdfbb-8cc3-475a-99aa-8600a4896ad0\")>,\n",
       " <selenium.webdriver.remote.webelement.WebElement (session=\"88c68b6f9a0784e9b75004954e2f878e\", element=\"2c30a27c-a709-48ad-9a7c-4f9e7989f191\")>,\n",
       " <selenium.webdriver.remote.webelement.WebElement (session=\"88c68b6f9a0784e9b75004954e2f878e\", element=\"e33fef7c-adde-4726-b255-ccd5795931bf\")>,\n",
       " <selenium.webdriver.remote.webelement.WebElement (session=\"88c68b6f9a0784e9b75004954e2f878e\", element=\"8119e31a-cfcc-4001-8a6d-a2869e2a6f45\")>,\n",
       " <selenium.webdriver.remote.webelement.WebElement (session=\"88c68b6f9a0784e9b75004954e2f878e\", element=\"0d0c8f55-8129-4012-9047-58addf69a2c3\")>,\n",
       " <selenium.webdriver.remote.webelement.WebElement (session=\"88c68b6f9a0784e9b75004954e2f878e\", element=\"78aa6f0d-eb88-40e7-aee5-b8b84830306f\")>,\n",
       " <selenium.webdriver.remote.webelement.WebElement (session=\"88c68b6f9a0784e9b75004954e2f878e\", element=\"c87f486e-c382-487a-a262-797db910ee20\")>,\n",
       " <selenium.webdriver.remote.webelement.WebElement (session=\"88c68b6f9a0784e9b75004954e2f878e\", element=\"79ea1f7f-989f-401b-ab74-6e40c5fa878c\")>,\n",
       " <selenium.webdriver.remote.webelement.WebElement (session=\"88c68b6f9a0784e9b75004954e2f878e\", element=\"c91bf95d-6b6f-4065-aadd-b0fb85002b2b\")>,\n",
       " <selenium.webdriver.remote.webelement.WebElement (session=\"88c68b6f9a0784e9b75004954e2f878e\", element=\"07aebe3b-4d26-4df6-8b82-b3e34fe32746\")>,\n",
       " <selenium.webdriver.remote.webelement.WebElement (session=\"88c68b6f9a0784e9b75004954e2f878e\", element=\"7b32e273-a7ed-4b96-9e0c-1302958880d9\")>,\n",
       " <selenium.webdriver.remote.webelement.WebElement (session=\"88c68b6f9a0784e9b75004954e2f878e\", element=\"9bc615f1-a90c-41a9-bb80-ba55d66f2fa1\")>,\n",
       " <selenium.webdriver.remote.webelement.WebElement (session=\"88c68b6f9a0784e9b75004954e2f878e\", element=\"161b1ff8-a4c9-4e01-b037-69c3a3f32d1b\")>,\n",
       " <selenium.webdriver.remote.webelement.WebElement (session=\"88c68b6f9a0784e9b75004954e2f878e\", element=\"52952cb2-12bc-4754-8e9b-c757d45f79b8\")>,\n",
       " <selenium.webdriver.remote.webelement.WebElement (session=\"88c68b6f9a0784e9b75004954e2f878e\", element=\"5653f2a9-4294-49f8-afbf-a85d75b3187e\")>,\n",
       " <selenium.webdriver.remote.webelement.WebElement (session=\"88c68b6f9a0784e9b75004954e2f878e\", element=\"1baee74e-7965-4723-baa1-a836ccedd627\")>,\n",
       " <selenium.webdriver.remote.webelement.WebElement (session=\"88c68b6f9a0784e9b75004954e2f878e\", element=\"638fe9aa-8312-499e-9e7e-16003cc7d2d9\")>,\n",
       " <selenium.webdriver.remote.webelement.WebElement (session=\"88c68b6f9a0784e9b75004954e2f878e\", element=\"f541f3b2-6a1c-45f1-bc7b-ffb731771e2c\")>,\n",
       " <selenium.webdriver.remote.webelement.WebElement (session=\"88c68b6f9a0784e9b75004954e2f878e\", element=\"2e486aa5-b06b-4264-83ff-c40376fb15a4\")>,\n",
       " <selenium.webdriver.remote.webelement.WebElement (session=\"88c68b6f9a0784e9b75004954e2f878e\", element=\"978b398c-fbb1-41bb-ade4-77465e4e053e\")>,\n",
       " <selenium.webdriver.remote.webelement.WebElement (session=\"88c68b6f9a0784e9b75004954e2f878e\", element=\"8e0f0220-500f-4e9e-8d8e-84c45f551f7e\")>,\n",
       " <selenium.webdriver.remote.webelement.WebElement (session=\"88c68b6f9a0784e9b75004954e2f878e\", element=\"6695e5c2-4d0b-49c0-9ea2-cdc4e4b8b522\")>,\n",
       " <selenium.webdriver.remote.webelement.WebElement (session=\"88c68b6f9a0784e9b75004954e2f878e\", element=\"5c410269-1f95-4599-9a06-c028401bf820\")>,\n",
       " <selenium.webdriver.remote.webelement.WebElement (session=\"88c68b6f9a0784e9b75004954e2f878e\", element=\"ed439f2a-07e0-44c7-ae56-d8f8238e3420\")>,\n",
       " <selenium.webdriver.remote.webelement.WebElement (session=\"88c68b6f9a0784e9b75004954e2f878e\", element=\"2276b7b0-0cde-40ac-bbae-1572a93597f5\")>,\n",
       " <selenium.webdriver.remote.webelement.WebElement (session=\"88c68b6f9a0784e9b75004954e2f878e\", element=\"c18a32b7-4607-41e2-8f0e-5c92e7914166\")>,\n",
       " <selenium.webdriver.remote.webelement.WebElement (session=\"88c68b6f9a0784e9b75004954e2f878e\", element=\"1b9be18d-ff55-4c7d-953a-cd07206c7989\")>,\n",
       " <selenium.webdriver.remote.webelement.WebElement (session=\"88c68b6f9a0784e9b75004954e2f878e\", element=\"6afa4fa7-cbbf-4171-8c02-c484020d666a\")>,\n",
       " <selenium.webdriver.remote.webelement.WebElement (session=\"88c68b6f9a0784e9b75004954e2f878e\", element=\"19a583ee-c0f0-4d00-a92d-aa50aec24675\")>,\n",
       " <selenium.webdriver.remote.webelement.WebElement (session=\"88c68b6f9a0784e9b75004954e2f878e\", element=\"d163ecbf-79d2-44e1-8544-917c6cfc9c83\")>,\n",
       " <selenium.webdriver.remote.webelement.WebElement (session=\"88c68b6f9a0784e9b75004954e2f878e\", element=\"bff02b2f-fb8c-4b44-84c6-bcf7c4d422cc\")>,\n",
       " <selenium.webdriver.remote.webelement.WebElement (session=\"88c68b6f9a0784e9b75004954e2f878e\", element=\"0d6adc9f-c27f-4d4b-b753-4562df64bfa5\")>,\n",
       " <selenium.webdriver.remote.webelement.WebElement (session=\"88c68b6f9a0784e9b75004954e2f878e\", element=\"2701affd-5ff2-41fe-b4d7-2987517549f0\")>,\n",
       " <selenium.webdriver.remote.webelement.WebElement (session=\"88c68b6f9a0784e9b75004954e2f878e\", element=\"d8d24a13-64e5-4de7-9688-df4247a147a1\")>,\n",
       " <selenium.webdriver.remote.webelement.WebElement (session=\"88c68b6f9a0784e9b75004954e2f878e\", element=\"481fc53e-f099-4ddd-b3d5-3f81f26fc3df\")>,\n",
       " <selenium.webdriver.remote.webelement.WebElement (session=\"88c68b6f9a0784e9b75004954e2f878e\", element=\"894dda81-bd7d-4e98-a378-875382eccf28\")>,\n",
       " <selenium.webdriver.remote.webelement.WebElement (session=\"88c68b6f9a0784e9b75004954e2f878e\", element=\"f82e737b-ca65-4af6-be8c-3e589cf41638\")>,\n",
       " <selenium.webdriver.remote.webelement.WebElement (session=\"88c68b6f9a0784e9b75004954e2f878e\", element=\"970bf677-47fb-4c54-88b1-4a7e948c5028\")>,\n",
       " <selenium.webdriver.remote.webelement.WebElement (session=\"88c68b6f9a0784e9b75004954e2f878e\", element=\"a6f2c478-ae55-439c-bc73-7e355cc5fa17\")>,\n",
       " <selenium.webdriver.remote.webelement.WebElement (session=\"88c68b6f9a0784e9b75004954e2f878e\", element=\"9806291e-8e6a-44fe-8c8f-0bee4b2d8fbb\")>,\n",
       " <selenium.webdriver.remote.webelement.WebElement (session=\"88c68b6f9a0784e9b75004954e2f878e\", element=\"58f6160f-0ee4-4c67-97e4-3d17d040564b\")>,\n",
       " <selenium.webdriver.remote.webelement.WebElement (session=\"88c68b6f9a0784e9b75004954e2f878e\", element=\"0a739ec1-4fe2-42cd-8ab4-3a053bd62697\")>,\n",
       " <selenium.webdriver.remote.webelement.WebElement (session=\"88c68b6f9a0784e9b75004954e2f878e\", element=\"11ae8053-b7d2-407c-a2c7-950f09456db9\")>,\n",
       " <selenium.webdriver.remote.webelement.WebElement (session=\"88c68b6f9a0784e9b75004954e2f878e\", element=\"c91b8d47-064f-4362-9708-d2a1e031e3c8\")>,\n",
       " <selenium.webdriver.remote.webelement.WebElement (session=\"88c68b6f9a0784e9b75004954e2f878e\", element=\"e55aedc3-6b94-4e69-9030-178fabe3457a\")>,\n",
       " <selenium.webdriver.remote.webelement.WebElement (session=\"88c68b6f9a0784e9b75004954e2f878e\", element=\"ca49f106-f951-49f4-8072-4b552a9eac59\")>,\n",
       " <selenium.webdriver.remote.webelement.WebElement (session=\"88c68b6f9a0784e9b75004954e2f878e\", element=\"723fe133-bbd5-4b45-8cda-8b9af2acb2d4\")>,\n",
       " <selenium.webdriver.remote.webelement.WebElement (session=\"88c68b6f9a0784e9b75004954e2f878e\", element=\"2df53b3b-7bb3-4657-9c2b-6a0cb2ef9a48\")>,\n",
       " <selenium.webdriver.remote.webelement.WebElement (session=\"88c68b6f9a0784e9b75004954e2f878e\", element=\"653b695d-279c-40b8-bac3-148aa18397e0\")>,\n",
       " <selenium.webdriver.remote.webelement.WebElement (session=\"88c68b6f9a0784e9b75004954e2f878e\", element=\"b44debb4-4604-4643-89fe-ad84f22e71ba\")>,\n",
       " <selenium.webdriver.remote.webelement.WebElement (session=\"88c68b6f9a0784e9b75004954e2f878e\", element=\"160256ad-8aa6-4fe7-ab01-23d256368e96\")>,\n",
       " <selenium.webdriver.remote.webelement.WebElement (session=\"88c68b6f9a0784e9b75004954e2f878e\", element=\"55538d6e-b5a4-4ca1-a02e-8b093b89da3e\")>,\n",
       " <selenium.webdriver.remote.webelement.WebElement (session=\"88c68b6f9a0784e9b75004954e2f878e\", element=\"bd00dff4-3f78-4b3c-b48d-8913746164ff\")>,\n",
       " <selenium.webdriver.remote.webelement.WebElement (session=\"88c68b6f9a0784e9b75004954e2f878e\", element=\"f3431a80-015a-4306-a031-89cc5be4daeb\")>,\n",
       " <selenium.webdriver.remote.webelement.WebElement (session=\"88c68b6f9a0784e9b75004954e2f878e\", element=\"52addb86-1746-4062-bfe0-f038bef7c9aa\")>,\n",
       " <selenium.webdriver.remote.webelement.WebElement (session=\"88c68b6f9a0784e9b75004954e2f878e\", element=\"0579f811-1a36-47a8-af04-fad3f826c3e1\")>,\n",
       " <selenium.webdriver.remote.webelement.WebElement (session=\"88c68b6f9a0784e9b75004954e2f878e\", element=\"57d9ea5f-268b-4893-b86a-b0f84798dfc0\")>,\n",
       " <selenium.webdriver.remote.webelement.WebElement (session=\"88c68b6f9a0784e9b75004954e2f878e\", element=\"16371728-73f6-4c88-bf37-0d321baf3ec5\")>,\n",
       " <selenium.webdriver.remote.webelement.WebElement (session=\"88c68b6f9a0784e9b75004954e2f878e\", element=\"a2252834-2168-4c02-b563-23b80b727eaf\")>,\n",
       " <selenium.webdriver.remote.webelement.WebElement (session=\"88c68b6f9a0784e9b75004954e2f878e\", element=\"7f62f2db-2b11-4bb0-af99-0a3faa0b98a8\")>,\n",
       " <selenium.webdriver.remote.webelement.WebElement (session=\"88c68b6f9a0784e9b75004954e2f878e\", element=\"a642f947-4b78-4926-8afa-cb2898e74134\")>,\n",
       " <selenium.webdriver.remote.webelement.WebElement (session=\"88c68b6f9a0784e9b75004954e2f878e\", element=\"6d8c603c-bbc3-4626-8514-93345f0d9ff1\")>,\n",
       " <selenium.webdriver.remote.webelement.WebElement (session=\"88c68b6f9a0784e9b75004954e2f878e\", element=\"1ab33fea-49e3-4bf6-838f-122cade85b3a\")>,\n",
       " <selenium.webdriver.remote.webelement.WebElement (session=\"88c68b6f9a0784e9b75004954e2f878e\", element=\"6fb60b3c-0bd0-4ff5-9919-d6246ea9fc8d\")>,\n",
       " <selenium.webdriver.remote.webelement.WebElement (session=\"88c68b6f9a0784e9b75004954e2f878e\", element=\"1081e73a-1088-4eb6-a4b5-de1f5237dd84\")>,\n",
       " <selenium.webdriver.remote.webelement.WebElement (session=\"88c68b6f9a0784e9b75004954e2f878e\", element=\"68beb059-5ae7-4d9f-acd2-c87696302a60\")>,\n",
       " <selenium.webdriver.remote.webelement.WebElement (session=\"88c68b6f9a0784e9b75004954e2f878e\", element=\"c0b2797f-8b7b-4825-be0c-5c93c53f12c9\")>,\n",
       " <selenium.webdriver.remote.webelement.WebElement (session=\"88c68b6f9a0784e9b75004954e2f878e\", element=\"25ff1e35-a9a1-4f3a-9150-449db2e2f7f3\")>,\n",
       " <selenium.webdriver.remote.webelement.WebElement (session=\"88c68b6f9a0784e9b75004954e2f878e\", element=\"924d3d69-6d39-4f32-8883-7f3a8fbcee48\")>,\n",
       " <selenium.webdriver.remote.webelement.WebElement (session=\"88c68b6f9a0784e9b75004954e2f878e\", element=\"a80d4832-0179-4508-9ff4-83a64edd658d\")>,\n",
       " <selenium.webdriver.remote.webelement.WebElement (session=\"88c68b6f9a0784e9b75004954e2f878e\", element=\"d059e829-e80f-495c-94f8-2d61fd92bdaa\")>,\n",
       " <selenium.webdriver.remote.webelement.WebElement (session=\"88c68b6f9a0784e9b75004954e2f878e\", element=\"24b57ff1-fb0e-4036-81b3-168f55cc4d3b\")>,\n",
       " <selenium.webdriver.remote.webelement.WebElement (session=\"88c68b6f9a0784e9b75004954e2f878e\", element=\"0eae73cc-c92a-45d7-9eb3-da5c9c8c9ee3\")>,\n",
       " <selenium.webdriver.remote.webelement.WebElement (session=\"88c68b6f9a0784e9b75004954e2f878e\", element=\"494d5099-8662-42fa-93f9-613739f7cc25\")>,\n",
       " <selenium.webdriver.remote.webelement.WebElement (session=\"88c68b6f9a0784e9b75004954e2f878e\", element=\"f0e53c2f-2781-40db-bfec-14f2e9bc6fdd\")>,\n",
       " <selenium.webdriver.remote.webelement.WebElement (session=\"88c68b6f9a0784e9b75004954e2f878e\", element=\"23a8d776-b8f9-4950-89fe-d0ed2627445d\")>,\n",
       " <selenium.webdriver.remote.webelement.WebElement (session=\"88c68b6f9a0784e9b75004954e2f878e\", element=\"44294dee-4fd1-4f85-b5e0-ec7bd937a8da\")>,\n",
       " <selenium.webdriver.remote.webelement.WebElement (session=\"88c68b6f9a0784e9b75004954e2f878e\", element=\"efa1e2c0-a4aa-4119-9434-ca94cf02c4e1\")>,\n",
       " <selenium.webdriver.remote.webelement.WebElement (session=\"88c68b6f9a0784e9b75004954e2f878e\", element=\"18603f43-f021-4641-b8b3-12836f1d9552\")>,\n",
       " <selenium.webdriver.remote.webelement.WebElement (session=\"88c68b6f9a0784e9b75004954e2f878e\", element=\"7f0121f1-59ed-4f2a-b66c-b605f6a55a07\")>]"
      ]
     },
     "execution_count": 12,
     "metadata": {},
     "output_type": "execute_result"
    }
   ],
   "source": [
    "line4=browser.find_elements(\"xpath\",\"//div[@class='td-wrap-in']\")\n",
    "line4"
   ]
  },
  {
   "cell_type": "code",
   "execution_count": 13,
   "id": "af5bdb01",
   "metadata": {},
   "outputs": [
    {
     "data": {
      "text/plain": [
       "['81.2', '88.8', '83.2', '60.5', '74.5', '100', '98.6', '99.3', '56.9']"
      ]
     },
     "execution_count": 13,
     "metadata": {},
     "output_type": "execute_result"
    }
   ],
   "source": [
    "#PARSING DATA\n",
    "value=[]\n",
    "for data in line4:\n",
    "    #get the text data\n",
    "    temp=data.text\n",
    "    value.append(temp)\n",
    "value_h=value[61:70]\n",
    "value_h"
   ]
  },
  {
   "cell_type": "code",
   "execution_count": 14,
   "id": "51a7e766",
   "metadata": {},
   "outputs": [
    {
     "data": {
      "text/plain": [
       "{'Name': \"King's College London\",\n",
       " 'Location': 'London, United Kingdom',\n",
       " 'Rank': '37',\n",
       " 'Overall Score': '81.2',\n",
       " 'Academic Reputation': '88.8',\n",
       " 'Employer Reputation': '83.2',\n",
       " 'Citations per Faculty': '60.5',\n",
       " 'Faculty Student Ratio': '74.5',\n",
       " 'International Students Ratio': '100',\n",
       " 'International Faculty Ratio': '98.6',\n",
       " 'International Research Network\\nUnweighted': '99.3',\n",
       " 'Employment Outcomes\\nUnweighted': '56.9'}"
      ]
     },
     "execution_count": 14,
     "metadata": {},
     "output_type": "execute_result"
    }
   ],
   "source": [
    "d={}\n",
    "d['Name']=value[60]\n",
    "d['Location']=address[6]\n",
    "d['Rank']=Rank[6]\n",
    "for i in range(len(column)):\n",
    "    d[column[i]]=value_h[i]\n",
    "d"
   ]
  },
  {
   "cell_type": "code",
   "execution_count": 15,
   "id": "755ee6bb",
   "metadata": {},
   "outputs": [
    {
     "data": {
      "text/plain": [
       "'{\"Name\": \"King\\'s College London\", \"Location\": \"London, United Kingdom\", \"Rank\": \"37\", \"Overall Score\": \"81.2\", \"Academic Reputation\": \"88.8\", \"Employer Reputation\": \"83.2\", \"Citations per Faculty\": \"60.5\", \"Faculty Student Ratio\": \"74.5\", \"International Students Ratio\": \"100\", \"International Faculty Ratio\": \"98.6\", \"International Research Network\\\\nUnweighted\": \"99.3\", \"Employment Outcomes\\\\nUnweighted\": \"56.9\"}'"
      ]
     },
     "execution_count": 15,
     "metadata": {},
     "output_type": "execute_result"
    }
   ],
   "source": [
    "s1=json.dumps(d)\n",
    "s1"
   ]
  },
  {
   "cell_type": "code",
   "execution_count": 16,
   "id": "6a663399",
   "metadata": {},
   "outputs": [],
   "source": [
    "\n",
    "with open('Kings College London.json','w') as f:\n",
    "    json.dump(d,f)"
   ]
  },
  {
   "cell_type": "code",
   "execution_count": null,
   "id": "fe9b36d6",
   "metadata": {},
   "outputs": [],
   "source": []
  },
  {
   "cell_type": "code",
   "execution_count": null,
   "id": "a89d326b",
   "metadata": {},
   "outputs": [],
   "source": []
  }
 ],
 "metadata": {
  "kernelspec": {
   "display_name": "Python 3.9.12 ('base')",
   "language": "python",
   "name": "python3"
  },
  "language_info": {
   "codemirror_mode": {
    "name": "ipython",
    "version": 3
   },
   "file_extension": ".py",
   "mimetype": "text/x-python",
   "name": "python",
   "nbconvert_exporter": "python",
   "pygments_lexer": "ipython3",
   "version": "3.9.12"
  },
  "vscode": {
   "interpreter": {
    "hash": "ad2bdc8ecc057115af97d19610ffacc2b4e99fae6737bb82f5d7fb13d2f2c186"
   }
  }
 },
 "nbformat": 4,
 "nbformat_minor": 5
}
