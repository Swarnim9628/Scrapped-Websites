{
 "cells": [
  {
   "cell_type": "code",
   "execution_count": 1,
   "id": "f4571178",
   "metadata": {},
   "outputs": [],
   "source": [
    "from selenium import webdriver\n",
    "from selenium.webdriver.chrome.service import Service\n",
    "import pandas as pd\n",
    "import json\n"
   ]
  },
  {
   "cell_type": "code",
   "execution_count": 2,
   "id": "1694d5f6",
   "metadata": {},
   "outputs": [],
   "source": [
    "path = Service('C:\\chromedriver.exe')"
   ]
  },
  {
   "cell_type": "code",
   "execution_count": 3,
   "id": "262f611c",
   "metadata": {},
   "outputs": [],
   "source": [
    "# set path for the driver\n",
    "browser = webdriver.Chrome(service = path)"
   ]
  },
  {
   "cell_type": "code",
   "execution_count": 4,
   "id": "51a051bd",
   "metadata": {},
   "outputs": [],
   "source": [
    "url = \"https://www.topuniversities.com/university-rankings/world-university-rankings/2023\""
   ]
  },
  {
   "cell_type": "code",
   "execution_count": 5,
   "id": "0c2f7cec",
   "metadata": {},
   "outputs": [],
   "source": [
    "\n",
    "# open the page url ion chrome\n",
    "browser.get(url)"
   ]
  },
  {
   "cell_type": "code",
   "execution_count": 6,
   "id": "f355efa3",
   "metadata": {},
   "outputs": [
    {
     "data": {
      "text/plain": [
       "[<selenium.webdriver.remote.webelement.WebElement (session=\"ee8d86f1d3a5abc5c184f1b5f7b775de\", element=\"f677bf8d-48e3-472d-af84-242b91f3bf6b\")>,\n",
       " <selenium.webdriver.remote.webelement.WebElement (session=\"ee8d86f1d3a5abc5c184f1b5f7b775de\", element=\"8e3d804e-d081-4962-97b8-e32eca34ee04\")>,\n",
       " <selenium.webdriver.remote.webelement.WebElement (session=\"ee8d86f1d3a5abc5c184f1b5f7b775de\", element=\"bc5a9cf4-5e17-41bb-be61-1099c9d1ecd6\")>,\n",
       " <selenium.webdriver.remote.webelement.WebElement (session=\"ee8d86f1d3a5abc5c184f1b5f7b775de\", element=\"9cb00e62-503f-4613-b6c0-f88133c50251\")>,\n",
       " <selenium.webdriver.remote.webelement.WebElement (session=\"ee8d86f1d3a5abc5c184f1b5f7b775de\", element=\"4d3de6fd-760b-4d5d-bf63-fe967064f1cd\")>,\n",
       " <selenium.webdriver.remote.webelement.WebElement (session=\"ee8d86f1d3a5abc5c184f1b5f7b775de\", element=\"42ed4f93-8b34-4988-9c29-79f6169abe9b\")>,\n",
       " <selenium.webdriver.remote.webelement.WebElement (session=\"ee8d86f1d3a5abc5c184f1b5f7b775de\", element=\"f5f31a05-35de-416b-867d-b4a97dd2e34c\")>,\n",
       " <selenium.webdriver.remote.webelement.WebElement (session=\"ee8d86f1d3a5abc5c184f1b5f7b775de\", element=\"f89e3774-34f9-40a7-9419-c34a80ab0ea8\")>,\n",
       " <selenium.webdriver.remote.webelement.WebElement (session=\"ee8d86f1d3a5abc5c184f1b5f7b775de\", element=\"26db9cc7-8aba-4114-b8c3-613edbaaeb52\")>,\n",
       " <selenium.webdriver.remote.webelement.WebElement (session=\"ee8d86f1d3a5abc5c184f1b5f7b775de\", element=\"38b76d5e-49ab-4b62-8cd4-7467813fd466\")>,\n",
       " <selenium.webdriver.remote.webelement.WebElement (session=\"ee8d86f1d3a5abc5c184f1b5f7b775de\", element=\"db072eac-504d-44fb-9f2f-2e29d6ee4ce0\")>,\n",
       " <selenium.webdriver.remote.webelement.WebElement (session=\"ee8d86f1d3a5abc5c184f1b5f7b775de\", element=\"2ab477c9-974e-4e33-99da-e9fbf9590f33\")>,\n",
       " <selenium.webdriver.remote.webelement.WebElement (session=\"ee8d86f1d3a5abc5c184f1b5f7b775de\", element=\"ec06ba64-5d67-4faf-bc62-2364dee841ff\")>,\n",
       " <selenium.webdriver.remote.webelement.WebElement (session=\"ee8d86f1d3a5abc5c184f1b5f7b775de\", element=\"3d669d47-2b3f-4d93-98e7-770587d33f77\")>,\n",
       " <selenium.webdriver.remote.webelement.WebElement (session=\"ee8d86f1d3a5abc5c184f1b5f7b775de\", element=\"c463bffa-4e7d-4146-ac04-9fd0ca6ccefa\")>,\n",
       " <selenium.webdriver.remote.webelement.WebElement (session=\"ee8d86f1d3a5abc5c184f1b5f7b775de\", element=\"32db50c0-be15-41cc-9eaf-db96728f1772\")>,\n",
       " <selenium.webdriver.remote.webelement.WebElement (session=\"ee8d86f1d3a5abc5c184f1b5f7b775de\", element=\"076c49b3-5d60-4683-a56c-ec33c7a94925\")>,\n",
       " <selenium.webdriver.remote.webelement.WebElement (session=\"ee8d86f1d3a5abc5c184f1b5f7b775de\", element=\"48cdd075-eead-4550-8071-7e1e281c528b\")>,\n",
       " <selenium.webdriver.remote.webelement.WebElement (session=\"ee8d86f1d3a5abc5c184f1b5f7b775de\", element=\"d5bc3846-93f9-4e5f-ae1b-d1d7a105f2b7\")>,\n",
       " <selenium.webdriver.remote.webelement.WebElement (session=\"ee8d86f1d3a5abc5c184f1b5f7b775de\", element=\"26148191-36f6-452e-bf47-0ec6f5753414\")>]"
      ]
     },
     "execution_count": 6,
     "metadata": {},
     "output_type": "execute_result"
    }
   ],
   "source": [
    "line1=browser.find_elements(\"xpath\",\"//div[@class='location ']\")\n",
    "line1\n"
   ]
  },
  {
   "cell_type": "code",
   "execution_count": 7,
   "id": "6014e231",
   "metadata": {},
   "outputs": [
    {
     "data": {
      "text/plain": [
       "['Montreal, Canada',\n",
       " 'Evanston, United States',\n",
       " 'Parkville, Australia',\n",
       " 'Shanghai, China (Mainland)',\n",
       " 'Toronto, Canada',\n",
       " 'Kyoto, Japan',\n",
       " 'London, United Kingdom',\n",
       " 'Hong Kong SAR, Hong Kong SAR',\n",
       " 'New York City, United States',\n",
       " 'Hong Kong SAR, Hong Kong SAR']"
      ]
     },
     "execution_count": 7,
     "metadata": {},
     "output_type": "execute_result"
    }
   ],
   "source": [
    "address=[]\n",
    "for data in line1:\n",
    "    #get the text data\n",
    "    temp=data.text\n",
    "    address.append(temp)\n",
    "address=address[10:]\n",
    "address\n"
   ]
  },
  {
   "cell_type": "code",
   "execution_count": 8,
   "id": "93ee307b",
   "metadata": {},
   "outputs": [
    {
     "data": {
      "text/plain": [
       "[<selenium.webdriver.remote.webelement.WebElement (session=\"ee8d86f1d3a5abc5c184f1b5f7b775de\", element=\"486e5aa3-b218-413b-ac0b-b927acd96180\")>,\n",
       " <selenium.webdriver.remote.webelement.WebElement (session=\"ee8d86f1d3a5abc5c184f1b5f7b775de\", element=\"0cea191b-e58e-4ca8-ada4-6b9177d5e44f\")>,\n",
       " <selenium.webdriver.remote.webelement.WebElement (session=\"ee8d86f1d3a5abc5c184f1b5f7b775de\", element=\"4872836b-b926-4550-a183-91a03eb4603f\")>,\n",
       " <selenium.webdriver.remote.webelement.WebElement (session=\"ee8d86f1d3a5abc5c184f1b5f7b775de\", element=\"97183c81-9ace-4508-a250-1093eafc139b\")>,\n",
       " <selenium.webdriver.remote.webelement.WebElement (session=\"ee8d86f1d3a5abc5c184f1b5f7b775de\", element=\"d9492acc-70c5-4887-852f-8aae5510a6e5\")>,\n",
       " <selenium.webdriver.remote.webelement.WebElement (session=\"ee8d86f1d3a5abc5c184f1b5f7b775de\", element=\"64ca1c70-0bc1-41f2-b6cb-02363f5b6704\")>,\n",
       " <selenium.webdriver.remote.webelement.WebElement (session=\"ee8d86f1d3a5abc5c184f1b5f7b775de\", element=\"08b4d63e-c4f1-41d7-88d2-48f056b9c3d9\")>,\n",
       " <selenium.webdriver.remote.webelement.WebElement (session=\"ee8d86f1d3a5abc5c184f1b5f7b775de\", element=\"6b360ed5-d1bf-4e30-ba27-425fc7898af7\")>,\n",
       " <selenium.webdriver.remote.webelement.WebElement (session=\"ee8d86f1d3a5abc5c184f1b5f7b775de\", element=\"bc659f8a-9ca1-487d-a2e1-3caf2e7bb325\")>,\n",
       " <selenium.webdriver.remote.webelement.WebElement (session=\"ee8d86f1d3a5abc5c184f1b5f7b775de\", element=\"b82be49b-fffd-4649-b04a-b128376d84fc\")>]"
      ]
     },
     "execution_count": 8,
     "metadata": {},
     "output_type": "execute_result"
    }
   ],
   "source": [
    "line2=browser.find_elements(\"xpath\",\"//div[@class='_univ-rank ']\")\n",
    "line2"
   ]
  },
  {
   "cell_type": "code",
   "execution_count": 9,
   "id": "2c25248f",
   "metadata": {},
   "outputs": [
    {
     "data": {
      "text/plain": [
       "['31', '32', '33', '=34', '=34', '36', '37', '38', '39', '40']"
      ]
     },
     "execution_count": 9,
     "metadata": {},
     "output_type": "execute_result"
    }
   ],
   "source": [
    "Rank=[]\n",
    "for data in line2:\n",
    "    #get the text data\n",
    "    temp=data.text\n",
    "    Rank.append(temp)\n",
    "Rank"
   ]
  },
  {
   "cell_type": "code",
   "execution_count": 10,
   "id": "c23652d2",
   "metadata": {},
   "outputs": [
    {
     "data": {
      "text/plain": [
       "[<selenium.webdriver.remote.webelement.WebElement (session=\"ee8d86f1d3a5abc5c184f1b5f7b775de\", element=\"2e511998-d041-496d-b84d-b4898a483308\")>,\n",
       " <selenium.webdriver.remote.webelement.WebElement (session=\"ee8d86f1d3a5abc5c184f1b5f7b775de\", element=\"9903a317-c0d0-4f3c-8ea7-8d60e9928734\")>,\n",
       " <selenium.webdriver.remote.webelement.WebElement (session=\"ee8d86f1d3a5abc5c184f1b5f7b775de\", element=\"5128572a-dc5f-455b-bb63-6ef4f8503a8d\")>,\n",
       " <selenium.webdriver.remote.webelement.WebElement (session=\"ee8d86f1d3a5abc5c184f1b5f7b775de\", element=\"8c2950e9-6942-4423-a4a3-9ef295c9abf0\")>,\n",
       " <selenium.webdriver.remote.webelement.WebElement (session=\"ee8d86f1d3a5abc5c184f1b5f7b775de\", element=\"28b751c2-9a0c-442e-8ae4-b0832cf6cd78\")>,\n",
       " <selenium.webdriver.remote.webelement.WebElement (session=\"ee8d86f1d3a5abc5c184f1b5f7b775de\", element=\"fced0b52-afeb-4b6e-b69a-7cb08ffada0d\")>,\n",
       " <selenium.webdriver.remote.webelement.WebElement (session=\"ee8d86f1d3a5abc5c184f1b5f7b775de\", element=\"ddfcad71-069c-41f6-ab79-2223cca22cb5\")>,\n",
       " <selenium.webdriver.remote.webelement.WebElement (session=\"ee8d86f1d3a5abc5c184f1b5f7b775de\", element=\"463a0d75-a52b-4325-8519-0d6a5f44fdb3\")>,\n",
       " <selenium.webdriver.remote.webelement.WebElement (session=\"ee8d86f1d3a5abc5c184f1b5f7b775de\", element=\"ac2e53b4-e74e-4322-8c9c-fb16522cdc17\")>]"
      ]
     },
     "execution_count": 10,
     "metadata": {},
     "output_type": "execute_result"
    }
   ],
   "source": [
    "# GET EACH COLLEGE SPECIFICATION HEADERS\n",
    "line3=browser.find_elements(\"xpath\",\"//div[@class='_click-function_ind']\")\n",
    "line3"
   ]
  },
  {
   "cell_type": "code",
   "execution_count": 11,
   "id": "5eccfeec",
   "metadata": {},
   "outputs": [
    {
     "data": {
      "text/plain": [
       "['Overall Score',\n",
       " 'Academic Reputation',\n",
       " 'Employer Reputation',\n",
       " 'Citations per Faculty',\n",
       " 'Faculty Student Ratio',\n",
       " 'International Students Ratio',\n",
       " 'International Faculty Ratio',\n",
       " 'International Research Network\\nUnweighted',\n",
       " 'Employment Outcomes\\nUnweighted']"
      ]
     },
     "execution_count": 11,
     "metadata": {},
     "output_type": "execute_result"
    }
   ],
   "source": [
    "#PARSING DATA\n",
    "column=[]\n",
    "for data in line3:\n",
    "    #get the text data\n",
    "    temp=data.text\n",
    "    column.append(temp)\n",
    "column"
   ]
  },
  {
   "cell_type": "code",
   "execution_count": 12,
   "id": "e008bbb2",
   "metadata": {},
   "outputs": [
    {
     "data": {
      "text/plain": [
       "[<selenium.webdriver.remote.webelement.WebElement (session=\"ee8d86f1d3a5abc5c184f1b5f7b775de\", element=\"a54b2096-0161-461a-85fd-3ff9fd827f52\")>,\n",
       " <selenium.webdriver.remote.webelement.WebElement (session=\"ee8d86f1d3a5abc5c184f1b5f7b775de\", element=\"0ad699bc-2f32-43a8-8374-6235275b7eb0\")>,\n",
       " <selenium.webdriver.remote.webelement.WebElement (session=\"ee8d86f1d3a5abc5c184f1b5f7b775de\", element=\"35646f2c-08ab-4ab7-aef5-dc07a9959bb8\")>,\n",
       " <selenium.webdriver.remote.webelement.WebElement (session=\"ee8d86f1d3a5abc5c184f1b5f7b775de\", element=\"9600e9a6-e562-46dc-bfc2-c7c84c0dbdfd\")>,\n",
       " <selenium.webdriver.remote.webelement.WebElement (session=\"ee8d86f1d3a5abc5c184f1b5f7b775de\", element=\"d56174ea-d24e-4c81-acb4-02624c7fbc90\")>,\n",
       " <selenium.webdriver.remote.webelement.WebElement (session=\"ee8d86f1d3a5abc5c184f1b5f7b775de\", element=\"a487262b-395f-4407-b992-545820265235\")>,\n",
       " <selenium.webdriver.remote.webelement.WebElement (session=\"ee8d86f1d3a5abc5c184f1b5f7b775de\", element=\"97233e06-648b-4634-a4d3-7d7dd15ed83b\")>,\n",
       " <selenium.webdriver.remote.webelement.WebElement (session=\"ee8d86f1d3a5abc5c184f1b5f7b775de\", element=\"b62a1986-a4ff-4d86-a3cf-b099ff10aca1\")>,\n",
       " <selenium.webdriver.remote.webelement.WebElement (session=\"ee8d86f1d3a5abc5c184f1b5f7b775de\", element=\"3b4af029-eff6-416d-9f3f-f9be1c8f6b8a\")>,\n",
       " <selenium.webdriver.remote.webelement.WebElement (session=\"ee8d86f1d3a5abc5c184f1b5f7b775de\", element=\"34411b92-7ef4-4e57-8557-deced5e27fad\")>,\n",
       " <selenium.webdriver.remote.webelement.WebElement (session=\"ee8d86f1d3a5abc5c184f1b5f7b775de\", element=\"d7268821-2dbf-44fe-bcc8-2296b43f7031\")>,\n",
       " <selenium.webdriver.remote.webelement.WebElement (session=\"ee8d86f1d3a5abc5c184f1b5f7b775de\", element=\"c008bedc-5ef4-4108-bfa4-a5d02bf71c0a\")>,\n",
       " <selenium.webdriver.remote.webelement.WebElement (session=\"ee8d86f1d3a5abc5c184f1b5f7b775de\", element=\"dfbd8f0a-9eca-487b-af0d-d997dc97a134\")>,\n",
       " <selenium.webdriver.remote.webelement.WebElement (session=\"ee8d86f1d3a5abc5c184f1b5f7b775de\", element=\"20c6e6e1-1803-4a05-b4b9-4e52d1516c93\")>,\n",
       " <selenium.webdriver.remote.webelement.WebElement (session=\"ee8d86f1d3a5abc5c184f1b5f7b775de\", element=\"76224e0c-97c1-4fd2-9b1b-ee8142e41965\")>,\n",
       " <selenium.webdriver.remote.webelement.WebElement (session=\"ee8d86f1d3a5abc5c184f1b5f7b775de\", element=\"a54f8f5a-2c0a-4f7a-8020-1b8c62e257d7\")>,\n",
       " <selenium.webdriver.remote.webelement.WebElement (session=\"ee8d86f1d3a5abc5c184f1b5f7b775de\", element=\"d4c12e6b-d005-4228-a97e-065cc7a17107\")>,\n",
       " <selenium.webdriver.remote.webelement.WebElement (session=\"ee8d86f1d3a5abc5c184f1b5f7b775de\", element=\"608f50a1-9ad8-4d75-b333-b51503b496e4\")>,\n",
       " <selenium.webdriver.remote.webelement.WebElement (session=\"ee8d86f1d3a5abc5c184f1b5f7b775de\", element=\"c15a3474-aa54-41db-98d9-976d1d6ab18e\")>,\n",
       " <selenium.webdriver.remote.webelement.WebElement (session=\"ee8d86f1d3a5abc5c184f1b5f7b775de\", element=\"86302cb0-5f31-4546-8ca0-25541acb82bc\")>,\n",
       " <selenium.webdriver.remote.webelement.WebElement (session=\"ee8d86f1d3a5abc5c184f1b5f7b775de\", element=\"4bab2892-1171-4c0a-8e63-924e8f270a52\")>,\n",
       " <selenium.webdriver.remote.webelement.WebElement (session=\"ee8d86f1d3a5abc5c184f1b5f7b775de\", element=\"8b287cbd-bfe7-49be-a571-4159ccab8427\")>,\n",
       " <selenium.webdriver.remote.webelement.WebElement (session=\"ee8d86f1d3a5abc5c184f1b5f7b775de\", element=\"574a0aa3-7442-41fd-bbc1-c36b84647baa\")>,\n",
       " <selenium.webdriver.remote.webelement.WebElement (session=\"ee8d86f1d3a5abc5c184f1b5f7b775de\", element=\"10c91f7b-a09c-4ee6-a0db-79ad8cae88d0\")>,\n",
       " <selenium.webdriver.remote.webelement.WebElement (session=\"ee8d86f1d3a5abc5c184f1b5f7b775de\", element=\"ac084746-7e85-4da9-b0b4-314c55e98465\")>,\n",
       " <selenium.webdriver.remote.webelement.WebElement (session=\"ee8d86f1d3a5abc5c184f1b5f7b775de\", element=\"85db4cbd-1bbf-4b28-b6e8-99956699a8ec\")>,\n",
       " <selenium.webdriver.remote.webelement.WebElement (session=\"ee8d86f1d3a5abc5c184f1b5f7b775de\", element=\"1a9c68dd-70f6-434b-b168-e9fce993dfe5\")>,\n",
       " <selenium.webdriver.remote.webelement.WebElement (session=\"ee8d86f1d3a5abc5c184f1b5f7b775de\", element=\"d48ffc21-0dcc-4173-b8cf-c33602900833\")>,\n",
       " <selenium.webdriver.remote.webelement.WebElement (session=\"ee8d86f1d3a5abc5c184f1b5f7b775de\", element=\"55bf5379-4a08-459d-9fa0-4df17516e361\")>,\n",
       " <selenium.webdriver.remote.webelement.WebElement (session=\"ee8d86f1d3a5abc5c184f1b5f7b775de\", element=\"9cd50eaa-5835-404c-9ebb-ab048170d671\")>,\n",
       " <selenium.webdriver.remote.webelement.WebElement (session=\"ee8d86f1d3a5abc5c184f1b5f7b775de\", element=\"b7bfe330-773b-4c72-9c5b-2e9fce9d9a00\")>,\n",
       " <selenium.webdriver.remote.webelement.WebElement (session=\"ee8d86f1d3a5abc5c184f1b5f7b775de\", element=\"0efde9e4-3fe6-46d4-97ce-cd1d0d92b777\")>,\n",
       " <selenium.webdriver.remote.webelement.WebElement (session=\"ee8d86f1d3a5abc5c184f1b5f7b775de\", element=\"d266dfb0-4c59-46b2-8ff3-2523e7be6de8\")>,\n",
       " <selenium.webdriver.remote.webelement.WebElement (session=\"ee8d86f1d3a5abc5c184f1b5f7b775de\", element=\"e6f4b726-5df4-4fc3-8e60-b335bacc2d5d\")>,\n",
       " <selenium.webdriver.remote.webelement.WebElement (session=\"ee8d86f1d3a5abc5c184f1b5f7b775de\", element=\"30a8bd06-8f58-4b68-9874-9a3b8f58b85a\")>,\n",
       " <selenium.webdriver.remote.webelement.WebElement (session=\"ee8d86f1d3a5abc5c184f1b5f7b775de\", element=\"c3d47a79-e857-4d7c-9109-a75531c1577e\")>,\n",
       " <selenium.webdriver.remote.webelement.WebElement (session=\"ee8d86f1d3a5abc5c184f1b5f7b775de\", element=\"bb4c05e1-f2e6-4a87-937c-409f73e4ba25\")>,\n",
       " <selenium.webdriver.remote.webelement.WebElement (session=\"ee8d86f1d3a5abc5c184f1b5f7b775de\", element=\"f2fe516d-0ddb-4b36-b36a-d0ca5fa18e71\")>,\n",
       " <selenium.webdriver.remote.webelement.WebElement (session=\"ee8d86f1d3a5abc5c184f1b5f7b775de\", element=\"1ba0b6ef-f267-487b-9c2b-16ce348b419b\")>,\n",
       " <selenium.webdriver.remote.webelement.WebElement (session=\"ee8d86f1d3a5abc5c184f1b5f7b775de\", element=\"71a9880b-18af-4233-aa4e-74e1c68ea02e\")>,\n",
       " <selenium.webdriver.remote.webelement.WebElement (session=\"ee8d86f1d3a5abc5c184f1b5f7b775de\", element=\"043a9301-7bbe-4eb7-87a3-0a0c787b6577\")>,\n",
       " <selenium.webdriver.remote.webelement.WebElement (session=\"ee8d86f1d3a5abc5c184f1b5f7b775de\", element=\"0bd17e76-ec11-4b19-93a8-4c65464a1a48\")>,\n",
       " <selenium.webdriver.remote.webelement.WebElement (session=\"ee8d86f1d3a5abc5c184f1b5f7b775de\", element=\"2deb94c2-cfed-48a4-8d14-68deba65850f\")>,\n",
       " <selenium.webdriver.remote.webelement.WebElement (session=\"ee8d86f1d3a5abc5c184f1b5f7b775de\", element=\"61ce467e-c7dd-4d1f-b31e-963ad048e28d\")>,\n",
       " <selenium.webdriver.remote.webelement.WebElement (session=\"ee8d86f1d3a5abc5c184f1b5f7b775de\", element=\"2d53aa54-9f85-4434-ba0c-ef6b2515fb60\")>,\n",
       " <selenium.webdriver.remote.webelement.WebElement (session=\"ee8d86f1d3a5abc5c184f1b5f7b775de\", element=\"29c0d287-2dce-4630-a0f7-4709b7a3c71f\")>,\n",
       " <selenium.webdriver.remote.webelement.WebElement (session=\"ee8d86f1d3a5abc5c184f1b5f7b775de\", element=\"8255150e-a16c-44c3-b9a6-f06f8569cea1\")>,\n",
       " <selenium.webdriver.remote.webelement.WebElement (session=\"ee8d86f1d3a5abc5c184f1b5f7b775de\", element=\"e0e2cf6d-4e08-49f5-8a70-cbdef989a614\")>,\n",
       " <selenium.webdriver.remote.webelement.WebElement (session=\"ee8d86f1d3a5abc5c184f1b5f7b775de\", element=\"89044056-8995-4f7f-b9c0-ceb24573eb33\")>,\n",
       " <selenium.webdriver.remote.webelement.WebElement (session=\"ee8d86f1d3a5abc5c184f1b5f7b775de\", element=\"5e514c4a-aed4-4568-be1d-d460bf72293f\")>,\n",
       " <selenium.webdriver.remote.webelement.WebElement (session=\"ee8d86f1d3a5abc5c184f1b5f7b775de\", element=\"141166ee-86c2-4d1b-9c3c-1e3c6e8f695c\")>,\n",
       " <selenium.webdriver.remote.webelement.WebElement (session=\"ee8d86f1d3a5abc5c184f1b5f7b775de\", element=\"e06814af-f320-4db8-ac97-760dbf5d963d\")>,\n",
       " <selenium.webdriver.remote.webelement.WebElement (session=\"ee8d86f1d3a5abc5c184f1b5f7b775de\", element=\"5665bdf5-00f6-4b76-83a2-0e3d6b9c308e\")>,\n",
       " <selenium.webdriver.remote.webelement.WebElement (session=\"ee8d86f1d3a5abc5c184f1b5f7b775de\", element=\"b172ff0c-c1a8-4399-9bdc-8d155b9214a2\")>,\n",
       " <selenium.webdriver.remote.webelement.WebElement (session=\"ee8d86f1d3a5abc5c184f1b5f7b775de\", element=\"63a79b3d-e56d-426b-aa34-b1ac1bb1df23\")>,\n",
       " <selenium.webdriver.remote.webelement.WebElement (session=\"ee8d86f1d3a5abc5c184f1b5f7b775de\", element=\"f0f47431-f9c8-44a7-9651-6e754ff54296\")>,\n",
       " <selenium.webdriver.remote.webelement.WebElement (session=\"ee8d86f1d3a5abc5c184f1b5f7b775de\", element=\"0209af3b-449c-42cd-b558-5a389a10410f\")>,\n",
       " <selenium.webdriver.remote.webelement.WebElement (session=\"ee8d86f1d3a5abc5c184f1b5f7b775de\", element=\"6a196b82-fe3d-4aca-8951-ab9329aa95d0\")>,\n",
       " <selenium.webdriver.remote.webelement.WebElement (session=\"ee8d86f1d3a5abc5c184f1b5f7b775de\", element=\"8a5488d8-e24f-4691-a1d2-d6cb29752d7e\")>,\n",
       " <selenium.webdriver.remote.webelement.WebElement (session=\"ee8d86f1d3a5abc5c184f1b5f7b775de\", element=\"ac3f7749-37c9-4e67-b822-ebe5326efa47\")>,\n",
       " <selenium.webdriver.remote.webelement.WebElement (session=\"ee8d86f1d3a5abc5c184f1b5f7b775de\", element=\"1e10c0d0-3aea-44d1-8539-c0fbde0358ea\")>,\n",
       " <selenium.webdriver.remote.webelement.WebElement (session=\"ee8d86f1d3a5abc5c184f1b5f7b775de\", element=\"952b228e-0c11-4b21-87f2-45c6c0f9d647\")>,\n",
       " <selenium.webdriver.remote.webelement.WebElement (session=\"ee8d86f1d3a5abc5c184f1b5f7b775de\", element=\"98d06b04-b5de-453b-908b-930032c8fd7a\")>,\n",
       " <selenium.webdriver.remote.webelement.WebElement (session=\"ee8d86f1d3a5abc5c184f1b5f7b775de\", element=\"2d835f75-8f13-485d-9340-f8286ba57c6e\")>,\n",
       " <selenium.webdriver.remote.webelement.WebElement (session=\"ee8d86f1d3a5abc5c184f1b5f7b775de\", element=\"23c9be04-399a-4dcc-8138-77b85519c80c\")>,\n",
       " <selenium.webdriver.remote.webelement.WebElement (session=\"ee8d86f1d3a5abc5c184f1b5f7b775de\", element=\"74ce6dd0-a018-4ffd-98d9-e2b78432d46e\")>,\n",
       " <selenium.webdriver.remote.webelement.WebElement (session=\"ee8d86f1d3a5abc5c184f1b5f7b775de\", element=\"b14f9d94-3ca4-47f8-846b-0c3b3aa8cd22\")>,\n",
       " <selenium.webdriver.remote.webelement.WebElement (session=\"ee8d86f1d3a5abc5c184f1b5f7b775de\", element=\"d7df38c8-2a05-4b62-8aec-e6ac15c72c72\")>,\n",
       " <selenium.webdriver.remote.webelement.WebElement (session=\"ee8d86f1d3a5abc5c184f1b5f7b775de\", element=\"9149c958-f354-47e5-8ab2-267697c208a4\")>,\n",
       " <selenium.webdriver.remote.webelement.WebElement (session=\"ee8d86f1d3a5abc5c184f1b5f7b775de\", element=\"b1233183-b677-445e-9a4d-adac5106e565\")>,\n",
       " <selenium.webdriver.remote.webelement.WebElement (session=\"ee8d86f1d3a5abc5c184f1b5f7b775de\", element=\"0def40b0-7374-4414-899a-2119fe7c0733\")>,\n",
       " <selenium.webdriver.remote.webelement.WebElement (session=\"ee8d86f1d3a5abc5c184f1b5f7b775de\", element=\"9708c397-e0d0-40f2-be75-f78de60aaee1\")>,\n",
       " <selenium.webdriver.remote.webelement.WebElement (session=\"ee8d86f1d3a5abc5c184f1b5f7b775de\", element=\"78754bcb-746c-4d48-99a9-698ed540b371\")>,\n",
       " <selenium.webdriver.remote.webelement.WebElement (session=\"ee8d86f1d3a5abc5c184f1b5f7b775de\", element=\"121bacce-7464-4557-9f38-f14fe8a64915\")>,\n",
       " <selenium.webdriver.remote.webelement.WebElement (session=\"ee8d86f1d3a5abc5c184f1b5f7b775de\", element=\"67e09d47-396c-420b-a61e-25a11ed47f2a\")>,\n",
       " <selenium.webdriver.remote.webelement.WebElement (session=\"ee8d86f1d3a5abc5c184f1b5f7b775de\", element=\"59738ce8-a2e8-4402-9d4f-8b1783d7ba69\")>,\n",
       " <selenium.webdriver.remote.webelement.WebElement (session=\"ee8d86f1d3a5abc5c184f1b5f7b775de\", element=\"1da5f45d-0692-4be4-b925-75701543d893\")>,\n",
       " <selenium.webdriver.remote.webelement.WebElement (session=\"ee8d86f1d3a5abc5c184f1b5f7b775de\", element=\"c2c09838-e646-4208-9d75-5731deafccf3\")>,\n",
       " <selenium.webdriver.remote.webelement.WebElement (session=\"ee8d86f1d3a5abc5c184f1b5f7b775de\", element=\"affb0732-3ba2-45c4-97ff-de4075d3557f\")>,\n",
       " <selenium.webdriver.remote.webelement.WebElement (session=\"ee8d86f1d3a5abc5c184f1b5f7b775de\", element=\"83ce3399-99a4-4a1f-9b80-dfea49e1ba0e\")>,\n",
       " <selenium.webdriver.remote.webelement.WebElement (session=\"ee8d86f1d3a5abc5c184f1b5f7b775de\", element=\"1dc85b88-11ee-40ea-90e6-cdf615ffb425\")>,\n",
       " <selenium.webdriver.remote.webelement.WebElement (session=\"ee8d86f1d3a5abc5c184f1b5f7b775de\", element=\"4734bee6-9c87-4d15-92dd-63c51e2cd6f4\")>,\n",
       " <selenium.webdriver.remote.webelement.WebElement (session=\"ee8d86f1d3a5abc5c184f1b5f7b775de\", element=\"544d6767-45dd-49ef-b9e4-092361b90e7a\")>,\n",
       " <selenium.webdriver.remote.webelement.WebElement (session=\"ee8d86f1d3a5abc5c184f1b5f7b775de\", element=\"64a2adfa-533e-430d-ae4c-354a1a1e84d1\")>,\n",
       " <selenium.webdriver.remote.webelement.WebElement (session=\"ee8d86f1d3a5abc5c184f1b5f7b775de\", element=\"953a46a4-0d87-4e4a-8c1a-289c5bcd6cc6\")>,\n",
       " <selenium.webdriver.remote.webelement.WebElement (session=\"ee8d86f1d3a5abc5c184f1b5f7b775de\", element=\"fff5c185-96e8-4c9b-b5f2-8495c06cb32f\")>,\n",
       " <selenium.webdriver.remote.webelement.WebElement (session=\"ee8d86f1d3a5abc5c184f1b5f7b775de\", element=\"abeb7f02-67b3-4335-8b8b-abff7a805d6b\")>,\n",
       " <selenium.webdriver.remote.webelement.WebElement (session=\"ee8d86f1d3a5abc5c184f1b5f7b775de\", element=\"b33c7810-5e91-4451-87c4-0b63b6d0ef82\")>,\n",
       " <selenium.webdriver.remote.webelement.WebElement (session=\"ee8d86f1d3a5abc5c184f1b5f7b775de\", element=\"d91bbc3c-b8cb-4fd9-be94-296114766139\")>,\n",
       " <selenium.webdriver.remote.webelement.WebElement (session=\"ee8d86f1d3a5abc5c184f1b5f7b775de\", element=\"0c96316c-1a22-4f4f-b5c2-53b91ca1fac5\")>,\n",
       " <selenium.webdriver.remote.webelement.WebElement (session=\"ee8d86f1d3a5abc5c184f1b5f7b775de\", element=\"1a915756-cc31-4fb3-b190-dd08c210406b\")>,\n",
       " <selenium.webdriver.remote.webelement.WebElement (session=\"ee8d86f1d3a5abc5c184f1b5f7b775de\", element=\"99a8af0f-40c8-4067-aef0-0d7a3cd61ceb\")>,\n",
       " <selenium.webdriver.remote.webelement.WebElement (session=\"ee8d86f1d3a5abc5c184f1b5f7b775de\", element=\"c2342f7f-d9af-46e9-a3b0-823330e690f6\")>,\n",
       " <selenium.webdriver.remote.webelement.WebElement (session=\"ee8d86f1d3a5abc5c184f1b5f7b775de\", element=\"20c45a31-5c37-49a4-a8b9-431d26e3e47e\")>,\n",
       " <selenium.webdriver.remote.webelement.WebElement (session=\"ee8d86f1d3a5abc5c184f1b5f7b775de\", element=\"ef2f78f9-736d-42bd-ac22-e59b81e10f92\")>,\n",
       " <selenium.webdriver.remote.webelement.WebElement (session=\"ee8d86f1d3a5abc5c184f1b5f7b775de\", element=\"aad45b84-866a-42ac-af2e-4301f7c7538a\")>,\n",
       " <selenium.webdriver.remote.webelement.WebElement (session=\"ee8d86f1d3a5abc5c184f1b5f7b775de\", element=\"a2c04deb-52f1-4c29-a456-d2a3030e0985\")>,\n",
       " <selenium.webdriver.remote.webelement.WebElement (session=\"ee8d86f1d3a5abc5c184f1b5f7b775de\", element=\"101dc30d-4e3b-49cb-8a90-671225ca714e\")>,\n",
       " <selenium.webdriver.remote.webelement.WebElement (session=\"ee8d86f1d3a5abc5c184f1b5f7b775de\", element=\"d0416ea3-713c-4b18-a626-c6c2449d108a\")>,\n",
       " <selenium.webdriver.remote.webelement.WebElement (session=\"ee8d86f1d3a5abc5c184f1b5f7b775de\", element=\"da6497f9-78be-40c8-90ad-bd2853391ba0\")>]"
      ]
     },
     "execution_count": 12,
     "metadata": {},
     "output_type": "execute_result"
    }
   ],
   "source": [
    "\n",
    "line4=browser.find_elements(\"xpath\",\"//div[@class='td-wrap-in']\")\n",
    "line4"
   ]
  },
  {
   "cell_type": "code",
   "execution_count": 13,
   "id": "aca74b6e",
   "metadata": {},
   "outputs": [
    {
     "data": {
      "text/plain": [
       "['81.4', '98.6', '98.9', '54.2', '94.8', '22.1', '14.9', '85.5', '56.9']"
      ]
     },
     "execution_count": 13,
     "metadata": {},
     "output_type": "execute_result"
    }
   ],
   "source": [
    "#PARSING DATA\n",
    "value=[]\n",
    "for data in line4:\n",
    "    #get the text data\n",
    "    temp=data.text\n",
    "    value.append(temp)\n",
    "value_h=value[51:60]\n",
    "value_h"
   ]
  },
  {
   "cell_type": "code",
   "execution_count": 14,
   "id": "6e0d5937",
   "metadata": {},
   "outputs": [
    {
     "data": {
      "text/plain": [
       "{'Name': 'Kyoto University',\n",
       " 'Location': 'Kyoto, Japan',\n",
       " 'Rank': '36',\n",
       " 'Overall Score': '81.4',\n",
       " 'Academic Reputation': '98.6',\n",
       " 'Employer Reputation': '98.9',\n",
       " 'Citations per Faculty': '54.2',\n",
       " 'Faculty Student Ratio': '94.8',\n",
       " 'International Students Ratio': '22.1',\n",
       " 'International Faculty Ratio': '14.9',\n",
       " 'International Research Network\\nUnweighted': '85.5',\n",
       " 'Employment Outcomes\\nUnweighted': '56.9'}"
      ]
     },
     "execution_count": 14,
     "metadata": {},
     "output_type": "execute_result"
    }
   ],
   "source": [
    "d={}\n",
    "d['Name']=value[50]\n",
    "d['Location']=address[5]\n",
    "d['Rank']=Rank[5]\n",
    "for i in range(len(column)):\n",
    "    d[column[i]]=value_h[i]\n",
    "d"
   ]
  },
  {
   "cell_type": "code",
   "execution_count": 15,
   "id": "8f8bc16f",
   "metadata": {},
   "outputs": [
    {
     "data": {
      "text/plain": [
       "'{\"Name\": \"Kyoto University\", \"Location\": \"Kyoto, Japan\", \"Rank\": \"36\", \"Overall Score\": \"81.4\", \"Academic Reputation\": \"98.6\", \"Employer Reputation\": \"98.9\", \"Citations per Faculty\": \"54.2\", \"Faculty Student Ratio\": \"94.8\", \"International Students Ratio\": \"22.1\", \"International Faculty Ratio\": \"14.9\", \"International Research Network\\\\nUnweighted\": \"85.5\", \"Employment Outcomes\\\\nUnweighted\": \"56.9\"}'"
      ]
     },
     "execution_count": 15,
     "metadata": {},
     "output_type": "execute_result"
    }
   ],
   "source": [
    "s1=json.dumps(d)\n",
    "s1\n"
   ]
  },
  {
   "cell_type": "code",
   "execution_count": 16,
   "id": "a99489a6",
   "metadata": {},
   "outputs": [],
   "source": [
    "with open('Kyoto University.json','w') as f:\n",
    "    json.dump(d,f)\n"
   ]
  },
  {
   "cell_type": "code",
   "execution_count": null,
   "id": "b1844177",
   "metadata": {},
   "outputs": [],
   "source": []
  }
 ],
 "metadata": {
  "kernelspec": {
   "display_name": "Python 3.9.12 ('base')",
   "language": "python",
   "name": "python3"
  },
  "language_info": {
   "codemirror_mode": {
    "name": "ipython",
    "version": 3
   },
   "file_extension": ".py",
   "mimetype": "text/x-python",
   "name": "python",
   "nbconvert_exporter": "python",
   "pygments_lexer": "ipython3",
   "version": "3.9.12"
  },
  "vscode": {
   "interpreter": {
    "hash": "ad2bdc8ecc057115af97d19610ffacc2b4e99fae6737bb82f5d7fb13d2f2c186"
   }
  }
 },
 "nbformat": 4,
 "nbformat_minor": 5
}
