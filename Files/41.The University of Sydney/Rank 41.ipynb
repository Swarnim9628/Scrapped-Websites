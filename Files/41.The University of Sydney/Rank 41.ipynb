{
 "cells": [
  {
   "cell_type": "code",
   "execution_count": 1,
   "id": "f9241705",
   "metadata": {},
   "outputs": [],
   "source": [
    "from selenium import webdriver\n",
    "from selenium.webdriver.chrome.service import Service\n",
    "import pandas as pd\n",
    "import json "
   ]
  },
  {
   "cell_type": "code",
   "execution_count": 2,
   "id": "6003d5dd",
   "metadata": {},
   "outputs": [],
   "source": [
    "path = Service('C:\\chromedriver.exe')\n"
   ]
  },
  {
   "cell_type": "code",
   "execution_count": 3,
   "id": "1b69f7f1",
   "metadata": {},
   "outputs": [],
   "source": [
    "# set path for the driver\n",
    "browser = webdriver.Chrome(service = path)\n"
   ]
  },
  {
   "cell_type": "code",
   "execution_count": 4,
   "id": "d2290050",
   "metadata": {},
   "outputs": [],
   "source": [
    "url = \"https://www.topuniversities.com/university-rankings/world-university-rankings/2023\""
   ]
  },
  {
   "cell_type": "code",
   "execution_count": 5,
   "id": "6bc9acf3",
   "metadata": {},
   "outputs": [],
   "source": [
    "\n",
    "# open the page url ion chrome\n",
    "browser.get(url)"
   ]
  },
  {
   "cell_type": "code",
   "execution_count": 10,
   "id": "994bd9d2",
   "metadata": {},
   "outputs": [
    {
     "data": {
      "text/plain": [
       "[<selenium.webdriver.remote.webelement.WebElement (session=\"7d090b958a5872524b81b8ae4e5874b9\", element=\"5a9a93f2-4034-4285-8942-7b84d3eb27ab\")>,\n",
       " <selenium.webdriver.remote.webelement.WebElement (session=\"7d090b958a5872524b81b8ae4e5874b9\", element=\"1dfd2e7e-b2f7-4926-8fd7-b644eddc4f94\")>,\n",
       " <selenium.webdriver.remote.webelement.WebElement (session=\"7d090b958a5872524b81b8ae4e5874b9\", element=\"b8aa621b-33bf-4cac-a634-55e6a004ef11\")>,\n",
       " <selenium.webdriver.remote.webelement.WebElement (session=\"7d090b958a5872524b81b8ae4e5874b9\", element=\"d9394056-9725-43e9-9857-0174d6193c4f\")>,\n",
       " <selenium.webdriver.remote.webelement.WebElement (session=\"7d090b958a5872524b81b8ae4e5874b9\", element=\"cacdf932-8be4-470d-bcbd-229940c88b33\")>,\n",
       " <selenium.webdriver.remote.webelement.WebElement (session=\"7d090b958a5872524b81b8ae4e5874b9\", element=\"940cf207-d405-4d73-a098-7665350914e9\")>,\n",
       " <selenium.webdriver.remote.webelement.WebElement (session=\"7d090b958a5872524b81b8ae4e5874b9\", element=\"fed99cda-2dbc-4102-958c-33cbbee8b99d\")>,\n",
       " <selenium.webdriver.remote.webelement.WebElement (session=\"7d090b958a5872524b81b8ae4e5874b9\", element=\"5daea059-2829-4cc7-bfe8-a7af08031f5e\")>,\n",
       " <selenium.webdriver.remote.webelement.WebElement (session=\"7d090b958a5872524b81b8ae4e5874b9\", element=\"7414a89e-dd4a-4673-8edd-c9ca90cd1e77\")>,\n",
       " <selenium.webdriver.remote.webelement.WebElement (session=\"7d090b958a5872524b81b8ae4e5874b9\", element=\"0807ddc1-056d-4545-9714-1ff4ff403ff9\")>,\n",
       " <selenium.webdriver.remote.webelement.WebElement (session=\"7d090b958a5872524b81b8ae4e5874b9\", element=\"bc2d648f-ebfd-40e6-8849-5d31cb82aba7\")>,\n",
       " <selenium.webdriver.remote.webelement.WebElement (session=\"7d090b958a5872524b81b8ae4e5874b9\", element=\"acf1c088-9669-4e9b-a55b-96a92a243372\")>,\n",
       " <selenium.webdriver.remote.webelement.WebElement (session=\"7d090b958a5872524b81b8ae4e5874b9\", element=\"3d60bd46-2497-47c4-b0f2-87b3806ff2a7\")>,\n",
       " <selenium.webdriver.remote.webelement.WebElement (session=\"7d090b958a5872524b81b8ae4e5874b9\", element=\"4746b98a-eb7b-40ab-bfa7-bce4f18d0eb2\")>,\n",
       " <selenium.webdriver.remote.webelement.WebElement (session=\"7d090b958a5872524b81b8ae4e5874b9\", element=\"a8c5a5df-92ec-44ed-8bbf-87c1ec21fe37\")>,\n",
       " <selenium.webdriver.remote.webelement.WebElement (session=\"7d090b958a5872524b81b8ae4e5874b9\", element=\"aa8e5ffd-a1f1-4a43-96a2-fd06b884d2d7\")>,\n",
       " <selenium.webdriver.remote.webelement.WebElement (session=\"7d090b958a5872524b81b8ae4e5874b9\", element=\"d17a2046-0bff-4f98-b3c6-050c5e9da9a8\")>,\n",
       " <selenium.webdriver.remote.webelement.WebElement (session=\"7d090b958a5872524b81b8ae4e5874b9\", element=\"cfc0aa4b-1fd8-4d81-b891-9995cd8fb88d\")>,\n",
       " <selenium.webdriver.remote.webelement.WebElement (session=\"7d090b958a5872524b81b8ae4e5874b9\", element=\"b0b50f77-06cf-46cb-a291-5116e2ce06ca\")>,\n",
       " <selenium.webdriver.remote.webelement.WebElement (session=\"7d090b958a5872524b81b8ae4e5874b9\", element=\"17cfb3f1-2f69-46cc-9b21-c5ccd4066616\")>]"
      ]
     },
     "execution_count": 10,
     "metadata": {},
     "output_type": "execute_result"
    }
   ],
   "source": [
    "line1=browser.find_elements(\"xpath\",\"//div[@class='location ']\")\n",
    "line1"
   ]
  },
  {
   "cell_type": "code",
   "execution_count": 11,
   "id": "7d48b1b9",
   "metadata": {},
   "outputs": [
    {
     "data": {
      "text/plain": [
       "['Sydney, Australia',\n",
       " 'Daejeon, South Korea',\n",
       " 'Hangzhou, China (Mainland)',\n",
       " 'Los Angeles, United States',\n",
       " 'Sydney, Australia',\n",
       " 'Shanghai, China (Mainland)',\n",
       " 'Vancouver, Canada',\n",
       " 'Palaiseau Cedex, France',\n",
       " 'Munich, Germany',\n",
       " 'Durham, United States']"
      ]
     },
     "execution_count": 11,
     "metadata": {},
     "output_type": "execute_result"
    }
   ],
   "source": [
    "address=[]\n",
    "for data in line1:\n",
    "    #get the text data\n",
    "    temp=data.text\n",
    "    address.append(temp)\n",
    "address=address[10:]\n",
    "address"
   ]
  },
  {
   "cell_type": "code",
   "execution_count": 12,
   "id": "669ecf63",
   "metadata": {},
   "outputs": [
    {
     "data": {
      "text/plain": [
       "[<selenium.webdriver.remote.webelement.WebElement (session=\"7d090b958a5872524b81b8ae4e5874b9\", element=\"b3647119-04c6-4a38-9243-76a9074dc953\")>,\n",
       " <selenium.webdriver.remote.webelement.WebElement (session=\"7d090b958a5872524b81b8ae4e5874b9\", element=\"f480ff5b-a90c-4ff9-8202-6ed59279d80c\")>,\n",
       " <selenium.webdriver.remote.webelement.WebElement (session=\"7d090b958a5872524b81b8ae4e5874b9\", element=\"2b78c0b2-3897-4951-9710-6fa3babaeaf7\")>,\n",
       " <selenium.webdriver.remote.webelement.WebElement (session=\"7d090b958a5872524b81b8ae4e5874b9\", element=\"623a740d-e1fc-4c76-b569-2655dfbaa2f9\")>,\n",
       " <selenium.webdriver.remote.webelement.WebElement (session=\"7d090b958a5872524b81b8ae4e5874b9\", element=\"ef760638-58e3-4d10-9322-3076b8b674e9\")>,\n",
       " <selenium.webdriver.remote.webelement.WebElement (session=\"7d090b958a5872524b81b8ae4e5874b9\", element=\"41a9aa64-525d-4c67-b42d-fd1344f23673\")>,\n",
       " <selenium.webdriver.remote.webelement.WebElement (session=\"7d090b958a5872524b81b8ae4e5874b9\", element=\"722841ea-7769-4349-b2c9-daa3d60729a2\")>,\n",
       " <selenium.webdriver.remote.webelement.WebElement (session=\"7d090b958a5872524b81b8ae4e5874b9\", element=\"873e0224-f637-47ff-8382-2d204cf5883d\")>,\n",
       " <selenium.webdriver.remote.webelement.WebElement (session=\"7d090b958a5872524b81b8ae4e5874b9\", element=\"1e0911be-8a88-4e40-a3ac-92a1aa144fb5\")>,\n",
       " <selenium.webdriver.remote.webelement.WebElement (session=\"7d090b958a5872524b81b8ae4e5874b9\", element=\"352aff5a-e1ee-48e0-9bcb-84bfafd0927d\")>]"
      ]
     },
     "execution_count": 12,
     "metadata": {},
     "output_type": "execute_result"
    }
   ],
   "source": [
    "\n",
    "line2=browser.find_elements(\"xpath\",\"//div[@class='_univ-rank ']\")\n",
    "line2"
   ]
  },
  {
   "cell_type": "code",
   "execution_count": 13,
   "id": "0d24b44f",
   "metadata": {},
   "outputs": [
    {
     "data": {
      "text/plain": [
       "['41', '=42', '=42', '44', '45', '46', '47', '48', '49', '=50']"
      ]
     },
     "execution_count": 13,
     "metadata": {},
     "output_type": "execute_result"
    }
   ],
   "source": [
    "Rank=[]\n",
    "for data in line2:\n",
    "    #get the text data\n",
    "    temp=data.text\n",
    "    Rank.append(temp)\n",
    "Rank"
   ]
  },
  {
   "cell_type": "code",
   "execution_count": 14,
   "id": "42d5f561",
   "metadata": {},
   "outputs": [
    {
     "data": {
      "text/plain": [
       "[<selenium.webdriver.remote.webelement.WebElement (session=\"7d090b958a5872524b81b8ae4e5874b9\", element=\"d13f77e3-35a0-4b54-ae19-a087a331a64b\")>,\n",
       " <selenium.webdriver.remote.webelement.WebElement (session=\"7d090b958a5872524b81b8ae4e5874b9\", element=\"12f08cd8-50c5-4b9f-abfb-c3bbdd02864b\")>,\n",
       " <selenium.webdriver.remote.webelement.WebElement (session=\"7d090b958a5872524b81b8ae4e5874b9\", element=\"371a95f9-d8ca-4855-89e3-447e1d00b0f1\")>,\n",
       " <selenium.webdriver.remote.webelement.WebElement (session=\"7d090b958a5872524b81b8ae4e5874b9\", element=\"9bda72d4-661e-44f8-ba4d-87da1ec19194\")>,\n",
       " <selenium.webdriver.remote.webelement.WebElement (session=\"7d090b958a5872524b81b8ae4e5874b9\", element=\"cc46020c-4d9c-4eae-9b40-864465e32c36\")>,\n",
       " <selenium.webdriver.remote.webelement.WebElement (session=\"7d090b958a5872524b81b8ae4e5874b9\", element=\"ac59d973-5e12-4207-80de-1ed5190a1544\")>,\n",
       " <selenium.webdriver.remote.webelement.WebElement (session=\"7d090b958a5872524b81b8ae4e5874b9\", element=\"6dffba0c-4104-45c0-b28e-1591b5049887\")>,\n",
       " <selenium.webdriver.remote.webelement.WebElement (session=\"7d090b958a5872524b81b8ae4e5874b9\", element=\"43487ca8-1469-41f1-bb8d-7556268a4380\")>,\n",
       " <selenium.webdriver.remote.webelement.WebElement (session=\"7d090b958a5872524b81b8ae4e5874b9\", element=\"8938e30b-ab98-4688-a8e3-cb998ec5f17b\")>]"
      ]
     },
     "execution_count": 14,
     "metadata": {},
     "output_type": "execute_result"
    }
   ],
   "source": [
    "# GET EACH COLLEGE SPECIFICATION HEADERS\n",
    "line3=browser.find_elements(\"xpath\",\"//div[@class='_click-function_ind']\")\n",
    "line3"
   ]
  },
  {
   "cell_type": "code",
   "execution_count": 15,
   "id": "a56e1799",
   "metadata": {},
   "outputs": [
    {
     "data": {
      "text/plain": [
       "['Overall Score',\n",
       " 'Academic Reputation',\n",
       " 'Employer Reputation',\n",
       " 'Citations per Faculty',\n",
       " 'Faculty Student Ratio',\n",
       " 'International Students Ratio',\n",
       " 'International Faculty Ratio',\n",
       " 'International Research Network\\nUnweighted',\n",
       " 'Employment Outcomes\\nUnweighted']"
      ]
     },
     "execution_count": 15,
     "metadata": {},
     "output_type": "execute_result"
    }
   ],
   "source": [
    "#PARSING DATA\n",
    "column=[]\n",
    "for data in line3:\n",
    "    #get the text data\n",
    "    temp=data.text\n",
    "    column.append(temp)\n",
    "column"
   ]
  },
  {
   "cell_type": "code",
   "execution_count": 16,
   "id": "f6b52d7d",
   "metadata": {},
   "outputs": [
    {
     "data": {
      "text/plain": [
       "[<selenium.webdriver.remote.webelement.WebElement (session=\"7d090b958a5872524b81b8ae4e5874b9\", element=\"c12975c9-a907-4f02-be85-5023a5e183f9\")>,\n",
       " <selenium.webdriver.remote.webelement.WebElement (session=\"7d090b958a5872524b81b8ae4e5874b9\", element=\"5785df83-e83b-454c-9e50-6dc884520a3f\")>,\n",
       " <selenium.webdriver.remote.webelement.WebElement (session=\"7d090b958a5872524b81b8ae4e5874b9\", element=\"fbb8878d-bf19-4b13-8f87-ccfe20514784\")>,\n",
       " <selenium.webdriver.remote.webelement.WebElement (session=\"7d090b958a5872524b81b8ae4e5874b9\", element=\"033b9506-21e3-4f57-8b7d-6fcde3b91bea\")>,\n",
       " <selenium.webdriver.remote.webelement.WebElement (session=\"7d090b958a5872524b81b8ae4e5874b9\", element=\"ca0ff996-b3c0-42c3-b863-567740f4f975\")>,\n",
       " <selenium.webdriver.remote.webelement.WebElement (session=\"7d090b958a5872524b81b8ae4e5874b9\", element=\"dc34f67b-dd6d-4bac-a868-1242a52a4970\")>,\n",
       " <selenium.webdriver.remote.webelement.WebElement (session=\"7d090b958a5872524b81b8ae4e5874b9\", element=\"e6993d5c-bf0b-4420-bbf8-9eef5fac39a7\")>,\n",
       " <selenium.webdriver.remote.webelement.WebElement (session=\"7d090b958a5872524b81b8ae4e5874b9\", element=\"e68e7d80-8dd2-4bc4-8d1c-eb7c20604af3\")>,\n",
       " <selenium.webdriver.remote.webelement.WebElement (session=\"7d090b958a5872524b81b8ae4e5874b9\", element=\"94ccff45-edf4-4a33-8391-08cec19558d6\")>,\n",
       " <selenium.webdriver.remote.webelement.WebElement (session=\"7d090b958a5872524b81b8ae4e5874b9\", element=\"3edf8986-32d9-4465-b2cc-d5aca40d510a\")>,\n",
       " <selenium.webdriver.remote.webelement.WebElement (session=\"7d090b958a5872524b81b8ae4e5874b9\", element=\"67f00c4b-e094-42e3-9bfd-46c238f61e85\")>,\n",
       " <selenium.webdriver.remote.webelement.WebElement (session=\"7d090b958a5872524b81b8ae4e5874b9\", element=\"42571026-a2c6-44f6-97b7-4b2004436492\")>,\n",
       " <selenium.webdriver.remote.webelement.WebElement (session=\"7d090b958a5872524b81b8ae4e5874b9\", element=\"f4d762e5-489f-49f6-b4b9-1cab6638506b\")>,\n",
       " <selenium.webdriver.remote.webelement.WebElement (session=\"7d090b958a5872524b81b8ae4e5874b9\", element=\"31540bcf-aa05-4293-a901-f2c1d7d2652b\")>,\n",
       " <selenium.webdriver.remote.webelement.WebElement (session=\"7d090b958a5872524b81b8ae4e5874b9\", element=\"f3e67ffd-9100-472c-9ec9-01047799879b\")>,\n",
       " <selenium.webdriver.remote.webelement.WebElement (session=\"7d090b958a5872524b81b8ae4e5874b9\", element=\"a1c51403-c8dc-46a1-bb47-e3cab18f5287\")>,\n",
       " <selenium.webdriver.remote.webelement.WebElement (session=\"7d090b958a5872524b81b8ae4e5874b9\", element=\"4b33f9f5-c69c-4971-8bfa-394b922374bd\")>,\n",
       " <selenium.webdriver.remote.webelement.WebElement (session=\"7d090b958a5872524b81b8ae4e5874b9\", element=\"67d35508-9a16-4c5d-b32d-9cea1a5691db\")>,\n",
       " <selenium.webdriver.remote.webelement.WebElement (session=\"7d090b958a5872524b81b8ae4e5874b9\", element=\"83309cc8-b2be-46b9-902b-f82bd0c4e442\")>,\n",
       " <selenium.webdriver.remote.webelement.WebElement (session=\"7d090b958a5872524b81b8ae4e5874b9\", element=\"f9092fd8-06d3-4740-9185-7b7be04d759e\")>,\n",
       " <selenium.webdriver.remote.webelement.WebElement (session=\"7d090b958a5872524b81b8ae4e5874b9\", element=\"d5a7f8f5-f2c2-4523-b620-a3cae500dfc9\")>,\n",
       " <selenium.webdriver.remote.webelement.WebElement (session=\"7d090b958a5872524b81b8ae4e5874b9\", element=\"cd2f9834-a9f1-4794-94f1-baaccfcb0f5f\")>,\n",
       " <selenium.webdriver.remote.webelement.WebElement (session=\"7d090b958a5872524b81b8ae4e5874b9\", element=\"d7df094a-4efa-4a19-bb72-de92af9ff2a6\")>,\n",
       " <selenium.webdriver.remote.webelement.WebElement (session=\"7d090b958a5872524b81b8ae4e5874b9\", element=\"5f946a60-88a3-464f-b2ec-6a80093a3037\")>,\n",
       " <selenium.webdriver.remote.webelement.WebElement (session=\"7d090b958a5872524b81b8ae4e5874b9\", element=\"5acbd4e9-6063-4f1b-83a9-268da87b90b0\")>,\n",
       " <selenium.webdriver.remote.webelement.WebElement (session=\"7d090b958a5872524b81b8ae4e5874b9\", element=\"17873918-e730-49ff-9dfd-a2dbe79aafa2\")>,\n",
       " <selenium.webdriver.remote.webelement.WebElement (session=\"7d090b958a5872524b81b8ae4e5874b9\", element=\"16ab13e9-dd11-41e3-bc59-13f01c401e62\")>,\n",
       " <selenium.webdriver.remote.webelement.WebElement (session=\"7d090b958a5872524b81b8ae4e5874b9\", element=\"bd52c086-8bff-48b3-8f76-45f089f253e0\")>,\n",
       " <selenium.webdriver.remote.webelement.WebElement (session=\"7d090b958a5872524b81b8ae4e5874b9\", element=\"61942711-7407-4398-90c8-661b369d3851\")>,\n",
       " <selenium.webdriver.remote.webelement.WebElement (session=\"7d090b958a5872524b81b8ae4e5874b9\", element=\"77fad484-1fe6-4c79-8a85-79f0c21de97e\")>,\n",
       " <selenium.webdriver.remote.webelement.WebElement (session=\"7d090b958a5872524b81b8ae4e5874b9\", element=\"53819ad5-eb44-4eee-9c38-52e334f474c6\")>,\n",
       " <selenium.webdriver.remote.webelement.WebElement (session=\"7d090b958a5872524b81b8ae4e5874b9\", element=\"26bedbba-bfc8-4685-bfa9-3bd95534d92b\")>,\n",
       " <selenium.webdriver.remote.webelement.WebElement (session=\"7d090b958a5872524b81b8ae4e5874b9\", element=\"60d11a24-f556-4866-843f-69b0260d14f8\")>,\n",
       " <selenium.webdriver.remote.webelement.WebElement (session=\"7d090b958a5872524b81b8ae4e5874b9\", element=\"8cfba5a4-8d12-4f60-abff-1695174f8a62\")>,\n",
       " <selenium.webdriver.remote.webelement.WebElement (session=\"7d090b958a5872524b81b8ae4e5874b9\", element=\"0de7e411-35fe-4103-a68f-14958ce77a1c\")>,\n",
       " <selenium.webdriver.remote.webelement.WebElement (session=\"7d090b958a5872524b81b8ae4e5874b9\", element=\"83c97363-9a4f-44bd-a920-4f854d2d66aa\")>,\n",
       " <selenium.webdriver.remote.webelement.WebElement (session=\"7d090b958a5872524b81b8ae4e5874b9\", element=\"1fd758e3-7dc5-4445-81f4-70acdb3ec228\")>,\n",
       " <selenium.webdriver.remote.webelement.WebElement (session=\"7d090b958a5872524b81b8ae4e5874b9\", element=\"bdb26ba5-e752-4878-af0a-84410de5d27c\")>,\n",
       " <selenium.webdriver.remote.webelement.WebElement (session=\"7d090b958a5872524b81b8ae4e5874b9\", element=\"3a663363-04b3-43a9-953a-6a3af6ab9090\")>,\n",
       " <selenium.webdriver.remote.webelement.WebElement (session=\"7d090b958a5872524b81b8ae4e5874b9\", element=\"e732d465-212e-403f-843d-e6511f3393e9\")>,\n",
       " <selenium.webdriver.remote.webelement.WebElement (session=\"7d090b958a5872524b81b8ae4e5874b9\", element=\"a5950d13-818b-40de-8b71-dee010a1ad66\")>,\n",
       " <selenium.webdriver.remote.webelement.WebElement (session=\"7d090b958a5872524b81b8ae4e5874b9\", element=\"dfca0098-be7e-4472-85be-e27c8026c60f\")>,\n",
       " <selenium.webdriver.remote.webelement.WebElement (session=\"7d090b958a5872524b81b8ae4e5874b9\", element=\"c2a36cce-dd55-4041-9293-d595dc2ba8b4\")>,\n",
       " <selenium.webdriver.remote.webelement.WebElement (session=\"7d090b958a5872524b81b8ae4e5874b9\", element=\"d17626f8-a9fd-42b5-b3a8-e9006fc1a52e\")>,\n",
       " <selenium.webdriver.remote.webelement.WebElement (session=\"7d090b958a5872524b81b8ae4e5874b9\", element=\"e3190baa-83d4-42f2-a599-2eab4eda683c\")>,\n",
       " <selenium.webdriver.remote.webelement.WebElement (session=\"7d090b958a5872524b81b8ae4e5874b9\", element=\"dd3c4618-55b9-451e-9805-9bb6393a3937\")>,\n",
       " <selenium.webdriver.remote.webelement.WebElement (session=\"7d090b958a5872524b81b8ae4e5874b9\", element=\"8f6f474e-0bb9-482c-80f3-19ec00bc7e94\")>,\n",
       " <selenium.webdriver.remote.webelement.WebElement (session=\"7d090b958a5872524b81b8ae4e5874b9\", element=\"1f54b762-2fbe-48da-b3e3-fc7c91008299\")>,\n",
       " <selenium.webdriver.remote.webelement.WebElement (session=\"7d090b958a5872524b81b8ae4e5874b9\", element=\"21dda293-ab1c-4cf7-bda3-c432e3c23aa1\")>,\n",
       " <selenium.webdriver.remote.webelement.WebElement (session=\"7d090b958a5872524b81b8ae4e5874b9\", element=\"dc0c248f-3db7-4a18-9e33-228c66743a97\")>,\n",
       " <selenium.webdriver.remote.webelement.WebElement (session=\"7d090b958a5872524b81b8ae4e5874b9\", element=\"fc94d522-2dbd-401f-ba63-21d6640c11ce\")>,\n",
       " <selenium.webdriver.remote.webelement.WebElement (session=\"7d090b958a5872524b81b8ae4e5874b9\", element=\"46288dd1-cdb0-4828-a5d8-42c7314bf3b6\")>,\n",
       " <selenium.webdriver.remote.webelement.WebElement (session=\"7d090b958a5872524b81b8ae4e5874b9\", element=\"385d5bf3-8701-49b2-a5cc-de2127e1e9f2\")>,\n",
       " <selenium.webdriver.remote.webelement.WebElement (session=\"7d090b958a5872524b81b8ae4e5874b9\", element=\"517e7b3b-645d-4f65-a192-74e17b08b5e5\")>,\n",
       " <selenium.webdriver.remote.webelement.WebElement (session=\"7d090b958a5872524b81b8ae4e5874b9\", element=\"778d1aa3-4c62-4556-98a0-8c951415636d\")>,\n",
       " <selenium.webdriver.remote.webelement.WebElement (session=\"7d090b958a5872524b81b8ae4e5874b9\", element=\"e99da52e-795f-485a-aba1-840d5c7b6c76\")>,\n",
       " <selenium.webdriver.remote.webelement.WebElement (session=\"7d090b958a5872524b81b8ae4e5874b9\", element=\"6a7ef07e-34e4-4784-83e4-28b4736e4624\")>,\n",
       " <selenium.webdriver.remote.webelement.WebElement (session=\"7d090b958a5872524b81b8ae4e5874b9\", element=\"d7e5dfaa-8401-45a7-9d3a-4cb26fb70d49\")>,\n",
       " <selenium.webdriver.remote.webelement.WebElement (session=\"7d090b958a5872524b81b8ae4e5874b9\", element=\"310b30c3-e194-4bf4-902f-36d167b605db\")>,\n",
       " <selenium.webdriver.remote.webelement.WebElement (session=\"7d090b958a5872524b81b8ae4e5874b9\", element=\"016b2586-bdc3-493d-a1bf-e1f8a77dfc55\")>,\n",
       " <selenium.webdriver.remote.webelement.WebElement (session=\"7d090b958a5872524b81b8ae4e5874b9\", element=\"9df941e8-23b6-4164-a5fc-958d6f94e23f\")>,\n",
       " <selenium.webdriver.remote.webelement.WebElement (session=\"7d090b958a5872524b81b8ae4e5874b9\", element=\"a1db21fd-f420-41ac-83dd-138d9de5bcad\")>,\n",
       " <selenium.webdriver.remote.webelement.WebElement (session=\"7d090b958a5872524b81b8ae4e5874b9\", element=\"f3acd8bf-9f8d-462c-b13a-2cf5c8716cce\")>,\n",
       " <selenium.webdriver.remote.webelement.WebElement (session=\"7d090b958a5872524b81b8ae4e5874b9\", element=\"ce7b4c3e-7ee0-4808-831d-f6e4a29c181c\")>,\n",
       " <selenium.webdriver.remote.webelement.WebElement (session=\"7d090b958a5872524b81b8ae4e5874b9\", element=\"00b7c642-cf5f-40a8-8219-29339da9be51\")>,\n",
       " <selenium.webdriver.remote.webelement.WebElement (session=\"7d090b958a5872524b81b8ae4e5874b9\", element=\"1670526e-bddb-47fa-8261-201214eb8a53\")>,\n",
       " <selenium.webdriver.remote.webelement.WebElement (session=\"7d090b958a5872524b81b8ae4e5874b9\", element=\"de5ca04d-86a1-4242-8b65-f08985038b0f\")>,\n",
       " <selenium.webdriver.remote.webelement.WebElement (session=\"7d090b958a5872524b81b8ae4e5874b9\", element=\"3c47f67d-068a-4ca4-a709-a20e594a3396\")>,\n",
       " <selenium.webdriver.remote.webelement.WebElement (session=\"7d090b958a5872524b81b8ae4e5874b9\", element=\"e7dbc9e5-73c6-4273-bb9a-3b29f40d2957\")>,\n",
       " <selenium.webdriver.remote.webelement.WebElement (session=\"7d090b958a5872524b81b8ae4e5874b9\", element=\"58a9b06d-97df-4b0b-bccc-a712951f68e5\")>,\n",
       " <selenium.webdriver.remote.webelement.WebElement (session=\"7d090b958a5872524b81b8ae4e5874b9\", element=\"b9ad4ce9-4d72-466a-a643-8af26a3c5e80\")>,\n",
       " <selenium.webdriver.remote.webelement.WebElement (session=\"7d090b958a5872524b81b8ae4e5874b9\", element=\"3beff410-7035-4677-8676-a86501f2ae58\")>,\n",
       " <selenium.webdriver.remote.webelement.WebElement (session=\"7d090b958a5872524b81b8ae4e5874b9\", element=\"758d9254-d139-45af-a842-f1d746255cb0\")>,\n",
       " <selenium.webdriver.remote.webelement.WebElement (session=\"7d090b958a5872524b81b8ae4e5874b9\", element=\"9937b679-e65f-4dcb-84d7-25a177c1a5cd\")>,\n",
       " <selenium.webdriver.remote.webelement.WebElement (session=\"7d090b958a5872524b81b8ae4e5874b9\", element=\"33dcb122-a24b-4313-aaeb-4c3af3cbd12f\")>,\n",
       " <selenium.webdriver.remote.webelement.WebElement (session=\"7d090b958a5872524b81b8ae4e5874b9\", element=\"c0f7f44f-b59a-42b8-b91a-d1bdfa621017\")>,\n",
       " <selenium.webdriver.remote.webelement.WebElement (session=\"7d090b958a5872524b81b8ae4e5874b9\", element=\"37a5b307-0fae-4d40-9bc7-627bd6a2c812\")>,\n",
       " <selenium.webdriver.remote.webelement.WebElement (session=\"7d090b958a5872524b81b8ae4e5874b9\", element=\"2c1598b4-97bf-4183-8834-18e2e4f669bd\")>,\n",
       " <selenium.webdriver.remote.webelement.WebElement (session=\"7d090b958a5872524b81b8ae4e5874b9\", element=\"f1316772-a9b4-4710-be89-9b124c23261f\")>,\n",
       " <selenium.webdriver.remote.webelement.WebElement (session=\"7d090b958a5872524b81b8ae4e5874b9\", element=\"962ca752-0ad5-423c-a4c0-f677d641ad88\")>,\n",
       " <selenium.webdriver.remote.webelement.WebElement (session=\"7d090b958a5872524b81b8ae4e5874b9\", element=\"6ccfc9ba-e3fc-4361-8312-0ad86dd1b091\")>,\n",
       " <selenium.webdriver.remote.webelement.WebElement (session=\"7d090b958a5872524b81b8ae4e5874b9\", element=\"35dd6788-17e4-4822-a896-df13c487d055\")>,\n",
       " <selenium.webdriver.remote.webelement.WebElement (session=\"7d090b958a5872524b81b8ae4e5874b9\", element=\"66e7ed8d-b2d8-4bd0-b377-dadbda874be2\")>,\n",
       " <selenium.webdriver.remote.webelement.WebElement (session=\"7d090b958a5872524b81b8ae4e5874b9\", element=\"78707d5c-7c90-48ff-9836-e3add0b539ae\")>,\n",
       " <selenium.webdriver.remote.webelement.WebElement (session=\"7d090b958a5872524b81b8ae4e5874b9\", element=\"bd903c1f-6a48-43bb-9c2f-cbd5ff929bc6\")>,\n",
       " <selenium.webdriver.remote.webelement.WebElement (session=\"7d090b958a5872524b81b8ae4e5874b9\", element=\"d678f137-fbcd-431d-ba19-9127f6b9b7e9\")>,\n",
       " <selenium.webdriver.remote.webelement.WebElement (session=\"7d090b958a5872524b81b8ae4e5874b9\", element=\"aa2d5a9f-ca93-4c3d-ab86-c3ad44e6d6ba\")>,\n",
       " <selenium.webdriver.remote.webelement.WebElement (session=\"7d090b958a5872524b81b8ae4e5874b9\", element=\"78313fea-a18b-4554-970b-71292deef12c\")>,\n",
       " <selenium.webdriver.remote.webelement.WebElement (session=\"7d090b958a5872524b81b8ae4e5874b9\", element=\"4c9d6506-c1b0-43fc-85c4-07303f8d27cd\")>,\n",
       " <selenium.webdriver.remote.webelement.WebElement (session=\"7d090b958a5872524b81b8ae4e5874b9\", element=\"eb2e1582-7493-4d51-afd7-95b61611a35e\")>,\n",
       " <selenium.webdriver.remote.webelement.WebElement (session=\"7d090b958a5872524b81b8ae4e5874b9\", element=\"1eeacabb-ef4e-4167-9fc1-2e2950c0b480\")>,\n",
       " <selenium.webdriver.remote.webelement.WebElement (session=\"7d090b958a5872524b81b8ae4e5874b9\", element=\"be14c5fa-dd04-4297-9bd8-461faf584ac2\")>,\n",
       " <selenium.webdriver.remote.webelement.WebElement (session=\"7d090b958a5872524b81b8ae4e5874b9\", element=\"9a247682-72ce-446e-88f2-20149dff620e\")>,\n",
       " <selenium.webdriver.remote.webelement.WebElement (session=\"7d090b958a5872524b81b8ae4e5874b9\", element=\"9b8d6bc4-c662-49c0-a502-d46a8c6c0559\")>,\n",
       " <selenium.webdriver.remote.webelement.WebElement (session=\"7d090b958a5872524b81b8ae4e5874b9\", element=\"28768565-ca56-4d1a-835a-cba60c63ba71\")>,\n",
       " <selenium.webdriver.remote.webelement.WebElement (session=\"7d090b958a5872524b81b8ae4e5874b9\", element=\"0396d9d1-5d2b-40f6-b96d-d9c2a921cc07\")>,\n",
       " <selenium.webdriver.remote.webelement.WebElement (session=\"7d090b958a5872524b81b8ae4e5874b9\", element=\"3624fb39-34c7-4842-b713-97f2f085a448\")>,\n",
       " <selenium.webdriver.remote.webelement.WebElement (session=\"7d090b958a5872524b81b8ae4e5874b9\", element=\"7346d949-6cef-4cd9-804d-43b88bbf0ac9\")>,\n",
       " <selenium.webdriver.remote.webelement.WebElement (session=\"7d090b958a5872524b81b8ae4e5874b9\", element=\"ef01f476-08db-40e6-a59e-aa71e4aac8e8\")>,\n",
       " <selenium.webdriver.remote.webelement.WebElement (session=\"7d090b958a5872524b81b8ae4e5874b9\", element=\"4bfb6873-aee6-45c8-a0a3-c4b143249275\")>]"
      ]
     },
     "execution_count": 16,
     "metadata": {},
     "output_type": "execute_result"
    }
   ],
   "source": [
    "line4=browser.find_elements(\"xpath\",\"//div[@class='td-wrap-in']\")\n",
    "line4"
   ]
  },
  {
   "cell_type": "code",
   "execution_count": 17,
   "id": "8dc40b53",
   "metadata": {},
   "outputs": [
    {
     "data": {
      "text/plain": [
       "['79.6', '96.2', '91.7', '92.1', '15.6', '100', '99.3', '97.3', '90.8']"
      ]
     },
     "execution_count": 17,
     "metadata": {},
     "output_type": "execute_result"
    }
   ],
   "source": [
    "#PARSING DATA\n",
    "value=[]\n",
    "for data in line4:\n",
    "    #get the text data\n",
    "    temp=data.text\n",
    "    value.append(temp)\n",
    "value_h=value[1:10]\n",
    "value_h"
   ]
  },
  {
   "cell_type": "code",
   "execution_count": 18,
   "id": "8510d848",
   "metadata": {},
   "outputs": [
    {
     "data": {
      "text/plain": [
       "{'Name': 'The University of Sydney',\n",
       " 'Location': 'Sydney, Australia',\n",
       " 'Rank': '41',\n",
       " 'Overall Score': '79.6',\n",
       " 'Academic Reputation': '96.2',\n",
       " 'Employer Reputation': '91.7',\n",
       " 'Citations per Faculty': '92.1',\n",
       " 'Faculty Student Ratio': '15.6',\n",
       " 'International Students Ratio': '100',\n",
       " 'International Faculty Ratio': '99.3',\n",
       " 'International Research Network\\nUnweighted': '97.3',\n",
       " 'Employment Outcomes\\nUnweighted': '90.8'}"
      ]
     },
     "execution_count": 18,
     "metadata": {},
     "output_type": "execute_result"
    }
   ],
   "source": [
    "d={}\n",
    "d['Name']=value[0]\n",
    "d['Location']=address[0]\n",
    "d['Rank']=Rank[0]\n",
    "for i in range(len(column)):\n",
    "    d[column[i]]=value_h[i]\n",
    "d"
   ]
  },
  {
   "cell_type": "code",
   "execution_count": 19,
   "id": "96cbddd1",
   "metadata": {},
   "outputs": [
    {
     "data": {
      "text/plain": [
       "'{\"Name\": \"The University of Sydney\", \"Location\": \"Sydney, Australia\", \"Rank\": \"41\", \"Overall Score\": \"79.6\", \"Academic Reputation\": \"96.2\", \"Employer Reputation\": \"91.7\", \"Citations per Faculty\": \"92.1\", \"Faculty Student Ratio\": \"15.6\", \"International Students Ratio\": \"100\", \"International Faculty Ratio\": \"99.3\", \"International Research Network\\\\nUnweighted\": \"97.3\", \"Employment Outcomes\\\\nUnweighted\": \"90.8\"}'"
      ]
     },
     "execution_count": 19,
     "metadata": {},
     "output_type": "execute_result"
    }
   ],
   "source": [
    "s1=json.dumps(d)\n",
    "s1\n"
   ]
  },
  {
   "cell_type": "code",
   "execution_count": 20,
   "id": "1dc67dfb",
   "metadata": {},
   "outputs": [],
   "source": [
    "\n",
    "with open('The University of Sydney.json','w') as f:\n",
    "    json.dump(d,f)"
   ]
  },
  {
   "cell_type": "code",
   "execution_count": null,
   "id": "9a39667e",
   "metadata": {},
   "outputs": [],
   "source": []
  }
 ],
 "metadata": {
  "kernelspec": {
   "display_name": "Python 3.9.12 ('base')",
   "language": "python",
   "name": "python3"
  },
  "language_info": {
   "codemirror_mode": {
    "name": "ipython",
    "version": 3
   },
   "file_extension": ".py",
   "mimetype": "text/x-python",
   "name": "python",
   "nbconvert_exporter": "python",
   "pygments_lexer": "ipython3",
   "version": "3.9.12"
  },
  "vscode": {
   "interpreter": {
    "hash": "ad2bdc8ecc057115af97d19610ffacc2b4e99fae6737bb82f5d7fb13d2f2c186"
   }
  }
 },
 "nbformat": 4,
 "nbformat_minor": 5
}
