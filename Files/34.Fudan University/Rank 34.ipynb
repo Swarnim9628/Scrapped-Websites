{
 "cells": [
  {
   "cell_type": "code",
   "execution_count": 1,
   "id": "ce2fe35e",
   "metadata": {},
   "outputs": [],
   "source": [
    "from selenium import webdriver\n",
    "from selenium.webdriver.chrome.service import Service\n",
    "import pandas as pd\n",
    "import json"
   ]
  },
  {
   "cell_type": "code",
   "execution_count": 2,
   "id": "989f480a",
   "metadata": {},
   "outputs": [],
   "source": [
    "path = Service('C:\\chromedriver.exe')"
   ]
  },
  {
   "cell_type": "code",
   "execution_count": 3,
   "id": "8d9f94f0",
   "metadata": {},
   "outputs": [],
   "source": [
    "# set path for the driver\n",
    "browser = webdriver.Chrome(service = path)"
   ]
  },
  {
   "cell_type": "code",
   "execution_count": 4,
   "id": "0096b5ff",
   "metadata": {},
   "outputs": [],
   "source": [
    "url = \"https://www.topuniversities.com/university-rankings/world-university-rankings/2023\""
   ]
  },
  {
   "cell_type": "code",
   "execution_count": 5,
   "id": "686916ad",
   "metadata": {},
   "outputs": [],
   "source": [
    "# open the page url ion chrome\n",
    "browser.get(url)\n"
   ]
  },
  {
   "cell_type": "code",
   "execution_count": 6,
   "id": "7e1bd316",
   "metadata": {},
   "outputs": [
    {
     "data": {
      "text/plain": [
       "[<selenium.webdriver.remote.webelement.WebElement (session=\"c1b4df247bf5cac4607ba8d1a45b82a4\", element=\"0eb8ea70-4f80-4323-99b1-c0460ce2ab55\")>,\n",
       " <selenium.webdriver.remote.webelement.WebElement (session=\"c1b4df247bf5cac4607ba8d1a45b82a4\", element=\"70ccc9ac-1029-4c2c-a0ce-3b3cf681ed0f\")>,\n",
       " <selenium.webdriver.remote.webelement.WebElement (session=\"c1b4df247bf5cac4607ba8d1a45b82a4\", element=\"bc3dc420-4197-4847-8541-0d9063de9ca2\")>,\n",
       " <selenium.webdriver.remote.webelement.WebElement (session=\"c1b4df247bf5cac4607ba8d1a45b82a4\", element=\"8ad102e1-483e-4f82-b844-b4f33ea8aac1\")>,\n",
       " <selenium.webdriver.remote.webelement.WebElement (session=\"c1b4df247bf5cac4607ba8d1a45b82a4\", element=\"f37885a6-68df-4d41-9d3f-ff6887c255da\")>,\n",
       " <selenium.webdriver.remote.webelement.WebElement (session=\"c1b4df247bf5cac4607ba8d1a45b82a4\", element=\"95d7483e-6042-42da-9bae-0e4570293b6e\")>,\n",
       " <selenium.webdriver.remote.webelement.WebElement (session=\"c1b4df247bf5cac4607ba8d1a45b82a4\", element=\"1db5f1ca-4d9f-4f75-800e-69b507d527a5\")>,\n",
       " <selenium.webdriver.remote.webelement.WebElement (session=\"c1b4df247bf5cac4607ba8d1a45b82a4\", element=\"9dbf43ce-421a-4056-ab12-f145a93568cc\")>,\n",
       " <selenium.webdriver.remote.webelement.WebElement (session=\"c1b4df247bf5cac4607ba8d1a45b82a4\", element=\"52b8e198-681c-4124-81bc-0cc5a632a359\")>,\n",
       " <selenium.webdriver.remote.webelement.WebElement (session=\"c1b4df247bf5cac4607ba8d1a45b82a4\", element=\"7fc5aaff-15ab-4162-8846-281e5b2b3fb9\")>,\n",
       " <selenium.webdriver.remote.webelement.WebElement (session=\"c1b4df247bf5cac4607ba8d1a45b82a4\", element=\"c1120da8-b1af-44a0-aa1f-19b50c54e179\")>,\n",
       " <selenium.webdriver.remote.webelement.WebElement (session=\"c1b4df247bf5cac4607ba8d1a45b82a4\", element=\"aa40b162-a677-43ef-901d-596f5e6d0e93\")>,\n",
       " <selenium.webdriver.remote.webelement.WebElement (session=\"c1b4df247bf5cac4607ba8d1a45b82a4\", element=\"ce4f7ad1-a5d6-4826-80cb-b06a0f475365\")>,\n",
       " <selenium.webdriver.remote.webelement.WebElement (session=\"c1b4df247bf5cac4607ba8d1a45b82a4\", element=\"0dfbfae8-4aa4-40f2-9502-3f862a6e34c0\")>,\n",
       " <selenium.webdriver.remote.webelement.WebElement (session=\"c1b4df247bf5cac4607ba8d1a45b82a4\", element=\"2684930c-2ef2-4171-9fc4-e884517152df\")>,\n",
       " <selenium.webdriver.remote.webelement.WebElement (session=\"c1b4df247bf5cac4607ba8d1a45b82a4\", element=\"fee9b4ff-9a06-4999-be70-c92947cfa469\")>,\n",
       " <selenium.webdriver.remote.webelement.WebElement (session=\"c1b4df247bf5cac4607ba8d1a45b82a4\", element=\"e1548338-9e48-4260-916d-775a9428c1e2\")>,\n",
       " <selenium.webdriver.remote.webelement.WebElement (session=\"c1b4df247bf5cac4607ba8d1a45b82a4\", element=\"a7f2afff-dd3e-4c8b-984c-7a0081552732\")>,\n",
       " <selenium.webdriver.remote.webelement.WebElement (session=\"c1b4df247bf5cac4607ba8d1a45b82a4\", element=\"63f52c1c-6991-4d3d-b487-0ace95aa31ba\")>,\n",
       " <selenium.webdriver.remote.webelement.WebElement (session=\"c1b4df247bf5cac4607ba8d1a45b82a4\", element=\"9582dad8-d110-4c4f-9ed9-f062570b7b9b\")>]"
      ]
     },
     "execution_count": 6,
     "metadata": {},
     "output_type": "execute_result"
    }
   ],
   "source": [
    "line1=browser.find_elements(\"xpath\",\"//div[@class='location ']\")\n",
    "line1"
   ]
  },
  {
   "cell_type": "code",
   "execution_count": 7,
   "id": "a632f229",
   "metadata": {},
   "outputs": [
    {
     "data": {
      "text/plain": [
       "['Montreal, Canada',\n",
       " 'Evanston, United States',\n",
       " 'Parkville, Australia',\n",
       " 'Shanghai, China (Mainland)',\n",
       " 'Toronto, Canada',\n",
       " 'Kyoto, Japan',\n",
       " 'London, United Kingdom',\n",
       " 'Hong Kong SAR, Hong Kong SAR',\n",
       " 'New York City, United States',\n",
       " 'Hong Kong SAR, Hong Kong SAR']"
      ]
     },
     "execution_count": 7,
     "metadata": {},
     "output_type": "execute_result"
    }
   ],
   "source": [
    "address=[]\n",
    "for data in line1:\n",
    "    #get the text data\n",
    "    temp=data.text\n",
    "    address.append(temp)\n",
    "address=address[10:]\n",
    "address"
   ]
  },
  {
   "cell_type": "code",
   "execution_count": 8,
   "id": "ef4a8cc2",
   "metadata": {},
   "outputs": [
    {
     "data": {
      "text/plain": [
       "[<selenium.webdriver.remote.webelement.WebElement (session=\"c1b4df247bf5cac4607ba8d1a45b82a4\", element=\"b048f9d6-47d1-45d8-9db1-830cb6f5320b\")>,\n",
       " <selenium.webdriver.remote.webelement.WebElement (session=\"c1b4df247bf5cac4607ba8d1a45b82a4\", element=\"72a045e6-65ab-4aee-b16f-f8a1ed295254\")>,\n",
       " <selenium.webdriver.remote.webelement.WebElement (session=\"c1b4df247bf5cac4607ba8d1a45b82a4\", element=\"64c3df15-9a20-42e1-8247-742874a2f4b4\")>,\n",
       " <selenium.webdriver.remote.webelement.WebElement (session=\"c1b4df247bf5cac4607ba8d1a45b82a4\", element=\"df4c9be5-94e1-4ddb-80cb-a5821f7f5dd9\")>,\n",
       " <selenium.webdriver.remote.webelement.WebElement (session=\"c1b4df247bf5cac4607ba8d1a45b82a4\", element=\"018a64d1-c05f-4d95-a2aa-12492d94aa86\")>,\n",
       " <selenium.webdriver.remote.webelement.WebElement (session=\"c1b4df247bf5cac4607ba8d1a45b82a4\", element=\"96766e66-c166-47e1-a507-3ee60b185874\")>,\n",
       " <selenium.webdriver.remote.webelement.WebElement (session=\"c1b4df247bf5cac4607ba8d1a45b82a4\", element=\"319a5382-f5a6-48a7-b342-58b720db061d\")>,\n",
       " <selenium.webdriver.remote.webelement.WebElement (session=\"c1b4df247bf5cac4607ba8d1a45b82a4\", element=\"06d93f6c-5484-48ec-b361-afb9034fb950\")>,\n",
       " <selenium.webdriver.remote.webelement.WebElement (session=\"c1b4df247bf5cac4607ba8d1a45b82a4\", element=\"ff9aef38-68fa-4495-bdcb-3174a0974df1\")>,\n",
       " <selenium.webdriver.remote.webelement.WebElement (session=\"c1b4df247bf5cac4607ba8d1a45b82a4\", element=\"03ff6df8-8a8e-4874-9d0a-ce494531d19d\")>]"
      ]
     },
     "execution_count": 8,
     "metadata": {},
     "output_type": "execute_result"
    }
   ],
   "source": [
    "line2=browser.find_elements(\"xpath\",\"//div[@class='_univ-rank ']\")\n",
    "line2"
   ]
  },
  {
   "cell_type": "code",
   "execution_count": 9,
   "id": "111ec9e0",
   "metadata": {},
   "outputs": [
    {
     "data": {
      "text/plain": [
       "['31', '32', '33', '=34', '=34', '36', '37', '38', '39', '40']"
      ]
     },
     "execution_count": 9,
     "metadata": {},
     "output_type": "execute_result"
    }
   ],
   "source": [
    "Rank=[]\n",
    "for data in line2:\n",
    "    #get the text data\n",
    "    temp=data.text\n",
    "    Rank.append(temp)\n",
    "Rank"
   ]
  },
  {
   "cell_type": "code",
   "execution_count": 10,
   "id": "3e9d40cf",
   "metadata": {},
   "outputs": [
    {
     "data": {
      "text/plain": [
       "[<selenium.webdriver.remote.webelement.WebElement (session=\"c1b4df247bf5cac4607ba8d1a45b82a4\", element=\"54616e1b-4f31-446c-b142-9823faa1ea2b\")>,\n",
       " <selenium.webdriver.remote.webelement.WebElement (session=\"c1b4df247bf5cac4607ba8d1a45b82a4\", element=\"3658789e-211b-4897-94cf-dc5ae1ec2292\")>,\n",
       " <selenium.webdriver.remote.webelement.WebElement (session=\"c1b4df247bf5cac4607ba8d1a45b82a4\", element=\"e89da3d9-f51f-483b-ae74-9743f038bc1d\")>,\n",
       " <selenium.webdriver.remote.webelement.WebElement (session=\"c1b4df247bf5cac4607ba8d1a45b82a4\", element=\"8cf03e31-87b1-4df4-8b6b-dc7b4e2edb41\")>,\n",
       " <selenium.webdriver.remote.webelement.WebElement (session=\"c1b4df247bf5cac4607ba8d1a45b82a4\", element=\"ae9166c4-da6a-4eab-859b-b33a9284cae4\")>,\n",
       " <selenium.webdriver.remote.webelement.WebElement (session=\"c1b4df247bf5cac4607ba8d1a45b82a4\", element=\"cbd57297-d33d-4549-8f82-fb4c12cd7818\")>,\n",
       " <selenium.webdriver.remote.webelement.WebElement (session=\"c1b4df247bf5cac4607ba8d1a45b82a4\", element=\"1137e0dc-8569-4f07-862f-b49432ed9801\")>,\n",
       " <selenium.webdriver.remote.webelement.WebElement (session=\"c1b4df247bf5cac4607ba8d1a45b82a4\", element=\"9866631c-d9c0-4ac4-afc3-d6b3ce3c2a9e\")>,\n",
       " <selenium.webdriver.remote.webelement.WebElement (session=\"c1b4df247bf5cac4607ba8d1a45b82a4\", element=\"16ec44ee-9af8-4d23-b408-5d8117c4fd8d\")>]"
      ]
     },
     "execution_count": 10,
     "metadata": {},
     "output_type": "execute_result"
    }
   ],
   "source": [
    "# GET EACH COLLEGE SPECIFICATION HEADERS\n",
    "line3=browser.find_elements(\"xpath\",\"//div[@class='_click-function_ind']\")\n",
    "line3"
   ]
  },
  {
   "cell_type": "code",
   "execution_count": 11,
   "id": "1b3e549e",
   "metadata": {},
   "outputs": [
    {
     "data": {
      "text/plain": [
       "['Overall Score',\n",
       " 'Academic Reputation',\n",
       " 'Employer Reputation',\n",
       " 'Citations per Faculty',\n",
       " 'Faculty Student Ratio',\n",
       " 'International Students Ratio',\n",
       " 'International Faculty Ratio',\n",
       " 'International Research Network\\nUnweighted',\n",
       " 'Employment Outcomes\\nUnweighted']"
      ]
     },
     "execution_count": 11,
     "metadata": {},
     "output_type": "execute_result"
    }
   ],
   "source": [
    "#PARSING DATA\n",
    "column=[]\n",
    "for data in line3:\n",
    "    #get the text data\n",
    "    temp=data.text\n",
    "    column.append(temp)\n",
    "column"
   ]
  },
  {
   "cell_type": "code",
   "execution_count": 12,
   "id": "bc02c843",
   "metadata": {},
   "outputs": [
    {
     "data": {
      "text/plain": [
       "[<selenium.webdriver.remote.webelement.WebElement (session=\"c1b4df247bf5cac4607ba8d1a45b82a4\", element=\"2120f9dc-2a9e-42db-9bc4-5403cbf429fa\")>,\n",
       " <selenium.webdriver.remote.webelement.WebElement (session=\"c1b4df247bf5cac4607ba8d1a45b82a4\", element=\"ebafd1bb-414d-4857-8744-173afe50eafa\")>,\n",
       " <selenium.webdriver.remote.webelement.WebElement (session=\"c1b4df247bf5cac4607ba8d1a45b82a4\", element=\"6011d95f-98fe-432c-8959-d1b9f1927b50\")>,\n",
       " <selenium.webdriver.remote.webelement.WebElement (session=\"c1b4df247bf5cac4607ba8d1a45b82a4\", element=\"551309d6-46cc-418e-bdcd-3435f29d5592\")>,\n",
       " <selenium.webdriver.remote.webelement.WebElement (session=\"c1b4df247bf5cac4607ba8d1a45b82a4\", element=\"f7961ee7-eb0d-489a-b7cd-9284d61d66f4\")>,\n",
       " <selenium.webdriver.remote.webelement.WebElement (session=\"c1b4df247bf5cac4607ba8d1a45b82a4\", element=\"0a957188-c590-4253-abbd-dae44887937e\")>,\n",
       " <selenium.webdriver.remote.webelement.WebElement (session=\"c1b4df247bf5cac4607ba8d1a45b82a4\", element=\"db845d4b-73a0-4a74-b218-2b3f0a1925da\")>,\n",
       " <selenium.webdriver.remote.webelement.WebElement (session=\"c1b4df247bf5cac4607ba8d1a45b82a4\", element=\"61fe7780-6295-452d-8806-f01883d760c4\")>,\n",
       " <selenium.webdriver.remote.webelement.WebElement (session=\"c1b4df247bf5cac4607ba8d1a45b82a4\", element=\"6577f82f-c096-4071-a923-e2a866b0b3b2\")>,\n",
       " <selenium.webdriver.remote.webelement.WebElement (session=\"c1b4df247bf5cac4607ba8d1a45b82a4\", element=\"89f218f7-e49f-4a00-9943-eabe7cf0936c\")>,\n",
       " <selenium.webdriver.remote.webelement.WebElement (session=\"c1b4df247bf5cac4607ba8d1a45b82a4\", element=\"278af10b-6445-46a9-ad12-7af63fe2061d\")>,\n",
       " <selenium.webdriver.remote.webelement.WebElement (session=\"c1b4df247bf5cac4607ba8d1a45b82a4\", element=\"33f4ffa5-1823-460a-adb5-c7385fe8ae9e\")>,\n",
       " <selenium.webdriver.remote.webelement.WebElement (session=\"c1b4df247bf5cac4607ba8d1a45b82a4\", element=\"60b4f1e3-08c1-4e38-9152-e0c8a6721ad2\")>,\n",
       " <selenium.webdriver.remote.webelement.WebElement (session=\"c1b4df247bf5cac4607ba8d1a45b82a4\", element=\"d1402bb2-d1e2-415a-8525-31b90ff0eda9\")>,\n",
       " <selenium.webdriver.remote.webelement.WebElement (session=\"c1b4df247bf5cac4607ba8d1a45b82a4\", element=\"dd5d42fc-7d80-4a4e-aa16-84329886571d\")>,\n",
       " <selenium.webdriver.remote.webelement.WebElement (session=\"c1b4df247bf5cac4607ba8d1a45b82a4\", element=\"84c49000-7ab4-4928-ac9e-dccb49a879eb\")>,\n",
       " <selenium.webdriver.remote.webelement.WebElement (session=\"c1b4df247bf5cac4607ba8d1a45b82a4\", element=\"aa7c9ec4-3d77-490b-aafb-e495596b7845\")>,\n",
       " <selenium.webdriver.remote.webelement.WebElement (session=\"c1b4df247bf5cac4607ba8d1a45b82a4\", element=\"66b71702-6c3d-4cdc-8e95-7fa2fc952a98\")>,\n",
       " <selenium.webdriver.remote.webelement.WebElement (session=\"c1b4df247bf5cac4607ba8d1a45b82a4\", element=\"8c278d81-c90e-4264-a72a-6b021f4193bd\")>,\n",
       " <selenium.webdriver.remote.webelement.WebElement (session=\"c1b4df247bf5cac4607ba8d1a45b82a4\", element=\"c6752a41-599b-4d43-9231-3d726f445c6d\")>,\n",
       " <selenium.webdriver.remote.webelement.WebElement (session=\"c1b4df247bf5cac4607ba8d1a45b82a4\", element=\"293e1333-e9d8-47b4-a130-5b1ebcd6b32a\")>,\n",
       " <selenium.webdriver.remote.webelement.WebElement (session=\"c1b4df247bf5cac4607ba8d1a45b82a4\", element=\"1494ee88-9e8f-4095-be73-af05278e00c9\")>,\n",
       " <selenium.webdriver.remote.webelement.WebElement (session=\"c1b4df247bf5cac4607ba8d1a45b82a4\", element=\"5b58f14e-922b-411d-b287-ad39c5689d20\")>,\n",
       " <selenium.webdriver.remote.webelement.WebElement (session=\"c1b4df247bf5cac4607ba8d1a45b82a4\", element=\"0ff94bf5-82fa-4109-93c1-e98b2a15009d\")>,\n",
       " <selenium.webdriver.remote.webelement.WebElement (session=\"c1b4df247bf5cac4607ba8d1a45b82a4\", element=\"d34320ad-6a7b-4459-9cb3-b29c8e48966e\")>,\n",
       " <selenium.webdriver.remote.webelement.WebElement (session=\"c1b4df247bf5cac4607ba8d1a45b82a4\", element=\"be138e76-1ce7-4323-97ba-4bd4f4846141\")>,\n",
       " <selenium.webdriver.remote.webelement.WebElement (session=\"c1b4df247bf5cac4607ba8d1a45b82a4\", element=\"df5c8eab-27b6-4071-b126-2713762d896b\")>,\n",
       " <selenium.webdriver.remote.webelement.WebElement (session=\"c1b4df247bf5cac4607ba8d1a45b82a4\", element=\"3358a3ab-94f0-424a-8544-5c6feaae2692\")>,\n",
       " <selenium.webdriver.remote.webelement.WebElement (session=\"c1b4df247bf5cac4607ba8d1a45b82a4\", element=\"ec4657c5-3b0f-4493-82dc-539a3f642b17\")>,\n",
       " <selenium.webdriver.remote.webelement.WebElement (session=\"c1b4df247bf5cac4607ba8d1a45b82a4\", element=\"2c0d7f6b-9f89-4697-a466-f0ec87bd727a\")>,\n",
       " <selenium.webdriver.remote.webelement.WebElement (session=\"c1b4df247bf5cac4607ba8d1a45b82a4\", element=\"8722f492-f409-418b-a16e-2ad9bb204c26\")>,\n",
       " <selenium.webdriver.remote.webelement.WebElement (session=\"c1b4df247bf5cac4607ba8d1a45b82a4\", element=\"6213b2f6-8a9b-4889-b54b-f3d78975a4e7\")>,\n",
       " <selenium.webdriver.remote.webelement.WebElement (session=\"c1b4df247bf5cac4607ba8d1a45b82a4\", element=\"310858e9-f6a0-47d8-9f8a-80a03159f8be\")>,\n",
       " <selenium.webdriver.remote.webelement.WebElement (session=\"c1b4df247bf5cac4607ba8d1a45b82a4\", element=\"7633a10d-aaf9-452a-9ddd-2f4b3ca0d61a\")>,\n",
       " <selenium.webdriver.remote.webelement.WebElement (session=\"c1b4df247bf5cac4607ba8d1a45b82a4\", element=\"4b1a53ef-bad5-4b0b-9a15-280f76afaa01\")>,\n",
       " <selenium.webdriver.remote.webelement.WebElement (session=\"c1b4df247bf5cac4607ba8d1a45b82a4\", element=\"7eb01d86-ce49-4c4d-b19e-0ff3925023ae\")>,\n",
       " <selenium.webdriver.remote.webelement.WebElement (session=\"c1b4df247bf5cac4607ba8d1a45b82a4\", element=\"4af7c4df-d76b-4b29-87ef-04dc3072e1a1\")>,\n",
       " <selenium.webdriver.remote.webelement.WebElement (session=\"c1b4df247bf5cac4607ba8d1a45b82a4\", element=\"2abef3c8-9355-4bcd-aec5-50bcc23b1887\")>,\n",
       " <selenium.webdriver.remote.webelement.WebElement (session=\"c1b4df247bf5cac4607ba8d1a45b82a4\", element=\"01ae6133-475d-4d65-9545-962988cbaa0f\")>,\n",
       " <selenium.webdriver.remote.webelement.WebElement (session=\"c1b4df247bf5cac4607ba8d1a45b82a4\", element=\"f89f4a00-19d8-4361-9fd5-109fc5ae2b96\")>,\n",
       " <selenium.webdriver.remote.webelement.WebElement (session=\"c1b4df247bf5cac4607ba8d1a45b82a4\", element=\"0326dadd-a24e-406c-90d1-c93be3e4a9a4\")>,\n",
       " <selenium.webdriver.remote.webelement.WebElement (session=\"c1b4df247bf5cac4607ba8d1a45b82a4\", element=\"a3b2c7ef-dc83-4bd5-99fa-daa91d62dca2\")>,\n",
       " <selenium.webdriver.remote.webelement.WebElement (session=\"c1b4df247bf5cac4607ba8d1a45b82a4\", element=\"9a1eaaed-abf7-4e2c-b465-8a761f9b3729\")>,\n",
       " <selenium.webdriver.remote.webelement.WebElement (session=\"c1b4df247bf5cac4607ba8d1a45b82a4\", element=\"072c69f7-8161-42bd-9174-538039b48a21\")>,\n",
       " <selenium.webdriver.remote.webelement.WebElement (session=\"c1b4df247bf5cac4607ba8d1a45b82a4\", element=\"1f749259-a314-4126-941b-a1419661fa2b\")>,\n",
       " <selenium.webdriver.remote.webelement.WebElement (session=\"c1b4df247bf5cac4607ba8d1a45b82a4\", element=\"fd492240-297c-446c-a6fc-f1f08e921a77\")>,\n",
       " <selenium.webdriver.remote.webelement.WebElement (session=\"c1b4df247bf5cac4607ba8d1a45b82a4\", element=\"7586270b-0ae0-425b-b556-0598c238daee\")>,\n",
       " <selenium.webdriver.remote.webelement.WebElement (session=\"c1b4df247bf5cac4607ba8d1a45b82a4\", element=\"dbf56d86-c418-4b30-ac92-42a6b6beb62f\")>,\n",
       " <selenium.webdriver.remote.webelement.WebElement (session=\"c1b4df247bf5cac4607ba8d1a45b82a4\", element=\"bbc79d54-e1ec-4966-b40a-58b9f84de8e4\")>,\n",
       " <selenium.webdriver.remote.webelement.WebElement (session=\"c1b4df247bf5cac4607ba8d1a45b82a4\", element=\"2a7833ef-9de3-4f67-82bd-617119ff7aae\")>,\n",
       " <selenium.webdriver.remote.webelement.WebElement (session=\"c1b4df247bf5cac4607ba8d1a45b82a4\", element=\"25662f52-a9d1-4725-ac1e-ad83f9241e75\")>,\n",
       " <selenium.webdriver.remote.webelement.WebElement (session=\"c1b4df247bf5cac4607ba8d1a45b82a4\", element=\"91d1589d-d12e-47dc-8e8b-4aac1efd3933\")>,\n",
       " <selenium.webdriver.remote.webelement.WebElement (session=\"c1b4df247bf5cac4607ba8d1a45b82a4\", element=\"ef80afde-bb86-4168-8983-190721e6ed31\")>,\n",
       " <selenium.webdriver.remote.webelement.WebElement (session=\"c1b4df247bf5cac4607ba8d1a45b82a4\", element=\"4f244afa-e946-4a2a-8982-e85a4869229b\")>,\n",
       " <selenium.webdriver.remote.webelement.WebElement (session=\"c1b4df247bf5cac4607ba8d1a45b82a4\", element=\"dffd6876-bcf3-4f12-82df-fe1f22c99808\")>,\n",
       " <selenium.webdriver.remote.webelement.WebElement (session=\"c1b4df247bf5cac4607ba8d1a45b82a4\", element=\"d3484962-6d2d-479c-8ffe-10bb6fa0b088\")>,\n",
       " <selenium.webdriver.remote.webelement.WebElement (session=\"c1b4df247bf5cac4607ba8d1a45b82a4\", element=\"82237494-99f3-42a0-a54b-08fcd87ae1ef\")>,\n",
       " <selenium.webdriver.remote.webelement.WebElement (session=\"c1b4df247bf5cac4607ba8d1a45b82a4\", element=\"de48a656-9395-4f75-89c1-e908f20b97df\")>,\n",
       " <selenium.webdriver.remote.webelement.WebElement (session=\"c1b4df247bf5cac4607ba8d1a45b82a4\", element=\"cfdcd072-136e-4a5e-a645-8ed5384e8a06\")>,\n",
       " <selenium.webdriver.remote.webelement.WebElement (session=\"c1b4df247bf5cac4607ba8d1a45b82a4\", element=\"4a30a076-9bd9-4b5d-a357-812ed5682e76\")>,\n",
       " <selenium.webdriver.remote.webelement.WebElement (session=\"c1b4df247bf5cac4607ba8d1a45b82a4\", element=\"64b40874-9e31-4c34-8dd8-c8cbec9cc527\")>,\n",
       " <selenium.webdriver.remote.webelement.WebElement (session=\"c1b4df247bf5cac4607ba8d1a45b82a4\", element=\"e228c676-a7ae-4b9e-b346-67b53ee6f9a3\")>,\n",
       " <selenium.webdriver.remote.webelement.WebElement (session=\"c1b4df247bf5cac4607ba8d1a45b82a4\", element=\"be1e3f44-340f-4f07-9679-2b712898dc16\")>,\n",
       " <selenium.webdriver.remote.webelement.WebElement (session=\"c1b4df247bf5cac4607ba8d1a45b82a4\", element=\"d5a0f015-0d64-4a91-8765-ba4eb8bdd515\")>,\n",
       " <selenium.webdriver.remote.webelement.WebElement (session=\"c1b4df247bf5cac4607ba8d1a45b82a4\", element=\"03eea809-82cd-4b67-994f-06f38d82b974\")>,\n",
       " <selenium.webdriver.remote.webelement.WebElement (session=\"c1b4df247bf5cac4607ba8d1a45b82a4\", element=\"9a828f7d-16c4-4181-85c4-8102784f20d6\")>,\n",
       " <selenium.webdriver.remote.webelement.WebElement (session=\"c1b4df247bf5cac4607ba8d1a45b82a4\", element=\"c1b814b1-f335-45de-9541-19a7d5c4c8b3\")>,\n",
       " <selenium.webdriver.remote.webelement.WebElement (session=\"c1b4df247bf5cac4607ba8d1a45b82a4\", element=\"94c4c690-12cc-4c3a-80c9-a11afb6cc0d4\")>,\n",
       " <selenium.webdriver.remote.webelement.WebElement (session=\"c1b4df247bf5cac4607ba8d1a45b82a4\", element=\"69e54156-288b-4df4-8499-8fe257acf414\")>,\n",
       " <selenium.webdriver.remote.webelement.WebElement (session=\"c1b4df247bf5cac4607ba8d1a45b82a4\", element=\"4ad06cbf-098e-4b73-bed3-56edda1d8a14\")>,\n",
       " <selenium.webdriver.remote.webelement.WebElement (session=\"c1b4df247bf5cac4607ba8d1a45b82a4\", element=\"5f91603d-2909-49de-a047-4ac6438a5a67\")>,\n",
       " <selenium.webdriver.remote.webelement.WebElement (session=\"c1b4df247bf5cac4607ba8d1a45b82a4\", element=\"39a7e691-a8ab-416f-a9c3-eef6339e582d\")>,\n",
       " <selenium.webdriver.remote.webelement.WebElement (session=\"c1b4df247bf5cac4607ba8d1a45b82a4\", element=\"07ea43c5-208f-4f8f-8133-5b08e1c37899\")>,\n",
       " <selenium.webdriver.remote.webelement.WebElement (session=\"c1b4df247bf5cac4607ba8d1a45b82a4\", element=\"fcde8cd2-da34-4f1d-bc85-fed49267c3a5\")>,\n",
       " <selenium.webdriver.remote.webelement.WebElement (session=\"c1b4df247bf5cac4607ba8d1a45b82a4\", element=\"3d7becaa-d903-4bc7-af31-9f0f8595a3cf\")>,\n",
       " <selenium.webdriver.remote.webelement.WebElement (session=\"c1b4df247bf5cac4607ba8d1a45b82a4\", element=\"94f10fa9-a459-4bf7-9a4c-3ab69ddd4f7a\")>,\n",
       " <selenium.webdriver.remote.webelement.WebElement (session=\"c1b4df247bf5cac4607ba8d1a45b82a4\", element=\"f86e426e-8467-4b40-bf53-dad1b25e487e\")>,\n",
       " <selenium.webdriver.remote.webelement.WebElement (session=\"c1b4df247bf5cac4607ba8d1a45b82a4\", element=\"1e989905-1292-4bd6-bce5-26352b37c1bc\")>,\n",
       " <selenium.webdriver.remote.webelement.WebElement (session=\"c1b4df247bf5cac4607ba8d1a45b82a4\", element=\"7cb66e2f-f713-4bd2-8be6-d750a54cd72a\")>,\n",
       " <selenium.webdriver.remote.webelement.WebElement (session=\"c1b4df247bf5cac4607ba8d1a45b82a4\", element=\"704bf417-632d-4bdd-988e-0c24811b0308\")>,\n",
       " <selenium.webdriver.remote.webelement.WebElement (session=\"c1b4df247bf5cac4607ba8d1a45b82a4\", element=\"5e265541-0410-4511-89a5-a9924a60463d\")>,\n",
       " <selenium.webdriver.remote.webelement.WebElement (session=\"c1b4df247bf5cac4607ba8d1a45b82a4\", element=\"3bb43031-bd5c-4abb-949c-7885393e8ca4\")>,\n",
       " <selenium.webdriver.remote.webelement.WebElement (session=\"c1b4df247bf5cac4607ba8d1a45b82a4\", element=\"c25ed976-07a5-4ae9-b82a-4025db1cedad\")>,\n",
       " <selenium.webdriver.remote.webelement.WebElement (session=\"c1b4df247bf5cac4607ba8d1a45b82a4\", element=\"813de870-a115-4669-9d4c-8ebcec7110d0\")>,\n",
       " <selenium.webdriver.remote.webelement.WebElement (session=\"c1b4df247bf5cac4607ba8d1a45b82a4\", element=\"802a5e7a-ee31-4983-9208-10fc6640be8f\")>,\n",
       " <selenium.webdriver.remote.webelement.WebElement (session=\"c1b4df247bf5cac4607ba8d1a45b82a4\", element=\"c0a24192-cc12-4c1c-9bc1-4b5a6303eefb\")>,\n",
       " <selenium.webdriver.remote.webelement.WebElement (session=\"c1b4df247bf5cac4607ba8d1a45b82a4\", element=\"b37baf0c-d872-4252-a049-86b0b47a8313\")>,\n",
       " <selenium.webdriver.remote.webelement.WebElement (session=\"c1b4df247bf5cac4607ba8d1a45b82a4\", element=\"a46652d1-1eb3-4320-bf66-74b6689da39b\")>,\n",
       " <selenium.webdriver.remote.webelement.WebElement (session=\"c1b4df247bf5cac4607ba8d1a45b82a4\", element=\"16812bae-e45e-4c60-bb09-b23c5ae2194a\")>,\n",
       " <selenium.webdriver.remote.webelement.WebElement (session=\"c1b4df247bf5cac4607ba8d1a45b82a4\", element=\"70c0b0ae-f9a5-40ac-9a89-40d25a812c6b\")>,\n",
       " <selenium.webdriver.remote.webelement.WebElement (session=\"c1b4df247bf5cac4607ba8d1a45b82a4\", element=\"e78845ab-85b7-46ef-82b2-1aa8de5a2836\")>,\n",
       " <selenium.webdriver.remote.webelement.WebElement (session=\"c1b4df247bf5cac4607ba8d1a45b82a4\", element=\"7830d8dc-bfb7-4717-b2c3-cf2bae87ac77\")>,\n",
       " <selenium.webdriver.remote.webelement.WebElement (session=\"c1b4df247bf5cac4607ba8d1a45b82a4\", element=\"2a1f4c48-8580-43d1-b828-ca8a4ba144d9\")>,\n",
       " <selenium.webdriver.remote.webelement.WebElement (session=\"c1b4df247bf5cac4607ba8d1a45b82a4\", element=\"032d1a46-2e99-4e33-b4a0-16c825aa9204\")>,\n",
       " <selenium.webdriver.remote.webelement.WebElement (session=\"c1b4df247bf5cac4607ba8d1a45b82a4\", element=\"143e62dc-12b5-44b9-9d2f-bd09a52b1601\")>,\n",
       " <selenium.webdriver.remote.webelement.WebElement (session=\"c1b4df247bf5cac4607ba8d1a45b82a4\", element=\"fddf431b-7490-4fa0-b06b-7c2b1c826f05\")>,\n",
       " <selenium.webdriver.remote.webelement.WebElement (session=\"c1b4df247bf5cac4607ba8d1a45b82a4\", element=\"74f07ff5-7132-4a14-9060-bcff69e8a6a8\")>,\n",
       " <selenium.webdriver.remote.webelement.WebElement (session=\"c1b4df247bf5cac4607ba8d1a45b82a4\", element=\"8debe6bc-abac-42f6-91aa-fea8a12cbf00\")>,\n",
       " <selenium.webdriver.remote.webelement.WebElement (session=\"c1b4df247bf5cac4607ba8d1a45b82a4\", element=\"1d8432d9-d8d1-4fc9-8962-a57f2ebd977b\")>,\n",
       " <selenium.webdriver.remote.webelement.WebElement (session=\"c1b4df247bf5cac4607ba8d1a45b82a4\", element=\"7eb6372d-3779-4e3e-819d-feb12c665099\")>]"
      ]
     },
     "execution_count": 12,
     "metadata": {},
     "output_type": "execute_result"
    }
   ],
   "source": [
    "line4=browser.find_elements(\"xpath\",\"//div[@class='td-wrap-in']\")\n",
    "line4"
   ]
  },
  {
   "cell_type": "code",
   "execution_count": 13,
   "id": "024e2cb9",
   "metadata": {},
   "outputs": [
    {
     "data": {
      "text/plain": [
       "['81.5', '83.6', '93.5', '70.4', '89.3', '38.7', '89.3', '70.6', '65.7']"
      ]
     },
     "execution_count": 13,
     "metadata": {},
     "output_type": "execute_result"
    }
   ],
   "source": [
    "#PARSING DATA\n",
    "value=[]\n",
    "for data in line4:\n",
    "    #get the text data\n",
    "    temp=data.text\n",
    "    value.append(temp)\n",
    "value_h=value[31:40]\n",
    "value_h"
   ]
  },
  {
   "cell_type": "code",
   "execution_count": 14,
   "id": "5b55b733",
   "metadata": {},
   "outputs": [
    {
     "data": {
      "text/plain": [
       "{'Name': 'Fudan University',\n",
       " 'Location': 'Shanghai, China (Mainland)',\n",
       " 'Rank': '=34',\n",
       " 'Overall Score': '81.5',\n",
       " 'Academic Reputation': '83.6',\n",
       " 'Employer Reputation': '93.5',\n",
       " 'Citations per Faculty': '70.4',\n",
       " 'Faculty Student Ratio': '89.3',\n",
       " 'International Students Ratio': '38.7',\n",
       " 'International Faculty Ratio': '89.3',\n",
       " 'International Research Network\\nUnweighted': '70.6',\n",
       " 'Employment Outcomes\\nUnweighted': '65.7'}"
      ]
     },
     "execution_count": 14,
     "metadata": {},
     "output_type": "execute_result"
    }
   ],
   "source": [
    "d={}\n",
    "d['Name']=value[30]\n",
    "d['Location']=address[3]\n",
    "d['Rank']=Rank[3]\n",
    "for i in range(len(column)):\n",
    "    d[column[i]]=value_h[i]\n",
    "d"
   ]
  },
  {
   "cell_type": "code",
   "execution_count": 15,
   "id": "2a618c7e",
   "metadata": {},
   "outputs": [
    {
     "data": {
      "text/plain": [
       "'{\"Name\": \"Fudan University\", \"Location\": \"Shanghai, China (Mainland)\", \"Rank\": \"=34\", \"Overall Score\": \"81.5\", \"Academic Reputation\": \"83.6\", \"Employer Reputation\": \"93.5\", \"Citations per Faculty\": \"70.4\", \"Faculty Student Ratio\": \"89.3\", \"International Students Ratio\": \"38.7\", \"International Faculty Ratio\": \"89.3\", \"International Research Network\\\\nUnweighted\": \"70.6\", \"Employment Outcomes\\\\nUnweighted\": \"65.7\"}'"
      ]
     },
     "execution_count": 15,
     "metadata": {},
     "output_type": "execute_result"
    }
   ],
   "source": [
    "s1=json.dumps(d)\n",
    "s1\n"
   ]
  },
  {
   "cell_type": "code",
   "execution_count": 16,
   "id": "4987b6fe",
   "metadata": {},
   "outputs": [],
   "source": [
    "with open('Fudan University.json','w') as f:\n",
    "    json.dump(d,f)\n"
   ]
  },
  {
   "cell_type": "code",
   "execution_count": null,
   "id": "4b0ba520",
   "metadata": {},
   "outputs": [],
   "source": []
  }
 ],
 "metadata": {
  "kernelspec": {
   "display_name": "Python 3.9.12 ('base')",
   "language": "python",
   "name": "python3"
  },
  "language_info": {
   "codemirror_mode": {
    "name": "ipython",
    "version": 3
   },
   "file_extension": ".py",
   "mimetype": "text/x-python",
   "name": "python",
   "nbconvert_exporter": "python",
   "pygments_lexer": "ipython3",
   "version": "3.9.12"
  },
  "vscode": {
   "interpreter": {
    "hash": "ad2bdc8ecc057115af97d19610ffacc2b4e99fae6737bb82f5d7fb13d2f2c186"
   }
  }
 },
 "nbformat": 4,
 "nbformat_minor": 5
}
