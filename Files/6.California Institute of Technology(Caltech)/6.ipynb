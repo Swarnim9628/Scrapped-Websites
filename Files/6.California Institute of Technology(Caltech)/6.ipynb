{
 "cells": [
  {
   "cell_type": "code",
   "execution_count": 1,
   "id": "9dfb2085",
   "metadata": {},
   "outputs": [],
   "source": [
    "from selenium import webdriver\n",
    "from selenium.webdriver.chrome.service import Service\n",
    "import pandas as pd\n",
    "import json"
   ]
  },
  {
   "cell_type": "code",
   "execution_count": 5,
   "id": "37a2b825",
   "metadata": {},
   "outputs": [],
   "source": [
    "way = Service('C:\\chromedriver.exe')"
   ]
  },
  {
   "cell_type": "code",
   "execution_count": 6,
   "id": "42c60547",
   "metadata": {},
   "outputs": [],
   "source": [
    "\n",
    "# set path for the driver\n",
    "browser = webdriver.Chrome(service = way)"
   ]
  },
  {
   "cell_type": "code",
   "execution_count": 7,
   "id": "81c9477b",
   "metadata": {},
   "outputs": [],
   "source": [
    "url = \"https://www.topuniversities.com/university-rankings/world-university-rankings/2023\""
   ]
  },
  {
   "cell_type": "code",
   "execution_count": 8,
   "id": "48f56566",
   "metadata": {},
   "outputs": [],
   "source": [
    "# open the page url ion chrome\n",
    "browser.get(url)\n"
   ]
  },
  {
   "cell_type": "code",
   "execution_count": 9,
   "id": "e346acf9",
   "metadata": {},
   "outputs": [
    {
     "data": {
      "text/plain": [
       "[<selenium.webdriver.remote.webelement.WebElement (session=\"7bfba716afc48d3a67fe2f7bb9a7267a\", element=\"81227d68-ceef-4b5a-a532-e750c2b270e7\")>,\n",
       " <selenium.webdriver.remote.webelement.WebElement (session=\"7bfba716afc48d3a67fe2f7bb9a7267a\", element=\"f3c782c0-bb6f-452b-bc7e-6ff6494578d2\")>,\n",
       " <selenium.webdriver.remote.webelement.WebElement (session=\"7bfba716afc48d3a67fe2f7bb9a7267a\", element=\"ecbdb7fe-db24-4b8b-a3a6-a6b26c82f0ca\")>,\n",
       " <selenium.webdriver.remote.webelement.WebElement (session=\"7bfba716afc48d3a67fe2f7bb9a7267a\", element=\"faa402ab-252c-4557-90c9-75f0f0bb7a69\")>,\n",
       " <selenium.webdriver.remote.webelement.WebElement (session=\"7bfba716afc48d3a67fe2f7bb9a7267a\", element=\"6f128cbb-e3d6-4ea8-be76-6833f17bda9e\")>,\n",
       " <selenium.webdriver.remote.webelement.WebElement (session=\"7bfba716afc48d3a67fe2f7bb9a7267a\", element=\"e074bd56-d169-4a1d-9fc4-a8a3f4a88f2a\")>,\n",
       " <selenium.webdriver.remote.webelement.WebElement (session=\"7bfba716afc48d3a67fe2f7bb9a7267a\", element=\"c0071aa2-000a-4221-8256-8c4dc9ead492\")>,\n",
       " <selenium.webdriver.remote.webelement.WebElement (session=\"7bfba716afc48d3a67fe2f7bb9a7267a\", element=\"b7f487fe-4c79-4ff6-a827-0112e057c581\")>,\n",
       " <selenium.webdriver.remote.webelement.WebElement (session=\"7bfba716afc48d3a67fe2f7bb9a7267a\", element=\"403c4516-e275-44ab-a562-730536250bb2\")>,\n",
       " <selenium.webdriver.remote.webelement.WebElement (session=\"7bfba716afc48d3a67fe2f7bb9a7267a\", element=\"0a09ab5c-483b-4d2f-8f44-12f33aeaf66a\")>,\n",
       " <selenium.webdriver.remote.webelement.WebElement (session=\"7bfba716afc48d3a67fe2f7bb9a7267a\", element=\"bb7f8b7d-0e99-4ab1-abef-2ef3d0aef60d\")>,\n",
       " <selenium.webdriver.remote.webelement.WebElement (session=\"7bfba716afc48d3a67fe2f7bb9a7267a\", element=\"c74cb387-b1a2-4035-bb17-45c0c511de0a\")>,\n",
       " <selenium.webdriver.remote.webelement.WebElement (session=\"7bfba716afc48d3a67fe2f7bb9a7267a\", element=\"68e94b68-09ed-4aff-9bb4-0c791100c001\")>,\n",
       " <selenium.webdriver.remote.webelement.WebElement (session=\"7bfba716afc48d3a67fe2f7bb9a7267a\", element=\"1a3999d9-763c-4c8e-a0e4-30b10ec25659\")>,\n",
       " <selenium.webdriver.remote.webelement.WebElement (session=\"7bfba716afc48d3a67fe2f7bb9a7267a\", element=\"0b0774ec-ca1e-45d2-95ae-7393a209fd6a\")>,\n",
       " <selenium.webdriver.remote.webelement.WebElement (session=\"7bfba716afc48d3a67fe2f7bb9a7267a\", element=\"0fa96f93-e7e1-4db0-86fe-542b59fc1efb\")>,\n",
       " <selenium.webdriver.remote.webelement.WebElement (session=\"7bfba716afc48d3a67fe2f7bb9a7267a\", element=\"00095e22-1c12-4caa-86cc-31b84dbd4905\")>,\n",
       " <selenium.webdriver.remote.webelement.WebElement (session=\"7bfba716afc48d3a67fe2f7bb9a7267a\", element=\"40b192b4-3ca4-4fcc-b61a-5a1eb76d41d0\")>,\n",
       " <selenium.webdriver.remote.webelement.WebElement (session=\"7bfba716afc48d3a67fe2f7bb9a7267a\", element=\"bc01008b-59a5-4c18-ab1f-dcfdd9e99f98\")>,\n",
       " <selenium.webdriver.remote.webelement.WebElement (session=\"7bfba716afc48d3a67fe2f7bb9a7267a\", element=\"e151631b-51fa-4f19-a390-e6f6bf5388b1\")>]"
      ]
     },
     "execution_count": 9,
     "metadata": {},
     "output_type": "execute_result"
    }
   ],
   "source": [
    "line1=browser.find_elements(\"xpath\",\"//div[@class='location ']\")\n",
    "line1"
   ]
  },
  {
   "cell_type": "code",
   "execution_count": 10,
   "id": "a6f1164b",
   "metadata": {},
   "outputs": [
    {
     "data": {
      "text/plain": [
       "['Cambridge, United States',\n",
       " 'Cambridge, United Kingdom',\n",
       " 'Stanford, United States',\n",
       " 'Oxford, United Kingdom',\n",
       " 'Cambridge, United States',\n",
       " 'Pasadena, United States',\n",
       " 'London, United Kingdom',\n",
       " 'London, United Kingdom',\n",
       " 'Zürich, Switzerland',\n",
       " 'Chicago, United States']"
      ]
     },
     "execution_count": 10,
     "metadata": {},
     "output_type": "execute_result"
    }
   ],
   "source": [
    "address=[]\n",
    "for data in line1:\n",
    "    #get the text data\n",
    "    temp=data.text\n",
    "    address.append(temp)\n",
    "address=address[10:]\n",
    "address"
   ]
  },
  {
   "cell_type": "code",
   "execution_count": 11,
   "id": "e8317398",
   "metadata": {},
   "outputs": [
    {
     "data": {
      "text/plain": [
       "[<selenium.webdriver.remote.webelement.WebElement (session=\"7bfba716afc48d3a67fe2f7bb9a7267a\", element=\"06eb9f19-e33c-47c1-b3bf-efc844cdad75\")>,\n",
       " <selenium.webdriver.remote.webelement.WebElement (session=\"7bfba716afc48d3a67fe2f7bb9a7267a\", element=\"d5a531af-45ea-4149-bcb0-0c8e09a93279\")>,\n",
       " <selenium.webdriver.remote.webelement.WebElement (session=\"7bfba716afc48d3a67fe2f7bb9a7267a\", element=\"a24f6931-bf53-4318-9791-b1b5f8c36513\")>,\n",
       " <selenium.webdriver.remote.webelement.WebElement (session=\"7bfba716afc48d3a67fe2f7bb9a7267a\", element=\"c5b2cb30-ba87-49d6-a0d5-4ef7481cee88\")>,\n",
       " <selenium.webdriver.remote.webelement.WebElement (session=\"7bfba716afc48d3a67fe2f7bb9a7267a\", element=\"8e48a7a2-0925-4b07-8703-359916b1783c\")>,\n",
       " <selenium.webdriver.remote.webelement.WebElement (session=\"7bfba716afc48d3a67fe2f7bb9a7267a\", element=\"0254d74c-56c2-4196-ada5-4ee012e26513\")>,\n",
       " <selenium.webdriver.remote.webelement.WebElement (session=\"7bfba716afc48d3a67fe2f7bb9a7267a\", element=\"858f40c6-e457-40a9-be15-264b115a89f7\")>,\n",
       " <selenium.webdriver.remote.webelement.WebElement (session=\"7bfba716afc48d3a67fe2f7bb9a7267a\", element=\"43cd559f-3b02-45b2-b42b-2ce9f7d7c59e\")>,\n",
       " <selenium.webdriver.remote.webelement.WebElement (session=\"7bfba716afc48d3a67fe2f7bb9a7267a\", element=\"ca93098f-b6d8-4d9e-b55f-0a2063fcbf40\")>,\n",
       " <selenium.webdriver.remote.webelement.WebElement (session=\"7bfba716afc48d3a67fe2f7bb9a7267a\", element=\"b70e69b2-c843-4b82-b695-73bd246f4c29\")>]"
      ]
     },
     "execution_count": 11,
     "metadata": {},
     "output_type": "execute_result"
    }
   ],
   "source": [
    "line2=browser.find_elements(\"xpath\",\"//div[@class='_univ-rank ']\")\n",
    "line2"
   ]
  },
  {
   "cell_type": "code",
   "execution_count": 12,
   "id": "0b6206d1",
   "metadata": {},
   "outputs": [
    {
     "data": {
      "text/plain": [
       "['1', '2', '3', '4', '5', '=6', '=6', '8', '9', '10']"
      ]
     },
     "execution_count": 12,
     "metadata": {},
     "output_type": "execute_result"
    }
   ],
   "source": [
    "Rank=[]\n",
    "for data in line2:\n",
    "    #get the text data\n",
    "    temp=data.text\n",
    "    Rank.append(temp)\n",
    "Rank"
   ]
  },
  {
   "cell_type": "code",
   "execution_count": 13,
   "id": "9a60b9a4",
   "metadata": {},
   "outputs": [
    {
     "data": {
      "text/plain": [
       "[<selenium.webdriver.remote.webelement.WebElement (session=\"7bfba716afc48d3a67fe2f7bb9a7267a\", element=\"eba0c5aa-8ad2-4d99-b4af-09c5341b221a\")>,\n",
       " <selenium.webdriver.remote.webelement.WebElement (session=\"7bfba716afc48d3a67fe2f7bb9a7267a\", element=\"e6dcc156-b29c-4338-b1cf-8a407fc95bcd\")>,\n",
       " <selenium.webdriver.remote.webelement.WebElement (session=\"7bfba716afc48d3a67fe2f7bb9a7267a\", element=\"a538fc3e-347c-46c4-963a-ffbfb278b443\")>,\n",
       " <selenium.webdriver.remote.webelement.WebElement (session=\"7bfba716afc48d3a67fe2f7bb9a7267a\", element=\"acd85dc6-7f0d-46b7-802f-15d9b7ae068e\")>,\n",
       " <selenium.webdriver.remote.webelement.WebElement (session=\"7bfba716afc48d3a67fe2f7bb9a7267a\", element=\"50e78ef1-98d5-4c80-9c4f-17fa81c9bdb7\")>,\n",
       " <selenium.webdriver.remote.webelement.WebElement (session=\"7bfba716afc48d3a67fe2f7bb9a7267a\", element=\"2c94474d-6261-471c-9fcf-e41a659f15a6\")>,\n",
       " <selenium.webdriver.remote.webelement.WebElement (session=\"7bfba716afc48d3a67fe2f7bb9a7267a\", element=\"8cac1c39-78f7-4fb1-acb5-8666e641d23b\")>,\n",
       " <selenium.webdriver.remote.webelement.WebElement (session=\"7bfba716afc48d3a67fe2f7bb9a7267a\", element=\"e25ddb64-6a3b-46b4-8ff5-0568a8a404dc\")>,\n",
       " <selenium.webdriver.remote.webelement.WebElement (session=\"7bfba716afc48d3a67fe2f7bb9a7267a\", element=\"40d0640d-b700-41df-ac2c-3786aef5c8ab\")>]"
      ]
     },
     "execution_count": 13,
     "metadata": {},
     "output_type": "execute_result"
    }
   ],
   "source": [
    "line3=browser.find_elements(\"xpath\",\"//div[@class='_click-function_ind']\")\n",
    "line3"
   ]
  },
  {
   "cell_type": "code",
   "execution_count": 14,
   "id": "c763c58e",
   "metadata": {},
   "outputs": [
    {
     "data": {
      "text/plain": [
       "['Overall Score',\n",
       " 'Academic Reputation',\n",
       " 'Employer Reputation',\n",
       " 'Citations per Faculty',\n",
       " 'Faculty Student Ratio',\n",
       " 'International Students Ratio',\n",
       " 'International Faculty Ratio',\n",
       " 'International Research Network\\nUnweighted',\n",
       " 'Employment Outcomes\\nUnweighted']"
      ]
     },
     "execution_count": 14,
     "metadata": {},
     "output_type": "execute_result"
    }
   ],
   "source": [
    "#PARSING DATA\n",
    "column=[]\n",
    "for data in line3:\n",
    "    #get the text data\n",
    "    temp=data.text\n",
    "    column.append(temp)\n",
    "column"
   ]
  },
  {
   "cell_type": "code",
   "execution_count": 15,
   "id": "7b1b7b48",
   "metadata": {},
   "outputs": [
    {
     "data": {
      "text/plain": [
       "[<selenium.webdriver.remote.webelement.WebElement (session=\"7bfba716afc48d3a67fe2f7bb9a7267a\", element=\"01d4315a-d5d9-4667-8228-51146af04b6b\")>,\n",
       " <selenium.webdriver.remote.webelement.WebElement (session=\"7bfba716afc48d3a67fe2f7bb9a7267a\", element=\"2bddd0f6-5720-4e5a-8f9f-f0e7d82c5258\")>,\n",
       " <selenium.webdriver.remote.webelement.WebElement (session=\"7bfba716afc48d3a67fe2f7bb9a7267a\", element=\"b6afdbf6-63bc-403d-a062-1b1a82c4053a\")>,\n",
       " <selenium.webdriver.remote.webelement.WebElement (session=\"7bfba716afc48d3a67fe2f7bb9a7267a\", element=\"89a2b5ef-ccbd-444f-b16b-ca61c1ca6de6\")>,\n",
       " <selenium.webdriver.remote.webelement.WebElement (session=\"7bfba716afc48d3a67fe2f7bb9a7267a\", element=\"6f268187-1249-472b-99c8-1be12efc3513\")>,\n",
       " <selenium.webdriver.remote.webelement.WebElement (session=\"7bfba716afc48d3a67fe2f7bb9a7267a\", element=\"7215c103-0f41-45e7-9775-1af841b08b1a\")>,\n",
       " <selenium.webdriver.remote.webelement.WebElement (session=\"7bfba716afc48d3a67fe2f7bb9a7267a\", element=\"33047d78-ed40-43d0-8e0c-49a23bd7bac2\")>,\n",
       " <selenium.webdriver.remote.webelement.WebElement (session=\"7bfba716afc48d3a67fe2f7bb9a7267a\", element=\"214df014-bbca-41f4-b1d4-b37c407d41a7\")>,\n",
       " <selenium.webdriver.remote.webelement.WebElement (session=\"7bfba716afc48d3a67fe2f7bb9a7267a\", element=\"822a23e0-d75b-4eaa-ab0d-721f7403a41a\")>,\n",
       " <selenium.webdriver.remote.webelement.WebElement (session=\"7bfba716afc48d3a67fe2f7bb9a7267a\", element=\"adf8ee86-72c6-49e6-bb4e-0a6bb3768c58\")>,\n",
       " <selenium.webdriver.remote.webelement.WebElement (session=\"7bfba716afc48d3a67fe2f7bb9a7267a\", element=\"a68d4601-5a7a-4ffd-a670-4c5dfe441ea0\")>,\n",
       " <selenium.webdriver.remote.webelement.WebElement (session=\"7bfba716afc48d3a67fe2f7bb9a7267a\", element=\"05d79e01-d0f4-4c0a-bea0-c521948e2303\")>,\n",
       " <selenium.webdriver.remote.webelement.WebElement (session=\"7bfba716afc48d3a67fe2f7bb9a7267a\", element=\"83e91011-05e3-4c48-9780-c6192ee7ed8f\")>,\n",
       " <selenium.webdriver.remote.webelement.WebElement (session=\"7bfba716afc48d3a67fe2f7bb9a7267a\", element=\"91189aab-d58f-4b69-b0f5-54e8eeae25a3\")>,\n",
       " <selenium.webdriver.remote.webelement.WebElement (session=\"7bfba716afc48d3a67fe2f7bb9a7267a\", element=\"8901900a-b778-4082-b099-f9e0d689e34a\")>,\n",
       " <selenium.webdriver.remote.webelement.WebElement (session=\"7bfba716afc48d3a67fe2f7bb9a7267a\", element=\"c72960aa-518a-4090-a7ba-4310fb6eb4a0\")>,\n",
       " <selenium.webdriver.remote.webelement.WebElement (session=\"7bfba716afc48d3a67fe2f7bb9a7267a\", element=\"cc4bc015-cdf8-4062-96ad-d9288f212286\")>,\n",
       " <selenium.webdriver.remote.webelement.WebElement (session=\"7bfba716afc48d3a67fe2f7bb9a7267a\", element=\"385f995f-9149-47cb-a145-9187245b9609\")>,\n",
       " <selenium.webdriver.remote.webelement.WebElement (session=\"7bfba716afc48d3a67fe2f7bb9a7267a\", element=\"16569c88-84d4-456a-a781-edc3ab0cba8c\")>,\n",
       " <selenium.webdriver.remote.webelement.WebElement (session=\"7bfba716afc48d3a67fe2f7bb9a7267a\", element=\"b69f8f3b-31b0-4f7d-9e45-d99a3a1fd9c1\")>,\n",
       " <selenium.webdriver.remote.webelement.WebElement (session=\"7bfba716afc48d3a67fe2f7bb9a7267a\", element=\"3f63368e-b81a-4568-a6b3-fbe7c2149dab\")>,\n",
       " <selenium.webdriver.remote.webelement.WebElement (session=\"7bfba716afc48d3a67fe2f7bb9a7267a\", element=\"a36f6bb9-8b6f-49ef-ab5b-75e240a2670d\")>,\n",
       " <selenium.webdriver.remote.webelement.WebElement (session=\"7bfba716afc48d3a67fe2f7bb9a7267a\", element=\"c5221324-bf12-4ba9-8bdc-98d525d2e5a9\")>,\n",
       " <selenium.webdriver.remote.webelement.WebElement (session=\"7bfba716afc48d3a67fe2f7bb9a7267a\", element=\"91679b79-709f-4d3f-b698-8e1cd56a2b48\")>,\n",
       " <selenium.webdriver.remote.webelement.WebElement (session=\"7bfba716afc48d3a67fe2f7bb9a7267a\", element=\"c89cd109-d6d7-4b51-a76e-71b9ab6440bf\")>,\n",
       " <selenium.webdriver.remote.webelement.WebElement (session=\"7bfba716afc48d3a67fe2f7bb9a7267a\", element=\"7e604680-3bb0-434a-829c-8b0369929a02\")>,\n",
       " <selenium.webdriver.remote.webelement.WebElement (session=\"7bfba716afc48d3a67fe2f7bb9a7267a\", element=\"aef22f01-0698-4d6e-b3a8-c05e6a6016ca\")>,\n",
       " <selenium.webdriver.remote.webelement.WebElement (session=\"7bfba716afc48d3a67fe2f7bb9a7267a\", element=\"1759f745-947a-477a-b808-9f042880a57b\")>,\n",
       " <selenium.webdriver.remote.webelement.WebElement (session=\"7bfba716afc48d3a67fe2f7bb9a7267a\", element=\"35d2233f-5494-4015-ab80-d12703688a10\")>,\n",
       " <selenium.webdriver.remote.webelement.WebElement (session=\"7bfba716afc48d3a67fe2f7bb9a7267a\", element=\"b6491b2a-2dd9-4589-9c70-6137dec8a8d0\")>,\n",
       " <selenium.webdriver.remote.webelement.WebElement (session=\"7bfba716afc48d3a67fe2f7bb9a7267a\", element=\"e7e70df4-5f6f-4a14-be72-d6aa80a008af\")>,\n",
       " <selenium.webdriver.remote.webelement.WebElement (session=\"7bfba716afc48d3a67fe2f7bb9a7267a\", element=\"a7d2ec2f-6377-409a-8b01-be56f881f3d7\")>,\n",
       " <selenium.webdriver.remote.webelement.WebElement (session=\"7bfba716afc48d3a67fe2f7bb9a7267a\", element=\"d4e545da-c7e2-4fbf-999c-403c402b13b3\")>,\n",
       " <selenium.webdriver.remote.webelement.WebElement (session=\"7bfba716afc48d3a67fe2f7bb9a7267a\", element=\"164033dc-5795-4caf-ad1d-254e4ab0a52a\")>,\n",
       " <selenium.webdriver.remote.webelement.WebElement (session=\"7bfba716afc48d3a67fe2f7bb9a7267a\", element=\"0e31b93e-9ccc-4abb-a9a3-1827436ae314\")>,\n",
       " <selenium.webdriver.remote.webelement.WebElement (session=\"7bfba716afc48d3a67fe2f7bb9a7267a\", element=\"b0b50358-e4e9-4c85-9335-d6c302e3e8ad\")>,\n",
       " <selenium.webdriver.remote.webelement.WebElement (session=\"7bfba716afc48d3a67fe2f7bb9a7267a\", element=\"63b437e9-b74f-40f2-919c-3ccc75dd4955\")>,\n",
       " <selenium.webdriver.remote.webelement.WebElement (session=\"7bfba716afc48d3a67fe2f7bb9a7267a\", element=\"f3417632-def0-446f-bf87-d2ec375c4811\")>,\n",
       " <selenium.webdriver.remote.webelement.WebElement (session=\"7bfba716afc48d3a67fe2f7bb9a7267a\", element=\"cd947cd9-a3e8-44b1-a5eb-fd7be1f5ae1b\")>,\n",
       " <selenium.webdriver.remote.webelement.WebElement (session=\"7bfba716afc48d3a67fe2f7bb9a7267a\", element=\"3edef2d9-50a6-4084-addc-13060b664258\")>,\n",
       " <selenium.webdriver.remote.webelement.WebElement (session=\"7bfba716afc48d3a67fe2f7bb9a7267a\", element=\"bd3663bf-6917-42a9-8a5d-6047d64d7cd2\")>,\n",
       " <selenium.webdriver.remote.webelement.WebElement (session=\"7bfba716afc48d3a67fe2f7bb9a7267a\", element=\"a3810ec1-26a4-4728-858a-11e67c92e77b\")>,\n",
       " <selenium.webdriver.remote.webelement.WebElement (session=\"7bfba716afc48d3a67fe2f7bb9a7267a\", element=\"e8d8999e-6cf3-45d9-af85-0785670e0759\")>,\n",
       " <selenium.webdriver.remote.webelement.WebElement (session=\"7bfba716afc48d3a67fe2f7bb9a7267a\", element=\"fe45d579-cfab-46a5-a999-a5ad096b3ffc\")>,\n",
       " <selenium.webdriver.remote.webelement.WebElement (session=\"7bfba716afc48d3a67fe2f7bb9a7267a\", element=\"c96a4f9f-7a37-4429-867a-9f0cc11f8eeb\")>,\n",
       " <selenium.webdriver.remote.webelement.WebElement (session=\"7bfba716afc48d3a67fe2f7bb9a7267a\", element=\"782e95e3-c4e3-4128-8d0d-9a8b481c99cb\")>,\n",
       " <selenium.webdriver.remote.webelement.WebElement (session=\"7bfba716afc48d3a67fe2f7bb9a7267a\", element=\"2421bfa6-7aa4-4ea5-8fb9-bfc25b4a3c0f\")>,\n",
       " <selenium.webdriver.remote.webelement.WebElement (session=\"7bfba716afc48d3a67fe2f7bb9a7267a\", element=\"8f37f7a6-bfe6-47d0-bab4-5f1643d1bfd0\")>,\n",
       " <selenium.webdriver.remote.webelement.WebElement (session=\"7bfba716afc48d3a67fe2f7bb9a7267a\", element=\"02017eaa-ceab-4132-ade4-d6986de77d5b\")>,\n",
       " <selenium.webdriver.remote.webelement.WebElement (session=\"7bfba716afc48d3a67fe2f7bb9a7267a\", element=\"3b29e6de-602c-4acd-8494-c88574a9b20a\")>,\n",
       " <selenium.webdriver.remote.webelement.WebElement (session=\"7bfba716afc48d3a67fe2f7bb9a7267a\", element=\"a288edf5-17e0-4fa6-9c4d-23453afa787a\")>,\n",
       " <selenium.webdriver.remote.webelement.WebElement (session=\"7bfba716afc48d3a67fe2f7bb9a7267a\", element=\"cc885540-8d51-48de-9801-7184c0c22258\")>,\n",
       " <selenium.webdriver.remote.webelement.WebElement (session=\"7bfba716afc48d3a67fe2f7bb9a7267a\", element=\"60948946-454d-42b1-a793-a5b0a820ca6f\")>,\n",
       " <selenium.webdriver.remote.webelement.WebElement (session=\"7bfba716afc48d3a67fe2f7bb9a7267a\", element=\"dd9d008f-4e98-49cd-86f8-8315e4a1c99d\")>,\n",
       " <selenium.webdriver.remote.webelement.WebElement (session=\"7bfba716afc48d3a67fe2f7bb9a7267a\", element=\"91c574a6-b2b0-4422-9faa-c395937b0585\")>,\n",
       " <selenium.webdriver.remote.webelement.WebElement (session=\"7bfba716afc48d3a67fe2f7bb9a7267a\", element=\"750bcecb-2960-4463-a929-275737ded3ca\")>,\n",
       " <selenium.webdriver.remote.webelement.WebElement (session=\"7bfba716afc48d3a67fe2f7bb9a7267a\", element=\"47ac90ac-34d5-4e75-8168-3482a8bd60cb\")>,\n",
       " <selenium.webdriver.remote.webelement.WebElement (session=\"7bfba716afc48d3a67fe2f7bb9a7267a\", element=\"f7bc07c9-4437-420c-aa12-3318ca5a9bb3\")>,\n",
       " <selenium.webdriver.remote.webelement.WebElement (session=\"7bfba716afc48d3a67fe2f7bb9a7267a\", element=\"9d17eef7-50d1-4a76-9577-854a4fee2d8c\")>,\n",
       " <selenium.webdriver.remote.webelement.WebElement (session=\"7bfba716afc48d3a67fe2f7bb9a7267a\", element=\"10c021f2-cbb9-41eb-bf2d-787faf674473\")>,\n",
       " <selenium.webdriver.remote.webelement.WebElement (session=\"7bfba716afc48d3a67fe2f7bb9a7267a\", element=\"70ed3888-4854-42f8-94e8-814249bc2c19\")>,\n",
       " <selenium.webdriver.remote.webelement.WebElement (session=\"7bfba716afc48d3a67fe2f7bb9a7267a\", element=\"8db0ae83-b38c-4a07-9f26-e19cdd2540ad\")>,\n",
       " <selenium.webdriver.remote.webelement.WebElement (session=\"7bfba716afc48d3a67fe2f7bb9a7267a\", element=\"2de30d24-ed34-45eb-bd9a-d806377b7bed\")>,\n",
       " <selenium.webdriver.remote.webelement.WebElement (session=\"7bfba716afc48d3a67fe2f7bb9a7267a\", element=\"7c648265-e666-415b-9ec9-b1b1106c2f3e\")>,\n",
       " <selenium.webdriver.remote.webelement.WebElement (session=\"7bfba716afc48d3a67fe2f7bb9a7267a\", element=\"19923630-5704-4896-8989-794fc8e8318c\")>,\n",
       " <selenium.webdriver.remote.webelement.WebElement (session=\"7bfba716afc48d3a67fe2f7bb9a7267a\", element=\"9bcbfeb6-e9c6-47bd-9207-046793cdd459\")>,\n",
       " <selenium.webdriver.remote.webelement.WebElement (session=\"7bfba716afc48d3a67fe2f7bb9a7267a\", element=\"d862de64-3b6a-4b8a-87ba-9509a76515c4\")>,\n",
       " <selenium.webdriver.remote.webelement.WebElement (session=\"7bfba716afc48d3a67fe2f7bb9a7267a\", element=\"b2754b11-ca3e-48bc-aff5-6791e4abe567\")>,\n",
       " <selenium.webdriver.remote.webelement.WebElement (session=\"7bfba716afc48d3a67fe2f7bb9a7267a\", element=\"fa94e590-1a45-4c26-a019-89b75c3acfbc\")>,\n",
       " <selenium.webdriver.remote.webelement.WebElement (session=\"7bfba716afc48d3a67fe2f7bb9a7267a\", element=\"db964692-4e0b-4f54-93f2-ebc4eab3dc30\")>,\n",
       " <selenium.webdriver.remote.webelement.WebElement (session=\"7bfba716afc48d3a67fe2f7bb9a7267a\", element=\"f6881309-51b2-498b-99b9-7852e77dafc6\")>,\n",
       " <selenium.webdriver.remote.webelement.WebElement (session=\"7bfba716afc48d3a67fe2f7bb9a7267a\", element=\"06a2e013-d1a0-418f-9fa6-a579062695be\")>,\n",
       " <selenium.webdriver.remote.webelement.WebElement (session=\"7bfba716afc48d3a67fe2f7bb9a7267a\", element=\"be18c014-a887-42e4-bd10-fd0e15799474\")>,\n",
       " <selenium.webdriver.remote.webelement.WebElement (session=\"7bfba716afc48d3a67fe2f7bb9a7267a\", element=\"fabe04cf-c4b2-4f4d-b326-b0b7772a3664\")>,\n",
       " <selenium.webdriver.remote.webelement.WebElement (session=\"7bfba716afc48d3a67fe2f7bb9a7267a\", element=\"2d761704-fbb6-48a3-b0f1-126b45c6303b\")>,\n",
       " <selenium.webdriver.remote.webelement.WebElement (session=\"7bfba716afc48d3a67fe2f7bb9a7267a\", element=\"cfe93ff3-a044-48a9-b696-e996297d2d85\")>,\n",
       " <selenium.webdriver.remote.webelement.WebElement (session=\"7bfba716afc48d3a67fe2f7bb9a7267a\", element=\"7716bc5f-a060-494d-9201-530f92c66552\")>,\n",
       " <selenium.webdriver.remote.webelement.WebElement (session=\"7bfba716afc48d3a67fe2f7bb9a7267a\", element=\"6abb928d-121a-4c56-a720-2846f96bff82\")>,\n",
       " <selenium.webdriver.remote.webelement.WebElement (session=\"7bfba716afc48d3a67fe2f7bb9a7267a\", element=\"e00a2e6e-919b-4623-82ed-23b8b585ce16\")>,\n",
       " <selenium.webdriver.remote.webelement.WebElement (session=\"7bfba716afc48d3a67fe2f7bb9a7267a\", element=\"36b0646d-3ba7-47c0-af2c-845ee4cc4194\")>,\n",
       " <selenium.webdriver.remote.webelement.WebElement (session=\"7bfba716afc48d3a67fe2f7bb9a7267a\", element=\"9cf64699-e1c1-452c-8b77-a03570e587c7\")>,\n",
       " <selenium.webdriver.remote.webelement.WebElement (session=\"7bfba716afc48d3a67fe2f7bb9a7267a\", element=\"a19a265b-a78f-4d58-92ab-c6e694fd47e2\")>,\n",
       " <selenium.webdriver.remote.webelement.WebElement (session=\"7bfba716afc48d3a67fe2f7bb9a7267a\", element=\"58d4f0da-fcc0-45f3-9e06-55fd678ff30a\")>,\n",
       " <selenium.webdriver.remote.webelement.WebElement (session=\"7bfba716afc48d3a67fe2f7bb9a7267a\", element=\"40ee7955-e1d4-44fc-8660-bccfd4d3df58\")>,\n",
       " <selenium.webdriver.remote.webelement.WebElement (session=\"7bfba716afc48d3a67fe2f7bb9a7267a\", element=\"29f1025c-f374-4394-b1fb-5977ab7f9a0d\")>,\n",
       " <selenium.webdriver.remote.webelement.WebElement (session=\"7bfba716afc48d3a67fe2f7bb9a7267a\", element=\"7ff63054-0493-45d4-a0dc-1a88c52713b7\")>,\n",
       " <selenium.webdriver.remote.webelement.WebElement (session=\"7bfba716afc48d3a67fe2f7bb9a7267a\", element=\"0396dbf2-6fc9-45a2-b457-ec0c5c972bcd\")>,\n",
       " <selenium.webdriver.remote.webelement.WebElement (session=\"7bfba716afc48d3a67fe2f7bb9a7267a\", element=\"19d3b06c-7caf-460b-97da-e48f66263e8b\")>,\n",
       " <selenium.webdriver.remote.webelement.WebElement (session=\"7bfba716afc48d3a67fe2f7bb9a7267a\", element=\"3aa03169-be49-486c-9399-ff4a58459199\")>,\n",
       " <selenium.webdriver.remote.webelement.WebElement (session=\"7bfba716afc48d3a67fe2f7bb9a7267a\", element=\"fb679471-1b67-436c-be57-43ef91e61ded\")>,\n",
       " <selenium.webdriver.remote.webelement.WebElement (session=\"7bfba716afc48d3a67fe2f7bb9a7267a\", element=\"d96b57e6-2d48-4ec9-802d-7f45b2057070\")>,\n",
       " <selenium.webdriver.remote.webelement.WebElement (session=\"7bfba716afc48d3a67fe2f7bb9a7267a\", element=\"89ab1738-924d-43fb-b90d-7b2db5e40c24\")>,\n",
       " <selenium.webdriver.remote.webelement.WebElement (session=\"7bfba716afc48d3a67fe2f7bb9a7267a\", element=\"f5e53445-5526-4583-af27-a39f0da82a27\")>,\n",
       " <selenium.webdriver.remote.webelement.WebElement (session=\"7bfba716afc48d3a67fe2f7bb9a7267a\", element=\"b9e1554d-d492-4989-bcb7-98a23085c76c\")>,\n",
       " <selenium.webdriver.remote.webelement.WebElement (session=\"7bfba716afc48d3a67fe2f7bb9a7267a\", element=\"46e0e586-d6a5-44dc-b6c8-b2971f13ea17\")>,\n",
       " <selenium.webdriver.remote.webelement.WebElement (session=\"7bfba716afc48d3a67fe2f7bb9a7267a\", element=\"eb2b5e81-c809-460c-afee-3edd6c875e43\")>,\n",
       " <selenium.webdriver.remote.webelement.WebElement (session=\"7bfba716afc48d3a67fe2f7bb9a7267a\", element=\"ddc697a1-5fff-491f-bc09-a29bc31c6dee\")>,\n",
       " <selenium.webdriver.remote.webelement.WebElement (session=\"7bfba716afc48d3a67fe2f7bb9a7267a\", element=\"0dd22869-bf15-4f63-8914-611be14714a9\")>,\n",
       " <selenium.webdriver.remote.webelement.WebElement (session=\"7bfba716afc48d3a67fe2f7bb9a7267a\", element=\"79049b0a-b5b8-492e-bd85-ce2b15d81a0c\")>,\n",
       " <selenium.webdriver.remote.webelement.WebElement (session=\"7bfba716afc48d3a67fe2f7bb9a7267a\", element=\"a4c7a680-59dc-4593-b312-9b68c68a218e\")>]"
      ]
     },
     "execution_count": 15,
     "metadata": {},
     "output_type": "execute_result"
    }
   ],
   "source": [
    "line4=browser.find_elements(\"xpath\",\"//div[@class='td-wrap-in']\")\n",
    "line4"
   ]
  },
  {
   "cell_type": "code",
   "execution_count": 17,
   "id": "4c37c7c2",
   "metadata": {},
   "outputs": [
    {
     "data": {
      "text/plain": [
       "['97', '96.5', '87.1', '100', '100', '85.1', '99.8', '73', '98.8']"
      ]
     },
     "execution_count": 17,
     "metadata": {},
     "output_type": "execute_result"
    }
   ],
   "source": [
    "\n",
    "#PARSING DATA\n",
    "value=[]\n",
    "for data in line4:\n",
    "    #get the text data\n",
    "    temp=data.text\n",
    "    value.append(temp)\n",
    "value_h=value[51:60]\n",
    "value_h"
   ]
  },
  {
   "cell_type": "code",
   "execution_count": 18,
   "id": "e413f98c",
   "metadata": {},
   "outputs": [
    {
     "data": {
      "text/plain": [
       "{'Name': 'California Institute of Technology (Caltech)',\n",
       " 'Location': 'Pasadena, United States',\n",
       " 'Rank': '=6',\n",
       " 'Overall Score': '97',\n",
       " 'Academic Reputation': '96.5',\n",
       " 'Employer Reputation': '87.1',\n",
       " 'Citations per Faculty': '100',\n",
       " 'Faculty Student Ratio': '100',\n",
       " 'International Students Ratio': '85.1',\n",
       " 'International Faculty Ratio': '99.8',\n",
       " 'International Research Network\\nUnweighted': '73',\n",
       " 'Employment Outcomes\\nUnweighted': '98.8'}"
      ]
     },
     "execution_count": 18,
     "metadata": {},
     "output_type": "execute_result"
    }
   ],
   "source": [
    "d={}\n",
    "d['Name']=value[50]\n",
    "d['Location']=address[5]\n",
    "d['Rank']=Rank[5]\n",
    "for i in range(len(column)):\n",
    "    d[column[i]]=value_h[i]\n",
    "d"
   ]
  },
  {
   "cell_type": "code",
   "execution_count": 19,
   "id": "cca0ecc0",
   "metadata": {},
   "outputs": [
    {
     "data": {
      "text/plain": [
       "'{\"Name\": \"California Institute of Technology (Caltech)\", \"Location\": \"Pasadena, United States\", \"Rank\": \"=6\", \"Overall Score\": \"97\", \"Academic Reputation\": \"96.5\", \"Employer Reputation\": \"87.1\", \"Citations per Faculty\": \"100\", \"Faculty Student Ratio\": \"100\", \"International Students Ratio\": \"85.1\", \"International Faculty Ratio\": \"99.8\", \"International Research Network\\\\nUnweighted\": \"73\", \"Employment Outcomes\\\\nUnweighted\": \"98.8\"}'"
      ]
     },
     "execution_count": 19,
     "metadata": {},
     "output_type": "execute_result"
    }
   ],
   "source": [
    "s1=json.dumps(d)\n",
    "s1\n"
   ]
  },
  {
   "cell_type": "code",
   "execution_count": 20,
   "id": "f212eb1d",
   "metadata": {},
   "outputs": [],
   "source": [
    "with open('California Institute of Technology.json','w') as f:\n",
    "    json.dump(d,f)\n"
   ]
  },
  {
   "cell_type": "code",
   "execution_count": null,
   "id": "214801a9",
   "metadata": {},
   "outputs": [],
   "source": []
  }
 ],
 "metadata": {
  "kernelspec": {
   "display_name": "Python 3.9.12 ('base')",
   "language": "python",
   "name": "python3"
  },
  "language_info": {
   "codemirror_mode": {
    "name": "ipython",
    "version": 3
   },
   "file_extension": ".py",
   "mimetype": "text/x-python",
   "name": "python",
   "nbconvert_exporter": "python",
   "pygments_lexer": "ipython3",
   "version": "3.9.12"
  },
  "vscode": {
   "interpreter": {
    "hash": "ad2bdc8ecc057115af97d19610ffacc2b4e99fae6737bb82f5d7fb13d2f2c186"
   }
  }
 },
 "nbformat": 4,
 "nbformat_minor": 5
}
