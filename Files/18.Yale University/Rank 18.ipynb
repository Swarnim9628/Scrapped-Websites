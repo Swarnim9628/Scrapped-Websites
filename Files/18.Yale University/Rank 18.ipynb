{
 "cells": [
  {
   "cell_type": "code",
   "execution_count": 1,
   "id": "6a067a10",
   "metadata": {},
   "outputs": [],
   "source": [
    "from selenium import webdriver\n",
    "from selenium.webdriver.chrome.service import Service\n",
    "import pandas as pd\n",
    "import json"
   ]
  },
  {
   "cell_type": "code",
   "execution_count": 2,
   "id": "9dba5d52",
   "metadata": {},
   "outputs": [],
   "source": [
    "path = Service('C:\\chromedriver.exe')\n"
   ]
  },
  {
   "cell_type": "code",
   "execution_count": 3,
   "id": "31d50a42",
   "metadata": {},
   "outputs": [],
   "source": [
    "# set path for the driver\n",
    "browser = webdriver.Chrome(service = path)"
   ]
  },
  {
   "cell_type": "code",
   "execution_count": 4,
   "id": "12a84afa",
   "metadata": {},
   "outputs": [],
   "source": [
    "url = \"https://www.topuniversities.com/university-rankings/world-university-rankings/2023\""
   ]
  },
  {
   "cell_type": "code",
   "execution_count": 5,
   "id": "75e371c3",
   "metadata": {},
   "outputs": [],
   "source": [
    "# open the page url ion chrome\n",
    "browser.get(url)"
   ]
  },
  {
   "cell_type": "code",
   "execution_count": 10,
   "id": "d0a242a3",
   "metadata": {},
   "outputs": [
    {
     "data": {
      "text/plain": [
       "[<selenium.webdriver.remote.webelement.WebElement (session=\"b882625c19332409f6eae40243137d42\", element=\"d5575749-4323-4f4c-9c73-e239d4274ab2\")>,\n",
       " <selenium.webdriver.remote.webelement.WebElement (session=\"b882625c19332409f6eae40243137d42\", element=\"3fdd3770-1e01-4e48-96cd-4422fd1805f8\")>,\n",
       " <selenium.webdriver.remote.webelement.WebElement (session=\"b882625c19332409f6eae40243137d42\", element=\"48c218a1-8313-416c-96d6-a0b45221bdda\")>,\n",
       " <selenium.webdriver.remote.webelement.WebElement (session=\"b882625c19332409f6eae40243137d42\", element=\"a671a1a4-95f0-43ae-9fc3-e511591965d3\")>,\n",
       " <selenium.webdriver.remote.webelement.WebElement (session=\"b882625c19332409f6eae40243137d42\", element=\"13c93eea-2a91-461f-b568-ac22e6dc903d\")>,\n",
       " <selenium.webdriver.remote.webelement.WebElement (session=\"b882625c19332409f6eae40243137d42\", element=\"6cc70a9a-71fd-4daf-aa77-39457545a0ee\")>,\n",
       " <selenium.webdriver.remote.webelement.WebElement (session=\"b882625c19332409f6eae40243137d42\", element=\"65ad46cf-b7c0-4b89-a580-ca5c073f7dd1\")>,\n",
       " <selenium.webdriver.remote.webelement.WebElement (session=\"b882625c19332409f6eae40243137d42\", element=\"03b5af94-f717-4ea2-8dde-4f89cc51ad23\")>,\n",
       " <selenium.webdriver.remote.webelement.WebElement (session=\"b882625c19332409f6eae40243137d42\", element=\"1a47b290-d16c-457b-b356-921edd8b2560\")>,\n",
       " <selenium.webdriver.remote.webelement.WebElement (session=\"b882625c19332409f6eae40243137d42\", element=\"f14e0d33-b288-4b1e-8329-6634248ababe\")>,\n",
       " <selenium.webdriver.remote.webelement.WebElement (session=\"b882625c19332409f6eae40243137d42\", element=\"7657384c-3c6a-4563-b162-96c8cf358c12\")>,\n",
       " <selenium.webdriver.remote.webelement.WebElement (session=\"b882625c19332409f6eae40243137d42\", element=\"8571d220-c578-487b-883a-b2144de84cbc\")>,\n",
       " <selenium.webdriver.remote.webelement.WebElement (session=\"b882625c19332409f6eae40243137d42\", element=\"dab18dde-d622-411e-af00-a525901516a5\")>,\n",
       " <selenium.webdriver.remote.webelement.WebElement (session=\"b882625c19332409f6eae40243137d42\", element=\"0dfa0887-91d3-4cea-b7f9-5fbf39dfa396\")>,\n",
       " <selenium.webdriver.remote.webelement.WebElement (session=\"b882625c19332409f6eae40243137d42\", element=\"6dba3127-f723-40a7-8e49-d5df529478a7\")>,\n",
       " <selenium.webdriver.remote.webelement.WebElement (session=\"b882625c19332409f6eae40243137d42\", element=\"f18ea44c-2d0e-4999-9627-862d1608b720\")>,\n",
       " <selenium.webdriver.remote.webelement.WebElement (session=\"b882625c19332409f6eae40243137d42\", element=\"d335c32d-043e-42ee-93fc-53aa22e35252\")>,\n",
       " <selenium.webdriver.remote.webelement.WebElement (session=\"b882625c19332409f6eae40243137d42\", element=\"9c742bfb-4da3-4a29-876e-79e54ae5e692\")>,\n",
       " <selenium.webdriver.remote.webelement.WebElement (session=\"b882625c19332409f6eae40243137d42\", element=\"acd4c8a9-e551-4105-9cf0-e0e01af6e439\")>,\n",
       " <selenium.webdriver.remote.webelement.WebElement (session=\"b882625c19332409f6eae40243137d42\", element=\"ace9ddea-4b64-41d6-bf22-ae4a8a4707f1\")>]"
      ]
     },
     "execution_count": 10,
     "metadata": {},
     "output_type": "execute_result"
    }
   ],
   "source": [
    "line1=browser.find_elements(\"xpath\",\"//div[@class='location ']\")\n",
    "line1"
   ]
  },
  {
   "cell_type": "code",
   "execution_count": 11,
   "id": "cba28942",
   "metadata": {},
   "outputs": [
    {
     "data": {
      "text/plain": [
       "['Singapore, Singapore',\n",
       " 'Beijing, China (Mainland)',\n",
       " 'Philadelphia, United States',\n",
       " 'Beijing, China (Mainland)',\n",
       " 'Edinburgh, United Kingdom',\n",
       " 'Lausanne, Switzerland',\n",
       " 'Princeton, United States',\n",
       " 'New Haven, United States',\n",
       " 'Singapore, Singapore',\n",
       " 'Ithaca, United States']"
      ]
     },
     "execution_count": 11,
     "metadata": {},
     "output_type": "execute_result"
    }
   ],
   "source": [
    "address=[]\n",
    "for data in line1:\n",
    "    #get the text data\n",
    "    temp=data.text\n",
    "    address.append(temp)\n",
    "address=address[10:]\n",
    "address"
   ]
  },
  {
   "cell_type": "code",
   "execution_count": 12,
   "id": "4583191d",
   "metadata": {},
   "outputs": [
    {
     "data": {
      "text/plain": [
       "[<selenium.webdriver.remote.webelement.WebElement (session=\"b882625c19332409f6eae40243137d42\", element=\"952a57a8-e0b6-41e6-a5ba-ebb3875152a2\")>,\n",
       " <selenium.webdriver.remote.webelement.WebElement (session=\"b882625c19332409f6eae40243137d42\", element=\"df2883d1-e1e7-4932-9dbe-9fd06724adae\")>,\n",
       " <selenium.webdriver.remote.webelement.WebElement (session=\"b882625c19332409f6eae40243137d42\", element=\"8f35eb53-2533-4eac-a4ca-2b31973e843d\")>,\n",
       " <selenium.webdriver.remote.webelement.WebElement (session=\"b882625c19332409f6eae40243137d42\", element=\"4ddce9c2-7dc9-4a3b-b6b5-6c5dcf026d79\")>,\n",
       " <selenium.webdriver.remote.webelement.WebElement (session=\"b882625c19332409f6eae40243137d42\", element=\"eff4b715-b09b-4ab9-951d-c42bb67fd0b0\")>,\n",
       " <selenium.webdriver.remote.webelement.WebElement (session=\"b882625c19332409f6eae40243137d42\", element=\"f6fb553f-59e6-49c1-884a-cc37fcb46775\")>,\n",
       " <selenium.webdriver.remote.webelement.WebElement (session=\"b882625c19332409f6eae40243137d42\", element=\"95fefe1e-31ff-407f-ad20-b65c3777716e\")>,\n",
       " <selenium.webdriver.remote.webelement.WebElement (session=\"b882625c19332409f6eae40243137d42\", element=\"6e9e07be-8db4-40ad-8bdd-5c30d3137f72\")>,\n",
       " <selenium.webdriver.remote.webelement.WebElement (session=\"b882625c19332409f6eae40243137d42\", element=\"cf334f63-2bc1-4b87-8072-caf1e5dc26c0\")>,\n",
       " <selenium.webdriver.remote.webelement.WebElement (session=\"b882625c19332409f6eae40243137d42\", element=\"214d7228-66da-40de-8de1-970f2626ac53\")>]"
      ]
     },
     "execution_count": 12,
     "metadata": {},
     "output_type": "execute_result"
    }
   ],
   "source": [
    "\n",
    "line2=browser.find_elements(\"xpath\",\"//div[@class='_univ-rank ']\")\n",
    "line2"
   ]
  },
  {
   "cell_type": "code",
   "execution_count": 13,
   "id": "39e7de3b",
   "metadata": {},
   "outputs": [
    {
     "data": {
      "text/plain": [
       "['11', '12', '13', '14', '15', '=16', '=16', '18', '19', '20']"
      ]
     },
     "execution_count": 13,
     "metadata": {},
     "output_type": "execute_result"
    }
   ],
   "source": [
    "Rank=[]\n",
    "for data in line2:\n",
    "    #get the text data\n",
    "    temp=data.text\n",
    "    Rank.append(temp)\n",
    "Rank"
   ]
  },
  {
   "cell_type": "code",
   "execution_count": 14,
   "id": "680592bf",
   "metadata": {},
   "outputs": [
    {
     "data": {
      "text/plain": [
       "[<selenium.webdriver.remote.webelement.WebElement (session=\"b882625c19332409f6eae40243137d42\", element=\"4c63c842-0b4c-450e-afb2-19e0df33b614\")>,\n",
       " <selenium.webdriver.remote.webelement.WebElement (session=\"b882625c19332409f6eae40243137d42\", element=\"4e9a67f1-6424-4810-9a4a-e57feb2213ee\")>,\n",
       " <selenium.webdriver.remote.webelement.WebElement (session=\"b882625c19332409f6eae40243137d42\", element=\"09b3b371-3fc9-403f-868a-084c20ec98ec\")>,\n",
       " <selenium.webdriver.remote.webelement.WebElement (session=\"b882625c19332409f6eae40243137d42\", element=\"d55ddf84-f15a-44c6-b981-5d2664700285\")>,\n",
       " <selenium.webdriver.remote.webelement.WebElement (session=\"b882625c19332409f6eae40243137d42\", element=\"6c48d335-9788-45c9-8e05-bad3a90999b4\")>,\n",
       " <selenium.webdriver.remote.webelement.WebElement (session=\"b882625c19332409f6eae40243137d42\", element=\"737669e2-2be3-4e3d-acd3-6dcb655b3ba2\")>,\n",
       " <selenium.webdriver.remote.webelement.WebElement (session=\"b882625c19332409f6eae40243137d42\", element=\"4a98d414-183e-4e40-8b80-668b9b897e0b\")>,\n",
       " <selenium.webdriver.remote.webelement.WebElement (session=\"b882625c19332409f6eae40243137d42\", element=\"7e828bcc-8399-454a-aed8-b779bf84bf5f\")>,\n",
       " <selenium.webdriver.remote.webelement.WebElement (session=\"b882625c19332409f6eae40243137d42\", element=\"49ff8dca-37cf-4d1a-a2e9-041762658a24\")>]"
      ]
     },
     "execution_count": 14,
     "metadata": {},
     "output_type": "execute_result"
    }
   ],
   "source": [
    "# GET EACH COLLEGE SPECIFICATION HEADERS\n",
    "line3=browser.find_elements(\"xpath\",\"//div[@class='_click-function_ind']\")\n",
    "line3"
   ]
  },
  {
   "cell_type": "code",
   "execution_count": 15,
   "id": "bf8a9888",
   "metadata": {},
   "outputs": [
    {
     "data": {
      "text/plain": [
       "['Overall Score',\n",
       " 'Academic Reputation',\n",
       " 'Employer Reputation',\n",
       " 'Citations per Faculty',\n",
       " 'Faculty Student Ratio',\n",
       " 'International Students Ratio',\n",
       " 'International Faculty Ratio',\n",
       " 'International Research Network\\nUnweighted',\n",
       " 'Employment Outcomes\\nUnweighted']"
      ]
     },
     "execution_count": 15,
     "metadata": {},
     "output_type": "execute_result"
    }
   ],
   "source": [
    "#PARSING DATA\n",
    "column=[]\n",
    "for data in line3:\n",
    "    #get the text data\n",
    "    temp=data.text\n",
    "    column.append(temp)\n",
    "column"
   ]
  },
  {
   "cell_type": "code",
   "execution_count": 16,
   "id": "94dc4182",
   "metadata": {},
   "outputs": [
    {
     "data": {
      "text/plain": [
       "[<selenium.webdriver.remote.webelement.WebElement (session=\"b882625c19332409f6eae40243137d42\", element=\"79c45f12-ffb6-4544-ab40-f9df353b2e6e\")>,\n",
       " <selenium.webdriver.remote.webelement.WebElement (session=\"b882625c19332409f6eae40243137d42\", element=\"733355f4-bd15-457c-812f-3e9b6ee7b7ba\")>,\n",
       " <selenium.webdriver.remote.webelement.WebElement (session=\"b882625c19332409f6eae40243137d42\", element=\"8e3d6a47-2d7f-4fd2-8c06-8fc7fb5fd8f1\")>,\n",
       " <selenium.webdriver.remote.webelement.WebElement (session=\"b882625c19332409f6eae40243137d42\", element=\"7af4ad66-cd5a-43af-af3d-9cb21527155d\")>,\n",
       " <selenium.webdriver.remote.webelement.WebElement (session=\"b882625c19332409f6eae40243137d42\", element=\"c7921481-55e1-4213-865b-59fb6ef43542\")>,\n",
       " <selenium.webdriver.remote.webelement.WebElement (session=\"b882625c19332409f6eae40243137d42\", element=\"ed2f5ba4-a6ed-45f4-8f72-0491dd5ae65d\")>,\n",
       " <selenium.webdriver.remote.webelement.WebElement (session=\"b882625c19332409f6eae40243137d42\", element=\"161721f2-60fe-4692-ab10-28ef72b100dd\")>,\n",
       " <selenium.webdriver.remote.webelement.WebElement (session=\"b882625c19332409f6eae40243137d42\", element=\"1730c430-9d2c-44c7-a320-377e9d4e4b19\")>,\n",
       " <selenium.webdriver.remote.webelement.WebElement (session=\"b882625c19332409f6eae40243137d42\", element=\"f85c2f71-6709-4756-9403-25617a2eb5ee\")>,\n",
       " <selenium.webdriver.remote.webelement.WebElement (session=\"b882625c19332409f6eae40243137d42\", element=\"f890dfbd-ebcc-4139-968c-43678952914f\")>,\n",
       " <selenium.webdriver.remote.webelement.WebElement (session=\"b882625c19332409f6eae40243137d42\", element=\"c950088a-3908-4b14-8fb3-4aaf2ab05250\")>,\n",
       " <selenium.webdriver.remote.webelement.WebElement (session=\"b882625c19332409f6eae40243137d42\", element=\"00b53072-047e-4912-abfc-4a5b37e0a42d\")>,\n",
       " <selenium.webdriver.remote.webelement.WebElement (session=\"b882625c19332409f6eae40243137d42\", element=\"01a8e4a5-74ea-49ae-8d78-3c6de1962a5b\")>,\n",
       " <selenium.webdriver.remote.webelement.WebElement (session=\"b882625c19332409f6eae40243137d42\", element=\"3bdedc8c-676d-4d93-9b52-569f11934695\")>,\n",
       " <selenium.webdriver.remote.webelement.WebElement (session=\"b882625c19332409f6eae40243137d42\", element=\"376e83f2-100a-4941-a442-817117c597fb\")>,\n",
       " <selenium.webdriver.remote.webelement.WebElement (session=\"b882625c19332409f6eae40243137d42\", element=\"65e1d682-bd2f-421c-a726-74701e6263fd\")>,\n",
       " <selenium.webdriver.remote.webelement.WebElement (session=\"b882625c19332409f6eae40243137d42\", element=\"377c2791-e7dc-4307-b05a-72b0ae839d11\")>,\n",
       " <selenium.webdriver.remote.webelement.WebElement (session=\"b882625c19332409f6eae40243137d42\", element=\"8a516bc5-0d22-44a1-a4e3-f324c91812cb\")>,\n",
       " <selenium.webdriver.remote.webelement.WebElement (session=\"b882625c19332409f6eae40243137d42\", element=\"d281c0b5-1923-4b06-b370-1a1dda70ff2d\")>,\n",
       " <selenium.webdriver.remote.webelement.WebElement (session=\"b882625c19332409f6eae40243137d42\", element=\"823ac4f8-c3c8-4e04-8a1f-a937515012fd\")>,\n",
       " <selenium.webdriver.remote.webelement.WebElement (session=\"b882625c19332409f6eae40243137d42\", element=\"a8db7454-f68a-448c-a4f5-3710295a3b5a\")>,\n",
       " <selenium.webdriver.remote.webelement.WebElement (session=\"b882625c19332409f6eae40243137d42\", element=\"0f7a1522-a9b3-46d1-9784-9338548e6649\")>,\n",
       " <selenium.webdriver.remote.webelement.WebElement (session=\"b882625c19332409f6eae40243137d42\", element=\"79066603-d7e5-43c8-acbe-248eaa7a0b97\")>,\n",
       " <selenium.webdriver.remote.webelement.WebElement (session=\"b882625c19332409f6eae40243137d42\", element=\"c6ad93ff-36cc-4b3f-af04-eda331af080e\")>,\n",
       " <selenium.webdriver.remote.webelement.WebElement (session=\"b882625c19332409f6eae40243137d42\", element=\"7744aeb6-ccd4-4c57-84fa-b272f526c4a4\")>,\n",
       " <selenium.webdriver.remote.webelement.WebElement (session=\"b882625c19332409f6eae40243137d42\", element=\"2e62e57f-de2b-4596-9614-f83c947097ee\")>,\n",
       " <selenium.webdriver.remote.webelement.WebElement (session=\"b882625c19332409f6eae40243137d42\", element=\"c2df321d-5dd7-45ab-ba53-58d69a6f60b6\")>,\n",
       " <selenium.webdriver.remote.webelement.WebElement (session=\"b882625c19332409f6eae40243137d42\", element=\"62bf6ead-f84e-46ef-8999-9af96570a052\")>,\n",
       " <selenium.webdriver.remote.webelement.WebElement (session=\"b882625c19332409f6eae40243137d42\", element=\"4aa32914-200a-4b25-8876-3aec8c456110\")>,\n",
       " <selenium.webdriver.remote.webelement.WebElement (session=\"b882625c19332409f6eae40243137d42\", element=\"d09def42-1432-4bc1-9268-2dd9e7094f2c\")>,\n",
       " <selenium.webdriver.remote.webelement.WebElement (session=\"b882625c19332409f6eae40243137d42\", element=\"e2b43590-30c0-4b91-8ac1-e84cf99703ab\")>,\n",
       " <selenium.webdriver.remote.webelement.WebElement (session=\"b882625c19332409f6eae40243137d42\", element=\"ba2c3d5a-4b7d-4cd0-84c1-faa1a598da9d\")>,\n",
       " <selenium.webdriver.remote.webelement.WebElement (session=\"b882625c19332409f6eae40243137d42\", element=\"58b380ee-7047-4faa-8259-d4259029c5eb\")>,\n",
       " <selenium.webdriver.remote.webelement.WebElement (session=\"b882625c19332409f6eae40243137d42\", element=\"5ae7df20-70ce-46ed-b335-5ed31de4fe1f\")>,\n",
       " <selenium.webdriver.remote.webelement.WebElement (session=\"b882625c19332409f6eae40243137d42\", element=\"1f32fffa-c849-4709-9a44-9aabf5f4ca52\")>,\n",
       " <selenium.webdriver.remote.webelement.WebElement (session=\"b882625c19332409f6eae40243137d42\", element=\"58b87e3d-5881-41f4-892c-763f5a1ec55c\")>,\n",
       " <selenium.webdriver.remote.webelement.WebElement (session=\"b882625c19332409f6eae40243137d42\", element=\"c469cf58-4c32-4895-8685-ff3f2da84928\")>,\n",
       " <selenium.webdriver.remote.webelement.WebElement (session=\"b882625c19332409f6eae40243137d42\", element=\"22c4cf79-c4dd-4575-b2fd-760a5c76946d\")>,\n",
       " <selenium.webdriver.remote.webelement.WebElement (session=\"b882625c19332409f6eae40243137d42\", element=\"d4fe7c65-c1f3-44f6-bd76-a00bd31e80a7\")>,\n",
       " <selenium.webdriver.remote.webelement.WebElement (session=\"b882625c19332409f6eae40243137d42\", element=\"8165c6c9-dbb1-4d54-8fbc-986bb06ca59c\")>,\n",
       " <selenium.webdriver.remote.webelement.WebElement (session=\"b882625c19332409f6eae40243137d42\", element=\"4eacbaa0-f189-4092-a3f8-7a0ebcea58c2\")>,\n",
       " <selenium.webdriver.remote.webelement.WebElement (session=\"b882625c19332409f6eae40243137d42\", element=\"1b3fd55a-9b24-43cc-8588-8d5270b5087d\")>,\n",
       " <selenium.webdriver.remote.webelement.WebElement (session=\"b882625c19332409f6eae40243137d42\", element=\"f99ed000-8fd4-4a3b-a9e7-9a50acbf2652\")>,\n",
       " <selenium.webdriver.remote.webelement.WebElement (session=\"b882625c19332409f6eae40243137d42\", element=\"c0a46059-ca9b-4d76-a129-28f0188fe2dc\")>,\n",
       " <selenium.webdriver.remote.webelement.WebElement (session=\"b882625c19332409f6eae40243137d42\", element=\"f7f5536d-3b13-4ba7-a492-246f629dc5f5\")>,\n",
       " <selenium.webdriver.remote.webelement.WebElement (session=\"b882625c19332409f6eae40243137d42\", element=\"645288b1-5118-4000-bdc9-d0a3037f7b0d\")>,\n",
       " <selenium.webdriver.remote.webelement.WebElement (session=\"b882625c19332409f6eae40243137d42\", element=\"2eca162c-3a4a-459f-b56a-094994f462c7\")>,\n",
       " <selenium.webdriver.remote.webelement.WebElement (session=\"b882625c19332409f6eae40243137d42\", element=\"4d2c11f4-9f67-4584-b0a5-70224daa9b21\")>,\n",
       " <selenium.webdriver.remote.webelement.WebElement (session=\"b882625c19332409f6eae40243137d42\", element=\"6ed80a0d-00af-4750-8492-95e1e5ab55d2\")>,\n",
       " <selenium.webdriver.remote.webelement.WebElement (session=\"b882625c19332409f6eae40243137d42\", element=\"4802530d-68b7-473c-9797-4bb88bdf0a2a\")>,\n",
       " <selenium.webdriver.remote.webelement.WebElement (session=\"b882625c19332409f6eae40243137d42\", element=\"88f8b055-77a7-4aec-8d54-89804e744640\")>,\n",
       " <selenium.webdriver.remote.webelement.WebElement (session=\"b882625c19332409f6eae40243137d42\", element=\"232a4c36-ef9b-4e6c-a8bc-6b3189ea0973\")>,\n",
       " <selenium.webdriver.remote.webelement.WebElement (session=\"b882625c19332409f6eae40243137d42\", element=\"215947f1-1dc6-4487-be10-52c44c84dd76\")>,\n",
       " <selenium.webdriver.remote.webelement.WebElement (session=\"b882625c19332409f6eae40243137d42\", element=\"129c7df9-09a0-40ff-83c8-e91f435c1227\")>,\n",
       " <selenium.webdriver.remote.webelement.WebElement (session=\"b882625c19332409f6eae40243137d42\", element=\"5cda0a29-9025-4fdb-b6ef-79bdac97d104\")>,\n",
       " <selenium.webdriver.remote.webelement.WebElement (session=\"b882625c19332409f6eae40243137d42\", element=\"a64a22aa-6795-4e09-9891-bdfcae228d87\")>,\n",
       " <selenium.webdriver.remote.webelement.WebElement (session=\"b882625c19332409f6eae40243137d42\", element=\"a697c6b8-e516-49ab-9efe-e71c52479a95\")>,\n",
       " <selenium.webdriver.remote.webelement.WebElement (session=\"b882625c19332409f6eae40243137d42\", element=\"8ec79562-d58d-4762-be4f-1b8a74b0d199\")>,\n",
       " <selenium.webdriver.remote.webelement.WebElement (session=\"b882625c19332409f6eae40243137d42\", element=\"7b1e7367-37fa-41ca-9651-83e062f394f1\")>,\n",
       " <selenium.webdriver.remote.webelement.WebElement (session=\"b882625c19332409f6eae40243137d42\", element=\"2c3bd2af-e7e9-4616-bb1d-17ddb5874163\")>,\n",
       " <selenium.webdriver.remote.webelement.WebElement (session=\"b882625c19332409f6eae40243137d42\", element=\"f3292012-33cb-438e-849a-315f2cae4551\")>,\n",
       " <selenium.webdriver.remote.webelement.WebElement (session=\"b882625c19332409f6eae40243137d42\", element=\"330c7fb2-6483-423c-ba0b-40172b68fa59\")>,\n",
       " <selenium.webdriver.remote.webelement.WebElement (session=\"b882625c19332409f6eae40243137d42\", element=\"255ecb3e-98dc-4fa6-9330-3e89fb5f3df9\")>,\n",
       " <selenium.webdriver.remote.webelement.WebElement (session=\"b882625c19332409f6eae40243137d42\", element=\"0874c888-3f9d-4a4d-b1cc-c2087f156687\")>,\n",
       " <selenium.webdriver.remote.webelement.WebElement (session=\"b882625c19332409f6eae40243137d42\", element=\"4a35fbe5-bed3-4513-8e29-badff5dc071a\")>,\n",
       " <selenium.webdriver.remote.webelement.WebElement (session=\"b882625c19332409f6eae40243137d42\", element=\"c86587d2-e357-4fc6-8b45-389ec5a5e54e\")>,\n",
       " <selenium.webdriver.remote.webelement.WebElement (session=\"b882625c19332409f6eae40243137d42\", element=\"ebfd974a-b921-4062-bc6c-53698a3cef0a\")>,\n",
       " <selenium.webdriver.remote.webelement.WebElement (session=\"b882625c19332409f6eae40243137d42\", element=\"02d4189e-1e08-4769-93c9-ecd10ca4c7ba\")>,\n",
       " <selenium.webdriver.remote.webelement.WebElement (session=\"b882625c19332409f6eae40243137d42\", element=\"1b1cb22c-949b-40bf-b02b-1c9b9a573ec6\")>,\n",
       " <selenium.webdriver.remote.webelement.WebElement (session=\"b882625c19332409f6eae40243137d42\", element=\"3204d41c-03e3-47b3-b523-1eb1f8c9b20b\")>,\n",
       " <selenium.webdriver.remote.webelement.WebElement (session=\"b882625c19332409f6eae40243137d42\", element=\"0975b405-4632-4786-90ec-dec9b99b8b86\")>,\n",
       " <selenium.webdriver.remote.webelement.WebElement (session=\"b882625c19332409f6eae40243137d42\", element=\"ca601a76-c652-43ee-9eb2-4fe1986a39da\")>,\n",
       " <selenium.webdriver.remote.webelement.WebElement (session=\"b882625c19332409f6eae40243137d42\", element=\"cc56c2cb-ff2a-419c-a762-7f7c28b88c38\")>,\n",
       " <selenium.webdriver.remote.webelement.WebElement (session=\"b882625c19332409f6eae40243137d42\", element=\"0020f593-bbb8-4f1d-aad2-2747e114545f\")>,\n",
       " <selenium.webdriver.remote.webelement.WebElement (session=\"b882625c19332409f6eae40243137d42\", element=\"c155180f-c0fb-43a0-800a-cefe6d31184f\")>,\n",
       " <selenium.webdriver.remote.webelement.WebElement (session=\"b882625c19332409f6eae40243137d42\", element=\"ccdfe7e8-db77-4421-bfff-ba9f8f618f48\")>,\n",
       " <selenium.webdriver.remote.webelement.WebElement (session=\"b882625c19332409f6eae40243137d42\", element=\"f5d63e86-97aa-4dbb-94fc-7d7bd5cc0c13\")>,\n",
       " <selenium.webdriver.remote.webelement.WebElement (session=\"b882625c19332409f6eae40243137d42\", element=\"80edb8c9-f62b-4d4b-82b8-cf79a2329783\")>,\n",
       " <selenium.webdriver.remote.webelement.WebElement (session=\"b882625c19332409f6eae40243137d42\", element=\"47fb877c-cfc3-457c-80be-cb421416e1ee\")>,\n",
       " <selenium.webdriver.remote.webelement.WebElement (session=\"b882625c19332409f6eae40243137d42\", element=\"aefcfcdd-7164-4479-aad7-bee79645eeae\")>,\n",
       " <selenium.webdriver.remote.webelement.WebElement (session=\"b882625c19332409f6eae40243137d42\", element=\"bec22963-922b-4db2-bde5-72ec370b163f\")>,\n",
       " <selenium.webdriver.remote.webelement.WebElement (session=\"b882625c19332409f6eae40243137d42\", element=\"3ddbb154-1193-4b22-94cb-02268bf25f15\")>,\n",
       " <selenium.webdriver.remote.webelement.WebElement (session=\"b882625c19332409f6eae40243137d42\", element=\"35c1da55-14ab-44e2-b431-d87e4f718a7d\")>,\n",
       " <selenium.webdriver.remote.webelement.WebElement (session=\"b882625c19332409f6eae40243137d42\", element=\"bcb66ec2-a8c0-4657-88f4-3625d69f16fa\")>,\n",
       " <selenium.webdriver.remote.webelement.WebElement (session=\"b882625c19332409f6eae40243137d42\", element=\"18d59c74-ee98-4a72-a8ec-446376909bc5\")>,\n",
       " <selenium.webdriver.remote.webelement.WebElement (session=\"b882625c19332409f6eae40243137d42\", element=\"75b3ffb2-7b51-47f0-a68e-1a4f3311cfc4\")>,\n",
       " <selenium.webdriver.remote.webelement.WebElement (session=\"b882625c19332409f6eae40243137d42\", element=\"f4548167-a692-4031-8595-1b19f8cd43a5\")>,\n",
       " <selenium.webdriver.remote.webelement.WebElement (session=\"b882625c19332409f6eae40243137d42\", element=\"15ea7f17-19bc-4946-862d-1a4afab8a431\")>,\n",
       " <selenium.webdriver.remote.webelement.WebElement (session=\"b882625c19332409f6eae40243137d42\", element=\"c7ba9929-666e-4107-a34e-5e757179d335\")>,\n",
       " <selenium.webdriver.remote.webelement.WebElement (session=\"b882625c19332409f6eae40243137d42\", element=\"be8fa97a-f27b-4653-8874-e63e29c28ea8\")>,\n",
       " <selenium.webdriver.remote.webelement.WebElement (session=\"b882625c19332409f6eae40243137d42\", element=\"a0557e8b-0c9d-455b-8030-deebcea9ce8e\")>,\n",
       " <selenium.webdriver.remote.webelement.WebElement (session=\"b882625c19332409f6eae40243137d42\", element=\"2f0da548-9dd0-4d60-8e03-568292b55d05\")>,\n",
       " <selenium.webdriver.remote.webelement.WebElement (session=\"b882625c19332409f6eae40243137d42\", element=\"50aa81cd-4c7f-43bc-b4d2-e9d2fde0b5e8\")>,\n",
       " <selenium.webdriver.remote.webelement.WebElement (session=\"b882625c19332409f6eae40243137d42\", element=\"9e95e3c5-292f-4114-9622-7a16daec573e\")>,\n",
       " <selenium.webdriver.remote.webelement.WebElement (session=\"b882625c19332409f6eae40243137d42\", element=\"1007e0b6-2016-4edc-8aa1-207669bc6dc0\")>,\n",
       " <selenium.webdriver.remote.webelement.WebElement (session=\"b882625c19332409f6eae40243137d42\", element=\"213aa382-c8d1-41ec-b895-0ab3d145e742\")>,\n",
       " <selenium.webdriver.remote.webelement.WebElement (session=\"b882625c19332409f6eae40243137d42\", element=\"04b1697c-4016-4a72-8a07-24aa8be7ce1c\")>,\n",
       " <selenium.webdriver.remote.webelement.WebElement (session=\"b882625c19332409f6eae40243137d42\", element=\"88f8c456-e2f4-4373-8cc8-65fdc764fb41\")>,\n",
       " <selenium.webdriver.remote.webelement.WebElement (session=\"b882625c19332409f6eae40243137d42\", element=\"4e8e8071-4a6d-4cf4-9c5d-c8011d71668f\")>,\n",
       " <selenium.webdriver.remote.webelement.WebElement (session=\"b882625c19332409f6eae40243137d42\", element=\"6acfc1e2-2210-4fc0-b2bf-def8fd62c8e4\")>]"
      ]
     },
     "execution_count": 16,
     "metadata": {},
     "output_type": "execute_result"
    }
   ],
   "source": [
    "line4=browser.find_elements(\"xpath\",\"//div[@class='td-wrap-in']\")\n",
    "line4"
   ]
  },
  {
   "cell_type": "code",
   "execution_count": 20,
   "id": "2901af06",
   "metadata": {},
   "outputs": [
    {
     "data": {
      "text/plain": [
       "['89', '99.9', '100', '51.5', '100', '77.3', '89.2', '92', '100']"
      ]
     },
     "execution_count": 20,
     "metadata": {},
     "output_type": "execute_result"
    }
   ],
   "source": [
    "#PARSING DATA\n",
    "value=[]\n",
    "for data in line4:\n",
    "    #get the text data\n",
    "    temp=data.text\n",
    "    value.append(temp)\n",
    "value_h=value[71:80]\n",
    "value_h"
   ]
  },
  {
   "cell_type": "code",
   "execution_count": 21,
   "id": "2f2fc188",
   "metadata": {},
   "outputs": [
    {
     "data": {
      "text/plain": [
       "{'Name': 'Yale University',\n",
       " 'Location': 'New Haven, United States',\n",
       " 'Rank': '18',\n",
       " 'Overall Score': '89',\n",
       " 'Academic Reputation': '99.9',\n",
       " 'Employer Reputation': '100',\n",
       " 'Citations per Faculty': '51.5',\n",
       " 'Faculty Student Ratio': '100',\n",
       " 'International Students Ratio': '77.3',\n",
       " 'International Faculty Ratio': '89.2',\n",
       " 'International Research Network\\nUnweighted': '92',\n",
       " 'Employment Outcomes\\nUnweighted': '100'}"
      ]
     },
     "execution_count": 21,
     "metadata": {},
     "output_type": "execute_result"
    }
   ],
   "source": [
    "\n",
    "d={}\n",
    "d['Name']=value[70]\n",
    "d['Location']=address[7]\n",
    "d['Rank']=Rank[7]\n",
    "for i in range(len(column)):\n",
    "    d[column[i]]=value_h[i]\n",
    "d"
   ]
  },
  {
   "cell_type": "code",
   "execution_count": 22,
   "id": "0cfe7b1b",
   "metadata": {},
   "outputs": [
    {
     "data": {
      "text/plain": [
       "'{\"Name\": \"Yale University\", \"Location\": \"New Haven, United States\", \"Rank\": \"18\", \"Overall Score\": \"89\", \"Academic Reputation\": \"99.9\", \"Employer Reputation\": \"100\", \"Citations per Faculty\": \"51.5\", \"Faculty Student Ratio\": \"100\", \"International Students Ratio\": \"77.3\", \"International Faculty Ratio\": \"89.2\", \"International Research Network\\\\nUnweighted\": \"92\", \"Employment Outcomes\\\\nUnweighted\": \"100\"}'"
      ]
     },
     "execution_count": 22,
     "metadata": {},
     "output_type": "execute_result"
    }
   ],
   "source": [
    "s1=json.dumps(d)\n",
    "s1"
   ]
  },
  {
   "cell_type": "code",
   "execution_count": 23,
   "id": "604887e0",
   "metadata": {},
   "outputs": [],
   "source": [
    "with open('Yale University.json','w') as f:\n",
    "    json.dump(d,f)"
   ]
  }
 ],
 "metadata": {
  "kernelspec": {
   "display_name": "Python 3.9.12 ('base')",
   "language": "python",
   "name": "python3"
  },
  "language_info": {
   "codemirror_mode": {
    "name": "ipython",
    "version": 3
   },
   "file_extension": ".py",
   "mimetype": "text/x-python",
   "name": "python",
   "nbconvert_exporter": "python",
   "pygments_lexer": "ipython3",
   "version": "3.9.12"
  },
  "vscode": {
   "interpreter": {
    "hash": "ad2bdc8ecc057115af97d19610ffacc2b4e99fae6737bb82f5d7fb13d2f2c186"
   }
  }
 },
 "nbformat": 4,
 "nbformat_minor": 5
}
