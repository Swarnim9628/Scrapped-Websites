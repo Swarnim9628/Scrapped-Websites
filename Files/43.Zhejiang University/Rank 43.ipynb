{
 "cells": [
  {
   "cell_type": "code",
   "execution_count": 1,
   "id": "3082f961",
   "metadata": {},
   "outputs": [],
   "source": [
    "from selenium import webdriver\n",
    "from selenium.webdriver.chrome.service import Service\n",
    "import pandas as pd\n",
    "import json\n"
   ]
  },
  {
   "cell_type": "code",
   "execution_count": 2,
   "id": "72d5b56c",
   "metadata": {},
   "outputs": [],
   "source": [
    "path = Service('C:\\chromedriver.exe')"
   ]
  },
  {
   "cell_type": "code",
   "execution_count": 3,
   "id": "8d852fb3",
   "metadata": {},
   "outputs": [],
   "source": [
    "# set path for the driver\n",
    "browser = webdriver.Chrome(service = path)"
   ]
  },
  {
   "cell_type": "code",
   "execution_count": 4,
   "id": "f0c891f1",
   "metadata": {},
   "outputs": [],
   "source": [
    "\n",
    "url = \"https://www.topuniversities.com/university-rankings/world-university-rankings/2023\""
   ]
  },
  {
   "cell_type": "code",
   "execution_count": 5,
   "id": "6535ec04",
   "metadata": {},
   "outputs": [],
   "source": [
    "# open the page url ion chrome\n",
    "browser.get(url)"
   ]
  },
  {
   "cell_type": "code",
   "execution_count": 11,
   "id": "3b0c7a5d",
   "metadata": {},
   "outputs": [
    {
     "data": {
      "text/plain": [
       "[<selenium.webdriver.remote.webelement.WebElement (session=\"f8fb72ce0bd31674fe270e0bf177ac67\", element=\"b063924b-d1eb-4710-874c-b1c651fd12be\")>,\n",
       " <selenium.webdriver.remote.webelement.WebElement (session=\"f8fb72ce0bd31674fe270e0bf177ac67\", element=\"b877372a-0638-496c-b120-a0a9d51b3286\")>,\n",
       " <selenium.webdriver.remote.webelement.WebElement (session=\"f8fb72ce0bd31674fe270e0bf177ac67\", element=\"274f52b7-eb60-453d-a9a4-f7a8c90b2cee\")>,\n",
       " <selenium.webdriver.remote.webelement.WebElement (session=\"f8fb72ce0bd31674fe270e0bf177ac67\", element=\"e61780b9-fbf4-4bf3-9d4f-eea167c1d525\")>,\n",
       " <selenium.webdriver.remote.webelement.WebElement (session=\"f8fb72ce0bd31674fe270e0bf177ac67\", element=\"bd40c31a-024f-4a8c-8e28-a25c9cda6dc6\")>,\n",
       " <selenium.webdriver.remote.webelement.WebElement (session=\"f8fb72ce0bd31674fe270e0bf177ac67\", element=\"3c66e786-caf1-496d-b161-d0af64aa412d\")>,\n",
       " <selenium.webdriver.remote.webelement.WebElement (session=\"f8fb72ce0bd31674fe270e0bf177ac67\", element=\"0a28812f-4a13-4de1-b6a0-21fa4756ca9e\")>,\n",
       " <selenium.webdriver.remote.webelement.WebElement (session=\"f8fb72ce0bd31674fe270e0bf177ac67\", element=\"6aaec0ac-543b-4f67-8e78-8b7e29095ef7\")>,\n",
       " <selenium.webdriver.remote.webelement.WebElement (session=\"f8fb72ce0bd31674fe270e0bf177ac67\", element=\"ae78f3f9-e646-465a-874a-64c0f8e6e64a\")>,\n",
       " <selenium.webdriver.remote.webelement.WebElement (session=\"f8fb72ce0bd31674fe270e0bf177ac67\", element=\"b7c72528-eba2-4eb2-948d-ad9fd15a501c\")>,\n",
       " <selenium.webdriver.remote.webelement.WebElement (session=\"f8fb72ce0bd31674fe270e0bf177ac67\", element=\"cc63056b-3bac-4e18-b9c0-10bf59a6405d\")>,\n",
       " <selenium.webdriver.remote.webelement.WebElement (session=\"f8fb72ce0bd31674fe270e0bf177ac67\", element=\"0150eece-7c27-4975-a0b8-311121a1bdc7\")>,\n",
       " <selenium.webdriver.remote.webelement.WebElement (session=\"f8fb72ce0bd31674fe270e0bf177ac67\", element=\"1344cc45-571e-4f07-affa-a69b7ffd72f5\")>,\n",
       " <selenium.webdriver.remote.webelement.WebElement (session=\"f8fb72ce0bd31674fe270e0bf177ac67\", element=\"2d307ab1-11c5-462d-8938-67701dad4489\")>,\n",
       " <selenium.webdriver.remote.webelement.WebElement (session=\"f8fb72ce0bd31674fe270e0bf177ac67\", element=\"299083d8-756e-4fbf-8f40-4175d495318c\")>,\n",
       " <selenium.webdriver.remote.webelement.WebElement (session=\"f8fb72ce0bd31674fe270e0bf177ac67\", element=\"df178af3-77d4-4083-8e3b-049bdbacbd4c\")>,\n",
       " <selenium.webdriver.remote.webelement.WebElement (session=\"f8fb72ce0bd31674fe270e0bf177ac67\", element=\"97e928d7-3986-411a-9601-25f4ee514e4a\")>,\n",
       " <selenium.webdriver.remote.webelement.WebElement (session=\"f8fb72ce0bd31674fe270e0bf177ac67\", element=\"ba79519d-6c71-42b7-a670-143311c88f3a\")>,\n",
       " <selenium.webdriver.remote.webelement.WebElement (session=\"f8fb72ce0bd31674fe270e0bf177ac67\", element=\"e108a35a-4afc-4533-a203-2ff4c66ac110\")>,\n",
       " <selenium.webdriver.remote.webelement.WebElement (session=\"f8fb72ce0bd31674fe270e0bf177ac67\", element=\"4228093d-0f70-41da-a9e5-767f65fa7c1b\")>]"
      ]
     },
     "execution_count": 11,
     "metadata": {},
     "output_type": "execute_result"
    }
   ],
   "source": [
    "\n",
    "line1=browser.find_elements(\"xpath\",\"//div[@class='location ']\")\n",
    "line1"
   ]
  },
  {
   "cell_type": "code",
   "execution_count": 12,
   "id": "2c70ce79",
   "metadata": {},
   "outputs": [
    {
     "data": {
      "text/plain": [
       "['Sydney, Australia',\n",
       " 'Daejeon, South Korea',\n",
       " 'Hangzhou, China (Mainland)',\n",
       " 'Los Angeles, United States',\n",
       " 'Sydney, Australia',\n",
       " 'Shanghai, China (Mainland)',\n",
       " 'Vancouver, Canada',\n",
       " 'Palaiseau Cedex, France',\n",
       " 'Munich, Germany',\n",
       " 'Durham, United States']"
      ]
     },
     "execution_count": 12,
     "metadata": {},
     "output_type": "execute_result"
    }
   ],
   "source": [
    "address=[]\n",
    "for data in line1:\n",
    "    #get the text data\n",
    "    temp=data.text\n",
    "    address.append(temp)\n",
    "address=address[10:]\n",
    "address"
   ]
  },
  {
   "cell_type": "code",
   "execution_count": 13,
   "id": "1a606b70",
   "metadata": {},
   "outputs": [
    {
     "data": {
      "text/plain": [
       "[<selenium.webdriver.remote.webelement.WebElement (session=\"f8fb72ce0bd31674fe270e0bf177ac67\", element=\"af22b2dd-b3f9-45b1-9c3d-a9a2900fb3c1\")>,\n",
       " <selenium.webdriver.remote.webelement.WebElement (session=\"f8fb72ce0bd31674fe270e0bf177ac67\", element=\"585a2e7a-dd73-47c0-85ca-d0443b9e2ab1\")>,\n",
       " <selenium.webdriver.remote.webelement.WebElement (session=\"f8fb72ce0bd31674fe270e0bf177ac67\", element=\"d18e6673-6fb8-4cc5-be36-edc1bd3bb80c\")>,\n",
       " <selenium.webdriver.remote.webelement.WebElement (session=\"f8fb72ce0bd31674fe270e0bf177ac67\", element=\"3aecccab-4b3d-4dba-90b6-24cdfbec745c\")>,\n",
       " <selenium.webdriver.remote.webelement.WebElement (session=\"f8fb72ce0bd31674fe270e0bf177ac67\", element=\"46ce8c21-72d4-484a-a773-34f14764e8d3\")>,\n",
       " <selenium.webdriver.remote.webelement.WebElement (session=\"f8fb72ce0bd31674fe270e0bf177ac67\", element=\"3b722e4b-e6a8-40cf-a3f2-ce80698223ac\")>,\n",
       " <selenium.webdriver.remote.webelement.WebElement (session=\"f8fb72ce0bd31674fe270e0bf177ac67\", element=\"717d9c37-5049-4220-a7f8-9c9cf35ef804\")>,\n",
       " <selenium.webdriver.remote.webelement.WebElement (session=\"f8fb72ce0bd31674fe270e0bf177ac67\", element=\"1713cde3-bf13-4aea-8ad6-eb828ae4adf2\")>,\n",
       " <selenium.webdriver.remote.webelement.WebElement (session=\"f8fb72ce0bd31674fe270e0bf177ac67\", element=\"e4f07443-199e-4d67-a607-29035873d883\")>,\n",
       " <selenium.webdriver.remote.webelement.WebElement (session=\"f8fb72ce0bd31674fe270e0bf177ac67\", element=\"ed17e4d3-3af9-420a-8e48-dac687bf201c\")>]"
      ]
     },
     "execution_count": 13,
     "metadata": {},
     "output_type": "execute_result"
    }
   ],
   "source": [
    "line2=browser.find_elements(\"xpath\",\"//div[@class='_univ-rank ']\")\n",
    "line2"
   ]
  },
  {
   "cell_type": "code",
   "execution_count": 14,
   "id": "70539ece",
   "metadata": {},
   "outputs": [
    {
     "data": {
      "text/plain": [
       "['41', '=42', '=42', '44', '45', '46', '47', '48', '49', '=50']"
      ]
     },
     "execution_count": 14,
     "metadata": {},
     "output_type": "execute_result"
    }
   ],
   "source": [
    "Rank=[]\n",
    "for data in line2:\n",
    "    #get the text data\n",
    "    temp=data.text\n",
    "    Rank.append(temp)\n",
    "Rank"
   ]
  },
  {
   "cell_type": "code",
   "execution_count": 15,
   "id": "0fd3855d",
   "metadata": {},
   "outputs": [
    {
     "data": {
      "text/plain": [
       "[<selenium.webdriver.remote.webelement.WebElement (session=\"f8fb72ce0bd31674fe270e0bf177ac67\", element=\"6060c164-c869-431b-be34-64935ddf9a21\")>,\n",
       " <selenium.webdriver.remote.webelement.WebElement (session=\"f8fb72ce0bd31674fe270e0bf177ac67\", element=\"88f2666c-edfe-471b-8106-05914e6e1c18\")>,\n",
       " <selenium.webdriver.remote.webelement.WebElement (session=\"f8fb72ce0bd31674fe270e0bf177ac67\", element=\"d4b89c36-a8a6-48bc-bfcc-e67b1d1f8c25\")>,\n",
       " <selenium.webdriver.remote.webelement.WebElement (session=\"f8fb72ce0bd31674fe270e0bf177ac67\", element=\"099dda57-142a-4eae-951c-a6dc65deeb7c\")>,\n",
       " <selenium.webdriver.remote.webelement.WebElement (session=\"f8fb72ce0bd31674fe270e0bf177ac67\", element=\"cf6206c2-e7c9-4d1a-a610-049c22c48895\")>,\n",
       " <selenium.webdriver.remote.webelement.WebElement (session=\"f8fb72ce0bd31674fe270e0bf177ac67\", element=\"c393259f-a1a8-4c74-8a4d-7dc0444568fd\")>,\n",
       " <selenium.webdriver.remote.webelement.WebElement (session=\"f8fb72ce0bd31674fe270e0bf177ac67\", element=\"0b7f6a60-8a6c-4507-8374-a8b6a76b06d0\")>,\n",
       " <selenium.webdriver.remote.webelement.WebElement (session=\"f8fb72ce0bd31674fe270e0bf177ac67\", element=\"8aca317c-7077-416b-93f1-3abbc79a79bd\")>,\n",
       " <selenium.webdriver.remote.webelement.WebElement (session=\"f8fb72ce0bd31674fe270e0bf177ac67\", element=\"567aa548-bde2-40fd-a62c-d5ce8e378205\")>]"
      ]
     },
     "execution_count": 15,
     "metadata": {},
     "output_type": "execute_result"
    }
   ],
   "source": [
    "# GET EACH COLLEGE SPECIFICATION HEADERS\n",
    "line3=browser.find_elements(\"xpath\",\"//div[@class='_click-function_ind']\")\n",
    "line3"
   ]
  },
  {
   "cell_type": "code",
   "execution_count": 16,
   "id": "c2e5ceb2",
   "metadata": {},
   "outputs": [
    {
     "data": {
      "text/plain": [
       "['Overall Score',\n",
       " 'Academic Reputation',\n",
       " 'Employer Reputation',\n",
       " 'Citations per Faculty',\n",
       " 'Faculty Student Ratio',\n",
       " 'International Students Ratio',\n",
       " 'International Faculty Ratio',\n",
       " 'International Research Network\\nUnweighted',\n",
       " 'Employment Outcomes\\nUnweighted']"
      ]
     },
     "execution_count": 16,
     "metadata": {},
     "output_type": "execute_result"
    }
   ],
   "source": [
    "#PARSING DATA\n",
    "column=[]\n",
    "for data in line3:\n",
    "    #get the text data\n",
    "    temp=data.text\n",
    "    column.append(temp)\n",
    "column"
   ]
  },
  {
   "cell_type": "code",
   "execution_count": 17,
   "id": "d1239d01",
   "metadata": {},
   "outputs": [
    {
     "data": {
      "text/plain": [
       "[<selenium.webdriver.remote.webelement.WebElement (session=\"f8fb72ce0bd31674fe270e0bf177ac67\", element=\"e381a093-dbf9-463c-8cc8-0c918e356b62\")>,\n",
       " <selenium.webdriver.remote.webelement.WebElement (session=\"f8fb72ce0bd31674fe270e0bf177ac67\", element=\"4b09e4a6-61d1-431f-b4d5-3b0bccd817a3\")>,\n",
       " <selenium.webdriver.remote.webelement.WebElement (session=\"f8fb72ce0bd31674fe270e0bf177ac67\", element=\"ac6c4bdc-66f9-4564-83c7-43e918736d5f\")>,\n",
       " <selenium.webdriver.remote.webelement.WebElement (session=\"f8fb72ce0bd31674fe270e0bf177ac67\", element=\"c23315ed-cb52-4aab-b47b-5829160b1e9d\")>,\n",
       " <selenium.webdriver.remote.webelement.WebElement (session=\"f8fb72ce0bd31674fe270e0bf177ac67\", element=\"bc2be03a-1e7d-4381-8905-e7dda0e77b83\")>,\n",
       " <selenium.webdriver.remote.webelement.WebElement (session=\"f8fb72ce0bd31674fe270e0bf177ac67\", element=\"4cc89bc1-e9cf-4617-b4b4-ec9185c89e72\")>,\n",
       " <selenium.webdriver.remote.webelement.WebElement (session=\"f8fb72ce0bd31674fe270e0bf177ac67\", element=\"229ba271-e772-42ba-afc4-b2e003dd7f6d\")>,\n",
       " <selenium.webdriver.remote.webelement.WebElement (session=\"f8fb72ce0bd31674fe270e0bf177ac67\", element=\"a85fd63a-d5ce-4362-9462-cea7145a0384\")>,\n",
       " <selenium.webdriver.remote.webelement.WebElement (session=\"f8fb72ce0bd31674fe270e0bf177ac67\", element=\"d2b0dadc-48db-4e35-84e5-960ffc396e9b\")>,\n",
       " <selenium.webdriver.remote.webelement.WebElement (session=\"f8fb72ce0bd31674fe270e0bf177ac67\", element=\"13243a23-fa3d-4c23-bfe1-e5234fa204dc\")>,\n",
       " <selenium.webdriver.remote.webelement.WebElement (session=\"f8fb72ce0bd31674fe270e0bf177ac67\", element=\"fc53c058-86e5-4857-b410-537155909bb4\")>,\n",
       " <selenium.webdriver.remote.webelement.WebElement (session=\"f8fb72ce0bd31674fe270e0bf177ac67\", element=\"e1d3b0fc-c2b8-42a1-8074-b9a7726d512a\")>,\n",
       " <selenium.webdriver.remote.webelement.WebElement (session=\"f8fb72ce0bd31674fe270e0bf177ac67\", element=\"11cb2b7d-0b95-4651-99dc-7c14de4e5fc1\")>,\n",
       " <selenium.webdriver.remote.webelement.WebElement (session=\"f8fb72ce0bd31674fe270e0bf177ac67\", element=\"4c141400-39e8-4996-bdb7-dc4c50c5be88\")>,\n",
       " <selenium.webdriver.remote.webelement.WebElement (session=\"f8fb72ce0bd31674fe270e0bf177ac67\", element=\"81b5d67f-ee5c-4016-8d5a-1b7fd29e4f23\")>,\n",
       " <selenium.webdriver.remote.webelement.WebElement (session=\"f8fb72ce0bd31674fe270e0bf177ac67\", element=\"fbd5b468-1eb2-4945-b48e-6aac29dfcf0f\")>,\n",
       " <selenium.webdriver.remote.webelement.WebElement (session=\"f8fb72ce0bd31674fe270e0bf177ac67\", element=\"df891006-887a-4b10-a948-7bee5ed111d6\")>,\n",
       " <selenium.webdriver.remote.webelement.WebElement (session=\"f8fb72ce0bd31674fe270e0bf177ac67\", element=\"e9973110-99fd-4725-81d8-fabcb569f931\")>,\n",
       " <selenium.webdriver.remote.webelement.WebElement (session=\"f8fb72ce0bd31674fe270e0bf177ac67\", element=\"299eca8b-48d3-435c-b152-00b432fae29f\")>,\n",
       " <selenium.webdriver.remote.webelement.WebElement (session=\"f8fb72ce0bd31674fe270e0bf177ac67\", element=\"8416d971-d010-453b-ab17-4e499d37bac3\")>,\n",
       " <selenium.webdriver.remote.webelement.WebElement (session=\"f8fb72ce0bd31674fe270e0bf177ac67\", element=\"847897e5-de79-4898-a19a-5b4d6c61a34f\")>,\n",
       " <selenium.webdriver.remote.webelement.WebElement (session=\"f8fb72ce0bd31674fe270e0bf177ac67\", element=\"268a5489-216d-440f-8bef-88e708fe2076\")>,\n",
       " <selenium.webdriver.remote.webelement.WebElement (session=\"f8fb72ce0bd31674fe270e0bf177ac67\", element=\"fea2753c-8762-40b4-b689-d509d6ad64b8\")>,\n",
       " <selenium.webdriver.remote.webelement.WebElement (session=\"f8fb72ce0bd31674fe270e0bf177ac67\", element=\"ad7372ae-aeeb-4a4f-9a3f-6a1a016edf80\")>,\n",
       " <selenium.webdriver.remote.webelement.WebElement (session=\"f8fb72ce0bd31674fe270e0bf177ac67\", element=\"172f2d51-0c26-4f35-9294-e00c1453eaf9\")>,\n",
       " <selenium.webdriver.remote.webelement.WebElement (session=\"f8fb72ce0bd31674fe270e0bf177ac67\", element=\"8523258b-ffdf-47ef-a42d-55b0a540a576\")>,\n",
       " <selenium.webdriver.remote.webelement.WebElement (session=\"f8fb72ce0bd31674fe270e0bf177ac67\", element=\"1b3b7769-ae07-4283-a7bc-6a7f1f46ebcd\")>,\n",
       " <selenium.webdriver.remote.webelement.WebElement (session=\"f8fb72ce0bd31674fe270e0bf177ac67\", element=\"7d5824ae-b9c2-4629-90ec-03971c8ffaeb\")>,\n",
       " <selenium.webdriver.remote.webelement.WebElement (session=\"f8fb72ce0bd31674fe270e0bf177ac67\", element=\"8338ebb4-5e48-4a8b-a75d-37da98502627\")>,\n",
       " <selenium.webdriver.remote.webelement.WebElement (session=\"f8fb72ce0bd31674fe270e0bf177ac67\", element=\"82819323-0a6f-42d0-bfce-809dbe1d245c\")>,\n",
       " <selenium.webdriver.remote.webelement.WebElement (session=\"f8fb72ce0bd31674fe270e0bf177ac67\", element=\"c0771b47-31eb-4369-8ecf-571cdc298ab7\")>,\n",
       " <selenium.webdriver.remote.webelement.WebElement (session=\"f8fb72ce0bd31674fe270e0bf177ac67\", element=\"218c3128-41b2-447b-b810-e52379cbc484\")>,\n",
       " <selenium.webdriver.remote.webelement.WebElement (session=\"f8fb72ce0bd31674fe270e0bf177ac67\", element=\"d2b2fded-5454-4b40-a50f-bfa8acf68ff3\")>,\n",
       " <selenium.webdriver.remote.webelement.WebElement (session=\"f8fb72ce0bd31674fe270e0bf177ac67\", element=\"d04bb9a5-0cd0-4272-b5a8-d6772a230da5\")>,\n",
       " <selenium.webdriver.remote.webelement.WebElement (session=\"f8fb72ce0bd31674fe270e0bf177ac67\", element=\"a1a25642-5725-43eb-a4f5-83e690f46a22\")>,\n",
       " <selenium.webdriver.remote.webelement.WebElement (session=\"f8fb72ce0bd31674fe270e0bf177ac67\", element=\"98ec6492-7c6c-460e-a658-b1c7cc52729d\")>,\n",
       " <selenium.webdriver.remote.webelement.WebElement (session=\"f8fb72ce0bd31674fe270e0bf177ac67\", element=\"3eb6572f-eafc-43dc-a921-2dda9f5dea28\")>,\n",
       " <selenium.webdriver.remote.webelement.WebElement (session=\"f8fb72ce0bd31674fe270e0bf177ac67\", element=\"a5f9554e-f243-4537-b56d-59b2ae55dcb8\")>,\n",
       " <selenium.webdriver.remote.webelement.WebElement (session=\"f8fb72ce0bd31674fe270e0bf177ac67\", element=\"595eeefe-7d8d-4f43-af74-89320b1b9730\")>,\n",
       " <selenium.webdriver.remote.webelement.WebElement (session=\"f8fb72ce0bd31674fe270e0bf177ac67\", element=\"56b9f2f6-75bb-42cf-b99f-39f09d5bd0ba\")>,\n",
       " <selenium.webdriver.remote.webelement.WebElement (session=\"f8fb72ce0bd31674fe270e0bf177ac67\", element=\"c17451b9-ccd9-448e-b53a-8279abdfd0f5\")>,\n",
       " <selenium.webdriver.remote.webelement.WebElement (session=\"f8fb72ce0bd31674fe270e0bf177ac67\", element=\"84b26ce8-355e-4417-8329-dd5536d4bb0d\")>,\n",
       " <selenium.webdriver.remote.webelement.WebElement (session=\"f8fb72ce0bd31674fe270e0bf177ac67\", element=\"9538359c-205b-4c5e-aad4-49ed04e9ef4a\")>,\n",
       " <selenium.webdriver.remote.webelement.WebElement (session=\"f8fb72ce0bd31674fe270e0bf177ac67\", element=\"b5310ddc-ec18-46c9-966a-42df1b8c067b\")>,\n",
       " <selenium.webdriver.remote.webelement.WebElement (session=\"f8fb72ce0bd31674fe270e0bf177ac67\", element=\"11353c09-90a8-4076-b49b-cbc149e76b7c\")>,\n",
       " <selenium.webdriver.remote.webelement.WebElement (session=\"f8fb72ce0bd31674fe270e0bf177ac67\", element=\"ffb99de5-4b09-4dd0-8962-2cbda6a3d86c\")>,\n",
       " <selenium.webdriver.remote.webelement.WebElement (session=\"f8fb72ce0bd31674fe270e0bf177ac67\", element=\"b46435d6-0c48-4eb9-930d-030a6a8ceef7\")>,\n",
       " <selenium.webdriver.remote.webelement.WebElement (session=\"f8fb72ce0bd31674fe270e0bf177ac67\", element=\"8619915e-269a-48c5-ac5f-f5747b24d64b\")>,\n",
       " <selenium.webdriver.remote.webelement.WebElement (session=\"f8fb72ce0bd31674fe270e0bf177ac67\", element=\"1c4f7ae6-dd3b-4650-9fe7-ab3bbeada752\")>,\n",
       " <selenium.webdriver.remote.webelement.WebElement (session=\"f8fb72ce0bd31674fe270e0bf177ac67\", element=\"1c83753f-ff04-4eec-bb72-002bb0775360\")>,\n",
       " <selenium.webdriver.remote.webelement.WebElement (session=\"f8fb72ce0bd31674fe270e0bf177ac67\", element=\"9e91826d-6af3-47c9-82a8-9858755b524a\")>,\n",
       " <selenium.webdriver.remote.webelement.WebElement (session=\"f8fb72ce0bd31674fe270e0bf177ac67\", element=\"bff4ff4b-cae5-4316-9e94-8e5d44e61b60\")>,\n",
       " <selenium.webdriver.remote.webelement.WebElement (session=\"f8fb72ce0bd31674fe270e0bf177ac67\", element=\"ed6c8891-a1e5-4fbc-884d-66aec06e9a4a\")>,\n",
       " <selenium.webdriver.remote.webelement.WebElement (session=\"f8fb72ce0bd31674fe270e0bf177ac67\", element=\"c550a0b8-5367-4dc6-b2ae-10f37fd81253\")>,\n",
       " <selenium.webdriver.remote.webelement.WebElement (session=\"f8fb72ce0bd31674fe270e0bf177ac67\", element=\"bd7876aa-d662-4abe-98a5-b6f47dcb5143\")>,\n",
       " <selenium.webdriver.remote.webelement.WebElement (session=\"f8fb72ce0bd31674fe270e0bf177ac67\", element=\"6e86514a-1aca-46c1-b715-c24588ce6039\")>,\n",
       " <selenium.webdriver.remote.webelement.WebElement (session=\"f8fb72ce0bd31674fe270e0bf177ac67\", element=\"e8516813-60a4-47bd-b7d2-6e49ac2fd92e\")>,\n",
       " <selenium.webdriver.remote.webelement.WebElement (session=\"f8fb72ce0bd31674fe270e0bf177ac67\", element=\"910e82e0-d0a6-497c-ad3b-798a0d1365ef\")>,\n",
       " <selenium.webdriver.remote.webelement.WebElement (session=\"f8fb72ce0bd31674fe270e0bf177ac67\", element=\"4c810025-a463-480b-b9e4-0fd9d9746ce4\")>,\n",
       " <selenium.webdriver.remote.webelement.WebElement (session=\"f8fb72ce0bd31674fe270e0bf177ac67\", element=\"3a7dac15-eac5-4a68-b4bb-2292e94a7df6\")>,\n",
       " <selenium.webdriver.remote.webelement.WebElement (session=\"f8fb72ce0bd31674fe270e0bf177ac67\", element=\"e2d1d30a-ba52-4c24-8576-9c7355edd577\")>,\n",
       " <selenium.webdriver.remote.webelement.WebElement (session=\"f8fb72ce0bd31674fe270e0bf177ac67\", element=\"aa88268d-3d61-4390-8455-8529f9bd0ae2\")>,\n",
       " <selenium.webdriver.remote.webelement.WebElement (session=\"f8fb72ce0bd31674fe270e0bf177ac67\", element=\"d2cd37b6-91b6-41d3-abb0-0160762ec87f\")>,\n",
       " <selenium.webdriver.remote.webelement.WebElement (session=\"f8fb72ce0bd31674fe270e0bf177ac67\", element=\"a5a4173d-40e9-4085-8795-286fad3e63d4\")>,\n",
       " <selenium.webdriver.remote.webelement.WebElement (session=\"f8fb72ce0bd31674fe270e0bf177ac67\", element=\"b71fec1f-4c8d-44fc-8201-bd6dbf12b370\")>,\n",
       " <selenium.webdriver.remote.webelement.WebElement (session=\"f8fb72ce0bd31674fe270e0bf177ac67\", element=\"30553bad-7261-4194-b8b9-b60ebd03e069\")>,\n",
       " <selenium.webdriver.remote.webelement.WebElement (session=\"f8fb72ce0bd31674fe270e0bf177ac67\", element=\"3fc6413d-c0ee-4ffd-989e-fc3f0582a447\")>,\n",
       " <selenium.webdriver.remote.webelement.WebElement (session=\"f8fb72ce0bd31674fe270e0bf177ac67\", element=\"9165e367-ddd8-4a64-b0f8-89147953743d\")>,\n",
       " <selenium.webdriver.remote.webelement.WebElement (session=\"f8fb72ce0bd31674fe270e0bf177ac67\", element=\"b2cb4b14-81dd-4eac-98f2-fb66f9fd2620\")>,\n",
       " <selenium.webdriver.remote.webelement.WebElement (session=\"f8fb72ce0bd31674fe270e0bf177ac67\", element=\"abab3df5-d9c7-402c-b04d-8bff5b3bd5e8\")>,\n",
       " <selenium.webdriver.remote.webelement.WebElement (session=\"f8fb72ce0bd31674fe270e0bf177ac67\", element=\"5a443653-ba5a-4d18-b6c2-9f9f71a5310b\")>,\n",
       " <selenium.webdriver.remote.webelement.WebElement (session=\"f8fb72ce0bd31674fe270e0bf177ac67\", element=\"aef76720-f49c-45cc-8a38-39a95421d715\")>,\n",
       " <selenium.webdriver.remote.webelement.WebElement (session=\"f8fb72ce0bd31674fe270e0bf177ac67\", element=\"a4f2a6dc-7383-4c25-9687-4e1a72f1acce\")>,\n",
       " <selenium.webdriver.remote.webelement.WebElement (session=\"f8fb72ce0bd31674fe270e0bf177ac67\", element=\"7d03e4a7-68cc-4e54-a6fb-3ff985780028\")>,\n",
       " <selenium.webdriver.remote.webelement.WebElement (session=\"f8fb72ce0bd31674fe270e0bf177ac67\", element=\"7ee971fd-ebbd-4976-88bd-f64bdbcf8224\")>,\n",
       " <selenium.webdriver.remote.webelement.WebElement (session=\"f8fb72ce0bd31674fe270e0bf177ac67\", element=\"4eb3bc7b-53f0-4aa6-98f0-1531311a4047\")>,\n",
       " <selenium.webdriver.remote.webelement.WebElement (session=\"f8fb72ce0bd31674fe270e0bf177ac67\", element=\"9878d645-4703-4b00-b4ba-dfe97ed94338\")>,\n",
       " <selenium.webdriver.remote.webelement.WebElement (session=\"f8fb72ce0bd31674fe270e0bf177ac67\", element=\"7ec54915-37ef-480b-b0b0-2a031a061b64\")>,\n",
       " <selenium.webdriver.remote.webelement.WebElement (session=\"f8fb72ce0bd31674fe270e0bf177ac67\", element=\"ce86c8de-150f-4f5f-a5e2-197bdef427b1\")>,\n",
       " <selenium.webdriver.remote.webelement.WebElement (session=\"f8fb72ce0bd31674fe270e0bf177ac67\", element=\"7985bb65-1e8f-4427-ab82-a5c0eaa22824\")>,\n",
       " <selenium.webdriver.remote.webelement.WebElement (session=\"f8fb72ce0bd31674fe270e0bf177ac67\", element=\"dcd35829-5fe6-406f-b1f1-e3c609b1e600\")>,\n",
       " <selenium.webdriver.remote.webelement.WebElement (session=\"f8fb72ce0bd31674fe270e0bf177ac67\", element=\"2c30451a-3494-4545-9871-d0a304c23a2f\")>,\n",
       " <selenium.webdriver.remote.webelement.WebElement (session=\"f8fb72ce0bd31674fe270e0bf177ac67\", element=\"2d59421f-2f73-4c9d-8228-ff1cd945697f\")>,\n",
       " <selenium.webdriver.remote.webelement.WebElement (session=\"f8fb72ce0bd31674fe270e0bf177ac67\", element=\"6c1aa897-bf47-4a79-9507-392b1651b8a6\")>,\n",
       " <selenium.webdriver.remote.webelement.WebElement (session=\"f8fb72ce0bd31674fe270e0bf177ac67\", element=\"44377bd6-72b5-4268-b81c-c0fa84426cd6\")>,\n",
       " <selenium.webdriver.remote.webelement.WebElement (session=\"f8fb72ce0bd31674fe270e0bf177ac67\", element=\"9ceaa108-6ea3-485b-ae51-38455fc6b619\")>,\n",
       " <selenium.webdriver.remote.webelement.WebElement (session=\"f8fb72ce0bd31674fe270e0bf177ac67\", element=\"483c5e8b-c56e-4fa6-9f25-85c8042ef755\")>,\n",
       " <selenium.webdriver.remote.webelement.WebElement (session=\"f8fb72ce0bd31674fe270e0bf177ac67\", element=\"2f416246-8864-45ca-ad86-5b9be4ae38eb\")>,\n",
       " <selenium.webdriver.remote.webelement.WebElement (session=\"f8fb72ce0bd31674fe270e0bf177ac67\", element=\"839a8327-ff7c-46dc-80a1-3eb17c991c74\")>,\n",
       " <selenium.webdriver.remote.webelement.WebElement (session=\"f8fb72ce0bd31674fe270e0bf177ac67\", element=\"13c0d034-9d6b-497d-8baf-755c682f7290\")>,\n",
       " <selenium.webdriver.remote.webelement.WebElement (session=\"f8fb72ce0bd31674fe270e0bf177ac67\", element=\"9b03f632-9919-4708-a2ee-139512eece47\")>,\n",
       " <selenium.webdriver.remote.webelement.WebElement (session=\"f8fb72ce0bd31674fe270e0bf177ac67\", element=\"f7ca1240-7082-4505-a1bc-30ce02d60533\")>,\n",
       " <selenium.webdriver.remote.webelement.WebElement (session=\"f8fb72ce0bd31674fe270e0bf177ac67\", element=\"1555c366-d3d5-477b-8b09-56e571d52014\")>,\n",
       " <selenium.webdriver.remote.webelement.WebElement (session=\"f8fb72ce0bd31674fe270e0bf177ac67\", element=\"64f2c7d1-60fe-4d05-9183-be0076cbb6f4\")>,\n",
       " <selenium.webdriver.remote.webelement.WebElement (session=\"f8fb72ce0bd31674fe270e0bf177ac67\", element=\"e72e6253-5da2-4cb8-ad0a-9b3073571ca5\")>,\n",
       " <selenium.webdriver.remote.webelement.WebElement (session=\"f8fb72ce0bd31674fe270e0bf177ac67\", element=\"0f7be8d6-f87b-4d64-b2c7-e478d1086fba\")>,\n",
       " <selenium.webdriver.remote.webelement.WebElement (session=\"f8fb72ce0bd31674fe270e0bf177ac67\", element=\"88204c8d-6369-42c3-8fff-0a5450056105\")>,\n",
       " <selenium.webdriver.remote.webelement.WebElement (session=\"f8fb72ce0bd31674fe270e0bf177ac67\", element=\"edc3ad91-8c96-4ad5-b716-d88c6dc3f8a3\")>,\n",
       " <selenium.webdriver.remote.webelement.WebElement (session=\"f8fb72ce0bd31674fe270e0bf177ac67\", element=\"cafb7dab-565e-494f-8182-0f6b45358e6d\")>,\n",
       " <selenium.webdriver.remote.webelement.WebElement (session=\"f8fb72ce0bd31674fe270e0bf177ac67\", element=\"d6e5e1b0-0067-4398-ba10-6285e2fb7ba5\")>]"
      ]
     },
     "execution_count": 17,
     "metadata": {},
     "output_type": "execute_result"
    }
   ],
   "source": [
    "line4=browser.find_elements(\"xpath\",\"//div[@class='td-wrap-in']\")\n",
    "line4"
   ]
  },
  {
   "cell_type": "code",
   "execution_count": 18,
   "id": "748d16a7",
   "metadata": {},
   "outputs": [
    {
     "data": {
      "text/plain": [
       "['79.3', '72.2', '95.3', '88.4', '78.7', '42.5', '99.1', '80.8', '42.3']"
      ]
     },
     "execution_count": 18,
     "metadata": {},
     "output_type": "execute_result"
    }
   ],
   "source": [
    "#PARSING DATA\n",
    "value=[]\n",
    "for data in line4:\n",
    "    #get the text data\n",
    "    temp=data.text\n",
    "    value.append(temp)\n",
    "value_h=value[21:30]\n",
    "value_h"
   ]
  },
  {
   "cell_type": "code",
   "execution_count": 19,
   "id": "e149512d",
   "metadata": {},
   "outputs": [
    {
     "data": {
      "text/plain": [
       "{'Name': 'Zhejiang University',\n",
       " 'Location': 'Hangzhou, China (Mainland)',\n",
       " 'Rank': '=42',\n",
       " 'Overall Score': '79.3',\n",
       " 'Academic Reputation': '72.2',\n",
       " 'Employer Reputation': '95.3',\n",
       " 'Citations per Faculty': '88.4',\n",
       " 'Faculty Student Ratio': '78.7',\n",
       " 'International Students Ratio': '42.5',\n",
       " 'International Faculty Ratio': '99.1',\n",
       " 'International Research Network\\nUnweighted': '80.8',\n",
       " 'Employment Outcomes\\nUnweighted': '42.3'}"
      ]
     },
     "execution_count": 19,
     "metadata": {},
     "output_type": "execute_result"
    }
   ],
   "source": [
    "d={}\n",
    "d['Name']=value[20]\n",
    "d['Location']=address[2]\n",
    "d['Rank']=Rank[2]\n",
    "for i in range(len(column)):\n",
    "    d[column[i]]=value_h[i]\n",
    "d"
   ]
  },
  {
   "cell_type": "code",
   "execution_count": 20,
   "id": "0d305018",
   "metadata": {},
   "outputs": [
    {
     "data": {
      "text/plain": [
       "'{\"Name\": \"Zhejiang University\", \"Location\": \"Hangzhou, China (Mainland)\", \"Rank\": \"=42\", \"Overall Score\": \"79.3\", \"Academic Reputation\": \"72.2\", \"Employer Reputation\": \"95.3\", \"Citations per Faculty\": \"88.4\", \"Faculty Student Ratio\": \"78.7\", \"International Students Ratio\": \"42.5\", \"International Faculty Ratio\": \"99.1\", \"International Research Network\\\\nUnweighted\": \"80.8\", \"Employment Outcomes\\\\nUnweighted\": \"42.3\"}'"
      ]
     },
     "execution_count": 20,
     "metadata": {},
     "output_type": "execute_result"
    }
   ],
   "source": [
    "s1=json.dumps(d)\n",
    "s1\n"
   ]
  },
  {
   "cell_type": "code",
   "execution_count": 21,
   "id": "4d323b10",
   "metadata": {},
   "outputs": [],
   "source": [
    "with open('Zhejiang University.json','w') as f:\n",
    "    json.dump(d,f)\n"
   ]
  },
  {
   "cell_type": "code",
   "execution_count": null,
   "id": "e26c7a2c",
   "metadata": {},
   "outputs": [],
   "source": []
  }
 ],
 "metadata": {
  "kernelspec": {
   "display_name": "Python 3.9.12 ('base')",
   "language": "python",
   "name": "python3"
  },
  "language_info": {
   "codemirror_mode": {
    "name": "ipython",
    "version": 3
   },
   "file_extension": ".py",
   "mimetype": "text/x-python",
   "name": "python",
   "nbconvert_exporter": "python",
   "pygments_lexer": "ipython3",
   "version": "3.9.12"
  },
  "vscode": {
   "interpreter": {
    "hash": "ad2bdc8ecc057115af97d19610ffacc2b4e99fae6737bb82f5d7fb13d2f2c186"
   }
  }
 },
 "nbformat": 4,
 "nbformat_minor": 5
}
