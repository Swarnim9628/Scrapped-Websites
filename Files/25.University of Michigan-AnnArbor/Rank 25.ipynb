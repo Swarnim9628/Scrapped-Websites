{
 "cells": [
  {
   "cell_type": "code",
   "execution_count": 1,
   "id": "472ae822",
   "metadata": {},
   "outputs": [],
   "source": [
    "from selenium import webdriver\n",
    "from selenium.webdriver.chrome.service import Service\n",
    "import pandas as pd\n",
    "import json"
   ]
  },
  {
   "cell_type": "code",
   "execution_count": 2,
   "id": "3f336c54",
   "metadata": {},
   "outputs": [],
   "source": [
    "\n",
    "path = Service('C:\\chromedriver.exe')"
   ]
  },
  {
   "cell_type": "code",
   "execution_count": 3,
   "id": "fb87db9f",
   "metadata": {},
   "outputs": [],
   "source": [
    "\n",
    "# set path for the driver\n",
    "browser = webdriver.Chrome(service = path)"
   ]
  },
  {
   "cell_type": "code",
   "execution_count": 4,
   "id": "515d600e",
   "metadata": {},
   "outputs": [],
   "source": [
    "url = \"https://www.topuniversities.com/university-rankings/world-university-rankings/2023\""
   ]
  },
  {
   "cell_type": "code",
   "execution_count": 5,
   "id": "04f45777",
   "metadata": {},
   "outputs": [],
   "source": [
    "# open the page url ion chrome\n",
    "browser.get(url)"
   ]
  },
  {
   "cell_type": "code",
   "execution_count": 6,
   "id": "87f9410e",
   "metadata": {},
   "outputs": [
    {
     "data": {
      "text/plain": [
       "[<selenium.webdriver.remote.webelement.WebElement (session=\"8d478f1022398946c5a505032a05d17a\", element=\"631081bf-2cbc-46ef-a4cb-42d05eeb88de\")>,\n",
       " <selenium.webdriver.remote.webelement.WebElement (session=\"8d478f1022398946c5a505032a05d17a\", element=\"c7903e6e-c8a0-4c0d-a964-0d5500c4bb27\")>,\n",
       " <selenium.webdriver.remote.webelement.WebElement (session=\"8d478f1022398946c5a505032a05d17a\", element=\"76c7f0b1-904b-4497-91f2-63282079f8ac\")>,\n",
       " <selenium.webdriver.remote.webelement.WebElement (session=\"8d478f1022398946c5a505032a05d17a\", element=\"76a78986-b09e-418f-bfb5-4abcedb0c858\")>,\n",
       " <selenium.webdriver.remote.webelement.WebElement (session=\"8d478f1022398946c5a505032a05d17a\", element=\"14c85df4-a55a-44bf-8a21-0b8e18d62e53\")>,\n",
       " <selenium.webdriver.remote.webelement.WebElement (session=\"8d478f1022398946c5a505032a05d17a\", element=\"4dda8dd2-ce29-4376-8ecc-78fa3fffbf61\")>,\n",
       " <selenium.webdriver.remote.webelement.WebElement (session=\"8d478f1022398946c5a505032a05d17a\", element=\"53460e25-ec05-4461-932e-9d6dd156c297\")>,\n",
       " <selenium.webdriver.remote.webelement.WebElement (session=\"8d478f1022398946c5a505032a05d17a\", element=\"d6abbba1-941c-4a48-8e90-b01a40f25c8e\")>,\n",
       " <selenium.webdriver.remote.webelement.WebElement (session=\"8d478f1022398946c5a505032a05d17a\", element=\"aeef856e-e34a-4120-9cd0-30bcd58347f5\")>,\n",
       " <selenium.webdriver.remote.webelement.WebElement (session=\"8d478f1022398946c5a505032a05d17a\", element=\"1e5b8e9f-c921-4dba-bc7a-65a0b0f73f8c\")>,\n",
       " <selenium.webdriver.remote.webelement.WebElement (session=\"8d478f1022398946c5a505032a05d17a\", element=\"13e432aa-a98b-4189-a962-f06ed38ac4ac\")>,\n",
       " <selenium.webdriver.remote.webelement.WebElement (session=\"8d478f1022398946c5a505032a05d17a\", element=\"fb0696b7-8dce-4a82-8dc3-f313f2f3b843\")>,\n",
       " <selenium.webdriver.remote.webelement.WebElement (session=\"8d478f1022398946c5a505032a05d17a\", element=\"d7fdd8fd-d2a4-409c-a229-06a3e9e5b8d1\")>,\n",
       " <selenium.webdriver.remote.webelement.WebElement (session=\"8d478f1022398946c5a505032a05d17a\", element=\"e8d1cf32-5aa0-44f5-acaa-a04ae5e81cf4\")>,\n",
       " <selenium.webdriver.remote.webelement.WebElement (session=\"8d478f1022398946c5a505032a05d17a\", element=\"7a4b24ce-da39-4161-ae74-f0e09fb52ac0\")>,\n",
       " <selenium.webdriver.remote.webelement.WebElement (session=\"8d478f1022398946c5a505032a05d17a\", element=\"7c1ec237-2b78-4428-b4a6-f964fd77994a\")>,\n",
       " <selenium.webdriver.remote.webelement.WebElement (session=\"8d478f1022398946c5a505032a05d17a\", element=\"44d8d4b6-1540-40fe-8b3b-02b732afb4fb\")>,\n",
       " <selenium.webdriver.remote.webelement.WebElement (session=\"8d478f1022398946c5a505032a05d17a\", element=\"81882fca-7d83-4513-9b3b-1625bc9f472f\")>,\n",
       " <selenium.webdriver.remote.webelement.WebElement (session=\"8d478f1022398946c5a505032a05d17a\", element=\"e0120c79-2cb5-4510-aa20-237439f131c3\")>,\n",
       " <selenium.webdriver.remote.webelement.WebElement (session=\"8d478f1022398946c5a505032a05d17a\", element=\"e522108c-7bda-40f7-a1e5-294defdbc5ff\")>]"
      ]
     },
     "execution_count": 6,
     "metadata": {},
     "output_type": "execute_result"
    }
   ],
   "source": [
    "line1=browser.find_elements(\"xpath\",\"//div[@class='location ']\")\n",
    "line1\n",
    "\n"
   ]
  },
  {
   "cell_type": "code",
   "execution_count": 7,
   "id": "f485c318",
   "metadata": {},
   "outputs": [
    {
     "data": {
      "text/plain": [
       "[' Hong Kong SAR',\n",
       " 'New York City, United States',\n",
       " 'Tokyo, Japan',\n",
       " 'Baltimore, United States',\n",
       " 'Ann Arbor, United States',\n",
       " 'Paris, France',\n",
       " 'Berkeley, United States',\n",
       " 'Manchester, United Kingdom',\n",
       " 'Seoul, South Korea',\n",
       " 'Canberra, Australia']"
      ]
     },
     "execution_count": 7,
     "metadata": {},
     "output_type": "execute_result"
    }
   ],
   "source": [
    "address=[]\n",
    "for data in line1:\n",
    "    #get the text data\n",
    "    temp=data.text\n",
    "    address.append(temp)\n",
    "address=address[10:]\n",
    "address"
   ]
  },
  {
   "cell_type": "code",
   "execution_count": 8,
   "id": "0f273de6",
   "metadata": {},
   "outputs": [
    {
     "data": {
      "text/plain": [
       "[<selenium.webdriver.remote.webelement.WebElement (session=\"8d478f1022398946c5a505032a05d17a\", element=\"26338583-ac59-48ce-b6fe-b4a33bd8c42e\")>,\n",
       " <selenium.webdriver.remote.webelement.WebElement (session=\"8d478f1022398946c5a505032a05d17a\", element=\"8ef97fa4-7023-4f4a-96df-c7e984d95dfa\")>,\n",
       " <selenium.webdriver.remote.webelement.WebElement (session=\"8d478f1022398946c5a505032a05d17a\", element=\"cf747ee6-2950-479f-8e1f-6311b311116a\")>,\n",
       " <selenium.webdriver.remote.webelement.WebElement (session=\"8d478f1022398946c5a505032a05d17a\", element=\"dbde33ee-a12d-4376-b4a2-55aae75ddace\")>,\n",
       " <selenium.webdriver.remote.webelement.WebElement (session=\"8d478f1022398946c5a505032a05d17a\", element=\"7b6c5646-cf36-41da-a75e-8f730401d8cc\")>,\n",
       " <selenium.webdriver.remote.webelement.WebElement (session=\"8d478f1022398946c5a505032a05d17a\", element=\"4982fb5c-59a2-4659-8439-5f9d13fdeccc\")>,\n",
       " <selenium.webdriver.remote.webelement.WebElement (session=\"8d478f1022398946c5a505032a05d17a\", element=\"fa01d1c4-f3cc-4de8-be4d-498b591efcc1\")>,\n",
       " <selenium.webdriver.remote.webelement.WebElement (session=\"8d478f1022398946c5a505032a05d17a\", element=\"843cfee8-9881-4f87-a821-c1fff5d2a98c\")>,\n",
       " <selenium.webdriver.remote.webelement.WebElement (session=\"8d478f1022398946c5a505032a05d17a\", element=\"9bf2f35c-2be8-43d7-8233-985f4950d655\")>,\n",
       " <selenium.webdriver.remote.webelement.WebElement (session=\"8d478f1022398946c5a505032a05d17a\", element=\"ce5c4116-0b67-453e-9491-feb94111511e\")>]"
      ]
     },
     "execution_count": 8,
     "metadata": {},
     "output_type": "execute_result"
    }
   ],
   "source": [
    "line2=browser.find_elements(\"xpath\",\"//div[@class='_univ-rank ']\")\n",
    "line2"
   ]
  },
  {
   "cell_type": "code",
   "execution_count": 9,
   "id": "73e3b4c4",
   "metadata": {},
   "outputs": [
    {
     "data": {
      "text/plain": [
       "['21', '22', '23', '24', '25', '26', '27', '28', '29', '30']"
      ]
     },
     "execution_count": 9,
     "metadata": {},
     "output_type": "execute_result"
    }
   ],
   "source": [
    "Rank=[]\n",
    "for data in line2:\n",
    "    #get the text data\n",
    "    temp=data.text\n",
    "    Rank.append(temp)\n",
    "Rank"
   ]
  },
  {
   "cell_type": "code",
   "execution_count": 10,
   "id": "4bfdb1ce",
   "metadata": {},
   "outputs": [
    {
     "data": {
      "text/plain": [
       "[<selenium.webdriver.remote.webelement.WebElement (session=\"8d478f1022398946c5a505032a05d17a\", element=\"e8e2fbc2-795e-4c8a-9233-c30e18e0b7a8\")>,\n",
       " <selenium.webdriver.remote.webelement.WebElement (session=\"8d478f1022398946c5a505032a05d17a\", element=\"6e59d445-97ba-421d-b34a-cbe708010f78\")>,\n",
       " <selenium.webdriver.remote.webelement.WebElement (session=\"8d478f1022398946c5a505032a05d17a\", element=\"ce0f7cd8-a70e-449d-b5ce-14d280498669\")>,\n",
       " <selenium.webdriver.remote.webelement.WebElement (session=\"8d478f1022398946c5a505032a05d17a\", element=\"f609cd6b-7f95-4b9f-be4b-9a6925452ab1\")>,\n",
       " <selenium.webdriver.remote.webelement.WebElement (session=\"8d478f1022398946c5a505032a05d17a\", element=\"bb24f7b3-5727-4511-a1a2-45359d807223\")>,\n",
       " <selenium.webdriver.remote.webelement.WebElement (session=\"8d478f1022398946c5a505032a05d17a\", element=\"2ad1d179-f933-4c21-b565-5d26a0fd3157\")>,\n",
       " <selenium.webdriver.remote.webelement.WebElement (session=\"8d478f1022398946c5a505032a05d17a\", element=\"0ea541f2-a89e-4eb4-88a9-60357aeb5320\")>,\n",
       " <selenium.webdriver.remote.webelement.WebElement (session=\"8d478f1022398946c5a505032a05d17a\", element=\"b2ecbc5e-b4c6-4d66-bc97-11f32be9fdeb\")>,\n",
       " <selenium.webdriver.remote.webelement.WebElement (session=\"8d478f1022398946c5a505032a05d17a\", element=\"8379d5b0-e63e-4d66-8db1-317d75e8805c\")>]"
      ]
     },
     "execution_count": 10,
     "metadata": {},
     "output_type": "execute_result"
    }
   ],
   "source": [
    "# GET EACH COLLEGE SPECIFICATION HEADERS\n",
    "line3=browser.find_elements(\"xpath\",\"//div[@class='_click-function_ind']\")\n",
    "line3"
   ]
  },
  {
   "cell_type": "code",
   "execution_count": 11,
   "id": "1a214528",
   "metadata": {},
   "outputs": [
    {
     "data": {
      "text/plain": [
       "['Overall Score',\n",
       " 'Academic Reputation',\n",
       " 'Employer Reputation',\n",
       " 'Citations per Faculty',\n",
       " 'Faculty Student Ratio',\n",
       " 'International Students Ratio',\n",
       " 'International Faculty Ratio',\n",
       " 'International Research Network\\nUnweighted',\n",
       " 'Employment Outcomes\\nUnweighted']"
      ]
     },
     "execution_count": 11,
     "metadata": {},
     "output_type": "execute_result"
    }
   ],
   "source": [
    "#PARSING DATA\n",
    "column=[]\n",
    "for data in line3:\n",
    "    #get the text data\n",
    "    temp=data.text\n",
    "    column.append(temp)\n",
    "column"
   ]
  },
  {
   "cell_type": "code",
   "execution_count": 12,
   "id": "9509acb1",
   "metadata": {},
   "outputs": [
    {
     "data": {
      "text/plain": [
       "[<selenium.webdriver.remote.webelement.WebElement (session=\"8d478f1022398946c5a505032a05d17a\", element=\"67e05c7c-d9ad-4962-ba19-baab2e8b467e\")>,\n",
       " <selenium.webdriver.remote.webelement.WebElement (session=\"8d478f1022398946c5a505032a05d17a\", element=\"107eee74-eff0-42bb-8ac3-1cffeca2757c\")>,\n",
       " <selenium.webdriver.remote.webelement.WebElement (session=\"8d478f1022398946c5a505032a05d17a\", element=\"1914f99b-de07-4de5-9c60-57c10a044c1a\")>,\n",
       " <selenium.webdriver.remote.webelement.WebElement (session=\"8d478f1022398946c5a505032a05d17a\", element=\"7e5f0fcf-a487-41a7-9cb9-0245f4f9fc38\")>,\n",
       " <selenium.webdriver.remote.webelement.WebElement (session=\"8d478f1022398946c5a505032a05d17a\", element=\"b05d77b5-ace0-4112-a55a-5a98df766c16\")>,\n",
       " <selenium.webdriver.remote.webelement.WebElement (session=\"8d478f1022398946c5a505032a05d17a\", element=\"98ae10d0-37e9-4073-bd90-08751b2558c0\")>,\n",
       " <selenium.webdriver.remote.webelement.WebElement (session=\"8d478f1022398946c5a505032a05d17a\", element=\"3c919416-9dba-46b9-9d82-2f5dabae9511\")>,\n",
       " <selenium.webdriver.remote.webelement.WebElement (session=\"8d478f1022398946c5a505032a05d17a\", element=\"f3d3a0b6-9839-4fc6-bce5-27ee1b0489b7\")>,\n",
       " <selenium.webdriver.remote.webelement.WebElement (session=\"8d478f1022398946c5a505032a05d17a\", element=\"d89ada9b-4d68-4453-8a50-a15e3d0ac981\")>,\n",
       " <selenium.webdriver.remote.webelement.WebElement (session=\"8d478f1022398946c5a505032a05d17a\", element=\"057e271c-635f-4fd1-80de-89d08e5baab3\")>,\n",
       " <selenium.webdriver.remote.webelement.WebElement (session=\"8d478f1022398946c5a505032a05d17a\", element=\"5163b22e-4a86-46e5-96a6-0ced55385ea7\")>,\n",
       " <selenium.webdriver.remote.webelement.WebElement (session=\"8d478f1022398946c5a505032a05d17a\", element=\"a21ef1b0-16fc-4223-88b5-4e0e2d3bd688\")>,\n",
       " <selenium.webdriver.remote.webelement.WebElement (session=\"8d478f1022398946c5a505032a05d17a\", element=\"d400cebb-3b00-4c61-b024-8c1a1ca43c3c\")>,\n",
       " <selenium.webdriver.remote.webelement.WebElement (session=\"8d478f1022398946c5a505032a05d17a\", element=\"5a7d009b-f1f2-42ff-89d2-df0b710a1b37\")>,\n",
       " <selenium.webdriver.remote.webelement.WebElement (session=\"8d478f1022398946c5a505032a05d17a\", element=\"c78d04a0-8344-4e88-a90d-e489084190de\")>,\n",
       " <selenium.webdriver.remote.webelement.WebElement (session=\"8d478f1022398946c5a505032a05d17a\", element=\"7e44f864-b12a-48f7-82c7-472160ca7aec\")>,\n",
       " <selenium.webdriver.remote.webelement.WebElement (session=\"8d478f1022398946c5a505032a05d17a\", element=\"2933ee9b-2db8-4a2a-9182-94229008c5bb\")>,\n",
       " <selenium.webdriver.remote.webelement.WebElement (session=\"8d478f1022398946c5a505032a05d17a\", element=\"60cc6e4c-39d9-4f49-a400-a26edf3f94a8\")>,\n",
       " <selenium.webdriver.remote.webelement.WebElement (session=\"8d478f1022398946c5a505032a05d17a\", element=\"bcefd2be-4017-40f2-846e-27efeab66144\")>,\n",
       " <selenium.webdriver.remote.webelement.WebElement (session=\"8d478f1022398946c5a505032a05d17a\", element=\"706dc183-b9bb-42e8-b602-dacd0397b4ca\")>,\n",
       " <selenium.webdriver.remote.webelement.WebElement (session=\"8d478f1022398946c5a505032a05d17a\", element=\"d22e1045-24bb-4671-a646-0e1d86fdba3c\")>,\n",
       " <selenium.webdriver.remote.webelement.WebElement (session=\"8d478f1022398946c5a505032a05d17a\", element=\"b3b3fbb2-b5d3-4582-92ab-004ef9dd1130\")>,\n",
       " <selenium.webdriver.remote.webelement.WebElement (session=\"8d478f1022398946c5a505032a05d17a\", element=\"d584b0fd-efba-4487-9834-9df58fbd6acd\")>,\n",
       " <selenium.webdriver.remote.webelement.WebElement (session=\"8d478f1022398946c5a505032a05d17a\", element=\"96abd2cc-c1cf-4c1d-8641-4f781eb07f1c\")>,\n",
       " <selenium.webdriver.remote.webelement.WebElement (session=\"8d478f1022398946c5a505032a05d17a\", element=\"d7e66353-9bc7-4c77-af30-330f9c8b502a\")>,\n",
       " <selenium.webdriver.remote.webelement.WebElement (session=\"8d478f1022398946c5a505032a05d17a\", element=\"ed4b5660-1c95-4437-ab75-e35009693f6a\")>,\n",
       " <selenium.webdriver.remote.webelement.WebElement (session=\"8d478f1022398946c5a505032a05d17a\", element=\"a7602741-c586-4925-be74-f67ce3a98901\")>,\n",
       " <selenium.webdriver.remote.webelement.WebElement (session=\"8d478f1022398946c5a505032a05d17a\", element=\"b51c416d-036e-4a9b-83f5-6a929c70f918\")>,\n",
       " <selenium.webdriver.remote.webelement.WebElement (session=\"8d478f1022398946c5a505032a05d17a\", element=\"627ee0a6-0f9f-4c3f-a1f4-296e6ba18908\")>,\n",
       " <selenium.webdriver.remote.webelement.WebElement (session=\"8d478f1022398946c5a505032a05d17a\", element=\"d06bd44b-4ac4-4385-9fa6-4ea7b861ef8a\")>,\n",
       " <selenium.webdriver.remote.webelement.WebElement (session=\"8d478f1022398946c5a505032a05d17a\", element=\"699af37a-23f9-4702-8469-a56e6a3f4df2\")>,\n",
       " <selenium.webdriver.remote.webelement.WebElement (session=\"8d478f1022398946c5a505032a05d17a\", element=\"9dfe904e-62d9-4903-b3d5-e55e501a1b7e\")>,\n",
       " <selenium.webdriver.remote.webelement.WebElement (session=\"8d478f1022398946c5a505032a05d17a\", element=\"c1325062-af7c-45aa-92bd-8be31dee18b2\")>,\n",
       " <selenium.webdriver.remote.webelement.WebElement (session=\"8d478f1022398946c5a505032a05d17a\", element=\"d3557154-81f3-44b0-9c7a-d83af9dee56c\")>,\n",
       " <selenium.webdriver.remote.webelement.WebElement (session=\"8d478f1022398946c5a505032a05d17a\", element=\"b7629d76-a5d8-474f-9b0b-fc6193e32459\")>,\n",
       " <selenium.webdriver.remote.webelement.WebElement (session=\"8d478f1022398946c5a505032a05d17a\", element=\"4341ca1c-b4a6-4362-b1f1-4b3bf8503b49\")>,\n",
       " <selenium.webdriver.remote.webelement.WebElement (session=\"8d478f1022398946c5a505032a05d17a\", element=\"a60bd008-a4c3-462a-9f34-a7ec95572258\")>,\n",
       " <selenium.webdriver.remote.webelement.WebElement (session=\"8d478f1022398946c5a505032a05d17a\", element=\"88da4d2e-f4ce-42d2-8a00-9f0695af5849\")>,\n",
       " <selenium.webdriver.remote.webelement.WebElement (session=\"8d478f1022398946c5a505032a05d17a\", element=\"c6ef6c4d-507c-434c-86db-356bae6f2c8b\")>,\n",
       " <selenium.webdriver.remote.webelement.WebElement (session=\"8d478f1022398946c5a505032a05d17a\", element=\"d2047f97-f9f4-47c8-96bd-03158628e698\")>,\n",
       " <selenium.webdriver.remote.webelement.WebElement (session=\"8d478f1022398946c5a505032a05d17a\", element=\"f71612d1-8392-4d55-ad01-73a0fc8b0e70\")>,\n",
       " <selenium.webdriver.remote.webelement.WebElement (session=\"8d478f1022398946c5a505032a05d17a\", element=\"b628eaff-8a50-402d-bc88-bdfae75df0c8\")>,\n",
       " <selenium.webdriver.remote.webelement.WebElement (session=\"8d478f1022398946c5a505032a05d17a\", element=\"ef3671b6-d5a7-4ad7-8550-ea37880b43ed\")>,\n",
       " <selenium.webdriver.remote.webelement.WebElement (session=\"8d478f1022398946c5a505032a05d17a\", element=\"d2331162-7c11-479f-a274-18d6966da13d\")>,\n",
       " <selenium.webdriver.remote.webelement.WebElement (session=\"8d478f1022398946c5a505032a05d17a\", element=\"ee52c67e-eec9-4626-9b1f-377a2bb1030c\")>,\n",
       " <selenium.webdriver.remote.webelement.WebElement (session=\"8d478f1022398946c5a505032a05d17a\", element=\"7890a34d-0781-40b3-be6f-0fd9ef3a35af\")>,\n",
       " <selenium.webdriver.remote.webelement.WebElement (session=\"8d478f1022398946c5a505032a05d17a\", element=\"028d1351-3124-4680-8fc4-f774b2ecb13d\")>,\n",
       " <selenium.webdriver.remote.webelement.WebElement (session=\"8d478f1022398946c5a505032a05d17a\", element=\"278751ae-faa4-49f5-85f7-9b653addcc53\")>,\n",
       " <selenium.webdriver.remote.webelement.WebElement (session=\"8d478f1022398946c5a505032a05d17a\", element=\"89b99b24-d841-4c20-90be-eefd92376c9e\")>,\n",
       " <selenium.webdriver.remote.webelement.WebElement (session=\"8d478f1022398946c5a505032a05d17a\", element=\"9292d037-7294-40ef-b05c-301c09e83989\")>,\n",
       " <selenium.webdriver.remote.webelement.WebElement (session=\"8d478f1022398946c5a505032a05d17a\", element=\"ccf4f0aa-35c3-41c7-bac7-bb051f7f7aa5\")>,\n",
       " <selenium.webdriver.remote.webelement.WebElement (session=\"8d478f1022398946c5a505032a05d17a\", element=\"b6d7a45f-bd83-4076-b682-d20c7851acc3\")>,\n",
       " <selenium.webdriver.remote.webelement.WebElement (session=\"8d478f1022398946c5a505032a05d17a\", element=\"67363acd-248f-46a2-bf18-8c404b9d0b9c\")>,\n",
       " <selenium.webdriver.remote.webelement.WebElement (session=\"8d478f1022398946c5a505032a05d17a\", element=\"3419bea8-1772-4369-afb6-729faae72a01\")>,\n",
       " <selenium.webdriver.remote.webelement.WebElement (session=\"8d478f1022398946c5a505032a05d17a\", element=\"c6dae419-054e-4b9e-8a3b-ffca3c775ba0\")>,\n",
       " <selenium.webdriver.remote.webelement.WebElement (session=\"8d478f1022398946c5a505032a05d17a\", element=\"c9f17b36-f9d0-4015-828f-a092c1e89b91\")>,\n",
       " <selenium.webdriver.remote.webelement.WebElement (session=\"8d478f1022398946c5a505032a05d17a\", element=\"a95018d3-6c3d-400b-80da-d6fec92b7a29\")>,\n",
       " <selenium.webdriver.remote.webelement.WebElement (session=\"8d478f1022398946c5a505032a05d17a\", element=\"3d2c3c42-6e03-4f8d-95c4-392dc972206b\")>,\n",
       " <selenium.webdriver.remote.webelement.WebElement (session=\"8d478f1022398946c5a505032a05d17a\", element=\"be41b4c9-b142-4331-b4ef-ce3b600d2c76\")>,\n",
       " <selenium.webdriver.remote.webelement.WebElement (session=\"8d478f1022398946c5a505032a05d17a\", element=\"2884c46c-03ec-4775-87a6-efc243150293\")>,\n",
       " <selenium.webdriver.remote.webelement.WebElement (session=\"8d478f1022398946c5a505032a05d17a\", element=\"2ce3b387-a53c-4388-ac9b-ace4f65f05f7\")>,\n",
       " <selenium.webdriver.remote.webelement.WebElement (session=\"8d478f1022398946c5a505032a05d17a\", element=\"1d4ca29d-5e52-4895-a94e-f8f5549d051a\")>,\n",
       " <selenium.webdriver.remote.webelement.WebElement (session=\"8d478f1022398946c5a505032a05d17a\", element=\"6479b355-ef6c-4329-a9ef-327c09ed86b3\")>,\n",
       " <selenium.webdriver.remote.webelement.WebElement (session=\"8d478f1022398946c5a505032a05d17a\", element=\"d3c87cfb-d677-4f90-8b95-6dc1a08d8cb2\")>,\n",
       " <selenium.webdriver.remote.webelement.WebElement (session=\"8d478f1022398946c5a505032a05d17a\", element=\"ff709381-fb5c-4e08-b9e6-d04b2f857cb0\")>,\n",
       " <selenium.webdriver.remote.webelement.WebElement (session=\"8d478f1022398946c5a505032a05d17a\", element=\"20263e89-3fd4-44c8-9aa3-c0f5d3a0cc20\")>,\n",
       " <selenium.webdriver.remote.webelement.WebElement (session=\"8d478f1022398946c5a505032a05d17a\", element=\"e338b5ea-7dc0-4841-a089-e500b9b83918\")>,\n",
       " <selenium.webdriver.remote.webelement.WebElement (session=\"8d478f1022398946c5a505032a05d17a\", element=\"da13b1ae-7256-44de-b2c6-b09e5f3c6797\")>,\n",
       " <selenium.webdriver.remote.webelement.WebElement (session=\"8d478f1022398946c5a505032a05d17a\", element=\"8768f5da-9ff1-4c75-b5a8-05fb796885df\")>,\n",
       " <selenium.webdriver.remote.webelement.WebElement (session=\"8d478f1022398946c5a505032a05d17a\", element=\"967db766-7e9f-49f5-b8e9-d8227bfc9698\")>,\n",
       " <selenium.webdriver.remote.webelement.WebElement (session=\"8d478f1022398946c5a505032a05d17a\", element=\"ece7871e-6839-41f4-a26e-0a1646267745\")>,\n",
       " <selenium.webdriver.remote.webelement.WebElement (session=\"8d478f1022398946c5a505032a05d17a\", element=\"dd4f4748-8401-4fbf-a4d9-a5a5bac83da3\")>,\n",
       " <selenium.webdriver.remote.webelement.WebElement (session=\"8d478f1022398946c5a505032a05d17a\", element=\"2f5d0a12-36e6-4ed0-acb0-f1ece357f4a3\")>,\n",
       " <selenium.webdriver.remote.webelement.WebElement (session=\"8d478f1022398946c5a505032a05d17a\", element=\"ed279470-98ac-401c-ac28-1b9bc3fbb3f2\")>,\n",
       " <selenium.webdriver.remote.webelement.WebElement (session=\"8d478f1022398946c5a505032a05d17a\", element=\"f0603196-9110-449f-a430-0d85d12c68a0\")>,\n",
       " <selenium.webdriver.remote.webelement.WebElement (session=\"8d478f1022398946c5a505032a05d17a\", element=\"cb9f08a6-6146-4de3-8287-26678e027a25\")>,\n",
       " <selenium.webdriver.remote.webelement.WebElement (session=\"8d478f1022398946c5a505032a05d17a\", element=\"2fe63aca-a631-457a-9110-82d01d4f6775\")>,\n",
       " <selenium.webdriver.remote.webelement.WebElement (session=\"8d478f1022398946c5a505032a05d17a\", element=\"120376d3-34b8-45fb-bdac-0aafd08fab21\")>,\n",
       " <selenium.webdriver.remote.webelement.WebElement (session=\"8d478f1022398946c5a505032a05d17a\", element=\"d9f2807d-4c6f-433e-a6a6-81fecf4ed9b7\")>,\n",
       " <selenium.webdriver.remote.webelement.WebElement (session=\"8d478f1022398946c5a505032a05d17a\", element=\"ebbf3ea0-6a3d-489e-a782-5a07176da1bc\")>,\n",
       " <selenium.webdriver.remote.webelement.WebElement (session=\"8d478f1022398946c5a505032a05d17a\", element=\"b3d5c5ad-6f02-4aa6-ad70-ff9ee9460412\")>,\n",
       " <selenium.webdriver.remote.webelement.WebElement (session=\"8d478f1022398946c5a505032a05d17a\", element=\"acf96584-ac08-4dae-80a4-6c6ee4c80947\")>,\n",
       " <selenium.webdriver.remote.webelement.WebElement (session=\"8d478f1022398946c5a505032a05d17a\", element=\"9a7769c5-1edb-4566-9577-f17957cffd8b\")>,\n",
       " <selenium.webdriver.remote.webelement.WebElement (session=\"8d478f1022398946c5a505032a05d17a\", element=\"4372e163-790d-4ff1-b388-48ddc6cffdd0\")>,\n",
       " <selenium.webdriver.remote.webelement.WebElement (session=\"8d478f1022398946c5a505032a05d17a\", element=\"4924cdda-8d11-4843-b3d3-ad378b46cdda\")>,\n",
       " <selenium.webdriver.remote.webelement.WebElement (session=\"8d478f1022398946c5a505032a05d17a\", element=\"db917a21-9b4a-4eac-b2b3-94582085a19b\")>,\n",
       " <selenium.webdriver.remote.webelement.WebElement (session=\"8d478f1022398946c5a505032a05d17a\", element=\"94b113dc-b81e-4b5d-b4ac-63acb64e24c0\")>,\n",
       " <selenium.webdriver.remote.webelement.WebElement (session=\"8d478f1022398946c5a505032a05d17a\", element=\"0e4c66e6-699b-4c4d-b8cf-3a112360c7bb\")>,\n",
       " <selenium.webdriver.remote.webelement.WebElement (session=\"8d478f1022398946c5a505032a05d17a\", element=\"ce5be7f1-d8d0-4c8e-b592-8be7e9421737\")>,\n",
       " <selenium.webdriver.remote.webelement.WebElement (session=\"8d478f1022398946c5a505032a05d17a\", element=\"5ae7ae07-dfe2-4cde-9797-2b7915c5cbc4\")>,\n",
       " <selenium.webdriver.remote.webelement.WebElement (session=\"8d478f1022398946c5a505032a05d17a\", element=\"909ffad6-82d6-4b7f-889b-a230b4c5bfbe\")>,\n",
       " <selenium.webdriver.remote.webelement.WebElement (session=\"8d478f1022398946c5a505032a05d17a\", element=\"e62b0127-be7e-4e5c-be6a-938df0b7603a\")>,\n",
       " <selenium.webdriver.remote.webelement.WebElement (session=\"8d478f1022398946c5a505032a05d17a\", element=\"7bf8d780-893c-40d0-b155-cbdab46034ee\")>,\n",
       " <selenium.webdriver.remote.webelement.WebElement (session=\"8d478f1022398946c5a505032a05d17a\", element=\"e119c639-dbe3-4939-9bb8-26841708d681\")>,\n",
       " <selenium.webdriver.remote.webelement.WebElement (session=\"8d478f1022398946c5a505032a05d17a\", element=\"e196e659-458f-49cd-8ab2-7797b3e055f7\")>,\n",
       " <selenium.webdriver.remote.webelement.WebElement (session=\"8d478f1022398946c5a505032a05d17a\", element=\"4fa6faa6-3a1b-4228-920d-ebdfaaa5ffd2\")>,\n",
       " <selenium.webdriver.remote.webelement.WebElement (session=\"8d478f1022398946c5a505032a05d17a\", element=\"0e7f47d6-27bf-44a2-8106-3baed677e66b\")>,\n",
       " <selenium.webdriver.remote.webelement.WebElement (session=\"8d478f1022398946c5a505032a05d17a\", element=\"54c3195a-ddeb-4ba5-b54e-23d297d56978\")>,\n",
       " <selenium.webdriver.remote.webelement.WebElement (session=\"8d478f1022398946c5a505032a05d17a\", element=\"2b3e997b-6a47-4c81-abd7-08a1e84b65f4\")>,\n",
       " <selenium.webdriver.remote.webelement.WebElement (session=\"8d478f1022398946c5a505032a05d17a\", element=\"9476fdb0-c7b8-438f-937a-857da2c53ef5\")>]"
      ]
     },
     "execution_count": 12,
     "metadata": {},
     "output_type": "execute_result"
    }
   ],
   "source": [
    "line4=browser.find_elements(\"xpath\",\"//div[@class='td-wrap-in']\")\n",
    "line4"
   ]
  },
  {
   "cell_type": "code",
   "execution_count": 14,
   "id": "67dff848",
   "metadata": {},
   "outputs": [
    {
     "data": {
      "text/plain": [
       "['84.4', '98.5', '91.3', '62.5', '88.9', '33.1', '71.2', '96.3', '96']"
      ]
     },
     "execution_count": 14,
     "metadata": {},
     "output_type": "execute_result"
    }
   ],
   "source": [
    "#PARSING DATA\n",
    "value=[]\n",
    "for data in line4:\n",
    "    #get the text data\n",
    "    temp=data.text\n",
    "    value.append(temp)\n",
    "value_h=value[41:50]\n",
    "value_h"
   ]
  },
  {
   "cell_type": "code",
   "execution_count": 16,
   "id": "25dfdb27",
   "metadata": {},
   "outputs": [
    {
     "data": {
      "text/plain": [
       "{'Name': 'University of Michigan-Ann Arbor',\n",
       " 'Location': 'Ann Arbor, United States',\n",
       " 'Rank': '25',\n",
       " 'Overall Score': '84.4',\n",
       " 'Academic Reputation': '98.5',\n",
       " 'Employer Reputation': '91.3',\n",
       " 'Citations per Faculty': '62.5',\n",
       " 'Faculty Student Ratio': '88.9',\n",
       " 'International Students Ratio': '33.1',\n",
       " 'International Faculty Ratio': '71.2',\n",
       " 'International Research Network\\nUnweighted': '96.3',\n",
       " 'Employment Outcomes\\nUnweighted': '96'}"
      ]
     },
     "execution_count": 16,
     "metadata": {},
     "output_type": "execute_result"
    }
   ],
   "source": [
    "d={}\n",
    "d['Name']=value[40]\n",
    "d['Location']=address[4]\n",
    "d['Rank']=Rank[4]\n",
    "for i in range(len(column)):\n",
    "    d[column[i]]=value_h[i]\n",
    "d"
   ]
  },
  {
   "cell_type": "code",
   "execution_count": 17,
   "id": "69d484ea",
   "metadata": {},
   "outputs": [
    {
     "data": {
      "text/plain": [
       "'{\"Name\": \"University of Michigan-Ann Arbor\", \"Location\": \"Ann Arbor, United States\", \"Rank\": \"25\", \"Overall Score\": \"84.4\", \"Academic Reputation\": \"98.5\", \"Employer Reputation\": \"91.3\", \"Citations per Faculty\": \"62.5\", \"Faculty Student Ratio\": \"88.9\", \"International Students Ratio\": \"33.1\", \"International Faculty Ratio\": \"71.2\", \"International Research Network\\\\nUnweighted\": \"96.3\", \"Employment Outcomes\\\\nUnweighted\": \"96\"}'"
      ]
     },
     "execution_count": 17,
     "metadata": {},
     "output_type": "execute_result"
    }
   ],
   "source": [
    "s1=json.dumps(d)\n",
    "s1"
   ]
  },
  {
   "cell_type": "code",
   "execution_count": 19,
   "id": "4b1a8b7a",
   "metadata": {},
   "outputs": [],
   "source": [
    "with open('University of Michigan-Ann Arbor.json','w') as f:\n",
    "    json.dump(d,f)"
   ]
  },
  {
   "cell_type": "code",
   "execution_count": null,
   "id": "b1bc3417",
   "metadata": {},
   "outputs": [],
   "source": []
  }
 ],
 "metadata": {
  "kernelspec": {
   "display_name": "Python 3.9.12 ('base')",
   "language": "python",
   "name": "python3"
  },
  "language_info": {
   "codemirror_mode": {
    "name": "ipython",
    "version": 3
   },
   "file_extension": ".py",
   "mimetype": "text/x-python",
   "name": "python",
   "nbconvert_exporter": "python",
   "pygments_lexer": "ipython3",
   "version": "3.9.12"
  },
  "vscode": {
   "interpreter": {
    "hash": "ad2bdc8ecc057115af97d19610ffacc2b4e99fae6737bb82f5d7fb13d2f2c186"
   }
  }
 },
 "nbformat": 4,
 "nbformat_minor": 5
}
