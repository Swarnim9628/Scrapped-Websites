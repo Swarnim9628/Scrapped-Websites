{
 "cells": [
  {
   "cell_type": "code",
   "execution_count": 1,
   "id": "907fba23",
   "metadata": {},
   "outputs": [],
   "source": [
    "from selenium import webdriver\n",
    "from selenium.webdriver.chrome.service import Service\n",
    "import pandas as pd\n",
    "import json"
   ]
  },
  {
   "cell_type": "code",
   "execution_count": 2,
   "id": "ae82a676",
   "metadata": {},
   "outputs": [],
   "source": [
    "path = Service('C:\\chromedriver.exe')\n"
   ]
  },
  {
   "cell_type": "code",
   "execution_count": 3,
   "id": "fe198d25",
   "metadata": {},
   "outputs": [],
   "source": [
    "# set path for the driver\n",
    "browser = webdriver.Chrome(service = path)\n"
   ]
  },
  {
   "cell_type": "code",
   "execution_count": 4,
   "id": "3bc2780a",
   "metadata": {},
   "outputs": [],
   "source": [
    "url = \"https://www.topuniversities.com/university-rankings/world-university-rankings/2023\"\n"
   ]
  },
  {
   "cell_type": "code",
   "execution_count": 5,
   "id": "605705e8",
   "metadata": {},
   "outputs": [],
   "source": [
    "# open the page url ion chrome\n",
    "browser.get(url)"
   ]
  },
  {
   "cell_type": "code",
   "execution_count": 6,
   "id": "8b016a9b",
   "metadata": {},
   "outputs": [
    {
     "data": {
      "text/plain": [
       "[<selenium.webdriver.remote.webelement.WebElement (session=\"cfa74328d14c56ff38de1ed3cfdf01f4\", element=\"0883826d-ba9c-49fe-86e6-49379f1a7319\")>,\n",
       " <selenium.webdriver.remote.webelement.WebElement (session=\"cfa74328d14c56ff38de1ed3cfdf01f4\", element=\"9363efd8-5f20-4ec8-a2d7-4ad5448292ed\")>,\n",
       " <selenium.webdriver.remote.webelement.WebElement (session=\"cfa74328d14c56ff38de1ed3cfdf01f4\", element=\"f6a2c12d-6b0e-4fd1-9e1a-7b8d76b7bd6f\")>,\n",
       " <selenium.webdriver.remote.webelement.WebElement (session=\"cfa74328d14c56ff38de1ed3cfdf01f4\", element=\"407dee01-80a2-4b5f-8e3e-cbc8a96f4062\")>,\n",
       " <selenium.webdriver.remote.webelement.WebElement (session=\"cfa74328d14c56ff38de1ed3cfdf01f4\", element=\"5365547e-5ccf-4ff3-abe8-a1250d5f1d65\")>,\n",
       " <selenium.webdriver.remote.webelement.WebElement (session=\"cfa74328d14c56ff38de1ed3cfdf01f4\", element=\"4e355086-49b3-4755-a378-0691a47a01bf\")>,\n",
       " <selenium.webdriver.remote.webelement.WebElement (session=\"cfa74328d14c56ff38de1ed3cfdf01f4\", element=\"b7536282-6d49-488e-bfae-6fd2bdeaa4a4\")>,\n",
       " <selenium.webdriver.remote.webelement.WebElement (session=\"cfa74328d14c56ff38de1ed3cfdf01f4\", element=\"a20d4d38-b60f-40f8-95d1-7af55d6cd6b4\")>,\n",
       " <selenium.webdriver.remote.webelement.WebElement (session=\"cfa74328d14c56ff38de1ed3cfdf01f4\", element=\"9341b039-17cc-4b8f-873b-ca229d309c99\")>,\n",
       " <selenium.webdriver.remote.webelement.WebElement (session=\"cfa74328d14c56ff38de1ed3cfdf01f4\", element=\"cfebc5ce-018a-48bc-a728-492d55d38bf3\")>,\n",
       " <selenium.webdriver.remote.webelement.WebElement (session=\"cfa74328d14c56ff38de1ed3cfdf01f4\", element=\"11abecd4-b59b-4cea-8096-2e7209a7cd7c\")>,\n",
       " <selenium.webdriver.remote.webelement.WebElement (session=\"cfa74328d14c56ff38de1ed3cfdf01f4\", element=\"db4e89df-e09c-4a00-a646-36ed610f43dc\")>,\n",
       " <selenium.webdriver.remote.webelement.WebElement (session=\"cfa74328d14c56ff38de1ed3cfdf01f4\", element=\"467b74ed-f216-4b75-9b33-59781779ca8e\")>,\n",
       " <selenium.webdriver.remote.webelement.WebElement (session=\"cfa74328d14c56ff38de1ed3cfdf01f4\", element=\"af65b911-43a4-41e0-952b-e5950d0ec467\")>,\n",
       " <selenium.webdriver.remote.webelement.WebElement (session=\"cfa74328d14c56ff38de1ed3cfdf01f4\", element=\"bbc24fe1-2c17-437b-b86c-7cb2a76cee30\")>,\n",
       " <selenium.webdriver.remote.webelement.WebElement (session=\"cfa74328d14c56ff38de1ed3cfdf01f4\", element=\"ea7bb6da-25fb-41dc-992e-c3a4f39e0e8e\")>,\n",
       " <selenium.webdriver.remote.webelement.WebElement (session=\"cfa74328d14c56ff38de1ed3cfdf01f4\", element=\"425d19cd-a772-4ea8-8be3-36c9554479a6\")>,\n",
       " <selenium.webdriver.remote.webelement.WebElement (session=\"cfa74328d14c56ff38de1ed3cfdf01f4\", element=\"f2892623-dd93-4236-a8d3-f7d10a0dc54f\")>,\n",
       " <selenium.webdriver.remote.webelement.WebElement (session=\"cfa74328d14c56ff38de1ed3cfdf01f4\", element=\"fb5b0cc3-865b-4883-8012-60db5d9c0eca\")>,\n",
       " <selenium.webdriver.remote.webelement.WebElement (session=\"cfa74328d14c56ff38de1ed3cfdf01f4\", element=\"3af7822d-c5ab-4e3f-82b9-74b11581dff3\")>]"
      ]
     },
     "execution_count": 6,
     "metadata": {},
     "output_type": "execute_result"
    }
   ],
   "source": [
    "line1=browser.find_elements(\"xpath\",\"//div[@class='location ']\")\n",
    "line1"
   ]
  },
  {
   "cell_type": "code",
   "execution_count": 7,
   "id": "0e15e898",
   "metadata": {},
   "outputs": [
    {
     "data": {
      "text/plain": [
       "['Singapore, Singapore',\n",
       " 'Beijing, China (Mainland)',\n",
       " 'Philadelphia, United States',\n",
       " 'Beijing, China (Mainland)',\n",
       " 'Edinburgh, United Kingdom',\n",
       " 'Lausanne, Switzerland',\n",
       " 'Princeton, United States',\n",
       " 'New Haven, United States',\n",
       " 'Singapore, Singapore',\n",
       " 'Ithaca, United States']"
      ]
     },
     "execution_count": 7,
     "metadata": {},
     "output_type": "execute_result"
    }
   ],
   "source": [
    "address=[]\n",
    "for data in line1:\n",
    "    #get the text data\n",
    "    temp=data.text\n",
    "    address.append(temp)\n",
    "address=address[10:]\n",
    "address"
   ]
  },
  {
   "cell_type": "code",
   "execution_count": 8,
   "id": "a160c0ad",
   "metadata": {},
   "outputs": [
    {
     "data": {
      "text/plain": [
       "[<selenium.webdriver.remote.webelement.WebElement (session=\"cfa74328d14c56ff38de1ed3cfdf01f4\", element=\"59a0e9e1-c0da-4017-b2ce-a3ddd3f74aaf\")>,\n",
       " <selenium.webdriver.remote.webelement.WebElement (session=\"cfa74328d14c56ff38de1ed3cfdf01f4\", element=\"28fbdfeb-348c-4cd8-8139-5c3c44f12d0c\")>,\n",
       " <selenium.webdriver.remote.webelement.WebElement (session=\"cfa74328d14c56ff38de1ed3cfdf01f4\", element=\"f72f23f1-fb04-4755-a874-3e53b4187461\")>,\n",
       " <selenium.webdriver.remote.webelement.WebElement (session=\"cfa74328d14c56ff38de1ed3cfdf01f4\", element=\"3715894c-c301-4cf8-9bd8-56c5c7bbcc51\")>,\n",
       " <selenium.webdriver.remote.webelement.WebElement (session=\"cfa74328d14c56ff38de1ed3cfdf01f4\", element=\"c4286adc-ce9f-49d2-9ff3-ec2d489f26f8\")>,\n",
       " <selenium.webdriver.remote.webelement.WebElement (session=\"cfa74328d14c56ff38de1ed3cfdf01f4\", element=\"1dd3069e-77fd-4994-b3ca-3108f3914109\")>,\n",
       " <selenium.webdriver.remote.webelement.WebElement (session=\"cfa74328d14c56ff38de1ed3cfdf01f4\", element=\"f2564bb6-be52-4f12-bf20-083447b45778\")>,\n",
       " <selenium.webdriver.remote.webelement.WebElement (session=\"cfa74328d14c56ff38de1ed3cfdf01f4\", element=\"e53f50fa-09e9-492e-ab8b-9f7e1cd027ff\")>,\n",
       " <selenium.webdriver.remote.webelement.WebElement (session=\"cfa74328d14c56ff38de1ed3cfdf01f4\", element=\"73c97704-95ee-4ed2-8875-4c79c23bf204\")>,\n",
       " <selenium.webdriver.remote.webelement.WebElement (session=\"cfa74328d14c56ff38de1ed3cfdf01f4\", element=\"52488615-3292-4460-9cc2-ccd647e09635\")>]"
      ]
     },
     "execution_count": 8,
     "metadata": {},
     "output_type": "execute_result"
    }
   ],
   "source": [
    "line2=browser.find_elements(\"xpath\",\"//div[@class='_univ-rank ']\")\n",
    "line2"
   ]
  },
  {
   "cell_type": "code",
   "execution_count": 9,
   "id": "f452a8be",
   "metadata": {},
   "outputs": [
    {
     "data": {
      "text/plain": [
       "['11', '12', '13', '14', '15', '=16', '=16', '18', '19', '20']"
      ]
     },
     "execution_count": 9,
     "metadata": {},
     "output_type": "execute_result"
    }
   ],
   "source": [
    "\n",
    "Rank=[]\n",
    "for data in line2:\n",
    "    #get the text data\n",
    "    temp=data.text\n",
    "    Rank.append(temp)\n",
    "Rank"
   ]
  },
  {
   "cell_type": "code",
   "execution_count": 10,
   "id": "fb844c2a",
   "metadata": {},
   "outputs": [
    {
     "data": {
      "text/plain": [
       "[<selenium.webdriver.remote.webelement.WebElement (session=\"cfa74328d14c56ff38de1ed3cfdf01f4\", element=\"46915baf-c437-422b-9967-f219da7bff02\")>,\n",
       " <selenium.webdriver.remote.webelement.WebElement (session=\"cfa74328d14c56ff38de1ed3cfdf01f4\", element=\"0c9bf060-ba37-4c8c-b11e-f4761cc7d11e\")>,\n",
       " <selenium.webdriver.remote.webelement.WebElement (session=\"cfa74328d14c56ff38de1ed3cfdf01f4\", element=\"49f39152-7aac-46e4-920d-52477c6e7b1a\")>,\n",
       " <selenium.webdriver.remote.webelement.WebElement (session=\"cfa74328d14c56ff38de1ed3cfdf01f4\", element=\"00e9da46-6d93-48ea-bb7d-273c439e2d79\")>,\n",
       " <selenium.webdriver.remote.webelement.WebElement (session=\"cfa74328d14c56ff38de1ed3cfdf01f4\", element=\"53bc70d9-e97e-451c-bec4-c5d6fb1e584d\")>,\n",
       " <selenium.webdriver.remote.webelement.WebElement (session=\"cfa74328d14c56ff38de1ed3cfdf01f4\", element=\"4a2372f8-521f-445a-a828-ad876409bf86\")>,\n",
       " <selenium.webdriver.remote.webelement.WebElement (session=\"cfa74328d14c56ff38de1ed3cfdf01f4\", element=\"3aa1ce8f-b8a5-461e-a0f5-894ef7732009\")>,\n",
       " <selenium.webdriver.remote.webelement.WebElement (session=\"cfa74328d14c56ff38de1ed3cfdf01f4\", element=\"05aebb06-7f03-40a8-a56f-6a6d4b0be79a\")>,\n",
       " <selenium.webdriver.remote.webelement.WebElement (session=\"cfa74328d14c56ff38de1ed3cfdf01f4\", element=\"a44bbbdb-bdb4-499c-91a0-b9c1a70fcc0b\")>]"
      ]
     },
     "execution_count": 10,
     "metadata": {},
     "output_type": "execute_result"
    }
   ],
   "source": [
    "# GET EACH COLLEGE SPECIFICATION HEADERS\n",
    "line3=browser.find_elements(\"xpath\",\"//div[@class='_click-function_ind']\")\n",
    "line3"
   ]
  },
  {
   "cell_type": "code",
   "execution_count": 11,
   "id": "e877bd73",
   "metadata": {},
   "outputs": [
    {
     "data": {
      "text/plain": [
       "['Overall Score',\n",
       " 'Academic Reputation',\n",
       " 'Employer Reputation',\n",
       " 'Citations per Faculty',\n",
       " 'Faculty Student Ratio',\n",
       " 'International Students Ratio',\n",
       " 'International Faculty Ratio',\n",
       " 'International Research Network\\nUnweighted',\n",
       " 'Employment Outcomes\\nUnweighted']"
      ]
     },
     "execution_count": 11,
     "metadata": {},
     "output_type": "execute_result"
    }
   ],
   "source": [
    "#PARSING DATA\n",
    "column=[]\n",
    "for data in line3:\n",
    "    #get the text data\n",
    "    temp=data.text\n",
    "    column.append(temp)\n",
    "column"
   ]
  },
  {
   "cell_type": "code",
   "execution_count": 12,
   "id": "e717a6ca",
   "metadata": {},
   "outputs": [
    {
     "data": {
      "text/plain": [
       "[<selenium.webdriver.remote.webelement.WebElement (session=\"cfa74328d14c56ff38de1ed3cfdf01f4\", element=\"a4715599-8abb-40b2-9f70-41caf4ec4068\")>,\n",
       " <selenium.webdriver.remote.webelement.WebElement (session=\"cfa74328d14c56ff38de1ed3cfdf01f4\", element=\"3abdefcf-d11a-40b4-8209-7c3b5be70491\")>,\n",
       " <selenium.webdriver.remote.webelement.WebElement (session=\"cfa74328d14c56ff38de1ed3cfdf01f4\", element=\"8546c73f-fd2a-45e1-bd34-3e0fcbbd7d78\")>,\n",
       " <selenium.webdriver.remote.webelement.WebElement (session=\"cfa74328d14c56ff38de1ed3cfdf01f4\", element=\"f6b0a28e-e95c-4447-a6a8-81c8b147b2e2\")>,\n",
       " <selenium.webdriver.remote.webelement.WebElement (session=\"cfa74328d14c56ff38de1ed3cfdf01f4\", element=\"a060bb76-2f3e-48fe-a4ee-f0ad80df364c\")>,\n",
       " <selenium.webdriver.remote.webelement.WebElement (session=\"cfa74328d14c56ff38de1ed3cfdf01f4\", element=\"fb9a4b37-70db-41e8-8c4e-e4013888c209\")>,\n",
       " <selenium.webdriver.remote.webelement.WebElement (session=\"cfa74328d14c56ff38de1ed3cfdf01f4\", element=\"6118c448-fb69-45cb-bb15-5cad430e28bf\")>,\n",
       " <selenium.webdriver.remote.webelement.WebElement (session=\"cfa74328d14c56ff38de1ed3cfdf01f4\", element=\"74ac2af6-73fd-45cd-8f89-01d61c925c2a\")>,\n",
       " <selenium.webdriver.remote.webelement.WebElement (session=\"cfa74328d14c56ff38de1ed3cfdf01f4\", element=\"a75fdd40-78be-4cec-83db-2c0d43676563\")>,\n",
       " <selenium.webdriver.remote.webelement.WebElement (session=\"cfa74328d14c56ff38de1ed3cfdf01f4\", element=\"b96f2b04-c532-48a4-a7e9-30dbf43b1830\")>,\n",
       " <selenium.webdriver.remote.webelement.WebElement (session=\"cfa74328d14c56ff38de1ed3cfdf01f4\", element=\"9d6d0fe6-a185-4bf3-a8c2-57267d49762f\")>,\n",
       " <selenium.webdriver.remote.webelement.WebElement (session=\"cfa74328d14c56ff38de1ed3cfdf01f4\", element=\"eb0c0718-eb2e-4b48-9a66-442dc020a5f3\")>,\n",
       " <selenium.webdriver.remote.webelement.WebElement (session=\"cfa74328d14c56ff38de1ed3cfdf01f4\", element=\"08c9ae4f-ae6f-41d2-be1e-21c3696560e1\")>,\n",
       " <selenium.webdriver.remote.webelement.WebElement (session=\"cfa74328d14c56ff38de1ed3cfdf01f4\", element=\"60af1b74-d1fc-4330-b636-84fbdd969d44\")>,\n",
       " <selenium.webdriver.remote.webelement.WebElement (session=\"cfa74328d14c56ff38de1ed3cfdf01f4\", element=\"f0645d1d-2754-4a5f-be50-39b491aec80b\")>,\n",
       " <selenium.webdriver.remote.webelement.WebElement (session=\"cfa74328d14c56ff38de1ed3cfdf01f4\", element=\"555faeb1-7f23-40a3-a0c3-01916c76d610\")>,\n",
       " <selenium.webdriver.remote.webelement.WebElement (session=\"cfa74328d14c56ff38de1ed3cfdf01f4\", element=\"3f07eff6-0788-4b8d-a224-b68e0a8dbc85\")>,\n",
       " <selenium.webdriver.remote.webelement.WebElement (session=\"cfa74328d14c56ff38de1ed3cfdf01f4\", element=\"23b1b018-5178-45b3-92b2-43326616432b\")>,\n",
       " <selenium.webdriver.remote.webelement.WebElement (session=\"cfa74328d14c56ff38de1ed3cfdf01f4\", element=\"3aad6abc-fd64-4156-a0f2-6ae53d1be0af\")>,\n",
       " <selenium.webdriver.remote.webelement.WebElement (session=\"cfa74328d14c56ff38de1ed3cfdf01f4\", element=\"741ea04c-cc5f-4916-a5f1-ba0af36a8b67\")>,\n",
       " <selenium.webdriver.remote.webelement.WebElement (session=\"cfa74328d14c56ff38de1ed3cfdf01f4\", element=\"f5fd95bd-4cfe-436f-9b4a-a4465b0417d1\")>,\n",
       " <selenium.webdriver.remote.webelement.WebElement (session=\"cfa74328d14c56ff38de1ed3cfdf01f4\", element=\"71143b9f-6d69-4b79-9bcb-432ae8bca4ff\")>,\n",
       " <selenium.webdriver.remote.webelement.WebElement (session=\"cfa74328d14c56ff38de1ed3cfdf01f4\", element=\"28a2f66b-0285-44ae-8350-b642d58b8d6d\")>,\n",
       " <selenium.webdriver.remote.webelement.WebElement (session=\"cfa74328d14c56ff38de1ed3cfdf01f4\", element=\"b9d254ee-88e4-4d68-b786-9376ccc25be1\")>,\n",
       " <selenium.webdriver.remote.webelement.WebElement (session=\"cfa74328d14c56ff38de1ed3cfdf01f4\", element=\"b7c86acb-f498-47c6-bd88-26cc8dd7eec0\")>,\n",
       " <selenium.webdriver.remote.webelement.WebElement (session=\"cfa74328d14c56ff38de1ed3cfdf01f4\", element=\"47ae0891-2fdb-4f58-b517-f768a2cacb1d\")>,\n",
       " <selenium.webdriver.remote.webelement.WebElement (session=\"cfa74328d14c56ff38de1ed3cfdf01f4\", element=\"2f3320be-8dc0-410f-81e5-8a0a8bc47def\")>,\n",
       " <selenium.webdriver.remote.webelement.WebElement (session=\"cfa74328d14c56ff38de1ed3cfdf01f4\", element=\"04947b8a-1f95-45d2-9dd9-3efd19617dff\")>,\n",
       " <selenium.webdriver.remote.webelement.WebElement (session=\"cfa74328d14c56ff38de1ed3cfdf01f4\", element=\"d8d99cd3-a57b-4315-8eb2-0ab60e255d6f\")>,\n",
       " <selenium.webdriver.remote.webelement.WebElement (session=\"cfa74328d14c56ff38de1ed3cfdf01f4\", element=\"341b9775-c0c1-4722-83da-eb27e915fdca\")>,\n",
       " <selenium.webdriver.remote.webelement.WebElement (session=\"cfa74328d14c56ff38de1ed3cfdf01f4\", element=\"3d393f9e-4aa4-408d-afd6-4bea1b3d6077\")>,\n",
       " <selenium.webdriver.remote.webelement.WebElement (session=\"cfa74328d14c56ff38de1ed3cfdf01f4\", element=\"2f7d4649-5c17-4ab7-a184-e044b3d5ff5d\")>,\n",
       " <selenium.webdriver.remote.webelement.WebElement (session=\"cfa74328d14c56ff38de1ed3cfdf01f4\", element=\"39e0c99e-d47b-4a06-a278-5bc6f4efee97\")>,\n",
       " <selenium.webdriver.remote.webelement.WebElement (session=\"cfa74328d14c56ff38de1ed3cfdf01f4\", element=\"55086899-f36c-4f3b-a8e2-ad5cccb29681\")>,\n",
       " <selenium.webdriver.remote.webelement.WebElement (session=\"cfa74328d14c56ff38de1ed3cfdf01f4\", element=\"b8a0c6be-344b-43e1-83d4-e3bafc62775e\")>,\n",
       " <selenium.webdriver.remote.webelement.WebElement (session=\"cfa74328d14c56ff38de1ed3cfdf01f4\", element=\"20d26130-ca4f-4c8a-9b8e-0fe32802c415\")>,\n",
       " <selenium.webdriver.remote.webelement.WebElement (session=\"cfa74328d14c56ff38de1ed3cfdf01f4\", element=\"8602e6d5-66b2-46bd-bc45-1bf4336ffe9a\")>,\n",
       " <selenium.webdriver.remote.webelement.WebElement (session=\"cfa74328d14c56ff38de1ed3cfdf01f4\", element=\"5cec8167-5a35-42ac-898c-fde1b95ddfc3\")>,\n",
       " <selenium.webdriver.remote.webelement.WebElement (session=\"cfa74328d14c56ff38de1ed3cfdf01f4\", element=\"65ef6823-c32d-4422-8ee4-2a6ab7528d61\")>,\n",
       " <selenium.webdriver.remote.webelement.WebElement (session=\"cfa74328d14c56ff38de1ed3cfdf01f4\", element=\"19eb263a-c124-4ec1-be4b-46d8b956b99c\")>,\n",
       " <selenium.webdriver.remote.webelement.WebElement (session=\"cfa74328d14c56ff38de1ed3cfdf01f4\", element=\"21d462b3-8a7a-4c76-a5f6-6d830c891902\")>,\n",
       " <selenium.webdriver.remote.webelement.WebElement (session=\"cfa74328d14c56ff38de1ed3cfdf01f4\", element=\"02ce5a1d-fbce-4b1b-9f0a-dd56e15226a9\")>,\n",
       " <selenium.webdriver.remote.webelement.WebElement (session=\"cfa74328d14c56ff38de1ed3cfdf01f4\", element=\"36492de4-a222-49b1-9e13-3cd45df52e9a\")>,\n",
       " <selenium.webdriver.remote.webelement.WebElement (session=\"cfa74328d14c56ff38de1ed3cfdf01f4\", element=\"b1010076-55ce-4478-a465-5ef10052ba19\")>,\n",
       " <selenium.webdriver.remote.webelement.WebElement (session=\"cfa74328d14c56ff38de1ed3cfdf01f4\", element=\"4e34f9f4-3a22-4ae2-9253-faadc83c531c\")>,\n",
       " <selenium.webdriver.remote.webelement.WebElement (session=\"cfa74328d14c56ff38de1ed3cfdf01f4\", element=\"24167260-120d-4c1c-9db3-bd9ec1de2c6c\")>,\n",
       " <selenium.webdriver.remote.webelement.WebElement (session=\"cfa74328d14c56ff38de1ed3cfdf01f4\", element=\"623604ae-8865-4ba5-8f21-923746d55844\")>,\n",
       " <selenium.webdriver.remote.webelement.WebElement (session=\"cfa74328d14c56ff38de1ed3cfdf01f4\", element=\"45ea7f1a-affb-4ad8-b337-834c2e286511\")>,\n",
       " <selenium.webdriver.remote.webelement.WebElement (session=\"cfa74328d14c56ff38de1ed3cfdf01f4\", element=\"5f2e3469-5fb0-48ac-b888-a6d4640c6b67\")>,\n",
       " <selenium.webdriver.remote.webelement.WebElement (session=\"cfa74328d14c56ff38de1ed3cfdf01f4\", element=\"ca5c4d7b-fc7a-4e3f-9b3d-9e313320eee7\")>,\n",
       " <selenium.webdriver.remote.webelement.WebElement (session=\"cfa74328d14c56ff38de1ed3cfdf01f4\", element=\"4ef65c63-cfaa-4962-881d-d972fcab2571\")>,\n",
       " <selenium.webdriver.remote.webelement.WebElement (session=\"cfa74328d14c56ff38de1ed3cfdf01f4\", element=\"8e233354-22ab-4ecc-a170-311e926433e3\")>,\n",
       " <selenium.webdriver.remote.webelement.WebElement (session=\"cfa74328d14c56ff38de1ed3cfdf01f4\", element=\"3ead4666-5d66-4b34-ae28-db007232c00e\")>,\n",
       " <selenium.webdriver.remote.webelement.WebElement (session=\"cfa74328d14c56ff38de1ed3cfdf01f4\", element=\"78c78060-dafe-4902-913f-33078e15e390\")>,\n",
       " <selenium.webdriver.remote.webelement.WebElement (session=\"cfa74328d14c56ff38de1ed3cfdf01f4\", element=\"9f25e713-554b-439f-8ecc-3820706a7194\")>,\n",
       " <selenium.webdriver.remote.webelement.WebElement (session=\"cfa74328d14c56ff38de1ed3cfdf01f4\", element=\"b4890b1b-ee5d-48a2-93ba-158069afec0c\")>,\n",
       " <selenium.webdriver.remote.webelement.WebElement (session=\"cfa74328d14c56ff38de1ed3cfdf01f4\", element=\"3465777b-6fff-4cef-8682-2a599ec9cfe7\")>,\n",
       " <selenium.webdriver.remote.webelement.WebElement (session=\"cfa74328d14c56ff38de1ed3cfdf01f4\", element=\"4db6dbe1-992c-4f44-b508-e8cb5257689f\")>,\n",
       " <selenium.webdriver.remote.webelement.WebElement (session=\"cfa74328d14c56ff38de1ed3cfdf01f4\", element=\"2744a02f-4d19-4eef-ae84-db9df879b4f5\")>,\n",
       " <selenium.webdriver.remote.webelement.WebElement (session=\"cfa74328d14c56ff38de1ed3cfdf01f4\", element=\"e28ea882-a42d-4728-9909-331ab9d38309\")>,\n",
       " <selenium.webdriver.remote.webelement.WebElement (session=\"cfa74328d14c56ff38de1ed3cfdf01f4\", element=\"13637219-b910-43ee-be47-7b7a7fce2523\")>,\n",
       " <selenium.webdriver.remote.webelement.WebElement (session=\"cfa74328d14c56ff38de1ed3cfdf01f4\", element=\"ff4fca2d-b940-43bc-8af3-ef129387306b\")>,\n",
       " <selenium.webdriver.remote.webelement.WebElement (session=\"cfa74328d14c56ff38de1ed3cfdf01f4\", element=\"770c34cd-2f1a-412f-a518-a088c5c43468\")>,\n",
       " <selenium.webdriver.remote.webelement.WebElement (session=\"cfa74328d14c56ff38de1ed3cfdf01f4\", element=\"78628be6-6a34-4ed9-9a9c-68c0361c39e1\")>,\n",
       " <selenium.webdriver.remote.webelement.WebElement (session=\"cfa74328d14c56ff38de1ed3cfdf01f4\", element=\"3a4a8fbb-252d-4113-a38d-9571b1a20122\")>,\n",
       " <selenium.webdriver.remote.webelement.WebElement (session=\"cfa74328d14c56ff38de1ed3cfdf01f4\", element=\"859fd68e-bf8f-4525-ae27-fa4d917f3662\")>,\n",
       " <selenium.webdriver.remote.webelement.WebElement (session=\"cfa74328d14c56ff38de1ed3cfdf01f4\", element=\"cba3abd2-ec9c-4772-b5d5-cc1ecf4a5c3d\")>,\n",
       " <selenium.webdriver.remote.webelement.WebElement (session=\"cfa74328d14c56ff38de1ed3cfdf01f4\", element=\"2cc9e4bc-2f87-407e-a03b-1f9a13ef33b9\")>,\n",
       " <selenium.webdriver.remote.webelement.WebElement (session=\"cfa74328d14c56ff38de1ed3cfdf01f4\", element=\"6be00fb1-e482-4728-8c0c-166b1dc90a58\")>,\n",
       " <selenium.webdriver.remote.webelement.WebElement (session=\"cfa74328d14c56ff38de1ed3cfdf01f4\", element=\"4433d56d-14ee-4ede-9559-90a29e4629b6\")>,\n",
       " <selenium.webdriver.remote.webelement.WebElement (session=\"cfa74328d14c56ff38de1ed3cfdf01f4\", element=\"ec42e3be-8427-41cb-a301-44398ed5c832\")>,\n",
       " <selenium.webdriver.remote.webelement.WebElement (session=\"cfa74328d14c56ff38de1ed3cfdf01f4\", element=\"fe5000d4-0c9b-4f2b-8709-ff07c6531307\")>,\n",
       " <selenium.webdriver.remote.webelement.WebElement (session=\"cfa74328d14c56ff38de1ed3cfdf01f4\", element=\"dc784667-05cf-48eb-8405-ec4236c5342d\")>,\n",
       " <selenium.webdriver.remote.webelement.WebElement (session=\"cfa74328d14c56ff38de1ed3cfdf01f4\", element=\"61b352fe-5fea-4a7c-881b-6fc3ea29a3f7\")>,\n",
       " <selenium.webdriver.remote.webelement.WebElement (session=\"cfa74328d14c56ff38de1ed3cfdf01f4\", element=\"1898139b-543b-472e-880f-b5b0275e8754\")>,\n",
       " <selenium.webdriver.remote.webelement.WebElement (session=\"cfa74328d14c56ff38de1ed3cfdf01f4\", element=\"76adf86a-f6b1-46d7-8d31-fa6cab620f31\")>,\n",
       " <selenium.webdriver.remote.webelement.WebElement (session=\"cfa74328d14c56ff38de1ed3cfdf01f4\", element=\"0b28ca44-83f3-4fcf-bb86-c440f2e9ac62\")>,\n",
       " <selenium.webdriver.remote.webelement.WebElement (session=\"cfa74328d14c56ff38de1ed3cfdf01f4\", element=\"fef0b1fc-97ca-43cf-bff3-5c61506a31f7\")>,\n",
       " <selenium.webdriver.remote.webelement.WebElement (session=\"cfa74328d14c56ff38de1ed3cfdf01f4\", element=\"b428ece2-bd59-45ac-bfd7-c3d8be7cc699\")>,\n",
       " <selenium.webdriver.remote.webelement.WebElement (session=\"cfa74328d14c56ff38de1ed3cfdf01f4\", element=\"7f06ded0-47f4-4f5f-83af-694968784834\")>,\n",
       " <selenium.webdriver.remote.webelement.WebElement (session=\"cfa74328d14c56ff38de1ed3cfdf01f4\", element=\"7110544e-efb8-4409-8a01-8ca975a40c23\")>,\n",
       " <selenium.webdriver.remote.webelement.WebElement (session=\"cfa74328d14c56ff38de1ed3cfdf01f4\", element=\"12eb0db2-3a9f-444b-860a-c75a8e12a3a8\")>,\n",
       " <selenium.webdriver.remote.webelement.WebElement (session=\"cfa74328d14c56ff38de1ed3cfdf01f4\", element=\"747971d1-0116-45ea-9fb9-98d17e909f91\")>,\n",
       " <selenium.webdriver.remote.webelement.WebElement (session=\"cfa74328d14c56ff38de1ed3cfdf01f4\", element=\"877019db-9466-4281-ab0c-bcb493a15103\")>,\n",
       " <selenium.webdriver.remote.webelement.WebElement (session=\"cfa74328d14c56ff38de1ed3cfdf01f4\", element=\"678921e7-76c3-4321-be21-97f3d8f93d00\")>,\n",
       " <selenium.webdriver.remote.webelement.WebElement (session=\"cfa74328d14c56ff38de1ed3cfdf01f4\", element=\"b12a8bdc-6b10-4b4b-bc70-16a3eab08579\")>,\n",
       " <selenium.webdriver.remote.webelement.WebElement (session=\"cfa74328d14c56ff38de1ed3cfdf01f4\", element=\"51b5020f-7c57-41a9-89c4-d8c5513f75cc\")>,\n",
       " <selenium.webdriver.remote.webelement.WebElement (session=\"cfa74328d14c56ff38de1ed3cfdf01f4\", element=\"4695a4f7-cc68-4e97-8152-d5fe9506d925\")>,\n",
       " <selenium.webdriver.remote.webelement.WebElement (session=\"cfa74328d14c56ff38de1ed3cfdf01f4\", element=\"c02b45e1-4be0-4008-8656-bd175e65c840\")>,\n",
       " <selenium.webdriver.remote.webelement.WebElement (session=\"cfa74328d14c56ff38de1ed3cfdf01f4\", element=\"b50d3fa9-1dd8-45fe-87b5-4e3c4385409b\")>,\n",
       " <selenium.webdriver.remote.webelement.WebElement (session=\"cfa74328d14c56ff38de1ed3cfdf01f4\", element=\"ee4b7f77-5ae7-4cf2-a367-0552588d921e\")>,\n",
       " <selenium.webdriver.remote.webelement.WebElement (session=\"cfa74328d14c56ff38de1ed3cfdf01f4\", element=\"72a3ee49-dfd0-44b4-8854-97c6492fe532\")>,\n",
       " <selenium.webdriver.remote.webelement.WebElement (session=\"cfa74328d14c56ff38de1ed3cfdf01f4\", element=\"a0fc537b-516b-43de-8c28-ce84e5f6778c\")>,\n",
       " <selenium.webdriver.remote.webelement.WebElement (session=\"cfa74328d14c56ff38de1ed3cfdf01f4\", element=\"33053aab-4aad-4e42-92d3-7317fff26695\")>,\n",
       " <selenium.webdriver.remote.webelement.WebElement (session=\"cfa74328d14c56ff38de1ed3cfdf01f4\", element=\"416b7c39-7aff-4081-8b92-415c26cee117\")>,\n",
       " <selenium.webdriver.remote.webelement.WebElement (session=\"cfa74328d14c56ff38de1ed3cfdf01f4\", element=\"df4c8760-163b-44c1-8a8d-2b8126d05fd8\")>,\n",
       " <selenium.webdriver.remote.webelement.WebElement (session=\"cfa74328d14c56ff38de1ed3cfdf01f4\", element=\"f2760bde-072b-435a-ac88-e7d708598311\")>,\n",
       " <selenium.webdriver.remote.webelement.WebElement (session=\"cfa74328d14c56ff38de1ed3cfdf01f4\", element=\"ffabb076-dfe0-4aaf-8dfb-fd1c62a75b6e\")>,\n",
       " <selenium.webdriver.remote.webelement.WebElement (session=\"cfa74328d14c56ff38de1ed3cfdf01f4\", element=\"e48ceda8-2a06-4ac6-aa82-8f6c0354ea6b\")>,\n",
       " <selenium.webdriver.remote.webelement.WebElement (session=\"cfa74328d14c56ff38de1ed3cfdf01f4\", element=\"656c64cd-ddfb-4ea4-97b3-f698695f9b1e\")>]"
      ]
     },
     "execution_count": 12,
     "metadata": {},
     "output_type": "execute_result"
    }
   ],
   "source": [
    "line4=browser.find_elements(\"xpath\",\"//div[@class='td-wrap-in']\")\n",
    "line4"
   ]
  },
  {
   "cell_type": "code",
   "execution_count": 13,
   "id": "1e5f3c6c",
   "metadata": {},
   "outputs": [
    {
     "data": {
      "text/plain": [
       "['87.2', '98.3', '91.4', '99.3', '62.2', '55.3', '63.9', '90', '99.5']"
      ]
     },
     "execution_count": 13,
     "metadata": {},
     "output_type": "execute_result"
    }
   ],
   "source": [
    "#PARSING DATA\n",
    "value=[]\n",
    "for data in line4:\n",
    "    #get the text data\n",
    "    temp=data.text\n",
    "    value.append(temp)\n",
    "value_h=value[91:100]\n",
    "value_h"
   ]
  },
  {
   "cell_type": "code",
   "execution_count": 14,
   "id": "954740d0",
   "metadata": {},
   "outputs": [
    {
     "data": {
      "text/plain": [
       "{'Name': 'Cornell University',\n",
       " 'Location': 'Ithaca, United States',\n",
       " 'Rank': '20',\n",
       " 'Overall Score': '87.2',\n",
       " 'Academic Reputation': '98.3',\n",
       " 'Employer Reputation': '91.4',\n",
       " 'Citations per Faculty': '99.3',\n",
       " 'Faculty Student Ratio': '62.2',\n",
       " 'International Students Ratio': '55.3',\n",
       " 'International Faculty Ratio': '63.9',\n",
       " 'International Research Network\\nUnweighted': '90',\n",
       " 'Employment Outcomes\\nUnweighted': '99.5'}"
      ]
     },
     "execution_count": 14,
     "metadata": {},
     "output_type": "execute_result"
    }
   ],
   "source": [
    "\n",
    "d={}\n",
    "d['Name']=value[90]\n",
    "d['Location']=address[9]\n",
    "d['Rank']=Rank[9]\n",
    "for i in range(len(column)):\n",
    "    d[column[i]]=value_h[i]\n",
    "d"
   ]
  },
  {
   "cell_type": "code",
   "execution_count": 15,
   "id": "7af89947",
   "metadata": {},
   "outputs": [
    {
     "data": {
      "text/plain": [
       "'{\"Name\": \"Cornell University\", \"Location\": \"Ithaca, United States\", \"Rank\": \"20\", \"Overall Score\": \"87.2\", \"Academic Reputation\": \"98.3\", \"Employer Reputation\": \"91.4\", \"Citations per Faculty\": \"99.3\", \"Faculty Student Ratio\": \"62.2\", \"International Students Ratio\": \"55.3\", \"International Faculty Ratio\": \"63.9\", \"International Research Network\\\\nUnweighted\": \"90\", \"Employment Outcomes\\\\nUnweighted\": \"99.5\"}'"
      ]
     },
     "execution_count": 15,
     "metadata": {},
     "output_type": "execute_result"
    }
   ],
   "source": [
    "s1=json.dumps(d)\n",
    "s1"
   ]
  },
  {
   "cell_type": "code",
   "execution_count": 16,
   "id": "2db8af0e",
   "metadata": {},
   "outputs": [],
   "source": [
    "with open('Cornell University.json','w') as f:\n",
    "    json.dump(d,f)\n"
   ]
  },
  {
   "cell_type": "code",
   "execution_count": null,
   "id": "15bb959c",
   "metadata": {},
   "outputs": [],
   "source": []
  }
 ],
 "metadata": {
  "kernelspec": {
   "display_name": "Python 3.9.12 ('base')",
   "language": "python",
   "name": "python3"
  },
  "language_info": {
   "codemirror_mode": {
    "name": "ipython",
    "version": 3
   },
   "file_extension": ".py",
   "mimetype": "text/x-python",
   "name": "python",
   "nbconvert_exporter": "python",
   "pygments_lexer": "ipython3",
   "version": "3.9.12"
  },
  "vscode": {
   "interpreter": {
    "hash": "ad2bdc8ecc057115af97d19610ffacc2b4e99fae6737bb82f5d7fb13d2f2c186"
   }
  }
 },
 "nbformat": 4,
 "nbformat_minor": 5
}
