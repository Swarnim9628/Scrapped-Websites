{
 "cells": [
  {
   "cell_type": "code",
   "execution_count": 1,
   "id": "b5907357",
   "metadata": {},
   "outputs": [],
   "source": [
    "from selenium import webdriver\n",
    "from selenium.webdriver.chrome.service import Service\n",
    "import pandas as pd\n",
    "import json"
   ]
  },
  {
   "cell_type": "code",
   "execution_count": 4,
   "id": "d99fba47",
   "metadata": {},
   "outputs": [],
   "source": [
    "path = Service('C:\\chromedriver.exe')"
   ]
  },
  {
   "cell_type": "code",
   "execution_count": 5,
   "id": "ff4186cd",
   "metadata": {},
   "outputs": [],
   "source": [
    "# set path for the driver\n",
    "browser = webdriver.Chrome(service = path)"
   ]
  },
  {
   "cell_type": "code",
   "execution_count": 6,
   "id": "f9368352",
   "metadata": {},
   "outputs": [],
   "source": [
    "url = \"https://www.topuniversities.com/university-rankings/world-university-rankings/2023\""
   ]
  },
  {
   "cell_type": "code",
   "execution_count": 7,
   "id": "93d95bc2",
   "metadata": {},
   "outputs": [],
   "source": [
    "# open the page url ion chrome\n",
    "browser.get(url)"
   ]
  },
  {
   "cell_type": "code",
   "execution_count": 10,
   "id": "949a123b",
   "metadata": {},
   "outputs": [
    {
     "data": {
      "text/plain": [
       "[<selenium.webdriver.remote.webelement.WebElement (session=\"a884e601d8de6c181213c32ff0bbeb9e\", element=\"06720aff-cb57-4552-863d-c86ce811c387\")>,\n",
       " <selenium.webdriver.remote.webelement.WebElement (session=\"a884e601d8de6c181213c32ff0bbeb9e\", element=\"ba230a82-d4ec-49d3-8ab5-bf04e96ab607\")>,\n",
       " <selenium.webdriver.remote.webelement.WebElement (session=\"a884e601d8de6c181213c32ff0bbeb9e\", element=\"9eedafa6-21ff-4bbe-9ba8-4a2a36bac5d0\")>,\n",
       " <selenium.webdriver.remote.webelement.WebElement (session=\"a884e601d8de6c181213c32ff0bbeb9e\", element=\"9b841dd2-3db5-4695-b3a2-832e58c979f7\")>,\n",
       " <selenium.webdriver.remote.webelement.WebElement (session=\"a884e601d8de6c181213c32ff0bbeb9e\", element=\"e537b1f1-6e7e-43e0-ac4f-6264c5a414df\")>,\n",
       " <selenium.webdriver.remote.webelement.WebElement (session=\"a884e601d8de6c181213c32ff0bbeb9e\", element=\"5dc4a6de-a3f0-4038-8a40-7fa987ab5ec2\")>,\n",
       " <selenium.webdriver.remote.webelement.WebElement (session=\"a884e601d8de6c181213c32ff0bbeb9e\", element=\"45abd95d-764e-44ee-b3de-3560fe7720c3\")>,\n",
       " <selenium.webdriver.remote.webelement.WebElement (session=\"a884e601d8de6c181213c32ff0bbeb9e\", element=\"2934a327-154e-4346-ada0-585204356306\")>,\n",
       " <selenium.webdriver.remote.webelement.WebElement (session=\"a884e601d8de6c181213c32ff0bbeb9e\", element=\"5c4d8d4b-11e8-47fe-9141-921aae703a2d\")>,\n",
       " <selenium.webdriver.remote.webelement.WebElement (session=\"a884e601d8de6c181213c32ff0bbeb9e\", element=\"67b0516c-60c0-49b2-a562-46fe8782feea\")>,\n",
       " <selenium.webdriver.remote.webelement.WebElement (session=\"a884e601d8de6c181213c32ff0bbeb9e\", element=\"d8348ffc-d106-4cc7-a0e5-96fa205cc25a\")>,\n",
       " <selenium.webdriver.remote.webelement.WebElement (session=\"a884e601d8de6c181213c32ff0bbeb9e\", element=\"7de7e396-22cc-4454-8367-d0d7fa6f68c7\")>,\n",
       " <selenium.webdriver.remote.webelement.WebElement (session=\"a884e601d8de6c181213c32ff0bbeb9e\", element=\"10766e26-8d8d-4138-b819-a728329d2c09\")>,\n",
       " <selenium.webdriver.remote.webelement.WebElement (session=\"a884e601d8de6c181213c32ff0bbeb9e\", element=\"a3cca18a-9090-48c8-90f8-a850f353f041\")>,\n",
       " <selenium.webdriver.remote.webelement.WebElement (session=\"a884e601d8de6c181213c32ff0bbeb9e\", element=\"beacc05b-d367-4487-a4c1-723327c88954\")>,\n",
       " <selenium.webdriver.remote.webelement.WebElement (session=\"a884e601d8de6c181213c32ff0bbeb9e\", element=\"ccdbf34c-55c2-4716-b117-35978f6479ea\")>,\n",
       " <selenium.webdriver.remote.webelement.WebElement (session=\"a884e601d8de6c181213c32ff0bbeb9e\", element=\"07e84e5f-d28e-4127-b386-57ea12cf447e\")>,\n",
       " <selenium.webdriver.remote.webelement.WebElement (session=\"a884e601d8de6c181213c32ff0bbeb9e\", element=\"b36b5675-c8c0-4e7c-919a-c096ab560a25\")>,\n",
       " <selenium.webdriver.remote.webelement.WebElement (session=\"a884e601d8de6c181213c32ff0bbeb9e\", element=\"2cac07b1-a2e6-4f22-8e0e-6afbb7bb16af\")>,\n",
       " <selenium.webdriver.remote.webelement.WebElement (session=\"a884e601d8de6c181213c32ff0bbeb9e\", element=\"4fa2ade1-70d1-47f6-bf9e-227e7006666a\")>]"
      ]
     },
     "execution_count": 10,
     "metadata": {},
     "output_type": "execute_result"
    }
   ],
   "source": [
    "line1=browser.find_elements(\"xpath\",\"//div[@class='location ']\")\n",
    "line1"
   ]
  },
  {
   "cell_type": "code",
   "execution_count": 11,
   "id": "b72cd035",
   "metadata": {},
   "outputs": [
    {
     "data": {
      "text/plain": [
       "[' Hong Kong SAR',\n",
       " 'New York City, United States',\n",
       " 'Tokyo, Japan',\n",
       " 'Baltimore, United States',\n",
       " 'Ann Arbor, United States',\n",
       " 'Paris, France',\n",
       " 'Berkeley, United States',\n",
       " 'Manchester, United Kingdom',\n",
       " 'Seoul, South Korea',\n",
       " 'Canberra, Australia']"
      ]
     },
     "execution_count": 11,
     "metadata": {},
     "output_type": "execute_result"
    }
   ],
   "source": [
    "address=[]\n",
    "for data in line1:\n",
    "    #get the text data\n",
    "    temp=data.text\n",
    "    address.append(temp)\n",
    "address=address[10:]\n",
    "address"
   ]
  },
  {
   "cell_type": "code",
   "execution_count": 12,
   "id": "00dfa080",
   "metadata": {},
   "outputs": [
    {
     "data": {
      "text/plain": [
       "[<selenium.webdriver.remote.webelement.WebElement (session=\"a884e601d8de6c181213c32ff0bbeb9e\", element=\"6b8cadab-cf13-49b7-923f-c3a77307886a\")>,\n",
       " <selenium.webdriver.remote.webelement.WebElement (session=\"a884e601d8de6c181213c32ff0bbeb9e\", element=\"636525bd-d5f8-4b95-9046-09419c9aa39e\")>,\n",
       " <selenium.webdriver.remote.webelement.WebElement (session=\"a884e601d8de6c181213c32ff0bbeb9e\", element=\"41549bb0-3409-4d77-868d-adc8b09f2e6a\")>,\n",
       " <selenium.webdriver.remote.webelement.WebElement (session=\"a884e601d8de6c181213c32ff0bbeb9e\", element=\"a4e9b3a2-1f52-425f-9335-c243448c2182\")>,\n",
       " <selenium.webdriver.remote.webelement.WebElement (session=\"a884e601d8de6c181213c32ff0bbeb9e\", element=\"2eb91190-2928-4904-b091-a4b6aef00d47\")>,\n",
       " <selenium.webdriver.remote.webelement.WebElement (session=\"a884e601d8de6c181213c32ff0bbeb9e\", element=\"2fdd7ae9-2868-4f75-b643-0da90762df30\")>,\n",
       " <selenium.webdriver.remote.webelement.WebElement (session=\"a884e601d8de6c181213c32ff0bbeb9e\", element=\"810ca9d5-90a1-4ca9-9057-8834c2b70271\")>,\n",
       " <selenium.webdriver.remote.webelement.WebElement (session=\"a884e601d8de6c181213c32ff0bbeb9e\", element=\"0d1a15d7-2a51-4871-abb0-f2bee1cfa8b6\")>,\n",
       " <selenium.webdriver.remote.webelement.WebElement (session=\"a884e601d8de6c181213c32ff0bbeb9e\", element=\"da9e0186-e2c9-4b77-a7ad-a2ab8f75b2eb\")>,\n",
       " <selenium.webdriver.remote.webelement.WebElement (session=\"a884e601d8de6c181213c32ff0bbeb9e\", element=\"c8c0b3e4-2f16-4d1f-bdb7-e049839e6e7d\")>]"
      ]
     },
     "execution_count": 12,
     "metadata": {},
     "output_type": "execute_result"
    }
   ],
   "source": [
    "line2=browser.find_elements(\"xpath\",\"//div[@class='_univ-rank ']\")\n",
    "line2"
   ]
  },
  {
   "cell_type": "code",
   "execution_count": 13,
   "id": "3075c48d",
   "metadata": {},
   "outputs": [
    {
     "data": {
      "text/plain": [
       "['21', '22', '23', '24', '25', '26', '27', '28', '29', '30']"
      ]
     },
     "execution_count": 13,
     "metadata": {},
     "output_type": "execute_result"
    }
   ],
   "source": [
    "Rank=[]\n",
    "for data in line2:\n",
    "    #get the text data\n",
    "    temp=data.text\n",
    "    Rank.append(temp)\n",
    "Rank"
   ]
  },
  {
   "cell_type": "code",
   "execution_count": 14,
   "id": "4644d7a3",
   "metadata": {},
   "outputs": [
    {
     "data": {
      "text/plain": [
       "[<selenium.webdriver.remote.webelement.WebElement (session=\"a884e601d8de6c181213c32ff0bbeb9e\", element=\"71ce3b6b-5bf6-4f07-a4d1-cf62d764868b\")>,\n",
       " <selenium.webdriver.remote.webelement.WebElement (session=\"a884e601d8de6c181213c32ff0bbeb9e\", element=\"e7b1b580-e316-4526-b46d-57a744e56ac4\")>,\n",
       " <selenium.webdriver.remote.webelement.WebElement (session=\"a884e601d8de6c181213c32ff0bbeb9e\", element=\"9b5075f0-4f79-4357-918e-81b201990371\")>,\n",
       " <selenium.webdriver.remote.webelement.WebElement (session=\"a884e601d8de6c181213c32ff0bbeb9e\", element=\"ba28de84-3e32-44d1-b93e-fb18a215d7fd\")>,\n",
       " <selenium.webdriver.remote.webelement.WebElement (session=\"a884e601d8de6c181213c32ff0bbeb9e\", element=\"efb573d4-ad89-4426-a7c7-e7dc960b9384\")>,\n",
       " <selenium.webdriver.remote.webelement.WebElement (session=\"a884e601d8de6c181213c32ff0bbeb9e\", element=\"aaa989d8-e803-4e77-a380-0790f08d5daa\")>,\n",
       " <selenium.webdriver.remote.webelement.WebElement (session=\"a884e601d8de6c181213c32ff0bbeb9e\", element=\"463a7073-6f82-40fe-8fe7-a562a41a911c\")>,\n",
       " <selenium.webdriver.remote.webelement.WebElement (session=\"a884e601d8de6c181213c32ff0bbeb9e\", element=\"7ac4b0ef-39c0-47ee-9be6-15db1aff2f98\")>,\n",
       " <selenium.webdriver.remote.webelement.WebElement (session=\"a884e601d8de6c181213c32ff0bbeb9e\", element=\"e345fece-1fbb-4b92-a45b-8abc2ffed659\")>]"
      ]
     },
     "execution_count": 14,
     "metadata": {},
     "output_type": "execute_result"
    }
   ],
   "source": [
    "# GET EACH COLLEGE SPECIFICATION HEADERS\n",
    "line3=browser.find_elements(\"xpath\",\"//div[@class='_click-function_ind']\")\n",
    "line3"
   ]
  },
  {
   "cell_type": "code",
   "execution_count": 15,
   "id": "66363e27",
   "metadata": {},
   "outputs": [
    {
     "data": {
      "text/plain": [
       "['Overall Score',\n",
       " 'Academic Reputation',\n",
       " 'Employer Reputation',\n",
       " 'Citations per Faculty',\n",
       " 'Faculty Student Ratio',\n",
       " 'International Students Ratio',\n",
       " 'International Faculty Ratio',\n",
       " 'International Research Network\\nUnweighted',\n",
       " 'Employment Outcomes\\nUnweighted']"
      ]
     },
     "execution_count": 15,
     "metadata": {},
     "output_type": "execute_result"
    }
   ],
   "source": [
    "#PARSING DATA\n",
    "column=[]\n",
    "for data in line3:\n",
    "    #get the text data\n",
    "    temp=data.text\n",
    "    column.append(temp)\n",
    "column"
   ]
  },
  {
   "cell_type": "code",
   "execution_count": 16,
   "id": "9d674bef",
   "metadata": {},
   "outputs": [
    {
     "data": {
      "text/plain": [
       "[<selenium.webdriver.remote.webelement.WebElement (session=\"a884e601d8de6c181213c32ff0bbeb9e\", element=\"3f515ea8-0700-4da0-9ee9-40bd9c05d719\")>,\n",
       " <selenium.webdriver.remote.webelement.WebElement (session=\"a884e601d8de6c181213c32ff0bbeb9e\", element=\"9dd1c633-c637-48d3-a22f-ac4598bb32a0\")>,\n",
       " <selenium.webdriver.remote.webelement.WebElement (session=\"a884e601d8de6c181213c32ff0bbeb9e\", element=\"139d3602-8ac9-441d-a68f-7552d7daea44\")>,\n",
       " <selenium.webdriver.remote.webelement.WebElement (session=\"a884e601d8de6c181213c32ff0bbeb9e\", element=\"7eea9ce2-0777-4a17-8514-2ab999ea4882\")>,\n",
       " <selenium.webdriver.remote.webelement.WebElement (session=\"a884e601d8de6c181213c32ff0bbeb9e\", element=\"5541b0b1-add0-43c4-a629-276f6e88be75\")>,\n",
       " <selenium.webdriver.remote.webelement.WebElement (session=\"a884e601d8de6c181213c32ff0bbeb9e\", element=\"85d91f01-30e3-4f57-8985-974ccebdfa17\")>,\n",
       " <selenium.webdriver.remote.webelement.WebElement (session=\"a884e601d8de6c181213c32ff0bbeb9e\", element=\"0e9f9be5-65b6-4432-b6e5-f680dc7de0e3\")>,\n",
       " <selenium.webdriver.remote.webelement.WebElement (session=\"a884e601d8de6c181213c32ff0bbeb9e\", element=\"97598353-e545-4ca3-b55c-18cc41070bce\")>,\n",
       " <selenium.webdriver.remote.webelement.WebElement (session=\"a884e601d8de6c181213c32ff0bbeb9e\", element=\"c189bfa4-7f4b-42b1-9a5b-69a65e0237aa\")>,\n",
       " <selenium.webdriver.remote.webelement.WebElement (session=\"a884e601d8de6c181213c32ff0bbeb9e\", element=\"b4fa8108-78d8-4c5c-81d3-78d32ee1b8fe\")>,\n",
       " <selenium.webdriver.remote.webelement.WebElement (session=\"a884e601d8de6c181213c32ff0bbeb9e\", element=\"e5672852-f522-43c5-b838-c903dfd2e031\")>,\n",
       " <selenium.webdriver.remote.webelement.WebElement (session=\"a884e601d8de6c181213c32ff0bbeb9e\", element=\"7f15ba0d-0725-4752-9ed9-415b847049f7\")>,\n",
       " <selenium.webdriver.remote.webelement.WebElement (session=\"a884e601d8de6c181213c32ff0bbeb9e\", element=\"e1c1d34e-a177-4b98-983c-be966f9c4fad\")>,\n",
       " <selenium.webdriver.remote.webelement.WebElement (session=\"a884e601d8de6c181213c32ff0bbeb9e\", element=\"54994a6e-07c2-4eec-835a-b7e5a4974a1b\")>,\n",
       " <selenium.webdriver.remote.webelement.WebElement (session=\"a884e601d8de6c181213c32ff0bbeb9e\", element=\"6db19925-93a1-48b7-b306-79cf34e4af57\")>,\n",
       " <selenium.webdriver.remote.webelement.WebElement (session=\"a884e601d8de6c181213c32ff0bbeb9e\", element=\"aac7408d-ccc7-4659-a45c-520f6940bb5f\")>,\n",
       " <selenium.webdriver.remote.webelement.WebElement (session=\"a884e601d8de6c181213c32ff0bbeb9e\", element=\"fb61b80d-0dd0-48c5-b155-617835916e3c\")>,\n",
       " <selenium.webdriver.remote.webelement.WebElement (session=\"a884e601d8de6c181213c32ff0bbeb9e\", element=\"6e6465e8-2dc6-4ef8-8077-00ccf3fd03a3\")>,\n",
       " <selenium.webdriver.remote.webelement.WebElement (session=\"a884e601d8de6c181213c32ff0bbeb9e\", element=\"0e99690e-34f8-4335-a4bc-ab8884569629\")>,\n",
       " <selenium.webdriver.remote.webelement.WebElement (session=\"a884e601d8de6c181213c32ff0bbeb9e\", element=\"f01b10d6-4375-4206-b5c9-b1dea05ee87a\")>,\n",
       " <selenium.webdriver.remote.webelement.WebElement (session=\"a884e601d8de6c181213c32ff0bbeb9e\", element=\"ac3a9911-bcc6-4dbb-9abe-8578cc99b77c\")>,\n",
       " <selenium.webdriver.remote.webelement.WebElement (session=\"a884e601d8de6c181213c32ff0bbeb9e\", element=\"41d6b7b1-3c49-42cb-9c62-71b78e2c4846\")>,\n",
       " <selenium.webdriver.remote.webelement.WebElement (session=\"a884e601d8de6c181213c32ff0bbeb9e\", element=\"99af1fd0-f185-4717-9120-8f02dd834e25\")>,\n",
       " <selenium.webdriver.remote.webelement.WebElement (session=\"a884e601d8de6c181213c32ff0bbeb9e\", element=\"f72b3968-baed-41c2-b74f-89d6c67afd58\")>,\n",
       " <selenium.webdriver.remote.webelement.WebElement (session=\"a884e601d8de6c181213c32ff0bbeb9e\", element=\"d2141cc1-53ed-49fd-8d98-1b770579edbb\")>,\n",
       " <selenium.webdriver.remote.webelement.WebElement (session=\"a884e601d8de6c181213c32ff0bbeb9e\", element=\"5df0acc3-f757-486a-963a-83ae22a3bc73\")>,\n",
       " <selenium.webdriver.remote.webelement.WebElement (session=\"a884e601d8de6c181213c32ff0bbeb9e\", element=\"5df358bb-ec34-4460-933c-840bcfb9e1a4\")>,\n",
       " <selenium.webdriver.remote.webelement.WebElement (session=\"a884e601d8de6c181213c32ff0bbeb9e\", element=\"b547689f-2b9f-4ee2-afcd-30e15db213cf\")>,\n",
       " <selenium.webdriver.remote.webelement.WebElement (session=\"a884e601d8de6c181213c32ff0bbeb9e\", element=\"1885a5ea-f6d8-4e14-bc26-4df37946a037\")>,\n",
       " <selenium.webdriver.remote.webelement.WebElement (session=\"a884e601d8de6c181213c32ff0bbeb9e\", element=\"350a2cdd-f8cd-46b3-ae50-cfdd37504233\")>,\n",
       " <selenium.webdriver.remote.webelement.WebElement (session=\"a884e601d8de6c181213c32ff0bbeb9e\", element=\"80fd3e6b-8e45-4a16-bc64-19baf164e3a1\")>,\n",
       " <selenium.webdriver.remote.webelement.WebElement (session=\"a884e601d8de6c181213c32ff0bbeb9e\", element=\"30a2cacb-f2af-46ea-934f-a89f0958dc22\")>,\n",
       " <selenium.webdriver.remote.webelement.WebElement (session=\"a884e601d8de6c181213c32ff0bbeb9e\", element=\"a6544004-b0f1-41f1-82d0-776233728d7c\")>,\n",
       " <selenium.webdriver.remote.webelement.WebElement (session=\"a884e601d8de6c181213c32ff0bbeb9e\", element=\"2a2b0e9f-4b6e-434b-8d1d-7c6399985a35\")>,\n",
       " <selenium.webdriver.remote.webelement.WebElement (session=\"a884e601d8de6c181213c32ff0bbeb9e\", element=\"f067965c-929f-41c3-8d93-3eb1289f1010\")>,\n",
       " <selenium.webdriver.remote.webelement.WebElement (session=\"a884e601d8de6c181213c32ff0bbeb9e\", element=\"133ccb7d-b9cb-4698-a387-1fe521a4d87f\")>,\n",
       " <selenium.webdriver.remote.webelement.WebElement (session=\"a884e601d8de6c181213c32ff0bbeb9e\", element=\"84c92a26-f581-4a5d-8fac-1c4d93ea3e33\")>,\n",
       " <selenium.webdriver.remote.webelement.WebElement (session=\"a884e601d8de6c181213c32ff0bbeb9e\", element=\"c026102c-f983-4897-9dc5-087d5c32e7c6\")>,\n",
       " <selenium.webdriver.remote.webelement.WebElement (session=\"a884e601d8de6c181213c32ff0bbeb9e\", element=\"c87b60e7-1dd3-4d4e-b1a3-0cfef3b1ff18\")>,\n",
       " <selenium.webdriver.remote.webelement.WebElement (session=\"a884e601d8de6c181213c32ff0bbeb9e\", element=\"10894df8-615e-425d-a7c1-401571a27f95\")>,\n",
       " <selenium.webdriver.remote.webelement.WebElement (session=\"a884e601d8de6c181213c32ff0bbeb9e\", element=\"067882fd-fcb8-4cc4-9d21-631f16373bea\")>,\n",
       " <selenium.webdriver.remote.webelement.WebElement (session=\"a884e601d8de6c181213c32ff0bbeb9e\", element=\"394d51d7-9f91-4a4e-ab46-2513b4f1346a\")>,\n",
       " <selenium.webdriver.remote.webelement.WebElement (session=\"a884e601d8de6c181213c32ff0bbeb9e\", element=\"8cde690b-652a-429b-8d54-546bb9e4e4e9\")>,\n",
       " <selenium.webdriver.remote.webelement.WebElement (session=\"a884e601d8de6c181213c32ff0bbeb9e\", element=\"c8a3143e-babd-4a20-a455-8ecfecc0c12c\")>,\n",
       " <selenium.webdriver.remote.webelement.WebElement (session=\"a884e601d8de6c181213c32ff0bbeb9e\", element=\"7b3a41c4-e599-48ac-ac04-8ee1bd77946a\")>,\n",
       " <selenium.webdriver.remote.webelement.WebElement (session=\"a884e601d8de6c181213c32ff0bbeb9e\", element=\"166988b9-6d76-4871-b5a7-5592e1e361e5\")>,\n",
       " <selenium.webdriver.remote.webelement.WebElement (session=\"a884e601d8de6c181213c32ff0bbeb9e\", element=\"cd108c29-1f2b-43be-9743-93480c30e207\")>,\n",
       " <selenium.webdriver.remote.webelement.WebElement (session=\"a884e601d8de6c181213c32ff0bbeb9e\", element=\"5c325a1b-679e-4f5f-9935-2160d35daae2\")>,\n",
       " <selenium.webdriver.remote.webelement.WebElement (session=\"a884e601d8de6c181213c32ff0bbeb9e\", element=\"4df198d1-55f9-4368-b36e-15a0218a3c10\")>,\n",
       " <selenium.webdriver.remote.webelement.WebElement (session=\"a884e601d8de6c181213c32ff0bbeb9e\", element=\"008be527-bf45-45f6-9966-4409427ad4e6\")>,\n",
       " <selenium.webdriver.remote.webelement.WebElement (session=\"a884e601d8de6c181213c32ff0bbeb9e\", element=\"6002911f-fe5d-4868-b930-6f268852f973\")>,\n",
       " <selenium.webdriver.remote.webelement.WebElement (session=\"a884e601d8de6c181213c32ff0bbeb9e\", element=\"99e73c69-9589-4bdb-8254-c1b4c68aca84\")>,\n",
       " <selenium.webdriver.remote.webelement.WebElement (session=\"a884e601d8de6c181213c32ff0bbeb9e\", element=\"e124b5dc-8849-4bcf-becc-5669c24e228b\")>,\n",
       " <selenium.webdriver.remote.webelement.WebElement (session=\"a884e601d8de6c181213c32ff0bbeb9e\", element=\"6e5e6248-0c9a-4c10-b6cf-698f7e8fc4d4\")>,\n",
       " <selenium.webdriver.remote.webelement.WebElement (session=\"a884e601d8de6c181213c32ff0bbeb9e\", element=\"91a36dcc-1d7f-413b-b817-e0c8b7d33360\")>,\n",
       " <selenium.webdriver.remote.webelement.WebElement (session=\"a884e601d8de6c181213c32ff0bbeb9e\", element=\"1c699251-e3fa-4488-aa45-dd826ffba213\")>,\n",
       " <selenium.webdriver.remote.webelement.WebElement (session=\"a884e601d8de6c181213c32ff0bbeb9e\", element=\"154197fc-f3a2-4a59-92af-dd65f9e7233e\")>,\n",
       " <selenium.webdriver.remote.webelement.WebElement (session=\"a884e601d8de6c181213c32ff0bbeb9e\", element=\"7a07bd8e-077d-46cb-b4b7-9e3afdce678c\")>,\n",
       " <selenium.webdriver.remote.webelement.WebElement (session=\"a884e601d8de6c181213c32ff0bbeb9e\", element=\"a933d83c-8fa4-4a5c-9093-b8ca01e19b9f\")>,\n",
       " <selenium.webdriver.remote.webelement.WebElement (session=\"a884e601d8de6c181213c32ff0bbeb9e\", element=\"897d7213-5b0b-4e6c-8b58-427d8dbb4d43\")>,\n",
       " <selenium.webdriver.remote.webelement.WebElement (session=\"a884e601d8de6c181213c32ff0bbeb9e\", element=\"b092bb04-09c5-46ed-b0fa-7e1a0ae0226c\")>,\n",
       " <selenium.webdriver.remote.webelement.WebElement (session=\"a884e601d8de6c181213c32ff0bbeb9e\", element=\"8ea76aca-ca87-419d-a155-5005c34e65e1\")>,\n",
       " <selenium.webdriver.remote.webelement.WebElement (session=\"a884e601d8de6c181213c32ff0bbeb9e\", element=\"05d8bed4-a9b1-4eb4-acd0-758a0d30af2d\")>,\n",
       " <selenium.webdriver.remote.webelement.WebElement (session=\"a884e601d8de6c181213c32ff0bbeb9e\", element=\"73d7f101-6580-46c4-bff6-aacde4ebcf3c\")>,\n",
       " <selenium.webdriver.remote.webelement.WebElement (session=\"a884e601d8de6c181213c32ff0bbeb9e\", element=\"e1f232a2-a99a-476d-ab68-b0e727a375e5\")>,\n",
       " <selenium.webdriver.remote.webelement.WebElement (session=\"a884e601d8de6c181213c32ff0bbeb9e\", element=\"f0da8666-db36-4cb5-84d2-ef8e25adaf01\")>,\n",
       " <selenium.webdriver.remote.webelement.WebElement (session=\"a884e601d8de6c181213c32ff0bbeb9e\", element=\"1b2776eb-f8f7-4f87-9b0e-e08748b802fc\")>,\n",
       " <selenium.webdriver.remote.webelement.WebElement (session=\"a884e601d8de6c181213c32ff0bbeb9e\", element=\"b6a1d4a4-9713-4b24-b85f-56021c7e8651\")>,\n",
       " <selenium.webdriver.remote.webelement.WebElement (session=\"a884e601d8de6c181213c32ff0bbeb9e\", element=\"2b4efca3-a1ed-4253-8d92-5f44a5753bda\")>,\n",
       " <selenium.webdriver.remote.webelement.WebElement (session=\"a884e601d8de6c181213c32ff0bbeb9e\", element=\"14379192-8ff5-4a45-bc5f-e59fa023853e\")>,\n",
       " <selenium.webdriver.remote.webelement.WebElement (session=\"a884e601d8de6c181213c32ff0bbeb9e\", element=\"29b14e5b-7da1-4978-9e0d-44b7b8e12459\")>,\n",
       " <selenium.webdriver.remote.webelement.WebElement (session=\"a884e601d8de6c181213c32ff0bbeb9e\", element=\"aae2c0ca-aac9-4821-a3fa-672d15c1c857\")>,\n",
       " <selenium.webdriver.remote.webelement.WebElement (session=\"a884e601d8de6c181213c32ff0bbeb9e\", element=\"971fb532-5764-4854-875f-357affc1d4c3\")>,\n",
       " <selenium.webdriver.remote.webelement.WebElement (session=\"a884e601d8de6c181213c32ff0bbeb9e\", element=\"285eed91-f865-48fb-8478-6634276a4ad1\")>,\n",
       " <selenium.webdriver.remote.webelement.WebElement (session=\"a884e601d8de6c181213c32ff0bbeb9e\", element=\"94577351-3e76-408a-90d7-0e5fc14f5605\")>,\n",
       " <selenium.webdriver.remote.webelement.WebElement (session=\"a884e601d8de6c181213c32ff0bbeb9e\", element=\"0f033e12-3847-47d0-91d4-44fdef8b7367\")>,\n",
       " <selenium.webdriver.remote.webelement.WebElement (session=\"a884e601d8de6c181213c32ff0bbeb9e\", element=\"b8995e82-5941-4954-b8b3-cbb865be2e59\")>,\n",
       " <selenium.webdriver.remote.webelement.WebElement (session=\"a884e601d8de6c181213c32ff0bbeb9e\", element=\"5999f927-ae8a-4284-a727-df1846701205\")>,\n",
       " <selenium.webdriver.remote.webelement.WebElement (session=\"a884e601d8de6c181213c32ff0bbeb9e\", element=\"b3d09a2f-d2ad-409e-91b4-29ba7c998a75\")>,\n",
       " <selenium.webdriver.remote.webelement.WebElement (session=\"a884e601d8de6c181213c32ff0bbeb9e\", element=\"0408c3b8-db1d-49e2-856b-55951686df70\")>,\n",
       " <selenium.webdriver.remote.webelement.WebElement (session=\"a884e601d8de6c181213c32ff0bbeb9e\", element=\"73401ff7-af5d-41f7-be1d-c219d08860fb\")>,\n",
       " <selenium.webdriver.remote.webelement.WebElement (session=\"a884e601d8de6c181213c32ff0bbeb9e\", element=\"ffea1c84-dc58-47cd-8ef8-f807dfb46e93\")>,\n",
       " <selenium.webdriver.remote.webelement.WebElement (session=\"a884e601d8de6c181213c32ff0bbeb9e\", element=\"c83b20a0-8550-400f-a9c9-d4b295d8aca3\")>,\n",
       " <selenium.webdriver.remote.webelement.WebElement (session=\"a884e601d8de6c181213c32ff0bbeb9e\", element=\"3ab16d0a-a34a-4a5b-a92f-f2c43a63e840\")>,\n",
       " <selenium.webdriver.remote.webelement.WebElement (session=\"a884e601d8de6c181213c32ff0bbeb9e\", element=\"895e6d27-19bc-4d59-922e-79ec8e5510db\")>,\n",
       " <selenium.webdriver.remote.webelement.WebElement (session=\"a884e601d8de6c181213c32ff0bbeb9e\", element=\"cea9b5e8-6236-48c4-9af8-b04f2c6a23a8\")>,\n",
       " <selenium.webdriver.remote.webelement.WebElement (session=\"a884e601d8de6c181213c32ff0bbeb9e\", element=\"a5041715-6eb9-4c9a-832f-98756e191c3c\")>,\n",
       " <selenium.webdriver.remote.webelement.WebElement (session=\"a884e601d8de6c181213c32ff0bbeb9e\", element=\"327c2a4f-178a-4a42-9dc7-911adde15680\")>,\n",
       " <selenium.webdriver.remote.webelement.WebElement (session=\"a884e601d8de6c181213c32ff0bbeb9e\", element=\"bb7b304e-eda6-4762-ac43-8ef73caeb0b3\")>,\n",
       " <selenium.webdriver.remote.webelement.WebElement (session=\"a884e601d8de6c181213c32ff0bbeb9e\", element=\"ef426464-3011-4d46-a73e-8196ffafb801\")>,\n",
       " <selenium.webdriver.remote.webelement.WebElement (session=\"a884e601d8de6c181213c32ff0bbeb9e\", element=\"d5d0e168-eca4-4925-aefe-e0413d987703\")>,\n",
       " <selenium.webdriver.remote.webelement.WebElement (session=\"a884e601d8de6c181213c32ff0bbeb9e\", element=\"653eaaae-f276-48f6-bebe-b8818e46efb9\")>,\n",
       " <selenium.webdriver.remote.webelement.WebElement (session=\"a884e601d8de6c181213c32ff0bbeb9e\", element=\"b839405e-b36d-4a28-a5bc-cacb7b6c7167\")>,\n",
       " <selenium.webdriver.remote.webelement.WebElement (session=\"a884e601d8de6c181213c32ff0bbeb9e\", element=\"1fd5e89e-136c-4850-983b-599a1aeb19f9\")>,\n",
       " <selenium.webdriver.remote.webelement.WebElement (session=\"a884e601d8de6c181213c32ff0bbeb9e\", element=\"fc2eeb09-42a8-4452-82cc-9cc9140d9913\")>,\n",
       " <selenium.webdriver.remote.webelement.WebElement (session=\"a884e601d8de6c181213c32ff0bbeb9e\", element=\"83cd23c9-ce6b-438c-a5b9-ea4b250934cc\")>,\n",
       " <selenium.webdriver.remote.webelement.WebElement (session=\"a884e601d8de6c181213c32ff0bbeb9e\", element=\"84bafeab-898d-4d6b-83cb-6c53170f72aa\")>,\n",
       " <selenium.webdriver.remote.webelement.WebElement (session=\"a884e601d8de6c181213c32ff0bbeb9e\", element=\"7878b9fa-468f-4438-a00d-22cb61ac00e3\")>,\n",
       " <selenium.webdriver.remote.webelement.WebElement (session=\"a884e601d8de6c181213c32ff0bbeb9e\", element=\"ecf4c97a-cb11-4626-bf27-c3519a1cf5a1\")>,\n",
       " <selenium.webdriver.remote.webelement.WebElement (session=\"a884e601d8de6c181213c32ff0bbeb9e\", element=\"dc287af9-6dab-4d6d-ba6e-af7947001251\")>]"
      ]
     },
     "execution_count": 16,
     "metadata": {},
     "output_type": "execute_result"
    }
   ],
   "source": [
    "line4=browser.find_elements(\"xpath\",\"//div[@class='td-wrap-in']\")\n",
    "line4"
   ]
  },
  {
   "cell_type": "code",
   "execution_count": 18,
   "id": "2a623ee0",
   "metadata": {},
   "outputs": [
    {
     "data": {
      "text/plain": [
       "['82.1', '93.6', '70.1', '99.3', '38', '96', '100', '94.6', '59.1']"
      ]
     },
     "execution_count": 18,
     "metadata": {},
     "output_type": "execute_result"
    }
   ],
   "source": [
    "#PARSING DATA\n",
    "value=[]\n",
    "for data in line4:\n",
    "    #get the text data\n",
    "    temp=data.text\n",
    "    value.append(temp)\n",
    "value_h=value[91:100]\n",
    "value_h"
   ]
  },
  {
   "cell_type": "code",
   "execution_count": 19,
   "id": "f67d74c0",
   "metadata": {},
   "outputs": [
    {
     "data": {
      "text/plain": [
       "{'Name': 'Australian National University (ANU)',\n",
       " 'Location': 'Canberra, Australia',\n",
       " 'Rank': '30',\n",
       " 'Overall Score': '82.1',\n",
       " 'Academic Reputation': '93.6',\n",
       " 'Employer Reputation': '70.1',\n",
       " 'Citations per Faculty': '99.3',\n",
       " 'Faculty Student Ratio': '38',\n",
       " 'International Students Ratio': '96',\n",
       " 'International Faculty Ratio': '100',\n",
       " 'International Research Network\\nUnweighted': '94.6',\n",
       " 'Employment Outcomes\\nUnweighted': '59.1'}"
      ]
     },
     "execution_count": 19,
     "metadata": {},
     "output_type": "execute_result"
    }
   ],
   "source": [
    "\n",
    "d={}\n",
    "d['Name']=value[90]\n",
    "d['Location']=address[9]\n",
    "d['Rank']=Rank[9]\n",
    "for i in range(len(column)):\n",
    "    d[column[i]]=value_h[i]\n",
    "d"
   ]
  },
  {
   "cell_type": "code",
   "execution_count": 20,
   "id": "5534606c",
   "metadata": {},
   "outputs": [
    {
     "data": {
      "text/plain": [
       "'{\"Name\": \"Australian National University (ANU)\", \"Location\": \"Canberra, Australia\", \"Rank\": \"30\", \"Overall Score\": \"82.1\", \"Academic Reputation\": \"93.6\", \"Employer Reputation\": \"70.1\", \"Citations per Faculty\": \"99.3\", \"Faculty Student Ratio\": \"38\", \"International Students Ratio\": \"96\", \"International Faculty Ratio\": \"100\", \"International Research Network\\\\nUnweighted\": \"94.6\", \"Employment Outcomes\\\\nUnweighted\": \"59.1\"}'"
      ]
     },
     "execution_count": 20,
     "metadata": {},
     "output_type": "execute_result"
    }
   ],
   "source": [
    "s1=json.dumps(d)\n",
    "s1"
   ]
  },
  {
   "cell_type": "code",
   "execution_count": 21,
   "id": "f1da5013",
   "metadata": {},
   "outputs": [],
   "source": [
    "with open('Australian National University (ANU).json','w') as f:\n",
    "    json.dump(d,f)"
   ]
  }
 ],
 "metadata": {
  "kernelspec": {
   "display_name": "Python 3.9.12 ('base')",
   "language": "python",
   "name": "python3"
  },
  "language_info": {
   "codemirror_mode": {
    "name": "ipython",
    "version": 3
   },
   "file_extension": ".py",
   "mimetype": "text/x-python",
   "name": "python",
   "nbconvert_exporter": "python",
   "pygments_lexer": "ipython3",
   "version": "3.9.12"
  },
  "vscode": {
   "interpreter": {
    "hash": "ad2bdc8ecc057115af97d19610ffacc2b4e99fae6737bb82f5d7fb13d2f2c186"
   }
  }
 },
 "nbformat": 4,
 "nbformat_minor": 5
}
