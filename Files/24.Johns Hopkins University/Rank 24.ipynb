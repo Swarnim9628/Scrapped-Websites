{
 "cells": [
  {
   "cell_type": "code",
   "execution_count": 1,
   "id": "5a10c9ed",
   "metadata": {},
   "outputs": [],
   "source": [
    "from selenium import webdriver\n",
    "from selenium.webdriver.chrome.service import Service\n",
    "import pandas as pd\n",
    "import json"
   ]
  },
  {
   "cell_type": "code",
   "execution_count": 2,
   "id": "0acca88f",
   "metadata": {},
   "outputs": [],
   "source": [
    "path = Service('C:\\chromedriver.exe')"
   ]
  },
  {
   "cell_type": "code",
   "execution_count": 3,
   "id": "c7249981",
   "metadata": {},
   "outputs": [],
   "source": [
    "# set path for the driver\n",
    "browser = webdriver.Chrome(service = path)"
   ]
  },
  {
   "cell_type": "code",
   "execution_count": 4,
   "id": "e5e1324e",
   "metadata": {},
   "outputs": [],
   "source": [
    "url = \"https://www.topuniversities.com/university-rankings/world-university-rankings/2023\""
   ]
  },
  {
   "cell_type": "code",
   "execution_count": 5,
   "id": "8f9cb9fa",
   "metadata": {},
   "outputs": [],
   "source": [
    "# open the page url ion chrome\n",
    "browser.get(url)"
   ]
  },
  {
   "cell_type": "code",
   "execution_count": 6,
   "id": "7da2261f",
   "metadata": {},
   "outputs": [
    {
     "data": {
      "text/plain": [
       "[<selenium.webdriver.remote.webelement.WebElement (session=\"fec0c7c14d6fbd8457fa87a29bf336f0\", element=\"e7e94ec3-4f9d-4ced-87ae-43b7885f4b2b\")>,\n",
       " <selenium.webdriver.remote.webelement.WebElement (session=\"fec0c7c14d6fbd8457fa87a29bf336f0\", element=\"b56c7d5d-f46f-4ce6-8ea6-9bbda944c250\")>,\n",
       " <selenium.webdriver.remote.webelement.WebElement (session=\"fec0c7c14d6fbd8457fa87a29bf336f0\", element=\"c2073c86-ef3d-49fe-8cd4-a3cea4e7d8bd\")>,\n",
       " <selenium.webdriver.remote.webelement.WebElement (session=\"fec0c7c14d6fbd8457fa87a29bf336f0\", element=\"918b8c23-fc3c-4726-bcab-97591e78dab0\")>,\n",
       " <selenium.webdriver.remote.webelement.WebElement (session=\"fec0c7c14d6fbd8457fa87a29bf336f0\", element=\"d59720d2-2421-4ad2-aff7-abf0589d7a07\")>,\n",
       " <selenium.webdriver.remote.webelement.WebElement (session=\"fec0c7c14d6fbd8457fa87a29bf336f0\", element=\"1f5cd28f-8f8f-4c36-9c37-34fab7d7cd83\")>,\n",
       " <selenium.webdriver.remote.webelement.WebElement (session=\"fec0c7c14d6fbd8457fa87a29bf336f0\", element=\"fe11c2d2-fad4-4678-8bab-a9c78e260ab7\")>,\n",
       " <selenium.webdriver.remote.webelement.WebElement (session=\"fec0c7c14d6fbd8457fa87a29bf336f0\", element=\"99d3369c-7222-41aa-a85e-34dd4fc413f7\")>,\n",
       " <selenium.webdriver.remote.webelement.WebElement (session=\"fec0c7c14d6fbd8457fa87a29bf336f0\", element=\"4f315b44-f881-4712-8af9-f7c85eb82bb7\")>,\n",
       " <selenium.webdriver.remote.webelement.WebElement (session=\"fec0c7c14d6fbd8457fa87a29bf336f0\", element=\"5c9a0a65-d93a-4084-8428-aec4d9c874ba\")>,\n",
       " <selenium.webdriver.remote.webelement.WebElement (session=\"fec0c7c14d6fbd8457fa87a29bf336f0\", element=\"b4407a80-108d-410f-ae90-7fe06e2e9aff\")>,\n",
       " <selenium.webdriver.remote.webelement.WebElement (session=\"fec0c7c14d6fbd8457fa87a29bf336f0\", element=\"8f9db404-2f72-4019-a94f-733f26e8ed4e\")>,\n",
       " <selenium.webdriver.remote.webelement.WebElement (session=\"fec0c7c14d6fbd8457fa87a29bf336f0\", element=\"67ae449d-d7c6-4998-ba2c-8620a624d431\")>,\n",
       " <selenium.webdriver.remote.webelement.WebElement (session=\"fec0c7c14d6fbd8457fa87a29bf336f0\", element=\"fb745481-a115-4e75-b8b5-891ebb4d9658\")>,\n",
       " <selenium.webdriver.remote.webelement.WebElement (session=\"fec0c7c14d6fbd8457fa87a29bf336f0\", element=\"4e6becf6-025e-4405-8568-3683dc3658aa\")>,\n",
       " <selenium.webdriver.remote.webelement.WebElement (session=\"fec0c7c14d6fbd8457fa87a29bf336f0\", element=\"5db9cd61-bfbe-4006-8bf1-498ad721883e\")>,\n",
       " <selenium.webdriver.remote.webelement.WebElement (session=\"fec0c7c14d6fbd8457fa87a29bf336f0\", element=\"4d8f0639-a666-4b02-9528-2be8fe71f5b1\")>,\n",
       " <selenium.webdriver.remote.webelement.WebElement (session=\"fec0c7c14d6fbd8457fa87a29bf336f0\", element=\"42a9e912-086b-415f-b13f-1e89905252b5\")>,\n",
       " <selenium.webdriver.remote.webelement.WebElement (session=\"fec0c7c14d6fbd8457fa87a29bf336f0\", element=\"1ccae89e-7d2d-456e-b5d0-ec297b7def3a\")>,\n",
       " <selenium.webdriver.remote.webelement.WebElement (session=\"fec0c7c14d6fbd8457fa87a29bf336f0\", element=\"908d8783-c953-4c4c-8538-f72c46107134\")>]"
      ]
     },
     "execution_count": 6,
     "metadata": {},
     "output_type": "execute_result"
    }
   ],
   "source": [
    "line1=browser.find_elements(\"xpath\",\"//div[@class='location ']\")\n",
    "line1"
   ]
  },
  {
   "cell_type": "code",
   "execution_count": 7,
   "id": "55cd1c32",
   "metadata": {},
   "outputs": [
    {
     "data": {
      "text/plain": [
       "[' Hong Kong SAR',\n",
       " 'New York City, United States',\n",
       " 'Tokyo, Japan',\n",
       " 'Baltimore, United States',\n",
       " 'Ann Arbor, United States',\n",
       " 'Paris, France',\n",
       " 'Berkeley, United States',\n",
       " 'Manchester, United Kingdom',\n",
       " 'Seoul, South Korea',\n",
       " 'Canberra, Australia']"
      ]
     },
     "execution_count": 7,
     "metadata": {},
     "output_type": "execute_result"
    }
   ],
   "source": [
    "address=[]\n",
    "for data in line1:\n",
    "    #get the text data\n",
    "    temp=data.text\n",
    "    address.append(temp)\n",
    "address=address[10:]\n",
    "address"
   ]
  },
  {
   "cell_type": "code",
   "execution_count": 8,
   "id": "873aa590",
   "metadata": {},
   "outputs": [
    {
     "data": {
      "text/plain": [
       "[<selenium.webdriver.remote.webelement.WebElement (session=\"fec0c7c14d6fbd8457fa87a29bf336f0\", element=\"9c7e6d44-1b1a-4cc7-b13d-65f1d47158da\")>,\n",
       " <selenium.webdriver.remote.webelement.WebElement (session=\"fec0c7c14d6fbd8457fa87a29bf336f0\", element=\"4b1131ec-8fe7-44bc-a50e-045d86acbcb3\")>,\n",
       " <selenium.webdriver.remote.webelement.WebElement (session=\"fec0c7c14d6fbd8457fa87a29bf336f0\", element=\"deb2c2ca-b1b7-4671-85f5-10c6f0472664\")>,\n",
       " <selenium.webdriver.remote.webelement.WebElement (session=\"fec0c7c14d6fbd8457fa87a29bf336f0\", element=\"accefed7-2f8e-48f9-8c45-892c0ee529dc\")>,\n",
       " <selenium.webdriver.remote.webelement.WebElement (session=\"fec0c7c14d6fbd8457fa87a29bf336f0\", element=\"06a83589-ca41-4571-9bae-72ea1459d0be\")>,\n",
       " <selenium.webdriver.remote.webelement.WebElement (session=\"fec0c7c14d6fbd8457fa87a29bf336f0\", element=\"3f7ec490-93d6-4313-b290-37d4ed71c64b\")>,\n",
       " <selenium.webdriver.remote.webelement.WebElement (session=\"fec0c7c14d6fbd8457fa87a29bf336f0\", element=\"a7a4463d-b68e-45fa-ab69-d203d825007a\")>,\n",
       " <selenium.webdriver.remote.webelement.WebElement (session=\"fec0c7c14d6fbd8457fa87a29bf336f0\", element=\"87868ee5-604e-4930-aa42-648122e66284\")>,\n",
       " <selenium.webdriver.remote.webelement.WebElement (session=\"fec0c7c14d6fbd8457fa87a29bf336f0\", element=\"472ccebc-81c4-4fbf-bc49-56a28a4cd1a0\")>,\n",
       " <selenium.webdriver.remote.webelement.WebElement (session=\"fec0c7c14d6fbd8457fa87a29bf336f0\", element=\"9fc489f3-713b-478f-9fe1-147414f96da6\")>]"
      ]
     },
     "execution_count": 8,
     "metadata": {},
     "output_type": "execute_result"
    }
   ],
   "source": [
    "line2=browser.find_elements(\"xpath\",\"//div[@class='_univ-rank ']\")\n",
    "line2"
   ]
  },
  {
   "cell_type": "code",
   "execution_count": 9,
   "id": "2f78b0f1",
   "metadata": {},
   "outputs": [
    {
     "data": {
      "text/plain": [
       "['21', '22', '23', '24', '25', '26', '27', '28', '29', '30']"
      ]
     },
     "execution_count": 9,
     "metadata": {},
     "output_type": "execute_result"
    }
   ],
   "source": [
    "Rank=[]\n",
    "for data in line2:\n",
    "    #get the text data\n",
    "    temp=data.text\n",
    "    Rank.append(temp)\n",
    "Rank"
   ]
  },
  {
   "cell_type": "code",
   "execution_count": 10,
   "id": "a8588882",
   "metadata": {},
   "outputs": [
    {
     "data": {
      "text/plain": [
       "[<selenium.webdriver.remote.webelement.WebElement (session=\"fec0c7c14d6fbd8457fa87a29bf336f0\", element=\"1ace3f76-acbe-47aa-a26d-613443f74692\")>,\n",
       " <selenium.webdriver.remote.webelement.WebElement (session=\"fec0c7c14d6fbd8457fa87a29bf336f0\", element=\"57561152-3f7c-4953-9a8e-d8336eb9c030\")>,\n",
       " <selenium.webdriver.remote.webelement.WebElement (session=\"fec0c7c14d6fbd8457fa87a29bf336f0\", element=\"f1bb2455-6ca8-498b-b8d1-e5dae653ac99\")>,\n",
       " <selenium.webdriver.remote.webelement.WebElement (session=\"fec0c7c14d6fbd8457fa87a29bf336f0\", element=\"c8594fd8-9aaa-47e5-b82b-4e0af2f653c0\")>,\n",
       " <selenium.webdriver.remote.webelement.WebElement (session=\"fec0c7c14d6fbd8457fa87a29bf336f0\", element=\"0f6b08a2-be33-454d-b336-41ded07e2d7a\")>,\n",
       " <selenium.webdriver.remote.webelement.WebElement (session=\"fec0c7c14d6fbd8457fa87a29bf336f0\", element=\"0ce20a24-840e-4acd-a5ac-61a1e608e6f1\")>,\n",
       " <selenium.webdriver.remote.webelement.WebElement (session=\"fec0c7c14d6fbd8457fa87a29bf336f0\", element=\"55a813a0-5f13-41e7-84f3-25517ba7ca86\")>,\n",
       " <selenium.webdriver.remote.webelement.WebElement (session=\"fec0c7c14d6fbd8457fa87a29bf336f0\", element=\"3ae18b43-f1e1-4c5e-871a-61c773ae4454\")>,\n",
       " <selenium.webdriver.remote.webelement.WebElement (session=\"fec0c7c14d6fbd8457fa87a29bf336f0\", element=\"821fb0a1-473f-4e4c-9d22-7ea680c9aa05\")>]"
      ]
     },
     "execution_count": 10,
     "metadata": {},
     "output_type": "execute_result"
    }
   ],
   "source": [
    "line3=browser.find_elements(\"xpath\",\"//div[@class='_click-function_ind']\")\n",
    "line3"
   ]
  },
  {
   "cell_type": "code",
   "execution_count": 11,
   "id": "5839ecba",
   "metadata": {},
   "outputs": [
    {
     "data": {
      "text/plain": [
       "['Overall Score',\n",
       " 'Academic Reputation',\n",
       " 'Employer Reputation',\n",
       " 'Citations per Faculty',\n",
       " 'Faculty Student Ratio',\n",
       " 'International Students Ratio',\n",
       " 'International Faculty Ratio',\n",
       " 'International Research Network\\nUnweighted',\n",
       " 'Employment Outcomes\\nUnweighted']"
      ]
     },
     "execution_count": 11,
     "metadata": {},
     "output_type": "execute_result"
    }
   ],
   "source": [
    "#PARSING DATA\n",
    "column=[]\n",
    "for data in line3:\n",
    "    #get the text data\n",
    "    temp=data.text\n",
    "    column.append(temp)\n",
    "column"
   ]
  },
  {
   "cell_type": "code",
   "execution_count": 12,
   "id": "d73b7f32",
   "metadata": {},
   "outputs": [
    {
     "data": {
      "text/plain": [
       "[<selenium.webdriver.remote.webelement.WebElement (session=\"fec0c7c14d6fbd8457fa87a29bf336f0\", element=\"c437e453-520f-4717-b840-e9c02aba51a0\")>,\n",
       " <selenium.webdriver.remote.webelement.WebElement (session=\"fec0c7c14d6fbd8457fa87a29bf336f0\", element=\"74f6682b-a38c-493d-baea-92c7e8d96eab\")>,\n",
       " <selenium.webdriver.remote.webelement.WebElement (session=\"fec0c7c14d6fbd8457fa87a29bf336f0\", element=\"3628490c-8c22-4e40-9c35-55b8f58a8e5e\")>,\n",
       " <selenium.webdriver.remote.webelement.WebElement (session=\"fec0c7c14d6fbd8457fa87a29bf336f0\", element=\"14ffbbb7-c16f-457a-8613-54659d889f4b\")>,\n",
       " <selenium.webdriver.remote.webelement.WebElement (session=\"fec0c7c14d6fbd8457fa87a29bf336f0\", element=\"48d20bcb-3b5c-4c28-b45f-37adc9d37424\")>,\n",
       " <selenium.webdriver.remote.webelement.WebElement (session=\"fec0c7c14d6fbd8457fa87a29bf336f0\", element=\"93e3f741-8f8e-46a0-b33c-0795b78143b0\")>,\n",
       " <selenium.webdriver.remote.webelement.WebElement (session=\"fec0c7c14d6fbd8457fa87a29bf336f0\", element=\"115cf38e-d6f9-4f00-ba69-32d80d00f351\")>,\n",
       " <selenium.webdriver.remote.webelement.WebElement (session=\"fec0c7c14d6fbd8457fa87a29bf336f0\", element=\"49039392-13c7-4fb4-bc8a-75826dacd005\")>,\n",
       " <selenium.webdriver.remote.webelement.WebElement (session=\"fec0c7c14d6fbd8457fa87a29bf336f0\", element=\"b0ab0b9c-86d5-4560-a206-7b7548ed85d2\")>,\n",
       " <selenium.webdriver.remote.webelement.WebElement (session=\"fec0c7c14d6fbd8457fa87a29bf336f0\", element=\"3e764dd3-9598-4150-92d9-2b28c5dd33d5\")>,\n",
       " <selenium.webdriver.remote.webelement.WebElement (session=\"fec0c7c14d6fbd8457fa87a29bf336f0\", element=\"52c03924-0de3-4b2f-a195-0657dec4c702\")>,\n",
       " <selenium.webdriver.remote.webelement.WebElement (session=\"fec0c7c14d6fbd8457fa87a29bf336f0\", element=\"63366aa3-cce4-4c53-b14e-925db1225622\")>,\n",
       " <selenium.webdriver.remote.webelement.WebElement (session=\"fec0c7c14d6fbd8457fa87a29bf336f0\", element=\"8d9ebc75-5d3a-4793-a17c-b96c6b62f492\")>,\n",
       " <selenium.webdriver.remote.webelement.WebElement (session=\"fec0c7c14d6fbd8457fa87a29bf336f0\", element=\"58697bba-494f-4d92-8995-bd986e4b18e1\")>,\n",
       " <selenium.webdriver.remote.webelement.WebElement (session=\"fec0c7c14d6fbd8457fa87a29bf336f0\", element=\"f426e41f-ded6-4452-a7d6-9a1953135f9f\")>,\n",
       " <selenium.webdriver.remote.webelement.WebElement (session=\"fec0c7c14d6fbd8457fa87a29bf336f0\", element=\"9ce29ae8-92f9-43da-b5b0-def0078d5916\")>,\n",
       " <selenium.webdriver.remote.webelement.WebElement (session=\"fec0c7c14d6fbd8457fa87a29bf336f0\", element=\"f6a78985-d73c-448b-89a3-806ad01c348a\")>,\n",
       " <selenium.webdriver.remote.webelement.WebElement (session=\"fec0c7c14d6fbd8457fa87a29bf336f0\", element=\"c2a6b5ae-6d37-4ae8-96fe-8c22a2519d88\")>,\n",
       " <selenium.webdriver.remote.webelement.WebElement (session=\"fec0c7c14d6fbd8457fa87a29bf336f0\", element=\"38b4ac5c-142c-471d-b313-af5a27bbde4b\")>,\n",
       " <selenium.webdriver.remote.webelement.WebElement (session=\"fec0c7c14d6fbd8457fa87a29bf336f0\", element=\"fd6b754f-0633-49bb-8475-2af2f29278a8\")>,\n",
       " <selenium.webdriver.remote.webelement.WebElement (session=\"fec0c7c14d6fbd8457fa87a29bf336f0\", element=\"6174cb0f-93e3-430f-8179-5d751e938592\")>,\n",
       " <selenium.webdriver.remote.webelement.WebElement (session=\"fec0c7c14d6fbd8457fa87a29bf336f0\", element=\"aaf5ebc4-7217-48fe-b795-d9c149dfe797\")>,\n",
       " <selenium.webdriver.remote.webelement.WebElement (session=\"fec0c7c14d6fbd8457fa87a29bf336f0\", element=\"3053a0e1-f2e8-472b-a5d3-a189ed80a81c\")>,\n",
       " <selenium.webdriver.remote.webelement.WebElement (session=\"fec0c7c14d6fbd8457fa87a29bf336f0\", element=\"b58c5ebc-e0f0-493c-84fd-fbbe2074bd33\")>,\n",
       " <selenium.webdriver.remote.webelement.WebElement (session=\"fec0c7c14d6fbd8457fa87a29bf336f0\", element=\"e8d10839-af0f-47cc-82f5-f2ae332f4631\")>,\n",
       " <selenium.webdriver.remote.webelement.WebElement (session=\"fec0c7c14d6fbd8457fa87a29bf336f0\", element=\"cb38d634-e611-4cb1-ad32-ae4105eef4c8\")>,\n",
       " <selenium.webdriver.remote.webelement.WebElement (session=\"fec0c7c14d6fbd8457fa87a29bf336f0\", element=\"08f7e0e3-4e11-4841-96d2-68889e95e742\")>,\n",
       " <selenium.webdriver.remote.webelement.WebElement (session=\"fec0c7c14d6fbd8457fa87a29bf336f0\", element=\"82901f7c-13c3-4a9a-804a-762fc6645dc1\")>,\n",
       " <selenium.webdriver.remote.webelement.WebElement (session=\"fec0c7c14d6fbd8457fa87a29bf336f0\", element=\"c69cbdb4-c3ca-42cf-b331-9c4ebdc9caa1\")>,\n",
       " <selenium.webdriver.remote.webelement.WebElement (session=\"fec0c7c14d6fbd8457fa87a29bf336f0\", element=\"7914d84d-a7ba-4bbc-bcea-deda35e51d70\")>,\n",
       " <selenium.webdriver.remote.webelement.WebElement (session=\"fec0c7c14d6fbd8457fa87a29bf336f0\", element=\"0f62012f-fa80-4429-b7ee-c8d61c21451a\")>,\n",
       " <selenium.webdriver.remote.webelement.WebElement (session=\"fec0c7c14d6fbd8457fa87a29bf336f0\", element=\"a78eeabe-1a98-43e5-99e8-98519aadc903\")>,\n",
       " <selenium.webdriver.remote.webelement.WebElement (session=\"fec0c7c14d6fbd8457fa87a29bf336f0\", element=\"b1ca9615-e4ae-4de4-9454-ce9cb555cdef\")>,\n",
       " <selenium.webdriver.remote.webelement.WebElement (session=\"fec0c7c14d6fbd8457fa87a29bf336f0\", element=\"2227fd07-8648-433c-a074-4673659d5732\")>,\n",
       " <selenium.webdriver.remote.webelement.WebElement (session=\"fec0c7c14d6fbd8457fa87a29bf336f0\", element=\"1d4c1377-0bad-4aee-8703-82fcf938f1a2\")>,\n",
       " <selenium.webdriver.remote.webelement.WebElement (session=\"fec0c7c14d6fbd8457fa87a29bf336f0\", element=\"003adced-e6af-40aa-a863-d8e094ccc661\")>,\n",
       " <selenium.webdriver.remote.webelement.WebElement (session=\"fec0c7c14d6fbd8457fa87a29bf336f0\", element=\"4ac57be6-d535-4f73-94fa-db3f5fe73127\")>,\n",
       " <selenium.webdriver.remote.webelement.WebElement (session=\"fec0c7c14d6fbd8457fa87a29bf336f0\", element=\"fb279467-c0b0-404d-9500-da5f3d3fc1c1\")>,\n",
       " <selenium.webdriver.remote.webelement.WebElement (session=\"fec0c7c14d6fbd8457fa87a29bf336f0\", element=\"8ebf07dc-c8b5-409b-a362-91521e15feea\")>,\n",
       " <selenium.webdriver.remote.webelement.WebElement (session=\"fec0c7c14d6fbd8457fa87a29bf336f0\", element=\"e8c7d010-849d-4347-93eb-ac2bed162aa9\")>,\n",
       " <selenium.webdriver.remote.webelement.WebElement (session=\"fec0c7c14d6fbd8457fa87a29bf336f0\", element=\"4adb84d4-e188-43db-9c21-23d546958783\")>,\n",
       " <selenium.webdriver.remote.webelement.WebElement (session=\"fec0c7c14d6fbd8457fa87a29bf336f0\", element=\"f52334df-076e-4ea6-8a68-cecc538094b3\")>,\n",
       " <selenium.webdriver.remote.webelement.WebElement (session=\"fec0c7c14d6fbd8457fa87a29bf336f0\", element=\"8563e975-570e-4d84-990f-29a004dd837d\")>,\n",
       " <selenium.webdriver.remote.webelement.WebElement (session=\"fec0c7c14d6fbd8457fa87a29bf336f0\", element=\"c1e1b6c5-8ee2-430c-b447-da6672994822\")>,\n",
       " <selenium.webdriver.remote.webelement.WebElement (session=\"fec0c7c14d6fbd8457fa87a29bf336f0\", element=\"db72b679-35ba-4a03-8cbe-0d190eba3621\")>,\n",
       " <selenium.webdriver.remote.webelement.WebElement (session=\"fec0c7c14d6fbd8457fa87a29bf336f0\", element=\"6ca0792b-b1a9-47ce-82a3-dbfce82234af\")>,\n",
       " <selenium.webdriver.remote.webelement.WebElement (session=\"fec0c7c14d6fbd8457fa87a29bf336f0\", element=\"04221eba-e447-48cf-8a17-ca8a474655ef\")>,\n",
       " <selenium.webdriver.remote.webelement.WebElement (session=\"fec0c7c14d6fbd8457fa87a29bf336f0\", element=\"3d0cedfd-771b-4d2f-9789-a7021db970c3\")>,\n",
       " <selenium.webdriver.remote.webelement.WebElement (session=\"fec0c7c14d6fbd8457fa87a29bf336f0\", element=\"1c4dd10f-cd70-4c1a-8272-a8d7b93b33a8\")>,\n",
       " <selenium.webdriver.remote.webelement.WebElement (session=\"fec0c7c14d6fbd8457fa87a29bf336f0\", element=\"974571e4-36ab-4961-a630-a696b123ddb1\")>,\n",
       " <selenium.webdriver.remote.webelement.WebElement (session=\"fec0c7c14d6fbd8457fa87a29bf336f0\", element=\"bc5292f6-462c-4acb-834d-b996cef6876c\")>,\n",
       " <selenium.webdriver.remote.webelement.WebElement (session=\"fec0c7c14d6fbd8457fa87a29bf336f0\", element=\"c8a09843-72ed-4b04-b016-e00ba51ba96f\")>,\n",
       " <selenium.webdriver.remote.webelement.WebElement (session=\"fec0c7c14d6fbd8457fa87a29bf336f0\", element=\"a3215b95-8484-4fec-a928-caf8e3b8415c\")>,\n",
       " <selenium.webdriver.remote.webelement.WebElement (session=\"fec0c7c14d6fbd8457fa87a29bf336f0\", element=\"90e5c149-713a-49f6-9053-7994f90763d0\")>,\n",
       " <selenium.webdriver.remote.webelement.WebElement (session=\"fec0c7c14d6fbd8457fa87a29bf336f0\", element=\"2fe5f249-dafc-435f-beaf-7ac9c14d842b\")>,\n",
       " <selenium.webdriver.remote.webelement.WebElement (session=\"fec0c7c14d6fbd8457fa87a29bf336f0\", element=\"003ac9c9-88e2-4797-855e-27e6fa4bda02\")>,\n",
       " <selenium.webdriver.remote.webelement.WebElement (session=\"fec0c7c14d6fbd8457fa87a29bf336f0\", element=\"e1eeab03-ee4a-48e7-8a09-aa858efd6abc\")>,\n",
       " <selenium.webdriver.remote.webelement.WebElement (session=\"fec0c7c14d6fbd8457fa87a29bf336f0\", element=\"54d868cb-9eed-42fd-bf58-17bd93ae50cd\")>,\n",
       " <selenium.webdriver.remote.webelement.WebElement (session=\"fec0c7c14d6fbd8457fa87a29bf336f0\", element=\"f58331ab-e8c4-40b7-9d75-77668ce29652\")>,\n",
       " <selenium.webdriver.remote.webelement.WebElement (session=\"fec0c7c14d6fbd8457fa87a29bf336f0\", element=\"9abc9df7-f113-4f18-97f7-737dcfd240ac\")>,\n",
       " <selenium.webdriver.remote.webelement.WebElement (session=\"fec0c7c14d6fbd8457fa87a29bf336f0\", element=\"63c7cd86-adc1-47d4-8577-a549744462e9\")>,\n",
       " <selenium.webdriver.remote.webelement.WebElement (session=\"fec0c7c14d6fbd8457fa87a29bf336f0\", element=\"4a011172-87cc-45e4-87e9-e0d3d28dfb8e\")>,\n",
       " <selenium.webdriver.remote.webelement.WebElement (session=\"fec0c7c14d6fbd8457fa87a29bf336f0\", element=\"684094d5-48ba-462f-8e41-c67437a554ef\")>,\n",
       " <selenium.webdriver.remote.webelement.WebElement (session=\"fec0c7c14d6fbd8457fa87a29bf336f0\", element=\"511a0b01-1f14-4df2-b3b2-dd92d657d7c9\")>,\n",
       " <selenium.webdriver.remote.webelement.WebElement (session=\"fec0c7c14d6fbd8457fa87a29bf336f0\", element=\"872a1322-0950-47c8-9c14-281ffc425947\")>,\n",
       " <selenium.webdriver.remote.webelement.WebElement (session=\"fec0c7c14d6fbd8457fa87a29bf336f0\", element=\"a757b2c6-41f7-4273-aa42-f44991a4aeff\")>,\n",
       " <selenium.webdriver.remote.webelement.WebElement (session=\"fec0c7c14d6fbd8457fa87a29bf336f0\", element=\"4e06e16f-06b9-449a-90c1-3a68a54902c4\")>,\n",
       " <selenium.webdriver.remote.webelement.WebElement (session=\"fec0c7c14d6fbd8457fa87a29bf336f0\", element=\"bf5434f3-b32f-490a-8661-e4c101fec222\")>,\n",
       " <selenium.webdriver.remote.webelement.WebElement (session=\"fec0c7c14d6fbd8457fa87a29bf336f0\", element=\"6ae66825-456a-465d-a163-271dc293bd01\")>,\n",
       " <selenium.webdriver.remote.webelement.WebElement (session=\"fec0c7c14d6fbd8457fa87a29bf336f0\", element=\"9314f3a9-f35d-4e44-b24f-3587baaf5f35\")>,\n",
       " <selenium.webdriver.remote.webelement.WebElement (session=\"fec0c7c14d6fbd8457fa87a29bf336f0\", element=\"87c604a1-07b8-4654-b053-a07752e4b8be\")>,\n",
       " <selenium.webdriver.remote.webelement.WebElement (session=\"fec0c7c14d6fbd8457fa87a29bf336f0\", element=\"ff2fc084-d7f7-462f-b67c-ecd90873496b\")>,\n",
       " <selenium.webdriver.remote.webelement.WebElement (session=\"fec0c7c14d6fbd8457fa87a29bf336f0\", element=\"b75da89b-1e9f-4736-a7b4-71051c50d026\")>,\n",
       " <selenium.webdriver.remote.webelement.WebElement (session=\"fec0c7c14d6fbd8457fa87a29bf336f0\", element=\"949d4ee8-6859-4ec1-b4cd-fbaae4b87755\")>,\n",
       " <selenium.webdriver.remote.webelement.WebElement (session=\"fec0c7c14d6fbd8457fa87a29bf336f0\", element=\"1f36acf7-d9bf-40ca-a1b2-bf361bde2ff3\")>,\n",
       " <selenium.webdriver.remote.webelement.WebElement (session=\"fec0c7c14d6fbd8457fa87a29bf336f0\", element=\"5cd5d582-d3c9-46e8-9e59-c5853c755b86\")>,\n",
       " <selenium.webdriver.remote.webelement.WebElement (session=\"fec0c7c14d6fbd8457fa87a29bf336f0\", element=\"e68f4dc1-9595-429d-8eff-4672802ec18d\")>,\n",
       " <selenium.webdriver.remote.webelement.WebElement (session=\"fec0c7c14d6fbd8457fa87a29bf336f0\", element=\"cf4e5fbc-4957-4183-9c9a-970ce96458b9\")>,\n",
       " <selenium.webdriver.remote.webelement.WebElement (session=\"fec0c7c14d6fbd8457fa87a29bf336f0\", element=\"2a1391a3-3919-4bfa-a4e1-0607e5bb825d\")>,\n",
       " <selenium.webdriver.remote.webelement.WebElement (session=\"fec0c7c14d6fbd8457fa87a29bf336f0\", element=\"fdac95ad-a912-408b-a86a-288bac87d2f4\")>,\n",
       " <selenium.webdriver.remote.webelement.WebElement (session=\"fec0c7c14d6fbd8457fa87a29bf336f0\", element=\"807286a6-113a-4adc-98d2-341a4d109cda\")>,\n",
       " <selenium.webdriver.remote.webelement.WebElement (session=\"fec0c7c14d6fbd8457fa87a29bf336f0\", element=\"ca9f1376-f859-4046-aca9-62bfefef775a\")>,\n",
       " <selenium.webdriver.remote.webelement.WebElement (session=\"fec0c7c14d6fbd8457fa87a29bf336f0\", element=\"67f4ec6e-a936-4c61-b591-6a4c4289e6f3\")>,\n",
       " <selenium.webdriver.remote.webelement.WebElement (session=\"fec0c7c14d6fbd8457fa87a29bf336f0\", element=\"476addda-bc29-4c23-aa46-0d574b74c411\")>,\n",
       " <selenium.webdriver.remote.webelement.WebElement (session=\"fec0c7c14d6fbd8457fa87a29bf336f0\", element=\"ea3797d4-2ed4-4188-bc3a-1f3b5d260672\")>,\n",
       " <selenium.webdriver.remote.webelement.WebElement (session=\"fec0c7c14d6fbd8457fa87a29bf336f0\", element=\"ae762e61-98c7-46fa-a7ba-12ec0e877530\")>,\n",
       " <selenium.webdriver.remote.webelement.WebElement (session=\"fec0c7c14d6fbd8457fa87a29bf336f0\", element=\"514404e6-1776-4c4c-9d4e-33d8357e446a\")>,\n",
       " <selenium.webdriver.remote.webelement.WebElement (session=\"fec0c7c14d6fbd8457fa87a29bf336f0\", element=\"9e143c5e-9202-42a3-9f24-f50560ad2c98\")>,\n",
       " <selenium.webdriver.remote.webelement.WebElement (session=\"fec0c7c14d6fbd8457fa87a29bf336f0\", element=\"fe112929-88f7-4023-82e8-1ba3d5658dd2\")>,\n",
       " <selenium.webdriver.remote.webelement.WebElement (session=\"fec0c7c14d6fbd8457fa87a29bf336f0\", element=\"46c83bb8-6f3a-4a85-b09d-55eb0e50d126\")>,\n",
       " <selenium.webdriver.remote.webelement.WebElement (session=\"fec0c7c14d6fbd8457fa87a29bf336f0\", element=\"0c4726f9-aff1-4f99-b899-1792cde2302f\")>,\n",
       " <selenium.webdriver.remote.webelement.WebElement (session=\"fec0c7c14d6fbd8457fa87a29bf336f0\", element=\"16d2192c-834a-401f-bac6-da89dd679ea9\")>,\n",
       " <selenium.webdriver.remote.webelement.WebElement (session=\"fec0c7c14d6fbd8457fa87a29bf336f0\", element=\"01aa13a3-6ff5-46da-98c3-7110d1e34974\")>,\n",
       " <selenium.webdriver.remote.webelement.WebElement (session=\"fec0c7c14d6fbd8457fa87a29bf336f0\", element=\"037b4466-8d99-4ecb-8a3e-56bd756e476d\")>,\n",
       " <selenium.webdriver.remote.webelement.WebElement (session=\"fec0c7c14d6fbd8457fa87a29bf336f0\", element=\"c9c33863-be42-46a1-b204-831117f1b01b\")>,\n",
       " <selenium.webdriver.remote.webelement.WebElement (session=\"fec0c7c14d6fbd8457fa87a29bf336f0\", element=\"a201d28b-550d-442f-9345-d981c976fe55\")>,\n",
       " <selenium.webdriver.remote.webelement.WebElement (session=\"fec0c7c14d6fbd8457fa87a29bf336f0\", element=\"d4de93d7-a609-44b4-833f-a3ff68df60d4\")>,\n",
       " <selenium.webdriver.remote.webelement.WebElement (session=\"fec0c7c14d6fbd8457fa87a29bf336f0\", element=\"7e168c20-31d8-42f8-9632-c9e8922d8db3\")>,\n",
       " <selenium.webdriver.remote.webelement.WebElement (session=\"fec0c7c14d6fbd8457fa87a29bf336f0\", element=\"552d9924-8e10-403b-a953-9f2afd31ca17\")>,\n",
       " <selenium.webdriver.remote.webelement.WebElement (session=\"fec0c7c14d6fbd8457fa87a29bf336f0\", element=\"f2d85ccb-d2bb-4cec-969f-f87c3359b432\")>]"
      ]
     },
     "execution_count": 12,
     "metadata": {},
     "output_type": "execute_result"
    }
   ],
   "source": [
    "line4=browser.find_elements(\"xpath\",\"//div[@class='td-wrap-in']\")\n",
    "line4"
   ]
  },
  {
   "cell_type": "code",
   "execution_count": 15,
   "id": "c73c0c70",
   "metadata": {},
   "outputs": [
    {
     "data": {
      "text/plain": [
       "['85.1', '87.9', '47.2', '87.3', '100', '82.9', '63.6', '97.7', '95.3']"
      ]
     },
     "execution_count": 15,
     "metadata": {},
     "output_type": "execute_result"
    }
   ],
   "source": [
    "\n",
    "#PARSING DATA\n",
    "value=[]\n",
    "for data in line4:\n",
    "    #get the text data\n",
    "    temp=data.text\n",
    "    value.append(temp)\n",
    "value_h=value[31:40]\n",
    "value_h"
   ]
  },
  {
   "cell_type": "code",
   "execution_count": 16,
   "id": "27776f1c",
   "metadata": {},
   "outputs": [
    {
     "data": {
      "text/plain": [
       "{'Name': 'Johns Hopkins University',\n",
       " 'Location': 'Baltimore, United States',\n",
       " 'Rank': '24',\n",
       " 'Overall Score': '85.1',\n",
       " 'Academic Reputation': '87.9',\n",
       " 'Employer Reputation': '47.2',\n",
       " 'Citations per Faculty': '87.3',\n",
       " 'Faculty Student Ratio': '100',\n",
       " 'International Students Ratio': '82.9',\n",
       " 'International Faculty Ratio': '63.6',\n",
       " 'International Research Network\\nUnweighted': '97.7',\n",
       " 'Employment Outcomes\\nUnweighted': '95.3'}"
      ]
     },
     "execution_count": 16,
     "metadata": {},
     "output_type": "execute_result"
    }
   ],
   "source": [
    "d={}\n",
    "d['Name']=value[30]\n",
    "d['Location']=address[3]\n",
    "d['Rank']=Rank[3]\n",
    "for i in range(len(column)):\n",
    "    d[column[i]]=value_h[i]\n",
    "d"
   ]
  },
  {
   "cell_type": "code",
   "execution_count": 17,
   "id": "4c5e32c8",
   "metadata": {},
   "outputs": [
    {
     "data": {
      "text/plain": [
       "'{\"Name\": \"Johns Hopkins University\", \"Location\": \"Baltimore, United States\", \"Rank\": \"24\", \"Overall Score\": \"85.1\", \"Academic Reputation\": \"87.9\", \"Employer Reputation\": \"47.2\", \"Citations per Faculty\": \"87.3\", \"Faculty Student Ratio\": \"100\", \"International Students Ratio\": \"82.9\", \"International Faculty Ratio\": \"63.6\", \"International Research Network\\\\nUnweighted\": \"97.7\", \"Employment Outcomes\\\\nUnweighted\": \"95.3\"}'"
      ]
     },
     "execution_count": 17,
     "metadata": {},
     "output_type": "execute_result"
    }
   ],
   "source": [
    "\n",
    "s1=json.dumps(d)\n",
    "s1"
   ]
  },
  {
   "cell_type": "code",
   "execution_count": 19,
   "id": "e3e6b49b",
   "metadata": {},
   "outputs": [],
   "source": [
    "with open('Johns Hopkins University.json','w') as f:\n",
    "    json.dump(d,f)\n"
   ]
  },
  {
   "cell_type": "code",
   "execution_count": null,
   "id": "2f519762",
   "metadata": {},
   "outputs": [],
   "source": []
  }
 ],
 "metadata": {
  "kernelspec": {
   "display_name": "Python 3.9.12 ('base')",
   "language": "python",
   "name": "python3"
  },
  "language_info": {
   "codemirror_mode": {
    "name": "ipython",
    "version": 3
   },
   "file_extension": ".py",
   "mimetype": "text/x-python",
   "name": "python",
   "nbconvert_exporter": "python",
   "pygments_lexer": "ipython3",
   "version": "3.9.12"
  },
  "vscode": {
   "interpreter": {
    "hash": "ad2bdc8ecc057115af97d19610ffacc2b4e99fae6737bb82f5d7fb13d2f2c186"
   }
  }
 },
 "nbformat": 4,
 "nbformat_minor": 5
}
