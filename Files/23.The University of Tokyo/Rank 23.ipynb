{
 "cells": [
  {
   "cell_type": "code",
   "execution_count": 1,
   "id": "8db90d2d",
   "metadata": {},
   "outputs": [],
   "source": [
    "from selenium import webdriver\n",
    "from selenium.webdriver.chrome.service import Service\n",
    "import pandas as pd\n",
    "import json"
   ]
  },
  {
   "cell_type": "code",
   "execution_count": 2,
   "id": "09f44d0a",
   "metadata": {},
   "outputs": [],
   "source": [
    "path = Service('C:\\chromedriver.exe')"
   ]
  },
  {
   "cell_type": "code",
   "execution_count": 3,
   "id": "67305adb",
   "metadata": {},
   "outputs": [],
   "source": [
    "# set path for the driver\n",
    "browser = webdriver.Chrome(service = path)"
   ]
  },
  {
   "cell_type": "code",
   "execution_count": 4,
   "id": "daff7fa1",
   "metadata": {},
   "outputs": [],
   "source": [
    "url = \"https://www.topuniversities.com/university-rankings/world-university-rankings/2023\"\n"
   ]
  },
  {
   "cell_type": "code",
   "execution_count": 5,
   "id": "3dc66c94",
   "metadata": {},
   "outputs": [],
   "source": [
    "# open the page url ion chrome\n",
    "browser.get(url)"
   ]
  },
  {
   "cell_type": "code",
   "execution_count": 6,
   "id": "148138ea",
   "metadata": {},
   "outputs": [
    {
     "data": {
      "text/plain": [
       "[<selenium.webdriver.remote.webelement.WebElement (session=\"49b5ef5e6ab6038399d7cc461e3abd74\", element=\"8185261d-e2ee-4a5c-b065-e284d706ecc3\")>,\n",
       " <selenium.webdriver.remote.webelement.WebElement (session=\"49b5ef5e6ab6038399d7cc461e3abd74\", element=\"9ad79478-fb6e-4107-8352-f90f33c9824a\")>,\n",
       " <selenium.webdriver.remote.webelement.WebElement (session=\"49b5ef5e6ab6038399d7cc461e3abd74\", element=\"0196aa96-405d-41cc-b4b9-32d438f179bd\")>,\n",
       " <selenium.webdriver.remote.webelement.WebElement (session=\"49b5ef5e6ab6038399d7cc461e3abd74\", element=\"9c33a33e-9e50-41c1-ab1a-89c802895f2b\")>,\n",
       " <selenium.webdriver.remote.webelement.WebElement (session=\"49b5ef5e6ab6038399d7cc461e3abd74\", element=\"459b1da5-7833-42ea-8204-c94490dacef7\")>,\n",
       " <selenium.webdriver.remote.webelement.WebElement (session=\"49b5ef5e6ab6038399d7cc461e3abd74\", element=\"3843b8a5-2415-49a9-919b-00d658868a40\")>,\n",
       " <selenium.webdriver.remote.webelement.WebElement (session=\"49b5ef5e6ab6038399d7cc461e3abd74\", element=\"139baedc-9900-469f-949b-66962be213bc\")>,\n",
       " <selenium.webdriver.remote.webelement.WebElement (session=\"49b5ef5e6ab6038399d7cc461e3abd74\", element=\"cf14669e-89d3-433d-b371-e5742cc6802c\")>,\n",
       " <selenium.webdriver.remote.webelement.WebElement (session=\"49b5ef5e6ab6038399d7cc461e3abd74\", element=\"53abd8c8-92e6-4f44-a4d5-3f0c356d7d45\")>,\n",
       " <selenium.webdriver.remote.webelement.WebElement (session=\"49b5ef5e6ab6038399d7cc461e3abd74\", element=\"e4f4942b-269a-4eb0-a260-ab4b197f7eb7\")>,\n",
       " <selenium.webdriver.remote.webelement.WebElement (session=\"49b5ef5e6ab6038399d7cc461e3abd74\", element=\"290b4f62-cf1f-4ea5-8c29-ae4f465807bc\")>,\n",
       " <selenium.webdriver.remote.webelement.WebElement (session=\"49b5ef5e6ab6038399d7cc461e3abd74\", element=\"7528ddaa-7d62-4397-92be-2777b8223f0f\")>,\n",
       " <selenium.webdriver.remote.webelement.WebElement (session=\"49b5ef5e6ab6038399d7cc461e3abd74\", element=\"29c109aa-2feb-4833-bcef-475ad8842534\")>,\n",
       " <selenium.webdriver.remote.webelement.WebElement (session=\"49b5ef5e6ab6038399d7cc461e3abd74\", element=\"75edf953-b51e-40de-9e62-79852ef3c9a8\")>,\n",
       " <selenium.webdriver.remote.webelement.WebElement (session=\"49b5ef5e6ab6038399d7cc461e3abd74\", element=\"18c7bdc2-3972-45a6-8efb-a90c15f893a1\")>,\n",
       " <selenium.webdriver.remote.webelement.WebElement (session=\"49b5ef5e6ab6038399d7cc461e3abd74\", element=\"58e1d374-d69d-4af1-a427-c2f61fdd5889\")>,\n",
       " <selenium.webdriver.remote.webelement.WebElement (session=\"49b5ef5e6ab6038399d7cc461e3abd74\", element=\"18f865e7-8325-4e5e-8b50-8779fc5d84ac\")>,\n",
       " <selenium.webdriver.remote.webelement.WebElement (session=\"49b5ef5e6ab6038399d7cc461e3abd74\", element=\"1ccdff14-8a67-4b24-984c-a726a7c65ceb\")>,\n",
       " <selenium.webdriver.remote.webelement.WebElement (session=\"49b5ef5e6ab6038399d7cc461e3abd74\", element=\"b6dc49b2-0aef-470d-af03-b726addbf166\")>,\n",
       " <selenium.webdriver.remote.webelement.WebElement (session=\"49b5ef5e6ab6038399d7cc461e3abd74\", element=\"6581f0f4-50aa-42f2-927e-ab90c07f2d8c\")>]"
      ]
     },
     "execution_count": 6,
     "metadata": {},
     "output_type": "execute_result"
    }
   ],
   "source": [
    "\n",
    "line1=browser.find_elements(\"xpath\",\"//div[@class='location ']\")\n",
    "line1"
   ]
  },
  {
   "cell_type": "code",
   "execution_count": 7,
   "id": "e35abd28",
   "metadata": {},
   "outputs": [
    {
     "data": {
      "text/plain": [
       "[' Hong Kong SAR',\n",
       " 'New York City, United States',\n",
       " 'Tokyo, Japan',\n",
       " 'Baltimore, United States',\n",
       " 'Ann Arbor, United States',\n",
       " 'Paris, France',\n",
       " 'Berkeley, United States',\n",
       " 'Manchester, United Kingdom',\n",
       " 'Seoul, South Korea',\n",
       " 'Canberra, Australia']"
      ]
     },
     "execution_count": 7,
     "metadata": {},
     "output_type": "execute_result"
    }
   ],
   "source": [
    "\n",
    "address=[]\n",
    "for data in line1:\n",
    "    #get the text data\n",
    "    temp=data.text\n",
    "    address.append(temp)\n",
    "address=address[10:]\n",
    "address"
   ]
  },
  {
   "cell_type": "code",
   "execution_count": 8,
   "id": "5d49aa68",
   "metadata": {},
   "outputs": [
    {
     "data": {
      "text/plain": [
       "[<selenium.webdriver.remote.webelement.WebElement (session=\"49b5ef5e6ab6038399d7cc461e3abd74\", element=\"661e1f0e-56d0-4b6e-a04e-72a062e952b0\")>,\n",
       " <selenium.webdriver.remote.webelement.WebElement (session=\"49b5ef5e6ab6038399d7cc461e3abd74\", element=\"5e0882e9-4bdd-4324-bf18-25cd37faa817\")>,\n",
       " <selenium.webdriver.remote.webelement.WebElement (session=\"49b5ef5e6ab6038399d7cc461e3abd74\", element=\"bf984318-01df-45a0-a6cf-55bc323cf83a\")>,\n",
       " <selenium.webdriver.remote.webelement.WebElement (session=\"49b5ef5e6ab6038399d7cc461e3abd74\", element=\"448a515a-5a4a-4754-8a0a-9d03e660e881\")>,\n",
       " <selenium.webdriver.remote.webelement.WebElement (session=\"49b5ef5e6ab6038399d7cc461e3abd74\", element=\"e907be80-7bc5-41a8-81d5-99492705dd0f\")>,\n",
       " <selenium.webdriver.remote.webelement.WebElement (session=\"49b5ef5e6ab6038399d7cc461e3abd74\", element=\"1cc9a69e-8b58-4c59-a270-4904c9cd2c67\")>,\n",
       " <selenium.webdriver.remote.webelement.WebElement (session=\"49b5ef5e6ab6038399d7cc461e3abd74\", element=\"36e189b0-90ef-4e72-b27f-0e7529b259de\")>,\n",
       " <selenium.webdriver.remote.webelement.WebElement (session=\"49b5ef5e6ab6038399d7cc461e3abd74\", element=\"acb9ae9b-dfb3-46d2-bebd-0fed72279e39\")>,\n",
       " <selenium.webdriver.remote.webelement.WebElement (session=\"49b5ef5e6ab6038399d7cc461e3abd74\", element=\"f6e53596-5eb7-4722-8647-09b7e5bde110\")>,\n",
       " <selenium.webdriver.remote.webelement.WebElement (session=\"49b5ef5e6ab6038399d7cc461e3abd74\", element=\"569a9ce5-87c1-4dfd-85cf-bd08f04d8580\")>]"
      ]
     },
     "execution_count": 8,
     "metadata": {},
     "output_type": "execute_result"
    }
   ],
   "source": [
    "line2=browser.find_elements(\"xpath\",\"//div[@class='_univ-rank ']\")\n",
    "line2"
   ]
  },
  {
   "cell_type": "code",
   "execution_count": 9,
   "id": "a4a1455f",
   "metadata": {},
   "outputs": [
    {
     "data": {
      "text/plain": [
       "['21', '22', '23', '24', '25', '26', '27', '28', '29', '30']"
      ]
     },
     "execution_count": 9,
     "metadata": {},
     "output_type": "execute_result"
    }
   ],
   "source": [
    "Rank=[]\n",
    "for data in line2:\n",
    "    #get the text data\n",
    "    temp=data.text\n",
    "    Rank.append(temp)\n",
    "Rank"
   ]
  },
  {
   "cell_type": "code",
   "execution_count": 10,
   "id": "71d961f8",
   "metadata": {},
   "outputs": [
    {
     "data": {
      "text/plain": [
       "[<selenium.webdriver.remote.webelement.WebElement (session=\"49b5ef5e6ab6038399d7cc461e3abd74\", element=\"fd656165-d6b7-49c5-a4dc-e4412ba8d42a\")>,\n",
       " <selenium.webdriver.remote.webelement.WebElement (session=\"49b5ef5e6ab6038399d7cc461e3abd74\", element=\"232205cb-0979-4926-b8d5-6fe53bc62a98\")>,\n",
       " <selenium.webdriver.remote.webelement.WebElement (session=\"49b5ef5e6ab6038399d7cc461e3abd74\", element=\"7353c919-7a77-4f94-959f-d9ca2f06db04\")>,\n",
       " <selenium.webdriver.remote.webelement.WebElement (session=\"49b5ef5e6ab6038399d7cc461e3abd74\", element=\"70dd2b45-e26f-4940-8cb4-275759ac0c59\")>,\n",
       " <selenium.webdriver.remote.webelement.WebElement (session=\"49b5ef5e6ab6038399d7cc461e3abd74\", element=\"9523c6e3-1489-4999-872a-f114f2f40e09\")>,\n",
       " <selenium.webdriver.remote.webelement.WebElement (session=\"49b5ef5e6ab6038399d7cc461e3abd74\", element=\"7ccce2fa-97a0-41ef-9ca4-99444686d708\")>,\n",
       " <selenium.webdriver.remote.webelement.WebElement (session=\"49b5ef5e6ab6038399d7cc461e3abd74\", element=\"cb592a65-7a1d-4c9c-bc7b-68f33f2828a8\")>,\n",
       " <selenium.webdriver.remote.webelement.WebElement (session=\"49b5ef5e6ab6038399d7cc461e3abd74\", element=\"8092e3fa-b20a-42c1-97c1-73d7749d5574\")>,\n",
       " <selenium.webdriver.remote.webelement.WebElement (session=\"49b5ef5e6ab6038399d7cc461e3abd74\", element=\"74cbd256-5e31-4cda-a218-6be483985b7c\")>]"
      ]
     },
     "execution_count": 10,
     "metadata": {},
     "output_type": "execute_result"
    }
   ],
   "source": [
    "# GET EACH COLLEGE SPECIFICATION HEADERS\n",
    "line3=browser.find_elements(\"xpath\",\"//div[@class='_click-function_ind']\")\n",
    "line3"
   ]
  },
  {
   "cell_type": "code",
   "execution_count": 11,
   "id": "a452dfb2",
   "metadata": {},
   "outputs": [
    {
     "data": {
      "text/plain": [
       "['Overall Score',\n",
       " 'Academic Reputation',\n",
       " 'Employer Reputation',\n",
       " 'Citations per Faculty',\n",
       " 'Faculty Student Ratio',\n",
       " 'International Students Ratio',\n",
       " 'International Faculty Ratio',\n",
       " 'International Research Network\\nUnweighted',\n",
       " 'Employment Outcomes\\nUnweighted']"
      ]
     },
     "execution_count": 11,
     "metadata": {},
     "output_type": "execute_result"
    }
   ],
   "source": [
    "#PARSING DATA\n",
    "column=[]\n",
    "for data in line3:\n",
    "    #get the text data\n",
    "    temp=data.text\n",
    "    column.append(temp)\n",
    "column"
   ]
  },
  {
   "cell_type": "code",
   "execution_count": 12,
   "id": "81a04db4",
   "metadata": {},
   "outputs": [
    {
     "data": {
      "text/plain": [
       "[<selenium.webdriver.remote.webelement.WebElement (session=\"49b5ef5e6ab6038399d7cc461e3abd74\", element=\"29d93de2-ae4f-43f0-b0b8-451e97666e3e\")>,\n",
       " <selenium.webdriver.remote.webelement.WebElement (session=\"49b5ef5e6ab6038399d7cc461e3abd74\", element=\"4cc4d568-1ee8-49da-a18c-2172ee72ea18\")>,\n",
       " <selenium.webdriver.remote.webelement.WebElement (session=\"49b5ef5e6ab6038399d7cc461e3abd74\", element=\"cd7aafb3-6e44-4ea8-a763-cff2773cefe2\")>,\n",
       " <selenium.webdriver.remote.webelement.WebElement (session=\"49b5ef5e6ab6038399d7cc461e3abd74\", element=\"ed87b023-9c39-4c6c-97fc-8c7684bee1c3\")>,\n",
       " <selenium.webdriver.remote.webelement.WebElement (session=\"49b5ef5e6ab6038399d7cc461e3abd74\", element=\"9905c151-b92e-4716-87ce-fc794dc8aa7f\")>,\n",
       " <selenium.webdriver.remote.webelement.WebElement (session=\"49b5ef5e6ab6038399d7cc461e3abd74\", element=\"8fd503ec-6bb5-4708-a519-9202f556a219\")>,\n",
       " <selenium.webdriver.remote.webelement.WebElement (session=\"49b5ef5e6ab6038399d7cc461e3abd74\", element=\"2fa21027-84cb-4f45-9ca5-cb7a1af493d5\")>,\n",
       " <selenium.webdriver.remote.webelement.WebElement (session=\"49b5ef5e6ab6038399d7cc461e3abd74\", element=\"06d0e8c7-4ad6-41a2-8610-c793c1132a0a\")>,\n",
       " <selenium.webdriver.remote.webelement.WebElement (session=\"49b5ef5e6ab6038399d7cc461e3abd74\", element=\"75203997-9e2c-439e-b48d-4a2eaadb2d2b\")>,\n",
       " <selenium.webdriver.remote.webelement.WebElement (session=\"49b5ef5e6ab6038399d7cc461e3abd74\", element=\"082ce736-51a7-4b4b-92d8-a73cc274346c\")>,\n",
       " <selenium.webdriver.remote.webelement.WebElement (session=\"49b5ef5e6ab6038399d7cc461e3abd74\", element=\"9d6da6d4-a76e-44c0-925c-1dd01fc2db78\")>,\n",
       " <selenium.webdriver.remote.webelement.WebElement (session=\"49b5ef5e6ab6038399d7cc461e3abd74\", element=\"5c28c20c-b582-412a-bba5-7d006cf775ca\")>,\n",
       " <selenium.webdriver.remote.webelement.WebElement (session=\"49b5ef5e6ab6038399d7cc461e3abd74\", element=\"00585c4b-8ba3-4483-933a-15ed25c504b9\")>,\n",
       " <selenium.webdriver.remote.webelement.WebElement (session=\"49b5ef5e6ab6038399d7cc461e3abd74\", element=\"fb34048a-9e79-4991-87e9-126404785a99\")>,\n",
       " <selenium.webdriver.remote.webelement.WebElement (session=\"49b5ef5e6ab6038399d7cc461e3abd74\", element=\"de05954b-3834-45dd-b81d-12eb5940124e\")>,\n",
       " <selenium.webdriver.remote.webelement.WebElement (session=\"49b5ef5e6ab6038399d7cc461e3abd74\", element=\"c16f29ef-3041-4c4a-8c7f-26107fd35ea2\")>,\n",
       " <selenium.webdriver.remote.webelement.WebElement (session=\"49b5ef5e6ab6038399d7cc461e3abd74\", element=\"e020bf1c-f739-4ad8-b7e2-89b595184730\")>,\n",
       " <selenium.webdriver.remote.webelement.WebElement (session=\"49b5ef5e6ab6038399d7cc461e3abd74\", element=\"9343c562-2808-4eff-bed1-25e930804f7d\")>,\n",
       " <selenium.webdriver.remote.webelement.WebElement (session=\"49b5ef5e6ab6038399d7cc461e3abd74\", element=\"557e44d9-9777-4440-8d1a-2c704c67e203\")>,\n",
       " <selenium.webdriver.remote.webelement.WebElement (session=\"49b5ef5e6ab6038399d7cc461e3abd74\", element=\"d9eef3e8-20df-4f07-b3bb-a4f53e982602\")>,\n",
       " <selenium.webdriver.remote.webelement.WebElement (session=\"49b5ef5e6ab6038399d7cc461e3abd74\", element=\"ac8b4d93-d99c-46f0-982e-ae371e897604\")>,\n",
       " <selenium.webdriver.remote.webelement.WebElement (session=\"49b5ef5e6ab6038399d7cc461e3abd74\", element=\"7d7a3cc1-22f9-4bcd-879d-a4ff5f424f2e\")>,\n",
       " <selenium.webdriver.remote.webelement.WebElement (session=\"49b5ef5e6ab6038399d7cc461e3abd74\", element=\"cf065569-901b-45c0-a809-23dbe45c2ace\")>,\n",
       " <selenium.webdriver.remote.webelement.WebElement (session=\"49b5ef5e6ab6038399d7cc461e3abd74\", element=\"88ced5f3-bb90-405c-b319-d4b492369a6a\")>,\n",
       " <selenium.webdriver.remote.webelement.WebElement (session=\"49b5ef5e6ab6038399d7cc461e3abd74\", element=\"3f50f516-4522-45f2-befa-f53c21d80729\")>,\n",
       " <selenium.webdriver.remote.webelement.WebElement (session=\"49b5ef5e6ab6038399d7cc461e3abd74\", element=\"3f1c42bf-734e-496b-8447-c80dcd34f616\")>,\n",
       " <selenium.webdriver.remote.webelement.WebElement (session=\"49b5ef5e6ab6038399d7cc461e3abd74\", element=\"d9683c5a-99d9-4d3c-83d5-84c37c932ecd\")>,\n",
       " <selenium.webdriver.remote.webelement.WebElement (session=\"49b5ef5e6ab6038399d7cc461e3abd74\", element=\"0cd0ef2f-f6ae-4174-8bc6-3b529a975b92\")>,\n",
       " <selenium.webdriver.remote.webelement.WebElement (session=\"49b5ef5e6ab6038399d7cc461e3abd74\", element=\"9fc32eb1-f632-4c56-b8be-ac9afe361c65\")>,\n",
       " <selenium.webdriver.remote.webelement.WebElement (session=\"49b5ef5e6ab6038399d7cc461e3abd74\", element=\"381e8fa7-f162-44bc-b0f1-5318feb30e80\")>,\n",
       " <selenium.webdriver.remote.webelement.WebElement (session=\"49b5ef5e6ab6038399d7cc461e3abd74\", element=\"ccdc5627-8ff7-4720-8d39-757f7adddb99\")>,\n",
       " <selenium.webdriver.remote.webelement.WebElement (session=\"49b5ef5e6ab6038399d7cc461e3abd74\", element=\"e38085e8-f953-49d4-855b-17f5d85051b1\")>,\n",
       " <selenium.webdriver.remote.webelement.WebElement (session=\"49b5ef5e6ab6038399d7cc461e3abd74\", element=\"17cd965d-4fdd-4fcd-8b63-849741c8aaf0\")>,\n",
       " <selenium.webdriver.remote.webelement.WebElement (session=\"49b5ef5e6ab6038399d7cc461e3abd74\", element=\"39ec15c0-b7b9-4d68-8ca3-849988ddd712\")>,\n",
       " <selenium.webdriver.remote.webelement.WebElement (session=\"49b5ef5e6ab6038399d7cc461e3abd74\", element=\"3e3eacf0-0810-4e78-b5ee-226cc92e3b49\")>,\n",
       " <selenium.webdriver.remote.webelement.WebElement (session=\"49b5ef5e6ab6038399d7cc461e3abd74\", element=\"df896abb-e56a-41c1-bf95-d887c8b9c17c\")>,\n",
       " <selenium.webdriver.remote.webelement.WebElement (session=\"49b5ef5e6ab6038399d7cc461e3abd74\", element=\"f15d4b28-ffbd-4e79-b40a-c0ce7a2dbc36\")>,\n",
       " <selenium.webdriver.remote.webelement.WebElement (session=\"49b5ef5e6ab6038399d7cc461e3abd74\", element=\"7ee8ab68-dbfd-4005-955e-6b7013fe2043\")>,\n",
       " <selenium.webdriver.remote.webelement.WebElement (session=\"49b5ef5e6ab6038399d7cc461e3abd74\", element=\"ee2aae16-8330-40c9-b519-481fefb67adf\")>,\n",
       " <selenium.webdriver.remote.webelement.WebElement (session=\"49b5ef5e6ab6038399d7cc461e3abd74\", element=\"5cf31f57-ad3a-46f5-9dff-2181995ebbfe\")>,\n",
       " <selenium.webdriver.remote.webelement.WebElement (session=\"49b5ef5e6ab6038399d7cc461e3abd74\", element=\"b96e2ea6-f275-45cd-9fd5-d8e656770881\")>,\n",
       " <selenium.webdriver.remote.webelement.WebElement (session=\"49b5ef5e6ab6038399d7cc461e3abd74\", element=\"6c930622-9b42-4487-afcd-0317a2f37c51\")>,\n",
       " <selenium.webdriver.remote.webelement.WebElement (session=\"49b5ef5e6ab6038399d7cc461e3abd74\", element=\"1dfe1bc0-a644-4d3e-a51b-9c929e3982d5\")>,\n",
       " <selenium.webdriver.remote.webelement.WebElement (session=\"49b5ef5e6ab6038399d7cc461e3abd74\", element=\"df6faded-4f81-41f2-978d-072c2712c4d1\")>,\n",
       " <selenium.webdriver.remote.webelement.WebElement (session=\"49b5ef5e6ab6038399d7cc461e3abd74\", element=\"75636922-a638-4d5f-9767-ace9502df02b\")>,\n",
       " <selenium.webdriver.remote.webelement.WebElement (session=\"49b5ef5e6ab6038399d7cc461e3abd74\", element=\"ab42d774-381c-4182-90f4-050958eefafa\")>,\n",
       " <selenium.webdriver.remote.webelement.WebElement (session=\"49b5ef5e6ab6038399d7cc461e3abd74\", element=\"e74fd4ae-bec8-436b-b5a9-7332417c3fb7\")>,\n",
       " <selenium.webdriver.remote.webelement.WebElement (session=\"49b5ef5e6ab6038399d7cc461e3abd74\", element=\"5ebdaf73-0927-459e-b7a2-481505782e85\")>,\n",
       " <selenium.webdriver.remote.webelement.WebElement (session=\"49b5ef5e6ab6038399d7cc461e3abd74\", element=\"173f274e-acfd-4e1b-b7c5-0aa989aba0ea\")>,\n",
       " <selenium.webdriver.remote.webelement.WebElement (session=\"49b5ef5e6ab6038399d7cc461e3abd74\", element=\"b3c48477-30ca-4473-8161-62459a956d76\")>,\n",
       " <selenium.webdriver.remote.webelement.WebElement (session=\"49b5ef5e6ab6038399d7cc461e3abd74\", element=\"a63064c4-eb42-43e5-b442-8c487c3fe1e4\")>,\n",
       " <selenium.webdriver.remote.webelement.WebElement (session=\"49b5ef5e6ab6038399d7cc461e3abd74\", element=\"3a9a4fff-402c-4cc7-8392-82007bcf144d\")>,\n",
       " <selenium.webdriver.remote.webelement.WebElement (session=\"49b5ef5e6ab6038399d7cc461e3abd74\", element=\"80c1824a-e3c1-48e1-83f0-8ccbc0613259\")>,\n",
       " <selenium.webdriver.remote.webelement.WebElement (session=\"49b5ef5e6ab6038399d7cc461e3abd74\", element=\"ce6370f2-439a-4af9-9008-9f7d759effd7\")>,\n",
       " <selenium.webdriver.remote.webelement.WebElement (session=\"49b5ef5e6ab6038399d7cc461e3abd74\", element=\"41d3c3fc-56b3-4e71-916e-fbe16668e11d\")>,\n",
       " <selenium.webdriver.remote.webelement.WebElement (session=\"49b5ef5e6ab6038399d7cc461e3abd74\", element=\"5854ddbe-2a74-4021-8a56-951b7537ae55\")>,\n",
       " <selenium.webdriver.remote.webelement.WebElement (session=\"49b5ef5e6ab6038399d7cc461e3abd74\", element=\"ac1ab405-5818-40a6-ada9-d274660736b5\")>,\n",
       " <selenium.webdriver.remote.webelement.WebElement (session=\"49b5ef5e6ab6038399d7cc461e3abd74\", element=\"5a10b6fc-6539-4b0a-ad6e-91f6ca5853c9\")>,\n",
       " <selenium.webdriver.remote.webelement.WebElement (session=\"49b5ef5e6ab6038399d7cc461e3abd74\", element=\"b6d5c7da-0232-4ab1-b6f9-e187345b9396\")>,\n",
       " <selenium.webdriver.remote.webelement.WebElement (session=\"49b5ef5e6ab6038399d7cc461e3abd74\", element=\"b76cecb4-ad8c-4e9c-b800-2342f05e2d62\")>,\n",
       " <selenium.webdriver.remote.webelement.WebElement (session=\"49b5ef5e6ab6038399d7cc461e3abd74\", element=\"451c5627-e511-4948-8809-e32310d03bd8\")>,\n",
       " <selenium.webdriver.remote.webelement.WebElement (session=\"49b5ef5e6ab6038399d7cc461e3abd74\", element=\"b0bb54a7-c6a1-4df0-9dac-6c044af2b20b\")>,\n",
       " <selenium.webdriver.remote.webelement.WebElement (session=\"49b5ef5e6ab6038399d7cc461e3abd74\", element=\"ac6f2bd7-5022-45fe-86f5-a70769bc0c56\")>,\n",
       " <selenium.webdriver.remote.webelement.WebElement (session=\"49b5ef5e6ab6038399d7cc461e3abd74\", element=\"db7c8de7-d5b6-434b-9d9b-3e048169d611\")>,\n",
       " <selenium.webdriver.remote.webelement.WebElement (session=\"49b5ef5e6ab6038399d7cc461e3abd74\", element=\"3265a141-81eb-4bde-8a83-b26b5c2db9c0\")>,\n",
       " <selenium.webdriver.remote.webelement.WebElement (session=\"49b5ef5e6ab6038399d7cc461e3abd74\", element=\"966b9ce1-39ca-44e3-8dcb-96e5523931ef\")>,\n",
       " <selenium.webdriver.remote.webelement.WebElement (session=\"49b5ef5e6ab6038399d7cc461e3abd74\", element=\"9f0fe2d2-85cc-4f2d-b1f3-09dc75c8b2ef\")>,\n",
       " <selenium.webdriver.remote.webelement.WebElement (session=\"49b5ef5e6ab6038399d7cc461e3abd74\", element=\"d506eae3-851f-4374-b9df-34bde45e5c5d\")>,\n",
       " <selenium.webdriver.remote.webelement.WebElement (session=\"49b5ef5e6ab6038399d7cc461e3abd74\", element=\"d4d45ec8-c729-4927-9c63-a742368b4d7e\")>,\n",
       " <selenium.webdriver.remote.webelement.WebElement (session=\"49b5ef5e6ab6038399d7cc461e3abd74\", element=\"fae1177c-278e-4608-8e25-9baaedcab81e\")>,\n",
       " <selenium.webdriver.remote.webelement.WebElement (session=\"49b5ef5e6ab6038399d7cc461e3abd74\", element=\"cc3ad1ff-8a4e-4b80-b5d4-0b18aa97b1f1\")>,\n",
       " <selenium.webdriver.remote.webelement.WebElement (session=\"49b5ef5e6ab6038399d7cc461e3abd74\", element=\"36ffc3f9-eb87-4595-9832-5f376411696d\")>,\n",
       " <selenium.webdriver.remote.webelement.WebElement (session=\"49b5ef5e6ab6038399d7cc461e3abd74\", element=\"917d8f11-c05c-41e4-b3ab-ff8222f9cb99\")>,\n",
       " <selenium.webdriver.remote.webelement.WebElement (session=\"49b5ef5e6ab6038399d7cc461e3abd74\", element=\"66bc425f-9de0-453f-ba29-68dba51340d4\")>,\n",
       " <selenium.webdriver.remote.webelement.WebElement (session=\"49b5ef5e6ab6038399d7cc461e3abd74\", element=\"039e8d72-1366-427f-820e-2f84fcc6d488\")>,\n",
       " <selenium.webdriver.remote.webelement.WebElement (session=\"49b5ef5e6ab6038399d7cc461e3abd74\", element=\"d4cce58f-9175-4034-bc8b-b50cacb4257b\")>,\n",
       " <selenium.webdriver.remote.webelement.WebElement (session=\"49b5ef5e6ab6038399d7cc461e3abd74\", element=\"350c9fd4-030d-4edc-9058-5bc020b21cf8\")>,\n",
       " <selenium.webdriver.remote.webelement.WebElement (session=\"49b5ef5e6ab6038399d7cc461e3abd74\", element=\"0b102355-e45e-4098-b4cb-b67cbc322a70\")>,\n",
       " <selenium.webdriver.remote.webelement.WebElement (session=\"49b5ef5e6ab6038399d7cc461e3abd74\", element=\"d04a7f11-709e-4bea-b792-768d2f55a519\")>,\n",
       " <selenium.webdriver.remote.webelement.WebElement (session=\"49b5ef5e6ab6038399d7cc461e3abd74\", element=\"34367a70-5314-4ccf-9fea-040b5b343870\")>,\n",
       " <selenium.webdriver.remote.webelement.WebElement (session=\"49b5ef5e6ab6038399d7cc461e3abd74\", element=\"a04ba6cb-bdc2-4fcc-bc10-fc8e62d6bd78\")>,\n",
       " <selenium.webdriver.remote.webelement.WebElement (session=\"49b5ef5e6ab6038399d7cc461e3abd74\", element=\"b87b13f3-094c-41c3-995e-825de1a2da43\")>,\n",
       " <selenium.webdriver.remote.webelement.WebElement (session=\"49b5ef5e6ab6038399d7cc461e3abd74\", element=\"fa80cf7d-767d-4175-b49d-a28d457df26d\")>,\n",
       " <selenium.webdriver.remote.webelement.WebElement (session=\"49b5ef5e6ab6038399d7cc461e3abd74\", element=\"797cbedc-ffcf-402a-8569-d5b25c3f78b3\")>,\n",
       " <selenium.webdriver.remote.webelement.WebElement (session=\"49b5ef5e6ab6038399d7cc461e3abd74\", element=\"7692c85b-52bb-477d-8170-e348dfe7edc1\")>,\n",
       " <selenium.webdriver.remote.webelement.WebElement (session=\"49b5ef5e6ab6038399d7cc461e3abd74\", element=\"d5b9f122-e7a3-47f5-a0f3-1987e62ee07d\")>,\n",
       " <selenium.webdriver.remote.webelement.WebElement (session=\"49b5ef5e6ab6038399d7cc461e3abd74\", element=\"d47841a3-0fd9-4775-a481-28db71125934\")>,\n",
       " <selenium.webdriver.remote.webelement.WebElement (session=\"49b5ef5e6ab6038399d7cc461e3abd74\", element=\"12cd7251-2903-4c1e-b4cf-229dd0d11d3d\")>,\n",
       " <selenium.webdriver.remote.webelement.WebElement (session=\"49b5ef5e6ab6038399d7cc461e3abd74\", element=\"6aa2c2bb-713f-4ad4-9870-918e45f597e0\")>,\n",
       " <selenium.webdriver.remote.webelement.WebElement (session=\"49b5ef5e6ab6038399d7cc461e3abd74\", element=\"3164d833-6494-46cd-ad30-160fb0ce6c51\")>,\n",
       " <selenium.webdriver.remote.webelement.WebElement (session=\"49b5ef5e6ab6038399d7cc461e3abd74\", element=\"e9e47694-ef92-4a21-be9b-f97fe3b263c5\")>,\n",
       " <selenium.webdriver.remote.webelement.WebElement (session=\"49b5ef5e6ab6038399d7cc461e3abd74\", element=\"8f6b91d7-520f-443f-a5a4-87a883d43685\")>,\n",
       " <selenium.webdriver.remote.webelement.WebElement (session=\"49b5ef5e6ab6038399d7cc461e3abd74\", element=\"a26be2b6-ebbe-400e-b9cf-8e78b198c475\")>,\n",
       " <selenium.webdriver.remote.webelement.WebElement (session=\"49b5ef5e6ab6038399d7cc461e3abd74\", element=\"14e7c8a9-9f56-40a3-a150-c94b1f9db48f\")>,\n",
       " <selenium.webdriver.remote.webelement.WebElement (session=\"49b5ef5e6ab6038399d7cc461e3abd74\", element=\"c3243a8c-f2ae-4a4f-a05c-7016fef9eb58\")>,\n",
       " <selenium.webdriver.remote.webelement.WebElement (session=\"49b5ef5e6ab6038399d7cc461e3abd74\", element=\"e958b70b-a81d-4c3f-bff8-f7561a74584c\")>,\n",
       " <selenium.webdriver.remote.webelement.WebElement (session=\"49b5ef5e6ab6038399d7cc461e3abd74\", element=\"fc83fa1e-327f-4e51-8487-b738a356f374\")>,\n",
       " <selenium.webdriver.remote.webelement.WebElement (session=\"49b5ef5e6ab6038399d7cc461e3abd74\", element=\"5538328a-2318-4b4e-b15f-a3168c4c0abc\")>,\n",
       " <selenium.webdriver.remote.webelement.WebElement (session=\"49b5ef5e6ab6038399d7cc461e3abd74\", element=\"88bd7fc4-3a86-45ba-b83c-3f679ca0d645\")>,\n",
       " <selenium.webdriver.remote.webelement.WebElement (session=\"49b5ef5e6ab6038399d7cc461e3abd74\", element=\"cc45aaaf-df16-4949-88e0-c27a992aa327\")>]"
      ]
     },
     "execution_count": 12,
     "metadata": {},
     "output_type": "execute_result"
    }
   ],
   "source": [
    "line4=browser.find_elements(\"xpath\",\"//div[@class='td-wrap-in']\")\n",
    "line4"
   ]
  },
  {
   "cell_type": "code",
   "execution_count": 14,
   "id": "b525f965",
   "metadata": {},
   "outputs": [
    {
     "data": {
      "text/plain": [
       "['85.3', '100', '99.7', '73.3', '91.9', '27.8', '10.4', '89.5', '97.8']"
      ]
     },
     "execution_count": 14,
     "metadata": {},
     "output_type": "execute_result"
    }
   ],
   "source": [
    "#PARSING DATA\n",
    "value=[]\n",
    "for data in line4:\n",
    "    #get the text data\n",
    "    temp=data.text\n",
    "    value.append(temp)\n",
    "value_h=value[21:30]\n",
    "value_h"
   ]
  },
  {
   "cell_type": "code",
   "execution_count": 17,
   "id": "0c8e90e5",
   "metadata": {},
   "outputs": [
    {
     "data": {
      "text/plain": [
       "{'Name': 'The University of Tokyo',\n",
       " 'Location': 'Tokyo, Japan',\n",
       " 'Rank': '23',\n",
       " 'Overall Score': '85.3',\n",
       " 'Academic Reputation': '100',\n",
       " 'Employer Reputation': '99.7',\n",
       " 'Citations per Faculty': '73.3',\n",
       " 'Faculty Student Ratio': '91.9',\n",
       " 'International Students Ratio': '27.8',\n",
       " 'International Faculty Ratio': '10.4',\n",
       " 'International Research Network\\nUnweighted': '89.5',\n",
       " 'Employment Outcomes\\nUnweighted': '97.8'}"
      ]
     },
     "execution_count": 17,
     "metadata": {},
     "output_type": "execute_result"
    }
   ],
   "source": [
    "d={}\n",
    "d['Name']=value[20]\n",
    "d['Location']=address[2]\n",
    "d['Rank']=Rank[2]\n",
    "for i in range(len(column)):\n",
    "    d[column[i]]=value_h[i]\n",
    "d"
   ]
  },
  {
   "cell_type": "code",
   "execution_count": 18,
   "id": "8f304cc9",
   "metadata": {},
   "outputs": [
    {
     "data": {
      "text/plain": [
       "'{\"Name\": \"The University of Tokyo\", \"Location\": \"Tokyo, Japan\", \"Rank\": \"23\", \"Overall Score\": \"85.3\", \"Academic Reputation\": \"100\", \"Employer Reputation\": \"99.7\", \"Citations per Faculty\": \"73.3\", \"Faculty Student Ratio\": \"91.9\", \"International Students Ratio\": \"27.8\", \"International Faculty Ratio\": \"10.4\", \"International Research Network\\\\nUnweighted\": \"89.5\", \"Employment Outcomes\\\\nUnweighted\": \"97.8\"}'"
      ]
     },
     "execution_count": 18,
     "metadata": {},
     "output_type": "execute_result"
    }
   ],
   "source": [
    "s1=json.dumps(d)\n",
    "s1"
   ]
  },
  {
   "cell_type": "code",
   "execution_count": 19,
   "id": "9aae72e5",
   "metadata": {},
   "outputs": [],
   "source": [
    "with open('The University of Tokyo.json','w') as f:\n",
    "    json.dump(d,f)"
   ]
  }
 ],
 "metadata": {
  "kernelspec": {
   "display_name": "Python 3.9.12 ('base')",
   "language": "python",
   "name": "python3"
  },
  "language_info": {
   "codemirror_mode": {
    "name": "ipython",
    "version": 3
   },
   "file_extension": ".py",
   "mimetype": "text/x-python",
   "name": "python",
   "nbconvert_exporter": "python",
   "pygments_lexer": "ipython3",
   "version": "3.9.12"
  },
  "vscode": {
   "interpreter": {
    "hash": "ad2bdc8ecc057115af97d19610ffacc2b4e99fae6737bb82f5d7fb13d2f2c186"
   }
  }
 },
 "nbformat": 4,
 "nbformat_minor": 5
}
