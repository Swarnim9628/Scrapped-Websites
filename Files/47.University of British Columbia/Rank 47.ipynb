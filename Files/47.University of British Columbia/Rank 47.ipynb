{
 "cells": [
  {
   "cell_type": "code",
   "execution_count": 6,
   "id": "3625b96e",
   "metadata": {},
   "outputs": [],
   "source": [
    "from selenium import webdriver\n",
    "from selenium.webdriver.chrome.service import Service\n",
    "import pandas as pd\n",
    "import json"
   ]
  },
  {
   "cell_type": "code",
   "execution_count": 7,
   "id": "d2a5f954",
   "metadata": {},
   "outputs": [],
   "source": [
    "path = Service('C:\\chromedriver.exe')"
   ]
  },
  {
   "cell_type": "code",
   "execution_count": 8,
   "id": "6443b12c",
   "metadata": {},
   "outputs": [],
   "source": [
    "\n",
    "# set path for the driver\n",
    "browser = webdriver.Chrome(service = path)\n"
   ]
  },
  {
   "cell_type": "code",
   "execution_count": 9,
   "id": "d901c7e9",
   "metadata": {},
   "outputs": [],
   "source": [
    "url = \"https://www.topuniversities.com/university-rankings/world-university-rankings/2023\"\n"
   ]
  },
  {
   "cell_type": "code",
   "execution_count": 10,
   "id": "d276e78c",
   "metadata": {},
   "outputs": [],
   "source": [
    "\n",
    "# open the page url ion chrome\n",
    "browser.get(url)\n"
   ]
  },
  {
   "cell_type": "code",
   "execution_count": 11,
   "id": "66f9f767",
   "metadata": {},
   "outputs": [
    {
     "data": {
      "text/plain": [
       "[<selenium.webdriver.remote.webelement.WebElement (session=\"b4f3dbc64c0990d121eb9530ba600199\", element=\"720873d8-7adc-4ea9-b232-871d7ec6ada2\")>,\n",
       " <selenium.webdriver.remote.webelement.WebElement (session=\"b4f3dbc64c0990d121eb9530ba600199\", element=\"1e423cd4-6e88-4310-bb57-9d77a4f0a2b9\")>,\n",
       " <selenium.webdriver.remote.webelement.WebElement (session=\"b4f3dbc64c0990d121eb9530ba600199\", element=\"87442c8b-5493-4aa7-be83-c0165932c9ce\")>,\n",
       " <selenium.webdriver.remote.webelement.WebElement (session=\"b4f3dbc64c0990d121eb9530ba600199\", element=\"e33fbe13-ceb7-4af5-81fc-770240b19e1f\")>,\n",
       " <selenium.webdriver.remote.webelement.WebElement (session=\"b4f3dbc64c0990d121eb9530ba600199\", element=\"5781a60d-8c5d-43f9-9ed7-963140fb744c\")>,\n",
       " <selenium.webdriver.remote.webelement.WebElement (session=\"b4f3dbc64c0990d121eb9530ba600199\", element=\"21f61a5b-a3f6-478b-ae5d-00d3f681c776\")>,\n",
       " <selenium.webdriver.remote.webelement.WebElement (session=\"b4f3dbc64c0990d121eb9530ba600199\", element=\"323ecfe6-8aa4-40d9-afc7-75632025f24c\")>,\n",
       " <selenium.webdriver.remote.webelement.WebElement (session=\"b4f3dbc64c0990d121eb9530ba600199\", element=\"c9a62021-87f4-4d93-b8ba-c53c959ec321\")>,\n",
       " <selenium.webdriver.remote.webelement.WebElement (session=\"b4f3dbc64c0990d121eb9530ba600199\", element=\"c180573c-2e56-40b8-b52b-84ff6fb3bb45\")>,\n",
       " <selenium.webdriver.remote.webelement.WebElement (session=\"b4f3dbc64c0990d121eb9530ba600199\", element=\"4832212e-97ec-4086-8cbd-6f928f383808\")>,\n",
       " <selenium.webdriver.remote.webelement.WebElement (session=\"b4f3dbc64c0990d121eb9530ba600199\", element=\"81fca683-6be7-4639-9132-88563ad57a81\")>,\n",
       " <selenium.webdriver.remote.webelement.WebElement (session=\"b4f3dbc64c0990d121eb9530ba600199\", element=\"e775eb97-e58d-4968-990d-471aad8b676b\")>,\n",
       " <selenium.webdriver.remote.webelement.WebElement (session=\"b4f3dbc64c0990d121eb9530ba600199\", element=\"38a067a5-ac8d-46ac-a773-fd2211b7e79f\")>,\n",
       " <selenium.webdriver.remote.webelement.WebElement (session=\"b4f3dbc64c0990d121eb9530ba600199\", element=\"49b56d22-ef44-43f5-a423-1d991e15b2e2\")>,\n",
       " <selenium.webdriver.remote.webelement.WebElement (session=\"b4f3dbc64c0990d121eb9530ba600199\", element=\"804af5d1-dd1f-4eae-a697-ace13773f532\")>,\n",
       " <selenium.webdriver.remote.webelement.WebElement (session=\"b4f3dbc64c0990d121eb9530ba600199\", element=\"92df69c2-5cb3-4250-8c7c-81afda75bd2e\")>,\n",
       " <selenium.webdriver.remote.webelement.WebElement (session=\"b4f3dbc64c0990d121eb9530ba600199\", element=\"cdfe6128-48e0-4e30-9188-e306266a1433\")>,\n",
       " <selenium.webdriver.remote.webelement.WebElement (session=\"b4f3dbc64c0990d121eb9530ba600199\", element=\"b3307307-90d1-4c8a-b143-9420c85b3e1c\")>,\n",
       " <selenium.webdriver.remote.webelement.WebElement (session=\"b4f3dbc64c0990d121eb9530ba600199\", element=\"bda3c750-ef59-48b1-9bf3-1a507b1797a2\")>,\n",
       " <selenium.webdriver.remote.webelement.WebElement (session=\"b4f3dbc64c0990d121eb9530ba600199\", element=\"07391eb6-db88-4c8a-9e2c-a6127ac8aa1b\")>]"
      ]
     },
     "execution_count": 11,
     "metadata": {},
     "output_type": "execute_result"
    }
   ],
   "source": [
    "line1=browser.find_elements(\"xpath\",\"//div[@class='location ']\")\n",
    "line1"
   ]
  },
  {
   "cell_type": "code",
   "execution_count": 12,
   "id": "9115f0fe",
   "metadata": {},
   "outputs": [
    {
     "data": {
      "text/plain": [
       "['Sydney, Australia',\n",
       " 'Daejeon, South Korea',\n",
       " 'Hangzhou, China (Mainland)',\n",
       " 'Los Angeles, United States',\n",
       " 'Sydney, Australia',\n",
       " 'Shanghai, China (Mainland)',\n",
       " 'Vancouver, Canada',\n",
       " 'Palaiseau Cedex, France',\n",
       " 'Munich, Germany',\n",
       " 'Durham, United States']"
      ]
     },
     "execution_count": 12,
     "metadata": {},
     "output_type": "execute_result"
    }
   ],
   "source": [
    "address=[]\n",
    "for data in line1:\n",
    "    #get the text data\n",
    "    temp=data.text\n",
    "    address.append(temp)\n",
    "address=address[10:]\n",
    "address"
   ]
  },
  {
   "cell_type": "code",
   "execution_count": 13,
   "id": "7657665a",
   "metadata": {},
   "outputs": [
    {
     "data": {
      "text/plain": [
       "[<selenium.webdriver.remote.webelement.WebElement (session=\"b4f3dbc64c0990d121eb9530ba600199\", element=\"5b51a131-6d3f-4e27-99c4-cc8453f13282\")>,\n",
       " <selenium.webdriver.remote.webelement.WebElement (session=\"b4f3dbc64c0990d121eb9530ba600199\", element=\"311679bd-ec1e-4b39-9eb2-9e819ce6ce84\")>,\n",
       " <selenium.webdriver.remote.webelement.WebElement (session=\"b4f3dbc64c0990d121eb9530ba600199\", element=\"f21e37ec-d8e4-48b3-8785-95f0a8d6b92e\")>,\n",
       " <selenium.webdriver.remote.webelement.WebElement (session=\"b4f3dbc64c0990d121eb9530ba600199\", element=\"87800e13-5e14-481f-901f-97d6cca21f70\")>,\n",
       " <selenium.webdriver.remote.webelement.WebElement (session=\"b4f3dbc64c0990d121eb9530ba600199\", element=\"cbb9f410-6516-4828-ac57-08e022b2e7f7\")>,\n",
       " <selenium.webdriver.remote.webelement.WebElement (session=\"b4f3dbc64c0990d121eb9530ba600199\", element=\"6166f452-539d-422c-8c41-29ef9a1fc25b\")>,\n",
       " <selenium.webdriver.remote.webelement.WebElement (session=\"b4f3dbc64c0990d121eb9530ba600199\", element=\"86ae0811-8ccf-4bab-8689-840da151b985\")>,\n",
       " <selenium.webdriver.remote.webelement.WebElement (session=\"b4f3dbc64c0990d121eb9530ba600199\", element=\"d5a50db9-f43c-4506-83fc-27893f2c6e39\")>,\n",
       " <selenium.webdriver.remote.webelement.WebElement (session=\"b4f3dbc64c0990d121eb9530ba600199\", element=\"f4b17ecb-81ac-4d2d-86d6-38c0ad7c76a5\")>,\n",
       " <selenium.webdriver.remote.webelement.WebElement (session=\"b4f3dbc64c0990d121eb9530ba600199\", element=\"089b00f2-83f0-44cc-b77b-cd583eb65385\")>]"
      ]
     },
     "execution_count": 13,
     "metadata": {},
     "output_type": "execute_result"
    }
   ],
   "source": [
    "\n",
    "line2=browser.find_elements(\"xpath\",\"//div[@class='_univ-rank ']\")\n",
    "line2"
   ]
  },
  {
   "cell_type": "code",
   "execution_count": 14,
   "id": "cb9840f8",
   "metadata": {},
   "outputs": [
    {
     "data": {
      "text/plain": [
       "['41', '=42', '=42', '44', '45', '46', '47', '48', '49', '=50']"
      ]
     },
     "execution_count": 14,
     "metadata": {},
     "output_type": "execute_result"
    }
   ],
   "source": [
    "Rank=[]\n",
    "for data in line2:\n",
    "    #get the text data\n",
    "    temp=data.text\n",
    "    Rank.append(temp)\n",
    "Rank"
   ]
  },
  {
   "cell_type": "code",
   "execution_count": 15,
   "id": "80935c53",
   "metadata": {},
   "outputs": [
    {
     "data": {
      "text/plain": [
       "[<selenium.webdriver.remote.webelement.WebElement (session=\"b4f3dbc64c0990d121eb9530ba600199\", element=\"6b531cba-c611-4358-ab4f-83cc10b8be27\")>,\n",
       " <selenium.webdriver.remote.webelement.WebElement (session=\"b4f3dbc64c0990d121eb9530ba600199\", element=\"e1bbb1d9-e166-45c4-8d35-25769ab779e6\")>,\n",
       " <selenium.webdriver.remote.webelement.WebElement (session=\"b4f3dbc64c0990d121eb9530ba600199\", element=\"1150e596-c33a-4477-bd19-e323a46c0be4\")>,\n",
       " <selenium.webdriver.remote.webelement.WebElement (session=\"b4f3dbc64c0990d121eb9530ba600199\", element=\"85c9f5ab-1fc6-42c6-b2ad-2ae3eda3e595\")>,\n",
       " <selenium.webdriver.remote.webelement.WebElement (session=\"b4f3dbc64c0990d121eb9530ba600199\", element=\"782450a2-1159-4375-b045-c8a27c977f70\")>,\n",
       " <selenium.webdriver.remote.webelement.WebElement (session=\"b4f3dbc64c0990d121eb9530ba600199\", element=\"06be8843-584e-4b87-9c19-62b408eda19d\")>,\n",
       " <selenium.webdriver.remote.webelement.WebElement (session=\"b4f3dbc64c0990d121eb9530ba600199\", element=\"47d0f9ad-0e13-498b-85d4-c7402ec17224\")>,\n",
       " <selenium.webdriver.remote.webelement.WebElement (session=\"b4f3dbc64c0990d121eb9530ba600199\", element=\"82f39509-caff-4c34-8535-8040e3036858\")>,\n",
       " <selenium.webdriver.remote.webelement.WebElement (session=\"b4f3dbc64c0990d121eb9530ba600199\", element=\"7ce49e9a-caf7-46a6-93af-a763bc762926\")>]"
      ]
     },
     "execution_count": 15,
     "metadata": {},
     "output_type": "execute_result"
    }
   ],
   "source": [
    "\n",
    "# GET EACH COLLEGE SPECIFICATION HEADERS\n",
    "line3=browser.find_elements(\"xpath\",\"//div[@class='_click-function_ind']\")\n",
    "line3"
   ]
  },
  {
   "cell_type": "code",
   "execution_count": 16,
   "id": "c69330e6",
   "metadata": {},
   "outputs": [
    {
     "data": {
      "text/plain": [
       "['Overall Score',\n",
       " 'Academic Reputation',\n",
       " 'Employer Reputation',\n",
       " 'Citations per Faculty',\n",
       " 'Faculty Student Ratio',\n",
       " 'International Students Ratio',\n",
       " 'International Faculty Ratio',\n",
       " 'International Research Network\\nUnweighted',\n",
       " 'Employment Outcomes\\nUnweighted']"
      ]
     },
     "execution_count": 16,
     "metadata": {},
     "output_type": "execute_result"
    }
   ],
   "source": [
    "#PARSING DATA\n",
    "column=[]\n",
    "for data in line3:\n",
    "    #get the text data\n",
    "    temp=data.text\n",
    "    column.append(temp)\n",
    "column"
   ]
  },
  {
   "cell_type": "code",
   "execution_count": 17,
   "id": "45665ba7",
   "metadata": {},
   "outputs": [
    {
     "data": {
      "text/plain": [
       "[<selenium.webdriver.remote.webelement.WebElement (session=\"b4f3dbc64c0990d121eb9530ba600199\", element=\"04131e68-2fbb-4a01-98e4-e2682fea912a\")>,\n",
       " <selenium.webdriver.remote.webelement.WebElement (session=\"b4f3dbc64c0990d121eb9530ba600199\", element=\"0a7f1dcd-b8a1-410d-99e8-dc35e319fd69\")>,\n",
       " <selenium.webdriver.remote.webelement.WebElement (session=\"b4f3dbc64c0990d121eb9530ba600199\", element=\"60afeefd-3af5-4f16-91ca-05a0f5f66fc2\")>,\n",
       " <selenium.webdriver.remote.webelement.WebElement (session=\"b4f3dbc64c0990d121eb9530ba600199\", element=\"c62f98e7-126e-4fdc-8e00-0d1b17535bb1\")>,\n",
       " <selenium.webdriver.remote.webelement.WebElement (session=\"b4f3dbc64c0990d121eb9530ba600199\", element=\"ba6b9e0d-8b62-4340-9151-ad992bcaf1e3\")>,\n",
       " <selenium.webdriver.remote.webelement.WebElement (session=\"b4f3dbc64c0990d121eb9530ba600199\", element=\"def9459c-75eb-4359-9a6e-005bba2a223e\")>,\n",
       " <selenium.webdriver.remote.webelement.WebElement (session=\"b4f3dbc64c0990d121eb9530ba600199\", element=\"a70d2a1e-4553-409c-8383-b3a6bc434e8f\")>,\n",
       " <selenium.webdriver.remote.webelement.WebElement (session=\"b4f3dbc64c0990d121eb9530ba600199\", element=\"ae8a3710-1a26-4293-9532-72780a02a2b3\")>,\n",
       " <selenium.webdriver.remote.webelement.WebElement (session=\"b4f3dbc64c0990d121eb9530ba600199\", element=\"3c804aa6-c54e-4d82-b902-1c69a1e89c15\")>,\n",
       " <selenium.webdriver.remote.webelement.WebElement (session=\"b4f3dbc64c0990d121eb9530ba600199\", element=\"dade2912-c15e-45fa-a8ef-ee0d237b9cfa\")>,\n",
       " <selenium.webdriver.remote.webelement.WebElement (session=\"b4f3dbc64c0990d121eb9530ba600199\", element=\"2860c945-1bca-4284-87de-81d6f3b80048\")>,\n",
       " <selenium.webdriver.remote.webelement.WebElement (session=\"b4f3dbc64c0990d121eb9530ba600199\", element=\"59a8c3e6-17c1-414d-9756-d34db14653ff\")>,\n",
       " <selenium.webdriver.remote.webelement.WebElement (session=\"b4f3dbc64c0990d121eb9530ba600199\", element=\"62dbdb45-6e92-4485-8e45-1d8c20679130\")>,\n",
       " <selenium.webdriver.remote.webelement.WebElement (session=\"b4f3dbc64c0990d121eb9530ba600199\", element=\"62b9a517-628b-4a19-b108-37b245c704ea\")>,\n",
       " <selenium.webdriver.remote.webelement.WebElement (session=\"b4f3dbc64c0990d121eb9530ba600199\", element=\"27c3b76e-e1f2-4c85-b8fa-9057888d0d06\")>,\n",
       " <selenium.webdriver.remote.webelement.WebElement (session=\"b4f3dbc64c0990d121eb9530ba600199\", element=\"e4cc68c8-869c-4497-8821-0e71c094235a\")>,\n",
       " <selenium.webdriver.remote.webelement.WebElement (session=\"b4f3dbc64c0990d121eb9530ba600199\", element=\"0290b8bf-e6b5-4697-99f4-84a8b08a2fbd\")>,\n",
       " <selenium.webdriver.remote.webelement.WebElement (session=\"b4f3dbc64c0990d121eb9530ba600199\", element=\"f066739f-713e-4cc9-8bce-45fa0e926ba7\")>,\n",
       " <selenium.webdriver.remote.webelement.WebElement (session=\"b4f3dbc64c0990d121eb9530ba600199\", element=\"79496b78-cf39-4188-994b-47faf5d91235\")>,\n",
       " <selenium.webdriver.remote.webelement.WebElement (session=\"b4f3dbc64c0990d121eb9530ba600199\", element=\"9390a6b2-eac3-46a2-906d-eb483d9f7467\")>,\n",
       " <selenium.webdriver.remote.webelement.WebElement (session=\"b4f3dbc64c0990d121eb9530ba600199\", element=\"5effa712-1a7e-45dd-ade5-4e7515ec615d\")>,\n",
       " <selenium.webdriver.remote.webelement.WebElement (session=\"b4f3dbc64c0990d121eb9530ba600199\", element=\"88f66096-eae0-4d62-9cb1-adfa1e7e17c0\")>,\n",
       " <selenium.webdriver.remote.webelement.WebElement (session=\"b4f3dbc64c0990d121eb9530ba600199\", element=\"340481ff-cdc6-479c-b3f6-dc2209246141\")>,\n",
       " <selenium.webdriver.remote.webelement.WebElement (session=\"b4f3dbc64c0990d121eb9530ba600199\", element=\"8606c26c-5f7b-492e-8e48-cc6d08c78e68\")>,\n",
       " <selenium.webdriver.remote.webelement.WebElement (session=\"b4f3dbc64c0990d121eb9530ba600199\", element=\"d19d7d0e-ffa3-4076-97b0-922742ccd4ac\")>,\n",
       " <selenium.webdriver.remote.webelement.WebElement (session=\"b4f3dbc64c0990d121eb9530ba600199\", element=\"183b1b4a-6443-4292-9f7a-ec07db7b80d7\")>,\n",
       " <selenium.webdriver.remote.webelement.WebElement (session=\"b4f3dbc64c0990d121eb9530ba600199\", element=\"23ae6d8f-8557-4090-8aac-40814c18bc03\")>,\n",
       " <selenium.webdriver.remote.webelement.WebElement (session=\"b4f3dbc64c0990d121eb9530ba600199\", element=\"99fb6ab4-0971-42b2-9fea-a270b956150a\")>,\n",
       " <selenium.webdriver.remote.webelement.WebElement (session=\"b4f3dbc64c0990d121eb9530ba600199\", element=\"d4122cea-94f3-4719-bffc-efe2fdb2d2a6\")>,\n",
       " <selenium.webdriver.remote.webelement.WebElement (session=\"b4f3dbc64c0990d121eb9530ba600199\", element=\"45f55b46-2bcc-49a9-8dfe-939de46765d8\")>,\n",
       " <selenium.webdriver.remote.webelement.WebElement (session=\"b4f3dbc64c0990d121eb9530ba600199\", element=\"ecb4f6d7-129d-426b-bde4-9df03334d105\")>,\n",
       " <selenium.webdriver.remote.webelement.WebElement (session=\"b4f3dbc64c0990d121eb9530ba600199\", element=\"dfad8e52-4c5f-4f44-99b7-5aec3481f583\")>,\n",
       " <selenium.webdriver.remote.webelement.WebElement (session=\"b4f3dbc64c0990d121eb9530ba600199\", element=\"c0e8f0aa-5cd2-41b1-97ed-e83b0c3ea70a\")>,\n",
       " <selenium.webdriver.remote.webelement.WebElement (session=\"b4f3dbc64c0990d121eb9530ba600199\", element=\"e0e13de3-191e-400f-b917-a4bf4d16ad16\")>,\n",
       " <selenium.webdriver.remote.webelement.WebElement (session=\"b4f3dbc64c0990d121eb9530ba600199\", element=\"bebaec9e-c3a2-4a4e-b92d-57f7c6e9455a\")>,\n",
       " <selenium.webdriver.remote.webelement.WebElement (session=\"b4f3dbc64c0990d121eb9530ba600199\", element=\"ac035251-dca9-45c5-8e96-10f115e1600a\")>,\n",
       " <selenium.webdriver.remote.webelement.WebElement (session=\"b4f3dbc64c0990d121eb9530ba600199\", element=\"f436aaf8-75a4-4c9e-87c6-30e076ea1ec5\")>,\n",
       " <selenium.webdriver.remote.webelement.WebElement (session=\"b4f3dbc64c0990d121eb9530ba600199\", element=\"e7bf6cdb-515e-4932-ab96-640c11a0f33f\")>,\n",
       " <selenium.webdriver.remote.webelement.WebElement (session=\"b4f3dbc64c0990d121eb9530ba600199\", element=\"d0f4e646-9e96-46c9-8465-40cf1a69f2a6\")>,\n",
       " <selenium.webdriver.remote.webelement.WebElement (session=\"b4f3dbc64c0990d121eb9530ba600199\", element=\"81c773a9-e350-481c-9a96-95200b97293d\")>,\n",
       " <selenium.webdriver.remote.webelement.WebElement (session=\"b4f3dbc64c0990d121eb9530ba600199\", element=\"fd821dd7-e099-449c-be8d-ffb4e585fa39\")>,\n",
       " <selenium.webdriver.remote.webelement.WebElement (session=\"b4f3dbc64c0990d121eb9530ba600199\", element=\"31c50156-cd26-434e-a784-797dd98e6062\")>,\n",
       " <selenium.webdriver.remote.webelement.WebElement (session=\"b4f3dbc64c0990d121eb9530ba600199\", element=\"00318b3a-39aa-4a02-9ced-c36d6fdd6aec\")>,\n",
       " <selenium.webdriver.remote.webelement.WebElement (session=\"b4f3dbc64c0990d121eb9530ba600199\", element=\"c307f2da-d42b-496a-a9a9-5d826e518c3b\")>,\n",
       " <selenium.webdriver.remote.webelement.WebElement (session=\"b4f3dbc64c0990d121eb9530ba600199\", element=\"41b7cc62-5778-4b0c-a5ac-b80a48f29c24\")>,\n",
       " <selenium.webdriver.remote.webelement.WebElement (session=\"b4f3dbc64c0990d121eb9530ba600199\", element=\"32c9eed7-feaf-44ec-a654-b51e9cd01f1d\")>,\n",
       " <selenium.webdriver.remote.webelement.WebElement (session=\"b4f3dbc64c0990d121eb9530ba600199\", element=\"4a02214b-50f6-486c-8772-18bee97ba12a\")>,\n",
       " <selenium.webdriver.remote.webelement.WebElement (session=\"b4f3dbc64c0990d121eb9530ba600199\", element=\"b4397327-fcbf-4506-8846-231db72a1268\")>,\n",
       " <selenium.webdriver.remote.webelement.WebElement (session=\"b4f3dbc64c0990d121eb9530ba600199\", element=\"17e6fcf7-352c-4610-ac4f-8a3b133c16a0\")>,\n",
       " <selenium.webdriver.remote.webelement.WebElement (session=\"b4f3dbc64c0990d121eb9530ba600199\", element=\"00402f25-cddc-475f-b3d4-d3a397dd4dea\")>,\n",
       " <selenium.webdriver.remote.webelement.WebElement (session=\"b4f3dbc64c0990d121eb9530ba600199\", element=\"16bc9566-e635-47be-8f63-8ed20d12fda1\")>,\n",
       " <selenium.webdriver.remote.webelement.WebElement (session=\"b4f3dbc64c0990d121eb9530ba600199\", element=\"ce9093dd-923f-499b-840a-bd6fb78e5d69\")>,\n",
       " <selenium.webdriver.remote.webelement.WebElement (session=\"b4f3dbc64c0990d121eb9530ba600199\", element=\"027bc1aa-d862-4d79-8b6b-b313dcbe72ff\")>,\n",
       " <selenium.webdriver.remote.webelement.WebElement (session=\"b4f3dbc64c0990d121eb9530ba600199\", element=\"8b7459d5-9d25-48c2-afaf-2fde3201943f\")>,\n",
       " <selenium.webdriver.remote.webelement.WebElement (session=\"b4f3dbc64c0990d121eb9530ba600199\", element=\"edfee67d-21c3-4677-9ce9-342c8c8898f8\")>,\n",
       " <selenium.webdriver.remote.webelement.WebElement (session=\"b4f3dbc64c0990d121eb9530ba600199\", element=\"e6732e4b-3d65-42a3-a4ed-311124d9ee60\")>,\n",
       " <selenium.webdriver.remote.webelement.WebElement (session=\"b4f3dbc64c0990d121eb9530ba600199\", element=\"f3e7c711-42e7-48cd-8acb-323fc3bf9881\")>,\n",
       " <selenium.webdriver.remote.webelement.WebElement (session=\"b4f3dbc64c0990d121eb9530ba600199\", element=\"051460af-282a-4ed1-9e61-f5114b30a413\")>,\n",
       " <selenium.webdriver.remote.webelement.WebElement (session=\"b4f3dbc64c0990d121eb9530ba600199\", element=\"5788933a-b966-4f27-87ca-fe38030d4314\")>,\n",
       " <selenium.webdriver.remote.webelement.WebElement (session=\"b4f3dbc64c0990d121eb9530ba600199\", element=\"9886cec1-0fdb-4e04-aaf7-748d77cd42d0\")>,\n",
       " <selenium.webdriver.remote.webelement.WebElement (session=\"b4f3dbc64c0990d121eb9530ba600199\", element=\"ec24b633-30d5-4a51-bcc9-d872527a1d5c\")>,\n",
       " <selenium.webdriver.remote.webelement.WebElement (session=\"b4f3dbc64c0990d121eb9530ba600199\", element=\"0e8a6dbb-0754-47fd-88e1-811b53f4fe19\")>,\n",
       " <selenium.webdriver.remote.webelement.WebElement (session=\"b4f3dbc64c0990d121eb9530ba600199\", element=\"e7526ed8-b14f-4112-b507-5672a8bc21af\")>,\n",
       " <selenium.webdriver.remote.webelement.WebElement (session=\"b4f3dbc64c0990d121eb9530ba600199\", element=\"372a4d6b-4bc7-49b6-8e19-2fda8e9b96f2\")>,\n",
       " <selenium.webdriver.remote.webelement.WebElement (session=\"b4f3dbc64c0990d121eb9530ba600199\", element=\"a7178e43-23f3-40f1-99f3-1ba5cacf573e\")>,\n",
       " <selenium.webdriver.remote.webelement.WebElement (session=\"b4f3dbc64c0990d121eb9530ba600199\", element=\"658c3c3d-4b66-40c8-b991-c94fa6c3879a\")>,\n",
       " <selenium.webdriver.remote.webelement.WebElement (session=\"b4f3dbc64c0990d121eb9530ba600199\", element=\"c305e746-d68d-4631-97c8-91b12e07ad9d\")>,\n",
       " <selenium.webdriver.remote.webelement.WebElement (session=\"b4f3dbc64c0990d121eb9530ba600199\", element=\"86587ace-7408-4dcd-b506-0c704af1d1c7\")>,\n",
       " <selenium.webdriver.remote.webelement.WebElement (session=\"b4f3dbc64c0990d121eb9530ba600199\", element=\"c7c2c289-42b5-434b-8dde-9dfe78128ede\")>,\n",
       " <selenium.webdriver.remote.webelement.WebElement (session=\"b4f3dbc64c0990d121eb9530ba600199\", element=\"dd1456e2-832c-418c-8668-8bd11fa0ac6d\")>,\n",
       " <selenium.webdriver.remote.webelement.WebElement (session=\"b4f3dbc64c0990d121eb9530ba600199\", element=\"1b9f6dc0-335f-4afc-9204-3aeaa8445daf\")>,\n",
       " <selenium.webdriver.remote.webelement.WebElement (session=\"b4f3dbc64c0990d121eb9530ba600199\", element=\"2efd6930-a43b-44e9-a8e0-ae4b34d1ee68\")>,\n",
       " <selenium.webdriver.remote.webelement.WebElement (session=\"b4f3dbc64c0990d121eb9530ba600199\", element=\"811dd3be-f7cf-4e96-9930-b4691b684eef\")>,\n",
       " <selenium.webdriver.remote.webelement.WebElement (session=\"b4f3dbc64c0990d121eb9530ba600199\", element=\"dd18c268-722d-46fc-9ad3-c3387a07539e\")>,\n",
       " <selenium.webdriver.remote.webelement.WebElement (session=\"b4f3dbc64c0990d121eb9530ba600199\", element=\"b4780f13-26f6-4a05-8706-53963460ca26\")>,\n",
       " <selenium.webdriver.remote.webelement.WebElement (session=\"b4f3dbc64c0990d121eb9530ba600199\", element=\"818f0c4a-a887-412e-a89f-2d5ae3da4ec0\")>,\n",
       " <selenium.webdriver.remote.webelement.WebElement (session=\"b4f3dbc64c0990d121eb9530ba600199\", element=\"36ce69f9-f677-421a-a550-2d8e29b001cb\")>,\n",
       " <selenium.webdriver.remote.webelement.WebElement (session=\"b4f3dbc64c0990d121eb9530ba600199\", element=\"71aa8f32-6eee-4c6a-9f43-780e41b9a385\")>,\n",
       " <selenium.webdriver.remote.webelement.WebElement (session=\"b4f3dbc64c0990d121eb9530ba600199\", element=\"959cf5ac-ef35-46bc-bc31-82c258b1f004\")>,\n",
       " <selenium.webdriver.remote.webelement.WebElement (session=\"b4f3dbc64c0990d121eb9530ba600199\", element=\"34ee29cd-1e31-4dc6-8167-88108a4db67f\")>,\n",
       " <selenium.webdriver.remote.webelement.WebElement (session=\"b4f3dbc64c0990d121eb9530ba600199\", element=\"30bdadb9-bd73-489e-a144-4240aaedd3a0\")>,\n",
       " <selenium.webdriver.remote.webelement.WebElement (session=\"b4f3dbc64c0990d121eb9530ba600199\", element=\"c5a5dfbd-eb3d-4ed6-ac4c-e0fa5b5c4e40\")>,\n",
       " <selenium.webdriver.remote.webelement.WebElement (session=\"b4f3dbc64c0990d121eb9530ba600199\", element=\"98d2e6e5-3102-48a0-92f3-637fb7c6e301\")>,\n",
       " <selenium.webdriver.remote.webelement.WebElement (session=\"b4f3dbc64c0990d121eb9530ba600199\", element=\"a902cb96-9570-4ff2-b71c-c1ef3a05dc9d\")>,\n",
       " <selenium.webdriver.remote.webelement.WebElement (session=\"b4f3dbc64c0990d121eb9530ba600199\", element=\"64cc74ed-427e-498f-b3fb-6b99561e1767\")>,\n",
       " <selenium.webdriver.remote.webelement.WebElement (session=\"b4f3dbc64c0990d121eb9530ba600199\", element=\"7aa82dea-e5f1-4b6b-bb10-a3c66c8d4ebb\")>,\n",
       " <selenium.webdriver.remote.webelement.WebElement (session=\"b4f3dbc64c0990d121eb9530ba600199\", element=\"a81376ab-6172-465b-8393-adfd60e24ba8\")>,\n",
       " <selenium.webdriver.remote.webelement.WebElement (session=\"b4f3dbc64c0990d121eb9530ba600199\", element=\"a02a963c-7a41-4cd2-976b-1a98075fa6c9\")>,\n",
       " <selenium.webdriver.remote.webelement.WebElement (session=\"b4f3dbc64c0990d121eb9530ba600199\", element=\"e382950e-6bd7-4645-ae6a-794d8f36fece\")>,\n",
       " <selenium.webdriver.remote.webelement.WebElement (session=\"b4f3dbc64c0990d121eb9530ba600199\", element=\"dab7cdb9-5308-430e-832d-9d4cded1c331\")>,\n",
       " <selenium.webdriver.remote.webelement.WebElement (session=\"b4f3dbc64c0990d121eb9530ba600199\", element=\"9822802b-df11-45a3-8a4f-62b0fe228fe2\")>,\n",
       " <selenium.webdriver.remote.webelement.WebElement (session=\"b4f3dbc64c0990d121eb9530ba600199\", element=\"22ac35b0-37bb-4850-9d69-27510f3a5e54\")>,\n",
       " <selenium.webdriver.remote.webelement.WebElement (session=\"b4f3dbc64c0990d121eb9530ba600199\", element=\"4299d471-2ce1-4e40-8663-6c8d64cfe4b4\")>,\n",
       " <selenium.webdriver.remote.webelement.WebElement (session=\"b4f3dbc64c0990d121eb9530ba600199\", element=\"31bdf3bd-68ef-4e69-ab25-efaebb949e09\")>,\n",
       " <selenium.webdriver.remote.webelement.WebElement (session=\"b4f3dbc64c0990d121eb9530ba600199\", element=\"21b00204-3937-4739-af62-f25e524a37a8\")>,\n",
       " <selenium.webdriver.remote.webelement.WebElement (session=\"b4f3dbc64c0990d121eb9530ba600199\", element=\"73b2daf6-d862-4d81-8a47-e2feb2607724\")>,\n",
       " <selenium.webdriver.remote.webelement.WebElement (session=\"b4f3dbc64c0990d121eb9530ba600199\", element=\"4b1e69c3-ec94-4f67-aa28-9eab05685b74\")>,\n",
       " <selenium.webdriver.remote.webelement.WebElement (session=\"b4f3dbc64c0990d121eb9530ba600199\", element=\"f5b0304a-d6ee-4bad-bce4-568fb000dbb1\")>,\n",
       " <selenium.webdriver.remote.webelement.WebElement (session=\"b4f3dbc64c0990d121eb9530ba600199\", element=\"892f6dad-0809-4b1d-844a-bbff3c9d0047\")>,\n",
       " <selenium.webdriver.remote.webelement.WebElement (session=\"b4f3dbc64c0990d121eb9530ba600199\", element=\"91540527-db77-4f83-be72-d7b6c11d475d\")>]"
      ]
     },
     "execution_count": 17,
     "metadata": {},
     "output_type": "execute_result"
    }
   ],
   "source": [
    "line4=browser.find_elements(\"xpath\",\"//div[@class='td-wrap-in']\")\n",
    "line4"
   ]
  },
  {
   "cell_type": "code",
   "execution_count": 18,
   "id": "9c4abe6e",
   "metadata": {},
   "outputs": [
    {
     "data": {
      "text/plain": [
       "['77', '98', '95.4', '42.1', '56.5', '74.9', '89', '97.9', '75.2']"
      ]
     },
     "execution_count": 18,
     "metadata": {},
     "output_type": "execute_result"
    }
   ],
   "source": [
    "#PARSING DATA\n",
    "value=[]\n",
    "for data in line4:\n",
    "    #get the text data\n",
    "    temp=data.text\n",
    "    value.append(temp)\n",
    "value_h=value[61:70]\n",
    "value_h"
   ]
  },
  {
   "cell_type": "code",
   "execution_count": 19,
   "id": "c161617c",
   "metadata": {},
   "outputs": [
    {
     "data": {
      "text/plain": [
       "{'Name': 'University of British Columbia',\n",
       " 'Location': 'Vancouver, Canada',\n",
       " 'Rank': '47',\n",
       " 'Overall Score': '77',\n",
       " 'Academic Reputation': '98',\n",
       " 'Employer Reputation': '95.4',\n",
       " 'Citations per Faculty': '42.1',\n",
       " 'Faculty Student Ratio': '56.5',\n",
       " 'International Students Ratio': '74.9',\n",
       " 'International Faculty Ratio': '89',\n",
       " 'International Research Network\\nUnweighted': '97.9',\n",
       " 'Employment Outcomes\\nUnweighted': '75.2'}"
      ]
     },
     "execution_count": 19,
     "metadata": {},
     "output_type": "execute_result"
    }
   ],
   "source": [
    "d={}\n",
    "d['Name']=value[60]\n",
    "d['Location']=address[6]\n",
    "d['Rank']=Rank[6]\n",
    "for i in range(len(column)):\n",
    "    d[column[i]]=value_h[i]\n",
    "d"
   ]
  },
  {
   "cell_type": "code",
   "execution_count": 20,
   "id": "c373728a",
   "metadata": {},
   "outputs": [
    {
     "data": {
      "text/plain": [
       "'{\"Name\": \"University of British Columbia\", \"Location\": \"Vancouver, Canada\", \"Rank\": \"47\", \"Overall Score\": \"77\", \"Academic Reputation\": \"98\", \"Employer Reputation\": \"95.4\", \"Citations per Faculty\": \"42.1\", \"Faculty Student Ratio\": \"56.5\", \"International Students Ratio\": \"74.9\", \"International Faculty Ratio\": \"89\", \"International Research Network\\\\nUnweighted\": \"97.9\", \"Employment Outcomes\\\\nUnweighted\": \"75.2\"}'"
      ]
     },
     "execution_count": 20,
     "metadata": {},
     "output_type": "execute_result"
    }
   ],
   "source": [
    "s1=json.dumps(d)\n",
    "s1"
   ]
  },
  {
   "cell_type": "code",
   "execution_count": 21,
   "id": "e8af7452",
   "metadata": {},
   "outputs": [],
   "source": [
    "\n",
    "with open('University of British Columbia.json','w') as f:\n",
    "    json.dump(d,f)"
   ]
  },
  {
   "cell_type": "code",
   "execution_count": null,
   "id": "edb398b5",
   "metadata": {},
   "outputs": [],
   "source": []
  }
 ],
 "metadata": {
  "kernelspec": {
   "display_name": "Python 3.9.12 ('base')",
   "language": "python",
   "name": "python3"
  },
  "language_info": {
   "codemirror_mode": {
    "name": "ipython",
    "version": 3
   },
   "file_extension": ".py",
   "mimetype": "text/x-python",
   "name": "python",
   "nbconvert_exporter": "python",
   "pygments_lexer": "ipython3",
   "version": "3.9.12"
  },
  "vscode": {
   "interpreter": {
    "hash": "ad2bdc8ecc057115af97d19610ffacc2b4e99fae6737bb82f5d7fb13d2f2c186"
   }
  }
 },
 "nbformat": 4,
 "nbformat_minor": 5
}
