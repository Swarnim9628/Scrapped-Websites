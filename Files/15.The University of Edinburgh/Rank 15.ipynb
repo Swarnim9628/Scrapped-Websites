{
 "cells": [
  {
   "cell_type": "code",
   "execution_count": 1,
   "id": "6a00ad64",
   "metadata": {},
   "outputs": [],
   "source": [
    "from selenium import webdriver\n",
    "from selenium.webdriver.chrome.service import Service\n",
    "import pandas as pd\n",
    "import json"
   ]
  },
  {
   "cell_type": "code",
   "execution_count": 2,
   "id": "e81877dc",
   "metadata": {},
   "outputs": [],
   "source": [
    "path = Service('C:\\chromedriver.exe')"
   ]
  },
  {
   "cell_type": "code",
   "execution_count": 3,
   "id": "28b4a2ca",
   "metadata": {},
   "outputs": [],
   "source": [
    "# set path for the driver\n",
    "browser = webdriver.Chrome(service = path)"
   ]
  },
  {
   "cell_type": "code",
   "execution_count": 4,
   "id": "aff209f2",
   "metadata": {},
   "outputs": [],
   "source": [
    "url = \"https://www.topuniversities.com/university-rankings/world-university-rankings/2023\""
   ]
  },
  {
   "cell_type": "code",
   "execution_count": 5,
   "id": "2cc134a7",
   "metadata": {},
   "outputs": [],
   "source": [
    "# open the page url ion chrome\n",
    "browser.get(url)"
   ]
  },
  {
   "cell_type": "code",
   "execution_count": 6,
   "id": "0ce705bd",
   "metadata": {},
   "outputs": [
    {
     "data": {
      "text/plain": [
       "[<selenium.webdriver.remote.webelement.WebElement (session=\"c99107ca6856e0869825bdf98f18eb57\", element=\"221bec77-f0ad-4470-b093-b6711eb747f6\")>,\n",
       " <selenium.webdriver.remote.webelement.WebElement (session=\"c99107ca6856e0869825bdf98f18eb57\", element=\"c10f8de9-eb40-4aee-b063-a660f7089065\")>,\n",
       " <selenium.webdriver.remote.webelement.WebElement (session=\"c99107ca6856e0869825bdf98f18eb57\", element=\"2c35dcda-8f22-4bff-b8b5-7b6c80161b33\")>,\n",
       " <selenium.webdriver.remote.webelement.WebElement (session=\"c99107ca6856e0869825bdf98f18eb57\", element=\"2afac07e-7120-433b-af7e-1eef35c24f81\")>,\n",
       " <selenium.webdriver.remote.webelement.WebElement (session=\"c99107ca6856e0869825bdf98f18eb57\", element=\"b4fa5d30-fd37-4458-9266-574919ca0412\")>,\n",
       " <selenium.webdriver.remote.webelement.WebElement (session=\"c99107ca6856e0869825bdf98f18eb57\", element=\"d728b136-80b4-419f-90ad-5077286ee4db\")>,\n",
       " <selenium.webdriver.remote.webelement.WebElement (session=\"c99107ca6856e0869825bdf98f18eb57\", element=\"725cde1b-191b-443c-8031-60d26ad26c42\")>,\n",
       " <selenium.webdriver.remote.webelement.WebElement (session=\"c99107ca6856e0869825bdf98f18eb57\", element=\"3deb9e32-c68e-4eb0-aa99-27e26da0903e\")>,\n",
       " <selenium.webdriver.remote.webelement.WebElement (session=\"c99107ca6856e0869825bdf98f18eb57\", element=\"f61682db-2ca7-4cc8-9395-d471c0ae060a\")>,\n",
       " <selenium.webdriver.remote.webelement.WebElement (session=\"c99107ca6856e0869825bdf98f18eb57\", element=\"285af7bd-fcc5-4622-90f4-0e05f2ee7303\")>,\n",
       " <selenium.webdriver.remote.webelement.WebElement (session=\"c99107ca6856e0869825bdf98f18eb57\", element=\"258e7708-c1d4-48b3-a325-37d7be6e333a\")>,\n",
       " <selenium.webdriver.remote.webelement.WebElement (session=\"c99107ca6856e0869825bdf98f18eb57\", element=\"fd8e0a77-9a2a-40a2-a7f0-c81db2b5316c\")>,\n",
       " <selenium.webdriver.remote.webelement.WebElement (session=\"c99107ca6856e0869825bdf98f18eb57\", element=\"af7c1b5c-d00a-4876-9eb1-dd9d355dfd27\")>,\n",
       " <selenium.webdriver.remote.webelement.WebElement (session=\"c99107ca6856e0869825bdf98f18eb57\", element=\"967fda5e-bd22-44b4-84bf-4ef8dcc27f2a\")>,\n",
       " <selenium.webdriver.remote.webelement.WebElement (session=\"c99107ca6856e0869825bdf98f18eb57\", element=\"f61d0465-153c-4e63-ae37-37c948391f34\")>,\n",
       " <selenium.webdriver.remote.webelement.WebElement (session=\"c99107ca6856e0869825bdf98f18eb57\", element=\"da3ede85-0ce1-4388-a0b0-8ef3957a3c44\")>,\n",
       " <selenium.webdriver.remote.webelement.WebElement (session=\"c99107ca6856e0869825bdf98f18eb57\", element=\"db1ce812-4912-41b5-a6a1-29577ce37e72\")>,\n",
       " <selenium.webdriver.remote.webelement.WebElement (session=\"c99107ca6856e0869825bdf98f18eb57\", element=\"0ea717d5-a6f9-4de0-8de3-6552604dc7f8\")>,\n",
       " <selenium.webdriver.remote.webelement.WebElement (session=\"c99107ca6856e0869825bdf98f18eb57\", element=\"2bccd72e-67b3-4255-804c-3d31c5a0bd9e\")>,\n",
       " <selenium.webdriver.remote.webelement.WebElement (session=\"c99107ca6856e0869825bdf98f18eb57\", element=\"2955a7d2-fde2-422f-91df-dde3c20fbc19\")>]"
      ]
     },
     "execution_count": 6,
     "metadata": {},
     "output_type": "execute_result"
    }
   ],
   "source": [
    "line1=browser.find_elements(\"xpath\",\"//div[@class='location ']\")\n",
    "line1"
   ]
  },
  {
   "cell_type": "code",
   "execution_count": 7,
   "id": "d963ae31",
   "metadata": {},
   "outputs": [
    {
     "data": {
      "text/plain": [
       "['Singapore, Singapore',\n",
       " 'Beijing, China (Mainland)',\n",
       " 'Philadelphia, United States',\n",
       " 'Beijing, China (Mainland)',\n",
       " 'Edinburgh, United Kingdom',\n",
       " 'Lausanne, Switzerland',\n",
       " 'Princeton, United States',\n",
       " 'New Haven, United States',\n",
       " 'Singapore, Singapore',\n",
       " 'Ithaca, United States']"
      ]
     },
     "execution_count": 7,
     "metadata": {},
     "output_type": "execute_result"
    }
   ],
   "source": [
    "address=[]\n",
    "for data in line1:\n",
    "    #get the text data\n",
    "    temp=data.text\n",
    "    address.append(temp)\n",
    "address=address[10:]\n",
    "address"
   ]
  },
  {
   "cell_type": "code",
   "execution_count": 8,
   "id": "27f354a7",
   "metadata": {},
   "outputs": [
    {
     "data": {
      "text/plain": [
       "[<selenium.webdriver.remote.webelement.WebElement (session=\"c99107ca6856e0869825bdf98f18eb57\", element=\"2eb80af6-9016-4f6e-b80f-65531f4cf9d4\")>,\n",
       " <selenium.webdriver.remote.webelement.WebElement (session=\"c99107ca6856e0869825bdf98f18eb57\", element=\"6e2c3206-b7e2-42b9-8882-b9db1932dc5f\")>,\n",
       " <selenium.webdriver.remote.webelement.WebElement (session=\"c99107ca6856e0869825bdf98f18eb57\", element=\"94c37b48-95a4-49f3-87ef-2cbd60425030\")>,\n",
       " <selenium.webdriver.remote.webelement.WebElement (session=\"c99107ca6856e0869825bdf98f18eb57\", element=\"b175f574-3826-406a-a668-acc29a1b6e50\")>,\n",
       " <selenium.webdriver.remote.webelement.WebElement (session=\"c99107ca6856e0869825bdf98f18eb57\", element=\"6fe7ea63-2799-4d97-b868-03d9784bd3a6\")>,\n",
       " <selenium.webdriver.remote.webelement.WebElement (session=\"c99107ca6856e0869825bdf98f18eb57\", element=\"6b351096-e93f-486f-b333-807a79465549\")>,\n",
       " <selenium.webdriver.remote.webelement.WebElement (session=\"c99107ca6856e0869825bdf98f18eb57\", element=\"e81e3e8b-6c9a-41a2-89fe-81085c46c5b0\")>,\n",
       " <selenium.webdriver.remote.webelement.WebElement (session=\"c99107ca6856e0869825bdf98f18eb57\", element=\"c103272a-a2f9-43f6-a8a7-0d045d98701c\")>,\n",
       " <selenium.webdriver.remote.webelement.WebElement (session=\"c99107ca6856e0869825bdf98f18eb57\", element=\"13318a0b-6e73-471c-b762-ebd8af722389\")>,\n",
       " <selenium.webdriver.remote.webelement.WebElement (session=\"c99107ca6856e0869825bdf98f18eb57\", element=\"5bc7d748-1efc-4262-8172-a33b56dc4847\")>]"
      ]
     },
     "execution_count": 8,
     "metadata": {},
     "output_type": "execute_result"
    }
   ],
   "source": [
    "line2=browser.find_elements(\"xpath\",\"//div[@class='_univ-rank ']\")\n",
    "line2"
   ]
  },
  {
   "cell_type": "code",
   "execution_count": 9,
   "id": "2f9b1df9",
   "metadata": {},
   "outputs": [
    {
     "data": {
      "text/plain": [
       "['11', '12', '13', '14', '15', '=16', '=16', '18', '19', '20']"
      ]
     },
     "execution_count": 9,
     "metadata": {},
     "output_type": "execute_result"
    }
   ],
   "source": [
    "Rank=[]\n",
    "for data in line2:\n",
    "    #get the text data\n",
    "    temp=data.text\n",
    "    Rank.append(temp)\n",
    "Rank"
   ]
  },
  {
   "cell_type": "code",
   "execution_count": 10,
   "id": "36f70a57",
   "metadata": {},
   "outputs": [
    {
     "data": {
      "text/plain": [
       "[<selenium.webdriver.remote.webelement.WebElement (session=\"c99107ca6856e0869825bdf98f18eb57\", element=\"523a5b4f-8a46-4871-81ec-a5f9392ff254\")>,\n",
       " <selenium.webdriver.remote.webelement.WebElement (session=\"c99107ca6856e0869825bdf98f18eb57\", element=\"f27a56f4-d408-4a4d-9286-e84b41236197\")>,\n",
       " <selenium.webdriver.remote.webelement.WebElement (session=\"c99107ca6856e0869825bdf98f18eb57\", element=\"6e64c015-17c9-4727-965b-11c88053e6d2\")>,\n",
       " <selenium.webdriver.remote.webelement.WebElement (session=\"c99107ca6856e0869825bdf98f18eb57\", element=\"661bd2c5-75a6-44b3-be6e-7c2856c2a415\")>,\n",
       " <selenium.webdriver.remote.webelement.WebElement (session=\"c99107ca6856e0869825bdf98f18eb57\", element=\"f1f3224a-0aea-4b96-8282-076fc88d74f0\")>,\n",
       " <selenium.webdriver.remote.webelement.WebElement (session=\"c99107ca6856e0869825bdf98f18eb57\", element=\"94cb8482-8d59-46ea-b66a-86823c0e4aab\")>,\n",
       " <selenium.webdriver.remote.webelement.WebElement (session=\"c99107ca6856e0869825bdf98f18eb57\", element=\"3e762b19-2fb4-417c-9a08-c70e351f8e11\")>,\n",
       " <selenium.webdriver.remote.webelement.WebElement (session=\"c99107ca6856e0869825bdf98f18eb57\", element=\"7c041456-5624-4b08-9362-6f89c9323df2\")>,\n",
       " <selenium.webdriver.remote.webelement.WebElement (session=\"c99107ca6856e0869825bdf98f18eb57\", element=\"b30f8c96-f360-4320-b9ac-ba23e3eafbdb\")>]"
      ]
     },
     "execution_count": 10,
     "metadata": {},
     "output_type": "execute_result"
    }
   ],
   "source": [
    "# GET EACH COLLEGE SPECIFICATION HEADERS\n",
    "line3=browser.find_elements(\"xpath\",\"//div[@class='_click-function_ind']\")\n",
    "line3"
   ]
  },
  {
   "cell_type": "code",
   "execution_count": 11,
   "id": "e2eeafe7",
   "metadata": {},
   "outputs": [
    {
     "data": {
      "text/plain": [
       "['Overall Score',\n",
       " 'Academic Reputation',\n",
       " 'Employer Reputation',\n",
       " 'Citations per Faculty',\n",
       " 'Faculty Student Ratio',\n",
       " 'International Students Ratio',\n",
       " 'International Faculty Ratio',\n",
       " 'International Research Network\\nUnweighted',\n",
       " 'Employment Outcomes\\nUnweighted']"
      ]
     },
     "execution_count": 11,
     "metadata": {},
     "output_type": "execute_result"
    }
   ],
   "source": [
    "#PARSING DATA\n",
    "column=[]\n",
    "for data in line3:\n",
    "    #get the text data\n",
    "    temp=data.text\n",
    "    column.append(temp)\n",
    "column\n"
   ]
  },
  {
   "cell_type": "code",
   "execution_count": 12,
   "id": "b084acb6",
   "metadata": {},
   "outputs": [
    {
     "data": {
      "text/plain": [
       "[<selenium.webdriver.remote.webelement.WebElement (session=\"c99107ca6856e0869825bdf98f18eb57\", element=\"be911546-a2e9-4b1f-ba4b-5fd4be79e1c5\")>,\n",
       " <selenium.webdriver.remote.webelement.WebElement (session=\"c99107ca6856e0869825bdf98f18eb57\", element=\"dd370941-85f1-400b-81ba-5841e25b012e\")>,\n",
       " <selenium.webdriver.remote.webelement.WebElement (session=\"c99107ca6856e0869825bdf98f18eb57\", element=\"e08709b0-4894-4ec1-b2a4-8a6fab4b518b\")>,\n",
       " <selenium.webdriver.remote.webelement.WebElement (session=\"c99107ca6856e0869825bdf98f18eb57\", element=\"62a94f4d-d834-4657-8b79-c68ea32b15f5\")>,\n",
       " <selenium.webdriver.remote.webelement.WebElement (session=\"c99107ca6856e0869825bdf98f18eb57\", element=\"a8a76517-4833-4cb7-ab45-0ccf3224b987\")>,\n",
       " <selenium.webdriver.remote.webelement.WebElement (session=\"c99107ca6856e0869825bdf98f18eb57\", element=\"b46a3668-0f12-4be1-a1c1-4794adab5968\")>,\n",
       " <selenium.webdriver.remote.webelement.WebElement (session=\"c99107ca6856e0869825bdf98f18eb57\", element=\"280f15a5-59f5-4c9b-bac9-c38b2dad91d4\")>,\n",
       " <selenium.webdriver.remote.webelement.WebElement (session=\"c99107ca6856e0869825bdf98f18eb57\", element=\"5df0d33f-abc1-47ca-a018-b2eb4efb894f\")>,\n",
       " <selenium.webdriver.remote.webelement.WebElement (session=\"c99107ca6856e0869825bdf98f18eb57\", element=\"451b6161-fb60-4a16-a3c2-685bd473e538\")>,\n",
       " <selenium.webdriver.remote.webelement.WebElement (session=\"c99107ca6856e0869825bdf98f18eb57\", element=\"cfb4f370-3b83-45f8-9b81-8b09a76fb9fa\")>,\n",
       " <selenium.webdriver.remote.webelement.WebElement (session=\"c99107ca6856e0869825bdf98f18eb57\", element=\"49b96461-ff4c-4236-8927-c84e3f77c488\")>,\n",
       " <selenium.webdriver.remote.webelement.WebElement (session=\"c99107ca6856e0869825bdf98f18eb57\", element=\"01690f2e-bebe-49f3-abd3-3ef455d9a7e8\")>,\n",
       " <selenium.webdriver.remote.webelement.WebElement (session=\"c99107ca6856e0869825bdf98f18eb57\", element=\"3f819bc3-0efe-4dbb-adf0-d66ac4760d58\")>,\n",
       " <selenium.webdriver.remote.webelement.WebElement (session=\"c99107ca6856e0869825bdf98f18eb57\", element=\"0cb1fdee-3f77-4ad1-b23e-d029b8221970\")>,\n",
       " <selenium.webdriver.remote.webelement.WebElement (session=\"c99107ca6856e0869825bdf98f18eb57\", element=\"7b15ce2f-e552-477d-8813-ee29bbe3bb38\")>,\n",
       " <selenium.webdriver.remote.webelement.WebElement (session=\"c99107ca6856e0869825bdf98f18eb57\", element=\"7a325029-d883-4773-b73e-351184300f3d\")>,\n",
       " <selenium.webdriver.remote.webelement.WebElement (session=\"c99107ca6856e0869825bdf98f18eb57\", element=\"be8ce668-3d08-402a-8441-fd8429e8a345\")>,\n",
       " <selenium.webdriver.remote.webelement.WebElement (session=\"c99107ca6856e0869825bdf98f18eb57\", element=\"090a886e-b6d5-486a-8971-ea9bd0489071\")>,\n",
       " <selenium.webdriver.remote.webelement.WebElement (session=\"c99107ca6856e0869825bdf98f18eb57\", element=\"96daba39-e5fa-4cee-a30e-a7e4b32682ff\")>,\n",
       " <selenium.webdriver.remote.webelement.WebElement (session=\"c99107ca6856e0869825bdf98f18eb57\", element=\"9e936083-2a11-4647-a6aa-78fde82ebb36\")>,\n",
       " <selenium.webdriver.remote.webelement.WebElement (session=\"c99107ca6856e0869825bdf98f18eb57\", element=\"e8abc4a1-0cea-4450-9235-c6991585eef5\")>,\n",
       " <selenium.webdriver.remote.webelement.WebElement (session=\"c99107ca6856e0869825bdf98f18eb57\", element=\"d14e9ed5-9655-4c90-8112-121c3267c722\")>,\n",
       " <selenium.webdriver.remote.webelement.WebElement (session=\"c99107ca6856e0869825bdf98f18eb57\", element=\"f4445e0f-8804-464f-85b5-7f0bbb3a2e23\")>,\n",
       " <selenium.webdriver.remote.webelement.WebElement (session=\"c99107ca6856e0869825bdf98f18eb57\", element=\"152952a0-decc-4a10-86a0-90b9b91559e5\")>,\n",
       " <selenium.webdriver.remote.webelement.WebElement (session=\"c99107ca6856e0869825bdf98f18eb57\", element=\"493b6276-7817-4ddf-ba03-965e20dbd516\")>,\n",
       " <selenium.webdriver.remote.webelement.WebElement (session=\"c99107ca6856e0869825bdf98f18eb57\", element=\"f3ed72d5-980c-4c12-938c-6810d89284c2\")>,\n",
       " <selenium.webdriver.remote.webelement.WebElement (session=\"c99107ca6856e0869825bdf98f18eb57\", element=\"4eb57653-9d09-4436-b65b-8ea3289a4ab6\")>,\n",
       " <selenium.webdriver.remote.webelement.WebElement (session=\"c99107ca6856e0869825bdf98f18eb57\", element=\"a19998af-ba4f-4d4e-a6e8-f448dd5cf480\")>,\n",
       " <selenium.webdriver.remote.webelement.WebElement (session=\"c99107ca6856e0869825bdf98f18eb57\", element=\"9333fb23-1cc9-4a9f-a9f7-6755488871cd\")>,\n",
       " <selenium.webdriver.remote.webelement.WebElement (session=\"c99107ca6856e0869825bdf98f18eb57\", element=\"9d11e974-3b35-482c-9b12-bc3416736408\")>,\n",
       " <selenium.webdriver.remote.webelement.WebElement (session=\"c99107ca6856e0869825bdf98f18eb57\", element=\"8de2ebe7-bdd6-48a3-b930-b067e4cbccc8\")>,\n",
       " <selenium.webdriver.remote.webelement.WebElement (session=\"c99107ca6856e0869825bdf98f18eb57\", element=\"583e35fc-8aa7-4a67-a45c-00af949507f8\")>,\n",
       " <selenium.webdriver.remote.webelement.WebElement (session=\"c99107ca6856e0869825bdf98f18eb57\", element=\"a56c6003-2f00-4745-afdd-e04face2ce5f\")>,\n",
       " <selenium.webdriver.remote.webelement.WebElement (session=\"c99107ca6856e0869825bdf98f18eb57\", element=\"5c7622eb-6928-43cf-b67a-9f3c3ef673fa\")>,\n",
       " <selenium.webdriver.remote.webelement.WebElement (session=\"c99107ca6856e0869825bdf98f18eb57\", element=\"a2dcab2a-fcfc-4db1-971c-e6a04199f857\")>,\n",
       " <selenium.webdriver.remote.webelement.WebElement (session=\"c99107ca6856e0869825bdf98f18eb57\", element=\"61247d49-915f-40be-aecc-fb562477fe7d\")>,\n",
       " <selenium.webdriver.remote.webelement.WebElement (session=\"c99107ca6856e0869825bdf98f18eb57\", element=\"c41c3b84-5ca1-482d-a032-ea8ba5604db5\")>,\n",
       " <selenium.webdriver.remote.webelement.WebElement (session=\"c99107ca6856e0869825bdf98f18eb57\", element=\"602ad72f-eeee-452a-a34e-fcebfe743d14\")>,\n",
       " <selenium.webdriver.remote.webelement.WebElement (session=\"c99107ca6856e0869825bdf98f18eb57\", element=\"d86db9dd-0ac3-452a-802b-e8eb1a70ae11\")>,\n",
       " <selenium.webdriver.remote.webelement.WebElement (session=\"c99107ca6856e0869825bdf98f18eb57\", element=\"acb95432-28b5-4a27-8b3d-4a0f70e399f6\")>,\n",
       " <selenium.webdriver.remote.webelement.WebElement (session=\"c99107ca6856e0869825bdf98f18eb57\", element=\"6f2077d2-b2cb-4b51-bb99-bf248dfa1b20\")>,\n",
       " <selenium.webdriver.remote.webelement.WebElement (session=\"c99107ca6856e0869825bdf98f18eb57\", element=\"c31dc4d5-e51f-4462-b140-6ec2146af7ce\")>,\n",
       " <selenium.webdriver.remote.webelement.WebElement (session=\"c99107ca6856e0869825bdf98f18eb57\", element=\"1838c0b3-2186-4305-bd86-0179e3341ac1\")>,\n",
       " <selenium.webdriver.remote.webelement.WebElement (session=\"c99107ca6856e0869825bdf98f18eb57\", element=\"01156aa4-0805-47a6-852d-8d08c628b42c\")>,\n",
       " <selenium.webdriver.remote.webelement.WebElement (session=\"c99107ca6856e0869825bdf98f18eb57\", element=\"776b2255-4870-4200-9fa3-48091883b281\")>,\n",
       " <selenium.webdriver.remote.webelement.WebElement (session=\"c99107ca6856e0869825bdf98f18eb57\", element=\"dfd04174-9d4b-43bb-8dc4-cb8509cf08d8\")>,\n",
       " <selenium.webdriver.remote.webelement.WebElement (session=\"c99107ca6856e0869825bdf98f18eb57\", element=\"f461c7c8-4947-4ba9-88c1-09a57ce410ea\")>,\n",
       " <selenium.webdriver.remote.webelement.WebElement (session=\"c99107ca6856e0869825bdf98f18eb57\", element=\"1dbfec3f-4e88-4507-a06b-a82bd9e4be63\")>,\n",
       " <selenium.webdriver.remote.webelement.WebElement (session=\"c99107ca6856e0869825bdf98f18eb57\", element=\"610597c6-1ba0-4275-8fa3-210ec7db4e39\")>,\n",
       " <selenium.webdriver.remote.webelement.WebElement (session=\"c99107ca6856e0869825bdf98f18eb57\", element=\"d1ae40a4-d1ea-4854-b35f-12c654345d41\")>,\n",
       " <selenium.webdriver.remote.webelement.WebElement (session=\"c99107ca6856e0869825bdf98f18eb57\", element=\"5c12937c-41a0-41eb-b538-653074a2b2f0\")>,\n",
       " <selenium.webdriver.remote.webelement.WebElement (session=\"c99107ca6856e0869825bdf98f18eb57\", element=\"f7711179-a3b1-4d2c-9f95-86b237200f4c\")>,\n",
       " <selenium.webdriver.remote.webelement.WebElement (session=\"c99107ca6856e0869825bdf98f18eb57\", element=\"54f302dd-b993-448f-8d02-17dd1a78ea4f\")>,\n",
       " <selenium.webdriver.remote.webelement.WebElement (session=\"c99107ca6856e0869825bdf98f18eb57\", element=\"cdf331ac-2302-4634-85db-467b085ecbf9\")>,\n",
       " <selenium.webdriver.remote.webelement.WebElement (session=\"c99107ca6856e0869825bdf98f18eb57\", element=\"ecee463e-a0bd-49d7-a659-0c3d0d23afb2\")>,\n",
       " <selenium.webdriver.remote.webelement.WebElement (session=\"c99107ca6856e0869825bdf98f18eb57\", element=\"c4a743b1-6d2d-41b4-96fc-121d5271ddd6\")>,\n",
       " <selenium.webdriver.remote.webelement.WebElement (session=\"c99107ca6856e0869825bdf98f18eb57\", element=\"41b0ffc4-786a-4c7d-8d51-6cb130ceb2cc\")>,\n",
       " <selenium.webdriver.remote.webelement.WebElement (session=\"c99107ca6856e0869825bdf98f18eb57\", element=\"366b503d-6121-449e-b4d3-f5570badc740\")>,\n",
       " <selenium.webdriver.remote.webelement.WebElement (session=\"c99107ca6856e0869825bdf98f18eb57\", element=\"8fe363ea-5b6f-4e5b-a685-ae7346e130bf\")>,\n",
       " <selenium.webdriver.remote.webelement.WebElement (session=\"c99107ca6856e0869825bdf98f18eb57\", element=\"1925a11b-c1c1-45d6-83f3-f510eb16cfdc\")>,\n",
       " <selenium.webdriver.remote.webelement.WebElement (session=\"c99107ca6856e0869825bdf98f18eb57\", element=\"acb44d23-617b-4c3f-aa32-4db007fd837f\")>,\n",
       " <selenium.webdriver.remote.webelement.WebElement (session=\"c99107ca6856e0869825bdf98f18eb57\", element=\"a815ff43-5c38-4cf9-9fa5-7af0655d4b02\")>,\n",
       " <selenium.webdriver.remote.webelement.WebElement (session=\"c99107ca6856e0869825bdf98f18eb57\", element=\"91663ef4-0e99-4fa6-975b-96d2988f7ec2\")>,\n",
       " <selenium.webdriver.remote.webelement.WebElement (session=\"c99107ca6856e0869825bdf98f18eb57\", element=\"c6d02b5f-ee11-482d-92c2-aa9a9bd7ec84\")>,\n",
       " <selenium.webdriver.remote.webelement.WebElement (session=\"c99107ca6856e0869825bdf98f18eb57\", element=\"5accd6bd-d76d-4302-8a3c-b908f216f9ad\")>,\n",
       " <selenium.webdriver.remote.webelement.WebElement (session=\"c99107ca6856e0869825bdf98f18eb57\", element=\"e3afa13d-a58f-491a-a06f-e91ee55844d4\")>,\n",
       " <selenium.webdriver.remote.webelement.WebElement (session=\"c99107ca6856e0869825bdf98f18eb57\", element=\"f2e9188d-aca8-4155-84a1-8a6fdb4c06de\")>,\n",
       " <selenium.webdriver.remote.webelement.WebElement (session=\"c99107ca6856e0869825bdf98f18eb57\", element=\"377cdaea-44b7-474c-a790-5b25f2cfa0f9\")>,\n",
       " <selenium.webdriver.remote.webelement.WebElement (session=\"c99107ca6856e0869825bdf98f18eb57\", element=\"4b416753-0b99-40ec-84a9-bac63ed4d4c4\")>,\n",
       " <selenium.webdriver.remote.webelement.WebElement (session=\"c99107ca6856e0869825bdf98f18eb57\", element=\"5d16d5bb-853e-4c40-acdc-23e5f1d37373\")>,\n",
       " <selenium.webdriver.remote.webelement.WebElement (session=\"c99107ca6856e0869825bdf98f18eb57\", element=\"b3a96b1f-0f0e-48e8-aeab-02c3bd924e0d\")>,\n",
       " <selenium.webdriver.remote.webelement.WebElement (session=\"c99107ca6856e0869825bdf98f18eb57\", element=\"36c07de5-4d2b-4242-a55b-2ef9a4c93dd6\")>,\n",
       " <selenium.webdriver.remote.webelement.WebElement (session=\"c99107ca6856e0869825bdf98f18eb57\", element=\"e7461cb8-9d8e-4076-979a-88e4dd20a73e\")>,\n",
       " <selenium.webdriver.remote.webelement.WebElement (session=\"c99107ca6856e0869825bdf98f18eb57\", element=\"a09eaf32-de32-40f4-89d8-c0e2a91d33e2\")>,\n",
       " <selenium.webdriver.remote.webelement.WebElement (session=\"c99107ca6856e0869825bdf98f18eb57\", element=\"042f6a5d-2905-469a-b860-5d5192f5f66d\")>,\n",
       " <selenium.webdriver.remote.webelement.WebElement (session=\"c99107ca6856e0869825bdf98f18eb57\", element=\"050562c9-fc07-4fbb-a0de-a4147b393f44\")>,\n",
       " <selenium.webdriver.remote.webelement.WebElement (session=\"c99107ca6856e0869825bdf98f18eb57\", element=\"3655aca2-47b7-4802-ba77-53a403ebc1f2\")>,\n",
       " <selenium.webdriver.remote.webelement.WebElement (session=\"c99107ca6856e0869825bdf98f18eb57\", element=\"186aebe7-a906-4bbb-b554-2f8fc61c9dbd\")>,\n",
       " <selenium.webdriver.remote.webelement.WebElement (session=\"c99107ca6856e0869825bdf98f18eb57\", element=\"a17ee72c-0341-4390-9a18-2997f4b2870e\")>,\n",
       " <selenium.webdriver.remote.webelement.WebElement (session=\"c99107ca6856e0869825bdf98f18eb57\", element=\"91d431ae-ff50-4610-ad57-f126c588313b\")>,\n",
       " <selenium.webdriver.remote.webelement.WebElement (session=\"c99107ca6856e0869825bdf98f18eb57\", element=\"eb667899-f4ee-4267-b621-673ce0a9071f\")>,\n",
       " <selenium.webdriver.remote.webelement.WebElement (session=\"c99107ca6856e0869825bdf98f18eb57\", element=\"7ea749cf-c805-483f-83d6-a473e5bb5d82\")>,\n",
       " <selenium.webdriver.remote.webelement.WebElement (session=\"c99107ca6856e0869825bdf98f18eb57\", element=\"9cdb7ebc-eb3d-4fa9-944d-31a066f7bc0f\")>,\n",
       " <selenium.webdriver.remote.webelement.WebElement (session=\"c99107ca6856e0869825bdf98f18eb57\", element=\"2af2ab9c-7cf5-48f2-ac7f-0e0d81e8e316\")>,\n",
       " <selenium.webdriver.remote.webelement.WebElement (session=\"c99107ca6856e0869825bdf98f18eb57\", element=\"60e61fa2-d5e5-40c7-bb46-66801b4d32be\")>,\n",
       " <selenium.webdriver.remote.webelement.WebElement (session=\"c99107ca6856e0869825bdf98f18eb57\", element=\"bc8c7921-4cfa-4beb-bdc7-36ec472fd837\")>,\n",
       " <selenium.webdriver.remote.webelement.WebElement (session=\"c99107ca6856e0869825bdf98f18eb57\", element=\"64468f9c-262d-4eba-94ad-9cdfc3cff15c\")>,\n",
       " <selenium.webdriver.remote.webelement.WebElement (session=\"c99107ca6856e0869825bdf98f18eb57\", element=\"998419bc-0775-4b5e-b79a-82f45741239f\")>,\n",
       " <selenium.webdriver.remote.webelement.WebElement (session=\"c99107ca6856e0869825bdf98f18eb57\", element=\"fe2910bc-6906-45c9-9a62-cd4d4e9d0f73\")>,\n",
       " <selenium.webdriver.remote.webelement.WebElement (session=\"c99107ca6856e0869825bdf98f18eb57\", element=\"8bc6807c-e750-4610-abe5-56f82dda5fee\")>,\n",
       " <selenium.webdriver.remote.webelement.WebElement (session=\"c99107ca6856e0869825bdf98f18eb57\", element=\"13cc784d-eed9-4991-b0ea-9425c9e74eac\")>,\n",
       " <selenium.webdriver.remote.webelement.WebElement (session=\"c99107ca6856e0869825bdf98f18eb57\", element=\"5b567614-7d48-4253-9b48-c1686eaf6572\")>,\n",
       " <selenium.webdriver.remote.webelement.WebElement (session=\"c99107ca6856e0869825bdf98f18eb57\", element=\"41002fa8-e635-4ba7-b4b8-52e9c621498b\")>,\n",
       " <selenium.webdriver.remote.webelement.WebElement (session=\"c99107ca6856e0869825bdf98f18eb57\", element=\"81662c6b-2905-4644-a8b5-81ff990ae7b7\")>,\n",
       " <selenium.webdriver.remote.webelement.WebElement (session=\"c99107ca6856e0869825bdf98f18eb57\", element=\"87571f49-5835-41fb-a69c-e2eb579c8b02\")>,\n",
       " <selenium.webdriver.remote.webelement.WebElement (session=\"c99107ca6856e0869825bdf98f18eb57\", element=\"c845f56a-89ff-4dde-b9fc-8d01af88338e\")>,\n",
       " <selenium.webdriver.remote.webelement.WebElement (session=\"c99107ca6856e0869825bdf98f18eb57\", element=\"8bea98f5-d226-47d3-86dc-cf9315c27848\")>,\n",
       " <selenium.webdriver.remote.webelement.WebElement (session=\"c99107ca6856e0869825bdf98f18eb57\", element=\"44d9e4af-f72c-4be6-af43-f592d273f62a\")>,\n",
       " <selenium.webdriver.remote.webelement.WebElement (session=\"c99107ca6856e0869825bdf98f18eb57\", element=\"bca15201-4359-4ddf-99f4-5ecb8835f100\")>,\n",
       " <selenium.webdriver.remote.webelement.WebElement (session=\"c99107ca6856e0869825bdf98f18eb57\", element=\"d74be257-30cd-4a94-a328-f4044a0ce6f5\")>]"
      ]
     },
     "execution_count": 12,
     "metadata": {},
     "output_type": "execute_result"
    }
   ],
   "source": [
    "line4=browser.find_elements(\"xpath\",\"//div[@class='td-wrap-in']\")\n",
    "line4"
   ]
  },
  {
   "cell_type": "code",
   "execution_count": 16,
   "id": "d262a378",
   "metadata": {},
   "outputs": [
    {
     "data": {
      "text/plain": [
       "['89.5', '98', '97.2', '70.1', '81.1', '99.5', '98.9', '98.7', '54.3']"
      ]
     },
     "execution_count": 16,
     "metadata": {},
     "output_type": "execute_result"
    }
   ],
   "source": [
    "#PARSING DATA\n",
    "value=[]\n",
    "for data in line4:\n",
    "    #get the text data\n",
    "    temp=data.text\n",
    "    value.append(temp)\n",
    "value_h=value[41:50]\n",
    "value_h\n"
   ]
  },
  {
   "cell_type": "code",
   "execution_count": 17,
   "id": "78febc57",
   "metadata": {},
   "outputs": [
    {
     "data": {
      "text/plain": [
       "{'Name': 'The University of Edinburgh',\n",
       " 'Location': 'Edinburgh, United Kingdom',\n",
       " 'Rank': '15',\n",
       " 'Overall Score': '89.5',\n",
       " 'Academic Reputation': '98',\n",
       " 'Employer Reputation': '97.2',\n",
       " 'Citations per Faculty': '70.1',\n",
       " 'Faculty Student Ratio': '81.1',\n",
       " 'International Students Ratio': '99.5',\n",
       " 'International Faculty Ratio': '98.9',\n",
       " 'International Research Network\\nUnweighted': '98.7',\n",
       " 'Employment Outcomes\\nUnweighted': '54.3'}"
      ]
     },
     "execution_count": 17,
     "metadata": {},
     "output_type": "execute_result"
    }
   ],
   "source": [
    "d={}\n",
    "d['Name']=value[40]\n",
    "d['Location']=address[4]\n",
    "d['Rank']=Rank[4]\n",
    "for i in range(len(column)):\n",
    "    d[column[i]]=value_h[i]\n",
    "d"
   ]
  },
  {
   "cell_type": "code",
   "execution_count": 18,
   "id": "1b869fa4",
   "metadata": {},
   "outputs": [
    {
     "data": {
      "text/plain": [
       "'{\"Name\": \"The University of Edinburgh\", \"Location\": \"Edinburgh, United Kingdom\", \"Rank\": \"15\", \"Overall Score\": \"89.5\", \"Academic Reputation\": \"98\", \"Employer Reputation\": \"97.2\", \"Citations per Faculty\": \"70.1\", \"Faculty Student Ratio\": \"81.1\", \"International Students Ratio\": \"99.5\", \"International Faculty Ratio\": \"98.9\", \"International Research Network\\\\nUnweighted\": \"98.7\", \"Employment Outcomes\\\\nUnweighted\": \"54.3\"}'"
      ]
     },
     "execution_count": 18,
     "metadata": {},
     "output_type": "execute_result"
    }
   ],
   "source": [
    "s1=json.dumps(d)\n",
    "s1"
   ]
  },
  {
   "cell_type": "code",
   "execution_count": 19,
   "id": "ab6121f9",
   "metadata": {},
   "outputs": [],
   "source": [
    "with open('The University of Edinburgh.json','w') as f:\n",
    "    json.dump(d,f)"
   ]
  },
  {
   "cell_type": "code",
   "execution_count": null,
   "id": "8e804905",
   "metadata": {},
   "outputs": [],
   "source": []
  }
 ],
 "metadata": {
  "kernelspec": {
   "display_name": "Python 3.9.12 ('base')",
   "language": "python",
   "name": "python3"
  },
  "language_info": {
   "codemirror_mode": {
    "name": "ipython",
    "version": 3
   },
   "file_extension": ".py",
   "mimetype": "text/x-python",
   "name": "python",
   "nbconvert_exporter": "python",
   "pygments_lexer": "ipython3",
   "version": "3.9.12"
  },
  "vscode": {
   "interpreter": {
    "hash": "ad2bdc8ecc057115af97d19610ffacc2b4e99fae6737bb82f5d7fb13d2f2c186"
   }
  }
 },
 "nbformat": 4,
 "nbformat_minor": 5
}
