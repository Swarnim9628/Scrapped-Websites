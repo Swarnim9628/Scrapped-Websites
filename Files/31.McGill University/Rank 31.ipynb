{
 "cells": [
  {
   "cell_type": "code",
   "execution_count": 1,
   "id": "d4e726e6",
   "metadata": {},
   "outputs": [],
   "source": [
    "from selenium import webdriver\n",
    "from selenium.webdriver.chrome.service import Service\n",
    "import pandas as pd\n",
    "import json"
   ]
  },
  {
   "cell_type": "code",
   "execution_count": 2,
   "id": "02f864ac",
   "metadata": {},
   "outputs": [],
   "source": [
    "path = Service('C:\\chromedriver.exe')"
   ]
  },
  {
   "cell_type": "code",
   "execution_count": 3,
   "id": "93b847a6",
   "metadata": {},
   "outputs": [],
   "source": [
    "# set path for the driver\n",
    "browser = webdriver.Chrome(service = path)"
   ]
  },
  {
   "cell_type": "code",
   "execution_count": 4,
   "id": "6579fbf0",
   "metadata": {},
   "outputs": [],
   "source": [
    "url = \"https://www.topuniversities.com/university-rankings/world-university-rankings/2023\""
   ]
  },
  {
   "cell_type": "code",
   "execution_count": 5,
   "id": "2b2bdbe1",
   "metadata": {},
   "outputs": [],
   "source": [
    "# open the page url ion chrome\n",
    "browser.get(url)"
   ]
  },
  {
   "cell_type": "code",
   "execution_count": 6,
   "id": "6778bc70",
   "metadata": {},
   "outputs": [
    {
     "data": {
      "text/plain": [
       "[<selenium.webdriver.remote.webelement.WebElement (session=\"7549dfe8bdae6c759a4659316031df00\", element=\"1fbb337f-a1e1-4146-ace3-3291fe4b3564\")>,\n",
       " <selenium.webdriver.remote.webelement.WebElement (session=\"7549dfe8bdae6c759a4659316031df00\", element=\"bef903e3-bd5b-4224-b42f-8704cb7feb43\")>,\n",
       " <selenium.webdriver.remote.webelement.WebElement (session=\"7549dfe8bdae6c759a4659316031df00\", element=\"ac525e22-f109-417d-a9a3-5a8eab0ef238\")>,\n",
       " <selenium.webdriver.remote.webelement.WebElement (session=\"7549dfe8bdae6c759a4659316031df00\", element=\"284b991b-c27f-4309-a5c9-0546d5163773\")>,\n",
       " <selenium.webdriver.remote.webelement.WebElement (session=\"7549dfe8bdae6c759a4659316031df00\", element=\"c3b7b701-46f0-4bc7-92b2-81148a67a1b3\")>,\n",
       " <selenium.webdriver.remote.webelement.WebElement (session=\"7549dfe8bdae6c759a4659316031df00\", element=\"9dcb8edc-ee24-4836-baa4-22ea6c15561a\")>,\n",
       " <selenium.webdriver.remote.webelement.WebElement (session=\"7549dfe8bdae6c759a4659316031df00\", element=\"2d993a12-d3e6-403f-9c03-f44227b2cb9a\")>,\n",
       " <selenium.webdriver.remote.webelement.WebElement (session=\"7549dfe8bdae6c759a4659316031df00\", element=\"9d5a8cfc-1fbc-424f-a917-c832fb27e99e\")>,\n",
       " <selenium.webdriver.remote.webelement.WebElement (session=\"7549dfe8bdae6c759a4659316031df00\", element=\"258081dc-0fa7-4bfc-8d0d-3491ed0e6d78\")>,\n",
       " <selenium.webdriver.remote.webelement.WebElement (session=\"7549dfe8bdae6c759a4659316031df00\", element=\"1dadd7f0-2d6b-4ebf-bacd-7b1571d82066\")>,\n",
       " <selenium.webdriver.remote.webelement.WebElement (session=\"7549dfe8bdae6c759a4659316031df00\", element=\"90784c3f-f501-46c3-88c8-e24fe1d370af\")>,\n",
       " <selenium.webdriver.remote.webelement.WebElement (session=\"7549dfe8bdae6c759a4659316031df00\", element=\"7f09fa14-8e0d-4799-bfe7-3b6562773bc6\")>,\n",
       " <selenium.webdriver.remote.webelement.WebElement (session=\"7549dfe8bdae6c759a4659316031df00\", element=\"acb04981-36b2-42f4-bf2e-96f9da2b3dc7\")>,\n",
       " <selenium.webdriver.remote.webelement.WebElement (session=\"7549dfe8bdae6c759a4659316031df00\", element=\"cf3a6050-afe5-499e-910f-30f8c02bdff5\")>,\n",
       " <selenium.webdriver.remote.webelement.WebElement (session=\"7549dfe8bdae6c759a4659316031df00\", element=\"c75c496d-544b-4090-977e-4e977321afef\")>,\n",
       " <selenium.webdriver.remote.webelement.WebElement (session=\"7549dfe8bdae6c759a4659316031df00\", element=\"e258e983-8727-40f2-9fdd-5ef05a9fb1f4\")>,\n",
       " <selenium.webdriver.remote.webelement.WebElement (session=\"7549dfe8bdae6c759a4659316031df00\", element=\"3ce1ccc3-1874-4c35-853d-1aabd42231f0\")>,\n",
       " <selenium.webdriver.remote.webelement.WebElement (session=\"7549dfe8bdae6c759a4659316031df00\", element=\"d887de3f-0e21-4143-958b-a91cf90c4308\")>,\n",
       " <selenium.webdriver.remote.webelement.WebElement (session=\"7549dfe8bdae6c759a4659316031df00\", element=\"94283db3-2237-49b7-9ee0-4a88e15c2d29\")>,\n",
       " <selenium.webdriver.remote.webelement.WebElement (session=\"7549dfe8bdae6c759a4659316031df00\", element=\"3538987b-88c4-4e68-b5bd-e9a012cee8ee\")>]"
      ]
     },
     "execution_count": 6,
     "metadata": {},
     "output_type": "execute_result"
    }
   ],
   "source": [
    "line1=browser.find_elements(\"xpath\",\"//div[@class='location ']\")\n",
    "line1"
   ]
  },
  {
   "cell_type": "code",
   "execution_count": 7,
   "id": "3c80d349",
   "metadata": {},
   "outputs": [
    {
     "data": {
      "text/plain": [
       "['Montreal, Canada',\n",
       " 'Evanston, United States',\n",
       " 'Parkville, Australia',\n",
       " 'Shanghai, China (Mainland)',\n",
       " 'Toronto, Canada',\n",
       " 'Kyoto, Japan',\n",
       " 'London, United Kingdom',\n",
       " 'Hong Kong SAR, Hong Kong SAR',\n",
       " 'New York City, United States',\n",
       " 'Hong Kong SAR, Hong Kong SAR']"
      ]
     },
     "execution_count": 7,
     "metadata": {},
     "output_type": "execute_result"
    }
   ],
   "source": [
    "address=[]\n",
    "for data in line1:\n",
    "    #get the text data\n",
    "    temp=data.text\n",
    "    address.append(temp)\n",
    "address=address[10:]\n",
    "address"
   ]
  },
  {
   "cell_type": "code",
   "execution_count": 8,
   "id": "adc3b4c4",
   "metadata": {},
   "outputs": [
    {
     "data": {
      "text/plain": [
       "[<selenium.webdriver.remote.webelement.WebElement (session=\"7549dfe8bdae6c759a4659316031df00\", element=\"62313328-df51-49f4-bb05-901b87383f40\")>,\n",
       " <selenium.webdriver.remote.webelement.WebElement (session=\"7549dfe8bdae6c759a4659316031df00\", element=\"470bf891-908d-4516-b06a-3401ff4cffd8\")>,\n",
       " <selenium.webdriver.remote.webelement.WebElement (session=\"7549dfe8bdae6c759a4659316031df00\", element=\"b8c4c88c-3573-4c98-9490-7468f6bf330e\")>,\n",
       " <selenium.webdriver.remote.webelement.WebElement (session=\"7549dfe8bdae6c759a4659316031df00\", element=\"f50487ec-7c0c-44d7-b286-1624140a3694\")>,\n",
       " <selenium.webdriver.remote.webelement.WebElement (session=\"7549dfe8bdae6c759a4659316031df00\", element=\"4eccc8e5-709c-4fe4-87a6-853684144aed\")>,\n",
       " <selenium.webdriver.remote.webelement.WebElement (session=\"7549dfe8bdae6c759a4659316031df00\", element=\"a946ea8d-e2f7-455e-a508-a0c4fa500655\")>,\n",
       " <selenium.webdriver.remote.webelement.WebElement (session=\"7549dfe8bdae6c759a4659316031df00\", element=\"06dc7f4d-6932-41c8-9510-607a786e693c\")>,\n",
       " <selenium.webdriver.remote.webelement.WebElement (session=\"7549dfe8bdae6c759a4659316031df00\", element=\"1d6846a7-226d-4e49-a355-61ad186f7e28\")>,\n",
       " <selenium.webdriver.remote.webelement.WebElement (session=\"7549dfe8bdae6c759a4659316031df00\", element=\"78ebfe7d-4def-4a4b-9329-69343e180c1e\")>,\n",
       " <selenium.webdriver.remote.webelement.WebElement (session=\"7549dfe8bdae6c759a4659316031df00\", element=\"d5443007-e2d7-4bf8-ac08-7a235c9bdbc6\")>]"
      ]
     },
     "execution_count": 8,
     "metadata": {},
     "output_type": "execute_result"
    }
   ],
   "source": [
    "line2=browser.find_elements(\"xpath\",\"//div[@class='_univ-rank ']\")\n",
    "line2"
   ]
  },
  {
   "cell_type": "code",
   "execution_count": 9,
   "id": "faadc8c1",
   "metadata": {},
   "outputs": [
    {
     "data": {
      "text/plain": [
       "['31', '32', '33', '=34', '=34', '36', '37', '38', '39', '40']"
      ]
     },
     "execution_count": 9,
     "metadata": {},
     "output_type": "execute_result"
    }
   ],
   "source": [
    "Rank=[]\n",
    "for data in line2:\n",
    "    #get the text data\n",
    "    temp=data.text\n",
    "    Rank.append(temp)\n",
    "Rank"
   ]
  },
  {
   "cell_type": "code",
   "execution_count": 10,
   "id": "487f0c32",
   "metadata": {},
   "outputs": [
    {
     "data": {
      "text/plain": [
       "[<selenium.webdriver.remote.webelement.WebElement (session=\"7549dfe8bdae6c759a4659316031df00\", element=\"fa440b22-e339-4522-88ba-335f66efe069\")>,\n",
       " <selenium.webdriver.remote.webelement.WebElement (session=\"7549dfe8bdae6c759a4659316031df00\", element=\"ccac3ca4-e3f4-405c-8b04-a04d13dd2f91\")>,\n",
       " <selenium.webdriver.remote.webelement.WebElement (session=\"7549dfe8bdae6c759a4659316031df00\", element=\"0da67acc-71c4-49d6-b88a-7ec49e5860fa\")>,\n",
       " <selenium.webdriver.remote.webelement.WebElement (session=\"7549dfe8bdae6c759a4659316031df00\", element=\"0751107e-2eed-4fb3-81de-4074471864e3\")>,\n",
       " <selenium.webdriver.remote.webelement.WebElement (session=\"7549dfe8bdae6c759a4659316031df00\", element=\"55b86c04-fade-4a07-ad3a-66c6f88caaa9\")>,\n",
       " <selenium.webdriver.remote.webelement.WebElement (session=\"7549dfe8bdae6c759a4659316031df00\", element=\"2deda008-1a7c-4364-ab22-14c6b6cfc134\")>,\n",
       " <selenium.webdriver.remote.webelement.WebElement (session=\"7549dfe8bdae6c759a4659316031df00\", element=\"9fe120c2-37ca-4e65-996f-45d8f390e61a\")>,\n",
       " <selenium.webdriver.remote.webelement.WebElement (session=\"7549dfe8bdae6c759a4659316031df00\", element=\"675af6c0-6726-40a2-9194-b2835613bdfa\")>,\n",
       " <selenium.webdriver.remote.webelement.WebElement (session=\"7549dfe8bdae6c759a4659316031df00\", element=\"a114f1e3-78b0-4c35-8bb5-55543493cf61\")>]"
      ]
     },
     "execution_count": 10,
     "metadata": {},
     "output_type": "execute_result"
    }
   ],
   "source": [
    "# GET EACH COLLEGE SPECIFICATION HEADERS\n",
    "line3=browser.find_elements(\"xpath\",\"//div[@class='_click-function_ind']\")\n",
    "line3"
   ]
  },
  {
   "cell_type": "code",
   "execution_count": 11,
   "id": "fecfc972",
   "metadata": {},
   "outputs": [
    {
     "data": {
      "text/plain": [
       "['Overall Score',\n",
       " 'Academic Reputation',\n",
       " 'Employer Reputation',\n",
       " 'Citations per Faculty',\n",
       " 'Faculty Student Ratio',\n",
       " 'International Students Ratio',\n",
       " 'International Faculty Ratio',\n",
       " 'International Research Network\\nUnweighted',\n",
       " 'Employment Outcomes\\nUnweighted']"
      ]
     },
     "execution_count": 11,
     "metadata": {},
     "output_type": "execute_result"
    }
   ],
   "source": [
    "#PARSING DATA\n",
    "column=[]\n",
    "for data in line3:\n",
    "    #get the text data\n",
    "    temp=data.text\n",
    "    column.append(temp)\n",
    "column"
   ]
  },
  {
   "cell_type": "code",
   "execution_count": 12,
   "id": "2d53cf86",
   "metadata": {},
   "outputs": [
    {
     "data": {
      "text/plain": [
       "[<selenium.webdriver.remote.webelement.WebElement (session=\"7549dfe8bdae6c759a4659316031df00\", element=\"96414276-6df6-4221-b22c-201d0e4fe155\")>,\n",
       " <selenium.webdriver.remote.webelement.WebElement (session=\"7549dfe8bdae6c759a4659316031df00\", element=\"0f96b7a2-3ba9-4f96-a66a-a65840a0f172\")>,\n",
       " <selenium.webdriver.remote.webelement.WebElement (session=\"7549dfe8bdae6c759a4659316031df00\", element=\"9720534d-ea0c-46a1-a575-6f5fa34cf60f\")>,\n",
       " <selenium.webdriver.remote.webelement.WebElement (session=\"7549dfe8bdae6c759a4659316031df00\", element=\"d5e36f06-08dc-40ec-b49a-13d0e66238dd\")>,\n",
       " <selenium.webdriver.remote.webelement.WebElement (session=\"7549dfe8bdae6c759a4659316031df00\", element=\"53c5626c-55d4-4d19-a3de-235c0e793aa5\")>,\n",
       " <selenium.webdriver.remote.webelement.WebElement (session=\"7549dfe8bdae6c759a4659316031df00\", element=\"767c2542-bfd8-4d85-a48b-2ca5e6744bd1\")>,\n",
       " <selenium.webdriver.remote.webelement.WebElement (session=\"7549dfe8bdae6c759a4659316031df00\", element=\"f3f7ddb2-9f58-40a6-8c56-c48cccacd946\")>,\n",
       " <selenium.webdriver.remote.webelement.WebElement (session=\"7549dfe8bdae6c759a4659316031df00\", element=\"78d982a3-36b0-42f5-891c-00eca5e10038\")>,\n",
       " <selenium.webdriver.remote.webelement.WebElement (session=\"7549dfe8bdae6c759a4659316031df00\", element=\"5585b3bf-c7d6-4042-bae1-58fcf44a5530\")>,\n",
       " <selenium.webdriver.remote.webelement.WebElement (session=\"7549dfe8bdae6c759a4659316031df00\", element=\"0baf6055-3e58-4b86-9865-f5aa0d1fda5e\")>,\n",
       " <selenium.webdriver.remote.webelement.WebElement (session=\"7549dfe8bdae6c759a4659316031df00\", element=\"d5ad4d62-2883-43ce-9746-e5d9591741d7\")>,\n",
       " <selenium.webdriver.remote.webelement.WebElement (session=\"7549dfe8bdae6c759a4659316031df00\", element=\"0e9a1caa-4340-41c3-9575-cd1e5b335eae\")>,\n",
       " <selenium.webdriver.remote.webelement.WebElement (session=\"7549dfe8bdae6c759a4659316031df00\", element=\"0e27eaa8-be95-40c4-8d86-a880ee47969b\")>,\n",
       " <selenium.webdriver.remote.webelement.WebElement (session=\"7549dfe8bdae6c759a4659316031df00\", element=\"ebe3d1e9-40c3-49dd-af75-75177677f9b8\")>,\n",
       " <selenium.webdriver.remote.webelement.WebElement (session=\"7549dfe8bdae6c759a4659316031df00\", element=\"12c6176c-59b4-4822-8b5d-e2563e8f6585\")>,\n",
       " <selenium.webdriver.remote.webelement.WebElement (session=\"7549dfe8bdae6c759a4659316031df00\", element=\"70114ee1-71c9-4f86-86eb-3b93f2653346\")>,\n",
       " <selenium.webdriver.remote.webelement.WebElement (session=\"7549dfe8bdae6c759a4659316031df00\", element=\"cda830c0-60ed-47b3-8e6a-f63cd5e39870\")>,\n",
       " <selenium.webdriver.remote.webelement.WebElement (session=\"7549dfe8bdae6c759a4659316031df00\", element=\"8355cae9-4cf8-4168-ac23-f79ee9433055\")>,\n",
       " <selenium.webdriver.remote.webelement.WebElement (session=\"7549dfe8bdae6c759a4659316031df00\", element=\"81e6c262-daa1-4282-a82a-54d8408e69b2\")>,\n",
       " <selenium.webdriver.remote.webelement.WebElement (session=\"7549dfe8bdae6c759a4659316031df00\", element=\"37206604-d0a9-43f5-b8e2-aa93cf3265c6\")>,\n",
       " <selenium.webdriver.remote.webelement.WebElement (session=\"7549dfe8bdae6c759a4659316031df00\", element=\"9f70a53b-d8b4-4a43-8b5b-6a6da5f2b093\")>,\n",
       " <selenium.webdriver.remote.webelement.WebElement (session=\"7549dfe8bdae6c759a4659316031df00\", element=\"83475a5e-ac72-44d0-8c4c-6f105412949a\")>,\n",
       " <selenium.webdriver.remote.webelement.WebElement (session=\"7549dfe8bdae6c759a4659316031df00\", element=\"81b8b241-9e9c-4ed6-b907-b7c8889e838c\")>,\n",
       " <selenium.webdriver.remote.webelement.WebElement (session=\"7549dfe8bdae6c759a4659316031df00\", element=\"2157baa9-4077-41b0-8b0a-007d977c0fb8\")>,\n",
       " <selenium.webdriver.remote.webelement.WebElement (session=\"7549dfe8bdae6c759a4659316031df00\", element=\"01238005-9600-4c7a-9afb-722cb772786a\")>,\n",
       " <selenium.webdriver.remote.webelement.WebElement (session=\"7549dfe8bdae6c759a4659316031df00\", element=\"21ea5416-c151-40bd-affb-cea559e7096a\")>,\n",
       " <selenium.webdriver.remote.webelement.WebElement (session=\"7549dfe8bdae6c759a4659316031df00\", element=\"d8d7c19e-c201-4b4a-a77e-e4dd986f296c\")>,\n",
       " <selenium.webdriver.remote.webelement.WebElement (session=\"7549dfe8bdae6c759a4659316031df00\", element=\"4272bd63-2004-49d2-87a8-b435815deb40\")>,\n",
       " <selenium.webdriver.remote.webelement.WebElement (session=\"7549dfe8bdae6c759a4659316031df00\", element=\"5211e719-c9d9-49ab-b09a-b3fe517120c8\")>,\n",
       " <selenium.webdriver.remote.webelement.WebElement (session=\"7549dfe8bdae6c759a4659316031df00\", element=\"c82f6e41-af51-49f2-84e7-1c560fd62721\")>,\n",
       " <selenium.webdriver.remote.webelement.WebElement (session=\"7549dfe8bdae6c759a4659316031df00\", element=\"25841b61-c480-4843-a613-497213c13cea\")>,\n",
       " <selenium.webdriver.remote.webelement.WebElement (session=\"7549dfe8bdae6c759a4659316031df00\", element=\"067f8f46-6010-4880-86cb-7eaeacd563c1\")>,\n",
       " <selenium.webdriver.remote.webelement.WebElement (session=\"7549dfe8bdae6c759a4659316031df00\", element=\"ffbaab58-5c49-4073-8558-68469b52924b\")>,\n",
       " <selenium.webdriver.remote.webelement.WebElement (session=\"7549dfe8bdae6c759a4659316031df00\", element=\"6b4e0f0b-aabc-4cd8-902c-fd47d08adb8b\")>,\n",
       " <selenium.webdriver.remote.webelement.WebElement (session=\"7549dfe8bdae6c759a4659316031df00\", element=\"66193b9a-0dc7-4a25-9ae6-50e7f49b593e\")>,\n",
       " <selenium.webdriver.remote.webelement.WebElement (session=\"7549dfe8bdae6c759a4659316031df00\", element=\"201bdb06-9bec-4aef-905c-ca5c479e44b5\")>,\n",
       " <selenium.webdriver.remote.webelement.WebElement (session=\"7549dfe8bdae6c759a4659316031df00\", element=\"d2279159-c9d9-4c66-9a9d-01d33f6a22c7\")>,\n",
       " <selenium.webdriver.remote.webelement.WebElement (session=\"7549dfe8bdae6c759a4659316031df00\", element=\"0dfb365c-fe12-4be3-b9d5-5883eeaad9ea\")>,\n",
       " <selenium.webdriver.remote.webelement.WebElement (session=\"7549dfe8bdae6c759a4659316031df00\", element=\"b97c2cbf-7dcf-4015-81c6-e990c4890ad1\")>,\n",
       " <selenium.webdriver.remote.webelement.WebElement (session=\"7549dfe8bdae6c759a4659316031df00\", element=\"11596d63-dcb8-476a-99a3-67e31a40e0ee\")>,\n",
       " <selenium.webdriver.remote.webelement.WebElement (session=\"7549dfe8bdae6c759a4659316031df00\", element=\"cecd41ed-fcf8-4e94-9ef8-9e35e2f9049a\")>,\n",
       " <selenium.webdriver.remote.webelement.WebElement (session=\"7549dfe8bdae6c759a4659316031df00\", element=\"dd719844-0f19-4e12-aa52-cec1b116a501\")>,\n",
       " <selenium.webdriver.remote.webelement.WebElement (session=\"7549dfe8bdae6c759a4659316031df00\", element=\"a90caafd-ae3d-4bc4-9249-4e28a8f1617e\")>,\n",
       " <selenium.webdriver.remote.webelement.WebElement (session=\"7549dfe8bdae6c759a4659316031df00\", element=\"86008f1f-42b6-46ca-af1d-e1b6852b937d\")>,\n",
       " <selenium.webdriver.remote.webelement.WebElement (session=\"7549dfe8bdae6c759a4659316031df00\", element=\"cbd385a1-a0cf-4010-b6f0-1ab9cfc1363a\")>,\n",
       " <selenium.webdriver.remote.webelement.WebElement (session=\"7549dfe8bdae6c759a4659316031df00\", element=\"f4f5ecec-22d4-4774-9683-f3eb7ce77f67\")>,\n",
       " <selenium.webdriver.remote.webelement.WebElement (session=\"7549dfe8bdae6c759a4659316031df00\", element=\"6a0eba34-bc73-4f9f-99dd-da91dffe6615\")>,\n",
       " <selenium.webdriver.remote.webelement.WebElement (session=\"7549dfe8bdae6c759a4659316031df00\", element=\"ea8388c9-3843-4de1-888e-e7833a31f578\")>,\n",
       " <selenium.webdriver.remote.webelement.WebElement (session=\"7549dfe8bdae6c759a4659316031df00\", element=\"a528e659-b72d-414a-946d-c36811dc871c\")>,\n",
       " <selenium.webdriver.remote.webelement.WebElement (session=\"7549dfe8bdae6c759a4659316031df00\", element=\"c69117e6-3950-4122-a9d8-b1b71516503a\")>,\n",
       " <selenium.webdriver.remote.webelement.WebElement (session=\"7549dfe8bdae6c759a4659316031df00\", element=\"6d7be1a2-645c-4764-8599-fff0c67876b6\")>,\n",
       " <selenium.webdriver.remote.webelement.WebElement (session=\"7549dfe8bdae6c759a4659316031df00\", element=\"1e780188-e006-48dc-91cd-dac1fdead4ad\")>,\n",
       " <selenium.webdriver.remote.webelement.WebElement (session=\"7549dfe8bdae6c759a4659316031df00\", element=\"a4e7428e-9ef5-4bdb-85b5-0f4fb3e7d3f8\")>,\n",
       " <selenium.webdriver.remote.webelement.WebElement (session=\"7549dfe8bdae6c759a4659316031df00\", element=\"3fb5b96a-c017-408b-ab05-b72404cb8867\")>,\n",
       " <selenium.webdriver.remote.webelement.WebElement (session=\"7549dfe8bdae6c759a4659316031df00\", element=\"986f10d9-5938-48b0-a2fd-3cc2f99133d2\")>,\n",
       " <selenium.webdriver.remote.webelement.WebElement (session=\"7549dfe8bdae6c759a4659316031df00\", element=\"7a544834-ace3-4a1d-a347-9100f78ee843\")>,\n",
       " <selenium.webdriver.remote.webelement.WebElement (session=\"7549dfe8bdae6c759a4659316031df00\", element=\"7fde1a6e-ae99-47aa-982c-5f8416e29e95\")>,\n",
       " <selenium.webdriver.remote.webelement.WebElement (session=\"7549dfe8bdae6c759a4659316031df00\", element=\"1e6b078b-0a5f-4989-ba47-87ecf3f43b72\")>,\n",
       " <selenium.webdriver.remote.webelement.WebElement (session=\"7549dfe8bdae6c759a4659316031df00\", element=\"b5980b63-d815-45d4-b489-42c7d778ab76\")>,\n",
       " <selenium.webdriver.remote.webelement.WebElement (session=\"7549dfe8bdae6c759a4659316031df00\", element=\"90a26ad9-8bbe-48bb-8704-83baed8a5544\")>,\n",
       " <selenium.webdriver.remote.webelement.WebElement (session=\"7549dfe8bdae6c759a4659316031df00\", element=\"b0844e3e-e2aa-4c32-ba74-f8dd190a8be2\")>,\n",
       " <selenium.webdriver.remote.webelement.WebElement (session=\"7549dfe8bdae6c759a4659316031df00\", element=\"1c6c52b3-40f7-4453-89b6-1ca50c15f6ab\")>,\n",
       " <selenium.webdriver.remote.webelement.WebElement (session=\"7549dfe8bdae6c759a4659316031df00\", element=\"ef150c9f-751c-4aa1-a74c-4f610ae3fc54\")>,\n",
       " <selenium.webdriver.remote.webelement.WebElement (session=\"7549dfe8bdae6c759a4659316031df00\", element=\"da1aefa8-89d9-4619-822e-ff6b4adea63a\")>,\n",
       " <selenium.webdriver.remote.webelement.WebElement (session=\"7549dfe8bdae6c759a4659316031df00\", element=\"e9d7bee8-c0f4-4a10-a6b7-9d8a73df786d\")>,\n",
       " <selenium.webdriver.remote.webelement.WebElement (session=\"7549dfe8bdae6c759a4659316031df00\", element=\"7efad3ab-056a-415d-b3e7-1189fbbd373c\")>,\n",
       " <selenium.webdriver.remote.webelement.WebElement (session=\"7549dfe8bdae6c759a4659316031df00\", element=\"5a4121df-f700-48ae-9713-75d8cef74b81\")>,\n",
       " <selenium.webdriver.remote.webelement.WebElement (session=\"7549dfe8bdae6c759a4659316031df00\", element=\"6490c92a-e0ed-4b6d-bd1a-3d66828008ae\")>,\n",
       " <selenium.webdriver.remote.webelement.WebElement (session=\"7549dfe8bdae6c759a4659316031df00\", element=\"a3f86f11-a064-4d9d-9ad6-5912a24f275b\")>,\n",
       " <selenium.webdriver.remote.webelement.WebElement (session=\"7549dfe8bdae6c759a4659316031df00\", element=\"49d42912-3c10-4ecc-aade-d16d3d8a5b3c\")>,\n",
       " <selenium.webdriver.remote.webelement.WebElement (session=\"7549dfe8bdae6c759a4659316031df00\", element=\"7614b008-3010-46b6-a3f9-6e1fc5e1d6fb\")>,\n",
       " <selenium.webdriver.remote.webelement.WebElement (session=\"7549dfe8bdae6c759a4659316031df00\", element=\"7f960db8-d896-4951-a7b4-b62e5e0a885a\")>,\n",
       " <selenium.webdriver.remote.webelement.WebElement (session=\"7549dfe8bdae6c759a4659316031df00\", element=\"fdedc862-f194-422c-8cd5-7f4366e829a9\")>,\n",
       " <selenium.webdriver.remote.webelement.WebElement (session=\"7549dfe8bdae6c759a4659316031df00\", element=\"c84f302f-6329-46f3-bb53-1b1ba8442469\")>,\n",
       " <selenium.webdriver.remote.webelement.WebElement (session=\"7549dfe8bdae6c759a4659316031df00\", element=\"2e36118d-4813-41f1-bce4-281a27d3e05c\")>,\n",
       " <selenium.webdriver.remote.webelement.WebElement (session=\"7549dfe8bdae6c759a4659316031df00\", element=\"d402ece6-34e7-4046-beae-803b38c1a462\")>,\n",
       " <selenium.webdriver.remote.webelement.WebElement (session=\"7549dfe8bdae6c759a4659316031df00\", element=\"6b387da6-719a-40a0-a6d5-1b3eb6397975\")>,\n",
       " <selenium.webdriver.remote.webelement.WebElement (session=\"7549dfe8bdae6c759a4659316031df00\", element=\"ccafbf4a-bff4-4f42-b1fc-31184f14a624\")>,\n",
       " <selenium.webdriver.remote.webelement.WebElement (session=\"7549dfe8bdae6c759a4659316031df00\", element=\"84f6ba89-520a-4db7-93f1-6bb71c003f25\")>,\n",
       " <selenium.webdriver.remote.webelement.WebElement (session=\"7549dfe8bdae6c759a4659316031df00\", element=\"aafbc0f8-cbaa-4db7-880c-26e84a38c8f4\")>,\n",
       " <selenium.webdriver.remote.webelement.WebElement (session=\"7549dfe8bdae6c759a4659316031df00\", element=\"f58e25fa-b992-4dd5-b992-d7a33267579c\")>,\n",
       " <selenium.webdriver.remote.webelement.WebElement (session=\"7549dfe8bdae6c759a4659316031df00\", element=\"10a34848-4772-4d40-93f5-8b6bd62e560e\")>,\n",
       " <selenium.webdriver.remote.webelement.WebElement (session=\"7549dfe8bdae6c759a4659316031df00\", element=\"929a74cd-f100-4e30-99dc-9bab66702c3f\")>,\n",
       " <selenium.webdriver.remote.webelement.WebElement (session=\"7549dfe8bdae6c759a4659316031df00\", element=\"27e0fee2-02c5-42f0-a5db-c28b377d0609\")>,\n",
       " <selenium.webdriver.remote.webelement.WebElement (session=\"7549dfe8bdae6c759a4659316031df00\", element=\"e3bf06d1-0d1c-48e8-93b9-bd98dbd35929\")>,\n",
       " <selenium.webdriver.remote.webelement.WebElement (session=\"7549dfe8bdae6c759a4659316031df00\", element=\"1dbcdb5b-a1cb-4334-88dc-112384e5c9d9\")>,\n",
       " <selenium.webdriver.remote.webelement.WebElement (session=\"7549dfe8bdae6c759a4659316031df00\", element=\"1041a10f-6a81-46d1-8b21-db75f6d53c59\")>,\n",
       " <selenium.webdriver.remote.webelement.WebElement (session=\"7549dfe8bdae6c759a4659316031df00\", element=\"a80c6ea8-d1cf-4520-aeef-9d52b5713126\")>,\n",
       " <selenium.webdriver.remote.webelement.WebElement (session=\"7549dfe8bdae6c759a4659316031df00\", element=\"5d317f5e-406c-45e9-8148-6942dac282c4\")>,\n",
       " <selenium.webdriver.remote.webelement.WebElement (session=\"7549dfe8bdae6c759a4659316031df00\", element=\"b3e2ecf4-1895-482e-ba57-bd36d5c3295d\")>,\n",
       " <selenium.webdriver.remote.webelement.WebElement (session=\"7549dfe8bdae6c759a4659316031df00\", element=\"91709adf-5e24-4c0e-bf3b-7ca23da9b077\")>,\n",
       " <selenium.webdriver.remote.webelement.WebElement (session=\"7549dfe8bdae6c759a4659316031df00\", element=\"c36bd058-8223-45d4-9035-357b3cd7fcfc\")>,\n",
       " <selenium.webdriver.remote.webelement.WebElement (session=\"7549dfe8bdae6c759a4659316031df00\", element=\"23965cea-b271-496c-b858-56a10119aa33\")>,\n",
       " <selenium.webdriver.remote.webelement.WebElement (session=\"7549dfe8bdae6c759a4659316031df00\", element=\"bb3e215b-d505-4b58-a0c0-8a9c2d2a297e\")>,\n",
       " <selenium.webdriver.remote.webelement.WebElement (session=\"7549dfe8bdae6c759a4659316031df00\", element=\"63094419-8fbf-4f22-96cd-88d7059f40df\")>,\n",
       " <selenium.webdriver.remote.webelement.WebElement (session=\"7549dfe8bdae6c759a4659316031df00\", element=\"c4592d0a-a3f1-463f-bbb1-af24a78b8a7c\")>,\n",
       " <selenium.webdriver.remote.webelement.WebElement (session=\"7549dfe8bdae6c759a4659316031df00\", element=\"3e9937e7-21f1-4e73-9414-f7ca0b2e1f29\")>,\n",
       " <selenium.webdriver.remote.webelement.WebElement (session=\"7549dfe8bdae6c759a4659316031df00\", element=\"127f4c80-1874-496e-a72a-f204edd12828\")>,\n",
       " <selenium.webdriver.remote.webelement.WebElement (session=\"7549dfe8bdae6c759a4659316031df00\", element=\"080d9509-d92e-4a67-89c8-96583b0b4986\")>,\n",
       " <selenium.webdriver.remote.webelement.WebElement (session=\"7549dfe8bdae6c759a4659316031df00\", element=\"a065e8d3-439f-469f-9ad8-b048124d3adc\")>]"
      ]
     },
     "execution_count": 12,
     "metadata": {},
     "output_type": "execute_result"
    }
   ],
   "source": [
    "line4=browser.find_elements(\"xpath\",\"//div[@class='td-wrap-in']\")\n",
    "line4"
   ]
  },
  {
   "cell_type": "code",
   "execution_count": 14,
   "id": "3f91859c",
   "metadata": {},
   "outputs": [
    {
     "data": {
      "text/plain": [
       "['81.9', '93.3', '93.6', '59.6', '68.9', '95.1', '87.6', '95.2', '90']"
      ]
     },
     "execution_count": 14,
     "metadata": {},
     "output_type": "execute_result"
    }
   ],
   "source": [
    "#PARSING DATA\n",
    "value=[]\n",
    "for data in line4:\n",
    "    #get the text data\n",
    "    temp=data.text\n",
    "    value.append(temp)\n",
    "value_h=value[1:10]\n",
    "value_h"
   ]
  },
  {
   "cell_type": "code",
   "execution_count": 15,
   "id": "8e7fc614",
   "metadata": {},
   "outputs": [
    {
     "data": {
      "text/plain": [
       "{'Name': 'McGill University',\n",
       " 'Location': 'Montreal, Canada',\n",
       " 'Rank': '31',\n",
       " 'Overall Score': '81.9',\n",
       " 'Academic Reputation': '93.3',\n",
       " 'Employer Reputation': '93.6',\n",
       " 'Citations per Faculty': '59.6',\n",
       " 'Faculty Student Ratio': '68.9',\n",
       " 'International Students Ratio': '95.1',\n",
       " 'International Faculty Ratio': '87.6',\n",
       " 'International Research Network\\nUnweighted': '95.2',\n",
       " 'Employment Outcomes\\nUnweighted': '90'}"
      ]
     },
     "execution_count": 15,
     "metadata": {},
     "output_type": "execute_result"
    }
   ],
   "source": [
    "d={}\n",
    "d['Name']=value[0]\n",
    "d['Location']=address[0]\n",
    "d['Rank']=Rank[0]\n",
    "for i in range(len(column)):\n",
    "    d[column[i]]=value_h[i]\n",
    "d"
   ]
  },
  {
   "cell_type": "code",
   "execution_count": 16,
   "id": "30280e27",
   "metadata": {},
   "outputs": [
    {
     "data": {
      "text/plain": [
       "'{\"Name\": \"McGill University\", \"Location\": \"Montreal, Canada\", \"Rank\": \"31\", \"Overall Score\": \"81.9\", \"Academic Reputation\": \"93.3\", \"Employer Reputation\": \"93.6\", \"Citations per Faculty\": \"59.6\", \"Faculty Student Ratio\": \"68.9\", \"International Students Ratio\": \"95.1\", \"International Faculty Ratio\": \"87.6\", \"International Research Network\\\\nUnweighted\": \"95.2\", \"Employment Outcomes\\\\nUnweighted\": \"90\"}'"
      ]
     },
     "execution_count": 16,
     "metadata": {},
     "output_type": "execute_result"
    }
   ],
   "source": [
    "s1=json.dumps(d)\n",
    "s1"
   ]
  },
  {
   "cell_type": "code",
   "execution_count": 17,
   "id": "36fbda40",
   "metadata": {},
   "outputs": [],
   "source": [
    "\n",
    "with open('McGill Universityy.json','w') as f:\n",
    "    json.dump(d,f)"
   ]
  },
  {
   "cell_type": "code",
   "execution_count": null,
   "id": "efdca769",
   "metadata": {},
   "outputs": [],
   "source": []
  },
  {
   "cell_type": "code",
   "execution_count": null,
   "id": "360cb4d2",
   "metadata": {},
   "outputs": [],
   "source": []
  }
 ],
 "metadata": {
  "kernelspec": {
   "display_name": "Python 3.9.12 ('base')",
   "language": "python",
   "name": "python3"
  },
  "language_info": {
   "codemirror_mode": {
    "name": "ipython",
    "version": 3
   },
   "file_extension": ".py",
   "mimetype": "text/x-python",
   "name": "python",
   "nbconvert_exporter": "python",
   "pygments_lexer": "ipython3",
   "version": "3.9.12"
  },
  "vscode": {
   "interpreter": {
    "hash": "ad2bdc8ecc057115af97d19610ffacc2b4e99fae6737bb82f5d7fb13d2f2c186"
   }
  }
 },
 "nbformat": 4,
 "nbformat_minor": 5
}
