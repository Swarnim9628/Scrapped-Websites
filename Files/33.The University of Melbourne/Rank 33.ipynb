{
 "cells": [
  {
   "cell_type": "code",
   "execution_count": 1,
   "id": "a856bb9f",
   "metadata": {},
   "outputs": [],
   "source": [
    "from selenium import webdriver\n",
    "from selenium.webdriver.chrome.service import Service\n",
    "import pandas as pd\n",
    "import json\n"
   ]
  },
  {
   "cell_type": "code",
   "execution_count": 2,
   "id": "b2153c21",
   "metadata": {},
   "outputs": [],
   "source": [
    "\n",
    "path = Service('C:\\chromedriver.exe')\n"
   ]
  },
  {
   "cell_type": "code",
   "execution_count": 3,
   "id": "ff48e8b0",
   "metadata": {},
   "outputs": [],
   "source": [
    "# set path for the driver\n",
    "browser = webdriver.Chrome(service = path)\n"
   ]
  },
  {
   "cell_type": "code",
   "execution_count": 4,
   "id": "0f3ddd02",
   "metadata": {},
   "outputs": [],
   "source": [
    "url = \"https://www.topuniversities.com/university-rankings/world-university-rankings/2023\""
   ]
  },
  {
   "cell_type": "code",
   "execution_count": 5,
   "id": "add7a5d5",
   "metadata": {},
   "outputs": [],
   "source": [
    "# open the page url ion chrome\n",
    "browser.get(url)"
   ]
  },
  {
   "cell_type": "code",
   "execution_count": 7,
   "id": "c8faa280",
   "metadata": {},
   "outputs": [
    {
     "data": {
      "text/plain": [
       "[<selenium.webdriver.remote.webelement.WebElement (session=\"c05af113cc4cc298e3ea46aff512fc93\", element=\"303dde81-dd2d-48bd-af3d-291b3bf87f11\")>,\n",
       " <selenium.webdriver.remote.webelement.WebElement (session=\"c05af113cc4cc298e3ea46aff512fc93\", element=\"0ec6b08b-792b-4259-af53-25701b3f2e8e\")>,\n",
       " <selenium.webdriver.remote.webelement.WebElement (session=\"c05af113cc4cc298e3ea46aff512fc93\", element=\"751b8d4e-73ca-4102-a15a-d9dda9819592\")>,\n",
       " <selenium.webdriver.remote.webelement.WebElement (session=\"c05af113cc4cc298e3ea46aff512fc93\", element=\"9dd9e5ce-317d-4176-a66e-2a18a7cc6fed\")>,\n",
       " <selenium.webdriver.remote.webelement.WebElement (session=\"c05af113cc4cc298e3ea46aff512fc93\", element=\"881c11ac-4123-41f2-91d2-4aef43982bcb\")>,\n",
       " <selenium.webdriver.remote.webelement.WebElement (session=\"c05af113cc4cc298e3ea46aff512fc93\", element=\"88ad6746-dfb8-43ab-949e-4535154970ea\")>,\n",
       " <selenium.webdriver.remote.webelement.WebElement (session=\"c05af113cc4cc298e3ea46aff512fc93\", element=\"641b9543-40bd-43ac-a4e9-b9882a4cbcf5\")>,\n",
       " <selenium.webdriver.remote.webelement.WebElement (session=\"c05af113cc4cc298e3ea46aff512fc93\", element=\"d5460202-6cb8-4b41-a054-26d4a74159b0\")>,\n",
       " <selenium.webdriver.remote.webelement.WebElement (session=\"c05af113cc4cc298e3ea46aff512fc93\", element=\"268c9189-aec9-42d0-8b62-471f06572aa6\")>,\n",
       " <selenium.webdriver.remote.webelement.WebElement (session=\"c05af113cc4cc298e3ea46aff512fc93\", element=\"d8c85cbf-8195-4b0a-b0ac-c591a9e674e8\")>,\n",
       " <selenium.webdriver.remote.webelement.WebElement (session=\"c05af113cc4cc298e3ea46aff512fc93\", element=\"22e13f68-7b7f-4bb6-ac91-79a4db4aa6f4\")>,\n",
       " <selenium.webdriver.remote.webelement.WebElement (session=\"c05af113cc4cc298e3ea46aff512fc93\", element=\"c2f2e4ef-eaa6-4ec7-94fe-90b87d8582a3\")>,\n",
       " <selenium.webdriver.remote.webelement.WebElement (session=\"c05af113cc4cc298e3ea46aff512fc93\", element=\"ed2c7fbe-ac4b-40d2-9710-2db0567f364c\")>,\n",
       " <selenium.webdriver.remote.webelement.WebElement (session=\"c05af113cc4cc298e3ea46aff512fc93\", element=\"30863205-c201-4bba-90bd-0a1ec66b2e1c\")>,\n",
       " <selenium.webdriver.remote.webelement.WebElement (session=\"c05af113cc4cc298e3ea46aff512fc93\", element=\"7f71b737-32a3-40ce-abe1-3376b7381ebe\")>,\n",
       " <selenium.webdriver.remote.webelement.WebElement (session=\"c05af113cc4cc298e3ea46aff512fc93\", element=\"7e195c1c-af28-4ecb-9453-ccdf4b1a3923\")>,\n",
       " <selenium.webdriver.remote.webelement.WebElement (session=\"c05af113cc4cc298e3ea46aff512fc93\", element=\"7da76b54-9907-400c-bdb5-6b3dd3e7487c\")>,\n",
       " <selenium.webdriver.remote.webelement.WebElement (session=\"c05af113cc4cc298e3ea46aff512fc93\", element=\"03cadf95-e1d0-48a0-97f7-7fccef2bae53\")>,\n",
       " <selenium.webdriver.remote.webelement.WebElement (session=\"c05af113cc4cc298e3ea46aff512fc93\", element=\"d25932ba-0c60-497d-b44b-d0ee52a843c8\")>,\n",
       " <selenium.webdriver.remote.webelement.WebElement (session=\"c05af113cc4cc298e3ea46aff512fc93\", element=\"a9ead420-0e99-4dcb-8920-3ac091a1562b\")>]"
      ]
     },
     "execution_count": 7,
     "metadata": {},
     "output_type": "execute_result"
    }
   ],
   "source": [
    "line1=browser.find_elements(\"xpath\",\"//div[@class='location ']\")\n",
    "line1"
   ]
  },
  {
   "cell_type": "code",
   "execution_count": 8,
   "id": "7ae8fa40",
   "metadata": {},
   "outputs": [
    {
     "data": {
      "text/plain": [
       "['Montreal, Canada',\n",
       " 'Evanston, United States',\n",
       " 'Parkville, Australia',\n",
       " 'Shanghai, China (Mainland)',\n",
       " 'Toronto, Canada',\n",
       " 'Kyoto, Japan',\n",
       " 'London, United Kingdom',\n",
       " 'Hong Kong SAR, Hong Kong SAR',\n",
       " 'New York City, United States',\n",
       " 'Hong Kong SAR, Hong Kong SAR']"
      ]
     },
     "execution_count": 8,
     "metadata": {},
     "output_type": "execute_result"
    }
   ],
   "source": [
    "address=[]\n",
    "for data in line1:\n",
    "    #get the text data\n",
    "    temp=data.text\n",
    "    address.append(temp)\n",
    "address=address[10:]\n",
    "address"
   ]
  },
  {
   "cell_type": "code",
   "execution_count": 9,
   "id": "e8ef6c09",
   "metadata": {},
   "outputs": [
    {
     "data": {
      "text/plain": [
       "[<selenium.webdriver.remote.webelement.WebElement (session=\"c05af113cc4cc298e3ea46aff512fc93\", element=\"06e098a1-a5e4-470b-8843-38b328b987d4\")>,\n",
       " <selenium.webdriver.remote.webelement.WebElement (session=\"c05af113cc4cc298e3ea46aff512fc93\", element=\"68178387-b202-418a-ad00-6418324b5058\")>,\n",
       " <selenium.webdriver.remote.webelement.WebElement (session=\"c05af113cc4cc298e3ea46aff512fc93\", element=\"1d0fc791-56b4-4c61-87ee-555e3d6f4ee8\")>,\n",
       " <selenium.webdriver.remote.webelement.WebElement (session=\"c05af113cc4cc298e3ea46aff512fc93\", element=\"82c91ab0-ba6f-4603-8998-fe49c513a54b\")>,\n",
       " <selenium.webdriver.remote.webelement.WebElement (session=\"c05af113cc4cc298e3ea46aff512fc93\", element=\"54dc59c8-7ace-4db9-80c3-07855d1d5157\")>,\n",
       " <selenium.webdriver.remote.webelement.WebElement (session=\"c05af113cc4cc298e3ea46aff512fc93\", element=\"24489e45-7c44-4982-aae0-7a9acc67202a\")>,\n",
       " <selenium.webdriver.remote.webelement.WebElement (session=\"c05af113cc4cc298e3ea46aff512fc93\", element=\"ce70e2e4-631a-40e1-a265-9396530df77f\")>,\n",
       " <selenium.webdriver.remote.webelement.WebElement (session=\"c05af113cc4cc298e3ea46aff512fc93\", element=\"26f47276-2a24-4c19-b354-b67c4b526427\")>,\n",
       " <selenium.webdriver.remote.webelement.WebElement (session=\"c05af113cc4cc298e3ea46aff512fc93\", element=\"6eca3240-d26a-4005-99d5-b13f27744f27\")>,\n",
       " <selenium.webdriver.remote.webelement.WebElement (session=\"c05af113cc4cc298e3ea46aff512fc93\", element=\"58463e74-7b30-4cb7-9176-f4080648d9bf\")>]"
      ]
     },
     "execution_count": 9,
     "metadata": {},
     "output_type": "execute_result"
    }
   ],
   "source": [
    "line2=browser.find_elements(\"xpath\",\"//div[@class='_univ-rank ']\")\n",
    "line2"
   ]
  },
  {
   "cell_type": "code",
   "execution_count": 10,
   "id": "65a19efa",
   "metadata": {},
   "outputs": [
    {
     "data": {
      "text/plain": [
       "['31', '32', '33', '=34', '=34', '36', '37', '38', '39', '40']"
      ]
     },
     "execution_count": 10,
     "metadata": {},
     "output_type": "execute_result"
    }
   ],
   "source": [
    "Rank=[]\n",
    "for data in line2:\n",
    "    #get the text data\n",
    "    temp=data.text\n",
    "    Rank.append(temp)\n",
    "Rank"
   ]
  },
  {
   "cell_type": "code",
   "execution_count": 11,
   "id": "862f88b5",
   "metadata": {},
   "outputs": [
    {
     "data": {
      "text/plain": [
       "[<selenium.webdriver.remote.webelement.WebElement (session=\"c05af113cc4cc298e3ea46aff512fc93\", element=\"fdf53c01-4662-430b-913d-3573e0fbf709\")>,\n",
       " <selenium.webdriver.remote.webelement.WebElement (session=\"c05af113cc4cc298e3ea46aff512fc93\", element=\"efb04277-d557-453c-92e2-f282816849f8\")>,\n",
       " <selenium.webdriver.remote.webelement.WebElement (session=\"c05af113cc4cc298e3ea46aff512fc93\", element=\"93bc9b2a-29eb-4579-8ca3-ebc0876d2566\")>,\n",
       " <selenium.webdriver.remote.webelement.WebElement (session=\"c05af113cc4cc298e3ea46aff512fc93\", element=\"f90ec367-3198-42aa-8c1d-989efaef226d\")>,\n",
       " <selenium.webdriver.remote.webelement.WebElement (session=\"c05af113cc4cc298e3ea46aff512fc93\", element=\"0f43db00-ba87-4f33-b6e9-6b6da30db49d\")>,\n",
       " <selenium.webdriver.remote.webelement.WebElement (session=\"c05af113cc4cc298e3ea46aff512fc93\", element=\"de46fec2-bb4d-4688-a683-9e3796887a5d\")>,\n",
       " <selenium.webdriver.remote.webelement.WebElement (session=\"c05af113cc4cc298e3ea46aff512fc93\", element=\"cfaece25-ba0e-4287-9aa8-245b9f5af21e\")>,\n",
       " <selenium.webdriver.remote.webelement.WebElement (session=\"c05af113cc4cc298e3ea46aff512fc93\", element=\"e577a107-967a-4dfd-9261-0971de761c80\")>,\n",
       " <selenium.webdriver.remote.webelement.WebElement (session=\"c05af113cc4cc298e3ea46aff512fc93\", element=\"d64efac9-fcda-443b-abcb-08044eb6d6b4\")>]"
      ]
     },
     "execution_count": 11,
     "metadata": {},
     "output_type": "execute_result"
    }
   ],
   "source": [
    "# GET EACH COLLEGE SPECIFICATION HEADERS\n",
    "line3=browser.find_elements(\"xpath\",\"//div[@class='_click-function_ind']\")\n",
    "line3"
   ]
  },
  {
   "cell_type": "code",
   "execution_count": 12,
   "id": "165cbb30",
   "metadata": {},
   "outputs": [
    {
     "data": {
      "text/plain": [
       "['Overall Score',\n",
       " 'Academic Reputation',\n",
       " 'Employer Reputation',\n",
       " 'Citations per Faculty',\n",
       " 'Faculty Student Ratio',\n",
       " 'International Students Ratio',\n",
       " 'International Faculty Ratio',\n",
       " 'International Research Network\\nUnweighted',\n",
       " 'Employment Outcomes\\nUnweighted']"
      ]
     },
     "execution_count": 12,
     "metadata": {},
     "output_type": "execute_result"
    }
   ],
   "source": [
    "#PARSING DATA\n",
    "column=[]\n",
    "for data in line3:\n",
    "    #get the text data\n",
    "    temp=data.text\n",
    "    column.append(temp)\n",
    "column"
   ]
  },
  {
   "cell_type": "code",
   "execution_count": 13,
   "id": "efc715ee",
   "metadata": {},
   "outputs": [
    {
     "data": {
      "text/plain": [
       "[<selenium.webdriver.remote.webelement.WebElement (session=\"c05af113cc4cc298e3ea46aff512fc93\", element=\"9da838f8-e9d1-4e7e-9c4c-e4a0d243300d\")>,\n",
       " <selenium.webdriver.remote.webelement.WebElement (session=\"c05af113cc4cc298e3ea46aff512fc93\", element=\"f0c301b5-e040-4127-8ee3-412bc36b49b6\")>,\n",
       " <selenium.webdriver.remote.webelement.WebElement (session=\"c05af113cc4cc298e3ea46aff512fc93\", element=\"b99bb39c-5e87-4f11-886e-2e33ef169968\")>,\n",
       " <selenium.webdriver.remote.webelement.WebElement (session=\"c05af113cc4cc298e3ea46aff512fc93\", element=\"7b9a708e-a716-475d-8d33-7d9e44c6d997\")>,\n",
       " <selenium.webdriver.remote.webelement.WebElement (session=\"c05af113cc4cc298e3ea46aff512fc93\", element=\"cae5299d-4b4d-48bd-b978-1fcd1b03c494\")>,\n",
       " <selenium.webdriver.remote.webelement.WebElement (session=\"c05af113cc4cc298e3ea46aff512fc93\", element=\"08fa5de5-fbbb-48e1-877a-46d3c082bcc9\")>,\n",
       " <selenium.webdriver.remote.webelement.WebElement (session=\"c05af113cc4cc298e3ea46aff512fc93\", element=\"8dff1a53-7eca-4191-b8c9-ab43a5b12313\")>,\n",
       " <selenium.webdriver.remote.webelement.WebElement (session=\"c05af113cc4cc298e3ea46aff512fc93\", element=\"bfac26a6-95ef-46a8-b3ea-49e314b2cfa5\")>,\n",
       " <selenium.webdriver.remote.webelement.WebElement (session=\"c05af113cc4cc298e3ea46aff512fc93\", element=\"72f6abb9-9389-4ef3-a2ce-815191ac51aa\")>,\n",
       " <selenium.webdriver.remote.webelement.WebElement (session=\"c05af113cc4cc298e3ea46aff512fc93\", element=\"a1597004-6c08-433f-ad79-2bcd6f1b7691\")>,\n",
       " <selenium.webdriver.remote.webelement.WebElement (session=\"c05af113cc4cc298e3ea46aff512fc93\", element=\"f01c4137-560f-4c3c-bd03-4dccf8715eff\")>,\n",
       " <selenium.webdriver.remote.webelement.WebElement (session=\"c05af113cc4cc298e3ea46aff512fc93\", element=\"5bf82902-d17e-4358-a2ac-3234818cb867\")>,\n",
       " <selenium.webdriver.remote.webelement.WebElement (session=\"c05af113cc4cc298e3ea46aff512fc93\", element=\"b189a002-5468-47a3-8098-e87fb321ab58\")>,\n",
       " <selenium.webdriver.remote.webelement.WebElement (session=\"c05af113cc4cc298e3ea46aff512fc93\", element=\"9d2db4f1-85dc-4529-a129-e0eff4d63f30\")>,\n",
       " <selenium.webdriver.remote.webelement.WebElement (session=\"c05af113cc4cc298e3ea46aff512fc93\", element=\"e7bcec31-bd8d-4860-8532-94af9914b434\")>,\n",
       " <selenium.webdriver.remote.webelement.WebElement (session=\"c05af113cc4cc298e3ea46aff512fc93\", element=\"b8542b44-c5f5-439c-aabc-581d4abdd950\")>,\n",
       " <selenium.webdriver.remote.webelement.WebElement (session=\"c05af113cc4cc298e3ea46aff512fc93\", element=\"bbf05778-ff59-4a04-8052-8d1701fadeac\")>,\n",
       " <selenium.webdriver.remote.webelement.WebElement (session=\"c05af113cc4cc298e3ea46aff512fc93\", element=\"6a44d6b8-8bcd-4d91-890b-c58efe1ceee0\")>,\n",
       " <selenium.webdriver.remote.webelement.WebElement (session=\"c05af113cc4cc298e3ea46aff512fc93\", element=\"6024068c-dc34-406a-b544-56213e386db8\")>,\n",
       " <selenium.webdriver.remote.webelement.WebElement (session=\"c05af113cc4cc298e3ea46aff512fc93\", element=\"3fdbe687-da3d-4dda-8489-4d0fb49ef8ed\")>,\n",
       " <selenium.webdriver.remote.webelement.WebElement (session=\"c05af113cc4cc298e3ea46aff512fc93\", element=\"801e99de-a694-48b0-a265-ecb9ab4d8606\")>,\n",
       " <selenium.webdriver.remote.webelement.WebElement (session=\"c05af113cc4cc298e3ea46aff512fc93\", element=\"9e29b0fe-388c-4694-b52e-a3108967723d\")>,\n",
       " <selenium.webdriver.remote.webelement.WebElement (session=\"c05af113cc4cc298e3ea46aff512fc93\", element=\"bf7aafd9-6185-4c40-aea0-68ede42c1535\")>,\n",
       " <selenium.webdriver.remote.webelement.WebElement (session=\"c05af113cc4cc298e3ea46aff512fc93\", element=\"1c397dbb-b834-402c-8362-9d8d1217d13e\")>,\n",
       " <selenium.webdriver.remote.webelement.WebElement (session=\"c05af113cc4cc298e3ea46aff512fc93\", element=\"6cc7f66b-bb73-48fa-8b04-90af34fe28bb\")>,\n",
       " <selenium.webdriver.remote.webelement.WebElement (session=\"c05af113cc4cc298e3ea46aff512fc93\", element=\"37008287-86e4-416b-84b1-2cd0750faae3\")>,\n",
       " <selenium.webdriver.remote.webelement.WebElement (session=\"c05af113cc4cc298e3ea46aff512fc93\", element=\"9120c39b-58c8-46a2-94b4-8ba410468834\")>,\n",
       " <selenium.webdriver.remote.webelement.WebElement (session=\"c05af113cc4cc298e3ea46aff512fc93\", element=\"f3ef1ea0-a7ec-403a-89f9-d566ab6d8ad9\")>,\n",
       " <selenium.webdriver.remote.webelement.WebElement (session=\"c05af113cc4cc298e3ea46aff512fc93\", element=\"147ac10b-c191-4ef7-87ea-66dd05f9577a\")>,\n",
       " <selenium.webdriver.remote.webelement.WebElement (session=\"c05af113cc4cc298e3ea46aff512fc93\", element=\"4501e314-94f3-4de4-a397-69bde623db45\")>,\n",
       " <selenium.webdriver.remote.webelement.WebElement (session=\"c05af113cc4cc298e3ea46aff512fc93\", element=\"a638a333-77c1-41c2-8c76-95b4f72c0ff3\")>,\n",
       " <selenium.webdriver.remote.webelement.WebElement (session=\"c05af113cc4cc298e3ea46aff512fc93\", element=\"0d4b0c88-81d9-48cc-8039-af5541dea06a\")>,\n",
       " <selenium.webdriver.remote.webelement.WebElement (session=\"c05af113cc4cc298e3ea46aff512fc93\", element=\"d1fd0afc-5fdc-4baa-8f34-8da4c9f5e110\")>,\n",
       " <selenium.webdriver.remote.webelement.WebElement (session=\"c05af113cc4cc298e3ea46aff512fc93\", element=\"ff662e73-f936-4bc4-a354-1b367f3c7f77\")>,\n",
       " <selenium.webdriver.remote.webelement.WebElement (session=\"c05af113cc4cc298e3ea46aff512fc93\", element=\"f9cda3b5-3fee-4caa-9d29-3ee659c1d80b\")>,\n",
       " <selenium.webdriver.remote.webelement.WebElement (session=\"c05af113cc4cc298e3ea46aff512fc93\", element=\"a48cdf2e-2422-4caf-a1a0-2989804a8952\")>,\n",
       " <selenium.webdriver.remote.webelement.WebElement (session=\"c05af113cc4cc298e3ea46aff512fc93\", element=\"2c4e5e8d-61a1-4aad-9062-83047275d40a\")>,\n",
       " <selenium.webdriver.remote.webelement.WebElement (session=\"c05af113cc4cc298e3ea46aff512fc93\", element=\"137a516b-6d92-4a43-80ad-edee962644ec\")>,\n",
       " <selenium.webdriver.remote.webelement.WebElement (session=\"c05af113cc4cc298e3ea46aff512fc93\", element=\"7b6c4a00-83ba-4532-8b63-4bb7eb7a9194\")>,\n",
       " <selenium.webdriver.remote.webelement.WebElement (session=\"c05af113cc4cc298e3ea46aff512fc93\", element=\"faa27e06-a1fc-4b3f-b87f-54e4c2c2a26e\")>,\n",
       " <selenium.webdriver.remote.webelement.WebElement (session=\"c05af113cc4cc298e3ea46aff512fc93\", element=\"8c4da91c-4549-4c33-acce-54533b75269d\")>,\n",
       " <selenium.webdriver.remote.webelement.WebElement (session=\"c05af113cc4cc298e3ea46aff512fc93\", element=\"171658dd-d6ce-4cd6-8152-c89c4d28f983\")>,\n",
       " <selenium.webdriver.remote.webelement.WebElement (session=\"c05af113cc4cc298e3ea46aff512fc93\", element=\"68c2f521-95f1-4130-bc0f-d60dd1f49010\")>,\n",
       " <selenium.webdriver.remote.webelement.WebElement (session=\"c05af113cc4cc298e3ea46aff512fc93\", element=\"66cd310f-c84a-458e-b7e9-fa2a94e5a9dd\")>,\n",
       " <selenium.webdriver.remote.webelement.WebElement (session=\"c05af113cc4cc298e3ea46aff512fc93\", element=\"8cde9460-486e-467f-8764-77bbf55e557a\")>,\n",
       " <selenium.webdriver.remote.webelement.WebElement (session=\"c05af113cc4cc298e3ea46aff512fc93\", element=\"e6c82be9-badc-4d0b-9a54-ff5b4d75c642\")>,\n",
       " <selenium.webdriver.remote.webelement.WebElement (session=\"c05af113cc4cc298e3ea46aff512fc93\", element=\"13e03f99-9fa3-45e5-84b3-d44b06b8cdaa\")>,\n",
       " <selenium.webdriver.remote.webelement.WebElement (session=\"c05af113cc4cc298e3ea46aff512fc93\", element=\"c0eb3e02-6f93-4483-b7b9-14ebd10a692a\")>,\n",
       " <selenium.webdriver.remote.webelement.WebElement (session=\"c05af113cc4cc298e3ea46aff512fc93\", element=\"31ded004-9196-4acf-913b-38683b808141\")>,\n",
       " <selenium.webdriver.remote.webelement.WebElement (session=\"c05af113cc4cc298e3ea46aff512fc93\", element=\"1966b283-4d9e-461f-877c-7d5a41c70a9e\")>,\n",
       " <selenium.webdriver.remote.webelement.WebElement (session=\"c05af113cc4cc298e3ea46aff512fc93\", element=\"8604109f-425c-402a-b1a7-75fa09e82345\")>,\n",
       " <selenium.webdriver.remote.webelement.WebElement (session=\"c05af113cc4cc298e3ea46aff512fc93\", element=\"4d26b1af-4a7c-4a30-9e63-cea44d06cf57\")>,\n",
       " <selenium.webdriver.remote.webelement.WebElement (session=\"c05af113cc4cc298e3ea46aff512fc93\", element=\"50c4cbf2-41a1-481c-a074-80c6b64f309f\")>,\n",
       " <selenium.webdriver.remote.webelement.WebElement (session=\"c05af113cc4cc298e3ea46aff512fc93\", element=\"b20e375e-bb78-4825-9498-e710a5929f66\")>,\n",
       " <selenium.webdriver.remote.webelement.WebElement (session=\"c05af113cc4cc298e3ea46aff512fc93\", element=\"35ca192b-8334-4fcb-80d2-367d479deb9c\")>,\n",
       " <selenium.webdriver.remote.webelement.WebElement (session=\"c05af113cc4cc298e3ea46aff512fc93\", element=\"bfffa9bf-6fa9-4f8a-a99f-2b84dcda7305\")>,\n",
       " <selenium.webdriver.remote.webelement.WebElement (session=\"c05af113cc4cc298e3ea46aff512fc93\", element=\"ad746a79-c640-4585-b9d0-3b5738d852f3\")>,\n",
       " <selenium.webdriver.remote.webelement.WebElement (session=\"c05af113cc4cc298e3ea46aff512fc93\", element=\"432d8b45-4bfe-4059-b85b-ec101f83b224\")>,\n",
       " <selenium.webdriver.remote.webelement.WebElement (session=\"c05af113cc4cc298e3ea46aff512fc93\", element=\"218ada00-d3e6-4e42-b8f0-d0a34e9b4901\")>,\n",
       " <selenium.webdriver.remote.webelement.WebElement (session=\"c05af113cc4cc298e3ea46aff512fc93\", element=\"43faa5e3-dc05-403e-a391-d2b5492b70ae\")>,\n",
       " <selenium.webdriver.remote.webelement.WebElement (session=\"c05af113cc4cc298e3ea46aff512fc93\", element=\"1ef15c0b-c687-407a-bb50-98f72b59ac8a\")>,\n",
       " <selenium.webdriver.remote.webelement.WebElement (session=\"c05af113cc4cc298e3ea46aff512fc93\", element=\"218cfad0-abb7-4e54-9936-2eca416030f9\")>,\n",
       " <selenium.webdriver.remote.webelement.WebElement (session=\"c05af113cc4cc298e3ea46aff512fc93\", element=\"7e2c8f4c-0292-405d-a2f4-137e174b3335\")>,\n",
       " <selenium.webdriver.remote.webelement.WebElement (session=\"c05af113cc4cc298e3ea46aff512fc93\", element=\"ce71b111-55db-49e4-bac7-cbbd8ef50f21\")>,\n",
       " <selenium.webdriver.remote.webelement.WebElement (session=\"c05af113cc4cc298e3ea46aff512fc93\", element=\"c1265f4d-1032-4e28-93f9-a5f91f7dd1b4\")>,\n",
       " <selenium.webdriver.remote.webelement.WebElement (session=\"c05af113cc4cc298e3ea46aff512fc93\", element=\"cc357904-1f56-414f-9b67-1d6c40b202f3\")>,\n",
       " <selenium.webdriver.remote.webelement.WebElement (session=\"c05af113cc4cc298e3ea46aff512fc93\", element=\"e63cf0f6-5fdb-43a8-a87d-d479b2a0ea1b\")>,\n",
       " <selenium.webdriver.remote.webelement.WebElement (session=\"c05af113cc4cc298e3ea46aff512fc93\", element=\"a6fe1902-b299-458f-8404-711eefbce3cd\")>,\n",
       " <selenium.webdriver.remote.webelement.WebElement (session=\"c05af113cc4cc298e3ea46aff512fc93\", element=\"18f7cd12-4012-49d0-a958-6ad8107aabc4\")>,\n",
       " <selenium.webdriver.remote.webelement.WebElement (session=\"c05af113cc4cc298e3ea46aff512fc93\", element=\"3774ecbe-239e-4957-89ee-e95a2bd21e23\")>,\n",
       " <selenium.webdriver.remote.webelement.WebElement (session=\"c05af113cc4cc298e3ea46aff512fc93\", element=\"e84e635a-9209-4142-af72-db9157d29553\")>,\n",
       " <selenium.webdriver.remote.webelement.WebElement (session=\"c05af113cc4cc298e3ea46aff512fc93\", element=\"ae9307ec-5947-40be-8bbf-f8d77c4783a6\")>,\n",
       " <selenium.webdriver.remote.webelement.WebElement (session=\"c05af113cc4cc298e3ea46aff512fc93\", element=\"43225357-0e7a-4186-a4de-949bdf6ef925\")>,\n",
       " <selenium.webdriver.remote.webelement.WebElement (session=\"c05af113cc4cc298e3ea46aff512fc93\", element=\"2e0dad45-f93f-459b-960b-16aff31ded46\")>,\n",
       " <selenium.webdriver.remote.webelement.WebElement (session=\"c05af113cc4cc298e3ea46aff512fc93\", element=\"7f92a9cb-c501-4551-a993-63e66f73e8f6\")>,\n",
       " <selenium.webdriver.remote.webelement.WebElement (session=\"c05af113cc4cc298e3ea46aff512fc93\", element=\"da2b8e99-aa8b-4f4c-b704-6d2b6d684857\")>,\n",
       " <selenium.webdriver.remote.webelement.WebElement (session=\"c05af113cc4cc298e3ea46aff512fc93\", element=\"2b83d78c-d7f5-48a1-ace8-9a9c6a0e2bf8\")>,\n",
       " <selenium.webdriver.remote.webelement.WebElement (session=\"c05af113cc4cc298e3ea46aff512fc93\", element=\"569d0449-2912-4448-9345-8494487e4e38\")>,\n",
       " <selenium.webdriver.remote.webelement.WebElement (session=\"c05af113cc4cc298e3ea46aff512fc93\", element=\"5be2f102-55fc-4f04-814b-166c653ba950\")>,\n",
       " <selenium.webdriver.remote.webelement.WebElement (session=\"c05af113cc4cc298e3ea46aff512fc93\", element=\"b28edaee-22ee-4ac0-9d0b-d4531dc20d31\")>,\n",
       " <selenium.webdriver.remote.webelement.WebElement (session=\"c05af113cc4cc298e3ea46aff512fc93\", element=\"53423b17-1b4f-4103-b6eb-cae491fe39d9\")>,\n",
       " <selenium.webdriver.remote.webelement.WebElement (session=\"c05af113cc4cc298e3ea46aff512fc93\", element=\"6b5a8784-df0a-4d8e-8b67-20743a08f98c\")>,\n",
       " <selenium.webdriver.remote.webelement.WebElement (session=\"c05af113cc4cc298e3ea46aff512fc93\", element=\"c81c2f00-a289-455d-aefb-260e709c69e5\")>,\n",
       " <selenium.webdriver.remote.webelement.WebElement (session=\"c05af113cc4cc298e3ea46aff512fc93\", element=\"451e2053-9350-4966-9d22-43b02efdb815\")>,\n",
       " <selenium.webdriver.remote.webelement.WebElement (session=\"c05af113cc4cc298e3ea46aff512fc93\", element=\"2490d52b-c5bc-44e7-9150-eb36de33100c\")>,\n",
       " <selenium.webdriver.remote.webelement.WebElement (session=\"c05af113cc4cc298e3ea46aff512fc93\", element=\"444c3d29-578e-49ec-b750-6f38b9c684fa\")>,\n",
       " <selenium.webdriver.remote.webelement.WebElement (session=\"c05af113cc4cc298e3ea46aff512fc93\", element=\"a90cfd39-a310-4ae4-aee3-8bb16870e5ee\")>,\n",
       " <selenium.webdriver.remote.webelement.WebElement (session=\"c05af113cc4cc298e3ea46aff512fc93\", element=\"5fc39ea3-dd2f-4ceb-8e39-af49f408cb2f\")>,\n",
       " <selenium.webdriver.remote.webelement.WebElement (session=\"c05af113cc4cc298e3ea46aff512fc93\", element=\"bf529205-bd28-4d28-9c83-9e0d40afd372\")>,\n",
       " <selenium.webdriver.remote.webelement.WebElement (session=\"c05af113cc4cc298e3ea46aff512fc93\", element=\"81f9e5e8-696d-41a1-b629-c64f2d5beac7\")>,\n",
       " <selenium.webdriver.remote.webelement.WebElement (session=\"c05af113cc4cc298e3ea46aff512fc93\", element=\"e0ed8966-e34d-4afa-b3f1-a9c51cfacdbd\")>,\n",
       " <selenium.webdriver.remote.webelement.WebElement (session=\"c05af113cc4cc298e3ea46aff512fc93\", element=\"2d125eb6-03d0-4d5a-a41d-545e44eeda9a\")>,\n",
       " <selenium.webdriver.remote.webelement.WebElement (session=\"c05af113cc4cc298e3ea46aff512fc93\", element=\"10d6347a-047d-43d2-a03f-6620ee20d63f\")>,\n",
       " <selenium.webdriver.remote.webelement.WebElement (session=\"c05af113cc4cc298e3ea46aff512fc93\", element=\"1657daca-7fa5-4dfa-bb62-2aaa40d12242\")>,\n",
       " <selenium.webdriver.remote.webelement.WebElement (session=\"c05af113cc4cc298e3ea46aff512fc93\", element=\"c17ac4c0-8596-4da1-b943-b1fd00863f6a\")>,\n",
       " <selenium.webdriver.remote.webelement.WebElement (session=\"c05af113cc4cc298e3ea46aff512fc93\", element=\"2d95bab6-bbab-4cb4-95af-c83583389c0b\")>,\n",
       " <selenium.webdriver.remote.webelement.WebElement (session=\"c05af113cc4cc298e3ea46aff512fc93\", element=\"d436633d-9ad8-4743-acda-7f3dce6f96df\")>,\n",
       " <selenium.webdriver.remote.webelement.WebElement (session=\"c05af113cc4cc298e3ea46aff512fc93\", element=\"ca729d27-1dc9-4a88-bd46-89705d4348cc\")>,\n",
       " <selenium.webdriver.remote.webelement.WebElement (session=\"c05af113cc4cc298e3ea46aff512fc93\", element=\"94ff7bb9-45d3-4009-8e6b-25dea76ff080\")>,\n",
       " <selenium.webdriver.remote.webelement.WebElement (session=\"c05af113cc4cc298e3ea46aff512fc93\", element=\"c3d87254-e1a1-47b6-b599-2cf205842a67\")>]"
      ]
     },
     "execution_count": 13,
     "metadata": {},
     "output_type": "execute_result"
    }
   ],
   "source": [
    "line4=browser.find_elements(\"xpath\",\"//div[@class='td-wrap-in']\")\n",
    "line4"
   ]
  },
  {
   "cell_type": "code",
   "execution_count": 15,
   "id": "e98af57a",
   "metadata": {},
   "outputs": [
    {
     "data": {
      "text/plain": [
       "['81.6', '98.6', '94.9', '95', '17.9', '99.8', '93.1', '97.6', '91.1']"
      ]
     },
     "execution_count": 15,
     "metadata": {},
     "output_type": "execute_result"
    }
   ],
   "source": [
    "#PARSING DATA\n",
    "value=[]\n",
    "for data in line4:\n",
    "    #get the text data\n",
    "    temp=data.text\n",
    "    value.append(temp)\n",
    "value_h=value[21:30]\n",
    "value_h"
   ]
  },
  {
   "cell_type": "code",
   "execution_count": 16,
   "id": "1a85027f",
   "metadata": {},
   "outputs": [
    {
     "data": {
      "text/plain": [
       "{'Name': 'The University of Melbourne',\n",
       " 'Location': 'Parkville, Australia',\n",
       " 'Rank': '33',\n",
       " 'Overall Score': '81.6',\n",
       " 'Academic Reputation': '98.6',\n",
       " 'Employer Reputation': '94.9',\n",
       " 'Citations per Faculty': '95',\n",
       " 'Faculty Student Ratio': '17.9',\n",
       " 'International Students Ratio': '99.8',\n",
       " 'International Faculty Ratio': '93.1',\n",
       " 'International Research Network\\nUnweighted': '97.6',\n",
       " 'Employment Outcomes\\nUnweighted': '91.1'}"
      ]
     },
     "execution_count": 16,
     "metadata": {},
     "output_type": "execute_result"
    }
   ],
   "source": [
    "d={}\n",
    "d['Name']=value[20]\n",
    "d['Location']=address[2]\n",
    "d['Rank']=Rank[2]\n",
    "for i in range(len(column)):\n",
    "    d[column[i]]=value_h[i]\n",
    "d"
   ]
  },
  {
   "cell_type": "code",
   "execution_count": 17,
   "id": "a7e1b8aa",
   "metadata": {},
   "outputs": [
    {
     "data": {
      "text/plain": [
       "'{\"Name\": \"The University of Melbourne\", \"Location\": \"Parkville, Australia\", \"Rank\": \"33\", \"Overall Score\": \"81.6\", \"Academic Reputation\": \"98.6\", \"Employer Reputation\": \"94.9\", \"Citations per Faculty\": \"95\", \"Faculty Student Ratio\": \"17.9\", \"International Students Ratio\": \"99.8\", \"International Faculty Ratio\": \"93.1\", \"International Research Network\\\\nUnweighted\": \"97.6\", \"Employment Outcomes\\\\nUnweighted\": \"91.1\"}'"
      ]
     },
     "execution_count": 17,
     "metadata": {},
     "output_type": "execute_result"
    }
   ],
   "source": [
    "s1=json.dumps(d)\n",
    "s1\n"
   ]
  },
  {
   "cell_type": "code",
   "execution_count": 18,
   "id": "609bb292",
   "metadata": {},
   "outputs": [],
   "source": [
    "with open('The University of Melbourne.json','w') as f:\n",
    "    json.dump(d,f)"
   ]
  },
  {
   "cell_type": "code",
   "execution_count": null,
   "id": "5946dd48",
   "metadata": {},
   "outputs": [],
   "source": []
  }
 ],
 "metadata": {
  "kernelspec": {
   "display_name": "Python 3.9.12 ('base')",
   "language": "python",
   "name": "python3"
  },
  "language_info": {
   "codemirror_mode": {
    "name": "ipython",
    "version": 3
   },
   "file_extension": ".py",
   "mimetype": "text/x-python",
   "name": "python",
   "nbconvert_exporter": "python",
   "pygments_lexer": "ipython3",
   "version": "3.9.12"
  },
  "vscode": {
   "interpreter": {
    "hash": "ad2bdc8ecc057115af97d19610ffacc2b4e99fae6737bb82f5d7fb13d2f2c186"
   }
  }
 },
 "nbformat": 4,
 "nbformat_minor": 5
}
