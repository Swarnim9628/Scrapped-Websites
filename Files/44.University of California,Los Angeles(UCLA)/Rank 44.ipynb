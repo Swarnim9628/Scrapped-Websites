{
 "cells": [
  {
   "cell_type": "code",
   "execution_count": 1,
   "id": "c0fcbc09",
   "metadata": {},
   "outputs": [],
   "source": [
    "from selenium import webdriver\n",
    "from selenium.webdriver.chrome.service import Service\n",
    "import pandas as pd\n",
    "import json"
   ]
  },
  {
   "cell_type": "code",
   "execution_count": 2,
   "id": "c095f539",
   "metadata": {},
   "outputs": [],
   "source": [
    "path = Service('C:\\chromedriver.exe')"
   ]
  },
  {
   "cell_type": "code",
   "execution_count": 3,
   "id": "cb94c801",
   "metadata": {},
   "outputs": [],
   "source": [
    "# set path for the driver\n",
    "browser = webdriver.Chrome(service = path)\n"
   ]
  },
  {
   "cell_type": "code",
   "execution_count": 4,
   "id": "df25ed45",
   "metadata": {},
   "outputs": [],
   "source": [
    "url = \"https://www.topuniversities.com/university-rankings/world-university-rankings/2023\""
   ]
  },
  {
   "cell_type": "code",
   "execution_count": 5,
   "id": "869192f6",
   "metadata": {},
   "outputs": [],
   "source": [
    "# open the page url ion chrome\n",
    "browser.get(url)"
   ]
  },
  {
   "cell_type": "code",
   "execution_count": 12,
   "id": "2a909f68",
   "metadata": {},
   "outputs": [
    {
     "data": {
      "text/plain": [
       "[<selenium.webdriver.remote.webelement.WebElement (session=\"8e63e04152b67679cd67d5abf06380a4\", element=\"2f678065-7b70-4444-a98c-f3616e04934b\")>,\n",
       " <selenium.webdriver.remote.webelement.WebElement (session=\"8e63e04152b67679cd67d5abf06380a4\", element=\"286327a4-bc07-42b3-a94a-213346c27939\")>,\n",
       " <selenium.webdriver.remote.webelement.WebElement (session=\"8e63e04152b67679cd67d5abf06380a4\", element=\"bf056b2b-a2a9-4c0e-bba5-be61787bbdd0\")>,\n",
       " <selenium.webdriver.remote.webelement.WebElement (session=\"8e63e04152b67679cd67d5abf06380a4\", element=\"b6b48df6-d223-4f3d-9b5f-2ab1922e1e5e\")>,\n",
       " <selenium.webdriver.remote.webelement.WebElement (session=\"8e63e04152b67679cd67d5abf06380a4\", element=\"ab53d97a-4957-4c9e-acdc-663b9c0b7a5c\")>,\n",
       " <selenium.webdriver.remote.webelement.WebElement (session=\"8e63e04152b67679cd67d5abf06380a4\", element=\"0dd30e8c-daf8-446a-9fa4-00d74ed28892\")>,\n",
       " <selenium.webdriver.remote.webelement.WebElement (session=\"8e63e04152b67679cd67d5abf06380a4\", element=\"85691db9-f3e7-4502-9f68-5d3cd9b79965\")>,\n",
       " <selenium.webdriver.remote.webelement.WebElement (session=\"8e63e04152b67679cd67d5abf06380a4\", element=\"7963321a-91b2-49dc-a2d8-97b3c9d69257\")>,\n",
       " <selenium.webdriver.remote.webelement.WebElement (session=\"8e63e04152b67679cd67d5abf06380a4\", element=\"4515005b-8e5c-4673-8c00-3a578791681b\")>,\n",
       " <selenium.webdriver.remote.webelement.WebElement (session=\"8e63e04152b67679cd67d5abf06380a4\", element=\"d5d48127-9891-41f8-aff1-883bb480c9c9\")>,\n",
       " <selenium.webdriver.remote.webelement.WebElement (session=\"8e63e04152b67679cd67d5abf06380a4\", element=\"f5456388-aeca-4ba2-a667-bfbb44fff6c2\")>,\n",
       " <selenium.webdriver.remote.webelement.WebElement (session=\"8e63e04152b67679cd67d5abf06380a4\", element=\"8ccc3821-cb47-4167-85bd-b756b9e59ad3\")>,\n",
       " <selenium.webdriver.remote.webelement.WebElement (session=\"8e63e04152b67679cd67d5abf06380a4\", element=\"bad12470-bc18-45dc-868e-a19fd7470955\")>,\n",
       " <selenium.webdriver.remote.webelement.WebElement (session=\"8e63e04152b67679cd67d5abf06380a4\", element=\"d1834dad-f723-418e-8c68-1cd0fd96376b\")>,\n",
       " <selenium.webdriver.remote.webelement.WebElement (session=\"8e63e04152b67679cd67d5abf06380a4\", element=\"42863174-d8b4-481e-966d-ca2f07afbb00\")>,\n",
       " <selenium.webdriver.remote.webelement.WebElement (session=\"8e63e04152b67679cd67d5abf06380a4\", element=\"a6d604d8-2f52-4a22-8000-4203ea6d29c7\")>,\n",
       " <selenium.webdriver.remote.webelement.WebElement (session=\"8e63e04152b67679cd67d5abf06380a4\", element=\"76826ec0-398c-4d96-a91b-dff9bbfa8dd1\")>,\n",
       " <selenium.webdriver.remote.webelement.WebElement (session=\"8e63e04152b67679cd67d5abf06380a4\", element=\"7e4582c7-bbca-47db-b582-a829d89ac65a\")>,\n",
       " <selenium.webdriver.remote.webelement.WebElement (session=\"8e63e04152b67679cd67d5abf06380a4\", element=\"3a5625f7-fd2a-4dfa-8311-3f7027b6aee6\")>,\n",
       " <selenium.webdriver.remote.webelement.WebElement (session=\"8e63e04152b67679cd67d5abf06380a4\", element=\"8ac69b9a-6eec-4ce7-ba3b-1897f0b7e86f\")>]"
      ]
     },
     "execution_count": 12,
     "metadata": {},
     "output_type": "execute_result"
    }
   ],
   "source": [
    "line1=browser.find_elements(\"xpath\",\"//div[@class='location ']\")\n",
    "line1"
   ]
  },
  {
   "cell_type": "code",
   "execution_count": 13,
   "id": "240c4356",
   "metadata": {},
   "outputs": [
    {
     "data": {
      "text/plain": [
       "['Sydney, Australia',\n",
       " 'Daejeon, South Korea',\n",
       " 'Hangzhou, China (Mainland)',\n",
       " 'Los Angeles, United States',\n",
       " 'Sydney, Australia',\n",
       " 'Shanghai, China (Mainland)',\n",
       " 'Vancouver, Canada',\n",
       " 'Palaiseau Cedex, France',\n",
       " 'Munich, Germany',\n",
       " 'Durham, United States']"
      ]
     },
     "execution_count": 13,
     "metadata": {},
     "output_type": "execute_result"
    }
   ],
   "source": [
    "address=[]\n",
    "for data in line1:\n",
    "    #get the text data\n",
    "    temp=data.text\n",
    "    address.append(temp)\n",
    "address=address[10:]\n",
    "address"
   ]
  },
  {
   "cell_type": "code",
   "execution_count": 14,
   "id": "b296aa70",
   "metadata": {},
   "outputs": [
    {
     "data": {
      "text/plain": [
       "[<selenium.webdriver.remote.webelement.WebElement (session=\"8e63e04152b67679cd67d5abf06380a4\", element=\"f8977da1-14fc-45ca-a61c-3b571d93fe5e\")>,\n",
       " <selenium.webdriver.remote.webelement.WebElement (session=\"8e63e04152b67679cd67d5abf06380a4\", element=\"8daa7336-0498-48ac-9275-d577f0b36b55\")>,\n",
       " <selenium.webdriver.remote.webelement.WebElement (session=\"8e63e04152b67679cd67d5abf06380a4\", element=\"d5ec87ff-8ddd-4a5a-bfc6-27deb1d63ffd\")>,\n",
       " <selenium.webdriver.remote.webelement.WebElement (session=\"8e63e04152b67679cd67d5abf06380a4\", element=\"63335096-8f7c-4a7a-9e09-a076bd78e5b4\")>,\n",
       " <selenium.webdriver.remote.webelement.WebElement (session=\"8e63e04152b67679cd67d5abf06380a4\", element=\"1bc236e5-4d9e-4f3b-95f3-39980e37d838\")>,\n",
       " <selenium.webdriver.remote.webelement.WebElement (session=\"8e63e04152b67679cd67d5abf06380a4\", element=\"be450c39-f820-4b89-bfec-94ed62c2f507\")>,\n",
       " <selenium.webdriver.remote.webelement.WebElement (session=\"8e63e04152b67679cd67d5abf06380a4\", element=\"6109e063-4e34-4514-97af-bcde4a8342dc\")>,\n",
       " <selenium.webdriver.remote.webelement.WebElement (session=\"8e63e04152b67679cd67d5abf06380a4\", element=\"96b97903-0cf7-4bcb-bda7-ba578f66a8d1\")>,\n",
       " <selenium.webdriver.remote.webelement.WebElement (session=\"8e63e04152b67679cd67d5abf06380a4\", element=\"1a6abfcf-3a9f-4cb8-96dd-0045da8343f3\")>,\n",
       " <selenium.webdriver.remote.webelement.WebElement (session=\"8e63e04152b67679cd67d5abf06380a4\", element=\"bc5d8ca0-ee24-454c-bb1e-0865a065bcd3\")>]"
      ]
     },
     "execution_count": 14,
     "metadata": {},
     "output_type": "execute_result"
    }
   ],
   "source": [
    "line2=browser.find_elements(\"xpath\",\"//div[@class='_univ-rank ']\")\n",
    "line2"
   ]
  },
  {
   "cell_type": "code",
   "execution_count": 15,
   "id": "aa68919a",
   "metadata": {},
   "outputs": [
    {
     "data": {
      "text/plain": [
       "['41', '=42', '=42', '44', '45', '46', '47', '48', '49', '=50']"
      ]
     },
     "execution_count": 15,
     "metadata": {},
     "output_type": "execute_result"
    }
   ],
   "source": [
    "Rank=[]\n",
    "for data in line2:\n",
    "    #get the text data\n",
    "    temp=data.text\n",
    "    Rank.append(temp)\n",
    "Rank"
   ]
  },
  {
   "cell_type": "code",
   "execution_count": 16,
   "id": "a3be0e98",
   "metadata": {},
   "outputs": [
    {
     "data": {
      "text/plain": [
       "[<selenium.webdriver.remote.webelement.WebElement (session=\"8e63e04152b67679cd67d5abf06380a4\", element=\"7bc4a96d-9345-490e-9bbf-4a81964d3daa\")>,\n",
       " <selenium.webdriver.remote.webelement.WebElement (session=\"8e63e04152b67679cd67d5abf06380a4\", element=\"0f1eeb1c-1d41-4553-9dc9-0be61ab1b1d9\")>,\n",
       " <selenium.webdriver.remote.webelement.WebElement (session=\"8e63e04152b67679cd67d5abf06380a4\", element=\"76445017-f100-4a1b-b1d9-8e17532580bc\")>,\n",
       " <selenium.webdriver.remote.webelement.WebElement (session=\"8e63e04152b67679cd67d5abf06380a4\", element=\"5f549b5a-7cac-4320-a4df-14236e321859\")>,\n",
       " <selenium.webdriver.remote.webelement.WebElement (session=\"8e63e04152b67679cd67d5abf06380a4\", element=\"a9625fa2-069c-485e-9023-380204c80ce4\")>,\n",
       " <selenium.webdriver.remote.webelement.WebElement (session=\"8e63e04152b67679cd67d5abf06380a4\", element=\"ea12bbd7-992d-461d-a538-e5ab95521723\")>,\n",
       " <selenium.webdriver.remote.webelement.WebElement (session=\"8e63e04152b67679cd67d5abf06380a4\", element=\"0c75d0da-9564-490e-bf71-b39a700858d8\")>,\n",
       " <selenium.webdriver.remote.webelement.WebElement (session=\"8e63e04152b67679cd67d5abf06380a4\", element=\"cf5ed621-d0e0-4ab3-a16c-c8ad39b366ef\")>,\n",
       " <selenium.webdriver.remote.webelement.WebElement (session=\"8e63e04152b67679cd67d5abf06380a4\", element=\"720c5ef6-44bd-4f4a-ad16-63e6eeead510\")>]"
      ]
     },
     "execution_count": 16,
     "metadata": {},
     "output_type": "execute_result"
    }
   ],
   "source": [
    "# GET EACH COLLEGE SPECIFICATION HEADERS\n",
    "line3=browser.find_elements(\"xpath\",\"//div[@class='_click-function_ind']\")\n",
    "line3"
   ]
  },
  {
   "cell_type": "code",
   "execution_count": 17,
   "id": "326a5912",
   "metadata": {},
   "outputs": [
    {
     "data": {
      "text/plain": [
       "['Overall Score',\n",
       " 'Academic Reputation',\n",
       " 'Employer Reputation',\n",
       " 'Citations per Faculty',\n",
       " 'Faculty Student Ratio',\n",
       " 'International Students Ratio',\n",
       " 'International Faculty Ratio',\n",
       " 'International Research Network\\nUnweighted',\n",
       " 'Employment Outcomes\\nUnweighted']"
      ]
     },
     "execution_count": 17,
     "metadata": {},
     "output_type": "execute_result"
    }
   ],
   "source": [
    "#PARSING DATA\n",
    "column=[]\n",
    "for data in line3:\n",
    "    #get the text data\n",
    "    temp=data.text\n",
    "    column.append(temp)\n",
    "column"
   ]
  },
  {
   "cell_type": "code",
   "execution_count": 18,
   "id": "f3469b3f",
   "metadata": {},
   "outputs": [
    {
     "data": {
      "text/plain": [
       "[<selenium.webdriver.remote.webelement.WebElement (session=\"8e63e04152b67679cd67d5abf06380a4\", element=\"1d967d51-f6ea-4567-8b9d-bbf132393359\")>,\n",
       " <selenium.webdriver.remote.webelement.WebElement (session=\"8e63e04152b67679cd67d5abf06380a4\", element=\"4a86f88a-e623-4fde-84ea-bbaba81ffcfe\")>,\n",
       " <selenium.webdriver.remote.webelement.WebElement (session=\"8e63e04152b67679cd67d5abf06380a4\", element=\"80f468b3-6c3c-410d-8cf1-0dce21889e5c\")>,\n",
       " <selenium.webdriver.remote.webelement.WebElement (session=\"8e63e04152b67679cd67d5abf06380a4\", element=\"14571fc1-0898-4ac4-bc7e-af5940864958\")>,\n",
       " <selenium.webdriver.remote.webelement.WebElement (session=\"8e63e04152b67679cd67d5abf06380a4\", element=\"e2c1ee8d-f064-466c-9073-60e5d94d0ebe\")>,\n",
       " <selenium.webdriver.remote.webelement.WebElement (session=\"8e63e04152b67679cd67d5abf06380a4\", element=\"55687472-493f-4f36-ae8a-09e381c16b5e\")>,\n",
       " <selenium.webdriver.remote.webelement.WebElement (session=\"8e63e04152b67679cd67d5abf06380a4\", element=\"2ab206ef-3bde-4720-a800-9d27eb96c2ca\")>,\n",
       " <selenium.webdriver.remote.webelement.WebElement (session=\"8e63e04152b67679cd67d5abf06380a4\", element=\"989347d9-3bd5-4546-bf71-8ac2fd3dcc41\")>,\n",
       " <selenium.webdriver.remote.webelement.WebElement (session=\"8e63e04152b67679cd67d5abf06380a4\", element=\"dd7b30d8-1822-4d25-8365-a75d2207bf14\")>,\n",
       " <selenium.webdriver.remote.webelement.WebElement (session=\"8e63e04152b67679cd67d5abf06380a4\", element=\"06a48354-f111-4c76-beb0-844ba6751257\")>,\n",
       " <selenium.webdriver.remote.webelement.WebElement (session=\"8e63e04152b67679cd67d5abf06380a4\", element=\"afb3a404-8b66-47dd-81c8-2fb9cdc37775\")>,\n",
       " <selenium.webdriver.remote.webelement.WebElement (session=\"8e63e04152b67679cd67d5abf06380a4\", element=\"23a7a267-f255-4c71-8ad1-eaa4da820430\")>,\n",
       " <selenium.webdriver.remote.webelement.WebElement (session=\"8e63e04152b67679cd67d5abf06380a4\", element=\"763503e4-caaf-4523-9c07-45a7f3ff0874\")>,\n",
       " <selenium.webdriver.remote.webelement.WebElement (session=\"8e63e04152b67679cd67d5abf06380a4\", element=\"73f281a6-c456-4489-9518-c633ce1fa99f\")>,\n",
       " <selenium.webdriver.remote.webelement.WebElement (session=\"8e63e04152b67679cd67d5abf06380a4\", element=\"d913a357-bfac-41a3-9db2-73f59cb741c1\")>,\n",
       " <selenium.webdriver.remote.webelement.WebElement (session=\"8e63e04152b67679cd67d5abf06380a4\", element=\"fb4b255b-d7e0-4cbf-8d33-6abaf1ba7a8b\")>,\n",
       " <selenium.webdriver.remote.webelement.WebElement (session=\"8e63e04152b67679cd67d5abf06380a4\", element=\"9bf25a32-8b7d-4d65-b62e-4c7827463a65\")>,\n",
       " <selenium.webdriver.remote.webelement.WebElement (session=\"8e63e04152b67679cd67d5abf06380a4\", element=\"6c10723e-40a6-4ce7-a0f9-f11dd446c029\")>,\n",
       " <selenium.webdriver.remote.webelement.WebElement (session=\"8e63e04152b67679cd67d5abf06380a4\", element=\"0d5a789d-69a0-4553-aec2-46e30578d88f\")>,\n",
       " <selenium.webdriver.remote.webelement.WebElement (session=\"8e63e04152b67679cd67d5abf06380a4\", element=\"f6982bf6-f226-49d5-a04d-2cc6cbf7f975\")>,\n",
       " <selenium.webdriver.remote.webelement.WebElement (session=\"8e63e04152b67679cd67d5abf06380a4\", element=\"b175e838-b26d-4c60-b693-0a975368cdd9\")>,\n",
       " <selenium.webdriver.remote.webelement.WebElement (session=\"8e63e04152b67679cd67d5abf06380a4\", element=\"7ed9edff-7cdc-4978-991e-33db5f3768e1\")>,\n",
       " <selenium.webdriver.remote.webelement.WebElement (session=\"8e63e04152b67679cd67d5abf06380a4\", element=\"da78f766-ed7a-4a0c-994b-4b9b09889b38\")>,\n",
       " <selenium.webdriver.remote.webelement.WebElement (session=\"8e63e04152b67679cd67d5abf06380a4\", element=\"5199e1a1-5e18-4994-ad9a-4aeafc2e0a19\")>,\n",
       " <selenium.webdriver.remote.webelement.WebElement (session=\"8e63e04152b67679cd67d5abf06380a4\", element=\"6725f325-e900-411b-833d-04d13ff5568a\")>,\n",
       " <selenium.webdriver.remote.webelement.WebElement (session=\"8e63e04152b67679cd67d5abf06380a4\", element=\"f4bb381d-db13-4002-ad1a-2630086766c1\")>,\n",
       " <selenium.webdriver.remote.webelement.WebElement (session=\"8e63e04152b67679cd67d5abf06380a4\", element=\"b4f1e0dd-4027-4454-800e-c53153f39d6d\")>,\n",
       " <selenium.webdriver.remote.webelement.WebElement (session=\"8e63e04152b67679cd67d5abf06380a4\", element=\"ff0f3294-2d00-4a9b-a4ba-808d0521f545\")>,\n",
       " <selenium.webdriver.remote.webelement.WebElement (session=\"8e63e04152b67679cd67d5abf06380a4\", element=\"cea81240-3359-4e51-986f-ecb18ceacfa5\")>,\n",
       " <selenium.webdriver.remote.webelement.WebElement (session=\"8e63e04152b67679cd67d5abf06380a4\", element=\"e84eb89e-e788-40fd-8981-885df9c66a1a\")>,\n",
       " <selenium.webdriver.remote.webelement.WebElement (session=\"8e63e04152b67679cd67d5abf06380a4\", element=\"86fdd6a7-9c75-4a69-90ce-4db7cd8eeeef\")>,\n",
       " <selenium.webdriver.remote.webelement.WebElement (session=\"8e63e04152b67679cd67d5abf06380a4\", element=\"5d23f068-b1f8-4583-8a49-7f31ab741479\")>,\n",
       " <selenium.webdriver.remote.webelement.WebElement (session=\"8e63e04152b67679cd67d5abf06380a4\", element=\"35f0a065-09e0-4b9b-9db3-0dfb02ffdaa1\")>,\n",
       " <selenium.webdriver.remote.webelement.WebElement (session=\"8e63e04152b67679cd67d5abf06380a4\", element=\"6d46f316-7d57-4959-9484-50e2789ebdd0\")>,\n",
       " <selenium.webdriver.remote.webelement.WebElement (session=\"8e63e04152b67679cd67d5abf06380a4\", element=\"cbd8a6ac-7a38-4b02-834c-504482042074\")>,\n",
       " <selenium.webdriver.remote.webelement.WebElement (session=\"8e63e04152b67679cd67d5abf06380a4\", element=\"f2d63366-3e9d-4c8d-a924-bb9c3a78cf2e\")>,\n",
       " <selenium.webdriver.remote.webelement.WebElement (session=\"8e63e04152b67679cd67d5abf06380a4\", element=\"41078894-9697-423c-8fd1-c5be862f00bc\")>,\n",
       " <selenium.webdriver.remote.webelement.WebElement (session=\"8e63e04152b67679cd67d5abf06380a4\", element=\"ef74fe72-d83c-46bd-9bee-aed8dbc227c5\")>,\n",
       " <selenium.webdriver.remote.webelement.WebElement (session=\"8e63e04152b67679cd67d5abf06380a4\", element=\"893b6aaf-11a9-45cb-b6b1-100fa7972470\")>,\n",
       " <selenium.webdriver.remote.webelement.WebElement (session=\"8e63e04152b67679cd67d5abf06380a4\", element=\"9b85ef3a-9361-473f-b641-5e04c900acfb\")>,\n",
       " <selenium.webdriver.remote.webelement.WebElement (session=\"8e63e04152b67679cd67d5abf06380a4\", element=\"c99c6762-f79d-4103-bb81-78d01371ca1c\")>,\n",
       " <selenium.webdriver.remote.webelement.WebElement (session=\"8e63e04152b67679cd67d5abf06380a4\", element=\"850de046-f909-4cd0-8cc2-630a4a7f93d1\")>,\n",
       " <selenium.webdriver.remote.webelement.WebElement (session=\"8e63e04152b67679cd67d5abf06380a4\", element=\"1cfa1919-35a5-424c-ae7e-433870b1debf\")>,\n",
       " <selenium.webdriver.remote.webelement.WebElement (session=\"8e63e04152b67679cd67d5abf06380a4\", element=\"ae5678ee-fcb6-40df-a479-863ec7117b71\")>,\n",
       " <selenium.webdriver.remote.webelement.WebElement (session=\"8e63e04152b67679cd67d5abf06380a4\", element=\"82678bd0-ebff-42a0-b52b-98c6a26038c4\")>,\n",
       " <selenium.webdriver.remote.webelement.WebElement (session=\"8e63e04152b67679cd67d5abf06380a4\", element=\"0b337a26-0cf9-42cb-b9af-19448b558634\")>,\n",
       " <selenium.webdriver.remote.webelement.WebElement (session=\"8e63e04152b67679cd67d5abf06380a4\", element=\"64137d7d-6c95-4a1f-a13d-3d7135703dc5\")>,\n",
       " <selenium.webdriver.remote.webelement.WebElement (session=\"8e63e04152b67679cd67d5abf06380a4\", element=\"ec4508d2-e84b-423d-81fb-4c94ae6d78fe\")>,\n",
       " <selenium.webdriver.remote.webelement.WebElement (session=\"8e63e04152b67679cd67d5abf06380a4\", element=\"d839341b-36e8-49fe-9d72-9386168af90e\")>,\n",
       " <selenium.webdriver.remote.webelement.WebElement (session=\"8e63e04152b67679cd67d5abf06380a4\", element=\"206da6ea-4d7e-476d-8ad6-8edd1fc00a18\")>,\n",
       " <selenium.webdriver.remote.webelement.WebElement (session=\"8e63e04152b67679cd67d5abf06380a4\", element=\"12455031-74ca-484d-ac13-30c975617be5\")>,\n",
       " <selenium.webdriver.remote.webelement.WebElement (session=\"8e63e04152b67679cd67d5abf06380a4\", element=\"ffc48fef-ccb7-46b4-b5ec-3ddbdd1c5b49\")>,\n",
       " <selenium.webdriver.remote.webelement.WebElement (session=\"8e63e04152b67679cd67d5abf06380a4\", element=\"bc79872c-61d1-4d0d-82fc-9315906615b6\")>,\n",
       " <selenium.webdriver.remote.webelement.WebElement (session=\"8e63e04152b67679cd67d5abf06380a4\", element=\"23d49971-ca6d-4419-8223-2fa2117e5e3b\")>,\n",
       " <selenium.webdriver.remote.webelement.WebElement (session=\"8e63e04152b67679cd67d5abf06380a4\", element=\"9eed4484-d0df-43ac-8a81-ccf7dc38ca6b\")>,\n",
       " <selenium.webdriver.remote.webelement.WebElement (session=\"8e63e04152b67679cd67d5abf06380a4\", element=\"87921363-9e51-4588-b8af-fe868099a189\")>,\n",
       " <selenium.webdriver.remote.webelement.WebElement (session=\"8e63e04152b67679cd67d5abf06380a4\", element=\"cb9d8e21-9cbd-45d6-9f08-9bb4f19faba5\")>,\n",
       " <selenium.webdriver.remote.webelement.WebElement (session=\"8e63e04152b67679cd67d5abf06380a4\", element=\"31464c99-ffa4-4a25-8948-fdc719c05223\")>,\n",
       " <selenium.webdriver.remote.webelement.WebElement (session=\"8e63e04152b67679cd67d5abf06380a4\", element=\"73ad6ee7-b379-4709-8884-909736748a06\")>,\n",
       " <selenium.webdriver.remote.webelement.WebElement (session=\"8e63e04152b67679cd67d5abf06380a4\", element=\"e51ad67e-be30-4d33-ad9b-5d070b88500c\")>,\n",
       " <selenium.webdriver.remote.webelement.WebElement (session=\"8e63e04152b67679cd67d5abf06380a4\", element=\"6b93a106-0088-4d34-aff5-641b1d6a756d\")>,\n",
       " <selenium.webdriver.remote.webelement.WebElement (session=\"8e63e04152b67679cd67d5abf06380a4\", element=\"426d4504-8503-40d3-9f8f-80d2eabfdc44\")>,\n",
       " <selenium.webdriver.remote.webelement.WebElement (session=\"8e63e04152b67679cd67d5abf06380a4\", element=\"45db56c7-df13-44b9-b3b6-5971e0c6c824\")>,\n",
       " <selenium.webdriver.remote.webelement.WebElement (session=\"8e63e04152b67679cd67d5abf06380a4\", element=\"defe4d12-faaf-4854-840e-27f231c485e6\")>,\n",
       " <selenium.webdriver.remote.webelement.WebElement (session=\"8e63e04152b67679cd67d5abf06380a4\", element=\"c1a2858c-c959-4e7b-a469-470d3c6d4170\")>,\n",
       " <selenium.webdriver.remote.webelement.WebElement (session=\"8e63e04152b67679cd67d5abf06380a4\", element=\"8279f9fc-8b8c-4b93-80fd-f7c1bbac537f\")>,\n",
       " <selenium.webdriver.remote.webelement.WebElement (session=\"8e63e04152b67679cd67d5abf06380a4\", element=\"b3caa88f-77c0-4da4-8156-d4f4d5d5bae8\")>,\n",
       " <selenium.webdriver.remote.webelement.WebElement (session=\"8e63e04152b67679cd67d5abf06380a4\", element=\"5d715531-99d0-489d-839f-fafe7ca3ff3b\")>,\n",
       " <selenium.webdriver.remote.webelement.WebElement (session=\"8e63e04152b67679cd67d5abf06380a4\", element=\"cf074489-3a42-4e96-83b8-abf05ea87eba\")>,\n",
       " <selenium.webdriver.remote.webelement.WebElement (session=\"8e63e04152b67679cd67d5abf06380a4\", element=\"2ca91dd8-8b26-48a2-8a4b-2f7c4e5478b2\")>,\n",
       " <selenium.webdriver.remote.webelement.WebElement (session=\"8e63e04152b67679cd67d5abf06380a4\", element=\"e9b32e73-f002-4e1f-8cfe-402b53ef5d5f\")>,\n",
       " <selenium.webdriver.remote.webelement.WebElement (session=\"8e63e04152b67679cd67d5abf06380a4\", element=\"5dfdb956-88e0-44f9-b1bc-e8321e7f2ecd\")>,\n",
       " <selenium.webdriver.remote.webelement.WebElement (session=\"8e63e04152b67679cd67d5abf06380a4\", element=\"8a6207c0-bb4e-4244-966f-b3e88dc0206a\")>,\n",
       " <selenium.webdriver.remote.webelement.WebElement (session=\"8e63e04152b67679cd67d5abf06380a4\", element=\"52b7cd80-8792-45c0-b19e-4f6705ce459e\")>,\n",
       " <selenium.webdriver.remote.webelement.WebElement (session=\"8e63e04152b67679cd67d5abf06380a4\", element=\"9a287456-0b4c-4b23-b2f9-c4fb7aec71e6\")>,\n",
       " <selenium.webdriver.remote.webelement.WebElement (session=\"8e63e04152b67679cd67d5abf06380a4\", element=\"662233ad-be14-4e47-a6d8-ae20ec7b0e5b\")>,\n",
       " <selenium.webdriver.remote.webelement.WebElement (session=\"8e63e04152b67679cd67d5abf06380a4\", element=\"e3f66d3c-f0c2-437d-8d19-162f68984843\")>,\n",
       " <selenium.webdriver.remote.webelement.WebElement (session=\"8e63e04152b67679cd67d5abf06380a4\", element=\"e23de885-3e06-49d8-b40a-49d5b20815ee\")>,\n",
       " <selenium.webdriver.remote.webelement.WebElement (session=\"8e63e04152b67679cd67d5abf06380a4\", element=\"5c787d12-a8dc-4078-bbc0-14cd2d7a061d\")>,\n",
       " <selenium.webdriver.remote.webelement.WebElement (session=\"8e63e04152b67679cd67d5abf06380a4\", element=\"605a9d3c-2258-4bb6-9885-a94de064c953\")>,\n",
       " <selenium.webdriver.remote.webelement.WebElement (session=\"8e63e04152b67679cd67d5abf06380a4\", element=\"1f4e131d-dc6d-4976-8dff-8bd5fb67d388\")>,\n",
       " <selenium.webdriver.remote.webelement.WebElement (session=\"8e63e04152b67679cd67d5abf06380a4\", element=\"e66af2a8-916d-4c0a-af36-52298c4fd4f4\")>,\n",
       " <selenium.webdriver.remote.webelement.WebElement (session=\"8e63e04152b67679cd67d5abf06380a4\", element=\"f9511372-fd92-43a6-bdb9-baa5088291e1\")>,\n",
       " <selenium.webdriver.remote.webelement.WebElement (session=\"8e63e04152b67679cd67d5abf06380a4\", element=\"6eb86827-4d4b-4182-98d2-d4b44136e8f6\")>,\n",
       " <selenium.webdriver.remote.webelement.WebElement (session=\"8e63e04152b67679cd67d5abf06380a4\", element=\"d926d341-5803-48b4-bdd5-fdcf39a28a71\")>,\n",
       " <selenium.webdriver.remote.webelement.WebElement (session=\"8e63e04152b67679cd67d5abf06380a4\", element=\"92b1f0b6-4631-4f2c-ba70-3dec1e7fcdc1\")>,\n",
       " <selenium.webdriver.remote.webelement.WebElement (session=\"8e63e04152b67679cd67d5abf06380a4\", element=\"8ea9d83d-37c3-4737-aeb0-85cd521f0e12\")>,\n",
       " <selenium.webdriver.remote.webelement.WebElement (session=\"8e63e04152b67679cd67d5abf06380a4\", element=\"37e11ed3-68cc-4081-bf51-024d3d7c7502\")>,\n",
       " <selenium.webdriver.remote.webelement.WebElement (session=\"8e63e04152b67679cd67d5abf06380a4\", element=\"b07f0239-dfaf-4aca-9fb8-4f0e86f05d70\")>,\n",
       " <selenium.webdriver.remote.webelement.WebElement (session=\"8e63e04152b67679cd67d5abf06380a4\", element=\"9ddcb591-0edd-4900-8303-3bf77954b10a\")>,\n",
       " <selenium.webdriver.remote.webelement.WebElement (session=\"8e63e04152b67679cd67d5abf06380a4\", element=\"69f6750f-8e8b-4095-9159-cfb3cba9cfc8\")>,\n",
       " <selenium.webdriver.remote.webelement.WebElement (session=\"8e63e04152b67679cd67d5abf06380a4\", element=\"e27b0169-d074-48cd-9867-9b7f1dadca24\")>,\n",
       " <selenium.webdriver.remote.webelement.WebElement (session=\"8e63e04152b67679cd67d5abf06380a4\", element=\"009d9481-ff67-4c51-b8e9-93bcfc464f2e\")>,\n",
       " <selenium.webdriver.remote.webelement.WebElement (session=\"8e63e04152b67679cd67d5abf06380a4\", element=\"73420070-bde4-4843-bb22-6c8a250d8e7e\")>,\n",
       " <selenium.webdriver.remote.webelement.WebElement (session=\"8e63e04152b67679cd67d5abf06380a4\", element=\"e5bef78f-aaa2-4d4d-96a7-aacbe54d7038\")>,\n",
       " <selenium.webdriver.remote.webelement.WebElement (session=\"8e63e04152b67679cd67d5abf06380a4\", element=\"cfdbb134-f6be-4f0a-897b-a0fb79990672\")>,\n",
       " <selenium.webdriver.remote.webelement.WebElement (session=\"8e63e04152b67679cd67d5abf06380a4\", element=\"adb69ddb-4c22-4206-9cec-6045e4ff2e66\")>,\n",
       " <selenium.webdriver.remote.webelement.WebElement (session=\"8e63e04152b67679cd67d5abf06380a4\", element=\"50184943-1f58-4234-8d9a-082dacf205f6\")>,\n",
       " <selenium.webdriver.remote.webelement.WebElement (session=\"8e63e04152b67679cd67d5abf06380a4\", element=\"b49cd8ee-2714-4cbf-b1d8-81f50113f10b\")>,\n",
       " <selenium.webdriver.remote.webelement.WebElement (session=\"8e63e04152b67679cd67d5abf06380a4\", element=\"457f4e55-7364-4b95-b01b-1bfb60696402\")>]"
      ]
     },
     "execution_count": 18,
     "metadata": {},
     "output_type": "execute_result"
    }
   ],
   "source": [
    "\n",
    "line4=browser.find_elements(\"xpath\",\"//div[@class='td-wrap-in']\")\n",
    "line4"
   ]
  },
  {
   "cell_type": "code",
   "execution_count": 19,
   "id": "43377297",
   "metadata": {},
   "outputs": [
    {
     "data": {
      "text/plain": [
       "['78.7', '100', '99.9', '85.9', '37.7', '27.5', '45.1', '96.3', '98']"
      ]
     },
     "execution_count": 19,
     "metadata": {},
     "output_type": "execute_result"
    }
   ],
   "source": [
    "#PARSING DATA\n",
    "value=[]\n",
    "for data in line4:\n",
    "    #get the text data\n",
    "    temp=data.text\n",
    "    value.append(temp)\n",
    "value_h=value[31:40]\n",
    "value_h"
   ]
  },
  {
   "cell_type": "code",
   "execution_count": 20,
   "id": "dccb8436",
   "metadata": {},
   "outputs": [
    {
     "data": {
      "text/plain": [
       "{'Name': 'University of California, Los Angeles (UCLA)',\n",
       " 'Location': 'Los Angeles, United States',\n",
       " 'Rank': '44',\n",
       " 'Overall Score': '78.7',\n",
       " 'Academic Reputation': '100',\n",
       " 'Employer Reputation': '99.9',\n",
       " 'Citations per Faculty': '85.9',\n",
       " 'Faculty Student Ratio': '37.7',\n",
       " 'International Students Ratio': '27.5',\n",
       " 'International Faculty Ratio': '45.1',\n",
       " 'International Research Network\\nUnweighted': '96.3',\n",
       " 'Employment Outcomes\\nUnweighted': '98'}"
      ]
     },
     "execution_count": 20,
     "metadata": {},
     "output_type": "execute_result"
    }
   ],
   "source": [
    "d={}\n",
    "d['Name']=value[30]\n",
    "d['Location']=address[3]\n",
    "d['Rank']=Rank[3]\n",
    "for i in range(len(column)):\n",
    "    d[column[i]]=value_h[i]\n",
    "d"
   ]
  },
  {
   "cell_type": "code",
   "execution_count": 21,
   "id": "df7a0427",
   "metadata": {},
   "outputs": [
    {
     "data": {
      "text/plain": [
       "'{\"Name\": \"University of California, Los Angeles (UCLA)\", \"Location\": \"Los Angeles, United States\", \"Rank\": \"44\", \"Overall Score\": \"78.7\", \"Academic Reputation\": \"100\", \"Employer Reputation\": \"99.9\", \"Citations per Faculty\": \"85.9\", \"Faculty Student Ratio\": \"37.7\", \"International Students Ratio\": \"27.5\", \"International Faculty Ratio\": \"45.1\", \"International Research Network\\\\nUnweighted\": \"96.3\", \"Employment Outcomes\\\\nUnweighted\": \"98\"}'"
      ]
     },
     "execution_count": 21,
     "metadata": {},
     "output_type": "execute_result"
    }
   ],
   "source": [
    "s1=json.dumps(d)\n",
    "s1\n"
   ]
  },
  {
   "cell_type": "code",
   "execution_count": 22,
   "id": "4b44d880",
   "metadata": {},
   "outputs": [],
   "source": [
    "with open('University of California, Los Angeles (UCLA).json','w') as f:\n",
    "    json.dump(d,f)"
   ]
  },
  {
   "cell_type": "code",
   "execution_count": null,
   "id": "1dd922be",
   "metadata": {},
   "outputs": [],
   "source": []
  }
 ],
 "metadata": {
  "kernelspec": {
   "display_name": "Python 3.9.12 ('base')",
   "language": "python",
   "name": "python3"
  },
  "language_info": {
   "codemirror_mode": {
    "name": "ipython",
    "version": 3
   },
   "file_extension": ".py",
   "mimetype": "text/x-python",
   "name": "python",
   "nbconvert_exporter": "python",
   "pygments_lexer": "ipython3",
   "version": "3.9.12"
  },
  "vscode": {
   "interpreter": {
    "hash": "ad2bdc8ecc057115af97d19610ffacc2b4e99fae6737bb82f5d7fb13d2f2c186"
   }
  }
 },
 "nbformat": 4,
 "nbformat_minor": 5
}
