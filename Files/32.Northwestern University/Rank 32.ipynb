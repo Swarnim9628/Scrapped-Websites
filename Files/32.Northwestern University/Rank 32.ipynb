{
 "cells": [
  {
   "cell_type": "code",
   "execution_count": 1,
   "id": "5c044101",
   "metadata": {},
   "outputs": [],
   "source": [
    "from selenium import webdriver\n",
    "from selenium.webdriver.chrome.service import Service\n",
    "import pandas as pd\n",
    "import json\n"
   ]
  },
  {
   "cell_type": "code",
   "execution_count": 2,
   "id": "0cb45151",
   "metadata": {},
   "outputs": [],
   "source": [
    "path = Service('C:\\chromedriver.exe')\n"
   ]
  },
  {
   "cell_type": "code",
   "execution_count": 3,
   "id": "404a65fc",
   "metadata": {},
   "outputs": [],
   "source": [
    "# set path for the driver\n",
    "browser = webdriver.Chrome(service = path)"
   ]
  },
  {
   "cell_type": "code",
   "execution_count": 4,
   "id": "a62328a8",
   "metadata": {},
   "outputs": [],
   "source": [
    "\n",
    "url = \"https://www.topuniversities.com/university-rankings/world-university-rankings/2023\""
   ]
  },
  {
   "cell_type": "code",
   "execution_count": 5,
   "id": "52deab67",
   "metadata": {},
   "outputs": [],
   "source": [
    "# open the page url ion chrome\n",
    "browser.get(url)\n"
   ]
  },
  {
   "cell_type": "code",
   "execution_count": 6,
   "id": "d0702b0a",
   "metadata": {},
   "outputs": [
    {
     "data": {
      "text/plain": [
       "[<selenium.webdriver.remote.webelement.WebElement (session=\"e1bfea4a5fd2f611ca46e8ec54680c58\", element=\"09461b02-49a8-45ac-a030-306dd39217b0\")>,\n",
       " <selenium.webdriver.remote.webelement.WebElement (session=\"e1bfea4a5fd2f611ca46e8ec54680c58\", element=\"03d3f252-bad0-40dc-b262-ee7fa3ac90b2\")>,\n",
       " <selenium.webdriver.remote.webelement.WebElement (session=\"e1bfea4a5fd2f611ca46e8ec54680c58\", element=\"cb734d66-579e-4429-bf68-845dc94b7921\")>,\n",
       " <selenium.webdriver.remote.webelement.WebElement (session=\"e1bfea4a5fd2f611ca46e8ec54680c58\", element=\"a4885e7c-d71e-467f-8f98-72779c27aa00\")>,\n",
       " <selenium.webdriver.remote.webelement.WebElement (session=\"e1bfea4a5fd2f611ca46e8ec54680c58\", element=\"d462c072-1c20-4cde-88fe-ec4597b49581\")>,\n",
       " <selenium.webdriver.remote.webelement.WebElement (session=\"e1bfea4a5fd2f611ca46e8ec54680c58\", element=\"c488e02f-a207-4236-91ee-7fad4b93bb83\")>,\n",
       " <selenium.webdriver.remote.webelement.WebElement (session=\"e1bfea4a5fd2f611ca46e8ec54680c58\", element=\"305469c1-c290-4d59-8d2a-0aae27b51ea2\")>,\n",
       " <selenium.webdriver.remote.webelement.WebElement (session=\"e1bfea4a5fd2f611ca46e8ec54680c58\", element=\"bd4c91bf-5730-4164-ae16-48d86506374f\")>,\n",
       " <selenium.webdriver.remote.webelement.WebElement (session=\"e1bfea4a5fd2f611ca46e8ec54680c58\", element=\"0232bf71-e5bc-448d-af83-5b88afb407da\")>,\n",
       " <selenium.webdriver.remote.webelement.WebElement (session=\"e1bfea4a5fd2f611ca46e8ec54680c58\", element=\"06d3f5bd-0bae-4d3d-9bc2-02bc2dedde01\")>,\n",
       " <selenium.webdriver.remote.webelement.WebElement (session=\"e1bfea4a5fd2f611ca46e8ec54680c58\", element=\"3bf7772b-8343-4c9c-bc1d-52e752eec372\")>,\n",
       " <selenium.webdriver.remote.webelement.WebElement (session=\"e1bfea4a5fd2f611ca46e8ec54680c58\", element=\"323e7804-5422-4d0e-8452-cad68737526a\")>,\n",
       " <selenium.webdriver.remote.webelement.WebElement (session=\"e1bfea4a5fd2f611ca46e8ec54680c58\", element=\"0f8c669c-1d86-4884-993c-826aa9e46d74\")>,\n",
       " <selenium.webdriver.remote.webelement.WebElement (session=\"e1bfea4a5fd2f611ca46e8ec54680c58\", element=\"59100d99-20f8-4417-9ccf-47a39b92b352\")>,\n",
       " <selenium.webdriver.remote.webelement.WebElement (session=\"e1bfea4a5fd2f611ca46e8ec54680c58\", element=\"800f6d8c-41eb-4a20-b28c-9ac2ce389771\")>,\n",
       " <selenium.webdriver.remote.webelement.WebElement (session=\"e1bfea4a5fd2f611ca46e8ec54680c58\", element=\"66b40ece-c1cf-4961-b494-e599652b2ea7\")>,\n",
       " <selenium.webdriver.remote.webelement.WebElement (session=\"e1bfea4a5fd2f611ca46e8ec54680c58\", element=\"0b5d76b6-5709-4211-9e2c-8e6100fc19de\")>,\n",
       " <selenium.webdriver.remote.webelement.WebElement (session=\"e1bfea4a5fd2f611ca46e8ec54680c58\", element=\"58805d9d-50f2-4a1d-ab16-26fa992cc556\")>,\n",
       " <selenium.webdriver.remote.webelement.WebElement (session=\"e1bfea4a5fd2f611ca46e8ec54680c58\", element=\"06661b8e-b685-4419-83b4-44d183ccf286\")>,\n",
       " <selenium.webdriver.remote.webelement.WebElement (session=\"e1bfea4a5fd2f611ca46e8ec54680c58\", element=\"cbb39413-481e-4f7b-8cab-aa8d567b5362\")>]"
      ]
     },
     "execution_count": 6,
     "metadata": {},
     "output_type": "execute_result"
    }
   ],
   "source": [
    "line1=browser.find_elements(\"xpath\",\"//div[@class='location ']\")\n",
    "line1"
   ]
  },
  {
   "cell_type": "code",
   "execution_count": 7,
   "id": "9d52bbe2",
   "metadata": {},
   "outputs": [
    {
     "data": {
      "text/plain": [
       "['Montreal, Canada',\n",
       " 'Evanston, United States',\n",
       " 'Parkville, Australia',\n",
       " 'Shanghai, China (Mainland)',\n",
       " 'Toronto, Canada',\n",
       " 'Kyoto, Japan',\n",
       " 'London, United Kingdom',\n",
       " 'Hong Kong SAR, Hong Kong SAR',\n",
       " 'New York City, United States',\n",
       " 'Hong Kong SAR, Hong Kong SAR']"
      ]
     },
     "execution_count": 7,
     "metadata": {},
     "output_type": "execute_result"
    }
   ],
   "source": [
    "address=[]\n",
    "for data in line1:\n",
    "    #get the text data\n",
    "    temp=data.text\n",
    "    address.append(temp)\n",
    "address=address[10:]\n",
    "address"
   ]
  },
  {
   "cell_type": "code",
   "execution_count": 8,
   "metadata": {},
   "outputs": [
    {
     "data": {
      "text/plain": [
       "[<selenium.webdriver.remote.webelement.WebElement (session=\"e1bfea4a5fd2f611ca46e8ec54680c58\", element=\"6058a66a-ff74-4456-b3c9-c9dc9e676647\")>,\n",
       " <selenium.webdriver.remote.webelement.WebElement (session=\"e1bfea4a5fd2f611ca46e8ec54680c58\", element=\"9bcfc599-e1b0-46f7-8d2a-d48014467f8c\")>,\n",
       " <selenium.webdriver.remote.webelement.WebElement (session=\"e1bfea4a5fd2f611ca46e8ec54680c58\", element=\"7c9ea613-4198-4766-b1d6-daf3b6f4992a\")>,\n",
       " <selenium.webdriver.remote.webelement.WebElement (session=\"e1bfea4a5fd2f611ca46e8ec54680c58\", element=\"9579c321-af1d-4b43-9d32-63928df4edb4\")>,\n",
       " <selenium.webdriver.remote.webelement.WebElement (session=\"e1bfea4a5fd2f611ca46e8ec54680c58\", element=\"9cdfd5c1-f091-4ac8-891a-d4db0cd80630\")>,\n",
       " <selenium.webdriver.remote.webelement.WebElement (session=\"e1bfea4a5fd2f611ca46e8ec54680c58\", element=\"4ee851d9-f744-4cfc-871c-46a272bb0c0f\")>,\n",
       " <selenium.webdriver.remote.webelement.WebElement (session=\"e1bfea4a5fd2f611ca46e8ec54680c58\", element=\"b756d455-fd95-4b2a-b40a-e5f391010997\")>,\n",
       " <selenium.webdriver.remote.webelement.WebElement (session=\"e1bfea4a5fd2f611ca46e8ec54680c58\", element=\"6605d1b8-e073-44c3-82e6-c0116d57c6c3\")>,\n",
       " <selenium.webdriver.remote.webelement.WebElement (session=\"e1bfea4a5fd2f611ca46e8ec54680c58\", element=\"8090aa32-3580-4ef4-be5a-4da3127ef9ff\")>,\n",
       " <selenium.webdriver.remote.webelement.WebElement (session=\"e1bfea4a5fd2f611ca46e8ec54680c58\", element=\"73562ccf-90c3-4f70-9071-19936e5d944e\")>]"
      ]
     },
     "execution_count": 8,
     "metadata": {},
     "output_type": "execute_result"
    }
   ],
   "source": [
    "line2=browser.find_elements(\"xpath\",\"//div[@class='_univ-rank ']\")\n",
    "line2"
   ]
  },
  {
   "cell_type": "code",
   "execution_count": 9,
   "id": "338c76da",
   "metadata": {},
   "outputs": [
    {
     "data": {
      "text/plain": [
       "['31', '32', '33', '=34', '=34', '36', '37', '38', '39', '40']"
      ]
     },
     "execution_count": 9,
     "metadata": {},
     "output_type": "execute_result"
    }
   ],
   "source": [
    "Rank=[]\n",
    "for data in line2:\n",
    "    #get the text data\n",
    "    temp=data.text\n",
    "    Rank.append(temp)\n",
    "Rank"
   ]
  },
  {
   "cell_type": "code",
   "execution_count": 10,
   "id": "aefb2649",
   "metadata": {},
   "outputs": [
    {
     "data": {
      "text/plain": [
       "[<selenium.webdriver.remote.webelement.WebElement (session=\"e1bfea4a5fd2f611ca46e8ec54680c58\", element=\"ac43ecd4-5d13-445c-b161-107ae650a882\")>,\n",
       " <selenium.webdriver.remote.webelement.WebElement (session=\"e1bfea4a5fd2f611ca46e8ec54680c58\", element=\"abed8d30-de67-434c-8075-f076ae4ab655\")>,\n",
       " <selenium.webdriver.remote.webelement.WebElement (session=\"e1bfea4a5fd2f611ca46e8ec54680c58\", element=\"74e7fd49-1586-4c3f-9e5f-1ce1938a0641\")>,\n",
       " <selenium.webdriver.remote.webelement.WebElement (session=\"e1bfea4a5fd2f611ca46e8ec54680c58\", element=\"e4ecf599-b14f-4ae4-9bcd-29d4bbeae9f0\")>,\n",
       " <selenium.webdriver.remote.webelement.WebElement (session=\"e1bfea4a5fd2f611ca46e8ec54680c58\", element=\"472e68d4-fc5a-42a1-beb6-5bcc88975194\")>,\n",
       " <selenium.webdriver.remote.webelement.WebElement (session=\"e1bfea4a5fd2f611ca46e8ec54680c58\", element=\"9c762764-8cdc-4665-8c0c-5de5cc87b2b3\")>,\n",
       " <selenium.webdriver.remote.webelement.WebElement (session=\"e1bfea4a5fd2f611ca46e8ec54680c58\", element=\"29c02a61-44e1-47fb-a4a9-c10f6e6aae43\")>,\n",
       " <selenium.webdriver.remote.webelement.WebElement (session=\"e1bfea4a5fd2f611ca46e8ec54680c58\", element=\"68b825f5-2d34-4075-8250-862e9b37333e\")>,\n",
       " <selenium.webdriver.remote.webelement.WebElement (session=\"e1bfea4a5fd2f611ca46e8ec54680c58\", element=\"edd4b8a3-2a8c-48ae-8311-2d5366fc219d\")>]"
      ]
     },
     "execution_count": 10,
     "metadata": {},
     "output_type": "execute_result"
    }
   ],
   "source": [
    "# GET EACH COLLEGE SPECIFICATION HEADERS\n",
    "line3=browser.find_elements(\"xpath\",\"//div[@class='_click-function_ind']\")\n",
    "line3"
   ]
  },
  {
   "cell_type": "code",
   "execution_count": 11,
   "id": "2f6428be",
   "metadata": {},
   "outputs": [
    {
     "data": {
      "text/plain": [
       "['Overall Score',\n",
       " 'Academic Reputation',\n",
       " 'Employer Reputation',\n",
       " 'Citations per Faculty',\n",
       " 'Faculty Student Ratio',\n",
       " 'International Students Ratio',\n",
       " 'International Faculty Ratio',\n",
       " 'International Research Network\\nUnweighted',\n",
       " 'Employment Outcomes\\nUnweighted']"
      ]
     },
     "execution_count": 11,
     "metadata": {},
     "output_type": "execute_result"
    }
   ],
   "source": [
    "#PARSING DATA\n",
    "column=[]\n",
    "for data in line3:\n",
    "    #get the text data\n",
    "    temp=data.text\n",
    "    column.append(temp)\n",
    "column"
   ]
  },
  {
   "cell_type": "code",
   "execution_count": 12,
   "id": "58eca80d",
   "metadata": {},
   "outputs": [
    {
     "data": {
      "text/plain": [
       "[<selenium.webdriver.remote.webelement.WebElement (session=\"e1bfea4a5fd2f611ca46e8ec54680c58\", element=\"b5a1c6c0-8d14-4ccb-9ada-bf0436d96728\")>,\n",
       " <selenium.webdriver.remote.webelement.WebElement (session=\"e1bfea4a5fd2f611ca46e8ec54680c58\", element=\"de18d689-f08d-4cec-98e0-dfbf4593c8d3\")>,\n",
       " <selenium.webdriver.remote.webelement.WebElement (session=\"e1bfea4a5fd2f611ca46e8ec54680c58\", element=\"58a139d7-638f-410a-955f-4fafeb228568\")>,\n",
       " <selenium.webdriver.remote.webelement.WebElement (session=\"e1bfea4a5fd2f611ca46e8ec54680c58\", element=\"aeb3369b-d586-43f2-a1f9-0079fcce3c66\")>,\n",
       " <selenium.webdriver.remote.webelement.WebElement (session=\"e1bfea4a5fd2f611ca46e8ec54680c58\", element=\"96b80f71-a1bb-495a-849f-9155cab6f295\")>,\n",
       " <selenium.webdriver.remote.webelement.WebElement (session=\"e1bfea4a5fd2f611ca46e8ec54680c58\", element=\"b7b8428f-ddcb-4448-b310-bc5926f308a5\")>,\n",
       " <selenium.webdriver.remote.webelement.WebElement (session=\"e1bfea4a5fd2f611ca46e8ec54680c58\", element=\"26efb46b-9b78-4f7e-b93e-1451f619517e\")>,\n",
       " <selenium.webdriver.remote.webelement.WebElement (session=\"e1bfea4a5fd2f611ca46e8ec54680c58\", element=\"5980fac4-4d91-4d87-ac83-8fcd20bf5666\")>,\n",
       " <selenium.webdriver.remote.webelement.WebElement (session=\"e1bfea4a5fd2f611ca46e8ec54680c58\", element=\"576a4166-157e-433b-af23-d83ed9db1f37\")>,\n",
       " <selenium.webdriver.remote.webelement.WebElement (session=\"e1bfea4a5fd2f611ca46e8ec54680c58\", element=\"56b2a2a5-36ef-40ba-b172-2987bc467d39\")>,\n",
       " <selenium.webdriver.remote.webelement.WebElement (session=\"e1bfea4a5fd2f611ca46e8ec54680c58\", element=\"909168b4-8ab0-4507-9d1d-74d0e234db5b\")>,\n",
       " <selenium.webdriver.remote.webelement.WebElement (session=\"e1bfea4a5fd2f611ca46e8ec54680c58\", element=\"cb3a2941-7ff0-41ed-849d-d0c5b2c7e874\")>,\n",
       " <selenium.webdriver.remote.webelement.WebElement (session=\"e1bfea4a5fd2f611ca46e8ec54680c58\", element=\"f069b6aa-bee6-4ef0-92b7-61c36b85b3ff\")>,\n",
       " <selenium.webdriver.remote.webelement.WebElement (session=\"e1bfea4a5fd2f611ca46e8ec54680c58\", element=\"2268f5cf-4013-411a-a369-4cfabba173b4\")>,\n",
       " <selenium.webdriver.remote.webelement.WebElement (session=\"e1bfea4a5fd2f611ca46e8ec54680c58\", element=\"b3ad13ed-16ed-4540-a757-306fd1f0e2a7\")>,\n",
       " <selenium.webdriver.remote.webelement.WebElement (session=\"e1bfea4a5fd2f611ca46e8ec54680c58\", element=\"6cad7faf-919e-4ab0-84d5-73e1a46c2993\")>,\n",
       " <selenium.webdriver.remote.webelement.WebElement (session=\"e1bfea4a5fd2f611ca46e8ec54680c58\", element=\"89c2690f-c2ce-4c82-8028-ad83dd17cbfc\")>,\n",
       " <selenium.webdriver.remote.webelement.WebElement (session=\"e1bfea4a5fd2f611ca46e8ec54680c58\", element=\"7e3eabc0-c2cd-4328-a52b-a0e56b45f3e5\")>,\n",
       " <selenium.webdriver.remote.webelement.WebElement (session=\"e1bfea4a5fd2f611ca46e8ec54680c58\", element=\"8111b06e-23fa-44f5-89f8-ea0a33dda574\")>,\n",
       " <selenium.webdriver.remote.webelement.WebElement (session=\"e1bfea4a5fd2f611ca46e8ec54680c58\", element=\"1ae5a820-a403-4375-874b-5b7b443eb57c\")>,\n",
       " <selenium.webdriver.remote.webelement.WebElement (session=\"e1bfea4a5fd2f611ca46e8ec54680c58\", element=\"c747e08a-3b0d-4ce0-beae-e5c88d8e5dc7\")>,\n",
       " <selenium.webdriver.remote.webelement.WebElement (session=\"e1bfea4a5fd2f611ca46e8ec54680c58\", element=\"5a2b349c-1420-49d2-b7d2-f704bdbd79c3\")>,\n",
       " <selenium.webdriver.remote.webelement.WebElement (session=\"e1bfea4a5fd2f611ca46e8ec54680c58\", element=\"eb770fa6-613e-470f-aaba-3d89dace0bc3\")>,\n",
       " <selenium.webdriver.remote.webelement.WebElement (session=\"e1bfea4a5fd2f611ca46e8ec54680c58\", element=\"4582ee01-6461-470e-bd4a-9a20f3db3390\")>,\n",
       " <selenium.webdriver.remote.webelement.WebElement (session=\"e1bfea4a5fd2f611ca46e8ec54680c58\", element=\"60b03971-590d-4766-ba0e-e2d26e4c4f04\")>,\n",
       " <selenium.webdriver.remote.webelement.WebElement (session=\"e1bfea4a5fd2f611ca46e8ec54680c58\", element=\"90babeaa-9266-4d6e-b6df-4d54f3f2c711\")>,\n",
       " <selenium.webdriver.remote.webelement.WebElement (session=\"e1bfea4a5fd2f611ca46e8ec54680c58\", element=\"f56bb4a8-3a1d-4145-988b-d69b0e9db6f7\")>,\n",
       " <selenium.webdriver.remote.webelement.WebElement (session=\"e1bfea4a5fd2f611ca46e8ec54680c58\", element=\"46481139-44e5-4c94-bd20-f502893a68fc\")>,\n",
       " <selenium.webdriver.remote.webelement.WebElement (session=\"e1bfea4a5fd2f611ca46e8ec54680c58\", element=\"ea65e53d-1794-40cb-b4d5-2226a93e6204\")>,\n",
       " <selenium.webdriver.remote.webelement.WebElement (session=\"e1bfea4a5fd2f611ca46e8ec54680c58\", element=\"7524f5ba-3944-426a-89f2-32a416fa0606\")>,\n",
       " <selenium.webdriver.remote.webelement.WebElement (session=\"e1bfea4a5fd2f611ca46e8ec54680c58\", element=\"03a0ed7f-83e1-4661-8063-691c52ffe922\")>,\n",
       " <selenium.webdriver.remote.webelement.WebElement (session=\"e1bfea4a5fd2f611ca46e8ec54680c58\", element=\"c4935270-3cdb-4c29-b2e8-a2696e339d96\")>,\n",
       " <selenium.webdriver.remote.webelement.WebElement (session=\"e1bfea4a5fd2f611ca46e8ec54680c58\", element=\"394baf90-7550-43ca-a39e-e69adacd304a\")>,\n",
       " <selenium.webdriver.remote.webelement.WebElement (session=\"e1bfea4a5fd2f611ca46e8ec54680c58\", element=\"a708ad74-bda6-4d3b-baf3-c28020c6abb0\")>,\n",
       " <selenium.webdriver.remote.webelement.WebElement (session=\"e1bfea4a5fd2f611ca46e8ec54680c58\", element=\"6aa5cf05-bde7-44b0-9bd6-47819757465a\")>,\n",
       " <selenium.webdriver.remote.webelement.WebElement (session=\"e1bfea4a5fd2f611ca46e8ec54680c58\", element=\"fd70576a-d32a-40f1-9e54-f0e7ca156f65\")>,\n",
       " <selenium.webdriver.remote.webelement.WebElement (session=\"e1bfea4a5fd2f611ca46e8ec54680c58\", element=\"d6151af3-265d-4620-a677-62849a7d3750\")>,\n",
       " <selenium.webdriver.remote.webelement.WebElement (session=\"e1bfea4a5fd2f611ca46e8ec54680c58\", element=\"6b449b14-e15b-4c0a-8563-56797f70e6fb\")>,\n",
       " <selenium.webdriver.remote.webelement.WebElement (session=\"e1bfea4a5fd2f611ca46e8ec54680c58\", element=\"ed07df89-6d97-49af-bc9f-0330218adb72\")>,\n",
       " <selenium.webdriver.remote.webelement.WebElement (session=\"e1bfea4a5fd2f611ca46e8ec54680c58\", element=\"c3f285ba-d5cc-427e-a0b4-70c48f99e49a\")>,\n",
       " <selenium.webdriver.remote.webelement.WebElement (session=\"e1bfea4a5fd2f611ca46e8ec54680c58\", element=\"aff1de39-513b-45ef-9277-92806ccf6e54\")>,\n",
       " <selenium.webdriver.remote.webelement.WebElement (session=\"e1bfea4a5fd2f611ca46e8ec54680c58\", element=\"197f6453-6a45-4969-9304-d630ebb0126a\")>,\n",
       " <selenium.webdriver.remote.webelement.WebElement (session=\"e1bfea4a5fd2f611ca46e8ec54680c58\", element=\"7368be05-cb82-4f86-95af-0f56d5fba3e2\")>,\n",
       " <selenium.webdriver.remote.webelement.WebElement (session=\"e1bfea4a5fd2f611ca46e8ec54680c58\", element=\"455b8fd0-02e1-486f-a8ec-e3f5e9d79ef0\")>,\n",
       " <selenium.webdriver.remote.webelement.WebElement (session=\"e1bfea4a5fd2f611ca46e8ec54680c58\", element=\"25c5cccf-3a5a-4df2-abb8-c979f3422733\")>,\n",
       " <selenium.webdriver.remote.webelement.WebElement (session=\"e1bfea4a5fd2f611ca46e8ec54680c58\", element=\"f0bc5d42-8c77-47fa-ad08-42f542fb5869\")>,\n",
       " <selenium.webdriver.remote.webelement.WebElement (session=\"e1bfea4a5fd2f611ca46e8ec54680c58\", element=\"fa71a265-7594-4d97-bd91-9d6be380604c\")>,\n",
       " <selenium.webdriver.remote.webelement.WebElement (session=\"e1bfea4a5fd2f611ca46e8ec54680c58\", element=\"a324eafd-dbc4-4776-8769-8dfecbfb8a25\")>,\n",
       " <selenium.webdriver.remote.webelement.WebElement (session=\"e1bfea4a5fd2f611ca46e8ec54680c58\", element=\"fbe7d084-3ba0-4881-8d24-8882251b3608\")>,\n",
       " <selenium.webdriver.remote.webelement.WebElement (session=\"e1bfea4a5fd2f611ca46e8ec54680c58\", element=\"b0ab845b-a2d2-497b-8b1e-3b3b9db8f3a7\")>,\n",
       " <selenium.webdriver.remote.webelement.WebElement (session=\"e1bfea4a5fd2f611ca46e8ec54680c58\", element=\"1a30d4df-cd31-4f46-8362-4dd463b8d74a\")>,\n",
       " <selenium.webdriver.remote.webelement.WebElement (session=\"e1bfea4a5fd2f611ca46e8ec54680c58\", element=\"fa7a097f-a750-4ba7-a2fe-cd0a5cde2d94\")>,\n",
       " <selenium.webdriver.remote.webelement.WebElement (session=\"e1bfea4a5fd2f611ca46e8ec54680c58\", element=\"809b934c-38f8-4485-a323-3054c03ae675\")>,\n",
       " <selenium.webdriver.remote.webelement.WebElement (session=\"e1bfea4a5fd2f611ca46e8ec54680c58\", element=\"df085665-5fe4-4d44-ac7d-25d48c4530b0\")>,\n",
       " <selenium.webdriver.remote.webelement.WebElement (session=\"e1bfea4a5fd2f611ca46e8ec54680c58\", element=\"36a94576-bc00-408b-9f3a-e34da9697b86\")>,\n",
       " <selenium.webdriver.remote.webelement.WebElement (session=\"e1bfea4a5fd2f611ca46e8ec54680c58\", element=\"686a6238-f10f-4981-98e9-a26738f3af9a\")>,\n",
       " <selenium.webdriver.remote.webelement.WebElement (session=\"e1bfea4a5fd2f611ca46e8ec54680c58\", element=\"9f122cab-946b-43b1-92d1-5a2f3a876201\")>,\n",
       " <selenium.webdriver.remote.webelement.WebElement (session=\"e1bfea4a5fd2f611ca46e8ec54680c58\", element=\"4c02536a-b15c-449d-9b69-435d5ecaba16\")>,\n",
       " <selenium.webdriver.remote.webelement.WebElement (session=\"e1bfea4a5fd2f611ca46e8ec54680c58\", element=\"8cccd3c9-d58a-4816-a922-3c3c78d101c7\")>,\n",
       " <selenium.webdriver.remote.webelement.WebElement (session=\"e1bfea4a5fd2f611ca46e8ec54680c58\", element=\"b72d30e1-a808-4b23-8f8d-485f3285b596\")>,\n",
       " <selenium.webdriver.remote.webelement.WebElement (session=\"e1bfea4a5fd2f611ca46e8ec54680c58\", element=\"bd6345c1-2e27-481a-ab1c-ef2082046616\")>,\n",
       " <selenium.webdriver.remote.webelement.WebElement (session=\"e1bfea4a5fd2f611ca46e8ec54680c58\", element=\"137c9195-e7d4-4ad6-a6a9-3fc5c1b72519\")>,\n",
       " <selenium.webdriver.remote.webelement.WebElement (session=\"e1bfea4a5fd2f611ca46e8ec54680c58\", element=\"da8f66a3-ec8e-4c8b-8c70-a22410c0fa5d\")>,\n",
       " <selenium.webdriver.remote.webelement.WebElement (session=\"e1bfea4a5fd2f611ca46e8ec54680c58\", element=\"006ec3e1-a61f-485d-a94e-f3c6b1906584\")>,\n",
       " <selenium.webdriver.remote.webelement.WebElement (session=\"e1bfea4a5fd2f611ca46e8ec54680c58\", element=\"8916f3e2-025c-46a3-9216-6c008be8e96a\")>,\n",
       " <selenium.webdriver.remote.webelement.WebElement (session=\"e1bfea4a5fd2f611ca46e8ec54680c58\", element=\"f4cf6cac-547e-4834-9cc6-a130c70f82f1\")>,\n",
       " <selenium.webdriver.remote.webelement.WebElement (session=\"e1bfea4a5fd2f611ca46e8ec54680c58\", element=\"051e916d-a1d1-45ce-b13c-c5d80249f001\")>,\n",
       " <selenium.webdriver.remote.webelement.WebElement (session=\"e1bfea4a5fd2f611ca46e8ec54680c58\", element=\"6d931de6-28db-49e6-8ad6-6d659b3c6ac1\")>,\n",
       " <selenium.webdriver.remote.webelement.WebElement (session=\"e1bfea4a5fd2f611ca46e8ec54680c58\", element=\"ba172a4f-ac77-4543-a710-19ffa3ceefc4\")>,\n",
       " <selenium.webdriver.remote.webelement.WebElement (session=\"e1bfea4a5fd2f611ca46e8ec54680c58\", element=\"c24a92ee-7256-41f8-bda1-cb54c43af11f\")>,\n",
       " <selenium.webdriver.remote.webelement.WebElement (session=\"e1bfea4a5fd2f611ca46e8ec54680c58\", element=\"c546c3f1-654b-44ae-a647-e5ad21df5ff5\")>,\n",
       " <selenium.webdriver.remote.webelement.WebElement (session=\"e1bfea4a5fd2f611ca46e8ec54680c58\", element=\"a61b6d80-75c5-425d-89c5-77666ab06600\")>,\n",
       " <selenium.webdriver.remote.webelement.WebElement (session=\"e1bfea4a5fd2f611ca46e8ec54680c58\", element=\"dcfbf34d-5230-4d10-af1b-90918180e764\")>,\n",
       " <selenium.webdriver.remote.webelement.WebElement (session=\"e1bfea4a5fd2f611ca46e8ec54680c58\", element=\"dd15d310-0954-4442-8670-ccdef2bda7ee\")>,\n",
       " <selenium.webdriver.remote.webelement.WebElement (session=\"e1bfea4a5fd2f611ca46e8ec54680c58\", element=\"b84613e5-ca77-48a4-80b8-12894c3da2fd\")>,\n",
       " <selenium.webdriver.remote.webelement.WebElement (session=\"e1bfea4a5fd2f611ca46e8ec54680c58\", element=\"38629ec2-6fe2-46d6-8444-3426351c5df6\")>,\n",
       " <selenium.webdriver.remote.webelement.WebElement (session=\"e1bfea4a5fd2f611ca46e8ec54680c58\", element=\"5c1e0bf2-c08a-4800-8025-4f5e39d97321\")>,\n",
       " <selenium.webdriver.remote.webelement.WebElement (session=\"e1bfea4a5fd2f611ca46e8ec54680c58\", element=\"6e654427-3686-435b-84e7-e5088955f496\")>,\n",
       " <selenium.webdriver.remote.webelement.WebElement (session=\"e1bfea4a5fd2f611ca46e8ec54680c58\", element=\"d699c476-3b7c-4fb4-8ff2-83864c278c25\")>,\n",
       " <selenium.webdriver.remote.webelement.WebElement (session=\"e1bfea4a5fd2f611ca46e8ec54680c58\", element=\"14c1906c-44bd-43f0-8d98-f43055587d2a\")>,\n",
       " <selenium.webdriver.remote.webelement.WebElement (session=\"e1bfea4a5fd2f611ca46e8ec54680c58\", element=\"ef78782e-d3fa-4573-b223-c87deae1a74f\")>,\n",
       " <selenium.webdriver.remote.webelement.WebElement (session=\"e1bfea4a5fd2f611ca46e8ec54680c58\", element=\"62db997f-5f23-443e-96e9-129d3160ab3c\")>,\n",
       " <selenium.webdriver.remote.webelement.WebElement (session=\"e1bfea4a5fd2f611ca46e8ec54680c58\", element=\"0f39674d-cd42-4124-a584-349165950d9a\")>,\n",
       " <selenium.webdriver.remote.webelement.WebElement (session=\"e1bfea4a5fd2f611ca46e8ec54680c58\", element=\"88cade94-2efb-4f8e-985c-3c85d99fcc10\")>,\n",
       " <selenium.webdriver.remote.webelement.WebElement (session=\"e1bfea4a5fd2f611ca46e8ec54680c58\", element=\"3f766f2b-459f-46e8-8eca-0a12fb81cf8b\")>,\n",
       " <selenium.webdriver.remote.webelement.WebElement (session=\"e1bfea4a5fd2f611ca46e8ec54680c58\", element=\"32b2c26e-c71c-4963-be0d-37676470ce21\")>,\n",
       " <selenium.webdriver.remote.webelement.WebElement (session=\"e1bfea4a5fd2f611ca46e8ec54680c58\", element=\"6d70af7d-1ac5-41a8-98dc-c5b5fd8d045d\")>,\n",
       " <selenium.webdriver.remote.webelement.WebElement (session=\"e1bfea4a5fd2f611ca46e8ec54680c58\", element=\"94d650a9-8cf1-48b1-82fd-44c49ecab902\")>,\n",
       " <selenium.webdriver.remote.webelement.WebElement (session=\"e1bfea4a5fd2f611ca46e8ec54680c58\", element=\"9843557b-266a-448c-ad19-ac947c45f4f4\")>,\n",
       " <selenium.webdriver.remote.webelement.WebElement (session=\"e1bfea4a5fd2f611ca46e8ec54680c58\", element=\"024d9b6f-bb7f-4f5b-b151-b97c2c8699b4\")>,\n",
       " <selenium.webdriver.remote.webelement.WebElement (session=\"e1bfea4a5fd2f611ca46e8ec54680c58\", element=\"766c0744-699b-448e-a0db-54fc431860e2\")>,\n",
       " <selenium.webdriver.remote.webelement.WebElement (session=\"e1bfea4a5fd2f611ca46e8ec54680c58\", element=\"b4172d2a-5ea8-44da-b41b-ee69716e37ae\")>,\n",
       " <selenium.webdriver.remote.webelement.WebElement (session=\"e1bfea4a5fd2f611ca46e8ec54680c58\", element=\"a66a1f06-6648-4a81-8420-365b804ffe6d\")>,\n",
       " <selenium.webdriver.remote.webelement.WebElement (session=\"e1bfea4a5fd2f611ca46e8ec54680c58\", element=\"10d86728-30c9-412a-aad4-d07145b22310\")>,\n",
       " <selenium.webdriver.remote.webelement.WebElement (session=\"e1bfea4a5fd2f611ca46e8ec54680c58\", element=\"9fa3dfcc-4b4f-4ee0-8133-36c5c6dff251\")>,\n",
       " <selenium.webdriver.remote.webelement.WebElement (session=\"e1bfea4a5fd2f611ca46e8ec54680c58\", element=\"37f6da0d-2e56-4a48-9a62-e8b3e9915d3b\")>,\n",
       " <selenium.webdriver.remote.webelement.WebElement (session=\"e1bfea4a5fd2f611ca46e8ec54680c58\", element=\"645ca323-cf46-4e0a-86c0-03102758a64a\")>,\n",
       " <selenium.webdriver.remote.webelement.WebElement (session=\"e1bfea4a5fd2f611ca46e8ec54680c58\", element=\"f421402a-500e-4ce3-999f-ddad1c366270\")>,\n",
       " <selenium.webdriver.remote.webelement.WebElement (session=\"e1bfea4a5fd2f611ca46e8ec54680c58\", element=\"a8bc1898-aad4-477f-be33-4048dad788ee\")>,\n",
       " <selenium.webdriver.remote.webelement.WebElement (session=\"e1bfea4a5fd2f611ca46e8ec54680c58\", element=\"e95c5f2a-f7fd-4770-bad0-05550293feaf\")>]"
      ]
     },
     "execution_count": 12,
     "metadata": {},
     "output_type": "execute_result"
    }
   ],
   "source": [
    "line4=browser.find_elements(\"xpath\",\"//div[@class='td-wrap-in']\")\n",
    "line4\n"
   ]
  },
  {
   "cell_type": "code",
   "execution_count": 13,
   "id": "79fc1b39",
   "metadata": {},
   "outputs": [
    {
     "data": {
      "text/plain": [
       "['81.8', '84.4', '71.9', '84.2', '98.3', '38.8', '40.5', '89', '98.4']"
      ]
     },
     "execution_count": 13,
     "metadata": {},
     "output_type": "execute_result"
    }
   ],
   "source": [
    "#PARSING DATA\n",
    "value=[]\n",
    "for data in line4:\n",
    "    #get the text data\n",
    "    temp=data.text\n",
    "    value.append(temp)\n",
    "value_h=value[11:20]\n",
    "value_h"
   ]
  },
  {
   "cell_type": "code",
   "execution_count": 14,
   "id": "446577ef",
   "metadata": {},
   "outputs": [
    {
     "data": {
      "text/plain": [
       "{'Name': 'Northwestern University',\n",
       " 'Location': 'Evanston, United States',\n",
       " 'Rank': '32',\n",
       " 'Overall Score': '81.8',\n",
       " 'Academic Reputation': '84.4',\n",
       " 'Employer Reputation': '71.9',\n",
       " 'Citations per Faculty': '84.2',\n",
       " 'Faculty Student Ratio': '98.3',\n",
       " 'International Students Ratio': '38.8',\n",
       " 'International Faculty Ratio': '40.5',\n",
       " 'International Research Network\\nUnweighted': '89',\n",
       " 'Employment Outcomes\\nUnweighted': '98.4'}"
      ]
     },
     "execution_count": 14,
     "metadata": {},
     "output_type": "execute_result"
    }
   ],
   "source": [
    "d={}\n",
    "d['Name']=value[10]\n",
    "d['Location']=address[1]\n",
    "d['Rank']=Rank[1]\n",
    "for i in range(len(column)):\n",
    "    d[column[i]]=value_h[i]\n",
    "d"
   ]
  },
  {
   "cell_type": "code",
   "execution_count": 15,
   "id": "d7344094",
   "metadata": {},
   "outputs": [
    {
     "data": {
      "text/plain": [
       "'{\"Name\": \"Northwestern University\", \"Location\": \"Evanston, United States\", \"Rank\": \"32\", \"Overall Score\": \"81.8\", \"Academic Reputation\": \"84.4\", \"Employer Reputation\": \"71.9\", \"Citations per Faculty\": \"84.2\", \"Faculty Student Ratio\": \"98.3\", \"International Students Ratio\": \"38.8\", \"International Faculty Ratio\": \"40.5\", \"International Research Network\\\\nUnweighted\": \"89\", \"Employment Outcomes\\\\nUnweighted\": \"98.4\"}'"
      ]
     },
     "execution_count": 15,
     "metadata": {},
     "output_type": "execute_result"
    }
   ],
   "source": [
    "s1=json.dumps(d)\n",
    "s1"
   ]
  },
  {
   "cell_type": "code",
   "execution_count": 16,
   "id": "c5fb3042",
   "metadata": {},
   "outputs": [],
   "source": [
    "with open('Northwestern University.json','w') as f:\n",
    "    json.dump(d,f)\n"
   ]
  },
  {
   "cell_type": "code",
   "execution_count": null,
   "id": "be811d5f",
   "metadata": {},
   "outputs": [],
   "source": []
  },
  {
   "cell_type": "code",
   "execution_count": null,
   "id": "073f0100",
   "metadata": {},
   "outputs": [],
   "source": []
  }
 ],
 "metadata": {
  "kernelspec": {
   "display_name": "Python 3.9.12 ('base')",
   "language": "python",
   "name": "python3"
  },
  "language_info": {
   "codemirror_mode": {
    "name": "ipython",
    "version": 3
   },
   "file_extension": ".py",
   "mimetype": "text/x-python",
   "name": "python",
   "nbconvert_exporter": "python",
   "pygments_lexer": "ipython3",
   "version": "3.9.12"
  },
  "vscode": {
   "interpreter": {
    "hash": "ad2bdc8ecc057115af97d19610ffacc2b4e99fae6737bb82f5d7fb13d2f2c186"
   }
  }
 },
 "nbformat": 4,
 "nbformat_minor": 5
}
