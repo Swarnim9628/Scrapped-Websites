{
 "cells": [
  {
   "cell_type": "code",
   "execution_count": 1,
   "id": "63e16b31",
   "metadata": {},
   "outputs": [],
   "source": [
    "from selenium import webdriver\n",
    "from selenium.webdriver.chrome.service import Service\n",
    "import pandas as pd\n",
    "import json"
   ]
  },
  {
   "cell_type": "code",
   "execution_count": 2,
   "id": "4450fb0a",
   "metadata": {},
   "outputs": [],
   "source": [
    "path = Service('C:\\chromedriver.exe')"
   ]
  },
  {
   "cell_type": "code",
   "execution_count": 3,
   "id": "86b36f0b",
   "metadata": {},
   "outputs": [],
   "source": [
    "# set path for the driver\n",
    "browser = webdriver.Chrome(service = path)"
   ]
  },
  {
   "cell_type": "code",
   "execution_count": 4,
   "id": "2f4038f8",
   "metadata": {},
   "outputs": [],
   "source": [
    "url = \"https://www.topuniversities.com/university-rankings/world-university-rankings/2023\""
   ]
  },
  {
   "cell_type": "code",
   "execution_count": 5,
   "id": "70b880c9",
   "metadata": {},
   "outputs": [],
   "source": [
    "# open the page url ion chrome\n",
    "browser.get(url)"
   ]
  },
  {
   "cell_type": "code",
   "execution_count": 6,
   "id": "0bcad47b",
   "metadata": {},
   "outputs": [
    {
     "data": {
      "text/plain": [
       "[<selenium.webdriver.remote.webelement.WebElement (session=\"7af506d79735b952b0833e4a7dc79d23\", element=\"0e80092c-56ac-442f-b818-6e01ad9ee095\")>,\n",
       " <selenium.webdriver.remote.webelement.WebElement (session=\"7af506d79735b952b0833e4a7dc79d23\", element=\"9a543306-1129-4bfc-acb0-145afdf7d434\")>,\n",
       " <selenium.webdriver.remote.webelement.WebElement (session=\"7af506d79735b952b0833e4a7dc79d23\", element=\"38be5376-ff95-444d-bff0-b813dad76e7c\")>,\n",
       " <selenium.webdriver.remote.webelement.WebElement (session=\"7af506d79735b952b0833e4a7dc79d23\", element=\"12219e08-91ce-4f9f-8c22-90847fabfc7b\")>,\n",
       " <selenium.webdriver.remote.webelement.WebElement (session=\"7af506d79735b952b0833e4a7dc79d23\", element=\"2263c3f1-e6e3-4d47-9b02-c6edfeb66aa8\")>,\n",
       " <selenium.webdriver.remote.webelement.WebElement (session=\"7af506d79735b952b0833e4a7dc79d23\", element=\"9fb419c0-b967-4eac-ad5c-8b52258b87c9\")>,\n",
       " <selenium.webdriver.remote.webelement.WebElement (session=\"7af506d79735b952b0833e4a7dc79d23\", element=\"25024256-c2f4-497b-baa4-89685b9b80cb\")>,\n",
       " <selenium.webdriver.remote.webelement.WebElement (session=\"7af506d79735b952b0833e4a7dc79d23\", element=\"f792077d-2311-4782-9bab-91d97fafaac9\")>,\n",
       " <selenium.webdriver.remote.webelement.WebElement (session=\"7af506d79735b952b0833e4a7dc79d23\", element=\"f524d70f-04f5-46ac-9993-70ee9d38a19b\")>,\n",
       " <selenium.webdriver.remote.webelement.WebElement (session=\"7af506d79735b952b0833e4a7dc79d23\", element=\"3abb37db-1d38-4f29-87c2-04c8d0a5c41f\")>,\n",
       " <selenium.webdriver.remote.webelement.WebElement (session=\"7af506d79735b952b0833e4a7dc79d23\", element=\"f83cd706-3097-4529-ac31-58c62a172732\")>,\n",
       " <selenium.webdriver.remote.webelement.WebElement (session=\"7af506d79735b952b0833e4a7dc79d23\", element=\"3a4058ed-1e68-4582-b050-ed8922e00804\")>,\n",
       " <selenium.webdriver.remote.webelement.WebElement (session=\"7af506d79735b952b0833e4a7dc79d23\", element=\"a5b16370-6abc-4f69-ba78-cc6c0a69c36a\")>,\n",
       " <selenium.webdriver.remote.webelement.WebElement (session=\"7af506d79735b952b0833e4a7dc79d23\", element=\"ca3c4dfd-deed-4786-ac2e-f057a1bc56eb\")>,\n",
       " <selenium.webdriver.remote.webelement.WebElement (session=\"7af506d79735b952b0833e4a7dc79d23\", element=\"eab4494f-45fa-4ace-b775-f76518818eb7\")>,\n",
       " <selenium.webdriver.remote.webelement.WebElement (session=\"7af506d79735b952b0833e4a7dc79d23\", element=\"91f961ff-e64c-467b-8a3c-eb4df68512b2\")>,\n",
       " <selenium.webdriver.remote.webelement.WebElement (session=\"7af506d79735b952b0833e4a7dc79d23\", element=\"ad997624-6a93-4edd-a53f-e08a06e86b5d\")>,\n",
       " <selenium.webdriver.remote.webelement.WebElement (session=\"7af506d79735b952b0833e4a7dc79d23\", element=\"0847481d-0dd5-4dba-866d-87e60e7f2b53\")>,\n",
       " <selenium.webdriver.remote.webelement.WebElement (session=\"7af506d79735b952b0833e4a7dc79d23\", element=\"9604a951-69cd-40a8-9d5b-971244c7682d\")>,\n",
       " <selenium.webdriver.remote.webelement.WebElement (session=\"7af506d79735b952b0833e4a7dc79d23\", element=\"75e528ae-91ac-40f2-a079-73f29ef5952a\")>]"
      ]
     },
     "execution_count": 6,
     "metadata": {},
     "output_type": "execute_result"
    }
   ],
   "source": [
    "\n",
    "line1=browser.find_elements(\"xpath\",\"//div[@class='location ']\")\n",
    "line1"
   ]
  },
  {
   "cell_type": "code",
   "execution_count": 7,
   "id": "a714b66d",
   "metadata": {},
   "outputs": [
    {
     "data": {
      "text/plain": [
       "[' Hong Kong SAR',\n",
       " 'New York City, United States',\n",
       " 'Tokyo, Japan',\n",
       " 'Baltimore, United States',\n",
       " 'Ann Arbor, United States',\n",
       " 'Paris, France',\n",
       " 'Berkeley, United States',\n",
       " 'Manchester, United Kingdom',\n",
       " 'Seoul, South Korea',\n",
       " 'Canberra, Australia']"
      ]
     },
     "execution_count": 7,
     "metadata": {},
     "output_type": "execute_result"
    }
   ],
   "source": [
    "address=[]\n",
    "for data in line1:\n",
    "    #get the text data\n",
    "    temp=data.text\n",
    "    address.append(temp)\n",
    "address=address[10:]\n",
    "address\n"
   ]
  },
  {
   "cell_type": "code",
   "execution_count": 8,
   "id": "0394ed21",
   "metadata": {},
   "outputs": [
    {
     "data": {
      "text/plain": [
       "[<selenium.webdriver.remote.webelement.WebElement (session=\"7af506d79735b952b0833e4a7dc79d23\", element=\"5e811f3b-7d0a-42a0-a581-947c1f7e75e7\")>,\n",
       " <selenium.webdriver.remote.webelement.WebElement (session=\"7af506d79735b952b0833e4a7dc79d23\", element=\"7c8f47a5-e4cb-4f93-aa15-89d535d9c983\")>,\n",
       " <selenium.webdriver.remote.webelement.WebElement (session=\"7af506d79735b952b0833e4a7dc79d23\", element=\"c70c98fb-2ff7-4fdb-a471-1ce905faf47d\")>,\n",
       " <selenium.webdriver.remote.webelement.WebElement (session=\"7af506d79735b952b0833e4a7dc79d23\", element=\"c8115f36-599e-4907-a74b-a10974fa4641\")>,\n",
       " <selenium.webdriver.remote.webelement.WebElement (session=\"7af506d79735b952b0833e4a7dc79d23\", element=\"2fdfe24e-dcfc-4d14-935b-a4739c889a23\")>,\n",
       " <selenium.webdriver.remote.webelement.WebElement (session=\"7af506d79735b952b0833e4a7dc79d23\", element=\"5e5480cd-34ba-453b-8cb2-fac794d347e3\")>,\n",
       " <selenium.webdriver.remote.webelement.WebElement (session=\"7af506d79735b952b0833e4a7dc79d23\", element=\"aa104828-1c6f-4fd6-beb3-2153bd42e7c4\")>,\n",
       " <selenium.webdriver.remote.webelement.WebElement (session=\"7af506d79735b952b0833e4a7dc79d23\", element=\"ca0b8280-6449-4f26-96d6-51e0d075ccec\")>,\n",
       " <selenium.webdriver.remote.webelement.WebElement (session=\"7af506d79735b952b0833e4a7dc79d23\", element=\"18011717-b280-4d1f-a0ac-161e9b21b3bc\")>,\n",
       " <selenium.webdriver.remote.webelement.WebElement (session=\"7af506d79735b952b0833e4a7dc79d23\", element=\"0bf109fe-7b20-4635-af3a-113a92f4d4ac\")>]"
      ]
     },
     "execution_count": 8,
     "metadata": {},
     "output_type": "execute_result"
    }
   ],
   "source": [
    "line2=browser.find_elements(\"xpath\",\"//div[@class='_univ-rank ']\")\n",
    "line2"
   ]
  },
  {
   "cell_type": "code",
   "execution_count": 9,
   "id": "def2f3da",
   "metadata": {},
   "outputs": [
    {
     "data": {
      "text/plain": [
       "['21', '22', '23', '24', '25', '26', '27', '28', '29', '30']"
      ]
     },
     "execution_count": 9,
     "metadata": {},
     "output_type": "execute_result"
    }
   ],
   "source": [
    "\n",
    "Rank=[]\n",
    "for data in line2:\n",
    "    #get the text data\n",
    "    temp=data.text\n",
    "    Rank.append(temp)\n",
    "Rank"
   ]
  },
  {
   "cell_type": "code",
   "execution_count": 10,
   "id": "dc8799c3",
   "metadata": {},
   "outputs": [
    {
     "data": {
      "text/plain": [
       "[<selenium.webdriver.remote.webelement.WebElement (session=\"7af506d79735b952b0833e4a7dc79d23\", element=\"f97d911a-7b7e-4e9d-9953-81238634cbef\")>,\n",
       " <selenium.webdriver.remote.webelement.WebElement (session=\"7af506d79735b952b0833e4a7dc79d23\", element=\"7e37b420-b15b-40f6-b895-512f45c586e0\")>,\n",
       " <selenium.webdriver.remote.webelement.WebElement (session=\"7af506d79735b952b0833e4a7dc79d23\", element=\"5a6acf15-fae6-4f44-8e2d-3663dc256017\")>,\n",
       " <selenium.webdriver.remote.webelement.WebElement (session=\"7af506d79735b952b0833e4a7dc79d23\", element=\"7a2d3fef-0202-4284-bb3d-d4547acbbeb9\")>,\n",
       " <selenium.webdriver.remote.webelement.WebElement (session=\"7af506d79735b952b0833e4a7dc79d23\", element=\"3f91fbff-9f37-4dc1-8671-1a256b87229d\")>,\n",
       " <selenium.webdriver.remote.webelement.WebElement (session=\"7af506d79735b952b0833e4a7dc79d23\", element=\"ed2a2553-ee27-49cc-8417-cefbd0631fe1\")>,\n",
       " <selenium.webdriver.remote.webelement.WebElement (session=\"7af506d79735b952b0833e4a7dc79d23\", element=\"3a425dc3-3800-4eb5-bea1-fb139d6fb7e1\")>,\n",
       " <selenium.webdriver.remote.webelement.WebElement (session=\"7af506d79735b952b0833e4a7dc79d23\", element=\"2d33cd0a-c1ec-44f7-8286-17bd03dc1401\")>,\n",
       " <selenium.webdriver.remote.webelement.WebElement (session=\"7af506d79735b952b0833e4a7dc79d23\", element=\"33b8a516-b903-4eef-95a1-3a2050ffcccc\")>]"
      ]
     },
     "execution_count": 10,
     "metadata": {},
     "output_type": "execute_result"
    }
   ],
   "source": [
    "# GET EACH COLLEGE SPECIFICATION HEADERS\n",
    "line3=browser.find_elements(\"xpath\",\"//div[@class='_click-function_ind']\")\n",
    "line3"
   ]
  },
  {
   "cell_type": "code",
   "execution_count": 11,
   "id": "984aa28f",
   "metadata": {},
   "outputs": [
    {
     "data": {
      "text/plain": [
       "['Overall Score',\n",
       " 'Academic Reputation',\n",
       " 'Employer Reputation',\n",
       " 'Citations per Faculty',\n",
       " 'Faculty Student Ratio',\n",
       " 'International Students Ratio',\n",
       " 'International Faculty Ratio',\n",
       " 'International Research Network\\nUnweighted',\n",
       " 'Employment Outcomes\\nUnweighted']"
      ]
     },
     "execution_count": 11,
     "metadata": {},
     "output_type": "execute_result"
    }
   ],
   "source": [
    "#PARSING DATA\n",
    "column=[]\n",
    "for data in line3:\n",
    "    #get the text data\n",
    "    temp=data.text\n",
    "    column.append(temp)\n",
    "column"
   ]
  },
  {
   "cell_type": "code",
   "execution_count": 12,
   "id": "d3cac383",
   "metadata": {},
   "outputs": [
    {
     "data": {
      "text/plain": [
       "[<selenium.webdriver.remote.webelement.WebElement (session=\"7af506d79735b952b0833e4a7dc79d23\", element=\"7445eee3-77a2-405d-8538-c8852d73526d\")>,\n",
       " <selenium.webdriver.remote.webelement.WebElement (session=\"7af506d79735b952b0833e4a7dc79d23\", element=\"9d87b5a7-f98d-43c6-82b3-f3cb5a1fd1c1\")>,\n",
       " <selenium.webdriver.remote.webelement.WebElement (session=\"7af506d79735b952b0833e4a7dc79d23\", element=\"7200beb1-14b4-48df-902f-c54bdad5bc04\")>,\n",
       " <selenium.webdriver.remote.webelement.WebElement (session=\"7af506d79735b952b0833e4a7dc79d23\", element=\"0690f4ba-624e-4db5-a0fc-47ebf423e856\")>,\n",
       " <selenium.webdriver.remote.webelement.WebElement (session=\"7af506d79735b952b0833e4a7dc79d23\", element=\"1294e0db-8679-4a6c-aa3a-1466ca9c0c90\")>,\n",
       " <selenium.webdriver.remote.webelement.WebElement (session=\"7af506d79735b952b0833e4a7dc79d23\", element=\"8f74ebf7-7ae3-4a4a-93f6-ce358f546f92\")>,\n",
       " <selenium.webdriver.remote.webelement.WebElement (session=\"7af506d79735b952b0833e4a7dc79d23\", element=\"aa235c45-dccc-4106-8d94-4d6cf30ab9f8\")>,\n",
       " <selenium.webdriver.remote.webelement.WebElement (session=\"7af506d79735b952b0833e4a7dc79d23\", element=\"2750e718-424d-4c92-8954-27b6b729df8b\")>,\n",
       " <selenium.webdriver.remote.webelement.WebElement (session=\"7af506d79735b952b0833e4a7dc79d23\", element=\"c67f6609-143b-484c-8b13-7fbf75d213cb\")>,\n",
       " <selenium.webdriver.remote.webelement.WebElement (session=\"7af506d79735b952b0833e4a7dc79d23\", element=\"6f1d5b07-ed12-4852-b970-9760180af384\")>,\n",
       " <selenium.webdriver.remote.webelement.WebElement (session=\"7af506d79735b952b0833e4a7dc79d23\", element=\"72d606a3-e752-489b-b179-6e91fb03dc1a\")>,\n",
       " <selenium.webdriver.remote.webelement.WebElement (session=\"7af506d79735b952b0833e4a7dc79d23\", element=\"73d5d858-572f-4929-832b-5ce0c3c71d14\")>,\n",
       " <selenium.webdriver.remote.webelement.WebElement (session=\"7af506d79735b952b0833e4a7dc79d23\", element=\"2b040f58-aa18-4260-a9c6-1e1fcb1353bd\")>,\n",
       " <selenium.webdriver.remote.webelement.WebElement (session=\"7af506d79735b952b0833e4a7dc79d23\", element=\"7d10ce1c-a416-4184-960c-9c3a34dd0254\")>,\n",
       " <selenium.webdriver.remote.webelement.WebElement (session=\"7af506d79735b952b0833e4a7dc79d23\", element=\"243a16fc-9f6b-4b66-aeac-51d7600f5e38\")>,\n",
       " <selenium.webdriver.remote.webelement.WebElement (session=\"7af506d79735b952b0833e4a7dc79d23\", element=\"eb46b47f-ee93-4fc5-a4b4-e6c227523f57\")>,\n",
       " <selenium.webdriver.remote.webelement.WebElement (session=\"7af506d79735b952b0833e4a7dc79d23\", element=\"ffc0c6f7-64eb-4be1-985c-662047c770cc\")>,\n",
       " <selenium.webdriver.remote.webelement.WebElement (session=\"7af506d79735b952b0833e4a7dc79d23\", element=\"da8e493b-003a-4f4b-a9c5-f74dba9d20c1\")>,\n",
       " <selenium.webdriver.remote.webelement.WebElement (session=\"7af506d79735b952b0833e4a7dc79d23\", element=\"1f254f32-b211-42c4-a087-e29666c7fcc8\")>,\n",
       " <selenium.webdriver.remote.webelement.WebElement (session=\"7af506d79735b952b0833e4a7dc79d23\", element=\"8ea1a1c7-552c-4b5a-89ab-d946d9b79389\")>,\n",
       " <selenium.webdriver.remote.webelement.WebElement (session=\"7af506d79735b952b0833e4a7dc79d23\", element=\"7d8ac5ab-2bfe-45ba-8ddb-73ddb92d83a7\")>,\n",
       " <selenium.webdriver.remote.webelement.WebElement (session=\"7af506d79735b952b0833e4a7dc79d23\", element=\"8f27da9f-ae65-437b-a936-ffb73237374f\")>,\n",
       " <selenium.webdriver.remote.webelement.WebElement (session=\"7af506d79735b952b0833e4a7dc79d23\", element=\"ee0591d3-31e1-4855-9378-52c1c9f5c06b\")>,\n",
       " <selenium.webdriver.remote.webelement.WebElement (session=\"7af506d79735b952b0833e4a7dc79d23\", element=\"6f6bd25e-e5a5-4028-b775-78a8ed85b652\")>,\n",
       " <selenium.webdriver.remote.webelement.WebElement (session=\"7af506d79735b952b0833e4a7dc79d23\", element=\"2995257a-81a0-47fe-ad58-388906983b8c\")>,\n",
       " <selenium.webdriver.remote.webelement.WebElement (session=\"7af506d79735b952b0833e4a7dc79d23\", element=\"37e61cfb-1bb7-4121-8572-a7c37d651f0f\")>,\n",
       " <selenium.webdriver.remote.webelement.WebElement (session=\"7af506d79735b952b0833e4a7dc79d23\", element=\"2d69ef3f-0e1b-490c-b4ad-f92f0c3ddbf9\")>,\n",
       " <selenium.webdriver.remote.webelement.WebElement (session=\"7af506d79735b952b0833e4a7dc79d23\", element=\"927f056b-d031-44d9-bf5b-701f037a7a53\")>,\n",
       " <selenium.webdriver.remote.webelement.WebElement (session=\"7af506d79735b952b0833e4a7dc79d23\", element=\"2dca72a4-6f13-4483-aa18-a4431f161da9\")>,\n",
       " <selenium.webdriver.remote.webelement.WebElement (session=\"7af506d79735b952b0833e4a7dc79d23\", element=\"211188ab-58e4-4c32-8558-71382e2c2ae7\")>,\n",
       " <selenium.webdriver.remote.webelement.WebElement (session=\"7af506d79735b952b0833e4a7dc79d23\", element=\"2ecc3f0b-68b0-471c-bb19-5dc2b4b5f8a0\")>,\n",
       " <selenium.webdriver.remote.webelement.WebElement (session=\"7af506d79735b952b0833e4a7dc79d23\", element=\"9028bffe-d25b-4fba-9382-85d3ce6ffc1c\")>,\n",
       " <selenium.webdriver.remote.webelement.WebElement (session=\"7af506d79735b952b0833e4a7dc79d23\", element=\"44dad5d8-6d14-49cf-a36e-e2b155f512b2\")>,\n",
       " <selenium.webdriver.remote.webelement.WebElement (session=\"7af506d79735b952b0833e4a7dc79d23\", element=\"d30b7cc0-8853-44c0-a4fa-f1c569f62307\")>,\n",
       " <selenium.webdriver.remote.webelement.WebElement (session=\"7af506d79735b952b0833e4a7dc79d23\", element=\"fc3a28d4-b878-4dc1-b3ce-e78baf4b363e\")>,\n",
       " <selenium.webdriver.remote.webelement.WebElement (session=\"7af506d79735b952b0833e4a7dc79d23\", element=\"b640f37e-da3f-4c62-9736-dd0dbf1ad486\")>,\n",
       " <selenium.webdriver.remote.webelement.WebElement (session=\"7af506d79735b952b0833e4a7dc79d23\", element=\"aae8a1e9-aeda-4a81-9fdc-ac0e0e46f770\")>,\n",
       " <selenium.webdriver.remote.webelement.WebElement (session=\"7af506d79735b952b0833e4a7dc79d23\", element=\"0384fcde-8d5e-4295-98fa-3e58d4aecff6\")>,\n",
       " <selenium.webdriver.remote.webelement.WebElement (session=\"7af506d79735b952b0833e4a7dc79d23\", element=\"5bb6dca6-5520-4816-91ef-9e61ba9ed5ee\")>,\n",
       " <selenium.webdriver.remote.webelement.WebElement (session=\"7af506d79735b952b0833e4a7dc79d23\", element=\"49a478c3-0e7c-46e4-a1aa-d508ccd0cf38\")>,\n",
       " <selenium.webdriver.remote.webelement.WebElement (session=\"7af506d79735b952b0833e4a7dc79d23\", element=\"ae119633-44a8-424d-9fc6-67829dc2e558\")>,\n",
       " <selenium.webdriver.remote.webelement.WebElement (session=\"7af506d79735b952b0833e4a7dc79d23\", element=\"4905a4e0-f214-443f-9a7d-6b9cb0d83b04\")>,\n",
       " <selenium.webdriver.remote.webelement.WebElement (session=\"7af506d79735b952b0833e4a7dc79d23\", element=\"10ec2b06-ce4c-4d49-819b-d8fdb43818ca\")>,\n",
       " <selenium.webdriver.remote.webelement.WebElement (session=\"7af506d79735b952b0833e4a7dc79d23\", element=\"73fd2e30-72fa-4e5c-8b86-edfc2d80d713\")>,\n",
       " <selenium.webdriver.remote.webelement.WebElement (session=\"7af506d79735b952b0833e4a7dc79d23\", element=\"e408eedb-eefb-4c93-9adc-25ca70f9d36e\")>,\n",
       " <selenium.webdriver.remote.webelement.WebElement (session=\"7af506d79735b952b0833e4a7dc79d23\", element=\"28071fd7-f7d0-46cf-b46c-60826643fa5a\")>,\n",
       " <selenium.webdriver.remote.webelement.WebElement (session=\"7af506d79735b952b0833e4a7dc79d23\", element=\"7212c828-d152-4caf-9e2e-ff44d3a347df\")>,\n",
       " <selenium.webdriver.remote.webelement.WebElement (session=\"7af506d79735b952b0833e4a7dc79d23\", element=\"9d32b666-9119-46de-9bf6-59fcdce19cf4\")>,\n",
       " <selenium.webdriver.remote.webelement.WebElement (session=\"7af506d79735b952b0833e4a7dc79d23\", element=\"8d712333-03b9-48c1-bcd2-c0f5b8825ab3\")>,\n",
       " <selenium.webdriver.remote.webelement.WebElement (session=\"7af506d79735b952b0833e4a7dc79d23\", element=\"a2274a33-9c2c-4a37-b9e1-c9b22a11d412\")>,\n",
       " <selenium.webdriver.remote.webelement.WebElement (session=\"7af506d79735b952b0833e4a7dc79d23\", element=\"00f78ef5-0732-4c42-beba-4a393a38a639\")>,\n",
       " <selenium.webdriver.remote.webelement.WebElement (session=\"7af506d79735b952b0833e4a7dc79d23\", element=\"eeca9f4b-ec82-4a59-8927-d6cbbbcb1599\")>,\n",
       " <selenium.webdriver.remote.webelement.WebElement (session=\"7af506d79735b952b0833e4a7dc79d23\", element=\"c31a7eac-7d0d-4c3f-9b0c-3eccf1a0c8dd\")>,\n",
       " <selenium.webdriver.remote.webelement.WebElement (session=\"7af506d79735b952b0833e4a7dc79d23\", element=\"45dc6128-da1a-4ffe-88a6-7155319e16fb\")>,\n",
       " <selenium.webdriver.remote.webelement.WebElement (session=\"7af506d79735b952b0833e4a7dc79d23\", element=\"a50f9dd7-8759-476e-85d2-1b1ebecca6a6\")>,\n",
       " <selenium.webdriver.remote.webelement.WebElement (session=\"7af506d79735b952b0833e4a7dc79d23\", element=\"fa52138b-f17c-4e3b-934c-bce4a8c88f1f\")>,\n",
       " <selenium.webdriver.remote.webelement.WebElement (session=\"7af506d79735b952b0833e4a7dc79d23\", element=\"cefb253e-0ab4-4229-a169-d58eeefff167\")>,\n",
       " <selenium.webdriver.remote.webelement.WebElement (session=\"7af506d79735b952b0833e4a7dc79d23\", element=\"3d07cdc1-ab2b-4ddf-90dd-2e7bf4a2947f\")>,\n",
       " <selenium.webdriver.remote.webelement.WebElement (session=\"7af506d79735b952b0833e4a7dc79d23\", element=\"88b0ac42-0536-4d84-aaa3-f376453a60f8\")>,\n",
       " <selenium.webdriver.remote.webelement.WebElement (session=\"7af506d79735b952b0833e4a7dc79d23\", element=\"17ef81a1-e562-4209-a44c-2de2fb0dbae7\")>,\n",
       " <selenium.webdriver.remote.webelement.WebElement (session=\"7af506d79735b952b0833e4a7dc79d23\", element=\"997c052a-fb07-4a5d-a7ac-5d11e3a043db\")>,\n",
       " <selenium.webdriver.remote.webelement.WebElement (session=\"7af506d79735b952b0833e4a7dc79d23\", element=\"6eb13ef5-b731-4246-a466-881474bddf94\")>,\n",
       " <selenium.webdriver.remote.webelement.WebElement (session=\"7af506d79735b952b0833e4a7dc79d23\", element=\"b6f5aa3a-4ade-4a3c-8304-2f3556893230\")>,\n",
       " <selenium.webdriver.remote.webelement.WebElement (session=\"7af506d79735b952b0833e4a7dc79d23\", element=\"b2638acb-dc2c-4a32-8da5-1eb3204319fd\")>,\n",
       " <selenium.webdriver.remote.webelement.WebElement (session=\"7af506d79735b952b0833e4a7dc79d23\", element=\"73a42761-a341-4d4f-a339-1fead3b7fff4\")>,\n",
       " <selenium.webdriver.remote.webelement.WebElement (session=\"7af506d79735b952b0833e4a7dc79d23\", element=\"ebe90d12-24d9-4846-bf51-9059d8921b64\")>,\n",
       " <selenium.webdriver.remote.webelement.WebElement (session=\"7af506d79735b952b0833e4a7dc79d23\", element=\"d01de6bb-3d3f-42a1-8e9f-8922ed29d280\")>,\n",
       " <selenium.webdriver.remote.webelement.WebElement (session=\"7af506d79735b952b0833e4a7dc79d23\", element=\"c8bc2b1d-cf07-4ab7-9f3e-8e3dbf40280c\")>,\n",
       " <selenium.webdriver.remote.webelement.WebElement (session=\"7af506d79735b952b0833e4a7dc79d23\", element=\"c2d04042-839f-410f-b575-9b05c36975dc\")>,\n",
       " <selenium.webdriver.remote.webelement.WebElement (session=\"7af506d79735b952b0833e4a7dc79d23\", element=\"02c0869e-2708-4c9e-9ce3-ca6caf680b96\")>,\n",
       " <selenium.webdriver.remote.webelement.WebElement (session=\"7af506d79735b952b0833e4a7dc79d23\", element=\"5b38d98c-803c-42b5-98fb-e884b9aab650\")>,\n",
       " <selenium.webdriver.remote.webelement.WebElement (session=\"7af506d79735b952b0833e4a7dc79d23\", element=\"e9dbc256-bfed-4d41-abaa-cdd844340d98\")>,\n",
       " <selenium.webdriver.remote.webelement.WebElement (session=\"7af506d79735b952b0833e4a7dc79d23\", element=\"08a2d8bd-fead-4717-aac1-6dced90ee06a\")>,\n",
       " <selenium.webdriver.remote.webelement.WebElement (session=\"7af506d79735b952b0833e4a7dc79d23\", element=\"2ca2edad-5da1-4265-a8ae-ddc4a4e3fe23\")>,\n",
       " <selenium.webdriver.remote.webelement.WebElement (session=\"7af506d79735b952b0833e4a7dc79d23\", element=\"8120ed65-7287-4cb3-8d52-48cf2dd7928c\")>,\n",
       " <selenium.webdriver.remote.webelement.WebElement (session=\"7af506d79735b952b0833e4a7dc79d23\", element=\"ee851171-4126-41fc-afdb-c5abdf9c9215\")>,\n",
       " <selenium.webdriver.remote.webelement.WebElement (session=\"7af506d79735b952b0833e4a7dc79d23\", element=\"0549856b-3f77-4e75-ace7-a6971fe1e9f2\")>,\n",
       " <selenium.webdriver.remote.webelement.WebElement (session=\"7af506d79735b952b0833e4a7dc79d23\", element=\"73f45df3-c994-4f80-b916-89eedcb01908\")>,\n",
       " <selenium.webdriver.remote.webelement.WebElement (session=\"7af506d79735b952b0833e4a7dc79d23\", element=\"3e4eb393-23d7-41d2-b627-249d42ac4c09\")>,\n",
       " <selenium.webdriver.remote.webelement.WebElement (session=\"7af506d79735b952b0833e4a7dc79d23\", element=\"b07e15a7-0f29-43d0-a84d-20ab305b48d0\")>,\n",
       " <selenium.webdriver.remote.webelement.WebElement (session=\"7af506d79735b952b0833e4a7dc79d23\", element=\"24a872ba-aa9d-491f-b36b-9f7590f029f4\")>,\n",
       " <selenium.webdriver.remote.webelement.WebElement (session=\"7af506d79735b952b0833e4a7dc79d23\", element=\"f898e093-652b-4408-a480-f314f3196b00\")>,\n",
       " <selenium.webdriver.remote.webelement.WebElement (session=\"7af506d79735b952b0833e4a7dc79d23\", element=\"46408472-bcdc-4cb9-af49-e75217a411ff\")>,\n",
       " <selenium.webdriver.remote.webelement.WebElement (session=\"7af506d79735b952b0833e4a7dc79d23\", element=\"4b25b97f-1257-47ce-a3b8-0ba0a2510501\")>,\n",
       " <selenium.webdriver.remote.webelement.WebElement (session=\"7af506d79735b952b0833e4a7dc79d23\", element=\"8dc70fa8-a126-4907-b433-8b1dabeaaed1\")>,\n",
       " <selenium.webdriver.remote.webelement.WebElement (session=\"7af506d79735b952b0833e4a7dc79d23\", element=\"3187465a-59d1-4c3d-957e-d47e02fab5b6\")>,\n",
       " <selenium.webdriver.remote.webelement.WebElement (session=\"7af506d79735b952b0833e4a7dc79d23\", element=\"99bd1642-a610-436f-b11d-d1586be3cdd8\")>,\n",
       " <selenium.webdriver.remote.webelement.WebElement (session=\"7af506d79735b952b0833e4a7dc79d23\", element=\"df66dddb-be55-4c89-9fd8-7a27aec2641a\")>,\n",
       " <selenium.webdriver.remote.webelement.WebElement (session=\"7af506d79735b952b0833e4a7dc79d23\", element=\"6513011e-c5fd-49d4-888e-bda98415b518\")>,\n",
       " <selenium.webdriver.remote.webelement.WebElement (session=\"7af506d79735b952b0833e4a7dc79d23\", element=\"23866732-5ffb-4c96-b88f-499ae1e5eacf\")>,\n",
       " <selenium.webdriver.remote.webelement.WebElement (session=\"7af506d79735b952b0833e4a7dc79d23\", element=\"7155bb08-3e5c-468c-bf3d-7f76c82d5f5e\")>,\n",
       " <selenium.webdriver.remote.webelement.WebElement (session=\"7af506d79735b952b0833e4a7dc79d23\", element=\"cf04c5ec-fe08-4701-af46-4b6ad8b50332\")>,\n",
       " <selenium.webdriver.remote.webelement.WebElement (session=\"7af506d79735b952b0833e4a7dc79d23\", element=\"3e8fe7cd-cb9b-4975-ade6-40e231737995\")>,\n",
       " <selenium.webdriver.remote.webelement.WebElement (session=\"7af506d79735b952b0833e4a7dc79d23\", element=\"85deea72-7a2e-4fe8-b426-3289a6ca124c\")>,\n",
       " <selenium.webdriver.remote.webelement.WebElement (session=\"7af506d79735b952b0833e4a7dc79d23\", element=\"d3a9f92a-0ac8-47f4-a326-2d1e422f56a1\")>,\n",
       " <selenium.webdriver.remote.webelement.WebElement (session=\"7af506d79735b952b0833e4a7dc79d23\", element=\"e4208912-5efa-4971-a158-8da06311fbca\")>,\n",
       " <selenium.webdriver.remote.webelement.WebElement (session=\"7af506d79735b952b0833e4a7dc79d23\", element=\"5ebe34a3-905f-4299-a9c4-44c7e227a322\")>,\n",
       " <selenium.webdriver.remote.webelement.WebElement (session=\"7af506d79735b952b0833e4a7dc79d23\", element=\"f5c2e2a8-89e2-464f-a8ca-a5e7c16e14e8\")>,\n",
       " <selenium.webdriver.remote.webelement.WebElement (session=\"7af506d79735b952b0833e4a7dc79d23\", element=\"323aa683-1435-4f05-a60b-23df96179449\")>,\n",
       " <selenium.webdriver.remote.webelement.WebElement (session=\"7af506d79735b952b0833e4a7dc79d23\", element=\"647a81c3-84ce-42b4-9813-f429ff1766b8\")>]"
      ]
     },
     "execution_count": 12,
     "metadata": {},
     "output_type": "execute_result"
    }
   ],
   "source": [
    "\n",
    "line4=browser.find_elements(\"xpath\",\"//div[@class='td-wrap-in']\")\n",
    "line4"
   ]
  },
  {
   "cell_type": "code",
   "execution_count": 14,
   "id": "5604c9e6",
   "metadata": {},
   "outputs": [
    {
     "data": {
      "text/plain": [
       "['82.2', '98.6', '97.8', '70.3', '87', '10.3', '12.2', '79.3', '97.7']"
      ]
     },
     "execution_count": 14,
     "metadata": {},
     "output_type": "execute_result"
    }
   ],
   "source": [
    "#PARSING DATA\n",
    "value=[]\n",
    "for data in line4:\n",
    "    #get the text data\n",
    "    temp=data.text\n",
    "    value.append(temp)\n",
    "value_h=value[81:90]\n",
    "value_h"
   ]
  },
  {
   "cell_type": "code",
   "execution_count": 17,
   "id": "d5ea1e9d",
   "metadata": {},
   "outputs": [
    {
     "data": {
      "text/plain": [
       "{'Name': 'Seoul National University',\n",
       " 'Location': 'Seoul, South Korea',\n",
       " 'Rank': '29',\n",
       " 'Overall Score': '82.2',\n",
       " 'Academic Reputation': '98.6',\n",
       " 'Employer Reputation': '97.8',\n",
       " 'Citations per Faculty': '70.3',\n",
       " 'Faculty Student Ratio': '87',\n",
       " 'International Students Ratio': '10.3',\n",
       " 'International Faculty Ratio': '12.2',\n",
       " 'International Research Network\\nUnweighted': '79.3',\n",
       " 'Employment Outcomes\\nUnweighted': '97.7'}"
      ]
     },
     "execution_count": 17,
     "metadata": {},
     "output_type": "execute_result"
    }
   ],
   "source": [
    "d={}\n",
    "d['Name']=value[80]\n",
    "d['Location']=address[8]\n",
    "d['Rank']=Rank[8]\n",
    "for i in range(len(column)):\n",
    "    d[column[i]]=value_h[i]\n",
    "d"
   ]
  },
  {
   "cell_type": "code",
   "execution_count": 18,
   "id": "a853d592",
   "metadata": {},
   "outputs": [
    {
     "data": {
      "text/plain": [
       "'{\"Name\": \"Seoul National University\", \"Location\": \"Seoul, South Korea\", \"Rank\": \"29\", \"Overall Score\": \"82.2\", \"Academic Reputation\": \"98.6\", \"Employer Reputation\": \"97.8\", \"Citations per Faculty\": \"70.3\", \"Faculty Student Ratio\": \"87\", \"International Students Ratio\": \"10.3\", \"International Faculty Ratio\": \"12.2\", \"International Research Network\\\\nUnweighted\": \"79.3\", \"Employment Outcomes\\\\nUnweighted\": \"97.7\"}'"
      ]
     },
     "execution_count": 18,
     "metadata": {},
     "output_type": "execute_result"
    }
   ],
   "source": [
    "s1=json.dumps(d)\n",
    "s1"
   ]
  },
  {
   "cell_type": "code",
   "execution_count": 19,
   "id": "0bedc093",
   "metadata": {},
   "outputs": [],
   "source": [
    "with open('Seoul National University.json','w') as f:\n",
    "    json.dump(d,f)"
   ]
  }
 ],
 "metadata": {
  "kernelspec": {
   "display_name": "Python 3.9.12 ('base')",
   "language": "python",
   "name": "python3"
  },
  "language_info": {
   "codemirror_mode": {
    "name": "ipython",
    "version": 3
   },
   "file_extension": ".py",
   "mimetype": "text/x-python",
   "name": "python",
   "nbconvert_exporter": "python",
   "pygments_lexer": "ipython3",
   "version": "3.9.12"
  },
  "vscode": {
   "interpreter": {
    "hash": "ad2bdc8ecc057115af97d19610ffacc2b4e99fae6737bb82f5d7fb13d2f2c186"
   }
  }
 },
 "nbformat": 4,
 "nbformat_minor": 5
}
