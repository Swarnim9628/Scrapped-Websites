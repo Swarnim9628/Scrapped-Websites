{
 "cells": [
  {
   "cell_type": "code",
   "execution_count": 1,
   "id": "2ab1523c",
   "metadata": {},
   "outputs": [],
   "source": [
    "from selenium import webdriver\n",
    "from selenium.webdriver.chrome.service import Service\n",
    "import pandas as pd\n",
    "import json"
   ]
  },
  {
   "cell_type": "code",
   "execution_count": 2,
   "id": "01580b53",
   "metadata": {},
   "outputs": [],
   "source": [
    "path = Service('C:\\chromedriver.exe')\n"
   ]
  },
  {
   "cell_type": "code",
   "execution_count": 3,
   "id": "c38b03ed",
   "metadata": {},
   "outputs": [],
   "source": [
    "# set path for the driver\n",
    "browser = webdriver.Chrome(service = path)"
   ]
  },
  {
   "cell_type": "code",
   "execution_count": 4,
   "id": "81e72cca",
   "metadata": {},
   "outputs": [],
   "source": [
    "url = \"https://www.topuniversities.com/university-rankings/world-university-rankings/2023\""
   ]
  },
  {
   "cell_type": "code",
   "execution_count": 5,
   "id": "370cf658",
   "metadata": {},
   "outputs": [],
   "source": [
    "# open the page url ion chrome\n",
    "browser.get(url)"
   ]
  },
  {
   "cell_type": "code",
   "execution_count": 12,
   "id": "6425246c",
   "metadata": {},
   "outputs": [
    {
     "data": {
      "text/plain": [
       "[<selenium.webdriver.remote.webelement.WebElement (session=\"e14f2a720ac17dfc6dca1174389df0a6\", element=\"e0cba954-c784-40e7-8de2-e5b0a2695987\")>,\n",
       " <selenium.webdriver.remote.webelement.WebElement (session=\"e14f2a720ac17dfc6dca1174389df0a6\", element=\"d88127cf-dc41-4de5-85f8-6f5f87eaba01\")>,\n",
       " <selenium.webdriver.remote.webelement.WebElement (session=\"e14f2a720ac17dfc6dca1174389df0a6\", element=\"fda940a0-d9f3-4293-9ec6-6237c1863539\")>,\n",
       " <selenium.webdriver.remote.webelement.WebElement (session=\"e14f2a720ac17dfc6dca1174389df0a6\", element=\"cc3c0cba-037c-4375-85a6-0a50718dfdce\")>,\n",
       " <selenium.webdriver.remote.webelement.WebElement (session=\"e14f2a720ac17dfc6dca1174389df0a6\", element=\"60a2ecb2-a3f9-4b35-9d57-1dbfa2d0a043\")>,\n",
       " <selenium.webdriver.remote.webelement.WebElement (session=\"e14f2a720ac17dfc6dca1174389df0a6\", element=\"f1322277-a3cf-46dd-8c64-c969601833dd\")>,\n",
       " <selenium.webdriver.remote.webelement.WebElement (session=\"e14f2a720ac17dfc6dca1174389df0a6\", element=\"b76186ba-5875-45b0-bf09-af6104a361af\")>,\n",
       " <selenium.webdriver.remote.webelement.WebElement (session=\"e14f2a720ac17dfc6dca1174389df0a6\", element=\"18270e7f-669d-4b96-beea-1b95048df814\")>,\n",
       " <selenium.webdriver.remote.webelement.WebElement (session=\"e14f2a720ac17dfc6dca1174389df0a6\", element=\"417420da-398a-4b42-93d5-804d1ea93bea\")>,\n",
       " <selenium.webdriver.remote.webelement.WebElement (session=\"e14f2a720ac17dfc6dca1174389df0a6\", element=\"6483aeed-ef83-49bc-be51-11f3a5ce4a04\")>,\n",
       " <selenium.webdriver.remote.webelement.WebElement (session=\"e14f2a720ac17dfc6dca1174389df0a6\", element=\"cf67cb53-5323-49fb-8cff-787c4d007beb\")>,\n",
       " <selenium.webdriver.remote.webelement.WebElement (session=\"e14f2a720ac17dfc6dca1174389df0a6\", element=\"971f0443-af13-430e-be57-001bd233dc76\")>,\n",
       " <selenium.webdriver.remote.webelement.WebElement (session=\"e14f2a720ac17dfc6dca1174389df0a6\", element=\"cb31ab06-fcaf-4881-981f-88439b521740\")>,\n",
       " <selenium.webdriver.remote.webelement.WebElement (session=\"e14f2a720ac17dfc6dca1174389df0a6\", element=\"f8d3fb16-d534-4d60-a006-180352c7b305\")>,\n",
       " <selenium.webdriver.remote.webelement.WebElement (session=\"e14f2a720ac17dfc6dca1174389df0a6\", element=\"399574ac-fc58-4424-9249-0d6814b038fb\")>,\n",
       " <selenium.webdriver.remote.webelement.WebElement (session=\"e14f2a720ac17dfc6dca1174389df0a6\", element=\"123d00f6-2464-4791-8630-50db91578487\")>,\n",
       " <selenium.webdriver.remote.webelement.WebElement (session=\"e14f2a720ac17dfc6dca1174389df0a6\", element=\"8e7b7804-8fe1-4a3b-a097-0c9b95f4547f\")>,\n",
       " <selenium.webdriver.remote.webelement.WebElement (session=\"e14f2a720ac17dfc6dca1174389df0a6\", element=\"00c36d27-64b8-49f0-acdd-761f46c0f6ff\")>,\n",
       " <selenium.webdriver.remote.webelement.WebElement (session=\"e14f2a720ac17dfc6dca1174389df0a6\", element=\"ad5a5e29-dd11-4f69-b4f8-8ea6c12aec65\")>,\n",
       " <selenium.webdriver.remote.webelement.WebElement (session=\"e14f2a720ac17dfc6dca1174389df0a6\", element=\"ac61618c-dfdf-422b-9407-2c81b96eae85\")>]"
      ]
     },
     "execution_count": 12,
     "metadata": {},
     "output_type": "execute_result"
    }
   ],
   "source": [
    "line1=browser.find_elements(\"xpath\",\"//div[@class='location ']\")\n",
    "line1"
   ]
  },
  {
   "cell_type": "code",
   "execution_count": 14,
   "id": "cc95a2ad",
   "metadata": {},
   "outputs": [
    {
     "data": {
      "text/plain": [
       "['Singapore, Singapore',\n",
       " 'Beijing, China (Mainland)',\n",
       " 'Philadelphia, United States',\n",
       " 'Beijing, China (Mainland)',\n",
       " 'Edinburgh, United Kingdom',\n",
       " 'Lausanne, Switzerland',\n",
       " 'Princeton, United States',\n",
       " 'New Haven, United States',\n",
       " 'Singapore, Singapore',\n",
       " 'Ithaca, United States']"
      ]
     },
     "execution_count": 14,
     "metadata": {},
     "output_type": "execute_result"
    }
   ],
   "source": [
    "address=[]\n",
    "for data in line1:\n",
    "    #get the text data\n",
    "    temp=data.text\n",
    "    address.append(temp)\n",
    "address=address[10:]\n",
    "address"
   ]
  },
  {
   "cell_type": "code",
   "execution_count": 15,
   "id": "bdb556f3",
   "metadata": {},
   "outputs": [
    {
     "data": {
      "text/plain": [
       "[<selenium.webdriver.remote.webelement.WebElement (session=\"e14f2a720ac17dfc6dca1174389df0a6\", element=\"b7c7afbd-b169-488c-8296-1c9294ae2722\")>,\n",
       " <selenium.webdriver.remote.webelement.WebElement (session=\"e14f2a720ac17dfc6dca1174389df0a6\", element=\"b5e5c223-f131-468d-8bd8-02821791e443\")>,\n",
       " <selenium.webdriver.remote.webelement.WebElement (session=\"e14f2a720ac17dfc6dca1174389df0a6\", element=\"9ef9949d-a63b-4cf6-89ec-7ccfe5d19c84\")>,\n",
       " <selenium.webdriver.remote.webelement.WebElement (session=\"e14f2a720ac17dfc6dca1174389df0a6\", element=\"e9032f46-a1b3-438a-8c9e-87d00e5c9161\")>,\n",
       " <selenium.webdriver.remote.webelement.WebElement (session=\"e14f2a720ac17dfc6dca1174389df0a6\", element=\"e52120e3-f14f-4a66-9441-2f622be93dc9\")>,\n",
       " <selenium.webdriver.remote.webelement.WebElement (session=\"e14f2a720ac17dfc6dca1174389df0a6\", element=\"748356e5-bdec-448e-aa43-5c16ed442962\")>,\n",
       " <selenium.webdriver.remote.webelement.WebElement (session=\"e14f2a720ac17dfc6dca1174389df0a6\", element=\"ca67582d-20c8-438f-8b14-263fb3f76210\")>,\n",
       " <selenium.webdriver.remote.webelement.WebElement (session=\"e14f2a720ac17dfc6dca1174389df0a6\", element=\"fb81b7c3-ba90-403b-8bd5-9d275e6ea52d\")>,\n",
       " <selenium.webdriver.remote.webelement.WebElement (session=\"e14f2a720ac17dfc6dca1174389df0a6\", element=\"48380109-b158-4e34-93aa-4bf1addf8666\")>,\n",
       " <selenium.webdriver.remote.webelement.WebElement (session=\"e14f2a720ac17dfc6dca1174389df0a6\", element=\"b8de0b8b-043a-4e0c-9600-14d34444bba2\")>]"
      ]
     },
     "execution_count": 15,
     "metadata": {},
     "output_type": "execute_result"
    }
   ],
   "source": [
    "line2=browser.find_elements(\"xpath\",\"//div[@class='_univ-rank ']\")\n",
    "line2"
   ]
  },
  {
   "cell_type": "code",
   "execution_count": 16,
   "id": "b273e4a0",
   "metadata": {},
   "outputs": [
    {
     "data": {
      "text/plain": [
       "['11', '12', '13', '14', '15', '=16', '=16', '18', '19', '20']"
      ]
     },
     "execution_count": 16,
     "metadata": {},
     "output_type": "execute_result"
    }
   ],
   "source": [
    "Rank=[]\n",
    "for data in line2:\n",
    "    #get the text data\n",
    "    temp=data.text\n",
    "    Rank.append(temp)\n",
    "Rank"
   ]
  },
  {
   "cell_type": "code",
   "execution_count": 17,
   "id": "508a40ab",
   "metadata": {},
   "outputs": [
    {
     "data": {
      "text/plain": [
       "[<selenium.webdriver.remote.webelement.WebElement (session=\"e14f2a720ac17dfc6dca1174389df0a6\", element=\"d3cbb450-27b0-4674-b165-3098feb0216a\")>,\n",
       " <selenium.webdriver.remote.webelement.WebElement (session=\"e14f2a720ac17dfc6dca1174389df0a6\", element=\"b62391ac-dbd6-4f24-a544-537639e81977\")>,\n",
       " <selenium.webdriver.remote.webelement.WebElement (session=\"e14f2a720ac17dfc6dca1174389df0a6\", element=\"a9d6a52c-f656-4904-88b9-99513274989e\")>,\n",
       " <selenium.webdriver.remote.webelement.WebElement (session=\"e14f2a720ac17dfc6dca1174389df0a6\", element=\"cb7ccfa6-687f-4992-8730-fc06f8647d97\")>,\n",
       " <selenium.webdriver.remote.webelement.WebElement (session=\"e14f2a720ac17dfc6dca1174389df0a6\", element=\"53854a11-14aa-4267-bd75-77ee2c0dbcfe\")>,\n",
       " <selenium.webdriver.remote.webelement.WebElement (session=\"e14f2a720ac17dfc6dca1174389df0a6\", element=\"a8c85b24-c5b1-4bb4-980c-fcf1523647f8\")>,\n",
       " <selenium.webdriver.remote.webelement.WebElement (session=\"e14f2a720ac17dfc6dca1174389df0a6\", element=\"3d5aeb68-1adb-4c63-8922-7810b04432d2\")>,\n",
       " <selenium.webdriver.remote.webelement.WebElement (session=\"e14f2a720ac17dfc6dca1174389df0a6\", element=\"c8568f3c-30f3-47b5-a4b5-60b029a0cb12\")>,\n",
       " <selenium.webdriver.remote.webelement.WebElement (session=\"e14f2a720ac17dfc6dca1174389df0a6\", element=\"5c3e9cfd-dfb4-4b90-90f7-e89ed79fe48d\")>]"
      ]
     },
     "execution_count": 17,
     "metadata": {},
     "output_type": "execute_result"
    }
   ],
   "source": [
    "# GET EACH COLLEGE SPECIFICATION HEADERS\n",
    "line3=browser.find_elements(\"xpath\",\"//div[@class='_click-function_ind']\")\n",
    "line3"
   ]
  },
  {
   "cell_type": "code",
   "execution_count": 18,
   "id": "74c72936",
   "metadata": {},
   "outputs": [
    {
     "data": {
      "text/plain": [
       "['Overall Score',\n",
       " 'Academic Reputation',\n",
       " 'Employer Reputation',\n",
       " 'Citations per Faculty',\n",
       " 'Faculty Student Ratio',\n",
       " 'International Students Ratio',\n",
       " 'International Faculty Ratio',\n",
       " 'International Research Network\\nUnweighted',\n",
       " 'Employment Outcomes\\nUnweighted']"
      ]
     },
     "execution_count": 18,
     "metadata": {},
     "output_type": "execute_result"
    }
   ],
   "source": [
    "#PARSING DATA\n",
    "column=[]\n",
    "for data in line3:\n",
    "    #get the text data\n",
    "    temp=data.text\n",
    "    column.append(temp)\n",
    "column"
   ]
  },
  {
   "cell_type": "code",
   "execution_count": 19,
   "id": "c081531b",
   "metadata": {},
   "outputs": [
    {
     "data": {
      "text/plain": [
       "[<selenium.webdriver.remote.webelement.WebElement (session=\"e14f2a720ac17dfc6dca1174389df0a6\", element=\"18788897-3e11-4f0a-ab2b-640a3449dcbd\")>,\n",
       " <selenium.webdriver.remote.webelement.WebElement (session=\"e14f2a720ac17dfc6dca1174389df0a6\", element=\"d2eed1dc-31ca-44d4-914f-6cab68df0368\")>,\n",
       " <selenium.webdriver.remote.webelement.WebElement (session=\"e14f2a720ac17dfc6dca1174389df0a6\", element=\"bd5e962e-4006-44fe-b42d-7fc163b9a4b9\")>,\n",
       " <selenium.webdriver.remote.webelement.WebElement (session=\"e14f2a720ac17dfc6dca1174389df0a6\", element=\"1a3c3e70-483c-43b8-9ea5-437d08bcb77a\")>,\n",
       " <selenium.webdriver.remote.webelement.WebElement (session=\"e14f2a720ac17dfc6dca1174389df0a6\", element=\"7500e03a-80ac-4b8c-8f0e-e464e3362ba3\")>,\n",
       " <selenium.webdriver.remote.webelement.WebElement (session=\"e14f2a720ac17dfc6dca1174389df0a6\", element=\"eb8fca97-6bbd-47a3-8872-46157c89e75b\")>,\n",
       " <selenium.webdriver.remote.webelement.WebElement (session=\"e14f2a720ac17dfc6dca1174389df0a6\", element=\"739d38c2-43a0-4493-8480-a74dc786ef88\")>,\n",
       " <selenium.webdriver.remote.webelement.WebElement (session=\"e14f2a720ac17dfc6dca1174389df0a6\", element=\"d99052ff-4673-4c35-b8c4-a608bf04a411\")>,\n",
       " <selenium.webdriver.remote.webelement.WebElement (session=\"e14f2a720ac17dfc6dca1174389df0a6\", element=\"73e4f319-cd61-4e3c-84e2-c3db83323275\")>,\n",
       " <selenium.webdriver.remote.webelement.WebElement (session=\"e14f2a720ac17dfc6dca1174389df0a6\", element=\"6d5ca7ab-f91e-4fc5-94b7-b35c775281bb\")>,\n",
       " <selenium.webdriver.remote.webelement.WebElement (session=\"e14f2a720ac17dfc6dca1174389df0a6\", element=\"002b4ced-c891-4f77-93dc-a5f1fb6d7399\")>,\n",
       " <selenium.webdriver.remote.webelement.WebElement (session=\"e14f2a720ac17dfc6dca1174389df0a6\", element=\"8673d885-4971-458c-9d12-fb56095ef4a3\")>,\n",
       " <selenium.webdriver.remote.webelement.WebElement (session=\"e14f2a720ac17dfc6dca1174389df0a6\", element=\"d5a29a6b-8d01-486b-9566-2fff3e6cd974\")>,\n",
       " <selenium.webdriver.remote.webelement.WebElement (session=\"e14f2a720ac17dfc6dca1174389df0a6\", element=\"70f80837-46db-470d-a22f-2a5a581ae17a\")>,\n",
       " <selenium.webdriver.remote.webelement.WebElement (session=\"e14f2a720ac17dfc6dca1174389df0a6\", element=\"336257b0-15e8-42b4-ad35-68151a724a60\")>,\n",
       " <selenium.webdriver.remote.webelement.WebElement (session=\"e14f2a720ac17dfc6dca1174389df0a6\", element=\"74ee5faf-8304-4205-8772-85588238eba9\")>,\n",
       " <selenium.webdriver.remote.webelement.WebElement (session=\"e14f2a720ac17dfc6dca1174389df0a6\", element=\"c23e2d73-7fc9-4d8a-92cf-f6c862f8c119\")>,\n",
       " <selenium.webdriver.remote.webelement.WebElement (session=\"e14f2a720ac17dfc6dca1174389df0a6\", element=\"f1b50a14-ed6e-49ed-baea-32af98befd9d\")>,\n",
       " <selenium.webdriver.remote.webelement.WebElement (session=\"e14f2a720ac17dfc6dca1174389df0a6\", element=\"0a352b82-06ec-411a-bd48-5a2b94fbc8d7\")>,\n",
       " <selenium.webdriver.remote.webelement.WebElement (session=\"e14f2a720ac17dfc6dca1174389df0a6\", element=\"fdc5988b-687c-43b9-98fd-2f3c725a3b72\")>,\n",
       " <selenium.webdriver.remote.webelement.WebElement (session=\"e14f2a720ac17dfc6dca1174389df0a6\", element=\"b5342aab-ca64-47f0-93fb-f42bd89b61cf\")>,\n",
       " <selenium.webdriver.remote.webelement.WebElement (session=\"e14f2a720ac17dfc6dca1174389df0a6\", element=\"bf00d120-fe45-49c9-90a3-314ec43dfbf5\")>,\n",
       " <selenium.webdriver.remote.webelement.WebElement (session=\"e14f2a720ac17dfc6dca1174389df0a6\", element=\"c8285e03-5d88-4481-9636-d5754a15e59c\")>,\n",
       " <selenium.webdriver.remote.webelement.WebElement (session=\"e14f2a720ac17dfc6dca1174389df0a6\", element=\"a2a8c317-af48-438d-ae6a-63bc4dbbf6e9\")>,\n",
       " <selenium.webdriver.remote.webelement.WebElement (session=\"e14f2a720ac17dfc6dca1174389df0a6\", element=\"e181b956-e62a-4529-b838-9d0589f0cf4f\")>,\n",
       " <selenium.webdriver.remote.webelement.WebElement (session=\"e14f2a720ac17dfc6dca1174389df0a6\", element=\"31a7ca95-0af2-4824-8ffa-6d42b91910eb\")>,\n",
       " <selenium.webdriver.remote.webelement.WebElement (session=\"e14f2a720ac17dfc6dca1174389df0a6\", element=\"59f6f3ef-9ddc-404f-b8a7-eb19dbe76c03\")>,\n",
       " <selenium.webdriver.remote.webelement.WebElement (session=\"e14f2a720ac17dfc6dca1174389df0a6\", element=\"f1abbf9b-2361-4b36-847f-5254ab503050\")>,\n",
       " <selenium.webdriver.remote.webelement.WebElement (session=\"e14f2a720ac17dfc6dca1174389df0a6\", element=\"97e6c91b-d4a0-4cb7-9657-894abfd8f843\")>,\n",
       " <selenium.webdriver.remote.webelement.WebElement (session=\"e14f2a720ac17dfc6dca1174389df0a6\", element=\"4db2e294-8a71-45df-97dd-b49a676d1ca8\")>,\n",
       " <selenium.webdriver.remote.webelement.WebElement (session=\"e14f2a720ac17dfc6dca1174389df0a6\", element=\"e9700aff-3411-40e6-a0c4-cecbba44407c\")>,\n",
       " <selenium.webdriver.remote.webelement.WebElement (session=\"e14f2a720ac17dfc6dca1174389df0a6\", element=\"8b6a2cf0-3aea-4273-b5bd-4ae6287a0988\")>,\n",
       " <selenium.webdriver.remote.webelement.WebElement (session=\"e14f2a720ac17dfc6dca1174389df0a6\", element=\"52bcb78c-423a-43b2-b72f-8c29e354350a\")>,\n",
       " <selenium.webdriver.remote.webelement.WebElement (session=\"e14f2a720ac17dfc6dca1174389df0a6\", element=\"d6cc3533-695e-4093-b2dc-882a345fcbf4\")>,\n",
       " <selenium.webdriver.remote.webelement.WebElement (session=\"e14f2a720ac17dfc6dca1174389df0a6\", element=\"f20988ee-5820-49ec-a268-f88b9a88afb2\")>,\n",
       " <selenium.webdriver.remote.webelement.WebElement (session=\"e14f2a720ac17dfc6dca1174389df0a6\", element=\"acc4b566-fc62-48ae-abca-4d832ae53c79\")>,\n",
       " <selenium.webdriver.remote.webelement.WebElement (session=\"e14f2a720ac17dfc6dca1174389df0a6\", element=\"19a6970b-ee07-42ee-8c9d-b0b476a77a50\")>,\n",
       " <selenium.webdriver.remote.webelement.WebElement (session=\"e14f2a720ac17dfc6dca1174389df0a6\", element=\"73a041ca-72d8-452e-b470-de8766da11ff\")>,\n",
       " <selenium.webdriver.remote.webelement.WebElement (session=\"e14f2a720ac17dfc6dca1174389df0a6\", element=\"1e01bcb8-7568-4afe-bdbf-6a8ee9c400d5\")>,\n",
       " <selenium.webdriver.remote.webelement.WebElement (session=\"e14f2a720ac17dfc6dca1174389df0a6\", element=\"c5f8a005-b74e-44c1-8435-fc50ad4a0734\")>,\n",
       " <selenium.webdriver.remote.webelement.WebElement (session=\"e14f2a720ac17dfc6dca1174389df0a6\", element=\"93940587-98ab-43b0-b157-c8c4f0beb77d\")>,\n",
       " <selenium.webdriver.remote.webelement.WebElement (session=\"e14f2a720ac17dfc6dca1174389df0a6\", element=\"aa04faea-bb75-48cd-9983-458a7ffceed2\")>,\n",
       " <selenium.webdriver.remote.webelement.WebElement (session=\"e14f2a720ac17dfc6dca1174389df0a6\", element=\"3ebb5c4d-f8f9-46ca-8407-4f32b0db6258\")>,\n",
       " <selenium.webdriver.remote.webelement.WebElement (session=\"e14f2a720ac17dfc6dca1174389df0a6\", element=\"12f1c99c-6c28-469e-b1eb-e39dcf9b4df1\")>,\n",
       " <selenium.webdriver.remote.webelement.WebElement (session=\"e14f2a720ac17dfc6dca1174389df0a6\", element=\"6fef7811-b333-4b5a-8dfe-ea811a3a81ca\")>,\n",
       " <selenium.webdriver.remote.webelement.WebElement (session=\"e14f2a720ac17dfc6dca1174389df0a6\", element=\"495de9cb-3fbe-4d2f-a036-600c5958f7ab\")>,\n",
       " <selenium.webdriver.remote.webelement.WebElement (session=\"e14f2a720ac17dfc6dca1174389df0a6\", element=\"8cb558d8-f28c-413a-bb60-8f956080bcfd\")>,\n",
       " <selenium.webdriver.remote.webelement.WebElement (session=\"e14f2a720ac17dfc6dca1174389df0a6\", element=\"a8e0adf4-6f06-4fb0-b2cc-bad84a29365b\")>,\n",
       " <selenium.webdriver.remote.webelement.WebElement (session=\"e14f2a720ac17dfc6dca1174389df0a6\", element=\"1c45b4bd-bd5a-4cad-93ef-59c101888131\")>,\n",
       " <selenium.webdriver.remote.webelement.WebElement (session=\"e14f2a720ac17dfc6dca1174389df0a6\", element=\"94a3e7f2-e2c0-473e-9049-922764baa720\")>,\n",
       " <selenium.webdriver.remote.webelement.WebElement (session=\"e14f2a720ac17dfc6dca1174389df0a6\", element=\"c07c4604-32c2-4e8d-8747-c4fde4273e7b\")>,\n",
       " <selenium.webdriver.remote.webelement.WebElement (session=\"e14f2a720ac17dfc6dca1174389df0a6\", element=\"86aab665-d9e0-421e-8610-f68d31e352a5\")>,\n",
       " <selenium.webdriver.remote.webelement.WebElement (session=\"e14f2a720ac17dfc6dca1174389df0a6\", element=\"4f3c6b81-1f81-4c32-a24e-b67e9cf66e8a\")>,\n",
       " <selenium.webdriver.remote.webelement.WebElement (session=\"e14f2a720ac17dfc6dca1174389df0a6\", element=\"50ff1ca0-0e8f-4913-98f6-76e0a57aa35a\")>,\n",
       " <selenium.webdriver.remote.webelement.WebElement (session=\"e14f2a720ac17dfc6dca1174389df0a6\", element=\"96787de7-4d26-437c-b140-b97cf97d1473\")>,\n",
       " <selenium.webdriver.remote.webelement.WebElement (session=\"e14f2a720ac17dfc6dca1174389df0a6\", element=\"b7f1d83b-f73a-44ba-b8a3-52afe345b9e2\")>,\n",
       " <selenium.webdriver.remote.webelement.WebElement (session=\"e14f2a720ac17dfc6dca1174389df0a6\", element=\"b5f47980-98a2-4aae-882e-850bdd38c7f5\")>,\n",
       " <selenium.webdriver.remote.webelement.WebElement (session=\"e14f2a720ac17dfc6dca1174389df0a6\", element=\"85a0317e-d328-43da-8bc9-a232b3ef7426\")>,\n",
       " <selenium.webdriver.remote.webelement.WebElement (session=\"e14f2a720ac17dfc6dca1174389df0a6\", element=\"11115778-9674-49eb-b145-985c1c52cf18\")>,\n",
       " <selenium.webdriver.remote.webelement.WebElement (session=\"e14f2a720ac17dfc6dca1174389df0a6\", element=\"c4e34c74-1996-4cf0-879c-8960d64e05fc\")>,\n",
       " <selenium.webdriver.remote.webelement.WebElement (session=\"e14f2a720ac17dfc6dca1174389df0a6\", element=\"59e8b0c1-ecfe-49ea-9d79-77dda9487e44\")>,\n",
       " <selenium.webdriver.remote.webelement.WebElement (session=\"e14f2a720ac17dfc6dca1174389df0a6\", element=\"49d37b92-3e42-4a62-8d61-98947e0a7791\")>,\n",
       " <selenium.webdriver.remote.webelement.WebElement (session=\"e14f2a720ac17dfc6dca1174389df0a6\", element=\"75e2f0f9-537e-4308-bd34-357194add3eb\")>,\n",
       " <selenium.webdriver.remote.webelement.WebElement (session=\"e14f2a720ac17dfc6dca1174389df0a6\", element=\"4d9a3f51-bcc8-42b7-83d5-10e274d0a081\")>,\n",
       " <selenium.webdriver.remote.webelement.WebElement (session=\"e14f2a720ac17dfc6dca1174389df0a6\", element=\"9ca004ca-e9a9-4be5-a56f-b2e4fa7aea08\")>,\n",
       " <selenium.webdriver.remote.webelement.WebElement (session=\"e14f2a720ac17dfc6dca1174389df0a6\", element=\"d5af6f1c-0a84-4beb-97e9-1cef397f7ad6\")>,\n",
       " <selenium.webdriver.remote.webelement.WebElement (session=\"e14f2a720ac17dfc6dca1174389df0a6\", element=\"372d91d1-3245-4646-a063-ddeceabddb90\")>,\n",
       " <selenium.webdriver.remote.webelement.WebElement (session=\"e14f2a720ac17dfc6dca1174389df0a6\", element=\"2a1001e1-a8b8-4385-974d-988b73a07cd9\")>,\n",
       " <selenium.webdriver.remote.webelement.WebElement (session=\"e14f2a720ac17dfc6dca1174389df0a6\", element=\"e5a11b3d-b9f8-4b3a-8999-3cbd516b6249\")>,\n",
       " <selenium.webdriver.remote.webelement.WebElement (session=\"e14f2a720ac17dfc6dca1174389df0a6\", element=\"971f9896-9fde-4f60-9975-2cc2e3d37b91\")>,\n",
       " <selenium.webdriver.remote.webelement.WebElement (session=\"e14f2a720ac17dfc6dca1174389df0a6\", element=\"4f9e760c-f53b-4c54-bba4-b86d8ba759c3\")>,\n",
       " <selenium.webdriver.remote.webelement.WebElement (session=\"e14f2a720ac17dfc6dca1174389df0a6\", element=\"764d8b60-b870-44fa-a28f-6554d13d4b1c\")>,\n",
       " <selenium.webdriver.remote.webelement.WebElement (session=\"e14f2a720ac17dfc6dca1174389df0a6\", element=\"610181ef-4266-4b17-ad1c-ecadd2387d1b\")>,\n",
       " <selenium.webdriver.remote.webelement.WebElement (session=\"e14f2a720ac17dfc6dca1174389df0a6\", element=\"9e6d552e-5476-4a72-a5f5-8479c2fa0022\")>,\n",
       " <selenium.webdriver.remote.webelement.WebElement (session=\"e14f2a720ac17dfc6dca1174389df0a6\", element=\"373a965c-9bca-4670-b45f-908e2c405a9e\")>,\n",
       " <selenium.webdriver.remote.webelement.WebElement (session=\"e14f2a720ac17dfc6dca1174389df0a6\", element=\"99ed83a5-d7de-49fc-bc75-8f0efd8d6b2c\")>,\n",
       " <selenium.webdriver.remote.webelement.WebElement (session=\"e14f2a720ac17dfc6dca1174389df0a6\", element=\"502c5c96-0d04-4638-a08c-5e615955e4fa\")>,\n",
       " <selenium.webdriver.remote.webelement.WebElement (session=\"e14f2a720ac17dfc6dca1174389df0a6\", element=\"c3e60be2-c466-467d-8238-fc440951d85f\")>,\n",
       " <selenium.webdriver.remote.webelement.WebElement (session=\"e14f2a720ac17dfc6dca1174389df0a6\", element=\"bbcdde30-8e73-4df9-8fec-f7f025c4171f\")>,\n",
       " <selenium.webdriver.remote.webelement.WebElement (session=\"e14f2a720ac17dfc6dca1174389df0a6\", element=\"bf603a9c-d87d-44ae-a910-bff7e9c2338a\")>,\n",
       " <selenium.webdriver.remote.webelement.WebElement (session=\"e14f2a720ac17dfc6dca1174389df0a6\", element=\"ae015474-674f-4102-9a93-36def5f5f6e2\")>,\n",
       " <selenium.webdriver.remote.webelement.WebElement (session=\"e14f2a720ac17dfc6dca1174389df0a6\", element=\"298f5c04-ebbe-4005-bddd-17e21a7ae004\")>,\n",
       " <selenium.webdriver.remote.webelement.WebElement (session=\"e14f2a720ac17dfc6dca1174389df0a6\", element=\"645f5147-b216-46b9-82f5-7c7f0ae34756\")>,\n",
       " <selenium.webdriver.remote.webelement.WebElement (session=\"e14f2a720ac17dfc6dca1174389df0a6\", element=\"aabe4260-e0d3-441d-ba15-56f21b764cf4\")>,\n",
       " <selenium.webdriver.remote.webelement.WebElement (session=\"e14f2a720ac17dfc6dca1174389df0a6\", element=\"d2eb9e7c-40e5-4a18-b6c8-07be75bab295\")>,\n",
       " <selenium.webdriver.remote.webelement.WebElement (session=\"e14f2a720ac17dfc6dca1174389df0a6\", element=\"1b31bab3-2728-44ef-97e7-8900bb31f179\")>,\n",
       " <selenium.webdriver.remote.webelement.WebElement (session=\"e14f2a720ac17dfc6dca1174389df0a6\", element=\"1c0d3e7e-d14c-4e77-a1f1-4ebeb73ed2fd\")>,\n",
       " <selenium.webdriver.remote.webelement.WebElement (session=\"e14f2a720ac17dfc6dca1174389df0a6\", element=\"dbe4b15f-d891-4f39-afde-afb7f435cf1a\")>,\n",
       " <selenium.webdriver.remote.webelement.WebElement (session=\"e14f2a720ac17dfc6dca1174389df0a6\", element=\"297ae767-a6ff-488c-ad27-6c84f36f4acf\")>,\n",
       " <selenium.webdriver.remote.webelement.WebElement (session=\"e14f2a720ac17dfc6dca1174389df0a6\", element=\"403d0c98-6153-4d97-b7f3-b4c51783be63\")>,\n",
       " <selenium.webdriver.remote.webelement.WebElement (session=\"e14f2a720ac17dfc6dca1174389df0a6\", element=\"c4c4abc1-bf22-48b9-aaaf-2b1a84e6e4e1\")>,\n",
       " <selenium.webdriver.remote.webelement.WebElement (session=\"e14f2a720ac17dfc6dca1174389df0a6\", element=\"f5c79d4c-ba1e-4769-aee9-382d44bbc2d2\")>,\n",
       " <selenium.webdriver.remote.webelement.WebElement (session=\"e14f2a720ac17dfc6dca1174389df0a6\", element=\"089fd003-0c8e-412c-9a56-b0e87817c78c\")>,\n",
       " <selenium.webdriver.remote.webelement.WebElement (session=\"e14f2a720ac17dfc6dca1174389df0a6\", element=\"0b7c1714-4b01-4a8b-b607-da73f1678f0f\")>,\n",
       " <selenium.webdriver.remote.webelement.WebElement (session=\"e14f2a720ac17dfc6dca1174389df0a6\", element=\"d7c4f0b2-054a-453c-a51d-5eabf22ce089\")>,\n",
       " <selenium.webdriver.remote.webelement.WebElement (session=\"e14f2a720ac17dfc6dca1174389df0a6\", element=\"5faf1b18-3770-48d7-bcf1-135fa08b5d01\")>,\n",
       " <selenium.webdriver.remote.webelement.WebElement (session=\"e14f2a720ac17dfc6dca1174389df0a6\", element=\"fe79a74a-b19c-4538-bfff-eb4c8c15fa35\")>,\n",
       " <selenium.webdriver.remote.webelement.WebElement (session=\"e14f2a720ac17dfc6dca1174389df0a6\", element=\"37937646-0d74-4fdf-b033-065de7d89612\")>,\n",
       " <selenium.webdriver.remote.webelement.WebElement (session=\"e14f2a720ac17dfc6dca1174389df0a6\", element=\"c3a934cf-2370-4c00-9bd6-d92fd3fd21ba\")>,\n",
       " <selenium.webdriver.remote.webelement.WebElement (session=\"e14f2a720ac17dfc6dca1174389df0a6\", element=\"c90bab44-e810-495c-9cf3-519d028f63ef\")>]"
      ]
     },
     "execution_count": 19,
     "metadata": {},
     "output_type": "execute_result"
    }
   ],
   "source": [
    "line4=browser.find_elements(\"xpath\",\"//div[@class='td-wrap-in']\")\n",
    "line4"
   ]
  },
  {
   "cell_type": "code",
   "execution_count": 21,
   "id": "9a55b60e",
   "metadata": {},
   "outputs": [
    {
     "data": {
      "text/plain": [
       "['92.7', '99.5', '94.1', '91.8', '79.8', '73.5', '100', '89.9', '99.6']"
      ]
     },
     "execution_count": 21,
     "metadata": {},
     "output_type": "execute_result"
    }
   ],
   "source": [
    "#PARSING DATA\n",
    "value=[]\n",
    "for data in line4:\n",
    "    #get the text data\n",
    "    temp=data.text\n",
    "    value.append(temp)\n",
    "value_h=value[1:10]\n",
    "value_h"
   ]
  },
  {
   "cell_type": "code",
   "execution_count": 22,
   "id": "e7553262",
   "metadata": {},
   "outputs": [
    {
     "data": {
      "text/plain": [
       "{'Name': 'National University of Singapore (NUS)',\n",
       " 'Location': 'Singapore, Singapore',\n",
       " 'Rank': '11',\n",
       " 'Overall Score': '92.7',\n",
       " 'Academic Reputation': '99.5',\n",
       " 'Employer Reputation': '94.1',\n",
       " 'Citations per Faculty': '91.8',\n",
       " 'Faculty Student Ratio': '79.8',\n",
       " 'International Students Ratio': '73.5',\n",
       " 'International Faculty Ratio': '100',\n",
       " 'International Research Network\\nUnweighted': '89.9',\n",
       " 'Employment Outcomes\\nUnweighted': '99.6'}"
      ]
     },
     "execution_count": 22,
     "metadata": {},
     "output_type": "execute_result"
    }
   ],
   "source": [
    "d={}\n",
    "d['Name']=value[0]\n",
    "d['Location']=address[0]\n",
    "d['Rank']=Rank[0]\n",
    "for i in range(len(column)):\n",
    "    d[column[i]]=value_h[i]\n",
    "d"
   ]
  },
  {
   "cell_type": "code",
   "execution_count": 23,
   "id": "53138c5c",
   "metadata": {},
   "outputs": [
    {
     "data": {
      "text/plain": [
       "'{\"Name\": \"National University of Singapore (NUS)\", \"Location\": \"Singapore, Singapore\", \"Rank\": \"11\", \"Overall Score\": \"92.7\", \"Academic Reputation\": \"99.5\", \"Employer Reputation\": \"94.1\", \"Citations per Faculty\": \"91.8\", \"Faculty Student Ratio\": \"79.8\", \"International Students Ratio\": \"73.5\", \"International Faculty Ratio\": \"100\", \"International Research Network\\\\nUnweighted\": \"89.9\", \"Employment Outcomes\\\\nUnweighted\": \"99.6\"}'"
      ]
     },
     "execution_count": 23,
     "metadata": {},
     "output_type": "execute_result"
    }
   ],
   "source": [
    "s1=json.dumps(d)\n",
    "s1"
   ]
  },
  {
   "cell_type": "code",
   "execution_count": 24,
   "id": "6a1f0c75",
   "metadata": {},
   "outputs": [],
   "source": [
    "with open('National University of Singapore (NUS).json','w') as f:\n",
    "    json.dump(d,f)"
   ]
  }
 ],
 "metadata": {
  "kernelspec": {
   "display_name": "Python 3.10.7 64-bit (microsoft store)",
   "language": "python",
   "name": "python3"
  },
  "language_info": {
   "codemirror_mode": {
    "name": "ipython",
    "version": 3
   },
   "file_extension": ".py",
   "mimetype": "text/x-python",
   "name": "python",
   "nbconvert_exporter": "python",
   "pygments_lexer": "ipython3",
   "version": "3.10.7"
  },
  "vscode": {
   "interpreter": {
    "hash": "08c9d4d4bc5525be0964dadf2cefe2a9774d4ca3b3ef7788e4b1d167837a0ba2"
   }
  }
 },
 "nbformat": 4,
 "nbformat_minor": 5
}
