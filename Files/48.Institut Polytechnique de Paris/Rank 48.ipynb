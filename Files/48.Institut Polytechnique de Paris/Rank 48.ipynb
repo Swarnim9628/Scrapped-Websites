{
 "cells": [
  {
   "cell_type": "code",
   "execution_count": 1,
   "id": "b3728463",
   "metadata": {},
   "outputs": [],
   "source": [
    "from selenium import webdriver\n",
    "from selenium.webdriver.chrome.service import Service\n",
    "import pandas as pd\n",
    "import json"
   ]
  },
  {
   "cell_type": "code",
   "execution_count": 2,
   "id": "600f9968",
   "metadata": {},
   "outputs": [],
   "source": [
    "path = Service('C:\\chromedriver.exe')"
   ]
  },
  {
   "cell_type": "code",
   "execution_count": 3,
   "id": "b1b4e23c",
   "metadata": {},
   "outputs": [],
   "source": [
    "# set path for the driver\n",
    "browser = webdriver.Chrome(service = path)"
   ]
  },
  {
   "cell_type": "code",
   "execution_count": 4,
   "id": "b27ca9b2",
   "metadata": {},
   "outputs": [],
   "source": [
    "\n",
    "url = \"https://www.topuniversities.com/university-rankings/world-university-rankings/2023\""
   ]
  },
  {
   "cell_type": "code",
   "execution_count": 5,
   "id": "5e053da2",
   "metadata": {},
   "outputs": [],
   "source": [
    "# open the page url ion chrome\n",
    "browser.get(url)"
   ]
  },
  {
   "cell_type": "code",
   "execution_count": 6,
   "id": "8b2b1e41",
   "metadata": {},
   "outputs": [
    {
     "data": {
      "text/plain": [
       "[<selenium.webdriver.remote.webelement.WebElement (session=\"f535d05c59f64fd4fb62e49ca0b2fee7\", element=\"c553f79f-d830-4fec-85da-8f816d27a733\")>,\n",
       " <selenium.webdriver.remote.webelement.WebElement (session=\"f535d05c59f64fd4fb62e49ca0b2fee7\", element=\"4af56421-e7a6-4413-b684-acd0b63edcd3\")>,\n",
       " <selenium.webdriver.remote.webelement.WebElement (session=\"f535d05c59f64fd4fb62e49ca0b2fee7\", element=\"2698def4-e879-4daa-8ad0-06d7a663636b\")>,\n",
       " <selenium.webdriver.remote.webelement.WebElement (session=\"f535d05c59f64fd4fb62e49ca0b2fee7\", element=\"bebdd4e7-6303-4786-bf63-9d2517266416\")>,\n",
       " <selenium.webdriver.remote.webelement.WebElement (session=\"f535d05c59f64fd4fb62e49ca0b2fee7\", element=\"fc3807ea-3864-456a-b33a-52ec8c1a47b1\")>,\n",
       " <selenium.webdriver.remote.webelement.WebElement (session=\"f535d05c59f64fd4fb62e49ca0b2fee7\", element=\"bedd69fc-e146-47fb-9fba-1dfb01f0e072\")>,\n",
       " <selenium.webdriver.remote.webelement.WebElement (session=\"f535d05c59f64fd4fb62e49ca0b2fee7\", element=\"f820131c-6124-4db9-9609-14b1b973a540\")>,\n",
       " <selenium.webdriver.remote.webelement.WebElement (session=\"f535d05c59f64fd4fb62e49ca0b2fee7\", element=\"60b1f8e2-0e90-47c0-a7bb-d53dd6c4ee48\")>,\n",
       " <selenium.webdriver.remote.webelement.WebElement (session=\"f535d05c59f64fd4fb62e49ca0b2fee7\", element=\"84df15b1-c808-4c3d-b6a0-4737473fd70a\")>,\n",
       " <selenium.webdriver.remote.webelement.WebElement (session=\"f535d05c59f64fd4fb62e49ca0b2fee7\", element=\"9bb241b0-9162-4164-8f80-f8507839bc55\")>,\n",
       " <selenium.webdriver.remote.webelement.WebElement (session=\"f535d05c59f64fd4fb62e49ca0b2fee7\", element=\"a7d1db31-b379-48c1-ac3f-8e5e9fbcb97b\")>,\n",
       " <selenium.webdriver.remote.webelement.WebElement (session=\"f535d05c59f64fd4fb62e49ca0b2fee7\", element=\"28ae9c48-f9fd-4d0b-b357-9bd5b9ef675f\")>,\n",
       " <selenium.webdriver.remote.webelement.WebElement (session=\"f535d05c59f64fd4fb62e49ca0b2fee7\", element=\"c87f7f25-29ad-4382-b088-0ae7b2a35081\")>,\n",
       " <selenium.webdriver.remote.webelement.WebElement (session=\"f535d05c59f64fd4fb62e49ca0b2fee7\", element=\"c6b636c4-c103-4610-aba1-bc470a70c9a6\")>,\n",
       " <selenium.webdriver.remote.webelement.WebElement (session=\"f535d05c59f64fd4fb62e49ca0b2fee7\", element=\"9d11d91d-953f-4a8d-897d-83cf69164ee3\")>,\n",
       " <selenium.webdriver.remote.webelement.WebElement (session=\"f535d05c59f64fd4fb62e49ca0b2fee7\", element=\"05f28b1a-b80b-4894-b546-0d9fe18ff0df\")>,\n",
       " <selenium.webdriver.remote.webelement.WebElement (session=\"f535d05c59f64fd4fb62e49ca0b2fee7\", element=\"d1b309f3-7ea4-4900-848d-230a7314c9ee\")>,\n",
       " <selenium.webdriver.remote.webelement.WebElement (session=\"f535d05c59f64fd4fb62e49ca0b2fee7\", element=\"b92e7afb-f076-40ed-bff2-70cc4921cb51\")>,\n",
       " <selenium.webdriver.remote.webelement.WebElement (session=\"f535d05c59f64fd4fb62e49ca0b2fee7\", element=\"0e625131-7757-4b97-8e99-69784cfbb486\")>,\n",
       " <selenium.webdriver.remote.webelement.WebElement (session=\"f535d05c59f64fd4fb62e49ca0b2fee7\", element=\"ec0f7486-bf75-4557-bcc3-27ba82c15887\")>]"
      ]
     },
     "execution_count": 6,
     "metadata": {},
     "output_type": "execute_result"
    }
   ],
   "source": [
    "line1=browser.find_elements(\"xpath\",\"//div[@class='location ']\")\n",
    "line1"
   ]
  },
  {
   "cell_type": "code",
   "execution_count": 7,
   "id": "8de3c91b",
   "metadata": {},
   "outputs": [
    {
     "data": {
      "text/plain": [
       "['Sydney, Australia',\n",
       " 'Daejeon, South Korea',\n",
       " 'Hangzhou, China (Mainland)',\n",
       " 'Los Angeles, United States',\n",
       " 'Sydney, Australia',\n",
       " 'Shanghai, China (Mainland)',\n",
       " 'Vancouver, Canada',\n",
       " 'Palaiseau Cedex, France',\n",
       " 'Munich, Germany',\n",
       " 'Durham, United States']"
      ]
     },
     "execution_count": 7,
     "metadata": {},
     "output_type": "execute_result"
    }
   ],
   "source": [
    "address=[]\n",
    "for data in line1:\n",
    "    #get the text data\n",
    "    temp=data.text\n",
    "    address.append(temp)\n",
    "address=address[10:]\n",
    "address\n"
   ]
  },
  {
   "cell_type": "code",
   "execution_count": 8,
   "metadata": {},
   "outputs": [
    {
     "data": {
      "text/plain": [
       "[<selenium.webdriver.remote.webelement.WebElement (session=\"f535d05c59f64fd4fb62e49ca0b2fee7\", element=\"9fd28721-ecf9-480c-a89e-5a1e51b0f8b6\")>,\n",
       " <selenium.webdriver.remote.webelement.WebElement (session=\"f535d05c59f64fd4fb62e49ca0b2fee7\", element=\"9a60a5d2-abd4-41cd-b2ac-1401ae873f03\")>,\n",
       " <selenium.webdriver.remote.webelement.WebElement (session=\"f535d05c59f64fd4fb62e49ca0b2fee7\", element=\"f0b6425a-772a-4885-93e2-d81696849865\")>,\n",
       " <selenium.webdriver.remote.webelement.WebElement (session=\"f535d05c59f64fd4fb62e49ca0b2fee7\", element=\"b06dfbe5-a06c-4bbb-aca2-7a2cb1752fd4\")>,\n",
       " <selenium.webdriver.remote.webelement.WebElement (session=\"f535d05c59f64fd4fb62e49ca0b2fee7\", element=\"5703ce8f-6b5c-4c2c-a8ab-258c9e126915\")>,\n",
       " <selenium.webdriver.remote.webelement.WebElement (session=\"f535d05c59f64fd4fb62e49ca0b2fee7\", element=\"709b9a75-c72a-4777-b473-e828ddbb0a28\")>,\n",
       " <selenium.webdriver.remote.webelement.WebElement (session=\"f535d05c59f64fd4fb62e49ca0b2fee7\", element=\"894feeee-972b-48c1-93d5-4531b90950a0\")>,\n",
       " <selenium.webdriver.remote.webelement.WebElement (session=\"f535d05c59f64fd4fb62e49ca0b2fee7\", element=\"51549b45-45e0-48f4-97d6-1cb601feffe6\")>,\n",
       " <selenium.webdriver.remote.webelement.WebElement (session=\"f535d05c59f64fd4fb62e49ca0b2fee7\", element=\"c03498ac-5651-43d9-b83f-88aed11cc854\")>,\n",
       " <selenium.webdriver.remote.webelement.WebElement (session=\"f535d05c59f64fd4fb62e49ca0b2fee7\", element=\"ef14dbf0-ff06-4779-ba11-01782c285917\")>]"
      ]
     },
     "execution_count": 8,
     "metadata": {},
     "output_type": "execute_result"
    }
   ],
   "source": [
    "\n",
    "line2=browser.find_elements(\"xpath\",\"//div[@class='_univ-rank ']\")\n",
    "line2"
   ]
  },
  {
   "cell_type": "code",
   "execution_count": 9,
   "id": "a1bd0ac2",
   "metadata": {},
   "outputs": [
    {
     "data": {
      "text/plain": [
       "['41', '=42', '=42', '44', '45', '46', '47', '48', '49', '=50']"
      ]
     },
     "execution_count": 9,
     "metadata": {},
     "output_type": "execute_result"
    }
   ],
   "source": [
    "Rank=[]\n",
    "for data in line2:\n",
    "    #get the text data\n",
    "    temp=data.text\n",
    "    Rank.append(temp)\n",
    "Rank"
   ]
  },
  {
   "cell_type": "code",
   "execution_count": 10,
   "id": "3dfc921f",
   "metadata": {},
   "outputs": [
    {
     "data": {
      "text/plain": [
       "[<selenium.webdriver.remote.webelement.WebElement (session=\"f535d05c59f64fd4fb62e49ca0b2fee7\", element=\"d6257ad4-ad0e-4cf2-a010-de1aa6e55c6a\")>,\n",
       " <selenium.webdriver.remote.webelement.WebElement (session=\"f535d05c59f64fd4fb62e49ca0b2fee7\", element=\"0002079e-a579-4e63-8d4a-2a99e85bc6f3\")>,\n",
       " <selenium.webdriver.remote.webelement.WebElement (session=\"f535d05c59f64fd4fb62e49ca0b2fee7\", element=\"1519dae8-ea31-43b9-bfdb-c9ce7862242f\")>,\n",
       " <selenium.webdriver.remote.webelement.WebElement (session=\"f535d05c59f64fd4fb62e49ca0b2fee7\", element=\"39a278ba-3838-49ec-bdce-20f489f8f0e3\")>,\n",
       " <selenium.webdriver.remote.webelement.WebElement (session=\"f535d05c59f64fd4fb62e49ca0b2fee7\", element=\"7f0fb328-c420-4ebd-abe3-9ed12da4ac6b\")>,\n",
       " <selenium.webdriver.remote.webelement.WebElement (session=\"f535d05c59f64fd4fb62e49ca0b2fee7\", element=\"98003e82-7b10-45ca-a5d4-39bdc4410f18\")>,\n",
       " <selenium.webdriver.remote.webelement.WebElement (session=\"f535d05c59f64fd4fb62e49ca0b2fee7\", element=\"4201c340-7b8c-4ca9-8401-535e48f240c9\")>,\n",
       " <selenium.webdriver.remote.webelement.WebElement (session=\"f535d05c59f64fd4fb62e49ca0b2fee7\", element=\"a07206ff-bbf4-4399-8700-c86de2eff520\")>,\n",
       " <selenium.webdriver.remote.webelement.WebElement (session=\"f535d05c59f64fd4fb62e49ca0b2fee7\", element=\"f75fb0aa-8028-42e8-b2b8-8222f1c7d995\")>]"
      ]
     },
     "execution_count": 10,
     "metadata": {},
     "output_type": "execute_result"
    }
   ],
   "source": [
    "# GET EACH COLLEGE SPECIFICATION HEADERS\n",
    "line3=browser.find_elements(\"xpath\",\"//div[@class='_click-function_ind']\")\n",
    "line3"
   ]
  },
  {
   "cell_type": "code",
   "execution_count": 11,
   "id": "57b0e568",
   "metadata": {},
   "outputs": [
    {
     "data": {
      "text/plain": [
       "['Overall Score',\n",
       " 'Academic Reputation',\n",
       " 'Employer Reputation',\n",
       " 'Citations per Faculty',\n",
       " 'Faculty Student Ratio',\n",
       " 'International Students Ratio',\n",
       " 'International Faculty Ratio',\n",
       " 'International Research Network\\nUnweighted',\n",
       " 'Employment Outcomes\\nUnweighted']"
      ]
     },
     "execution_count": 11,
     "metadata": {},
     "output_type": "execute_result"
    }
   ],
   "source": [
    "#PARSING DATA\n",
    "column=[]\n",
    "for data in line3:\n",
    "    #get the text data\n",
    "    temp=data.text\n",
    "    column.append(temp)\n",
    "column"
   ]
  },
  {
   "cell_type": "code",
   "execution_count": 12,
   "id": "57f9331e",
   "metadata": {},
   "outputs": [
    {
     "data": {
      "text/plain": [
       "[<selenium.webdriver.remote.webelement.WebElement (session=\"f535d05c59f64fd4fb62e49ca0b2fee7\", element=\"f584cc63-947d-4ea1-a15b-5dbc90160634\")>,\n",
       " <selenium.webdriver.remote.webelement.WebElement (session=\"f535d05c59f64fd4fb62e49ca0b2fee7\", element=\"33d31f56-d823-467c-9043-850d1bf794af\")>,\n",
       " <selenium.webdriver.remote.webelement.WebElement (session=\"f535d05c59f64fd4fb62e49ca0b2fee7\", element=\"e6e36da8-f168-48e9-b054-09bfb9fd14eb\")>,\n",
       " <selenium.webdriver.remote.webelement.WebElement (session=\"f535d05c59f64fd4fb62e49ca0b2fee7\", element=\"08748bc6-bbdd-4950-b691-3d806dfcbf8d\")>,\n",
       " <selenium.webdriver.remote.webelement.WebElement (session=\"f535d05c59f64fd4fb62e49ca0b2fee7\", element=\"b3fb90eb-5aab-416a-aaff-a5040c6ea5bc\")>,\n",
       " <selenium.webdriver.remote.webelement.WebElement (session=\"f535d05c59f64fd4fb62e49ca0b2fee7\", element=\"4069f3e9-0393-4c66-a1f3-35ef6803fb21\")>,\n",
       " <selenium.webdriver.remote.webelement.WebElement (session=\"f535d05c59f64fd4fb62e49ca0b2fee7\", element=\"02c53de2-7836-41f5-8b30-d20636a93e7a\")>,\n",
       " <selenium.webdriver.remote.webelement.WebElement (session=\"f535d05c59f64fd4fb62e49ca0b2fee7\", element=\"31ca553b-bca7-4f28-a38f-54e8e6e8f010\")>,\n",
       " <selenium.webdriver.remote.webelement.WebElement (session=\"f535d05c59f64fd4fb62e49ca0b2fee7\", element=\"0aa0688e-f05d-4014-8496-8de233d11482\")>,\n",
       " <selenium.webdriver.remote.webelement.WebElement (session=\"f535d05c59f64fd4fb62e49ca0b2fee7\", element=\"5b82cd58-5933-4343-8b4e-6abd1ba45b5e\")>,\n",
       " <selenium.webdriver.remote.webelement.WebElement (session=\"f535d05c59f64fd4fb62e49ca0b2fee7\", element=\"708a9fe2-672b-4f04-8864-ca8dcdb03ab0\")>,\n",
       " <selenium.webdriver.remote.webelement.WebElement (session=\"f535d05c59f64fd4fb62e49ca0b2fee7\", element=\"e801355d-befe-4554-b0c8-1c5049ca5e6d\")>,\n",
       " <selenium.webdriver.remote.webelement.WebElement (session=\"f535d05c59f64fd4fb62e49ca0b2fee7\", element=\"213b2269-ecfb-42cd-b3df-a15982383b51\")>,\n",
       " <selenium.webdriver.remote.webelement.WebElement (session=\"f535d05c59f64fd4fb62e49ca0b2fee7\", element=\"a9d20059-08d9-49d6-a6fa-08b146568a6f\")>,\n",
       " <selenium.webdriver.remote.webelement.WebElement (session=\"f535d05c59f64fd4fb62e49ca0b2fee7\", element=\"c5015028-f4c9-48a4-a07d-c165683a8f7f\")>,\n",
       " <selenium.webdriver.remote.webelement.WebElement (session=\"f535d05c59f64fd4fb62e49ca0b2fee7\", element=\"da0f0f38-88df-4c4a-86d0-cafd2cdccc3d\")>,\n",
       " <selenium.webdriver.remote.webelement.WebElement (session=\"f535d05c59f64fd4fb62e49ca0b2fee7\", element=\"f28af949-f830-4f5c-8821-04445ceb13a9\")>,\n",
       " <selenium.webdriver.remote.webelement.WebElement (session=\"f535d05c59f64fd4fb62e49ca0b2fee7\", element=\"780ec3e4-c526-42c5-9f76-461d2f856610\")>,\n",
       " <selenium.webdriver.remote.webelement.WebElement (session=\"f535d05c59f64fd4fb62e49ca0b2fee7\", element=\"a170bf7e-cab1-4a61-9361-fe3a39b22908\")>,\n",
       " <selenium.webdriver.remote.webelement.WebElement (session=\"f535d05c59f64fd4fb62e49ca0b2fee7\", element=\"c917881c-6653-41d7-83dc-22e5a64548ec\")>,\n",
       " <selenium.webdriver.remote.webelement.WebElement (session=\"f535d05c59f64fd4fb62e49ca0b2fee7\", element=\"0970a4ac-6707-4969-9033-c0d61798c770\")>,\n",
       " <selenium.webdriver.remote.webelement.WebElement (session=\"f535d05c59f64fd4fb62e49ca0b2fee7\", element=\"6f13912d-d37e-4ce7-912d-3e3ed7776624\")>,\n",
       " <selenium.webdriver.remote.webelement.WebElement (session=\"f535d05c59f64fd4fb62e49ca0b2fee7\", element=\"38ce4772-39e9-4f77-88da-04bae3db69f9\")>,\n",
       " <selenium.webdriver.remote.webelement.WebElement (session=\"f535d05c59f64fd4fb62e49ca0b2fee7\", element=\"9e1fad06-ed11-4ad8-9798-1c7dc0099684\")>,\n",
       " <selenium.webdriver.remote.webelement.WebElement (session=\"f535d05c59f64fd4fb62e49ca0b2fee7\", element=\"9f38b1a8-6f80-4f6b-bf19-dfc97ace0063\")>,\n",
       " <selenium.webdriver.remote.webelement.WebElement (session=\"f535d05c59f64fd4fb62e49ca0b2fee7\", element=\"56551848-9f65-41b7-8cdb-6923cfa52263\")>,\n",
       " <selenium.webdriver.remote.webelement.WebElement (session=\"f535d05c59f64fd4fb62e49ca0b2fee7\", element=\"565cadb5-7a56-4126-94a5-9eb6f8f55597\")>,\n",
       " <selenium.webdriver.remote.webelement.WebElement (session=\"f535d05c59f64fd4fb62e49ca0b2fee7\", element=\"408c7161-5265-4812-879a-b0f2810d66fc\")>,\n",
       " <selenium.webdriver.remote.webelement.WebElement (session=\"f535d05c59f64fd4fb62e49ca0b2fee7\", element=\"8d8a4437-a907-4f41-9f9d-d0c544feda02\")>,\n",
       " <selenium.webdriver.remote.webelement.WebElement (session=\"f535d05c59f64fd4fb62e49ca0b2fee7\", element=\"25f2c29a-e69f-4510-b5fb-dfc950734357\")>,\n",
       " <selenium.webdriver.remote.webelement.WebElement (session=\"f535d05c59f64fd4fb62e49ca0b2fee7\", element=\"859f881c-47a8-4fef-99f0-b71e01ace36e\")>,\n",
       " <selenium.webdriver.remote.webelement.WebElement (session=\"f535d05c59f64fd4fb62e49ca0b2fee7\", element=\"e5ce02e4-9ac3-49c7-9213-f2d6c912785d\")>,\n",
       " <selenium.webdriver.remote.webelement.WebElement (session=\"f535d05c59f64fd4fb62e49ca0b2fee7\", element=\"577a7384-81fc-4505-a88b-00721340a9cf\")>,\n",
       " <selenium.webdriver.remote.webelement.WebElement (session=\"f535d05c59f64fd4fb62e49ca0b2fee7\", element=\"768afa74-be0c-4c42-a8e5-2a3e14293b86\")>,\n",
       " <selenium.webdriver.remote.webelement.WebElement (session=\"f535d05c59f64fd4fb62e49ca0b2fee7\", element=\"175a7b6e-de6c-49de-b1fe-ac7b7afe4865\")>,\n",
       " <selenium.webdriver.remote.webelement.WebElement (session=\"f535d05c59f64fd4fb62e49ca0b2fee7\", element=\"0551bc6c-020f-4d08-8913-f966a79b6209\")>,\n",
       " <selenium.webdriver.remote.webelement.WebElement (session=\"f535d05c59f64fd4fb62e49ca0b2fee7\", element=\"dc292261-5806-4c49-a0eb-f5623f80df3f\")>,\n",
       " <selenium.webdriver.remote.webelement.WebElement (session=\"f535d05c59f64fd4fb62e49ca0b2fee7\", element=\"28d90c26-0175-4091-94db-d6b57521d7b5\")>,\n",
       " <selenium.webdriver.remote.webelement.WebElement (session=\"f535d05c59f64fd4fb62e49ca0b2fee7\", element=\"a06558cf-5173-482b-b145-3b8c61f9fd6b\")>,\n",
       " <selenium.webdriver.remote.webelement.WebElement (session=\"f535d05c59f64fd4fb62e49ca0b2fee7\", element=\"c681c377-c7c3-422c-952b-d0d9d88dd78d\")>,\n",
       " <selenium.webdriver.remote.webelement.WebElement (session=\"f535d05c59f64fd4fb62e49ca0b2fee7\", element=\"e911ac5f-6d48-4f24-bb0e-5fd8a6798c3a\")>,\n",
       " <selenium.webdriver.remote.webelement.WebElement (session=\"f535d05c59f64fd4fb62e49ca0b2fee7\", element=\"8c124817-8c34-431a-972f-9d56efba1878\")>,\n",
       " <selenium.webdriver.remote.webelement.WebElement (session=\"f535d05c59f64fd4fb62e49ca0b2fee7\", element=\"6ee6f5fa-090d-4944-955e-44b3925d84ce\")>,\n",
       " <selenium.webdriver.remote.webelement.WebElement (session=\"f535d05c59f64fd4fb62e49ca0b2fee7\", element=\"85724b34-1550-45da-91f6-055303330f71\")>,\n",
       " <selenium.webdriver.remote.webelement.WebElement (session=\"f535d05c59f64fd4fb62e49ca0b2fee7\", element=\"f402fbbc-49c4-4120-99c8-a1b3d0b3f77e\")>,\n",
       " <selenium.webdriver.remote.webelement.WebElement (session=\"f535d05c59f64fd4fb62e49ca0b2fee7\", element=\"a0c3da63-9ba0-4a0a-a269-214e83b62b5a\")>,\n",
       " <selenium.webdriver.remote.webelement.WebElement (session=\"f535d05c59f64fd4fb62e49ca0b2fee7\", element=\"cba55123-2869-41ea-b6c3-a6985c92f242\")>,\n",
       " <selenium.webdriver.remote.webelement.WebElement (session=\"f535d05c59f64fd4fb62e49ca0b2fee7\", element=\"ab22c3ac-6f24-4309-a96f-641a9e883e6e\")>,\n",
       " <selenium.webdriver.remote.webelement.WebElement (session=\"f535d05c59f64fd4fb62e49ca0b2fee7\", element=\"ebc50677-5215-4ffb-b638-035f9ad4e15f\")>,\n",
       " <selenium.webdriver.remote.webelement.WebElement (session=\"f535d05c59f64fd4fb62e49ca0b2fee7\", element=\"1a5f1f5c-ae6b-4bb9-b736-66fe755cb047\")>,\n",
       " <selenium.webdriver.remote.webelement.WebElement (session=\"f535d05c59f64fd4fb62e49ca0b2fee7\", element=\"e170d0a7-147d-48b4-b915-7277376ae46d\")>,\n",
       " <selenium.webdriver.remote.webelement.WebElement (session=\"f535d05c59f64fd4fb62e49ca0b2fee7\", element=\"28e5b243-4fa9-41c0-a6f6-cc19d9ea7b2d\")>,\n",
       " <selenium.webdriver.remote.webelement.WebElement (session=\"f535d05c59f64fd4fb62e49ca0b2fee7\", element=\"181f9bf7-3995-4387-b8ca-7259a94a9adc\")>,\n",
       " <selenium.webdriver.remote.webelement.WebElement (session=\"f535d05c59f64fd4fb62e49ca0b2fee7\", element=\"17fada63-7fed-4d99-90a4-c8d447d7e588\")>,\n",
       " <selenium.webdriver.remote.webelement.WebElement (session=\"f535d05c59f64fd4fb62e49ca0b2fee7\", element=\"4223de25-30eb-4a44-9e24-c776903334e3\")>,\n",
       " <selenium.webdriver.remote.webelement.WebElement (session=\"f535d05c59f64fd4fb62e49ca0b2fee7\", element=\"2ae62941-5903-4364-8b84-998f222f0d60\")>,\n",
       " <selenium.webdriver.remote.webelement.WebElement (session=\"f535d05c59f64fd4fb62e49ca0b2fee7\", element=\"5c324dd2-137e-4c9f-a030-5e3b4c81500e\")>,\n",
       " <selenium.webdriver.remote.webelement.WebElement (session=\"f535d05c59f64fd4fb62e49ca0b2fee7\", element=\"cfee2064-fe57-47ce-a181-4c759f0548db\")>,\n",
       " <selenium.webdriver.remote.webelement.WebElement (session=\"f535d05c59f64fd4fb62e49ca0b2fee7\", element=\"598b46b7-35c6-4078-a97f-8e33e5e20396\")>,\n",
       " <selenium.webdriver.remote.webelement.WebElement (session=\"f535d05c59f64fd4fb62e49ca0b2fee7\", element=\"eb583456-e16c-471a-b2a7-224aa8757362\")>,\n",
       " <selenium.webdriver.remote.webelement.WebElement (session=\"f535d05c59f64fd4fb62e49ca0b2fee7\", element=\"f97e848d-5248-4932-b2a5-18c5daffeaf5\")>,\n",
       " <selenium.webdriver.remote.webelement.WebElement (session=\"f535d05c59f64fd4fb62e49ca0b2fee7\", element=\"07bdc9c1-e7ca-4b3d-8cb5-e8ce6e23c4ca\")>,\n",
       " <selenium.webdriver.remote.webelement.WebElement (session=\"f535d05c59f64fd4fb62e49ca0b2fee7\", element=\"9d0553fc-56ff-4f22-bfdc-6a9e99779b82\")>,\n",
       " <selenium.webdriver.remote.webelement.WebElement (session=\"f535d05c59f64fd4fb62e49ca0b2fee7\", element=\"603731fb-c13f-4460-9b49-574921fe84a4\")>,\n",
       " <selenium.webdriver.remote.webelement.WebElement (session=\"f535d05c59f64fd4fb62e49ca0b2fee7\", element=\"83510ff4-5feb-47ae-930c-b29b62030bf1\")>,\n",
       " <selenium.webdriver.remote.webelement.WebElement (session=\"f535d05c59f64fd4fb62e49ca0b2fee7\", element=\"2ccc2f17-4051-4c6f-8612-7c97616d84ab\")>,\n",
       " <selenium.webdriver.remote.webelement.WebElement (session=\"f535d05c59f64fd4fb62e49ca0b2fee7\", element=\"08397c49-e3ff-4a57-a40f-9b39de146a8b\")>,\n",
       " <selenium.webdriver.remote.webelement.WebElement (session=\"f535d05c59f64fd4fb62e49ca0b2fee7\", element=\"5fef148d-9d71-462a-a79b-6c52bf1e6e5d\")>,\n",
       " <selenium.webdriver.remote.webelement.WebElement (session=\"f535d05c59f64fd4fb62e49ca0b2fee7\", element=\"2636d4a6-4b20-4f9f-abae-694a10455ed5\")>,\n",
       " <selenium.webdriver.remote.webelement.WebElement (session=\"f535d05c59f64fd4fb62e49ca0b2fee7\", element=\"f60a5714-4cb3-44e5-af02-9ecbb34d61b6\")>,\n",
       " <selenium.webdriver.remote.webelement.WebElement (session=\"f535d05c59f64fd4fb62e49ca0b2fee7\", element=\"3bd2047e-079c-43f6-b1c0-425a35bf67e7\")>,\n",
       " <selenium.webdriver.remote.webelement.WebElement (session=\"f535d05c59f64fd4fb62e49ca0b2fee7\", element=\"cf30a768-f07e-4e9b-ab9f-923d6e7283c0\")>,\n",
       " <selenium.webdriver.remote.webelement.WebElement (session=\"f535d05c59f64fd4fb62e49ca0b2fee7\", element=\"7ef1963f-11f8-48cd-9931-0e78c16dda9d\")>,\n",
       " <selenium.webdriver.remote.webelement.WebElement (session=\"f535d05c59f64fd4fb62e49ca0b2fee7\", element=\"b5b0ba39-35be-4b78-8f93-70e45dc2feff\")>,\n",
       " <selenium.webdriver.remote.webelement.WebElement (session=\"f535d05c59f64fd4fb62e49ca0b2fee7\", element=\"658d4644-a550-4f37-aa6f-69ef41f5eeed\")>,\n",
       " <selenium.webdriver.remote.webelement.WebElement (session=\"f535d05c59f64fd4fb62e49ca0b2fee7\", element=\"7972a293-a872-460c-b124-b9209331f88f\")>,\n",
       " <selenium.webdriver.remote.webelement.WebElement (session=\"f535d05c59f64fd4fb62e49ca0b2fee7\", element=\"af78fe16-6e42-47c5-b3fa-cc84c8041c42\")>,\n",
       " <selenium.webdriver.remote.webelement.WebElement (session=\"f535d05c59f64fd4fb62e49ca0b2fee7\", element=\"376a85e0-b19f-4cdb-8f17-1d5a40b04ffc\")>,\n",
       " <selenium.webdriver.remote.webelement.WebElement (session=\"f535d05c59f64fd4fb62e49ca0b2fee7\", element=\"cb410b93-d315-49f4-a2bd-c086dded8db8\")>,\n",
       " <selenium.webdriver.remote.webelement.WebElement (session=\"f535d05c59f64fd4fb62e49ca0b2fee7\", element=\"6dd92869-3266-43f0-966f-de6d26fa3683\")>,\n",
       " <selenium.webdriver.remote.webelement.WebElement (session=\"f535d05c59f64fd4fb62e49ca0b2fee7\", element=\"90e31939-517f-4d7e-b8b7-635c981f43c1\")>,\n",
       " <selenium.webdriver.remote.webelement.WebElement (session=\"f535d05c59f64fd4fb62e49ca0b2fee7\", element=\"3c73dd52-ce11-459d-ac8e-74a6762044ad\")>,\n",
       " <selenium.webdriver.remote.webelement.WebElement (session=\"f535d05c59f64fd4fb62e49ca0b2fee7\", element=\"2814a5f0-8577-4994-9d85-e7626e33149d\")>,\n",
       " <selenium.webdriver.remote.webelement.WebElement (session=\"f535d05c59f64fd4fb62e49ca0b2fee7\", element=\"adeaba36-5d24-4fce-82bc-b60b630c4bf6\")>,\n",
       " <selenium.webdriver.remote.webelement.WebElement (session=\"f535d05c59f64fd4fb62e49ca0b2fee7\", element=\"7d4ddac9-3e0f-41ee-9992-2c3d9c10395f\")>,\n",
       " <selenium.webdriver.remote.webelement.WebElement (session=\"f535d05c59f64fd4fb62e49ca0b2fee7\", element=\"ef330ae6-0d85-4004-9407-22b7e2bed230\")>,\n",
       " <selenium.webdriver.remote.webelement.WebElement (session=\"f535d05c59f64fd4fb62e49ca0b2fee7\", element=\"fada8b52-7879-42f9-a109-396d8967d960\")>,\n",
       " <selenium.webdriver.remote.webelement.WebElement (session=\"f535d05c59f64fd4fb62e49ca0b2fee7\", element=\"201b1599-7b0a-429d-9f87-1b236a51c161\")>,\n",
       " <selenium.webdriver.remote.webelement.WebElement (session=\"f535d05c59f64fd4fb62e49ca0b2fee7\", element=\"ea590eb0-a48b-41cd-a7db-bbd14127e82c\")>,\n",
       " <selenium.webdriver.remote.webelement.WebElement (session=\"f535d05c59f64fd4fb62e49ca0b2fee7\", element=\"ea2bb23b-2210-453a-a0ad-bce09da00531\")>,\n",
       " <selenium.webdriver.remote.webelement.WebElement (session=\"f535d05c59f64fd4fb62e49ca0b2fee7\", element=\"aa7e77e0-8d1a-4f68-ae43-61dcdd85ed2b\")>,\n",
       " <selenium.webdriver.remote.webelement.WebElement (session=\"f535d05c59f64fd4fb62e49ca0b2fee7\", element=\"78292de8-f5d3-415f-bfb0-6ad99f443b94\")>,\n",
       " <selenium.webdriver.remote.webelement.WebElement (session=\"f535d05c59f64fd4fb62e49ca0b2fee7\", element=\"c1e233f1-0db4-4143-9ffd-196aa0845391\")>,\n",
       " <selenium.webdriver.remote.webelement.WebElement (session=\"f535d05c59f64fd4fb62e49ca0b2fee7\", element=\"67cca6df-7191-4c64-9201-89f47d34ae54\")>,\n",
       " <selenium.webdriver.remote.webelement.WebElement (session=\"f535d05c59f64fd4fb62e49ca0b2fee7\", element=\"bbf557f3-596f-4afe-8797-68e28a3a3d4b\")>,\n",
       " <selenium.webdriver.remote.webelement.WebElement (session=\"f535d05c59f64fd4fb62e49ca0b2fee7\", element=\"5dff3ce9-f6b0-4d01-9375-124e60a48ead\")>,\n",
       " <selenium.webdriver.remote.webelement.WebElement (session=\"f535d05c59f64fd4fb62e49ca0b2fee7\", element=\"476a65e5-fde8-4fb9-bd08-82a5a91f33fd\")>,\n",
       " <selenium.webdriver.remote.webelement.WebElement (session=\"f535d05c59f64fd4fb62e49ca0b2fee7\", element=\"4e2cfd01-6c5d-4851-8bda-5f9f980d774d\")>,\n",
       " <selenium.webdriver.remote.webelement.WebElement (session=\"f535d05c59f64fd4fb62e49ca0b2fee7\", element=\"7beefc12-132b-4968-98bb-2ea6dd7a9142\")>,\n",
       " <selenium.webdriver.remote.webelement.WebElement (session=\"f535d05c59f64fd4fb62e49ca0b2fee7\", element=\"42e53285-1464-40ce-b0e8-fdd0f587cd21\")>]"
      ]
     },
     "execution_count": 12,
     "metadata": {},
     "output_type": "execute_result"
    }
   ],
   "source": [
    "line4=browser.find_elements(\"xpath\",\"//div[@class='td-wrap-in']\")\n",
    "line4"
   ]
  },
  {
   "cell_type": "code",
   "execution_count": 13,
   "id": "25d3358a",
   "metadata": {},
   "outputs": [
    {
     "data": {
      "text/plain": [
       "['76.8', '45.3', '99.4', '93.9', '98.9', '98.2', '97', '94.8', '99.8']"
      ]
     },
     "execution_count": 13,
     "metadata": {},
     "output_type": "execute_result"
    }
   ],
   "source": [
    "#PARSING DATA\n",
    "value=[]\n",
    "for data in line4:\n",
    "    #get the text data\n",
    "    temp=data.text\n",
    "    value.append(temp)\n",
    "value_h=value[71:80]\n",
    "value_h"
   ]
  },
  {
   "cell_type": "code",
   "execution_count": 14,
   "id": "94bd2783",
   "metadata": {},
   "outputs": [
    {
     "data": {
      "text/plain": [
       "{'Name': 'Institut Polytechnique de Paris',\n",
       " 'Location': 'Palaiseau Cedex, France',\n",
       " 'Rank': '48',\n",
       " 'Overall Score': '76.8',\n",
       " 'Academic Reputation': '45.3',\n",
       " 'Employer Reputation': '99.4',\n",
       " 'Citations per Faculty': '93.9',\n",
       " 'Faculty Student Ratio': '98.9',\n",
       " 'International Students Ratio': '98.2',\n",
       " 'International Faculty Ratio': '97',\n",
       " 'International Research Network\\nUnweighted': '94.8',\n",
       " 'Employment Outcomes\\nUnweighted': '99.8'}"
      ]
     },
     "execution_count": 14,
     "metadata": {},
     "output_type": "execute_result"
    }
   ],
   "source": [
    "d={}\n",
    "d['Name']=value[70]\n",
    "d['Location']=address[7]\n",
    "d['Rank']=Rank[7]\n",
    "for i in range(len(column)):\n",
    "    d[column[i]]=value_h[i]\n",
    "d"
   ]
  },
  {
   "cell_type": "code",
   "execution_count": 15,
   "id": "5377e79d",
   "metadata": {},
   "outputs": [
    {
     "data": {
      "text/plain": [
       "'{\"Name\": \"Institut Polytechnique de Paris\", \"Location\": \"Palaiseau Cedex, France\", \"Rank\": \"48\", \"Overall Score\": \"76.8\", \"Academic Reputation\": \"45.3\", \"Employer Reputation\": \"99.4\", \"Citations per Faculty\": \"93.9\", \"Faculty Student Ratio\": \"98.9\", \"International Students Ratio\": \"98.2\", \"International Faculty Ratio\": \"97\", \"International Research Network\\\\nUnweighted\": \"94.8\", \"Employment Outcomes\\\\nUnweighted\": \"99.8\"}'"
      ]
     },
     "execution_count": 15,
     "metadata": {},
     "output_type": "execute_result"
    }
   ],
   "source": [
    "s1=json.dumps(d)\n",
    "s1"
   ]
  },
  {
   "cell_type": "code",
   "execution_count": 16,
   "id": "b99c78c3",
   "metadata": {},
   "outputs": [],
   "source": [
    "with open('Institut Polytechnique de Paris.json','w') as f:\n",
    "    json.dump(d,f)\n"
   ]
  },
  {
   "cell_type": "code",
   "execution_count": null,
   "id": "99da2718",
   "metadata": {},
   "outputs": [],
   "source": []
  }
 ],
 "metadata": {
  "kernelspec": {
   "display_name": "Python 3.9.12 ('base')",
   "language": "python",
   "name": "python3"
  },
  "language_info": {
   "codemirror_mode": {
    "name": "ipython",
    "version": 3
   },
   "file_extension": ".py",
   "mimetype": "text/x-python",
   "name": "python",
   "nbconvert_exporter": "python",
   "pygments_lexer": "ipython3",
   "version": "3.9.12"
  },
  "vscode": {
   "interpreter": {
    "hash": "ad2bdc8ecc057115af97d19610ffacc2b4e99fae6737bb82f5d7fb13d2f2c186"
   }
  }
 },
 "nbformat": 4,
 "nbformat_minor": 5
}
