{
 "cells": [
  {
   "cell_type": "code",
   "execution_count": 1,
   "id": "364ac4b6",
   "metadata": {},
   "outputs": [],
   "source": [
    "from selenium import webdriver\n",
    "from selenium.webdriver.chrome.service import Service\n",
    "import pandas as pd\n",
    "import json"
   ]
  },
  {
   "cell_type": "code",
   "execution_count": 2,
   "id": "1d6d9ba1",
   "metadata": {},
   "outputs": [],
   "source": [
    "path = Service('C:\\chromedriver.exe')"
   ]
  },
  {
   "cell_type": "code",
   "execution_count": 3,
   "id": "15d071b7",
   "metadata": {},
   "outputs": [],
   "source": [
    "# set path for the driver\n",
    "browser = webdriver.Chrome(service = path)"
   ]
  },
  {
   "cell_type": "code",
   "execution_count": 4,
   "id": "b4423022",
   "metadata": {},
   "outputs": [],
   "source": [
    "url = \"https://www.topuniversities.com/university-rankings/world-university-rankings/2023\""
   ]
  },
  {
   "cell_type": "code",
   "execution_count": 5,
   "id": "7e9a7457",
   "metadata": {},
   "outputs": [],
   "source": [
    "# open the page url ion chrome\n",
    "browser.get(url)"
   ]
  },
  {
   "cell_type": "code",
   "execution_count": 6,
   "id": "5db67196",
   "metadata": {},
   "outputs": [
    {
     "data": {
      "text/plain": [
       "[<selenium.webdriver.remote.webelement.WebElement (session=\"66ea80d6ca42d01d0ad8917407f6451d\", element=\"4bb5a707-4836-463c-a0f2-cbffdc3502ea\")>,\n",
       " <selenium.webdriver.remote.webelement.WebElement (session=\"66ea80d6ca42d01d0ad8917407f6451d\", element=\"4a8940bd-1afd-44ea-8033-c21869c4989a\")>,\n",
       " <selenium.webdriver.remote.webelement.WebElement (session=\"66ea80d6ca42d01d0ad8917407f6451d\", element=\"6b969b10-d65b-4bfb-9669-b9b8f4958a6a\")>,\n",
       " <selenium.webdriver.remote.webelement.WebElement (session=\"66ea80d6ca42d01d0ad8917407f6451d\", element=\"d360eb62-c6ee-4900-b50d-843437ab2e1f\")>,\n",
       " <selenium.webdriver.remote.webelement.WebElement (session=\"66ea80d6ca42d01d0ad8917407f6451d\", element=\"7ea5a04a-6dae-4c5c-995c-53f6bddb7bb9\")>,\n",
       " <selenium.webdriver.remote.webelement.WebElement (session=\"66ea80d6ca42d01d0ad8917407f6451d\", element=\"126d718c-cb18-4ebb-b6b0-7bbb5d24c331\")>,\n",
       " <selenium.webdriver.remote.webelement.WebElement (session=\"66ea80d6ca42d01d0ad8917407f6451d\", element=\"cdaabb31-979f-4bf9-b72b-c51252d01b52\")>,\n",
       " <selenium.webdriver.remote.webelement.WebElement (session=\"66ea80d6ca42d01d0ad8917407f6451d\", element=\"2125f67b-ae2d-48d9-bfab-8155bf85f8e2\")>,\n",
       " <selenium.webdriver.remote.webelement.WebElement (session=\"66ea80d6ca42d01d0ad8917407f6451d\", element=\"c9513a02-a1fb-4f59-8cf8-c953a8e00fad\")>,\n",
       " <selenium.webdriver.remote.webelement.WebElement (session=\"66ea80d6ca42d01d0ad8917407f6451d\", element=\"cf124191-bb5b-43be-b085-20254a3630c0\")>,\n",
       " <selenium.webdriver.remote.webelement.WebElement (session=\"66ea80d6ca42d01d0ad8917407f6451d\", element=\"2772ddc5-66e6-4a74-b262-202f33e008a4\")>,\n",
       " <selenium.webdriver.remote.webelement.WebElement (session=\"66ea80d6ca42d01d0ad8917407f6451d\", element=\"420101e3-3a1f-49cb-8e9f-897cb7ae5e01\")>,\n",
       " <selenium.webdriver.remote.webelement.WebElement (session=\"66ea80d6ca42d01d0ad8917407f6451d\", element=\"22b9421a-aaa4-424c-b049-4a3ec25130bf\")>,\n",
       " <selenium.webdriver.remote.webelement.WebElement (session=\"66ea80d6ca42d01d0ad8917407f6451d\", element=\"d5d0e330-257b-4452-a38e-39fb034b502b\")>,\n",
       " <selenium.webdriver.remote.webelement.WebElement (session=\"66ea80d6ca42d01d0ad8917407f6451d\", element=\"e98b64d3-3514-4fd5-a2fb-fcfb71916f98\")>,\n",
       " <selenium.webdriver.remote.webelement.WebElement (session=\"66ea80d6ca42d01d0ad8917407f6451d\", element=\"f6e9574e-64c5-451c-8214-a16cd49c6628\")>,\n",
       " <selenium.webdriver.remote.webelement.WebElement (session=\"66ea80d6ca42d01d0ad8917407f6451d\", element=\"588fd58e-7ba3-45f2-93aa-cf492dfe0e59\")>,\n",
       " <selenium.webdriver.remote.webelement.WebElement (session=\"66ea80d6ca42d01d0ad8917407f6451d\", element=\"b0989142-8b24-4c11-9f9b-1e67f815c41a\")>,\n",
       " <selenium.webdriver.remote.webelement.WebElement (session=\"66ea80d6ca42d01d0ad8917407f6451d\", element=\"b97353bc-b918-4eec-9a17-4b0543fb1f8b\")>,\n",
       " <selenium.webdriver.remote.webelement.WebElement (session=\"66ea80d6ca42d01d0ad8917407f6451d\", element=\"426f5ad6-9e61-4251-83af-75e994f390a0\")>]"
      ]
     },
     "execution_count": 6,
     "metadata": {},
     "output_type": "execute_result"
    }
   ],
   "source": [
    "line1=browser.find_elements(\"xpath\",\"//div[@class='location ']\")\n",
    "line1"
   ]
  },
  {
   "cell_type": "code",
   "execution_count": 8,
   "id": "cdcd5da2",
   "metadata": {},
   "outputs": [
    {
     "data": {
      "text/plain": [
       "['Singapore, Singapore',\n",
       " 'Beijing, China (Mainland)',\n",
       " 'Philadelphia, United States',\n",
       " 'Beijing, China (Mainland)',\n",
       " 'Edinburgh, United Kingdom',\n",
       " 'Lausanne, Switzerland',\n",
       " 'Princeton, United States',\n",
       " 'New Haven, United States',\n",
       " 'Singapore, Singapore',\n",
       " 'Ithaca, United States']"
      ]
     },
     "execution_count": 8,
     "metadata": {},
     "output_type": "execute_result"
    }
   ],
   "source": [
    "address=[]\n",
    "for data in line1:\n",
    "    #get the text data\n",
    "    temp=data.text\n",
    "    address.append(temp)\n",
    "address=address[10:]\n",
    "address"
   ]
  },
  {
   "cell_type": "code",
   "execution_count": 9,
   "id": "53777b67",
   "metadata": {},
   "outputs": [
    {
     "data": {
      "text/plain": [
       "[<selenium.webdriver.remote.webelement.WebElement (session=\"66ea80d6ca42d01d0ad8917407f6451d\", element=\"f6f2b2ce-ce73-4e11-b7cc-55d04c4e8483\")>,\n",
       " <selenium.webdriver.remote.webelement.WebElement (session=\"66ea80d6ca42d01d0ad8917407f6451d\", element=\"7c346538-ae89-40c3-8c61-ea5cbaac4d04\")>,\n",
       " <selenium.webdriver.remote.webelement.WebElement (session=\"66ea80d6ca42d01d0ad8917407f6451d\", element=\"2f209416-7103-4ed8-886e-5ca749d7b643\")>,\n",
       " <selenium.webdriver.remote.webelement.WebElement (session=\"66ea80d6ca42d01d0ad8917407f6451d\", element=\"373f136e-3d55-4051-a8c2-7cfa78b7ffb2\")>,\n",
       " <selenium.webdriver.remote.webelement.WebElement (session=\"66ea80d6ca42d01d0ad8917407f6451d\", element=\"16c7f5b0-dcf5-46e6-95d6-00f661df7595\")>,\n",
       " <selenium.webdriver.remote.webelement.WebElement (session=\"66ea80d6ca42d01d0ad8917407f6451d\", element=\"e8e8db77-5305-4452-bcf5-ad1330da5eaf\")>,\n",
       " <selenium.webdriver.remote.webelement.WebElement (session=\"66ea80d6ca42d01d0ad8917407f6451d\", element=\"d61c9157-6ad8-4098-8876-09957ff79e4b\")>,\n",
       " <selenium.webdriver.remote.webelement.WebElement (session=\"66ea80d6ca42d01d0ad8917407f6451d\", element=\"9d9f4e8b-278c-418a-8b19-e1f6549f0317\")>,\n",
       " <selenium.webdriver.remote.webelement.WebElement (session=\"66ea80d6ca42d01d0ad8917407f6451d\", element=\"2e6f7933-b4a7-47c7-92c7-3b745696d15f\")>,\n",
       " <selenium.webdriver.remote.webelement.WebElement (session=\"66ea80d6ca42d01d0ad8917407f6451d\", element=\"0391a53e-5007-4aff-a3b2-5ee216f0954a\")>]"
      ]
     },
     "execution_count": 9,
     "metadata": {},
     "output_type": "execute_result"
    }
   ],
   "source": [
    "line2=browser.find_elements(\"xpath\",\"//div[@class='_univ-rank ']\")\n",
    "line2"
   ]
  },
  {
   "cell_type": "code",
   "execution_count": 10,
   "id": "f2eb34f2",
   "metadata": {},
   "outputs": [
    {
     "data": {
      "text/plain": [
       "['11', '12', '13', '14', '15', '=16', '=16', '18', '19', '20']"
      ]
     },
     "execution_count": 10,
     "metadata": {},
     "output_type": "execute_result"
    }
   ],
   "source": [
    "Rank=[]\n",
    "for data in line2:\n",
    "    #get the text data\n",
    "    temp=data.text\n",
    "    Rank.append(temp)\n",
    "Rank"
   ]
  },
  {
   "cell_type": "code",
   "execution_count": 13,
   "id": "3026f241",
   "metadata": {},
   "outputs": [
    {
     "data": {
      "text/plain": [
       "[<selenium.webdriver.remote.webelement.WebElement (session=\"66ea80d6ca42d01d0ad8917407f6451d\", element=\"90015702-5cc6-4052-aec0-afd6a9e2ea45\")>,\n",
       " <selenium.webdriver.remote.webelement.WebElement (session=\"66ea80d6ca42d01d0ad8917407f6451d\", element=\"59a281d3-3f51-44de-a868-bc5b38fe5863\")>,\n",
       " <selenium.webdriver.remote.webelement.WebElement (session=\"66ea80d6ca42d01d0ad8917407f6451d\", element=\"ad563fd8-de0c-4890-ac3c-611bda877ea5\")>,\n",
       " <selenium.webdriver.remote.webelement.WebElement (session=\"66ea80d6ca42d01d0ad8917407f6451d\", element=\"a0ada57f-1d9b-4f7a-af78-223f01105c29\")>,\n",
       " <selenium.webdriver.remote.webelement.WebElement (session=\"66ea80d6ca42d01d0ad8917407f6451d\", element=\"97c26ff7-f72c-438f-87ed-8aa838ad21d2\")>,\n",
       " <selenium.webdriver.remote.webelement.WebElement (session=\"66ea80d6ca42d01d0ad8917407f6451d\", element=\"a2b6b28f-7bbc-4f0e-9170-7dd6f715ce5a\")>,\n",
       " <selenium.webdriver.remote.webelement.WebElement (session=\"66ea80d6ca42d01d0ad8917407f6451d\", element=\"d5145f4e-22a2-436b-9a61-b58aff906c89\")>,\n",
       " <selenium.webdriver.remote.webelement.WebElement (session=\"66ea80d6ca42d01d0ad8917407f6451d\", element=\"4a6ffdc1-9cc6-4c10-a898-85aaa435d32a\")>,\n",
       " <selenium.webdriver.remote.webelement.WebElement (session=\"66ea80d6ca42d01d0ad8917407f6451d\", element=\"d79c3040-7794-4f18-acac-fb55d3aaea08\")>]"
      ]
     },
     "execution_count": 13,
     "metadata": {},
     "output_type": "execute_result"
    }
   ],
   "source": [
    "line3=browser.find_elements(\"xpath\",\"//div[@class='_click-function_ind']\")\n",
    "line3"
   ]
  },
  {
   "cell_type": "code",
   "execution_count": 14,
   "id": "17f540a6",
   "metadata": {},
   "outputs": [
    {
     "data": {
      "text/plain": [
       "['Overall Score',\n",
       " 'Academic Reputation',\n",
       " 'Employer Reputation',\n",
       " 'Citations per Faculty',\n",
       " 'Faculty Student Ratio',\n",
       " 'International Students Ratio',\n",
       " 'International Faculty Ratio',\n",
       " 'International Research Network\\nUnweighted',\n",
       " 'Employment Outcomes\\nUnweighted']"
      ]
     },
     "execution_count": 14,
     "metadata": {},
     "output_type": "execute_result"
    }
   ],
   "source": [
    "column=[]\n",
    "for data in line3:\n",
    "    #get the text data\n",
    "    temp=data.text\n",
    "    column.append(temp)\n",
    "column"
   ]
  },
  {
   "cell_type": "code",
   "execution_count": 15,
   "id": "a12b8cbb",
   "metadata": {},
   "outputs": [
    {
     "data": {
      "text/plain": [
       "[<selenium.webdriver.remote.webelement.WebElement (session=\"66ea80d6ca42d01d0ad8917407f6451d\", element=\"8321314a-e45e-4c19-b300-079e68b989e3\")>,\n",
       " <selenium.webdriver.remote.webelement.WebElement (session=\"66ea80d6ca42d01d0ad8917407f6451d\", element=\"507a3a69-012a-43f6-873b-229765073bb9\")>,\n",
       " <selenium.webdriver.remote.webelement.WebElement (session=\"66ea80d6ca42d01d0ad8917407f6451d\", element=\"b43c35fa-d9cd-4e91-8887-26d52dbf3082\")>,\n",
       " <selenium.webdriver.remote.webelement.WebElement (session=\"66ea80d6ca42d01d0ad8917407f6451d\", element=\"c799c971-6fbc-44f3-b7f2-14f44d114441\")>,\n",
       " <selenium.webdriver.remote.webelement.WebElement (session=\"66ea80d6ca42d01d0ad8917407f6451d\", element=\"726a7020-aaa4-4d94-982c-dea34e245fe6\")>,\n",
       " <selenium.webdriver.remote.webelement.WebElement (session=\"66ea80d6ca42d01d0ad8917407f6451d\", element=\"3335b528-e110-47bf-b189-dc20c800da53\")>,\n",
       " <selenium.webdriver.remote.webelement.WebElement (session=\"66ea80d6ca42d01d0ad8917407f6451d\", element=\"7b6f068e-8d16-45fb-8d14-f8052564693d\")>,\n",
       " <selenium.webdriver.remote.webelement.WebElement (session=\"66ea80d6ca42d01d0ad8917407f6451d\", element=\"d9365471-b041-4e3d-96c7-ca4905a06648\")>,\n",
       " <selenium.webdriver.remote.webelement.WebElement (session=\"66ea80d6ca42d01d0ad8917407f6451d\", element=\"2d774263-92d8-428b-a837-3f4491018ad4\")>,\n",
       " <selenium.webdriver.remote.webelement.WebElement (session=\"66ea80d6ca42d01d0ad8917407f6451d\", element=\"f4f00579-320e-47c4-8fc8-7929a785d5dc\")>,\n",
       " <selenium.webdriver.remote.webelement.WebElement (session=\"66ea80d6ca42d01d0ad8917407f6451d\", element=\"dcac4813-0607-4a07-b7fc-8015dc507e61\")>,\n",
       " <selenium.webdriver.remote.webelement.WebElement (session=\"66ea80d6ca42d01d0ad8917407f6451d\", element=\"238faa4b-929c-47cf-b734-956ff013b805\")>,\n",
       " <selenium.webdriver.remote.webelement.WebElement (session=\"66ea80d6ca42d01d0ad8917407f6451d\", element=\"0dc00070-1a15-408f-b002-6fe1b71fac17\")>,\n",
       " <selenium.webdriver.remote.webelement.WebElement (session=\"66ea80d6ca42d01d0ad8917407f6451d\", element=\"91acfdfe-46ff-4025-a593-bfe6fae55c80\")>,\n",
       " <selenium.webdriver.remote.webelement.WebElement (session=\"66ea80d6ca42d01d0ad8917407f6451d\", element=\"66620a96-13de-468c-ba12-8c0703579eef\")>,\n",
       " <selenium.webdriver.remote.webelement.WebElement (session=\"66ea80d6ca42d01d0ad8917407f6451d\", element=\"2ff4ce65-fc46-4880-8b83-10caf370ebca\")>,\n",
       " <selenium.webdriver.remote.webelement.WebElement (session=\"66ea80d6ca42d01d0ad8917407f6451d\", element=\"7db7ba53-0794-4683-a323-6395c2dc047b\")>,\n",
       " <selenium.webdriver.remote.webelement.WebElement (session=\"66ea80d6ca42d01d0ad8917407f6451d\", element=\"26b95789-ceef-461d-b57e-d41d51abb4ce\")>,\n",
       " <selenium.webdriver.remote.webelement.WebElement (session=\"66ea80d6ca42d01d0ad8917407f6451d\", element=\"166c2eec-5801-41a1-8e1c-408aae82e67b\")>,\n",
       " <selenium.webdriver.remote.webelement.WebElement (session=\"66ea80d6ca42d01d0ad8917407f6451d\", element=\"838c8666-ab31-47dd-873f-322bf4570ab6\")>,\n",
       " <selenium.webdriver.remote.webelement.WebElement (session=\"66ea80d6ca42d01d0ad8917407f6451d\", element=\"065c4eb0-b10d-4344-8c8a-3f9cb2654015\")>,\n",
       " <selenium.webdriver.remote.webelement.WebElement (session=\"66ea80d6ca42d01d0ad8917407f6451d\", element=\"0e96fe47-754a-4534-9749-25e144f313ed\")>,\n",
       " <selenium.webdriver.remote.webelement.WebElement (session=\"66ea80d6ca42d01d0ad8917407f6451d\", element=\"a1bb1d17-f3c0-4489-bd5f-3f53ea81a5d8\")>,\n",
       " <selenium.webdriver.remote.webelement.WebElement (session=\"66ea80d6ca42d01d0ad8917407f6451d\", element=\"0d0ce809-87ad-4b06-bff4-5bb29fc4dbc4\")>,\n",
       " <selenium.webdriver.remote.webelement.WebElement (session=\"66ea80d6ca42d01d0ad8917407f6451d\", element=\"1a5dd56c-44ae-4a4b-ad0c-04f7f075abf9\")>,\n",
       " <selenium.webdriver.remote.webelement.WebElement (session=\"66ea80d6ca42d01d0ad8917407f6451d\", element=\"dfb712e3-8202-4993-8450-6c0f8fe94435\")>,\n",
       " <selenium.webdriver.remote.webelement.WebElement (session=\"66ea80d6ca42d01d0ad8917407f6451d\", element=\"caf0c8e2-e4a4-4bda-a46b-79be468a7070\")>,\n",
       " <selenium.webdriver.remote.webelement.WebElement (session=\"66ea80d6ca42d01d0ad8917407f6451d\", element=\"51da810a-6473-40d8-b50f-0d95927ca4fd\")>,\n",
       " <selenium.webdriver.remote.webelement.WebElement (session=\"66ea80d6ca42d01d0ad8917407f6451d\", element=\"d8e14de3-a01d-48bb-b0c7-c6d21bc33b46\")>,\n",
       " <selenium.webdriver.remote.webelement.WebElement (session=\"66ea80d6ca42d01d0ad8917407f6451d\", element=\"f219b5a6-5c49-4ec7-9596-58ca36f503de\")>,\n",
       " <selenium.webdriver.remote.webelement.WebElement (session=\"66ea80d6ca42d01d0ad8917407f6451d\", element=\"47512e7a-bee3-40dc-88ec-6095366b18aa\")>,\n",
       " <selenium.webdriver.remote.webelement.WebElement (session=\"66ea80d6ca42d01d0ad8917407f6451d\", element=\"75465fa0-1221-4d99-9ad6-0d68da042fe3\")>,\n",
       " <selenium.webdriver.remote.webelement.WebElement (session=\"66ea80d6ca42d01d0ad8917407f6451d\", element=\"a29ab6d4-5e30-4ae3-aec1-7dabaf3402d0\")>,\n",
       " <selenium.webdriver.remote.webelement.WebElement (session=\"66ea80d6ca42d01d0ad8917407f6451d\", element=\"f533e80d-e11c-4415-aaea-9123a1441667\")>,\n",
       " <selenium.webdriver.remote.webelement.WebElement (session=\"66ea80d6ca42d01d0ad8917407f6451d\", element=\"eea51cad-2173-42a7-b016-7d759c331b3b\")>,\n",
       " <selenium.webdriver.remote.webelement.WebElement (session=\"66ea80d6ca42d01d0ad8917407f6451d\", element=\"b1b4b8d1-f517-44c5-b944-acfde7e99a57\")>,\n",
       " <selenium.webdriver.remote.webelement.WebElement (session=\"66ea80d6ca42d01d0ad8917407f6451d\", element=\"af6c4c42-a8fc-4175-8c5c-e85204c5d433\")>,\n",
       " <selenium.webdriver.remote.webelement.WebElement (session=\"66ea80d6ca42d01d0ad8917407f6451d\", element=\"77d9be5e-f65e-49c7-9d83-d12dd1109a89\")>,\n",
       " <selenium.webdriver.remote.webelement.WebElement (session=\"66ea80d6ca42d01d0ad8917407f6451d\", element=\"dc628036-fa36-45df-a7cc-8b736b5b9f88\")>,\n",
       " <selenium.webdriver.remote.webelement.WebElement (session=\"66ea80d6ca42d01d0ad8917407f6451d\", element=\"db6428f9-4601-4f18-9c96-fd1b7ab8e244\")>,\n",
       " <selenium.webdriver.remote.webelement.WebElement (session=\"66ea80d6ca42d01d0ad8917407f6451d\", element=\"b5de9c94-0d73-4db8-8e29-7bd9bfa5f8ab\")>,\n",
       " <selenium.webdriver.remote.webelement.WebElement (session=\"66ea80d6ca42d01d0ad8917407f6451d\", element=\"5524fd29-0400-490b-b8ac-5730db932b26\")>,\n",
       " <selenium.webdriver.remote.webelement.WebElement (session=\"66ea80d6ca42d01d0ad8917407f6451d\", element=\"a78c1c7e-8ad9-4397-95e1-35485ccacb95\")>,\n",
       " <selenium.webdriver.remote.webelement.WebElement (session=\"66ea80d6ca42d01d0ad8917407f6451d\", element=\"f0276f1e-1ace-4fc0-8013-9bfbc0133ddb\")>,\n",
       " <selenium.webdriver.remote.webelement.WebElement (session=\"66ea80d6ca42d01d0ad8917407f6451d\", element=\"90f7d4e4-ff44-4fbe-ad9b-20176d6a0d36\")>,\n",
       " <selenium.webdriver.remote.webelement.WebElement (session=\"66ea80d6ca42d01d0ad8917407f6451d\", element=\"74f1f16a-fccd-430d-9455-c68a50edbb88\")>,\n",
       " <selenium.webdriver.remote.webelement.WebElement (session=\"66ea80d6ca42d01d0ad8917407f6451d\", element=\"3af776de-29a3-4a35-ab3b-2ac914fed8a0\")>,\n",
       " <selenium.webdriver.remote.webelement.WebElement (session=\"66ea80d6ca42d01d0ad8917407f6451d\", element=\"b38ce0d1-07d2-4e62-ab71-ad20c82652cc\")>,\n",
       " <selenium.webdriver.remote.webelement.WebElement (session=\"66ea80d6ca42d01d0ad8917407f6451d\", element=\"75ff7541-11f2-499c-b712-85b39f58dd7a\")>,\n",
       " <selenium.webdriver.remote.webelement.WebElement (session=\"66ea80d6ca42d01d0ad8917407f6451d\", element=\"5eedebf5-f3d7-4eac-bb9e-4cff0f13e0a5\")>,\n",
       " <selenium.webdriver.remote.webelement.WebElement (session=\"66ea80d6ca42d01d0ad8917407f6451d\", element=\"42ee3dbc-7ce1-4679-9525-755473925225\")>,\n",
       " <selenium.webdriver.remote.webelement.WebElement (session=\"66ea80d6ca42d01d0ad8917407f6451d\", element=\"bef32994-9c03-450a-915b-cf21682a0071\")>,\n",
       " <selenium.webdriver.remote.webelement.WebElement (session=\"66ea80d6ca42d01d0ad8917407f6451d\", element=\"5eaa7b3f-62a4-4f4e-9242-4959dc4be290\")>,\n",
       " <selenium.webdriver.remote.webelement.WebElement (session=\"66ea80d6ca42d01d0ad8917407f6451d\", element=\"16ea6d99-e683-4c58-bab1-67d526f8a572\")>,\n",
       " <selenium.webdriver.remote.webelement.WebElement (session=\"66ea80d6ca42d01d0ad8917407f6451d\", element=\"30a6cf78-ae16-4a3e-89df-7db0e23abccd\")>,\n",
       " <selenium.webdriver.remote.webelement.WebElement (session=\"66ea80d6ca42d01d0ad8917407f6451d\", element=\"4098b003-20cf-4984-9c54-7b09adef61c9\")>,\n",
       " <selenium.webdriver.remote.webelement.WebElement (session=\"66ea80d6ca42d01d0ad8917407f6451d\", element=\"d132d384-2511-44bc-8490-05f20aea158d\")>,\n",
       " <selenium.webdriver.remote.webelement.WebElement (session=\"66ea80d6ca42d01d0ad8917407f6451d\", element=\"9f9a8906-7350-49d6-b2db-9f5db95907ea\")>,\n",
       " <selenium.webdriver.remote.webelement.WebElement (session=\"66ea80d6ca42d01d0ad8917407f6451d\", element=\"6b800255-8a75-4335-8299-5b042e6f9414\")>,\n",
       " <selenium.webdriver.remote.webelement.WebElement (session=\"66ea80d6ca42d01d0ad8917407f6451d\", element=\"9b681767-2316-4be7-a6b5-3790c82e3ac2\")>,\n",
       " <selenium.webdriver.remote.webelement.WebElement (session=\"66ea80d6ca42d01d0ad8917407f6451d\", element=\"be3504ca-727c-4f15-a4ed-2324c3e0521c\")>,\n",
       " <selenium.webdriver.remote.webelement.WebElement (session=\"66ea80d6ca42d01d0ad8917407f6451d\", element=\"f27a8ab5-6b6c-4bea-b397-46db11ffc82c\")>,\n",
       " <selenium.webdriver.remote.webelement.WebElement (session=\"66ea80d6ca42d01d0ad8917407f6451d\", element=\"66569120-c2a1-4bb7-b0a0-024b1fb86617\")>,\n",
       " <selenium.webdriver.remote.webelement.WebElement (session=\"66ea80d6ca42d01d0ad8917407f6451d\", element=\"9229a376-00df-4054-8489-2385436043a3\")>,\n",
       " <selenium.webdriver.remote.webelement.WebElement (session=\"66ea80d6ca42d01d0ad8917407f6451d\", element=\"9845c3dd-fa4e-49b3-be20-a7e9146f4b4f\")>,\n",
       " <selenium.webdriver.remote.webelement.WebElement (session=\"66ea80d6ca42d01d0ad8917407f6451d\", element=\"b9e625bc-7d14-4dc8-8e9e-6bbc9183385f\")>,\n",
       " <selenium.webdriver.remote.webelement.WebElement (session=\"66ea80d6ca42d01d0ad8917407f6451d\", element=\"fe0db60d-aece-4c54-95d8-517fcd56a731\")>,\n",
       " <selenium.webdriver.remote.webelement.WebElement (session=\"66ea80d6ca42d01d0ad8917407f6451d\", element=\"87603e3d-71c0-4c74-a24b-fd228fdd3e8c\")>,\n",
       " <selenium.webdriver.remote.webelement.WebElement (session=\"66ea80d6ca42d01d0ad8917407f6451d\", element=\"5e693f13-3535-4027-b1ba-b0f21216e11d\")>,\n",
       " <selenium.webdriver.remote.webelement.WebElement (session=\"66ea80d6ca42d01d0ad8917407f6451d\", element=\"5bdbe045-db76-483e-bd05-27a9465ab20c\")>,\n",
       " <selenium.webdriver.remote.webelement.WebElement (session=\"66ea80d6ca42d01d0ad8917407f6451d\", element=\"76f8fae0-0bcf-4c2e-8c79-94a258824b02\")>,\n",
       " <selenium.webdriver.remote.webelement.WebElement (session=\"66ea80d6ca42d01d0ad8917407f6451d\", element=\"44b4bc87-9397-4534-9c9d-fdddd8d28c02\")>,\n",
       " <selenium.webdriver.remote.webelement.WebElement (session=\"66ea80d6ca42d01d0ad8917407f6451d\", element=\"2b80dd14-37f4-46e4-93d6-22a5924bbf25\")>,\n",
       " <selenium.webdriver.remote.webelement.WebElement (session=\"66ea80d6ca42d01d0ad8917407f6451d\", element=\"e9eb6178-d371-4a2c-8bc8-868fdcbc7cc2\")>,\n",
       " <selenium.webdriver.remote.webelement.WebElement (session=\"66ea80d6ca42d01d0ad8917407f6451d\", element=\"d160f4d9-732f-47f7-bb69-c37991975327\")>,\n",
       " <selenium.webdriver.remote.webelement.WebElement (session=\"66ea80d6ca42d01d0ad8917407f6451d\", element=\"4d84cfda-13fa-424e-a1cd-4f3d015cb9dc\")>,\n",
       " <selenium.webdriver.remote.webelement.WebElement (session=\"66ea80d6ca42d01d0ad8917407f6451d\", element=\"745ed88d-6231-45ef-a22b-847ca095c061\")>,\n",
       " <selenium.webdriver.remote.webelement.WebElement (session=\"66ea80d6ca42d01d0ad8917407f6451d\", element=\"8bc205c0-4f35-4ad6-a7d8-303dd49e9b3e\")>,\n",
       " <selenium.webdriver.remote.webelement.WebElement (session=\"66ea80d6ca42d01d0ad8917407f6451d\", element=\"83af3729-9fb1-4c0c-bb1f-39aba55c8ba4\")>,\n",
       " <selenium.webdriver.remote.webelement.WebElement (session=\"66ea80d6ca42d01d0ad8917407f6451d\", element=\"e1505932-680f-49d0-bdea-3b1c74a00bc2\")>,\n",
       " <selenium.webdriver.remote.webelement.WebElement (session=\"66ea80d6ca42d01d0ad8917407f6451d\", element=\"cf0de5c2-2a86-4043-b354-10bb1ead859d\")>,\n",
       " <selenium.webdriver.remote.webelement.WebElement (session=\"66ea80d6ca42d01d0ad8917407f6451d\", element=\"f8079966-8d32-4fc6-848f-84880c19dcca\")>,\n",
       " <selenium.webdriver.remote.webelement.WebElement (session=\"66ea80d6ca42d01d0ad8917407f6451d\", element=\"7628c591-7a2e-45f9-ab8b-6eead3a48a78\")>,\n",
       " <selenium.webdriver.remote.webelement.WebElement (session=\"66ea80d6ca42d01d0ad8917407f6451d\", element=\"f5773410-5788-4bbd-b907-2f03ed554cea\")>,\n",
       " <selenium.webdriver.remote.webelement.WebElement (session=\"66ea80d6ca42d01d0ad8917407f6451d\", element=\"1b45d1bc-a750-45db-9656-7ab9dab87b74\")>,\n",
       " <selenium.webdriver.remote.webelement.WebElement (session=\"66ea80d6ca42d01d0ad8917407f6451d\", element=\"a9dd4548-828c-4946-9786-3ef44a0e7fa4\")>,\n",
       " <selenium.webdriver.remote.webelement.WebElement (session=\"66ea80d6ca42d01d0ad8917407f6451d\", element=\"ba9aa1a2-77e9-4cad-8f38-2b534e300206\")>,\n",
       " <selenium.webdriver.remote.webelement.WebElement (session=\"66ea80d6ca42d01d0ad8917407f6451d\", element=\"8c92c567-0d5f-4f55-a072-280025dddb5f\")>,\n",
       " <selenium.webdriver.remote.webelement.WebElement (session=\"66ea80d6ca42d01d0ad8917407f6451d\", element=\"d373800b-d27a-4e94-a94e-2583aeb74243\")>,\n",
       " <selenium.webdriver.remote.webelement.WebElement (session=\"66ea80d6ca42d01d0ad8917407f6451d\", element=\"f17905b8-9cc4-4aa9-a764-398e0374417e\")>,\n",
       " <selenium.webdriver.remote.webelement.WebElement (session=\"66ea80d6ca42d01d0ad8917407f6451d\", element=\"f836c646-36aa-48ee-a8cd-6c8aa7ddf8a2\")>,\n",
       " <selenium.webdriver.remote.webelement.WebElement (session=\"66ea80d6ca42d01d0ad8917407f6451d\", element=\"519bd083-6d83-4cb9-8a52-6d495e7e1071\")>,\n",
       " <selenium.webdriver.remote.webelement.WebElement (session=\"66ea80d6ca42d01d0ad8917407f6451d\", element=\"2c3591e2-186f-4d75-add2-d6bf5f572d05\")>,\n",
       " <selenium.webdriver.remote.webelement.WebElement (session=\"66ea80d6ca42d01d0ad8917407f6451d\", element=\"f554175b-6408-4b46-a735-ba76749fbcd6\")>,\n",
       " <selenium.webdriver.remote.webelement.WebElement (session=\"66ea80d6ca42d01d0ad8917407f6451d\", element=\"97cc00a3-56b8-41c1-83cc-2c708b35da93\")>,\n",
       " <selenium.webdriver.remote.webelement.WebElement (session=\"66ea80d6ca42d01d0ad8917407f6451d\", element=\"79848af9-312b-47ca-867b-0983bc00ceac\")>,\n",
       " <selenium.webdriver.remote.webelement.WebElement (session=\"66ea80d6ca42d01d0ad8917407f6451d\", element=\"b4fa65b2-7e76-482e-bcd6-35de6b04d702\")>,\n",
       " <selenium.webdriver.remote.webelement.WebElement (session=\"66ea80d6ca42d01d0ad8917407f6451d\", element=\"6c178348-44a4-43a3-8880-f40f1b2f1ed7\")>,\n",
       " <selenium.webdriver.remote.webelement.WebElement (session=\"66ea80d6ca42d01d0ad8917407f6451d\", element=\"884c5dfe-3e7a-4f15-9990-ae12a44a99f7\")>,\n",
       " <selenium.webdriver.remote.webelement.WebElement (session=\"66ea80d6ca42d01d0ad8917407f6451d\", element=\"547c6d0e-a187-4060-8483-6fc84b99fde4\")>]"
      ]
     },
     "execution_count": 15,
     "metadata": {},
     "output_type": "execute_result"
    }
   ],
   "source": [
    "\n",
    "line4=browser.find_elements(\"xpath\",\"//div[@class='td-wrap-in']\")\n",
    "line4"
   ]
  },
  {
   "cell_type": "code",
   "execution_count": 16,
   "id": "f1e2a25b",
   "metadata": {},
   "outputs": [
    {
     "data": {
      "text/plain": [
       "['91.3', '99.3', '96.5', '96.7', '87.3', '36.9', '57.1', '77.5', '91.4']"
      ]
     },
     "execution_count": 16,
     "metadata": {},
     "output_type": "execute_result"
    }
   ],
   "source": [
    "#PARSING DATA\n",
    "value=[]\n",
    "for data in line4:\n",
    "    #get the text data\n",
    "    temp=data.text\n",
    "    value.append(temp)\n",
    "value_h=value[31:40]\n",
    "value_h"
   ]
  },
  {
   "cell_type": "code",
   "execution_count": 19,
   "id": "9f156f5c",
   "metadata": {},
   "outputs": [
    {
     "data": {
      "text/plain": [
       "{'Name': 'Tsinghua University',\n",
       " 'Location': 'Beijing, China (Mainland)',\n",
       " 'Rank': '14',\n",
       " 'Overall Score': '91.3',\n",
       " 'Academic Reputation': '99.3',\n",
       " 'Employer Reputation': '96.5',\n",
       " 'Citations per Faculty': '96.7',\n",
       " 'Faculty Student Ratio': '87.3',\n",
       " 'International Students Ratio': '36.9',\n",
       " 'International Faculty Ratio': '57.1',\n",
       " 'International Research Network\\nUnweighted': '77.5',\n",
       " 'Employment Outcomes\\nUnweighted': '91.4'}"
      ]
     },
     "execution_count": 19,
     "metadata": {},
     "output_type": "execute_result"
    }
   ],
   "source": [
    "d={}\n",
    "d['Name']=value[30]\n",
    "d['Location']=address[3]\n",
    "d['Rank']=Rank[3]\n",
    "for i in range(len(column)):\n",
    "    d[column[i]]=value_h[i]\n",
    "d"
   ]
  },
  {
   "cell_type": "code",
   "execution_count": 20,
   "id": "29c960e1",
   "metadata": {},
   "outputs": [
    {
     "data": {
      "text/plain": [
       "'{\"Name\": \"Tsinghua University\", \"Location\": \"Beijing, China (Mainland)\", \"Rank\": \"14\", \"Overall Score\": \"91.3\", \"Academic Reputation\": \"99.3\", \"Employer Reputation\": \"96.5\", \"Citations per Faculty\": \"96.7\", \"Faculty Student Ratio\": \"87.3\", \"International Students Ratio\": \"36.9\", \"International Faculty Ratio\": \"57.1\", \"International Research Network\\\\nUnweighted\": \"77.5\", \"Employment Outcomes\\\\nUnweighted\": \"91.4\"}'"
      ]
     },
     "execution_count": 20,
     "metadata": {},
     "output_type": "execute_result"
    }
   ],
   "source": [
    "s1=json.dumps(d)\n",
    "s1"
   ]
  },
  {
   "cell_type": "code",
   "execution_count": 21,
   "id": "34e9bbf7",
   "metadata": {},
   "outputs": [],
   "source": [
    "with open('Tsinghua University.json','w') as f:\n",
    "    json.dump(d,f)"
   ]
  }
 ],
 "metadata": {
  "kernelspec": {
   "display_name": "Python 3.9.12 ('base')",
   "language": "python",
   "name": "python3"
  },
  "language_info": {
   "codemirror_mode": {
    "name": "ipython",
    "version": 3
   },
   "file_extension": ".py",
   "mimetype": "text/x-python",
   "name": "python",
   "nbconvert_exporter": "python",
   "pygments_lexer": "ipython3",
   "version": "3.9.12"
  },
  "vscode": {
   "interpreter": {
    "hash": "ad2bdc8ecc057115af97d19610ffacc2b4e99fae6737bb82f5d7fb13d2f2c186"
   }
  }
 },
 "nbformat": 4,
 "nbformat_minor": 5
}
