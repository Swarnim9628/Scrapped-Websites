{
 "cells": [
  {
   "cell_type": "code",
   "execution_count": 1,
   "id": "e4cee76d",
   "metadata": {},
   "outputs": [],
   "source": [
    "from selenium import webdriver\n",
    "from selenium.webdriver.chrome.service import Service\n",
    "import pandas as pd\n",
    "import json"
   ]
  },
  {
   "cell_type": "code",
   "execution_count": 2,
   "id": "5a66d4b0",
   "metadata": {},
   "outputs": [],
   "source": [
    "path = Service('C:\\chromedriver.exe')"
   ]
  },
  {
   "cell_type": "code",
   "execution_count": 3,
   "id": "93a8c822",
   "metadata": {},
   "outputs": [],
   "source": [
    "# set path for the driver\n",
    "browser = webdriver.Chrome(service = path)"
   ]
  },
  {
   "cell_type": "code",
   "execution_count": 4,
   "id": "32415746",
   "metadata": {},
   "outputs": [],
   "source": [
    "url = \"https://www.topuniversities.com/university-rankings/world-university-rankings/2023\""
   ]
  },
  {
   "cell_type": "code",
   "execution_count": 5,
   "id": "46a620b6",
   "metadata": {},
   "outputs": [],
   "source": [
    "# open the page url ion chrome\n",
    "browser.get(url)"
   ]
  },
  {
   "cell_type": "code",
   "execution_count": 7,
   "id": "302fde3a",
   "metadata": {},
   "outputs": [
    {
     "data": {
      "text/plain": [
       "[<selenium.webdriver.remote.webelement.WebElement (session=\"bf2dfbe9676dabfa5f9b1471b4b66c9d\", element=\"287c4a2b-35dd-4f15-a84d-1a54aefd1c65\")>,\n",
       " <selenium.webdriver.remote.webelement.WebElement (session=\"bf2dfbe9676dabfa5f9b1471b4b66c9d\", element=\"9e5f3bdd-bdcf-4195-b2c1-6bb13d245a85\")>,\n",
       " <selenium.webdriver.remote.webelement.WebElement (session=\"bf2dfbe9676dabfa5f9b1471b4b66c9d\", element=\"47b387cc-07a3-4ad0-8524-cac32245466d\")>,\n",
       " <selenium.webdriver.remote.webelement.WebElement (session=\"bf2dfbe9676dabfa5f9b1471b4b66c9d\", element=\"57336b31-d9d4-4af0-bf33-a4f164b68cdc\")>,\n",
       " <selenium.webdriver.remote.webelement.WebElement (session=\"bf2dfbe9676dabfa5f9b1471b4b66c9d\", element=\"f455455c-0cb1-4ddb-a818-8291330fb881\")>,\n",
       " <selenium.webdriver.remote.webelement.WebElement (session=\"bf2dfbe9676dabfa5f9b1471b4b66c9d\", element=\"72de3b43-bf2f-4140-9ae1-d7470bfebff0\")>,\n",
       " <selenium.webdriver.remote.webelement.WebElement (session=\"bf2dfbe9676dabfa5f9b1471b4b66c9d\", element=\"c7c4958c-6654-4d80-bab2-951b23e26a96\")>,\n",
       " <selenium.webdriver.remote.webelement.WebElement (session=\"bf2dfbe9676dabfa5f9b1471b4b66c9d\", element=\"68d5a1a4-2aec-464a-b690-8ded6eb4f819\")>,\n",
       " <selenium.webdriver.remote.webelement.WebElement (session=\"bf2dfbe9676dabfa5f9b1471b4b66c9d\", element=\"44198004-4854-4a22-882e-6e6d8d906d47\")>,\n",
       " <selenium.webdriver.remote.webelement.WebElement (session=\"bf2dfbe9676dabfa5f9b1471b4b66c9d\", element=\"16e96f4b-99a7-4b9b-97cc-674cb6183101\")>,\n",
       " <selenium.webdriver.remote.webelement.WebElement (session=\"bf2dfbe9676dabfa5f9b1471b4b66c9d\", element=\"d223e7a3-ec7b-4efe-b184-c9237cba3dc6\")>,\n",
       " <selenium.webdriver.remote.webelement.WebElement (session=\"bf2dfbe9676dabfa5f9b1471b4b66c9d\", element=\"1581a282-a4a1-4aa2-95a2-3f2fafb5988f\")>,\n",
       " <selenium.webdriver.remote.webelement.WebElement (session=\"bf2dfbe9676dabfa5f9b1471b4b66c9d\", element=\"be77bac6-3c15-4bbd-a2c7-704c7009ccd2\")>,\n",
       " <selenium.webdriver.remote.webelement.WebElement (session=\"bf2dfbe9676dabfa5f9b1471b4b66c9d\", element=\"fa94dab5-bb49-4337-8fc7-4707a479288b\")>,\n",
       " <selenium.webdriver.remote.webelement.WebElement (session=\"bf2dfbe9676dabfa5f9b1471b4b66c9d\", element=\"78681397-f155-450b-8708-a5ed83b53262\")>,\n",
       " <selenium.webdriver.remote.webelement.WebElement (session=\"bf2dfbe9676dabfa5f9b1471b4b66c9d\", element=\"2eff3d3f-207f-4544-907f-faa97d968556\")>,\n",
       " <selenium.webdriver.remote.webelement.WebElement (session=\"bf2dfbe9676dabfa5f9b1471b4b66c9d\", element=\"13650d66-8167-487a-ba00-d00f4f3e4bc8\")>,\n",
       " <selenium.webdriver.remote.webelement.WebElement (session=\"bf2dfbe9676dabfa5f9b1471b4b66c9d\", element=\"58b37d9c-febd-4e34-91bb-234dd8dcb130\")>,\n",
       " <selenium.webdriver.remote.webelement.WebElement (session=\"bf2dfbe9676dabfa5f9b1471b4b66c9d\", element=\"5a08201d-cdf0-477f-8316-66bfa7324acc\")>,\n",
       " <selenium.webdriver.remote.webelement.WebElement (session=\"bf2dfbe9676dabfa5f9b1471b4b66c9d\", element=\"e27e5803-33f9-4679-a571-9f8114660c2b\")>]"
      ]
     },
     "execution_count": 7,
     "metadata": {},
     "output_type": "execute_result"
    }
   ],
   "source": [
    "line1=browser.find_elements(\"xpath\",\"//div[@class='location ']\")\n",
    "line1"
   ]
  },
  {
   "cell_type": "code",
   "execution_count": 8,
   "id": "e3443324",
   "metadata": {},
   "outputs": [
    {
     "data": {
      "text/plain": [
       "[' Hong Kong SAR',\n",
       " 'New York City, United States',\n",
       " 'Tokyo, Japan',\n",
       " 'Baltimore, United States',\n",
       " 'Ann Arbor, United States',\n",
       " 'Paris, France',\n",
       " 'Berkeley, United States',\n",
       " 'Manchester, United Kingdom',\n",
       " 'Seoul, South Korea',\n",
       " 'Canberra, Australia']"
      ]
     },
     "execution_count": 8,
     "metadata": {},
     "output_type": "execute_result"
    }
   ],
   "source": [
    "address=[]\n",
    "for data in line1:\n",
    "    #get the text data\n",
    "    temp=data.text\n",
    "    address.append(temp)\n",
    "address=address[10:]\n",
    "address"
   ]
  },
  {
   "cell_type": "code",
   "execution_count": 9,
   "id": "884a4829",
   "metadata": {},
   "outputs": [
    {
     "data": {
      "text/plain": [
       "[<selenium.webdriver.remote.webelement.WebElement (session=\"bf2dfbe9676dabfa5f9b1471b4b66c9d\", element=\"4b04052a-98d8-4bae-b6ed-606493b1cf60\")>,\n",
       " <selenium.webdriver.remote.webelement.WebElement (session=\"bf2dfbe9676dabfa5f9b1471b4b66c9d\", element=\"460ca49c-35b4-435e-98be-40adff68367a\")>,\n",
       " <selenium.webdriver.remote.webelement.WebElement (session=\"bf2dfbe9676dabfa5f9b1471b4b66c9d\", element=\"953f74ae-773e-4038-94ac-7b60a86ba373\")>,\n",
       " <selenium.webdriver.remote.webelement.WebElement (session=\"bf2dfbe9676dabfa5f9b1471b4b66c9d\", element=\"9df1919c-0737-4ad7-bed8-9e2cf467c975\")>,\n",
       " <selenium.webdriver.remote.webelement.WebElement (session=\"bf2dfbe9676dabfa5f9b1471b4b66c9d\", element=\"7bf38118-446a-4f4d-96f5-dad9f4f982fd\")>,\n",
       " <selenium.webdriver.remote.webelement.WebElement (session=\"bf2dfbe9676dabfa5f9b1471b4b66c9d\", element=\"bf5d37f5-bfac-449f-a3e5-62cb12e0ed76\")>,\n",
       " <selenium.webdriver.remote.webelement.WebElement (session=\"bf2dfbe9676dabfa5f9b1471b4b66c9d\", element=\"c3f56d5a-9e51-4885-945c-eea1a96bb118\")>,\n",
       " <selenium.webdriver.remote.webelement.WebElement (session=\"bf2dfbe9676dabfa5f9b1471b4b66c9d\", element=\"00e1908a-6bb6-4c07-962b-2562b28dee6a\")>,\n",
       " <selenium.webdriver.remote.webelement.WebElement (session=\"bf2dfbe9676dabfa5f9b1471b4b66c9d\", element=\"f700925d-e932-4192-9e63-2e72e2d6667f\")>,\n",
       " <selenium.webdriver.remote.webelement.WebElement (session=\"bf2dfbe9676dabfa5f9b1471b4b66c9d\", element=\"5598a39e-fc94-47ce-ace7-b675a783dd6e\")>]"
      ]
     },
     "execution_count": 9,
     "metadata": {},
     "output_type": "execute_result"
    }
   ],
   "source": [
    "line2=browser.find_elements(\"xpath\",\"//div[@class='_univ-rank ']\")\n",
    "line2"
   ]
  },
  {
   "cell_type": "code",
   "execution_count": 10,
   "id": "fc8808ce",
   "metadata": {},
   "outputs": [
    {
     "data": {
      "text/plain": [
       "['21', '22', '23', '24', '25', '26', '27', '28', '29', '30']"
      ]
     },
     "execution_count": 10,
     "metadata": {},
     "output_type": "execute_result"
    }
   ],
   "source": [
    "Rank=[]\n",
    "for data in line2:\n",
    "    #get the text data\n",
    "    temp=data.text\n",
    "    Rank.append(temp)\n",
    "Rank\n"
   ]
  },
  {
   "cell_type": "code",
   "execution_count": 11,
   "id": "33b53260",
   "metadata": {},
   "outputs": [
    {
     "data": {
      "text/plain": [
       "[<selenium.webdriver.remote.webelement.WebElement (session=\"bf2dfbe9676dabfa5f9b1471b4b66c9d\", element=\"647ce709-71dc-4617-8f84-a32be55048d5\")>,\n",
       " <selenium.webdriver.remote.webelement.WebElement (session=\"bf2dfbe9676dabfa5f9b1471b4b66c9d\", element=\"acc1d2c5-1b7d-4278-a25b-c230785804e2\")>,\n",
       " <selenium.webdriver.remote.webelement.WebElement (session=\"bf2dfbe9676dabfa5f9b1471b4b66c9d\", element=\"d117d6d8-51b9-4e9e-990c-7182ccf0ed9c\")>,\n",
       " <selenium.webdriver.remote.webelement.WebElement (session=\"bf2dfbe9676dabfa5f9b1471b4b66c9d\", element=\"209bc41a-9185-4aab-ad10-2af55b35963b\")>,\n",
       " <selenium.webdriver.remote.webelement.WebElement (session=\"bf2dfbe9676dabfa5f9b1471b4b66c9d\", element=\"2c66712e-73f7-4def-9adc-172a89cc5e27\")>,\n",
       " <selenium.webdriver.remote.webelement.WebElement (session=\"bf2dfbe9676dabfa5f9b1471b4b66c9d\", element=\"7ef67e64-5529-4df6-814a-3bc7a42743d8\")>,\n",
       " <selenium.webdriver.remote.webelement.WebElement (session=\"bf2dfbe9676dabfa5f9b1471b4b66c9d\", element=\"bbdd6c74-720f-45f1-9d5b-7d6cd3dbb2de\")>,\n",
       " <selenium.webdriver.remote.webelement.WebElement (session=\"bf2dfbe9676dabfa5f9b1471b4b66c9d\", element=\"b646d2ae-3914-41a2-8e5c-7e80e10d2c26\")>,\n",
       " <selenium.webdriver.remote.webelement.WebElement (session=\"bf2dfbe9676dabfa5f9b1471b4b66c9d\", element=\"0015cb9d-3f90-464d-826f-1c70a38671e2\")>]"
      ]
     },
     "execution_count": 11,
     "metadata": {},
     "output_type": "execute_result"
    }
   ],
   "source": [
    "# GET EACH COLLEGE SPECIFICATION HEADERS\n",
    "line3=browser.find_elements(\"xpath\",\"//div[@class='_click-function_ind']\")\n",
    "line3"
   ]
  },
  {
   "cell_type": "code",
   "execution_count": 12,
   "id": "74bef9ba",
   "metadata": {},
   "outputs": [
    {
     "data": {
      "text/plain": [
       "['Overall Score',\n",
       " 'Academic Reputation',\n",
       " 'Employer Reputation',\n",
       " 'Citations per Faculty',\n",
       " 'Faculty Student Ratio',\n",
       " 'International Students Ratio',\n",
       " 'International Faculty Ratio',\n",
       " 'International Research Network\\nUnweighted',\n",
       " 'Employment Outcomes\\nUnweighted']"
      ]
     },
     "execution_count": 12,
     "metadata": {},
     "output_type": "execute_result"
    }
   ],
   "source": [
    "#PARSING DATA\n",
    "column=[]\n",
    "for data in line3:\n",
    "    #get the text data\n",
    "    temp=data.text\n",
    "    column.append(temp)\n",
    "column"
   ]
  },
  {
   "cell_type": "code",
   "execution_count": 13,
   "id": "92b2829a",
   "metadata": {},
   "outputs": [
    {
     "data": {
      "text/plain": [
       "[<selenium.webdriver.remote.webelement.WebElement (session=\"bf2dfbe9676dabfa5f9b1471b4b66c9d\", element=\"034af46b-a91d-42f2-bcb7-92735895e51f\")>,\n",
       " <selenium.webdriver.remote.webelement.WebElement (session=\"bf2dfbe9676dabfa5f9b1471b4b66c9d\", element=\"f59ec4cc-229e-4fb0-b249-793182d757e9\")>,\n",
       " <selenium.webdriver.remote.webelement.WebElement (session=\"bf2dfbe9676dabfa5f9b1471b4b66c9d\", element=\"6bfece62-2ef7-44a3-a65b-6d2fe2fa5d17\")>,\n",
       " <selenium.webdriver.remote.webelement.WebElement (session=\"bf2dfbe9676dabfa5f9b1471b4b66c9d\", element=\"20338f82-843a-43dd-97c5-2f5e37ec942a\")>,\n",
       " <selenium.webdriver.remote.webelement.WebElement (session=\"bf2dfbe9676dabfa5f9b1471b4b66c9d\", element=\"fbd1bdac-93eb-4a09-8f5a-2de6933e58ca\")>,\n",
       " <selenium.webdriver.remote.webelement.WebElement (session=\"bf2dfbe9676dabfa5f9b1471b4b66c9d\", element=\"dea490ff-666b-4885-ab2a-7a17e999cc4e\")>,\n",
       " <selenium.webdriver.remote.webelement.WebElement (session=\"bf2dfbe9676dabfa5f9b1471b4b66c9d\", element=\"09bf7f44-fd9c-4850-ad1b-dea97e4070dd\")>,\n",
       " <selenium.webdriver.remote.webelement.WebElement (session=\"bf2dfbe9676dabfa5f9b1471b4b66c9d\", element=\"8450005f-46a9-4952-a2ed-060cdcb63c05\")>,\n",
       " <selenium.webdriver.remote.webelement.WebElement (session=\"bf2dfbe9676dabfa5f9b1471b4b66c9d\", element=\"df08ed44-27f0-446a-98c4-4049b6206200\")>,\n",
       " <selenium.webdriver.remote.webelement.WebElement (session=\"bf2dfbe9676dabfa5f9b1471b4b66c9d\", element=\"3518e1c8-fe4b-4943-9fb3-b9e34e1cb588\")>,\n",
       " <selenium.webdriver.remote.webelement.WebElement (session=\"bf2dfbe9676dabfa5f9b1471b4b66c9d\", element=\"e231abfc-3bb6-4cbb-8e7e-5664f5dc838a\")>,\n",
       " <selenium.webdriver.remote.webelement.WebElement (session=\"bf2dfbe9676dabfa5f9b1471b4b66c9d\", element=\"26f264a9-0602-4c3b-b54a-bcc481d1b6d4\")>,\n",
       " <selenium.webdriver.remote.webelement.WebElement (session=\"bf2dfbe9676dabfa5f9b1471b4b66c9d\", element=\"09a2be20-abd4-462e-984b-bf9c2fa500bb\")>,\n",
       " <selenium.webdriver.remote.webelement.WebElement (session=\"bf2dfbe9676dabfa5f9b1471b4b66c9d\", element=\"9ab4de87-dad6-4f4f-928b-16fc28dd50dc\")>,\n",
       " <selenium.webdriver.remote.webelement.WebElement (session=\"bf2dfbe9676dabfa5f9b1471b4b66c9d\", element=\"4a5e900d-b059-45f9-b768-881003dd656b\")>,\n",
       " <selenium.webdriver.remote.webelement.WebElement (session=\"bf2dfbe9676dabfa5f9b1471b4b66c9d\", element=\"2c8e37b6-caa1-4d1e-9705-f53115b76b05\")>,\n",
       " <selenium.webdriver.remote.webelement.WebElement (session=\"bf2dfbe9676dabfa5f9b1471b4b66c9d\", element=\"18e84a29-c420-486c-ba07-17b25a1cd702\")>,\n",
       " <selenium.webdriver.remote.webelement.WebElement (session=\"bf2dfbe9676dabfa5f9b1471b4b66c9d\", element=\"d704f2f3-da6f-4518-8fed-89b85f7669b9\")>,\n",
       " <selenium.webdriver.remote.webelement.WebElement (session=\"bf2dfbe9676dabfa5f9b1471b4b66c9d\", element=\"6241efb1-f333-4532-97f0-39cbba15b51a\")>,\n",
       " <selenium.webdriver.remote.webelement.WebElement (session=\"bf2dfbe9676dabfa5f9b1471b4b66c9d\", element=\"ffb294df-a568-4fce-bf4a-f87d291b5dc1\")>,\n",
       " <selenium.webdriver.remote.webelement.WebElement (session=\"bf2dfbe9676dabfa5f9b1471b4b66c9d\", element=\"ac2f8725-d668-48bc-9e60-e7845e9a6213\")>,\n",
       " <selenium.webdriver.remote.webelement.WebElement (session=\"bf2dfbe9676dabfa5f9b1471b4b66c9d\", element=\"b7ac6ff7-2271-47ee-8b52-46cb36723d06\")>,\n",
       " <selenium.webdriver.remote.webelement.WebElement (session=\"bf2dfbe9676dabfa5f9b1471b4b66c9d\", element=\"35ff0f13-d96a-45b7-bf05-f77012789d4f\")>,\n",
       " <selenium.webdriver.remote.webelement.WebElement (session=\"bf2dfbe9676dabfa5f9b1471b4b66c9d\", element=\"74d11ab9-eba7-413c-bf6e-25ada9bf88b6\")>,\n",
       " <selenium.webdriver.remote.webelement.WebElement (session=\"bf2dfbe9676dabfa5f9b1471b4b66c9d\", element=\"3e565067-872c-4ba2-9d6d-d8ace606e513\")>,\n",
       " <selenium.webdriver.remote.webelement.WebElement (session=\"bf2dfbe9676dabfa5f9b1471b4b66c9d\", element=\"6d6195a9-ad58-4829-b993-464f9bdaac59\")>,\n",
       " <selenium.webdriver.remote.webelement.WebElement (session=\"bf2dfbe9676dabfa5f9b1471b4b66c9d\", element=\"0ec4c176-90d0-44ad-b3a5-9181508f45e8\")>,\n",
       " <selenium.webdriver.remote.webelement.WebElement (session=\"bf2dfbe9676dabfa5f9b1471b4b66c9d\", element=\"dafcf92f-8890-46bf-8b77-641b30e8af4f\")>,\n",
       " <selenium.webdriver.remote.webelement.WebElement (session=\"bf2dfbe9676dabfa5f9b1471b4b66c9d\", element=\"26e8ace0-d010-4904-b0c0-86e63415cb3a\")>,\n",
       " <selenium.webdriver.remote.webelement.WebElement (session=\"bf2dfbe9676dabfa5f9b1471b4b66c9d\", element=\"1f434444-8453-4f84-acbe-e914b40cdcd8\")>,\n",
       " <selenium.webdriver.remote.webelement.WebElement (session=\"bf2dfbe9676dabfa5f9b1471b4b66c9d\", element=\"511f9f16-e650-40ac-8338-9a4a265919cd\")>,\n",
       " <selenium.webdriver.remote.webelement.WebElement (session=\"bf2dfbe9676dabfa5f9b1471b4b66c9d\", element=\"79459c46-3cfb-49f0-a494-cd6ce0b256d2\")>,\n",
       " <selenium.webdriver.remote.webelement.WebElement (session=\"bf2dfbe9676dabfa5f9b1471b4b66c9d\", element=\"8986111c-a273-4318-ab9b-d60db254dc09\")>,\n",
       " <selenium.webdriver.remote.webelement.WebElement (session=\"bf2dfbe9676dabfa5f9b1471b4b66c9d\", element=\"8e78a0a8-d515-473e-8dbf-66e89ea9ae5c\")>,\n",
       " <selenium.webdriver.remote.webelement.WebElement (session=\"bf2dfbe9676dabfa5f9b1471b4b66c9d\", element=\"5dfaaf04-f50e-4c15-af5c-e918b9f6b324\")>,\n",
       " <selenium.webdriver.remote.webelement.WebElement (session=\"bf2dfbe9676dabfa5f9b1471b4b66c9d\", element=\"7c602eda-cf07-4c92-8802-33b421089994\")>,\n",
       " <selenium.webdriver.remote.webelement.WebElement (session=\"bf2dfbe9676dabfa5f9b1471b4b66c9d\", element=\"e7453c4a-74d8-42bd-addd-f7103a930a1d\")>,\n",
       " <selenium.webdriver.remote.webelement.WebElement (session=\"bf2dfbe9676dabfa5f9b1471b4b66c9d\", element=\"9b898da2-c3d2-4b3d-9405-5dd19441634b\")>,\n",
       " <selenium.webdriver.remote.webelement.WebElement (session=\"bf2dfbe9676dabfa5f9b1471b4b66c9d\", element=\"618c87c0-df13-40a9-a3b7-cd8018540af1\")>,\n",
       " <selenium.webdriver.remote.webelement.WebElement (session=\"bf2dfbe9676dabfa5f9b1471b4b66c9d\", element=\"279e14e9-8c57-4a50-b400-f083dc858eff\")>,\n",
       " <selenium.webdriver.remote.webelement.WebElement (session=\"bf2dfbe9676dabfa5f9b1471b4b66c9d\", element=\"ed6d9800-6e9d-4740-9ae3-97f9cda2d1d9\")>,\n",
       " <selenium.webdriver.remote.webelement.WebElement (session=\"bf2dfbe9676dabfa5f9b1471b4b66c9d\", element=\"8211d2ee-6b04-4f41-862f-dcee35cfc978\")>,\n",
       " <selenium.webdriver.remote.webelement.WebElement (session=\"bf2dfbe9676dabfa5f9b1471b4b66c9d\", element=\"b7710b44-381a-4202-8979-689ce30078a9\")>,\n",
       " <selenium.webdriver.remote.webelement.WebElement (session=\"bf2dfbe9676dabfa5f9b1471b4b66c9d\", element=\"3c0951cd-2aee-4907-b67a-564dd032cfa0\")>,\n",
       " <selenium.webdriver.remote.webelement.WebElement (session=\"bf2dfbe9676dabfa5f9b1471b4b66c9d\", element=\"de1fa714-3e4e-4336-9616-935e43c1a872\")>,\n",
       " <selenium.webdriver.remote.webelement.WebElement (session=\"bf2dfbe9676dabfa5f9b1471b4b66c9d\", element=\"dfda7c28-3085-44ba-bbd9-5963b867f4b7\")>,\n",
       " <selenium.webdriver.remote.webelement.WebElement (session=\"bf2dfbe9676dabfa5f9b1471b4b66c9d\", element=\"cf740721-de10-4096-a7e4-a345bbf2a48d\")>,\n",
       " <selenium.webdriver.remote.webelement.WebElement (session=\"bf2dfbe9676dabfa5f9b1471b4b66c9d\", element=\"bc48cc07-e2d6-4d44-b2e3-f446a4c2f604\")>,\n",
       " <selenium.webdriver.remote.webelement.WebElement (session=\"bf2dfbe9676dabfa5f9b1471b4b66c9d\", element=\"cd0afff9-d31b-48a4-ad6e-3201663ddab5\")>,\n",
       " <selenium.webdriver.remote.webelement.WebElement (session=\"bf2dfbe9676dabfa5f9b1471b4b66c9d\", element=\"b4c67c02-2a79-4afb-a219-d7862c6865d7\")>,\n",
       " <selenium.webdriver.remote.webelement.WebElement (session=\"bf2dfbe9676dabfa5f9b1471b4b66c9d\", element=\"67b2e959-aacf-482c-9cfa-8dfd9f34820d\")>,\n",
       " <selenium.webdriver.remote.webelement.WebElement (session=\"bf2dfbe9676dabfa5f9b1471b4b66c9d\", element=\"fbe856c1-c7f2-471d-8bd2-99a41e1dae7e\")>,\n",
       " <selenium.webdriver.remote.webelement.WebElement (session=\"bf2dfbe9676dabfa5f9b1471b4b66c9d\", element=\"3db4a822-791d-4c25-ae0a-5f9ee1189c8c\")>,\n",
       " <selenium.webdriver.remote.webelement.WebElement (session=\"bf2dfbe9676dabfa5f9b1471b4b66c9d\", element=\"f1b3c595-7339-4832-9487-e9db6717d596\")>,\n",
       " <selenium.webdriver.remote.webelement.WebElement (session=\"bf2dfbe9676dabfa5f9b1471b4b66c9d\", element=\"bfe9d3fa-b497-493e-bfea-120a570a8f98\")>,\n",
       " <selenium.webdriver.remote.webelement.WebElement (session=\"bf2dfbe9676dabfa5f9b1471b4b66c9d\", element=\"1078ea44-fbb2-4d57-b1e4-a723361948e0\")>,\n",
       " <selenium.webdriver.remote.webelement.WebElement (session=\"bf2dfbe9676dabfa5f9b1471b4b66c9d\", element=\"5a8e71cc-4869-4d40-a0ef-f2d1db2c2170\")>,\n",
       " <selenium.webdriver.remote.webelement.WebElement (session=\"bf2dfbe9676dabfa5f9b1471b4b66c9d\", element=\"3d056ee9-3b91-4874-a130-378ea977e596\")>,\n",
       " <selenium.webdriver.remote.webelement.WebElement (session=\"bf2dfbe9676dabfa5f9b1471b4b66c9d\", element=\"b6c53eef-c874-4938-9a46-08a3c5e328f9\")>,\n",
       " <selenium.webdriver.remote.webelement.WebElement (session=\"bf2dfbe9676dabfa5f9b1471b4b66c9d\", element=\"c2211186-924b-4842-ac0a-d5251c7d7e46\")>,\n",
       " <selenium.webdriver.remote.webelement.WebElement (session=\"bf2dfbe9676dabfa5f9b1471b4b66c9d\", element=\"e300a388-8f70-495d-9884-17f3aff877bc\")>,\n",
       " <selenium.webdriver.remote.webelement.WebElement (session=\"bf2dfbe9676dabfa5f9b1471b4b66c9d\", element=\"ff0f06c9-c326-41df-b5e5-6c44a2a6bf03\")>,\n",
       " <selenium.webdriver.remote.webelement.WebElement (session=\"bf2dfbe9676dabfa5f9b1471b4b66c9d\", element=\"82d1abff-1a3b-4de0-addb-909183479f8d\")>,\n",
       " <selenium.webdriver.remote.webelement.WebElement (session=\"bf2dfbe9676dabfa5f9b1471b4b66c9d\", element=\"3aa819f6-9710-46c1-b14d-8deffee5dcc6\")>,\n",
       " <selenium.webdriver.remote.webelement.WebElement (session=\"bf2dfbe9676dabfa5f9b1471b4b66c9d\", element=\"c67fd9c1-9398-4067-9b63-b2147701e055\")>,\n",
       " <selenium.webdriver.remote.webelement.WebElement (session=\"bf2dfbe9676dabfa5f9b1471b4b66c9d\", element=\"32112108-229b-4d4c-88b7-788ec12965f0\")>,\n",
       " <selenium.webdriver.remote.webelement.WebElement (session=\"bf2dfbe9676dabfa5f9b1471b4b66c9d\", element=\"8248bfe6-58f6-4d97-ae87-783748981c1a\")>,\n",
       " <selenium.webdriver.remote.webelement.WebElement (session=\"bf2dfbe9676dabfa5f9b1471b4b66c9d\", element=\"f04cc4fd-28a2-4142-823d-f9dac1f8c0ca\")>,\n",
       " <selenium.webdriver.remote.webelement.WebElement (session=\"bf2dfbe9676dabfa5f9b1471b4b66c9d\", element=\"faac929e-e19c-4db1-ad44-210b563f49d3\")>,\n",
       " <selenium.webdriver.remote.webelement.WebElement (session=\"bf2dfbe9676dabfa5f9b1471b4b66c9d\", element=\"ed7eabc6-a5ff-4b45-aa6f-cb25a6939afb\")>,\n",
       " <selenium.webdriver.remote.webelement.WebElement (session=\"bf2dfbe9676dabfa5f9b1471b4b66c9d\", element=\"fe9b5a9d-bc57-4135-9e4b-37bc79978a00\")>,\n",
       " <selenium.webdriver.remote.webelement.WebElement (session=\"bf2dfbe9676dabfa5f9b1471b4b66c9d\", element=\"8820a911-d6ac-4ff2-a8c5-ac38d096f3de\")>,\n",
       " <selenium.webdriver.remote.webelement.WebElement (session=\"bf2dfbe9676dabfa5f9b1471b4b66c9d\", element=\"d5383725-240e-45ba-9566-fffa38ddbeda\")>,\n",
       " <selenium.webdriver.remote.webelement.WebElement (session=\"bf2dfbe9676dabfa5f9b1471b4b66c9d\", element=\"28617245-e15b-4632-8eed-0c2c1c5f7754\")>,\n",
       " <selenium.webdriver.remote.webelement.WebElement (session=\"bf2dfbe9676dabfa5f9b1471b4b66c9d\", element=\"2423c130-2f16-4369-9bb0-f39062683c0d\")>,\n",
       " <selenium.webdriver.remote.webelement.WebElement (session=\"bf2dfbe9676dabfa5f9b1471b4b66c9d\", element=\"7ec74037-29c5-4eb4-b13b-217dabf4c588\")>,\n",
       " <selenium.webdriver.remote.webelement.WebElement (session=\"bf2dfbe9676dabfa5f9b1471b4b66c9d\", element=\"e1af2d37-3496-4f87-929f-bcb9c001178a\")>,\n",
       " <selenium.webdriver.remote.webelement.WebElement (session=\"bf2dfbe9676dabfa5f9b1471b4b66c9d\", element=\"c8ee10d3-3822-4ea9-83e8-d305b2385cdb\")>,\n",
       " <selenium.webdriver.remote.webelement.WebElement (session=\"bf2dfbe9676dabfa5f9b1471b4b66c9d\", element=\"74407d6f-0d27-4784-af0b-13bd6db06051\")>,\n",
       " <selenium.webdriver.remote.webelement.WebElement (session=\"bf2dfbe9676dabfa5f9b1471b4b66c9d\", element=\"e04ee84a-8ec7-47e8-b2bb-5f31735fd575\")>,\n",
       " <selenium.webdriver.remote.webelement.WebElement (session=\"bf2dfbe9676dabfa5f9b1471b4b66c9d\", element=\"11a6f86e-0117-43d5-a210-736dbd5e995f\")>,\n",
       " <selenium.webdriver.remote.webelement.WebElement (session=\"bf2dfbe9676dabfa5f9b1471b4b66c9d\", element=\"1ba1276b-6343-4e4a-b594-1646f6860ac3\")>,\n",
       " <selenium.webdriver.remote.webelement.WebElement (session=\"bf2dfbe9676dabfa5f9b1471b4b66c9d\", element=\"c59eb848-16c9-476b-82b9-402eee229228\")>,\n",
       " <selenium.webdriver.remote.webelement.WebElement (session=\"bf2dfbe9676dabfa5f9b1471b4b66c9d\", element=\"ae8a0798-1ca5-4814-a11c-f738094aa255\")>,\n",
       " <selenium.webdriver.remote.webelement.WebElement (session=\"bf2dfbe9676dabfa5f9b1471b4b66c9d\", element=\"1801ec60-7896-47c9-bdce-7b8078a7f3fc\")>,\n",
       " <selenium.webdriver.remote.webelement.WebElement (session=\"bf2dfbe9676dabfa5f9b1471b4b66c9d\", element=\"651d1c9d-3682-48b0-a658-17011ba627fb\")>,\n",
       " <selenium.webdriver.remote.webelement.WebElement (session=\"bf2dfbe9676dabfa5f9b1471b4b66c9d\", element=\"c943d4ec-e5a7-4084-99db-5807c5323c09\")>,\n",
       " <selenium.webdriver.remote.webelement.WebElement (session=\"bf2dfbe9676dabfa5f9b1471b4b66c9d\", element=\"4a07df6f-f237-4436-b649-c0814019b61b\")>,\n",
       " <selenium.webdriver.remote.webelement.WebElement (session=\"bf2dfbe9676dabfa5f9b1471b4b66c9d\", element=\"082e45e8-2c32-4175-9d51-a16a4560a113\")>,\n",
       " <selenium.webdriver.remote.webelement.WebElement (session=\"bf2dfbe9676dabfa5f9b1471b4b66c9d\", element=\"26e4008e-f378-47a9-bdbb-03b7e2400214\")>,\n",
       " <selenium.webdriver.remote.webelement.WebElement (session=\"bf2dfbe9676dabfa5f9b1471b4b66c9d\", element=\"8ab5f0b5-b0a4-4033-9ef9-112d07c3ce32\")>,\n",
       " <selenium.webdriver.remote.webelement.WebElement (session=\"bf2dfbe9676dabfa5f9b1471b4b66c9d\", element=\"50cf20ae-d03c-4ec9-a78f-3766e14e17c2\")>,\n",
       " <selenium.webdriver.remote.webelement.WebElement (session=\"bf2dfbe9676dabfa5f9b1471b4b66c9d\", element=\"253564ab-3729-4981-9858-439550bdb03d\")>,\n",
       " <selenium.webdriver.remote.webelement.WebElement (session=\"bf2dfbe9676dabfa5f9b1471b4b66c9d\", element=\"b771705a-4286-4a35-b7a6-c4bcc1bddb33\")>,\n",
       " <selenium.webdriver.remote.webelement.WebElement (session=\"bf2dfbe9676dabfa5f9b1471b4b66c9d\", element=\"617c9932-8f02-4dfe-990c-4388147d10fb\")>,\n",
       " <selenium.webdriver.remote.webelement.WebElement (session=\"bf2dfbe9676dabfa5f9b1471b4b66c9d\", element=\"dcd43bb8-2681-46c7-9922-d2d2b23cf262\")>,\n",
       " <selenium.webdriver.remote.webelement.WebElement (session=\"bf2dfbe9676dabfa5f9b1471b4b66c9d\", element=\"6f4e26c4-9445-4e74-830b-3e6a71c5fd6a\")>,\n",
       " <selenium.webdriver.remote.webelement.WebElement (session=\"bf2dfbe9676dabfa5f9b1471b4b66c9d\", element=\"7ee3d7f9-2ab0-4e2c-bbed-995903db6067\")>,\n",
       " <selenium.webdriver.remote.webelement.WebElement (session=\"bf2dfbe9676dabfa5f9b1471b4b66c9d\", element=\"35d15932-f95f-4b0e-a6bb-3a1a0a573575\")>,\n",
       " <selenium.webdriver.remote.webelement.WebElement (session=\"bf2dfbe9676dabfa5f9b1471b4b66c9d\", element=\"29aec860-e421-4d39-bdc4-0e984c019fa3\")>]"
      ]
     },
     "execution_count": 13,
     "metadata": {},
     "output_type": "execute_result"
    }
   ],
   "source": [
    "\n",
    "line4=browser.find_elements(\"xpath\",\"//div[@class='td-wrap-in']\")\n",
    "line4"
   ]
  },
  {
   "cell_type": "code",
   "execution_count": 14,
   "id": "0c1d7a11",
   "metadata": {},
   "outputs": [
    {
     "data": {
      "text/plain": [
       "['86.7', '99.7', '98.1', '47.2', '100', '94.6', '47.6', '98.9', '99.8']"
      ]
     },
     "execution_count": 14,
     "metadata": {},
     "output_type": "execute_result"
    }
   ],
   "source": [
    "#PARSING DATA\n",
    "value=[]\n",
    "for data in line4:\n",
    "    #get the text data\n",
    "    temp=data.text\n",
    "    value.append(temp)\n",
    "value_h=value[11:20]\n",
    "value_h"
   ]
  },
  {
   "cell_type": "code",
   "execution_count": 15,
   "id": "bf0e5725",
   "metadata": {},
   "outputs": [
    {
     "data": {
      "text/plain": [
       "{'Name': 'Columbia University',\n",
       " 'Location': 'New York City, United States',\n",
       " 'Rank': '22',\n",
       " 'Overall Score': '86.7',\n",
       " 'Academic Reputation': '99.7',\n",
       " 'Employer Reputation': '98.1',\n",
       " 'Citations per Faculty': '47.2',\n",
       " 'Faculty Student Ratio': '100',\n",
       " 'International Students Ratio': '94.6',\n",
       " 'International Faculty Ratio': '47.6',\n",
       " 'International Research Network\\nUnweighted': '98.9',\n",
       " 'Employment Outcomes\\nUnweighted': '99.8'}"
      ]
     },
     "execution_count": 15,
     "metadata": {},
     "output_type": "execute_result"
    }
   ],
   "source": [
    "d={}\n",
    "d['Name']=value[10]\n",
    "d['Location']=address[1]\n",
    "d['Rank']=Rank[1]\n",
    "for i in range(len(column)):\n",
    "    d[column[i]]=value_h[i]\n",
    "d"
   ]
  },
  {
   "cell_type": "code",
   "execution_count": 16,
   "id": "4da3c6b2",
   "metadata": {},
   "outputs": [
    {
     "data": {
      "text/plain": [
       "'{\"Name\": \"Columbia University\", \"Location\": \"New York City, United States\", \"Rank\": \"22\", \"Overall Score\": \"86.7\", \"Academic Reputation\": \"99.7\", \"Employer Reputation\": \"98.1\", \"Citations per Faculty\": \"47.2\", \"Faculty Student Ratio\": \"100\", \"International Students Ratio\": \"94.6\", \"International Faculty Ratio\": \"47.6\", \"International Research Network\\\\nUnweighted\": \"98.9\", \"Employment Outcomes\\\\nUnweighted\": \"99.8\"}'"
      ]
     },
     "execution_count": 16,
     "metadata": {},
     "output_type": "execute_result"
    }
   ],
   "source": [
    "s1=json.dumps(d)\n",
    "s1"
   ]
  },
  {
   "cell_type": "code",
   "execution_count": 17,
   "id": "49ad34b2",
   "metadata": {},
   "outputs": [],
   "source": [
    "with open('Columbia University.json','w') as f:\n",
    "    json.dump(d,f)"
   ]
  }
 ],
 "metadata": {
  "kernelspec": {
   "display_name": "Python 3.9.12 ('base')",
   "language": "python",
   "name": "python3"
  },
  "language_info": {
   "codemirror_mode": {
    "name": "ipython",
    "version": 3
   },
   "file_extension": ".py",
   "mimetype": "text/x-python",
   "name": "python",
   "nbconvert_exporter": "python",
   "pygments_lexer": "ipython3",
   "version": "3.9.12"
  },
  "vscode": {
   "interpreter": {
    "hash": "ad2bdc8ecc057115af97d19610ffacc2b4e99fae6737bb82f5d7fb13d2f2c186"
   }
  }
 },
 "nbformat": 4,
 "nbformat_minor": 5
}
