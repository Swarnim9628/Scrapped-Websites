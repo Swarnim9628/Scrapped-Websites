{
 "cells": [
  {
   "cell_type": "code",
   "execution_count": 1,
   "id": "359e26d4",
   "metadata": {},
   "outputs": [],
   "source": [
    "from selenium import webdriver\n",
    "from selenium.webdriver.chrome.service import Service\n",
    "import pandas as pd\n",
    "import json"
   ]
  },
  {
   "cell_type": "code",
   "execution_count": 2,
   "id": "1e0f4638",
   "metadata": {},
   "outputs": [],
   "source": [
    "path = Service('C:\\chromedriver.exe')"
   ]
  },
  {
   "cell_type": "code",
   "execution_count": 3,
   "id": "bd95d759",
   "metadata": {},
   "outputs": [],
   "source": [
    "# set path for the driver\n",
    "browser = webdriver.Chrome(service = path)"
   ]
  },
  {
   "cell_type": "code",
   "execution_count": 4,
   "id": "0f3cf8a6",
   "metadata": {},
   "outputs": [],
   "source": [
    "url = \"https://www.topuniversities.com/university-rankings/world-university-rankings/2023\""
   ]
  },
  {
   "cell_type": "code",
   "execution_count": 5,
   "id": "a511d3f7",
   "metadata": {},
   "outputs": [],
   "source": [
    "# open the page url ion chrome\n",
    "browser.get(url)"
   ]
  },
  {
   "cell_type": "code",
   "execution_count": 6,
   "id": "8b7fc20f",
   "metadata": {},
   "outputs": [
    {
     "data": {
      "text/plain": [
       "[<selenium.webdriver.remote.webelement.WebElement (session=\"fdc7b53910f87679421fa7781f9a10b0\", element=\"dc9308a6-e491-4c50-bca4-c6e69ed64615\")>,\n",
       " <selenium.webdriver.remote.webelement.WebElement (session=\"fdc7b53910f87679421fa7781f9a10b0\", element=\"f22c9fa8-099b-496d-8b15-78311528c5df\")>,\n",
       " <selenium.webdriver.remote.webelement.WebElement (session=\"fdc7b53910f87679421fa7781f9a10b0\", element=\"a6194abd-8dda-4f67-9093-7ba617315cb6\")>,\n",
       " <selenium.webdriver.remote.webelement.WebElement (session=\"fdc7b53910f87679421fa7781f9a10b0\", element=\"51888ba5-dfe1-49e6-b70b-88898f1d7aa3\")>,\n",
       " <selenium.webdriver.remote.webelement.WebElement (session=\"fdc7b53910f87679421fa7781f9a10b0\", element=\"1e0887cc-9922-4f54-8320-fcccfdc9a9e0\")>,\n",
       " <selenium.webdriver.remote.webelement.WebElement (session=\"fdc7b53910f87679421fa7781f9a10b0\", element=\"b857b3a9-e11a-4d8e-a580-edc4b4ee7e07\")>,\n",
       " <selenium.webdriver.remote.webelement.WebElement (session=\"fdc7b53910f87679421fa7781f9a10b0\", element=\"7eacd7c6-4695-4022-b575-160ec7724f35\")>,\n",
       " <selenium.webdriver.remote.webelement.WebElement (session=\"fdc7b53910f87679421fa7781f9a10b0\", element=\"44a42fb4-e0fe-45eb-ba29-d9a740f937d8\")>,\n",
       " <selenium.webdriver.remote.webelement.WebElement (session=\"fdc7b53910f87679421fa7781f9a10b0\", element=\"f532464d-f90f-4538-8d18-7a6437a30fb1\")>,\n",
       " <selenium.webdriver.remote.webelement.WebElement (session=\"fdc7b53910f87679421fa7781f9a10b0\", element=\"0baf28a4-240e-4952-9198-30cba6b5a49b\")>,\n",
       " <selenium.webdriver.remote.webelement.WebElement (session=\"fdc7b53910f87679421fa7781f9a10b0\", element=\"2f8e606b-e7e8-46ec-93e9-ff8b53b9b975\")>,\n",
       " <selenium.webdriver.remote.webelement.WebElement (session=\"fdc7b53910f87679421fa7781f9a10b0\", element=\"0a6226f2-d810-431f-96e5-91a144b3b080\")>,\n",
       " <selenium.webdriver.remote.webelement.WebElement (session=\"fdc7b53910f87679421fa7781f9a10b0\", element=\"3a8737c5-33f0-439d-975d-da25a504499c\")>,\n",
       " <selenium.webdriver.remote.webelement.WebElement (session=\"fdc7b53910f87679421fa7781f9a10b0\", element=\"7860411d-f3e8-401b-95b9-2a16c6730294\")>,\n",
       " <selenium.webdriver.remote.webelement.WebElement (session=\"fdc7b53910f87679421fa7781f9a10b0\", element=\"f2ab0d42-aff9-4422-92cd-e92d5b4ee000\")>,\n",
       " <selenium.webdriver.remote.webelement.WebElement (session=\"fdc7b53910f87679421fa7781f9a10b0\", element=\"9aa4c131-c5ed-4e1c-9536-bc3ffa9f4917\")>,\n",
       " <selenium.webdriver.remote.webelement.WebElement (session=\"fdc7b53910f87679421fa7781f9a10b0\", element=\"5d157742-58bc-45f8-abcd-9d09d9faa6da\")>,\n",
       " <selenium.webdriver.remote.webelement.WebElement (session=\"fdc7b53910f87679421fa7781f9a10b0\", element=\"387994f8-f69f-4b44-b781-64be21900b5d\")>,\n",
       " <selenium.webdriver.remote.webelement.WebElement (session=\"fdc7b53910f87679421fa7781f9a10b0\", element=\"000bebad-790e-4dc8-b6b5-e43a60b9d8a1\")>,\n",
       " <selenium.webdriver.remote.webelement.WebElement (session=\"fdc7b53910f87679421fa7781f9a10b0\", element=\"100fd6af-b2d3-4a1c-ad8e-ed990f159d20\")>]"
      ]
     },
     "execution_count": 6,
     "metadata": {},
     "output_type": "execute_result"
    }
   ],
   "source": [
    "\n",
    "line1=browser.find_elements(\"xpath\",\"//div[@class='location ']\")\n",
    "line1"
   ]
  },
  {
   "cell_type": "code",
   "execution_count": 7,
   "id": "b324b20a",
   "metadata": {},
   "outputs": [
    {
     "data": {
      "text/plain": [
       "[' Hong Kong SAR',\n",
       " 'New York City, United States',\n",
       " 'Tokyo, Japan',\n",
       " 'Baltimore, United States',\n",
       " 'Ann Arbor, United States',\n",
       " 'Paris, France',\n",
       " 'Berkeley, United States',\n",
       " 'Manchester, United Kingdom',\n",
       " 'Seoul, South Korea',\n",
       " 'Canberra, Australia']"
      ]
     },
     "execution_count": 7,
     "metadata": {},
     "output_type": "execute_result"
    }
   ],
   "source": [
    "address=[]\n",
    "for data in line1:\n",
    "    #get the text data\n",
    "    temp=data.text\n",
    "    address.append(temp)\n",
    "address=address[10:]\n",
    "address"
   ]
  },
  {
   "cell_type": "code",
   "execution_count": 8,
   "id": "c88cd4fd",
   "metadata": {},
   "outputs": [
    {
     "data": {
      "text/plain": [
       "[<selenium.webdriver.remote.webelement.WebElement (session=\"fdc7b53910f87679421fa7781f9a10b0\", element=\"b3d33e83-c79a-48a6-9ac1-9522aef2b0d0\")>,\n",
       " <selenium.webdriver.remote.webelement.WebElement (session=\"fdc7b53910f87679421fa7781f9a10b0\", element=\"f7f3ea4c-b217-4e98-992b-3778ef508670\")>,\n",
       " <selenium.webdriver.remote.webelement.WebElement (session=\"fdc7b53910f87679421fa7781f9a10b0\", element=\"aa146f3b-bc88-49ed-89f3-be8c10f75a5c\")>,\n",
       " <selenium.webdriver.remote.webelement.WebElement (session=\"fdc7b53910f87679421fa7781f9a10b0\", element=\"385d4937-09b3-4cf7-afbe-0e86ddf3b69e\")>,\n",
       " <selenium.webdriver.remote.webelement.WebElement (session=\"fdc7b53910f87679421fa7781f9a10b0\", element=\"01bfd62d-c12f-46da-bd96-8e869cd36ccc\")>,\n",
       " <selenium.webdriver.remote.webelement.WebElement (session=\"fdc7b53910f87679421fa7781f9a10b0\", element=\"53234b7c-5d59-45b6-9d6e-7685cb6963d3\")>,\n",
       " <selenium.webdriver.remote.webelement.WebElement (session=\"fdc7b53910f87679421fa7781f9a10b0\", element=\"ecf5a1d8-a93e-4918-a0ec-312d8ff7be5b\")>,\n",
       " <selenium.webdriver.remote.webelement.WebElement (session=\"fdc7b53910f87679421fa7781f9a10b0\", element=\"efcf804f-1669-43f3-88ed-75ecb578b754\")>,\n",
       " <selenium.webdriver.remote.webelement.WebElement (session=\"fdc7b53910f87679421fa7781f9a10b0\", element=\"f54e6fa7-a4fe-44eb-a759-4f9e340bbd69\")>,\n",
       " <selenium.webdriver.remote.webelement.WebElement (session=\"fdc7b53910f87679421fa7781f9a10b0\", element=\"35982dda-fbd5-4a4c-9ecc-9c81da8b3080\")>]"
      ]
     },
     "execution_count": 8,
     "metadata": {},
     "output_type": "execute_result"
    }
   ],
   "source": [
    "\n",
    "line2=browser.find_elements(\"xpath\",\"//div[@class='_univ-rank ']\")\n",
    "line2\n"
   ]
  },
  {
   "cell_type": "code",
   "execution_count": 9,
   "id": "63f6da98",
   "metadata": {},
   "outputs": [
    {
     "data": {
      "text/plain": [
       "['21', '22', '23', '24', '25', '26', '27', '28', '29', '30']"
      ]
     },
     "execution_count": 9,
     "metadata": {},
     "output_type": "execute_result"
    }
   ],
   "source": [
    "Rank=[]\n",
    "for data in line2:\n",
    "    #get the text data\n",
    "    temp=data.text\n",
    "    Rank.append(temp)\n",
    "Rank"
   ]
  },
  {
   "cell_type": "code",
   "execution_count": 10,
   "id": "d52e6ce3",
   "metadata": {},
   "outputs": [
    {
     "data": {
      "text/plain": [
       "[<selenium.webdriver.remote.webelement.WebElement (session=\"fdc7b53910f87679421fa7781f9a10b0\", element=\"3e8c7838-e227-446c-ad9d-fe9c7a962ab3\")>,\n",
       " <selenium.webdriver.remote.webelement.WebElement (session=\"fdc7b53910f87679421fa7781f9a10b0\", element=\"4af7712d-0f60-45ec-8f04-738cb425feee\")>,\n",
       " <selenium.webdriver.remote.webelement.WebElement (session=\"fdc7b53910f87679421fa7781f9a10b0\", element=\"19ad18a2-0486-4131-8402-98d67c6b51e4\")>,\n",
       " <selenium.webdriver.remote.webelement.WebElement (session=\"fdc7b53910f87679421fa7781f9a10b0\", element=\"949a111f-d58c-493e-9b87-cdd948440afb\")>,\n",
       " <selenium.webdriver.remote.webelement.WebElement (session=\"fdc7b53910f87679421fa7781f9a10b0\", element=\"e59200c7-29b1-45ad-953f-b1ff4a2c8c63\")>,\n",
       " <selenium.webdriver.remote.webelement.WebElement (session=\"fdc7b53910f87679421fa7781f9a10b0\", element=\"39490bd3-afd9-4682-9fca-7012341f760e\")>,\n",
       " <selenium.webdriver.remote.webelement.WebElement (session=\"fdc7b53910f87679421fa7781f9a10b0\", element=\"fd53309f-1b44-4e49-bff6-7c11e8d849c1\")>,\n",
       " <selenium.webdriver.remote.webelement.WebElement (session=\"fdc7b53910f87679421fa7781f9a10b0\", element=\"10e4957c-20f8-4c62-b61e-8104be13691c\")>,\n",
       " <selenium.webdriver.remote.webelement.WebElement (session=\"fdc7b53910f87679421fa7781f9a10b0\", element=\"d290c3a1-9a7f-4685-bfc5-48f06b8028b8\")>]"
      ]
     },
     "execution_count": 10,
     "metadata": {},
     "output_type": "execute_result"
    }
   ],
   "source": [
    "# GET EACH COLLEGE SPECIFICATION HEADERS\n",
    "line3=browser.find_elements(\"xpath\",\"//div[@class='_click-function_ind']\")\n",
    "line3"
   ]
  },
  {
   "cell_type": "code",
   "execution_count": 11,
   "id": "06445618",
   "metadata": {},
   "outputs": [
    {
     "data": {
      "text/plain": [
       "['Overall Score',\n",
       " 'Academic Reputation',\n",
       " 'Employer Reputation',\n",
       " 'Citations per Faculty',\n",
       " 'Faculty Student Ratio',\n",
       " 'International Students Ratio',\n",
       " 'International Faculty Ratio',\n",
       " 'International Research Network\\nUnweighted',\n",
       " 'Employment Outcomes\\nUnweighted']"
      ]
     },
     "execution_count": 11,
     "metadata": {},
     "output_type": "execute_result"
    }
   ],
   "source": [
    "#PARSING DATA\n",
    "column=[]\n",
    "for data in line3:\n",
    "    #get the text data\n",
    "    temp=data.text\n",
    "    column.append(temp)\n",
    "column"
   ]
  },
  {
   "cell_type": "code",
   "execution_count": 12,
   "id": "021a72f0",
   "metadata": {},
   "outputs": [
    {
     "data": {
      "text/plain": [
       "[<selenium.webdriver.remote.webelement.WebElement (session=\"fdc7b53910f87679421fa7781f9a10b0\", element=\"d7c67559-1780-46b5-be25-7b77b600d406\")>,\n",
       " <selenium.webdriver.remote.webelement.WebElement (session=\"fdc7b53910f87679421fa7781f9a10b0\", element=\"e28fc16b-cf6a-4bdc-991a-33656092ca17\")>,\n",
       " <selenium.webdriver.remote.webelement.WebElement (session=\"fdc7b53910f87679421fa7781f9a10b0\", element=\"c5f2cee7-4c0b-4d0a-a915-a4abef8465aa\")>,\n",
       " <selenium.webdriver.remote.webelement.WebElement (session=\"fdc7b53910f87679421fa7781f9a10b0\", element=\"80ac69bd-2ff1-474a-b9c0-abf9a5c59ab2\")>,\n",
       " <selenium.webdriver.remote.webelement.WebElement (session=\"fdc7b53910f87679421fa7781f9a10b0\", element=\"af8880ef-63c8-4415-9290-45ae5018fa09\")>,\n",
       " <selenium.webdriver.remote.webelement.WebElement (session=\"fdc7b53910f87679421fa7781f9a10b0\", element=\"73b81b87-6dd9-4edd-b4cb-f0a3efa2b9ec\")>,\n",
       " <selenium.webdriver.remote.webelement.WebElement (session=\"fdc7b53910f87679421fa7781f9a10b0\", element=\"cf0c1475-5f34-4dc8-a888-598a46868289\")>,\n",
       " <selenium.webdriver.remote.webelement.WebElement (session=\"fdc7b53910f87679421fa7781f9a10b0\", element=\"119aec29-40cb-4dad-8fe6-4ea5e1de7762\")>,\n",
       " <selenium.webdriver.remote.webelement.WebElement (session=\"fdc7b53910f87679421fa7781f9a10b0\", element=\"da30b57b-65f5-42bf-8a5f-f5a62bd0768e\")>,\n",
       " <selenium.webdriver.remote.webelement.WebElement (session=\"fdc7b53910f87679421fa7781f9a10b0\", element=\"fbc38d4d-4f0a-4bdb-8aea-197e233a4944\")>,\n",
       " <selenium.webdriver.remote.webelement.WebElement (session=\"fdc7b53910f87679421fa7781f9a10b0\", element=\"846a3d4e-4baa-48c7-8984-67965c16ae1d\")>,\n",
       " <selenium.webdriver.remote.webelement.WebElement (session=\"fdc7b53910f87679421fa7781f9a10b0\", element=\"a62785c7-27f1-4e0d-88e5-761b905832b5\")>,\n",
       " <selenium.webdriver.remote.webelement.WebElement (session=\"fdc7b53910f87679421fa7781f9a10b0\", element=\"c2f0b283-af08-4eca-bdc3-5451bb1c8819\")>,\n",
       " <selenium.webdriver.remote.webelement.WebElement (session=\"fdc7b53910f87679421fa7781f9a10b0\", element=\"3a691b83-2b06-4f31-9609-b0b4467bc809\")>,\n",
       " <selenium.webdriver.remote.webelement.WebElement (session=\"fdc7b53910f87679421fa7781f9a10b0\", element=\"de75ac7e-e24b-47b8-87f7-b2ab5e84446f\")>,\n",
       " <selenium.webdriver.remote.webelement.WebElement (session=\"fdc7b53910f87679421fa7781f9a10b0\", element=\"d808a15e-2ff5-4273-875d-29e1996e5404\")>,\n",
       " <selenium.webdriver.remote.webelement.WebElement (session=\"fdc7b53910f87679421fa7781f9a10b0\", element=\"cafb97ab-c5ed-4bae-8b1a-74072ed4b564\")>,\n",
       " <selenium.webdriver.remote.webelement.WebElement (session=\"fdc7b53910f87679421fa7781f9a10b0\", element=\"9a2b3367-26e1-457e-b454-34d369a11a39\")>,\n",
       " <selenium.webdriver.remote.webelement.WebElement (session=\"fdc7b53910f87679421fa7781f9a10b0\", element=\"a096a32a-a6b4-4e40-b227-763d57e9f534\")>,\n",
       " <selenium.webdriver.remote.webelement.WebElement (session=\"fdc7b53910f87679421fa7781f9a10b0\", element=\"541cd401-601b-4370-a10c-9f59c13509ec\")>,\n",
       " <selenium.webdriver.remote.webelement.WebElement (session=\"fdc7b53910f87679421fa7781f9a10b0\", element=\"7428125b-a066-4f5a-b014-14634f5eeab7\")>,\n",
       " <selenium.webdriver.remote.webelement.WebElement (session=\"fdc7b53910f87679421fa7781f9a10b0\", element=\"e658b505-d88e-4320-9d7f-13c27c2e60d3\")>,\n",
       " <selenium.webdriver.remote.webelement.WebElement (session=\"fdc7b53910f87679421fa7781f9a10b0\", element=\"0a1592fb-621a-4d2d-986e-63b6716a3900\")>,\n",
       " <selenium.webdriver.remote.webelement.WebElement (session=\"fdc7b53910f87679421fa7781f9a10b0\", element=\"d20439f2-f995-4a0d-bb86-04c5fae4098a\")>,\n",
       " <selenium.webdriver.remote.webelement.WebElement (session=\"fdc7b53910f87679421fa7781f9a10b0\", element=\"1297ff8e-164d-4410-b0e9-c04317b31c96\")>,\n",
       " <selenium.webdriver.remote.webelement.WebElement (session=\"fdc7b53910f87679421fa7781f9a10b0\", element=\"9eeb444d-8d99-4d20-9bf2-0e17c6cde6e4\")>,\n",
       " <selenium.webdriver.remote.webelement.WebElement (session=\"fdc7b53910f87679421fa7781f9a10b0\", element=\"4ea33024-d76a-4119-b644-5b4678f0eb3d\")>,\n",
       " <selenium.webdriver.remote.webelement.WebElement (session=\"fdc7b53910f87679421fa7781f9a10b0\", element=\"23464a19-e90e-42ae-9eba-e0311d074148\")>,\n",
       " <selenium.webdriver.remote.webelement.WebElement (session=\"fdc7b53910f87679421fa7781f9a10b0\", element=\"c9e9c696-951d-474e-8c38-03377836e6e5\")>,\n",
       " <selenium.webdriver.remote.webelement.WebElement (session=\"fdc7b53910f87679421fa7781f9a10b0\", element=\"21e8af13-f108-405b-8d33-98e07e6a9b47\")>,\n",
       " <selenium.webdriver.remote.webelement.WebElement (session=\"fdc7b53910f87679421fa7781f9a10b0\", element=\"74b21538-16a4-40ff-92e0-fb341456d55b\")>,\n",
       " <selenium.webdriver.remote.webelement.WebElement (session=\"fdc7b53910f87679421fa7781f9a10b0\", element=\"6e8fb744-823f-4330-81ff-cb9ce79a2948\")>,\n",
       " <selenium.webdriver.remote.webelement.WebElement (session=\"fdc7b53910f87679421fa7781f9a10b0\", element=\"5a5cf684-bbc0-4dfe-b2cf-bd5172c0e45d\")>,\n",
       " <selenium.webdriver.remote.webelement.WebElement (session=\"fdc7b53910f87679421fa7781f9a10b0\", element=\"7dc94779-6c56-454c-b285-d50524d04e92\")>,\n",
       " <selenium.webdriver.remote.webelement.WebElement (session=\"fdc7b53910f87679421fa7781f9a10b0\", element=\"2b842e59-2a14-417d-8afc-d342d7fb7fb8\")>,\n",
       " <selenium.webdriver.remote.webelement.WebElement (session=\"fdc7b53910f87679421fa7781f9a10b0\", element=\"0d1b6ee1-9303-434e-a589-0cba8c604957\")>,\n",
       " <selenium.webdriver.remote.webelement.WebElement (session=\"fdc7b53910f87679421fa7781f9a10b0\", element=\"9855295a-23e0-4c42-8a8a-0eb3f99e41f7\")>,\n",
       " <selenium.webdriver.remote.webelement.WebElement (session=\"fdc7b53910f87679421fa7781f9a10b0\", element=\"db37ca13-3b1a-4c4b-aac3-f12aaf7905d7\")>,\n",
       " <selenium.webdriver.remote.webelement.WebElement (session=\"fdc7b53910f87679421fa7781f9a10b0\", element=\"657f8497-001d-4207-bcaa-f05e51211404\")>,\n",
       " <selenium.webdriver.remote.webelement.WebElement (session=\"fdc7b53910f87679421fa7781f9a10b0\", element=\"5edfafa6-e5d6-4b8b-af38-1ddf640b0542\")>,\n",
       " <selenium.webdriver.remote.webelement.WebElement (session=\"fdc7b53910f87679421fa7781f9a10b0\", element=\"2bb84778-3678-4e1b-ae13-e7db9bd0eeaa\")>,\n",
       " <selenium.webdriver.remote.webelement.WebElement (session=\"fdc7b53910f87679421fa7781f9a10b0\", element=\"a5dd0637-ac5d-4c8b-adc4-12e10bedab85\")>,\n",
       " <selenium.webdriver.remote.webelement.WebElement (session=\"fdc7b53910f87679421fa7781f9a10b0\", element=\"609d3bfd-9a7e-4cac-84d0-412b99beefc9\")>,\n",
       " <selenium.webdriver.remote.webelement.WebElement (session=\"fdc7b53910f87679421fa7781f9a10b0\", element=\"f913b137-87c2-412f-908c-ef41de3e6afb\")>,\n",
       " <selenium.webdriver.remote.webelement.WebElement (session=\"fdc7b53910f87679421fa7781f9a10b0\", element=\"b1ed8ae6-2c98-4e11-a971-250f706b9b10\")>,\n",
       " <selenium.webdriver.remote.webelement.WebElement (session=\"fdc7b53910f87679421fa7781f9a10b0\", element=\"6db543cc-fc89-45ff-a076-a850b34112b4\")>,\n",
       " <selenium.webdriver.remote.webelement.WebElement (session=\"fdc7b53910f87679421fa7781f9a10b0\", element=\"7dcea138-d84f-4923-9476-d891a30186c7\")>,\n",
       " <selenium.webdriver.remote.webelement.WebElement (session=\"fdc7b53910f87679421fa7781f9a10b0\", element=\"aaddf0ab-37dd-4699-a521-49b6e73d4c98\")>,\n",
       " <selenium.webdriver.remote.webelement.WebElement (session=\"fdc7b53910f87679421fa7781f9a10b0\", element=\"529c8c27-440b-40e1-b79f-ca44241ea4e4\")>,\n",
       " <selenium.webdriver.remote.webelement.WebElement (session=\"fdc7b53910f87679421fa7781f9a10b0\", element=\"8bcb9f2a-f49a-4d63-8e0f-9d6649c820fe\")>,\n",
       " <selenium.webdriver.remote.webelement.WebElement (session=\"fdc7b53910f87679421fa7781f9a10b0\", element=\"707d285c-cf8e-436f-b1ef-66673bb9e7f4\")>,\n",
       " <selenium.webdriver.remote.webelement.WebElement (session=\"fdc7b53910f87679421fa7781f9a10b0\", element=\"a1044274-3591-4b2d-9b39-d3858a3a144d\")>,\n",
       " <selenium.webdriver.remote.webelement.WebElement (session=\"fdc7b53910f87679421fa7781f9a10b0\", element=\"ba296030-fe30-4440-a06b-1dd957feb9ed\")>,\n",
       " <selenium.webdriver.remote.webelement.WebElement (session=\"fdc7b53910f87679421fa7781f9a10b0\", element=\"70a94902-3cf5-4423-8345-e03fdb41c035\")>,\n",
       " <selenium.webdriver.remote.webelement.WebElement (session=\"fdc7b53910f87679421fa7781f9a10b0\", element=\"2e3555c8-4212-4e3e-802c-340934421fd3\")>,\n",
       " <selenium.webdriver.remote.webelement.WebElement (session=\"fdc7b53910f87679421fa7781f9a10b0\", element=\"ef7ddd73-8902-41b5-af54-3086c4138dd1\")>,\n",
       " <selenium.webdriver.remote.webelement.WebElement (session=\"fdc7b53910f87679421fa7781f9a10b0\", element=\"072e1d63-81b3-4f7a-a574-3def1f030e17\")>,\n",
       " <selenium.webdriver.remote.webelement.WebElement (session=\"fdc7b53910f87679421fa7781f9a10b0\", element=\"905da491-a418-4233-b971-882ac93c34df\")>,\n",
       " <selenium.webdriver.remote.webelement.WebElement (session=\"fdc7b53910f87679421fa7781f9a10b0\", element=\"48b9f7e2-80aa-47cc-b30a-4253c0fc74c8\")>,\n",
       " <selenium.webdriver.remote.webelement.WebElement (session=\"fdc7b53910f87679421fa7781f9a10b0\", element=\"9fbddb4b-1c3f-4b97-a1ef-ad0cf676057d\")>,\n",
       " <selenium.webdriver.remote.webelement.WebElement (session=\"fdc7b53910f87679421fa7781f9a10b0\", element=\"042cba9f-e7a1-437a-b2d4-b33be482ee94\")>,\n",
       " <selenium.webdriver.remote.webelement.WebElement (session=\"fdc7b53910f87679421fa7781f9a10b0\", element=\"bf7918ad-4aa3-4db1-a3aa-8bd0ed36449f\")>,\n",
       " <selenium.webdriver.remote.webelement.WebElement (session=\"fdc7b53910f87679421fa7781f9a10b0\", element=\"41f6b365-905c-402c-920d-ac19590afc41\")>,\n",
       " <selenium.webdriver.remote.webelement.WebElement (session=\"fdc7b53910f87679421fa7781f9a10b0\", element=\"590a9efe-6e1e-46eb-aa23-ecf52f3180d0\")>,\n",
       " <selenium.webdriver.remote.webelement.WebElement (session=\"fdc7b53910f87679421fa7781f9a10b0\", element=\"e7c8153b-d2f2-49cb-a047-c6e89c07d5c5\")>,\n",
       " <selenium.webdriver.remote.webelement.WebElement (session=\"fdc7b53910f87679421fa7781f9a10b0\", element=\"863a08fe-b6d7-4cd6-ae7f-6b7300aadb8d\")>,\n",
       " <selenium.webdriver.remote.webelement.WebElement (session=\"fdc7b53910f87679421fa7781f9a10b0\", element=\"f155f002-6a41-49bc-ae6f-dac4f08f357b\")>,\n",
       " <selenium.webdriver.remote.webelement.WebElement (session=\"fdc7b53910f87679421fa7781f9a10b0\", element=\"c4723b80-7139-4c62-b128-b35c0328ed50\")>,\n",
       " <selenium.webdriver.remote.webelement.WebElement (session=\"fdc7b53910f87679421fa7781f9a10b0\", element=\"31a180df-fdf2-4163-a9ed-43e955682307\")>,\n",
       " <selenium.webdriver.remote.webelement.WebElement (session=\"fdc7b53910f87679421fa7781f9a10b0\", element=\"b39612b0-bbf6-48c1-9620-dafbb3dbb6a3\")>,\n",
       " <selenium.webdriver.remote.webelement.WebElement (session=\"fdc7b53910f87679421fa7781f9a10b0\", element=\"403d9196-425a-470c-8064-757973004ab0\")>,\n",
       " <selenium.webdriver.remote.webelement.WebElement (session=\"fdc7b53910f87679421fa7781f9a10b0\", element=\"ed24ed04-e38a-445e-9505-e3accfe096ef\")>,\n",
       " <selenium.webdriver.remote.webelement.WebElement (session=\"fdc7b53910f87679421fa7781f9a10b0\", element=\"452a9442-0a98-4fdc-8ea5-fe93fef6288f\")>,\n",
       " <selenium.webdriver.remote.webelement.WebElement (session=\"fdc7b53910f87679421fa7781f9a10b0\", element=\"c887cee0-a505-4ba2-a725-25931930dffe\")>,\n",
       " <selenium.webdriver.remote.webelement.WebElement (session=\"fdc7b53910f87679421fa7781f9a10b0\", element=\"85dd7187-77a5-49b4-8dba-e1ec47a03696\")>,\n",
       " <selenium.webdriver.remote.webelement.WebElement (session=\"fdc7b53910f87679421fa7781f9a10b0\", element=\"a10137be-d1e6-40b2-b99b-358984aaf377\")>,\n",
       " <selenium.webdriver.remote.webelement.WebElement (session=\"fdc7b53910f87679421fa7781f9a10b0\", element=\"a0f651fa-6da0-4e25-b01a-437ccfa17034\")>,\n",
       " <selenium.webdriver.remote.webelement.WebElement (session=\"fdc7b53910f87679421fa7781f9a10b0\", element=\"4cd13df8-54bd-4207-99c8-da56209bf3c9\")>,\n",
       " <selenium.webdriver.remote.webelement.WebElement (session=\"fdc7b53910f87679421fa7781f9a10b0\", element=\"91a1b7b1-5d4e-4db6-9e15-c5ba4f5c3e60\")>,\n",
       " <selenium.webdriver.remote.webelement.WebElement (session=\"fdc7b53910f87679421fa7781f9a10b0\", element=\"b0774545-f5aa-4b98-a5a6-6f8d00172081\")>,\n",
       " <selenium.webdriver.remote.webelement.WebElement (session=\"fdc7b53910f87679421fa7781f9a10b0\", element=\"789aa2d6-3220-4293-9bbc-8be7726c3b55\")>,\n",
       " <selenium.webdriver.remote.webelement.WebElement (session=\"fdc7b53910f87679421fa7781f9a10b0\", element=\"08458c02-a79f-4faf-bcc6-0ccac80c464e\")>,\n",
       " <selenium.webdriver.remote.webelement.WebElement (session=\"fdc7b53910f87679421fa7781f9a10b0\", element=\"0e62e9df-07b8-41ad-815f-bf596a237bcb\")>,\n",
       " <selenium.webdriver.remote.webelement.WebElement (session=\"fdc7b53910f87679421fa7781f9a10b0\", element=\"b78a0b32-34df-4ddc-9f1f-5af514b91142\")>,\n",
       " <selenium.webdriver.remote.webelement.WebElement (session=\"fdc7b53910f87679421fa7781f9a10b0\", element=\"dcde2454-b63a-41d2-87de-0482f28b70ff\")>,\n",
       " <selenium.webdriver.remote.webelement.WebElement (session=\"fdc7b53910f87679421fa7781f9a10b0\", element=\"187e295e-8ac3-4143-be11-3fb0d75a4806\")>,\n",
       " <selenium.webdriver.remote.webelement.WebElement (session=\"fdc7b53910f87679421fa7781f9a10b0\", element=\"8e3f29b8-167e-412d-ab6d-094ea23e91dd\")>,\n",
       " <selenium.webdriver.remote.webelement.WebElement (session=\"fdc7b53910f87679421fa7781f9a10b0\", element=\"a6f2926e-5339-459a-a2c7-5c713251e57e\")>,\n",
       " <selenium.webdriver.remote.webelement.WebElement (session=\"fdc7b53910f87679421fa7781f9a10b0\", element=\"0ab32b46-efeb-41c3-9d50-ecef7d5c211d\")>,\n",
       " <selenium.webdriver.remote.webelement.WebElement (session=\"fdc7b53910f87679421fa7781f9a10b0\", element=\"1dbd2ba9-faf8-4a97-a847-3ff62ef77928\")>,\n",
       " <selenium.webdriver.remote.webelement.WebElement (session=\"fdc7b53910f87679421fa7781f9a10b0\", element=\"874c936a-40f5-49c6-a8ce-a2b9db07370e\")>,\n",
       " <selenium.webdriver.remote.webelement.WebElement (session=\"fdc7b53910f87679421fa7781f9a10b0\", element=\"11000242-fc25-46d2-aef6-bcbdd212ff80\")>,\n",
       " <selenium.webdriver.remote.webelement.WebElement (session=\"fdc7b53910f87679421fa7781f9a10b0\", element=\"14c2c493-6d8e-4e00-ac79-e8c1695a9806\")>,\n",
       " <selenium.webdriver.remote.webelement.WebElement (session=\"fdc7b53910f87679421fa7781f9a10b0\", element=\"6c85c5f3-4a88-4da8-ad53-05cd386611bc\")>,\n",
       " <selenium.webdriver.remote.webelement.WebElement (session=\"fdc7b53910f87679421fa7781f9a10b0\", element=\"41e20b08-9a32-45fa-a18f-770c1095775d\")>,\n",
       " <selenium.webdriver.remote.webelement.WebElement (session=\"fdc7b53910f87679421fa7781f9a10b0\", element=\"df3dcae3-56d1-4bbb-bd61-bcb10e0c1dfb\")>,\n",
       " <selenium.webdriver.remote.webelement.WebElement (session=\"fdc7b53910f87679421fa7781f9a10b0\", element=\"bde3b24c-90ad-4115-9874-51e5ddb7ea94\")>,\n",
       " <selenium.webdriver.remote.webelement.WebElement (session=\"fdc7b53910f87679421fa7781f9a10b0\", element=\"38da6027-a199-4e86-879d-5759d502566b\")>,\n",
       " <selenium.webdriver.remote.webelement.WebElement (session=\"fdc7b53910f87679421fa7781f9a10b0\", element=\"394585f0-56b4-446d-ba6f-c29c305e90bf\")>,\n",
       " <selenium.webdriver.remote.webelement.WebElement (session=\"fdc7b53910f87679421fa7781f9a10b0\", element=\"0105a1bb-da9b-4eec-8754-3814cacf18b9\")>]"
      ]
     },
     "execution_count": 12,
     "metadata": {},
     "output_type": "execute_result"
    }
   ],
   "source": [
    "line4=browser.find_elements(\"xpath\",\"//div[@class='td-wrap-in']\")\n",
    "line4"
   ]
  },
  {
   "cell_type": "code",
   "execution_count": 13,
   "id": "532f635c",
   "metadata": {},
   "outputs": [
    {
     "data": {
      "text/plain": [
       "['86.7', '99.7', '98.1', '47.2', '100', '94.6', '47.6', '98.9', '99.8']"
      ]
     },
     "execution_count": 13,
     "metadata": {},
     "output_type": "execute_result"
    }
   ],
   "source": [
    "#PARSING DATA\n",
    "value=[]\n",
    "for data in line4:\n",
    "    #get the text data\n",
    "    temp=data.text\n",
    "    value.append(temp)\n",
    "value_h=value[11:20]\n",
    "value_h"
   ]
  },
  {
   "cell_type": "code",
   "execution_count": 14,
   "id": "02a3c39c",
   "metadata": {},
   "outputs": [
    {
     "data": {
      "text/plain": [
       "{'Name': 'Columbia University',\n",
       " 'Location': 'New York City, United States',\n",
       " 'Rank': '22',\n",
       " 'Overall Score': '86.7',\n",
       " 'Academic Reputation': '99.7',\n",
       " 'Employer Reputation': '98.1',\n",
       " 'Citations per Faculty': '47.2',\n",
       " 'Faculty Student Ratio': '100',\n",
       " 'International Students Ratio': '94.6',\n",
       " 'International Faculty Ratio': '47.6',\n",
       " 'International Research Network\\nUnweighted': '98.9',\n",
       " 'Employment Outcomes\\nUnweighted': '99.8'}"
      ]
     },
     "execution_count": 14,
     "metadata": {},
     "output_type": "execute_result"
    }
   ],
   "source": [
    "d={}\n",
    "d['Name']=value[10]\n",
    "d['Location']=address[1]\n",
    "d['Rank']=Rank[1]\n",
    "for i in range(len(column)):\n",
    "    d[column[i]]=value_h[i]\n",
    "d"
   ]
  },
  {
   "cell_type": "code",
   "execution_count": 15,
   "id": "27118e25",
   "metadata": {},
   "outputs": [
    {
     "data": {
      "text/plain": [
       "'{\"Name\": \"Columbia University\", \"Location\": \"New York City, United States\", \"Rank\": \"22\", \"Overall Score\": \"86.7\", \"Academic Reputation\": \"99.7\", \"Employer Reputation\": \"98.1\", \"Citations per Faculty\": \"47.2\", \"Faculty Student Ratio\": \"100\", \"International Students Ratio\": \"94.6\", \"International Faculty Ratio\": \"47.6\", \"International Research Network\\\\nUnweighted\": \"98.9\", \"Employment Outcomes\\\\nUnweighted\": \"99.8\"}'"
      ]
     },
     "execution_count": 15,
     "metadata": {},
     "output_type": "execute_result"
    }
   ],
   "source": [
    "s1=json.dumps(d)\n",
    "s1"
   ]
  },
  {
   "cell_type": "code",
   "execution_count": 16,
   "id": "bb674492",
   "metadata": {},
   "outputs": [],
   "source": [
    "with open('Columbia University.json','w') as f:\n",
    "    json.dump(d,f)"
   ]
  },
  {
   "cell_type": "code",
   "execution_count": null,
   "id": "bd560665",
   "metadata": {},
   "outputs": [],
   "source": []
  }
 ],
 "metadata": {
  "kernelspec": {
   "display_name": "Python 3.9.12 ('base')",
   "language": "python",
   "name": "python3"
  },
  "language_info": {
   "codemirror_mode": {
    "name": "ipython",
    "version": 3
   },
   "file_extension": ".py",
   "mimetype": "text/x-python",
   "name": "python",
   "nbconvert_exporter": "python",
   "pygments_lexer": "ipython3",
   "version": "3.9.12"
  },
  "vscode": {
   "interpreter": {
    "hash": "ad2bdc8ecc057115af97d19610ffacc2b4e99fae6737bb82f5d7fb13d2f2c186"
   }
  }
 },
 "nbformat": 4,
 "nbformat_minor": 5
}
