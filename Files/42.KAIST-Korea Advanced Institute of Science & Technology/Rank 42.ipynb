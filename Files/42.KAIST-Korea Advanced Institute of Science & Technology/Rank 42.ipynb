{
 "cells": [
  {
   "cell_type": "code",
   "execution_count": 1,
   "id": "33fac146",
   "metadata": {},
   "outputs": [],
   "source": [
    "from selenium import webdriver\n",
    "from selenium.webdriver.chrome.service import Service\n",
    "import pandas as pd\n",
    "import json"
   ]
  },
  {
   "cell_type": "code",
   "execution_count": 2,
   "id": "20e77adf",
   "metadata": {},
   "outputs": [],
   "source": [
    "path = Service('C:\\chromedriver.exe')"
   ]
  },
  {
   "cell_type": "code",
   "execution_count": 3,
   "id": "3ac9f0b7",
   "metadata": {},
   "outputs": [],
   "source": [
    "# set path for the driver\n",
    "browser = webdriver.Chrome(service = path)"
   ]
  },
  {
   "cell_type": "code",
   "execution_count": 4,
   "id": "9bd8d1d7",
   "metadata": {},
   "outputs": [],
   "source": [
    "url = \"https://www.topuniversities.com/university-rankings/world-university-rankings/2023\""
   ]
  },
  {
   "cell_type": "code",
   "execution_count": 5,
   "id": "d1b8e448",
   "metadata": {},
   "outputs": [],
   "source": [
    "\n",
    "# open the page url ion chrome\n",
    "browser.get(url)"
   ]
  },
  {
   "cell_type": "code",
   "execution_count": 6,
   "id": "cdbbc58c",
   "metadata": {},
   "outputs": [
    {
     "data": {
      "text/plain": [
       "[<selenium.webdriver.remote.webelement.WebElement (session=\"1d05de0783eca924e4570f4e8e94cab8\", element=\"561d4c02-9902-4ba9-82a3-540d9fdb3604\")>,\n",
       " <selenium.webdriver.remote.webelement.WebElement (session=\"1d05de0783eca924e4570f4e8e94cab8\", element=\"792e4cbc-2d5a-47d8-8ee3-2e28d87fbbd4\")>,\n",
       " <selenium.webdriver.remote.webelement.WebElement (session=\"1d05de0783eca924e4570f4e8e94cab8\", element=\"fdfea9dc-1f7a-491e-8e04-c099589abc93\")>,\n",
       " <selenium.webdriver.remote.webelement.WebElement (session=\"1d05de0783eca924e4570f4e8e94cab8\", element=\"791bfcab-ea84-4eb7-81f7-e95d95309f95\")>,\n",
       " <selenium.webdriver.remote.webelement.WebElement (session=\"1d05de0783eca924e4570f4e8e94cab8\", element=\"f558d224-6d9b-436c-adc8-77cb265f3b3c\")>,\n",
       " <selenium.webdriver.remote.webelement.WebElement (session=\"1d05de0783eca924e4570f4e8e94cab8\", element=\"b67cef21-7483-40ef-8095-6516838ebf59\")>,\n",
       " <selenium.webdriver.remote.webelement.WebElement (session=\"1d05de0783eca924e4570f4e8e94cab8\", element=\"edfedf1e-69ad-4e5d-82c9-3e2675a9d8d6\")>,\n",
       " <selenium.webdriver.remote.webelement.WebElement (session=\"1d05de0783eca924e4570f4e8e94cab8\", element=\"53c64bc1-2940-4d1e-899d-40338f9c7c17\")>,\n",
       " <selenium.webdriver.remote.webelement.WebElement (session=\"1d05de0783eca924e4570f4e8e94cab8\", element=\"6727898d-6886-4953-a2ae-da947352e734\")>,\n",
       " <selenium.webdriver.remote.webelement.WebElement (session=\"1d05de0783eca924e4570f4e8e94cab8\", element=\"b726ead6-8a8a-4a1e-bea8-938900d2dc2c\")>,\n",
       " <selenium.webdriver.remote.webelement.WebElement (session=\"1d05de0783eca924e4570f4e8e94cab8\", element=\"af84a68b-c596-47dd-acc3-d542b0d5cf06\")>,\n",
       " <selenium.webdriver.remote.webelement.WebElement (session=\"1d05de0783eca924e4570f4e8e94cab8\", element=\"622fa901-a9d2-440c-810a-80c9553278d4\")>,\n",
       " <selenium.webdriver.remote.webelement.WebElement (session=\"1d05de0783eca924e4570f4e8e94cab8\", element=\"6cccc6fd-3f07-4f2c-ad0e-4b0544405890\")>,\n",
       " <selenium.webdriver.remote.webelement.WebElement (session=\"1d05de0783eca924e4570f4e8e94cab8\", element=\"a58fbeb9-82f7-49df-bf76-3c3e2597d2b0\")>,\n",
       " <selenium.webdriver.remote.webelement.WebElement (session=\"1d05de0783eca924e4570f4e8e94cab8\", element=\"f59e193d-fe1f-48c4-a106-599f8144927c\")>,\n",
       " <selenium.webdriver.remote.webelement.WebElement (session=\"1d05de0783eca924e4570f4e8e94cab8\", element=\"9a61b5e8-90b0-40e6-88f0-43c81e6c4cca\")>,\n",
       " <selenium.webdriver.remote.webelement.WebElement (session=\"1d05de0783eca924e4570f4e8e94cab8\", element=\"2e963d5e-1a72-4ef7-bd91-5fde4df1e683\")>,\n",
       " <selenium.webdriver.remote.webelement.WebElement (session=\"1d05de0783eca924e4570f4e8e94cab8\", element=\"47e58af4-bc9f-4d4b-a75b-6e47e8021b63\")>,\n",
       " <selenium.webdriver.remote.webelement.WebElement (session=\"1d05de0783eca924e4570f4e8e94cab8\", element=\"45846368-bf1c-41cd-b65b-b5af4b0a3315\")>,\n",
       " <selenium.webdriver.remote.webelement.WebElement (session=\"1d05de0783eca924e4570f4e8e94cab8\", element=\"bf829667-23c8-42be-8737-f02c3529acc2\")>]"
      ]
     },
     "execution_count": 6,
     "metadata": {},
     "output_type": "execute_result"
    }
   ],
   "source": [
    "line1=browser.find_elements(\"xpath\",\"//div[@class='location ']\")\n",
    "line1"
   ]
  },
  {
   "cell_type": "code",
   "execution_count": 7,
   "id": "e632631b",
   "metadata": {},
   "outputs": [
    {
     "data": {
      "text/plain": [
       "['Sydney, Australia',\n",
       " 'Daejeon, South Korea',\n",
       " 'Hangzhou, China (Mainland)',\n",
       " 'Los Angeles, United States',\n",
       " 'Sydney, Australia',\n",
       " 'Shanghai, China (Mainland)',\n",
       " 'Vancouver, Canada',\n",
       " 'Palaiseau Cedex, France',\n",
       " 'Munich, Germany',\n",
       " 'Durham, United States']"
      ]
     },
     "execution_count": 7,
     "metadata": {},
     "output_type": "execute_result"
    }
   ],
   "source": [
    "address=[]\n",
    "for data in line1:\n",
    "    #get the text data\n",
    "    temp=data.text\n",
    "    address.append(temp)\n",
    "address=address[10:]\n",
    "address"
   ]
  },
  {
   "cell_type": "code",
   "execution_count": 8,
   "id": "dd13fd8b",
   "metadata": {},
   "outputs": [
    {
     "data": {
      "text/plain": [
       "[<selenium.webdriver.remote.webelement.WebElement (session=\"1d05de0783eca924e4570f4e8e94cab8\", element=\"0b0620d5-17f4-4c24-9336-1629bd5dc95f\")>,\n",
       " <selenium.webdriver.remote.webelement.WebElement (session=\"1d05de0783eca924e4570f4e8e94cab8\", element=\"b6ff0306-cdfe-499d-9117-fe934751f4ec\")>,\n",
       " <selenium.webdriver.remote.webelement.WebElement (session=\"1d05de0783eca924e4570f4e8e94cab8\", element=\"9362bc28-3694-4ebf-b2a7-cb578133d4c7\")>,\n",
       " <selenium.webdriver.remote.webelement.WebElement (session=\"1d05de0783eca924e4570f4e8e94cab8\", element=\"a6062090-f0ce-4710-8e04-94339a62842a\")>,\n",
       " <selenium.webdriver.remote.webelement.WebElement (session=\"1d05de0783eca924e4570f4e8e94cab8\", element=\"bf2e07b1-056e-48a1-a083-88860c8de136\")>,\n",
       " <selenium.webdriver.remote.webelement.WebElement (session=\"1d05de0783eca924e4570f4e8e94cab8\", element=\"43ca473f-65eb-4a6f-9de5-b849f2811e3b\")>,\n",
       " <selenium.webdriver.remote.webelement.WebElement (session=\"1d05de0783eca924e4570f4e8e94cab8\", element=\"962c98ed-c438-485c-b2dc-8a002922b5c1\")>,\n",
       " <selenium.webdriver.remote.webelement.WebElement (session=\"1d05de0783eca924e4570f4e8e94cab8\", element=\"4b76cc2a-8eda-4a32-ad08-1020477025cf\")>,\n",
       " <selenium.webdriver.remote.webelement.WebElement (session=\"1d05de0783eca924e4570f4e8e94cab8\", element=\"396c656a-21e6-4075-91ad-927a9ad18a6d\")>,\n",
       " <selenium.webdriver.remote.webelement.WebElement (session=\"1d05de0783eca924e4570f4e8e94cab8\", element=\"8ef5a6bf-3469-4335-8d8c-2a626614c5a1\")>]"
      ]
     },
     "execution_count": 8,
     "metadata": {},
     "output_type": "execute_result"
    }
   ],
   "source": [
    "line2=browser.find_elements(\"xpath\",\"//div[@class='_univ-rank ']\")\n",
    "line2"
   ]
  },
  {
   "cell_type": "code",
   "execution_count": 9,
   "id": "b5480834",
   "metadata": {},
   "outputs": [
    {
     "data": {
      "text/plain": [
       "['41', '=42', '=42', '44', '45', '46', '47', '48', '49', '=50']"
      ]
     },
     "execution_count": 9,
     "metadata": {},
     "output_type": "execute_result"
    }
   ],
   "source": [
    "Rank=[]\n",
    "for data in line2:\n",
    "    #get the text data\n",
    "    temp=data.text\n",
    "    Rank.append(temp)\n",
    "Rank"
   ]
  },
  {
   "cell_type": "code",
   "execution_count": 10,
   "id": "8bc45558",
   "metadata": {},
   "outputs": [
    {
     "data": {
      "text/plain": [
       "[<selenium.webdriver.remote.webelement.WebElement (session=\"1d05de0783eca924e4570f4e8e94cab8\", element=\"e41fe456-f778-4775-8250-a75730cb2107\")>,\n",
       " <selenium.webdriver.remote.webelement.WebElement (session=\"1d05de0783eca924e4570f4e8e94cab8\", element=\"bf0c9782-4b19-4a52-82aa-3f7b0a4a385a\")>,\n",
       " <selenium.webdriver.remote.webelement.WebElement (session=\"1d05de0783eca924e4570f4e8e94cab8\", element=\"d5a39fff-2d89-4783-876e-c59667431359\")>,\n",
       " <selenium.webdriver.remote.webelement.WebElement (session=\"1d05de0783eca924e4570f4e8e94cab8\", element=\"7ed2b999-cbb2-4605-b086-f37d04cefdee\")>,\n",
       " <selenium.webdriver.remote.webelement.WebElement (session=\"1d05de0783eca924e4570f4e8e94cab8\", element=\"f14c2e2e-f959-421f-b6ab-0e29f3ca0765\")>,\n",
       " <selenium.webdriver.remote.webelement.WebElement (session=\"1d05de0783eca924e4570f4e8e94cab8\", element=\"051138d8-c0bf-4fe2-8f7c-26fb6d91933e\")>,\n",
       " <selenium.webdriver.remote.webelement.WebElement (session=\"1d05de0783eca924e4570f4e8e94cab8\", element=\"4ac87fa6-682c-4129-8956-aff2ab0e361f\")>,\n",
       " <selenium.webdriver.remote.webelement.WebElement (session=\"1d05de0783eca924e4570f4e8e94cab8\", element=\"ece3fb2a-c860-4f82-baaf-4edfd13f9092\")>,\n",
       " <selenium.webdriver.remote.webelement.WebElement (session=\"1d05de0783eca924e4570f4e8e94cab8\", element=\"cbbd39ca-29a7-401a-a774-56f4c06b1838\")>]"
      ]
     },
     "execution_count": 10,
     "metadata": {},
     "output_type": "execute_result"
    }
   ],
   "source": [
    "# GET EACH COLLEGE SPECIFICATION HEADERS\n",
    "line3=browser.find_elements(\"xpath\",\"//div[@class='_click-function_ind']\")\n",
    "line3"
   ]
  },
  {
   "cell_type": "code",
   "execution_count": 11,
   "id": "e0849681",
   "metadata": {},
   "outputs": [
    {
     "data": {
      "text/plain": [
       "['Overall Score',\n",
       " 'Academic Reputation',\n",
       " 'Employer Reputation',\n",
       " 'Citations per Faculty',\n",
       " 'Faculty Student Ratio',\n",
       " 'International Students Ratio',\n",
       " 'International Faculty Ratio',\n",
       " 'International Research Network\\nUnweighted',\n",
       " 'Employment Outcomes\\nUnweighted']"
      ]
     },
     "execution_count": 11,
     "metadata": {},
     "output_type": "execute_result"
    }
   ],
   "source": [
    "\n",
    "#PARSING DATA\n",
    "column=[]\n",
    "for data in line3:\n",
    "    #get the text data\n",
    "    temp=data.text\n",
    "    column.append(temp)\n",
    "column"
   ]
  },
  {
   "cell_type": "code",
   "execution_count": 12,
   "id": "8f7bea8c",
   "metadata": {},
   "outputs": [
    {
     "data": {
      "text/plain": [
       "[<selenium.webdriver.remote.webelement.WebElement (session=\"1d05de0783eca924e4570f4e8e94cab8\", element=\"3a5ce852-22f3-47ed-9914-f36935d403d4\")>,\n",
       " <selenium.webdriver.remote.webelement.WebElement (session=\"1d05de0783eca924e4570f4e8e94cab8\", element=\"f012dccb-3d0c-4d96-80fe-b7ae4b40e1ab\")>,\n",
       " <selenium.webdriver.remote.webelement.WebElement (session=\"1d05de0783eca924e4570f4e8e94cab8\", element=\"d4149ac3-738e-49de-b7be-678b12d7cb00\")>,\n",
       " <selenium.webdriver.remote.webelement.WebElement (session=\"1d05de0783eca924e4570f4e8e94cab8\", element=\"fca64373-478d-43cf-9b72-baf949aa1075\")>,\n",
       " <selenium.webdriver.remote.webelement.WebElement (session=\"1d05de0783eca924e4570f4e8e94cab8\", element=\"b6e50795-6e53-41ab-ad9f-845c3980fffe\")>,\n",
       " <selenium.webdriver.remote.webelement.WebElement (session=\"1d05de0783eca924e4570f4e8e94cab8\", element=\"f6746321-9693-41a3-b89e-0a86a24a47f5\")>,\n",
       " <selenium.webdriver.remote.webelement.WebElement (session=\"1d05de0783eca924e4570f4e8e94cab8\", element=\"a052362d-6f08-4f9d-aa9f-431a07877a49\")>,\n",
       " <selenium.webdriver.remote.webelement.WebElement (session=\"1d05de0783eca924e4570f4e8e94cab8\", element=\"ce211ce5-a549-4b42-8303-c1f9200e9216\")>,\n",
       " <selenium.webdriver.remote.webelement.WebElement (session=\"1d05de0783eca924e4570f4e8e94cab8\", element=\"96cccc68-b80b-4dc7-8115-9faa0fd4f6ae\")>,\n",
       " <selenium.webdriver.remote.webelement.WebElement (session=\"1d05de0783eca924e4570f4e8e94cab8\", element=\"c4a224b9-fa30-4b9e-ae68-7e9dfb97dcc1\")>,\n",
       " <selenium.webdriver.remote.webelement.WebElement (session=\"1d05de0783eca924e4570f4e8e94cab8\", element=\"c3f482ef-7205-4e86-8514-a00e88a88c0a\")>,\n",
       " <selenium.webdriver.remote.webelement.WebElement (session=\"1d05de0783eca924e4570f4e8e94cab8\", element=\"8eee4de5-fbd0-4eba-a94e-cc62021080dd\")>,\n",
       " <selenium.webdriver.remote.webelement.WebElement (session=\"1d05de0783eca924e4570f4e8e94cab8\", element=\"53b301a5-8e6e-42f8-9e18-443522fa8c38\")>,\n",
       " <selenium.webdriver.remote.webelement.WebElement (session=\"1d05de0783eca924e4570f4e8e94cab8\", element=\"0f05a8f6-5f87-4e83-9a43-8dcea26eb0d6\")>,\n",
       " <selenium.webdriver.remote.webelement.WebElement (session=\"1d05de0783eca924e4570f4e8e94cab8\", element=\"f5283504-535e-4d1a-9316-8c2d8409fd96\")>,\n",
       " <selenium.webdriver.remote.webelement.WebElement (session=\"1d05de0783eca924e4570f4e8e94cab8\", element=\"b45d2996-7cd4-4797-b15a-9cae0afe6043\")>,\n",
       " <selenium.webdriver.remote.webelement.WebElement (session=\"1d05de0783eca924e4570f4e8e94cab8\", element=\"0dc50e8f-99f0-4b34-bb84-58e22e3afe8d\")>,\n",
       " <selenium.webdriver.remote.webelement.WebElement (session=\"1d05de0783eca924e4570f4e8e94cab8\", element=\"40474bed-9f50-4c89-b6a9-e33ec9bee868\")>,\n",
       " <selenium.webdriver.remote.webelement.WebElement (session=\"1d05de0783eca924e4570f4e8e94cab8\", element=\"2b7eedf4-9fbd-4050-9039-76969d6a7971\")>,\n",
       " <selenium.webdriver.remote.webelement.WebElement (session=\"1d05de0783eca924e4570f4e8e94cab8\", element=\"42379bdc-f4ce-4ecb-8f00-f002c112de23\")>,\n",
       " <selenium.webdriver.remote.webelement.WebElement (session=\"1d05de0783eca924e4570f4e8e94cab8\", element=\"cef09892-b226-478a-81db-6277c36cfd6d\")>,\n",
       " <selenium.webdriver.remote.webelement.WebElement (session=\"1d05de0783eca924e4570f4e8e94cab8\", element=\"634bdcbd-bdd0-4a74-87dd-17822e99327c\")>,\n",
       " <selenium.webdriver.remote.webelement.WebElement (session=\"1d05de0783eca924e4570f4e8e94cab8\", element=\"4d19706d-597e-433b-81cb-ce452a854c41\")>,\n",
       " <selenium.webdriver.remote.webelement.WebElement (session=\"1d05de0783eca924e4570f4e8e94cab8\", element=\"7a63c743-72de-479c-831f-0db3daf7931e\")>,\n",
       " <selenium.webdriver.remote.webelement.WebElement (session=\"1d05de0783eca924e4570f4e8e94cab8\", element=\"3d956dd9-ef9b-42a3-b82a-99ac75188071\")>,\n",
       " <selenium.webdriver.remote.webelement.WebElement (session=\"1d05de0783eca924e4570f4e8e94cab8\", element=\"3589a503-006f-45d6-8696-b41bc737919f\")>,\n",
       " <selenium.webdriver.remote.webelement.WebElement (session=\"1d05de0783eca924e4570f4e8e94cab8\", element=\"124fcdf1-49aa-4486-a110-a73bcfdf85b7\")>,\n",
       " <selenium.webdriver.remote.webelement.WebElement (session=\"1d05de0783eca924e4570f4e8e94cab8\", element=\"42e27170-2a90-41f1-b2b9-644d428fabb3\")>,\n",
       " <selenium.webdriver.remote.webelement.WebElement (session=\"1d05de0783eca924e4570f4e8e94cab8\", element=\"af6c74ca-8f3a-4e62-8b0e-844cefa74326\")>,\n",
       " <selenium.webdriver.remote.webelement.WebElement (session=\"1d05de0783eca924e4570f4e8e94cab8\", element=\"5547a377-5c76-410e-9dcd-69aef4392b26\")>,\n",
       " <selenium.webdriver.remote.webelement.WebElement (session=\"1d05de0783eca924e4570f4e8e94cab8\", element=\"2b7dd989-3452-406c-b20f-0ddadbbecc62\")>,\n",
       " <selenium.webdriver.remote.webelement.WebElement (session=\"1d05de0783eca924e4570f4e8e94cab8\", element=\"567e07d9-7623-45b1-a9b2-35e1c8527a81\")>,\n",
       " <selenium.webdriver.remote.webelement.WebElement (session=\"1d05de0783eca924e4570f4e8e94cab8\", element=\"21e73b68-91d7-4d1f-91a6-69fce49877d4\")>,\n",
       " <selenium.webdriver.remote.webelement.WebElement (session=\"1d05de0783eca924e4570f4e8e94cab8\", element=\"a2ea32e1-e3d4-46b4-b77e-391c605ba5dc\")>,\n",
       " <selenium.webdriver.remote.webelement.WebElement (session=\"1d05de0783eca924e4570f4e8e94cab8\", element=\"4c10178e-a515-4504-b809-e8366cf45bba\")>,\n",
       " <selenium.webdriver.remote.webelement.WebElement (session=\"1d05de0783eca924e4570f4e8e94cab8\", element=\"0e28fc65-0307-47ff-896c-a738068e8fce\")>,\n",
       " <selenium.webdriver.remote.webelement.WebElement (session=\"1d05de0783eca924e4570f4e8e94cab8\", element=\"2dacae24-7f85-4be3-9b1c-db01e2aaa93a\")>,\n",
       " <selenium.webdriver.remote.webelement.WebElement (session=\"1d05de0783eca924e4570f4e8e94cab8\", element=\"27719178-af7c-4673-8c3e-2c39a482daab\")>,\n",
       " <selenium.webdriver.remote.webelement.WebElement (session=\"1d05de0783eca924e4570f4e8e94cab8\", element=\"af9e6673-e808-4a6d-a0f3-71461eb2bfcb\")>,\n",
       " <selenium.webdriver.remote.webelement.WebElement (session=\"1d05de0783eca924e4570f4e8e94cab8\", element=\"37dadd52-24af-4773-a659-5f0d035d6453\")>,\n",
       " <selenium.webdriver.remote.webelement.WebElement (session=\"1d05de0783eca924e4570f4e8e94cab8\", element=\"54d51853-85f1-452c-9a60-226d35f7ad06\")>,\n",
       " <selenium.webdriver.remote.webelement.WebElement (session=\"1d05de0783eca924e4570f4e8e94cab8\", element=\"0892f187-b8f0-442f-beeb-9e36fbbbdfc7\")>,\n",
       " <selenium.webdriver.remote.webelement.WebElement (session=\"1d05de0783eca924e4570f4e8e94cab8\", element=\"f228eea5-7420-4241-abe1-a1f6eb319e32\")>,\n",
       " <selenium.webdriver.remote.webelement.WebElement (session=\"1d05de0783eca924e4570f4e8e94cab8\", element=\"3cf21720-6c27-4ebd-b71b-09e76f509a47\")>,\n",
       " <selenium.webdriver.remote.webelement.WebElement (session=\"1d05de0783eca924e4570f4e8e94cab8\", element=\"8e2eff56-924f-4376-8cdc-2362a8d038c0\")>,\n",
       " <selenium.webdriver.remote.webelement.WebElement (session=\"1d05de0783eca924e4570f4e8e94cab8\", element=\"f1d672d4-e587-4a9d-940a-fd0502ad53cd\")>,\n",
       " <selenium.webdriver.remote.webelement.WebElement (session=\"1d05de0783eca924e4570f4e8e94cab8\", element=\"75c6428a-0b13-46c3-bfaa-c7b03b19d96a\")>,\n",
       " <selenium.webdriver.remote.webelement.WebElement (session=\"1d05de0783eca924e4570f4e8e94cab8\", element=\"1898c563-9365-424d-ae9c-de348335b345\")>,\n",
       " <selenium.webdriver.remote.webelement.WebElement (session=\"1d05de0783eca924e4570f4e8e94cab8\", element=\"f9aef377-262c-4c8d-97e3-f2b30351c656\")>,\n",
       " <selenium.webdriver.remote.webelement.WebElement (session=\"1d05de0783eca924e4570f4e8e94cab8\", element=\"97a3cdf3-0262-4da3-a2bc-55040ba73134\")>,\n",
       " <selenium.webdriver.remote.webelement.WebElement (session=\"1d05de0783eca924e4570f4e8e94cab8\", element=\"51e54c85-1ea9-43a8-a07f-25fba915f31d\")>,\n",
       " <selenium.webdriver.remote.webelement.WebElement (session=\"1d05de0783eca924e4570f4e8e94cab8\", element=\"00f783d0-fe7e-4f69-bbab-bf63f89426d1\")>,\n",
       " <selenium.webdriver.remote.webelement.WebElement (session=\"1d05de0783eca924e4570f4e8e94cab8\", element=\"366a5a7c-17a5-4397-93b7-8be7b87ae3bb\")>,\n",
       " <selenium.webdriver.remote.webelement.WebElement (session=\"1d05de0783eca924e4570f4e8e94cab8\", element=\"417483ac-31f4-4a71-8e40-8abc666c8a0c\")>,\n",
       " <selenium.webdriver.remote.webelement.WebElement (session=\"1d05de0783eca924e4570f4e8e94cab8\", element=\"173be157-0d6c-4784-8faf-124f9947989c\")>,\n",
       " <selenium.webdriver.remote.webelement.WebElement (session=\"1d05de0783eca924e4570f4e8e94cab8\", element=\"4d2018ae-6f51-4b44-b150-e793596c9061\")>,\n",
       " <selenium.webdriver.remote.webelement.WebElement (session=\"1d05de0783eca924e4570f4e8e94cab8\", element=\"41949101-ea91-440c-9257-0f734a6b0fbf\")>,\n",
       " <selenium.webdriver.remote.webelement.WebElement (session=\"1d05de0783eca924e4570f4e8e94cab8\", element=\"197e4d84-c49f-4e0a-9d24-25e4ab1a7f54\")>,\n",
       " <selenium.webdriver.remote.webelement.WebElement (session=\"1d05de0783eca924e4570f4e8e94cab8\", element=\"a0c06174-ba30-4f2d-8197-2f123c47eed0\")>,\n",
       " <selenium.webdriver.remote.webelement.WebElement (session=\"1d05de0783eca924e4570f4e8e94cab8\", element=\"2bf8f8d4-a471-43c3-8a88-093e7a25002a\")>,\n",
       " <selenium.webdriver.remote.webelement.WebElement (session=\"1d05de0783eca924e4570f4e8e94cab8\", element=\"1357e11d-6e30-42e4-b409-5921c5545c90\")>,\n",
       " <selenium.webdriver.remote.webelement.WebElement (session=\"1d05de0783eca924e4570f4e8e94cab8\", element=\"330f8ff4-665c-468e-abce-182443a2725c\")>,\n",
       " <selenium.webdriver.remote.webelement.WebElement (session=\"1d05de0783eca924e4570f4e8e94cab8\", element=\"fc390907-3c9d-4f99-95bf-c21eec243a35\")>,\n",
       " <selenium.webdriver.remote.webelement.WebElement (session=\"1d05de0783eca924e4570f4e8e94cab8\", element=\"8dd40f64-6861-4a98-b691-63fe340c7453\")>,\n",
       " <selenium.webdriver.remote.webelement.WebElement (session=\"1d05de0783eca924e4570f4e8e94cab8\", element=\"5a52ee98-dcaf-47ce-a4e7-c4f3b1bbc930\")>,\n",
       " <selenium.webdriver.remote.webelement.WebElement (session=\"1d05de0783eca924e4570f4e8e94cab8\", element=\"bca2bcec-1e7b-4a34-be16-95ed2fea914d\")>,\n",
       " <selenium.webdriver.remote.webelement.WebElement (session=\"1d05de0783eca924e4570f4e8e94cab8\", element=\"b026b2b8-9bea-409a-8cd7-86eec0126e52\")>,\n",
       " <selenium.webdriver.remote.webelement.WebElement (session=\"1d05de0783eca924e4570f4e8e94cab8\", element=\"f7c5022c-ce9e-4825-8280-b571515ae5b2\")>,\n",
       " <selenium.webdriver.remote.webelement.WebElement (session=\"1d05de0783eca924e4570f4e8e94cab8\", element=\"1aca89d0-25d6-48de-933f-45389ec25a9c\")>,\n",
       " <selenium.webdriver.remote.webelement.WebElement (session=\"1d05de0783eca924e4570f4e8e94cab8\", element=\"1796bc34-3ad5-46a5-bddf-530bca1222e5\")>,\n",
       " <selenium.webdriver.remote.webelement.WebElement (session=\"1d05de0783eca924e4570f4e8e94cab8\", element=\"1b14c82d-045e-453d-b495-b3d4e90272dd\")>,\n",
       " <selenium.webdriver.remote.webelement.WebElement (session=\"1d05de0783eca924e4570f4e8e94cab8\", element=\"3bd85697-b9a5-4f5f-8053-41a73f468bb9\")>,\n",
       " <selenium.webdriver.remote.webelement.WebElement (session=\"1d05de0783eca924e4570f4e8e94cab8\", element=\"57ab34d6-d449-4b0d-ad9b-13d2ee66b09d\")>,\n",
       " <selenium.webdriver.remote.webelement.WebElement (session=\"1d05de0783eca924e4570f4e8e94cab8\", element=\"b451db4f-1f90-4267-9338-2b048b3349ec\")>,\n",
       " <selenium.webdriver.remote.webelement.WebElement (session=\"1d05de0783eca924e4570f4e8e94cab8\", element=\"31df96b2-d99d-4eeb-8de2-34a2ba7f00a0\")>,\n",
       " <selenium.webdriver.remote.webelement.WebElement (session=\"1d05de0783eca924e4570f4e8e94cab8\", element=\"a1f0c86c-c475-416d-a805-df2b18aee8f8\")>,\n",
       " <selenium.webdriver.remote.webelement.WebElement (session=\"1d05de0783eca924e4570f4e8e94cab8\", element=\"3d136b73-e0cf-477e-a965-74a6206fb7a2\")>,\n",
       " <selenium.webdriver.remote.webelement.WebElement (session=\"1d05de0783eca924e4570f4e8e94cab8\", element=\"f4ee2301-7f9b-4224-a04b-a905be5fa9f4\")>,\n",
       " <selenium.webdriver.remote.webelement.WebElement (session=\"1d05de0783eca924e4570f4e8e94cab8\", element=\"f413db25-40e8-4c30-8bc4-72592b22596a\")>,\n",
       " <selenium.webdriver.remote.webelement.WebElement (session=\"1d05de0783eca924e4570f4e8e94cab8\", element=\"1f14a0d3-31c0-41a8-b8bf-b87d4723c949\")>,\n",
       " <selenium.webdriver.remote.webelement.WebElement (session=\"1d05de0783eca924e4570f4e8e94cab8\", element=\"e78ca5a3-f73f-4cd8-b6e6-8d62185daead\")>,\n",
       " <selenium.webdriver.remote.webelement.WebElement (session=\"1d05de0783eca924e4570f4e8e94cab8\", element=\"59abdc8d-3832-4665-9972-9ba92ad5a2ed\")>,\n",
       " <selenium.webdriver.remote.webelement.WebElement (session=\"1d05de0783eca924e4570f4e8e94cab8\", element=\"17c7bb37-30d9-4fab-a6a4-3f084f74177f\")>,\n",
       " <selenium.webdriver.remote.webelement.WebElement (session=\"1d05de0783eca924e4570f4e8e94cab8\", element=\"7d9b323a-6ebe-40ee-b932-0aa5b489f13d\")>,\n",
       " <selenium.webdriver.remote.webelement.WebElement (session=\"1d05de0783eca924e4570f4e8e94cab8\", element=\"4b9f1492-4624-44b4-8c96-2f168f6d35cb\")>,\n",
       " <selenium.webdriver.remote.webelement.WebElement (session=\"1d05de0783eca924e4570f4e8e94cab8\", element=\"5c400d6c-d2a8-411a-acb7-376ef639fdd1\")>,\n",
       " <selenium.webdriver.remote.webelement.WebElement (session=\"1d05de0783eca924e4570f4e8e94cab8\", element=\"7fe7bf08-1ac1-48aa-be60-0da867317c50\")>,\n",
       " <selenium.webdriver.remote.webelement.WebElement (session=\"1d05de0783eca924e4570f4e8e94cab8\", element=\"038b30d2-d1bc-4f20-bade-ff9e5b96922e\")>,\n",
       " <selenium.webdriver.remote.webelement.WebElement (session=\"1d05de0783eca924e4570f4e8e94cab8\", element=\"a089ef71-9448-425f-a32f-7577ba759237\")>,\n",
       " <selenium.webdriver.remote.webelement.WebElement (session=\"1d05de0783eca924e4570f4e8e94cab8\", element=\"aa5cde9c-43b9-478e-9b8f-e24502a7f5f5\")>,\n",
       " <selenium.webdriver.remote.webelement.WebElement (session=\"1d05de0783eca924e4570f4e8e94cab8\", element=\"ee59dbd2-a544-4e9a-b127-c58f0c444ca0\")>,\n",
       " <selenium.webdriver.remote.webelement.WebElement (session=\"1d05de0783eca924e4570f4e8e94cab8\", element=\"880152e8-3b6c-440a-95ba-05b36d442f7c\")>,\n",
       " <selenium.webdriver.remote.webelement.WebElement (session=\"1d05de0783eca924e4570f4e8e94cab8\", element=\"06b259f8-c417-4e01-b416-0e578b0ac3ea\")>,\n",
       " <selenium.webdriver.remote.webelement.WebElement (session=\"1d05de0783eca924e4570f4e8e94cab8\", element=\"ce128947-3249-4cff-9da8-d9f023524a7d\")>,\n",
       " <selenium.webdriver.remote.webelement.WebElement (session=\"1d05de0783eca924e4570f4e8e94cab8\", element=\"7cd1318b-8554-456b-a395-f6bedd355ff7\")>,\n",
       " <selenium.webdriver.remote.webelement.WebElement (session=\"1d05de0783eca924e4570f4e8e94cab8\", element=\"44c5923d-e957-4350-a1ad-df0ec842f690\")>,\n",
       " <selenium.webdriver.remote.webelement.WebElement (session=\"1d05de0783eca924e4570f4e8e94cab8\", element=\"33499864-6f99-4a0e-a8ba-6391100efbb8\")>,\n",
       " <selenium.webdriver.remote.webelement.WebElement (session=\"1d05de0783eca924e4570f4e8e94cab8\", element=\"a3b193f0-3f02-4d1c-9a99-db33080d39a4\")>,\n",
       " <selenium.webdriver.remote.webelement.WebElement (session=\"1d05de0783eca924e4570f4e8e94cab8\", element=\"60dce99f-66b6-4430-89e8-59ef4948645a\")>,\n",
       " <selenium.webdriver.remote.webelement.WebElement (session=\"1d05de0783eca924e4570f4e8e94cab8\", element=\"63757eac-2fe2-44ed-8b00-f3fcdce04a6d\")>]"
      ]
     },
     "execution_count": 12,
     "metadata": {},
     "output_type": "execute_result"
    }
   ],
   "source": [
    "\n",
    "line4=browser.find_elements(\"xpath\",\"//div[@class='td-wrap-in']\")\n",
    "line4"
   ]
  },
  {
   "cell_type": "code",
   "execution_count": 13,
   "id": "88a4ded3",
   "metadata": {},
   "outputs": [
    {
     "data": {
      "text/plain": [
       "['79.3', '88.1', '85.8', '97.7', '68.9', '12.3', '23.1', '65.2', '63.2']"
      ]
     },
     "execution_count": 13,
     "metadata": {},
     "output_type": "execute_result"
    }
   ],
   "source": [
    "#PARSING DATA\n",
    "value=[]\n",
    "for data in line4:\n",
    "    #get the text data\n",
    "    temp=data.text\n",
    "    value.append(temp)\n",
    "value_h=value[11:20]\n",
    "value_h"
   ]
  },
  {
   "cell_type": "code",
   "execution_count": 14,
   "id": "1eeb34ab",
   "metadata": {},
   "outputs": [
    {
     "data": {
      "text/plain": [
       "{'Name': 'KAIST - Korea Advanced Institute of Science & Technology',\n",
       " 'Location': 'Daejeon, South Korea',\n",
       " 'Rank': '=42',\n",
       " 'Overall Score': '79.3',\n",
       " 'Academic Reputation': '88.1',\n",
       " 'Employer Reputation': '85.8',\n",
       " 'Citations per Faculty': '97.7',\n",
       " 'Faculty Student Ratio': '68.9',\n",
       " 'International Students Ratio': '12.3',\n",
       " 'International Faculty Ratio': '23.1',\n",
       " 'International Research Network\\nUnweighted': '65.2',\n",
       " 'Employment Outcomes\\nUnweighted': '63.2'}"
      ]
     },
     "execution_count": 14,
     "metadata": {},
     "output_type": "execute_result"
    }
   ],
   "source": [
    "d={}\n",
    "d['Name']=value[10]\n",
    "d['Location']=address[1]\n",
    "d['Rank']=Rank[1]\n",
    "for i in range(len(column)):\n",
    "    d[column[i]]=value_h[i]\n",
    "d"
   ]
  },
  {
   "cell_type": "code",
   "execution_count": 15,
   "id": "b0e5607e",
   "metadata": {},
   "outputs": [
    {
     "data": {
      "text/plain": [
       "'{\"Name\": \"KAIST - Korea Advanced Institute of Science & Technology\", \"Location\": \"Daejeon, South Korea\", \"Rank\": \"=42\", \"Overall Score\": \"79.3\", \"Academic Reputation\": \"88.1\", \"Employer Reputation\": \"85.8\", \"Citations per Faculty\": \"97.7\", \"Faculty Student Ratio\": \"68.9\", \"International Students Ratio\": \"12.3\", \"International Faculty Ratio\": \"23.1\", \"International Research Network\\\\nUnweighted\": \"65.2\", \"Employment Outcomes\\\\nUnweighted\": \"63.2\"}'"
      ]
     },
     "execution_count": 15,
     "metadata": {},
     "output_type": "execute_result"
    }
   ],
   "source": [
    "s1=json.dumps(d)\n",
    "s1"
   ]
  },
  {
   "cell_type": "code",
   "execution_count": 16,
   "id": "f0346200",
   "metadata": {},
   "outputs": [],
   "source": [
    "with open('KAIST - Korea Advanced Institute of Science & Technology.json','w') as f:\n",
    "    json.dump(d,f)\n"
   ]
  },
  {
   "cell_type": "code",
   "execution_count": null,
   "id": "e83efccf",
   "metadata": {},
   "outputs": [],
   "source": []
  },
  {
   "cell_type": "code",
   "execution_count": null,
   "id": "7a86827d",
   "metadata": {},
   "outputs": [],
   "source": []
  }
 ],
 "metadata": {
  "kernelspec": {
   "display_name": "Python 3.9.12 ('base')",
   "language": "python",
   "name": "python3"
  },
  "language_info": {
   "codemirror_mode": {
    "name": "ipython",
    "version": 3
   },
   "file_extension": ".py",
   "mimetype": "text/x-python",
   "name": "python",
   "nbconvert_exporter": "python",
   "pygments_lexer": "ipython3",
   "version": "3.9.12"
  },
  "vscode": {
   "interpreter": {
    "hash": "ad2bdc8ecc057115af97d19610ffacc2b4e99fae6737bb82f5d7fb13d2f2c186"
   }
  }
 },
 "nbformat": 4,
 "nbformat_minor": 5
}
