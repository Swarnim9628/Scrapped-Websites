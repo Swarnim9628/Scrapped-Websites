{
 "cells": [
  {
   "cell_type": "code",
   "execution_count": 1,
   "id": "c9dff6d3",
   "metadata": {},
   "outputs": [],
   "source": [
    "from selenium import webdriver\n",
    "from selenium.webdriver.chrome.service import Service\n",
    "import pandas as pd\n",
    "import json"
   ]
  },
  {
   "cell_type": "code",
   "execution_count": 2,
   "id": "71c98c29",
   "metadata": {},
   "outputs": [],
   "source": [
    "path = Service('C:\\chromedriver.exe')\n"
   ]
  },
  {
   "cell_type": "code",
   "execution_count": 3,
   "id": "4bb50658",
   "metadata": {},
   "outputs": [],
   "source": [
    "# set path for the driver\n",
    "browser = webdriver.Chrome(service = path)"
   ]
  },
  {
   "cell_type": "code",
   "execution_count": 4,
   "id": "19fff3ed",
   "metadata": {},
   "outputs": [],
   "source": [
    "url = \"https://www.topuniversities.com/university-rankings/world-university-rankings/2023\""
   ]
  },
  {
   "cell_type": "code",
   "execution_count": 5,
   "id": "e91b9f43",
   "metadata": {},
   "outputs": [],
   "source": [
    "# open the page url ion chrome\n",
    "browser.get(url)"
   ]
  },
  {
   "cell_type": "code",
   "execution_count": 10,
   "id": "3da56762",
   "metadata": {},
   "outputs": [
    {
     "data": {
      "text/plain": [
       "[<selenium.webdriver.remote.webelement.WebElement (session=\"d29e447ab9d7ab7a34f4012f67cf46f2\", element=\"9927bbf0-d61f-4edc-a214-5a8980db342e\")>,\n",
       " <selenium.webdriver.remote.webelement.WebElement (session=\"d29e447ab9d7ab7a34f4012f67cf46f2\", element=\"df8cf74f-4b07-4b50-b231-3ac83bf33625\")>,\n",
       " <selenium.webdriver.remote.webelement.WebElement (session=\"d29e447ab9d7ab7a34f4012f67cf46f2\", element=\"3ce765ba-f3d1-47a0-9cd4-117ea67ef2aa\")>,\n",
       " <selenium.webdriver.remote.webelement.WebElement (session=\"d29e447ab9d7ab7a34f4012f67cf46f2\", element=\"a25bd116-1511-43c4-8dad-513fd4feda52\")>,\n",
       " <selenium.webdriver.remote.webelement.WebElement (session=\"d29e447ab9d7ab7a34f4012f67cf46f2\", element=\"997d8ee5-6c88-4377-9415-2358e333aec3\")>,\n",
       " <selenium.webdriver.remote.webelement.WebElement (session=\"d29e447ab9d7ab7a34f4012f67cf46f2\", element=\"96f309b2-d9ca-4c12-b4eb-fa5c8b6823c9\")>,\n",
       " <selenium.webdriver.remote.webelement.WebElement (session=\"d29e447ab9d7ab7a34f4012f67cf46f2\", element=\"355dc24c-ea39-4654-88f6-8d0fa3b1e401\")>,\n",
       " <selenium.webdriver.remote.webelement.WebElement (session=\"d29e447ab9d7ab7a34f4012f67cf46f2\", element=\"c14e5ac7-c7e9-4679-a502-7e8e658db86c\")>,\n",
       " <selenium.webdriver.remote.webelement.WebElement (session=\"d29e447ab9d7ab7a34f4012f67cf46f2\", element=\"92c2811d-4e04-47b5-bf6f-a16c7aa34836\")>,\n",
       " <selenium.webdriver.remote.webelement.WebElement (session=\"d29e447ab9d7ab7a34f4012f67cf46f2\", element=\"8ba8d1e1-7872-43fb-a050-55d595ad05d9\")>,\n",
       " <selenium.webdriver.remote.webelement.WebElement (session=\"d29e447ab9d7ab7a34f4012f67cf46f2\", element=\"3d1a90fd-7fff-4b44-a0a8-0ad8baebe9e5\")>,\n",
       " <selenium.webdriver.remote.webelement.WebElement (session=\"d29e447ab9d7ab7a34f4012f67cf46f2\", element=\"8e31859b-23d7-48ae-aa12-4585854e59b5\")>,\n",
       " <selenium.webdriver.remote.webelement.WebElement (session=\"d29e447ab9d7ab7a34f4012f67cf46f2\", element=\"2a9222bc-fc7c-479c-8a52-3692bb3a00dc\")>,\n",
       " <selenium.webdriver.remote.webelement.WebElement (session=\"d29e447ab9d7ab7a34f4012f67cf46f2\", element=\"4c41b2a0-507d-40c1-83e3-a3f4e1cf710b\")>,\n",
       " <selenium.webdriver.remote.webelement.WebElement (session=\"d29e447ab9d7ab7a34f4012f67cf46f2\", element=\"2ec769f2-5b66-4391-a6c4-5aba8f3f64a9\")>,\n",
       " <selenium.webdriver.remote.webelement.WebElement (session=\"d29e447ab9d7ab7a34f4012f67cf46f2\", element=\"0efaae06-1c62-4094-adf5-bd0634213fc6\")>,\n",
       " <selenium.webdriver.remote.webelement.WebElement (session=\"d29e447ab9d7ab7a34f4012f67cf46f2\", element=\"3dac6569-afea-4d22-94e7-fe78e3eb7b1b\")>,\n",
       " <selenium.webdriver.remote.webelement.WebElement (session=\"d29e447ab9d7ab7a34f4012f67cf46f2\", element=\"f07b75f4-8d4d-4fb1-9f17-1926742859b0\")>,\n",
       " <selenium.webdriver.remote.webelement.WebElement (session=\"d29e447ab9d7ab7a34f4012f67cf46f2\", element=\"b1363d93-f511-4cae-bdac-c3b37b04c205\")>,\n",
       " <selenium.webdriver.remote.webelement.WebElement (session=\"d29e447ab9d7ab7a34f4012f67cf46f2\", element=\"3a88f684-49a9-4237-bef3-f9d0ea18dc2d\")>]"
      ]
     },
     "execution_count": 10,
     "metadata": {},
     "output_type": "execute_result"
    }
   ],
   "source": [
    "line1=browser.find_elements(\"xpath\",\"//div[@class='location ']\")\n",
    "line1"
   ]
  },
  {
   "cell_type": "code",
   "execution_count": 11,
   "id": "09cc2787",
   "metadata": {},
   "outputs": [
    {
     "data": {
      "text/plain": [
       "['Sydney, Australia',\n",
       " 'Daejeon, South Korea',\n",
       " 'Hangzhou, China (Mainland)',\n",
       " 'Los Angeles, United States',\n",
       " 'Sydney, Australia',\n",
       " 'Shanghai, China (Mainland)',\n",
       " 'Vancouver, Canada',\n",
       " 'Palaiseau Cedex, France',\n",
       " 'Munich, Germany',\n",
       " 'Durham, United States']"
      ]
     },
     "execution_count": 11,
     "metadata": {},
     "output_type": "execute_result"
    }
   ],
   "source": [
    "address=[]\n",
    "for data in line1:\n",
    "    #get the text data\n",
    "    temp=data.text\n",
    "    address.append(temp)\n",
    "address=address[10:]\n",
    "address"
   ]
  },
  {
   "cell_type": "code",
   "execution_count": 12,
   "id": "b7735ba4",
   "metadata": {},
   "outputs": [
    {
     "data": {
      "text/plain": [
       "[<selenium.webdriver.remote.webelement.WebElement (session=\"d29e447ab9d7ab7a34f4012f67cf46f2\", element=\"7b9be4b0-c50d-4b30-bdcc-f99615674ee0\")>,\n",
       " <selenium.webdriver.remote.webelement.WebElement (session=\"d29e447ab9d7ab7a34f4012f67cf46f2\", element=\"df07ec4e-6fc6-48e0-8ca5-ef76b2630e26\")>,\n",
       " <selenium.webdriver.remote.webelement.WebElement (session=\"d29e447ab9d7ab7a34f4012f67cf46f2\", element=\"1261efb0-876b-4130-9035-53c392721ed6\")>,\n",
       " <selenium.webdriver.remote.webelement.WebElement (session=\"d29e447ab9d7ab7a34f4012f67cf46f2\", element=\"dd7c15ed-bbb1-4e62-9fee-e898e3e3b6f2\")>,\n",
       " <selenium.webdriver.remote.webelement.WebElement (session=\"d29e447ab9d7ab7a34f4012f67cf46f2\", element=\"92728789-45c1-4797-a1c8-6f7bfa490ef5\")>,\n",
       " <selenium.webdriver.remote.webelement.WebElement (session=\"d29e447ab9d7ab7a34f4012f67cf46f2\", element=\"51c04ace-48ea-42de-a449-cdec74c409cf\")>,\n",
       " <selenium.webdriver.remote.webelement.WebElement (session=\"d29e447ab9d7ab7a34f4012f67cf46f2\", element=\"6411864b-d8b3-4d42-841b-1668afd67ff9\")>,\n",
       " <selenium.webdriver.remote.webelement.WebElement (session=\"d29e447ab9d7ab7a34f4012f67cf46f2\", element=\"12495a38-ecab-42a0-a14d-3ad83409c617\")>,\n",
       " <selenium.webdriver.remote.webelement.WebElement (session=\"d29e447ab9d7ab7a34f4012f67cf46f2\", element=\"9cfb9827-9718-4272-8b08-37f748205a58\")>,\n",
       " <selenium.webdriver.remote.webelement.WebElement (session=\"d29e447ab9d7ab7a34f4012f67cf46f2\", element=\"4e85545d-9ce0-48fc-991f-84acca380172\")>]"
      ]
     },
     "execution_count": 12,
     "metadata": {},
     "output_type": "execute_result"
    }
   ],
   "source": [
    "line2=browser.find_elements(\"xpath\",\"//div[@class='_univ-rank ']\")\n",
    "line2"
   ]
  },
  {
   "cell_type": "code",
   "execution_count": 13,
   "id": "41ccda17",
   "metadata": {},
   "outputs": [
    {
     "data": {
      "text/plain": [
       "['41', '=42', '=42', '44', '45', '46', '47', '48', '49', '=50']"
      ]
     },
     "execution_count": 13,
     "metadata": {},
     "output_type": "execute_result"
    }
   ],
   "source": [
    "Rank=[]\n",
    "for data in line2:\n",
    "    #get the text data\n",
    "    temp=data.text\n",
    "    Rank.append(temp)\n",
    "Rank"
   ]
  },
  {
   "cell_type": "code",
   "execution_count": 14,
   "id": "5f5ef45c",
   "metadata": {},
   "outputs": [
    {
     "data": {
      "text/plain": [
       "[<selenium.webdriver.remote.webelement.WebElement (session=\"d29e447ab9d7ab7a34f4012f67cf46f2\", element=\"dd3be22a-bb36-4517-92bc-f0e68b524e00\")>,\n",
       " <selenium.webdriver.remote.webelement.WebElement (session=\"d29e447ab9d7ab7a34f4012f67cf46f2\", element=\"4dd2fc94-10ba-4273-8f23-a12c4bead1aa\")>,\n",
       " <selenium.webdriver.remote.webelement.WebElement (session=\"d29e447ab9d7ab7a34f4012f67cf46f2\", element=\"a93eec03-56a2-459c-8b24-bb1ee858e409\")>,\n",
       " <selenium.webdriver.remote.webelement.WebElement (session=\"d29e447ab9d7ab7a34f4012f67cf46f2\", element=\"a0c69606-8c67-4165-a94b-4334399f494c\")>,\n",
       " <selenium.webdriver.remote.webelement.WebElement (session=\"d29e447ab9d7ab7a34f4012f67cf46f2\", element=\"18021766-68d1-4df5-87dc-39adf044d52a\")>,\n",
       " <selenium.webdriver.remote.webelement.WebElement (session=\"d29e447ab9d7ab7a34f4012f67cf46f2\", element=\"9199a2c9-6b34-4e23-b658-0391cebbd9bd\")>,\n",
       " <selenium.webdriver.remote.webelement.WebElement (session=\"d29e447ab9d7ab7a34f4012f67cf46f2\", element=\"54a4ebfd-2a76-40f8-b35f-eee9891e79be\")>,\n",
       " <selenium.webdriver.remote.webelement.WebElement (session=\"d29e447ab9d7ab7a34f4012f67cf46f2\", element=\"474c8872-0a4d-4d78-8473-4378b029db22\")>,\n",
       " <selenium.webdriver.remote.webelement.WebElement (session=\"d29e447ab9d7ab7a34f4012f67cf46f2\", element=\"aef55582-af4b-4925-b5a2-194b84eca541\")>]"
      ]
     },
     "execution_count": 14,
     "metadata": {},
     "output_type": "execute_result"
    }
   ],
   "source": [
    "# GET EACH COLLEGE SPECIFICATION HEADERS\n",
    "line3=browser.find_elements(\"xpath\",\"//div[@class='_click-function_ind']\")\n",
    "line3"
   ]
  },
  {
   "cell_type": "code",
   "execution_count": 15,
   "id": "54976cdd",
   "metadata": {},
   "outputs": [
    {
     "data": {
      "text/plain": [
       "['Overall Score',\n",
       " 'Academic Reputation',\n",
       " 'Employer Reputation',\n",
       " 'Citations per Faculty',\n",
       " 'Faculty Student Ratio',\n",
       " 'International Students Ratio',\n",
       " 'International Faculty Ratio',\n",
       " 'International Research Network\\nUnweighted',\n",
       " 'Employment Outcomes\\nUnweighted']"
      ]
     },
     "execution_count": 15,
     "metadata": {},
     "output_type": "execute_result"
    }
   ],
   "source": [
    "#PARSING DATA\n",
    "column=[]\n",
    "for data in line3:\n",
    "    #get the text data\n",
    "    temp=data.text\n",
    "    column.append(temp)\n",
    "column"
   ]
  },
  {
   "cell_type": "code",
   "execution_count": 16,
   "id": "93548afc",
   "metadata": {},
   "outputs": [
    {
     "data": {
      "text/plain": [
       "[<selenium.webdriver.remote.webelement.WebElement (session=\"d29e447ab9d7ab7a34f4012f67cf46f2\", element=\"efcfc7f8-65f3-4acf-bcbc-2d76fe5992c7\")>,\n",
       " <selenium.webdriver.remote.webelement.WebElement (session=\"d29e447ab9d7ab7a34f4012f67cf46f2\", element=\"d12a7eae-0820-431e-9434-50ce8e6a18dd\")>,\n",
       " <selenium.webdriver.remote.webelement.WebElement (session=\"d29e447ab9d7ab7a34f4012f67cf46f2\", element=\"2ce5160b-db95-4edf-b77e-7618c867c1dd\")>,\n",
       " <selenium.webdriver.remote.webelement.WebElement (session=\"d29e447ab9d7ab7a34f4012f67cf46f2\", element=\"60bcb56c-f4b9-485d-bdd6-ef6985097ce6\")>,\n",
       " <selenium.webdriver.remote.webelement.WebElement (session=\"d29e447ab9d7ab7a34f4012f67cf46f2\", element=\"9faa945f-3c73-4424-bf97-d85523ac5b36\")>,\n",
       " <selenium.webdriver.remote.webelement.WebElement (session=\"d29e447ab9d7ab7a34f4012f67cf46f2\", element=\"37c6fbcf-7691-4316-bc35-ea18cdce01dc\")>,\n",
       " <selenium.webdriver.remote.webelement.WebElement (session=\"d29e447ab9d7ab7a34f4012f67cf46f2\", element=\"61073896-6151-43f8-bbdf-dc8218419c27\")>,\n",
       " <selenium.webdriver.remote.webelement.WebElement (session=\"d29e447ab9d7ab7a34f4012f67cf46f2\", element=\"4e325471-3344-45f5-acb9-342c75fe2d20\")>,\n",
       " <selenium.webdriver.remote.webelement.WebElement (session=\"d29e447ab9d7ab7a34f4012f67cf46f2\", element=\"4794d123-04db-4587-ba88-a6ce70d34a02\")>,\n",
       " <selenium.webdriver.remote.webelement.WebElement (session=\"d29e447ab9d7ab7a34f4012f67cf46f2\", element=\"765b5480-c367-49b5-ad50-30c50f879860\")>,\n",
       " <selenium.webdriver.remote.webelement.WebElement (session=\"d29e447ab9d7ab7a34f4012f67cf46f2\", element=\"937505ce-aee0-4779-96f3-76bcd0142566\")>,\n",
       " <selenium.webdriver.remote.webelement.WebElement (session=\"d29e447ab9d7ab7a34f4012f67cf46f2\", element=\"80f4dfde-5ba9-42cf-a433-3894c116db13\")>,\n",
       " <selenium.webdriver.remote.webelement.WebElement (session=\"d29e447ab9d7ab7a34f4012f67cf46f2\", element=\"5cbeeda1-a519-4d03-9c0a-9efbff020712\")>,\n",
       " <selenium.webdriver.remote.webelement.WebElement (session=\"d29e447ab9d7ab7a34f4012f67cf46f2\", element=\"f902972b-7a59-4861-8aa5-a6439cacfbca\")>,\n",
       " <selenium.webdriver.remote.webelement.WebElement (session=\"d29e447ab9d7ab7a34f4012f67cf46f2\", element=\"bb208e87-b354-42aa-8afe-cd8cda5c4d3a\")>,\n",
       " <selenium.webdriver.remote.webelement.WebElement (session=\"d29e447ab9d7ab7a34f4012f67cf46f2\", element=\"0983f3bc-a8d7-4933-b537-05bffe4a1e88\")>,\n",
       " <selenium.webdriver.remote.webelement.WebElement (session=\"d29e447ab9d7ab7a34f4012f67cf46f2\", element=\"74838904-b966-4a34-a8f3-b26b0436821c\")>,\n",
       " <selenium.webdriver.remote.webelement.WebElement (session=\"d29e447ab9d7ab7a34f4012f67cf46f2\", element=\"d9bbd240-87df-48b9-adfa-d0bd60c7d330\")>,\n",
       " <selenium.webdriver.remote.webelement.WebElement (session=\"d29e447ab9d7ab7a34f4012f67cf46f2\", element=\"96c3bdf2-e650-449d-aedf-44369a7b6d84\")>,\n",
       " <selenium.webdriver.remote.webelement.WebElement (session=\"d29e447ab9d7ab7a34f4012f67cf46f2\", element=\"f30df2d9-1221-449b-866a-5f4cc3e51f2b\")>,\n",
       " <selenium.webdriver.remote.webelement.WebElement (session=\"d29e447ab9d7ab7a34f4012f67cf46f2\", element=\"43bbab7c-f352-40f9-9820-0fcb7f619f08\")>,\n",
       " <selenium.webdriver.remote.webelement.WebElement (session=\"d29e447ab9d7ab7a34f4012f67cf46f2\", element=\"adecb8a1-62fb-4c34-bd93-9c6d5146c018\")>,\n",
       " <selenium.webdriver.remote.webelement.WebElement (session=\"d29e447ab9d7ab7a34f4012f67cf46f2\", element=\"65d0baee-53c2-4b6c-ba77-7f01cb03f751\")>,\n",
       " <selenium.webdriver.remote.webelement.WebElement (session=\"d29e447ab9d7ab7a34f4012f67cf46f2\", element=\"b2400b7b-bfd6-4398-b169-eb641a1a548e\")>,\n",
       " <selenium.webdriver.remote.webelement.WebElement (session=\"d29e447ab9d7ab7a34f4012f67cf46f2\", element=\"968da3a1-142a-4e12-84da-99eaea9895da\")>,\n",
       " <selenium.webdriver.remote.webelement.WebElement (session=\"d29e447ab9d7ab7a34f4012f67cf46f2\", element=\"2b49d587-1ab7-4d47-8dbd-fe6db69ca2f6\")>,\n",
       " <selenium.webdriver.remote.webelement.WebElement (session=\"d29e447ab9d7ab7a34f4012f67cf46f2\", element=\"b4ae76e3-50bf-4724-b0c5-88044aa57b86\")>,\n",
       " <selenium.webdriver.remote.webelement.WebElement (session=\"d29e447ab9d7ab7a34f4012f67cf46f2\", element=\"79257879-eb2a-486a-9ef4-dd0ced093345\")>,\n",
       " <selenium.webdriver.remote.webelement.WebElement (session=\"d29e447ab9d7ab7a34f4012f67cf46f2\", element=\"b24ecf4a-efd8-48f9-9679-99777cc78c41\")>,\n",
       " <selenium.webdriver.remote.webelement.WebElement (session=\"d29e447ab9d7ab7a34f4012f67cf46f2\", element=\"dd14ba3f-3666-449a-9713-0d6b4b46d523\")>,\n",
       " <selenium.webdriver.remote.webelement.WebElement (session=\"d29e447ab9d7ab7a34f4012f67cf46f2\", element=\"9d221bd1-2a0a-497a-8e82-38fe4b9337b0\")>,\n",
       " <selenium.webdriver.remote.webelement.WebElement (session=\"d29e447ab9d7ab7a34f4012f67cf46f2\", element=\"294e1a45-75c3-4719-8702-71f5d9086b01\")>,\n",
       " <selenium.webdriver.remote.webelement.WebElement (session=\"d29e447ab9d7ab7a34f4012f67cf46f2\", element=\"f9f40d6d-e25f-431e-b324-6160c2c7f2c2\")>,\n",
       " <selenium.webdriver.remote.webelement.WebElement (session=\"d29e447ab9d7ab7a34f4012f67cf46f2\", element=\"9122a409-9ebb-49b0-b7e3-d8e02601b537\")>,\n",
       " <selenium.webdriver.remote.webelement.WebElement (session=\"d29e447ab9d7ab7a34f4012f67cf46f2\", element=\"8b7d2fc9-842d-4bfc-9f01-5a34190b828a\")>,\n",
       " <selenium.webdriver.remote.webelement.WebElement (session=\"d29e447ab9d7ab7a34f4012f67cf46f2\", element=\"32ff3a53-ae55-487a-8efa-1bd09162827d\")>,\n",
       " <selenium.webdriver.remote.webelement.WebElement (session=\"d29e447ab9d7ab7a34f4012f67cf46f2\", element=\"19da1f6f-a607-49bb-874b-1a40a9aaa1c2\")>,\n",
       " <selenium.webdriver.remote.webelement.WebElement (session=\"d29e447ab9d7ab7a34f4012f67cf46f2\", element=\"cac18ece-92c0-43dc-b429-30111cc59ff1\")>,\n",
       " <selenium.webdriver.remote.webelement.WebElement (session=\"d29e447ab9d7ab7a34f4012f67cf46f2\", element=\"e160286e-2c81-4833-923c-9749badfe23e\")>,\n",
       " <selenium.webdriver.remote.webelement.WebElement (session=\"d29e447ab9d7ab7a34f4012f67cf46f2\", element=\"403eaf4a-91e8-4855-9405-e2c37034f06f\")>,\n",
       " <selenium.webdriver.remote.webelement.WebElement (session=\"d29e447ab9d7ab7a34f4012f67cf46f2\", element=\"dd09ff0d-c914-47f4-925d-fa58315f1b63\")>,\n",
       " <selenium.webdriver.remote.webelement.WebElement (session=\"d29e447ab9d7ab7a34f4012f67cf46f2\", element=\"701e8809-54c1-4dc1-988c-a90eb913de05\")>,\n",
       " <selenium.webdriver.remote.webelement.WebElement (session=\"d29e447ab9d7ab7a34f4012f67cf46f2\", element=\"3e07bc3f-d689-4395-bf78-f514788e4e5a\")>,\n",
       " <selenium.webdriver.remote.webelement.WebElement (session=\"d29e447ab9d7ab7a34f4012f67cf46f2\", element=\"c6cb6cfb-28d0-4146-9a4f-856e17e22a08\")>,\n",
       " <selenium.webdriver.remote.webelement.WebElement (session=\"d29e447ab9d7ab7a34f4012f67cf46f2\", element=\"1d04ed6d-b51d-4ade-b21d-a65a27c30453\")>,\n",
       " <selenium.webdriver.remote.webelement.WebElement (session=\"d29e447ab9d7ab7a34f4012f67cf46f2\", element=\"3308b8ff-0beb-4775-811c-acf89794b9e0\")>,\n",
       " <selenium.webdriver.remote.webelement.WebElement (session=\"d29e447ab9d7ab7a34f4012f67cf46f2\", element=\"d1e9ba8d-723b-462b-9b17-e9f8c271736a\")>,\n",
       " <selenium.webdriver.remote.webelement.WebElement (session=\"d29e447ab9d7ab7a34f4012f67cf46f2\", element=\"66cbb24a-00ee-44c5-bb4b-3337058f5d39\")>,\n",
       " <selenium.webdriver.remote.webelement.WebElement (session=\"d29e447ab9d7ab7a34f4012f67cf46f2\", element=\"7249577b-7acd-4a95-9d1f-8d0e2cd5b6b5\")>,\n",
       " <selenium.webdriver.remote.webelement.WebElement (session=\"d29e447ab9d7ab7a34f4012f67cf46f2\", element=\"f703384f-963c-4949-b91b-14c90e187318\")>,\n",
       " <selenium.webdriver.remote.webelement.WebElement (session=\"d29e447ab9d7ab7a34f4012f67cf46f2\", element=\"d445fba0-707d-4dc1-9fc5-1d87abe1af1a\")>,\n",
       " <selenium.webdriver.remote.webelement.WebElement (session=\"d29e447ab9d7ab7a34f4012f67cf46f2\", element=\"6c674e0a-460d-4a60-bb60-0b64b3a1cada\")>,\n",
       " <selenium.webdriver.remote.webelement.WebElement (session=\"d29e447ab9d7ab7a34f4012f67cf46f2\", element=\"a4a73fcf-787a-4b1d-af15-0ae497414018\")>,\n",
       " <selenium.webdriver.remote.webelement.WebElement (session=\"d29e447ab9d7ab7a34f4012f67cf46f2\", element=\"c5a657c6-9ce2-4907-b1e6-b0ee907bd322\")>,\n",
       " <selenium.webdriver.remote.webelement.WebElement (session=\"d29e447ab9d7ab7a34f4012f67cf46f2\", element=\"ef774980-8814-47f1-af30-122ab6a1fa8c\")>,\n",
       " <selenium.webdriver.remote.webelement.WebElement (session=\"d29e447ab9d7ab7a34f4012f67cf46f2\", element=\"ec8ebbe6-21f7-4fb9-94a4-dba030f41371\")>,\n",
       " <selenium.webdriver.remote.webelement.WebElement (session=\"d29e447ab9d7ab7a34f4012f67cf46f2\", element=\"132360d2-a68b-463f-8ff0-ff34578279dd\")>,\n",
       " <selenium.webdriver.remote.webelement.WebElement (session=\"d29e447ab9d7ab7a34f4012f67cf46f2\", element=\"b44f0c18-bf36-4a73-87ba-e7ff9e0ff845\")>,\n",
       " <selenium.webdriver.remote.webelement.WebElement (session=\"d29e447ab9d7ab7a34f4012f67cf46f2\", element=\"b1967447-4cab-4c4e-a7fb-76127b020653\")>,\n",
       " <selenium.webdriver.remote.webelement.WebElement (session=\"d29e447ab9d7ab7a34f4012f67cf46f2\", element=\"f9c705f4-8f69-4eb6-8373-1f2af8bbd3be\")>,\n",
       " <selenium.webdriver.remote.webelement.WebElement (session=\"d29e447ab9d7ab7a34f4012f67cf46f2\", element=\"500f15c5-b951-4121-b924-cd094e280530\")>,\n",
       " <selenium.webdriver.remote.webelement.WebElement (session=\"d29e447ab9d7ab7a34f4012f67cf46f2\", element=\"42112cb8-4c85-424c-8254-4e218a668599\")>,\n",
       " <selenium.webdriver.remote.webelement.WebElement (session=\"d29e447ab9d7ab7a34f4012f67cf46f2\", element=\"eeee3248-050a-417a-a4a4-56caaf131f0b\")>,\n",
       " <selenium.webdriver.remote.webelement.WebElement (session=\"d29e447ab9d7ab7a34f4012f67cf46f2\", element=\"39b17604-057e-4b6f-81d0-016fb65cd4cf\")>,\n",
       " <selenium.webdriver.remote.webelement.WebElement (session=\"d29e447ab9d7ab7a34f4012f67cf46f2\", element=\"fd806a9d-31a9-4b34-898a-24d77cf49afe\")>,\n",
       " <selenium.webdriver.remote.webelement.WebElement (session=\"d29e447ab9d7ab7a34f4012f67cf46f2\", element=\"a02bbb29-3793-4e85-b7cc-9dd16548428e\")>,\n",
       " <selenium.webdriver.remote.webelement.WebElement (session=\"d29e447ab9d7ab7a34f4012f67cf46f2\", element=\"fcd0a64b-4e4e-4f00-9b06-c75adcd7700d\")>,\n",
       " <selenium.webdriver.remote.webelement.WebElement (session=\"d29e447ab9d7ab7a34f4012f67cf46f2\", element=\"4aebd96d-7e07-451e-ab39-a7122ca01d1f\")>,\n",
       " <selenium.webdriver.remote.webelement.WebElement (session=\"d29e447ab9d7ab7a34f4012f67cf46f2\", element=\"97e7033b-d569-4e99-8628-ca140d5a6214\")>,\n",
       " <selenium.webdriver.remote.webelement.WebElement (session=\"d29e447ab9d7ab7a34f4012f67cf46f2\", element=\"5b0ea0a1-4a9f-4472-8564-5ee9d72bf782\")>,\n",
       " <selenium.webdriver.remote.webelement.WebElement (session=\"d29e447ab9d7ab7a34f4012f67cf46f2\", element=\"ae371638-f070-4ae9-9b72-a0790c0f5c00\")>,\n",
       " <selenium.webdriver.remote.webelement.WebElement (session=\"d29e447ab9d7ab7a34f4012f67cf46f2\", element=\"bdaa3f9d-3bc3-4fe1-9ebb-d7464598d5aa\")>,\n",
       " <selenium.webdriver.remote.webelement.WebElement (session=\"d29e447ab9d7ab7a34f4012f67cf46f2\", element=\"03ca24f6-451d-4313-bfc4-49f3da05c11d\")>,\n",
       " <selenium.webdriver.remote.webelement.WebElement (session=\"d29e447ab9d7ab7a34f4012f67cf46f2\", element=\"a512c58e-f110-4d6b-9e4c-158c90be33d4\")>,\n",
       " <selenium.webdriver.remote.webelement.WebElement (session=\"d29e447ab9d7ab7a34f4012f67cf46f2\", element=\"4141b401-d25b-48bc-b05c-ff7bc6e04cbf\")>,\n",
       " <selenium.webdriver.remote.webelement.WebElement (session=\"d29e447ab9d7ab7a34f4012f67cf46f2\", element=\"4888a2a5-15d9-4a63-96b6-00ac2427eea1\")>,\n",
       " <selenium.webdriver.remote.webelement.WebElement (session=\"d29e447ab9d7ab7a34f4012f67cf46f2\", element=\"0c03c601-390f-4618-b95a-09516e54408c\")>,\n",
       " <selenium.webdriver.remote.webelement.WebElement (session=\"d29e447ab9d7ab7a34f4012f67cf46f2\", element=\"f7934be3-a189-448f-a9ac-1b7138c3769b\")>,\n",
       " <selenium.webdriver.remote.webelement.WebElement (session=\"d29e447ab9d7ab7a34f4012f67cf46f2\", element=\"e5807499-5da5-4dc7-9671-ab647ab2cce8\")>,\n",
       " <selenium.webdriver.remote.webelement.WebElement (session=\"d29e447ab9d7ab7a34f4012f67cf46f2\", element=\"ba94820c-3f0c-43c7-ac1e-ca1d24733810\")>,\n",
       " <selenium.webdriver.remote.webelement.WebElement (session=\"d29e447ab9d7ab7a34f4012f67cf46f2\", element=\"d532732c-7ca3-4879-a0f3-4776a6cfca04\")>,\n",
       " <selenium.webdriver.remote.webelement.WebElement (session=\"d29e447ab9d7ab7a34f4012f67cf46f2\", element=\"16a36a11-36ac-402f-abac-44d75a3608a2\")>,\n",
       " <selenium.webdriver.remote.webelement.WebElement (session=\"d29e447ab9d7ab7a34f4012f67cf46f2\", element=\"f1965ed6-0495-4ab8-bbab-f82c83de1bb2\")>,\n",
       " <selenium.webdriver.remote.webelement.WebElement (session=\"d29e447ab9d7ab7a34f4012f67cf46f2\", element=\"9e0a80a6-2e8b-448e-b8f0-4a65f5b5a7a3\")>,\n",
       " <selenium.webdriver.remote.webelement.WebElement (session=\"d29e447ab9d7ab7a34f4012f67cf46f2\", element=\"347a04dc-7e41-4262-8092-c8fce2f80009\")>,\n",
       " <selenium.webdriver.remote.webelement.WebElement (session=\"d29e447ab9d7ab7a34f4012f67cf46f2\", element=\"8a578510-b1d2-471a-8c90-a6308487599d\")>,\n",
       " <selenium.webdriver.remote.webelement.WebElement (session=\"d29e447ab9d7ab7a34f4012f67cf46f2\", element=\"11d67d56-085d-496e-9d37-267dac5ece2c\")>,\n",
       " <selenium.webdriver.remote.webelement.WebElement (session=\"d29e447ab9d7ab7a34f4012f67cf46f2\", element=\"927de8c4-cf74-499d-8462-bb70d3b4d8db\")>,\n",
       " <selenium.webdriver.remote.webelement.WebElement (session=\"d29e447ab9d7ab7a34f4012f67cf46f2\", element=\"e9a1698b-6e24-4bfb-aa20-381ef0b684e0\")>,\n",
       " <selenium.webdriver.remote.webelement.WebElement (session=\"d29e447ab9d7ab7a34f4012f67cf46f2\", element=\"fba8f438-4984-4865-b166-59869ad8774b\")>,\n",
       " <selenium.webdriver.remote.webelement.WebElement (session=\"d29e447ab9d7ab7a34f4012f67cf46f2\", element=\"ca4033c6-ef76-465d-80dd-57360e79f5ab\")>,\n",
       " <selenium.webdriver.remote.webelement.WebElement (session=\"d29e447ab9d7ab7a34f4012f67cf46f2\", element=\"41cae3e3-1ac3-4c7b-b496-7a9d842becab\")>,\n",
       " <selenium.webdriver.remote.webelement.WebElement (session=\"d29e447ab9d7ab7a34f4012f67cf46f2\", element=\"de995dc5-c8de-449f-81da-0232f9661b20\")>,\n",
       " <selenium.webdriver.remote.webelement.WebElement (session=\"d29e447ab9d7ab7a34f4012f67cf46f2\", element=\"798aca7b-5c35-442e-ac05-21e623ee6719\")>,\n",
       " <selenium.webdriver.remote.webelement.WebElement (session=\"d29e447ab9d7ab7a34f4012f67cf46f2\", element=\"be600daa-e97a-4cfa-8ad9-3e9503dccb04\")>,\n",
       " <selenium.webdriver.remote.webelement.WebElement (session=\"d29e447ab9d7ab7a34f4012f67cf46f2\", element=\"c7f28353-61df-4a9e-b68c-ccb58944032f\")>,\n",
       " <selenium.webdriver.remote.webelement.WebElement (session=\"d29e447ab9d7ab7a34f4012f67cf46f2\", element=\"33be7204-29ce-4895-8998-35beeae1985c\")>,\n",
       " <selenium.webdriver.remote.webelement.WebElement (session=\"d29e447ab9d7ab7a34f4012f67cf46f2\", element=\"ae2790c7-610c-4106-8da7-f0d891068b9a\")>,\n",
       " <selenium.webdriver.remote.webelement.WebElement (session=\"d29e447ab9d7ab7a34f4012f67cf46f2\", element=\"1e5b8e10-7fd1-44be-b1ad-54e506379326\")>,\n",
       " <selenium.webdriver.remote.webelement.WebElement (session=\"d29e447ab9d7ab7a34f4012f67cf46f2\", element=\"b1c5b401-911b-41df-a279-f0e6f3eec29e\")>]"
      ]
     },
     "execution_count": 16,
     "metadata": {},
     "output_type": "execute_result"
    }
   ],
   "source": [
    "line4=browser.find_elements(\"xpath\",\"//div[@class='td-wrap-in']\")\n",
    "line4"
   ]
  },
  {
   "cell_type": "code",
   "execution_count": 17,
   "id": "3fa34ac2",
   "metadata": {},
   "outputs": [
    {
     "data": {
      "text/plain": [
       "['77.4', '82.7', '90.2', '97.1', '57.7', '38.4', '40.9', '73.9', '57.8']"
      ]
     },
     "execution_count": 17,
     "metadata": {},
     "output_type": "execute_result"
    }
   ],
   "source": [
    "#PARSING DATA\n",
    "value=[]\n",
    "for data in line4:\n",
    "    #get the text data\n",
    "    temp=data.text\n",
    "    value.append(temp)\n",
    "value_h=value[51:60]\n",
    "value_h"
   ]
  },
  {
   "cell_type": "code",
   "execution_count": 18,
   "id": "adf968b8",
   "metadata": {},
   "outputs": [
    {
     "data": {
      "text/plain": [
       "{'Name': 'Shanghai Jiao Tong University',\n",
       " 'Location': 'Shanghai, China (Mainland)',\n",
       " 'Rank': '46',\n",
       " 'Overall Score': '77.4',\n",
       " 'Academic Reputation': '82.7',\n",
       " 'Employer Reputation': '90.2',\n",
       " 'Citations per Faculty': '97.1',\n",
       " 'Faculty Student Ratio': '57.7',\n",
       " 'International Students Ratio': '38.4',\n",
       " 'International Faculty Ratio': '40.9',\n",
       " 'International Research Network\\nUnweighted': '73.9',\n",
       " 'Employment Outcomes\\nUnweighted': '57.8'}"
      ]
     },
     "execution_count": 18,
     "metadata": {},
     "output_type": "execute_result"
    }
   ],
   "source": [
    "d={}\n",
    "d['Name']=value[50]\n",
    "d['Location']=address[5]\n",
    "d['Rank']=Rank[5]\n",
    "for i in range(len(column)):\n",
    "    d[column[i]]=value_h[i]\n",
    "d\n"
   ]
  },
  {
   "cell_type": "code",
   "execution_count": 19,
   "id": "12b2dcfa",
   "metadata": {},
   "outputs": [
    {
     "data": {
      "text/plain": [
       "'{\"Name\": \"Shanghai Jiao Tong University\", \"Location\": \"Shanghai, China (Mainland)\", \"Rank\": \"46\", \"Overall Score\": \"77.4\", \"Academic Reputation\": \"82.7\", \"Employer Reputation\": \"90.2\", \"Citations per Faculty\": \"97.1\", \"Faculty Student Ratio\": \"57.7\", \"International Students Ratio\": \"38.4\", \"International Faculty Ratio\": \"40.9\", \"International Research Network\\\\nUnweighted\": \"73.9\", \"Employment Outcomes\\\\nUnweighted\": \"57.8\"}'"
      ]
     },
     "execution_count": 19,
     "metadata": {},
     "output_type": "execute_result"
    }
   ],
   "source": [
    "s1=json.dumps(d)\n",
    "s1"
   ]
  },
  {
   "cell_type": "code",
   "execution_count": 20,
   "id": "68f76416",
   "metadata": {},
   "outputs": [],
   "source": [
    "with open('Shanghai Jiao Tong University.json','w') as f:\n",
    "    json.dump(d,f)"
   ]
  },
  {
   "cell_type": "code",
   "execution_count": null,
   "id": "677cb541",
   "metadata": {},
   "outputs": [],
   "source": []
  }
 ],
 "metadata": {
  "kernelspec": {
   "display_name": "Python 3.9.12 ('base')",
   "language": "python",
   "name": "python3"
  },
  "language_info": {
   "codemirror_mode": {
    "name": "ipython",
    "version": 3
   },
   "file_extension": ".py",
   "mimetype": "text/x-python",
   "name": "python",
   "nbconvert_exporter": "python",
   "pygments_lexer": "ipython3",
   "version": "3.9.12"
  },
  "vscode": {
   "interpreter": {
    "hash": "ad2bdc8ecc057115af97d19610ffacc2b4e99fae6737bb82f5d7fb13d2f2c186"
   }
  }
 },
 "nbformat": 4,
 "nbformat_minor": 5
}
