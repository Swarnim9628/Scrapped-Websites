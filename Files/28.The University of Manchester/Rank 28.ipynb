{
 "cells": [
  {
   "cell_type": "code",
   "execution_count": 1,
   "id": "407222cb",
   "metadata": {},
   "outputs": [],
   "source": [
    "from selenium import webdriver\n",
    "from selenium.webdriver.chrome.service import Service\n",
    "import pandas as pd\n",
    "import json"
   ]
  },
  {
   "cell_type": "code",
   "execution_count": 2,
   "id": "c3803046",
   "metadata": {},
   "outputs": [],
   "source": [
    "path = Service('C:\\chromedriver.exe')"
   ]
  },
  {
   "cell_type": "code",
   "execution_count": 3,
   "id": "acaf6144",
   "metadata": {},
   "outputs": [],
   "source": [
    "# set path for the driver\n",
    "browser = webdriver.Chrome(service = path)"
   ]
  },
  {
   "cell_type": "code",
   "execution_count": 4,
   "id": "bcf13a45",
   "metadata": {},
   "outputs": [],
   "source": [
    "url = \"https://www.topuniversities.com/university-rankings/world-university-rankings/2023\""
   ]
  },
  {
   "cell_type": "code",
   "execution_count": 5,
   "id": "7bf842a1",
   "metadata": {},
   "outputs": [],
   "source": [
    "# open the page url ion chrome\n",
    "browser.get(url)"
   ]
  },
  {
   "cell_type": "code",
   "execution_count": 6,
   "id": "c4a82b5d",
   "metadata": {},
   "outputs": [
    {
     "data": {
      "text/plain": [
       "[<selenium.webdriver.remote.webelement.WebElement (session=\"f06a3fdac7824c1320a49e3beb737137\", element=\"5fda871f-af01-4dae-acdf-68a607fe6836\")>,\n",
       " <selenium.webdriver.remote.webelement.WebElement (session=\"f06a3fdac7824c1320a49e3beb737137\", element=\"096987a5-39ed-4e8d-8cb3-1df4f16e330b\")>,\n",
       " <selenium.webdriver.remote.webelement.WebElement (session=\"f06a3fdac7824c1320a49e3beb737137\", element=\"62d50fb5-1e15-4b03-b7ec-699c720b803e\")>,\n",
       " <selenium.webdriver.remote.webelement.WebElement (session=\"f06a3fdac7824c1320a49e3beb737137\", element=\"d4d57fe4-1e76-489f-a072-a6c3a723a24f\")>,\n",
       " <selenium.webdriver.remote.webelement.WebElement (session=\"f06a3fdac7824c1320a49e3beb737137\", element=\"69c20b77-7eea-492a-a23c-dd507affb09d\")>,\n",
       " <selenium.webdriver.remote.webelement.WebElement (session=\"f06a3fdac7824c1320a49e3beb737137\", element=\"3ba3d287-2415-441e-8a21-9d70e87046ec\")>,\n",
       " <selenium.webdriver.remote.webelement.WebElement (session=\"f06a3fdac7824c1320a49e3beb737137\", element=\"1ee9f670-4b39-4682-8961-96317c99a43e\")>,\n",
       " <selenium.webdriver.remote.webelement.WebElement (session=\"f06a3fdac7824c1320a49e3beb737137\", element=\"0b4e20a3-f3bc-44d2-8220-9f3de7dd00b3\")>,\n",
       " <selenium.webdriver.remote.webelement.WebElement (session=\"f06a3fdac7824c1320a49e3beb737137\", element=\"631a07a6-10fd-43a9-8fdd-f717eeeca516\")>,\n",
       " <selenium.webdriver.remote.webelement.WebElement (session=\"f06a3fdac7824c1320a49e3beb737137\", element=\"3197ed87-3f3a-46b5-8706-c37535c6f96b\")>,\n",
       " <selenium.webdriver.remote.webelement.WebElement (session=\"f06a3fdac7824c1320a49e3beb737137\", element=\"9415fe44-540b-476f-8812-74a1c0fb66f6\")>,\n",
       " <selenium.webdriver.remote.webelement.WebElement (session=\"f06a3fdac7824c1320a49e3beb737137\", element=\"39b33ecb-5d10-4fee-bbd2-6130eb207f61\")>,\n",
       " <selenium.webdriver.remote.webelement.WebElement (session=\"f06a3fdac7824c1320a49e3beb737137\", element=\"ef71903a-364b-4870-a214-379cd2378845\")>,\n",
       " <selenium.webdriver.remote.webelement.WebElement (session=\"f06a3fdac7824c1320a49e3beb737137\", element=\"cac352fe-96b8-4b54-bb70-3f38dcd26efa\")>,\n",
       " <selenium.webdriver.remote.webelement.WebElement (session=\"f06a3fdac7824c1320a49e3beb737137\", element=\"b70271dd-1bbe-4160-ae98-19fbffe99243\")>,\n",
       " <selenium.webdriver.remote.webelement.WebElement (session=\"f06a3fdac7824c1320a49e3beb737137\", element=\"ebd7ad8a-de56-461e-bbe9-921ee4c1ba5c\")>,\n",
       " <selenium.webdriver.remote.webelement.WebElement (session=\"f06a3fdac7824c1320a49e3beb737137\", element=\"b1d73c48-9b5c-4355-a9cc-460e0e7f8277\")>,\n",
       " <selenium.webdriver.remote.webelement.WebElement (session=\"f06a3fdac7824c1320a49e3beb737137\", element=\"79f323f4-5ffb-407b-a560-b916ef2200be\")>,\n",
       " <selenium.webdriver.remote.webelement.WebElement (session=\"f06a3fdac7824c1320a49e3beb737137\", element=\"c8536ff7-fd7b-4921-ae02-180047251ff7\")>,\n",
       " <selenium.webdriver.remote.webelement.WebElement (session=\"f06a3fdac7824c1320a49e3beb737137\", element=\"d0255334-7c09-4ca5-98d2-ea34593d51a0\")>]"
      ]
     },
     "execution_count": 6,
     "metadata": {},
     "output_type": "execute_result"
    }
   ],
   "source": [
    "line1=browser.find_elements(\"xpath\",\"//div[@class='location ']\")\n",
    "line1"
   ]
  },
  {
   "cell_type": "code",
   "execution_count": 7,
   "id": "b1317f72",
   "metadata": {},
   "outputs": [
    {
     "data": {
      "text/plain": [
       "[' Hong Kong SAR',\n",
       " 'New York City, United States',\n",
       " 'Tokyo, Japan',\n",
       " 'Baltimore, United States',\n",
       " 'Ann Arbor, United States',\n",
       " 'Paris, France',\n",
       " 'Berkeley, United States',\n",
       " 'Manchester, United Kingdom',\n",
       " 'Seoul, South Korea',\n",
       " 'Canberra, Australia']"
      ]
     },
     "execution_count": 7,
     "metadata": {},
     "output_type": "execute_result"
    }
   ],
   "source": [
    "address=[]\n",
    "for data in line1:\n",
    "    #get the text data\n",
    "    temp=data.text\n",
    "    address.append(temp)\n",
    "address=address[10:]\n",
    "address"
   ]
  },
  {
   "cell_type": "code",
   "execution_count": 8,
   "id": "a2208752",
   "metadata": {},
   "outputs": [
    {
     "data": {
      "text/plain": [
       "[<selenium.webdriver.remote.webelement.WebElement (session=\"f06a3fdac7824c1320a49e3beb737137\", element=\"f669cc73-e58d-4b1f-b8e4-257058602468\")>,\n",
       " <selenium.webdriver.remote.webelement.WebElement (session=\"f06a3fdac7824c1320a49e3beb737137\", element=\"c0124961-6d5f-495f-aa32-6731f20f1f98\")>,\n",
       " <selenium.webdriver.remote.webelement.WebElement (session=\"f06a3fdac7824c1320a49e3beb737137\", element=\"77e4c3b0-bf18-453b-bc80-a95167c103a9\")>,\n",
       " <selenium.webdriver.remote.webelement.WebElement (session=\"f06a3fdac7824c1320a49e3beb737137\", element=\"3d64047f-6814-49e4-8cb4-6d82593e7f14\")>,\n",
       " <selenium.webdriver.remote.webelement.WebElement (session=\"f06a3fdac7824c1320a49e3beb737137\", element=\"c460d664-879c-40c2-80cb-3facfa006a17\")>,\n",
       " <selenium.webdriver.remote.webelement.WebElement (session=\"f06a3fdac7824c1320a49e3beb737137\", element=\"8f5535f8-cd2b-4a06-ba47-b32c243ac31b\")>,\n",
       " <selenium.webdriver.remote.webelement.WebElement (session=\"f06a3fdac7824c1320a49e3beb737137\", element=\"2aae28eb-a954-4a66-8c8d-5b8b88fae7db\")>,\n",
       " <selenium.webdriver.remote.webelement.WebElement (session=\"f06a3fdac7824c1320a49e3beb737137\", element=\"09ba9dce-e167-490b-a450-65cc2046ca8e\")>,\n",
       " <selenium.webdriver.remote.webelement.WebElement (session=\"f06a3fdac7824c1320a49e3beb737137\", element=\"79fdbd69-9a7e-4743-bfa3-2c5c2abca275\")>,\n",
       " <selenium.webdriver.remote.webelement.WebElement (session=\"f06a3fdac7824c1320a49e3beb737137\", element=\"316afe24-9857-4445-af23-a5014bcdc4bd\")>]"
      ]
     },
     "execution_count": 8,
     "metadata": {},
     "output_type": "execute_result"
    }
   ],
   "source": [
    "line2=browser.find_elements(\"xpath\",\"//div[@class='_univ-rank ']\")\n",
    "line2\n"
   ]
  },
  {
   "cell_type": "code",
   "execution_count": 9,
   "id": "cf5e46fc",
   "metadata": {},
   "outputs": [
    {
     "data": {
      "text/plain": [
       "['21', '22', '23', '24', '25', '26', '27', '28', '29', '30']"
      ]
     },
     "execution_count": 9,
     "metadata": {},
     "output_type": "execute_result"
    }
   ],
   "source": [
    "Rank=[]\n",
    "for data in line2:\n",
    "    #get the text data\n",
    "    temp=data.text\n",
    "    Rank.append(temp)\n",
    "Rank"
   ]
  },
  {
   "cell_type": "code",
   "execution_count": 10,
   "id": "40e616fa",
   "metadata": {},
   "outputs": [
    {
     "data": {
      "text/plain": [
       "[<selenium.webdriver.remote.webelement.WebElement (session=\"f06a3fdac7824c1320a49e3beb737137\", element=\"69a0348d-a95c-400f-96c8-b632b52a62e3\")>,\n",
       " <selenium.webdriver.remote.webelement.WebElement (session=\"f06a3fdac7824c1320a49e3beb737137\", element=\"d298d52a-df54-4853-a770-fb1f96394009\")>,\n",
       " <selenium.webdriver.remote.webelement.WebElement (session=\"f06a3fdac7824c1320a49e3beb737137\", element=\"8cd6f6ed-978e-439c-b385-2d0dec4dcd6f\")>,\n",
       " <selenium.webdriver.remote.webelement.WebElement (session=\"f06a3fdac7824c1320a49e3beb737137\", element=\"21db6f30-9b19-4f6f-847c-533967e7a24e\")>,\n",
       " <selenium.webdriver.remote.webelement.WebElement (session=\"f06a3fdac7824c1320a49e3beb737137\", element=\"3de27bc0-223c-403e-8b83-1f0deb933789\")>,\n",
       " <selenium.webdriver.remote.webelement.WebElement (session=\"f06a3fdac7824c1320a49e3beb737137\", element=\"1a8629a4-a58c-4741-854a-a9044bfcf146\")>,\n",
       " <selenium.webdriver.remote.webelement.WebElement (session=\"f06a3fdac7824c1320a49e3beb737137\", element=\"adad0dec-e511-49b1-846a-4a99b222c3e5\")>,\n",
       " <selenium.webdriver.remote.webelement.WebElement (session=\"f06a3fdac7824c1320a49e3beb737137\", element=\"cc712add-0c1a-4ddf-b52f-02b7ec44742f\")>,\n",
       " <selenium.webdriver.remote.webelement.WebElement (session=\"f06a3fdac7824c1320a49e3beb737137\", element=\"f2e6d614-5e88-4e53-ad61-d8a8f9d9449f\")>]"
      ]
     },
     "execution_count": 10,
     "metadata": {},
     "output_type": "execute_result"
    }
   ],
   "source": [
    "# GET EACH COLLEGE SPECIFICATION HEADERS\n",
    "line3=browser.find_elements(\"xpath\",\"//div[@class='_click-function_ind']\")\n",
    "line3"
   ]
  },
  {
   "cell_type": "code",
   "execution_count": 11,
   "id": "8654d368",
   "metadata": {},
   "outputs": [
    {
     "data": {
      "text/plain": [
       "['Overall Score',\n",
       " 'Academic Reputation',\n",
       " 'Employer Reputation',\n",
       " 'Citations per Faculty',\n",
       " 'Faculty Student Ratio',\n",
       " 'International Students Ratio',\n",
       " 'International Faculty Ratio',\n",
       " 'International Research Network\\nUnweighted',\n",
       " 'Employment Outcomes\\nUnweighted']"
      ]
     },
     "execution_count": 11,
     "metadata": {},
     "output_type": "execute_result"
    }
   ],
   "source": [
    "#PARSING DATA\n",
    "column=[]\n",
    "for data in line3:\n",
    "    #get the text data\n",
    "    temp=data.text\n",
    "    column.append(temp)\n",
    "column"
   ]
  },
  {
   "cell_type": "code",
   "execution_count": 12,
   "id": "cd1e3f04",
   "metadata": {},
   "outputs": [
    {
     "data": {
      "text/plain": [
       "[<selenium.webdriver.remote.webelement.WebElement (session=\"f06a3fdac7824c1320a49e3beb737137\", element=\"f6727b93-5525-4bef-8117-04b512f03d92\")>,\n",
       " <selenium.webdriver.remote.webelement.WebElement (session=\"f06a3fdac7824c1320a49e3beb737137\", element=\"e6a93419-6cc0-4e7b-a459-676532cc0fd7\")>,\n",
       " <selenium.webdriver.remote.webelement.WebElement (session=\"f06a3fdac7824c1320a49e3beb737137\", element=\"67ecd09a-cd1c-4fbe-8426-d8f99e2eeb1b\")>,\n",
       " <selenium.webdriver.remote.webelement.WebElement (session=\"f06a3fdac7824c1320a49e3beb737137\", element=\"e26233f4-4242-4bdd-bf81-4ae599a77558\")>,\n",
       " <selenium.webdriver.remote.webelement.WebElement (session=\"f06a3fdac7824c1320a49e3beb737137\", element=\"e6e8dcc7-591c-4d29-8eab-d88429a5f158\")>,\n",
       " <selenium.webdriver.remote.webelement.WebElement (session=\"f06a3fdac7824c1320a49e3beb737137\", element=\"bb445df4-a848-4501-8e54-ce9c693bea7f\")>,\n",
       " <selenium.webdriver.remote.webelement.WebElement (session=\"f06a3fdac7824c1320a49e3beb737137\", element=\"380f3c78-5b56-402e-a33a-c882a59b2ef7\")>,\n",
       " <selenium.webdriver.remote.webelement.WebElement (session=\"f06a3fdac7824c1320a49e3beb737137\", element=\"d0601871-986a-421a-8b45-1376c79b1e9d\")>,\n",
       " <selenium.webdriver.remote.webelement.WebElement (session=\"f06a3fdac7824c1320a49e3beb737137\", element=\"8c3c396c-d860-4a67-8823-fbd50c869441\")>,\n",
       " <selenium.webdriver.remote.webelement.WebElement (session=\"f06a3fdac7824c1320a49e3beb737137\", element=\"c5e00780-4d87-4750-a310-01a6211c5de9\")>,\n",
       " <selenium.webdriver.remote.webelement.WebElement (session=\"f06a3fdac7824c1320a49e3beb737137\", element=\"d76ea56a-d81f-4f7c-884f-0422fca80ae8\")>,\n",
       " <selenium.webdriver.remote.webelement.WebElement (session=\"f06a3fdac7824c1320a49e3beb737137\", element=\"a8b9ff34-5c5f-4236-97f5-15da3e1d6652\")>,\n",
       " <selenium.webdriver.remote.webelement.WebElement (session=\"f06a3fdac7824c1320a49e3beb737137\", element=\"b643e10d-1c45-4ded-89c2-4abccce5e451\")>,\n",
       " <selenium.webdriver.remote.webelement.WebElement (session=\"f06a3fdac7824c1320a49e3beb737137\", element=\"cb74784b-3847-454d-906b-f4fa51690427\")>,\n",
       " <selenium.webdriver.remote.webelement.WebElement (session=\"f06a3fdac7824c1320a49e3beb737137\", element=\"f2711552-96c6-4679-94d3-7baec7d44a20\")>,\n",
       " <selenium.webdriver.remote.webelement.WebElement (session=\"f06a3fdac7824c1320a49e3beb737137\", element=\"e895963d-c850-43ed-8465-c4af137aeec2\")>,\n",
       " <selenium.webdriver.remote.webelement.WebElement (session=\"f06a3fdac7824c1320a49e3beb737137\", element=\"bf348933-42e3-491e-bafe-4b139b86ca95\")>,\n",
       " <selenium.webdriver.remote.webelement.WebElement (session=\"f06a3fdac7824c1320a49e3beb737137\", element=\"b2d3d2f9-623f-45d3-ab51-83b13fe95843\")>,\n",
       " <selenium.webdriver.remote.webelement.WebElement (session=\"f06a3fdac7824c1320a49e3beb737137\", element=\"5aaddbc6-af68-46b7-a07d-37a3cf0e1ac3\")>,\n",
       " <selenium.webdriver.remote.webelement.WebElement (session=\"f06a3fdac7824c1320a49e3beb737137\", element=\"4fb6bc31-b8bf-425c-84d6-905f17781bb4\")>,\n",
       " <selenium.webdriver.remote.webelement.WebElement (session=\"f06a3fdac7824c1320a49e3beb737137\", element=\"84ee0ed3-cf3f-40d9-902c-8d36cca37e80\")>,\n",
       " <selenium.webdriver.remote.webelement.WebElement (session=\"f06a3fdac7824c1320a49e3beb737137\", element=\"cc5d59ad-40ae-473a-9156-1529a857f15e\")>,\n",
       " <selenium.webdriver.remote.webelement.WebElement (session=\"f06a3fdac7824c1320a49e3beb737137\", element=\"efab12ae-588d-4d90-8fcf-59d5d92cc97d\")>,\n",
       " <selenium.webdriver.remote.webelement.WebElement (session=\"f06a3fdac7824c1320a49e3beb737137\", element=\"31f4728d-fcb6-40a1-a8da-520c60699d95\")>,\n",
       " <selenium.webdriver.remote.webelement.WebElement (session=\"f06a3fdac7824c1320a49e3beb737137\", element=\"353ca787-222e-4547-8afd-703c78053c3d\")>,\n",
       " <selenium.webdriver.remote.webelement.WebElement (session=\"f06a3fdac7824c1320a49e3beb737137\", element=\"d200ca5a-89c5-49a0-baba-9f30ea04c7d2\")>,\n",
       " <selenium.webdriver.remote.webelement.WebElement (session=\"f06a3fdac7824c1320a49e3beb737137\", element=\"4a32c8db-9b41-48d5-becf-0b09c810afd2\")>,\n",
       " <selenium.webdriver.remote.webelement.WebElement (session=\"f06a3fdac7824c1320a49e3beb737137\", element=\"496ef715-2893-42a3-a723-974864abcdc1\")>,\n",
       " <selenium.webdriver.remote.webelement.WebElement (session=\"f06a3fdac7824c1320a49e3beb737137\", element=\"bab4bada-c980-4826-8bc7-02d382104a6b\")>,\n",
       " <selenium.webdriver.remote.webelement.WebElement (session=\"f06a3fdac7824c1320a49e3beb737137\", element=\"a6febc9c-ed54-4214-bb11-b9273d52a690\")>,\n",
       " <selenium.webdriver.remote.webelement.WebElement (session=\"f06a3fdac7824c1320a49e3beb737137\", element=\"ed9d4d98-f7e2-4f17-b591-4b57c7a057e2\")>,\n",
       " <selenium.webdriver.remote.webelement.WebElement (session=\"f06a3fdac7824c1320a49e3beb737137\", element=\"7eefd4c5-0dbe-4018-b2e3-814036badbeb\")>,\n",
       " <selenium.webdriver.remote.webelement.WebElement (session=\"f06a3fdac7824c1320a49e3beb737137\", element=\"b9c57e10-5a32-41bc-8196-d531f799f3e1\")>,\n",
       " <selenium.webdriver.remote.webelement.WebElement (session=\"f06a3fdac7824c1320a49e3beb737137\", element=\"9a67d372-eb90-4f98-9b9e-dc8977dd5412\")>,\n",
       " <selenium.webdriver.remote.webelement.WebElement (session=\"f06a3fdac7824c1320a49e3beb737137\", element=\"de2a61dc-4783-4251-8751-9ec2364e6b07\")>,\n",
       " <selenium.webdriver.remote.webelement.WebElement (session=\"f06a3fdac7824c1320a49e3beb737137\", element=\"fb53177a-ab97-49ad-b791-5376a2f1c6b5\")>,\n",
       " <selenium.webdriver.remote.webelement.WebElement (session=\"f06a3fdac7824c1320a49e3beb737137\", element=\"e4e4b797-8d8e-49ba-8ab5-46e2ad56b0b8\")>,\n",
       " <selenium.webdriver.remote.webelement.WebElement (session=\"f06a3fdac7824c1320a49e3beb737137\", element=\"09d39bea-891b-4548-be91-d79690d5e3c8\")>,\n",
       " <selenium.webdriver.remote.webelement.WebElement (session=\"f06a3fdac7824c1320a49e3beb737137\", element=\"cf591b9d-91fc-4da3-bb9c-9f135dc5606b\")>,\n",
       " <selenium.webdriver.remote.webelement.WebElement (session=\"f06a3fdac7824c1320a49e3beb737137\", element=\"fcc2870d-673d-4952-adf5-acc2347a7db2\")>,\n",
       " <selenium.webdriver.remote.webelement.WebElement (session=\"f06a3fdac7824c1320a49e3beb737137\", element=\"d7747eb8-a314-4b7f-b8c1-1c3ff56ca12b\")>,\n",
       " <selenium.webdriver.remote.webelement.WebElement (session=\"f06a3fdac7824c1320a49e3beb737137\", element=\"15133f66-4021-45ac-be67-b296faa2e3f1\")>,\n",
       " <selenium.webdriver.remote.webelement.WebElement (session=\"f06a3fdac7824c1320a49e3beb737137\", element=\"320975ec-7102-4422-b326-3a62be9fe375\")>,\n",
       " <selenium.webdriver.remote.webelement.WebElement (session=\"f06a3fdac7824c1320a49e3beb737137\", element=\"ad2d540e-4574-4243-b824-aec4c56451de\")>,\n",
       " <selenium.webdriver.remote.webelement.WebElement (session=\"f06a3fdac7824c1320a49e3beb737137\", element=\"46df0c95-6b4e-474c-93d5-2f45a60e15a7\")>,\n",
       " <selenium.webdriver.remote.webelement.WebElement (session=\"f06a3fdac7824c1320a49e3beb737137\", element=\"1e898b30-5cc7-412e-99ae-92165c91038f\")>,\n",
       " <selenium.webdriver.remote.webelement.WebElement (session=\"f06a3fdac7824c1320a49e3beb737137\", element=\"0a121615-e9ac-4ba5-b20b-5844ce20b2bc\")>,\n",
       " <selenium.webdriver.remote.webelement.WebElement (session=\"f06a3fdac7824c1320a49e3beb737137\", element=\"cd6c3ab8-ce64-40c6-963e-d10153d86cb0\")>,\n",
       " <selenium.webdriver.remote.webelement.WebElement (session=\"f06a3fdac7824c1320a49e3beb737137\", element=\"8df0cd84-ef0e-4408-b49a-3c7de737c4d2\")>,\n",
       " <selenium.webdriver.remote.webelement.WebElement (session=\"f06a3fdac7824c1320a49e3beb737137\", element=\"bc066526-b297-4b12-92f7-36940bbe9a5f\")>,\n",
       " <selenium.webdriver.remote.webelement.WebElement (session=\"f06a3fdac7824c1320a49e3beb737137\", element=\"baf641ae-4ec5-4ce6-bba5-7465bd612bbf\")>,\n",
       " <selenium.webdriver.remote.webelement.WebElement (session=\"f06a3fdac7824c1320a49e3beb737137\", element=\"31c66231-60a3-46c8-bb33-399a2018d66f\")>,\n",
       " <selenium.webdriver.remote.webelement.WebElement (session=\"f06a3fdac7824c1320a49e3beb737137\", element=\"9ca25940-ae12-4932-b635-b239debb2482\")>,\n",
       " <selenium.webdriver.remote.webelement.WebElement (session=\"f06a3fdac7824c1320a49e3beb737137\", element=\"36fe9d23-eb2d-41ec-9fed-6ffc45017dfd\")>,\n",
       " <selenium.webdriver.remote.webelement.WebElement (session=\"f06a3fdac7824c1320a49e3beb737137\", element=\"11f5ab08-a7ef-40b3-a160-1ba192c754a2\")>,\n",
       " <selenium.webdriver.remote.webelement.WebElement (session=\"f06a3fdac7824c1320a49e3beb737137\", element=\"e4324102-eafb-4322-91ae-71e8980d7dc4\")>,\n",
       " <selenium.webdriver.remote.webelement.WebElement (session=\"f06a3fdac7824c1320a49e3beb737137\", element=\"3bce5981-fd66-4cdc-afed-21912dfb2e28\")>,\n",
       " <selenium.webdriver.remote.webelement.WebElement (session=\"f06a3fdac7824c1320a49e3beb737137\", element=\"549b4228-2e4a-4e9f-ba35-0fd37a38a949\")>,\n",
       " <selenium.webdriver.remote.webelement.WebElement (session=\"f06a3fdac7824c1320a49e3beb737137\", element=\"21a5df26-575b-4c29-80d2-a972585cbc5d\")>,\n",
       " <selenium.webdriver.remote.webelement.WebElement (session=\"f06a3fdac7824c1320a49e3beb737137\", element=\"fa773b5e-68f1-46b4-940a-ffb19015f68d\")>,\n",
       " <selenium.webdriver.remote.webelement.WebElement (session=\"f06a3fdac7824c1320a49e3beb737137\", element=\"5e040744-f84b-4139-9746-eeec69a92e66\")>,\n",
       " <selenium.webdriver.remote.webelement.WebElement (session=\"f06a3fdac7824c1320a49e3beb737137\", element=\"de8fc125-401a-4905-b83e-794fca0e3862\")>,\n",
       " <selenium.webdriver.remote.webelement.WebElement (session=\"f06a3fdac7824c1320a49e3beb737137\", element=\"f090f747-a0ce-4034-bf67-fc2b39ca8e83\")>,\n",
       " <selenium.webdriver.remote.webelement.WebElement (session=\"f06a3fdac7824c1320a49e3beb737137\", element=\"18759c9c-4fa8-42f9-a836-d8d6c09971b9\")>,\n",
       " <selenium.webdriver.remote.webelement.WebElement (session=\"f06a3fdac7824c1320a49e3beb737137\", element=\"2c1d0ecf-b695-4cdc-b49f-e425ba15a59f\")>,\n",
       " <selenium.webdriver.remote.webelement.WebElement (session=\"f06a3fdac7824c1320a49e3beb737137\", element=\"f8a66895-cfa5-4692-a722-7996baa4a7f3\")>,\n",
       " <selenium.webdriver.remote.webelement.WebElement (session=\"f06a3fdac7824c1320a49e3beb737137\", element=\"66d204ff-d5d6-4835-b82a-96845907dbd6\")>,\n",
       " <selenium.webdriver.remote.webelement.WebElement (session=\"f06a3fdac7824c1320a49e3beb737137\", element=\"033bdb0b-6c38-4934-90e0-305ff0bc0eb2\")>,\n",
       " <selenium.webdriver.remote.webelement.WebElement (session=\"f06a3fdac7824c1320a49e3beb737137\", element=\"0734fc0e-2aeb-46db-b014-80036b7fb057\")>,\n",
       " <selenium.webdriver.remote.webelement.WebElement (session=\"f06a3fdac7824c1320a49e3beb737137\", element=\"98d6f8ad-6b0f-497d-8bed-d8eb19a15a37\")>,\n",
       " <selenium.webdriver.remote.webelement.WebElement (session=\"f06a3fdac7824c1320a49e3beb737137\", element=\"5b599368-8131-4513-9ba2-c842883b9e85\")>,\n",
       " <selenium.webdriver.remote.webelement.WebElement (session=\"f06a3fdac7824c1320a49e3beb737137\", element=\"28346162-7094-4efe-b5f9-7ae44ed11acd\")>,\n",
       " <selenium.webdriver.remote.webelement.WebElement (session=\"f06a3fdac7824c1320a49e3beb737137\", element=\"a509ef88-f714-4ea5-b978-537948f98223\")>,\n",
       " <selenium.webdriver.remote.webelement.WebElement (session=\"f06a3fdac7824c1320a49e3beb737137\", element=\"c29e9567-1a79-4eb8-9eed-b1b282ac13e4\")>,\n",
       " <selenium.webdriver.remote.webelement.WebElement (session=\"f06a3fdac7824c1320a49e3beb737137\", element=\"0c6a9879-6bf3-4748-a0d4-c0ccf576c208\")>,\n",
       " <selenium.webdriver.remote.webelement.WebElement (session=\"f06a3fdac7824c1320a49e3beb737137\", element=\"6afefc64-fd38-43f8-a9cd-a8b4dc9a8fa5\")>,\n",
       " <selenium.webdriver.remote.webelement.WebElement (session=\"f06a3fdac7824c1320a49e3beb737137\", element=\"0806f50a-e4b8-4bda-a149-a932e6fd5de9\")>,\n",
       " <selenium.webdriver.remote.webelement.WebElement (session=\"f06a3fdac7824c1320a49e3beb737137\", element=\"19695633-9e45-4331-8a8f-4d47a92a66ce\")>,\n",
       " <selenium.webdriver.remote.webelement.WebElement (session=\"f06a3fdac7824c1320a49e3beb737137\", element=\"85e95e93-2a4d-409c-ab3b-520147e4921c\")>,\n",
       " <selenium.webdriver.remote.webelement.WebElement (session=\"f06a3fdac7824c1320a49e3beb737137\", element=\"9bece11f-dc08-44a1-b88e-c13429bd5e38\")>,\n",
       " <selenium.webdriver.remote.webelement.WebElement (session=\"f06a3fdac7824c1320a49e3beb737137\", element=\"ba45ce2c-eb2b-4a8a-a88a-4a21eb839d08\")>,\n",
       " <selenium.webdriver.remote.webelement.WebElement (session=\"f06a3fdac7824c1320a49e3beb737137\", element=\"5811382d-39db-4056-aafa-0b891a9fde9d\")>,\n",
       " <selenium.webdriver.remote.webelement.WebElement (session=\"f06a3fdac7824c1320a49e3beb737137\", element=\"4152dd29-69c5-4ed7-a7d1-a7f93139fec3\")>,\n",
       " <selenium.webdriver.remote.webelement.WebElement (session=\"f06a3fdac7824c1320a49e3beb737137\", element=\"da2ae9e4-f4b5-4524-9fa1-e6e23d8585ac\")>,\n",
       " <selenium.webdriver.remote.webelement.WebElement (session=\"f06a3fdac7824c1320a49e3beb737137\", element=\"44a10823-488e-4d9b-bdd1-b1e90d3fcc73\")>,\n",
       " <selenium.webdriver.remote.webelement.WebElement (session=\"f06a3fdac7824c1320a49e3beb737137\", element=\"ad7dda7a-702e-4ed7-8894-9347a419fb65\")>,\n",
       " <selenium.webdriver.remote.webelement.WebElement (session=\"f06a3fdac7824c1320a49e3beb737137\", element=\"a6f219b7-824f-4fba-827a-d0e5d3de45f3\")>,\n",
       " <selenium.webdriver.remote.webelement.WebElement (session=\"f06a3fdac7824c1320a49e3beb737137\", element=\"7a51edf3-3e9a-4470-a904-6b66d72c1027\")>,\n",
       " <selenium.webdriver.remote.webelement.WebElement (session=\"f06a3fdac7824c1320a49e3beb737137\", element=\"522100cd-34d0-477a-8c03-d380d98d4494\")>,\n",
       " <selenium.webdriver.remote.webelement.WebElement (session=\"f06a3fdac7824c1320a49e3beb737137\", element=\"edf541cc-1d15-454e-acee-37ec576811bf\")>,\n",
       " <selenium.webdriver.remote.webelement.WebElement (session=\"f06a3fdac7824c1320a49e3beb737137\", element=\"9d8eccc8-e87a-4eb6-bfb2-d347961b745f\")>,\n",
       " <selenium.webdriver.remote.webelement.WebElement (session=\"f06a3fdac7824c1320a49e3beb737137\", element=\"2a9a6219-c878-4113-96ab-271b2e9dbb85\")>,\n",
       " <selenium.webdriver.remote.webelement.WebElement (session=\"f06a3fdac7824c1320a49e3beb737137\", element=\"0982f8d2-db1e-4074-bad1-9a87d6d61934\")>,\n",
       " <selenium.webdriver.remote.webelement.WebElement (session=\"f06a3fdac7824c1320a49e3beb737137\", element=\"d0e6ff93-16e6-46a5-957f-a1906764cbed\")>,\n",
       " <selenium.webdriver.remote.webelement.WebElement (session=\"f06a3fdac7824c1320a49e3beb737137\", element=\"0c914bf4-1a66-4666-999c-882fbfbef43a\")>,\n",
       " <selenium.webdriver.remote.webelement.WebElement (session=\"f06a3fdac7824c1320a49e3beb737137\", element=\"3d950592-d6d6-4318-a3e7-758d65bed2c8\")>,\n",
       " <selenium.webdriver.remote.webelement.WebElement (session=\"f06a3fdac7824c1320a49e3beb737137\", element=\"113d20a5-4021-4e0e-833a-6c9e91f6882a\")>,\n",
       " <selenium.webdriver.remote.webelement.WebElement (session=\"f06a3fdac7824c1320a49e3beb737137\", element=\"b3420109-86c4-4727-9890-46841e9f78d0\")>,\n",
       " <selenium.webdriver.remote.webelement.WebElement (session=\"f06a3fdac7824c1320a49e3beb737137\", element=\"54fb5f1d-73ca-4cd3-a617-e0c2b3a834e1\")>,\n",
       " <selenium.webdriver.remote.webelement.WebElement (session=\"f06a3fdac7824c1320a49e3beb737137\", element=\"cb7c50b1-e864-486f-a532-90c7b2f45515\")>]"
      ]
     },
     "execution_count": 12,
     "metadata": {},
     "output_type": "execute_result"
    }
   ],
   "source": [
    "line4=browser.find_elements(\"xpath\",\"//div[@class='td-wrap-in']\")\n",
    "line4"
   ]
  },
  {
   "cell_type": "code",
   "execution_count": 14,
   "id": "1263b4b4",
   "metadata": {},
   "outputs": [
    {
     "data": {
      "text/plain": [
       "['82.3', '95.1', '97.7', '59', '63.1', '99.4', '93.4', '98.9', '66.4']"
      ]
     },
     "execution_count": 14,
     "metadata": {},
     "output_type": "execute_result"
    }
   ],
   "source": [
    "#PARSING DATA\n",
    "value=[]\n",
    "for data in line4:\n",
    "    #get the text data\n",
    "    temp=data.text\n",
    "    value.append(temp)\n",
    "value_h=value[71:80]\n",
    "value_h"
   ]
  },
  {
   "cell_type": "code",
   "execution_count": 15,
   "id": "09ca51ed",
   "metadata": {},
   "outputs": [
    {
     "data": {
      "text/plain": [
       "{'Name': 'The University of Manchester',\n",
       " 'Location': 'Manchester, United Kingdom',\n",
       " 'Rank': '28',\n",
       " 'Overall Score': '82.3',\n",
       " 'Academic Reputation': '95.1',\n",
       " 'Employer Reputation': '97.7',\n",
       " 'Citations per Faculty': '59',\n",
       " 'Faculty Student Ratio': '63.1',\n",
       " 'International Students Ratio': '99.4',\n",
       " 'International Faculty Ratio': '93.4',\n",
       " 'International Research Network\\nUnweighted': '98.9',\n",
       " 'Employment Outcomes\\nUnweighted': '66.4'}"
      ]
     },
     "execution_count": 15,
     "metadata": {},
     "output_type": "execute_result"
    }
   ],
   "source": [
    "d={}\n",
    "d['Name']=value[70]\n",
    "d['Location']=address[7]\n",
    "d['Rank']=Rank[7]\n",
    "for i in range(len(column)):\n",
    "    d[column[i]]=value_h[i]\n",
    "d"
   ]
  },
  {
   "cell_type": "code",
   "execution_count": 16,
   "id": "4c834070",
   "metadata": {},
   "outputs": [
    {
     "data": {
      "text/plain": [
       "'{\"Name\": \"The University of Manchester\", \"Location\": \"Manchester, United Kingdom\", \"Rank\": \"28\", \"Overall Score\": \"82.3\", \"Academic Reputation\": \"95.1\", \"Employer Reputation\": \"97.7\", \"Citations per Faculty\": \"59\", \"Faculty Student Ratio\": \"63.1\", \"International Students Ratio\": \"99.4\", \"International Faculty Ratio\": \"93.4\", \"International Research Network\\\\nUnweighted\": \"98.9\", \"Employment Outcomes\\\\nUnweighted\": \"66.4\"}'"
      ]
     },
     "execution_count": 16,
     "metadata": {},
     "output_type": "execute_result"
    }
   ],
   "source": [
    "s1=json.dumps(d)\n",
    "s1"
   ]
  },
  {
   "cell_type": "code",
   "execution_count": 17,
   "id": "01bd98dc",
   "metadata": {},
   "outputs": [],
   "source": [
    "with open('The University of Manchester.json','w') as f:\n",
    "    json.dump(d,f)"
   ]
  }
 ],
 "metadata": {
  "kernelspec": {
   "display_name": "Python 3.9.12 ('base')",
   "language": "python",
   "name": "python3"
  },
  "language_info": {
   "codemirror_mode": {
    "name": "ipython",
    "version": 3
   },
   "file_extension": ".py",
   "mimetype": "text/x-python",
   "name": "python",
   "nbconvert_exporter": "python",
   "pygments_lexer": "ipython3",
   "version": "3.9.12"
  },
  "vscode": {
   "interpreter": {
    "hash": "ad2bdc8ecc057115af97d19610ffacc2b4e99fae6737bb82f5d7fb13d2f2c186"
   }
  }
 },
 "nbformat": 4,
 "nbformat_minor": 5
}
