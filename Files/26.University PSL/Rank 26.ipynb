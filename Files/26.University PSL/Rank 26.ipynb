{
 "cells": [
  {
   "cell_type": "code",
   "execution_count": 1,
   "id": "9cb9127f",
   "metadata": {},
   "outputs": [],
   "source": [
    "from selenium import webdriver\n",
    "from selenium.webdriver.chrome.service import Service\n",
    "import pandas as pd\n",
    "import json"
   ]
  },
  {
   "cell_type": "code",
   "execution_count": 2,
   "id": "efb0bb45",
   "metadata": {},
   "outputs": [],
   "source": [
    "path = Service('C:\\chromedriver.exe')"
   ]
  },
  {
   "cell_type": "code",
   "execution_count": 3,
   "id": "1ae5c6cf",
   "metadata": {},
   "outputs": [],
   "source": [
    "\n",
    "# set path for the driver\n",
    "browser = webdriver.Chrome(service = path)"
   ]
  },
  {
   "cell_type": "code",
   "execution_count": 4,
   "id": "f06089ef",
   "metadata": {},
   "outputs": [],
   "source": [
    "url = \"https://www.topuniversities.com/university-rankings/world-university-rankings/2023\""
   ]
  },
  {
   "cell_type": "code",
   "execution_count": 5,
   "id": "7ee86c21",
   "metadata": {},
   "outputs": [],
   "source": [
    "# open the page url ion chrome\n",
    "browser.get(url)"
   ]
  },
  {
   "cell_type": "code",
   "execution_count": 6,
   "id": "07a1845f",
   "metadata": {},
   "outputs": [
    {
     "data": {
      "text/plain": [
       "[<selenium.webdriver.remote.webelement.WebElement (session=\"0a64f91dfee4dc54e4cc99e8111483c2\", element=\"1a885172-554f-42a8-9c33-99d77279bc7c\")>,\n",
       " <selenium.webdriver.remote.webelement.WebElement (session=\"0a64f91dfee4dc54e4cc99e8111483c2\", element=\"7349caf3-9f70-46a8-9149-5b147f059ac4\")>,\n",
       " <selenium.webdriver.remote.webelement.WebElement (session=\"0a64f91dfee4dc54e4cc99e8111483c2\", element=\"017bfe68-49ef-4d6b-a2dd-59e6d75aecd7\")>,\n",
       " <selenium.webdriver.remote.webelement.WebElement (session=\"0a64f91dfee4dc54e4cc99e8111483c2\", element=\"5e04e91d-62e4-44f0-b426-2a9c519932c5\")>,\n",
       " <selenium.webdriver.remote.webelement.WebElement (session=\"0a64f91dfee4dc54e4cc99e8111483c2\", element=\"19575247-abf1-4293-8eaa-7e3a73d1852f\")>,\n",
       " <selenium.webdriver.remote.webelement.WebElement (session=\"0a64f91dfee4dc54e4cc99e8111483c2\", element=\"da94ec9c-747c-4b0b-9641-a71ec5c36101\")>,\n",
       " <selenium.webdriver.remote.webelement.WebElement (session=\"0a64f91dfee4dc54e4cc99e8111483c2\", element=\"7d8498d4-66b8-4ea1-9386-485c21500786\")>,\n",
       " <selenium.webdriver.remote.webelement.WebElement (session=\"0a64f91dfee4dc54e4cc99e8111483c2\", element=\"9f65e66e-6e84-46cb-910f-5107ae23ba9b\")>,\n",
       " <selenium.webdriver.remote.webelement.WebElement (session=\"0a64f91dfee4dc54e4cc99e8111483c2\", element=\"1a91a436-c232-4622-9243-805e4aef6498\")>,\n",
       " <selenium.webdriver.remote.webelement.WebElement (session=\"0a64f91dfee4dc54e4cc99e8111483c2\", element=\"67f57728-e795-4bd7-b627-84fb8a8b9f8a\")>,\n",
       " <selenium.webdriver.remote.webelement.WebElement (session=\"0a64f91dfee4dc54e4cc99e8111483c2\", element=\"5e8e341b-64ff-4040-9c3e-ce676606c494\")>,\n",
       " <selenium.webdriver.remote.webelement.WebElement (session=\"0a64f91dfee4dc54e4cc99e8111483c2\", element=\"3fc5eaf0-7c54-4dcf-b473-bddda17f6531\")>,\n",
       " <selenium.webdriver.remote.webelement.WebElement (session=\"0a64f91dfee4dc54e4cc99e8111483c2\", element=\"b948a448-ebb2-464f-8c56-473c13d4b70a\")>,\n",
       " <selenium.webdriver.remote.webelement.WebElement (session=\"0a64f91dfee4dc54e4cc99e8111483c2\", element=\"d285331c-28f1-41b9-856f-9f43fde82f7c\")>,\n",
       " <selenium.webdriver.remote.webelement.WebElement (session=\"0a64f91dfee4dc54e4cc99e8111483c2\", element=\"2b3f4ce4-e7e7-40f1-9410-34bcab63f5f7\")>,\n",
       " <selenium.webdriver.remote.webelement.WebElement (session=\"0a64f91dfee4dc54e4cc99e8111483c2\", element=\"736cf2df-fc47-495c-b440-a2464098596c\")>,\n",
       " <selenium.webdriver.remote.webelement.WebElement (session=\"0a64f91dfee4dc54e4cc99e8111483c2\", element=\"4836a215-036d-4e23-82e6-34b3230e4d49\")>,\n",
       " <selenium.webdriver.remote.webelement.WebElement (session=\"0a64f91dfee4dc54e4cc99e8111483c2\", element=\"42b9865f-06b8-4c43-8fda-6a7cc6e8072e\")>,\n",
       " <selenium.webdriver.remote.webelement.WebElement (session=\"0a64f91dfee4dc54e4cc99e8111483c2\", element=\"00b76f3d-b099-4346-9470-fdb172eab3d9\")>,\n",
       " <selenium.webdriver.remote.webelement.WebElement (session=\"0a64f91dfee4dc54e4cc99e8111483c2\", element=\"daf5af0a-210a-484e-ac10-f1f1eed0d906\")>]"
      ]
     },
     "execution_count": 6,
     "metadata": {},
     "output_type": "execute_result"
    }
   ],
   "source": [
    "line1=browser.find_elements(\"xpath\",\"//div[@class='location ']\")\n",
    "line1"
   ]
  },
  {
   "cell_type": "code",
   "execution_count": 7,
   "id": "2e817165",
   "metadata": {},
   "outputs": [
    {
     "data": {
      "text/plain": [
       "[' Hong Kong SAR',\n",
       " 'New York City, United States',\n",
       " 'Tokyo, Japan',\n",
       " 'Baltimore, United States',\n",
       " 'Ann Arbor, United States',\n",
       " 'Paris, France',\n",
       " 'Berkeley, United States',\n",
       " 'Manchester, United Kingdom',\n",
       " 'Seoul, South Korea',\n",
       " 'Canberra, Australia']"
      ]
     },
     "execution_count": 7,
     "metadata": {},
     "output_type": "execute_result"
    }
   ],
   "source": [
    "address=[]\n",
    "for data in line1:\n",
    "    #get the text data\n",
    "    temp=data.text\n",
    "    address.append(temp)\n",
    "address=address[10:]\n",
    "address"
   ]
  },
  {
   "cell_type": "code",
   "execution_count": 8,
   "id": "37a184e8",
   "metadata": {},
   "outputs": [
    {
     "data": {
      "text/plain": [
       "[<selenium.webdriver.remote.webelement.WebElement (session=\"0a64f91dfee4dc54e4cc99e8111483c2\", element=\"c462aa85-4c6f-472d-b885-4dd0503a6a36\")>,\n",
       " <selenium.webdriver.remote.webelement.WebElement (session=\"0a64f91dfee4dc54e4cc99e8111483c2\", element=\"f97be2a7-3c35-435d-85f5-e9b796e140e4\")>,\n",
       " <selenium.webdriver.remote.webelement.WebElement (session=\"0a64f91dfee4dc54e4cc99e8111483c2\", element=\"cb4b2504-4c73-4508-9a57-9f0cec5c894a\")>,\n",
       " <selenium.webdriver.remote.webelement.WebElement (session=\"0a64f91dfee4dc54e4cc99e8111483c2\", element=\"a8929366-af41-4015-aa2d-be006104c6bb\")>,\n",
       " <selenium.webdriver.remote.webelement.WebElement (session=\"0a64f91dfee4dc54e4cc99e8111483c2\", element=\"b5cc0f4c-a56a-4faf-bd45-9b1d7fc11dae\")>,\n",
       " <selenium.webdriver.remote.webelement.WebElement (session=\"0a64f91dfee4dc54e4cc99e8111483c2\", element=\"1f3567e6-c2e3-464f-8aaa-332711e41120\")>,\n",
       " <selenium.webdriver.remote.webelement.WebElement (session=\"0a64f91dfee4dc54e4cc99e8111483c2\", element=\"725914ba-1986-49df-9e9d-7b3d1c974af0\")>,\n",
       " <selenium.webdriver.remote.webelement.WebElement (session=\"0a64f91dfee4dc54e4cc99e8111483c2\", element=\"0876394d-b36e-4778-b3d6-b9c80fe0f5d4\")>,\n",
       " <selenium.webdriver.remote.webelement.WebElement (session=\"0a64f91dfee4dc54e4cc99e8111483c2\", element=\"00bd10d8-c46a-4c45-ba59-d27d3cf71a15\")>,\n",
       " <selenium.webdriver.remote.webelement.WebElement (session=\"0a64f91dfee4dc54e4cc99e8111483c2\", element=\"71e67ff6-f3df-4929-807a-3a6502c9e9fd\")>]"
      ]
     },
     "execution_count": 8,
     "metadata": {},
     "output_type": "execute_result"
    }
   ],
   "source": [
    "line2=browser.find_elements(\"xpath\",\"//div[@class='_univ-rank ']\")\n",
    "line2"
   ]
  },
  {
   "cell_type": "code",
   "execution_count": 9,
   "id": "8b0f0cae",
   "metadata": {},
   "outputs": [
    {
     "data": {
      "text/plain": [
       "['21', '22', '23', '24', '25', '26', '27', '28', '29', '30']"
      ]
     },
     "execution_count": 9,
     "metadata": {},
     "output_type": "execute_result"
    }
   ],
   "source": [
    "Rank=[]\n",
    "for data in line2:\n",
    "    #get the text data\n",
    "    temp=data.text\n",
    "    Rank.append(temp)\n",
    "Rank"
   ]
  },
  {
   "cell_type": "code",
   "execution_count": 10,
   "id": "192b9fdc",
   "metadata": {},
   "outputs": [
    {
     "data": {
      "text/plain": [
       "[<selenium.webdriver.remote.webelement.WebElement (session=\"0a64f91dfee4dc54e4cc99e8111483c2\", element=\"51d33850-aee5-45f0-ac23-f0d7c9c40bc3\")>,\n",
       " <selenium.webdriver.remote.webelement.WebElement (session=\"0a64f91dfee4dc54e4cc99e8111483c2\", element=\"3eca326a-a11f-479f-85fc-a555478bd7b6\")>,\n",
       " <selenium.webdriver.remote.webelement.WebElement (session=\"0a64f91dfee4dc54e4cc99e8111483c2\", element=\"c3c62b77-a4fc-4cc4-a507-beb77c606a50\")>,\n",
       " <selenium.webdriver.remote.webelement.WebElement (session=\"0a64f91dfee4dc54e4cc99e8111483c2\", element=\"7c4ea6d2-811d-4309-9025-a53179ef299d\")>,\n",
       " <selenium.webdriver.remote.webelement.WebElement (session=\"0a64f91dfee4dc54e4cc99e8111483c2\", element=\"046b57c7-d4e3-4d76-be10-2c05c1f01e40\")>,\n",
       " <selenium.webdriver.remote.webelement.WebElement (session=\"0a64f91dfee4dc54e4cc99e8111483c2\", element=\"0dbc7b3b-938c-4ac3-bbfd-fb2850ad55b8\")>,\n",
       " <selenium.webdriver.remote.webelement.WebElement (session=\"0a64f91dfee4dc54e4cc99e8111483c2\", element=\"7437849c-1a36-4f0b-9281-2ec575b6a6f6\")>,\n",
       " <selenium.webdriver.remote.webelement.WebElement (session=\"0a64f91dfee4dc54e4cc99e8111483c2\", element=\"d8af1293-fc31-4797-87fc-661530bbb740\")>,\n",
       " <selenium.webdriver.remote.webelement.WebElement (session=\"0a64f91dfee4dc54e4cc99e8111483c2\", element=\"bcbc30c6-8f36-451b-bf37-5e6efcc291b0\")>]"
      ]
     },
     "execution_count": 10,
     "metadata": {},
     "output_type": "execute_result"
    }
   ],
   "source": [
    "# GET EACH COLLEGE SPECIFICATION HEADERS\n",
    "line3=browser.find_elements(\"xpath\",\"//div[@class='_click-function_ind']\")\n",
    "line3"
   ]
  },
  {
   "cell_type": "code",
   "execution_count": 11,
   "id": "5e4537fd",
   "metadata": {},
   "outputs": [
    {
     "data": {
      "text/plain": [
       "['Overall Score',\n",
       " 'Academic Reputation',\n",
       " 'Employer Reputation',\n",
       " 'Citations per Faculty',\n",
       " 'Faculty Student Ratio',\n",
       " 'International Students Ratio',\n",
       " 'International Faculty Ratio',\n",
       " 'International Research Network\\nUnweighted',\n",
       " 'Employment Outcomes\\nUnweighted']"
      ]
     },
     "execution_count": 11,
     "metadata": {},
     "output_type": "execute_result"
    }
   ],
   "source": [
    "#PARSING DATA\n",
    "column=[]\n",
    "for data in line3:\n",
    "    #get the text data\n",
    "    temp=data.text\n",
    "    column.append(temp)\n",
    "column"
   ]
  },
  {
   "cell_type": "code",
   "execution_count": 12,
   "id": "3e23ec92",
   "metadata": {},
   "outputs": [
    {
     "data": {
      "text/plain": [
       "[<selenium.webdriver.remote.webelement.WebElement (session=\"0a64f91dfee4dc54e4cc99e8111483c2\", element=\"9074454f-33d4-4dea-b82e-2ba3f48a9c6e\")>,\n",
       " <selenium.webdriver.remote.webelement.WebElement (session=\"0a64f91dfee4dc54e4cc99e8111483c2\", element=\"9712f2e8-6cf5-4167-b009-04cd2862128b\")>,\n",
       " <selenium.webdriver.remote.webelement.WebElement (session=\"0a64f91dfee4dc54e4cc99e8111483c2\", element=\"e1cbe8fa-62c4-4d4c-9a99-492eda7c6d47\")>,\n",
       " <selenium.webdriver.remote.webelement.WebElement (session=\"0a64f91dfee4dc54e4cc99e8111483c2\", element=\"a28fb75d-d2a6-4d45-ba75-5f12462963db\")>,\n",
       " <selenium.webdriver.remote.webelement.WebElement (session=\"0a64f91dfee4dc54e4cc99e8111483c2\", element=\"38728cc9-11bb-4888-a484-61a1d1381643\")>,\n",
       " <selenium.webdriver.remote.webelement.WebElement (session=\"0a64f91dfee4dc54e4cc99e8111483c2\", element=\"f6028279-6de3-4962-8fe1-22b8534fff41\")>,\n",
       " <selenium.webdriver.remote.webelement.WebElement (session=\"0a64f91dfee4dc54e4cc99e8111483c2\", element=\"d35ffed1-1e0f-49c2-ac25-a74bc750ea35\")>,\n",
       " <selenium.webdriver.remote.webelement.WebElement (session=\"0a64f91dfee4dc54e4cc99e8111483c2\", element=\"2d200cef-325c-48ae-a4b3-aa106e993e14\")>,\n",
       " <selenium.webdriver.remote.webelement.WebElement (session=\"0a64f91dfee4dc54e4cc99e8111483c2\", element=\"fcc2543f-77d8-4732-a080-64805e8ac0da\")>,\n",
       " <selenium.webdriver.remote.webelement.WebElement (session=\"0a64f91dfee4dc54e4cc99e8111483c2\", element=\"227b420d-3c27-431d-bee1-52327d1ead59\")>,\n",
       " <selenium.webdriver.remote.webelement.WebElement (session=\"0a64f91dfee4dc54e4cc99e8111483c2\", element=\"bbc6e9c8-4a07-4062-bbb1-e4612e7ecb01\")>,\n",
       " <selenium.webdriver.remote.webelement.WebElement (session=\"0a64f91dfee4dc54e4cc99e8111483c2\", element=\"0ecfe519-191d-4512-bb50-0d592792e69f\")>,\n",
       " <selenium.webdriver.remote.webelement.WebElement (session=\"0a64f91dfee4dc54e4cc99e8111483c2\", element=\"324780a5-e176-48b0-9e7f-c4d5db168472\")>,\n",
       " <selenium.webdriver.remote.webelement.WebElement (session=\"0a64f91dfee4dc54e4cc99e8111483c2\", element=\"c8c3d364-aaa8-41e0-87c1-17a284eaec95\")>,\n",
       " <selenium.webdriver.remote.webelement.WebElement (session=\"0a64f91dfee4dc54e4cc99e8111483c2\", element=\"528a149c-c3c1-4428-9aff-707da4f6ea2c\")>,\n",
       " <selenium.webdriver.remote.webelement.WebElement (session=\"0a64f91dfee4dc54e4cc99e8111483c2\", element=\"d8190759-f385-4b8e-9dfb-db65c9e27687\")>,\n",
       " <selenium.webdriver.remote.webelement.WebElement (session=\"0a64f91dfee4dc54e4cc99e8111483c2\", element=\"6dc8dac9-f978-4228-b5a3-2e263d7f3539\")>,\n",
       " <selenium.webdriver.remote.webelement.WebElement (session=\"0a64f91dfee4dc54e4cc99e8111483c2\", element=\"7b0f68d2-1ace-425a-84f4-c23404b7f502\")>,\n",
       " <selenium.webdriver.remote.webelement.WebElement (session=\"0a64f91dfee4dc54e4cc99e8111483c2\", element=\"21d04932-7618-41c3-8826-f7f5175b1011\")>,\n",
       " <selenium.webdriver.remote.webelement.WebElement (session=\"0a64f91dfee4dc54e4cc99e8111483c2\", element=\"21e4c8be-9b23-43b7-9470-71d2786666c8\")>,\n",
       " <selenium.webdriver.remote.webelement.WebElement (session=\"0a64f91dfee4dc54e4cc99e8111483c2\", element=\"92a8e57a-3a1a-495d-9fa4-676311d89c17\")>,\n",
       " <selenium.webdriver.remote.webelement.WebElement (session=\"0a64f91dfee4dc54e4cc99e8111483c2\", element=\"801a69ce-3c42-4dd6-9266-e23917ca2d3d\")>,\n",
       " <selenium.webdriver.remote.webelement.WebElement (session=\"0a64f91dfee4dc54e4cc99e8111483c2\", element=\"fad8851b-4417-41c9-9583-d44835ca7883\")>,\n",
       " <selenium.webdriver.remote.webelement.WebElement (session=\"0a64f91dfee4dc54e4cc99e8111483c2\", element=\"5003d3a9-7d26-4b18-be03-9a2901687bab\")>,\n",
       " <selenium.webdriver.remote.webelement.WebElement (session=\"0a64f91dfee4dc54e4cc99e8111483c2\", element=\"71a01e07-1e32-4881-ba3e-e6fbedd14df9\")>,\n",
       " <selenium.webdriver.remote.webelement.WebElement (session=\"0a64f91dfee4dc54e4cc99e8111483c2\", element=\"1fa6ebb8-aeba-4223-b08a-cffd7e74e08a\")>,\n",
       " <selenium.webdriver.remote.webelement.WebElement (session=\"0a64f91dfee4dc54e4cc99e8111483c2\", element=\"7d9d5d75-6a1f-4bdb-8805-d69f2dd82260\")>,\n",
       " <selenium.webdriver.remote.webelement.WebElement (session=\"0a64f91dfee4dc54e4cc99e8111483c2\", element=\"f90d927b-1428-4307-bf31-4375ba9e1351\")>,\n",
       " <selenium.webdriver.remote.webelement.WebElement (session=\"0a64f91dfee4dc54e4cc99e8111483c2\", element=\"70f58e6d-ec3f-414b-99e5-6d73bc18164c\")>,\n",
       " <selenium.webdriver.remote.webelement.WebElement (session=\"0a64f91dfee4dc54e4cc99e8111483c2\", element=\"6e2982a9-241d-4a12-96f0-87fae0e3b455\")>,\n",
       " <selenium.webdriver.remote.webelement.WebElement (session=\"0a64f91dfee4dc54e4cc99e8111483c2\", element=\"7c3cb87c-85bb-46dc-b3c6-e9382794c22c\")>,\n",
       " <selenium.webdriver.remote.webelement.WebElement (session=\"0a64f91dfee4dc54e4cc99e8111483c2\", element=\"7d8827ee-8e1b-49e4-8d64-bc7979f0b33e\")>,\n",
       " <selenium.webdriver.remote.webelement.WebElement (session=\"0a64f91dfee4dc54e4cc99e8111483c2\", element=\"7f5e827e-c0bb-4cd8-8046-cbcd4696cb7c\")>,\n",
       " <selenium.webdriver.remote.webelement.WebElement (session=\"0a64f91dfee4dc54e4cc99e8111483c2\", element=\"e5c0a31d-7738-490b-b042-c284802d156d\")>,\n",
       " <selenium.webdriver.remote.webelement.WebElement (session=\"0a64f91dfee4dc54e4cc99e8111483c2\", element=\"9b675505-7676-406a-831d-a9ea9d042d1a\")>,\n",
       " <selenium.webdriver.remote.webelement.WebElement (session=\"0a64f91dfee4dc54e4cc99e8111483c2\", element=\"3b82e35d-ffc5-43c0-a660-50b2826a3718\")>,\n",
       " <selenium.webdriver.remote.webelement.WebElement (session=\"0a64f91dfee4dc54e4cc99e8111483c2\", element=\"108c5656-7608-4346-b1d8-a0571a18002f\")>,\n",
       " <selenium.webdriver.remote.webelement.WebElement (session=\"0a64f91dfee4dc54e4cc99e8111483c2\", element=\"0e7ab944-30cd-4d4c-acc3-213dd0f02f69\")>,\n",
       " <selenium.webdriver.remote.webelement.WebElement (session=\"0a64f91dfee4dc54e4cc99e8111483c2\", element=\"1641ba95-3ce1-4b65-a3ce-4f04fe2373d2\")>,\n",
       " <selenium.webdriver.remote.webelement.WebElement (session=\"0a64f91dfee4dc54e4cc99e8111483c2\", element=\"9a0755e6-7f17-4bb9-9e13-dd3f070416ac\")>,\n",
       " <selenium.webdriver.remote.webelement.WebElement (session=\"0a64f91dfee4dc54e4cc99e8111483c2\", element=\"dd12ce0b-8bb1-497b-834e-e1ac4fd60659\")>,\n",
       " <selenium.webdriver.remote.webelement.WebElement (session=\"0a64f91dfee4dc54e4cc99e8111483c2\", element=\"66d50937-1692-444e-a081-4b4ebc732814\")>,\n",
       " <selenium.webdriver.remote.webelement.WebElement (session=\"0a64f91dfee4dc54e4cc99e8111483c2\", element=\"047c8650-55d8-456c-b8b5-d2eee63e106c\")>,\n",
       " <selenium.webdriver.remote.webelement.WebElement (session=\"0a64f91dfee4dc54e4cc99e8111483c2\", element=\"00f9fef2-05a9-42e8-a9da-46abef6bde88\")>,\n",
       " <selenium.webdriver.remote.webelement.WebElement (session=\"0a64f91dfee4dc54e4cc99e8111483c2\", element=\"916b50a3-0e01-44d6-ae75-0835b4be7399\")>,\n",
       " <selenium.webdriver.remote.webelement.WebElement (session=\"0a64f91dfee4dc54e4cc99e8111483c2\", element=\"93905629-7f8d-433f-895c-6a4b4be2ea80\")>,\n",
       " <selenium.webdriver.remote.webelement.WebElement (session=\"0a64f91dfee4dc54e4cc99e8111483c2\", element=\"d8bf44fd-5903-4fec-a731-17f00f813502\")>,\n",
       " <selenium.webdriver.remote.webelement.WebElement (session=\"0a64f91dfee4dc54e4cc99e8111483c2\", element=\"cfa9c2d0-1469-4593-a1e2-bca0ff4791f3\")>,\n",
       " <selenium.webdriver.remote.webelement.WebElement (session=\"0a64f91dfee4dc54e4cc99e8111483c2\", element=\"6b8d9a66-091f-44c9-9690-cdc5d80926d2\")>,\n",
       " <selenium.webdriver.remote.webelement.WebElement (session=\"0a64f91dfee4dc54e4cc99e8111483c2\", element=\"160391ed-981b-4214-bfe6-828b5f3e1909\")>,\n",
       " <selenium.webdriver.remote.webelement.WebElement (session=\"0a64f91dfee4dc54e4cc99e8111483c2\", element=\"924adef1-9b9d-44a0-8075-3ff542fb18a9\")>,\n",
       " <selenium.webdriver.remote.webelement.WebElement (session=\"0a64f91dfee4dc54e4cc99e8111483c2\", element=\"d553ecde-f787-4a34-9760-32051bbcb054\")>,\n",
       " <selenium.webdriver.remote.webelement.WebElement (session=\"0a64f91dfee4dc54e4cc99e8111483c2\", element=\"65931e6c-feec-470f-bf34-92bff0700b7e\")>,\n",
       " <selenium.webdriver.remote.webelement.WebElement (session=\"0a64f91dfee4dc54e4cc99e8111483c2\", element=\"31771793-32b4-4b33-b24e-9b764229cafb\")>,\n",
       " <selenium.webdriver.remote.webelement.WebElement (session=\"0a64f91dfee4dc54e4cc99e8111483c2\", element=\"b7d15db9-7960-4f9d-9812-b5819d3e748e\")>,\n",
       " <selenium.webdriver.remote.webelement.WebElement (session=\"0a64f91dfee4dc54e4cc99e8111483c2\", element=\"d921812a-957d-4fea-9013-4da4ef847588\")>,\n",
       " <selenium.webdriver.remote.webelement.WebElement (session=\"0a64f91dfee4dc54e4cc99e8111483c2\", element=\"b041e212-1c39-43d7-9080-91c812ad07d1\")>,\n",
       " <selenium.webdriver.remote.webelement.WebElement (session=\"0a64f91dfee4dc54e4cc99e8111483c2\", element=\"3f787d14-cfbc-401f-b0db-c2be6019505b\")>,\n",
       " <selenium.webdriver.remote.webelement.WebElement (session=\"0a64f91dfee4dc54e4cc99e8111483c2\", element=\"b3f1c683-5fd9-4da4-abee-3c2783bd6c2b\")>,\n",
       " <selenium.webdriver.remote.webelement.WebElement (session=\"0a64f91dfee4dc54e4cc99e8111483c2\", element=\"edd87aab-4f60-426f-ae9b-a07d424ec8d4\")>,\n",
       " <selenium.webdriver.remote.webelement.WebElement (session=\"0a64f91dfee4dc54e4cc99e8111483c2\", element=\"b3cb3b4b-c9ac-44c8-aa72-529e3afb8b75\")>,\n",
       " <selenium.webdriver.remote.webelement.WebElement (session=\"0a64f91dfee4dc54e4cc99e8111483c2\", element=\"7c88436f-1aa1-4c74-aa80-25a4ac3e5d21\")>,\n",
       " <selenium.webdriver.remote.webelement.WebElement (session=\"0a64f91dfee4dc54e4cc99e8111483c2\", element=\"43ef81b2-a9bf-47d3-9762-a1217be5bc38\")>,\n",
       " <selenium.webdriver.remote.webelement.WebElement (session=\"0a64f91dfee4dc54e4cc99e8111483c2\", element=\"86f605e8-df37-4e6e-a4c5-71d81141952d\")>,\n",
       " <selenium.webdriver.remote.webelement.WebElement (session=\"0a64f91dfee4dc54e4cc99e8111483c2\", element=\"760d71fe-b784-423f-85bb-0e41e01eb6da\")>,\n",
       " <selenium.webdriver.remote.webelement.WebElement (session=\"0a64f91dfee4dc54e4cc99e8111483c2\", element=\"47d415e0-a363-46c0-8d81-a8a14a5ffd08\")>,\n",
       " <selenium.webdriver.remote.webelement.WebElement (session=\"0a64f91dfee4dc54e4cc99e8111483c2\", element=\"b4d214b6-00f8-4d54-b00c-ef9c55d758f0\")>,\n",
       " <selenium.webdriver.remote.webelement.WebElement (session=\"0a64f91dfee4dc54e4cc99e8111483c2\", element=\"f53eb120-868d-44cd-8e04-06dfbf6ae6a5\")>,\n",
       " <selenium.webdriver.remote.webelement.WebElement (session=\"0a64f91dfee4dc54e4cc99e8111483c2\", element=\"c2536fb6-d4ba-4445-afb8-da66dbd7e2be\")>,\n",
       " <selenium.webdriver.remote.webelement.WebElement (session=\"0a64f91dfee4dc54e4cc99e8111483c2\", element=\"ea75dbb5-aecb-4316-9d97-0f45e07ef368\")>,\n",
       " <selenium.webdriver.remote.webelement.WebElement (session=\"0a64f91dfee4dc54e4cc99e8111483c2\", element=\"7e764b03-c837-4147-a47d-32a5f69feae8\")>,\n",
       " <selenium.webdriver.remote.webelement.WebElement (session=\"0a64f91dfee4dc54e4cc99e8111483c2\", element=\"95bc5344-2ee6-4bfe-9db9-ecf583b7c9c4\")>,\n",
       " <selenium.webdriver.remote.webelement.WebElement (session=\"0a64f91dfee4dc54e4cc99e8111483c2\", element=\"c85a5d8a-9238-4264-847e-b2da7c87825b\")>,\n",
       " <selenium.webdriver.remote.webelement.WebElement (session=\"0a64f91dfee4dc54e4cc99e8111483c2\", element=\"efb2952a-ef46-4282-8b91-6348f29f6b8a\")>,\n",
       " <selenium.webdriver.remote.webelement.WebElement (session=\"0a64f91dfee4dc54e4cc99e8111483c2\", element=\"46823cc3-fc1e-4363-a6f3-2b7d973a7172\")>,\n",
       " <selenium.webdriver.remote.webelement.WebElement (session=\"0a64f91dfee4dc54e4cc99e8111483c2\", element=\"44b39e7d-f222-4f6b-a574-3f35b2181ee1\")>,\n",
       " <selenium.webdriver.remote.webelement.WebElement (session=\"0a64f91dfee4dc54e4cc99e8111483c2\", element=\"ef563e98-e90f-4a6a-9153-62f0101dd67d\")>,\n",
       " <selenium.webdriver.remote.webelement.WebElement (session=\"0a64f91dfee4dc54e4cc99e8111483c2\", element=\"15c8387e-0310-4852-9db4-a38b47e96c1a\")>,\n",
       " <selenium.webdriver.remote.webelement.WebElement (session=\"0a64f91dfee4dc54e4cc99e8111483c2\", element=\"0b57cf1b-ffe8-47b8-adcd-b97729272925\")>,\n",
       " <selenium.webdriver.remote.webelement.WebElement (session=\"0a64f91dfee4dc54e4cc99e8111483c2\", element=\"ae86991e-3311-4746-a226-bc6d303dca10\")>,\n",
       " <selenium.webdriver.remote.webelement.WebElement (session=\"0a64f91dfee4dc54e4cc99e8111483c2\", element=\"ea0dc848-1aaf-4786-9a6f-97972e4f5cda\")>,\n",
       " <selenium.webdriver.remote.webelement.WebElement (session=\"0a64f91dfee4dc54e4cc99e8111483c2\", element=\"001475d6-7e68-499d-9c18-56de208b580c\")>,\n",
       " <selenium.webdriver.remote.webelement.WebElement (session=\"0a64f91dfee4dc54e4cc99e8111483c2\", element=\"a3d0b5cb-78e5-4c3c-b838-b7658a4ce704\")>,\n",
       " <selenium.webdriver.remote.webelement.WebElement (session=\"0a64f91dfee4dc54e4cc99e8111483c2\", element=\"887d4072-9004-4184-9b6a-dad88d66facf\")>,\n",
       " <selenium.webdriver.remote.webelement.WebElement (session=\"0a64f91dfee4dc54e4cc99e8111483c2\", element=\"4009c71a-2538-4d75-b61d-cd1f5ba576ca\")>,\n",
       " <selenium.webdriver.remote.webelement.WebElement (session=\"0a64f91dfee4dc54e4cc99e8111483c2\", element=\"ad91ec1b-68ef-46d1-a9d8-d0cf74edd7e3\")>,\n",
       " <selenium.webdriver.remote.webelement.WebElement (session=\"0a64f91dfee4dc54e4cc99e8111483c2\", element=\"39be7174-0777-4793-8e0c-101a03260660\")>,\n",
       " <selenium.webdriver.remote.webelement.WebElement (session=\"0a64f91dfee4dc54e4cc99e8111483c2\", element=\"51d05ab4-419e-4ffb-8f13-8919c167736e\")>,\n",
       " <selenium.webdriver.remote.webelement.WebElement (session=\"0a64f91dfee4dc54e4cc99e8111483c2\", element=\"21b3c962-42fa-4f11-a038-5cdf751b7c2d\")>,\n",
       " <selenium.webdriver.remote.webelement.WebElement (session=\"0a64f91dfee4dc54e4cc99e8111483c2\", element=\"7cad092c-ea03-4963-b07d-1b298daa759a\")>,\n",
       " <selenium.webdriver.remote.webelement.WebElement (session=\"0a64f91dfee4dc54e4cc99e8111483c2\", element=\"c2db1c66-7d23-475f-a08a-c043d7f1f21c\")>,\n",
       " <selenium.webdriver.remote.webelement.WebElement (session=\"0a64f91dfee4dc54e4cc99e8111483c2\", element=\"f8975d4d-a131-4475-96fa-20f65a1437e9\")>,\n",
       " <selenium.webdriver.remote.webelement.WebElement (session=\"0a64f91dfee4dc54e4cc99e8111483c2\", element=\"a46ec133-8e29-4bc1-b411-e81c78da7023\")>,\n",
       " <selenium.webdriver.remote.webelement.WebElement (session=\"0a64f91dfee4dc54e4cc99e8111483c2\", element=\"0b907cca-64a8-4cba-abb9-320949a9b244\")>,\n",
       " <selenium.webdriver.remote.webelement.WebElement (session=\"0a64f91dfee4dc54e4cc99e8111483c2\", element=\"80077339-2f69-4d73-a859-d98a94cd67ac\")>,\n",
       " <selenium.webdriver.remote.webelement.WebElement (session=\"0a64f91dfee4dc54e4cc99e8111483c2\", element=\"a8af961c-9ff1-4641-aba3-373e7963ea7a\")>,\n",
       " <selenium.webdriver.remote.webelement.WebElement (session=\"0a64f91dfee4dc54e4cc99e8111483c2\", element=\"21245ff1-549c-403b-85d0-e482815ec657\")>,\n",
       " <selenium.webdriver.remote.webelement.WebElement (session=\"0a64f91dfee4dc54e4cc99e8111483c2\", element=\"58e86923-3805-4df3-ba04-41f85ece3aa4\")>,\n",
       " <selenium.webdriver.remote.webelement.WebElement (session=\"0a64f91dfee4dc54e4cc99e8111483c2\", element=\"5ce6a72d-52bf-47d8-9d07-33aee48ca911\")>,\n",
       " <selenium.webdriver.remote.webelement.WebElement (session=\"0a64f91dfee4dc54e4cc99e8111483c2\", element=\"4aece8bb-4f1d-4a31-8f42-22cbc5e71fdc\")>]"
      ]
     },
     "execution_count": 12,
     "metadata": {},
     "output_type": "execute_result"
    }
   ],
   "source": [
    "\n",
    "line4=browser.find_elements(\"xpath\",\"//div[@class='td-wrap-in']\")\n",
    "line4"
   ]
  },
  {
   "cell_type": "code",
   "execution_count": 14,
   "id": "cf51425f",
   "metadata": {},
   "outputs": [
    {
     "data": {
      "text/plain": [
       "['83.8', '74.4', '97', '84.1', '99.8', '83.6', '59.7', '99.7', '53.9']"
      ]
     },
     "execution_count": 14,
     "metadata": {},
     "output_type": "execute_result"
    }
   ],
   "source": [
    "#PARSING DATA\n",
    "value=[]\n",
    "for data in line4:\n",
    "    #get the text data\n",
    "    temp=data.text\n",
    "    value.append(temp)\n",
    "value_h=value[51:60]\n",
    "value_h"
   ]
  },
  {
   "cell_type": "code",
   "execution_count": 15,
   "id": "15f734f5",
   "metadata": {},
   "outputs": [
    {
     "data": {
      "text/plain": [
       "{'Name': 'Université PSL',\n",
       " 'Location': 'Paris, France',\n",
       " 'Rank': '26',\n",
       " 'Overall Score': '83.8',\n",
       " 'Academic Reputation': '74.4',\n",
       " 'Employer Reputation': '97',\n",
       " 'Citations per Faculty': '84.1',\n",
       " 'Faculty Student Ratio': '99.8',\n",
       " 'International Students Ratio': '83.6',\n",
       " 'International Faculty Ratio': '59.7',\n",
       " 'International Research Network\\nUnweighted': '99.7',\n",
       " 'Employment Outcomes\\nUnweighted': '53.9'}"
      ]
     },
     "execution_count": 15,
     "metadata": {},
     "output_type": "execute_result"
    }
   ],
   "source": [
    "\n",
    "d={}\n",
    "d['Name']=value[50]\n",
    "d['Location']=address[5]\n",
    "d['Rank']=Rank[5]\n",
    "for i in range(len(column)):\n",
    "    d[column[i]]=value_h[i]\n",
    "d"
   ]
  },
  {
   "cell_type": "code",
   "execution_count": 17,
   "id": "725ad1b8",
   "metadata": {},
   "outputs": [
    {
     "data": {
      "text/plain": [
       "'{\"Name\": \"Universit\\\\u00e9 PSL\", \"Location\": \"Paris, France\", \"Rank\": \"26\", \"Overall Score\": \"83.8\", \"Academic Reputation\": \"74.4\", \"Employer Reputation\": \"97\", \"Citations per Faculty\": \"84.1\", \"Faculty Student Ratio\": \"99.8\", \"International Students Ratio\": \"83.6\", \"International Faculty Ratio\": \"59.7\", \"International Research Network\\\\nUnweighted\": \"99.7\", \"Employment Outcomes\\\\nUnweighted\": \"53.9\"}'"
      ]
     },
     "execution_count": 17,
     "metadata": {},
     "output_type": "execute_result"
    }
   ],
   "source": [
    "s1=json.dumps(d)\n",
    "s1"
   ]
  },
  {
   "cell_type": "code",
   "execution_count": 18,
   "id": "e7670389",
   "metadata": {},
   "outputs": [],
   "source": [
    "with open('University of Cambridge.json','w') as f:\n",
    "    json.dump(d,f)"
   ]
  },
  {
   "cell_type": "code",
   "execution_count": null,
   "id": "d908ed66",
   "metadata": {},
   "outputs": [],
   "source": []
  }
 ],
 "metadata": {
  "kernelspec": {
   "display_name": "Python 3.9.12 ('base')",
   "language": "python",
   "name": "python3"
  },
  "language_info": {
   "codemirror_mode": {
    "name": "ipython",
    "version": 3
   },
   "file_extension": ".py",
   "mimetype": "text/x-python",
   "name": "python",
   "nbconvert_exporter": "python",
   "pygments_lexer": "ipython3",
   "version": "3.9.12"
  },
  "vscode": {
   "interpreter": {
    "hash": "ad2bdc8ecc057115af97d19610ffacc2b4e99fae6737bb82f5d7fb13d2f2c186"
   }
  }
 },
 "nbformat": 4,
 "nbformat_minor": 5
}
