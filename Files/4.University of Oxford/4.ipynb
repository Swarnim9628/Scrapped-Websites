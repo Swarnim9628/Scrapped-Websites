{
 "cells": [
  {
   "cell_type": "code",
   "execution_count": 2,
   "id": "5153cf65",
   "metadata": {},
   "outputs": [],
   "source": [
    "from selenium import webdriver\n",
    "from selenium.webdriver.chrome.service import Service\n",
    "import pandas as pd\n",
    "import json"
   ]
  },
  {
   "cell_type": "code",
   "execution_count": 3,
   "id": "17752ad2",
   "metadata": {},
   "outputs": [],
   "source": [
    "\n",
    "way = Service('C:\\chromedriver.exe')"
   ]
  },
  {
   "cell_type": "code",
   "execution_count": 4,
   "id": "7ea90074",
   "metadata": {},
   "outputs": [],
   "source": [
    "\n",
    "# set path for the driver\n",
    "browser = webdriver.Chrome(service = way)"
   ]
  },
  {
   "cell_type": "code",
   "execution_count": 5,
   "id": "140fcfea",
   "metadata": {},
   "outputs": [],
   "source": [
    "url = \"https://www.topuniversities.com/university-rankings/world-university-rankings/2023\""
   ]
  },
  {
   "cell_type": "code",
   "execution_count": 6,
   "id": "53927856",
   "metadata": {},
   "outputs": [],
   "source": [
    "\n",
    "# open the page url ion chrome\n",
    "browser.get(url)"
   ]
  },
  {
   "cell_type": "code",
   "execution_count": 7,
   "id": "a8c7d3c1",
   "metadata": {},
   "outputs": [
    {
     "data": {
      "text/plain": [
       "[<selenium.webdriver.remote.webelement.WebElement (session=\"429756be3f62e575892609989d86b69f\", element=\"08d3677a-a242-4fca-803b-6ea7affe46c1\")>,\n",
       " <selenium.webdriver.remote.webelement.WebElement (session=\"429756be3f62e575892609989d86b69f\", element=\"725fec98-7615-462b-a7f1-a004f7c99ac6\")>,\n",
       " <selenium.webdriver.remote.webelement.WebElement (session=\"429756be3f62e575892609989d86b69f\", element=\"96c2af6e-4b13-4ca1-9884-ff82e8c10440\")>,\n",
       " <selenium.webdriver.remote.webelement.WebElement (session=\"429756be3f62e575892609989d86b69f\", element=\"1b497269-68d3-40d5-a7b3-802b40e0e1fe\")>,\n",
       " <selenium.webdriver.remote.webelement.WebElement (session=\"429756be3f62e575892609989d86b69f\", element=\"07ec10dd-c166-45f9-86a6-139d5a8df3cc\")>,\n",
       " <selenium.webdriver.remote.webelement.WebElement (session=\"429756be3f62e575892609989d86b69f\", element=\"151549ae-1415-4319-8a28-d64afd1d52cc\")>,\n",
       " <selenium.webdriver.remote.webelement.WebElement (session=\"429756be3f62e575892609989d86b69f\", element=\"152268e0-9c07-4be8-8de3-032702454287\")>,\n",
       " <selenium.webdriver.remote.webelement.WebElement (session=\"429756be3f62e575892609989d86b69f\", element=\"c46a9b3c-3793-49a4-90f9-9a646d10787b\")>,\n",
       " <selenium.webdriver.remote.webelement.WebElement (session=\"429756be3f62e575892609989d86b69f\", element=\"5853f515-3a35-446c-a61b-049cf610add9\")>,\n",
       " <selenium.webdriver.remote.webelement.WebElement (session=\"429756be3f62e575892609989d86b69f\", element=\"d543ba8c-d177-4a76-a5d5-3ad6bbf5152c\")>,\n",
       " <selenium.webdriver.remote.webelement.WebElement (session=\"429756be3f62e575892609989d86b69f\", element=\"2c291cff-697e-4156-ab3d-84d221fe476d\")>,\n",
       " <selenium.webdriver.remote.webelement.WebElement (session=\"429756be3f62e575892609989d86b69f\", element=\"62c9cc90-502c-4b9c-bfab-e16c826da4cf\")>,\n",
       " <selenium.webdriver.remote.webelement.WebElement (session=\"429756be3f62e575892609989d86b69f\", element=\"79a8fc40-8bff-4247-b80b-b341faed5660\")>,\n",
       " <selenium.webdriver.remote.webelement.WebElement (session=\"429756be3f62e575892609989d86b69f\", element=\"2ffb67f8-e96f-4c71-9f12-d74d818da454\")>,\n",
       " <selenium.webdriver.remote.webelement.WebElement (session=\"429756be3f62e575892609989d86b69f\", element=\"c8c9af76-db17-4d7d-8f4a-768eaaf93baa\")>,\n",
       " <selenium.webdriver.remote.webelement.WebElement (session=\"429756be3f62e575892609989d86b69f\", element=\"30c7a836-1df0-4871-b326-037e83ad4222\")>,\n",
       " <selenium.webdriver.remote.webelement.WebElement (session=\"429756be3f62e575892609989d86b69f\", element=\"b08dbd9a-6bc3-454b-98a9-9fb34e6f2d19\")>,\n",
       " <selenium.webdriver.remote.webelement.WebElement (session=\"429756be3f62e575892609989d86b69f\", element=\"df7ceb75-230e-44ce-ab1d-58c0635a19e9\")>,\n",
       " <selenium.webdriver.remote.webelement.WebElement (session=\"429756be3f62e575892609989d86b69f\", element=\"2136d9cd-8435-4eae-a899-baf7259964c3\")>,\n",
       " <selenium.webdriver.remote.webelement.WebElement (session=\"429756be3f62e575892609989d86b69f\", element=\"65bc3159-1cb4-4ac6-8a39-fd30a0fdd1c7\")>]"
      ]
     },
     "execution_count": 7,
     "metadata": {},
     "output_type": "execute_result"
    }
   ],
   "source": [
    "line1=browser.find_elements(\"xpath\",\"//div[@class='location ']\")\n",
    "line1"
   ]
  },
  {
   "cell_type": "code",
   "execution_count": 8,
   "id": "32c0245f",
   "metadata": {},
   "outputs": [
    {
     "data": {
      "text/plain": [
       "['Cambridge, United States',\n",
       " 'Cambridge, United Kingdom',\n",
       " 'Stanford, United States',\n",
       " 'Oxford, United Kingdom',\n",
       " 'Cambridge, United States',\n",
       " 'Pasadena, United States',\n",
       " 'London, United Kingdom',\n",
       " 'London, United Kingdom',\n",
       " 'Zürich, Switzerland',\n",
       " 'Chicago, United States']"
      ]
     },
     "execution_count": 8,
     "metadata": {},
     "output_type": "execute_result"
    }
   ],
   "source": [
    "address=[]\n",
    "for data in line1:\n",
    "    #get the text data\n",
    "    temp=data.text\n",
    "    address.append(temp)\n",
    "address=address[10:]\n",
    "address"
   ]
  },
  {
   "cell_type": "code",
   "execution_count": 9,
   "id": "21ba2e72",
   "metadata": {},
   "outputs": [
    {
     "data": {
      "text/plain": [
       "[<selenium.webdriver.remote.webelement.WebElement (session=\"429756be3f62e575892609989d86b69f\", element=\"3618e4b0-f991-4223-9b88-83c2796dc5a2\")>,\n",
       " <selenium.webdriver.remote.webelement.WebElement (session=\"429756be3f62e575892609989d86b69f\", element=\"d1aa4d46-85e1-4171-9dfc-89ca6daf155a\")>,\n",
       " <selenium.webdriver.remote.webelement.WebElement (session=\"429756be3f62e575892609989d86b69f\", element=\"3fd82b5d-59bd-4446-9907-5a784c0f9dff\")>,\n",
       " <selenium.webdriver.remote.webelement.WebElement (session=\"429756be3f62e575892609989d86b69f\", element=\"1bfdb336-1f58-447e-8544-ed0ec7193a8f\")>,\n",
       " <selenium.webdriver.remote.webelement.WebElement (session=\"429756be3f62e575892609989d86b69f\", element=\"d1d864f7-74f9-41ec-b2a3-1b0ab9f666c2\")>,\n",
       " <selenium.webdriver.remote.webelement.WebElement (session=\"429756be3f62e575892609989d86b69f\", element=\"2aab09a2-953a-4067-b74e-283ca1ece009\")>,\n",
       " <selenium.webdriver.remote.webelement.WebElement (session=\"429756be3f62e575892609989d86b69f\", element=\"30dcf4f5-ab60-4579-8e91-b2aa1a62c397\")>,\n",
       " <selenium.webdriver.remote.webelement.WebElement (session=\"429756be3f62e575892609989d86b69f\", element=\"63c88e13-c542-4944-b4e6-0f4dd8c5515d\")>,\n",
       " <selenium.webdriver.remote.webelement.WebElement (session=\"429756be3f62e575892609989d86b69f\", element=\"7549b14d-6a6c-41e8-ac98-6f676ca94744\")>,\n",
       " <selenium.webdriver.remote.webelement.WebElement (session=\"429756be3f62e575892609989d86b69f\", element=\"0024a095-75c5-4746-976c-461cea440189\")>]"
      ]
     },
     "execution_count": 9,
     "metadata": {},
     "output_type": "execute_result"
    }
   ],
   "source": [
    "line2=browser.find_elements(\"xpath\",\"//div[@class='_univ-rank ']\")\n",
    "line2"
   ]
  },
  {
   "cell_type": "code",
   "execution_count": 10,
   "id": "1e2790b0",
   "metadata": {},
   "outputs": [
    {
     "data": {
      "text/plain": [
       "['1', '2', '3', '4', '5', '=6', '=6', '8', '9', '10']"
      ]
     },
     "execution_count": 10,
     "metadata": {},
     "output_type": "execute_result"
    }
   ],
   "source": [
    "Rank=[]\n",
    "for data in line2:\n",
    "    #get the text data\n",
    "    temp=data.text\n",
    "    Rank.append(temp)\n",
    "Rank\n"
   ]
  },
  {
   "cell_type": "code",
   "execution_count": 11,
   "id": "1cfd93a1",
   "metadata": {},
   "outputs": [
    {
     "data": {
      "text/plain": [
       "[<selenium.webdriver.remote.webelement.WebElement (session=\"429756be3f62e575892609989d86b69f\", element=\"3a1f97f3-62a7-448c-a256-7a8f65d2a09f\")>,\n",
       " <selenium.webdriver.remote.webelement.WebElement (session=\"429756be3f62e575892609989d86b69f\", element=\"740a3d84-fe14-4363-a970-cffec78c1519\")>,\n",
       " <selenium.webdriver.remote.webelement.WebElement (session=\"429756be3f62e575892609989d86b69f\", element=\"efe40830-0367-417c-a1e5-638a32dc9f04\")>,\n",
       " <selenium.webdriver.remote.webelement.WebElement (session=\"429756be3f62e575892609989d86b69f\", element=\"f21ad3ed-857f-4ebb-a44b-34f39db81f68\")>,\n",
       " <selenium.webdriver.remote.webelement.WebElement (session=\"429756be3f62e575892609989d86b69f\", element=\"8922acba-957b-44c1-b495-d23743dd6790\")>,\n",
       " <selenium.webdriver.remote.webelement.WebElement (session=\"429756be3f62e575892609989d86b69f\", element=\"7b4f9701-a83c-42be-85db-3d6ae63ae744\")>,\n",
       " <selenium.webdriver.remote.webelement.WebElement (session=\"429756be3f62e575892609989d86b69f\", element=\"d756207c-9e37-4f77-b4f7-e2c172cc6952\")>,\n",
       " <selenium.webdriver.remote.webelement.WebElement (session=\"429756be3f62e575892609989d86b69f\", element=\"a8c115a7-3fc3-4742-9f2e-0c654ed403fe\")>,\n",
       " <selenium.webdriver.remote.webelement.WebElement (session=\"429756be3f62e575892609989d86b69f\", element=\"878a8c03-85dc-4601-924a-bdd1b2345828\")>]"
      ]
     },
     "execution_count": 11,
     "metadata": {},
     "output_type": "execute_result"
    }
   ],
   "source": [
    "# GET EACH COLLEGE SPECIFICATION HEADERS\n",
    "line3=browser.find_elements(\"xpath\",\"//div[@class='_click-function_ind']\")\n",
    "line3"
   ]
  },
  {
   "cell_type": "code",
   "execution_count": 12,
   "id": "c5298f58",
   "metadata": {},
   "outputs": [
    {
     "data": {
      "text/plain": [
       "['Overall Score',\n",
       " 'Academic Reputation',\n",
       " 'Employer Reputation',\n",
       " 'Citations per Faculty',\n",
       " 'Faculty Student Ratio',\n",
       " 'International Students Ratio',\n",
       " 'International Faculty Ratio',\n",
       " 'International Research Network\\nUnweighted',\n",
       " 'Employment Outcomes\\nUnweighted']"
      ]
     },
     "execution_count": 12,
     "metadata": {},
     "output_type": "execute_result"
    }
   ],
   "source": [
    "\n",
    "#PARSING DATA\n",
    "column=[]\n",
    "for data in line3:\n",
    "    #get the text data\n",
    "    temp=data.text\n",
    "    column.append(temp)\n",
    "column"
   ]
  },
  {
   "cell_type": "code",
   "execution_count": 13,
   "id": "e343b1a4",
   "metadata": {},
   "outputs": [
    {
     "data": {
      "text/plain": [
       "[<selenium.webdriver.remote.webelement.WebElement (session=\"429756be3f62e575892609989d86b69f\", element=\"49a0b17b-a2fa-405c-bdb5-0f09c5e99593\")>,\n",
       " <selenium.webdriver.remote.webelement.WebElement (session=\"429756be3f62e575892609989d86b69f\", element=\"658e8073-bfaf-42ea-8d75-dd29cb3892f0\")>,\n",
       " <selenium.webdriver.remote.webelement.WebElement (session=\"429756be3f62e575892609989d86b69f\", element=\"a482f325-654f-4aaa-9e20-40567b22cc57\")>,\n",
       " <selenium.webdriver.remote.webelement.WebElement (session=\"429756be3f62e575892609989d86b69f\", element=\"b8524289-51f0-40da-89d2-d8cb4b5e07ad\")>,\n",
       " <selenium.webdriver.remote.webelement.WebElement (session=\"429756be3f62e575892609989d86b69f\", element=\"56804a05-ada9-4c3e-bb7a-dcff85e6fd38\")>,\n",
       " <selenium.webdriver.remote.webelement.WebElement (session=\"429756be3f62e575892609989d86b69f\", element=\"0a47148b-2bd9-43c8-9492-637782faff75\")>,\n",
       " <selenium.webdriver.remote.webelement.WebElement (session=\"429756be3f62e575892609989d86b69f\", element=\"70e3a0c4-fe1d-484e-ae3a-510cab727a8e\")>,\n",
       " <selenium.webdriver.remote.webelement.WebElement (session=\"429756be3f62e575892609989d86b69f\", element=\"3b1c11cd-3e1d-4638-b3e8-268b88d90b14\")>,\n",
       " <selenium.webdriver.remote.webelement.WebElement (session=\"429756be3f62e575892609989d86b69f\", element=\"117032a0-e2f2-4569-b45a-b6d812a3a484\")>,\n",
       " <selenium.webdriver.remote.webelement.WebElement (session=\"429756be3f62e575892609989d86b69f\", element=\"369801c4-b9e3-46f2-a28e-17c63e3567d7\")>,\n",
       " <selenium.webdriver.remote.webelement.WebElement (session=\"429756be3f62e575892609989d86b69f\", element=\"14435393-e5cb-4f4c-811d-f98f8200b0d0\")>,\n",
       " <selenium.webdriver.remote.webelement.WebElement (session=\"429756be3f62e575892609989d86b69f\", element=\"58f6dbf1-9f25-440e-92f2-45f076565af4\")>,\n",
       " <selenium.webdriver.remote.webelement.WebElement (session=\"429756be3f62e575892609989d86b69f\", element=\"d5bc41b9-ff90-4b95-9b08-5b2524d608fa\")>,\n",
       " <selenium.webdriver.remote.webelement.WebElement (session=\"429756be3f62e575892609989d86b69f\", element=\"61a27ad4-7765-4a0b-b79b-a890dab57ca7\")>,\n",
       " <selenium.webdriver.remote.webelement.WebElement (session=\"429756be3f62e575892609989d86b69f\", element=\"5e786d35-5846-47ca-945d-6a4d6469e167\")>,\n",
       " <selenium.webdriver.remote.webelement.WebElement (session=\"429756be3f62e575892609989d86b69f\", element=\"8cff9100-8a91-4862-8f12-2a5753e288df\")>,\n",
       " <selenium.webdriver.remote.webelement.WebElement (session=\"429756be3f62e575892609989d86b69f\", element=\"a040f193-7fed-4e33-8335-11a95fa60ead\")>,\n",
       " <selenium.webdriver.remote.webelement.WebElement (session=\"429756be3f62e575892609989d86b69f\", element=\"f7bf322d-10e6-47e6-a495-4f0e82068d22\")>,\n",
       " <selenium.webdriver.remote.webelement.WebElement (session=\"429756be3f62e575892609989d86b69f\", element=\"811c3232-ab56-427e-a2da-da2a9191116e\")>,\n",
       " <selenium.webdriver.remote.webelement.WebElement (session=\"429756be3f62e575892609989d86b69f\", element=\"d8a783ab-5e84-4141-88cd-bbcc6b7f7e62\")>,\n",
       " <selenium.webdriver.remote.webelement.WebElement (session=\"429756be3f62e575892609989d86b69f\", element=\"27e6eb6a-2cad-425f-8829-3c3dc392ea26\")>,\n",
       " <selenium.webdriver.remote.webelement.WebElement (session=\"429756be3f62e575892609989d86b69f\", element=\"fd609a08-c1b2-418c-90e7-243838fab2bf\")>,\n",
       " <selenium.webdriver.remote.webelement.WebElement (session=\"429756be3f62e575892609989d86b69f\", element=\"d4124185-4e36-4451-9689-53001fd4fdf3\")>,\n",
       " <selenium.webdriver.remote.webelement.WebElement (session=\"429756be3f62e575892609989d86b69f\", element=\"3fde6ede-b72d-4b75-ad8d-6a42de3b256d\")>,\n",
       " <selenium.webdriver.remote.webelement.WebElement (session=\"429756be3f62e575892609989d86b69f\", element=\"854e31a3-7a80-4283-924e-74583f6016e5\")>,\n",
       " <selenium.webdriver.remote.webelement.WebElement (session=\"429756be3f62e575892609989d86b69f\", element=\"047da024-a3c1-4322-985f-5d4abcaf9277\")>,\n",
       " <selenium.webdriver.remote.webelement.WebElement (session=\"429756be3f62e575892609989d86b69f\", element=\"bc4e4e8b-d7d5-40df-9d69-c54c97cc632d\")>,\n",
       " <selenium.webdriver.remote.webelement.WebElement (session=\"429756be3f62e575892609989d86b69f\", element=\"d8fd54d6-fd18-4bca-8ca9-1a05c7bf9658\")>,\n",
       " <selenium.webdriver.remote.webelement.WebElement (session=\"429756be3f62e575892609989d86b69f\", element=\"e5889612-cb8c-4c0a-9279-83bc5c2931d4\")>,\n",
       " <selenium.webdriver.remote.webelement.WebElement (session=\"429756be3f62e575892609989d86b69f\", element=\"c0e7ae9b-fa63-46d6-a538-381045a3ffc5\")>,\n",
       " <selenium.webdriver.remote.webelement.WebElement (session=\"429756be3f62e575892609989d86b69f\", element=\"2f0bb7b1-40d7-43a5-b996-e9279ed1c234\")>,\n",
       " <selenium.webdriver.remote.webelement.WebElement (session=\"429756be3f62e575892609989d86b69f\", element=\"f6000a0a-3e9e-40c6-98fa-c90f615babef\")>,\n",
       " <selenium.webdriver.remote.webelement.WebElement (session=\"429756be3f62e575892609989d86b69f\", element=\"1876a6cf-eeaf-4c35-9868-24a7c9a57264\")>,\n",
       " <selenium.webdriver.remote.webelement.WebElement (session=\"429756be3f62e575892609989d86b69f\", element=\"30d491a3-c22e-4ef3-9e7c-7cd7e3d4b268\")>,\n",
       " <selenium.webdriver.remote.webelement.WebElement (session=\"429756be3f62e575892609989d86b69f\", element=\"2dab80d6-4287-47a0-8470-1f984b265ec2\")>,\n",
       " <selenium.webdriver.remote.webelement.WebElement (session=\"429756be3f62e575892609989d86b69f\", element=\"c5f5f8f6-cd5e-4130-909b-7b5bea05723f\")>,\n",
       " <selenium.webdriver.remote.webelement.WebElement (session=\"429756be3f62e575892609989d86b69f\", element=\"a08ed926-7b0f-4041-adec-47439bfd39af\")>,\n",
       " <selenium.webdriver.remote.webelement.WebElement (session=\"429756be3f62e575892609989d86b69f\", element=\"9a97c5d6-3cdc-4b66-89a1-14b3344b298d\")>,\n",
       " <selenium.webdriver.remote.webelement.WebElement (session=\"429756be3f62e575892609989d86b69f\", element=\"ad5e716f-737a-48df-8488-b1943c0c1d1c\")>,\n",
       " <selenium.webdriver.remote.webelement.WebElement (session=\"429756be3f62e575892609989d86b69f\", element=\"30dff628-3129-4d06-8828-faf702713e04\")>,\n",
       " <selenium.webdriver.remote.webelement.WebElement (session=\"429756be3f62e575892609989d86b69f\", element=\"41a55586-8e9c-443d-b2e6-724a048ae97b\")>,\n",
       " <selenium.webdriver.remote.webelement.WebElement (session=\"429756be3f62e575892609989d86b69f\", element=\"86c6df05-c5e1-48f0-bfe7-1a91f1d4098d\")>,\n",
       " <selenium.webdriver.remote.webelement.WebElement (session=\"429756be3f62e575892609989d86b69f\", element=\"0e36ff76-5486-4368-9908-3d7ae75c2cc8\")>,\n",
       " <selenium.webdriver.remote.webelement.WebElement (session=\"429756be3f62e575892609989d86b69f\", element=\"93c3ce7b-6083-4933-b1b2-894e6a24a97c\")>,\n",
       " <selenium.webdriver.remote.webelement.WebElement (session=\"429756be3f62e575892609989d86b69f\", element=\"e9948504-2788-48cd-bbdc-0a3151e3ad93\")>,\n",
       " <selenium.webdriver.remote.webelement.WebElement (session=\"429756be3f62e575892609989d86b69f\", element=\"d1dbf354-2bb0-4fd8-be54-e3ad4aa9f275\")>,\n",
       " <selenium.webdriver.remote.webelement.WebElement (session=\"429756be3f62e575892609989d86b69f\", element=\"7125236f-2deb-4a26-8bc2-2952c5d83a5c\")>,\n",
       " <selenium.webdriver.remote.webelement.WebElement (session=\"429756be3f62e575892609989d86b69f\", element=\"24912ab2-000f-45e1-aeed-6c0d6de67091\")>,\n",
       " <selenium.webdriver.remote.webelement.WebElement (session=\"429756be3f62e575892609989d86b69f\", element=\"10d7d4f4-a4ae-4eb4-879e-52a0976addcb\")>,\n",
       " <selenium.webdriver.remote.webelement.WebElement (session=\"429756be3f62e575892609989d86b69f\", element=\"93be1589-20cd-4225-924e-6fe489b2e4d0\")>,\n",
       " <selenium.webdriver.remote.webelement.WebElement (session=\"429756be3f62e575892609989d86b69f\", element=\"ef7bc862-bf6e-4150-bea0-0fb69aed9555\")>,\n",
       " <selenium.webdriver.remote.webelement.WebElement (session=\"429756be3f62e575892609989d86b69f\", element=\"33886249-2e44-45bc-8aad-7383f34c54d2\")>,\n",
       " <selenium.webdriver.remote.webelement.WebElement (session=\"429756be3f62e575892609989d86b69f\", element=\"279ba600-23ff-4b64-922d-923af519facd\")>,\n",
       " <selenium.webdriver.remote.webelement.WebElement (session=\"429756be3f62e575892609989d86b69f\", element=\"91c95a99-679b-4c8f-a4ef-e01452d9a1c3\")>,\n",
       " <selenium.webdriver.remote.webelement.WebElement (session=\"429756be3f62e575892609989d86b69f\", element=\"4a41f6ea-38aa-4e34-83d9-152d4009fb89\")>,\n",
       " <selenium.webdriver.remote.webelement.WebElement (session=\"429756be3f62e575892609989d86b69f\", element=\"d15707a8-9dae-44d0-9b08-f40f5c0a08f3\")>,\n",
       " <selenium.webdriver.remote.webelement.WebElement (session=\"429756be3f62e575892609989d86b69f\", element=\"14523f12-435b-4359-ac1e-e6c2521fda1c\")>,\n",
       " <selenium.webdriver.remote.webelement.WebElement (session=\"429756be3f62e575892609989d86b69f\", element=\"0a847bcd-8114-4493-81dc-8ba4c7de8bf9\")>,\n",
       " <selenium.webdriver.remote.webelement.WebElement (session=\"429756be3f62e575892609989d86b69f\", element=\"bb311f19-2cdc-495f-81ff-fe69a6540700\")>,\n",
       " <selenium.webdriver.remote.webelement.WebElement (session=\"429756be3f62e575892609989d86b69f\", element=\"ef920725-d5a0-402d-ae23-8342baba598d\")>,\n",
       " <selenium.webdriver.remote.webelement.WebElement (session=\"429756be3f62e575892609989d86b69f\", element=\"aba1d6b0-ed25-4ab8-b8c1-5683a2bf5ebc\")>,\n",
       " <selenium.webdriver.remote.webelement.WebElement (session=\"429756be3f62e575892609989d86b69f\", element=\"ffcd9d1e-f9dc-4c75-972a-5b99557f5486\")>,\n",
       " <selenium.webdriver.remote.webelement.WebElement (session=\"429756be3f62e575892609989d86b69f\", element=\"285af005-f5a9-4f4b-8f2c-0fc17c807053\")>,\n",
       " <selenium.webdriver.remote.webelement.WebElement (session=\"429756be3f62e575892609989d86b69f\", element=\"d8eaf9a3-efbe-4287-ad0b-78de512c1a82\")>,\n",
       " <selenium.webdriver.remote.webelement.WebElement (session=\"429756be3f62e575892609989d86b69f\", element=\"e7de524a-8ff3-4fff-bd74-3d231d2ad569\")>,\n",
       " <selenium.webdriver.remote.webelement.WebElement (session=\"429756be3f62e575892609989d86b69f\", element=\"8157aa72-68eb-4da1-bf8f-ccbb1fd99d13\")>,\n",
       " <selenium.webdriver.remote.webelement.WebElement (session=\"429756be3f62e575892609989d86b69f\", element=\"0c5a9c74-8114-4c7e-975b-2aec0a8dc977\")>,\n",
       " <selenium.webdriver.remote.webelement.WebElement (session=\"429756be3f62e575892609989d86b69f\", element=\"46eaf398-4202-492a-b3f3-9c7c64cc5133\")>,\n",
       " <selenium.webdriver.remote.webelement.WebElement (session=\"429756be3f62e575892609989d86b69f\", element=\"ddb1ebc3-8095-409d-9b00-631baadc76ac\")>,\n",
       " <selenium.webdriver.remote.webelement.WebElement (session=\"429756be3f62e575892609989d86b69f\", element=\"04992585-7962-4650-b3e3-beb7e505bfb3\")>,\n",
       " <selenium.webdriver.remote.webelement.WebElement (session=\"429756be3f62e575892609989d86b69f\", element=\"5dfc5fc8-cae3-476a-b208-5d635dafb94a\")>,\n",
       " <selenium.webdriver.remote.webelement.WebElement (session=\"429756be3f62e575892609989d86b69f\", element=\"ea5d8ed8-5077-4f01-8b94-2ef1f56565ab\")>,\n",
       " <selenium.webdriver.remote.webelement.WebElement (session=\"429756be3f62e575892609989d86b69f\", element=\"f5968a95-f418-47ad-a4e2-9777cc05a4e0\")>,\n",
       " <selenium.webdriver.remote.webelement.WebElement (session=\"429756be3f62e575892609989d86b69f\", element=\"48896eed-7c5c-455f-ab68-bf25fff84af0\")>,\n",
       " <selenium.webdriver.remote.webelement.WebElement (session=\"429756be3f62e575892609989d86b69f\", element=\"3c7f61b2-1a6e-424e-a0e4-ce12890336f7\")>,\n",
       " <selenium.webdriver.remote.webelement.WebElement (session=\"429756be3f62e575892609989d86b69f\", element=\"0be3885e-f245-45af-a0c8-a337acb3b799\")>,\n",
       " <selenium.webdriver.remote.webelement.WebElement (session=\"429756be3f62e575892609989d86b69f\", element=\"05365243-82ef-4527-9c8e-78d2ebb9405e\")>,\n",
       " <selenium.webdriver.remote.webelement.WebElement (session=\"429756be3f62e575892609989d86b69f\", element=\"38f4b933-ff44-4d1b-b4b6-b437139ccf98\")>,\n",
       " <selenium.webdriver.remote.webelement.WebElement (session=\"429756be3f62e575892609989d86b69f\", element=\"e366ef71-c347-4aab-873f-e440697b4c7f\")>,\n",
       " <selenium.webdriver.remote.webelement.WebElement (session=\"429756be3f62e575892609989d86b69f\", element=\"63272a26-e5d9-4284-a6d1-936b4d1f9b35\")>,\n",
       " <selenium.webdriver.remote.webelement.WebElement (session=\"429756be3f62e575892609989d86b69f\", element=\"17cb4546-fb02-44d4-9598-d66c21c577d4\")>,\n",
       " <selenium.webdriver.remote.webelement.WebElement (session=\"429756be3f62e575892609989d86b69f\", element=\"066066ff-bab6-4cb6-b54f-d6a21804cf48\")>,\n",
       " <selenium.webdriver.remote.webelement.WebElement (session=\"429756be3f62e575892609989d86b69f\", element=\"5f315939-623f-42fa-93b1-5ce284bc00fb\")>,\n",
       " <selenium.webdriver.remote.webelement.WebElement (session=\"429756be3f62e575892609989d86b69f\", element=\"dee29f67-cd85-4d2f-8285-dc4bcfc51582\")>,\n",
       " <selenium.webdriver.remote.webelement.WebElement (session=\"429756be3f62e575892609989d86b69f\", element=\"7d5ae7cb-85e5-4934-954a-ce1725576c0a\")>,\n",
       " <selenium.webdriver.remote.webelement.WebElement (session=\"429756be3f62e575892609989d86b69f\", element=\"9775565b-b31e-4186-8a46-53b13b0c4976\")>,\n",
       " <selenium.webdriver.remote.webelement.WebElement (session=\"429756be3f62e575892609989d86b69f\", element=\"a57e330b-bd39-49c1-914d-c3ca181869a7\")>,\n",
       " <selenium.webdriver.remote.webelement.WebElement (session=\"429756be3f62e575892609989d86b69f\", element=\"559577b7-f504-488f-b41f-1faff7ef51fb\")>,\n",
       " <selenium.webdriver.remote.webelement.WebElement (session=\"429756be3f62e575892609989d86b69f\", element=\"d4c50bc9-e773-4991-8a6b-9e1ad55eaa5c\")>,\n",
       " <selenium.webdriver.remote.webelement.WebElement (session=\"429756be3f62e575892609989d86b69f\", element=\"479082ee-1e62-4d47-8fae-6191078ac1a9\")>,\n",
       " <selenium.webdriver.remote.webelement.WebElement (session=\"429756be3f62e575892609989d86b69f\", element=\"7fbac92b-a8df-4bbb-bc20-3e098ee9b669\")>,\n",
       " <selenium.webdriver.remote.webelement.WebElement (session=\"429756be3f62e575892609989d86b69f\", element=\"a41f421f-d5c4-4d91-85fd-8fb768d5fe7f\")>,\n",
       " <selenium.webdriver.remote.webelement.WebElement (session=\"429756be3f62e575892609989d86b69f\", element=\"48376d00-8b64-45ce-b886-1925dac21e75\")>,\n",
       " <selenium.webdriver.remote.webelement.WebElement (session=\"429756be3f62e575892609989d86b69f\", element=\"9763e657-a29e-42f2-b176-bef1d42925fb\")>,\n",
       " <selenium.webdriver.remote.webelement.WebElement (session=\"429756be3f62e575892609989d86b69f\", element=\"74d6d24f-17b4-43b8-932d-25402c2204e0\")>,\n",
       " <selenium.webdriver.remote.webelement.WebElement (session=\"429756be3f62e575892609989d86b69f\", element=\"01df673d-4af9-471e-8706-d9fe2bc88889\")>,\n",
       " <selenium.webdriver.remote.webelement.WebElement (session=\"429756be3f62e575892609989d86b69f\", element=\"4276bae8-e583-44cb-b953-47b65745ac8c\")>,\n",
       " <selenium.webdriver.remote.webelement.WebElement (session=\"429756be3f62e575892609989d86b69f\", element=\"d896defc-6872-4633-b27d-08619416e178\")>,\n",
       " <selenium.webdriver.remote.webelement.WebElement (session=\"429756be3f62e575892609989d86b69f\", element=\"1935bdf9-bad7-4eb9-9ccb-0e86bd94c6e4\")>,\n",
       " <selenium.webdriver.remote.webelement.WebElement (session=\"429756be3f62e575892609989d86b69f\", element=\"274c7b33-c5e4-4819-9ca5-fab46a18f299\")>]"
      ]
     },
     "execution_count": 13,
     "metadata": {},
     "output_type": "execute_result"
    }
   ],
   "source": [
    "\n",
    "line4=browser.find_elements(\"xpath\",\"//div[@class='td-wrap-in']\")\n",
    "line4"
   ]
  },
  {
   "cell_type": "code",
   "execution_count": 14,
   "id": "d367aa31",
   "metadata": {},
   "outputs": [
    {
     "data": {
      "text/plain": [
       "['98.8', '100', '100', '92.3', '100', '96.3', '100', '99.5', '100']"
      ]
     },
     "execution_count": 14,
     "metadata": {},
     "output_type": "execute_result"
    }
   ],
   "source": [
    "#PARSING DATA\n",
    "value=[]\n",
    "for data in line4:\n",
    "    #get the text data\n",
    "    temp=data.text\n",
    "    value.append(temp)\n",
    "value_h=value[11:20]\n",
    "value_h"
   ]
  },
  {
   "cell_type": "code",
   "execution_count": 15,
   "id": "a7c73888",
   "metadata": {},
   "outputs": [
    {
     "data": {
      "text/plain": [
       "{'Name': 'University of Oxford',\n",
       " 'Location': 'Oxford, United Kingdom',\n",
       " 'Rank': '4',\n",
       " 'Overall Score': '98.8',\n",
       " 'Academic Reputation': '100',\n",
       " 'Employer Reputation': '100',\n",
       " 'Citations per Faculty': '92.3',\n",
       " 'Faculty Student Ratio': '100',\n",
       " 'International Students Ratio': '96.3',\n",
       " 'International Faculty Ratio': '100',\n",
       " 'International Research Network\\nUnweighted': '99.5',\n",
       " 'Employment Outcomes\\nUnweighted': '100'}"
      ]
     },
     "execution_count": 15,
     "metadata": {},
     "output_type": "execute_result"
    }
   ],
   "source": [
    "d={}\n",
    "d['Name']=value[30]\n",
    "d['Location']=address[3]\n",
    "d['Rank']=Rank[3]\n",
    "for i in range(len(column)):\n",
    "    d[column[i]]=value_h[i]\n",
    "d"
   ]
  },
  {
   "cell_type": "code",
   "execution_count": 16,
   "id": "460dd2fa",
   "metadata": {},
   "outputs": [
    {
     "data": {
      "text/plain": [
       "'{\"Name\": \"University of Oxford\", \"Location\": \"Oxford, United Kingdom\", \"Rank\": \"4\", \"Overall Score\": \"98.8\", \"Academic Reputation\": \"100\", \"Employer Reputation\": \"100\", \"Citations per Faculty\": \"92.3\", \"Faculty Student Ratio\": \"100\", \"International Students Ratio\": \"96.3\", \"International Faculty Ratio\": \"100\", \"International Research Network\\\\nUnweighted\": \"99.5\", \"Employment Outcomes\\\\nUnweighted\": \"100\"}'"
      ]
     },
     "execution_count": 16,
     "metadata": {},
     "output_type": "execute_result"
    }
   ],
   "source": [
    "s1=json.dumps(d)\n",
    "s1"
   ]
  },
  {
   "cell_type": "code",
   "execution_count": 17,
   "id": "4eae9b54",
   "metadata": {},
   "outputs": [],
   "source": [
    "with open('University of Oxford.json','w') as f:\n",
    "    json.dump(d,f)"
   ]
  },
  {
   "cell_type": "code",
   "execution_count": null,
   "id": "4423337e",
   "metadata": {},
   "outputs": [],
   "source": []
  }
 ],
 "metadata": {
  "kernelspec": {
   "display_name": "Python 3.9.12 ('base')",
   "language": "python",
   "name": "python3"
  },
  "language_info": {
   "codemirror_mode": {
    "name": "ipython",
    "version": 3
   },
   "file_extension": ".py",
   "mimetype": "text/x-python",
   "name": "python",
   "nbconvert_exporter": "python",
   "pygments_lexer": "ipython3",
   "version": "3.9.12"
  },
  "vscode": {
   "interpreter": {
    "hash": "ad2bdc8ecc057115af97d19610ffacc2b4e99fae6737bb82f5d7fb13d2f2c186"
   }
  }
 },
 "nbformat": 4,
 "nbformat_minor": 5
}
