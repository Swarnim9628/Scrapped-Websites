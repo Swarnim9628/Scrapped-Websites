{
 "cells": [
  {
   "cell_type": "code",
   "execution_count": 5,
   "id": "2cc1fd44",
   "metadata": {},
   "outputs": [],
   "source": [
    "from selenium import webdriver\n",
    "from selenium.webdriver.chrome.service import Service\n",
    "import pandas as pd\n",
    "import json"
   ]
  },
  {
   "cell_type": "code",
   "execution_count": 6,
   "id": "30f7a852",
   "metadata": {},
   "outputs": [],
   "source": [
    "path = Service('C:\\chromedriver.exe')"
   ]
  },
  {
   "cell_type": "code",
   "execution_count": 7,
   "id": "0381e8c5",
   "metadata": {},
   "outputs": [],
   "source": [
    "# set path for the driver\n",
    "browser = webdriver.Chrome(service = path)\n"
   ]
  },
  {
   "cell_type": "code",
   "execution_count": 8,
   "id": "b235a389",
   "metadata": {},
   "outputs": [],
   "source": [
    "url = \"https://www.topuniversities.com/university-rankings/world-university-rankings/2023\""
   ]
  },
  {
   "cell_type": "code",
   "execution_count": 9,
   "id": "49d68f28",
   "metadata": {},
   "outputs": [],
   "source": [
    "# open the page url ion chrome\n",
    "browser.get(url)"
   ]
  },
  {
   "cell_type": "code",
   "execution_count": 10,
   "id": "7c0eed24",
   "metadata": {},
   "outputs": [
    {
     "data": {
      "text/plain": [
       "[<selenium.webdriver.remote.webelement.WebElement (session=\"13c0197a85fa9b01b0ee374a9f20fde8\", element=\"e68756de-243a-4be6-a0fc-2aac23dc5825\")>,\n",
       " <selenium.webdriver.remote.webelement.WebElement (session=\"13c0197a85fa9b01b0ee374a9f20fde8\", element=\"d58de975-07dd-4bf6-bfe0-acec82248e8f\")>,\n",
       " <selenium.webdriver.remote.webelement.WebElement (session=\"13c0197a85fa9b01b0ee374a9f20fde8\", element=\"5bebd64f-c7d1-402e-ac0d-01fec770fa61\")>,\n",
       " <selenium.webdriver.remote.webelement.WebElement (session=\"13c0197a85fa9b01b0ee374a9f20fde8\", element=\"fc92ec0e-052c-4cb9-8ec7-3f9e1354b65d\")>,\n",
       " <selenium.webdriver.remote.webelement.WebElement (session=\"13c0197a85fa9b01b0ee374a9f20fde8\", element=\"f68f53fc-39c9-4d56-ad07-2cc574098d20\")>,\n",
       " <selenium.webdriver.remote.webelement.WebElement (session=\"13c0197a85fa9b01b0ee374a9f20fde8\", element=\"3e975637-78c2-4fdc-96f7-b5cdb5627de7\")>,\n",
       " <selenium.webdriver.remote.webelement.WebElement (session=\"13c0197a85fa9b01b0ee374a9f20fde8\", element=\"b5dd7251-63ca-4fcb-997e-953324412fd8\")>,\n",
       " <selenium.webdriver.remote.webelement.WebElement (session=\"13c0197a85fa9b01b0ee374a9f20fde8\", element=\"1919171f-db5b-4722-9237-f96e8c65e670\")>,\n",
       " <selenium.webdriver.remote.webelement.WebElement (session=\"13c0197a85fa9b01b0ee374a9f20fde8\", element=\"c7211465-4a57-4648-88ab-1ecdae66a200\")>,\n",
       " <selenium.webdriver.remote.webelement.WebElement (session=\"13c0197a85fa9b01b0ee374a9f20fde8\", element=\"e19db7ec-dc61-46ec-a9e2-e704f3db1881\")>,\n",
       " <selenium.webdriver.remote.webelement.WebElement (session=\"13c0197a85fa9b01b0ee374a9f20fde8\", element=\"0fef29d4-ee27-4604-9f73-a7ea319a169b\")>,\n",
       " <selenium.webdriver.remote.webelement.WebElement (session=\"13c0197a85fa9b01b0ee374a9f20fde8\", element=\"2fada7e7-d5ce-4928-b290-9449aafdee8e\")>,\n",
       " <selenium.webdriver.remote.webelement.WebElement (session=\"13c0197a85fa9b01b0ee374a9f20fde8\", element=\"69dd14ba-6ed1-4eaf-ac4f-fc11fdf13829\")>,\n",
       " <selenium.webdriver.remote.webelement.WebElement (session=\"13c0197a85fa9b01b0ee374a9f20fde8\", element=\"4b9ff3ea-632c-49fb-97ae-354eab650ef6\")>,\n",
       " <selenium.webdriver.remote.webelement.WebElement (session=\"13c0197a85fa9b01b0ee374a9f20fde8\", element=\"f18d018e-cc5d-41cc-90aa-efa0835bade6\")>,\n",
       " <selenium.webdriver.remote.webelement.WebElement (session=\"13c0197a85fa9b01b0ee374a9f20fde8\", element=\"703d5772-382f-442a-8559-61abfdd24cb6\")>,\n",
       " <selenium.webdriver.remote.webelement.WebElement (session=\"13c0197a85fa9b01b0ee374a9f20fde8\", element=\"b2a7e11c-66a7-4ab0-a89a-3554d3260fde\")>,\n",
       " <selenium.webdriver.remote.webelement.WebElement (session=\"13c0197a85fa9b01b0ee374a9f20fde8\", element=\"57c3b3eb-2585-452d-a10d-8e6d93402db9\")>,\n",
       " <selenium.webdriver.remote.webelement.WebElement (session=\"13c0197a85fa9b01b0ee374a9f20fde8\", element=\"f971145d-17fd-4a48-997a-90a89cbc64f7\")>,\n",
       " <selenium.webdriver.remote.webelement.WebElement (session=\"13c0197a85fa9b01b0ee374a9f20fde8\", element=\"10a1312a-18df-4575-94b0-2c98713894ec\")>]"
      ]
     },
     "execution_count": 10,
     "metadata": {},
     "output_type": "execute_result"
    }
   ],
   "source": [
    "line1=browser.find_elements(\"xpath\",\"//div[@class='location ']\")\n",
    "line1"
   ]
  },
  {
   "cell_type": "code",
   "execution_count": 12,
   "id": "f34bad48",
   "metadata": {},
   "outputs": [
    {
     "data": {
      "text/plain": [
       "['Cambridge, United States',\n",
       " 'Cambridge, United Kingdom',\n",
       " 'Stanford, United States',\n",
       " 'Oxford, United Kingdom',\n",
       " 'Cambridge, United States',\n",
       " 'Pasadena, United States',\n",
       " 'London, United Kingdom',\n",
       " 'London, United Kingdom',\n",
       " 'Zürich, Switzerland',\n",
       " 'Chicago, United States']"
      ]
     },
     "execution_count": 12,
     "metadata": {},
     "output_type": "execute_result"
    }
   ],
   "source": [
    "address=[]\n",
    "for data in line1:\n",
    "    #get the text data\n",
    "    temp=data.text\n",
    "    address.append(temp)\n",
    "address=address[10:]\n",
    "address"
   ]
  },
  {
   "cell_type": "code",
   "execution_count": 13,
   "id": "93fe543a",
   "metadata": {},
   "outputs": [
    {
     "data": {
      "text/plain": [
       "[<selenium.webdriver.remote.webelement.WebElement (session=\"13c0197a85fa9b01b0ee374a9f20fde8\", element=\"db5f9759-b5b1-4cdc-98f9-fddb44964f53\")>,\n",
       " <selenium.webdriver.remote.webelement.WebElement (session=\"13c0197a85fa9b01b0ee374a9f20fde8\", element=\"4e8199a7-8f87-45b1-b8f8-6c04b2a17f34\")>,\n",
       " <selenium.webdriver.remote.webelement.WebElement (session=\"13c0197a85fa9b01b0ee374a9f20fde8\", element=\"3a1503d6-d6e7-45a2-bc30-72114b41ff27\")>,\n",
       " <selenium.webdriver.remote.webelement.WebElement (session=\"13c0197a85fa9b01b0ee374a9f20fde8\", element=\"1daff85e-cf47-4e45-a908-35005450a3ce\")>,\n",
       " <selenium.webdriver.remote.webelement.WebElement (session=\"13c0197a85fa9b01b0ee374a9f20fde8\", element=\"d257532f-1d7b-41ea-ae32-34b28cd30994\")>,\n",
       " <selenium.webdriver.remote.webelement.WebElement (session=\"13c0197a85fa9b01b0ee374a9f20fde8\", element=\"e7610980-b032-46d4-9091-e51b6d8d770a\")>,\n",
       " <selenium.webdriver.remote.webelement.WebElement (session=\"13c0197a85fa9b01b0ee374a9f20fde8\", element=\"ffd77c4e-54e5-43ea-9971-81759ad545e1\")>,\n",
       " <selenium.webdriver.remote.webelement.WebElement (session=\"13c0197a85fa9b01b0ee374a9f20fde8\", element=\"337966dc-a9ad-4197-8da7-5edf2ded48da\")>,\n",
       " <selenium.webdriver.remote.webelement.WebElement (session=\"13c0197a85fa9b01b0ee374a9f20fde8\", element=\"7f41f2a8-aadc-483a-abfb-e9a5c7806cdb\")>,\n",
       " <selenium.webdriver.remote.webelement.WebElement (session=\"13c0197a85fa9b01b0ee374a9f20fde8\", element=\"006ce3c7-e914-454c-9256-f840cbfe199c\")>]"
      ]
     },
     "execution_count": 13,
     "metadata": {},
     "output_type": "execute_result"
    }
   ],
   "source": [
    "line2=browser.find_elements(\"xpath\",\"//div[@class='_univ-rank ']\")\n",
    "line2"
   ]
  },
  {
   "cell_type": "code",
   "execution_count": 14,
   "id": "02ab53b2",
   "metadata": {},
   "outputs": [
    {
     "data": {
      "text/plain": [
       "['1', '2', '3', '4', '5', '=6', '=6', '8', '9', '10']"
      ]
     },
     "execution_count": 14,
     "metadata": {},
     "output_type": "execute_result"
    }
   ],
   "source": [
    "Rank=[]\n",
    "for data in line2:\n",
    "    #get the text data\n",
    "    temp=data.text\n",
    "    Rank.append(temp)\n",
    "Rank"
   ]
  },
  {
   "cell_type": "code",
   "execution_count": 16,
   "id": "7d2c5d11",
   "metadata": {},
   "outputs": [
    {
     "data": {
      "text/plain": [
       "[<selenium.webdriver.remote.webelement.WebElement (session=\"13c0197a85fa9b01b0ee374a9f20fde8\", element=\"882c5691-42d7-4e4f-af25-fed6850b1fe4\")>,\n",
       " <selenium.webdriver.remote.webelement.WebElement (session=\"13c0197a85fa9b01b0ee374a9f20fde8\", element=\"2ad2ab7a-d7c5-4beb-a61b-f61c881844be\")>,\n",
       " <selenium.webdriver.remote.webelement.WebElement (session=\"13c0197a85fa9b01b0ee374a9f20fde8\", element=\"615be450-e4f9-47a3-b3bc-baf7f8736d34\")>,\n",
       " <selenium.webdriver.remote.webelement.WebElement (session=\"13c0197a85fa9b01b0ee374a9f20fde8\", element=\"800904f2-a6f6-4c55-bb34-0ba09c21725b\")>,\n",
       " <selenium.webdriver.remote.webelement.WebElement (session=\"13c0197a85fa9b01b0ee374a9f20fde8\", element=\"e788a8a3-035a-4f7a-8fe0-ad0bfa04d45b\")>,\n",
       " <selenium.webdriver.remote.webelement.WebElement (session=\"13c0197a85fa9b01b0ee374a9f20fde8\", element=\"c040d9a7-50de-4e66-ab20-580af408eb95\")>,\n",
       " <selenium.webdriver.remote.webelement.WebElement (session=\"13c0197a85fa9b01b0ee374a9f20fde8\", element=\"81d932c3-ca3b-4b32-96ee-6b96ee540d5d\")>,\n",
       " <selenium.webdriver.remote.webelement.WebElement (session=\"13c0197a85fa9b01b0ee374a9f20fde8\", element=\"f1f0cce1-8324-4d5c-b8a9-afd7c4a5e4b8\")>,\n",
       " <selenium.webdriver.remote.webelement.WebElement (session=\"13c0197a85fa9b01b0ee374a9f20fde8\", element=\"8a1468d7-f528-498c-80ff-7ece18db8388\")>]"
      ]
     },
     "execution_count": 16,
     "metadata": {},
     "output_type": "execute_result"
    }
   ],
   "source": [
    "# GET EACH COLLEGE SPECIFICATION HEADERS\n",
    "line3=browser.find_elements(\"xpath\",\"//div[@class='_click-function_ind']\")\n",
    "line3"
   ]
  },
  {
   "cell_type": "code",
   "execution_count": 17,
   "id": "4e8a07f5",
   "metadata": {},
   "outputs": [
    {
     "data": {
      "text/plain": [
       "['Overall Score',\n",
       " 'Academic Reputation',\n",
       " 'Employer Reputation',\n",
       " 'Citations per Faculty',\n",
       " 'Faculty Student Ratio',\n",
       " 'International Students Ratio',\n",
       " 'International Faculty Ratio',\n",
       " 'International Research Network\\nUnweighted',\n",
       " 'Employment Outcomes\\nUnweighted']"
      ]
     },
     "execution_count": 17,
     "metadata": {},
     "output_type": "execute_result"
    }
   ],
   "source": [
    "#PARSING DATA\n",
    "column=[]\n",
    "for data in line3:\n",
    "    #get the text data\n",
    "    temp=data.text\n",
    "    column.append(temp)\n",
    "column"
   ]
  },
  {
   "cell_type": "code",
   "execution_count": 18,
   "id": "e8f97e04",
   "metadata": {},
   "outputs": [
    {
     "data": {
      "text/plain": [
       "[<selenium.webdriver.remote.webelement.WebElement (session=\"13c0197a85fa9b01b0ee374a9f20fde8\", element=\"83627697-4684-420d-88b8-7b699f8eccee\")>,\n",
       " <selenium.webdriver.remote.webelement.WebElement (session=\"13c0197a85fa9b01b0ee374a9f20fde8\", element=\"c24f61d0-dacd-40ae-976e-6da9da2183d7\")>,\n",
       " <selenium.webdriver.remote.webelement.WebElement (session=\"13c0197a85fa9b01b0ee374a9f20fde8\", element=\"f5f68493-0fbe-4a6f-9902-654addf9a963\")>,\n",
       " <selenium.webdriver.remote.webelement.WebElement (session=\"13c0197a85fa9b01b0ee374a9f20fde8\", element=\"0924c0f8-8803-4496-bf9d-c18493ecc08a\")>,\n",
       " <selenium.webdriver.remote.webelement.WebElement (session=\"13c0197a85fa9b01b0ee374a9f20fde8\", element=\"c21fa11e-4440-44c5-850d-baac0e29f1da\")>,\n",
       " <selenium.webdriver.remote.webelement.WebElement (session=\"13c0197a85fa9b01b0ee374a9f20fde8\", element=\"2bd7d4e6-0eb3-4315-9f52-48b3cdb2a5cb\")>,\n",
       " <selenium.webdriver.remote.webelement.WebElement (session=\"13c0197a85fa9b01b0ee374a9f20fde8\", element=\"8e2657ff-6db8-4258-a8bf-2c2fa03a92e4\")>,\n",
       " <selenium.webdriver.remote.webelement.WebElement (session=\"13c0197a85fa9b01b0ee374a9f20fde8\", element=\"ef50d3fc-33f0-4c86-896e-8c44f131d125\")>,\n",
       " <selenium.webdriver.remote.webelement.WebElement (session=\"13c0197a85fa9b01b0ee374a9f20fde8\", element=\"0c605d33-1860-4801-b96e-494d293b800b\")>,\n",
       " <selenium.webdriver.remote.webelement.WebElement (session=\"13c0197a85fa9b01b0ee374a9f20fde8\", element=\"a370738f-fdcf-4e4a-b2b8-e1e87259d132\")>,\n",
       " <selenium.webdriver.remote.webelement.WebElement (session=\"13c0197a85fa9b01b0ee374a9f20fde8\", element=\"80fc8c09-5ed2-4cd7-afea-00590410d0b8\")>,\n",
       " <selenium.webdriver.remote.webelement.WebElement (session=\"13c0197a85fa9b01b0ee374a9f20fde8\", element=\"1cd102ab-ed2a-4273-bade-1ceb4a35714a\")>,\n",
       " <selenium.webdriver.remote.webelement.WebElement (session=\"13c0197a85fa9b01b0ee374a9f20fde8\", element=\"483386f9-3247-4c7c-bb59-250cae16887f\")>,\n",
       " <selenium.webdriver.remote.webelement.WebElement (session=\"13c0197a85fa9b01b0ee374a9f20fde8\", element=\"7c7d4fe8-f9e1-4785-9798-e3679d2840e8\")>,\n",
       " <selenium.webdriver.remote.webelement.WebElement (session=\"13c0197a85fa9b01b0ee374a9f20fde8\", element=\"5900d654-8f0b-4a54-a3ca-e34bb65883e7\")>,\n",
       " <selenium.webdriver.remote.webelement.WebElement (session=\"13c0197a85fa9b01b0ee374a9f20fde8\", element=\"105534a6-dfe5-4568-aaf2-64cccfe03fe6\")>,\n",
       " <selenium.webdriver.remote.webelement.WebElement (session=\"13c0197a85fa9b01b0ee374a9f20fde8\", element=\"5d443410-06fa-4d53-8594-98151558aff2\")>,\n",
       " <selenium.webdriver.remote.webelement.WebElement (session=\"13c0197a85fa9b01b0ee374a9f20fde8\", element=\"35c909aa-22fc-40dd-8181-9cb3dd521346\")>,\n",
       " <selenium.webdriver.remote.webelement.WebElement (session=\"13c0197a85fa9b01b0ee374a9f20fde8\", element=\"d21c3a9d-7caa-4daf-961f-815b8beae0fb\")>,\n",
       " <selenium.webdriver.remote.webelement.WebElement (session=\"13c0197a85fa9b01b0ee374a9f20fde8\", element=\"8c266cd2-40d4-4d6b-b730-a46dbe05379d\")>,\n",
       " <selenium.webdriver.remote.webelement.WebElement (session=\"13c0197a85fa9b01b0ee374a9f20fde8\", element=\"11176691-9606-49ac-8f53-5707b5284b3f\")>,\n",
       " <selenium.webdriver.remote.webelement.WebElement (session=\"13c0197a85fa9b01b0ee374a9f20fde8\", element=\"83deae15-02bc-4933-ac13-453c81354aaa\")>,\n",
       " <selenium.webdriver.remote.webelement.WebElement (session=\"13c0197a85fa9b01b0ee374a9f20fde8\", element=\"ebd746a1-a13c-43a4-8fc5-89124c4a252e\")>,\n",
       " <selenium.webdriver.remote.webelement.WebElement (session=\"13c0197a85fa9b01b0ee374a9f20fde8\", element=\"bc230343-a169-4fde-bce8-ab175de97bb8\")>,\n",
       " <selenium.webdriver.remote.webelement.WebElement (session=\"13c0197a85fa9b01b0ee374a9f20fde8\", element=\"92f7eaa4-f882-4700-87a7-0317623dccff\")>,\n",
       " <selenium.webdriver.remote.webelement.WebElement (session=\"13c0197a85fa9b01b0ee374a9f20fde8\", element=\"2cdc01ab-450b-498c-acea-7afc0dbadc13\")>,\n",
       " <selenium.webdriver.remote.webelement.WebElement (session=\"13c0197a85fa9b01b0ee374a9f20fde8\", element=\"c794bd36-6580-47f9-b9cf-a3c6dac7a714\")>,\n",
       " <selenium.webdriver.remote.webelement.WebElement (session=\"13c0197a85fa9b01b0ee374a9f20fde8\", element=\"07db9fc2-2ef8-4c53-bb45-fb78327d3265\")>,\n",
       " <selenium.webdriver.remote.webelement.WebElement (session=\"13c0197a85fa9b01b0ee374a9f20fde8\", element=\"e758ad84-9c4b-45bb-8ef0-0cde07ace744\")>,\n",
       " <selenium.webdriver.remote.webelement.WebElement (session=\"13c0197a85fa9b01b0ee374a9f20fde8\", element=\"9e9f4b2d-6ee5-477a-ab9c-0ea5d964f079\")>,\n",
       " <selenium.webdriver.remote.webelement.WebElement (session=\"13c0197a85fa9b01b0ee374a9f20fde8\", element=\"94691b2e-e41a-4c42-8f97-c2a48acba0d0\")>,\n",
       " <selenium.webdriver.remote.webelement.WebElement (session=\"13c0197a85fa9b01b0ee374a9f20fde8\", element=\"fe00c108-e90c-41a8-888d-6a910f713d7e\")>,\n",
       " <selenium.webdriver.remote.webelement.WebElement (session=\"13c0197a85fa9b01b0ee374a9f20fde8\", element=\"a7fb6349-17c5-457b-9842-a9091d398347\")>,\n",
       " <selenium.webdriver.remote.webelement.WebElement (session=\"13c0197a85fa9b01b0ee374a9f20fde8\", element=\"c9ccbf0d-89dc-4df1-9536-7dc78bb1dc47\")>,\n",
       " <selenium.webdriver.remote.webelement.WebElement (session=\"13c0197a85fa9b01b0ee374a9f20fde8\", element=\"84b947e8-6814-4333-9f08-33aa4363a0e9\")>,\n",
       " <selenium.webdriver.remote.webelement.WebElement (session=\"13c0197a85fa9b01b0ee374a9f20fde8\", element=\"c29efb90-9e56-4db6-8a23-539056bbd4e3\")>,\n",
       " <selenium.webdriver.remote.webelement.WebElement (session=\"13c0197a85fa9b01b0ee374a9f20fde8\", element=\"c3209063-2f0a-46c1-aadc-79e80e26b337\")>,\n",
       " <selenium.webdriver.remote.webelement.WebElement (session=\"13c0197a85fa9b01b0ee374a9f20fde8\", element=\"b23fc2d4-cff7-4538-806d-e6416049610b\")>,\n",
       " <selenium.webdriver.remote.webelement.WebElement (session=\"13c0197a85fa9b01b0ee374a9f20fde8\", element=\"7ee42849-7854-4b43-89e4-a658042b6aab\")>,\n",
       " <selenium.webdriver.remote.webelement.WebElement (session=\"13c0197a85fa9b01b0ee374a9f20fde8\", element=\"78426db6-a60f-4283-94ec-6db8b2a1536b\")>,\n",
       " <selenium.webdriver.remote.webelement.WebElement (session=\"13c0197a85fa9b01b0ee374a9f20fde8\", element=\"cd4e38ab-351e-46b2-a26b-f686f9de9db0\")>,\n",
       " <selenium.webdriver.remote.webelement.WebElement (session=\"13c0197a85fa9b01b0ee374a9f20fde8\", element=\"585b73fc-9f38-4c55-a7e4-b77e5e91cbba\")>,\n",
       " <selenium.webdriver.remote.webelement.WebElement (session=\"13c0197a85fa9b01b0ee374a9f20fde8\", element=\"bfee5bfd-f7a9-49c3-b65e-266beacca1ec\")>,\n",
       " <selenium.webdriver.remote.webelement.WebElement (session=\"13c0197a85fa9b01b0ee374a9f20fde8\", element=\"69b226ee-9ab7-4153-ada1-70781f54e6e9\")>,\n",
       " <selenium.webdriver.remote.webelement.WebElement (session=\"13c0197a85fa9b01b0ee374a9f20fde8\", element=\"3807a8c5-3d01-4b9f-8f02-8681a7299a70\")>,\n",
       " <selenium.webdriver.remote.webelement.WebElement (session=\"13c0197a85fa9b01b0ee374a9f20fde8\", element=\"7f122666-faf8-4e2f-928d-e58ca6a815d5\")>,\n",
       " <selenium.webdriver.remote.webelement.WebElement (session=\"13c0197a85fa9b01b0ee374a9f20fde8\", element=\"6731886c-e03a-48ad-bfb1-0bf28abd325e\")>,\n",
       " <selenium.webdriver.remote.webelement.WebElement (session=\"13c0197a85fa9b01b0ee374a9f20fde8\", element=\"c16a97af-da6d-4996-812f-d3a4d84c1dcf\")>,\n",
       " <selenium.webdriver.remote.webelement.WebElement (session=\"13c0197a85fa9b01b0ee374a9f20fde8\", element=\"c56e54b1-1b30-45ac-b347-a63bed5c8d64\")>,\n",
       " <selenium.webdriver.remote.webelement.WebElement (session=\"13c0197a85fa9b01b0ee374a9f20fde8\", element=\"8a6ab2ee-ecd5-47e4-9cf2-92f41bf74f78\")>,\n",
       " <selenium.webdriver.remote.webelement.WebElement (session=\"13c0197a85fa9b01b0ee374a9f20fde8\", element=\"6e7a286e-0f52-43df-91d7-a8246d41f2e7\")>,\n",
       " <selenium.webdriver.remote.webelement.WebElement (session=\"13c0197a85fa9b01b0ee374a9f20fde8\", element=\"ac184552-c74f-4258-adbd-b0de271ab1ab\")>,\n",
       " <selenium.webdriver.remote.webelement.WebElement (session=\"13c0197a85fa9b01b0ee374a9f20fde8\", element=\"80b78325-833a-4b2b-98ec-c1e812b090be\")>,\n",
       " <selenium.webdriver.remote.webelement.WebElement (session=\"13c0197a85fa9b01b0ee374a9f20fde8\", element=\"eaab7c38-2b3f-4009-853e-bc8a2139d841\")>,\n",
       " <selenium.webdriver.remote.webelement.WebElement (session=\"13c0197a85fa9b01b0ee374a9f20fde8\", element=\"4131edd7-853c-4776-aea5-9c69f6a66cba\")>,\n",
       " <selenium.webdriver.remote.webelement.WebElement (session=\"13c0197a85fa9b01b0ee374a9f20fde8\", element=\"e38113a0-9375-42da-ab78-82baa6d0f6d5\")>,\n",
       " <selenium.webdriver.remote.webelement.WebElement (session=\"13c0197a85fa9b01b0ee374a9f20fde8\", element=\"67b67147-7584-4ad7-bd96-bd7b9f9fe878\")>,\n",
       " <selenium.webdriver.remote.webelement.WebElement (session=\"13c0197a85fa9b01b0ee374a9f20fde8\", element=\"69494e33-7e0d-4b29-8c48-672f3aef90f2\")>,\n",
       " <selenium.webdriver.remote.webelement.WebElement (session=\"13c0197a85fa9b01b0ee374a9f20fde8\", element=\"b5d3d2fb-fefd-4b18-b63b-abc5562c6023\")>,\n",
       " <selenium.webdriver.remote.webelement.WebElement (session=\"13c0197a85fa9b01b0ee374a9f20fde8\", element=\"e94b1c93-9050-4c11-b552-7e89cfc1648c\")>,\n",
       " <selenium.webdriver.remote.webelement.WebElement (session=\"13c0197a85fa9b01b0ee374a9f20fde8\", element=\"5889cf40-c940-4b93-87d6-c416ddc18355\")>,\n",
       " <selenium.webdriver.remote.webelement.WebElement (session=\"13c0197a85fa9b01b0ee374a9f20fde8\", element=\"c5943761-75f0-463c-b08c-6a82a8ad03e3\")>,\n",
       " <selenium.webdriver.remote.webelement.WebElement (session=\"13c0197a85fa9b01b0ee374a9f20fde8\", element=\"9b9fb904-87c8-4102-ace3-d5f393b0a35f\")>,\n",
       " <selenium.webdriver.remote.webelement.WebElement (session=\"13c0197a85fa9b01b0ee374a9f20fde8\", element=\"c1555b3b-5cfe-4525-ae9e-ce7227f58b1e\")>,\n",
       " <selenium.webdriver.remote.webelement.WebElement (session=\"13c0197a85fa9b01b0ee374a9f20fde8\", element=\"aa4df36d-337e-4009-8429-79f2fa1cd097\")>,\n",
       " <selenium.webdriver.remote.webelement.WebElement (session=\"13c0197a85fa9b01b0ee374a9f20fde8\", element=\"f24b4b8b-ceef-4129-8c3f-d722fda09b62\")>,\n",
       " <selenium.webdriver.remote.webelement.WebElement (session=\"13c0197a85fa9b01b0ee374a9f20fde8\", element=\"f0ea2b4d-de06-4126-b112-3e680721bdde\")>,\n",
       " <selenium.webdriver.remote.webelement.WebElement (session=\"13c0197a85fa9b01b0ee374a9f20fde8\", element=\"c9c10ffe-b8d6-4fa8-8d51-74ed6b35aa2d\")>,\n",
       " <selenium.webdriver.remote.webelement.WebElement (session=\"13c0197a85fa9b01b0ee374a9f20fde8\", element=\"38b4d822-3379-459c-820a-f0c443e7370a\")>,\n",
       " <selenium.webdriver.remote.webelement.WebElement (session=\"13c0197a85fa9b01b0ee374a9f20fde8\", element=\"10bf7173-681c-4460-98ee-4c067a27ca24\")>,\n",
       " <selenium.webdriver.remote.webelement.WebElement (session=\"13c0197a85fa9b01b0ee374a9f20fde8\", element=\"279a8791-1eec-488e-80ae-733816e10506\")>,\n",
       " <selenium.webdriver.remote.webelement.WebElement (session=\"13c0197a85fa9b01b0ee374a9f20fde8\", element=\"8252709e-9619-42d3-9b2e-238ef4a86220\")>,\n",
       " <selenium.webdriver.remote.webelement.WebElement (session=\"13c0197a85fa9b01b0ee374a9f20fde8\", element=\"74ee579c-7c9a-40d2-aea3-5cde95f30fc8\")>,\n",
       " <selenium.webdriver.remote.webelement.WebElement (session=\"13c0197a85fa9b01b0ee374a9f20fde8\", element=\"079f6dbf-a7e8-4558-bd7f-18ee46edc37c\")>,\n",
       " <selenium.webdriver.remote.webelement.WebElement (session=\"13c0197a85fa9b01b0ee374a9f20fde8\", element=\"ac61c1a9-e366-442c-87e4-97dc3a4ea85c\")>,\n",
       " <selenium.webdriver.remote.webelement.WebElement (session=\"13c0197a85fa9b01b0ee374a9f20fde8\", element=\"21850c44-01fc-4736-873f-e544b92538ae\")>,\n",
       " <selenium.webdriver.remote.webelement.WebElement (session=\"13c0197a85fa9b01b0ee374a9f20fde8\", element=\"362bfdd0-4511-44a9-8328-7907ab4b464e\")>,\n",
       " <selenium.webdriver.remote.webelement.WebElement (session=\"13c0197a85fa9b01b0ee374a9f20fde8\", element=\"7822f387-9b5e-4206-9a04-cffd6209eae3\")>,\n",
       " <selenium.webdriver.remote.webelement.WebElement (session=\"13c0197a85fa9b01b0ee374a9f20fde8\", element=\"2e00c225-858f-4962-8465-f71fc704d253\")>,\n",
       " <selenium.webdriver.remote.webelement.WebElement (session=\"13c0197a85fa9b01b0ee374a9f20fde8\", element=\"5d8bf725-e29a-41b5-8977-b24e8342cc49\")>,\n",
       " <selenium.webdriver.remote.webelement.WebElement (session=\"13c0197a85fa9b01b0ee374a9f20fde8\", element=\"55d1c578-8993-4e9b-98fd-b57a8bd4131e\")>,\n",
       " <selenium.webdriver.remote.webelement.WebElement (session=\"13c0197a85fa9b01b0ee374a9f20fde8\", element=\"66c88d12-d447-4abb-90a9-b7492b511215\")>,\n",
       " <selenium.webdriver.remote.webelement.WebElement (session=\"13c0197a85fa9b01b0ee374a9f20fde8\", element=\"4e0d1569-645e-4214-bbdf-5dab648a5132\")>,\n",
       " <selenium.webdriver.remote.webelement.WebElement (session=\"13c0197a85fa9b01b0ee374a9f20fde8\", element=\"5fc33a9d-df29-4c99-adf4-c5997f4efa4f\")>,\n",
       " <selenium.webdriver.remote.webelement.WebElement (session=\"13c0197a85fa9b01b0ee374a9f20fde8\", element=\"37d66f48-78aa-4204-988c-1e7f360d3a6c\")>,\n",
       " <selenium.webdriver.remote.webelement.WebElement (session=\"13c0197a85fa9b01b0ee374a9f20fde8\", element=\"72beae72-a4d7-4fee-b8e6-48c610adbe97\")>,\n",
       " <selenium.webdriver.remote.webelement.WebElement (session=\"13c0197a85fa9b01b0ee374a9f20fde8\", element=\"882582aa-1dff-43c3-b332-5dd86d761399\")>,\n",
       " <selenium.webdriver.remote.webelement.WebElement (session=\"13c0197a85fa9b01b0ee374a9f20fde8\", element=\"2b614297-766d-4af4-9956-0aacc96ceec0\")>,\n",
       " <selenium.webdriver.remote.webelement.WebElement (session=\"13c0197a85fa9b01b0ee374a9f20fde8\", element=\"89968e0b-56a5-487b-a191-613718c302d2\")>,\n",
       " <selenium.webdriver.remote.webelement.WebElement (session=\"13c0197a85fa9b01b0ee374a9f20fde8\", element=\"bb85ef9b-1bd8-427e-bea9-e7ba5ea85f1a\")>,\n",
       " <selenium.webdriver.remote.webelement.WebElement (session=\"13c0197a85fa9b01b0ee374a9f20fde8\", element=\"a3feaeaa-3670-461f-9169-7e365fa0d7e3\")>,\n",
       " <selenium.webdriver.remote.webelement.WebElement (session=\"13c0197a85fa9b01b0ee374a9f20fde8\", element=\"f8f7ef71-bd50-41aa-8c91-3b76c2fe8d4e\")>,\n",
       " <selenium.webdriver.remote.webelement.WebElement (session=\"13c0197a85fa9b01b0ee374a9f20fde8\", element=\"871cdbf2-d89b-4523-9c55-25fc6bbbfc88\")>,\n",
       " <selenium.webdriver.remote.webelement.WebElement (session=\"13c0197a85fa9b01b0ee374a9f20fde8\", element=\"2152d8ae-d589-4fde-9e47-6ab2d3607c35\")>,\n",
       " <selenium.webdriver.remote.webelement.WebElement (session=\"13c0197a85fa9b01b0ee374a9f20fde8\", element=\"39bb4803-8e36-450f-bc94-f5693e2921aa\")>,\n",
       " <selenium.webdriver.remote.webelement.WebElement (session=\"13c0197a85fa9b01b0ee374a9f20fde8\", element=\"3ece9250-265c-43e4-a542-b4db20e99e47\")>,\n",
       " <selenium.webdriver.remote.webelement.WebElement (session=\"13c0197a85fa9b01b0ee374a9f20fde8\", element=\"cce15e23-29dc-40d1-a231-6cac53709eb2\")>,\n",
       " <selenium.webdriver.remote.webelement.WebElement (session=\"13c0197a85fa9b01b0ee374a9f20fde8\", element=\"13e3db60-6419-4a2b-a60e-5a57655109d5\")>,\n",
       " <selenium.webdriver.remote.webelement.WebElement (session=\"13c0197a85fa9b01b0ee374a9f20fde8\", element=\"1d7f2369-b661-4cbe-bea7-41d8cbf3faf6\")>,\n",
       " <selenium.webdriver.remote.webelement.WebElement (session=\"13c0197a85fa9b01b0ee374a9f20fde8\", element=\"243a89d3-bf1d-486e-bf05-29e124f16321\")>]"
      ]
     },
     "execution_count": 18,
     "metadata": {},
     "output_type": "execute_result"
    }
   ],
   "source": [
    "\n",
    "line4=browser.find_elements(\"xpath\",\"//div[@class='td-wrap-in']\")\n",
    "line4"
   ]
  },
  {
   "cell_type": "code",
   "execution_count": 21,
   "id": "70d59098",
   "metadata": {},
   "outputs": [
    {
     "data": {
      "text/plain": [
       "['97', '98.3', '99.7', '86.5', '99.5', '100', '100', '98.1', '88.8']"
      ]
     },
     "execution_count": 21,
     "metadata": {},
     "output_type": "execute_result"
    }
   ],
   "source": [
    "#PARSING DATA\n",
    "value=[]\n",
    "for data in line4:\n",
    "    #get the text data\n",
    "    temp=data.text\n",
    "    value.append(temp)\n",
    "value_h=value[61:70]\n",
    "value_h"
   ]
  },
  {
   "cell_type": "code",
   "execution_count": 22,
   "id": "0940de3d",
   "metadata": {},
   "outputs": [
    {
     "data": {
      "text/plain": [
       "{'Name': 'Imperial College London',\n",
       " 'Location': 'London, United Kingdom',\n",
       " 'Rank': '=6',\n",
       " 'Overall Score': '97',\n",
       " 'Academic Reputation': '98.3',\n",
       " 'Employer Reputation': '99.7',\n",
       " 'Citations per Faculty': '86.5',\n",
       " 'Faculty Student Ratio': '99.5',\n",
       " 'International Students Ratio': '100',\n",
       " 'International Faculty Ratio': '100',\n",
       " 'International Research Network\\nUnweighted': '98.1',\n",
       " 'Employment Outcomes\\nUnweighted': '88.8'}"
      ]
     },
     "execution_count": 22,
     "metadata": {},
     "output_type": "execute_result"
    }
   ],
   "source": [
    "d={}\n",
    "d['Name']=value[60]\n",
    "d['Location']=address[6]\n",
    "d['Rank']=Rank[6]\n",
    "for i in range(len(column)):\n",
    "    d[column[i]]=value_h[i]\n",
    "d"
   ]
  },
  {
   "cell_type": "code",
   "execution_count": 23,
   "id": "4157a77e",
   "metadata": {},
   "outputs": [
    {
     "data": {
      "text/plain": [
       "'{\"Name\": \"Imperial College London\", \"Location\": \"London, United Kingdom\", \"Rank\": \"=6\", \"Overall Score\": \"97\", \"Academic Reputation\": \"98.3\", \"Employer Reputation\": \"99.7\", \"Citations per Faculty\": \"86.5\", \"Faculty Student Ratio\": \"99.5\", \"International Students Ratio\": \"100\", \"International Faculty Ratio\": \"100\", \"International Research Network\\\\nUnweighted\": \"98.1\", \"Employment Outcomes\\\\nUnweighted\": \"88.8\"}'"
      ]
     },
     "execution_count": 23,
     "metadata": {},
     "output_type": "execute_result"
    }
   ],
   "source": [
    "s1=json.dumps(d)\n",
    "s1\n"
   ]
  },
  {
   "cell_type": "code",
   "execution_count": 24,
   "id": "9dcb2269",
   "metadata": {},
   "outputs": [],
   "source": [
    "with open('Imperial College London.json','w') as f:\n",
    "    json.dump(d,f)\n"
   ]
  },
  {
   "cell_type": "code",
   "execution_count": null,
   "id": "2edc3922",
   "metadata": {},
   "outputs": [],
   "source": []
  }
 ],
 "metadata": {
  "kernelspec": {
   "display_name": "Python 3.9.12 ('base')",
   "language": "python",
   "name": "python3"
  },
  "language_info": {
   "codemirror_mode": {
    "name": "ipython",
    "version": 3
   },
   "file_extension": ".py",
   "mimetype": "text/x-python",
   "name": "python",
   "nbconvert_exporter": "python",
   "pygments_lexer": "ipython3",
   "version": "3.9.12"
  },
  "vscode": {
   "interpreter": {
    "hash": "ad2bdc8ecc057115af97d19610ffacc2b4e99fae6737bb82f5d7fb13d2f2c186"
   }
  }
 },
 "nbformat": 4,
 "nbformat_minor": 5
}
