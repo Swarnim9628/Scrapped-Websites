{
 "cells": [
  {
   "cell_type": "code",
   "execution_count": 25,
   "id": "c2750d48",
   "metadata": {},
   "outputs": [],
   "source": [
    "from selenium import webdriver\n",
    "from selenium.webdriver.chrome.service import Service\n",
    "import pandas as pd\n",
    "import json"
   ]
  },
  {
   "cell_type": "code",
   "execution_count": 26,
   "id": "bf9100d0",
   "metadata": {},
   "outputs": [],
   "source": [
    "way = Service('C:\\chromedriver.exe')\n"
   ]
  },
  {
   "cell_type": "code",
   "execution_count": 27,
   "id": "d6f75172",
   "metadata": {},
   "outputs": [],
   "source": [
    "# set path for the driver\n",
    "browser = webdriver.Chrome(service = way)\n"
   ]
  },
  {
   "cell_type": "code",
   "execution_count": 28,
   "id": "22fafef9",
   "metadata": {},
   "outputs": [],
   "source": [
    "url = \"https://www.topuniversities.com/university-rankings/world-university-rankings/2023\""
   ]
  },
  {
   "cell_type": "code",
   "execution_count": 29,
   "id": "94ed31af",
   "metadata": {},
   "outputs": [],
   "source": [
    "# open the page url ion chrome\n",
    "browser.get(url)\n"
   ]
  },
  {
   "cell_type": "code",
   "execution_count": 30,
   "id": "f5216efb",
   "metadata": {},
   "outputs": [
    {
     "data": {
      "text/plain": [
       "[<selenium.webdriver.remote.webelement.WebElement (session=\"3d417377f19796bb799370bb31faae7f\", element=\"a652d4c0-e489-43f7-93a1-1e50c3ccbd05\")>,\n",
       " <selenium.webdriver.remote.webelement.WebElement (session=\"3d417377f19796bb799370bb31faae7f\", element=\"6044fbfd-0192-4692-80dd-35a00cd2aad6\")>,\n",
       " <selenium.webdriver.remote.webelement.WebElement (session=\"3d417377f19796bb799370bb31faae7f\", element=\"82762f89-0859-4245-a16b-e08c75773aa7\")>,\n",
       " <selenium.webdriver.remote.webelement.WebElement (session=\"3d417377f19796bb799370bb31faae7f\", element=\"05d324e6-0540-4644-b8e7-22e9719590be\")>,\n",
       " <selenium.webdriver.remote.webelement.WebElement (session=\"3d417377f19796bb799370bb31faae7f\", element=\"f6251f01-f52d-4e1b-998b-eb1897cf34e1\")>,\n",
       " <selenium.webdriver.remote.webelement.WebElement (session=\"3d417377f19796bb799370bb31faae7f\", element=\"9fbab76e-7fda-423d-ba69-e616386ae288\")>,\n",
       " <selenium.webdriver.remote.webelement.WebElement (session=\"3d417377f19796bb799370bb31faae7f\", element=\"a758ba88-3e32-4a91-a69c-d61e217ea3c2\")>,\n",
       " <selenium.webdriver.remote.webelement.WebElement (session=\"3d417377f19796bb799370bb31faae7f\", element=\"948b3735-13d3-4e57-8908-434ecf53f985\")>,\n",
       " <selenium.webdriver.remote.webelement.WebElement (session=\"3d417377f19796bb799370bb31faae7f\", element=\"d1185f4b-29f4-4eaf-8290-74d79f884273\")>,\n",
       " <selenium.webdriver.remote.webelement.WebElement (session=\"3d417377f19796bb799370bb31faae7f\", element=\"528639f0-3dd9-411c-8263-5692a234003f\")>,\n",
       " <selenium.webdriver.remote.webelement.WebElement (session=\"3d417377f19796bb799370bb31faae7f\", element=\"1db41154-1a53-4467-b87b-ab1e61d79581\")>,\n",
       " <selenium.webdriver.remote.webelement.WebElement (session=\"3d417377f19796bb799370bb31faae7f\", element=\"9190bbcf-39e8-4918-9dd5-819d969252a3\")>,\n",
       " <selenium.webdriver.remote.webelement.WebElement (session=\"3d417377f19796bb799370bb31faae7f\", element=\"6ae2bd18-4dda-4788-b71b-cea4678463a7\")>,\n",
       " <selenium.webdriver.remote.webelement.WebElement (session=\"3d417377f19796bb799370bb31faae7f\", element=\"b52e1dff-2955-4ef5-be9d-f970eda704db\")>,\n",
       " <selenium.webdriver.remote.webelement.WebElement (session=\"3d417377f19796bb799370bb31faae7f\", element=\"045b582d-28b4-4dcb-a5f3-f1ac7c35e7f8\")>,\n",
       " <selenium.webdriver.remote.webelement.WebElement (session=\"3d417377f19796bb799370bb31faae7f\", element=\"69b521c6-cb94-43cd-a3f7-d8682f173356\")>,\n",
       " <selenium.webdriver.remote.webelement.WebElement (session=\"3d417377f19796bb799370bb31faae7f\", element=\"d960563e-c962-42c2-93cc-54fde0cdde9b\")>,\n",
       " <selenium.webdriver.remote.webelement.WebElement (session=\"3d417377f19796bb799370bb31faae7f\", element=\"0ffcad90-635d-4b18-9f68-95b93597a6cb\")>,\n",
       " <selenium.webdriver.remote.webelement.WebElement (session=\"3d417377f19796bb799370bb31faae7f\", element=\"8bf3cd5b-31b6-4ec2-b004-0a34f9980434\")>,\n",
       " <selenium.webdriver.remote.webelement.WebElement (session=\"3d417377f19796bb799370bb31faae7f\", element=\"2fa672f8-5f7c-4d3e-9edd-44dd86054962\")>]"
      ]
     },
     "execution_count": 30,
     "metadata": {},
     "output_type": "execute_result"
    }
   ],
   "source": [
    "line1=browser.find_elements(\"xpath\",\"//div[@class='location ']\")\n",
    "line1"
   ]
  },
  {
   "cell_type": "code",
   "execution_count": 31,
   "id": "644d1326",
   "metadata": {},
   "outputs": [
    {
     "data": {
      "text/plain": [
       "['Cambridge, United States',\n",
       " 'Cambridge, United Kingdom',\n",
       " 'Stanford, United States',\n",
       " 'Oxford, United Kingdom',\n",
       " 'Cambridge, United States',\n",
       " 'Pasadena, United States',\n",
       " 'London, United Kingdom',\n",
       " 'London, United Kingdom',\n",
       " 'Zürich, Switzerland',\n",
       " 'Chicago, United States']"
      ]
     },
     "execution_count": 31,
     "metadata": {},
     "output_type": "execute_result"
    }
   ],
   "source": [
    "address=[]\n",
    "for data in line1:\n",
    "    #get the text data\n",
    "    temp=data.text\n",
    "    address.append(temp)\n",
    "address=address[10:]\n",
    "address"
   ]
  },
  {
   "cell_type": "code",
   "execution_count": 32,
   "id": "9625e856",
   "metadata": {},
   "outputs": [
    {
     "data": {
      "text/plain": [
       "[<selenium.webdriver.remote.webelement.WebElement (session=\"3d417377f19796bb799370bb31faae7f\", element=\"0460d3e6-cb06-4d66-9222-3b746e65a0d5\")>,\n",
       " <selenium.webdriver.remote.webelement.WebElement (session=\"3d417377f19796bb799370bb31faae7f\", element=\"a864013a-6fee-4036-bbd2-0b3acb87a313\")>,\n",
       " <selenium.webdriver.remote.webelement.WebElement (session=\"3d417377f19796bb799370bb31faae7f\", element=\"9c08e290-a072-4c55-abaa-7196b2000a8f\")>,\n",
       " <selenium.webdriver.remote.webelement.WebElement (session=\"3d417377f19796bb799370bb31faae7f\", element=\"38cad784-534f-4fdc-8b41-ff0236c213bd\")>,\n",
       " <selenium.webdriver.remote.webelement.WebElement (session=\"3d417377f19796bb799370bb31faae7f\", element=\"d61c85fa-0af4-414a-9a3e-34a47076fa9c\")>,\n",
       " <selenium.webdriver.remote.webelement.WebElement (session=\"3d417377f19796bb799370bb31faae7f\", element=\"fb6b3b40-940a-48e2-be8c-e40a29244941\")>,\n",
       " <selenium.webdriver.remote.webelement.WebElement (session=\"3d417377f19796bb799370bb31faae7f\", element=\"f32c6dfb-6cb6-4ed3-b979-5de2d3273181\")>,\n",
       " <selenium.webdriver.remote.webelement.WebElement (session=\"3d417377f19796bb799370bb31faae7f\", element=\"c9be077e-8e86-4e95-aa90-51d53fd52f00\")>,\n",
       " <selenium.webdriver.remote.webelement.WebElement (session=\"3d417377f19796bb799370bb31faae7f\", element=\"38d0e0f9-f6da-4868-86d2-344e6ecba7dc\")>,\n",
       " <selenium.webdriver.remote.webelement.WebElement (session=\"3d417377f19796bb799370bb31faae7f\", element=\"211d5332-9786-4fd3-8a96-af3d27e243fb\")>]"
      ]
     },
     "execution_count": 32,
     "metadata": {},
     "output_type": "execute_result"
    }
   ],
   "source": [
    "line2=browser.find_elements(\"xpath\",\"//div[@class='_univ-rank ']\")\n",
    "line2"
   ]
  },
  {
   "cell_type": "code",
   "execution_count": 33,
   "id": "ad6fe661",
   "metadata": {},
   "outputs": [
    {
     "data": {
      "text/plain": [
       "['1', '2', '3', '4', '5', '=6', '=6', '8', '9', '10']"
      ]
     },
     "execution_count": 33,
     "metadata": {},
     "output_type": "execute_result"
    }
   ],
   "source": [
    "Rank=[]\n",
    "for data in line2:\n",
    "    #get the text data\n",
    "    temp=data.text\n",
    "    Rank.append(temp)\n",
    "Rank"
   ]
  },
  {
   "cell_type": "code",
   "execution_count": 34,
   "id": "a2debd52",
   "metadata": {},
   "outputs": [
    {
     "data": {
      "text/plain": [
       "[<selenium.webdriver.remote.webelement.WebElement (session=\"3d417377f19796bb799370bb31faae7f\", element=\"e530b939-cfe1-4060-a400-07fb34dd961c\")>,\n",
       " <selenium.webdriver.remote.webelement.WebElement (session=\"3d417377f19796bb799370bb31faae7f\", element=\"49b80d08-1792-417d-a79e-60e6ab19e808\")>,\n",
       " <selenium.webdriver.remote.webelement.WebElement (session=\"3d417377f19796bb799370bb31faae7f\", element=\"767437e2-5f71-4c49-8a58-4b02c0738a37\")>,\n",
       " <selenium.webdriver.remote.webelement.WebElement (session=\"3d417377f19796bb799370bb31faae7f\", element=\"4e7dc7e6-0fdb-484c-b30d-1b1858499228\")>,\n",
       " <selenium.webdriver.remote.webelement.WebElement (session=\"3d417377f19796bb799370bb31faae7f\", element=\"7d85819d-0693-4eb6-bf7c-886503d39b90\")>,\n",
       " <selenium.webdriver.remote.webelement.WebElement (session=\"3d417377f19796bb799370bb31faae7f\", element=\"36feb7fd-55dc-48aa-b949-5ee320ab223d\")>,\n",
       " <selenium.webdriver.remote.webelement.WebElement (session=\"3d417377f19796bb799370bb31faae7f\", element=\"941230c9-7073-40bc-b689-ac5126121164\")>,\n",
       " <selenium.webdriver.remote.webelement.WebElement (session=\"3d417377f19796bb799370bb31faae7f\", element=\"d26841c5-4699-4371-981f-4f55b92e8fed\")>,\n",
       " <selenium.webdriver.remote.webelement.WebElement (session=\"3d417377f19796bb799370bb31faae7f\", element=\"2945b64d-b0ff-40a2-80e3-10c06a8eb6bf\")>]"
      ]
     },
     "execution_count": 34,
     "metadata": {},
     "output_type": "execute_result"
    }
   ],
   "source": [
    "line3=browser.find_elements(\"xpath\",\"//div[@class='_click-function_ind']\")\n",
    "line3"
   ]
  },
  {
   "cell_type": "code",
   "execution_count": 35,
   "id": "408c1bb8",
   "metadata": {},
   "outputs": [
    {
     "data": {
      "text/plain": [
       "['Overall Score',\n",
       " 'Academic Reputation',\n",
       " 'Employer Reputation',\n",
       " 'Citations per Faculty',\n",
       " 'Faculty Student Ratio',\n",
       " 'International Students Ratio',\n",
       " 'International Faculty Ratio',\n",
       " 'International Research Network\\nUnweighted',\n",
       " 'Employment Outcomes\\nUnweighted']"
      ]
     },
     "execution_count": 35,
     "metadata": {},
     "output_type": "execute_result"
    }
   ],
   "source": [
    "#PARSING DATA\n",
    "column=[]\n",
    "for data in line3:\n",
    "    #get the text data\n",
    "    temp=data.text\n",
    "    column.append(temp)\n",
    "column"
   ]
  },
  {
   "cell_type": "code",
   "execution_count": 36,
   "id": "dda6cb89",
   "metadata": {},
   "outputs": [
    {
     "data": {
      "text/plain": [
       "[<selenium.webdriver.remote.webelement.WebElement (session=\"3d417377f19796bb799370bb31faae7f\", element=\"940e4728-5fac-4a7e-a613-d6692c83f098\")>,\n",
       " <selenium.webdriver.remote.webelement.WebElement (session=\"3d417377f19796bb799370bb31faae7f\", element=\"0ac74fb3-7e15-4a95-b6f7-c82e180a8aaa\")>,\n",
       " <selenium.webdriver.remote.webelement.WebElement (session=\"3d417377f19796bb799370bb31faae7f\", element=\"baf5f3f2-1dfc-4b44-a122-ca6c5e523ea9\")>,\n",
       " <selenium.webdriver.remote.webelement.WebElement (session=\"3d417377f19796bb799370bb31faae7f\", element=\"516c3014-eee5-4c43-8a0c-4d560b0d2ffd\")>,\n",
       " <selenium.webdriver.remote.webelement.WebElement (session=\"3d417377f19796bb799370bb31faae7f\", element=\"9355e7ec-2e52-4e27-9d1d-b136e41104d0\")>,\n",
       " <selenium.webdriver.remote.webelement.WebElement (session=\"3d417377f19796bb799370bb31faae7f\", element=\"04f86126-9271-42f0-810e-fd245e572ecd\")>,\n",
       " <selenium.webdriver.remote.webelement.WebElement (session=\"3d417377f19796bb799370bb31faae7f\", element=\"1eefbebe-5d95-44e5-90c8-dbbdf0ad8d0e\")>,\n",
       " <selenium.webdriver.remote.webelement.WebElement (session=\"3d417377f19796bb799370bb31faae7f\", element=\"2f54c14f-86e1-443c-b599-2ab44427357f\")>,\n",
       " <selenium.webdriver.remote.webelement.WebElement (session=\"3d417377f19796bb799370bb31faae7f\", element=\"6b1a4fdd-a628-4226-822b-8410a24e2de9\")>,\n",
       " <selenium.webdriver.remote.webelement.WebElement (session=\"3d417377f19796bb799370bb31faae7f\", element=\"2cd3830c-ea90-4181-8ec7-93a63652e9cf\")>,\n",
       " <selenium.webdriver.remote.webelement.WebElement (session=\"3d417377f19796bb799370bb31faae7f\", element=\"b61cf72c-2f8d-4b03-a8ab-a58b4436bb0a\")>,\n",
       " <selenium.webdriver.remote.webelement.WebElement (session=\"3d417377f19796bb799370bb31faae7f\", element=\"405f6d06-09c3-49ee-b5c7-1341eb29c2f8\")>,\n",
       " <selenium.webdriver.remote.webelement.WebElement (session=\"3d417377f19796bb799370bb31faae7f\", element=\"9205e2c5-eaae-4180-9a0e-09e3794883e3\")>,\n",
       " <selenium.webdriver.remote.webelement.WebElement (session=\"3d417377f19796bb799370bb31faae7f\", element=\"19fab0d1-86d3-444b-82e0-5a73e6065c35\")>,\n",
       " <selenium.webdriver.remote.webelement.WebElement (session=\"3d417377f19796bb799370bb31faae7f\", element=\"bc2d5eb4-3b3f-4e79-8288-167ff12ef74d\")>,\n",
       " <selenium.webdriver.remote.webelement.WebElement (session=\"3d417377f19796bb799370bb31faae7f\", element=\"d28e43c6-50f4-4755-adb0-827214bbb963\")>,\n",
       " <selenium.webdriver.remote.webelement.WebElement (session=\"3d417377f19796bb799370bb31faae7f\", element=\"c39bc6f3-2cce-47a7-8198-692627c44303\")>,\n",
       " <selenium.webdriver.remote.webelement.WebElement (session=\"3d417377f19796bb799370bb31faae7f\", element=\"49850230-10f7-402a-a672-22951cb5da6a\")>,\n",
       " <selenium.webdriver.remote.webelement.WebElement (session=\"3d417377f19796bb799370bb31faae7f\", element=\"d2375b7b-844a-4ad6-9283-193dc754a148\")>,\n",
       " <selenium.webdriver.remote.webelement.WebElement (session=\"3d417377f19796bb799370bb31faae7f\", element=\"b4e602d4-dabc-4589-9c5b-5d322079e503\")>,\n",
       " <selenium.webdriver.remote.webelement.WebElement (session=\"3d417377f19796bb799370bb31faae7f\", element=\"d3d6d67a-a6be-428e-b8de-c2d2be223f22\")>,\n",
       " <selenium.webdriver.remote.webelement.WebElement (session=\"3d417377f19796bb799370bb31faae7f\", element=\"514e5247-22f1-4c11-bccd-a78119eb5069\")>,\n",
       " <selenium.webdriver.remote.webelement.WebElement (session=\"3d417377f19796bb799370bb31faae7f\", element=\"f5ab451a-da6b-4910-a871-0508b3dce2b4\")>,\n",
       " <selenium.webdriver.remote.webelement.WebElement (session=\"3d417377f19796bb799370bb31faae7f\", element=\"773fbc5c-7db6-4487-982f-ac24dcccd718\")>,\n",
       " <selenium.webdriver.remote.webelement.WebElement (session=\"3d417377f19796bb799370bb31faae7f\", element=\"ff46dc92-0bea-4e55-9d61-b270c8f8b874\")>,\n",
       " <selenium.webdriver.remote.webelement.WebElement (session=\"3d417377f19796bb799370bb31faae7f\", element=\"2fb4e6f4-833d-4688-b45b-907b758a31ad\")>,\n",
       " <selenium.webdriver.remote.webelement.WebElement (session=\"3d417377f19796bb799370bb31faae7f\", element=\"8031d2fe-aedd-4108-87c7-00d4fd315072\")>,\n",
       " <selenium.webdriver.remote.webelement.WebElement (session=\"3d417377f19796bb799370bb31faae7f\", element=\"a6aeb851-bf78-4b84-b67e-25ff7c6644d8\")>,\n",
       " <selenium.webdriver.remote.webelement.WebElement (session=\"3d417377f19796bb799370bb31faae7f\", element=\"1f9c0b8f-3634-4f68-aefe-ce9f1473e0d3\")>,\n",
       " <selenium.webdriver.remote.webelement.WebElement (session=\"3d417377f19796bb799370bb31faae7f\", element=\"b6b01c3b-c11d-49ff-8ee0-bbc477a8e94c\")>,\n",
       " <selenium.webdriver.remote.webelement.WebElement (session=\"3d417377f19796bb799370bb31faae7f\", element=\"2525cf6a-f1af-44cc-a48b-497717a70fcd\")>,\n",
       " <selenium.webdriver.remote.webelement.WebElement (session=\"3d417377f19796bb799370bb31faae7f\", element=\"ac0dcc38-a0af-41ca-83ad-adf8db9dd727\")>,\n",
       " <selenium.webdriver.remote.webelement.WebElement (session=\"3d417377f19796bb799370bb31faae7f\", element=\"75efabab-a7a0-40d2-ae54-61c035951480\")>,\n",
       " <selenium.webdriver.remote.webelement.WebElement (session=\"3d417377f19796bb799370bb31faae7f\", element=\"275c6489-c4e6-4400-abdf-a383b9329d1c\")>,\n",
       " <selenium.webdriver.remote.webelement.WebElement (session=\"3d417377f19796bb799370bb31faae7f\", element=\"7ff9f410-e96f-488c-b7f1-b03a43a0049f\")>,\n",
       " <selenium.webdriver.remote.webelement.WebElement (session=\"3d417377f19796bb799370bb31faae7f\", element=\"9ac6d8ac-aab8-4b89-882c-c4f2e84b0ce1\")>,\n",
       " <selenium.webdriver.remote.webelement.WebElement (session=\"3d417377f19796bb799370bb31faae7f\", element=\"329318da-b76d-4d6a-ad6d-93f436ed6be2\")>,\n",
       " <selenium.webdriver.remote.webelement.WebElement (session=\"3d417377f19796bb799370bb31faae7f\", element=\"83bce14b-bc9c-4fa8-a1ec-854d127aa045\")>,\n",
       " <selenium.webdriver.remote.webelement.WebElement (session=\"3d417377f19796bb799370bb31faae7f\", element=\"a81a0e99-6ffc-45d2-b59b-78dee1d5c71b\")>,\n",
       " <selenium.webdriver.remote.webelement.WebElement (session=\"3d417377f19796bb799370bb31faae7f\", element=\"73fcf5fc-a793-407e-b5cf-15b7b8ab0cef\")>,\n",
       " <selenium.webdriver.remote.webelement.WebElement (session=\"3d417377f19796bb799370bb31faae7f\", element=\"1f1c7164-6853-4020-973b-0bfcf5e3326a\")>,\n",
       " <selenium.webdriver.remote.webelement.WebElement (session=\"3d417377f19796bb799370bb31faae7f\", element=\"7ed9491a-c26e-444e-912f-fcf4aea4aa87\")>,\n",
       " <selenium.webdriver.remote.webelement.WebElement (session=\"3d417377f19796bb799370bb31faae7f\", element=\"ae5e666b-e085-405d-8696-77f7a41ea472\")>,\n",
       " <selenium.webdriver.remote.webelement.WebElement (session=\"3d417377f19796bb799370bb31faae7f\", element=\"21dd35f3-d9ad-436b-91c3-0e1f7bd08857\")>,\n",
       " <selenium.webdriver.remote.webelement.WebElement (session=\"3d417377f19796bb799370bb31faae7f\", element=\"d6b83023-c7d2-436c-94d0-80997d3185e6\")>,\n",
       " <selenium.webdriver.remote.webelement.WebElement (session=\"3d417377f19796bb799370bb31faae7f\", element=\"ccc5d965-a00e-4f4b-9aa6-5afa15f8a767\")>,\n",
       " <selenium.webdriver.remote.webelement.WebElement (session=\"3d417377f19796bb799370bb31faae7f\", element=\"e068e1a7-9e26-4d5a-baf5-661aae3f3e8e\")>,\n",
       " <selenium.webdriver.remote.webelement.WebElement (session=\"3d417377f19796bb799370bb31faae7f\", element=\"43219da7-fbf6-4e8c-9e1a-041dab18a143\")>,\n",
       " <selenium.webdriver.remote.webelement.WebElement (session=\"3d417377f19796bb799370bb31faae7f\", element=\"89eb2025-02e0-4b2c-a715-ff7742f8bd7b\")>,\n",
       " <selenium.webdriver.remote.webelement.WebElement (session=\"3d417377f19796bb799370bb31faae7f\", element=\"5c2fff29-38e5-4d02-b306-08a9217ff29a\")>,\n",
       " <selenium.webdriver.remote.webelement.WebElement (session=\"3d417377f19796bb799370bb31faae7f\", element=\"d9202287-b910-4615-b1f5-d6ef437abaac\")>,\n",
       " <selenium.webdriver.remote.webelement.WebElement (session=\"3d417377f19796bb799370bb31faae7f\", element=\"14df6c6d-bcce-47c3-b540-12d11a0d695e\")>,\n",
       " <selenium.webdriver.remote.webelement.WebElement (session=\"3d417377f19796bb799370bb31faae7f\", element=\"ffc9e6ef-3da1-4403-bb7f-3473c885286e\")>,\n",
       " <selenium.webdriver.remote.webelement.WebElement (session=\"3d417377f19796bb799370bb31faae7f\", element=\"16137616-8449-4b03-bb90-97a723d9bf97\")>,\n",
       " <selenium.webdriver.remote.webelement.WebElement (session=\"3d417377f19796bb799370bb31faae7f\", element=\"ebf07582-35f2-47c0-b7fc-548e9f4a1d3e\")>,\n",
       " <selenium.webdriver.remote.webelement.WebElement (session=\"3d417377f19796bb799370bb31faae7f\", element=\"3d540fd8-b235-47a0-9b57-0c89aaf49f63\")>,\n",
       " <selenium.webdriver.remote.webelement.WebElement (session=\"3d417377f19796bb799370bb31faae7f\", element=\"d1e8e9bb-1ae5-4914-9027-072160ece162\")>,\n",
       " <selenium.webdriver.remote.webelement.WebElement (session=\"3d417377f19796bb799370bb31faae7f\", element=\"9964a967-b925-4657-ba5b-8d7808cc8071\")>,\n",
       " <selenium.webdriver.remote.webelement.WebElement (session=\"3d417377f19796bb799370bb31faae7f\", element=\"ca9af534-0673-48f4-a446-8c8b1d0fa534\")>,\n",
       " <selenium.webdriver.remote.webelement.WebElement (session=\"3d417377f19796bb799370bb31faae7f\", element=\"0f99862b-920e-461d-a2fd-c7522e809e34\")>,\n",
       " <selenium.webdriver.remote.webelement.WebElement (session=\"3d417377f19796bb799370bb31faae7f\", element=\"6d40a9fc-5cc9-40b1-a47f-a948181e137c\")>,\n",
       " <selenium.webdriver.remote.webelement.WebElement (session=\"3d417377f19796bb799370bb31faae7f\", element=\"cd8c07e6-325d-437a-8d19-4574b4b97c09\")>,\n",
       " <selenium.webdriver.remote.webelement.WebElement (session=\"3d417377f19796bb799370bb31faae7f\", element=\"02bd9777-2fc8-4506-a996-2d5d1691f6e4\")>,\n",
       " <selenium.webdriver.remote.webelement.WebElement (session=\"3d417377f19796bb799370bb31faae7f\", element=\"0b1f5821-1480-4a0a-b452-9cda3b672684\")>,\n",
       " <selenium.webdriver.remote.webelement.WebElement (session=\"3d417377f19796bb799370bb31faae7f\", element=\"cd0ae65b-0b46-4755-a7a2-ee9ccea30d12\")>,\n",
       " <selenium.webdriver.remote.webelement.WebElement (session=\"3d417377f19796bb799370bb31faae7f\", element=\"e87b4e6a-7673-4ae6-b4b8-ad4eaf0f5224\")>,\n",
       " <selenium.webdriver.remote.webelement.WebElement (session=\"3d417377f19796bb799370bb31faae7f\", element=\"bce56565-0f9d-4321-a2a6-1f5c5485dda4\")>,\n",
       " <selenium.webdriver.remote.webelement.WebElement (session=\"3d417377f19796bb799370bb31faae7f\", element=\"58a63525-a71b-4afb-ad59-b14ae81a93ba\")>,\n",
       " <selenium.webdriver.remote.webelement.WebElement (session=\"3d417377f19796bb799370bb31faae7f\", element=\"80ea30a1-f581-45af-8f12-2473e6a34ab6\")>,\n",
       " <selenium.webdriver.remote.webelement.WebElement (session=\"3d417377f19796bb799370bb31faae7f\", element=\"e76cec80-27d8-4d34-99a2-a092866a5348\")>,\n",
       " <selenium.webdriver.remote.webelement.WebElement (session=\"3d417377f19796bb799370bb31faae7f\", element=\"0d04fcbf-47d3-4c08-8a21-87c11aee8bc3\")>,\n",
       " <selenium.webdriver.remote.webelement.WebElement (session=\"3d417377f19796bb799370bb31faae7f\", element=\"a8516a36-f86c-45a6-a1a0-fb210bf52f49\")>,\n",
       " <selenium.webdriver.remote.webelement.WebElement (session=\"3d417377f19796bb799370bb31faae7f\", element=\"b623aafc-b441-4e6e-a518-79c612199b8c\")>,\n",
       " <selenium.webdriver.remote.webelement.WebElement (session=\"3d417377f19796bb799370bb31faae7f\", element=\"dc688ae0-8a2e-45e0-9415-75326859dfcb\")>,\n",
       " <selenium.webdriver.remote.webelement.WebElement (session=\"3d417377f19796bb799370bb31faae7f\", element=\"fed099bf-7c34-4dce-b3c1-f60db4014174\")>,\n",
       " <selenium.webdriver.remote.webelement.WebElement (session=\"3d417377f19796bb799370bb31faae7f\", element=\"77b0c198-ba80-4b8a-b6ab-7b6ef84f8af4\")>,\n",
       " <selenium.webdriver.remote.webelement.WebElement (session=\"3d417377f19796bb799370bb31faae7f\", element=\"ecfaace0-aa81-4df8-87f4-b2a2a5396e7b\")>,\n",
       " <selenium.webdriver.remote.webelement.WebElement (session=\"3d417377f19796bb799370bb31faae7f\", element=\"f8da4bf6-4a8c-4538-adc9-83caaf9cb430\")>,\n",
       " <selenium.webdriver.remote.webelement.WebElement (session=\"3d417377f19796bb799370bb31faae7f\", element=\"2bb13bc5-7b23-4ef5-9cc0-f7f2926597a3\")>,\n",
       " <selenium.webdriver.remote.webelement.WebElement (session=\"3d417377f19796bb799370bb31faae7f\", element=\"00765171-521b-4a11-84ab-f99925afe4d4\")>,\n",
       " <selenium.webdriver.remote.webelement.WebElement (session=\"3d417377f19796bb799370bb31faae7f\", element=\"f7e1da3a-4851-4382-86b5-cb8cb24babae\")>,\n",
       " <selenium.webdriver.remote.webelement.WebElement (session=\"3d417377f19796bb799370bb31faae7f\", element=\"78137347-aa09-4e59-b0eb-f61fdd9fb2e3\")>,\n",
       " <selenium.webdriver.remote.webelement.WebElement (session=\"3d417377f19796bb799370bb31faae7f\", element=\"b2aab286-06c8-4547-a6b5-ccfe20ccfea6\")>,\n",
       " <selenium.webdriver.remote.webelement.WebElement (session=\"3d417377f19796bb799370bb31faae7f\", element=\"9dfc0acb-d0e9-45ae-83d3-d6854dbd25f6\")>,\n",
       " <selenium.webdriver.remote.webelement.WebElement (session=\"3d417377f19796bb799370bb31faae7f\", element=\"4962fa66-4326-4896-aac6-155d40009008\")>,\n",
       " <selenium.webdriver.remote.webelement.WebElement (session=\"3d417377f19796bb799370bb31faae7f\", element=\"dbb16afc-ca17-471b-b736-61ac9a76575a\")>,\n",
       " <selenium.webdriver.remote.webelement.WebElement (session=\"3d417377f19796bb799370bb31faae7f\", element=\"2c81a0c4-5fb7-4f45-aa55-bcde37894bee\")>,\n",
       " <selenium.webdriver.remote.webelement.WebElement (session=\"3d417377f19796bb799370bb31faae7f\", element=\"c9ff8dd3-5669-410a-9166-6a98c8331dbe\")>,\n",
       " <selenium.webdriver.remote.webelement.WebElement (session=\"3d417377f19796bb799370bb31faae7f\", element=\"f0972444-3b6b-4939-8dec-438040b17d74\")>,\n",
       " <selenium.webdriver.remote.webelement.WebElement (session=\"3d417377f19796bb799370bb31faae7f\", element=\"673f3abc-68a4-4606-9e86-f5b442321add\")>,\n",
       " <selenium.webdriver.remote.webelement.WebElement (session=\"3d417377f19796bb799370bb31faae7f\", element=\"66529bb5-0c43-4de9-85a3-548f51a90c79\")>,\n",
       " <selenium.webdriver.remote.webelement.WebElement (session=\"3d417377f19796bb799370bb31faae7f\", element=\"078089dd-44c9-4738-8643-b0ecd81d9c6a\")>,\n",
       " <selenium.webdriver.remote.webelement.WebElement (session=\"3d417377f19796bb799370bb31faae7f\", element=\"2af58547-255d-435f-85bb-1056e79679ad\")>,\n",
       " <selenium.webdriver.remote.webelement.WebElement (session=\"3d417377f19796bb799370bb31faae7f\", element=\"e415cdce-971f-42ac-ba4e-6e4ac5cc011f\")>,\n",
       " <selenium.webdriver.remote.webelement.WebElement (session=\"3d417377f19796bb799370bb31faae7f\", element=\"7e53dd2e-62c6-418c-a3b2-bac8d824b72c\")>,\n",
       " <selenium.webdriver.remote.webelement.WebElement (session=\"3d417377f19796bb799370bb31faae7f\", element=\"b6d6430f-74d2-41aa-b1d5-c6b3afb66a59\")>,\n",
       " <selenium.webdriver.remote.webelement.WebElement (session=\"3d417377f19796bb799370bb31faae7f\", element=\"df2a3c04-fb7a-4962-a3e6-62c3110a16ca\")>,\n",
       " <selenium.webdriver.remote.webelement.WebElement (session=\"3d417377f19796bb799370bb31faae7f\", element=\"65a805fa-8392-4cc9-ad65-35276c03dc18\")>,\n",
       " <selenium.webdriver.remote.webelement.WebElement (session=\"3d417377f19796bb799370bb31faae7f\", element=\"a6e3c418-20e1-4792-a8a7-f3c088c55a73\")>,\n",
       " <selenium.webdriver.remote.webelement.WebElement (session=\"3d417377f19796bb799370bb31faae7f\", element=\"3dc267b9-a824-4653-951e-70ad2379c53c\")>]"
      ]
     },
     "execution_count": 36,
     "metadata": {},
     "output_type": "execute_result"
    }
   ],
   "source": [
    "line4=browser.find_elements(\"xpath\",\"//div[@class='td-wrap-in']\")\n",
    "line4"
   ]
  },
  {
   "cell_type": "code",
   "execution_count": 41,
   "id": "60ccfe00",
   "metadata": {},
   "outputs": [
    {
     "data": {
      "text/plain": [
       "['97.6', '100', '100', '100', '99.4', '66.9', '76.9', '100', '100']"
      ]
     },
     "execution_count": 41,
     "metadata": {},
     "output_type": "execute_result"
    }
   ],
   "source": [
    "#PARSING DATA\n",
    "value=[]\n",
    "for data in line4:\n",
    "    #get the text data\n",
    "    temp=data.text\n",
    "    value.append(temp)\n",
    "value_h=value[41:50]\n",
    "value_h"
   ]
  },
  {
   "cell_type": "code",
   "execution_count": 42,
   "id": "4812db22",
   "metadata": {},
   "outputs": [
    {
     "data": {
      "text/plain": [
       "{'Name': 'Harvard University',\n",
       " 'Location': 'Cambridge, United States',\n",
       " 'Rank': '5',\n",
       " 'Overall Score': '97.6',\n",
       " 'Academic Reputation': '100',\n",
       " 'Employer Reputation': '100',\n",
       " 'Citations per Faculty': '100',\n",
       " 'Faculty Student Ratio': '99.4',\n",
       " 'International Students Ratio': '66.9',\n",
       " 'International Faculty Ratio': '76.9',\n",
       " 'International Research Network\\nUnweighted': '100',\n",
       " 'Employment Outcomes\\nUnweighted': '100'}"
      ]
     },
     "execution_count": 42,
     "metadata": {},
     "output_type": "execute_result"
    }
   ],
   "source": [
    "d={}\n",
    "d['Name']=value[40]\n",
    "d['Location']=address[4]\n",
    "d['Rank']=Rank[4]\n",
    "for i in range(len(column)):\n",
    "    d[column[i]]=value_h[i]\n",
    "d"
   ]
  },
  {
   "cell_type": "code",
   "execution_count": 43,
   "id": "5a305873",
   "metadata": {},
   "outputs": [
    {
     "data": {
      "text/plain": [
       "'{\"Name\": \"Harvard University\", \"Location\": \"Cambridge, United States\", \"Rank\": \"5\", \"Overall Score\": \"97.6\", \"Academic Reputation\": \"100\", \"Employer Reputation\": \"100\", \"Citations per Faculty\": \"100\", \"Faculty Student Ratio\": \"99.4\", \"International Students Ratio\": \"66.9\", \"International Faculty Ratio\": \"76.9\", \"International Research Network\\\\nUnweighted\": \"100\", \"Employment Outcomes\\\\nUnweighted\": \"100\"}'"
      ]
     },
     "execution_count": 43,
     "metadata": {},
     "output_type": "execute_result"
    }
   ],
   "source": [
    "s1=json.dumps(d)\n",
    "s1"
   ]
  },
  {
   "cell_type": "code",
   "execution_count": 40,
   "id": "28d836b6",
   "metadata": {},
   "outputs": [],
   "source": [
    "\n",
    "with open('Harvard University.json','w') as f:\n",
    "    json.dump(d,f)"
   ]
  },
  {
   "cell_type": "code",
   "execution_count": null,
   "id": "81c07b8a",
   "metadata": {},
   "outputs": [],
   "source": []
  }
 ],
 "metadata": {
  "kernelspec": {
   "display_name": "Python 3.9.12 ('base')",
   "language": "python",
   "name": "python3"
  },
  "language_info": {
   "codemirror_mode": {
    "name": "ipython",
    "version": 3
   },
   "file_extension": ".py",
   "mimetype": "text/x-python",
   "name": "python",
   "nbconvert_exporter": "python",
   "pygments_lexer": "ipython3",
   "version": "3.9.12"
  },
  "vscode": {
   "interpreter": {
    "hash": "ad2bdc8ecc057115af97d19610ffacc2b4e99fae6737bb82f5d7fb13d2f2c186"
   }
  }
 },
 "nbformat": 4,
 "nbformat_minor": 5
}
