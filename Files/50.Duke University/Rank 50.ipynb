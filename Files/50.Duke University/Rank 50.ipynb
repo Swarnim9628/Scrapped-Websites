{
 "cells": [
  {
   "cell_type": "code",
   "execution_count": 1,
   "id": "e5ae9275",
   "metadata": {},
   "outputs": [],
   "source": [
    "from selenium import webdriver\n",
    "from selenium.webdriver.chrome.service import Service\n",
    "import pandas as pd\n",
    "import json\n"
   ]
  },
  {
   "cell_type": "code",
   "execution_count": 2,
   "id": "5035920e",
   "metadata": {},
   "outputs": [],
   "source": [
    "path = Service('C:\\chromedriver.exe')\n"
   ]
  },
  {
   "cell_type": "code",
   "execution_count": 3,
   "id": "846552a2",
   "metadata": {},
   "outputs": [],
   "source": [
    "\n",
    "# set path for the driver\n",
    "browser = webdriver.Chrome(service = path)"
   ]
  },
  {
   "cell_type": "code",
   "execution_count": 4,
   "id": "7e0fcea6",
   "metadata": {},
   "outputs": [],
   "source": [
    "\n",
    "url = \"https://www.topuniversities.com/university-rankings/world-university-rankings/2023\""
   ]
  },
  {
   "cell_type": "code",
   "execution_count": 5,
   "id": "aac688b1",
   "metadata": {},
   "outputs": [],
   "source": [
    "# open the page url ion chrome\n",
    "browser.get(url)\n"
   ]
  },
  {
   "cell_type": "code",
   "execution_count": 6,
   "id": "d4b07a95",
   "metadata": {},
   "outputs": [
    {
     "data": {
      "text/plain": [
       "[<selenium.webdriver.remote.webelement.WebElement (session=\"7041485a6a1395f8240572af835c28de\", element=\"5bde73ea-cee5-44aa-a802-d2d570026663\")>,\n",
       " <selenium.webdriver.remote.webelement.WebElement (session=\"7041485a6a1395f8240572af835c28de\", element=\"d33bb7b3-5940-4d50-b956-efe8f0574939\")>,\n",
       " <selenium.webdriver.remote.webelement.WebElement (session=\"7041485a6a1395f8240572af835c28de\", element=\"297f456d-6f51-4751-af0b-120d804ba7b0\")>,\n",
       " <selenium.webdriver.remote.webelement.WebElement (session=\"7041485a6a1395f8240572af835c28de\", element=\"16a6f130-bac6-41c0-af99-15a08c9bb30e\")>,\n",
       " <selenium.webdriver.remote.webelement.WebElement (session=\"7041485a6a1395f8240572af835c28de\", element=\"b6bbf596-4528-4340-b288-c4384b006301\")>,\n",
       " <selenium.webdriver.remote.webelement.WebElement (session=\"7041485a6a1395f8240572af835c28de\", element=\"0f310ccf-b205-440f-bebe-d6416ba3e3f2\")>,\n",
       " <selenium.webdriver.remote.webelement.WebElement (session=\"7041485a6a1395f8240572af835c28de\", element=\"dc8dc44c-7af2-4776-90ad-06b3416ec737\")>,\n",
       " <selenium.webdriver.remote.webelement.WebElement (session=\"7041485a6a1395f8240572af835c28de\", element=\"e4f49583-606e-4cbc-9224-e7d72358a138\")>,\n",
       " <selenium.webdriver.remote.webelement.WebElement (session=\"7041485a6a1395f8240572af835c28de\", element=\"b260f727-427e-4f37-8395-881476c1b859\")>,\n",
       " <selenium.webdriver.remote.webelement.WebElement (session=\"7041485a6a1395f8240572af835c28de\", element=\"dab54c78-7b29-4051-94ec-691b3c192424\")>,\n",
       " <selenium.webdriver.remote.webelement.WebElement (session=\"7041485a6a1395f8240572af835c28de\", element=\"6d9a78ac-846a-4e68-be89-dbd513b6b983\")>,\n",
       " <selenium.webdriver.remote.webelement.WebElement (session=\"7041485a6a1395f8240572af835c28de\", element=\"6eceebf7-f336-4148-bb0c-2655104a5347\")>,\n",
       " <selenium.webdriver.remote.webelement.WebElement (session=\"7041485a6a1395f8240572af835c28de\", element=\"df37a3ab-b573-478b-9e89-e56bf6fe9195\")>,\n",
       " <selenium.webdriver.remote.webelement.WebElement (session=\"7041485a6a1395f8240572af835c28de\", element=\"0cdfcf11-e9f8-4da1-bc18-835ea9848d2a\")>,\n",
       " <selenium.webdriver.remote.webelement.WebElement (session=\"7041485a6a1395f8240572af835c28de\", element=\"e67ec60b-3cbe-41e4-99af-dd58a65baffc\")>,\n",
       " <selenium.webdriver.remote.webelement.WebElement (session=\"7041485a6a1395f8240572af835c28de\", element=\"64ceb112-9d4c-4b2f-8176-dd238669d2ee\")>,\n",
       " <selenium.webdriver.remote.webelement.WebElement (session=\"7041485a6a1395f8240572af835c28de\", element=\"a416091f-87c0-4120-a52f-1cdeb08f4781\")>,\n",
       " <selenium.webdriver.remote.webelement.WebElement (session=\"7041485a6a1395f8240572af835c28de\", element=\"df8768cd-c36b-441d-85f6-261d2ec75b5f\")>,\n",
       " <selenium.webdriver.remote.webelement.WebElement (session=\"7041485a6a1395f8240572af835c28de\", element=\"078f5c75-9943-4da4-a345-57d2c72fe5bb\")>,\n",
       " <selenium.webdriver.remote.webelement.WebElement (session=\"7041485a6a1395f8240572af835c28de\", element=\"d0c2cb18-026e-4f32-9fda-ac8b30684477\")>]"
      ]
     },
     "execution_count": 6,
     "metadata": {},
     "output_type": "execute_result"
    }
   ],
   "source": [
    "line1=browser.find_elements(\"xpath\",\"//div[@class='location ']\")\n",
    "line1"
   ]
  },
  {
   "cell_type": "code",
   "execution_count": 7,
   "id": "bc1fe678",
   "metadata": {},
   "outputs": [
    {
     "data": {
      "text/plain": [
       "['Sydney, Australia',\n",
       " 'Daejeon, South Korea',\n",
       " 'Hangzhou, China (Mainland)',\n",
       " 'Los Angeles, United States',\n",
       " 'Sydney, Australia',\n",
       " 'Shanghai, China (Mainland)',\n",
       " 'Vancouver, Canada',\n",
       " 'Palaiseau Cedex, France',\n",
       " 'Munich, Germany',\n",
       " 'Durham, United States']"
      ]
     },
     "execution_count": 7,
     "metadata": {},
     "output_type": "execute_result"
    }
   ],
   "source": [
    "address=[]\n",
    "for data in line1:\n",
    "    #get the text data\n",
    "    temp=data.text\n",
    "    address.append(temp)\n",
    "address=address[10:]\n",
    "address"
   ]
  },
  {
   "cell_type": "code",
   "execution_count": 8,
   "id": "262440bf",
   "metadata": {},
   "outputs": [
    {
     "data": {
      "text/plain": [
       "[<selenium.webdriver.remote.webelement.WebElement (session=\"7041485a6a1395f8240572af835c28de\", element=\"6704788e-1f5f-4151-ab38-68c3361fe83c\")>,\n",
       " <selenium.webdriver.remote.webelement.WebElement (session=\"7041485a6a1395f8240572af835c28de\", element=\"755064e2-136b-4af5-a635-8c3915b1cd96\")>,\n",
       " <selenium.webdriver.remote.webelement.WebElement (session=\"7041485a6a1395f8240572af835c28de\", element=\"1a17b691-fa68-425b-82bf-8dbfffcee12b\")>,\n",
       " <selenium.webdriver.remote.webelement.WebElement (session=\"7041485a6a1395f8240572af835c28de\", element=\"92a2385d-2e24-42d5-9d3c-601e7d8ce8df\")>,\n",
       " <selenium.webdriver.remote.webelement.WebElement (session=\"7041485a6a1395f8240572af835c28de\", element=\"c6e78ec2-8d81-47f5-8650-a054fd8f34b8\")>,\n",
       " <selenium.webdriver.remote.webelement.WebElement (session=\"7041485a6a1395f8240572af835c28de\", element=\"79d83b60-31f1-45c0-bf26-3afe19d23720\")>,\n",
       " <selenium.webdriver.remote.webelement.WebElement (session=\"7041485a6a1395f8240572af835c28de\", element=\"dcd5bded-4154-464a-b8b7-97eeb9dcbadb\")>,\n",
       " <selenium.webdriver.remote.webelement.WebElement (session=\"7041485a6a1395f8240572af835c28de\", element=\"eba2105a-4166-459d-8811-43d5f63be7fb\")>,\n",
       " <selenium.webdriver.remote.webelement.WebElement (session=\"7041485a6a1395f8240572af835c28de\", element=\"062353f3-cf0a-45a1-95a0-0ab0e7c6c1fa\")>,\n",
       " <selenium.webdriver.remote.webelement.WebElement (session=\"7041485a6a1395f8240572af835c28de\", element=\"af962254-9130-4827-b7cf-7e14f2402e8a\")>]"
      ]
     },
     "execution_count": 8,
     "metadata": {},
     "output_type": "execute_result"
    }
   ],
   "source": [
    "line2=browser.find_elements(\"xpath\",\"//div[@class='_univ-rank ']\")\n",
    "line2"
   ]
  },
  {
   "cell_type": "code",
   "execution_count": 9,
   "id": "065269f6",
   "metadata": {},
   "outputs": [
    {
     "data": {
      "text/plain": [
       "['41', '=42', '=42', '44', '45', '46', '47', '48', '49', '=50']"
      ]
     },
     "execution_count": 9,
     "metadata": {},
     "output_type": "execute_result"
    }
   ],
   "source": [
    "Rank=[]\n",
    "for data in line2:\n",
    "    #get the text data\n",
    "    temp=data.text\n",
    "    Rank.append(temp)\n",
    "Rank"
   ]
  },
  {
   "cell_type": "code",
   "execution_count": 10,
   "id": "191b0f39",
   "metadata": {},
   "outputs": [
    {
     "data": {
      "text/plain": [
       "[<selenium.webdriver.remote.webelement.WebElement (session=\"7041485a6a1395f8240572af835c28de\", element=\"dcfcc934-6ecc-45d9-b085-783df6d15d60\")>,\n",
       " <selenium.webdriver.remote.webelement.WebElement (session=\"7041485a6a1395f8240572af835c28de\", element=\"84e4aecd-5ecd-4759-9bfe-b52a7466760c\")>,\n",
       " <selenium.webdriver.remote.webelement.WebElement (session=\"7041485a6a1395f8240572af835c28de\", element=\"364bf46e-40d9-4adc-987c-1bf9bdddabc5\")>,\n",
       " <selenium.webdriver.remote.webelement.WebElement (session=\"7041485a6a1395f8240572af835c28de\", element=\"597350c0-8bc2-4cb4-83a2-f85defd020c1\")>,\n",
       " <selenium.webdriver.remote.webelement.WebElement (session=\"7041485a6a1395f8240572af835c28de\", element=\"943b59a0-75cc-4698-912e-54c145ffa117\")>,\n",
       " <selenium.webdriver.remote.webelement.WebElement (session=\"7041485a6a1395f8240572af835c28de\", element=\"6f53cec0-57c6-4c0a-aac7-ea463164c29e\")>,\n",
       " <selenium.webdriver.remote.webelement.WebElement (session=\"7041485a6a1395f8240572af835c28de\", element=\"f0437fb1-8019-46e5-9d95-e776c5c47fb7\")>,\n",
       " <selenium.webdriver.remote.webelement.WebElement (session=\"7041485a6a1395f8240572af835c28de\", element=\"dc218463-96e4-4b7a-8cb7-d22d5f5ceb00\")>,\n",
       " <selenium.webdriver.remote.webelement.WebElement (session=\"7041485a6a1395f8240572af835c28de\", element=\"7ae2be83-7bd0-493e-b976-5c15ad001634\")>]"
      ]
     },
     "execution_count": 10,
     "metadata": {},
     "output_type": "execute_result"
    }
   ],
   "source": [
    "# GET EACH COLLEGE SPECIFICATION HEADERS\n",
    "line3=browser.find_elements(\"xpath\",\"//div[@class='_click-function_ind']\")\n",
    "line3"
   ]
  },
  {
   "cell_type": "code",
   "execution_count": 11,
   "id": "a7d3f699",
   "metadata": {},
   "outputs": [
    {
     "data": {
      "text/plain": [
       "['Overall Score',\n",
       " 'Academic Reputation',\n",
       " 'Employer Reputation',\n",
       " 'Citations per Faculty',\n",
       " 'Faculty Student Ratio',\n",
       " 'International Students Ratio',\n",
       " 'International Faculty Ratio',\n",
       " 'International Research Network\\nUnweighted',\n",
       " 'Employment Outcomes\\nUnweighted']"
      ]
     },
     "execution_count": 11,
     "metadata": {},
     "output_type": "execute_result"
    }
   ],
   "source": [
    "#PARSING DATA\n",
    "column=[]\n",
    "for data in line3:\n",
    "    #get the text data\n",
    "    temp=data.text\n",
    "    column.append(temp)\n",
    "column"
   ]
  },
  {
   "cell_type": "code",
   "execution_count": 12,
   "id": "52d08b9c",
   "metadata": {},
   "outputs": [
    {
     "data": {
      "text/plain": [
       "[<selenium.webdriver.remote.webelement.WebElement (session=\"7041485a6a1395f8240572af835c28de\", element=\"883679d1-302e-4b17-ba0e-698af7b6d8b2\")>,\n",
       " <selenium.webdriver.remote.webelement.WebElement (session=\"7041485a6a1395f8240572af835c28de\", element=\"137b5dbf-34b1-4dd7-8b8e-595d53da90aa\")>,\n",
       " <selenium.webdriver.remote.webelement.WebElement (session=\"7041485a6a1395f8240572af835c28de\", element=\"def33ed4-dfec-491a-9669-794b054479c1\")>,\n",
       " <selenium.webdriver.remote.webelement.WebElement (session=\"7041485a6a1395f8240572af835c28de\", element=\"3ac56565-3aef-4946-b273-982459680fd3\")>,\n",
       " <selenium.webdriver.remote.webelement.WebElement (session=\"7041485a6a1395f8240572af835c28de\", element=\"323342e0-6ce0-49ba-8bc7-716b06a40464\")>,\n",
       " <selenium.webdriver.remote.webelement.WebElement (session=\"7041485a6a1395f8240572af835c28de\", element=\"089ec202-040a-48ab-b1f2-545e3c65896f\")>,\n",
       " <selenium.webdriver.remote.webelement.WebElement (session=\"7041485a6a1395f8240572af835c28de\", element=\"aaf05f73-be54-4ef5-8fed-df6d4709d203\")>,\n",
       " <selenium.webdriver.remote.webelement.WebElement (session=\"7041485a6a1395f8240572af835c28de\", element=\"86587d98-ee67-4f60-aeb9-dfcca73320b4\")>,\n",
       " <selenium.webdriver.remote.webelement.WebElement (session=\"7041485a6a1395f8240572af835c28de\", element=\"eabda3b4-5470-484c-ac9a-49bd9f3c1a15\")>,\n",
       " <selenium.webdriver.remote.webelement.WebElement (session=\"7041485a6a1395f8240572af835c28de\", element=\"2dc0bd98-201c-40ae-80a5-af9327555282\")>,\n",
       " <selenium.webdriver.remote.webelement.WebElement (session=\"7041485a6a1395f8240572af835c28de\", element=\"b131baf2-7af5-443a-a2e1-4bb4f5d51e15\")>,\n",
       " <selenium.webdriver.remote.webelement.WebElement (session=\"7041485a6a1395f8240572af835c28de\", element=\"e20f0332-1b0a-44d8-8ae4-d4dbdb31870e\")>,\n",
       " <selenium.webdriver.remote.webelement.WebElement (session=\"7041485a6a1395f8240572af835c28de\", element=\"44dc867b-a8e0-451d-b4d3-ae924a1a95dc\")>,\n",
       " <selenium.webdriver.remote.webelement.WebElement (session=\"7041485a6a1395f8240572af835c28de\", element=\"d5507cec-55d7-4b87-aec5-0e207fc7dd3d\")>,\n",
       " <selenium.webdriver.remote.webelement.WebElement (session=\"7041485a6a1395f8240572af835c28de\", element=\"f288c6d9-b1d7-41d9-a9f9-b4dfc4268de0\")>,\n",
       " <selenium.webdriver.remote.webelement.WebElement (session=\"7041485a6a1395f8240572af835c28de\", element=\"21329eb5-6e43-4546-96db-540619dcf3fe\")>,\n",
       " <selenium.webdriver.remote.webelement.WebElement (session=\"7041485a6a1395f8240572af835c28de\", element=\"71e4a6d9-7625-467b-b430-d4cad7d0d2ad\")>,\n",
       " <selenium.webdriver.remote.webelement.WebElement (session=\"7041485a6a1395f8240572af835c28de\", element=\"093225c5-bd80-48a6-8b18-4d560b756038\")>,\n",
       " <selenium.webdriver.remote.webelement.WebElement (session=\"7041485a6a1395f8240572af835c28de\", element=\"217f2167-ec2a-4af9-9365-4fadf6209180\")>,\n",
       " <selenium.webdriver.remote.webelement.WebElement (session=\"7041485a6a1395f8240572af835c28de\", element=\"963df80b-00ac-4fef-b1c3-f43aaddd8e6d\")>,\n",
       " <selenium.webdriver.remote.webelement.WebElement (session=\"7041485a6a1395f8240572af835c28de\", element=\"8c4bf25c-faa5-4890-b572-894e6fba3a34\")>,\n",
       " <selenium.webdriver.remote.webelement.WebElement (session=\"7041485a6a1395f8240572af835c28de\", element=\"b513686f-0263-43f9-8ad0-ebe666e003f1\")>,\n",
       " <selenium.webdriver.remote.webelement.WebElement (session=\"7041485a6a1395f8240572af835c28de\", element=\"8214a5d0-abec-407d-8f87-f51ff91650c9\")>,\n",
       " <selenium.webdriver.remote.webelement.WebElement (session=\"7041485a6a1395f8240572af835c28de\", element=\"5c19424d-2059-485c-9f69-9dff566c07b5\")>,\n",
       " <selenium.webdriver.remote.webelement.WebElement (session=\"7041485a6a1395f8240572af835c28de\", element=\"48ec75df-1eb9-450c-b544-56d7fc266d4e\")>,\n",
       " <selenium.webdriver.remote.webelement.WebElement (session=\"7041485a6a1395f8240572af835c28de\", element=\"5549707c-ff1e-4271-b5c0-1385599a86c6\")>,\n",
       " <selenium.webdriver.remote.webelement.WebElement (session=\"7041485a6a1395f8240572af835c28de\", element=\"e2ff347d-dc7a-49d7-b2cd-a2132497a295\")>,\n",
       " <selenium.webdriver.remote.webelement.WebElement (session=\"7041485a6a1395f8240572af835c28de\", element=\"ced95d4e-3983-48e4-b5c1-37e81bbcfbb5\")>,\n",
       " <selenium.webdriver.remote.webelement.WebElement (session=\"7041485a6a1395f8240572af835c28de\", element=\"537ed0cc-4cbc-4a36-9d51-50b4fdaa072e\")>,\n",
       " <selenium.webdriver.remote.webelement.WebElement (session=\"7041485a6a1395f8240572af835c28de\", element=\"3f757ca9-8127-4ccb-9237-caa5678e95db\")>,\n",
       " <selenium.webdriver.remote.webelement.WebElement (session=\"7041485a6a1395f8240572af835c28de\", element=\"3d0f732f-58c2-483b-af37-4dcd9508d1a4\")>,\n",
       " <selenium.webdriver.remote.webelement.WebElement (session=\"7041485a6a1395f8240572af835c28de\", element=\"1917745c-bff3-4e4c-a6d5-ef890da009ba\")>,\n",
       " <selenium.webdriver.remote.webelement.WebElement (session=\"7041485a6a1395f8240572af835c28de\", element=\"cbb6371f-3547-449e-91b6-9fc61e91cc0a\")>,\n",
       " <selenium.webdriver.remote.webelement.WebElement (session=\"7041485a6a1395f8240572af835c28de\", element=\"2e4c4206-86b0-424a-9b37-53db9f9892ba\")>,\n",
       " <selenium.webdriver.remote.webelement.WebElement (session=\"7041485a6a1395f8240572af835c28de\", element=\"ff3e8455-e737-40c0-b44b-02d4bae22536\")>,\n",
       " <selenium.webdriver.remote.webelement.WebElement (session=\"7041485a6a1395f8240572af835c28de\", element=\"25f29004-fdcd-413e-a19e-59567d637da5\")>,\n",
       " <selenium.webdriver.remote.webelement.WebElement (session=\"7041485a6a1395f8240572af835c28de\", element=\"4ab0503c-4009-41e8-a69c-0e6cd678e630\")>,\n",
       " <selenium.webdriver.remote.webelement.WebElement (session=\"7041485a6a1395f8240572af835c28de\", element=\"ebb26355-e17e-4bde-b75c-ced602e01885\")>,\n",
       " <selenium.webdriver.remote.webelement.WebElement (session=\"7041485a6a1395f8240572af835c28de\", element=\"08b5f867-4cd4-4d00-a699-c634f0936c3c\")>,\n",
       " <selenium.webdriver.remote.webelement.WebElement (session=\"7041485a6a1395f8240572af835c28de\", element=\"51509bc3-3d4c-44cc-b6a0-5b7355c81d19\")>,\n",
       " <selenium.webdriver.remote.webelement.WebElement (session=\"7041485a6a1395f8240572af835c28de\", element=\"fc5483e9-c7f3-466e-a925-cf8fcba61b1e\")>,\n",
       " <selenium.webdriver.remote.webelement.WebElement (session=\"7041485a6a1395f8240572af835c28de\", element=\"65163275-78f8-4b43-8367-ebf34502ecde\")>,\n",
       " <selenium.webdriver.remote.webelement.WebElement (session=\"7041485a6a1395f8240572af835c28de\", element=\"bdbcd7ca-003d-4c03-987d-f68956d0cb7b\")>,\n",
       " <selenium.webdriver.remote.webelement.WebElement (session=\"7041485a6a1395f8240572af835c28de\", element=\"c70826ee-fcf0-410b-bbac-0c26ebf1828a\")>,\n",
       " <selenium.webdriver.remote.webelement.WebElement (session=\"7041485a6a1395f8240572af835c28de\", element=\"6be6ccb7-94ea-4927-b624-b79c18cf781c\")>,\n",
       " <selenium.webdriver.remote.webelement.WebElement (session=\"7041485a6a1395f8240572af835c28de\", element=\"a1e6aa87-9403-425f-9177-a84eb08e6c33\")>,\n",
       " <selenium.webdriver.remote.webelement.WebElement (session=\"7041485a6a1395f8240572af835c28de\", element=\"32a56092-d13c-4740-95db-68681a994cd0\")>,\n",
       " <selenium.webdriver.remote.webelement.WebElement (session=\"7041485a6a1395f8240572af835c28de\", element=\"e9f55b22-f3fc-480c-a67d-fb566d7f5d01\")>,\n",
       " <selenium.webdriver.remote.webelement.WebElement (session=\"7041485a6a1395f8240572af835c28de\", element=\"0e6e0951-5472-4dc3-b22c-c5dd73284ffc\")>,\n",
       " <selenium.webdriver.remote.webelement.WebElement (session=\"7041485a6a1395f8240572af835c28de\", element=\"333541cd-8d05-481b-acd8-4a1c3b5ea117\")>,\n",
       " <selenium.webdriver.remote.webelement.WebElement (session=\"7041485a6a1395f8240572af835c28de\", element=\"998112a1-f879-4003-9d96-05f87a6d9ee4\")>,\n",
       " <selenium.webdriver.remote.webelement.WebElement (session=\"7041485a6a1395f8240572af835c28de\", element=\"baa3e4b8-6cd4-4b35-80ef-1a3adefd10d6\")>,\n",
       " <selenium.webdriver.remote.webelement.WebElement (session=\"7041485a6a1395f8240572af835c28de\", element=\"8a5d7e2a-bb15-4b2b-a83e-5674392b20ca\")>,\n",
       " <selenium.webdriver.remote.webelement.WebElement (session=\"7041485a6a1395f8240572af835c28de\", element=\"24299380-875c-4ae5-a395-f4fbe0248d5e\")>,\n",
       " <selenium.webdriver.remote.webelement.WebElement (session=\"7041485a6a1395f8240572af835c28de\", element=\"56e0b612-5838-489b-95eb-bf552657e475\")>,\n",
       " <selenium.webdriver.remote.webelement.WebElement (session=\"7041485a6a1395f8240572af835c28de\", element=\"3149cbee-3cbc-4e3b-b8ea-e83d2bff9843\")>,\n",
       " <selenium.webdriver.remote.webelement.WebElement (session=\"7041485a6a1395f8240572af835c28de\", element=\"472a97aa-a300-40ea-a636-ab87d793cffd\")>,\n",
       " <selenium.webdriver.remote.webelement.WebElement (session=\"7041485a6a1395f8240572af835c28de\", element=\"1bd64689-db18-4037-af7a-94b28672895c\")>,\n",
       " <selenium.webdriver.remote.webelement.WebElement (session=\"7041485a6a1395f8240572af835c28de\", element=\"21834833-eeb1-4d5c-b2a3-315d74f5033d\")>,\n",
       " <selenium.webdriver.remote.webelement.WebElement (session=\"7041485a6a1395f8240572af835c28de\", element=\"fa75bdee-c050-4cf9-95df-15df5e66640f\")>,\n",
       " <selenium.webdriver.remote.webelement.WebElement (session=\"7041485a6a1395f8240572af835c28de\", element=\"94724d3e-797e-40cb-bd3b-713e960ab747\")>,\n",
       " <selenium.webdriver.remote.webelement.WebElement (session=\"7041485a6a1395f8240572af835c28de\", element=\"11ac8452-e524-48ea-9d88-3bd949c50959\")>,\n",
       " <selenium.webdriver.remote.webelement.WebElement (session=\"7041485a6a1395f8240572af835c28de\", element=\"9b076aea-1780-4d09-88a8-fab824072c4a\")>,\n",
       " <selenium.webdriver.remote.webelement.WebElement (session=\"7041485a6a1395f8240572af835c28de\", element=\"c0485e34-2545-4cb7-931a-42aadadd94ff\")>,\n",
       " <selenium.webdriver.remote.webelement.WebElement (session=\"7041485a6a1395f8240572af835c28de\", element=\"2abf34d6-1a2f-4d57-bdc3-d7817d6c0bc2\")>,\n",
       " <selenium.webdriver.remote.webelement.WebElement (session=\"7041485a6a1395f8240572af835c28de\", element=\"3fe42f72-5983-4a81-ba86-04461478c217\")>,\n",
       " <selenium.webdriver.remote.webelement.WebElement (session=\"7041485a6a1395f8240572af835c28de\", element=\"db2c23e9-49fc-49b8-b339-a6cb18822703\")>,\n",
       " <selenium.webdriver.remote.webelement.WebElement (session=\"7041485a6a1395f8240572af835c28de\", element=\"9d34ac9e-670f-4736-b558-c571634ae802\")>,\n",
       " <selenium.webdriver.remote.webelement.WebElement (session=\"7041485a6a1395f8240572af835c28de\", element=\"900f34b8-436a-4549-ae3c-937e18ee1a9c\")>,\n",
       " <selenium.webdriver.remote.webelement.WebElement (session=\"7041485a6a1395f8240572af835c28de\", element=\"bd1739a6-6b53-4ea6-8efc-2f913609d835\")>,\n",
       " <selenium.webdriver.remote.webelement.WebElement (session=\"7041485a6a1395f8240572af835c28de\", element=\"fbcf7d2d-8f0c-4b2c-b437-dcc764817fb4\")>,\n",
       " <selenium.webdriver.remote.webelement.WebElement (session=\"7041485a6a1395f8240572af835c28de\", element=\"dc330fea-41e8-4af4-b19f-dffbefb43dd2\")>,\n",
       " <selenium.webdriver.remote.webelement.WebElement (session=\"7041485a6a1395f8240572af835c28de\", element=\"1009ba88-8219-4671-bc2d-8efe46497d0a\")>,\n",
       " <selenium.webdriver.remote.webelement.WebElement (session=\"7041485a6a1395f8240572af835c28de\", element=\"d8552be5-afe2-4471-a883-ecce20e74382\")>,\n",
       " <selenium.webdriver.remote.webelement.WebElement (session=\"7041485a6a1395f8240572af835c28de\", element=\"a57d91aa-495a-40fb-9b50-df99d8089c76\")>,\n",
       " <selenium.webdriver.remote.webelement.WebElement (session=\"7041485a6a1395f8240572af835c28de\", element=\"c6e8c36f-6d13-4b2b-904e-e6ae31309a0d\")>,\n",
       " <selenium.webdriver.remote.webelement.WebElement (session=\"7041485a6a1395f8240572af835c28de\", element=\"2251ab61-a263-4b53-8670-786919fa6d5f\")>,\n",
       " <selenium.webdriver.remote.webelement.WebElement (session=\"7041485a6a1395f8240572af835c28de\", element=\"f88c8bff-8b72-4103-8883-0771eb62d8be\")>,\n",
       " <selenium.webdriver.remote.webelement.WebElement (session=\"7041485a6a1395f8240572af835c28de\", element=\"11d369ac-7a25-4f80-bff2-ffb6a58b2332\")>,\n",
       " <selenium.webdriver.remote.webelement.WebElement (session=\"7041485a6a1395f8240572af835c28de\", element=\"8e4fbf76-1660-4347-bf81-cca560f937cd\")>,\n",
       " <selenium.webdriver.remote.webelement.WebElement (session=\"7041485a6a1395f8240572af835c28de\", element=\"cf4e019d-dc8a-4a28-8886-134fb5350250\")>,\n",
       " <selenium.webdriver.remote.webelement.WebElement (session=\"7041485a6a1395f8240572af835c28de\", element=\"b4b43cad-f82e-4eea-86bd-24ea71037369\")>,\n",
       " <selenium.webdriver.remote.webelement.WebElement (session=\"7041485a6a1395f8240572af835c28de\", element=\"9b500eb3-0c1c-4c6c-985c-6d232ac34587\")>,\n",
       " <selenium.webdriver.remote.webelement.WebElement (session=\"7041485a6a1395f8240572af835c28de\", element=\"ec8869c0-668e-4336-a112-2fbd14d31a5e\")>,\n",
       " <selenium.webdriver.remote.webelement.WebElement (session=\"7041485a6a1395f8240572af835c28de\", element=\"b9dac11d-9b1d-4377-8716-e653f8a71974\")>,\n",
       " <selenium.webdriver.remote.webelement.WebElement (session=\"7041485a6a1395f8240572af835c28de\", element=\"40fda14f-0d88-470e-a159-536191dba4ed\")>,\n",
       " <selenium.webdriver.remote.webelement.WebElement (session=\"7041485a6a1395f8240572af835c28de\", element=\"9908621a-f233-47df-91ad-fb70098a57aa\")>,\n",
       " <selenium.webdriver.remote.webelement.WebElement (session=\"7041485a6a1395f8240572af835c28de\", element=\"ea6447c9-8c88-45fd-92a2-3f399540ddaa\")>,\n",
       " <selenium.webdriver.remote.webelement.WebElement (session=\"7041485a6a1395f8240572af835c28de\", element=\"f3937832-5c73-470a-bd05-232de088edc1\")>,\n",
       " <selenium.webdriver.remote.webelement.WebElement (session=\"7041485a6a1395f8240572af835c28de\", element=\"bb7f2761-2ec3-4a64-8e01-7437f12247c8\")>,\n",
       " <selenium.webdriver.remote.webelement.WebElement (session=\"7041485a6a1395f8240572af835c28de\", element=\"93f24181-cc00-460e-b061-3efe28c27bff\")>,\n",
       " <selenium.webdriver.remote.webelement.WebElement (session=\"7041485a6a1395f8240572af835c28de\", element=\"2cdf4e67-014c-4278-a372-99104d9c1f0c\")>,\n",
       " <selenium.webdriver.remote.webelement.WebElement (session=\"7041485a6a1395f8240572af835c28de\", element=\"7d2b45eb-83a1-4e21-a917-b1d2e1db78fd\")>,\n",
       " <selenium.webdriver.remote.webelement.WebElement (session=\"7041485a6a1395f8240572af835c28de\", element=\"77e42ded-e06a-41f5-bb58-80eabd4b0574\")>,\n",
       " <selenium.webdriver.remote.webelement.WebElement (session=\"7041485a6a1395f8240572af835c28de\", element=\"471a7916-c7a2-4270-acf9-4e84596453da\")>,\n",
       " <selenium.webdriver.remote.webelement.WebElement (session=\"7041485a6a1395f8240572af835c28de\", element=\"75d04bf5-4972-4b18-8ad0-c2412671baac\")>,\n",
       " <selenium.webdriver.remote.webelement.WebElement (session=\"7041485a6a1395f8240572af835c28de\", element=\"79622f60-aa16-425d-bba2-69e20dcb317e\")>,\n",
       " <selenium.webdriver.remote.webelement.WebElement (session=\"7041485a6a1395f8240572af835c28de\", element=\"135eef6b-cca3-4ce0-b603-ca338a0d73ec\")>,\n",
       " <selenium.webdriver.remote.webelement.WebElement (session=\"7041485a6a1395f8240572af835c28de\", element=\"9e341001-4ac4-4549-8a16-0b5ac1fe5514\")>,\n",
       " <selenium.webdriver.remote.webelement.WebElement (session=\"7041485a6a1395f8240572af835c28de\", element=\"cebe6b74-af15-4af7-9bee-d3f102289192\")>]"
      ]
     },
     "execution_count": 12,
     "metadata": {},
     "output_type": "execute_result"
    }
   ],
   "source": [
    "line4=browser.find_elements(\"xpath\",\"//div[@class='td-wrap-in']\")\n",
    "line4"
   ]
  },
  {
   "cell_type": "code",
   "execution_count": 13,
   "id": "e8f9a37e",
   "metadata": {},
   "outputs": [
    {
     "data": {
      "text/plain": [
       "['74.8', '86.1', '79.8', '41.2', '100', '55.1', '20.2', '95.5', '98.6']"
      ]
     },
     "execution_count": 13,
     "metadata": {},
     "output_type": "execute_result"
    }
   ],
   "source": [
    "#PARSING DATA\n",
    "value=[]\n",
    "for data in line4:\n",
    "    #get the text data\n",
    "    temp=data.text\n",
    "    value.append(temp)\n",
    "value_h=value[91:100]\n",
    "value_h"
   ]
  },
  {
   "cell_type": "code",
   "execution_count": 14,
   "id": "7e23ec58",
   "metadata": {},
   "outputs": [
    {
     "data": {
      "text/plain": [
       "{'Name': 'Duke University',\n",
       " 'Location': 'Durham, United States',\n",
       " 'Rank': '=50',\n",
       " 'Overall Score': '74.8',\n",
       " 'Academic Reputation': '86.1',\n",
       " 'Employer Reputation': '79.8',\n",
       " 'Citations per Faculty': '41.2',\n",
       " 'Faculty Student Ratio': '100',\n",
       " 'International Students Ratio': '55.1',\n",
       " 'International Faculty Ratio': '20.2',\n",
       " 'International Research Network\\nUnweighted': '95.5',\n",
       " 'Employment Outcomes\\nUnweighted': '98.6'}"
      ]
     },
     "execution_count": 14,
     "metadata": {},
     "output_type": "execute_result"
    }
   ],
   "source": [
    "d={}\n",
    "d['Name']=value[90]\n",
    "d['Location']=address[9]\n",
    "d['Rank']=Rank[9]\n",
    "for i in range(len(column)):\n",
    "    d[column[i]]=value_h[i]\n",
    "d"
   ]
  },
  {
   "cell_type": "code",
   "execution_count": 15,
   "id": "0d41032d",
   "metadata": {},
   "outputs": [
    {
     "data": {
      "text/plain": [
       "'{\"Name\": \"Duke University\", \"Location\": \"Durham, United States\", \"Rank\": \"=50\", \"Overall Score\": \"74.8\", \"Academic Reputation\": \"86.1\", \"Employer Reputation\": \"79.8\", \"Citations per Faculty\": \"41.2\", \"Faculty Student Ratio\": \"100\", \"International Students Ratio\": \"55.1\", \"International Faculty Ratio\": \"20.2\", \"International Research Network\\\\nUnweighted\": \"95.5\", \"Employment Outcomes\\\\nUnweighted\": \"98.6\"}'"
      ]
     },
     "execution_count": 15,
     "metadata": {},
     "output_type": "execute_result"
    }
   ],
   "source": [
    "s1=json.dumps(d)\n",
    "s1"
   ]
  },
  {
   "cell_type": "code",
   "execution_count": 16,
   "id": "eb9cb0eb",
   "metadata": {},
   "outputs": [],
   "source": [
    "with open('Duke University.json','w') as f:\n",
    "    json.dump(d,f)\n"
   ]
  },
  {
   "cell_type": "code",
   "execution_count": null,
   "id": "745728e0",
   "metadata": {},
   "outputs": [],
   "source": []
  },
  {
   "cell_type": "code",
   "execution_count": null,
   "id": "d541e782",
   "metadata": {},
   "outputs": [],
   "source": []
  }
 ],
 "metadata": {
  "kernelspec": {
   "display_name": "Python 3.9.12 ('base')",
   "language": "python",
   "name": "python3"
  },
  "language_info": {
   "codemirror_mode": {
    "name": "ipython",
    "version": 3
   },
   "file_extension": ".py",
   "mimetype": "text/x-python",
   "name": "python",
   "nbconvert_exporter": "python",
   "pygments_lexer": "ipython3",
   "version": "3.9.12"
  },
  "vscode": {
   "interpreter": {
    "hash": "ad2bdc8ecc057115af97d19610ffacc2b4e99fae6737bb82f5d7fb13d2f2c186"
   }
  }
 },
 "nbformat": 4,
 "nbformat_minor": 5
}
