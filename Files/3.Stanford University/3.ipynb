{
 "cells": [
  {
   "cell_type": "code",
   "execution_count": 1,
   "id": "a36f39f7",
   "metadata": {},
   "outputs": [],
   "source": [
    "from selenium import webdriver\n",
    "from selenium.webdriver.chrome.service import Service\n",
    "import pandas as pd\n",
    "import json"
   ]
  },
  {
   "cell_type": "code",
   "execution_count": 2,
   "id": "27b8ca55",
   "metadata": {},
   "outputs": [],
   "source": [
    "way = Service('C:\\chromedriver.exe')"
   ]
  },
  {
   "cell_type": "code",
   "execution_count": 3,
   "id": "6198c5c8",
   "metadata": {},
   "outputs": [],
   "source": [
    "# set path for the driver\n",
    "browser = webdriver.Chrome(service = way)"
   ]
  },
  {
   "cell_type": "code",
   "execution_count": 4,
   "id": "7c7116fa",
   "metadata": {},
   "outputs": [],
   "source": [
    "url = \"https://www.topuniversities.com/university-rankings/world-university-rankings/2023\""
   ]
  },
  {
   "cell_type": "code",
   "execution_count": 5,
   "id": "bf3069f9",
   "metadata": {},
   "outputs": [],
   "source": [
    "# open the page url ion chrome\n",
    "browser.get(url)"
   ]
  },
  {
   "cell_type": "code",
   "execution_count": 6,
   "id": "520649a3",
   "metadata": {},
   "outputs": [
    {
     "data": {
      "text/plain": [
       "[<selenium.webdriver.remote.webelement.WebElement (session=\"fb0ea5424191b19326e8cc0c11026e70\", element=\"76c8ff6e-62d2-43e4-8aca-f2c4b6c2b2d6\")>,\n",
       " <selenium.webdriver.remote.webelement.WebElement (session=\"fb0ea5424191b19326e8cc0c11026e70\", element=\"48227106-ad69-4baf-ba10-973072d31d83\")>,\n",
       " <selenium.webdriver.remote.webelement.WebElement (session=\"fb0ea5424191b19326e8cc0c11026e70\", element=\"b68cbcb6-2318-48d1-9776-09103403689c\")>,\n",
       " <selenium.webdriver.remote.webelement.WebElement (session=\"fb0ea5424191b19326e8cc0c11026e70\", element=\"93eb50a5-d865-45d7-bad7-14a54279a819\")>,\n",
       " <selenium.webdriver.remote.webelement.WebElement (session=\"fb0ea5424191b19326e8cc0c11026e70\", element=\"4293be48-2e3c-4c9c-ba9e-b0b056528d4f\")>,\n",
       " <selenium.webdriver.remote.webelement.WebElement (session=\"fb0ea5424191b19326e8cc0c11026e70\", element=\"c200ddd6-ac69-4a4b-9d5e-96594c514f0d\")>,\n",
       " <selenium.webdriver.remote.webelement.WebElement (session=\"fb0ea5424191b19326e8cc0c11026e70\", element=\"c1ffa26c-7707-4383-a523-70c662913dda\")>,\n",
       " <selenium.webdriver.remote.webelement.WebElement (session=\"fb0ea5424191b19326e8cc0c11026e70\", element=\"05150a0b-0e0f-4626-9e91-1ffc657c7171\")>,\n",
       " <selenium.webdriver.remote.webelement.WebElement (session=\"fb0ea5424191b19326e8cc0c11026e70\", element=\"3af7b213-c362-4232-88c5-14ee6091d93c\")>,\n",
       " <selenium.webdriver.remote.webelement.WebElement (session=\"fb0ea5424191b19326e8cc0c11026e70\", element=\"c40e6677-9d79-4f74-986e-dd835e52661d\")>,\n",
       " <selenium.webdriver.remote.webelement.WebElement (session=\"fb0ea5424191b19326e8cc0c11026e70\", element=\"c166cc9a-d932-4a6d-85ef-fe4accaa6929\")>,\n",
       " <selenium.webdriver.remote.webelement.WebElement (session=\"fb0ea5424191b19326e8cc0c11026e70\", element=\"c9fce60b-1e5e-4d27-9402-6421aeb336c9\")>,\n",
       " <selenium.webdriver.remote.webelement.WebElement (session=\"fb0ea5424191b19326e8cc0c11026e70\", element=\"3088b7f2-b475-4518-9dc3-4e16110ece60\")>,\n",
       " <selenium.webdriver.remote.webelement.WebElement (session=\"fb0ea5424191b19326e8cc0c11026e70\", element=\"aca38124-d7d8-4d5e-8986-8e925996b721\")>,\n",
       " <selenium.webdriver.remote.webelement.WebElement (session=\"fb0ea5424191b19326e8cc0c11026e70\", element=\"3e5a4d43-3b66-440d-9643-cc53f0e8a921\")>,\n",
       " <selenium.webdriver.remote.webelement.WebElement (session=\"fb0ea5424191b19326e8cc0c11026e70\", element=\"d12fee80-89f3-47d1-9811-c9833df05edd\")>,\n",
       " <selenium.webdriver.remote.webelement.WebElement (session=\"fb0ea5424191b19326e8cc0c11026e70\", element=\"78712bc0-d05d-4b52-a8b7-71dd4abccb9a\")>,\n",
       " <selenium.webdriver.remote.webelement.WebElement (session=\"fb0ea5424191b19326e8cc0c11026e70\", element=\"c5cd9d2f-92ca-439a-944f-1066fa0581b2\")>,\n",
       " <selenium.webdriver.remote.webelement.WebElement (session=\"fb0ea5424191b19326e8cc0c11026e70\", element=\"51682363-df33-4778-9872-554470af6ece\")>,\n",
       " <selenium.webdriver.remote.webelement.WebElement (session=\"fb0ea5424191b19326e8cc0c11026e70\", element=\"f8cbb8f9-23cd-47a3-8b36-ee3b01a5db8c\")>]"
      ]
     },
     "execution_count": 6,
     "metadata": {},
     "output_type": "execute_result"
    }
   ],
   "source": [
    "line1=browser.find_elements(\"xpath\",\"//div[@class='location ']\")\n",
    "line1"
   ]
  },
  {
   "cell_type": "code",
   "execution_count": 7,
   "id": "eb7f3717",
   "metadata": {},
   "outputs": [
    {
     "data": {
      "text/plain": [
       "['Cambridge, United States',\n",
       " 'Cambridge, United Kingdom',\n",
       " 'Stanford, United States',\n",
       " 'Oxford, United Kingdom',\n",
       " 'Cambridge, United States',\n",
       " 'Pasadena, United States',\n",
       " 'London, United Kingdom',\n",
       " 'London, United Kingdom',\n",
       " 'Zürich, Switzerland',\n",
       " 'Chicago, United States']"
      ]
     },
     "execution_count": 7,
     "metadata": {},
     "output_type": "execute_result"
    }
   ],
   "source": [
    "address=[]\n",
    "for data in line1:\n",
    "    #get the text data\n",
    "    temp=data.text\n",
    "    address.append(temp)\n",
    "address=address[10:]\n",
    "address"
   ]
  },
  {
   "cell_type": "code",
   "execution_count": 8,
   "id": "9f1dfeca",
   "metadata": {},
   "outputs": [
    {
     "data": {
      "text/plain": [
       "[<selenium.webdriver.remote.webelement.WebElement (session=\"fb0ea5424191b19326e8cc0c11026e70\", element=\"51287a7e-2612-45df-b1bc-ec510343fef0\")>,\n",
       " <selenium.webdriver.remote.webelement.WebElement (session=\"fb0ea5424191b19326e8cc0c11026e70\", element=\"7184c733-2cc6-47bb-b70a-affb44d3de41\")>,\n",
       " <selenium.webdriver.remote.webelement.WebElement (session=\"fb0ea5424191b19326e8cc0c11026e70\", element=\"b7a982e9-539f-44b8-a6a7-696f3726513b\")>,\n",
       " <selenium.webdriver.remote.webelement.WebElement (session=\"fb0ea5424191b19326e8cc0c11026e70\", element=\"1d1be675-3ee1-462a-a133-9288498a8ef8\")>,\n",
       " <selenium.webdriver.remote.webelement.WebElement (session=\"fb0ea5424191b19326e8cc0c11026e70\", element=\"b9b5f06f-00c9-4c5f-96f7-cbedb105dad9\")>,\n",
       " <selenium.webdriver.remote.webelement.WebElement (session=\"fb0ea5424191b19326e8cc0c11026e70\", element=\"a86ea5cb-cef5-4868-a401-37b63fd3ae97\")>,\n",
       " <selenium.webdriver.remote.webelement.WebElement (session=\"fb0ea5424191b19326e8cc0c11026e70\", element=\"b33caf3a-7898-413f-adf9-4fa3dcdeacef\")>,\n",
       " <selenium.webdriver.remote.webelement.WebElement (session=\"fb0ea5424191b19326e8cc0c11026e70\", element=\"13ff684d-1e4c-40fa-86d0-9e9d6bfc34bd\")>,\n",
       " <selenium.webdriver.remote.webelement.WebElement (session=\"fb0ea5424191b19326e8cc0c11026e70\", element=\"a9ba7aac-8cee-4f62-a81d-7738856ddd2c\")>,\n",
       " <selenium.webdriver.remote.webelement.WebElement (session=\"fb0ea5424191b19326e8cc0c11026e70\", element=\"3925586d-c9af-49a7-8b6c-701c1f83e0f4\")>]"
      ]
     },
     "execution_count": 8,
     "metadata": {},
     "output_type": "execute_result"
    }
   ],
   "source": [
    "line2=browser.find_elements(\"xpath\",\"//div[@class='_univ-rank ']\")\n",
    "line2"
   ]
  },
  {
   "cell_type": "code",
   "execution_count": 9,
   "id": "2f465509",
   "metadata": {},
   "outputs": [
    {
     "data": {
      "text/plain": [
       "['1', '2', '3', '4', '5', '=6', '=6', '8', '9', '10']"
      ]
     },
     "execution_count": 9,
     "metadata": {},
     "output_type": "execute_result"
    }
   ],
   "source": [
    "Rank=[]\n",
    "for data in line2:\n",
    "    #get the text data\n",
    "    temp=data.text\n",
    "    Rank.append(temp)\n",
    "Rank"
   ]
  },
  {
   "cell_type": "code",
   "execution_count": 10,
   "id": "b0b80109",
   "metadata": {},
   "outputs": [
    {
     "data": {
      "text/plain": [
       "[<selenium.webdriver.remote.webelement.WebElement (session=\"fb0ea5424191b19326e8cc0c11026e70\", element=\"3c3369bb-841c-49bf-875e-f96bebf39d29\")>,\n",
       " <selenium.webdriver.remote.webelement.WebElement (session=\"fb0ea5424191b19326e8cc0c11026e70\", element=\"ecab8bba-ee2d-4387-b0f8-46a793b06c82\")>,\n",
       " <selenium.webdriver.remote.webelement.WebElement (session=\"fb0ea5424191b19326e8cc0c11026e70\", element=\"dfc9770d-ec37-4730-9376-feb0586bd652\")>,\n",
       " <selenium.webdriver.remote.webelement.WebElement (session=\"fb0ea5424191b19326e8cc0c11026e70\", element=\"e8263e4d-a520-423d-bfdb-8c14e01e91ff\")>,\n",
       " <selenium.webdriver.remote.webelement.WebElement (session=\"fb0ea5424191b19326e8cc0c11026e70\", element=\"b6f2eafa-429a-469a-a299-80701ab7abfb\")>,\n",
       " <selenium.webdriver.remote.webelement.WebElement (session=\"fb0ea5424191b19326e8cc0c11026e70\", element=\"097fb8b4-533e-48a8-a02b-5f08b08be693\")>,\n",
       " <selenium.webdriver.remote.webelement.WebElement (session=\"fb0ea5424191b19326e8cc0c11026e70\", element=\"0febf3be-2d26-4817-a24b-52b91433231c\")>,\n",
       " <selenium.webdriver.remote.webelement.WebElement (session=\"fb0ea5424191b19326e8cc0c11026e70\", element=\"8059ebb4-ead8-46e8-89df-a7d15b736ff6\")>,\n",
       " <selenium.webdriver.remote.webelement.WebElement (session=\"fb0ea5424191b19326e8cc0c11026e70\", element=\"f3bdd620-df47-4a25-bd60-ccc5322cd99c\")>]"
      ]
     },
     "execution_count": 10,
     "metadata": {},
     "output_type": "execute_result"
    }
   ],
   "source": [
    "# GET EACH COLLEGE SPECIFICATION HEADERS\n",
    "line3=browser.find_elements(\"xpath\",\"//div[@class='_click-function_ind']\")\n",
    "line3"
   ]
  },
  {
   "cell_type": "code",
   "execution_count": 11,
   "id": "953eba30",
   "metadata": {},
   "outputs": [
    {
     "data": {
      "text/plain": [
       "['Overall Score',\n",
       " 'Academic Reputation',\n",
       " 'Employer Reputation',\n",
       " 'Citations per Faculty',\n",
       " 'Faculty Student Ratio',\n",
       " 'International Students Ratio',\n",
       " 'International Faculty Ratio',\n",
       " 'International Research Network\\nUnweighted',\n",
       " 'Employment Outcomes\\nUnweighted']"
      ]
     },
     "execution_count": 11,
     "metadata": {},
     "output_type": "execute_result"
    }
   ],
   "source": [
    "#PARSING DATA\n",
    "column=[]\n",
    "for data in line3:\n",
    "    #get the text data\n",
    "    temp=data.text\n",
    "    column.append(temp)\n",
    "column"
   ]
  },
  {
   "cell_type": "code",
   "execution_count": 12,
   "id": "1d6aaeee",
   "metadata": {},
   "outputs": [
    {
     "data": {
      "text/plain": [
       "[<selenium.webdriver.remote.webelement.WebElement (session=\"fb0ea5424191b19326e8cc0c11026e70\", element=\"1e325ebb-4262-4618-a2b9-81c828e09b17\")>,\n",
       " <selenium.webdriver.remote.webelement.WebElement (session=\"fb0ea5424191b19326e8cc0c11026e70\", element=\"1d3dcc02-7cbf-4d25-90fe-4655d491b05b\")>,\n",
       " <selenium.webdriver.remote.webelement.WebElement (session=\"fb0ea5424191b19326e8cc0c11026e70\", element=\"17749f2c-c09b-47ae-ae95-8fcdd3be355d\")>,\n",
       " <selenium.webdriver.remote.webelement.WebElement (session=\"fb0ea5424191b19326e8cc0c11026e70\", element=\"7855f268-f33d-4f52-8d34-87dce7ef6415\")>,\n",
       " <selenium.webdriver.remote.webelement.WebElement (session=\"fb0ea5424191b19326e8cc0c11026e70\", element=\"ecf0c92a-f16e-4785-9e27-d7569b139216\")>,\n",
       " <selenium.webdriver.remote.webelement.WebElement (session=\"fb0ea5424191b19326e8cc0c11026e70\", element=\"af688855-b1c8-481d-92b2-ab2927fa21b9\")>,\n",
       " <selenium.webdriver.remote.webelement.WebElement (session=\"fb0ea5424191b19326e8cc0c11026e70\", element=\"20b0c40d-5891-49d5-a50f-43dec39424c1\")>,\n",
       " <selenium.webdriver.remote.webelement.WebElement (session=\"fb0ea5424191b19326e8cc0c11026e70\", element=\"4290c492-1b7e-4fc5-a691-9970c8dcd45f\")>,\n",
       " <selenium.webdriver.remote.webelement.WebElement (session=\"fb0ea5424191b19326e8cc0c11026e70\", element=\"349ae49b-3b1c-437e-9743-f15228fcafcc\")>,\n",
       " <selenium.webdriver.remote.webelement.WebElement (session=\"fb0ea5424191b19326e8cc0c11026e70\", element=\"c4621798-f560-4d89-bd99-8d83fb0bb55c\")>,\n",
       " <selenium.webdriver.remote.webelement.WebElement (session=\"fb0ea5424191b19326e8cc0c11026e70\", element=\"066cc658-739b-4287-ac74-8e5188d17e76\")>,\n",
       " <selenium.webdriver.remote.webelement.WebElement (session=\"fb0ea5424191b19326e8cc0c11026e70\", element=\"dfb107c2-aa99-4080-9d63-caab3ca9d4e3\")>,\n",
       " <selenium.webdriver.remote.webelement.WebElement (session=\"fb0ea5424191b19326e8cc0c11026e70\", element=\"2767c1f0-c54d-4747-aa91-925adb4f113c\")>,\n",
       " <selenium.webdriver.remote.webelement.WebElement (session=\"fb0ea5424191b19326e8cc0c11026e70\", element=\"4d4a5bdd-b682-4379-845b-226c6c86c02b\")>,\n",
       " <selenium.webdriver.remote.webelement.WebElement (session=\"fb0ea5424191b19326e8cc0c11026e70\", element=\"732352f5-08d0-4810-af4b-bd22c26b00ab\")>,\n",
       " <selenium.webdriver.remote.webelement.WebElement (session=\"fb0ea5424191b19326e8cc0c11026e70\", element=\"f6aa673a-d864-42ef-bb41-b9b738f8c570\")>,\n",
       " <selenium.webdriver.remote.webelement.WebElement (session=\"fb0ea5424191b19326e8cc0c11026e70\", element=\"d05b2d80-191e-477d-8d24-85a25dc60ed1\")>,\n",
       " <selenium.webdriver.remote.webelement.WebElement (session=\"fb0ea5424191b19326e8cc0c11026e70\", element=\"5fd7609b-692e-499e-a799-a1f50ce7c875\")>,\n",
       " <selenium.webdriver.remote.webelement.WebElement (session=\"fb0ea5424191b19326e8cc0c11026e70\", element=\"316f3fae-be28-4bd9-82ab-9b7ffdce3579\")>,\n",
       " <selenium.webdriver.remote.webelement.WebElement (session=\"fb0ea5424191b19326e8cc0c11026e70\", element=\"1a023caf-115a-469e-a575-751bd958dbea\")>,\n",
       " <selenium.webdriver.remote.webelement.WebElement (session=\"fb0ea5424191b19326e8cc0c11026e70\", element=\"c231fc4d-8987-41a7-80b4-f7361ac182ad\")>,\n",
       " <selenium.webdriver.remote.webelement.WebElement (session=\"fb0ea5424191b19326e8cc0c11026e70\", element=\"fc70059e-97aa-4b40-891b-fe8ffbb3cca5\")>,\n",
       " <selenium.webdriver.remote.webelement.WebElement (session=\"fb0ea5424191b19326e8cc0c11026e70\", element=\"5e68f2fa-24d5-4431-a252-f740b1325574\")>,\n",
       " <selenium.webdriver.remote.webelement.WebElement (session=\"fb0ea5424191b19326e8cc0c11026e70\", element=\"5e088f9c-e262-4e32-a1fd-1625b2981286\")>,\n",
       " <selenium.webdriver.remote.webelement.WebElement (session=\"fb0ea5424191b19326e8cc0c11026e70\", element=\"db3282b6-3821-4b12-887a-0ad694fea5de\")>,\n",
       " <selenium.webdriver.remote.webelement.WebElement (session=\"fb0ea5424191b19326e8cc0c11026e70\", element=\"08f75b27-370a-4a1b-a4e0-5582d1958864\")>,\n",
       " <selenium.webdriver.remote.webelement.WebElement (session=\"fb0ea5424191b19326e8cc0c11026e70\", element=\"2c206a6a-a36b-4b47-a1a7-8ed40166b823\")>,\n",
       " <selenium.webdriver.remote.webelement.WebElement (session=\"fb0ea5424191b19326e8cc0c11026e70\", element=\"5fad7edf-e32c-4ad5-b6b9-a6aa2123031c\")>,\n",
       " <selenium.webdriver.remote.webelement.WebElement (session=\"fb0ea5424191b19326e8cc0c11026e70\", element=\"0794049d-9a3f-4f57-8fec-40140f627c77\")>,\n",
       " <selenium.webdriver.remote.webelement.WebElement (session=\"fb0ea5424191b19326e8cc0c11026e70\", element=\"6b8fa99f-db1c-409e-be51-a81441480846\")>,\n",
       " <selenium.webdriver.remote.webelement.WebElement (session=\"fb0ea5424191b19326e8cc0c11026e70\", element=\"962453e4-9eba-4af6-b3d1-cb60dabec0f1\")>,\n",
       " <selenium.webdriver.remote.webelement.WebElement (session=\"fb0ea5424191b19326e8cc0c11026e70\", element=\"36e3504a-a489-4b99-9821-2a53c45f9ee4\")>,\n",
       " <selenium.webdriver.remote.webelement.WebElement (session=\"fb0ea5424191b19326e8cc0c11026e70\", element=\"66dc2b22-cea8-471e-b27d-10412a0a5aea\")>,\n",
       " <selenium.webdriver.remote.webelement.WebElement (session=\"fb0ea5424191b19326e8cc0c11026e70\", element=\"9afc4734-2d76-46aa-9fd4-ca74422b44ae\")>,\n",
       " <selenium.webdriver.remote.webelement.WebElement (session=\"fb0ea5424191b19326e8cc0c11026e70\", element=\"6df9dc8e-84c0-401a-8198-4162a8b0d48a\")>,\n",
       " <selenium.webdriver.remote.webelement.WebElement (session=\"fb0ea5424191b19326e8cc0c11026e70\", element=\"b80347ab-5136-476c-8894-1197c315d94e\")>,\n",
       " <selenium.webdriver.remote.webelement.WebElement (session=\"fb0ea5424191b19326e8cc0c11026e70\", element=\"b676526a-d10b-4fd5-a936-7933e092a623\")>,\n",
       " <selenium.webdriver.remote.webelement.WebElement (session=\"fb0ea5424191b19326e8cc0c11026e70\", element=\"dd45a05e-09bc-4312-aa28-ddc43ea168f3\")>,\n",
       " <selenium.webdriver.remote.webelement.WebElement (session=\"fb0ea5424191b19326e8cc0c11026e70\", element=\"85f24d15-6eb2-4b88-b08d-6ebf20eafbfd\")>,\n",
       " <selenium.webdriver.remote.webelement.WebElement (session=\"fb0ea5424191b19326e8cc0c11026e70\", element=\"925a28a0-6031-4177-a469-533e91c0612d\")>,\n",
       " <selenium.webdriver.remote.webelement.WebElement (session=\"fb0ea5424191b19326e8cc0c11026e70\", element=\"aea3d1f7-4924-4871-a0ef-e6ab544ff0cb\")>,\n",
       " <selenium.webdriver.remote.webelement.WebElement (session=\"fb0ea5424191b19326e8cc0c11026e70\", element=\"5c1029df-ae06-4ad5-8ec6-e80a87d9aac5\")>,\n",
       " <selenium.webdriver.remote.webelement.WebElement (session=\"fb0ea5424191b19326e8cc0c11026e70\", element=\"5ea91161-1b8f-445b-b087-3d7881441607\")>,\n",
       " <selenium.webdriver.remote.webelement.WebElement (session=\"fb0ea5424191b19326e8cc0c11026e70\", element=\"a55d9ecd-b9d0-4cbd-9984-76cd63af5ab5\")>,\n",
       " <selenium.webdriver.remote.webelement.WebElement (session=\"fb0ea5424191b19326e8cc0c11026e70\", element=\"0619a7d4-b785-4504-834f-3e4ef7ce25ba\")>,\n",
       " <selenium.webdriver.remote.webelement.WebElement (session=\"fb0ea5424191b19326e8cc0c11026e70\", element=\"81505ae4-e7f5-475d-884e-8693e9269941\")>,\n",
       " <selenium.webdriver.remote.webelement.WebElement (session=\"fb0ea5424191b19326e8cc0c11026e70\", element=\"eca69683-3b92-4616-9196-9906c66ef90f\")>,\n",
       " <selenium.webdriver.remote.webelement.WebElement (session=\"fb0ea5424191b19326e8cc0c11026e70\", element=\"1c42c634-6d89-468f-8eb7-2955e5e93d66\")>,\n",
       " <selenium.webdriver.remote.webelement.WebElement (session=\"fb0ea5424191b19326e8cc0c11026e70\", element=\"ceb61061-abae-4e85-97ad-eade96dac9c5\")>,\n",
       " <selenium.webdriver.remote.webelement.WebElement (session=\"fb0ea5424191b19326e8cc0c11026e70\", element=\"2f011bd3-6604-4d4b-9f63-7224cc0f6c1b\")>,\n",
       " <selenium.webdriver.remote.webelement.WebElement (session=\"fb0ea5424191b19326e8cc0c11026e70\", element=\"35901195-ec2c-4c72-9be5-9cdceb4b5ed6\")>,\n",
       " <selenium.webdriver.remote.webelement.WebElement (session=\"fb0ea5424191b19326e8cc0c11026e70\", element=\"05981b5c-b992-4fb0-b30d-ade00872106a\")>,\n",
       " <selenium.webdriver.remote.webelement.WebElement (session=\"fb0ea5424191b19326e8cc0c11026e70\", element=\"d7f2eadd-d171-4e6b-93c4-e4bf5a7a0717\")>,\n",
       " <selenium.webdriver.remote.webelement.WebElement (session=\"fb0ea5424191b19326e8cc0c11026e70\", element=\"3c135bfc-ad79-4c72-84db-3d4635e70589\")>,\n",
       " <selenium.webdriver.remote.webelement.WebElement (session=\"fb0ea5424191b19326e8cc0c11026e70\", element=\"b4e4ead6-696b-4a5b-98d9-f0ad0e5f67b6\")>,\n",
       " <selenium.webdriver.remote.webelement.WebElement (session=\"fb0ea5424191b19326e8cc0c11026e70\", element=\"2d769732-706b-4775-80e9-e72acd388fe1\")>,\n",
       " <selenium.webdriver.remote.webelement.WebElement (session=\"fb0ea5424191b19326e8cc0c11026e70\", element=\"3915d7a7-ce12-48b3-9be1-a9e8d1fdfb6a\")>,\n",
       " <selenium.webdriver.remote.webelement.WebElement (session=\"fb0ea5424191b19326e8cc0c11026e70\", element=\"3a742b66-7786-4f70-9f7c-70be9987085b\")>,\n",
       " <selenium.webdriver.remote.webelement.WebElement (session=\"fb0ea5424191b19326e8cc0c11026e70\", element=\"bdac2b45-c013-47f4-85ff-89df9334a830\")>,\n",
       " <selenium.webdriver.remote.webelement.WebElement (session=\"fb0ea5424191b19326e8cc0c11026e70\", element=\"422acc93-e16f-4662-b601-507e2a99f845\")>,\n",
       " <selenium.webdriver.remote.webelement.WebElement (session=\"fb0ea5424191b19326e8cc0c11026e70\", element=\"f92adcf1-5e7e-4efa-b7ce-40951f48884c\")>,\n",
       " <selenium.webdriver.remote.webelement.WebElement (session=\"fb0ea5424191b19326e8cc0c11026e70\", element=\"f40804b0-429a-4fe8-b9a5-31f27615562e\")>,\n",
       " <selenium.webdriver.remote.webelement.WebElement (session=\"fb0ea5424191b19326e8cc0c11026e70\", element=\"2b8c528b-5738-4b59-8ba0-d3d2a105bd69\")>,\n",
       " <selenium.webdriver.remote.webelement.WebElement (session=\"fb0ea5424191b19326e8cc0c11026e70\", element=\"01513fad-babe-4b7f-b2a6-fd154e6c9cd9\")>,\n",
       " <selenium.webdriver.remote.webelement.WebElement (session=\"fb0ea5424191b19326e8cc0c11026e70\", element=\"9d3e3840-c596-4f23-9c5e-cae7ce608799\")>,\n",
       " <selenium.webdriver.remote.webelement.WebElement (session=\"fb0ea5424191b19326e8cc0c11026e70\", element=\"0f4d82bd-e71f-492d-82a8-3207eccc1bbf\")>,\n",
       " <selenium.webdriver.remote.webelement.WebElement (session=\"fb0ea5424191b19326e8cc0c11026e70\", element=\"c52a9518-572a-4b7e-b497-7eba5c7f7632\")>,\n",
       " <selenium.webdriver.remote.webelement.WebElement (session=\"fb0ea5424191b19326e8cc0c11026e70\", element=\"08371c70-5f8f-40ff-bc23-4a4c37c3ab61\")>,\n",
       " <selenium.webdriver.remote.webelement.WebElement (session=\"fb0ea5424191b19326e8cc0c11026e70\", element=\"059c4220-a64c-45e2-8e94-f2cc66f43865\")>,\n",
       " <selenium.webdriver.remote.webelement.WebElement (session=\"fb0ea5424191b19326e8cc0c11026e70\", element=\"697dd872-35af-45ca-9046-400047623636\")>,\n",
       " <selenium.webdriver.remote.webelement.WebElement (session=\"fb0ea5424191b19326e8cc0c11026e70\", element=\"91ab3064-bd5d-4bd4-a7c0-4e6bd16c6370\")>,\n",
       " <selenium.webdriver.remote.webelement.WebElement (session=\"fb0ea5424191b19326e8cc0c11026e70\", element=\"cea51a7e-36f4-4305-ac5e-eded33d0a4db\")>,\n",
       " <selenium.webdriver.remote.webelement.WebElement (session=\"fb0ea5424191b19326e8cc0c11026e70\", element=\"9b359225-d1af-4319-a474-8d21d7533b0a\")>,\n",
       " <selenium.webdriver.remote.webelement.WebElement (session=\"fb0ea5424191b19326e8cc0c11026e70\", element=\"97a718b1-86af-45e3-bab8-1e6f1de6a89c\")>,\n",
       " <selenium.webdriver.remote.webelement.WebElement (session=\"fb0ea5424191b19326e8cc0c11026e70\", element=\"704a9120-5dcc-4675-b6fd-e3cf06515c35\")>,\n",
       " <selenium.webdriver.remote.webelement.WebElement (session=\"fb0ea5424191b19326e8cc0c11026e70\", element=\"191e76e6-7ca4-4a04-99c5-6ca7e8e1e781\")>,\n",
       " <selenium.webdriver.remote.webelement.WebElement (session=\"fb0ea5424191b19326e8cc0c11026e70\", element=\"8b8e4a8a-b883-4e6c-87f4-49719ed1e1e0\")>,\n",
       " <selenium.webdriver.remote.webelement.WebElement (session=\"fb0ea5424191b19326e8cc0c11026e70\", element=\"00104d16-8ee0-4d30-ba26-383f3a7e6191\")>,\n",
       " <selenium.webdriver.remote.webelement.WebElement (session=\"fb0ea5424191b19326e8cc0c11026e70\", element=\"82ecc024-db20-420d-bbdc-2b3377484ee0\")>,\n",
       " <selenium.webdriver.remote.webelement.WebElement (session=\"fb0ea5424191b19326e8cc0c11026e70\", element=\"c7730444-bce1-4a56-bbbb-7a47a4328c74\")>,\n",
       " <selenium.webdriver.remote.webelement.WebElement (session=\"fb0ea5424191b19326e8cc0c11026e70\", element=\"2eca99e4-e039-4c3b-ac3e-b2c8844d9545\")>,\n",
       " <selenium.webdriver.remote.webelement.WebElement (session=\"fb0ea5424191b19326e8cc0c11026e70\", element=\"d607a75e-52bb-4508-b80c-64598465686c\")>,\n",
       " <selenium.webdriver.remote.webelement.WebElement (session=\"fb0ea5424191b19326e8cc0c11026e70\", element=\"e5768691-9031-4650-874d-e3283301d209\")>,\n",
       " <selenium.webdriver.remote.webelement.WebElement (session=\"fb0ea5424191b19326e8cc0c11026e70\", element=\"c19a6579-7969-4969-ab89-ef5f810357e3\")>,\n",
       " <selenium.webdriver.remote.webelement.WebElement (session=\"fb0ea5424191b19326e8cc0c11026e70\", element=\"8118ae65-5b6c-4af9-83ce-486d71dc5e3d\")>,\n",
       " <selenium.webdriver.remote.webelement.WebElement (session=\"fb0ea5424191b19326e8cc0c11026e70\", element=\"6ae6ea05-79d7-4686-9079-dfae96a33ab0\")>,\n",
       " <selenium.webdriver.remote.webelement.WebElement (session=\"fb0ea5424191b19326e8cc0c11026e70\", element=\"88db86d8-062d-4282-accf-864204ddee19\")>,\n",
       " <selenium.webdriver.remote.webelement.WebElement (session=\"fb0ea5424191b19326e8cc0c11026e70\", element=\"6a0f6eaf-d80b-4088-bbb6-58039db510f2\")>,\n",
       " <selenium.webdriver.remote.webelement.WebElement (session=\"fb0ea5424191b19326e8cc0c11026e70\", element=\"c53064db-52a9-429b-9171-0b177f5bd81e\")>,\n",
       " <selenium.webdriver.remote.webelement.WebElement (session=\"fb0ea5424191b19326e8cc0c11026e70\", element=\"cec0fc60-ad05-43aa-9f4e-0d7746f1c604\")>,\n",
       " <selenium.webdriver.remote.webelement.WebElement (session=\"fb0ea5424191b19326e8cc0c11026e70\", element=\"b104aabb-e1a3-4f52-8828-0c7c29a6f7d0\")>,\n",
       " <selenium.webdriver.remote.webelement.WebElement (session=\"fb0ea5424191b19326e8cc0c11026e70\", element=\"8dcb9b24-2e44-4f3b-bbb5-4c53f25e4191\")>,\n",
       " <selenium.webdriver.remote.webelement.WebElement (session=\"fb0ea5424191b19326e8cc0c11026e70\", element=\"5b1313c1-b150-41f5-ae35-b6cddf9cb3cb\")>,\n",
       " <selenium.webdriver.remote.webelement.WebElement (session=\"fb0ea5424191b19326e8cc0c11026e70\", element=\"88343f2e-0a87-4bcd-b99c-6bf958fcadbf\")>,\n",
       " <selenium.webdriver.remote.webelement.WebElement (session=\"fb0ea5424191b19326e8cc0c11026e70\", element=\"6c372d93-a90e-4611-af8f-eadbe68d86cb\")>,\n",
       " <selenium.webdriver.remote.webelement.WebElement (session=\"fb0ea5424191b19326e8cc0c11026e70\", element=\"995b4084-821a-4b6d-a244-615079cf4bab\")>,\n",
       " <selenium.webdriver.remote.webelement.WebElement (session=\"fb0ea5424191b19326e8cc0c11026e70\", element=\"e1214141-b193-413a-8013-7690984a8123\")>,\n",
       " <selenium.webdriver.remote.webelement.WebElement (session=\"fb0ea5424191b19326e8cc0c11026e70\", element=\"7c437b67-b9b4-4923-ad22-6b28fadf26eb\")>,\n",
       " <selenium.webdriver.remote.webelement.WebElement (session=\"fb0ea5424191b19326e8cc0c11026e70\", element=\"4f48a35b-d73e-4842-96a0-5d6f1f59d3c8\")>,\n",
       " <selenium.webdriver.remote.webelement.WebElement (session=\"fb0ea5424191b19326e8cc0c11026e70\", element=\"4a312902-7c1f-4216-93aa-7af04be8d3ff\")>]"
      ]
     },
     "execution_count": 12,
     "metadata": {},
     "output_type": "execute_result"
    }
   ],
   "source": [
    "line4=browser.find_elements(\"xpath\",\"//div[@class='td-wrap-in']\")\n",
    "line4"
   ]
  },
  {
   "cell_type": "code",
   "execution_count": 13,
   "id": "9f062ba2",
   "metadata": {},
   "outputs": [
    {
     "data": {
      "text/plain": [
       "['98.5', '100', '100', '99.9', '100', '60.3', '99.8', '96.3', '100']"
      ]
     },
     "execution_count": 13,
     "metadata": {},
     "output_type": "execute_result"
    }
   ],
   "source": [
    "#PARSING DATA\n",
    "value=[]\n",
    "for data in line4:\n",
    "    #get the text data\n",
    "    temp=data.text\n",
    "    value.append(temp)\n",
    "value_h=value[21:30]\n",
    "value_h"
   ]
  },
  {
   "cell_type": "code",
   "execution_count": 14,
   "id": "5b17d653",
   "metadata": {},
   "outputs": [
    {
     "data": {
      "text/plain": [
       "{'Name': 'Stanford University',\n",
       " 'Location': 'Stanford, United States',\n",
       " 'Rank': '3',\n",
       " 'Overall Score': '98.5',\n",
       " 'Academic Reputation': '100',\n",
       " 'Employer Reputation': '100',\n",
       " 'Citations per Faculty': '99.9',\n",
       " 'Faculty Student Ratio': '100',\n",
       " 'International Students Ratio': '60.3',\n",
       " 'International Faculty Ratio': '99.8',\n",
       " 'International Research Network\\nUnweighted': '96.3',\n",
       " 'Employment Outcomes\\nUnweighted': '100'}"
      ]
     },
     "execution_count": 14,
     "metadata": {},
     "output_type": "execute_result"
    }
   ],
   "source": [
    "d={}\n",
    "d['Name']=value[20]\n",
    "d['Location']=address[2]\n",
    "d['Rank']=Rank[2]\n",
    "for i in range(len(column)):\n",
    "    d[column[i]]=value_h[i]\n",
    "d"
   ]
  },
  {
   "cell_type": "code",
   "execution_count": 15,
   "id": "1a167d44",
   "metadata": {},
   "outputs": [
    {
     "data": {
      "text/plain": [
       "'{\"Name\": \"Stanford University\", \"Location\": \"Stanford, United States\", \"Rank\": \"3\", \"Overall Score\": \"98.5\", \"Academic Reputation\": \"100\", \"Employer Reputation\": \"100\", \"Citations per Faculty\": \"99.9\", \"Faculty Student Ratio\": \"100\", \"International Students Ratio\": \"60.3\", \"International Faculty Ratio\": \"99.8\", \"International Research Network\\\\nUnweighted\": \"96.3\", \"Employment Outcomes\\\\nUnweighted\": \"100\"}'"
      ]
     },
     "execution_count": 15,
     "metadata": {},
     "output_type": "execute_result"
    }
   ],
   "source": [
    "s1=json.dumps(d)\n",
    "s1"
   ]
  },
  {
   "cell_type": "code",
   "execution_count": 16,
   "id": "d95b5f64",
   "metadata": {},
   "outputs": [],
   "source": [
    "\n",
    "with open('Stanford University.json','w') as f:\n",
    "    json.dump(d,f)\n"
   ]
  }
 ],
 "metadata": {
  "kernelspec": {
   "display_name": "Python 3.9.12 ('base')",
   "language": "python",
   "name": "python3"
  },
  "language_info": {
   "codemirror_mode": {
    "name": "ipython",
    "version": 3
   },
   "file_extension": ".py",
   "mimetype": "text/x-python",
   "name": "python",
   "nbconvert_exporter": "python",
   "pygments_lexer": "ipython3",
   "version": "3.9.12"
  },
  "vscode": {
   "interpreter": {
    "hash": "ad2bdc8ecc057115af97d19610ffacc2b4e99fae6737bb82f5d7fb13d2f2c186"
   }
  }
 },
 "nbformat": 4,
 "nbformat_minor": 5
}
