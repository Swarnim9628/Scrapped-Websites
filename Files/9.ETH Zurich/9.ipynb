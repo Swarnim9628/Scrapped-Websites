{
 "cells": [
  {
   "cell_type": "code",
   "execution_count": 1,
   "id": "753546da",
   "metadata": {},
   "outputs": [],
   "source": [
    "from selenium import webdriver\n",
    "from selenium.webdriver.chrome.service import Service\n",
    "import pandas as pd\n",
    "import json\n"
   ]
  },
  {
   "cell_type": "code",
   "execution_count": 2,
   "id": "424a7e3e",
   "metadata": {},
   "outputs": [],
   "source": [
    "path = Service('C:\\chromedriver.exe')\n"
   ]
  },
  {
   "cell_type": "code",
   "execution_count": 3,
   "id": "8c09bd8e",
   "metadata": {},
   "outputs": [],
   "source": [
    "# set path for the driver\n",
    "browser = webdriver.Chrome(service = path)"
   ]
  },
  {
   "cell_type": "code",
   "execution_count": 4,
   "id": "b4044b07",
   "metadata": {},
   "outputs": [],
   "source": [
    "url = \"https://www.topuniversities.com/university-rankings/world-university-rankings/2023\""
   ]
  },
  {
   "cell_type": "code",
   "execution_count": 5,
   "id": "cf06aeca",
   "metadata": {},
   "outputs": [],
   "source": [
    "\n",
    "# open the page url ion chrome\n",
    "browser.get(url)"
   ]
  },
  {
   "cell_type": "code",
   "execution_count": 6,
   "id": "b71316e8",
   "metadata": {},
   "outputs": [
    {
     "data": {
      "text/plain": [
       "[<selenium.webdriver.remote.webelement.WebElement (session=\"a60a0e9fdec974ee1aae8fb8e22be9d1\", element=\"7330eb14-d6f2-4c62-a4da-6e81ff81f318\")>,\n",
       " <selenium.webdriver.remote.webelement.WebElement (session=\"a60a0e9fdec974ee1aae8fb8e22be9d1\", element=\"d0edc15c-2f92-4852-9872-c579956d6932\")>,\n",
       " <selenium.webdriver.remote.webelement.WebElement (session=\"a60a0e9fdec974ee1aae8fb8e22be9d1\", element=\"27b96534-7f8c-4c8d-808c-81c49bbef965\")>,\n",
       " <selenium.webdriver.remote.webelement.WebElement (session=\"a60a0e9fdec974ee1aae8fb8e22be9d1\", element=\"2e40a99a-a9ad-41dd-8c92-d2cc43982a3e\")>,\n",
       " <selenium.webdriver.remote.webelement.WebElement (session=\"a60a0e9fdec974ee1aae8fb8e22be9d1\", element=\"b3a00bfa-7bca-434a-8956-185e0f53240b\")>,\n",
       " <selenium.webdriver.remote.webelement.WebElement (session=\"a60a0e9fdec974ee1aae8fb8e22be9d1\", element=\"8d16be69-5e30-4eb2-a866-9de2f2290a56\")>,\n",
       " <selenium.webdriver.remote.webelement.WebElement (session=\"a60a0e9fdec974ee1aae8fb8e22be9d1\", element=\"6ea55159-4351-4416-b169-8ae96d6c6f67\")>,\n",
       " <selenium.webdriver.remote.webelement.WebElement (session=\"a60a0e9fdec974ee1aae8fb8e22be9d1\", element=\"d8c17e37-e14b-4b5a-9808-c13717d45a90\")>,\n",
       " <selenium.webdriver.remote.webelement.WebElement (session=\"a60a0e9fdec974ee1aae8fb8e22be9d1\", element=\"e9a78bd8-aedc-4582-b156-579a6bdf3bec\")>,\n",
       " <selenium.webdriver.remote.webelement.WebElement (session=\"a60a0e9fdec974ee1aae8fb8e22be9d1\", element=\"fbd605f7-bf66-463a-8d2b-f95c7f29fd9d\")>,\n",
       " <selenium.webdriver.remote.webelement.WebElement (session=\"a60a0e9fdec974ee1aae8fb8e22be9d1\", element=\"85db18a2-c70c-4789-a372-c1f7b761a33c\")>,\n",
       " <selenium.webdriver.remote.webelement.WebElement (session=\"a60a0e9fdec974ee1aae8fb8e22be9d1\", element=\"bbcde47c-2eed-4b95-babd-ff5757bb1e6e\")>,\n",
       " <selenium.webdriver.remote.webelement.WebElement (session=\"a60a0e9fdec974ee1aae8fb8e22be9d1\", element=\"c6beebbd-416b-474c-aab0-7b317ba32b05\")>,\n",
       " <selenium.webdriver.remote.webelement.WebElement (session=\"a60a0e9fdec974ee1aae8fb8e22be9d1\", element=\"538689d1-0911-4227-b36a-32a14a078228\")>,\n",
       " <selenium.webdriver.remote.webelement.WebElement (session=\"a60a0e9fdec974ee1aae8fb8e22be9d1\", element=\"f2d37a09-52e5-4ae2-ad7c-a3e85c868989\")>,\n",
       " <selenium.webdriver.remote.webelement.WebElement (session=\"a60a0e9fdec974ee1aae8fb8e22be9d1\", element=\"9eb28ef9-0d22-44b0-8931-0e442a9d017c\")>,\n",
       " <selenium.webdriver.remote.webelement.WebElement (session=\"a60a0e9fdec974ee1aae8fb8e22be9d1\", element=\"ea27c396-0e74-4481-bd0c-4d9449e396f5\")>,\n",
       " <selenium.webdriver.remote.webelement.WebElement (session=\"a60a0e9fdec974ee1aae8fb8e22be9d1\", element=\"7cb40eb8-b836-4973-9ab5-b1fefc11fb15\")>,\n",
       " <selenium.webdriver.remote.webelement.WebElement (session=\"a60a0e9fdec974ee1aae8fb8e22be9d1\", element=\"4f3d9ad7-676f-4dd6-9892-29af0703e304\")>,\n",
       " <selenium.webdriver.remote.webelement.WebElement (session=\"a60a0e9fdec974ee1aae8fb8e22be9d1\", element=\"c66f0eb1-e7d6-4a30-a512-5e0aecc754c1\")>]"
      ]
     },
     "execution_count": 6,
     "metadata": {},
     "output_type": "execute_result"
    }
   ],
   "source": [
    "\n",
    "line1=browser.find_elements(\"xpath\",\"//div[@class='location ']\")\n",
    "line1"
   ]
  },
  {
   "cell_type": "code",
   "execution_count": 7,
   "id": "b2f4cddb",
   "metadata": {},
   "outputs": [
    {
     "data": {
      "text/plain": [
       "['Cambridge, United States',\n",
       " 'Cambridge, United Kingdom',\n",
       " 'Stanford, United States',\n",
       " 'Oxford, United Kingdom',\n",
       " 'Cambridge, United States',\n",
       " 'Pasadena, United States',\n",
       " 'London, United Kingdom',\n",
       " 'London, United Kingdom',\n",
       " 'Zürich, Switzerland',\n",
       " 'Chicago, United States']"
      ]
     },
     "execution_count": 7,
     "metadata": {},
     "output_type": "execute_result"
    }
   ],
   "source": [
    "address=[]\n",
    "for data in line1:\n",
    "    #get the text data\n",
    "    temp=data.text\n",
    "    address.append(temp)\n",
    "address=address[10:]\n",
    "address"
   ]
  },
  {
   "cell_type": "code",
   "execution_count": 8,
   "id": "f784ac59",
   "metadata": {},
   "outputs": [
    {
     "data": {
      "text/plain": [
       "[<selenium.webdriver.remote.webelement.WebElement (session=\"a60a0e9fdec974ee1aae8fb8e22be9d1\", element=\"b5acacf3-9198-41d1-8fe8-a510ac9ab815\")>,\n",
       " <selenium.webdriver.remote.webelement.WebElement (session=\"a60a0e9fdec974ee1aae8fb8e22be9d1\", element=\"4bda54be-5da7-4200-b372-ffdea25351a3\")>,\n",
       " <selenium.webdriver.remote.webelement.WebElement (session=\"a60a0e9fdec974ee1aae8fb8e22be9d1\", element=\"56579b7b-0492-4ec7-9526-3fc028ac815c\")>,\n",
       " <selenium.webdriver.remote.webelement.WebElement (session=\"a60a0e9fdec974ee1aae8fb8e22be9d1\", element=\"c0c929be-c1fd-4dbb-8f2c-15f120ba5185\")>,\n",
       " <selenium.webdriver.remote.webelement.WebElement (session=\"a60a0e9fdec974ee1aae8fb8e22be9d1\", element=\"635c8635-c519-4bd7-b1a7-ac2740d89e9b\")>,\n",
       " <selenium.webdriver.remote.webelement.WebElement (session=\"a60a0e9fdec974ee1aae8fb8e22be9d1\", element=\"2c81d4b5-693d-4300-b83b-cd91253ae206\")>,\n",
       " <selenium.webdriver.remote.webelement.WebElement (session=\"a60a0e9fdec974ee1aae8fb8e22be9d1\", element=\"959e9c35-c77b-4ed6-8fe9-04009b6538f3\")>,\n",
       " <selenium.webdriver.remote.webelement.WebElement (session=\"a60a0e9fdec974ee1aae8fb8e22be9d1\", element=\"10aa7d84-ce96-49a7-9580-9bbc48fbe013\")>,\n",
       " <selenium.webdriver.remote.webelement.WebElement (session=\"a60a0e9fdec974ee1aae8fb8e22be9d1\", element=\"0a744175-7290-4384-be16-f8da7199d208\")>,\n",
       " <selenium.webdriver.remote.webelement.WebElement (session=\"a60a0e9fdec974ee1aae8fb8e22be9d1\", element=\"112d230f-532d-4163-8287-5071f75ad4c0\")>]"
      ]
     },
     "execution_count": 8,
     "metadata": {},
     "output_type": "execute_result"
    }
   ],
   "source": [
    "\n",
    "line2=browser.find_elements(\"xpath\",\"//div[@class='_univ-rank ']\")\n",
    "line2"
   ]
  },
  {
   "cell_type": "code",
   "execution_count": 9,
   "id": "b72fd949",
   "metadata": {},
   "outputs": [
    {
     "data": {
      "text/plain": [
       "['1', '2', '3', '4', '5', '=6', '=6', '8', '9', '10']"
      ]
     },
     "execution_count": 9,
     "metadata": {},
     "output_type": "execute_result"
    }
   ],
   "source": [
    "Rank=[]\n",
    "for data in line2:\n",
    "    #get the text data\n",
    "    temp=data.text\n",
    "    Rank.append(temp)\n",
    "Rank"
   ]
  },
  {
   "cell_type": "code",
   "execution_count": 10,
   "id": "a556f091",
   "metadata": {},
   "outputs": [
    {
     "data": {
      "text/plain": [
       "[<selenium.webdriver.remote.webelement.WebElement (session=\"a60a0e9fdec974ee1aae8fb8e22be9d1\", element=\"874ed656-9f2b-43f4-b026-7c1caff7d84d\")>,\n",
       " <selenium.webdriver.remote.webelement.WebElement (session=\"a60a0e9fdec974ee1aae8fb8e22be9d1\", element=\"d212e458-f0af-4d19-a1ab-2b50657bf2e7\")>,\n",
       " <selenium.webdriver.remote.webelement.WebElement (session=\"a60a0e9fdec974ee1aae8fb8e22be9d1\", element=\"95d25449-14bd-41c4-b3fe-ebf5f133a290\")>,\n",
       " <selenium.webdriver.remote.webelement.WebElement (session=\"a60a0e9fdec974ee1aae8fb8e22be9d1\", element=\"c8c8ebf9-eccc-4137-a996-4a357ff9e9fe\")>,\n",
       " <selenium.webdriver.remote.webelement.WebElement (session=\"a60a0e9fdec974ee1aae8fb8e22be9d1\", element=\"06c492a2-aa54-46a1-8da0-87a8f8c4d3b4\")>,\n",
       " <selenium.webdriver.remote.webelement.WebElement (session=\"a60a0e9fdec974ee1aae8fb8e22be9d1\", element=\"2e146cda-e50f-4113-8498-2307b4822ee6\")>,\n",
       " <selenium.webdriver.remote.webelement.WebElement (session=\"a60a0e9fdec974ee1aae8fb8e22be9d1\", element=\"231a1cae-5de0-4236-9501-c9615278c73a\")>,\n",
       " <selenium.webdriver.remote.webelement.WebElement (session=\"a60a0e9fdec974ee1aae8fb8e22be9d1\", element=\"972ade99-2e23-424b-8e4b-8fb6a05c7262\")>,\n",
       " <selenium.webdriver.remote.webelement.WebElement (session=\"a60a0e9fdec974ee1aae8fb8e22be9d1\", element=\"8fba2cee-c65d-414b-8dc5-02bb89dfe179\")>]"
      ]
     },
     "execution_count": 10,
     "metadata": {},
     "output_type": "execute_result"
    }
   ],
   "source": [
    "line3=browser.find_elements(\"xpath\",\"//div[@class='_click-function_ind']\")\n",
    "line3"
   ]
  },
  {
   "cell_type": "code",
   "execution_count": 11,
   "id": "3f990ae5",
   "metadata": {},
   "outputs": [
    {
     "data": {
      "text/plain": [
       "['Overall Score',\n",
       " 'Academic Reputation',\n",
       " 'Employer Reputation',\n",
       " 'Citations per Faculty',\n",
       " 'Faculty Student Ratio',\n",
       " 'International Students Ratio',\n",
       " 'International Faculty Ratio',\n",
       " 'International Research Network\\nUnweighted',\n",
       " 'Employment Outcomes\\nUnweighted']"
      ]
     },
     "execution_count": 11,
     "metadata": {},
     "output_type": "execute_result"
    }
   ],
   "source": [
    "#PARSING DATA\n",
    "column=[]\n",
    "for data in line3:\n",
    "    #get the text data\n",
    "    temp=data.text\n",
    "    column.append(temp)\n",
    "column\n"
   ]
  },
  {
   "cell_type": "code",
   "execution_count": 12,
   "id": "aa8fe116",
   "metadata": {},
   "outputs": [
    {
     "data": {
      "text/plain": [
       "[<selenium.webdriver.remote.webelement.WebElement (session=\"a60a0e9fdec974ee1aae8fb8e22be9d1\", element=\"40a4353e-5a8d-4794-8aaa-0156bd85626c\")>,\n",
       " <selenium.webdriver.remote.webelement.WebElement (session=\"a60a0e9fdec974ee1aae8fb8e22be9d1\", element=\"0f845b0e-090e-4708-8585-c5f29bc1287a\")>,\n",
       " <selenium.webdriver.remote.webelement.WebElement (session=\"a60a0e9fdec974ee1aae8fb8e22be9d1\", element=\"8894ad8b-02fd-40d3-996f-f57dada6cf85\")>,\n",
       " <selenium.webdriver.remote.webelement.WebElement (session=\"a60a0e9fdec974ee1aae8fb8e22be9d1\", element=\"afe3c38a-8d63-4fd0-aac2-3e19ab2ff309\")>,\n",
       " <selenium.webdriver.remote.webelement.WebElement (session=\"a60a0e9fdec974ee1aae8fb8e22be9d1\", element=\"c8490824-2a95-4187-a2ed-6eac509f08f0\")>,\n",
       " <selenium.webdriver.remote.webelement.WebElement (session=\"a60a0e9fdec974ee1aae8fb8e22be9d1\", element=\"671d84db-0140-44db-84ac-cd5b3a7d0cba\")>,\n",
       " <selenium.webdriver.remote.webelement.WebElement (session=\"a60a0e9fdec974ee1aae8fb8e22be9d1\", element=\"d0be84bb-983e-4c3f-82f1-aa923d06ff62\")>,\n",
       " <selenium.webdriver.remote.webelement.WebElement (session=\"a60a0e9fdec974ee1aae8fb8e22be9d1\", element=\"4d253011-8229-4edd-84c5-e6cd37400b43\")>,\n",
       " <selenium.webdriver.remote.webelement.WebElement (session=\"a60a0e9fdec974ee1aae8fb8e22be9d1\", element=\"89ea0437-30be-4e72-bd74-94431375fc2e\")>,\n",
       " <selenium.webdriver.remote.webelement.WebElement (session=\"a60a0e9fdec974ee1aae8fb8e22be9d1\", element=\"2145c753-f5db-489b-9953-6d32f002832a\")>,\n",
       " <selenium.webdriver.remote.webelement.WebElement (session=\"a60a0e9fdec974ee1aae8fb8e22be9d1\", element=\"bd0f60b4-c5ef-4ed1-a0b5-ac8922c57650\")>,\n",
       " <selenium.webdriver.remote.webelement.WebElement (session=\"a60a0e9fdec974ee1aae8fb8e22be9d1\", element=\"de8b7673-4976-497e-92a0-a5870e452621\")>,\n",
       " <selenium.webdriver.remote.webelement.WebElement (session=\"a60a0e9fdec974ee1aae8fb8e22be9d1\", element=\"8f887e9f-3ae9-46f2-9d76-d784ccee6516\")>,\n",
       " <selenium.webdriver.remote.webelement.WebElement (session=\"a60a0e9fdec974ee1aae8fb8e22be9d1\", element=\"90299993-87bc-4850-af02-ff1caee8a2ec\")>,\n",
       " <selenium.webdriver.remote.webelement.WebElement (session=\"a60a0e9fdec974ee1aae8fb8e22be9d1\", element=\"a6db84b8-d548-4fcc-b807-d804788c8c5b\")>,\n",
       " <selenium.webdriver.remote.webelement.WebElement (session=\"a60a0e9fdec974ee1aae8fb8e22be9d1\", element=\"50bc6887-f8b7-4fad-991a-c73d6b4701ef\")>,\n",
       " <selenium.webdriver.remote.webelement.WebElement (session=\"a60a0e9fdec974ee1aae8fb8e22be9d1\", element=\"f30eedc2-5d5f-4c17-9052-390723f485a5\")>,\n",
       " <selenium.webdriver.remote.webelement.WebElement (session=\"a60a0e9fdec974ee1aae8fb8e22be9d1\", element=\"b8d338e6-1056-4713-b7fa-8289dfb88e81\")>,\n",
       " <selenium.webdriver.remote.webelement.WebElement (session=\"a60a0e9fdec974ee1aae8fb8e22be9d1\", element=\"62d4e747-a920-42b6-947b-9b5b15b1a66e\")>,\n",
       " <selenium.webdriver.remote.webelement.WebElement (session=\"a60a0e9fdec974ee1aae8fb8e22be9d1\", element=\"ade7825a-8505-4214-8a91-da39c1f219af\")>,\n",
       " <selenium.webdriver.remote.webelement.WebElement (session=\"a60a0e9fdec974ee1aae8fb8e22be9d1\", element=\"c2c625ba-9e33-4cec-b62c-d3db1e6a65c3\")>,\n",
       " <selenium.webdriver.remote.webelement.WebElement (session=\"a60a0e9fdec974ee1aae8fb8e22be9d1\", element=\"72a28ddf-3895-48e3-bb72-71e2bdfcc5e7\")>,\n",
       " <selenium.webdriver.remote.webelement.WebElement (session=\"a60a0e9fdec974ee1aae8fb8e22be9d1\", element=\"f65b8c3e-7614-46fa-84d1-808668a09b36\")>,\n",
       " <selenium.webdriver.remote.webelement.WebElement (session=\"a60a0e9fdec974ee1aae8fb8e22be9d1\", element=\"86db7568-0b79-4953-93ee-071211b6fd1c\")>,\n",
       " <selenium.webdriver.remote.webelement.WebElement (session=\"a60a0e9fdec974ee1aae8fb8e22be9d1\", element=\"3553fc7d-de72-415a-9fa9-1f1e56dd1c4a\")>,\n",
       " <selenium.webdriver.remote.webelement.WebElement (session=\"a60a0e9fdec974ee1aae8fb8e22be9d1\", element=\"da6a0ee3-a2de-4497-aee4-6d66acecad60\")>,\n",
       " <selenium.webdriver.remote.webelement.WebElement (session=\"a60a0e9fdec974ee1aae8fb8e22be9d1\", element=\"2dc97610-2212-41c4-a57b-73548bb73e8a\")>,\n",
       " <selenium.webdriver.remote.webelement.WebElement (session=\"a60a0e9fdec974ee1aae8fb8e22be9d1\", element=\"5f678506-8590-46ab-9571-543d04750a04\")>,\n",
       " <selenium.webdriver.remote.webelement.WebElement (session=\"a60a0e9fdec974ee1aae8fb8e22be9d1\", element=\"dc8ee24e-7118-486d-b997-e292e3ff3531\")>,\n",
       " <selenium.webdriver.remote.webelement.WebElement (session=\"a60a0e9fdec974ee1aae8fb8e22be9d1\", element=\"a4bd911f-0249-4038-a1bd-673dd04b13f5\")>,\n",
       " <selenium.webdriver.remote.webelement.WebElement (session=\"a60a0e9fdec974ee1aae8fb8e22be9d1\", element=\"8a4bb2cc-13bc-4340-a381-cd68b4e5bd9b\")>,\n",
       " <selenium.webdriver.remote.webelement.WebElement (session=\"a60a0e9fdec974ee1aae8fb8e22be9d1\", element=\"71d64a9a-0d1d-4431-b339-db8dc39bc352\")>,\n",
       " <selenium.webdriver.remote.webelement.WebElement (session=\"a60a0e9fdec974ee1aae8fb8e22be9d1\", element=\"6590f3a8-9668-4890-bef6-194df6749bc0\")>,\n",
       " <selenium.webdriver.remote.webelement.WebElement (session=\"a60a0e9fdec974ee1aae8fb8e22be9d1\", element=\"19bcb5b6-76fb-40ee-aae3-2d2323c5e5b7\")>,\n",
       " <selenium.webdriver.remote.webelement.WebElement (session=\"a60a0e9fdec974ee1aae8fb8e22be9d1\", element=\"b12955be-a5d5-40e5-88ff-1cad9f99eb52\")>,\n",
       " <selenium.webdriver.remote.webelement.WebElement (session=\"a60a0e9fdec974ee1aae8fb8e22be9d1\", element=\"6451438a-1b17-44f9-b511-c1f5b0644fdf\")>,\n",
       " <selenium.webdriver.remote.webelement.WebElement (session=\"a60a0e9fdec974ee1aae8fb8e22be9d1\", element=\"0401ad13-0388-4f11-bba6-b6a283b254b2\")>,\n",
       " <selenium.webdriver.remote.webelement.WebElement (session=\"a60a0e9fdec974ee1aae8fb8e22be9d1\", element=\"c6107666-64ae-4727-b133-2079e6e3db6f\")>,\n",
       " <selenium.webdriver.remote.webelement.WebElement (session=\"a60a0e9fdec974ee1aae8fb8e22be9d1\", element=\"75019990-53c9-47a3-bb48-08742d0d90d1\")>,\n",
       " <selenium.webdriver.remote.webelement.WebElement (session=\"a60a0e9fdec974ee1aae8fb8e22be9d1\", element=\"ed99f522-7985-471a-b248-c9d71d130851\")>,\n",
       " <selenium.webdriver.remote.webelement.WebElement (session=\"a60a0e9fdec974ee1aae8fb8e22be9d1\", element=\"c3d51e33-7d2c-41a5-983d-3658e1bfc500\")>,\n",
       " <selenium.webdriver.remote.webelement.WebElement (session=\"a60a0e9fdec974ee1aae8fb8e22be9d1\", element=\"eb00e656-7f39-471c-9594-6a0ceee7fc19\")>,\n",
       " <selenium.webdriver.remote.webelement.WebElement (session=\"a60a0e9fdec974ee1aae8fb8e22be9d1\", element=\"44f50793-a267-4a6a-8991-b88b5bf9ed32\")>,\n",
       " <selenium.webdriver.remote.webelement.WebElement (session=\"a60a0e9fdec974ee1aae8fb8e22be9d1\", element=\"a44ba841-783d-40af-a286-93e2498cbd4c\")>,\n",
       " <selenium.webdriver.remote.webelement.WebElement (session=\"a60a0e9fdec974ee1aae8fb8e22be9d1\", element=\"428827aa-db0b-4b18-b7d6-6cf6339853d0\")>,\n",
       " <selenium.webdriver.remote.webelement.WebElement (session=\"a60a0e9fdec974ee1aae8fb8e22be9d1\", element=\"06f16a3f-9a43-43af-84cf-c664635f1021\")>,\n",
       " <selenium.webdriver.remote.webelement.WebElement (session=\"a60a0e9fdec974ee1aae8fb8e22be9d1\", element=\"454d674c-8e4c-4c83-bf3e-72f83260448e\")>,\n",
       " <selenium.webdriver.remote.webelement.WebElement (session=\"a60a0e9fdec974ee1aae8fb8e22be9d1\", element=\"0627964b-8ba9-4882-bada-0e551398e471\")>,\n",
       " <selenium.webdriver.remote.webelement.WebElement (session=\"a60a0e9fdec974ee1aae8fb8e22be9d1\", element=\"ecf0ab08-74af-4b0e-ac6c-300d82b55dce\")>,\n",
       " <selenium.webdriver.remote.webelement.WebElement (session=\"a60a0e9fdec974ee1aae8fb8e22be9d1\", element=\"05c1edb9-6537-4b41-a7ac-e729a7b6b866\")>,\n",
       " <selenium.webdriver.remote.webelement.WebElement (session=\"a60a0e9fdec974ee1aae8fb8e22be9d1\", element=\"eebc9f09-7997-4c30-8b22-54a36f7a1ae7\")>,\n",
       " <selenium.webdriver.remote.webelement.WebElement (session=\"a60a0e9fdec974ee1aae8fb8e22be9d1\", element=\"8f6ae047-5144-49b2-ba44-81f594b8a30a\")>,\n",
       " <selenium.webdriver.remote.webelement.WebElement (session=\"a60a0e9fdec974ee1aae8fb8e22be9d1\", element=\"2846873f-a89b-45ad-ae3a-93473219edfe\")>,\n",
       " <selenium.webdriver.remote.webelement.WebElement (session=\"a60a0e9fdec974ee1aae8fb8e22be9d1\", element=\"9755c41a-5e52-47b9-9ce3-083fa3b6a06d\")>,\n",
       " <selenium.webdriver.remote.webelement.WebElement (session=\"a60a0e9fdec974ee1aae8fb8e22be9d1\", element=\"9b8c6c6e-2e92-4df9-a72d-a771c72bd0b2\")>,\n",
       " <selenium.webdriver.remote.webelement.WebElement (session=\"a60a0e9fdec974ee1aae8fb8e22be9d1\", element=\"6a4dfbdf-8558-44e0-9034-bdad5418a3ea\")>,\n",
       " <selenium.webdriver.remote.webelement.WebElement (session=\"a60a0e9fdec974ee1aae8fb8e22be9d1\", element=\"527a0294-83e2-4eee-9eae-cf520a5f500a\")>,\n",
       " <selenium.webdriver.remote.webelement.WebElement (session=\"a60a0e9fdec974ee1aae8fb8e22be9d1\", element=\"23ba6ce0-58af-4550-8d87-fcecbd15685f\")>,\n",
       " <selenium.webdriver.remote.webelement.WebElement (session=\"a60a0e9fdec974ee1aae8fb8e22be9d1\", element=\"42f7d0a8-d1e4-481b-a2e8-cf6b5265b03b\")>,\n",
       " <selenium.webdriver.remote.webelement.WebElement (session=\"a60a0e9fdec974ee1aae8fb8e22be9d1\", element=\"e074aa16-0ecb-412a-b147-c3ae7aab3b2b\")>,\n",
       " <selenium.webdriver.remote.webelement.WebElement (session=\"a60a0e9fdec974ee1aae8fb8e22be9d1\", element=\"2557dbba-8c37-454f-a5bb-1334e49c1c3b\")>,\n",
       " <selenium.webdriver.remote.webelement.WebElement (session=\"a60a0e9fdec974ee1aae8fb8e22be9d1\", element=\"7e68eb33-9a46-4206-bf19-427d9e0eab3a\")>,\n",
       " <selenium.webdriver.remote.webelement.WebElement (session=\"a60a0e9fdec974ee1aae8fb8e22be9d1\", element=\"8720fed1-237e-42b4-a8f5-0458104f953c\")>,\n",
       " <selenium.webdriver.remote.webelement.WebElement (session=\"a60a0e9fdec974ee1aae8fb8e22be9d1\", element=\"76178aa3-b799-4f18-921a-716c2533213a\")>,\n",
       " <selenium.webdriver.remote.webelement.WebElement (session=\"a60a0e9fdec974ee1aae8fb8e22be9d1\", element=\"626c3ee1-c115-47d7-8b04-131dce0b3704\")>,\n",
       " <selenium.webdriver.remote.webelement.WebElement (session=\"a60a0e9fdec974ee1aae8fb8e22be9d1\", element=\"ef768098-a15b-4c0b-984f-ea930d97a792\")>,\n",
       " <selenium.webdriver.remote.webelement.WebElement (session=\"a60a0e9fdec974ee1aae8fb8e22be9d1\", element=\"400cb117-8e32-45fe-8f0f-7421add0da8e\")>,\n",
       " <selenium.webdriver.remote.webelement.WebElement (session=\"a60a0e9fdec974ee1aae8fb8e22be9d1\", element=\"d410edb8-1a3c-4c10-a0ff-6fc609de2960\")>,\n",
       " <selenium.webdriver.remote.webelement.WebElement (session=\"a60a0e9fdec974ee1aae8fb8e22be9d1\", element=\"bef3b8ee-6615-498c-a348-7480fc250924\")>,\n",
       " <selenium.webdriver.remote.webelement.WebElement (session=\"a60a0e9fdec974ee1aae8fb8e22be9d1\", element=\"052316ae-dc8a-47f2-86b8-03e406cdd2c4\")>,\n",
       " <selenium.webdriver.remote.webelement.WebElement (session=\"a60a0e9fdec974ee1aae8fb8e22be9d1\", element=\"bddc1694-f9e3-49d9-93e3-8a68e4a20cb5\")>,\n",
       " <selenium.webdriver.remote.webelement.WebElement (session=\"a60a0e9fdec974ee1aae8fb8e22be9d1\", element=\"63833a65-7607-4294-8416-c5ed5a0d8da8\")>,\n",
       " <selenium.webdriver.remote.webelement.WebElement (session=\"a60a0e9fdec974ee1aae8fb8e22be9d1\", element=\"2db01031-f629-4578-add1-c626243d10df\")>,\n",
       " <selenium.webdriver.remote.webelement.WebElement (session=\"a60a0e9fdec974ee1aae8fb8e22be9d1\", element=\"281c1c27-66f2-4d22-9bc3-2ef928fb3b4b\")>,\n",
       " <selenium.webdriver.remote.webelement.WebElement (session=\"a60a0e9fdec974ee1aae8fb8e22be9d1\", element=\"d57a6b4e-ae8e-4f8c-bbd9-8af5e2c81658\")>,\n",
       " <selenium.webdriver.remote.webelement.WebElement (session=\"a60a0e9fdec974ee1aae8fb8e22be9d1\", element=\"ab60b155-c8b5-42c9-a492-be7473ae4e31\")>,\n",
       " <selenium.webdriver.remote.webelement.WebElement (session=\"a60a0e9fdec974ee1aae8fb8e22be9d1\", element=\"eb6a19f8-5a48-4904-aeff-ae01fff9391d\")>,\n",
       " <selenium.webdriver.remote.webelement.WebElement (session=\"a60a0e9fdec974ee1aae8fb8e22be9d1\", element=\"a57fdb07-8d86-4916-989c-bc43ceecd4ea\")>,\n",
       " <selenium.webdriver.remote.webelement.WebElement (session=\"a60a0e9fdec974ee1aae8fb8e22be9d1\", element=\"e1c6a9fb-9d2a-44d5-b013-c4a4facecffc\")>,\n",
       " <selenium.webdriver.remote.webelement.WebElement (session=\"a60a0e9fdec974ee1aae8fb8e22be9d1\", element=\"e0db07a3-dfa0-420b-b10c-01c52c5d2041\")>,\n",
       " <selenium.webdriver.remote.webelement.WebElement (session=\"a60a0e9fdec974ee1aae8fb8e22be9d1\", element=\"1eae6721-ae28-4d47-8e45-83849151e0ca\")>,\n",
       " <selenium.webdriver.remote.webelement.WebElement (session=\"a60a0e9fdec974ee1aae8fb8e22be9d1\", element=\"ccdc0a93-0dad-4fae-8675-9161711de734\")>,\n",
       " <selenium.webdriver.remote.webelement.WebElement (session=\"a60a0e9fdec974ee1aae8fb8e22be9d1\", element=\"20c173a8-0f81-4709-b7f8-fa70a1a1b591\")>,\n",
       " <selenium.webdriver.remote.webelement.WebElement (session=\"a60a0e9fdec974ee1aae8fb8e22be9d1\", element=\"01daa64a-e9de-4ecc-922f-f1dd47b5aadc\")>,\n",
       " <selenium.webdriver.remote.webelement.WebElement (session=\"a60a0e9fdec974ee1aae8fb8e22be9d1\", element=\"70c5ec42-cd68-47b5-aa3a-10503fc2e440\")>,\n",
       " <selenium.webdriver.remote.webelement.WebElement (session=\"a60a0e9fdec974ee1aae8fb8e22be9d1\", element=\"6af598ab-24c2-49b1-8ca4-45f5413b8369\")>,\n",
       " <selenium.webdriver.remote.webelement.WebElement (session=\"a60a0e9fdec974ee1aae8fb8e22be9d1\", element=\"e6d50a93-4e56-469c-8c39-73a07ac929fa\")>,\n",
       " <selenium.webdriver.remote.webelement.WebElement (session=\"a60a0e9fdec974ee1aae8fb8e22be9d1\", element=\"8bd56e01-5a13-4259-9ed4-1da68c04a172\")>,\n",
       " <selenium.webdriver.remote.webelement.WebElement (session=\"a60a0e9fdec974ee1aae8fb8e22be9d1\", element=\"271827f1-0f6d-4f52-8384-d81f70b3ac3e\")>,\n",
       " <selenium.webdriver.remote.webelement.WebElement (session=\"a60a0e9fdec974ee1aae8fb8e22be9d1\", element=\"c537aebf-f364-4a74-a703-5c72334250e5\")>,\n",
       " <selenium.webdriver.remote.webelement.WebElement (session=\"a60a0e9fdec974ee1aae8fb8e22be9d1\", element=\"de8c4ad7-00dc-4fce-91cd-1ebec58aafd2\")>,\n",
       " <selenium.webdriver.remote.webelement.WebElement (session=\"a60a0e9fdec974ee1aae8fb8e22be9d1\", element=\"9ebb4a2c-952c-4dbd-be51-ad2ae7bc3e89\")>,\n",
       " <selenium.webdriver.remote.webelement.WebElement (session=\"a60a0e9fdec974ee1aae8fb8e22be9d1\", element=\"d532b16c-ab18-4c92-ac1e-8e85966078fb\")>,\n",
       " <selenium.webdriver.remote.webelement.WebElement (session=\"a60a0e9fdec974ee1aae8fb8e22be9d1\", element=\"58acaff8-248b-4ac0-ba55-382999d6734a\")>,\n",
       " <selenium.webdriver.remote.webelement.WebElement (session=\"a60a0e9fdec974ee1aae8fb8e22be9d1\", element=\"c6df94cd-f5ed-483a-8199-36a1bb9350da\")>,\n",
       " <selenium.webdriver.remote.webelement.WebElement (session=\"a60a0e9fdec974ee1aae8fb8e22be9d1\", element=\"f984e7c9-50a5-4c37-9119-dba2a362e84a\")>,\n",
       " <selenium.webdriver.remote.webelement.WebElement (session=\"a60a0e9fdec974ee1aae8fb8e22be9d1\", element=\"d0abf6c6-726f-4e17-a861-a16b8362a185\")>,\n",
       " <selenium.webdriver.remote.webelement.WebElement (session=\"a60a0e9fdec974ee1aae8fb8e22be9d1\", element=\"e52068ff-6da6-41d9-bc48-e9a28462af79\")>,\n",
       " <selenium.webdriver.remote.webelement.WebElement (session=\"a60a0e9fdec974ee1aae8fb8e22be9d1\", element=\"69023524-5a83-49f9-a3e8-86b7dc17fe4a\")>,\n",
       " <selenium.webdriver.remote.webelement.WebElement (session=\"a60a0e9fdec974ee1aae8fb8e22be9d1\", element=\"df7918d0-be03-48d3-b90e-6c0a5435e67e\")>]"
      ]
     },
     "execution_count": 12,
     "metadata": {},
     "output_type": "execute_result"
    }
   ],
   "source": [
    "line4=browser.find_elements(\"xpath\",\"//div[@class='td-wrap-in']\")\n",
    "line4"
   ]
  },
  {
   "cell_type": "code",
   "execution_count": 13,
   "id": "46611137",
   "metadata": {},
   "outputs": [
    {
     "data": {
      "text/plain": [
       "['93.6', '98.6', '91.3', '99.2', '74.2', '98', '100', '96.2', '91.1']"
      ]
     },
     "execution_count": 13,
     "metadata": {},
     "output_type": "execute_result"
    }
   ],
   "source": [
    "#PARSING DATA\n",
    "value=[]\n",
    "for data in line4:\n",
    "    #get the text data\n",
    "    temp=data.text\n",
    "    value.append(temp)\n",
    "value_h=value[81:90]\n",
    "value_h"
   ]
  },
  {
   "cell_type": "code",
   "execution_count": 14,
   "id": "0d06a663",
   "metadata": {},
   "outputs": [
    {
     "data": {
      "text/plain": [
       "{'Name': 'ETH Zurich',\n",
       " 'Location': 'Zürich, Switzerland',\n",
       " 'Rank': '9',\n",
       " 'Overall Score': '93.6',\n",
       " 'Academic Reputation': '98.6',\n",
       " 'Employer Reputation': '91.3',\n",
       " 'Citations per Faculty': '99.2',\n",
       " 'Faculty Student Ratio': '74.2',\n",
       " 'International Students Ratio': '98',\n",
       " 'International Faculty Ratio': '100',\n",
       " 'International Research Network\\nUnweighted': '96.2',\n",
       " 'Employment Outcomes\\nUnweighted': '91.1'}"
      ]
     },
     "execution_count": 14,
     "metadata": {},
     "output_type": "execute_result"
    }
   ],
   "source": [
    "d={}\n",
    "d['Name']=value[80]\n",
    "d['Location']=address[8]\n",
    "d['Rank']=Rank[8]\n",
    "for i in range(len(column)):\n",
    "    d[column[i]]=value_h[i]\n",
    "d"
   ]
  },
  {
   "cell_type": "code",
   "execution_count": 15,
   "id": "cbd864e9",
   "metadata": {},
   "outputs": [
    {
     "data": {
      "text/plain": [
       "'{\"Name\": \"ETH Zurich\", \"Location\": \"Z\\\\u00fcrich, Switzerland\", \"Rank\": \"9\", \"Overall Score\": \"93.6\", \"Academic Reputation\": \"98.6\", \"Employer Reputation\": \"91.3\", \"Citations per Faculty\": \"99.2\", \"Faculty Student Ratio\": \"74.2\", \"International Students Ratio\": \"98\", \"International Faculty Ratio\": \"100\", \"International Research Network\\\\nUnweighted\": \"96.2\", \"Employment Outcomes\\\\nUnweighted\": \"91.1\"}'"
      ]
     },
     "execution_count": 15,
     "metadata": {},
     "output_type": "execute_result"
    }
   ],
   "source": [
    "\n",
    "s1=json.dumps(d)\n",
    "s1\n"
   ]
  },
  {
   "cell_type": "code",
   "execution_count": 16,
   "id": "7d9723c4",
   "metadata": {},
   "outputs": [],
   "source": [
    "\n",
    "with open('ETH Zurich.json','w') as f:\n",
    "    json.dump(d,f)\n"
   ]
  },
  {
   "cell_type": "code",
   "execution_count": null,
   "id": "39c530b8",
   "metadata": {},
   "outputs": [],
   "source": []
  }
 ],
 "metadata": {
  "kernelspec": {
   "display_name": "Python 3.9.12 ('base')",
   "language": "python",
   "name": "python3"
  },
  "language_info": {
   "codemirror_mode": {
    "name": "ipython",
    "version": 3
   },
   "file_extension": ".py",
   "mimetype": "text/x-python",
   "name": "python",
   "nbconvert_exporter": "python",
   "pygments_lexer": "ipython3",
   "version": "3.9.12"
  },
  "vscode": {
   "interpreter": {
    "hash": "ad2bdc8ecc057115af97d19610ffacc2b4e99fae6737bb82f5d7fb13d2f2c186"
   }
  }
 },
 "nbformat": 4,
 "nbformat_minor": 5
}
