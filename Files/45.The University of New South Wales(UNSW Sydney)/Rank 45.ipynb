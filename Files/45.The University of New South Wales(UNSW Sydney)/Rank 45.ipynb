{
 "cells": [
  {
   "cell_type": "code",
   "execution_count": 1,
   "id": "3edf59fe",
   "metadata": {},
   "outputs": [],
   "source": [
    "from selenium import webdriver\n",
    "from selenium.webdriver.chrome.service import Service\n",
    "import pandas as pd\n",
    "import json"
   ]
  },
  {
   "cell_type": "code",
   "execution_count": 2,
   "id": "0e1b96b3",
   "metadata": {},
   "outputs": [],
   "source": [
    "path = Service('C:\\chromedriver.exe')"
   ]
  },
  {
   "cell_type": "code",
   "execution_count": 3,
   "id": "8ed24c4a",
   "metadata": {},
   "outputs": [],
   "source": [
    "\n",
    "# set path for the driver\n",
    "browser = webdriver.Chrome(service = path)"
   ]
  },
  {
   "cell_type": "code",
   "execution_count": 4,
   "id": "5db255fb",
   "metadata": {},
   "outputs": [],
   "source": [
    "url = \"https://www.topuniversities.com/university-rankings/world-university-rankings/2023\""
   ]
  },
  {
   "cell_type": "code",
   "execution_count": 5,
   "id": "ced65a30",
   "metadata": {},
   "outputs": [],
   "source": [
    "\n",
    "# open the page url ion chrome\n",
    "browser.get(url)\n"
   ]
  },
  {
   "cell_type": "code",
   "execution_count": 9,
   "id": "cfb2c0c7",
   "metadata": {},
   "outputs": [
    {
     "data": {
      "text/plain": [
       "[<selenium.webdriver.remote.webelement.WebElement (session=\"286551dba750ba32934dc8e00aca3f46\", element=\"b87e9b8a-e5d1-4137-ad14-d760be90e63f\")>,\n",
       " <selenium.webdriver.remote.webelement.WebElement (session=\"286551dba750ba32934dc8e00aca3f46\", element=\"78da9bb4-bda3-453c-9b3f-7ee00c2198a8\")>,\n",
       " <selenium.webdriver.remote.webelement.WebElement (session=\"286551dba750ba32934dc8e00aca3f46\", element=\"f8e514f2-f209-4e5a-9a47-2bc3cd1a77d0\")>,\n",
       " <selenium.webdriver.remote.webelement.WebElement (session=\"286551dba750ba32934dc8e00aca3f46\", element=\"6aff4119-eec4-4a86-8e24-164f7daa72e9\")>,\n",
       " <selenium.webdriver.remote.webelement.WebElement (session=\"286551dba750ba32934dc8e00aca3f46\", element=\"ce9aab96-8f8c-4fde-8118-77f0fed6fda4\")>,\n",
       " <selenium.webdriver.remote.webelement.WebElement (session=\"286551dba750ba32934dc8e00aca3f46\", element=\"54638482-27d5-43a2-be01-196923688e7d\")>,\n",
       " <selenium.webdriver.remote.webelement.WebElement (session=\"286551dba750ba32934dc8e00aca3f46\", element=\"3e2841fb-2fc7-41c1-9f21-4564cf8a3905\")>,\n",
       " <selenium.webdriver.remote.webelement.WebElement (session=\"286551dba750ba32934dc8e00aca3f46\", element=\"67d31f04-dbfd-4662-a83f-ba60463a3cc2\")>,\n",
       " <selenium.webdriver.remote.webelement.WebElement (session=\"286551dba750ba32934dc8e00aca3f46\", element=\"59db5630-8328-4845-b4f4-398727ef0142\")>,\n",
       " <selenium.webdriver.remote.webelement.WebElement (session=\"286551dba750ba32934dc8e00aca3f46\", element=\"40b4d79c-5960-47b6-978f-848a28606752\")>,\n",
       " <selenium.webdriver.remote.webelement.WebElement (session=\"286551dba750ba32934dc8e00aca3f46\", element=\"898582e2-f665-44cb-91f9-13330249a276\")>,\n",
       " <selenium.webdriver.remote.webelement.WebElement (session=\"286551dba750ba32934dc8e00aca3f46\", element=\"f8d4e1ae-564d-437e-aac9-703cc94db6bf\")>,\n",
       " <selenium.webdriver.remote.webelement.WebElement (session=\"286551dba750ba32934dc8e00aca3f46\", element=\"6ca1fe6d-dc11-4224-ad78-756dc8bff366\")>,\n",
       " <selenium.webdriver.remote.webelement.WebElement (session=\"286551dba750ba32934dc8e00aca3f46\", element=\"0af4091b-10c7-45c3-90fc-fbf59d08398b\")>,\n",
       " <selenium.webdriver.remote.webelement.WebElement (session=\"286551dba750ba32934dc8e00aca3f46\", element=\"f86b6c7f-3b70-472c-af5c-b04d8e5722f8\")>,\n",
       " <selenium.webdriver.remote.webelement.WebElement (session=\"286551dba750ba32934dc8e00aca3f46\", element=\"3d2b3aa8-532f-4907-b0a3-e8a97a97edf4\")>,\n",
       " <selenium.webdriver.remote.webelement.WebElement (session=\"286551dba750ba32934dc8e00aca3f46\", element=\"945680c0-f101-49c7-a4fa-d980a7a126e3\")>,\n",
       " <selenium.webdriver.remote.webelement.WebElement (session=\"286551dba750ba32934dc8e00aca3f46\", element=\"63a564be-a074-497f-be7e-00e427915a43\")>,\n",
       " <selenium.webdriver.remote.webelement.WebElement (session=\"286551dba750ba32934dc8e00aca3f46\", element=\"dd2101ee-bbaa-4406-a9b6-74fa7c721a38\")>,\n",
       " <selenium.webdriver.remote.webelement.WebElement (session=\"286551dba750ba32934dc8e00aca3f46\", element=\"1b5548c8-7096-48d9-83be-c6decb7e0a33\")>]"
      ]
     },
     "execution_count": 9,
     "metadata": {},
     "output_type": "execute_result"
    }
   ],
   "source": [
    "line1=browser.find_elements(\"xpath\",\"//div[@class='location ']\")\n",
    "line1"
   ]
  },
  {
   "cell_type": "code",
   "execution_count": 10,
   "id": "b16c0384",
   "metadata": {},
   "outputs": [
    {
     "data": {
      "text/plain": [
       "['Sydney, Australia',\n",
       " 'Daejeon, South Korea',\n",
       " 'Hangzhou, China (Mainland)',\n",
       " 'Los Angeles, United States',\n",
       " 'Sydney, Australia',\n",
       " 'Shanghai, China (Mainland)',\n",
       " 'Vancouver, Canada',\n",
       " 'Palaiseau Cedex, France',\n",
       " 'Munich, Germany',\n",
       " 'Durham, United States']"
      ]
     },
     "execution_count": 10,
     "metadata": {},
     "output_type": "execute_result"
    }
   ],
   "source": [
    "address=[]\n",
    "for data in line1:\n",
    "    #get the text data\n",
    "    temp=data.text\n",
    "    address.append(temp)\n",
    "address=address[10:]\n",
    "address"
   ]
  },
  {
   "cell_type": "code",
   "execution_count": 11,
   "metadata": {},
   "outputs": [
    {
     "data": {
      "text/plain": [
       "[<selenium.webdriver.remote.webelement.WebElement (session=\"286551dba750ba32934dc8e00aca3f46\", element=\"9af81945-f5a8-4b22-aa3e-d68e55ea88b7\")>,\n",
       " <selenium.webdriver.remote.webelement.WebElement (session=\"286551dba750ba32934dc8e00aca3f46\", element=\"30c36516-e597-4a2a-a797-f4e62149c137\")>,\n",
       " <selenium.webdriver.remote.webelement.WebElement (session=\"286551dba750ba32934dc8e00aca3f46\", element=\"b14792bd-ec93-4d3d-b0cf-cb1e4c2aa193\")>,\n",
       " <selenium.webdriver.remote.webelement.WebElement (session=\"286551dba750ba32934dc8e00aca3f46\", element=\"6189e505-cf71-4e6b-bfed-7b155c10a6a2\")>,\n",
       " <selenium.webdriver.remote.webelement.WebElement (session=\"286551dba750ba32934dc8e00aca3f46\", element=\"2566dce0-61de-4981-8394-231d59c00c63\")>,\n",
       " <selenium.webdriver.remote.webelement.WebElement (session=\"286551dba750ba32934dc8e00aca3f46\", element=\"12d6040e-8283-4672-b76c-f9c28a08bef3\")>,\n",
       " <selenium.webdriver.remote.webelement.WebElement (session=\"286551dba750ba32934dc8e00aca3f46\", element=\"441d3447-213a-4a12-b933-908db040ff0f\")>,\n",
       " <selenium.webdriver.remote.webelement.WebElement (session=\"286551dba750ba32934dc8e00aca3f46\", element=\"b4eddad8-fcd2-4ee6-9183-e29a23471ca8\")>,\n",
       " <selenium.webdriver.remote.webelement.WebElement (session=\"286551dba750ba32934dc8e00aca3f46\", element=\"beb46dd8-5f16-4bfc-9883-ce3108a23798\")>,\n",
       " <selenium.webdriver.remote.webelement.WebElement (session=\"286551dba750ba32934dc8e00aca3f46\", element=\"bbbbea9f-5352-4426-800d-6a2ebc860ea7\")>]"
      ]
     },
     "execution_count": 11,
     "metadata": {},
     "output_type": "execute_result"
    }
   ],
   "source": [
    "\n",
    "line2=browser.find_elements(\"xpath\",\"//div[@class='_univ-rank ']\")\n",
    "line2"
   ]
  },
  {
   "cell_type": "code",
   "execution_count": 12,
   "id": "c61fb28b",
   "metadata": {},
   "outputs": [
    {
     "data": {
      "text/plain": [
       "['41', '=42', '=42', '44', '45', '46', '47', '48', '49', '=50']"
      ]
     },
     "execution_count": 12,
     "metadata": {},
     "output_type": "execute_result"
    }
   ],
   "source": [
    "Rank=[]\n",
    "for data in line2:\n",
    "    #get the text data\n",
    "    temp=data.text\n",
    "    Rank.append(temp)\n",
    "Rank"
   ]
  },
  {
   "cell_type": "code",
   "execution_count": 13,
   "id": "dafaa206",
   "metadata": {},
   "outputs": [
    {
     "data": {
      "text/plain": [
       "[<selenium.webdriver.remote.webelement.WebElement (session=\"286551dba750ba32934dc8e00aca3f46\", element=\"147881fb-ec2c-42e5-ad97-d76816e29356\")>,\n",
       " <selenium.webdriver.remote.webelement.WebElement (session=\"286551dba750ba32934dc8e00aca3f46\", element=\"206408b1-3e9e-4173-90de-acdc5d0cf67d\")>,\n",
       " <selenium.webdriver.remote.webelement.WebElement (session=\"286551dba750ba32934dc8e00aca3f46\", element=\"db7e3ddb-40f5-4a7d-9bf7-4615e54312bf\")>,\n",
       " <selenium.webdriver.remote.webelement.WebElement (session=\"286551dba750ba32934dc8e00aca3f46\", element=\"2c66ab28-624f-4efb-876b-e4d63c1b1656\")>,\n",
       " <selenium.webdriver.remote.webelement.WebElement (session=\"286551dba750ba32934dc8e00aca3f46\", element=\"d69542c5-0988-41a0-b832-441e4a046b18\")>,\n",
       " <selenium.webdriver.remote.webelement.WebElement (session=\"286551dba750ba32934dc8e00aca3f46\", element=\"fc4a06bb-d864-4b29-bb36-bdfdc834c059\")>,\n",
       " <selenium.webdriver.remote.webelement.WebElement (session=\"286551dba750ba32934dc8e00aca3f46\", element=\"cd28b555-ea36-4f94-9c11-ace26dfb2733\")>,\n",
       " <selenium.webdriver.remote.webelement.WebElement (session=\"286551dba750ba32934dc8e00aca3f46\", element=\"9086c05d-a6ff-4dfe-8e3a-6c661081ac8c\")>,\n",
       " <selenium.webdriver.remote.webelement.WebElement (session=\"286551dba750ba32934dc8e00aca3f46\", element=\"0dd6dbe5-f901-480f-88d9-b7b1e5cfc32f\")>]"
      ]
     },
     "execution_count": 13,
     "metadata": {},
     "output_type": "execute_result"
    }
   ],
   "source": [
    "# GET EACH COLLEGE SPECIFICATION HEADERS\n",
    "line3=browser.find_elements(\"xpath\",\"//div[@class='_click-function_ind']\")\n",
    "line3"
   ]
  },
  {
   "cell_type": "code",
   "execution_count": 14,
   "id": "4dfd147e",
   "metadata": {},
   "outputs": [
    {
     "data": {
      "text/plain": [
       "['Overall Score',\n",
       " 'Academic Reputation',\n",
       " 'Employer Reputation',\n",
       " 'Citations per Faculty',\n",
       " 'Faculty Student Ratio',\n",
       " 'International Students Ratio',\n",
       " 'International Faculty Ratio',\n",
       " 'International Research Network\\nUnweighted',\n",
       " 'Employment Outcomes\\nUnweighted']"
      ]
     },
     "execution_count": 14,
     "metadata": {},
     "output_type": "execute_result"
    }
   ],
   "source": [
    "#PARSING DATA\n",
    "column=[]\n",
    "for data in line3:\n",
    "    #get the text data\n",
    "    temp=data.text\n",
    "    column.append(temp)\n",
    "column"
   ]
  },
  {
   "cell_type": "code",
   "execution_count": 15,
   "id": "cde3866d",
   "metadata": {},
   "outputs": [
    {
     "data": {
      "text/plain": [
       "[<selenium.webdriver.remote.webelement.WebElement (session=\"286551dba750ba32934dc8e00aca3f46\", element=\"01da66ad-20da-48b6-862d-5d80dce77cf0\")>,\n",
       " <selenium.webdriver.remote.webelement.WebElement (session=\"286551dba750ba32934dc8e00aca3f46\", element=\"8c31aebd-ecfa-49d4-83fb-f38eeceae5d1\")>,\n",
       " <selenium.webdriver.remote.webelement.WebElement (session=\"286551dba750ba32934dc8e00aca3f46\", element=\"e3f9528c-8de6-4b72-8ebb-16457e0f20be\")>,\n",
       " <selenium.webdriver.remote.webelement.WebElement (session=\"286551dba750ba32934dc8e00aca3f46\", element=\"e1135c58-065c-483f-a50f-a48f3984a538\")>,\n",
       " <selenium.webdriver.remote.webelement.WebElement (session=\"286551dba750ba32934dc8e00aca3f46\", element=\"73fa910e-a73a-4471-9ab3-6b54d0025f9f\")>,\n",
       " <selenium.webdriver.remote.webelement.WebElement (session=\"286551dba750ba32934dc8e00aca3f46\", element=\"8f66ce95-83f6-4f1b-a77f-612ce0ada899\")>,\n",
       " <selenium.webdriver.remote.webelement.WebElement (session=\"286551dba750ba32934dc8e00aca3f46\", element=\"d3ba1168-dc83-4dcd-9e89-f3a336020f13\")>,\n",
       " <selenium.webdriver.remote.webelement.WebElement (session=\"286551dba750ba32934dc8e00aca3f46\", element=\"528ce411-74d4-4fb0-8602-6394b5bb4b8c\")>,\n",
       " <selenium.webdriver.remote.webelement.WebElement (session=\"286551dba750ba32934dc8e00aca3f46\", element=\"a37c1ef4-b29d-4db4-91ba-82cd1e2396c4\")>,\n",
       " <selenium.webdriver.remote.webelement.WebElement (session=\"286551dba750ba32934dc8e00aca3f46\", element=\"d9451468-635e-4607-b539-494d654c06e6\")>,\n",
       " <selenium.webdriver.remote.webelement.WebElement (session=\"286551dba750ba32934dc8e00aca3f46\", element=\"7137c4b8-0db5-48de-b5d9-6738c39c7c2e\")>,\n",
       " <selenium.webdriver.remote.webelement.WebElement (session=\"286551dba750ba32934dc8e00aca3f46\", element=\"80da0b0e-e14a-4781-99f0-cae0ead28580\")>,\n",
       " <selenium.webdriver.remote.webelement.WebElement (session=\"286551dba750ba32934dc8e00aca3f46\", element=\"90866b66-518e-4505-a170-71adeeba89bb\")>,\n",
       " <selenium.webdriver.remote.webelement.WebElement (session=\"286551dba750ba32934dc8e00aca3f46\", element=\"af2e6e35-440d-4121-a274-343d4a63acae\")>,\n",
       " <selenium.webdriver.remote.webelement.WebElement (session=\"286551dba750ba32934dc8e00aca3f46\", element=\"3fc2a347-01bb-4bed-89e6-3fa48845cad1\")>,\n",
       " <selenium.webdriver.remote.webelement.WebElement (session=\"286551dba750ba32934dc8e00aca3f46\", element=\"582ce22a-f0b9-48ec-81d3-bacc93af2f1a\")>,\n",
       " <selenium.webdriver.remote.webelement.WebElement (session=\"286551dba750ba32934dc8e00aca3f46\", element=\"03e1300c-7836-4b5b-b3d5-46927beeedd9\")>,\n",
       " <selenium.webdriver.remote.webelement.WebElement (session=\"286551dba750ba32934dc8e00aca3f46\", element=\"8d634668-e4a0-4035-b64c-48bdc61595be\")>,\n",
       " <selenium.webdriver.remote.webelement.WebElement (session=\"286551dba750ba32934dc8e00aca3f46\", element=\"5887026c-e398-44d5-a566-4bb4ed477093\")>,\n",
       " <selenium.webdriver.remote.webelement.WebElement (session=\"286551dba750ba32934dc8e00aca3f46\", element=\"ba207f57-f803-42f1-a8a9-5c86aeaddd8a\")>,\n",
       " <selenium.webdriver.remote.webelement.WebElement (session=\"286551dba750ba32934dc8e00aca3f46\", element=\"cff5d529-313e-4d06-9f53-e72f193aae1c\")>,\n",
       " <selenium.webdriver.remote.webelement.WebElement (session=\"286551dba750ba32934dc8e00aca3f46\", element=\"7ce0bf98-a48e-43fa-854d-6304c8db32e1\")>,\n",
       " <selenium.webdriver.remote.webelement.WebElement (session=\"286551dba750ba32934dc8e00aca3f46\", element=\"3496a143-f909-4b7f-9de4-993205eb2857\")>,\n",
       " <selenium.webdriver.remote.webelement.WebElement (session=\"286551dba750ba32934dc8e00aca3f46\", element=\"5eb03ed8-03f5-4bfc-a821-92348a848fd0\")>,\n",
       " <selenium.webdriver.remote.webelement.WebElement (session=\"286551dba750ba32934dc8e00aca3f46\", element=\"135cd926-7e8d-4ce3-ac67-d045434b7102\")>,\n",
       " <selenium.webdriver.remote.webelement.WebElement (session=\"286551dba750ba32934dc8e00aca3f46\", element=\"1fec66ca-e140-4c23-9e57-7c01acc9a465\")>,\n",
       " <selenium.webdriver.remote.webelement.WebElement (session=\"286551dba750ba32934dc8e00aca3f46\", element=\"48fe83fd-ad5c-451f-9629-6e468ae34614\")>,\n",
       " <selenium.webdriver.remote.webelement.WebElement (session=\"286551dba750ba32934dc8e00aca3f46\", element=\"fc68e34b-4d7c-4caa-9c5c-413b39169562\")>,\n",
       " <selenium.webdriver.remote.webelement.WebElement (session=\"286551dba750ba32934dc8e00aca3f46\", element=\"f0aff64e-f72b-4d63-ac0c-fef78fdd3703\")>,\n",
       " <selenium.webdriver.remote.webelement.WebElement (session=\"286551dba750ba32934dc8e00aca3f46\", element=\"c03fad3e-4e79-4683-a5f8-81abb9a83416\")>,\n",
       " <selenium.webdriver.remote.webelement.WebElement (session=\"286551dba750ba32934dc8e00aca3f46\", element=\"b98f1c59-3c48-4672-886b-8b56e6c91b04\")>,\n",
       " <selenium.webdriver.remote.webelement.WebElement (session=\"286551dba750ba32934dc8e00aca3f46\", element=\"29efed60-650f-4d7b-b27b-b2a3b5ef7ae0\")>,\n",
       " <selenium.webdriver.remote.webelement.WebElement (session=\"286551dba750ba32934dc8e00aca3f46\", element=\"18181c08-a1f4-41da-880d-50911de922a3\")>,\n",
       " <selenium.webdriver.remote.webelement.WebElement (session=\"286551dba750ba32934dc8e00aca3f46\", element=\"e8009b58-06f0-4f2a-87b7-558ed6468f25\")>,\n",
       " <selenium.webdriver.remote.webelement.WebElement (session=\"286551dba750ba32934dc8e00aca3f46\", element=\"008c630e-2aee-46e5-973f-1b58ccd30319\")>,\n",
       " <selenium.webdriver.remote.webelement.WebElement (session=\"286551dba750ba32934dc8e00aca3f46\", element=\"5b1b5824-3ee1-4199-9512-f9fc7f33c8cc\")>,\n",
       " <selenium.webdriver.remote.webelement.WebElement (session=\"286551dba750ba32934dc8e00aca3f46\", element=\"8214c33f-aabd-4e96-9b03-cc8e44567f55\")>,\n",
       " <selenium.webdriver.remote.webelement.WebElement (session=\"286551dba750ba32934dc8e00aca3f46\", element=\"09d3e4ba-3dcf-4456-afae-45e1931fb35a\")>,\n",
       " <selenium.webdriver.remote.webelement.WebElement (session=\"286551dba750ba32934dc8e00aca3f46\", element=\"6f8081cc-f955-4142-8c6e-a3f8a6e2b46c\")>,\n",
       " <selenium.webdriver.remote.webelement.WebElement (session=\"286551dba750ba32934dc8e00aca3f46\", element=\"04f724e0-9660-4415-936f-b8f405d8c323\")>,\n",
       " <selenium.webdriver.remote.webelement.WebElement (session=\"286551dba750ba32934dc8e00aca3f46\", element=\"02bcb71b-070a-49e7-80f4-b2ed4653d15f\")>,\n",
       " <selenium.webdriver.remote.webelement.WebElement (session=\"286551dba750ba32934dc8e00aca3f46\", element=\"9c78d0bd-2daa-45c0-bf48-08bd92160d9b\")>,\n",
       " <selenium.webdriver.remote.webelement.WebElement (session=\"286551dba750ba32934dc8e00aca3f46\", element=\"1b36b07d-4899-4c77-bc31-41f450c549de\")>,\n",
       " <selenium.webdriver.remote.webelement.WebElement (session=\"286551dba750ba32934dc8e00aca3f46\", element=\"73925dae-d945-4b08-a23b-c60ff16e0b51\")>,\n",
       " <selenium.webdriver.remote.webelement.WebElement (session=\"286551dba750ba32934dc8e00aca3f46\", element=\"cd6a8dc1-d5f4-450d-8dac-f63ce3b91447\")>,\n",
       " <selenium.webdriver.remote.webelement.WebElement (session=\"286551dba750ba32934dc8e00aca3f46\", element=\"cc43c2b8-8aff-4564-9d32-cba842fb5306\")>,\n",
       " <selenium.webdriver.remote.webelement.WebElement (session=\"286551dba750ba32934dc8e00aca3f46\", element=\"c3c59999-1a09-409c-9240-7b830337f087\")>,\n",
       " <selenium.webdriver.remote.webelement.WebElement (session=\"286551dba750ba32934dc8e00aca3f46\", element=\"49bcb560-946c-437e-a95b-a7c7b0111524\")>,\n",
       " <selenium.webdriver.remote.webelement.WebElement (session=\"286551dba750ba32934dc8e00aca3f46\", element=\"8a519dfc-1501-4fb9-8c41-343249511bc7\")>,\n",
       " <selenium.webdriver.remote.webelement.WebElement (session=\"286551dba750ba32934dc8e00aca3f46\", element=\"d90738d5-1798-483d-bed0-9197c587d456\")>,\n",
       " <selenium.webdriver.remote.webelement.WebElement (session=\"286551dba750ba32934dc8e00aca3f46\", element=\"7e554ad3-809c-4bb3-b9a2-5e93d5681f5c\")>,\n",
       " <selenium.webdriver.remote.webelement.WebElement (session=\"286551dba750ba32934dc8e00aca3f46\", element=\"55522692-eb01-40ae-af5a-629c367a5c15\")>,\n",
       " <selenium.webdriver.remote.webelement.WebElement (session=\"286551dba750ba32934dc8e00aca3f46\", element=\"f822b959-7fe3-4431-b7b5-6c8dce1569ed\")>,\n",
       " <selenium.webdriver.remote.webelement.WebElement (session=\"286551dba750ba32934dc8e00aca3f46\", element=\"e34e38a9-4380-4c53-bd03-0e49f010767e\")>,\n",
       " <selenium.webdriver.remote.webelement.WebElement (session=\"286551dba750ba32934dc8e00aca3f46\", element=\"0a7f7595-8ec5-45c7-8ecc-136711348a88\")>,\n",
       " <selenium.webdriver.remote.webelement.WebElement (session=\"286551dba750ba32934dc8e00aca3f46\", element=\"2099b4b3-25f2-4b79-bfbd-6f77cd53f2dc\")>,\n",
       " <selenium.webdriver.remote.webelement.WebElement (session=\"286551dba750ba32934dc8e00aca3f46\", element=\"83830fd8-4ace-4a77-b69b-10a68f1a62a5\")>,\n",
       " <selenium.webdriver.remote.webelement.WebElement (session=\"286551dba750ba32934dc8e00aca3f46\", element=\"3c0cc3a5-92ab-4641-8bae-0c7a0471fa95\")>,\n",
       " <selenium.webdriver.remote.webelement.WebElement (session=\"286551dba750ba32934dc8e00aca3f46\", element=\"b1724641-8295-48e2-bd09-e2c93f35262e\")>,\n",
       " <selenium.webdriver.remote.webelement.WebElement (session=\"286551dba750ba32934dc8e00aca3f46\", element=\"472fd6d2-1791-433d-9f54-463955bf4d12\")>,\n",
       " <selenium.webdriver.remote.webelement.WebElement (session=\"286551dba750ba32934dc8e00aca3f46\", element=\"de47658c-7638-4f0a-9d49-24f1857e5fdd\")>,\n",
       " <selenium.webdriver.remote.webelement.WebElement (session=\"286551dba750ba32934dc8e00aca3f46\", element=\"dac8edf9-1fe2-45f4-bd0d-4234e1b7af93\")>,\n",
       " <selenium.webdriver.remote.webelement.WebElement (session=\"286551dba750ba32934dc8e00aca3f46\", element=\"42225cb7-d3bc-46f6-9cb9-75b666d5c2f0\")>,\n",
       " <selenium.webdriver.remote.webelement.WebElement (session=\"286551dba750ba32934dc8e00aca3f46\", element=\"f5ec36fe-888f-405d-b3ab-6c4cb70d1332\")>,\n",
       " <selenium.webdriver.remote.webelement.WebElement (session=\"286551dba750ba32934dc8e00aca3f46\", element=\"8f64ba79-a2d8-4d2a-bcd1-693bc77fe012\")>,\n",
       " <selenium.webdriver.remote.webelement.WebElement (session=\"286551dba750ba32934dc8e00aca3f46\", element=\"1906861f-f619-4bd7-8dfd-a7dfd373b792\")>,\n",
       " <selenium.webdriver.remote.webelement.WebElement (session=\"286551dba750ba32934dc8e00aca3f46\", element=\"aa5ae52c-c61c-4ee1-bece-2c3c701c9ac3\")>,\n",
       " <selenium.webdriver.remote.webelement.WebElement (session=\"286551dba750ba32934dc8e00aca3f46\", element=\"98111dac-98c0-48fd-857a-4b64ca88eeb7\")>,\n",
       " <selenium.webdriver.remote.webelement.WebElement (session=\"286551dba750ba32934dc8e00aca3f46\", element=\"ec0c28f8-d023-4121-b07a-f60c46735a16\")>,\n",
       " <selenium.webdriver.remote.webelement.WebElement (session=\"286551dba750ba32934dc8e00aca3f46\", element=\"c717fdf3-04eb-437f-931c-0fd0ca6e6bf4\")>,\n",
       " <selenium.webdriver.remote.webelement.WebElement (session=\"286551dba750ba32934dc8e00aca3f46\", element=\"3d2f9c2b-9b2b-4d14-94ac-308b711340d3\")>,\n",
       " <selenium.webdriver.remote.webelement.WebElement (session=\"286551dba750ba32934dc8e00aca3f46\", element=\"3edd8218-1290-4923-9122-dff36601364f\")>,\n",
       " <selenium.webdriver.remote.webelement.WebElement (session=\"286551dba750ba32934dc8e00aca3f46\", element=\"f09fef1c-10e8-41a0-bbc8-277af407325c\")>,\n",
       " <selenium.webdriver.remote.webelement.WebElement (session=\"286551dba750ba32934dc8e00aca3f46\", element=\"ce792e5d-45dd-49e1-a9af-8296738e2bc1\")>,\n",
       " <selenium.webdriver.remote.webelement.WebElement (session=\"286551dba750ba32934dc8e00aca3f46\", element=\"a0f19b1f-a425-4f89-b3b0-4820bfc895de\")>,\n",
       " <selenium.webdriver.remote.webelement.WebElement (session=\"286551dba750ba32934dc8e00aca3f46\", element=\"5c83d5bb-5530-4bd1-be44-63d9284d3f36\")>,\n",
       " <selenium.webdriver.remote.webelement.WebElement (session=\"286551dba750ba32934dc8e00aca3f46\", element=\"c71d3a43-a681-48f1-b0ce-ad99c2c9c33c\")>,\n",
       " <selenium.webdriver.remote.webelement.WebElement (session=\"286551dba750ba32934dc8e00aca3f46\", element=\"05356c94-0b08-4d93-8cf3-cde6ea35507a\")>,\n",
       " <selenium.webdriver.remote.webelement.WebElement (session=\"286551dba750ba32934dc8e00aca3f46\", element=\"3901c581-48a1-467c-b550-0964f4540ffa\")>,\n",
       " <selenium.webdriver.remote.webelement.WebElement (session=\"286551dba750ba32934dc8e00aca3f46\", element=\"fa86427a-1f54-4db5-a39b-eec967071aee\")>,\n",
       " <selenium.webdriver.remote.webelement.WebElement (session=\"286551dba750ba32934dc8e00aca3f46\", element=\"50cc1093-6a44-4d61-b31d-110a6fa56590\")>,\n",
       " <selenium.webdriver.remote.webelement.WebElement (session=\"286551dba750ba32934dc8e00aca3f46\", element=\"067eba80-51f3-4114-977b-2b6fab72cf25\")>,\n",
       " <selenium.webdriver.remote.webelement.WebElement (session=\"286551dba750ba32934dc8e00aca3f46\", element=\"18ac6084-746e-4e67-a037-3b763bb50977\")>,\n",
       " <selenium.webdriver.remote.webelement.WebElement (session=\"286551dba750ba32934dc8e00aca3f46\", element=\"84e25891-0c64-4a7f-8c34-4ca4d87c5447\")>,\n",
       " <selenium.webdriver.remote.webelement.WebElement (session=\"286551dba750ba32934dc8e00aca3f46\", element=\"0d3c14cc-44ad-4401-adcf-4e1ac4efc502\")>,\n",
       " <selenium.webdriver.remote.webelement.WebElement (session=\"286551dba750ba32934dc8e00aca3f46\", element=\"1ff1273e-a9dd-4be2-a77d-b5834069a8c7\")>,\n",
       " <selenium.webdriver.remote.webelement.WebElement (session=\"286551dba750ba32934dc8e00aca3f46\", element=\"b545120f-1ced-4bbd-a3d5-84924e228cdb\")>,\n",
       " <selenium.webdriver.remote.webelement.WebElement (session=\"286551dba750ba32934dc8e00aca3f46\", element=\"bb2e050a-0524-463b-ad3d-414c99ae0173\")>,\n",
       " <selenium.webdriver.remote.webelement.WebElement (session=\"286551dba750ba32934dc8e00aca3f46\", element=\"e001a532-da29-48c9-88f3-d052b304804a\")>,\n",
       " <selenium.webdriver.remote.webelement.WebElement (session=\"286551dba750ba32934dc8e00aca3f46\", element=\"d742edac-390b-441c-8059-c65bac6ff909\")>,\n",
       " <selenium.webdriver.remote.webelement.WebElement (session=\"286551dba750ba32934dc8e00aca3f46\", element=\"fbb0e813-d97a-41a9-b897-47a2579b6715\")>,\n",
       " <selenium.webdriver.remote.webelement.WebElement (session=\"286551dba750ba32934dc8e00aca3f46\", element=\"8fe3a6f6-5b8e-45b7-8f43-f01927684303\")>,\n",
       " <selenium.webdriver.remote.webelement.WebElement (session=\"286551dba750ba32934dc8e00aca3f46\", element=\"b79f0ec5-2eca-4a7c-9766-6c17697c392f\")>,\n",
       " <selenium.webdriver.remote.webelement.WebElement (session=\"286551dba750ba32934dc8e00aca3f46\", element=\"e07fdead-b2c8-4c34-91dc-11225b63b8e8\")>,\n",
       " <selenium.webdriver.remote.webelement.WebElement (session=\"286551dba750ba32934dc8e00aca3f46\", element=\"1c5f3e0b-a40c-4c1d-9ed7-3e7fed42b849\")>,\n",
       " <selenium.webdriver.remote.webelement.WebElement (session=\"286551dba750ba32934dc8e00aca3f46\", element=\"e9631a58-daed-46f3-b229-3f458bb37e98\")>,\n",
       " <selenium.webdriver.remote.webelement.WebElement (session=\"286551dba750ba32934dc8e00aca3f46\", element=\"9ff098fb-021d-42c7-ba0e-59154eff6801\")>,\n",
       " <selenium.webdriver.remote.webelement.WebElement (session=\"286551dba750ba32934dc8e00aca3f46\", element=\"0f03cbf2-cb5b-4e4b-adf1-9f9d417de329\")>,\n",
       " <selenium.webdriver.remote.webelement.WebElement (session=\"286551dba750ba32934dc8e00aca3f46\", element=\"a83afb4e-8f87-4e42-97d4-6842302548d1\")>,\n",
       " <selenium.webdriver.remote.webelement.WebElement (session=\"286551dba750ba32934dc8e00aca3f46\", element=\"78f391d8-5ccb-4fc9-aef3-7db30acad428\")>]"
      ]
     },
     "execution_count": 15,
     "metadata": {},
     "output_type": "execute_result"
    }
   ],
   "source": [
    "line4=browser.find_elements(\"xpath\",\"//div[@class='td-wrap-in']\")\n",
    "line4"
   ]
  },
  {
   "cell_type": "code",
   "execution_count": 16,
   "id": "fa78b706",
   "metadata": {},
   "outputs": [
    {
     "data": {
      "text/plain": [
       "['78', '89', '91.1', '97.6', '16.8', '99.8', '100', '98.2', '93']"
      ]
     },
     "execution_count": 16,
     "metadata": {},
     "output_type": "execute_result"
    }
   ],
   "source": [
    "#PARSING DATA\n",
    "value=[]\n",
    "for data in line4:\n",
    "    #get the text data\n",
    "    temp=data.text\n",
    "    value.append(temp)\n",
    "value_h=value[41:50]\n",
    "value_h"
   ]
  },
  {
   "cell_type": "code",
   "execution_count": 17,
   "id": "6ba7c498",
   "metadata": {},
   "outputs": [
    {
     "data": {
      "text/plain": [
       "{'Name': 'The University of New South Wales (UNSW Sydney)',\n",
       " 'Location': 'Sydney, Australia',\n",
       " 'Rank': '45',\n",
       " 'Overall Score': '78',\n",
       " 'Academic Reputation': '89',\n",
       " 'Employer Reputation': '91.1',\n",
       " 'Citations per Faculty': '97.6',\n",
       " 'Faculty Student Ratio': '16.8',\n",
       " 'International Students Ratio': '99.8',\n",
       " 'International Faculty Ratio': '100',\n",
       " 'International Research Network\\nUnweighted': '98.2',\n",
       " 'Employment Outcomes\\nUnweighted': '93'}"
      ]
     },
     "execution_count": 17,
     "metadata": {},
     "output_type": "execute_result"
    }
   ],
   "source": [
    "d={}\n",
    "d['Name']=value[40]\n",
    "d['Location']=address[4]\n",
    "d['Rank']=Rank[4]\n",
    "for i in range(len(column)):\n",
    "    d[column[i]]=value_h[i]\n",
    "d"
   ]
  },
  {
   "cell_type": "code",
   "execution_count": 18,
   "id": "8a19a436",
   "metadata": {},
   "outputs": [
    {
     "data": {
      "text/plain": [
       "'{\"Name\": \"The University of New South Wales (UNSW Sydney)\", \"Location\": \"Sydney, Australia\", \"Rank\": \"45\", \"Overall Score\": \"78\", \"Academic Reputation\": \"89\", \"Employer Reputation\": \"91.1\", \"Citations per Faculty\": \"97.6\", \"Faculty Student Ratio\": \"16.8\", \"International Students Ratio\": \"99.8\", \"International Faculty Ratio\": \"100\", \"International Research Network\\\\nUnweighted\": \"98.2\", \"Employment Outcomes\\\\nUnweighted\": \"93\"}'"
      ]
     },
     "execution_count": 18,
     "metadata": {},
     "output_type": "execute_result"
    }
   ],
   "source": [
    "s1=json.dumps(d)\n",
    "s1"
   ]
  },
  {
   "cell_type": "code",
   "execution_count": 19,
   "id": "bd3bdf20",
   "metadata": {},
   "outputs": [],
   "source": [
    "with open('The University of New South Wales (UNSW Sydney).json','w') as f:\n",
    "    json.dump(d,f)"
   ]
  },
  {
   "cell_type": "code",
   "execution_count": null,
   "id": "282c0f2a",
   "metadata": {},
   "outputs": [],
   "source": []
  }
 ],
 "metadata": {
  "kernelspec": {
   "display_name": "Python 3.9.12 ('base')",
   "language": "python",
   "name": "python3"
  },
  "language_info": {
   "codemirror_mode": {
    "name": "ipython",
    "version": 3
   },
   "file_extension": ".py",
   "mimetype": "text/x-python",
   "name": "python",
   "nbconvert_exporter": "python",
   "pygments_lexer": "ipython3",
   "version": "3.9.12"
  },
  "vscode": {
   "interpreter": {
    "hash": "ad2bdc8ecc057115af97d19610ffacc2b4e99fae6737bb82f5d7fb13d2f2c186"
   }
  }
 },
 "nbformat": 4,
 "nbformat_minor": 5
}
