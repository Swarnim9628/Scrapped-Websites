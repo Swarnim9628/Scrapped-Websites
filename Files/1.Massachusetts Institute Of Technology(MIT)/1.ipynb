{
 "cells": [
  {
   "cell_type": "markdown",
   "id": "967c224e",
   "metadata": {},
   "source": [
    "## Importing Modules"
   ]
  },
  {
   "cell_type": "code",
   "execution_count": 101,
   "id": "96839c23",
   "metadata": {},
   "outputs": [],
   "source": [
    "from selenium import webdriver\n",
    "from selenium.webdriver.chrome.service import Service\n",
    "import pandas as pd\n",
    "import json"
   ]
  },
  {
   "cell_type": "markdown",
   "id": "d56eb584",
   "metadata": {},
   "source": [
    "## Setting path of Chrome Driver"
   ]
  },
  {
   "cell_type": "code",
   "execution_count": 102,
   "id": "dd124d6c",
   "metadata": {},
   "outputs": [],
   "source": [
    "way = Service('C:\\chromedriver.exe')"
   ]
  },
  {
   "cell_type": "code",
   "execution_count": 103,
   "id": "f10e66be",
   "metadata": {},
   "outputs": [],
   "source": [
    "# set path for the driver\n",
    "browser = webdriver.Chrome(service = way)"
   ]
  },
  {
   "cell_type": "code",
   "execution_count": 105,
   "id": "2f5e4c45",
   "metadata": {},
   "outputs": [],
   "source": [
    "url = \"https://www.topuniversities.com/university-rankings/world-university-rankings/2023\""
   ]
  },
  {
   "cell_type": "code",
   "execution_count": 106,
   "id": "9f937bce",
   "metadata": {},
   "outputs": [],
   "source": [
    "# open the page url in chrome\n",
    "browser.get(url)"
   ]
  },
  {
   "cell_type": "markdown",
   "id": "b737e7e2",
   "metadata": {},
   "source": [
    "## Scrap the data"
   ]
  },
  {
   "cell_type": "code",
   "execution_count": 109,
   "id": "51a14d63",
   "metadata": {},
   "outputs": [
    {
     "data": {
      "text/plain": [
       "[<selenium.webdriver.remote.webelement.WebElement (session=\"d565fd0b34fa5c44c076b9117c14ad2a\", element=\"6af70962-6734-4d3f-bc01-917e28133d3b\")>,\n",
       " <selenium.webdriver.remote.webelement.WebElement (session=\"d565fd0b34fa5c44c076b9117c14ad2a\", element=\"a0587f65-e2e7-4344-a34c-d232cb2efc01\")>,\n",
       " <selenium.webdriver.remote.webelement.WebElement (session=\"d565fd0b34fa5c44c076b9117c14ad2a\", element=\"88b0a55b-4122-4e6c-9556-6f74af34c6bf\")>,\n",
       " <selenium.webdriver.remote.webelement.WebElement (session=\"d565fd0b34fa5c44c076b9117c14ad2a\", element=\"4d6b8738-250d-4198-9a04-8b095e9c9d78\")>,\n",
       " <selenium.webdriver.remote.webelement.WebElement (session=\"d565fd0b34fa5c44c076b9117c14ad2a\", element=\"92b93f12-6e84-49e9-a836-827ac55667e0\")>,\n",
       " <selenium.webdriver.remote.webelement.WebElement (session=\"d565fd0b34fa5c44c076b9117c14ad2a\", element=\"ec03848c-0974-43a0-9616-7afdfc5aa75e\")>,\n",
       " <selenium.webdriver.remote.webelement.WebElement (session=\"d565fd0b34fa5c44c076b9117c14ad2a\", element=\"4629bcd9-668f-408e-a8f7-5dd929928f80\")>,\n",
       " <selenium.webdriver.remote.webelement.WebElement (session=\"d565fd0b34fa5c44c076b9117c14ad2a\", element=\"a9563f61-24a6-4476-967c-f4e18670af60\")>,\n",
       " <selenium.webdriver.remote.webelement.WebElement (session=\"d565fd0b34fa5c44c076b9117c14ad2a\", element=\"e2b09cd5-ff71-450a-abc1-b8b53db4292e\")>,\n",
       " <selenium.webdriver.remote.webelement.WebElement (session=\"d565fd0b34fa5c44c076b9117c14ad2a\", element=\"64d19bea-9251-4ebe-99bb-d195f140b32c\")>,\n",
       " <selenium.webdriver.remote.webelement.WebElement (session=\"d565fd0b34fa5c44c076b9117c14ad2a\", element=\"708b8b6a-be6b-44ae-bf78-9a8fb84a8b02\")>,\n",
       " <selenium.webdriver.remote.webelement.WebElement (session=\"d565fd0b34fa5c44c076b9117c14ad2a\", element=\"8afae1bb-e8d5-48e9-ab5d-2337460a1f31\")>,\n",
       " <selenium.webdriver.remote.webelement.WebElement (session=\"d565fd0b34fa5c44c076b9117c14ad2a\", element=\"cf074177-b007-4457-9d25-7fcdf1136762\")>,\n",
       " <selenium.webdriver.remote.webelement.WebElement (session=\"d565fd0b34fa5c44c076b9117c14ad2a\", element=\"2c198fa4-f5e7-4d82-b383-c44a7d5ec6f7\")>,\n",
       " <selenium.webdriver.remote.webelement.WebElement (session=\"d565fd0b34fa5c44c076b9117c14ad2a\", element=\"8c305339-a627-45b9-bc9e-3d5a808eec47\")>,\n",
       " <selenium.webdriver.remote.webelement.WebElement (session=\"d565fd0b34fa5c44c076b9117c14ad2a\", element=\"0d71f9df-b1a3-4875-9b18-878305b38e0e\")>,\n",
       " <selenium.webdriver.remote.webelement.WebElement (session=\"d565fd0b34fa5c44c076b9117c14ad2a\", element=\"4b406b70-29ab-479d-bf66-d6cf57b4d79f\")>,\n",
       " <selenium.webdriver.remote.webelement.WebElement (session=\"d565fd0b34fa5c44c076b9117c14ad2a\", element=\"fe382330-5544-4e84-b278-ce8992c32fa4\")>,\n",
       " <selenium.webdriver.remote.webelement.WebElement (session=\"d565fd0b34fa5c44c076b9117c14ad2a\", element=\"258142d0-d4cf-434c-a573-9f76fb68396a\")>,\n",
       " <selenium.webdriver.remote.webelement.WebElement (session=\"d565fd0b34fa5c44c076b9117c14ad2a\", element=\"ee716728-d730-4b7a-a1dd-67c4412c9b70\")>]"
      ]
     },
     "execution_count": 109,
     "metadata": {},
     "output_type": "execute_result"
    }
   ],
   "source": [
    "line1=browser.find_elements(\"xpath\",\"//div[@class='location ']\")\n",
    "line1\n"
   ]
  },
  {
   "cell_type": "code",
   "execution_count": 110,
   "id": "43b1438e",
   "metadata": {},
   "outputs": [
    {
     "data": {
      "text/plain": [
       "['Cambridge, United States',\n",
       " 'Cambridge, United Kingdom',\n",
       " 'Stanford, United States',\n",
       " 'Oxford, United Kingdom',\n",
       " 'Cambridge, United States',\n",
       " 'Pasadena, United States',\n",
       " 'London, United Kingdom',\n",
       " 'London, United Kingdom',\n",
       " 'Zürich, Switzerland',\n",
       " 'Chicago, United States']"
      ]
     },
     "execution_count": 110,
     "metadata": {},
     "output_type": "execute_result"
    }
   ],
   "source": [
    "address=[]\n",
    "for data in line1:\n",
    "    #get the text data\n",
    "    temp=data.text\n",
    "    address.append(temp)\n",
    "address=address[10:]\n",
    "address"
   ]
  },
  {
   "cell_type": "code",
   "execution_count": 111,
   "id": "7028de8d",
   "metadata": {},
   "outputs": [
    {
     "data": {
      "text/plain": [
       "[<selenium.webdriver.remote.webelement.WebElement (session=\"d565fd0b34fa5c44c076b9117c14ad2a\", element=\"b46fd1b2-2548-41f7-b944-d6c86444f74e\")>,\n",
       " <selenium.webdriver.remote.webelement.WebElement (session=\"d565fd0b34fa5c44c076b9117c14ad2a\", element=\"466f7014-0010-4f0a-aa26-2510191d1866\")>,\n",
       " <selenium.webdriver.remote.webelement.WebElement (session=\"d565fd0b34fa5c44c076b9117c14ad2a\", element=\"94dd9b50-c1d7-43e6-9c2e-53acc5364b35\")>,\n",
       " <selenium.webdriver.remote.webelement.WebElement (session=\"d565fd0b34fa5c44c076b9117c14ad2a\", element=\"296ccc30-39fe-43f3-9a30-65ea143f336f\")>,\n",
       " <selenium.webdriver.remote.webelement.WebElement (session=\"d565fd0b34fa5c44c076b9117c14ad2a\", element=\"c98a8b29-26d9-42dd-b317-ffb899b12af9\")>,\n",
       " <selenium.webdriver.remote.webelement.WebElement (session=\"d565fd0b34fa5c44c076b9117c14ad2a\", element=\"a50f9be0-e32f-40f0-9af0-0c5b3e4ca91f\")>,\n",
       " <selenium.webdriver.remote.webelement.WebElement (session=\"d565fd0b34fa5c44c076b9117c14ad2a\", element=\"11ba3c59-509d-41d4-ac51-4dbd83bcc632\")>,\n",
       " <selenium.webdriver.remote.webelement.WebElement (session=\"d565fd0b34fa5c44c076b9117c14ad2a\", element=\"0d0f541f-3afc-4b33-afbd-0966213c5adf\")>,\n",
       " <selenium.webdriver.remote.webelement.WebElement (session=\"d565fd0b34fa5c44c076b9117c14ad2a\", element=\"91a3404d-b577-44e8-b38b-54274e16a99f\")>,\n",
       " <selenium.webdriver.remote.webelement.WebElement (session=\"d565fd0b34fa5c44c076b9117c14ad2a\", element=\"f53e29a9-a32a-4f77-b55a-c748afe62a73\")>]"
      ]
     },
     "execution_count": 111,
     "metadata": {},
     "output_type": "execute_result"
    }
   ],
   "source": [
    "line2=browser.find_elements(\"xpath\",\"//div[@class='_univ-rank ']\")\n",
    "line2"
   ]
  },
  {
   "cell_type": "code",
   "execution_count": 112,
   "id": "ab0d2794",
   "metadata": {},
   "outputs": [
    {
     "data": {
      "text/plain": [
       "['1', '2', '3', '4', '5', '=6', '=6', '8', '9', '10']"
      ]
     },
     "execution_count": 112,
     "metadata": {},
     "output_type": "execute_result"
    }
   ],
   "source": [
    "Rank=[]\n",
    "for data in line2:\n",
    "    #get the text data\n",
    "    temp=data.text\n",
    "    Rank.append(temp)\n",
    "Rank"
   ]
  },
  {
   "cell_type": "code",
   "execution_count": 113,
   "id": "fe99f689",
   "metadata": {},
   "outputs": [
    {
     "data": {
      "text/plain": [
       "[<selenium.webdriver.remote.webelement.WebElement (session=\"d565fd0b34fa5c44c076b9117c14ad2a\", element=\"3df9e8eb-7ddd-4674-a324-37b81fb407fe\")>,\n",
       " <selenium.webdriver.remote.webelement.WebElement (session=\"d565fd0b34fa5c44c076b9117c14ad2a\", element=\"471b61ff-d2b6-4dc6-9240-cf80621ef045\")>,\n",
       " <selenium.webdriver.remote.webelement.WebElement (session=\"d565fd0b34fa5c44c076b9117c14ad2a\", element=\"9c3ae9a0-69a4-43a1-9a0b-d91ab3546da1\")>,\n",
       " <selenium.webdriver.remote.webelement.WebElement (session=\"d565fd0b34fa5c44c076b9117c14ad2a\", element=\"80dcfbff-66fc-466c-b2fa-518aed3839ba\")>,\n",
       " <selenium.webdriver.remote.webelement.WebElement (session=\"d565fd0b34fa5c44c076b9117c14ad2a\", element=\"30a5503b-e882-48ef-937e-e79ff38e2abb\")>,\n",
       " <selenium.webdriver.remote.webelement.WebElement (session=\"d565fd0b34fa5c44c076b9117c14ad2a\", element=\"bfc0f2a0-2bc7-442e-b583-e413403e43cf\")>,\n",
       " <selenium.webdriver.remote.webelement.WebElement (session=\"d565fd0b34fa5c44c076b9117c14ad2a\", element=\"0c4d1f41-2f5b-47a8-be5d-199e4cc19cb5\")>,\n",
       " <selenium.webdriver.remote.webelement.WebElement (session=\"d565fd0b34fa5c44c076b9117c14ad2a\", element=\"867edb00-0b6b-4116-9cde-bf6c724e450a\")>,\n",
       " <selenium.webdriver.remote.webelement.WebElement (session=\"d565fd0b34fa5c44c076b9117c14ad2a\", element=\"9fd43303-3cab-452c-b2ce-23d2d834e20e\")>]"
      ]
     },
     "execution_count": 113,
     "metadata": {},
     "output_type": "execute_result"
    }
   ],
   "source": [
    "# GET EACH COLLEGE SPECIFICATION HEADERS\n",
    "line3=browser.find_elements(\"xpath\",\"//div[@class='_click-function_ind']\")\n",
    "line3"
   ]
  },
  {
   "cell_type": "code",
   "execution_count": 114,
   "id": "c7d6536d",
   "metadata": {},
   "outputs": [
    {
     "data": {
      "text/plain": [
       "['Overall Score',\n",
       " 'Academic Reputation',\n",
       " 'Employer Reputation',\n",
       " 'Citations per Faculty',\n",
       " 'Faculty Student Ratio',\n",
       " 'International Students Ratio',\n",
       " 'International Faculty Ratio',\n",
       " 'International Research Network\\nUnweighted',\n",
       " 'Employment Outcomes\\nUnweighted']"
      ]
     },
     "execution_count": 114,
     "metadata": {},
     "output_type": "execute_result"
    }
   ],
   "source": [
    "#PARSING DATA\n",
    "column=[]\n",
    "for data in line3:\n",
    "    #get the text data\n",
    "    temp=data.text\n",
    "    column.append(temp)\n",
    "column"
   ]
  },
  {
   "cell_type": "code",
   "execution_count": 117,
   "id": "3bbd37b3",
   "metadata": {},
   "outputs": [
    {
     "data": {
      "text/plain": [
       "[<selenium.webdriver.remote.webelement.WebElement (session=\"d565fd0b34fa5c44c076b9117c14ad2a\", element=\"5c44cbd3-0c30-418f-9371-bbe26aacd143\")>,\n",
       " <selenium.webdriver.remote.webelement.WebElement (session=\"d565fd0b34fa5c44c076b9117c14ad2a\", element=\"713a6814-65fa-423b-b8df-b7b53cc71510\")>,\n",
       " <selenium.webdriver.remote.webelement.WebElement (session=\"d565fd0b34fa5c44c076b9117c14ad2a\", element=\"3b833834-7f90-4cb0-8289-21d91f468f59\")>,\n",
       " <selenium.webdriver.remote.webelement.WebElement (session=\"d565fd0b34fa5c44c076b9117c14ad2a\", element=\"8df8185f-d467-44b8-a87a-b818953063da\")>,\n",
       " <selenium.webdriver.remote.webelement.WebElement (session=\"d565fd0b34fa5c44c076b9117c14ad2a\", element=\"824f7e93-90b4-4471-afca-be2c3ee18002\")>,\n",
       " <selenium.webdriver.remote.webelement.WebElement (session=\"d565fd0b34fa5c44c076b9117c14ad2a\", element=\"c7e8c57a-851d-4401-b172-9ef5a30c15c4\")>,\n",
       " <selenium.webdriver.remote.webelement.WebElement (session=\"d565fd0b34fa5c44c076b9117c14ad2a\", element=\"b0fee322-83af-4bfa-b5c9-6bac38397422\")>,\n",
       " <selenium.webdriver.remote.webelement.WebElement (session=\"d565fd0b34fa5c44c076b9117c14ad2a\", element=\"fa87fcae-6010-4257-8a5c-7a9d1de53f9e\")>,\n",
       " <selenium.webdriver.remote.webelement.WebElement (session=\"d565fd0b34fa5c44c076b9117c14ad2a\", element=\"a9c8bf1c-0d0d-4cb4-8d79-ec859c4be35c\")>,\n",
       " <selenium.webdriver.remote.webelement.WebElement (session=\"d565fd0b34fa5c44c076b9117c14ad2a\", element=\"e0b6cfb4-4c42-4084-866f-a0eb46ec6edb\")>,\n",
       " <selenium.webdriver.remote.webelement.WebElement (session=\"d565fd0b34fa5c44c076b9117c14ad2a\", element=\"5903ae5e-f6b4-496e-ae48-7c106e64dc2e\")>,\n",
       " <selenium.webdriver.remote.webelement.WebElement (session=\"d565fd0b34fa5c44c076b9117c14ad2a\", element=\"df7eb2a3-f45d-499c-8a36-57a6ff55b4db\")>,\n",
       " <selenium.webdriver.remote.webelement.WebElement (session=\"d565fd0b34fa5c44c076b9117c14ad2a\", element=\"d06cfbb0-56d4-4b1b-994d-9aa02f11b299\")>,\n",
       " <selenium.webdriver.remote.webelement.WebElement (session=\"d565fd0b34fa5c44c076b9117c14ad2a\", element=\"50ec5ecb-8ebc-481d-ac99-d2b268304373\")>,\n",
       " <selenium.webdriver.remote.webelement.WebElement (session=\"d565fd0b34fa5c44c076b9117c14ad2a\", element=\"3175e3a3-0a8e-47a7-9b32-df80b14ececc\")>,\n",
       " <selenium.webdriver.remote.webelement.WebElement (session=\"d565fd0b34fa5c44c076b9117c14ad2a\", element=\"5cba922c-6498-4033-893d-70ea78616303\")>,\n",
       " <selenium.webdriver.remote.webelement.WebElement (session=\"d565fd0b34fa5c44c076b9117c14ad2a\", element=\"93f1ad5c-3fed-4206-99c3-e3d7241400ae\")>,\n",
       " <selenium.webdriver.remote.webelement.WebElement (session=\"d565fd0b34fa5c44c076b9117c14ad2a\", element=\"3c82a1d3-70de-4bf7-b844-74ea859562f9\")>,\n",
       " <selenium.webdriver.remote.webelement.WebElement (session=\"d565fd0b34fa5c44c076b9117c14ad2a\", element=\"93a48386-b232-4aea-a957-eef9c814b238\")>,\n",
       " <selenium.webdriver.remote.webelement.WebElement (session=\"d565fd0b34fa5c44c076b9117c14ad2a\", element=\"aefdc5b3-3031-4437-9eca-9b5254e7dae5\")>,\n",
       " <selenium.webdriver.remote.webelement.WebElement (session=\"d565fd0b34fa5c44c076b9117c14ad2a\", element=\"6b6dac88-a211-4d0d-870f-0f135e31f13f\")>,\n",
       " <selenium.webdriver.remote.webelement.WebElement (session=\"d565fd0b34fa5c44c076b9117c14ad2a\", element=\"2eb22e9e-3f8b-463f-9801-1f17c5f4fb28\")>,\n",
       " <selenium.webdriver.remote.webelement.WebElement (session=\"d565fd0b34fa5c44c076b9117c14ad2a\", element=\"18a5515e-ab57-48a7-bd85-2bda05f91e45\")>,\n",
       " <selenium.webdriver.remote.webelement.WebElement (session=\"d565fd0b34fa5c44c076b9117c14ad2a\", element=\"a2b3410f-3fed-4a4b-831b-3f7b2f820368\")>,\n",
       " <selenium.webdriver.remote.webelement.WebElement (session=\"d565fd0b34fa5c44c076b9117c14ad2a\", element=\"3e8e966f-13e1-4511-b4bb-54ee86564f0b\")>,\n",
       " <selenium.webdriver.remote.webelement.WebElement (session=\"d565fd0b34fa5c44c076b9117c14ad2a\", element=\"854e6b94-5eb1-4605-abff-ab1f43b810b1\")>,\n",
       " <selenium.webdriver.remote.webelement.WebElement (session=\"d565fd0b34fa5c44c076b9117c14ad2a\", element=\"59164f10-e4e3-466d-96f0-19cd9e7d5cd0\")>,\n",
       " <selenium.webdriver.remote.webelement.WebElement (session=\"d565fd0b34fa5c44c076b9117c14ad2a\", element=\"ab3fcab0-e00a-447a-a07e-e4fe8366797b\")>,\n",
       " <selenium.webdriver.remote.webelement.WebElement (session=\"d565fd0b34fa5c44c076b9117c14ad2a\", element=\"2c501342-2450-4caa-8600-1461bb975771\")>,\n",
       " <selenium.webdriver.remote.webelement.WebElement (session=\"d565fd0b34fa5c44c076b9117c14ad2a\", element=\"8d248d94-56d8-4a95-b322-fb133b7c6643\")>,\n",
       " <selenium.webdriver.remote.webelement.WebElement (session=\"d565fd0b34fa5c44c076b9117c14ad2a\", element=\"2be86f91-9508-4017-b765-4f9e8274be55\")>,\n",
       " <selenium.webdriver.remote.webelement.WebElement (session=\"d565fd0b34fa5c44c076b9117c14ad2a\", element=\"4053e2a8-041d-48c1-b54b-e7f4f2badbef\")>,\n",
       " <selenium.webdriver.remote.webelement.WebElement (session=\"d565fd0b34fa5c44c076b9117c14ad2a\", element=\"2f2bf8de-a4d8-483c-a54d-1e890cebba47\")>,\n",
       " <selenium.webdriver.remote.webelement.WebElement (session=\"d565fd0b34fa5c44c076b9117c14ad2a\", element=\"4e1d11b8-be73-47b6-b558-0c2330a2037c\")>,\n",
       " <selenium.webdriver.remote.webelement.WebElement (session=\"d565fd0b34fa5c44c076b9117c14ad2a\", element=\"1917ab6a-6703-449d-bf37-4ca4be4b25a6\")>,\n",
       " <selenium.webdriver.remote.webelement.WebElement (session=\"d565fd0b34fa5c44c076b9117c14ad2a\", element=\"228e229d-694f-45a4-b74e-3b49f2f33aa7\")>,\n",
       " <selenium.webdriver.remote.webelement.WebElement (session=\"d565fd0b34fa5c44c076b9117c14ad2a\", element=\"89090079-9868-4f6d-b96b-53d1fc6de53f\")>,\n",
       " <selenium.webdriver.remote.webelement.WebElement (session=\"d565fd0b34fa5c44c076b9117c14ad2a\", element=\"4fd6512d-a9f5-4940-a95b-8fbfd668b2e8\")>,\n",
       " <selenium.webdriver.remote.webelement.WebElement (session=\"d565fd0b34fa5c44c076b9117c14ad2a\", element=\"e9ddfbfb-8696-4680-89c0-405896a3de07\")>,\n",
       " <selenium.webdriver.remote.webelement.WebElement (session=\"d565fd0b34fa5c44c076b9117c14ad2a\", element=\"a7aa5a10-4af6-4d71-a7b3-e2ddc5536387\")>,\n",
       " <selenium.webdriver.remote.webelement.WebElement (session=\"d565fd0b34fa5c44c076b9117c14ad2a\", element=\"71f9a9ee-e305-4c38-9eeb-fd74bbc4e465\")>,\n",
       " <selenium.webdriver.remote.webelement.WebElement (session=\"d565fd0b34fa5c44c076b9117c14ad2a\", element=\"34ad32a3-2026-437c-80f9-6ae2e9c2b70d\")>,\n",
       " <selenium.webdriver.remote.webelement.WebElement (session=\"d565fd0b34fa5c44c076b9117c14ad2a\", element=\"71b087e9-8c73-42b9-8b15-aae329e90000\")>,\n",
       " <selenium.webdriver.remote.webelement.WebElement (session=\"d565fd0b34fa5c44c076b9117c14ad2a\", element=\"7816a6d7-e331-442d-9a80-8c29a2213d33\")>,\n",
       " <selenium.webdriver.remote.webelement.WebElement (session=\"d565fd0b34fa5c44c076b9117c14ad2a\", element=\"23c9841f-f6d2-42f8-9267-963923485113\")>,\n",
       " <selenium.webdriver.remote.webelement.WebElement (session=\"d565fd0b34fa5c44c076b9117c14ad2a\", element=\"13feb136-0b52-42c5-92bb-2f40b83ead48\")>,\n",
       " <selenium.webdriver.remote.webelement.WebElement (session=\"d565fd0b34fa5c44c076b9117c14ad2a\", element=\"cfedf234-5cd4-44c5-913b-050e406f4a65\")>,\n",
       " <selenium.webdriver.remote.webelement.WebElement (session=\"d565fd0b34fa5c44c076b9117c14ad2a\", element=\"5e42a07a-1ee9-4f19-815b-58c6f4d95f85\")>,\n",
       " <selenium.webdriver.remote.webelement.WebElement (session=\"d565fd0b34fa5c44c076b9117c14ad2a\", element=\"53ee166d-db6d-4ce5-98a9-8f92c63739ae\")>,\n",
       " <selenium.webdriver.remote.webelement.WebElement (session=\"d565fd0b34fa5c44c076b9117c14ad2a\", element=\"15e56fb2-91da-4e6e-af91-ba9ab97f9b30\")>,\n",
       " <selenium.webdriver.remote.webelement.WebElement (session=\"d565fd0b34fa5c44c076b9117c14ad2a\", element=\"77800776-c252-45d7-bfdb-f74938c1c19f\")>,\n",
       " <selenium.webdriver.remote.webelement.WebElement (session=\"d565fd0b34fa5c44c076b9117c14ad2a\", element=\"5f8172f8-0356-43da-92c9-1b913ae8b5cf\")>,\n",
       " <selenium.webdriver.remote.webelement.WebElement (session=\"d565fd0b34fa5c44c076b9117c14ad2a\", element=\"2d12a408-7f85-4d6c-a1b0-560649f765fe\")>,\n",
       " <selenium.webdriver.remote.webelement.WebElement (session=\"d565fd0b34fa5c44c076b9117c14ad2a\", element=\"2ea9ac8d-fb5a-4434-a594-b3999a55715a\")>,\n",
       " <selenium.webdriver.remote.webelement.WebElement (session=\"d565fd0b34fa5c44c076b9117c14ad2a\", element=\"cc8b5a5d-41bf-4511-8bba-be66fc3921c4\")>,\n",
       " <selenium.webdriver.remote.webelement.WebElement (session=\"d565fd0b34fa5c44c076b9117c14ad2a\", element=\"f3b91d48-67c5-4aee-98b8-12ef1ac1f991\")>,\n",
       " <selenium.webdriver.remote.webelement.WebElement (session=\"d565fd0b34fa5c44c076b9117c14ad2a\", element=\"bbb19a3f-08f1-4607-b3df-5ed3872a2665\")>,\n",
       " <selenium.webdriver.remote.webelement.WebElement (session=\"d565fd0b34fa5c44c076b9117c14ad2a\", element=\"bbd159d2-52e2-46e9-8b87-50ed52b29ac9\")>,\n",
       " <selenium.webdriver.remote.webelement.WebElement (session=\"d565fd0b34fa5c44c076b9117c14ad2a\", element=\"7724228c-2060-4295-a51f-b10ff5bd6741\")>,\n",
       " <selenium.webdriver.remote.webelement.WebElement (session=\"d565fd0b34fa5c44c076b9117c14ad2a\", element=\"766a9496-ca89-4baa-840a-8ed295b58e97\")>,\n",
       " <selenium.webdriver.remote.webelement.WebElement (session=\"d565fd0b34fa5c44c076b9117c14ad2a\", element=\"e17e0945-6f21-416e-8b2f-8158663d6d17\")>,\n",
       " <selenium.webdriver.remote.webelement.WebElement (session=\"d565fd0b34fa5c44c076b9117c14ad2a\", element=\"aed342a2-3002-4b1a-8f09-910c1a9342a1\")>,\n",
       " <selenium.webdriver.remote.webelement.WebElement (session=\"d565fd0b34fa5c44c076b9117c14ad2a\", element=\"db088f03-e189-4fbb-8681-ccd4db8eb6a2\")>,\n",
       " <selenium.webdriver.remote.webelement.WebElement (session=\"d565fd0b34fa5c44c076b9117c14ad2a\", element=\"09b43ef4-75e6-4d72-9e41-12a2faece70b\")>,\n",
       " <selenium.webdriver.remote.webelement.WebElement (session=\"d565fd0b34fa5c44c076b9117c14ad2a\", element=\"bfc61077-93c5-4cd7-bf87-5a65ba6ea617\")>,\n",
       " <selenium.webdriver.remote.webelement.WebElement (session=\"d565fd0b34fa5c44c076b9117c14ad2a\", element=\"d9fb392e-8865-43bb-8867-dd41ea51414b\")>,\n",
       " <selenium.webdriver.remote.webelement.WebElement (session=\"d565fd0b34fa5c44c076b9117c14ad2a\", element=\"31958ef1-c60e-4557-bb4f-2bfedbc8b05c\")>,\n",
       " <selenium.webdriver.remote.webelement.WebElement (session=\"d565fd0b34fa5c44c076b9117c14ad2a\", element=\"5a8eb360-ce0c-43b3-aff3-bee296e25887\")>,\n",
       " <selenium.webdriver.remote.webelement.WebElement (session=\"d565fd0b34fa5c44c076b9117c14ad2a\", element=\"91cd8c36-6f46-4e5a-a612-d79a1d7069a5\")>,\n",
       " <selenium.webdriver.remote.webelement.WebElement (session=\"d565fd0b34fa5c44c076b9117c14ad2a\", element=\"370d7053-da16-4508-a065-d7a17cfd2705\")>,\n",
       " <selenium.webdriver.remote.webelement.WebElement (session=\"d565fd0b34fa5c44c076b9117c14ad2a\", element=\"aa6fc1e6-6ae6-4874-8698-bbb61412bd25\")>,\n",
       " <selenium.webdriver.remote.webelement.WebElement (session=\"d565fd0b34fa5c44c076b9117c14ad2a\", element=\"0083640e-1473-4f0f-ac2c-6d7336405338\")>,\n",
       " <selenium.webdriver.remote.webelement.WebElement (session=\"d565fd0b34fa5c44c076b9117c14ad2a\", element=\"58882691-4bd6-4267-8e4f-4d39a6edd7a2\")>,\n",
       " <selenium.webdriver.remote.webelement.WebElement (session=\"d565fd0b34fa5c44c076b9117c14ad2a\", element=\"bd9f3263-9d5d-4fe7-99c0-2bc0d3ef4a31\")>,\n",
       " <selenium.webdriver.remote.webelement.WebElement (session=\"d565fd0b34fa5c44c076b9117c14ad2a\", element=\"4f0db410-6bf8-4f7a-ad18-56003595d415\")>,\n",
       " <selenium.webdriver.remote.webelement.WebElement (session=\"d565fd0b34fa5c44c076b9117c14ad2a\", element=\"87e5c28e-ca83-4c36-9875-1cf1dae96fee\")>,\n",
       " <selenium.webdriver.remote.webelement.WebElement (session=\"d565fd0b34fa5c44c076b9117c14ad2a\", element=\"9c81c9d8-261f-469c-89db-be2a3b838ddc\")>,\n",
       " <selenium.webdriver.remote.webelement.WebElement (session=\"d565fd0b34fa5c44c076b9117c14ad2a\", element=\"47fec5a8-beae-4ac8-9b2b-8a37f4c9ac13\")>,\n",
       " <selenium.webdriver.remote.webelement.WebElement (session=\"d565fd0b34fa5c44c076b9117c14ad2a\", element=\"22e874f4-f7d4-46fd-b2bf-d6917bbc354c\")>,\n",
       " <selenium.webdriver.remote.webelement.WebElement (session=\"d565fd0b34fa5c44c076b9117c14ad2a\", element=\"d7cc187f-b8a4-4e95-98b2-c3c149c9d5ac\")>,\n",
       " <selenium.webdriver.remote.webelement.WebElement (session=\"d565fd0b34fa5c44c076b9117c14ad2a\", element=\"f8ac4886-0a39-4668-94e1-45f572134890\")>,\n",
       " <selenium.webdriver.remote.webelement.WebElement (session=\"d565fd0b34fa5c44c076b9117c14ad2a\", element=\"9853bfc7-e6ea-4718-be37-1c3916e607cd\")>,\n",
       " <selenium.webdriver.remote.webelement.WebElement (session=\"d565fd0b34fa5c44c076b9117c14ad2a\", element=\"6e3bc8aa-04de-4cc3-87a6-aca94ffd73a5\")>,\n",
       " <selenium.webdriver.remote.webelement.WebElement (session=\"d565fd0b34fa5c44c076b9117c14ad2a\", element=\"77eb8e81-93ed-45d2-b97a-69c1b06bb248\")>,\n",
       " <selenium.webdriver.remote.webelement.WebElement (session=\"d565fd0b34fa5c44c076b9117c14ad2a\", element=\"8a5d0855-f59b-4417-8aa0-f7ffa4c1ba66\")>,\n",
       " <selenium.webdriver.remote.webelement.WebElement (session=\"d565fd0b34fa5c44c076b9117c14ad2a\", element=\"ba846ad7-2540-4439-b856-b10f72eaa2d6\")>,\n",
       " <selenium.webdriver.remote.webelement.WebElement (session=\"d565fd0b34fa5c44c076b9117c14ad2a\", element=\"2461151a-8955-446c-bbfc-43c3156f0dd9\")>,\n",
       " <selenium.webdriver.remote.webelement.WebElement (session=\"d565fd0b34fa5c44c076b9117c14ad2a\", element=\"5f6c7da3-f394-44f7-b082-a1fe8e5efdc7\")>,\n",
       " <selenium.webdriver.remote.webelement.WebElement (session=\"d565fd0b34fa5c44c076b9117c14ad2a\", element=\"54f5515c-a2c5-4af2-a46f-bd336e93d9a8\")>,\n",
       " <selenium.webdriver.remote.webelement.WebElement (session=\"d565fd0b34fa5c44c076b9117c14ad2a\", element=\"f21f4ff8-fdfe-4896-861d-678d6bc30998\")>,\n",
       " <selenium.webdriver.remote.webelement.WebElement (session=\"d565fd0b34fa5c44c076b9117c14ad2a\", element=\"af4b4d12-4f42-4bab-ada1-04f08cfe7777\")>,\n",
       " <selenium.webdriver.remote.webelement.WebElement (session=\"d565fd0b34fa5c44c076b9117c14ad2a\", element=\"98cb1ca4-d26c-4bfc-814b-6b6f07658c8f\")>,\n",
       " <selenium.webdriver.remote.webelement.WebElement (session=\"d565fd0b34fa5c44c076b9117c14ad2a\", element=\"7b392c7a-8b0f-438a-ac43-e244845de322\")>,\n",
       " <selenium.webdriver.remote.webelement.WebElement (session=\"d565fd0b34fa5c44c076b9117c14ad2a\", element=\"2c40f8f1-77fe-49dc-8026-330ba89ab085\")>,\n",
       " <selenium.webdriver.remote.webelement.WebElement (session=\"d565fd0b34fa5c44c076b9117c14ad2a\", element=\"1db3c3c5-f64f-4620-9ed6-c97df3e28d1c\")>,\n",
       " <selenium.webdriver.remote.webelement.WebElement (session=\"d565fd0b34fa5c44c076b9117c14ad2a\", element=\"8d63fa2c-c3d2-4090-b88b-4040b1f0fad0\")>,\n",
       " <selenium.webdriver.remote.webelement.WebElement (session=\"d565fd0b34fa5c44c076b9117c14ad2a\", element=\"0b6a86ca-94aa-44b5-906a-1035618c2590\")>,\n",
       " <selenium.webdriver.remote.webelement.WebElement (session=\"d565fd0b34fa5c44c076b9117c14ad2a\", element=\"bc4b3b07-4e29-4441-9487-d27487192d87\")>,\n",
       " <selenium.webdriver.remote.webelement.WebElement (session=\"d565fd0b34fa5c44c076b9117c14ad2a\", element=\"f24dde68-180b-4268-bb83-ff265ec0c73e\")>,\n",
       " <selenium.webdriver.remote.webelement.WebElement (session=\"d565fd0b34fa5c44c076b9117c14ad2a\", element=\"25f8f5f1-1ba5-4641-abb6-e81cd1dd11f3\")>]"
      ]
     },
     "execution_count": 117,
     "metadata": {},
     "output_type": "execute_result"
    }
   ],
   "source": [
    "line4=browser.find_elements(\"xpath\",\"//div[@class='td-wrap-in']\")\n",
    "line4"
   ]
  },
  {
   "cell_type": "code",
   "execution_count": 118,
   "id": "e50bf843",
   "metadata": {},
   "outputs": [
    {
     "data": {
      "text/plain": [
       "['100', '100', '100', '100', '100', '90', '100', '96.1', '100']"
      ]
     },
     "execution_count": 118,
     "metadata": {},
     "output_type": "execute_result"
    }
   ],
   "source": [
    "#PARSING DATA\n",
    "value=[]\n",
    "for data in line4:\n",
    "    #get the text data\n",
    "    temp=data.text\n",
    "    value.append(temp)\n",
    "value_h=value[1:10]\n",
    "value_h"
   ]
  },
  {
   "cell_type": "code",
   "execution_count": 119,
   "id": "8bbae9b2",
   "metadata": {},
   "outputs": [
    {
     "data": {
      "text/plain": [
       "{'Name': 'Massachusetts Institute of Technology (MIT)',\n",
       " 'Location': 'Cambridge, United States',\n",
       " 'Rank': '1',\n",
       " 'Overall Score': '100',\n",
       " 'Academic Reputation': '100',\n",
       " 'Employer Reputation': '100',\n",
       " 'Citations per Faculty': '100',\n",
       " 'Faculty Student Ratio': '100',\n",
       " 'International Students Ratio': '90',\n",
       " 'International Faculty Ratio': '100',\n",
       " 'International Research Network\\nUnweighted': '96.1',\n",
       " 'Employment Outcomes\\nUnweighted': '100'}"
      ]
     },
     "execution_count": 119,
     "metadata": {},
     "output_type": "execute_result"
    }
   ],
   "source": [
    "d={}\n",
    "d['Name']=value[0]\n",
    "d['Location']=address[0]\n",
    "d['Rank']=Rank[0]\n",
    "for i in range(len(column)):\n",
    "    d[column[i]]=value_h[i]\n",
    "    \n",
    "d"
   ]
  },
  {
   "cell_type": "code",
   "execution_count": 120,
   "id": "bbc91702",
   "metadata": {},
   "outputs": [
    {
     "data": {
      "text/plain": [
       "'{\"Name\": \"Massachusetts Institute of Technology (MIT)\", \"Location\": \"Cambridge, United States\", \"Rank\": \"1\", \"Overall Score\": \"100\", \"Academic Reputation\": \"100\", \"Employer Reputation\": \"100\", \"Citations per Faculty\": \"100\", \"Faculty Student Ratio\": \"100\", \"International Students Ratio\": \"90\", \"International Faculty Ratio\": \"100\", \"International Research Network\\\\nUnweighted\": \"96.1\", \"Employment Outcomes\\\\nUnweighted\": \"100\"}'"
      ]
     },
     "execution_count": 120,
     "metadata": {},
     "output_type": "execute_result"
    }
   ],
   "source": [
    "s1=json.dumps(d)\n",
    "s1"
   ]
  },
  {
   "cell_type": "code",
   "execution_count": 121,
   "id": "62b9506f",
   "metadata": {},
   "outputs": [],
   "source": [
    "with open('Massachusetts Institute of Technology (MIT).json','w') as f:\n",
    "    json.dump(d,f)"
   ]
  },
  {
   "cell_type": "code",
   "execution_count": null,
   "id": "2085e305",
   "metadata": {},
   "outputs": [],
   "source": []
  }
 ],
 "metadata": {
  "kernelspec": {
   "display_name": "Python 3.9.12 ('base')",
   "language": "python",
   "name": "python3"
  },
  "language_info": {
   "codemirror_mode": {
    "name": "ipython",
    "version": 3
   },
   "file_extension": ".py",
   "mimetype": "text/x-python",
   "name": "python",
   "nbconvert_exporter": "python",
   "pygments_lexer": "ipython3",
   "version": "3.9.12"
  },
  "vscode": {
   "interpreter": {
    "hash": "ad2bdc8ecc057115af97d19610ffacc2b4e99fae6737bb82f5d7fb13d2f2c186"
   }
  }
 },
 "nbformat": 4,
 "nbformat_minor": 5
}
