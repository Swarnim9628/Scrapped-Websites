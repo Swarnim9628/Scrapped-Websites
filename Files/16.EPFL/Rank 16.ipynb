{
 "cells": [
  {
   "cell_type": "code",
   "execution_count": 1,
   "id": "e4fdf0a8",
   "metadata": {},
   "outputs": [],
   "source": [
    "from selenium import webdriver\n",
    "from selenium.webdriver.chrome.service import Service\n",
    "import pandas as pd\n",
    "import json"
   ]
  },
  {
   "cell_type": "code",
   "execution_count": 2,
   "id": "800bb96a",
   "metadata": {},
   "outputs": [],
   "source": [
    "path = Service('C:\\chromedriver.exe')\n"
   ]
  },
  {
   "cell_type": "code",
   "execution_count": 3,
   "id": "15b86456",
   "metadata": {},
   "outputs": [],
   "source": [
    "browser = webdriver.Chrome(service = path)\n"
   ]
  },
  {
   "cell_type": "code",
   "execution_count": 4,
   "id": "6de6b146",
   "metadata": {},
   "outputs": [],
   "source": [
    "url = \"https://www.topuniversities.com/university-rankings/world-university-rankings/2023\""
   ]
  },
  {
   "cell_type": "code",
   "execution_count": 5,
   "id": "c1752116",
   "metadata": {},
   "outputs": [],
   "source": [
    "# open the page url ion chrome\n",
    "browser.get(url)"
   ]
  },
  {
   "cell_type": "code",
   "execution_count": 6,
   "id": "b2df168b",
   "metadata": {},
   "outputs": [
    {
     "data": {
      "text/plain": [
       "[<selenium.webdriver.remote.webelement.WebElement (session=\"d5e882bd35309e38d88a6bc6d5e5dcea\", element=\"7c0b50e4-3247-4ab4-85ec-bdbcab7d7b3d\")>,\n",
       " <selenium.webdriver.remote.webelement.WebElement (session=\"d5e882bd35309e38d88a6bc6d5e5dcea\", element=\"00534762-dd3f-4d50-bf7b-b836c5e3776d\")>,\n",
       " <selenium.webdriver.remote.webelement.WebElement (session=\"d5e882bd35309e38d88a6bc6d5e5dcea\", element=\"6be4e6df-25c7-4341-9889-ba4de53382e5\")>,\n",
       " <selenium.webdriver.remote.webelement.WebElement (session=\"d5e882bd35309e38d88a6bc6d5e5dcea\", element=\"b0812985-65b6-4d02-8b74-2bdafc55ec53\")>,\n",
       " <selenium.webdriver.remote.webelement.WebElement (session=\"d5e882bd35309e38d88a6bc6d5e5dcea\", element=\"01542838-2c11-4ead-9c87-0dd2e877d16a\")>,\n",
       " <selenium.webdriver.remote.webelement.WebElement (session=\"d5e882bd35309e38d88a6bc6d5e5dcea\", element=\"cbc39b5a-a05f-4dfb-a4d2-48fb4513859e\")>,\n",
       " <selenium.webdriver.remote.webelement.WebElement (session=\"d5e882bd35309e38d88a6bc6d5e5dcea\", element=\"4a7474aa-a88d-4578-a287-6b37c2b6e984\")>,\n",
       " <selenium.webdriver.remote.webelement.WebElement (session=\"d5e882bd35309e38d88a6bc6d5e5dcea\", element=\"19e0c64b-d47b-4936-b035-0949f921fbf2\")>,\n",
       " <selenium.webdriver.remote.webelement.WebElement (session=\"d5e882bd35309e38d88a6bc6d5e5dcea\", element=\"0d5214b6-bfbe-4e58-a2f8-051e7954cd0a\")>,\n",
       " <selenium.webdriver.remote.webelement.WebElement (session=\"d5e882bd35309e38d88a6bc6d5e5dcea\", element=\"a194217b-2596-446c-9ac8-924551089a3b\")>,\n",
       " <selenium.webdriver.remote.webelement.WebElement (session=\"d5e882bd35309e38d88a6bc6d5e5dcea\", element=\"50f83e3b-626e-4a4d-9d0d-070e7ded0749\")>,\n",
       " <selenium.webdriver.remote.webelement.WebElement (session=\"d5e882bd35309e38d88a6bc6d5e5dcea\", element=\"4cc96d1c-5d94-49f8-b48a-9166f34e8a46\")>,\n",
       " <selenium.webdriver.remote.webelement.WebElement (session=\"d5e882bd35309e38d88a6bc6d5e5dcea\", element=\"861e6303-2ca2-434d-a2d7-8185c9b3f66c\")>,\n",
       " <selenium.webdriver.remote.webelement.WebElement (session=\"d5e882bd35309e38d88a6bc6d5e5dcea\", element=\"3bc5485c-d6ec-4584-ac9d-1ee43addf87c\")>,\n",
       " <selenium.webdriver.remote.webelement.WebElement (session=\"d5e882bd35309e38d88a6bc6d5e5dcea\", element=\"5ca162f2-a742-41dc-81f4-d37e8cb5e87b\")>,\n",
       " <selenium.webdriver.remote.webelement.WebElement (session=\"d5e882bd35309e38d88a6bc6d5e5dcea\", element=\"7d842954-1a59-4340-ba8c-805a8bb0f810\")>,\n",
       " <selenium.webdriver.remote.webelement.WebElement (session=\"d5e882bd35309e38d88a6bc6d5e5dcea\", element=\"cefbde66-6992-406b-be93-627aee4b0f7f\")>,\n",
       " <selenium.webdriver.remote.webelement.WebElement (session=\"d5e882bd35309e38d88a6bc6d5e5dcea\", element=\"7bf8ef00-6960-4c1c-ab74-878e2e86d538\")>,\n",
       " <selenium.webdriver.remote.webelement.WebElement (session=\"d5e882bd35309e38d88a6bc6d5e5dcea\", element=\"2d743425-6070-4aa3-86ab-f4515ed28210\")>,\n",
       " <selenium.webdriver.remote.webelement.WebElement (session=\"d5e882bd35309e38d88a6bc6d5e5dcea\", element=\"a9aaa1e5-5e8e-42e1-a2c4-894bdad0d0a2\")>]"
      ]
     },
     "execution_count": 6,
     "metadata": {},
     "output_type": "execute_result"
    }
   ],
   "source": [
    "line1=browser.find_elements(\"xpath\",\"//div[@class='location ']\")\n",
    "line1"
   ]
  },
  {
   "cell_type": "code",
   "execution_count": 7,
   "id": "b161f320",
   "metadata": {},
   "outputs": [
    {
     "data": {
      "text/plain": [
       "['Singapore, Singapore',\n",
       " 'Beijing, China (Mainland)',\n",
       " 'Philadelphia, United States',\n",
       " 'Beijing, China (Mainland)',\n",
       " 'Edinburgh, United Kingdom',\n",
       " 'Lausanne, Switzerland',\n",
       " 'Princeton, United States',\n",
       " 'New Haven, United States',\n",
       " 'Singapore, Singapore',\n",
       " 'Ithaca, United States']"
      ]
     },
     "execution_count": 7,
     "metadata": {},
     "output_type": "execute_result"
    }
   ],
   "source": [
    "address=[]\n",
    "for data in line1:\n",
    "    #get the text data\n",
    "    temp=data.text\n",
    "    address.append(temp)\n",
    "address=address[10:]\n",
    "address"
   ]
  },
  {
   "cell_type": "code",
   "execution_count": 8,
   "id": "2b11da25",
   "metadata": {},
   "outputs": [
    {
     "data": {
      "text/plain": [
       "[<selenium.webdriver.remote.webelement.WebElement (session=\"d5e882bd35309e38d88a6bc6d5e5dcea\", element=\"3fb267c4-d042-48a9-9117-283196e6e469\")>,\n",
       " <selenium.webdriver.remote.webelement.WebElement (session=\"d5e882bd35309e38d88a6bc6d5e5dcea\", element=\"fc072b26-8f6d-49f5-8195-766580c0bc7e\")>,\n",
       " <selenium.webdriver.remote.webelement.WebElement (session=\"d5e882bd35309e38d88a6bc6d5e5dcea\", element=\"3652ec1d-2f04-461d-932e-107583f20420\")>,\n",
       " <selenium.webdriver.remote.webelement.WebElement (session=\"d5e882bd35309e38d88a6bc6d5e5dcea\", element=\"f53fc823-1bb1-4c5b-80a9-3c2337d959d7\")>,\n",
       " <selenium.webdriver.remote.webelement.WebElement (session=\"d5e882bd35309e38d88a6bc6d5e5dcea\", element=\"adeb93af-0a0a-4cf1-add6-a24b665692c5\")>,\n",
       " <selenium.webdriver.remote.webelement.WebElement (session=\"d5e882bd35309e38d88a6bc6d5e5dcea\", element=\"624afae6-0d14-47df-b639-52c810bf423a\")>,\n",
       " <selenium.webdriver.remote.webelement.WebElement (session=\"d5e882bd35309e38d88a6bc6d5e5dcea\", element=\"1882e0c5-12e9-4abd-a25a-8ca3f9c21680\")>,\n",
       " <selenium.webdriver.remote.webelement.WebElement (session=\"d5e882bd35309e38d88a6bc6d5e5dcea\", element=\"f9a789ca-8cee-4661-8c69-6e208bcc263a\")>,\n",
       " <selenium.webdriver.remote.webelement.WebElement (session=\"d5e882bd35309e38d88a6bc6d5e5dcea\", element=\"c425292f-153c-4da5-ac5c-b14016f1dd7d\")>,\n",
       " <selenium.webdriver.remote.webelement.WebElement (session=\"d5e882bd35309e38d88a6bc6d5e5dcea\", element=\"0ac2be67-1242-4dcc-92ea-691663ab0357\")>]"
      ]
     },
     "execution_count": 8,
     "metadata": {},
     "output_type": "execute_result"
    }
   ],
   "source": [
    "line2=browser.find_elements(\"xpath\",\"//div[@class='_univ-rank ']\")\n",
    "line2"
   ]
  },
  {
   "cell_type": "code",
   "execution_count": 9,
   "id": "14e46a68",
   "metadata": {},
   "outputs": [
    {
     "data": {
      "text/plain": [
       "['11', '12', '13', '14', '15', '=16', '=16', '18', '19', '20']"
      ]
     },
     "execution_count": 9,
     "metadata": {},
     "output_type": "execute_result"
    }
   ],
   "source": [
    "Rank=[]\n",
    "for data in line2:\n",
    "    #get the text data\n",
    "    temp=data.text\n",
    "    Rank.append(temp)\n",
    "Rank\n"
   ]
  },
  {
   "cell_type": "code",
   "execution_count": 10,
   "id": "27c54e38",
   "metadata": {},
   "outputs": [
    {
     "data": {
      "text/plain": [
       "[<selenium.webdriver.remote.webelement.WebElement (session=\"d5e882bd35309e38d88a6bc6d5e5dcea\", element=\"10889b22-33e6-49d6-a665-7668175cab5d\")>,\n",
       " <selenium.webdriver.remote.webelement.WebElement (session=\"d5e882bd35309e38d88a6bc6d5e5dcea\", element=\"4dd90fdb-0ec1-4de9-bf41-0329ca1201ff\")>,\n",
       " <selenium.webdriver.remote.webelement.WebElement (session=\"d5e882bd35309e38d88a6bc6d5e5dcea\", element=\"88ecb3a9-9c3f-484a-af03-23f7bf912843\")>,\n",
       " <selenium.webdriver.remote.webelement.WebElement (session=\"d5e882bd35309e38d88a6bc6d5e5dcea\", element=\"a0da547b-61ee-4966-a800-36e1d107ba23\")>,\n",
       " <selenium.webdriver.remote.webelement.WebElement (session=\"d5e882bd35309e38d88a6bc6d5e5dcea\", element=\"2e68239e-a925-4289-baad-1e9c9948fd24\")>,\n",
       " <selenium.webdriver.remote.webelement.WebElement (session=\"d5e882bd35309e38d88a6bc6d5e5dcea\", element=\"d3a5fee8-0b1d-4a37-966d-acb202ec8b26\")>,\n",
       " <selenium.webdriver.remote.webelement.WebElement (session=\"d5e882bd35309e38d88a6bc6d5e5dcea\", element=\"9746c5f7-7f25-4d67-8e1d-e81028e82c90\")>,\n",
       " <selenium.webdriver.remote.webelement.WebElement (session=\"d5e882bd35309e38d88a6bc6d5e5dcea\", element=\"4e8c68f5-1104-4245-9d32-980a2efcfbe8\")>,\n",
       " <selenium.webdriver.remote.webelement.WebElement (session=\"d5e882bd35309e38d88a6bc6d5e5dcea\", element=\"f5bb359d-0cef-430e-9f14-b98151574335\")>]"
      ]
     },
     "execution_count": 10,
     "metadata": {},
     "output_type": "execute_result"
    }
   ],
   "source": [
    "# GET EACH COLLEGE SPECIFICATION HEADERS\n",
    "line3=browser.find_elements(\"xpath\",\"//div[@class='_click-function_ind']\")\n",
    "line3"
   ]
  },
  {
   "cell_type": "code",
   "execution_count": 11,
   "id": "0236fd37",
   "metadata": {},
   "outputs": [
    {
     "data": {
      "text/plain": [
       "['Overall Score',\n",
       " 'Academic Reputation',\n",
       " 'Employer Reputation',\n",
       " 'Citations per Faculty',\n",
       " 'Faculty Student Ratio',\n",
       " 'International Students Ratio',\n",
       " 'International Faculty Ratio',\n",
       " 'International Research Network\\nUnweighted',\n",
       " 'Employment Outcomes\\nUnweighted']"
      ]
     },
     "execution_count": 11,
     "metadata": {},
     "output_type": "execute_result"
    }
   ],
   "source": [
    "\n",
    "#PARSING DATA\n",
    "column=[]\n",
    "for data in line3:\n",
    "    #get the text data\n",
    "    temp=data.text\n",
    "    column.append(temp)\n",
    "column"
   ]
  },
  {
   "cell_type": "code",
   "execution_count": 12,
   "id": "91381c60",
   "metadata": {},
   "outputs": [
    {
     "data": {
      "text/plain": [
       "[<selenium.webdriver.remote.webelement.WebElement (session=\"d5e882bd35309e38d88a6bc6d5e5dcea\", element=\"aacf9601-53fd-4ebe-8c10-a9c7666c7ca9\")>,\n",
       " <selenium.webdriver.remote.webelement.WebElement (session=\"d5e882bd35309e38d88a6bc6d5e5dcea\", element=\"8ee246ad-1fea-471b-862d-4652406b78fe\")>,\n",
       " <selenium.webdriver.remote.webelement.WebElement (session=\"d5e882bd35309e38d88a6bc6d5e5dcea\", element=\"140ffa2d-6fc9-469d-8ab1-7930dd913d73\")>,\n",
       " <selenium.webdriver.remote.webelement.WebElement (session=\"d5e882bd35309e38d88a6bc6d5e5dcea\", element=\"51f7f882-1fa1-41f1-a02b-38a59d9442d1\")>,\n",
       " <selenium.webdriver.remote.webelement.WebElement (session=\"d5e882bd35309e38d88a6bc6d5e5dcea\", element=\"da6292a0-6600-45b8-b311-7fab7979bf25\")>,\n",
       " <selenium.webdriver.remote.webelement.WebElement (session=\"d5e882bd35309e38d88a6bc6d5e5dcea\", element=\"48d03adf-e7c7-494c-81f5-6336005070cf\")>,\n",
       " <selenium.webdriver.remote.webelement.WebElement (session=\"d5e882bd35309e38d88a6bc6d5e5dcea\", element=\"5985e1e3-f4b6-4d7f-8fc0-38a1206117f3\")>,\n",
       " <selenium.webdriver.remote.webelement.WebElement (session=\"d5e882bd35309e38d88a6bc6d5e5dcea\", element=\"99d370b6-a10a-43ac-b4f9-b5e403086fcd\")>,\n",
       " <selenium.webdriver.remote.webelement.WebElement (session=\"d5e882bd35309e38d88a6bc6d5e5dcea\", element=\"549e263d-a370-477d-a29b-6c5f3100b532\")>,\n",
       " <selenium.webdriver.remote.webelement.WebElement (session=\"d5e882bd35309e38d88a6bc6d5e5dcea\", element=\"65e0a175-41f5-447f-a233-f0e288953be3\")>,\n",
       " <selenium.webdriver.remote.webelement.WebElement (session=\"d5e882bd35309e38d88a6bc6d5e5dcea\", element=\"36358208-25b2-4ed6-bcce-ec5bcce08e92\")>,\n",
       " <selenium.webdriver.remote.webelement.WebElement (session=\"d5e882bd35309e38d88a6bc6d5e5dcea\", element=\"040070e7-8f31-4b3a-9f7b-9320cad76c08\")>,\n",
       " <selenium.webdriver.remote.webelement.WebElement (session=\"d5e882bd35309e38d88a6bc6d5e5dcea\", element=\"6e08b8e3-089a-4e31-82b4-2123fbaedd05\")>,\n",
       " <selenium.webdriver.remote.webelement.WebElement (session=\"d5e882bd35309e38d88a6bc6d5e5dcea\", element=\"2252cbb9-56f8-4816-b0a3-26e1dcaa9d72\")>,\n",
       " <selenium.webdriver.remote.webelement.WebElement (session=\"d5e882bd35309e38d88a6bc6d5e5dcea\", element=\"ad49bbf0-9fa3-4b95-804a-abe04c5db3b1\")>,\n",
       " <selenium.webdriver.remote.webelement.WebElement (session=\"d5e882bd35309e38d88a6bc6d5e5dcea\", element=\"48eb25c1-6a6a-4b11-a6a5-1c4e5b251b03\")>,\n",
       " <selenium.webdriver.remote.webelement.WebElement (session=\"d5e882bd35309e38d88a6bc6d5e5dcea\", element=\"7b4422aa-e4e2-4dce-ade9-324669681329\")>,\n",
       " <selenium.webdriver.remote.webelement.WebElement (session=\"d5e882bd35309e38d88a6bc6d5e5dcea\", element=\"688ab0c4-862f-4c9a-9542-f32e221a6a26\")>,\n",
       " <selenium.webdriver.remote.webelement.WebElement (session=\"d5e882bd35309e38d88a6bc6d5e5dcea\", element=\"b8a13dc1-9349-4b15-8de4-cb87b255fa82\")>,\n",
       " <selenium.webdriver.remote.webelement.WebElement (session=\"d5e882bd35309e38d88a6bc6d5e5dcea\", element=\"92b7f0b8-d6a3-4d26-8ac8-8caeb581b01e\")>,\n",
       " <selenium.webdriver.remote.webelement.WebElement (session=\"d5e882bd35309e38d88a6bc6d5e5dcea\", element=\"358deb92-3195-497d-9f34-0e4d16212eda\")>,\n",
       " <selenium.webdriver.remote.webelement.WebElement (session=\"d5e882bd35309e38d88a6bc6d5e5dcea\", element=\"50300a4a-7f0b-4812-99b6-487f032299d2\")>,\n",
       " <selenium.webdriver.remote.webelement.WebElement (session=\"d5e882bd35309e38d88a6bc6d5e5dcea\", element=\"20e60ab0-9707-4323-857f-dfc96463fc0a\")>,\n",
       " <selenium.webdriver.remote.webelement.WebElement (session=\"d5e882bd35309e38d88a6bc6d5e5dcea\", element=\"f7d5af70-2fa8-491c-904e-ce2443105928\")>,\n",
       " <selenium.webdriver.remote.webelement.WebElement (session=\"d5e882bd35309e38d88a6bc6d5e5dcea\", element=\"1bcdb644-836a-4325-8beb-13aeafcfdd88\")>,\n",
       " <selenium.webdriver.remote.webelement.WebElement (session=\"d5e882bd35309e38d88a6bc6d5e5dcea\", element=\"ebee6693-a108-4454-8a5c-66fa925e708d\")>,\n",
       " <selenium.webdriver.remote.webelement.WebElement (session=\"d5e882bd35309e38d88a6bc6d5e5dcea\", element=\"21f84a4d-6fa1-445b-a976-7b1d5efa1e25\")>,\n",
       " <selenium.webdriver.remote.webelement.WebElement (session=\"d5e882bd35309e38d88a6bc6d5e5dcea\", element=\"c0c039c7-ddae-44dc-953c-21a9fc394ebe\")>,\n",
       " <selenium.webdriver.remote.webelement.WebElement (session=\"d5e882bd35309e38d88a6bc6d5e5dcea\", element=\"22648bcb-86d0-4263-94a2-0d079f68fd44\")>,\n",
       " <selenium.webdriver.remote.webelement.WebElement (session=\"d5e882bd35309e38d88a6bc6d5e5dcea\", element=\"54935d2a-6cf0-4d79-9d13-e4bddfc98315\")>,\n",
       " <selenium.webdriver.remote.webelement.WebElement (session=\"d5e882bd35309e38d88a6bc6d5e5dcea\", element=\"f9409fe7-86f4-42fa-8d68-476aba443acf\")>,\n",
       " <selenium.webdriver.remote.webelement.WebElement (session=\"d5e882bd35309e38d88a6bc6d5e5dcea\", element=\"3fc0d4c2-8969-4a66-9518-f8c75a848b8b\")>,\n",
       " <selenium.webdriver.remote.webelement.WebElement (session=\"d5e882bd35309e38d88a6bc6d5e5dcea\", element=\"a778f43a-b69e-4c2c-afa0-29efaf2c851c\")>,\n",
       " <selenium.webdriver.remote.webelement.WebElement (session=\"d5e882bd35309e38d88a6bc6d5e5dcea\", element=\"18ea8a29-1d64-43e4-bbeb-d9d32cf7dcc3\")>,\n",
       " <selenium.webdriver.remote.webelement.WebElement (session=\"d5e882bd35309e38d88a6bc6d5e5dcea\", element=\"4a8c14ce-6c50-4525-a233-88ad65e48b61\")>,\n",
       " <selenium.webdriver.remote.webelement.WebElement (session=\"d5e882bd35309e38d88a6bc6d5e5dcea\", element=\"abddd907-6fc6-41a8-863a-c10d01300264\")>,\n",
       " <selenium.webdriver.remote.webelement.WebElement (session=\"d5e882bd35309e38d88a6bc6d5e5dcea\", element=\"1af077e4-bdc4-42c8-8b75-57860174900c\")>,\n",
       " <selenium.webdriver.remote.webelement.WebElement (session=\"d5e882bd35309e38d88a6bc6d5e5dcea\", element=\"d711bb04-f059-40bd-b143-e56a0a318ec8\")>,\n",
       " <selenium.webdriver.remote.webelement.WebElement (session=\"d5e882bd35309e38d88a6bc6d5e5dcea\", element=\"93a62dd1-7e89-4a5e-a83c-70e283defcd4\")>,\n",
       " <selenium.webdriver.remote.webelement.WebElement (session=\"d5e882bd35309e38d88a6bc6d5e5dcea\", element=\"7e663074-f6e3-4498-be39-321abab56c62\")>,\n",
       " <selenium.webdriver.remote.webelement.WebElement (session=\"d5e882bd35309e38d88a6bc6d5e5dcea\", element=\"a2549821-aa24-4cfb-93ce-5b55bbde3bfb\")>,\n",
       " <selenium.webdriver.remote.webelement.WebElement (session=\"d5e882bd35309e38d88a6bc6d5e5dcea\", element=\"03ed2ee1-e449-435b-8081-1c0bfe7e4895\")>,\n",
       " <selenium.webdriver.remote.webelement.WebElement (session=\"d5e882bd35309e38d88a6bc6d5e5dcea\", element=\"059743b2-bdeb-411d-95c6-8c6e0c021097\")>,\n",
       " <selenium.webdriver.remote.webelement.WebElement (session=\"d5e882bd35309e38d88a6bc6d5e5dcea\", element=\"edd4caa5-34fe-4ef1-87e0-074243121f7b\")>,\n",
       " <selenium.webdriver.remote.webelement.WebElement (session=\"d5e882bd35309e38d88a6bc6d5e5dcea\", element=\"f87a60ad-28f6-4425-9e3c-a51806f8700e\")>,\n",
       " <selenium.webdriver.remote.webelement.WebElement (session=\"d5e882bd35309e38d88a6bc6d5e5dcea\", element=\"7e1728de-1b3c-4809-9056-48fe8a3799da\")>,\n",
       " <selenium.webdriver.remote.webelement.WebElement (session=\"d5e882bd35309e38d88a6bc6d5e5dcea\", element=\"a57cc348-ff2a-4571-8ff6-47f8ffb86503\")>,\n",
       " <selenium.webdriver.remote.webelement.WebElement (session=\"d5e882bd35309e38d88a6bc6d5e5dcea\", element=\"7a8fcd72-f638-49ae-8bd7-6cf2b1453463\")>,\n",
       " <selenium.webdriver.remote.webelement.WebElement (session=\"d5e882bd35309e38d88a6bc6d5e5dcea\", element=\"2d12b7c2-ef2b-412f-bd65-0e5fde86b913\")>,\n",
       " <selenium.webdriver.remote.webelement.WebElement (session=\"d5e882bd35309e38d88a6bc6d5e5dcea\", element=\"12455f24-5241-4eee-938f-57d33c2b5c22\")>,\n",
       " <selenium.webdriver.remote.webelement.WebElement (session=\"d5e882bd35309e38d88a6bc6d5e5dcea\", element=\"68614b5e-4928-4823-abbb-e0c49a2d7f6a\")>,\n",
       " <selenium.webdriver.remote.webelement.WebElement (session=\"d5e882bd35309e38d88a6bc6d5e5dcea\", element=\"952d7812-cbe2-4d9e-960b-16bd392144c8\")>,\n",
       " <selenium.webdriver.remote.webelement.WebElement (session=\"d5e882bd35309e38d88a6bc6d5e5dcea\", element=\"b7158c78-e288-4fd9-8022-884464888270\")>,\n",
       " <selenium.webdriver.remote.webelement.WebElement (session=\"d5e882bd35309e38d88a6bc6d5e5dcea\", element=\"1d67c9ec-8780-45ca-99ad-3fea58baf7b6\")>,\n",
       " <selenium.webdriver.remote.webelement.WebElement (session=\"d5e882bd35309e38d88a6bc6d5e5dcea\", element=\"564a2bbe-b431-4048-aab9-c8cdd54c306c\")>,\n",
       " <selenium.webdriver.remote.webelement.WebElement (session=\"d5e882bd35309e38d88a6bc6d5e5dcea\", element=\"624bd044-fad8-4888-bd0f-a131e9ada90b\")>,\n",
       " <selenium.webdriver.remote.webelement.WebElement (session=\"d5e882bd35309e38d88a6bc6d5e5dcea\", element=\"7a352de8-fab4-4dd0-9729-9a8666ae935a\")>,\n",
       " <selenium.webdriver.remote.webelement.WebElement (session=\"d5e882bd35309e38d88a6bc6d5e5dcea\", element=\"0bc6cb76-4abe-435c-ade0-03dc5891a5ca\")>,\n",
       " <selenium.webdriver.remote.webelement.WebElement (session=\"d5e882bd35309e38d88a6bc6d5e5dcea\", element=\"015c7f79-ca82-4473-b33d-f7ba18ec62a2\")>,\n",
       " <selenium.webdriver.remote.webelement.WebElement (session=\"d5e882bd35309e38d88a6bc6d5e5dcea\", element=\"d55da76b-435e-4566-8842-83f6603b389b\")>,\n",
       " <selenium.webdriver.remote.webelement.WebElement (session=\"d5e882bd35309e38d88a6bc6d5e5dcea\", element=\"6c07684f-0da2-46db-90c0-9efb9ef9c767\")>,\n",
       " <selenium.webdriver.remote.webelement.WebElement (session=\"d5e882bd35309e38d88a6bc6d5e5dcea\", element=\"8d715cc3-7fb5-46af-b034-bf600887a4f7\")>,\n",
       " <selenium.webdriver.remote.webelement.WebElement (session=\"d5e882bd35309e38d88a6bc6d5e5dcea\", element=\"d484af0a-cc67-4ff6-8969-b7681cda51ff\")>,\n",
       " <selenium.webdriver.remote.webelement.WebElement (session=\"d5e882bd35309e38d88a6bc6d5e5dcea\", element=\"583f6e1a-9f1e-4506-854b-57385dcfdeed\")>,\n",
       " <selenium.webdriver.remote.webelement.WebElement (session=\"d5e882bd35309e38d88a6bc6d5e5dcea\", element=\"cd3f29ec-87ca-4a1f-88ca-3238554bbfef\")>,\n",
       " <selenium.webdriver.remote.webelement.WebElement (session=\"d5e882bd35309e38d88a6bc6d5e5dcea\", element=\"0eeee0ce-fd62-49fc-8aa2-d800b6635307\")>,\n",
       " <selenium.webdriver.remote.webelement.WebElement (session=\"d5e882bd35309e38d88a6bc6d5e5dcea\", element=\"7ba90e38-8752-46a7-a07b-0316370e7638\")>,\n",
       " <selenium.webdriver.remote.webelement.WebElement (session=\"d5e882bd35309e38d88a6bc6d5e5dcea\", element=\"89e37e5f-453e-4b2e-ae38-e49412c6eb0b\")>,\n",
       " <selenium.webdriver.remote.webelement.WebElement (session=\"d5e882bd35309e38d88a6bc6d5e5dcea\", element=\"270bd8c9-b460-4b6a-8420-c5bb4a4cf8b2\")>,\n",
       " <selenium.webdriver.remote.webelement.WebElement (session=\"d5e882bd35309e38d88a6bc6d5e5dcea\", element=\"ecabe79a-39aa-4651-add6-1b810e052910\")>,\n",
       " <selenium.webdriver.remote.webelement.WebElement (session=\"d5e882bd35309e38d88a6bc6d5e5dcea\", element=\"09887130-39c8-464c-8ca8-7317a6c1aef8\")>,\n",
       " <selenium.webdriver.remote.webelement.WebElement (session=\"d5e882bd35309e38d88a6bc6d5e5dcea\", element=\"9b340a1e-5ab9-4e46-871c-7b78033f7891\")>,\n",
       " <selenium.webdriver.remote.webelement.WebElement (session=\"d5e882bd35309e38d88a6bc6d5e5dcea\", element=\"a38e4bfe-16ad-42ee-b5d4-7e73a8ba6419\")>,\n",
       " <selenium.webdriver.remote.webelement.WebElement (session=\"d5e882bd35309e38d88a6bc6d5e5dcea\", element=\"b28251f5-cba2-4d49-9c48-17d3884f8f91\")>,\n",
       " <selenium.webdriver.remote.webelement.WebElement (session=\"d5e882bd35309e38d88a6bc6d5e5dcea\", element=\"0dc569eb-6b39-493d-91a9-9f9c736f96dc\")>,\n",
       " <selenium.webdriver.remote.webelement.WebElement (session=\"d5e882bd35309e38d88a6bc6d5e5dcea\", element=\"b633d650-0e60-4f4b-a85c-ba5f7ce3d5da\")>,\n",
       " <selenium.webdriver.remote.webelement.WebElement (session=\"d5e882bd35309e38d88a6bc6d5e5dcea\", element=\"33a5d75d-ff5d-44d1-ab0b-657812a529c6\")>,\n",
       " <selenium.webdriver.remote.webelement.WebElement (session=\"d5e882bd35309e38d88a6bc6d5e5dcea\", element=\"f80daeae-395e-423d-b5dd-3c3e1f69966c\")>,\n",
       " <selenium.webdriver.remote.webelement.WebElement (session=\"d5e882bd35309e38d88a6bc6d5e5dcea\", element=\"f4d04a02-8c69-413e-b3b6-bf2f6c99c6cd\")>,\n",
       " <selenium.webdriver.remote.webelement.WebElement (session=\"d5e882bd35309e38d88a6bc6d5e5dcea\", element=\"9f974e0e-acd6-4fb9-98c0-3e7d2763bf67\")>,\n",
       " <selenium.webdriver.remote.webelement.WebElement (session=\"d5e882bd35309e38d88a6bc6d5e5dcea\", element=\"cd034356-1705-40ca-85e7-4838dfbc1c23\")>,\n",
       " <selenium.webdriver.remote.webelement.WebElement (session=\"d5e882bd35309e38d88a6bc6d5e5dcea\", element=\"ad7f61d4-0aea-470f-854c-21c77ec053c4\")>,\n",
       " <selenium.webdriver.remote.webelement.WebElement (session=\"d5e882bd35309e38d88a6bc6d5e5dcea\", element=\"a47b0669-982b-4feb-9942-5bc80361b018\")>,\n",
       " <selenium.webdriver.remote.webelement.WebElement (session=\"d5e882bd35309e38d88a6bc6d5e5dcea\", element=\"76d3d07b-edab-4a9c-bf3c-ca2f75a3e599\")>,\n",
       " <selenium.webdriver.remote.webelement.WebElement (session=\"d5e882bd35309e38d88a6bc6d5e5dcea\", element=\"4d8b0d6f-2905-4c37-831f-2dce04a58226\")>,\n",
       " <selenium.webdriver.remote.webelement.WebElement (session=\"d5e882bd35309e38d88a6bc6d5e5dcea\", element=\"c3dc0566-a528-4161-929e-5d8d49fb7691\")>,\n",
       " <selenium.webdriver.remote.webelement.WebElement (session=\"d5e882bd35309e38d88a6bc6d5e5dcea\", element=\"5c97c904-28b1-4c27-91e8-04e62abbd362\")>,\n",
       " <selenium.webdriver.remote.webelement.WebElement (session=\"d5e882bd35309e38d88a6bc6d5e5dcea\", element=\"58e05bb3-141d-4d1f-947d-c3b17bd85297\")>,\n",
       " <selenium.webdriver.remote.webelement.WebElement (session=\"d5e882bd35309e38d88a6bc6d5e5dcea\", element=\"12e6fe8e-301f-44fa-8d0c-2894bf90c47c\")>,\n",
       " <selenium.webdriver.remote.webelement.WebElement (session=\"d5e882bd35309e38d88a6bc6d5e5dcea\", element=\"9676e88e-d0e5-4373-af7f-24ceed7b8bd4\")>,\n",
       " <selenium.webdriver.remote.webelement.WebElement (session=\"d5e882bd35309e38d88a6bc6d5e5dcea\", element=\"ea80a61c-45bb-4f08-95c9-d61b4ab8b8ba\")>,\n",
       " <selenium.webdriver.remote.webelement.WebElement (session=\"d5e882bd35309e38d88a6bc6d5e5dcea\", element=\"3f0f735e-9fc1-4846-b7a5-ebfa955aeedd\")>,\n",
       " <selenium.webdriver.remote.webelement.WebElement (session=\"d5e882bd35309e38d88a6bc6d5e5dcea\", element=\"2c5b2894-290a-4fdc-ac87-9c71b7bf1278\")>,\n",
       " <selenium.webdriver.remote.webelement.WebElement (session=\"d5e882bd35309e38d88a6bc6d5e5dcea\", element=\"904490ff-2d89-469d-b2b4-146f62f86ca7\")>,\n",
       " <selenium.webdriver.remote.webelement.WebElement (session=\"d5e882bd35309e38d88a6bc6d5e5dcea\", element=\"99598708-feef-4539-9d08-c7ec0c02a344\")>,\n",
       " <selenium.webdriver.remote.webelement.WebElement (session=\"d5e882bd35309e38d88a6bc6d5e5dcea\", element=\"2d769e81-36ef-42bd-91f0-8e41db3e1eda\")>,\n",
       " <selenium.webdriver.remote.webelement.WebElement (session=\"d5e882bd35309e38d88a6bc6d5e5dcea\", element=\"382ee111-40c2-48a6-aad3-998eb92ed9ad\")>,\n",
       " <selenium.webdriver.remote.webelement.WebElement (session=\"d5e882bd35309e38d88a6bc6d5e5dcea\", element=\"6b66d1b9-fca2-4484-848f-bfb43a401647\")>,\n",
       " <selenium.webdriver.remote.webelement.WebElement (session=\"d5e882bd35309e38d88a6bc6d5e5dcea\", element=\"ddefec9d-7bf7-42f1-9005-8f6da151850d\")>,\n",
       " <selenium.webdriver.remote.webelement.WebElement (session=\"d5e882bd35309e38d88a6bc6d5e5dcea\", element=\"ac803a25-a0e6-4e7d-8aa7-331e20f04ad8\")>]"
      ]
     },
     "execution_count": 12,
     "metadata": {},
     "output_type": "execute_result"
    }
   ],
   "source": [
    "\n",
    "line4=browser.find_elements(\"xpath\",\"//div[@class='td-wrap-in']\")\n",
    "line4"
   ]
  },
  {
   "cell_type": "code",
   "execution_count": 13,
   "id": "0853f55b",
   "metadata": {},
   "outputs": [
    {
     "data": {
      "text/plain": [
       "['89.2', '83.7', '71.8', '99.4', '91.1', '100', '100', '87.3', '28']"
      ]
     },
     "execution_count": 13,
     "metadata": {},
     "output_type": "execute_result"
    }
   ],
   "source": [
    "#PARSING DATA\n",
    "value=[]\n",
    "for data in line4:\n",
    "    #get the text data\n",
    "    temp=data.text\n",
    "    value.append(temp)\n",
    "value_h=value[51:60]\n",
    "value_h"
   ]
  },
  {
   "cell_type": "code",
   "execution_count": 14,
   "id": "111418ab",
   "metadata": {},
   "outputs": [
    {
     "data": {
      "text/plain": [
       "{'Name': 'EPFL',\n",
       " 'Location': 'Lausanne, Switzerland',\n",
       " 'Rank': '=16',\n",
       " 'Overall Score': '89.2',\n",
       " 'Academic Reputation': '83.7',\n",
       " 'Employer Reputation': '71.8',\n",
       " 'Citations per Faculty': '99.4',\n",
       " 'Faculty Student Ratio': '91.1',\n",
       " 'International Students Ratio': '100',\n",
       " 'International Faculty Ratio': '100',\n",
       " 'International Research Network\\nUnweighted': '87.3',\n",
       " 'Employment Outcomes\\nUnweighted': '28'}"
      ]
     },
     "execution_count": 14,
     "metadata": {},
     "output_type": "execute_result"
    }
   ],
   "source": [
    "\n",
    "d={}\n",
    "d['Name']=value[50]\n",
    "d['Location']=address[5]\n",
    "d['Rank']=Rank[5]\n",
    "for i in range(len(column)):\n",
    "    d[column[i]]=value_h[i]\n",
    "d"
   ]
  },
  {
   "cell_type": "code",
   "execution_count": 15,
   "id": "473acbad",
   "metadata": {},
   "outputs": [
    {
     "data": {
      "text/plain": [
       "'{\"Name\": \"EPFL\", \"Location\": \"Lausanne, Switzerland\", \"Rank\": \"=16\", \"Overall Score\": \"89.2\", \"Academic Reputation\": \"83.7\", \"Employer Reputation\": \"71.8\", \"Citations per Faculty\": \"99.4\", \"Faculty Student Ratio\": \"91.1\", \"International Students Ratio\": \"100\", \"International Faculty Ratio\": \"100\", \"International Research Network\\\\nUnweighted\": \"87.3\", \"Employment Outcomes\\\\nUnweighted\": \"28\"}'"
      ]
     },
     "execution_count": 15,
     "metadata": {},
     "output_type": "execute_result"
    }
   ],
   "source": [
    "s1=json.dumps(d)\n",
    "s1"
   ]
  },
  {
   "cell_type": "code",
   "execution_count": 16,
   "id": "028e4ec3",
   "metadata": {},
   "outputs": [],
   "source": [
    "with open('EPFL.json','w') as f:\n",
    "    json.dump(d,f)"
   ]
  },
  {
   "cell_type": "code",
   "execution_count": null,
   "id": "a812073b",
   "metadata": {},
   "outputs": [],
   "source": []
  }
 ],
 "metadata": {
  "kernelspec": {
   "display_name": "Python 3.9.12 ('base')",
   "language": "python",
   "name": "python3"
  },
  "language_info": {
   "codemirror_mode": {
    "name": "ipython",
    "version": 3
   },
   "file_extension": ".py",
   "mimetype": "text/x-python",
   "name": "python",
   "nbconvert_exporter": "python",
   "pygments_lexer": "ipython3",
   "version": "3.9.12"
  },
  "vscode": {
   "interpreter": {
    "hash": "ad2bdc8ecc057115af97d19610ffacc2b4e99fae6737bb82f5d7fb13d2f2c186"
   }
  }
 },
 "nbformat": 4,
 "nbformat_minor": 5
}
