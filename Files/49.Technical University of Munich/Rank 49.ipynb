{
 "cells": [
  {
   "cell_type": "code",
   "execution_count": 1,
   "id": "42080c10",
   "metadata": {},
   "outputs": [],
   "source": [
    "from selenium import webdriver\n",
    "from selenium.webdriver.chrome.service import Service\n",
    "import pandas as pd\n",
    "import json\n"
   ]
  },
  {
   "cell_type": "code",
   "execution_count": 2,
   "id": "da340101",
   "metadata": {},
   "outputs": [],
   "source": [
    "path = Service('C:\\chromedriver.exe')"
   ]
  },
  {
   "cell_type": "code",
   "execution_count": 3,
   "id": "1212032f",
   "metadata": {},
   "outputs": [],
   "source": [
    "# set path for the driver\n",
    "browser = webdriver.Chrome(service = path)"
   ]
  },
  {
   "cell_type": "code",
   "execution_count": 4,
   "id": "cbd0d31b",
   "metadata": {},
   "outputs": [],
   "source": [
    "url = \"https://www.topuniversities.com/university-rankings/world-university-rankings/2023\""
   ]
  },
  {
   "cell_type": "code",
   "execution_count": 5,
   "id": "7adc2d60",
   "metadata": {},
   "outputs": [],
   "source": [
    "# open the page url ion chrome\n",
    "browser.get(url)"
   ]
  },
  {
   "cell_type": "code",
   "execution_count": 6,
   "id": "bef5852e",
   "metadata": {},
   "outputs": [
    {
     "data": {
      "text/plain": [
       "[<selenium.webdriver.remote.webelement.WebElement (session=\"f0b749137a9bb859d63acfec948f0126\", element=\"aaa69fe4-9900-4f73-8dbd-fdf757ac6a89\")>,\n",
       " <selenium.webdriver.remote.webelement.WebElement (session=\"f0b749137a9bb859d63acfec948f0126\", element=\"a5ca72e0-5dc1-4f6f-a7ed-15296eb70273\")>,\n",
       " <selenium.webdriver.remote.webelement.WebElement (session=\"f0b749137a9bb859d63acfec948f0126\", element=\"b6512da7-df86-4a1b-8b1a-fa04dbe363ab\")>,\n",
       " <selenium.webdriver.remote.webelement.WebElement (session=\"f0b749137a9bb859d63acfec948f0126\", element=\"9ef86d02-de99-4e32-9be5-adb89473772d\")>,\n",
       " <selenium.webdriver.remote.webelement.WebElement (session=\"f0b749137a9bb859d63acfec948f0126\", element=\"da8741f2-cb1c-448a-94e3-0ac5786ca583\")>,\n",
       " <selenium.webdriver.remote.webelement.WebElement (session=\"f0b749137a9bb859d63acfec948f0126\", element=\"2982c6ac-da81-4706-8aee-aa6cf4579372\")>,\n",
       " <selenium.webdriver.remote.webelement.WebElement (session=\"f0b749137a9bb859d63acfec948f0126\", element=\"bcef69e3-f72b-42b3-b7b8-c3b7ba8f55f7\")>,\n",
       " <selenium.webdriver.remote.webelement.WebElement (session=\"f0b749137a9bb859d63acfec948f0126\", element=\"bb3e2c12-79d4-47a0-ab8a-7f9a7b971c5f\")>,\n",
       " <selenium.webdriver.remote.webelement.WebElement (session=\"f0b749137a9bb859d63acfec948f0126\", element=\"34f83abd-c0c5-4403-b1fc-cf54ae2252b0\")>,\n",
       " <selenium.webdriver.remote.webelement.WebElement (session=\"f0b749137a9bb859d63acfec948f0126\", element=\"096750eb-3dd7-4001-8535-9b0f832d4ffc\")>,\n",
       " <selenium.webdriver.remote.webelement.WebElement (session=\"f0b749137a9bb859d63acfec948f0126\", element=\"b123fd99-f3e0-49e5-baee-d2b44798c183\")>,\n",
       " <selenium.webdriver.remote.webelement.WebElement (session=\"f0b749137a9bb859d63acfec948f0126\", element=\"447e3eb4-9d60-4f41-b041-ca012869d731\")>,\n",
       " <selenium.webdriver.remote.webelement.WebElement (session=\"f0b749137a9bb859d63acfec948f0126\", element=\"5611fc6f-d548-4e8a-a508-9df1812c2380\")>,\n",
       " <selenium.webdriver.remote.webelement.WebElement (session=\"f0b749137a9bb859d63acfec948f0126\", element=\"f2d2c45d-f74c-489f-9b90-b59947932d26\")>,\n",
       " <selenium.webdriver.remote.webelement.WebElement (session=\"f0b749137a9bb859d63acfec948f0126\", element=\"2350a841-6fdf-4d9e-8fcf-a93f895a882d\")>,\n",
       " <selenium.webdriver.remote.webelement.WebElement (session=\"f0b749137a9bb859d63acfec948f0126\", element=\"5838e14b-b858-4cdd-8b8d-909e0809f12c\")>,\n",
       " <selenium.webdriver.remote.webelement.WebElement (session=\"f0b749137a9bb859d63acfec948f0126\", element=\"46efa3b4-2164-4355-9473-0392a9036211\")>,\n",
       " <selenium.webdriver.remote.webelement.WebElement (session=\"f0b749137a9bb859d63acfec948f0126\", element=\"9f81fd9c-4b8d-4e69-bbd0-aa841cb7d0f4\")>,\n",
       " <selenium.webdriver.remote.webelement.WebElement (session=\"f0b749137a9bb859d63acfec948f0126\", element=\"d24ab055-e870-4071-b693-e33687401cac\")>,\n",
       " <selenium.webdriver.remote.webelement.WebElement (session=\"f0b749137a9bb859d63acfec948f0126\", element=\"0226ce3e-62f7-4543-8d3c-4b1a6c08580a\")>]"
      ]
     },
     "execution_count": 6,
     "metadata": {},
     "output_type": "execute_result"
    }
   ],
   "source": [
    "line1=browser.find_elements(\"xpath\",\"//div[@class='location ']\")\n",
    "line1"
   ]
  },
  {
   "cell_type": "code",
   "execution_count": 7,
   "id": "9018514d",
   "metadata": {},
   "outputs": [
    {
     "data": {
      "text/plain": [
       "['Sydney, Australia',\n",
       " 'Daejeon, South Korea',\n",
       " 'Hangzhou, China (Mainland)',\n",
       " 'Los Angeles, United States',\n",
       " 'Sydney, Australia',\n",
       " 'Shanghai, China (Mainland)',\n",
       " 'Vancouver, Canada',\n",
       " 'Palaiseau Cedex, France',\n",
       " 'Munich, Germany',\n",
       " 'Durham, United States']"
      ]
     },
     "execution_count": 7,
     "metadata": {},
     "output_type": "execute_result"
    }
   ],
   "source": [
    "address=[]\n",
    "for data in line1:\n",
    "    #get the text data\n",
    "    temp=data.text\n",
    "    address.append(temp)\n",
    "address=address[10:]\n",
    "address"
   ]
  },
  {
   "cell_type": "code",
   "execution_count": 8,
   "id": "a401ecb6",
   "metadata": {},
   "outputs": [
    {
     "data": {
      "text/plain": [
       "[<selenium.webdriver.remote.webelement.WebElement (session=\"f0b749137a9bb859d63acfec948f0126\", element=\"0f83a7b7-bea9-4aac-8a36-692696d331e4\")>,\n",
       " <selenium.webdriver.remote.webelement.WebElement (session=\"f0b749137a9bb859d63acfec948f0126\", element=\"531cbac9-8756-418c-8c29-c0d75c15b2a5\")>,\n",
       " <selenium.webdriver.remote.webelement.WebElement (session=\"f0b749137a9bb859d63acfec948f0126\", element=\"e4d4109b-c42e-476e-b795-51fbfc8c6af6\")>,\n",
       " <selenium.webdriver.remote.webelement.WebElement (session=\"f0b749137a9bb859d63acfec948f0126\", element=\"b3bd6766-b374-4f83-aad3-20782619b582\")>,\n",
       " <selenium.webdriver.remote.webelement.WebElement (session=\"f0b749137a9bb859d63acfec948f0126\", element=\"cd1ba63c-25b0-42a3-9930-ee2a53b675d0\")>,\n",
       " <selenium.webdriver.remote.webelement.WebElement (session=\"f0b749137a9bb859d63acfec948f0126\", element=\"4e8d6e7a-6c48-4f03-a329-82bc067bc250\")>,\n",
       " <selenium.webdriver.remote.webelement.WebElement (session=\"f0b749137a9bb859d63acfec948f0126\", element=\"bdd1828e-07d0-48dd-99d1-b8080e8cbe02\")>,\n",
       " <selenium.webdriver.remote.webelement.WebElement (session=\"f0b749137a9bb859d63acfec948f0126\", element=\"5fd43668-87d7-4902-a200-1f675d0d4325\")>,\n",
       " <selenium.webdriver.remote.webelement.WebElement (session=\"f0b749137a9bb859d63acfec948f0126\", element=\"583a8000-8e9f-49ac-ade6-4b903f59bec5\")>,\n",
       " <selenium.webdriver.remote.webelement.WebElement (session=\"f0b749137a9bb859d63acfec948f0126\", element=\"ae0a3048-2d7c-43e7-ac21-3ec2406ebcc1\")>]"
      ]
     },
     "execution_count": 8,
     "metadata": {},
     "output_type": "execute_result"
    }
   ],
   "source": [
    "\n",
    "line2=browser.find_elements(\"xpath\",\"//div[@class='_univ-rank ']\")\n",
    "line2"
   ]
  },
  {
   "cell_type": "code",
   "execution_count": 9,
   "metadata": {},
   "outputs": [
    {
     "data": {
      "text/plain": [
       "['41', '=42', '=42', '44', '45', '46', '47', '48', '49', '=50']"
      ]
     },
     "execution_count": 9,
     "metadata": {},
     "output_type": "execute_result"
    }
   ],
   "source": [
    "Rank=[]\n",
    "for data in line2:\n",
    "    #get the text data\n",
    "    temp=data.text\n",
    "    Rank.append(temp)\n",
    "Rank"
   ]
  },
  {
   "cell_type": "code",
   "execution_count": 10,
   "id": "a9b33732",
   "metadata": {},
   "outputs": [
    {
     "data": {
      "text/plain": [
       "[<selenium.webdriver.remote.webelement.WebElement (session=\"f0b749137a9bb859d63acfec948f0126\", element=\"63786cbe-7335-49d3-ab36-10526a715f10\")>,\n",
       " <selenium.webdriver.remote.webelement.WebElement (session=\"f0b749137a9bb859d63acfec948f0126\", element=\"ee243a4c-9c98-4469-b25b-42e8af9e4955\")>,\n",
       " <selenium.webdriver.remote.webelement.WebElement (session=\"f0b749137a9bb859d63acfec948f0126\", element=\"128827cf-a457-4acc-8c85-d5ae40c6a419\")>,\n",
       " <selenium.webdriver.remote.webelement.WebElement (session=\"f0b749137a9bb859d63acfec948f0126\", element=\"d1e42333-13b5-4eb4-8073-ecc78f798774\")>,\n",
       " <selenium.webdriver.remote.webelement.WebElement (session=\"f0b749137a9bb859d63acfec948f0126\", element=\"00497a25-b138-45bd-9f22-91ddfd4352bf\")>,\n",
       " <selenium.webdriver.remote.webelement.WebElement (session=\"f0b749137a9bb859d63acfec948f0126\", element=\"ff5e529a-efee-4b48-8200-9080ee7723e0\")>,\n",
       " <selenium.webdriver.remote.webelement.WebElement (session=\"f0b749137a9bb859d63acfec948f0126\", element=\"b39a2859-8c3b-4d83-8a5c-f98d3b635ca8\")>,\n",
       " <selenium.webdriver.remote.webelement.WebElement (session=\"f0b749137a9bb859d63acfec948f0126\", element=\"8c1be8c8-787f-480b-a62f-599e7c4787ad\")>,\n",
       " <selenium.webdriver.remote.webelement.WebElement (session=\"f0b749137a9bb859d63acfec948f0126\", element=\"c6932b07-52b5-4a3d-a514-f16dcbef75ce\")>]"
      ]
     },
     "execution_count": 10,
     "metadata": {},
     "output_type": "execute_result"
    }
   ],
   "source": [
    "# GET EACH COLLEGE SPECIFICATION HEADERS\n",
    "line3=browser.find_elements(\"xpath\",\"//div[@class='_click-function_ind']\")\n",
    "line3"
   ]
  },
  {
   "cell_type": "code",
   "execution_count": 11,
   "id": "45c21ec7",
   "metadata": {},
   "outputs": [
    {
     "data": {
      "text/plain": [
       "['Overall Score',\n",
       " 'Academic Reputation',\n",
       " 'Employer Reputation',\n",
       " 'Citations per Faculty',\n",
       " 'Faculty Student Ratio',\n",
       " 'International Students Ratio',\n",
       " 'International Faculty Ratio',\n",
       " 'International Research Network\\nUnweighted',\n",
       " 'Employment Outcomes\\nUnweighted']"
      ]
     },
     "execution_count": 11,
     "metadata": {},
     "output_type": "execute_result"
    }
   ],
   "source": [
    "#PARSING DATA\n",
    "column=[]\n",
    "for data in line3:\n",
    "    #get the text data\n",
    "    temp=data.text\n",
    "    column.append(temp)\n",
    "column"
   ]
  },
  {
   "cell_type": "code",
   "execution_count": 12,
   "id": "5a792ea1",
   "metadata": {},
   "outputs": [
    {
     "data": {
      "text/plain": [
       "[<selenium.webdriver.remote.webelement.WebElement (session=\"f0b749137a9bb859d63acfec948f0126\", element=\"a65b743a-fe76-43c4-aec3-da2beda6e7ed\")>,\n",
       " <selenium.webdriver.remote.webelement.WebElement (session=\"f0b749137a9bb859d63acfec948f0126\", element=\"768badc5-019d-424c-bd40-1f11afd9d765\")>,\n",
       " <selenium.webdriver.remote.webelement.WebElement (session=\"f0b749137a9bb859d63acfec948f0126\", element=\"f7946076-3bca-4d32-ae5f-c4ec66d3a470\")>,\n",
       " <selenium.webdriver.remote.webelement.WebElement (session=\"f0b749137a9bb859d63acfec948f0126\", element=\"e2313ff2-d1f0-42ef-941d-02e9634ccc64\")>,\n",
       " <selenium.webdriver.remote.webelement.WebElement (session=\"f0b749137a9bb859d63acfec948f0126\", element=\"ec014241-c4f7-477b-b894-de6c5092a1d7\")>,\n",
       " <selenium.webdriver.remote.webelement.WebElement (session=\"f0b749137a9bb859d63acfec948f0126\", element=\"8f43be67-e680-466c-b0db-0261f45afe8f\")>,\n",
       " <selenium.webdriver.remote.webelement.WebElement (session=\"f0b749137a9bb859d63acfec948f0126\", element=\"8966d67d-ba48-4bef-a7d3-3ca295bb340c\")>,\n",
       " <selenium.webdriver.remote.webelement.WebElement (session=\"f0b749137a9bb859d63acfec948f0126\", element=\"81cbc5b5-3df1-44b8-a7c9-0fdca6fc10cf\")>,\n",
       " <selenium.webdriver.remote.webelement.WebElement (session=\"f0b749137a9bb859d63acfec948f0126\", element=\"e4616ac7-5c03-4deb-8497-78dff3bcd3e8\")>,\n",
       " <selenium.webdriver.remote.webelement.WebElement (session=\"f0b749137a9bb859d63acfec948f0126\", element=\"65e9fb01-fdb3-4df3-86f8-ebf75293513d\")>,\n",
       " <selenium.webdriver.remote.webelement.WebElement (session=\"f0b749137a9bb859d63acfec948f0126\", element=\"07091a33-34f9-4104-8e73-f16b948c619c\")>,\n",
       " <selenium.webdriver.remote.webelement.WebElement (session=\"f0b749137a9bb859d63acfec948f0126\", element=\"1b99f5af-bfc8-4d72-a3b8-770d56551e8a\")>,\n",
       " <selenium.webdriver.remote.webelement.WebElement (session=\"f0b749137a9bb859d63acfec948f0126\", element=\"02a873ad-761f-4e9b-a787-8b3386730c91\")>,\n",
       " <selenium.webdriver.remote.webelement.WebElement (session=\"f0b749137a9bb859d63acfec948f0126\", element=\"4c268aa6-88bb-4bec-a6ff-c153ecde7802\")>,\n",
       " <selenium.webdriver.remote.webelement.WebElement (session=\"f0b749137a9bb859d63acfec948f0126\", element=\"e15955ce-106b-44a2-bd45-4f4387d79209\")>,\n",
       " <selenium.webdriver.remote.webelement.WebElement (session=\"f0b749137a9bb859d63acfec948f0126\", element=\"5b17a48f-86d3-48d3-96ac-02d62a628a65\")>,\n",
       " <selenium.webdriver.remote.webelement.WebElement (session=\"f0b749137a9bb859d63acfec948f0126\", element=\"394e5ea7-848d-4670-8bb4-23e76ca5a7fb\")>,\n",
       " <selenium.webdriver.remote.webelement.WebElement (session=\"f0b749137a9bb859d63acfec948f0126\", element=\"6fe3c6eb-f149-4159-8b48-c09cd3482b8f\")>,\n",
       " <selenium.webdriver.remote.webelement.WebElement (session=\"f0b749137a9bb859d63acfec948f0126\", element=\"003cd1fe-804c-491c-8225-71942387017f\")>,\n",
       " <selenium.webdriver.remote.webelement.WebElement (session=\"f0b749137a9bb859d63acfec948f0126\", element=\"c3eec075-ea87-4d06-9b43-3b495017ada5\")>,\n",
       " <selenium.webdriver.remote.webelement.WebElement (session=\"f0b749137a9bb859d63acfec948f0126\", element=\"c988911c-4ea3-4cd7-b6b2-293ae94473e3\")>,\n",
       " <selenium.webdriver.remote.webelement.WebElement (session=\"f0b749137a9bb859d63acfec948f0126\", element=\"07d5db13-9ae4-419d-bdf2-b769bbce3de9\")>,\n",
       " <selenium.webdriver.remote.webelement.WebElement (session=\"f0b749137a9bb859d63acfec948f0126\", element=\"68c43634-d532-4eb0-ac4d-8591140842e8\")>,\n",
       " <selenium.webdriver.remote.webelement.WebElement (session=\"f0b749137a9bb859d63acfec948f0126\", element=\"38a9b85d-4b67-41a3-9fef-0f54ab361faa\")>,\n",
       " <selenium.webdriver.remote.webelement.WebElement (session=\"f0b749137a9bb859d63acfec948f0126\", element=\"41713fac-bb50-4421-8ee2-934ee926132e\")>,\n",
       " <selenium.webdriver.remote.webelement.WebElement (session=\"f0b749137a9bb859d63acfec948f0126\", element=\"a4776a72-4cc8-4335-a475-60daf1fb8f6f\")>,\n",
       " <selenium.webdriver.remote.webelement.WebElement (session=\"f0b749137a9bb859d63acfec948f0126\", element=\"95fa7392-df3a-4d8f-96a6-b925ab7220d1\")>,\n",
       " <selenium.webdriver.remote.webelement.WebElement (session=\"f0b749137a9bb859d63acfec948f0126\", element=\"e5aabf75-f9bb-4676-9035-6fd51f45d209\")>,\n",
       " <selenium.webdriver.remote.webelement.WebElement (session=\"f0b749137a9bb859d63acfec948f0126\", element=\"2881198f-828f-4f1e-9274-1c6ca5a78725\")>,\n",
       " <selenium.webdriver.remote.webelement.WebElement (session=\"f0b749137a9bb859d63acfec948f0126\", element=\"4ffbb9a2-baa8-4459-8300-f833957bad56\")>,\n",
       " <selenium.webdriver.remote.webelement.WebElement (session=\"f0b749137a9bb859d63acfec948f0126\", element=\"129682f3-f1fe-4aa5-9515-c794c6e5bdec\")>,\n",
       " <selenium.webdriver.remote.webelement.WebElement (session=\"f0b749137a9bb859d63acfec948f0126\", element=\"898ffafd-e5f8-4d1e-8902-4db8ea582306\")>,\n",
       " <selenium.webdriver.remote.webelement.WebElement (session=\"f0b749137a9bb859d63acfec948f0126\", element=\"e9498ef0-8b72-47f2-bf61-c3997e508d92\")>,\n",
       " <selenium.webdriver.remote.webelement.WebElement (session=\"f0b749137a9bb859d63acfec948f0126\", element=\"b9ab674f-eefe-4f4d-a22c-e40cb24226a8\")>,\n",
       " <selenium.webdriver.remote.webelement.WebElement (session=\"f0b749137a9bb859d63acfec948f0126\", element=\"f4a027f9-ac00-4dcf-8bfd-f0abfbb75bfb\")>,\n",
       " <selenium.webdriver.remote.webelement.WebElement (session=\"f0b749137a9bb859d63acfec948f0126\", element=\"9b64248e-f1b0-45db-8340-666831b0d7eb\")>,\n",
       " <selenium.webdriver.remote.webelement.WebElement (session=\"f0b749137a9bb859d63acfec948f0126\", element=\"5e3b0e02-21a5-4f4f-a67b-33c02719d2b6\")>,\n",
       " <selenium.webdriver.remote.webelement.WebElement (session=\"f0b749137a9bb859d63acfec948f0126\", element=\"0a50b334-cf58-4a25-a617-9e3a69e701ab\")>,\n",
       " <selenium.webdriver.remote.webelement.WebElement (session=\"f0b749137a9bb859d63acfec948f0126\", element=\"d2e7f1ea-cbe3-406a-9b02-e7bd0c9b5726\")>,\n",
       " <selenium.webdriver.remote.webelement.WebElement (session=\"f0b749137a9bb859d63acfec948f0126\", element=\"da6fc652-ff70-4e20-9305-4b5d5e700bd3\")>,\n",
       " <selenium.webdriver.remote.webelement.WebElement (session=\"f0b749137a9bb859d63acfec948f0126\", element=\"0f448606-9190-4fb9-99b5-d5f59d2a1596\")>,\n",
       " <selenium.webdriver.remote.webelement.WebElement (session=\"f0b749137a9bb859d63acfec948f0126\", element=\"b853fdd5-613a-4146-a88b-1a0877cb650b\")>,\n",
       " <selenium.webdriver.remote.webelement.WebElement (session=\"f0b749137a9bb859d63acfec948f0126\", element=\"de3933c0-26fe-48f4-b015-3ab8478fb8a8\")>,\n",
       " <selenium.webdriver.remote.webelement.WebElement (session=\"f0b749137a9bb859d63acfec948f0126\", element=\"81518a74-d6a5-4f05-afc2-8635075a28be\")>,\n",
       " <selenium.webdriver.remote.webelement.WebElement (session=\"f0b749137a9bb859d63acfec948f0126\", element=\"88cd8521-b13c-4be3-aa82-e63016a20cbb\")>,\n",
       " <selenium.webdriver.remote.webelement.WebElement (session=\"f0b749137a9bb859d63acfec948f0126\", element=\"563e5103-80c7-4d94-8d53-fb0e16bb4fc0\")>,\n",
       " <selenium.webdriver.remote.webelement.WebElement (session=\"f0b749137a9bb859d63acfec948f0126\", element=\"dafd9029-f00e-4a29-970e-f667c26487ed\")>,\n",
       " <selenium.webdriver.remote.webelement.WebElement (session=\"f0b749137a9bb859d63acfec948f0126\", element=\"ed96ad0a-ebfa-408f-8a11-88b6bc7508e4\")>,\n",
       " <selenium.webdriver.remote.webelement.WebElement (session=\"f0b749137a9bb859d63acfec948f0126\", element=\"17f68f71-99fb-4d70-a6b1-8cb21cd22d56\")>,\n",
       " <selenium.webdriver.remote.webelement.WebElement (session=\"f0b749137a9bb859d63acfec948f0126\", element=\"c7c862ba-5add-4845-bfbf-5f59030e0dde\")>,\n",
       " <selenium.webdriver.remote.webelement.WebElement (session=\"f0b749137a9bb859d63acfec948f0126\", element=\"bce7400b-4b6d-4e84-8c8a-2833bb660ed3\")>,\n",
       " <selenium.webdriver.remote.webelement.WebElement (session=\"f0b749137a9bb859d63acfec948f0126\", element=\"7b645e67-6074-4901-8758-06d00d4af544\")>,\n",
       " <selenium.webdriver.remote.webelement.WebElement (session=\"f0b749137a9bb859d63acfec948f0126\", element=\"eac8175a-8d99-46c7-a115-25513bcfefa1\")>,\n",
       " <selenium.webdriver.remote.webelement.WebElement (session=\"f0b749137a9bb859d63acfec948f0126\", element=\"de91557f-79e6-4b56-968c-b3559c3fdbee\")>,\n",
       " <selenium.webdriver.remote.webelement.WebElement (session=\"f0b749137a9bb859d63acfec948f0126\", element=\"1464a252-4978-41be-890d-f1fa0b4c9901\")>,\n",
       " <selenium.webdriver.remote.webelement.WebElement (session=\"f0b749137a9bb859d63acfec948f0126\", element=\"71ce7a63-d7ae-405f-be9d-b1883ee67aac\")>,\n",
       " <selenium.webdriver.remote.webelement.WebElement (session=\"f0b749137a9bb859d63acfec948f0126\", element=\"08064387-de7d-4e44-a941-0590048d87d1\")>,\n",
       " <selenium.webdriver.remote.webelement.WebElement (session=\"f0b749137a9bb859d63acfec948f0126\", element=\"7f9534ad-9bd3-4038-8922-7b3cc30e7d2e\")>,\n",
       " <selenium.webdriver.remote.webelement.WebElement (session=\"f0b749137a9bb859d63acfec948f0126\", element=\"f690b2fd-10ef-4a92-b7b9-7f93b3111eed\")>,\n",
       " <selenium.webdriver.remote.webelement.WebElement (session=\"f0b749137a9bb859d63acfec948f0126\", element=\"22b86403-5a0b-46e0-825f-eeec0f82209e\")>,\n",
       " <selenium.webdriver.remote.webelement.WebElement (session=\"f0b749137a9bb859d63acfec948f0126\", element=\"857203b7-0ffd-4d1c-9e2a-f16110bd6336\")>,\n",
       " <selenium.webdriver.remote.webelement.WebElement (session=\"f0b749137a9bb859d63acfec948f0126\", element=\"b860e0e3-814e-41b5-8e5b-b0eb74f8beb0\")>,\n",
       " <selenium.webdriver.remote.webelement.WebElement (session=\"f0b749137a9bb859d63acfec948f0126\", element=\"039ed0b0-e5af-4493-9bce-665c8bc34e81\")>,\n",
       " <selenium.webdriver.remote.webelement.WebElement (session=\"f0b749137a9bb859d63acfec948f0126\", element=\"20fa34e5-3d5f-4c0b-a236-c9d4b23d8ac0\")>,\n",
       " <selenium.webdriver.remote.webelement.WebElement (session=\"f0b749137a9bb859d63acfec948f0126\", element=\"9c4d3492-ad27-4bdc-92dd-ffad46e15a95\")>,\n",
       " <selenium.webdriver.remote.webelement.WebElement (session=\"f0b749137a9bb859d63acfec948f0126\", element=\"e8ba066c-d04d-4661-aec4-dbf8e484f283\")>,\n",
       " <selenium.webdriver.remote.webelement.WebElement (session=\"f0b749137a9bb859d63acfec948f0126\", element=\"b1be57e0-55d3-4f13-a139-b605f129b9ac\")>,\n",
       " <selenium.webdriver.remote.webelement.WebElement (session=\"f0b749137a9bb859d63acfec948f0126\", element=\"db85ac37-341d-4a35-b2b3-b4189eab5378\")>,\n",
       " <selenium.webdriver.remote.webelement.WebElement (session=\"f0b749137a9bb859d63acfec948f0126\", element=\"cf6f2c17-ef1b-4d41-9f5a-7f0a63bef63e\")>,\n",
       " <selenium.webdriver.remote.webelement.WebElement (session=\"f0b749137a9bb859d63acfec948f0126\", element=\"cc55bb72-4e26-4d4d-a0ae-29beb1924ded\")>,\n",
       " <selenium.webdriver.remote.webelement.WebElement (session=\"f0b749137a9bb859d63acfec948f0126\", element=\"a0448cf7-9cb2-457e-9ea4-30dc19c85593\")>,\n",
       " <selenium.webdriver.remote.webelement.WebElement (session=\"f0b749137a9bb859d63acfec948f0126\", element=\"a92c63d8-3475-4a08-adaf-41508ceb0e2b\")>,\n",
       " <selenium.webdriver.remote.webelement.WebElement (session=\"f0b749137a9bb859d63acfec948f0126\", element=\"842f18fc-d5ff-414c-b1a9-b35ddb24e6f7\")>,\n",
       " <selenium.webdriver.remote.webelement.WebElement (session=\"f0b749137a9bb859d63acfec948f0126\", element=\"151dc187-3775-4ee1-80ee-32915927555c\")>,\n",
       " <selenium.webdriver.remote.webelement.WebElement (session=\"f0b749137a9bb859d63acfec948f0126\", element=\"d7034a76-d833-436a-833f-8f70ea3e75f1\")>,\n",
       " <selenium.webdriver.remote.webelement.WebElement (session=\"f0b749137a9bb859d63acfec948f0126\", element=\"744fefe3-cbcc-4f82-b1db-6ba0d5b9ee9d\")>,\n",
       " <selenium.webdriver.remote.webelement.WebElement (session=\"f0b749137a9bb859d63acfec948f0126\", element=\"58be11f1-80b0-42b1-b4f4-073bdd8b65cc\")>,\n",
       " <selenium.webdriver.remote.webelement.WebElement (session=\"f0b749137a9bb859d63acfec948f0126\", element=\"1c7690a4-6007-402c-9ae5-7a8cf4069ad4\")>,\n",
       " <selenium.webdriver.remote.webelement.WebElement (session=\"f0b749137a9bb859d63acfec948f0126\", element=\"249d9c9d-6506-4a13-bdb4-4fc0de6d50c3\")>,\n",
       " <selenium.webdriver.remote.webelement.WebElement (session=\"f0b749137a9bb859d63acfec948f0126\", element=\"9b6c59db-24f9-445d-8084-84baa3a3430a\")>,\n",
       " <selenium.webdriver.remote.webelement.WebElement (session=\"f0b749137a9bb859d63acfec948f0126\", element=\"25e8a45a-0afe-4cea-bb46-4fc86cec1638\")>,\n",
       " <selenium.webdriver.remote.webelement.WebElement (session=\"f0b749137a9bb859d63acfec948f0126\", element=\"bef9dac8-60d6-443e-a687-180454264d98\")>,\n",
       " <selenium.webdriver.remote.webelement.WebElement (session=\"f0b749137a9bb859d63acfec948f0126\", element=\"7646c787-27e3-4fdd-bb3e-58b6fcddefaf\")>,\n",
       " <selenium.webdriver.remote.webelement.WebElement (session=\"f0b749137a9bb859d63acfec948f0126\", element=\"e2de61fc-efe2-455c-8305-42ac29365c2a\")>,\n",
       " <selenium.webdriver.remote.webelement.WebElement (session=\"f0b749137a9bb859d63acfec948f0126\", element=\"e5ad66e2-67d5-4b47-9c86-27249dc33b12\")>,\n",
       " <selenium.webdriver.remote.webelement.WebElement (session=\"f0b749137a9bb859d63acfec948f0126\", element=\"de370269-bbb7-42f3-847e-d8d91267c0d1\")>,\n",
       " <selenium.webdriver.remote.webelement.WebElement (session=\"f0b749137a9bb859d63acfec948f0126\", element=\"12747f88-969c-4439-944b-6641f6af70ab\")>,\n",
       " <selenium.webdriver.remote.webelement.WebElement (session=\"f0b749137a9bb859d63acfec948f0126\", element=\"49872114-3225-4bf6-943a-f151b370b64d\")>,\n",
       " <selenium.webdriver.remote.webelement.WebElement (session=\"f0b749137a9bb859d63acfec948f0126\", element=\"8fd73e42-c206-488d-af59-91a486a5948a\")>,\n",
       " <selenium.webdriver.remote.webelement.WebElement (session=\"f0b749137a9bb859d63acfec948f0126\", element=\"c4ad22c8-2366-4d0b-98c2-3fd10ab9d6de\")>,\n",
       " <selenium.webdriver.remote.webelement.WebElement (session=\"f0b749137a9bb859d63acfec948f0126\", element=\"1dae3352-3119-4e8f-8f22-224348133611\")>,\n",
       " <selenium.webdriver.remote.webelement.WebElement (session=\"f0b749137a9bb859d63acfec948f0126\", element=\"3e411c65-872d-45fb-b780-6703b7519e2f\")>,\n",
       " <selenium.webdriver.remote.webelement.WebElement (session=\"f0b749137a9bb859d63acfec948f0126\", element=\"e98bb321-482a-4f34-9447-0b66b08ebff5\")>,\n",
       " <selenium.webdriver.remote.webelement.WebElement (session=\"f0b749137a9bb859d63acfec948f0126\", element=\"47463da0-01e4-47d9-ab38-e48aae661a5b\")>,\n",
       " <selenium.webdriver.remote.webelement.WebElement (session=\"f0b749137a9bb859d63acfec948f0126\", element=\"e416a4b9-eb5e-4f42-89fc-291dacbf8528\")>,\n",
       " <selenium.webdriver.remote.webelement.WebElement (session=\"f0b749137a9bb859d63acfec948f0126\", element=\"0f7bca0c-5565-4c1b-b8d1-5b1d99e5dc22\")>,\n",
       " <selenium.webdriver.remote.webelement.WebElement (session=\"f0b749137a9bb859d63acfec948f0126\", element=\"1b01f38c-a9d8-4133-9e5f-1ecd0485003d\")>,\n",
       " <selenium.webdriver.remote.webelement.WebElement (session=\"f0b749137a9bb859d63acfec948f0126\", element=\"623277c7-b865-465f-a896-f6b714cd38e6\")>,\n",
       " <selenium.webdriver.remote.webelement.WebElement (session=\"f0b749137a9bb859d63acfec948f0126\", element=\"c90bb93b-6c40-403e-bba8-3f9fa37c7b48\")>,\n",
       " <selenium.webdriver.remote.webelement.WebElement (session=\"f0b749137a9bb859d63acfec948f0126\", element=\"f2c60204-e275-4255-b2a4-60e4aeb8e793\")>]"
      ]
     },
     "execution_count": 12,
     "metadata": {},
     "output_type": "execute_result"
    }
   ],
   "source": [
    "line4=browser.find_elements(\"xpath\",\"//div[@class='td-wrap-in']\")\n",
    "line4"
   ]
  },
  {
   "cell_type": "code",
   "execution_count": 13,
   "id": "76fb6cee",
   "metadata": {},
   "outputs": [
    {
     "data": {
      "text/plain": [
       "['76.4', '84', '96.8', '25.8', '96.4', '95', '70.3', '91.8', '37.5']"
      ]
     },
     "execution_count": 13,
     "metadata": {},
     "output_type": "execute_result"
    }
   ],
   "source": [
    "#PARSING DATA\n",
    "value=[]\n",
    "for data in line4:\n",
    "    #get the text data\n",
    "    temp=data.text\n",
    "    value.append(temp)\n",
    "value_h=value[81:90]\n",
    "value_h"
   ]
  },
  {
   "cell_type": "code",
   "execution_count": 14,
   "id": "417b927b",
   "metadata": {},
   "outputs": [
    {
     "data": {
      "text/plain": [
       "{'Name': 'Technical University of Munich',\n",
       " 'Location': 'Munich, Germany',\n",
       " 'Rank': '49',\n",
       " 'Overall Score': '76.4',\n",
       " 'Academic Reputation': '84',\n",
       " 'Employer Reputation': '96.8',\n",
       " 'Citations per Faculty': '25.8',\n",
       " 'Faculty Student Ratio': '96.4',\n",
       " 'International Students Ratio': '95',\n",
       " 'International Faculty Ratio': '70.3',\n",
       " 'International Research Network\\nUnweighted': '91.8',\n",
       " 'Employment Outcomes\\nUnweighted': '37.5'}"
      ]
     },
     "execution_count": 14,
     "metadata": {},
     "output_type": "execute_result"
    }
   ],
   "source": [
    "d={}\n",
    "d['Name']=value[80]\n",
    "d['Location']=address[8]\n",
    "d['Rank']=Rank[8]\n",
    "for i in range(len(column)):\n",
    "    d[column[i]]=value_h[i]\n",
    "d"
   ]
  },
  {
   "cell_type": "code",
   "execution_count": 15,
   "id": "c10f9c3a",
   "metadata": {},
   "outputs": [
    {
     "data": {
      "text/plain": [
       "'{\"Name\": \"Technical University of Munich\", \"Location\": \"Munich, Germany\", \"Rank\": \"49\", \"Overall Score\": \"76.4\", \"Academic Reputation\": \"84\", \"Employer Reputation\": \"96.8\", \"Citations per Faculty\": \"25.8\", \"Faculty Student Ratio\": \"96.4\", \"International Students Ratio\": \"95\", \"International Faculty Ratio\": \"70.3\", \"International Research Network\\\\nUnweighted\": \"91.8\", \"Employment Outcomes\\\\nUnweighted\": \"37.5\"}'"
      ]
     },
     "execution_count": 15,
     "metadata": {},
     "output_type": "execute_result"
    }
   ],
   "source": [
    "s1=json.dumps(d)\n",
    "s1"
   ]
  },
  {
   "cell_type": "code",
   "execution_count": 16,
   "id": "cb2976a8",
   "metadata": {},
   "outputs": [],
   "source": [
    "with open('Technical University of Munich.json','w') as f:\n",
    "    json.dump(d,f)\n"
   ]
  },
  {
   "cell_type": "code",
   "execution_count": null,
   "id": "7808021a",
   "metadata": {},
   "outputs": [],
   "source": []
  }
 ],
 "metadata": {
  "kernelspec": {
   "display_name": "Python 3.9.12 ('base')",
   "language": "python",
   "name": "python3"
  },
  "language_info": {
   "codemirror_mode": {
    "name": "ipython",
    "version": 3
   },
   "file_extension": ".py",
   "mimetype": "text/x-python",
   "name": "python",
   "nbconvert_exporter": "python",
   "pygments_lexer": "ipython3",
   "version": "3.9.12"
  },
  "vscode": {
   "interpreter": {
    "hash": "ad2bdc8ecc057115af97d19610ffacc2b4e99fae6737bb82f5d7fb13d2f2c186"
   }
  }
 },
 "nbformat": 4,
 "nbformat_minor": 5
}
