{
 "cells": [
  {
   "cell_type": "code",
   "execution_count": 1,
   "id": "dd53a4a2",
   "metadata": {},
   "outputs": [],
   "source": [
    "from selenium import webdriver\n",
    "from selenium.webdriver.chrome.service import Service\n",
    "import pandas as pd\n",
    "import json"
   ]
  },
  {
   "cell_type": "code",
   "execution_count": 2,
   "id": "458fe567",
   "metadata": {},
   "outputs": [],
   "source": [
    "path = Service('C:\\chromedriver.exe')\n"
   ]
  },
  {
   "cell_type": "code",
   "execution_count": 3,
   "id": "b6b8d00e",
   "metadata": {},
   "outputs": [],
   "source": [
    "# set path for the driver\n",
    "browser = webdriver.Chrome(service = path)"
   ]
  },
  {
   "cell_type": "code",
   "execution_count": 4,
   "id": "37a1adb0",
   "metadata": {},
   "outputs": [],
   "source": [
    "url = \"https://www.topuniversities.com/university-rankings/world-university-rankings/2023\""
   ]
  },
  {
   "cell_type": "code",
   "execution_count": 5,
   "id": "2930f839",
   "metadata": {},
   "outputs": [],
   "source": [
    "# open the page url ion chrome\n",
    "browser.get(url)\n"
   ]
  },
  {
   "cell_type": "code",
   "execution_count": 6,
   "id": "93c10102",
   "metadata": {},
   "outputs": [
    {
     "data": {
      "text/plain": [
       "[<selenium.webdriver.remote.webelement.WebElement (session=\"61142dbc6f833b4a9847da755236b76b\", element=\"8f90a479-b75f-45cc-b848-0625d2d909a7\")>,\n",
       " <selenium.webdriver.remote.webelement.WebElement (session=\"61142dbc6f833b4a9847da755236b76b\", element=\"20f5241d-0f34-4880-aecf-24db25ce1c37\")>,\n",
       " <selenium.webdriver.remote.webelement.WebElement (session=\"61142dbc6f833b4a9847da755236b76b\", element=\"9857982a-d68b-4f9e-8d4c-f950ea3c624a\")>,\n",
       " <selenium.webdriver.remote.webelement.WebElement (session=\"61142dbc6f833b4a9847da755236b76b\", element=\"56418216-7aae-4159-80f7-931303307f6e\")>,\n",
       " <selenium.webdriver.remote.webelement.WebElement (session=\"61142dbc6f833b4a9847da755236b76b\", element=\"3461ebcb-074b-49a6-9b6a-79359f62a31c\")>,\n",
       " <selenium.webdriver.remote.webelement.WebElement (session=\"61142dbc6f833b4a9847da755236b76b\", element=\"1db7b25a-e22e-4436-b6ed-e6cdbc66ed6e\")>,\n",
       " <selenium.webdriver.remote.webelement.WebElement (session=\"61142dbc6f833b4a9847da755236b76b\", element=\"4571a8f3-6df3-4471-bba3-e1186a80ed69\")>,\n",
       " <selenium.webdriver.remote.webelement.WebElement (session=\"61142dbc6f833b4a9847da755236b76b\", element=\"62f1ee91-1f8b-4ad6-8fc8-dafde0ce75ca\")>,\n",
       " <selenium.webdriver.remote.webelement.WebElement (session=\"61142dbc6f833b4a9847da755236b76b\", element=\"af8fe487-56fb-4387-bf62-07f6af73fba1\")>,\n",
       " <selenium.webdriver.remote.webelement.WebElement (session=\"61142dbc6f833b4a9847da755236b76b\", element=\"3de6c912-8bfb-47c8-ba9f-9d685b6c7cd2\")>,\n",
       " <selenium.webdriver.remote.webelement.WebElement (session=\"61142dbc6f833b4a9847da755236b76b\", element=\"e9da2698-8db4-4944-97fa-dadc491dba83\")>,\n",
       " <selenium.webdriver.remote.webelement.WebElement (session=\"61142dbc6f833b4a9847da755236b76b\", element=\"f23e654d-5c23-4b1c-b023-69dd9cc73cb0\")>,\n",
       " <selenium.webdriver.remote.webelement.WebElement (session=\"61142dbc6f833b4a9847da755236b76b\", element=\"78970ff0-cda8-4774-adf4-cbd926cbc187\")>,\n",
       " <selenium.webdriver.remote.webelement.WebElement (session=\"61142dbc6f833b4a9847da755236b76b\", element=\"a910a872-aa5e-41ad-84a2-ba1623e70ff9\")>,\n",
       " <selenium.webdriver.remote.webelement.WebElement (session=\"61142dbc6f833b4a9847da755236b76b\", element=\"23291d84-8bb2-4937-a269-e87cf58cad7a\")>,\n",
       " <selenium.webdriver.remote.webelement.WebElement (session=\"61142dbc6f833b4a9847da755236b76b\", element=\"2efcaae5-77be-4068-9a53-1b249bd01d77\")>,\n",
       " <selenium.webdriver.remote.webelement.WebElement (session=\"61142dbc6f833b4a9847da755236b76b\", element=\"fafce0bc-18a1-441a-be74-dead486d2637\")>,\n",
       " <selenium.webdriver.remote.webelement.WebElement (session=\"61142dbc6f833b4a9847da755236b76b\", element=\"a01c323d-9dbc-4763-9150-f1ac84ded039\")>,\n",
       " <selenium.webdriver.remote.webelement.WebElement (session=\"61142dbc6f833b4a9847da755236b76b\", element=\"c5a10b9c-bd77-4634-a798-f61bb8ce664a\")>,\n",
       " <selenium.webdriver.remote.webelement.WebElement (session=\"61142dbc6f833b4a9847da755236b76b\", element=\"071bca25-f0fd-43ec-8103-baabc5b3a269\")>]"
      ]
     },
     "execution_count": 6,
     "metadata": {},
     "output_type": "execute_result"
    }
   ],
   "source": [
    "line1=browser.find_elements(\"xpath\",\"//div[@class='location ']\")\n",
    "line1"
   ]
  },
  {
   "cell_type": "code",
   "execution_count": 7,
   "id": "d4ace5d7",
   "metadata": {},
   "outputs": [
    {
     "data": {
      "text/plain": [
       "['Singapore, Singapore',\n",
       " 'Beijing, China (Mainland)',\n",
       " 'Philadelphia, United States',\n",
       " 'Beijing, China (Mainland)',\n",
       " 'Edinburgh, United Kingdom',\n",
       " 'Lausanne, Switzerland',\n",
       " 'Princeton, United States',\n",
       " 'New Haven, United States',\n",
       " 'Singapore, Singapore',\n",
       " 'Ithaca, United States']"
      ]
     },
     "execution_count": 7,
     "metadata": {},
     "output_type": "execute_result"
    }
   ],
   "source": [
    "\n",
    "address=[]\n",
    "for data in line1:\n",
    "    #get the text data\n",
    "    temp=data.text\n",
    "    address.append(temp)\n",
    "address=address[10:]\n",
    "address"
   ]
  },
  {
   "cell_type": "code",
   "execution_count": 8,
   "id": "3ff93bdd",
   "metadata": {},
   "outputs": [
    {
     "data": {
      "text/plain": [
       "[<selenium.webdriver.remote.webelement.WebElement (session=\"61142dbc6f833b4a9847da755236b76b\", element=\"88caeddf-65d8-44e4-8e38-16c8efecea11\")>,\n",
       " <selenium.webdriver.remote.webelement.WebElement (session=\"61142dbc6f833b4a9847da755236b76b\", element=\"fbc08e17-25dc-4094-b7df-9b85618ae0ca\")>,\n",
       " <selenium.webdriver.remote.webelement.WebElement (session=\"61142dbc6f833b4a9847da755236b76b\", element=\"9ea2e80e-720d-445b-887b-2bb1c11e3167\")>,\n",
       " <selenium.webdriver.remote.webelement.WebElement (session=\"61142dbc6f833b4a9847da755236b76b\", element=\"ecbb715e-d039-4d28-8bd3-1374127c6bf2\")>,\n",
       " <selenium.webdriver.remote.webelement.WebElement (session=\"61142dbc6f833b4a9847da755236b76b\", element=\"a45188d2-c23f-4563-9c72-83d76011d58d\")>,\n",
       " <selenium.webdriver.remote.webelement.WebElement (session=\"61142dbc6f833b4a9847da755236b76b\", element=\"5339d603-f782-4fa0-a68b-161527fc8c34\")>,\n",
       " <selenium.webdriver.remote.webelement.WebElement (session=\"61142dbc6f833b4a9847da755236b76b\", element=\"8a560cc1-f48f-49da-bcec-864caf392293\")>,\n",
       " <selenium.webdriver.remote.webelement.WebElement (session=\"61142dbc6f833b4a9847da755236b76b\", element=\"6ac71cfc-790d-466a-8bf5-d00140dd07d4\")>,\n",
       " <selenium.webdriver.remote.webelement.WebElement (session=\"61142dbc6f833b4a9847da755236b76b\", element=\"3685f1f4-90ff-4894-92ad-31f1b25bcf06\")>,\n",
       " <selenium.webdriver.remote.webelement.WebElement (session=\"61142dbc6f833b4a9847da755236b76b\", element=\"bda737a9-4adf-4815-b6b1-5e39278207a4\")>]"
      ]
     },
     "execution_count": 8,
     "metadata": {},
     "output_type": "execute_result"
    }
   ],
   "source": [
    "line2=browser.find_elements(\"xpath\",\"//div[@class='_univ-rank ']\")\n",
    "line2"
   ]
  },
  {
   "cell_type": "code",
   "execution_count": 9,
   "id": "7b4a4c1c",
   "metadata": {},
   "outputs": [
    {
     "data": {
      "text/plain": [
       "['11', '12', '13', '14', '15', '=16', '=16', '18', '19', '20']"
      ]
     },
     "execution_count": 9,
     "metadata": {},
     "output_type": "execute_result"
    }
   ],
   "source": [
    "Rank=[]\n",
    "for data in line2:\n",
    "    #get the text data\n",
    "    temp=data.text\n",
    "    Rank.append(temp)\n",
    "Rank\n"
   ]
  },
  {
   "cell_type": "code",
   "execution_count": 10,
   "id": "63fab844",
   "metadata": {},
   "outputs": [
    {
     "data": {
      "text/plain": [
       "[<selenium.webdriver.remote.webelement.WebElement (session=\"61142dbc6f833b4a9847da755236b76b\", element=\"7ff9ad62-1d3d-4b66-b329-ad3deb369fd8\")>,\n",
       " <selenium.webdriver.remote.webelement.WebElement (session=\"61142dbc6f833b4a9847da755236b76b\", element=\"8fcf5e3e-7763-4aa4-94d0-10763f1b530e\")>,\n",
       " <selenium.webdriver.remote.webelement.WebElement (session=\"61142dbc6f833b4a9847da755236b76b\", element=\"3378a0cb-f01a-496d-b77d-ad883220a67a\")>,\n",
       " <selenium.webdriver.remote.webelement.WebElement (session=\"61142dbc6f833b4a9847da755236b76b\", element=\"1f59d3ee-5084-41cc-8ff6-97c5badba67e\")>,\n",
       " <selenium.webdriver.remote.webelement.WebElement (session=\"61142dbc6f833b4a9847da755236b76b\", element=\"a6d5299f-cad9-4dbf-b38e-3402b33de203\")>,\n",
       " <selenium.webdriver.remote.webelement.WebElement (session=\"61142dbc6f833b4a9847da755236b76b\", element=\"2e98ce84-f835-4755-9157-20d29ab47653\")>,\n",
       " <selenium.webdriver.remote.webelement.WebElement (session=\"61142dbc6f833b4a9847da755236b76b\", element=\"2813745f-fdfc-4a75-b055-1050c43dda8a\")>,\n",
       " <selenium.webdriver.remote.webelement.WebElement (session=\"61142dbc6f833b4a9847da755236b76b\", element=\"9181b51f-fce0-4aef-a4ca-cab34118147a\")>,\n",
       " <selenium.webdriver.remote.webelement.WebElement (session=\"61142dbc6f833b4a9847da755236b76b\", element=\"512ea6fd-76bd-466a-af2b-7108ebcf5b1f\")>]"
      ]
     },
     "execution_count": 10,
     "metadata": {},
     "output_type": "execute_result"
    }
   ],
   "source": [
    "# GET EACH COLLEGE SPECIFICATION HEADERS\n",
    "line3=browser.find_elements(\"xpath\",\"//div[@class='_click-function_ind']\")\n",
    "line3"
   ]
  },
  {
   "cell_type": "code",
   "execution_count": 11,
   "id": "4222efc1",
   "metadata": {},
   "outputs": [
    {
     "data": {
      "text/plain": [
       "['Overall Score',\n",
       " 'Academic Reputation',\n",
       " 'Employer Reputation',\n",
       " 'Citations per Faculty',\n",
       " 'Faculty Student Ratio',\n",
       " 'International Students Ratio',\n",
       " 'International Faculty Ratio',\n",
       " 'International Research Network\\nUnweighted',\n",
       " 'Employment Outcomes\\nUnweighted']"
      ]
     },
     "execution_count": 11,
     "metadata": {},
     "output_type": "execute_result"
    }
   ],
   "source": [
    "#PARSING DATA\n",
    "column=[]\n",
    "for data in line3:\n",
    "    #get the text data\n",
    "    temp=data.text\n",
    "    column.append(temp)\n",
    "column"
   ]
  },
  {
   "cell_type": "code",
   "execution_count": 12,
   "id": "ed141d07",
   "metadata": {},
   "outputs": [
    {
     "data": {
      "text/plain": [
       "[<selenium.webdriver.remote.webelement.WebElement (session=\"61142dbc6f833b4a9847da755236b76b\", element=\"341f6728-2e9d-44f7-96c7-5e3d49eacd20\")>,\n",
       " <selenium.webdriver.remote.webelement.WebElement (session=\"61142dbc6f833b4a9847da755236b76b\", element=\"3ad3ff18-2edc-4253-a0a0-12e6ef5e4d95\")>,\n",
       " <selenium.webdriver.remote.webelement.WebElement (session=\"61142dbc6f833b4a9847da755236b76b\", element=\"4cb2f681-9749-4725-bedc-e3f782350d88\")>,\n",
       " <selenium.webdriver.remote.webelement.WebElement (session=\"61142dbc6f833b4a9847da755236b76b\", element=\"bb999c93-9e65-4b6e-8ab8-5172881b8875\")>,\n",
       " <selenium.webdriver.remote.webelement.WebElement (session=\"61142dbc6f833b4a9847da755236b76b\", element=\"749ae3f9-5579-4d1d-8c5c-672d3bdc7e7f\")>,\n",
       " <selenium.webdriver.remote.webelement.WebElement (session=\"61142dbc6f833b4a9847da755236b76b\", element=\"31254267-5ff7-4283-b935-82d628b6baad\")>,\n",
       " <selenium.webdriver.remote.webelement.WebElement (session=\"61142dbc6f833b4a9847da755236b76b\", element=\"f0157334-cf06-48ab-a06a-4b5b0cb7727a\")>,\n",
       " <selenium.webdriver.remote.webelement.WebElement (session=\"61142dbc6f833b4a9847da755236b76b\", element=\"19972815-54b5-4e70-bdf3-d2a1e64f63fa\")>,\n",
       " <selenium.webdriver.remote.webelement.WebElement (session=\"61142dbc6f833b4a9847da755236b76b\", element=\"c8b40943-f9d1-47b2-99db-a632821a7e85\")>,\n",
       " <selenium.webdriver.remote.webelement.WebElement (session=\"61142dbc6f833b4a9847da755236b76b\", element=\"882d68f0-4573-43f2-b90f-b6a7ab2335e5\")>,\n",
       " <selenium.webdriver.remote.webelement.WebElement (session=\"61142dbc6f833b4a9847da755236b76b\", element=\"e2eba9bf-d90b-40a7-a3a8-c71882f005b8\")>,\n",
       " <selenium.webdriver.remote.webelement.WebElement (session=\"61142dbc6f833b4a9847da755236b76b\", element=\"138f9498-d03f-43b7-a0c7-57f7affe2b33\")>,\n",
       " <selenium.webdriver.remote.webelement.WebElement (session=\"61142dbc6f833b4a9847da755236b76b\", element=\"1868792a-75b6-4b37-a80f-84d48ecb23dc\")>,\n",
       " <selenium.webdriver.remote.webelement.WebElement (session=\"61142dbc6f833b4a9847da755236b76b\", element=\"8e480354-ef27-4df4-b7b5-cda3bc351c29\")>,\n",
       " <selenium.webdriver.remote.webelement.WebElement (session=\"61142dbc6f833b4a9847da755236b76b\", element=\"424af73e-d8e7-4b14-befa-fe456f5ca098\")>,\n",
       " <selenium.webdriver.remote.webelement.WebElement (session=\"61142dbc6f833b4a9847da755236b76b\", element=\"aee717f1-299e-479e-89b6-36de0d988b2e\")>,\n",
       " <selenium.webdriver.remote.webelement.WebElement (session=\"61142dbc6f833b4a9847da755236b76b\", element=\"3c27a61e-737f-4f48-b9f2-35bb8d270a8d\")>,\n",
       " <selenium.webdriver.remote.webelement.WebElement (session=\"61142dbc6f833b4a9847da755236b76b\", element=\"4108d7f6-b6d1-41b6-9faf-dea037b8de4a\")>,\n",
       " <selenium.webdriver.remote.webelement.WebElement (session=\"61142dbc6f833b4a9847da755236b76b\", element=\"33cfdd2a-831d-4c10-9e87-03686546849a\")>,\n",
       " <selenium.webdriver.remote.webelement.WebElement (session=\"61142dbc6f833b4a9847da755236b76b\", element=\"96dcb926-035a-43c1-8fbf-04d1800a7f14\")>,\n",
       " <selenium.webdriver.remote.webelement.WebElement (session=\"61142dbc6f833b4a9847da755236b76b\", element=\"f83cdd28-b217-464c-9492-3dd37aac8d4d\")>,\n",
       " <selenium.webdriver.remote.webelement.WebElement (session=\"61142dbc6f833b4a9847da755236b76b\", element=\"af8da0f0-6acb-4ccb-ae15-7c95790d19d9\")>,\n",
       " <selenium.webdriver.remote.webelement.WebElement (session=\"61142dbc6f833b4a9847da755236b76b\", element=\"97b6c74d-ee31-46e6-99ce-1c12b57236ae\")>,\n",
       " <selenium.webdriver.remote.webelement.WebElement (session=\"61142dbc6f833b4a9847da755236b76b\", element=\"4a9024db-3896-4884-a942-8edc0d4ec94e\")>,\n",
       " <selenium.webdriver.remote.webelement.WebElement (session=\"61142dbc6f833b4a9847da755236b76b\", element=\"c19fe9d6-09fc-4bf5-97a3-afb310074447\")>,\n",
       " <selenium.webdriver.remote.webelement.WebElement (session=\"61142dbc6f833b4a9847da755236b76b\", element=\"79afe1cd-96ad-4049-bc98-1433183a2789\")>,\n",
       " <selenium.webdriver.remote.webelement.WebElement (session=\"61142dbc6f833b4a9847da755236b76b\", element=\"69d2e808-e69b-46fe-8758-2ee36167e11a\")>,\n",
       " <selenium.webdriver.remote.webelement.WebElement (session=\"61142dbc6f833b4a9847da755236b76b\", element=\"ca22b353-8be5-46ab-9aef-408a1f1a4c71\")>,\n",
       " <selenium.webdriver.remote.webelement.WebElement (session=\"61142dbc6f833b4a9847da755236b76b\", element=\"427e91a9-edd7-43c5-a3b5-0f8320ca955a\")>,\n",
       " <selenium.webdriver.remote.webelement.WebElement (session=\"61142dbc6f833b4a9847da755236b76b\", element=\"df93a9a4-c1d2-45fd-bcff-d62707c71d2b\")>,\n",
       " <selenium.webdriver.remote.webelement.WebElement (session=\"61142dbc6f833b4a9847da755236b76b\", element=\"a35f08cc-07e0-4d30-9e2f-1b582f0c5b27\")>,\n",
       " <selenium.webdriver.remote.webelement.WebElement (session=\"61142dbc6f833b4a9847da755236b76b\", element=\"ce848a39-1495-43dc-8054-8cbd1048a4f1\")>,\n",
       " <selenium.webdriver.remote.webelement.WebElement (session=\"61142dbc6f833b4a9847da755236b76b\", element=\"cd4833a3-aaf1-4171-8a19-39850b904dea\")>,\n",
       " <selenium.webdriver.remote.webelement.WebElement (session=\"61142dbc6f833b4a9847da755236b76b\", element=\"b286eebf-e7ff-407e-88a2-09abd48b9b42\")>,\n",
       " <selenium.webdriver.remote.webelement.WebElement (session=\"61142dbc6f833b4a9847da755236b76b\", element=\"973f216e-fa0d-470d-94c4-a42f1c95f011\")>,\n",
       " <selenium.webdriver.remote.webelement.WebElement (session=\"61142dbc6f833b4a9847da755236b76b\", element=\"21b615d0-0a47-4727-971f-fea507fc196a\")>,\n",
       " <selenium.webdriver.remote.webelement.WebElement (session=\"61142dbc6f833b4a9847da755236b76b\", element=\"f9776ad9-6537-4ba6-bf40-890394791ab7\")>,\n",
       " <selenium.webdriver.remote.webelement.WebElement (session=\"61142dbc6f833b4a9847da755236b76b\", element=\"0604f2a5-afcd-4aee-9a89-865eb4ccded2\")>,\n",
       " <selenium.webdriver.remote.webelement.WebElement (session=\"61142dbc6f833b4a9847da755236b76b\", element=\"57faf914-bba4-4d00-8365-2663fc9b11c4\")>,\n",
       " <selenium.webdriver.remote.webelement.WebElement (session=\"61142dbc6f833b4a9847da755236b76b\", element=\"4a2dd90c-a801-4c7a-a327-e40bb2ea2c75\")>,\n",
       " <selenium.webdriver.remote.webelement.WebElement (session=\"61142dbc6f833b4a9847da755236b76b\", element=\"36ca9d81-025e-4ebe-bb1a-0c9092407a7e\")>,\n",
       " <selenium.webdriver.remote.webelement.WebElement (session=\"61142dbc6f833b4a9847da755236b76b\", element=\"d372b3d7-57d5-4f91-9655-24f727346f21\")>,\n",
       " <selenium.webdriver.remote.webelement.WebElement (session=\"61142dbc6f833b4a9847da755236b76b\", element=\"19f6088b-4ea0-4700-a4e5-f6fe9b0c3c6b\")>,\n",
       " <selenium.webdriver.remote.webelement.WebElement (session=\"61142dbc6f833b4a9847da755236b76b\", element=\"e8acc465-130a-49f8-a9ed-61be5e8ae1b4\")>,\n",
       " <selenium.webdriver.remote.webelement.WebElement (session=\"61142dbc6f833b4a9847da755236b76b\", element=\"d7dbf297-1281-4e2a-828c-f88e05c849ad\")>,\n",
       " <selenium.webdriver.remote.webelement.WebElement (session=\"61142dbc6f833b4a9847da755236b76b\", element=\"2f2aae26-de19-43c3-8737-7cfaef67d104\")>,\n",
       " <selenium.webdriver.remote.webelement.WebElement (session=\"61142dbc6f833b4a9847da755236b76b\", element=\"e5958f1e-b3e1-4dba-b39e-34610682c6f2\")>,\n",
       " <selenium.webdriver.remote.webelement.WebElement (session=\"61142dbc6f833b4a9847da755236b76b\", element=\"e27f7454-eab5-458d-b717-0e79a918302d\")>,\n",
       " <selenium.webdriver.remote.webelement.WebElement (session=\"61142dbc6f833b4a9847da755236b76b\", element=\"e56b0195-f113-489e-97e1-4241cf48551a\")>,\n",
       " <selenium.webdriver.remote.webelement.WebElement (session=\"61142dbc6f833b4a9847da755236b76b\", element=\"301cd7d5-06ea-4ca4-8b0d-5b4a7d03211f\")>,\n",
       " <selenium.webdriver.remote.webelement.WebElement (session=\"61142dbc6f833b4a9847da755236b76b\", element=\"5c482b5d-f38a-45ad-9fcf-a644e8379cef\")>,\n",
       " <selenium.webdriver.remote.webelement.WebElement (session=\"61142dbc6f833b4a9847da755236b76b\", element=\"b99203c0-c9ff-4128-b515-068b043e4a31\")>,\n",
       " <selenium.webdriver.remote.webelement.WebElement (session=\"61142dbc6f833b4a9847da755236b76b\", element=\"0c8083cf-6721-44da-bc4a-eca61f2dd746\")>,\n",
       " <selenium.webdriver.remote.webelement.WebElement (session=\"61142dbc6f833b4a9847da755236b76b\", element=\"84982bc7-5204-4799-98f1-7d9e2b42449f\")>,\n",
       " <selenium.webdriver.remote.webelement.WebElement (session=\"61142dbc6f833b4a9847da755236b76b\", element=\"c6dd44be-4ad6-45d6-9165-e028a57aa4d6\")>,\n",
       " <selenium.webdriver.remote.webelement.WebElement (session=\"61142dbc6f833b4a9847da755236b76b\", element=\"6ce72988-cfa0-410a-87bf-b04990f2c804\")>,\n",
       " <selenium.webdriver.remote.webelement.WebElement (session=\"61142dbc6f833b4a9847da755236b76b\", element=\"ee3271b4-c671-430c-85f1-da21188e8262\")>,\n",
       " <selenium.webdriver.remote.webelement.WebElement (session=\"61142dbc6f833b4a9847da755236b76b\", element=\"27926c41-d96a-4cd3-8dca-2558ef52e18d\")>,\n",
       " <selenium.webdriver.remote.webelement.WebElement (session=\"61142dbc6f833b4a9847da755236b76b\", element=\"fbd8a3d0-0064-49ba-a31e-578e8da68d09\")>,\n",
       " <selenium.webdriver.remote.webelement.WebElement (session=\"61142dbc6f833b4a9847da755236b76b\", element=\"a3c27d04-c72d-4cef-a936-307c3db7619a\")>,\n",
       " <selenium.webdriver.remote.webelement.WebElement (session=\"61142dbc6f833b4a9847da755236b76b\", element=\"776e6bb9-6fd4-4833-a4a8-dd41076fda66\")>,\n",
       " <selenium.webdriver.remote.webelement.WebElement (session=\"61142dbc6f833b4a9847da755236b76b\", element=\"78034335-d4b4-4a45-9869-b02a1e7c302a\")>,\n",
       " <selenium.webdriver.remote.webelement.WebElement (session=\"61142dbc6f833b4a9847da755236b76b\", element=\"bbeeced4-1913-4585-9f32-3df70d1487b3\")>,\n",
       " <selenium.webdriver.remote.webelement.WebElement (session=\"61142dbc6f833b4a9847da755236b76b\", element=\"670afcf0-96c4-40a1-8831-fe63415ad1d5\")>,\n",
       " <selenium.webdriver.remote.webelement.WebElement (session=\"61142dbc6f833b4a9847da755236b76b\", element=\"9093a6a9-7192-4221-9ae7-796acdfc82da\")>,\n",
       " <selenium.webdriver.remote.webelement.WebElement (session=\"61142dbc6f833b4a9847da755236b76b\", element=\"aebf3c09-39a4-4069-9464-f8b63e0a6137\")>,\n",
       " <selenium.webdriver.remote.webelement.WebElement (session=\"61142dbc6f833b4a9847da755236b76b\", element=\"a40f6814-9f19-4c3a-9558-1faf0dc90c9c\")>,\n",
       " <selenium.webdriver.remote.webelement.WebElement (session=\"61142dbc6f833b4a9847da755236b76b\", element=\"1cf16eee-baea-4547-9650-2ba5db34d84e\")>,\n",
       " <selenium.webdriver.remote.webelement.WebElement (session=\"61142dbc6f833b4a9847da755236b76b\", element=\"f5824165-ae4d-4a1c-bb8f-13b6b256fabd\")>,\n",
       " <selenium.webdriver.remote.webelement.WebElement (session=\"61142dbc6f833b4a9847da755236b76b\", element=\"de5e3a55-7160-40f3-9772-192aced91bd2\")>,\n",
       " <selenium.webdriver.remote.webelement.WebElement (session=\"61142dbc6f833b4a9847da755236b76b\", element=\"84b12b00-5e8f-4a25-b3ae-cb7c7487df4c\")>,\n",
       " <selenium.webdriver.remote.webelement.WebElement (session=\"61142dbc6f833b4a9847da755236b76b\", element=\"af9af003-0881-42ad-a6b7-03ae568ddcbd\")>,\n",
       " <selenium.webdriver.remote.webelement.WebElement (session=\"61142dbc6f833b4a9847da755236b76b\", element=\"1ba055d7-2833-47c6-b80e-a1c1d5cf2c9c\")>,\n",
       " <selenium.webdriver.remote.webelement.WebElement (session=\"61142dbc6f833b4a9847da755236b76b\", element=\"8abbec88-8d2a-40dd-8f25-5a906d0fb514\")>,\n",
       " <selenium.webdriver.remote.webelement.WebElement (session=\"61142dbc6f833b4a9847da755236b76b\", element=\"bb646d0f-0efa-4353-8a9b-a031c4781e9e\")>,\n",
       " <selenium.webdriver.remote.webelement.WebElement (session=\"61142dbc6f833b4a9847da755236b76b\", element=\"ec683d61-1057-46ab-a748-15ba88d67f1d\")>,\n",
       " <selenium.webdriver.remote.webelement.WebElement (session=\"61142dbc6f833b4a9847da755236b76b\", element=\"af5f9f79-3085-459e-9643-f487c9c116f2\")>,\n",
       " <selenium.webdriver.remote.webelement.WebElement (session=\"61142dbc6f833b4a9847da755236b76b\", element=\"8e8584fe-9b6e-4a32-b607-6de8bdbda938\")>,\n",
       " <selenium.webdriver.remote.webelement.WebElement (session=\"61142dbc6f833b4a9847da755236b76b\", element=\"f4412d5e-1fe2-4660-848a-c1473687aa10\")>,\n",
       " <selenium.webdriver.remote.webelement.WebElement (session=\"61142dbc6f833b4a9847da755236b76b\", element=\"c0bf41e3-77a8-4835-be60-d8fa1aeae5c5\")>,\n",
       " <selenium.webdriver.remote.webelement.WebElement (session=\"61142dbc6f833b4a9847da755236b76b\", element=\"697282b2-aa1d-46ff-91e8-0af74f65307c\")>,\n",
       " <selenium.webdriver.remote.webelement.WebElement (session=\"61142dbc6f833b4a9847da755236b76b\", element=\"803033b4-7a0c-4184-8034-ec670c07cca9\")>,\n",
       " <selenium.webdriver.remote.webelement.WebElement (session=\"61142dbc6f833b4a9847da755236b76b\", element=\"2b7a4d37-5cde-4f03-9e3c-f617884010e7\")>,\n",
       " <selenium.webdriver.remote.webelement.WebElement (session=\"61142dbc6f833b4a9847da755236b76b\", element=\"e0855ff3-e7e4-4ede-a897-1f29f35311a0\")>,\n",
       " <selenium.webdriver.remote.webelement.WebElement (session=\"61142dbc6f833b4a9847da755236b76b\", element=\"5a91b41c-dae8-41f1-946d-c694da6b9811\")>,\n",
       " <selenium.webdriver.remote.webelement.WebElement (session=\"61142dbc6f833b4a9847da755236b76b\", element=\"5af92bb1-8a13-4580-8cdb-d819d893c245\")>,\n",
       " <selenium.webdriver.remote.webelement.WebElement (session=\"61142dbc6f833b4a9847da755236b76b\", element=\"e557151e-70c9-417d-9eed-63d2a9ef578d\")>,\n",
       " <selenium.webdriver.remote.webelement.WebElement (session=\"61142dbc6f833b4a9847da755236b76b\", element=\"6d41debb-c039-4b8f-913e-a6f0621e43e0\")>,\n",
       " <selenium.webdriver.remote.webelement.WebElement (session=\"61142dbc6f833b4a9847da755236b76b\", element=\"b7a7983d-88a0-4f0c-b26a-97f7ae82fe29\")>,\n",
       " <selenium.webdriver.remote.webelement.WebElement (session=\"61142dbc6f833b4a9847da755236b76b\", element=\"f324648e-441a-4178-a6f6-2dd6454c6a48\")>,\n",
       " <selenium.webdriver.remote.webelement.WebElement (session=\"61142dbc6f833b4a9847da755236b76b\", element=\"9c840b34-4967-4952-beb8-ae1719029e87\")>,\n",
       " <selenium.webdriver.remote.webelement.WebElement (session=\"61142dbc6f833b4a9847da755236b76b\", element=\"562c1635-d39b-4d59-b4f7-5b2d2ae6790b\")>,\n",
       " <selenium.webdriver.remote.webelement.WebElement (session=\"61142dbc6f833b4a9847da755236b76b\", element=\"750e4274-6f8a-4662-bc56-b6279f70aee6\")>,\n",
       " <selenium.webdriver.remote.webelement.WebElement (session=\"61142dbc6f833b4a9847da755236b76b\", element=\"a33b28d4-2ee3-4824-9e18-c79dbb4d2fcd\")>,\n",
       " <selenium.webdriver.remote.webelement.WebElement (session=\"61142dbc6f833b4a9847da755236b76b\", element=\"85a0d34c-e01e-448c-b3af-ebbb79cd1809\")>,\n",
       " <selenium.webdriver.remote.webelement.WebElement (session=\"61142dbc6f833b4a9847da755236b76b\", element=\"f2bd562c-140f-4a89-827c-2b303960695c\")>,\n",
       " <selenium.webdriver.remote.webelement.WebElement (session=\"61142dbc6f833b4a9847da755236b76b\", element=\"108400a3-d20c-4d1d-8f39-cf926fa0dc4d\")>,\n",
       " <selenium.webdriver.remote.webelement.WebElement (session=\"61142dbc6f833b4a9847da755236b76b\", element=\"5c512f9e-b1a5-49e1-a919-bd98a080d3af\")>,\n",
       " <selenium.webdriver.remote.webelement.WebElement (session=\"61142dbc6f833b4a9847da755236b76b\", element=\"201e4653-e48a-4e2a-ad55-c4aeb41d4079\")>,\n",
       " <selenium.webdriver.remote.webelement.WebElement (session=\"61142dbc6f833b4a9847da755236b76b\", element=\"a0ea4bbe-3e5f-47aa-9995-6aaff858d812\")>]"
      ]
     },
     "execution_count": 12,
     "metadata": {},
     "output_type": "execute_result"
    }
   ],
   "source": [
    "line4=browser.find_elements(\"xpath\",\"//div[@class='td-wrap-in']\")\n",
    "line4"
   ]
  },
  {
   "cell_type": "code",
   "execution_count": 14,
   "id": "27a55c2d",
   "metadata": {},
   "outputs": [
    {
     "data": {
      "text/plain": [
       "['87.2', '98.3', '91.4', '99.3', '62.2', '55.3', '63.9', '90', '99.5']"
      ]
     },
     "execution_count": 14,
     "metadata": {},
     "output_type": "execute_result"
    }
   ],
   "source": [
    "#PARSING DATA\n",
    "value=[]\n",
    "for data in line4:\n",
    "    #get the text data\n",
    "    temp=data.text\n",
    "    value.append(temp)\n",
    "value_h=value[81:90]\n",
    "value_h"
   ]
  },
  {
   "cell_type": "code",
   "execution_count": 15,
   "id": "18f1dff0",
   "metadata": {},
   "outputs": [
    {
     "data": {
      "text/plain": [
       "{'Name': 'Nanyang Technological University, Singapore (NTU)',\n",
       " 'Location': 'Singapore, Singapore',\n",
       " 'Rank': '19',\n",
       " 'Overall Score': '87.2',\n",
       " 'Academic Reputation': '98.3',\n",
       " 'Employer Reputation': '91.4',\n",
       " 'Citations per Faculty': '99.3',\n",
       " 'Faculty Student Ratio': '62.2',\n",
       " 'International Students Ratio': '55.3',\n",
       " 'International Faculty Ratio': '63.9',\n",
       " 'International Research Network\\nUnweighted': '90',\n",
       " 'Employment Outcomes\\nUnweighted': '99.5'}"
      ]
     },
     "execution_count": 15,
     "metadata": {},
     "output_type": "execute_result"
    }
   ],
   "source": [
    "d={}\n",
    "d['Name']=value[80]\n",
    "d['Location']=address[8]\n",
    "d['Rank']=Rank[8]\n",
    "for i in range(len(column)):\n",
    "    d[column[i]]=value_h[i]\n",
    "d"
   ]
  },
  {
   "cell_type": "code",
   "execution_count": 16,
   "id": "d84128a5",
   "metadata": {},
   "outputs": [
    {
     "data": {
      "text/plain": [
       "'{\"Name\": \"Nanyang Technological University, Singapore (NTU)\", \"Location\": \"Singapore, Singapore\", \"Rank\": \"19\", \"Overall Score\": \"87.2\", \"Academic Reputation\": \"98.3\", \"Employer Reputation\": \"91.4\", \"Citations per Faculty\": \"99.3\", \"Faculty Student Ratio\": \"62.2\", \"International Students Ratio\": \"55.3\", \"International Faculty Ratio\": \"63.9\", \"International Research Network\\\\nUnweighted\": \"90\", \"Employment Outcomes\\\\nUnweighted\": \"99.5\"}'"
      ]
     },
     "execution_count": 16,
     "metadata": {},
     "output_type": "execute_result"
    }
   ],
   "source": [
    "s1=json.dumps(d)\n",
    "s1"
   ]
  },
  {
   "cell_type": "code",
   "execution_count": 17,
   "id": "813825e1",
   "metadata": {},
   "outputs": [],
   "source": [
    "with open('Nanyang Technological University, Singapore (NTU).json','w') as f:\n",
    "    json.dump(d,f)"
   ]
  }
 ],
 "metadata": {
  "kernelspec": {
   "display_name": "Python 3.9.12 ('base')",
   "language": "python",
   "name": "python3"
  },
  "language_info": {
   "codemirror_mode": {
    "name": "ipython",
    "version": 3
   },
   "file_extension": ".py",
   "mimetype": "text/x-python",
   "name": "python",
   "nbconvert_exporter": "python",
   "pygments_lexer": "ipython3",
   "version": "3.9.12"
  },
  "vscode": {
   "interpreter": {
    "hash": "ad2bdc8ecc057115af97d19610ffacc2b4e99fae6737bb82f5d7fb13d2f2c186"
   }
  }
 },
 "nbformat": 4,
 "nbformat_minor": 5
}
