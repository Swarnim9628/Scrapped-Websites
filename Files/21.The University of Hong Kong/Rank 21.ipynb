{
 "cells": [
  {
   "cell_type": "code",
   "execution_count": 1,
   "id": "5b1028e0",
   "metadata": {},
   "outputs": [],
   "source": [
    "from selenium import webdriver\n",
    "from selenium.webdriver.chrome.service import Service\n",
    "import pandas as pd\n",
    "import json"
   ]
  },
  {
   "cell_type": "code",
   "execution_count": 4,
   "id": "4b2f519c",
   "metadata": {},
   "outputs": [],
   "source": [
    "path = Service('C:\\chromedriver.exe')"
   ]
  },
  {
   "cell_type": "code",
   "execution_count": 5,
   "id": "664d104f",
   "metadata": {},
   "outputs": [],
   "source": [
    "# set path for the driver\n",
    "browser = webdriver.Chrome(service = path)"
   ]
  },
  {
   "cell_type": "code",
   "execution_count": 6,
   "id": "62c5c7d1",
   "metadata": {},
   "outputs": [],
   "source": [
    "url = \"https://www.topuniversities.com/university-rankings/world-university-rankings/2023\""
   ]
  },
  {
   "cell_type": "code",
   "execution_count": 7,
   "id": "7a73a4d7",
   "metadata": {},
   "outputs": [],
   "source": [
    "# open the page url ion chrome\n",
    "browser.get(url)"
   ]
  },
  {
   "cell_type": "code",
   "execution_count": 24,
   "id": "8a76870d",
   "metadata": {},
   "outputs": [
    {
     "data": {
      "text/plain": [
       "[<selenium.webdriver.remote.webelement.WebElement (session=\"5e2b75ed9986783546d50ecc8cad5604\", element=\"0db1a3ef-22a0-46d4-b38c-5513c50079cc\")>,\n",
       " <selenium.webdriver.remote.webelement.WebElement (session=\"5e2b75ed9986783546d50ecc8cad5604\", element=\"622f01c2-4d09-4a36-9c45-46b9590a6216\")>,\n",
       " <selenium.webdriver.remote.webelement.WebElement (session=\"5e2b75ed9986783546d50ecc8cad5604\", element=\"19669203-1e68-4023-99e1-17933d1d6308\")>,\n",
       " <selenium.webdriver.remote.webelement.WebElement (session=\"5e2b75ed9986783546d50ecc8cad5604\", element=\"b9695d22-f478-4f45-ad37-64edb5a952e5\")>,\n",
       " <selenium.webdriver.remote.webelement.WebElement (session=\"5e2b75ed9986783546d50ecc8cad5604\", element=\"14ccd866-61bb-4fbb-ae87-a8967297c068\")>,\n",
       " <selenium.webdriver.remote.webelement.WebElement (session=\"5e2b75ed9986783546d50ecc8cad5604\", element=\"b829572a-7ecf-4c22-b796-9875ceee8ff5\")>,\n",
       " <selenium.webdriver.remote.webelement.WebElement (session=\"5e2b75ed9986783546d50ecc8cad5604\", element=\"e3fc74b2-0e2e-41b4-8ad6-6ab272838285\")>,\n",
       " <selenium.webdriver.remote.webelement.WebElement (session=\"5e2b75ed9986783546d50ecc8cad5604\", element=\"840f7837-50f0-454c-a727-ca1a82dd8bb8\")>,\n",
       " <selenium.webdriver.remote.webelement.WebElement (session=\"5e2b75ed9986783546d50ecc8cad5604\", element=\"1491af77-b249-449e-a988-740dde22e5f7\")>,\n",
       " <selenium.webdriver.remote.webelement.WebElement (session=\"5e2b75ed9986783546d50ecc8cad5604\", element=\"b1bc9b7f-8c1f-448b-84f4-568796c344d4\")>,\n",
       " <selenium.webdriver.remote.webelement.WebElement (session=\"5e2b75ed9986783546d50ecc8cad5604\", element=\"8343b5ab-435b-49eb-a31f-5b76516a4d16\")>,\n",
       " <selenium.webdriver.remote.webelement.WebElement (session=\"5e2b75ed9986783546d50ecc8cad5604\", element=\"455c47f4-dcd8-4c83-8f8c-3de6f64b1ca3\")>,\n",
       " <selenium.webdriver.remote.webelement.WebElement (session=\"5e2b75ed9986783546d50ecc8cad5604\", element=\"6e19768a-9165-4640-bf3f-e86b86fe95cf\")>,\n",
       " <selenium.webdriver.remote.webelement.WebElement (session=\"5e2b75ed9986783546d50ecc8cad5604\", element=\"b9a902a2-891d-496e-849d-e5a4e8890b0e\")>,\n",
       " <selenium.webdriver.remote.webelement.WebElement (session=\"5e2b75ed9986783546d50ecc8cad5604\", element=\"c4e0f8d1-525b-4711-a141-d957de16f045\")>,\n",
       " <selenium.webdriver.remote.webelement.WebElement (session=\"5e2b75ed9986783546d50ecc8cad5604\", element=\"504831f2-f7f4-4aa4-bbb2-a102e85049d2\")>,\n",
       " <selenium.webdriver.remote.webelement.WebElement (session=\"5e2b75ed9986783546d50ecc8cad5604\", element=\"e339702b-8610-41af-8345-2e19f4f29a30\")>,\n",
       " <selenium.webdriver.remote.webelement.WebElement (session=\"5e2b75ed9986783546d50ecc8cad5604\", element=\"0ef704c0-939a-433a-a5b3-6bc66b13d148\")>,\n",
       " <selenium.webdriver.remote.webelement.WebElement (session=\"5e2b75ed9986783546d50ecc8cad5604\", element=\"43ffca72-a5eb-4b15-9b47-c5d605ba81a0\")>,\n",
       " <selenium.webdriver.remote.webelement.WebElement (session=\"5e2b75ed9986783546d50ecc8cad5604\", element=\"1f180e90-e86e-4fb8-beee-bf0d6c008b8e\")>]"
      ]
     },
     "execution_count": 24,
     "metadata": {},
     "output_type": "execute_result"
    }
   ],
   "source": [
    "line1=browser.find_elements(\"xpath\",\"//div[@class='location ']\")\n",
    "line1"
   ]
  },
  {
   "cell_type": "code",
   "execution_count": 25,
   "id": "fd7e5b26",
   "metadata": {},
   "outputs": [
    {
     "data": {
      "text/plain": [
       "[' Hong Kong SAR',\n",
       " 'New York City, United States',\n",
       " 'Tokyo, Japan',\n",
       " 'Baltimore, United States',\n",
       " 'Ann Arbor, United States',\n",
       " 'Paris, France',\n",
       " 'Berkeley, United States',\n",
       " 'Manchester, United Kingdom',\n",
       " 'Seoul, South Korea',\n",
       " 'Canberra, Australia']"
      ]
     },
     "execution_count": 25,
     "metadata": {},
     "output_type": "execute_result"
    }
   ],
   "source": [
    "address=[]\n",
    "for data in line1:\n",
    "    #get the text data\n",
    "    temp=data.text\n",
    "    address.append(temp)\n",
    "address=address[10:]\n",
    "address"
   ]
  },
  {
   "cell_type": "code",
   "execution_count": 26,
   "id": "2c57bd0d",
   "metadata": {},
   "outputs": [
    {
     "data": {
      "text/plain": [
       "[<selenium.webdriver.remote.webelement.WebElement (session=\"5e2b75ed9986783546d50ecc8cad5604\", element=\"95fe58c9-c699-446f-a073-4c295fdf3b34\")>,\n",
       " <selenium.webdriver.remote.webelement.WebElement (session=\"5e2b75ed9986783546d50ecc8cad5604\", element=\"694da408-4965-4a4e-a5ae-7a21d03913a3\")>,\n",
       " <selenium.webdriver.remote.webelement.WebElement (session=\"5e2b75ed9986783546d50ecc8cad5604\", element=\"99c23710-22f7-4014-9516-0def895b69b6\")>,\n",
       " <selenium.webdriver.remote.webelement.WebElement (session=\"5e2b75ed9986783546d50ecc8cad5604\", element=\"241d1678-cbd2-4e43-8398-77aefb0accf4\")>,\n",
       " <selenium.webdriver.remote.webelement.WebElement (session=\"5e2b75ed9986783546d50ecc8cad5604\", element=\"a2bced1b-aa40-4615-8887-f9003eb05948\")>,\n",
       " <selenium.webdriver.remote.webelement.WebElement (session=\"5e2b75ed9986783546d50ecc8cad5604\", element=\"461b5900-114a-4b81-9047-192c921bcab8\")>,\n",
       " <selenium.webdriver.remote.webelement.WebElement (session=\"5e2b75ed9986783546d50ecc8cad5604\", element=\"5e178c45-9be4-4c1e-992f-341bb172243e\")>,\n",
       " <selenium.webdriver.remote.webelement.WebElement (session=\"5e2b75ed9986783546d50ecc8cad5604\", element=\"203d2b63-6e69-4130-ac69-aeca8a2a169a\")>,\n",
       " <selenium.webdriver.remote.webelement.WebElement (session=\"5e2b75ed9986783546d50ecc8cad5604\", element=\"527deb85-f2bd-448b-a9eb-bd6a8ebe72ce\")>,\n",
       " <selenium.webdriver.remote.webelement.WebElement (session=\"5e2b75ed9986783546d50ecc8cad5604\", element=\"c3faa311-35b4-4049-9a00-74b224d1a3b5\")>]"
      ]
     },
     "execution_count": 26,
     "metadata": {},
     "output_type": "execute_result"
    }
   ],
   "source": [
    "line2=browser.find_elements(\"xpath\",\"//div[@class='_univ-rank ']\")\n",
    "line2"
   ]
  },
  {
   "cell_type": "code",
   "execution_count": 27,
   "id": "238e8f40",
   "metadata": {},
   "outputs": [
    {
     "data": {
      "text/plain": [
       "['21', '22', '23', '24', '25', '26', '27', '28', '29', '30']"
      ]
     },
     "execution_count": 27,
     "metadata": {},
     "output_type": "execute_result"
    }
   ],
   "source": [
    "Rank=[]\n",
    "for data in line2:\n",
    "    #get the text data\n",
    "    temp=data.text\n",
    "    Rank.append(temp)\n",
    "Rank"
   ]
  },
  {
   "cell_type": "code",
   "execution_count": 28,
   "id": "f8af8af2",
   "metadata": {},
   "outputs": [
    {
     "data": {
      "text/plain": [
       "[<selenium.webdriver.remote.webelement.WebElement (session=\"5e2b75ed9986783546d50ecc8cad5604\", element=\"3008fa1e-ead4-468e-ba5a-2c888661261e\")>,\n",
       " <selenium.webdriver.remote.webelement.WebElement (session=\"5e2b75ed9986783546d50ecc8cad5604\", element=\"804a2d3c-c37b-45e6-ae40-35db9efb94d0\")>,\n",
       " <selenium.webdriver.remote.webelement.WebElement (session=\"5e2b75ed9986783546d50ecc8cad5604\", element=\"c80d5d0c-0970-4b76-a283-150816b0d4f4\")>,\n",
       " <selenium.webdriver.remote.webelement.WebElement (session=\"5e2b75ed9986783546d50ecc8cad5604\", element=\"2e0221c5-259f-421d-95ed-5e1e5e962116\")>,\n",
       " <selenium.webdriver.remote.webelement.WebElement (session=\"5e2b75ed9986783546d50ecc8cad5604\", element=\"911c0ae8-118d-4d87-82ab-2f61d433299a\")>,\n",
       " <selenium.webdriver.remote.webelement.WebElement (session=\"5e2b75ed9986783546d50ecc8cad5604\", element=\"7eda60f4-f941-483b-a395-722bfeff4d0d\")>,\n",
       " <selenium.webdriver.remote.webelement.WebElement (session=\"5e2b75ed9986783546d50ecc8cad5604\", element=\"80e3565a-6de6-47ff-9505-6b20e9b846b1\")>,\n",
       " <selenium.webdriver.remote.webelement.WebElement (session=\"5e2b75ed9986783546d50ecc8cad5604\", element=\"27194456-76fe-49ec-9630-b4a3296c582f\")>,\n",
       " <selenium.webdriver.remote.webelement.WebElement (session=\"5e2b75ed9986783546d50ecc8cad5604\", element=\"3ceab969-979f-4723-a31a-cb07d7e1da22\")>]"
      ]
     },
     "execution_count": 28,
     "metadata": {},
     "output_type": "execute_result"
    }
   ],
   "source": [
    "# GET EACH COLLEGE SPECIFICATION HEADERS\n",
    "line3=browser.find_elements(\"xpath\",\"//div[@class='_click-function_ind']\")\n",
    "line3"
   ]
  },
  {
   "cell_type": "code",
   "execution_count": 29,
   "id": "336aa394",
   "metadata": {},
   "outputs": [
    {
     "data": {
      "text/plain": [
       "['Overall Score',\n",
       " 'Academic Reputation',\n",
       " 'Employer Reputation',\n",
       " 'Citations per Faculty',\n",
       " 'Faculty Student Ratio',\n",
       " 'International Students Ratio',\n",
       " 'International Faculty Ratio',\n",
       " 'International Research Network\\nUnweighted',\n",
       " 'Employment Outcomes\\nUnweighted']"
      ]
     },
     "execution_count": 29,
     "metadata": {},
     "output_type": "execute_result"
    }
   ],
   "source": [
    "#PARSING DATA\n",
    "column=[]\n",
    "for data in line3:\n",
    "    #get the text data\n",
    "    temp=data.text\n",
    "    column.append(temp)\n",
    "column"
   ]
  },
  {
   "cell_type": "code",
   "execution_count": 30,
   "id": "0aeffb7a",
   "metadata": {},
   "outputs": [
    {
     "data": {
      "text/plain": [
       "[<selenium.webdriver.remote.webelement.WebElement (session=\"5e2b75ed9986783546d50ecc8cad5604\", element=\"3d15d205-3573-4fa5-be8a-6083cb60a696\")>,\n",
       " <selenium.webdriver.remote.webelement.WebElement (session=\"5e2b75ed9986783546d50ecc8cad5604\", element=\"2414d6a7-d7a5-4b87-af4a-b15a96ee7cb5\")>,\n",
       " <selenium.webdriver.remote.webelement.WebElement (session=\"5e2b75ed9986783546d50ecc8cad5604\", element=\"d3155545-83ac-4061-bdbb-6ad1fab335c4\")>,\n",
       " <selenium.webdriver.remote.webelement.WebElement (session=\"5e2b75ed9986783546d50ecc8cad5604\", element=\"abba053b-9969-4faf-9768-2db1e361abac\")>,\n",
       " <selenium.webdriver.remote.webelement.WebElement (session=\"5e2b75ed9986783546d50ecc8cad5604\", element=\"32687ca4-0e15-42cc-b7fe-89b2cbcb5063\")>,\n",
       " <selenium.webdriver.remote.webelement.WebElement (session=\"5e2b75ed9986783546d50ecc8cad5604\", element=\"af3c2445-ac33-4e1c-94e1-66cd5225ab70\")>,\n",
       " <selenium.webdriver.remote.webelement.WebElement (session=\"5e2b75ed9986783546d50ecc8cad5604\", element=\"aaa12afb-c76d-4ab4-952a-545f30d2f490\")>,\n",
       " <selenium.webdriver.remote.webelement.WebElement (session=\"5e2b75ed9986783546d50ecc8cad5604\", element=\"c53368f6-6c2d-4d52-a474-a5eaf46c0dff\")>,\n",
       " <selenium.webdriver.remote.webelement.WebElement (session=\"5e2b75ed9986783546d50ecc8cad5604\", element=\"0d409670-b571-4931-8f9d-980df2fa13a9\")>,\n",
       " <selenium.webdriver.remote.webelement.WebElement (session=\"5e2b75ed9986783546d50ecc8cad5604\", element=\"c436b815-c728-4a92-83ac-3eb82563a407\")>,\n",
       " <selenium.webdriver.remote.webelement.WebElement (session=\"5e2b75ed9986783546d50ecc8cad5604\", element=\"0600bff8-cf87-4f67-83ad-cb596a169db4\")>,\n",
       " <selenium.webdriver.remote.webelement.WebElement (session=\"5e2b75ed9986783546d50ecc8cad5604\", element=\"796eba52-bdc8-4651-96f4-0cb291d4dac8\")>,\n",
       " <selenium.webdriver.remote.webelement.WebElement (session=\"5e2b75ed9986783546d50ecc8cad5604\", element=\"edb7b0db-ab77-4751-b3cb-034068829b8e\")>,\n",
       " <selenium.webdriver.remote.webelement.WebElement (session=\"5e2b75ed9986783546d50ecc8cad5604\", element=\"e84de700-9595-42b3-8d07-086ca6039552\")>,\n",
       " <selenium.webdriver.remote.webelement.WebElement (session=\"5e2b75ed9986783546d50ecc8cad5604\", element=\"dde78345-bdb6-4d04-8e40-2137c7097f34\")>,\n",
       " <selenium.webdriver.remote.webelement.WebElement (session=\"5e2b75ed9986783546d50ecc8cad5604\", element=\"b2fba712-e5b8-4aff-b78d-00e6265e30d9\")>,\n",
       " <selenium.webdriver.remote.webelement.WebElement (session=\"5e2b75ed9986783546d50ecc8cad5604\", element=\"7ef49cfb-ce3a-4e16-bbf4-aa6d2932974e\")>,\n",
       " <selenium.webdriver.remote.webelement.WebElement (session=\"5e2b75ed9986783546d50ecc8cad5604\", element=\"a661b518-4859-47c0-bad4-b0f2f5fd3e1c\")>,\n",
       " <selenium.webdriver.remote.webelement.WebElement (session=\"5e2b75ed9986783546d50ecc8cad5604\", element=\"e93c62fb-4ecf-4428-bdb1-1c39d9706c0a\")>,\n",
       " <selenium.webdriver.remote.webelement.WebElement (session=\"5e2b75ed9986783546d50ecc8cad5604\", element=\"3c271eb1-d5fd-4d10-8d07-8babd6bce5a9\")>,\n",
       " <selenium.webdriver.remote.webelement.WebElement (session=\"5e2b75ed9986783546d50ecc8cad5604\", element=\"cc693c6b-384c-4b8a-b609-53c21def278b\")>,\n",
       " <selenium.webdriver.remote.webelement.WebElement (session=\"5e2b75ed9986783546d50ecc8cad5604\", element=\"e107ec9e-60e2-4f81-aa02-124287b49f88\")>,\n",
       " <selenium.webdriver.remote.webelement.WebElement (session=\"5e2b75ed9986783546d50ecc8cad5604\", element=\"f66af977-16fe-446b-b75c-2e215526ca34\")>,\n",
       " <selenium.webdriver.remote.webelement.WebElement (session=\"5e2b75ed9986783546d50ecc8cad5604\", element=\"2b984a01-907d-4ff0-8383-8660bdbb9998\")>,\n",
       " <selenium.webdriver.remote.webelement.WebElement (session=\"5e2b75ed9986783546d50ecc8cad5604\", element=\"32526c7c-a5e0-4aaf-9687-05f311bce54d\")>,\n",
       " <selenium.webdriver.remote.webelement.WebElement (session=\"5e2b75ed9986783546d50ecc8cad5604\", element=\"0cb9153c-5530-484a-a3cd-fac0a8f9a6b5\")>,\n",
       " <selenium.webdriver.remote.webelement.WebElement (session=\"5e2b75ed9986783546d50ecc8cad5604\", element=\"089583f3-c1dd-4920-8f43-2a337e94a7d1\")>,\n",
       " <selenium.webdriver.remote.webelement.WebElement (session=\"5e2b75ed9986783546d50ecc8cad5604\", element=\"462b773e-1278-43ae-9df2-83e47a9a9d9d\")>,\n",
       " <selenium.webdriver.remote.webelement.WebElement (session=\"5e2b75ed9986783546d50ecc8cad5604\", element=\"b05b0abc-43e6-465d-a56a-6ae30779b382\")>,\n",
       " <selenium.webdriver.remote.webelement.WebElement (session=\"5e2b75ed9986783546d50ecc8cad5604\", element=\"6bb01f89-0462-46a3-a03c-1e00d22cd298\")>,\n",
       " <selenium.webdriver.remote.webelement.WebElement (session=\"5e2b75ed9986783546d50ecc8cad5604\", element=\"55787358-117c-4782-890c-1409b63b7a3d\")>,\n",
       " <selenium.webdriver.remote.webelement.WebElement (session=\"5e2b75ed9986783546d50ecc8cad5604\", element=\"25d54d13-e1dc-4ffa-82a1-8989f88351fe\")>,\n",
       " <selenium.webdriver.remote.webelement.WebElement (session=\"5e2b75ed9986783546d50ecc8cad5604\", element=\"ad6781de-b423-444c-8098-a2bfe44e86f2\")>,\n",
       " <selenium.webdriver.remote.webelement.WebElement (session=\"5e2b75ed9986783546d50ecc8cad5604\", element=\"863cd26f-a77a-482b-af14-61c1272b12b8\")>,\n",
       " <selenium.webdriver.remote.webelement.WebElement (session=\"5e2b75ed9986783546d50ecc8cad5604\", element=\"8e72ed93-c81a-45c3-853c-9890d4d158f5\")>,\n",
       " <selenium.webdriver.remote.webelement.WebElement (session=\"5e2b75ed9986783546d50ecc8cad5604\", element=\"d1c5d09d-3080-476a-8b2d-38a551c03097\")>,\n",
       " <selenium.webdriver.remote.webelement.WebElement (session=\"5e2b75ed9986783546d50ecc8cad5604\", element=\"fc8adc73-e9d7-4408-a3c6-d87338ca8c16\")>,\n",
       " <selenium.webdriver.remote.webelement.WebElement (session=\"5e2b75ed9986783546d50ecc8cad5604\", element=\"888909c8-7205-421f-9c70-a2f7da31bc4b\")>,\n",
       " <selenium.webdriver.remote.webelement.WebElement (session=\"5e2b75ed9986783546d50ecc8cad5604\", element=\"bf8e7849-9f90-4026-9081-ad27eb9ad880\")>,\n",
       " <selenium.webdriver.remote.webelement.WebElement (session=\"5e2b75ed9986783546d50ecc8cad5604\", element=\"999f2611-806f-4912-a2e2-bb7cf5210bce\")>,\n",
       " <selenium.webdriver.remote.webelement.WebElement (session=\"5e2b75ed9986783546d50ecc8cad5604\", element=\"6d04c12a-f6f1-4820-92bb-b1241fafe1d5\")>,\n",
       " <selenium.webdriver.remote.webelement.WebElement (session=\"5e2b75ed9986783546d50ecc8cad5604\", element=\"2d977023-21d7-49c1-8d3f-3522338318a9\")>,\n",
       " <selenium.webdriver.remote.webelement.WebElement (session=\"5e2b75ed9986783546d50ecc8cad5604\", element=\"1446dddc-1b3f-441a-a6e7-ad4615355703\")>,\n",
       " <selenium.webdriver.remote.webelement.WebElement (session=\"5e2b75ed9986783546d50ecc8cad5604\", element=\"0912b0c2-74f1-4264-b8eb-1c759ca82e39\")>,\n",
       " <selenium.webdriver.remote.webelement.WebElement (session=\"5e2b75ed9986783546d50ecc8cad5604\", element=\"f6d2e2f2-02ed-46cc-a4b5-07d05d2f1a91\")>,\n",
       " <selenium.webdriver.remote.webelement.WebElement (session=\"5e2b75ed9986783546d50ecc8cad5604\", element=\"9ef18645-431f-4922-a7ba-facacebf4976\")>,\n",
       " <selenium.webdriver.remote.webelement.WebElement (session=\"5e2b75ed9986783546d50ecc8cad5604\", element=\"43586556-4984-4cd2-a329-ea8e4888dec6\")>,\n",
       " <selenium.webdriver.remote.webelement.WebElement (session=\"5e2b75ed9986783546d50ecc8cad5604\", element=\"e064627b-1df9-4d1c-b880-b8be2f966d93\")>,\n",
       " <selenium.webdriver.remote.webelement.WebElement (session=\"5e2b75ed9986783546d50ecc8cad5604\", element=\"e1f4d27d-32a4-4b03-8899-a4b559c80b44\")>,\n",
       " <selenium.webdriver.remote.webelement.WebElement (session=\"5e2b75ed9986783546d50ecc8cad5604\", element=\"8c919996-a2ca-4419-9b84-1574ebc8e1fd\")>,\n",
       " <selenium.webdriver.remote.webelement.WebElement (session=\"5e2b75ed9986783546d50ecc8cad5604\", element=\"db6a87f1-24c0-48fd-ab89-9662fb987297\")>,\n",
       " <selenium.webdriver.remote.webelement.WebElement (session=\"5e2b75ed9986783546d50ecc8cad5604\", element=\"4e95f283-9c1f-4ad2-b147-d065c4f4533b\")>,\n",
       " <selenium.webdriver.remote.webelement.WebElement (session=\"5e2b75ed9986783546d50ecc8cad5604\", element=\"c5cc65b1-84d0-4f37-9cdd-94a55b7aa734\")>,\n",
       " <selenium.webdriver.remote.webelement.WebElement (session=\"5e2b75ed9986783546d50ecc8cad5604\", element=\"50aac10c-28a1-47ab-b57d-e35e511bf883\")>,\n",
       " <selenium.webdriver.remote.webelement.WebElement (session=\"5e2b75ed9986783546d50ecc8cad5604\", element=\"37e5d0a1-e047-4075-bc06-6d059532cf26\")>,\n",
       " <selenium.webdriver.remote.webelement.WebElement (session=\"5e2b75ed9986783546d50ecc8cad5604\", element=\"c1b37d90-a1fc-49eb-ae03-8838b411ed18\")>,\n",
       " <selenium.webdriver.remote.webelement.WebElement (session=\"5e2b75ed9986783546d50ecc8cad5604\", element=\"c16b035f-3da5-45ad-b524-2bfec3f5ef71\")>,\n",
       " <selenium.webdriver.remote.webelement.WebElement (session=\"5e2b75ed9986783546d50ecc8cad5604\", element=\"1fb9fdda-d249-43f6-9a00-8f280e516a0f\")>,\n",
       " <selenium.webdriver.remote.webelement.WebElement (session=\"5e2b75ed9986783546d50ecc8cad5604\", element=\"998dfc8d-eabe-4dfa-bdd8-8e6474f433c0\")>,\n",
       " <selenium.webdriver.remote.webelement.WebElement (session=\"5e2b75ed9986783546d50ecc8cad5604\", element=\"a29b52c1-ce75-49c1-9b5c-a48747f56485\")>,\n",
       " <selenium.webdriver.remote.webelement.WebElement (session=\"5e2b75ed9986783546d50ecc8cad5604\", element=\"0b7938b6-5192-4c32-b949-bccb3a899b81\")>,\n",
       " <selenium.webdriver.remote.webelement.WebElement (session=\"5e2b75ed9986783546d50ecc8cad5604\", element=\"131bea9e-20da-4a37-91c4-513d8f24dab7\")>,\n",
       " <selenium.webdriver.remote.webelement.WebElement (session=\"5e2b75ed9986783546d50ecc8cad5604\", element=\"5bba80a8-d74e-44fd-9879-90ca486615e8\")>,\n",
       " <selenium.webdriver.remote.webelement.WebElement (session=\"5e2b75ed9986783546d50ecc8cad5604\", element=\"346b921d-c9a0-488c-8234-48c679333826\")>,\n",
       " <selenium.webdriver.remote.webelement.WebElement (session=\"5e2b75ed9986783546d50ecc8cad5604\", element=\"d8919c9c-815b-49e5-a32b-a2b294f8cfb6\")>,\n",
       " <selenium.webdriver.remote.webelement.WebElement (session=\"5e2b75ed9986783546d50ecc8cad5604\", element=\"747b3b40-174a-4f16-ba0b-03db8c054fd6\")>,\n",
       " <selenium.webdriver.remote.webelement.WebElement (session=\"5e2b75ed9986783546d50ecc8cad5604\", element=\"e96e228a-04de-47b9-8055-c3b3f46d3b80\")>,\n",
       " <selenium.webdriver.remote.webelement.WebElement (session=\"5e2b75ed9986783546d50ecc8cad5604\", element=\"19f2a6d7-e099-47fc-b1d0-90fd702bf46e\")>,\n",
       " <selenium.webdriver.remote.webelement.WebElement (session=\"5e2b75ed9986783546d50ecc8cad5604\", element=\"c4a229f1-c3a2-492c-a458-331987aa44c1\")>,\n",
       " <selenium.webdriver.remote.webelement.WebElement (session=\"5e2b75ed9986783546d50ecc8cad5604\", element=\"0436f940-32d8-4ed6-98a7-fc707657ba93\")>,\n",
       " <selenium.webdriver.remote.webelement.WebElement (session=\"5e2b75ed9986783546d50ecc8cad5604\", element=\"a0ecb47d-b8b2-442c-bd4c-391dbc4425aa\")>,\n",
       " <selenium.webdriver.remote.webelement.WebElement (session=\"5e2b75ed9986783546d50ecc8cad5604\", element=\"d2bb909e-86a1-428a-8f5f-eaac1847f6c3\")>,\n",
       " <selenium.webdriver.remote.webelement.WebElement (session=\"5e2b75ed9986783546d50ecc8cad5604\", element=\"9325fd50-6458-4b33-a550-fdf8012cb41f\")>,\n",
       " <selenium.webdriver.remote.webelement.WebElement (session=\"5e2b75ed9986783546d50ecc8cad5604\", element=\"ae41147a-56ed-4977-84fb-0f60972b8bd6\")>,\n",
       " <selenium.webdriver.remote.webelement.WebElement (session=\"5e2b75ed9986783546d50ecc8cad5604\", element=\"cdf020d4-a40a-46e6-b68a-9b3a6507e9c7\")>,\n",
       " <selenium.webdriver.remote.webelement.WebElement (session=\"5e2b75ed9986783546d50ecc8cad5604\", element=\"7152dbb1-92ab-4620-aa92-1902c7a959ff\")>,\n",
       " <selenium.webdriver.remote.webelement.WebElement (session=\"5e2b75ed9986783546d50ecc8cad5604\", element=\"ca5e6e8c-f21f-4245-a05d-f88bd608d2d9\")>,\n",
       " <selenium.webdriver.remote.webelement.WebElement (session=\"5e2b75ed9986783546d50ecc8cad5604\", element=\"fbaead55-025a-459a-ba57-9f8c5ff8d1b9\")>,\n",
       " <selenium.webdriver.remote.webelement.WebElement (session=\"5e2b75ed9986783546d50ecc8cad5604\", element=\"0da0850f-d165-4be1-8167-c5e23f65e8ca\")>,\n",
       " <selenium.webdriver.remote.webelement.WebElement (session=\"5e2b75ed9986783546d50ecc8cad5604\", element=\"5f8df426-2947-4d74-8568-6799d22beb9e\")>,\n",
       " <selenium.webdriver.remote.webelement.WebElement (session=\"5e2b75ed9986783546d50ecc8cad5604\", element=\"6867a6ea-2a42-4c88-90e5-cc89c3ceb4ad\")>,\n",
       " <selenium.webdriver.remote.webelement.WebElement (session=\"5e2b75ed9986783546d50ecc8cad5604\", element=\"9511cc47-e063-444c-ae43-2393f39acbdb\")>,\n",
       " <selenium.webdriver.remote.webelement.WebElement (session=\"5e2b75ed9986783546d50ecc8cad5604\", element=\"a6e13b26-a829-4f00-b517-e995d5b510ed\")>,\n",
       " <selenium.webdriver.remote.webelement.WebElement (session=\"5e2b75ed9986783546d50ecc8cad5604\", element=\"3d90313a-2d10-4e68-b1e4-6fdc4e1d0d73\")>,\n",
       " <selenium.webdriver.remote.webelement.WebElement (session=\"5e2b75ed9986783546d50ecc8cad5604\", element=\"d1c49cec-e208-45b2-8c7f-5b18f7fa4504\")>,\n",
       " <selenium.webdriver.remote.webelement.WebElement (session=\"5e2b75ed9986783546d50ecc8cad5604\", element=\"9bb22591-96de-4d73-87f9-34fb09e988bb\")>,\n",
       " <selenium.webdriver.remote.webelement.WebElement (session=\"5e2b75ed9986783546d50ecc8cad5604\", element=\"4de53d32-51a8-4967-8cfa-f06c17669df1\")>,\n",
       " <selenium.webdriver.remote.webelement.WebElement (session=\"5e2b75ed9986783546d50ecc8cad5604\", element=\"ab52d446-35d0-4866-ad0b-57fdf3de63e8\")>,\n",
       " <selenium.webdriver.remote.webelement.WebElement (session=\"5e2b75ed9986783546d50ecc8cad5604\", element=\"fe4e4a8f-0239-440d-a4a6-2a3dda3de579\")>,\n",
       " <selenium.webdriver.remote.webelement.WebElement (session=\"5e2b75ed9986783546d50ecc8cad5604\", element=\"a99a53ed-fbfe-4f85-982b-016335732a1b\")>,\n",
       " <selenium.webdriver.remote.webelement.WebElement (session=\"5e2b75ed9986783546d50ecc8cad5604\", element=\"0ade13bd-1eec-4950-bf07-8a9d7ffb88cf\")>,\n",
       " <selenium.webdriver.remote.webelement.WebElement (session=\"5e2b75ed9986783546d50ecc8cad5604\", element=\"f9944513-e02c-4941-a188-853dc01f5a45\")>,\n",
       " <selenium.webdriver.remote.webelement.WebElement (session=\"5e2b75ed9986783546d50ecc8cad5604\", element=\"3351c8c9-83a6-4a47-bd9e-323aee25e169\")>,\n",
       " <selenium.webdriver.remote.webelement.WebElement (session=\"5e2b75ed9986783546d50ecc8cad5604\", element=\"b08c737e-b013-490c-b1e8-d7d033047ce5\")>,\n",
       " <selenium.webdriver.remote.webelement.WebElement (session=\"5e2b75ed9986783546d50ecc8cad5604\", element=\"b6b561f2-1dcc-4c8f-a319-a81358a6e9ba\")>,\n",
       " <selenium.webdriver.remote.webelement.WebElement (session=\"5e2b75ed9986783546d50ecc8cad5604\", element=\"db532838-255a-430c-a48c-720ab4f755af\")>,\n",
       " <selenium.webdriver.remote.webelement.WebElement (session=\"5e2b75ed9986783546d50ecc8cad5604\", element=\"5c07d297-d23a-4edf-ae8f-72256b8f6638\")>,\n",
       " <selenium.webdriver.remote.webelement.WebElement (session=\"5e2b75ed9986783546d50ecc8cad5604\", element=\"c65e2156-7297-4cf5-9166-af294c0844a8\")>,\n",
       " <selenium.webdriver.remote.webelement.WebElement (session=\"5e2b75ed9986783546d50ecc8cad5604\", element=\"09479ede-1406-47e3-8b3d-2e9941aac9b9\")>,\n",
       " <selenium.webdriver.remote.webelement.WebElement (session=\"5e2b75ed9986783546d50ecc8cad5604\", element=\"57f07f0e-18af-4dc2-8e92-365e3369b646\")>]"
      ]
     },
     "execution_count": 30,
     "metadata": {},
     "output_type": "execute_result"
    }
   ],
   "source": [
    "line4=browser.find_elements(\"xpath\",\"//div[@class='td-wrap-in']\")\n",
    "line4"
   ]
  },
  {
   "cell_type": "code",
   "execution_count": 31,
   "id": "a7838e95",
   "metadata": {},
   "outputs": [
    {
     "data": {
      "text/plain": [
       "['87', '97.4', '62.9', '72.6', '84.2', '98.7', '100', '81.1', '99']"
      ]
     },
     "execution_count": 31,
     "metadata": {},
     "output_type": "execute_result"
    }
   ],
   "source": [
    "#PARSING DATA\n",
    "value=[]\n",
    "for data in line4:\n",
    "    #get the text data\n",
    "    temp=data.text\n",
    "    value.append(temp)\n",
    "value_h=value[1:10]\n",
    "value_h"
   ]
  },
  {
   "cell_type": "code",
   "execution_count": 32,
   "id": "5c9005a7",
   "metadata": {},
   "outputs": [
    {
     "data": {
      "text/plain": [
       "{'Name': 'The University of Hong Kong',\n",
       " 'Location': ' Hong Kong SAR',\n",
       " 'Rank': '21',\n",
       " 'Overall Score': '87',\n",
       " 'Academic Reputation': '97.4',\n",
       " 'Employer Reputation': '62.9',\n",
       " 'Citations per Faculty': '72.6',\n",
       " 'Faculty Student Ratio': '84.2',\n",
       " 'International Students Ratio': '98.7',\n",
       " 'International Faculty Ratio': '100',\n",
       " 'International Research Network\\nUnweighted': '81.1',\n",
       " 'Employment Outcomes\\nUnweighted': '99'}"
      ]
     },
     "execution_count": 32,
     "metadata": {},
     "output_type": "execute_result"
    }
   ],
   "source": [
    "d={}\n",
    "d['Name']=value[0]\n",
    "d['Location']=address[0]\n",
    "d['Rank']=Rank[0]\n",
    "for i in range(len(column)):\n",
    "    d[column[i]]=value_h[i]\n",
    "d"
   ]
  },
  {
   "cell_type": "code",
   "execution_count": 33,
   "id": "e35ef6e7",
   "metadata": {},
   "outputs": [
    {
     "data": {
      "text/plain": [
       "'{\"Name\": \"The University of Hong Kong\", \"Location\": \" Hong Kong SAR\", \"Rank\": \"21\", \"Overall Score\": \"87\", \"Academic Reputation\": \"97.4\", \"Employer Reputation\": \"62.9\", \"Citations per Faculty\": \"72.6\", \"Faculty Student Ratio\": \"84.2\", \"International Students Ratio\": \"98.7\", \"International Faculty Ratio\": \"100\", \"International Research Network\\\\nUnweighted\": \"81.1\", \"Employment Outcomes\\\\nUnweighted\": \"99\"}'"
      ]
     },
     "execution_count": 33,
     "metadata": {},
     "output_type": "execute_result"
    }
   ],
   "source": [
    "s1=json.dumps(d)\n",
    "s1"
   ]
  },
  {
   "cell_type": "code",
   "execution_count": 34,
   "id": "ce4a11f2",
   "metadata": {},
   "outputs": [],
   "source": [
    "with open('The University of Hong Kong.json','w') as f:\n",
    "    json.dump(d,f)"
   ]
  },
  {
   "cell_type": "code",
   "execution_count": null,
   "id": "5f3a49b3",
   "metadata": {},
   "outputs": [],
   "source": []
  }
 ],
 "metadata": {
  "kernelspec": {
   "display_name": "Python 3.9.12 ('base')",
   "language": "python",
   "name": "python3"
  },
  "language_info": {
   "codemirror_mode": {
    "name": "ipython",
    "version": 3
   },
   "file_extension": ".py",
   "mimetype": "text/x-python",
   "name": "python",
   "nbconvert_exporter": "python",
   "pygments_lexer": "ipython3",
   "version": "3.9.12"
  },
  "vscode": {
   "interpreter": {
    "hash": "ad2bdc8ecc057115af97d19610ffacc2b4e99fae6737bb82f5d7fb13d2f2c186"
   }
  }
 },
 "nbformat": 4,
 "nbformat_minor": 5
}
