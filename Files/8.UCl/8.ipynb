{
 "cells": [
  {
   "cell_type": "code",
   "execution_count": 1,
   "id": "f483d859",
   "metadata": {},
   "outputs": [],
   "source": [
    "from selenium import webdriver\n",
    "from selenium.webdriver.chrome.service import Service\n",
    "import pandas as pd\n",
    "import json"
   ]
  },
  {
   "cell_type": "code",
   "execution_count": 2,
   "id": "b679e777",
   "metadata": {},
   "outputs": [],
   "source": [
    "path = Service('C:\\chromedriver.exe')"
   ]
  },
  {
   "cell_type": "code",
   "execution_count": 3,
   "id": "78846779",
   "metadata": {},
   "outputs": [],
   "source": [
    "# set path for the driver\n",
    "browser = webdriver.Chrome(service = path)"
   ]
  },
  {
   "cell_type": "code",
   "execution_count": 4,
   "id": "52c7fbb6",
   "metadata": {},
   "outputs": [],
   "source": [
    "url = \"https://www.topuniversities.com/university-rankings/world-university-rankings/2023\""
   ]
  },
  {
   "cell_type": "code",
   "execution_count": 5,
   "id": "9dec4055",
   "metadata": {},
   "outputs": [],
   "source": [
    "# open the page url ion chrome\n",
    "browser.get(url)"
   ]
  },
  {
   "cell_type": "code",
   "execution_count": 6,
   "id": "895c2bfb",
   "metadata": {},
   "outputs": [
    {
     "data": {
      "text/plain": [
       "[<selenium.webdriver.remote.webelement.WebElement (session=\"611e25a55d6903633d04a384d26dfa00\", element=\"89cceca7-26ab-4bb5-91af-e417a9fb5a65\")>,\n",
       " <selenium.webdriver.remote.webelement.WebElement (session=\"611e25a55d6903633d04a384d26dfa00\", element=\"88285fa4-b3b0-49af-ba25-ba53c24942ea\")>,\n",
       " <selenium.webdriver.remote.webelement.WebElement (session=\"611e25a55d6903633d04a384d26dfa00\", element=\"8516a83f-e66e-4e00-948c-a614972e2d47\")>,\n",
       " <selenium.webdriver.remote.webelement.WebElement (session=\"611e25a55d6903633d04a384d26dfa00\", element=\"dc895403-360f-409a-8ca8-719191c10ffb\")>,\n",
       " <selenium.webdriver.remote.webelement.WebElement (session=\"611e25a55d6903633d04a384d26dfa00\", element=\"e5f1cd64-f68c-4dee-a976-26c102c7b700\")>,\n",
       " <selenium.webdriver.remote.webelement.WebElement (session=\"611e25a55d6903633d04a384d26dfa00\", element=\"667f361c-b401-4ef2-b656-1d5f8f0af700\")>,\n",
       " <selenium.webdriver.remote.webelement.WebElement (session=\"611e25a55d6903633d04a384d26dfa00\", element=\"4ab0e748-e115-43e2-bade-9a43cee2a3a8\")>,\n",
       " <selenium.webdriver.remote.webelement.WebElement (session=\"611e25a55d6903633d04a384d26dfa00\", element=\"0e08819d-3229-4d1e-9bae-668101f3c846\")>,\n",
       " <selenium.webdriver.remote.webelement.WebElement (session=\"611e25a55d6903633d04a384d26dfa00\", element=\"21cf69b1-1d42-487e-8bc5-d118a9ff4761\")>,\n",
       " <selenium.webdriver.remote.webelement.WebElement (session=\"611e25a55d6903633d04a384d26dfa00\", element=\"061320fe-0d50-4512-9e60-cdce08ef6bcc\")>,\n",
       " <selenium.webdriver.remote.webelement.WebElement (session=\"611e25a55d6903633d04a384d26dfa00\", element=\"c76df488-210b-4041-ae1d-ae217177462d\")>,\n",
       " <selenium.webdriver.remote.webelement.WebElement (session=\"611e25a55d6903633d04a384d26dfa00\", element=\"ffe951ce-2dac-4b2e-97d7-98adacacef88\")>,\n",
       " <selenium.webdriver.remote.webelement.WebElement (session=\"611e25a55d6903633d04a384d26dfa00\", element=\"88cc02b7-0183-4703-abdc-5c49e8fd0431\")>,\n",
       " <selenium.webdriver.remote.webelement.WebElement (session=\"611e25a55d6903633d04a384d26dfa00\", element=\"1a3b0557-cdde-47b9-ad18-d23fe9c2de41\")>,\n",
       " <selenium.webdriver.remote.webelement.WebElement (session=\"611e25a55d6903633d04a384d26dfa00\", element=\"759cefd3-b2f6-4f78-82e9-615464ea5b27\")>,\n",
       " <selenium.webdriver.remote.webelement.WebElement (session=\"611e25a55d6903633d04a384d26dfa00\", element=\"3a32a03d-92c6-4f84-93a8-29ec10c68c59\")>,\n",
       " <selenium.webdriver.remote.webelement.WebElement (session=\"611e25a55d6903633d04a384d26dfa00\", element=\"38b9b8a8-258a-40e3-8570-2ae2582fe8b5\")>,\n",
       " <selenium.webdriver.remote.webelement.WebElement (session=\"611e25a55d6903633d04a384d26dfa00\", element=\"337af987-5211-43f7-9f81-50f283b5cc57\")>,\n",
       " <selenium.webdriver.remote.webelement.WebElement (session=\"611e25a55d6903633d04a384d26dfa00\", element=\"bf50bdb8-a2d2-460e-aa0f-68d035eb48d6\")>,\n",
       " <selenium.webdriver.remote.webelement.WebElement (session=\"611e25a55d6903633d04a384d26dfa00\", element=\"7436e9e4-ba6b-4377-ace5-cad56b5f9769\")>]"
      ]
     },
     "execution_count": 6,
     "metadata": {},
     "output_type": "execute_result"
    }
   ],
   "source": [
    "line1=browser.find_elements(\"xpath\",\"//div[@class='location ']\")\n",
    "line1"
   ]
  },
  {
   "cell_type": "code",
   "execution_count": 7,
   "id": "9434a513",
   "metadata": {},
   "outputs": [
    {
     "data": {
      "text/plain": [
       "['Cambridge, United States',\n",
       " 'Cambridge, United Kingdom',\n",
       " 'Stanford, United States',\n",
       " 'Oxford, United Kingdom',\n",
       " 'Cambridge, United States',\n",
       " 'Pasadena, United States',\n",
       " 'London, United Kingdom',\n",
       " 'London, United Kingdom',\n",
       " 'Zürich, Switzerland',\n",
       " 'Chicago, United States']"
      ]
     },
     "execution_count": 7,
     "metadata": {},
     "output_type": "execute_result"
    }
   ],
   "source": [
    "address=[]\n",
    "for data in line1:\n",
    "    #get the text data\n",
    "    temp=data.text\n",
    "    address.append(temp)\n",
    "address=address[10:]\n",
    "address"
   ]
  },
  {
   "cell_type": "code",
   "execution_count": 8,
   "id": "007a1bbe",
   "metadata": {},
   "outputs": [
    {
     "data": {
      "text/plain": [
       "[<selenium.webdriver.remote.webelement.WebElement (session=\"611e25a55d6903633d04a384d26dfa00\", element=\"27e9f319-f5fd-4b78-88cf-fb5b5794e3c5\")>,\n",
       " <selenium.webdriver.remote.webelement.WebElement (session=\"611e25a55d6903633d04a384d26dfa00\", element=\"c4b74949-37d3-4938-9ebf-29953acbd3fd\")>,\n",
       " <selenium.webdriver.remote.webelement.WebElement (session=\"611e25a55d6903633d04a384d26dfa00\", element=\"435148a4-6605-4af7-94d1-719935c0db23\")>,\n",
       " <selenium.webdriver.remote.webelement.WebElement (session=\"611e25a55d6903633d04a384d26dfa00\", element=\"d11f8898-8296-4a5c-915a-ee5f32514ebb\")>,\n",
       " <selenium.webdriver.remote.webelement.WebElement (session=\"611e25a55d6903633d04a384d26dfa00\", element=\"9e395e4a-8fac-4b1d-a093-a4fdfb96c449\")>,\n",
       " <selenium.webdriver.remote.webelement.WebElement (session=\"611e25a55d6903633d04a384d26dfa00\", element=\"a28e9466-1411-43ed-950c-2981195274be\")>,\n",
       " <selenium.webdriver.remote.webelement.WebElement (session=\"611e25a55d6903633d04a384d26dfa00\", element=\"704f98c0-ddd8-4f74-ae1c-7a10cc2f5022\")>,\n",
       " <selenium.webdriver.remote.webelement.WebElement (session=\"611e25a55d6903633d04a384d26dfa00\", element=\"013446a9-4337-488d-b94f-849d1c9bc732\")>,\n",
       " <selenium.webdriver.remote.webelement.WebElement (session=\"611e25a55d6903633d04a384d26dfa00\", element=\"d4fa25b7-45e0-4006-aabf-cef9eecc0c79\")>,\n",
       " <selenium.webdriver.remote.webelement.WebElement (session=\"611e25a55d6903633d04a384d26dfa00\", element=\"53e171d9-6c39-446e-ade9-5d6ef3b4d13f\")>]"
      ]
     },
     "execution_count": 8,
     "metadata": {},
     "output_type": "execute_result"
    }
   ],
   "source": [
    "line2=browser.find_elements(\"xpath\",\"//div[@class='_univ-rank ']\")\n",
    "line2"
   ]
  },
  {
   "cell_type": "code",
   "execution_count": 9,
   "id": "e1666d91",
   "metadata": {},
   "outputs": [
    {
     "data": {
      "text/plain": [
       "['1', '2', '3', '4', '5', '=6', '=6', '8', '9', '10']"
      ]
     },
     "execution_count": 9,
     "metadata": {},
     "output_type": "execute_result"
    }
   ],
   "source": [
    "Rank=[]\n",
    "for data in line2:\n",
    "    #get the text data\n",
    "    temp=data.text\n",
    "    Rank.append(temp)\n",
    "Rank"
   ]
  },
  {
   "cell_type": "code",
   "execution_count": 10,
   "id": "544da176",
   "metadata": {},
   "outputs": [
    {
     "data": {
      "text/plain": [
       "[<selenium.webdriver.remote.webelement.WebElement (session=\"611e25a55d6903633d04a384d26dfa00\", element=\"96f984c7-340b-4d08-9e8f-5660722a46ab\")>,\n",
       " <selenium.webdriver.remote.webelement.WebElement (session=\"611e25a55d6903633d04a384d26dfa00\", element=\"470ab5a5-9a9b-4c3a-a165-839d35cc6a8b\")>,\n",
       " <selenium.webdriver.remote.webelement.WebElement (session=\"611e25a55d6903633d04a384d26dfa00\", element=\"82c6e75d-723f-49e3-920b-1c738e53ffc2\")>,\n",
       " <selenium.webdriver.remote.webelement.WebElement (session=\"611e25a55d6903633d04a384d26dfa00\", element=\"7c08770b-166b-4759-8ca6-fe1c918023a0\")>,\n",
       " <selenium.webdriver.remote.webelement.WebElement (session=\"611e25a55d6903633d04a384d26dfa00\", element=\"887a8c5c-8d0c-4ec7-b41e-81f2a2a6b934\")>,\n",
       " <selenium.webdriver.remote.webelement.WebElement (session=\"611e25a55d6903633d04a384d26dfa00\", element=\"6ceaf76f-6c28-45c1-8335-2679b7dd7873\")>,\n",
       " <selenium.webdriver.remote.webelement.WebElement (session=\"611e25a55d6903633d04a384d26dfa00\", element=\"b7f040b8-0783-4ed4-814b-c74c5624f1fd\")>,\n",
       " <selenium.webdriver.remote.webelement.WebElement (session=\"611e25a55d6903633d04a384d26dfa00\", element=\"5479832d-b952-4dcf-875c-2c7d07b9c6b8\")>,\n",
       " <selenium.webdriver.remote.webelement.WebElement (session=\"611e25a55d6903633d04a384d26dfa00\", element=\"fa9aad44-0387-4b9d-91fd-71f227933825\")>]"
      ]
     },
     "execution_count": 10,
     "metadata": {},
     "output_type": "execute_result"
    }
   ],
   "source": [
    "# GET EACH COLLEGE SPECIFICATION HEADERS\n",
    "line3=browser.find_elements(\"xpath\",\"//div[@class='_click-function_ind']\")\n",
    "line3"
   ]
  },
  {
   "cell_type": "code",
   "execution_count": 11,
   "id": "13c4dc6e",
   "metadata": {},
   "outputs": [
    {
     "data": {
      "text/plain": [
       "['Overall Score',\n",
       " 'Academic Reputation',\n",
       " 'Employer Reputation',\n",
       " 'Citations per Faculty',\n",
       " 'Faculty Student Ratio',\n",
       " 'International Students Ratio',\n",
       " 'International Faculty Ratio',\n",
       " 'International Research Network\\nUnweighted',\n",
       " 'Employment Outcomes\\nUnweighted']"
      ]
     },
     "execution_count": 11,
     "metadata": {},
     "output_type": "execute_result"
    }
   ],
   "source": [
    "#PARSING DATA\n",
    "column=[]\n",
    "for data in line3:\n",
    "    #get the text data\n",
    "    temp=data.text\n",
    "    column.append(temp)\n",
    "column"
   ]
  },
  {
   "cell_type": "code",
   "execution_count": 12,
   "id": "db4860ab",
   "metadata": {},
   "outputs": [
    {
     "data": {
      "text/plain": [
       "[<selenium.webdriver.remote.webelement.WebElement (session=\"611e25a55d6903633d04a384d26dfa00\", element=\"2884d83a-9ba2-45d0-b2ab-9aa9cd54e5dd\")>,\n",
       " <selenium.webdriver.remote.webelement.WebElement (session=\"611e25a55d6903633d04a384d26dfa00\", element=\"f04529f2-38a9-4bb3-abd2-418c1a34a859\")>,\n",
       " <selenium.webdriver.remote.webelement.WebElement (session=\"611e25a55d6903633d04a384d26dfa00\", element=\"a53b5523-771e-40e8-afce-f6b3731d3e5a\")>,\n",
       " <selenium.webdriver.remote.webelement.WebElement (session=\"611e25a55d6903633d04a384d26dfa00\", element=\"0c69459e-affc-4d6e-b43d-68440dfd455b\")>,\n",
       " <selenium.webdriver.remote.webelement.WebElement (session=\"611e25a55d6903633d04a384d26dfa00\", element=\"c37ea510-8bec-4264-98f0-1d3cdcf09ae7\")>,\n",
       " <selenium.webdriver.remote.webelement.WebElement (session=\"611e25a55d6903633d04a384d26dfa00\", element=\"2d3466bd-012b-4250-bce8-61aafeee0a18\")>,\n",
       " <selenium.webdriver.remote.webelement.WebElement (session=\"611e25a55d6903633d04a384d26dfa00\", element=\"6a79e49a-b50f-4343-9297-ed83b9cde102\")>,\n",
       " <selenium.webdriver.remote.webelement.WebElement (session=\"611e25a55d6903633d04a384d26dfa00\", element=\"672e3430-dcde-43c8-bf6d-d1319d68e9f2\")>,\n",
       " <selenium.webdriver.remote.webelement.WebElement (session=\"611e25a55d6903633d04a384d26dfa00\", element=\"8b540e02-fef8-4ed5-b3bb-9218d2e57914\")>,\n",
       " <selenium.webdriver.remote.webelement.WebElement (session=\"611e25a55d6903633d04a384d26dfa00\", element=\"8d9f2cf5-dad1-41ec-8ae5-4a1d62872045\")>,\n",
       " <selenium.webdriver.remote.webelement.WebElement (session=\"611e25a55d6903633d04a384d26dfa00\", element=\"d243c751-4a82-4a16-b000-7445737a836a\")>,\n",
       " <selenium.webdriver.remote.webelement.WebElement (session=\"611e25a55d6903633d04a384d26dfa00\", element=\"d6d1310c-e00e-4d45-ac7f-0a5552b068b0\")>,\n",
       " <selenium.webdriver.remote.webelement.WebElement (session=\"611e25a55d6903633d04a384d26dfa00\", element=\"aa0aa935-059a-487d-a683-e0919248f59e\")>,\n",
       " <selenium.webdriver.remote.webelement.WebElement (session=\"611e25a55d6903633d04a384d26dfa00\", element=\"da5d411a-33d7-4031-9c97-d517bb5dcd12\")>,\n",
       " <selenium.webdriver.remote.webelement.WebElement (session=\"611e25a55d6903633d04a384d26dfa00\", element=\"b2b5239a-ccf5-4f1d-a3e1-94383d3b8cce\")>,\n",
       " <selenium.webdriver.remote.webelement.WebElement (session=\"611e25a55d6903633d04a384d26dfa00\", element=\"3282a9ad-2422-4eb6-9203-447f0ef8be4b\")>,\n",
       " <selenium.webdriver.remote.webelement.WebElement (session=\"611e25a55d6903633d04a384d26dfa00\", element=\"a2d995b9-d526-4aa1-b75a-edd9961a39fa\")>,\n",
       " <selenium.webdriver.remote.webelement.WebElement (session=\"611e25a55d6903633d04a384d26dfa00\", element=\"95cd7b54-8eb3-43be-8f99-882d4f21aaa3\")>,\n",
       " <selenium.webdriver.remote.webelement.WebElement (session=\"611e25a55d6903633d04a384d26dfa00\", element=\"26a7bd7d-6737-461d-9e2b-1e5aabf295f4\")>,\n",
       " <selenium.webdriver.remote.webelement.WebElement (session=\"611e25a55d6903633d04a384d26dfa00\", element=\"c49e5d8d-1632-4c1c-928b-53fb9a0ec90a\")>,\n",
       " <selenium.webdriver.remote.webelement.WebElement (session=\"611e25a55d6903633d04a384d26dfa00\", element=\"618ea9d9-0572-4372-a9a6-67a9aa5c64f8\")>,\n",
       " <selenium.webdriver.remote.webelement.WebElement (session=\"611e25a55d6903633d04a384d26dfa00\", element=\"af7ab2b9-a2cd-4b45-9753-4913bf2f438e\")>,\n",
       " <selenium.webdriver.remote.webelement.WebElement (session=\"611e25a55d6903633d04a384d26dfa00\", element=\"a7573ca8-15c1-4268-8761-803e1a1bbf0e\")>,\n",
       " <selenium.webdriver.remote.webelement.WebElement (session=\"611e25a55d6903633d04a384d26dfa00\", element=\"32fcea1f-41ca-4348-bc68-c82049dfccf8\")>,\n",
       " <selenium.webdriver.remote.webelement.WebElement (session=\"611e25a55d6903633d04a384d26dfa00\", element=\"8608b5d8-a4af-4efe-9c80-a520669d82c1\")>,\n",
       " <selenium.webdriver.remote.webelement.WebElement (session=\"611e25a55d6903633d04a384d26dfa00\", element=\"03fce383-7937-43d5-89e5-43785ffc0292\")>,\n",
       " <selenium.webdriver.remote.webelement.WebElement (session=\"611e25a55d6903633d04a384d26dfa00\", element=\"86684203-f4ad-421c-b585-84f2a58053d1\")>,\n",
       " <selenium.webdriver.remote.webelement.WebElement (session=\"611e25a55d6903633d04a384d26dfa00\", element=\"fa67bdf1-e463-4d7f-9d4e-906fb04d0f5b\")>,\n",
       " <selenium.webdriver.remote.webelement.WebElement (session=\"611e25a55d6903633d04a384d26dfa00\", element=\"da336c31-32a6-4d34-8370-f6845ec2022c\")>,\n",
       " <selenium.webdriver.remote.webelement.WebElement (session=\"611e25a55d6903633d04a384d26dfa00\", element=\"363e4e2b-f44e-4a12-8bc9-c271b5f4b9ba\")>,\n",
       " <selenium.webdriver.remote.webelement.WebElement (session=\"611e25a55d6903633d04a384d26dfa00\", element=\"011e3f59-ca75-4f05-862d-245fbe7b8286\")>,\n",
       " <selenium.webdriver.remote.webelement.WebElement (session=\"611e25a55d6903633d04a384d26dfa00\", element=\"04b5fbf5-6014-4802-8577-3b1814d8c430\")>,\n",
       " <selenium.webdriver.remote.webelement.WebElement (session=\"611e25a55d6903633d04a384d26dfa00\", element=\"0876df25-9716-4f22-be3d-a7f104a7af26\")>,\n",
       " <selenium.webdriver.remote.webelement.WebElement (session=\"611e25a55d6903633d04a384d26dfa00\", element=\"1ed9d384-c4a3-499e-b00c-47efb965b8bf\")>,\n",
       " <selenium.webdriver.remote.webelement.WebElement (session=\"611e25a55d6903633d04a384d26dfa00\", element=\"0b31d8d5-0895-4075-a792-03b250bc28e9\")>,\n",
       " <selenium.webdriver.remote.webelement.WebElement (session=\"611e25a55d6903633d04a384d26dfa00\", element=\"4b37e930-7352-45ea-8473-c3a8ac8a0ea6\")>,\n",
       " <selenium.webdriver.remote.webelement.WebElement (session=\"611e25a55d6903633d04a384d26dfa00\", element=\"a4dfbadb-361e-4332-a44e-492c5cb82403\")>,\n",
       " <selenium.webdriver.remote.webelement.WebElement (session=\"611e25a55d6903633d04a384d26dfa00\", element=\"d6b2a26d-4074-461f-9045-4d5bc14ab8dc\")>,\n",
       " <selenium.webdriver.remote.webelement.WebElement (session=\"611e25a55d6903633d04a384d26dfa00\", element=\"786792eb-ee3e-4dae-a6c6-8555551949f4\")>,\n",
       " <selenium.webdriver.remote.webelement.WebElement (session=\"611e25a55d6903633d04a384d26dfa00\", element=\"d1934c6d-8c9d-4961-96ed-4234af19ff62\")>,\n",
       " <selenium.webdriver.remote.webelement.WebElement (session=\"611e25a55d6903633d04a384d26dfa00\", element=\"01e20ddf-0bb6-4624-a172-ba8e5f694f76\")>,\n",
       " <selenium.webdriver.remote.webelement.WebElement (session=\"611e25a55d6903633d04a384d26dfa00\", element=\"d0cf8c7e-0c21-47ce-a579-200318e434ff\")>,\n",
       " <selenium.webdriver.remote.webelement.WebElement (session=\"611e25a55d6903633d04a384d26dfa00\", element=\"0e1ca6ec-a32d-44ab-83dc-bf55bb4fd8a7\")>,\n",
       " <selenium.webdriver.remote.webelement.WebElement (session=\"611e25a55d6903633d04a384d26dfa00\", element=\"1aa7f05e-1d9f-4bf6-9a28-af0bc86dfaca\")>,\n",
       " <selenium.webdriver.remote.webelement.WebElement (session=\"611e25a55d6903633d04a384d26dfa00\", element=\"6e4ad6d0-3fe1-45ef-899c-048ee9034b1a\")>,\n",
       " <selenium.webdriver.remote.webelement.WebElement (session=\"611e25a55d6903633d04a384d26dfa00\", element=\"d888cd70-d1f6-4ea7-b97b-856fd274baf4\")>,\n",
       " <selenium.webdriver.remote.webelement.WebElement (session=\"611e25a55d6903633d04a384d26dfa00\", element=\"b499007d-1424-42c4-9e50-39bef9d12835\")>,\n",
       " <selenium.webdriver.remote.webelement.WebElement (session=\"611e25a55d6903633d04a384d26dfa00\", element=\"2228417f-0629-46a3-b709-dd62ff18cca8\")>,\n",
       " <selenium.webdriver.remote.webelement.WebElement (session=\"611e25a55d6903633d04a384d26dfa00\", element=\"edaa0786-3253-40b0-9eb2-1c1e05dc6c04\")>,\n",
       " <selenium.webdriver.remote.webelement.WebElement (session=\"611e25a55d6903633d04a384d26dfa00\", element=\"f0a7f8ed-430f-4db8-98f7-e2ca0c4aa240\")>,\n",
       " <selenium.webdriver.remote.webelement.WebElement (session=\"611e25a55d6903633d04a384d26dfa00\", element=\"e4169f27-8b9a-4415-b487-b2a98f9ef30f\")>,\n",
       " <selenium.webdriver.remote.webelement.WebElement (session=\"611e25a55d6903633d04a384d26dfa00\", element=\"5265147e-e5a9-4fbc-bcf1-7f7fa4ce059e\")>,\n",
       " <selenium.webdriver.remote.webelement.WebElement (session=\"611e25a55d6903633d04a384d26dfa00\", element=\"29118ae0-401d-4a36-807a-39b1c452fe09\")>,\n",
       " <selenium.webdriver.remote.webelement.WebElement (session=\"611e25a55d6903633d04a384d26dfa00\", element=\"7529378f-190c-47cf-8f5f-b4055badc304\")>,\n",
       " <selenium.webdriver.remote.webelement.WebElement (session=\"611e25a55d6903633d04a384d26dfa00\", element=\"3351dcbc-b536-4c98-b4b3-e898eac78195\")>,\n",
       " <selenium.webdriver.remote.webelement.WebElement (session=\"611e25a55d6903633d04a384d26dfa00\", element=\"7d978a79-2819-463b-9b7f-e57f5fb251c4\")>,\n",
       " <selenium.webdriver.remote.webelement.WebElement (session=\"611e25a55d6903633d04a384d26dfa00\", element=\"70ff0597-bd97-4242-bf4e-282b76be4188\")>,\n",
       " <selenium.webdriver.remote.webelement.WebElement (session=\"611e25a55d6903633d04a384d26dfa00\", element=\"6f349009-5aa0-467f-98e7-31ee99c2ea10\")>,\n",
       " <selenium.webdriver.remote.webelement.WebElement (session=\"611e25a55d6903633d04a384d26dfa00\", element=\"4b958bc2-9380-45da-a6bc-6ad38f0b54ec\")>,\n",
       " <selenium.webdriver.remote.webelement.WebElement (session=\"611e25a55d6903633d04a384d26dfa00\", element=\"2b4c798e-9898-41e8-a33b-8e4624fac2df\")>,\n",
       " <selenium.webdriver.remote.webelement.WebElement (session=\"611e25a55d6903633d04a384d26dfa00\", element=\"b6e7f4e2-c6fe-4646-ad92-33ebd01ddedf\")>,\n",
       " <selenium.webdriver.remote.webelement.WebElement (session=\"611e25a55d6903633d04a384d26dfa00\", element=\"1c9ff6ac-2f16-48c3-9592-562849fff86c\")>,\n",
       " <selenium.webdriver.remote.webelement.WebElement (session=\"611e25a55d6903633d04a384d26dfa00\", element=\"afa1a9b0-7767-41ab-8500-1aeb3c3d4187\")>,\n",
       " <selenium.webdriver.remote.webelement.WebElement (session=\"611e25a55d6903633d04a384d26dfa00\", element=\"cd442083-7794-4e5a-80a6-6434b14e18f0\")>,\n",
       " <selenium.webdriver.remote.webelement.WebElement (session=\"611e25a55d6903633d04a384d26dfa00\", element=\"a6313834-711f-45bf-a266-333df3dfc9ee\")>,\n",
       " <selenium.webdriver.remote.webelement.WebElement (session=\"611e25a55d6903633d04a384d26dfa00\", element=\"f2c150c8-1bdf-4a1e-975d-f8f05daaf8a5\")>,\n",
       " <selenium.webdriver.remote.webelement.WebElement (session=\"611e25a55d6903633d04a384d26dfa00\", element=\"33dc7a22-96c9-4160-9672-6ebc2fbf246b\")>,\n",
       " <selenium.webdriver.remote.webelement.WebElement (session=\"611e25a55d6903633d04a384d26dfa00\", element=\"ed9e4290-a735-4b60-95d7-97a4b520093a\")>,\n",
       " <selenium.webdriver.remote.webelement.WebElement (session=\"611e25a55d6903633d04a384d26dfa00\", element=\"a0f59c1f-6d1c-4919-a888-4c52a07d2361\")>,\n",
       " <selenium.webdriver.remote.webelement.WebElement (session=\"611e25a55d6903633d04a384d26dfa00\", element=\"7d7de710-bd0d-45b8-acd4-f261b4537271\")>,\n",
       " <selenium.webdriver.remote.webelement.WebElement (session=\"611e25a55d6903633d04a384d26dfa00\", element=\"7261c6df-03f6-4aa5-800c-78b9236f4a25\")>,\n",
       " <selenium.webdriver.remote.webelement.WebElement (session=\"611e25a55d6903633d04a384d26dfa00\", element=\"bceb17e5-0fb4-479c-aede-1969cd4dc2c3\")>,\n",
       " <selenium.webdriver.remote.webelement.WebElement (session=\"611e25a55d6903633d04a384d26dfa00\", element=\"c0bcde6d-0129-4c7d-8681-11f51992e856\")>,\n",
       " <selenium.webdriver.remote.webelement.WebElement (session=\"611e25a55d6903633d04a384d26dfa00\", element=\"0b871739-02d3-4710-8361-ed1d0787529f\")>,\n",
       " <selenium.webdriver.remote.webelement.WebElement (session=\"611e25a55d6903633d04a384d26dfa00\", element=\"9b3b7688-bb00-4ad4-a5ac-5433ee5ab407\")>,\n",
       " <selenium.webdriver.remote.webelement.WebElement (session=\"611e25a55d6903633d04a384d26dfa00\", element=\"b8c39fdc-48a9-481e-91d2-a9ed57515685\")>,\n",
       " <selenium.webdriver.remote.webelement.WebElement (session=\"611e25a55d6903633d04a384d26dfa00\", element=\"2fa34fe1-44c1-459b-8678-5cb5a5656f0a\")>,\n",
       " <selenium.webdriver.remote.webelement.WebElement (session=\"611e25a55d6903633d04a384d26dfa00\", element=\"781091fd-afea-43df-9168-a44f4feefa35\")>,\n",
       " <selenium.webdriver.remote.webelement.WebElement (session=\"611e25a55d6903633d04a384d26dfa00\", element=\"d204fb5c-cba8-43ef-b244-94524d59ac0c\")>,\n",
       " <selenium.webdriver.remote.webelement.WebElement (session=\"611e25a55d6903633d04a384d26dfa00\", element=\"6af9d667-f6d2-4592-9d20-7bc31e9b6d93\")>,\n",
       " <selenium.webdriver.remote.webelement.WebElement (session=\"611e25a55d6903633d04a384d26dfa00\", element=\"7a578e90-3b50-46f3-acda-d0464eb542a9\")>,\n",
       " <selenium.webdriver.remote.webelement.WebElement (session=\"611e25a55d6903633d04a384d26dfa00\", element=\"6e1f9a35-1d8c-4828-b4dc-540ff2b69109\")>,\n",
       " <selenium.webdriver.remote.webelement.WebElement (session=\"611e25a55d6903633d04a384d26dfa00\", element=\"821b7137-1275-432b-858e-79d9db2b6648\")>,\n",
       " <selenium.webdriver.remote.webelement.WebElement (session=\"611e25a55d6903633d04a384d26dfa00\", element=\"148003b9-e18d-4ef1-99b0-02b37c2eb1ad\")>,\n",
       " <selenium.webdriver.remote.webelement.WebElement (session=\"611e25a55d6903633d04a384d26dfa00\", element=\"7159401b-4df7-43b2-849e-3cb39de7a315\")>,\n",
       " <selenium.webdriver.remote.webelement.WebElement (session=\"611e25a55d6903633d04a384d26dfa00\", element=\"e67c2371-1cb5-4ece-a67e-b4f8b292002d\")>,\n",
       " <selenium.webdriver.remote.webelement.WebElement (session=\"611e25a55d6903633d04a384d26dfa00\", element=\"81d014a2-fc60-46ed-8b7c-6bf7439ba85c\")>,\n",
       " <selenium.webdriver.remote.webelement.WebElement (session=\"611e25a55d6903633d04a384d26dfa00\", element=\"515c553f-759d-4df6-81e8-26c03dabeab9\")>,\n",
       " <selenium.webdriver.remote.webelement.WebElement (session=\"611e25a55d6903633d04a384d26dfa00\", element=\"adcf4420-93a5-48b3-afc8-67f72936deb1\")>,\n",
       " <selenium.webdriver.remote.webelement.WebElement (session=\"611e25a55d6903633d04a384d26dfa00\", element=\"fc11b9a7-8957-41f1-8e6b-7d4d57bc4988\")>,\n",
       " <selenium.webdriver.remote.webelement.WebElement (session=\"611e25a55d6903633d04a384d26dfa00\", element=\"18f788c1-e543-4add-a48e-99f129e31ae6\")>,\n",
       " <selenium.webdriver.remote.webelement.WebElement (session=\"611e25a55d6903633d04a384d26dfa00\", element=\"83018c46-b69d-43bd-941c-e006602e4776\")>,\n",
       " <selenium.webdriver.remote.webelement.WebElement (session=\"611e25a55d6903633d04a384d26dfa00\", element=\"59b75129-9b0f-4a7b-8dba-494008e5ed2d\")>,\n",
       " <selenium.webdriver.remote.webelement.WebElement (session=\"611e25a55d6903633d04a384d26dfa00\", element=\"7f1f3453-0b73-4306-be6b-072b583b17d6\")>,\n",
       " <selenium.webdriver.remote.webelement.WebElement (session=\"611e25a55d6903633d04a384d26dfa00\", element=\"5e48fba2-4a33-4fe2-af1d-7b2bac254e94\")>,\n",
       " <selenium.webdriver.remote.webelement.WebElement (session=\"611e25a55d6903633d04a384d26dfa00\", element=\"ec168d4b-c380-49c1-9fb7-acb5c7c4ac67\")>,\n",
       " <selenium.webdriver.remote.webelement.WebElement (session=\"611e25a55d6903633d04a384d26dfa00\", element=\"18da50bc-2e7e-463f-94d6-0c7a78c67208\")>,\n",
       " <selenium.webdriver.remote.webelement.WebElement (session=\"611e25a55d6903633d04a384d26dfa00\", element=\"da39339f-0bad-433a-a9fc-613fbe0307c7\")>,\n",
       " <selenium.webdriver.remote.webelement.WebElement (session=\"611e25a55d6903633d04a384d26dfa00\", element=\"1068a3ac-1567-42cb-b64b-5ddb2dc0c193\")>,\n",
       " <selenium.webdriver.remote.webelement.WebElement (session=\"611e25a55d6903633d04a384d26dfa00\", element=\"1148cadc-82d2-493c-91c9-7c984640ae99\")>]"
      ]
     },
     "execution_count": 12,
     "metadata": {},
     "output_type": "execute_result"
    }
   ],
   "source": [
    "line4=browser.find_elements(\"xpath\",\"//div[@class='td-wrap-in']\")\n",
    "line4"
   ]
  },
  {
   "cell_type": "code",
   "execution_count": 14,
   "id": "0606c8c5",
   "metadata": {},
   "outputs": [
    {
     "data": {
      "text/plain": [
       "['95', '99.4', '98.6', '77', '97.6', '100', '99.2', '100', '90.3']"
      ]
     },
     "execution_count": 14,
     "metadata": {},
     "output_type": "execute_result"
    }
   ],
   "source": [
    "#PARSING DATA\n",
    "value=[]\n",
    "for data in line4:\n",
    "    #get the text data\n",
    "    temp=data.text\n",
    "    value.append(temp)\n",
    "value_h=value[71:80]\n",
    "value_h"
   ]
  },
  {
   "cell_type": "code",
   "execution_count": 15,
   "id": "ef96dea7",
   "metadata": {},
   "outputs": [
    {
     "data": {
      "text/plain": [
       "{'Name': 'UCL',\n",
       " 'Location': 'London, United Kingdom',\n",
       " 'Rank': '8',\n",
       " 'Overall Score': '95',\n",
       " 'Academic Reputation': '99.4',\n",
       " 'Employer Reputation': '98.6',\n",
       " 'Citations per Faculty': '77',\n",
       " 'Faculty Student Ratio': '97.6',\n",
       " 'International Students Ratio': '100',\n",
       " 'International Faculty Ratio': '99.2',\n",
       " 'International Research Network\\nUnweighted': '100',\n",
       " 'Employment Outcomes\\nUnweighted': '90.3'}"
      ]
     },
     "execution_count": 15,
     "metadata": {},
     "output_type": "execute_result"
    }
   ],
   "source": [
    "d={}\n",
    "d['Name']=value[70]\n",
    "d['Location']=address[7]\n",
    "d['Rank']=Rank[7]\n",
    "for i in range(len(column)):\n",
    "    d[column[i]]=value_h[i]\n",
    "d"
   ]
  },
  {
   "cell_type": "code",
   "execution_count": 16,
   "id": "433ca107",
   "metadata": {},
   "outputs": [
    {
     "data": {
      "text/plain": [
       "'{\"Name\": \"UCL\", \"Location\": \"London, United Kingdom\", \"Rank\": \"8\", \"Overall Score\": \"95\", \"Academic Reputation\": \"99.4\", \"Employer Reputation\": \"98.6\", \"Citations per Faculty\": \"77\", \"Faculty Student Ratio\": \"97.6\", \"International Students Ratio\": \"100\", \"International Faculty Ratio\": \"99.2\", \"International Research Network\\\\nUnweighted\": \"100\", \"Employment Outcomes\\\\nUnweighted\": \"90.3\"}'"
      ]
     },
     "execution_count": 16,
     "metadata": {},
     "output_type": "execute_result"
    }
   ],
   "source": [
    "s1=json.dumps(d)\n",
    "s1"
   ]
  },
  {
   "cell_type": "code",
   "execution_count": 17,
   "id": "f3c9b9b8",
   "metadata": {},
   "outputs": [],
   "source": [
    "with open('UCL.json','w') as f:\n",
    "    json.dump(d,f)"
   ]
  },
  {
   "cell_type": "code",
   "execution_count": null,
   "id": "46e69667",
   "metadata": {},
   "outputs": [],
   "source": []
  }
 ],
 "metadata": {
  "kernelspec": {
   "display_name": "Python 3.9.12 ('base')",
   "language": "python",
   "name": "python3"
  },
  "language_info": {
   "codemirror_mode": {
    "name": "ipython",
    "version": 3
   },
   "file_extension": ".py",
   "mimetype": "text/x-python",
   "name": "python",
   "nbconvert_exporter": "python",
   "pygments_lexer": "ipython3",
   "version": "3.9.12"
  },
  "vscode": {
   "interpreter": {
    "hash": "ad2bdc8ecc057115af97d19610ffacc2b4e99fae6737bb82f5d7fb13d2f2c186"
   }
  }
 },
 "nbformat": 4,
 "nbformat_minor": 5
}
