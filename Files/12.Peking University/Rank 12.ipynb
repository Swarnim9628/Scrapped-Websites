{
 "cells": [
  {
   "cell_type": "code",
   "execution_count": 1,
   "id": "7c5e0119",
   "metadata": {},
   "outputs": [],
   "source": [
    "from selenium import webdriver\n",
    "from selenium.webdriver.chrome.service import Service\n",
    "import pandas as pd\n",
    "import json"
   ]
  },
  {
   "cell_type": "code",
   "execution_count": 2,
   "id": "584156b5",
   "metadata": {},
   "outputs": [],
   "source": [
    "path = Service('C:\\chromedriver.exe')"
   ]
  },
  {
   "cell_type": "code",
   "execution_count": 3,
   "id": "853015c2",
   "metadata": {},
   "outputs": [],
   "source": [
    "# set path for the driver\n",
    "browser = webdriver.Chrome(service = path)"
   ]
  },
  {
   "cell_type": "code",
   "execution_count": 4,
   "id": "9253d57a",
   "metadata": {},
   "outputs": [],
   "source": [
    "url = \"https://www.topuniversities.com/university-rankings/world-university-rankings/2023\""
   ]
  },
  {
   "cell_type": "code",
   "execution_count": 5,
   "id": "e4a247f0",
   "metadata": {},
   "outputs": [],
   "source": [
    "# open the page url ion chrome\n",
    "browser.get(url)"
   ]
  },
  {
   "cell_type": "code",
   "execution_count": 6,
   "id": "857dcbd0",
   "metadata": {},
   "outputs": [
    {
     "data": {
      "text/plain": [
       "[<selenium.webdriver.remote.webelement.WebElement (session=\"b321d0f674bf026a18772bc43199ba3a\", element=\"484d48bf-ed49-4250-9c12-4978cba7d5fa\")>,\n",
       " <selenium.webdriver.remote.webelement.WebElement (session=\"b321d0f674bf026a18772bc43199ba3a\", element=\"4949a55c-2e94-4ff3-b48a-4bb4c9f1f615\")>,\n",
       " <selenium.webdriver.remote.webelement.WebElement (session=\"b321d0f674bf026a18772bc43199ba3a\", element=\"f0676548-6f67-4350-91cb-3582a86350a3\")>,\n",
       " <selenium.webdriver.remote.webelement.WebElement (session=\"b321d0f674bf026a18772bc43199ba3a\", element=\"eb890957-9f6b-49e8-9810-0f729200879b\")>,\n",
       " <selenium.webdriver.remote.webelement.WebElement (session=\"b321d0f674bf026a18772bc43199ba3a\", element=\"7dafbf03-aafd-4211-83ff-03aa0f183778\")>,\n",
       " <selenium.webdriver.remote.webelement.WebElement (session=\"b321d0f674bf026a18772bc43199ba3a\", element=\"96a319b3-d98d-4385-b99d-cbd6389b9c04\")>,\n",
       " <selenium.webdriver.remote.webelement.WebElement (session=\"b321d0f674bf026a18772bc43199ba3a\", element=\"1ecafc5f-9396-4ddf-8dfc-17fda31edef5\")>,\n",
       " <selenium.webdriver.remote.webelement.WebElement (session=\"b321d0f674bf026a18772bc43199ba3a\", element=\"81635da8-0832-432a-844b-8ca9575adcda\")>,\n",
       " <selenium.webdriver.remote.webelement.WebElement (session=\"b321d0f674bf026a18772bc43199ba3a\", element=\"aae5c36f-e877-4318-82a0-3ba8b7eaa441\")>,\n",
       " <selenium.webdriver.remote.webelement.WebElement (session=\"b321d0f674bf026a18772bc43199ba3a\", element=\"aaca7c7e-d9b8-4f1b-95ff-b873449ce92e\")>,\n",
       " <selenium.webdriver.remote.webelement.WebElement (session=\"b321d0f674bf026a18772bc43199ba3a\", element=\"4ac9f954-7034-426a-9d04-6fae5eb44831\")>,\n",
       " <selenium.webdriver.remote.webelement.WebElement (session=\"b321d0f674bf026a18772bc43199ba3a\", element=\"d2dfc303-f7e3-4327-8c62-f731e74c682b\")>,\n",
       " <selenium.webdriver.remote.webelement.WebElement (session=\"b321d0f674bf026a18772bc43199ba3a\", element=\"400419d4-205b-46b9-af99-55918c55989b\")>,\n",
       " <selenium.webdriver.remote.webelement.WebElement (session=\"b321d0f674bf026a18772bc43199ba3a\", element=\"05e95590-482b-44af-89a4-3d5ae361ae93\")>,\n",
       " <selenium.webdriver.remote.webelement.WebElement (session=\"b321d0f674bf026a18772bc43199ba3a\", element=\"24aaa6b6-b4a3-4160-bf0c-ef9786f4e408\")>,\n",
       " <selenium.webdriver.remote.webelement.WebElement (session=\"b321d0f674bf026a18772bc43199ba3a\", element=\"99faccac-9d5e-4744-81df-39f0d4fcd790\")>,\n",
       " <selenium.webdriver.remote.webelement.WebElement (session=\"b321d0f674bf026a18772bc43199ba3a\", element=\"dad47912-1317-404e-bb32-6725b1c89990\")>,\n",
       " <selenium.webdriver.remote.webelement.WebElement (session=\"b321d0f674bf026a18772bc43199ba3a\", element=\"da7806c3-c6ef-4815-92ad-3fec1d1b472c\")>,\n",
       " <selenium.webdriver.remote.webelement.WebElement (session=\"b321d0f674bf026a18772bc43199ba3a\", element=\"baf42bc6-4482-4ffd-8bb4-6db691b3448b\")>,\n",
       " <selenium.webdriver.remote.webelement.WebElement (session=\"b321d0f674bf026a18772bc43199ba3a\", element=\"95fe7bae-4a4d-4212-8d19-86e739539235\")>]"
      ]
     },
     "execution_count": 6,
     "metadata": {},
     "output_type": "execute_result"
    }
   ],
   "source": [
    "line1=browser.find_elements(\"xpath\",\"//div[@class='location ']\")\n",
    "line1"
   ]
  },
  {
   "cell_type": "code",
   "execution_count": 7,
   "id": "5d87847a",
   "metadata": {},
   "outputs": [
    {
     "data": {
      "text/plain": [
       "['Singapore, Singapore',\n",
       " 'Beijing, China (Mainland)',\n",
       " 'Philadelphia, United States',\n",
       " 'Beijing, China (Mainland)',\n",
       " 'Edinburgh, United Kingdom',\n",
       " 'Lausanne, Switzerland',\n",
       " 'Princeton, United States',\n",
       " 'New Haven, United States',\n",
       " 'Singapore, Singapore',\n",
       " 'Ithaca, United States']"
      ]
     },
     "execution_count": 7,
     "metadata": {},
     "output_type": "execute_result"
    }
   ],
   "source": [
    "address=[]\n",
    "for data in line1:\n",
    "    #get the text data\n",
    "    temp=data.text\n",
    "    address.append(temp)\n",
    "address=address[10:]\n",
    "address"
   ]
  },
  {
   "cell_type": "code",
   "execution_count": 8,
   "id": "61d1c618",
   "metadata": {},
   "outputs": [
    {
     "data": {
      "text/plain": [
       "[<selenium.webdriver.remote.webelement.WebElement (session=\"b321d0f674bf026a18772bc43199ba3a\", element=\"4849e5c3-b94a-4bd8-a59f-912db93fac4b\")>,\n",
       " <selenium.webdriver.remote.webelement.WebElement (session=\"b321d0f674bf026a18772bc43199ba3a\", element=\"5ac22dc7-f670-4043-9dea-a6f9e920fe3b\")>,\n",
       " <selenium.webdriver.remote.webelement.WebElement (session=\"b321d0f674bf026a18772bc43199ba3a\", element=\"135f7d89-c77d-4841-baa2-6e61b1d97526\")>,\n",
       " <selenium.webdriver.remote.webelement.WebElement (session=\"b321d0f674bf026a18772bc43199ba3a\", element=\"1e7966bb-6cfd-4e13-b500-58044447c20f\")>,\n",
       " <selenium.webdriver.remote.webelement.WebElement (session=\"b321d0f674bf026a18772bc43199ba3a\", element=\"0814836a-dd03-4dda-af73-eaff440b1410\")>,\n",
       " <selenium.webdriver.remote.webelement.WebElement (session=\"b321d0f674bf026a18772bc43199ba3a\", element=\"1d3338fe-6f7f-4c86-bf1f-23f590549b43\")>,\n",
       " <selenium.webdriver.remote.webelement.WebElement (session=\"b321d0f674bf026a18772bc43199ba3a\", element=\"9c7c907f-fe28-4f4c-bf1e-24f571885617\")>,\n",
       " <selenium.webdriver.remote.webelement.WebElement (session=\"b321d0f674bf026a18772bc43199ba3a\", element=\"33da3429-424f-4967-bb44-f93812666a92\")>,\n",
       " <selenium.webdriver.remote.webelement.WebElement (session=\"b321d0f674bf026a18772bc43199ba3a\", element=\"2b4bbd6b-9890-4b31-a66e-8626811d2682\")>,\n",
       " <selenium.webdriver.remote.webelement.WebElement (session=\"b321d0f674bf026a18772bc43199ba3a\", element=\"0c22efd4-cf31-47fe-9204-898be17aa1eb\")>]"
      ]
     },
     "execution_count": 8,
     "metadata": {},
     "output_type": "execute_result"
    }
   ],
   "source": [
    "line2=browser.find_elements(\"xpath\",\"//div[@class='_univ-rank ']\")\n",
    "line2"
   ]
  },
  {
   "cell_type": "code",
   "execution_count": 9,
   "id": "67675302",
   "metadata": {},
   "outputs": [
    {
     "data": {
      "text/plain": [
       "['11', '12', '13', '14', '15', '=16', '=16', '18', '19', '20']"
      ]
     },
     "execution_count": 9,
     "metadata": {},
     "output_type": "execute_result"
    }
   ],
   "source": [
    "Rank=[]\n",
    "for data in line2:\n",
    "    #get the text data\n",
    "    temp=data.text\n",
    "    Rank.append(temp)\n",
    "Rank"
   ]
  },
  {
   "cell_type": "code",
   "execution_count": 10,
   "id": "613e75ff",
   "metadata": {},
   "outputs": [
    {
     "data": {
      "text/plain": [
       "[<selenium.webdriver.remote.webelement.WebElement (session=\"b321d0f674bf026a18772bc43199ba3a\", element=\"457e9c21-de4a-48bd-908e-7b0cd3a8721e\")>,\n",
       " <selenium.webdriver.remote.webelement.WebElement (session=\"b321d0f674bf026a18772bc43199ba3a\", element=\"9f769e75-e195-4de8-985c-5a92ab62663f\")>,\n",
       " <selenium.webdriver.remote.webelement.WebElement (session=\"b321d0f674bf026a18772bc43199ba3a\", element=\"221e80a3-1264-42cc-afb0-cf2831909dfc\")>,\n",
       " <selenium.webdriver.remote.webelement.WebElement (session=\"b321d0f674bf026a18772bc43199ba3a\", element=\"377d14ab-dd0c-48e3-b992-546a96301b3c\")>,\n",
       " <selenium.webdriver.remote.webelement.WebElement (session=\"b321d0f674bf026a18772bc43199ba3a\", element=\"f10d3b44-3693-44d3-99cd-13bbf81ff0ea\")>,\n",
       " <selenium.webdriver.remote.webelement.WebElement (session=\"b321d0f674bf026a18772bc43199ba3a\", element=\"75bc6b1a-7630-499e-9964-53d0be55877c\")>,\n",
       " <selenium.webdriver.remote.webelement.WebElement (session=\"b321d0f674bf026a18772bc43199ba3a\", element=\"16effacb-11cb-4b83-9a55-43edfc015a54\")>,\n",
       " <selenium.webdriver.remote.webelement.WebElement (session=\"b321d0f674bf026a18772bc43199ba3a\", element=\"7cd85ae9-9ed5-4d71-84f6-7fc8edf512a1\")>,\n",
       " <selenium.webdriver.remote.webelement.WebElement (session=\"b321d0f674bf026a18772bc43199ba3a\", element=\"1d2daa9f-a89b-432e-a141-499a712b588b\")>]"
      ]
     },
     "execution_count": 10,
     "metadata": {},
     "output_type": "execute_result"
    }
   ],
   "source": [
    "# GET EACH COLLEGE SPECIFICATION HEADERS\n",
    "line3=browser.find_elements(\"xpath\",\"//div[@class='_click-function_ind']\")\n",
    "line3"
   ]
  },
  {
   "cell_type": "code",
   "execution_count": 11,
   "id": "cbf18459",
   "metadata": {},
   "outputs": [
    {
     "data": {
      "text/plain": [
       "['Overall Score',\n",
       " 'Academic Reputation',\n",
       " 'Employer Reputation',\n",
       " 'Citations per Faculty',\n",
       " 'Faculty Student Ratio',\n",
       " 'International Students Ratio',\n",
       " 'International Faculty Ratio',\n",
       " 'International Research Network\\nUnweighted',\n",
       " 'Employment Outcomes\\nUnweighted']"
      ]
     },
     "execution_count": 11,
     "metadata": {},
     "output_type": "execute_result"
    }
   ],
   "source": [
    "#PARSING DATA\n",
    "column=[]\n",
    "for data in line3:\n",
    "    #get the text data\n",
    "    temp=data.text\n",
    "    column.append(temp)\n",
    "column"
   ]
  },
  {
   "cell_type": "code",
   "execution_count": 12,
   "id": "b160fa73",
   "metadata": {},
   "outputs": [
    {
     "data": {
      "text/plain": [
       "[<selenium.webdriver.remote.webelement.WebElement (session=\"b321d0f674bf026a18772bc43199ba3a\", element=\"c7479055-b6ea-42f6-9761-22fdc63c68eb\")>,\n",
       " <selenium.webdriver.remote.webelement.WebElement (session=\"b321d0f674bf026a18772bc43199ba3a\", element=\"59321bc0-a9b2-43ef-974e-b53789068362\")>,\n",
       " <selenium.webdriver.remote.webelement.WebElement (session=\"b321d0f674bf026a18772bc43199ba3a\", element=\"1ea15bd3-7f42-4097-b88e-2d23a961b254\")>,\n",
       " <selenium.webdriver.remote.webelement.WebElement (session=\"b321d0f674bf026a18772bc43199ba3a\", element=\"4e56517f-b44b-432c-ae58-5820b1983495\")>,\n",
       " <selenium.webdriver.remote.webelement.WebElement (session=\"b321d0f674bf026a18772bc43199ba3a\", element=\"579d3d73-9db0-42a1-9847-42e2d30c5cbd\")>,\n",
       " <selenium.webdriver.remote.webelement.WebElement (session=\"b321d0f674bf026a18772bc43199ba3a\", element=\"492ab8c7-b5f2-40cb-a491-1e1902b9e3a1\")>,\n",
       " <selenium.webdriver.remote.webelement.WebElement (session=\"b321d0f674bf026a18772bc43199ba3a\", element=\"32e644d5-8a6e-4412-b294-74625e598c5a\")>,\n",
       " <selenium.webdriver.remote.webelement.WebElement (session=\"b321d0f674bf026a18772bc43199ba3a\", element=\"d51e1a6b-f8f8-4faa-9ff4-543e48112975\")>,\n",
       " <selenium.webdriver.remote.webelement.WebElement (session=\"b321d0f674bf026a18772bc43199ba3a\", element=\"62b61841-2a54-4634-85dc-e18b3aacc5ff\")>,\n",
       " <selenium.webdriver.remote.webelement.WebElement (session=\"b321d0f674bf026a18772bc43199ba3a\", element=\"00b98614-5385-43ba-ab43-f7cb4d9c5631\")>,\n",
       " <selenium.webdriver.remote.webelement.WebElement (session=\"b321d0f674bf026a18772bc43199ba3a\", element=\"2e8851e8-4cd8-46ea-abd2-3b5225ffac97\")>,\n",
       " <selenium.webdriver.remote.webelement.WebElement (session=\"b321d0f674bf026a18772bc43199ba3a\", element=\"4291f86e-ae71-465c-a526-22153f1b9cc9\")>,\n",
       " <selenium.webdriver.remote.webelement.WebElement (session=\"b321d0f674bf026a18772bc43199ba3a\", element=\"f4095736-a344-4cab-b200-83570deaad5a\")>,\n",
       " <selenium.webdriver.remote.webelement.WebElement (session=\"b321d0f674bf026a18772bc43199ba3a\", element=\"3742d78b-7d67-4644-8b48-a2057f755ae5\")>,\n",
       " <selenium.webdriver.remote.webelement.WebElement (session=\"b321d0f674bf026a18772bc43199ba3a\", element=\"928f796c-bac6-47f8-964c-0711a3f7a12d\")>,\n",
       " <selenium.webdriver.remote.webelement.WebElement (session=\"b321d0f674bf026a18772bc43199ba3a\", element=\"c137258d-3485-4b72-9751-968b97011014\")>,\n",
       " <selenium.webdriver.remote.webelement.WebElement (session=\"b321d0f674bf026a18772bc43199ba3a\", element=\"b406ecbc-35de-4359-8347-bfb75616c791\")>,\n",
       " <selenium.webdriver.remote.webelement.WebElement (session=\"b321d0f674bf026a18772bc43199ba3a\", element=\"3c448033-b764-4508-a6fe-2487df0589dd\")>,\n",
       " <selenium.webdriver.remote.webelement.WebElement (session=\"b321d0f674bf026a18772bc43199ba3a\", element=\"e2bfc6cd-b0c7-43b3-9bb3-2e814e68ddad\")>,\n",
       " <selenium.webdriver.remote.webelement.WebElement (session=\"b321d0f674bf026a18772bc43199ba3a\", element=\"f3658847-17c6-4d90-9233-5394cdac2d87\")>,\n",
       " <selenium.webdriver.remote.webelement.WebElement (session=\"b321d0f674bf026a18772bc43199ba3a\", element=\"ff163afa-278a-4935-ad52-380e9a1a17a9\")>,\n",
       " <selenium.webdriver.remote.webelement.WebElement (session=\"b321d0f674bf026a18772bc43199ba3a\", element=\"1d824b51-61e2-4e40-851c-0b4d652dce1a\")>,\n",
       " <selenium.webdriver.remote.webelement.WebElement (session=\"b321d0f674bf026a18772bc43199ba3a\", element=\"87fdeb4d-5146-4faa-b778-921b850e8115\")>,\n",
       " <selenium.webdriver.remote.webelement.WebElement (session=\"b321d0f674bf026a18772bc43199ba3a\", element=\"769ef2a8-74bc-4b48-9d09-4d4e59356fd8\")>,\n",
       " <selenium.webdriver.remote.webelement.WebElement (session=\"b321d0f674bf026a18772bc43199ba3a\", element=\"a6e0818d-2940-40aa-9c6e-36072a99df5a\")>,\n",
       " <selenium.webdriver.remote.webelement.WebElement (session=\"b321d0f674bf026a18772bc43199ba3a\", element=\"f8c47fd1-c83b-4563-9e37-54020f3f1b21\")>,\n",
       " <selenium.webdriver.remote.webelement.WebElement (session=\"b321d0f674bf026a18772bc43199ba3a\", element=\"7825d53b-6518-41ce-b658-1f293f696d0e\")>,\n",
       " <selenium.webdriver.remote.webelement.WebElement (session=\"b321d0f674bf026a18772bc43199ba3a\", element=\"a488b9ca-d804-48d3-a340-17b32c1327b7\")>,\n",
       " <selenium.webdriver.remote.webelement.WebElement (session=\"b321d0f674bf026a18772bc43199ba3a\", element=\"30b2e9c1-f6d8-451b-bd6f-efad912e8192\")>,\n",
       " <selenium.webdriver.remote.webelement.WebElement (session=\"b321d0f674bf026a18772bc43199ba3a\", element=\"febba9cc-795e-4e12-bbd0-8ab5b347ba4c\")>,\n",
       " <selenium.webdriver.remote.webelement.WebElement (session=\"b321d0f674bf026a18772bc43199ba3a\", element=\"68862649-92b7-4aa0-8fed-90480cefcd21\")>,\n",
       " <selenium.webdriver.remote.webelement.WebElement (session=\"b321d0f674bf026a18772bc43199ba3a\", element=\"a61b73d3-ff99-4cd5-9fbb-cd4d39b1071a\")>,\n",
       " <selenium.webdriver.remote.webelement.WebElement (session=\"b321d0f674bf026a18772bc43199ba3a\", element=\"de5ce7e6-3777-4a40-a20b-56150a645202\")>,\n",
       " <selenium.webdriver.remote.webelement.WebElement (session=\"b321d0f674bf026a18772bc43199ba3a\", element=\"57e478d5-be83-4ad4-a9c7-d6d4271c07f5\")>,\n",
       " <selenium.webdriver.remote.webelement.WebElement (session=\"b321d0f674bf026a18772bc43199ba3a\", element=\"1d933184-8e15-4f1c-b5ff-64a30d7ca76e\")>,\n",
       " <selenium.webdriver.remote.webelement.WebElement (session=\"b321d0f674bf026a18772bc43199ba3a\", element=\"4b98bdb5-2185-4793-9e13-6974a9141c68\")>,\n",
       " <selenium.webdriver.remote.webelement.WebElement (session=\"b321d0f674bf026a18772bc43199ba3a\", element=\"4691740f-b047-4c29-8d0b-ae490f58a218\")>,\n",
       " <selenium.webdriver.remote.webelement.WebElement (session=\"b321d0f674bf026a18772bc43199ba3a\", element=\"d44f9b7a-61a8-4232-8a64-8e1b06a70802\")>,\n",
       " <selenium.webdriver.remote.webelement.WebElement (session=\"b321d0f674bf026a18772bc43199ba3a\", element=\"52200487-9b46-484a-8553-d2dddadaaf45\")>,\n",
       " <selenium.webdriver.remote.webelement.WebElement (session=\"b321d0f674bf026a18772bc43199ba3a\", element=\"bae820a8-6242-4fbc-aa59-6900527ee956\")>,\n",
       " <selenium.webdriver.remote.webelement.WebElement (session=\"b321d0f674bf026a18772bc43199ba3a\", element=\"838318f7-e70c-449f-8e4f-12c1ac974980\")>,\n",
       " <selenium.webdriver.remote.webelement.WebElement (session=\"b321d0f674bf026a18772bc43199ba3a\", element=\"0a053b7b-ef9b-4fcd-94b9-15ec70c3dff5\")>,\n",
       " <selenium.webdriver.remote.webelement.WebElement (session=\"b321d0f674bf026a18772bc43199ba3a\", element=\"e9e94f37-d816-4b55-bb9b-bc1698746e06\")>,\n",
       " <selenium.webdriver.remote.webelement.WebElement (session=\"b321d0f674bf026a18772bc43199ba3a\", element=\"db7accd8-b8c5-494e-90a5-355591aaa29b\")>,\n",
       " <selenium.webdriver.remote.webelement.WebElement (session=\"b321d0f674bf026a18772bc43199ba3a\", element=\"78eb0981-c89c-4f3b-a07e-52ab3e139289\")>,\n",
       " <selenium.webdriver.remote.webelement.WebElement (session=\"b321d0f674bf026a18772bc43199ba3a\", element=\"54d32c0c-d0f0-4328-8355-6565d6f0222d\")>,\n",
       " <selenium.webdriver.remote.webelement.WebElement (session=\"b321d0f674bf026a18772bc43199ba3a\", element=\"18b42361-6c3c-40e2-9f0b-c0197e5eda4d\")>,\n",
       " <selenium.webdriver.remote.webelement.WebElement (session=\"b321d0f674bf026a18772bc43199ba3a\", element=\"0662de67-8e2e-4d8d-af63-d517820aabea\")>,\n",
       " <selenium.webdriver.remote.webelement.WebElement (session=\"b321d0f674bf026a18772bc43199ba3a\", element=\"7e3d49ef-4655-48eb-bec9-8f883cb2ba44\")>,\n",
       " <selenium.webdriver.remote.webelement.WebElement (session=\"b321d0f674bf026a18772bc43199ba3a\", element=\"e1224d4f-23f7-4f90-822b-b4de7d3f7c44\")>,\n",
       " <selenium.webdriver.remote.webelement.WebElement (session=\"b321d0f674bf026a18772bc43199ba3a\", element=\"27ddd40b-a1f8-43a1-8a1c-3219db46cb16\")>,\n",
       " <selenium.webdriver.remote.webelement.WebElement (session=\"b321d0f674bf026a18772bc43199ba3a\", element=\"7d387464-1176-4c60-9ebc-1d6e2670ab1d\")>,\n",
       " <selenium.webdriver.remote.webelement.WebElement (session=\"b321d0f674bf026a18772bc43199ba3a\", element=\"8a1e1242-35a9-4c50-8cab-716dd8b596b4\")>,\n",
       " <selenium.webdriver.remote.webelement.WebElement (session=\"b321d0f674bf026a18772bc43199ba3a\", element=\"33dae8a8-935b-406b-941f-4802933fbd88\")>,\n",
       " <selenium.webdriver.remote.webelement.WebElement (session=\"b321d0f674bf026a18772bc43199ba3a\", element=\"2bd12861-e504-4340-a594-09ed19e6b5dc\")>,\n",
       " <selenium.webdriver.remote.webelement.WebElement (session=\"b321d0f674bf026a18772bc43199ba3a\", element=\"a0b65cd1-a628-4ffe-aaac-53c315876965\")>,\n",
       " <selenium.webdriver.remote.webelement.WebElement (session=\"b321d0f674bf026a18772bc43199ba3a\", element=\"e8d10188-5126-49bd-a3ea-e2f09bf333c5\")>,\n",
       " <selenium.webdriver.remote.webelement.WebElement (session=\"b321d0f674bf026a18772bc43199ba3a\", element=\"805b4761-5743-4b94-bdc8-a2c6b316e434\")>,\n",
       " <selenium.webdriver.remote.webelement.WebElement (session=\"b321d0f674bf026a18772bc43199ba3a\", element=\"a1029eca-15d8-4c09-a6bb-a32db5f77aea\")>,\n",
       " <selenium.webdriver.remote.webelement.WebElement (session=\"b321d0f674bf026a18772bc43199ba3a\", element=\"3c55c5ba-db3f-441c-b460-b1b7dd6d4400\")>,\n",
       " <selenium.webdriver.remote.webelement.WebElement (session=\"b321d0f674bf026a18772bc43199ba3a\", element=\"8f6a5ddd-3941-4f35-a12d-900fad93aadb\")>,\n",
       " <selenium.webdriver.remote.webelement.WebElement (session=\"b321d0f674bf026a18772bc43199ba3a\", element=\"084c60a4-7fb3-42a3-a854-9bc55a03f80f\")>,\n",
       " <selenium.webdriver.remote.webelement.WebElement (session=\"b321d0f674bf026a18772bc43199ba3a\", element=\"68556913-e6e7-4b0b-9cb6-a5053ca1dfee\")>,\n",
       " <selenium.webdriver.remote.webelement.WebElement (session=\"b321d0f674bf026a18772bc43199ba3a\", element=\"b05acb33-e6c2-43b1-8de0-adcd6e412d55\")>,\n",
       " <selenium.webdriver.remote.webelement.WebElement (session=\"b321d0f674bf026a18772bc43199ba3a\", element=\"bee75b0e-43ec-400f-bc0d-5bf0eb5318e5\")>,\n",
       " <selenium.webdriver.remote.webelement.WebElement (session=\"b321d0f674bf026a18772bc43199ba3a\", element=\"fc61f9ff-2dde-4a50-8e9b-5ac493217d3d\")>,\n",
       " <selenium.webdriver.remote.webelement.WebElement (session=\"b321d0f674bf026a18772bc43199ba3a\", element=\"20c99f5e-2361-4b07-a02e-e83d709d3b8b\")>,\n",
       " <selenium.webdriver.remote.webelement.WebElement (session=\"b321d0f674bf026a18772bc43199ba3a\", element=\"41716148-2719-4cde-a80f-1c54c4d80f27\")>,\n",
       " <selenium.webdriver.remote.webelement.WebElement (session=\"b321d0f674bf026a18772bc43199ba3a\", element=\"8f05086c-8301-4edf-a50b-707e29c41677\")>,\n",
       " <selenium.webdriver.remote.webelement.WebElement (session=\"b321d0f674bf026a18772bc43199ba3a\", element=\"b2e12b13-40b0-4a87-980f-1cf5a791f78d\")>,\n",
       " <selenium.webdriver.remote.webelement.WebElement (session=\"b321d0f674bf026a18772bc43199ba3a\", element=\"aed5f34a-e83e-40a8-8053-aeca8518a765\")>,\n",
       " <selenium.webdriver.remote.webelement.WebElement (session=\"b321d0f674bf026a18772bc43199ba3a\", element=\"3db4d8e9-3228-4dc1-823a-7d4ac5ad1084\")>,\n",
       " <selenium.webdriver.remote.webelement.WebElement (session=\"b321d0f674bf026a18772bc43199ba3a\", element=\"b8813a1e-f4b1-4cc5-954c-b5320276398d\")>,\n",
       " <selenium.webdriver.remote.webelement.WebElement (session=\"b321d0f674bf026a18772bc43199ba3a\", element=\"c14b4ca8-026b-44fb-8c88-a410c69941e1\")>,\n",
       " <selenium.webdriver.remote.webelement.WebElement (session=\"b321d0f674bf026a18772bc43199ba3a\", element=\"4b27f035-b760-4c75-8cd3-3107abf78ea9\")>,\n",
       " <selenium.webdriver.remote.webelement.WebElement (session=\"b321d0f674bf026a18772bc43199ba3a\", element=\"1e5de6e5-0ca9-4afc-a332-033509c8e3a2\")>,\n",
       " <selenium.webdriver.remote.webelement.WebElement (session=\"b321d0f674bf026a18772bc43199ba3a\", element=\"083b182b-d8b5-4bb5-b773-3413b4dcd52f\")>,\n",
       " <selenium.webdriver.remote.webelement.WebElement (session=\"b321d0f674bf026a18772bc43199ba3a\", element=\"8f52dae5-4e7f-453b-8170-570820e7486b\")>,\n",
       " <selenium.webdriver.remote.webelement.WebElement (session=\"b321d0f674bf026a18772bc43199ba3a\", element=\"2225b221-206d-4932-aae6-ec1a3a069b76\")>,\n",
       " <selenium.webdriver.remote.webelement.WebElement (session=\"b321d0f674bf026a18772bc43199ba3a\", element=\"fdac038a-65c8-4724-9199-a2ba241c7102\")>,\n",
       " <selenium.webdriver.remote.webelement.WebElement (session=\"b321d0f674bf026a18772bc43199ba3a\", element=\"8798d7a2-c966-497c-b472-6da2212aaac7\")>,\n",
       " <selenium.webdriver.remote.webelement.WebElement (session=\"b321d0f674bf026a18772bc43199ba3a\", element=\"13aeb57b-d87b-489a-b395-c2da4599b336\")>,\n",
       " <selenium.webdriver.remote.webelement.WebElement (session=\"b321d0f674bf026a18772bc43199ba3a\", element=\"76240811-f08f-490c-af10-4d6e7c1d9ee4\")>,\n",
       " <selenium.webdriver.remote.webelement.WebElement (session=\"b321d0f674bf026a18772bc43199ba3a\", element=\"006fece2-6ff2-4bd0-9055-69047410c7a3\")>,\n",
       " <selenium.webdriver.remote.webelement.WebElement (session=\"b321d0f674bf026a18772bc43199ba3a\", element=\"79d7fc55-5d42-4ea1-bfcd-f9dc70153aca\")>,\n",
       " <selenium.webdriver.remote.webelement.WebElement (session=\"b321d0f674bf026a18772bc43199ba3a\", element=\"bfdd9a3f-8cd1-41fa-a775-5d5fee5d81be\")>,\n",
       " <selenium.webdriver.remote.webelement.WebElement (session=\"b321d0f674bf026a18772bc43199ba3a\", element=\"b6bc91b7-e8f9-4eda-8de1-f7fe49fa735f\")>,\n",
       " <selenium.webdriver.remote.webelement.WebElement (session=\"b321d0f674bf026a18772bc43199ba3a\", element=\"6eeb3367-5266-44f5-8752-8dfc4dda1944\")>,\n",
       " <selenium.webdriver.remote.webelement.WebElement (session=\"b321d0f674bf026a18772bc43199ba3a\", element=\"6e7b7e93-86dc-4ca7-aff9-c91d8ef2ee9d\")>,\n",
       " <selenium.webdriver.remote.webelement.WebElement (session=\"b321d0f674bf026a18772bc43199ba3a\", element=\"1c3ee053-209a-4cdf-bb6a-0754835de524\")>,\n",
       " <selenium.webdriver.remote.webelement.WebElement (session=\"b321d0f674bf026a18772bc43199ba3a\", element=\"30d40f86-1ddb-44ee-a065-1eeb82c30167\")>,\n",
       " <selenium.webdriver.remote.webelement.WebElement (session=\"b321d0f674bf026a18772bc43199ba3a\", element=\"397f8772-0f31-4fa8-be4e-71e9cc219d32\")>,\n",
       " <selenium.webdriver.remote.webelement.WebElement (session=\"b321d0f674bf026a18772bc43199ba3a\", element=\"a9d7f526-fd04-4eb8-a6bc-da6d17bd03d3\")>,\n",
       " <selenium.webdriver.remote.webelement.WebElement (session=\"b321d0f674bf026a18772bc43199ba3a\", element=\"34b5fdba-3d7d-4d96-aa5a-74a93e7785d8\")>,\n",
       " <selenium.webdriver.remote.webelement.WebElement (session=\"b321d0f674bf026a18772bc43199ba3a\", element=\"e6c4d190-ac25-4857-9c36-d730dfd6a7f6\")>,\n",
       " <selenium.webdriver.remote.webelement.WebElement (session=\"b321d0f674bf026a18772bc43199ba3a\", element=\"82871d7e-e368-4998-bb17-00c566bd26d4\")>,\n",
       " <selenium.webdriver.remote.webelement.WebElement (session=\"b321d0f674bf026a18772bc43199ba3a\", element=\"75ffd679-f611-4ff0-b15e-2431b9e0beaa\")>,\n",
       " <selenium.webdriver.remote.webelement.WebElement (session=\"b321d0f674bf026a18772bc43199ba3a\", element=\"35ce2ec7-a65f-4799-a961-005834d322c2\")>,\n",
       " <selenium.webdriver.remote.webelement.WebElement (session=\"b321d0f674bf026a18772bc43199ba3a\", element=\"67cc88dd-085a-479e-97df-2427b85db2fa\")>,\n",
       " <selenium.webdriver.remote.webelement.WebElement (session=\"b321d0f674bf026a18772bc43199ba3a\", element=\"3fa53549-08a1-4dd9-be72-490d908d4279\")>]"
      ]
     },
     "execution_count": 12,
     "metadata": {},
     "output_type": "execute_result"
    }
   ],
   "source": [
    "line4=browser.find_elements(\"xpath\",\"//div[@class='td-wrap-in']\")\n",
    "line4"
   ]
  },
  {
   "cell_type": "code",
   "execution_count": 13,
   "id": "0f755c44",
   "metadata": {},
   "outputs": [
    {
     "data": {
      "text/plain": [
       "['91.3', '99.3', '96.5', '96.7', '87.3', '36.9', '57.1', '77.5', '91.4']"
      ]
     },
     "execution_count": 13,
     "metadata": {},
     "output_type": "execute_result"
    }
   ],
   "source": [
    "#PARSING DATA\n",
    "value=[]\n",
    "for data in line4:\n",
    "    #get the text data\n",
    "    temp=data.text\n",
    "    value.append(temp)\n",
    "value_h=value[11:20]\n",
    "value_h"
   ]
  },
  {
   "cell_type": "code",
   "execution_count": 14,
   "id": "ac0567d2",
   "metadata": {},
   "outputs": [
    {
     "data": {
      "text/plain": [
       "{'Name': 'Peking University',\n",
       " 'Location': 'Beijing, China (Mainland)',\n",
       " 'Rank': '12',\n",
       " 'Overall Score': '91.3',\n",
       " 'Academic Reputation': '99.3',\n",
       " 'Employer Reputation': '96.5',\n",
       " 'Citations per Faculty': '96.7',\n",
       " 'Faculty Student Ratio': '87.3',\n",
       " 'International Students Ratio': '36.9',\n",
       " 'International Faculty Ratio': '57.1',\n",
       " 'International Research Network\\nUnweighted': '77.5',\n",
       " 'Employment Outcomes\\nUnweighted': '91.4'}"
      ]
     },
     "execution_count": 14,
     "metadata": {},
     "output_type": "execute_result"
    }
   ],
   "source": [
    "\n",
    "d={}\n",
    "d['Name']=value[10]\n",
    "d['Location']=address[1]\n",
    "d['Rank']=Rank[1]\n",
    "for i in range(len(column)):\n",
    "    d[column[i]]=value_h[i]\n",
    "d"
   ]
  },
  {
   "cell_type": "code",
   "execution_count": 15,
   "id": "dd5d5eab",
   "metadata": {},
   "outputs": [
    {
     "data": {
      "text/plain": [
       "'{\"Name\": \"Peking University\", \"Location\": \"Beijing, China (Mainland)\", \"Rank\": \"12\", \"Overall Score\": \"91.3\", \"Academic Reputation\": \"99.3\", \"Employer Reputation\": \"96.5\", \"Citations per Faculty\": \"96.7\", \"Faculty Student Ratio\": \"87.3\", \"International Students Ratio\": \"36.9\", \"International Faculty Ratio\": \"57.1\", \"International Research Network\\\\nUnweighted\": \"77.5\", \"Employment Outcomes\\\\nUnweighted\": \"91.4\"}'"
      ]
     },
     "execution_count": 15,
     "metadata": {},
     "output_type": "execute_result"
    }
   ],
   "source": [
    "s1=json.dumps(d)\n",
    "s1"
   ]
  },
  {
   "cell_type": "code",
   "execution_count": 16,
   "id": "f20a31f8",
   "metadata": {},
   "outputs": [],
   "source": [
    "with open('Peking University.json','w') as f:\n",
    "    json.dump(d,f)"
   ]
  },
  {
   "cell_type": "code",
   "execution_count": null,
   "id": "0ce76620",
   "metadata": {},
   "outputs": [],
   "source": []
  }
 ],
 "metadata": {
  "kernelspec": {
   "display_name": "Python 3.9.12 ('base')",
   "language": "python",
   "name": "python3"
  },
  "language_info": {
   "codemirror_mode": {
    "name": "ipython",
    "version": 3
   },
   "file_extension": ".py",
   "mimetype": "text/x-python",
   "name": "python",
   "nbconvert_exporter": "python",
   "pygments_lexer": "ipython3",
   "version": "3.9.12"
  },
  "vscode": {
   "interpreter": {
    "hash": "ad2bdc8ecc057115af97d19610ffacc2b4e99fae6737bb82f5d7fb13d2f2c186"
   }
  }
 },
 "nbformat": 4,
 "nbformat_minor": 5
}
