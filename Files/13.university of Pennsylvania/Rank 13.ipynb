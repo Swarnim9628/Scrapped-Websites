{
 "cells": [
  {
   "cell_type": "code",
   "execution_count": 1,
   "id": "1978703c",
   "metadata": {},
   "outputs": [],
   "source": [
    "from selenium import webdriver\n",
    "from selenium.webdriver.chrome.service import Service\n",
    "import pandas as pd\n",
    "import json"
   ]
  },
  {
   "cell_type": "code",
   "execution_count": 2,
   "id": "5ae2b839",
   "metadata": {},
   "outputs": [],
   "source": [
    "path = Service('C:\\chromedriver.exe')"
   ]
  },
  {
   "cell_type": "code",
   "execution_count": 3,
   "id": "25a4f08b",
   "metadata": {},
   "outputs": [],
   "source": [
    "# set path for the driver\n",
    "browser = webdriver.Chrome(service = path)"
   ]
  },
  {
   "cell_type": "code",
   "execution_count": 4,
   "id": "fbdc1a3a",
   "metadata": {},
   "outputs": [],
   "source": [
    "url = \"https://www.topuniversities.com/university-rankings/world-university-rankings/2023\""
   ]
  },
  {
   "cell_type": "code",
   "execution_count": 5,
   "id": "2149a606",
   "metadata": {},
   "outputs": [],
   "source": [
    "# open the page url ion chrome\n",
    "browser.get(url)"
   ]
  },
  {
   "cell_type": "code",
   "execution_count": 6,
   "id": "bed738d0",
   "metadata": {},
   "outputs": [
    {
     "data": {
      "text/plain": [
       "[<selenium.webdriver.remote.webelement.WebElement (session=\"51f047b51bd9e1e741b0c6240c739ae4\", element=\"98ac3243-bb31-4a6e-a58c-9bb214380cbc\")>,\n",
       " <selenium.webdriver.remote.webelement.WebElement (session=\"51f047b51bd9e1e741b0c6240c739ae4\", element=\"ca00bac5-496f-4a06-a18d-c5e4fd858344\")>,\n",
       " <selenium.webdriver.remote.webelement.WebElement (session=\"51f047b51bd9e1e741b0c6240c739ae4\", element=\"155977ce-45db-44d3-9828-0b3994010236\")>,\n",
       " <selenium.webdriver.remote.webelement.WebElement (session=\"51f047b51bd9e1e741b0c6240c739ae4\", element=\"a25f30fc-9b83-4612-bbcd-68addf371fc8\")>,\n",
       " <selenium.webdriver.remote.webelement.WebElement (session=\"51f047b51bd9e1e741b0c6240c739ae4\", element=\"f968d72b-e783-4ebd-b905-64711a75221f\")>,\n",
       " <selenium.webdriver.remote.webelement.WebElement (session=\"51f047b51bd9e1e741b0c6240c739ae4\", element=\"cfae6422-5deb-4248-81e7-04a23f8e92e8\")>,\n",
       " <selenium.webdriver.remote.webelement.WebElement (session=\"51f047b51bd9e1e741b0c6240c739ae4\", element=\"141ab84a-7ba6-47a4-9d30-c64ef38581c1\")>,\n",
       " <selenium.webdriver.remote.webelement.WebElement (session=\"51f047b51bd9e1e741b0c6240c739ae4\", element=\"3ff0b8f5-47c4-4e83-9098-8e2804155308\")>,\n",
       " <selenium.webdriver.remote.webelement.WebElement (session=\"51f047b51bd9e1e741b0c6240c739ae4\", element=\"1e75f2e6-7e2a-4d14-b211-603753c34b6e\")>,\n",
       " <selenium.webdriver.remote.webelement.WebElement (session=\"51f047b51bd9e1e741b0c6240c739ae4\", element=\"46915039-af30-4604-942a-a93fe21cafbc\")>,\n",
       " <selenium.webdriver.remote.webelement.WebElement (session=\"51f047b51bd9e1e741b0c6240c739ae4\", element=\"5173f173-b7c4-4b68-bd9f-1592be773096\")>,\n",
       " <selenium.webdriver.remote.webelement.WebElement (session=\"51f047b51bd9e1e741b0c6240c739ae4\", element=\"27857490-71b1-4197-8758-392f65bf75dd\")>,\n",
       " <selenium.webdriver.remote.webelement.WebElement (session=\"51f047b51bd9e1e741b0c6240c739ae4\", element=\"5e735287-53d5-4888-8b83-746cacc71178\")>,\n",
       " <selenium.webdriver.remote.webelement.WebElement (session=\"51f047b51bd9e1e741b0c6240c739ae4\", element=\"3ca35d17-da0d-43d2-b094-70ac1f630936\")>,\n",
       " <selenium.webdriver.remote.webelement.WebElement (session=\"51f047b51bd9e1e741b0c6240c739ae4\", element=\"fc6a52e7-dc03-47eb-8bab-9a3dcde86b90\")>,\n",
       " <selenium.webdriver.remote.webelement.WebElement (session=\"51f047b51bd9e1e741b0c6240c739ae4\", element=\"50f2b25e-08e2-4b05-bce9-6ccabf677f13\")>,\n",
       " <selenium.webdriver.remote.webelement.WebElement (session=\"51f047b51bd9e1e741b0c6240c739ae4\", element=\"6a0f7bb7-c742-4f64-b577-9e82b2060903\")>,\n",
       " <selenium.webdriver.remote.webelement.WebElement (session=\"51f047b51bd9e1e741b0c6240c739ae4\", element=\"c5c14c8a-a5f4-47bf-b7ed-8b54c816c617\")>,\n",
       " <selenium.webdriver.remote.webelement.WebElement (session=\"51f047b51bd9e1e741b0c6240c739ae4\", element=\"5e2f12e0-b6be-4894-9f13-3c11e58f8625\")>,\n",
       " <selenium.webdriver.remote.webelement.WebElement (session=\"51f047b51bd9e1e741b0c6240c739ae4\", element=\"6daf172f-4df1-4fe1-88c9-d2fdbfd563b4\")>]"
      ]
     },
     "execution_count": 6,
     "metadata": {},
     "output_type": "execute_result"
    }
   ],
   "source": [
    "line1=browser.find_elements(\"xpath\",\"//div[@class='location ']\")\n",
    "line1"
   ]
  },
  {
   "cell_type": "code",
   "execution_count": 7,
   "id": "8b0fe578",
   "metadata": {},
   "outputs": [
    {
     "data": {
      "text/plain": [
       "['Singapore, Singapore',\n",
       " 'Beijing, China (Mainland)',\n",
       " 'Philadelphia, United States',\n",
       " 'Beijing, China (Mainland)',\n",
       " 'Edinburgh, United Kingdom',\n",
       " 'Lausanne, Switzerland',\n",
       " 'Princeton, United States',\n",
       " 'New Haven, United States',\n",
       " 'Singapore, Singapore',\n",
       " 'Ithaca, United States']"
      ]
     },
     "execution_count": 7,
     "metadata": {},
     "output_type": "execute_result"
    }
   ],
   "source": [
    "address=[]\n",
    "for data in line1:\n",
    "    #get the text data\n",
    "    temp=data.text\n",
    "    address.append(temp)\n",
    "address=address[10:]\n",
    "address"
   ]
  },
  {
   "cell_type": "code",
   "execution_count": 8,
   "id": "07e84cc2",
   "metadata": {},
   "outputs": [
    {
     "data": {
      "text/plain": [
       "[<selenium.webdriver.remote.webelement.WebElement (session=\"51f047b51bd9e1e741b0c6240c739ae4\", element=\"33e88365-87a4-4d7e-b15c-9cebaa8f4fd9\")>,\n",
       " <selenium.webdriver.remote.webelement.WebElement (session=\"51f047b51bd9e1e741b0c6240c739ae4\", element=\"753b6151-81ee-429e-b9f7-f6740dd02d41\")>,\n",
       " <selenium.webdriver.remote.webelement.WebElement (session=\"51f047b51bd9e1e741b0c6240c739ae4\", element=\"e9532120-c780-41ab-bb6c-fdf1b774e23d\")>,\n",
       " <selenium.webdriver.remote.webelement.WebElement (session=\"51f047b51bd9e1e741b0c6240c739ae4\", element=\"b64c0b93-5f5a-46c5-922c-4f5f346a49c0\")>,\n",
       " <selenium.webdriver.remote.webelement.WebElement (session=\"51f047b51bd9e1e741b0c6240c739ae4\", element=\"707a9fc5-4613-40fb-bfa9-8a1f71ec615c\")>,\n",
       " <selenium.webdriver.remote.webelement.WebElement (session=\"51f047b51bd9e1e741b0c6240c739ae4\", element=\"ddf36fef-9bd7-4f6d-a7ff-b7ac46ee652c\")>,\n",
       " <selenium.webdriver.remote.webelement.WebElement (session=\"51f047b51bd9e1e741b0c6240c739ae4\", element=\"08a83b8e-579b-407e-9c62-977f0fb7e23e\")>,\n",
       " <selenium.webdriver.remote.webelement.WebElement (session=\"51f047b51bd9e1e741b0c6240c739ae4\", element=\"90b41c29-b135-4451-8f9a-40be22f6af29\")>,\n",
       " <selenium.webdriver.remote.webelement.WebElement (session=\"51f047b51bd9e1e741b0c6240c739ae4\", element=\"a379d1e6-aee3-4aae-b351-33367eeb197f\")>,\n",
       " <selenium.webdriver.remote.webelement.WebElement (session=\"51f047b51bd9e1e741b0c6240c739ae4\", element=\"558b9563-edfb-42c0-ba68-8cb5ab38f0ba\")>]"
      ]
     },
     "execution_count": 8,
     "metadata": {},
     "output_type": "execute_result"
    }
   ],
   "source": [
    "line2=browser.find_elements(\"xpath\",\"//div[@class='_univ-rank ']\")\n",
    "line2"
   ]
  },
  {
   "cell_type": "code",
   "execution_count": 9,
   "id": "522d9ae7",
   "metadata": {},
   "outputs": [
    {
     "data": {
      "text/plain": [
       "['11', '12', '13', '14', '15', '=16', '=16', '18', '19', '20']"
      ]
     },
     "execution_count": 9,
     "metadata": {},
     "output_type": "execute_result"
    }
   ],
   "source": [
    "\n",
    "Rank=[]\n",
    "for data in line2:\n",
    "    #get the text data\n",
    "    temp=data.text\n",
    "    Rank.append(temp)\n",
    "Rank\n"
   ]
  },
  {
   "cell_type": "code",
   "execution_count": 10,
   "id": "475c1552",
   "metadata": {},
   "outputs": [
    {
     "data": {
      "text/plain": [
       "[<selenium.webdriver.remote.webelement.WebElement (session=\"51f047b51bd9e1e741b0c6240c739ae4\", element=\"6b30f66b-e706-4210-90f1-51e24643e485\")>,\n",
       " <selenium.webdriver.remote.webelement.WebElement (session=\"51f047b51bd9e1e741b0c6240c739ae4\", element=\"e68e6665-825a-441f-bfd1-80340e73597c\")>,\n",
       " <selenium.webdriver.remote.webelement.WebElement (session=\"51f047b51bd9e1e741b0c6240c739ae4\", element=\"abed301a-771f-4c97-909f-d2366ffd2532\")>,\n",
       " <selenium.webdriver.remote.webelement.WebElement (session=\"51f047b51bd9e1e741b0c6240c739ae4\", element=\"6ba376ba-a5d6-4180-bcfa-1539f4df5770\")>,\n",
       " <selenium.webdriver.remote.webelement.WebElement (session=\"51f047b51bd9e1e741b0c6240c739ae4\", element=\"25cfa380-37cc-4266-aac5-c274f1dc58a4\")>,\n",
       " <selenium.webdriver.remote.webelement.WebElement (session=\"51f047b51bd9e1e741b0c6240c739ae4\", element=\"f3f25994-0811-424b-933e-4ecefe668a93\")>,\n",
       " <selenium.webdriver.remote.webelement.WebElement (session=\"51f047b51bd9e1e741b0c6240c739ae4\", element=\"06bd39cc-8443-4e0a-bb52-c7f8352f249d\")>,\n",
       " <selenium.webdriver.remote.webelement.WebElement (session=\"51f047b51bd9e1e741b0c6240c739ae4\", element=\"3c8e2516-fdf8-4ee5-888c-beec8d8f9293\")>,\n",
       " <selenium.webdriver.remote.webelement.WebElement (session=\"51f047b51bd9e1e741b0c6240c739ae4\", element=\"21d15835-9392-428c-a46b-1325ad3642af\")>]"
      ]
     },
     "execution_count": 10,
     "metadata": {},
     "output_type": "execute_result"
    }
   ],
   "source": [
    "# GET EACH COLLEGE SPECIFICATION HEADERS\n",
    "line3=browser.find_elements(\"xpath\",\"//div[@class='_click-function_ind']\")\n",
    "line3\n"
   ]
  },
  {
   "cell_type": "code",
   "execution_count": 11,
   "id": "d1ba693c",
   "metadata": {},
   "outputs": [
    {
     "data": {
      "text/plain": [
       "['Overall Score',\n",
       " 'Academic Reputation',\n",
       " 'Employer Reputation',\n",
       " 'Citations per Faculty',\n",
       " 'Faculty Student Ratio',\n",
       " 'International Students Ratio',\n",
       " 'International Faculty Ratio',\n",
       " 'International Research Network\\nUnweighted',\n",
       " 'Employment Outcomes\\nUnweighted']"
      ]
     },
     "execution_count": 11,
     "metadata": {},
     "output_type": "execute_result"
    }
   ],
   "source": [
    "#PARSING DATA\n",
    "column=[]\n",
    "for data in line3:\n",
    "    #get the text data\n",
    "    temp=data.text\n",
    "    column.append(temp)\n",
    "column\n"
   ]
  },
  {
   "cell_type": "code",
   "execution_count": 12,
   "id": "10a2fdc1",
   "metadata": {},
   "outputs": [
    {
     "data": {
      "text/plain": [
       "[<selenium.webdriver.remote.webelement.WebElement (session=\"51f047b51bd9e1e741b0c6240c739ae4\", element=\"c3a38dd1-8bb0-45e7-95cf-f2b69892652e\")>,\n",
       " <selenium.webdriver.remote.webelement.WebElement (session=\"51f047b51bd9e1e741b0c6240c739ae4\", element=\"19359d6e-43a7-4133-bea9-1e7e8955db3d\")>,\n",
       " <selenium.webdriver.remote.webelement.WebElement (session=\"51f047b51bd9e1e741b0c6240c739ae4\", element=\"69b9d1c1-2493-4910-86e0-a76838ccc1b1\")>,\n",
       " <selenium.webdriver.remote.webelement.WebElement (session=\"51f047b51bd9e1e741b0c6240c739ae4\", element=\"60558c47-02ac-4c9f-afcd-db75295dcf6d\")>,\n",
       " <selenium.webdriver.remote.webelement.WebElement (session=\"51f047b51bd9e1e741b0c6240c739ae4\", element=\"bcc52266-af82-4e3a-9a2c-0c8e71914e6b\")>,\n",
       " <selenium.webdriver.remote.webelement.WebElement (session=\"51f047b51bd9e1e741b0c6240c739ae4\", element=\"0c56158b-ea5b-4ff0-97db-328b098a51d8\")>,\n",
       " <selenium.webdriver.remote.webelement.WebElement (session=\"51f047b51bd9e1e741b0c6240c739ae4\", element=\"49c66642-5b09-4141-b615-9a1e5b0c4317\")>,\n",
       " <selenium.webdriver.remote.webelement.WebElement (session=\"51f047b51bd9e1e741b0c6240c739ae4\", element=\"143a7963-de2d-48d7-9579-34c5795032b2\")>,\n",
       " <selenium.webdriver.remote.webelement.WebElement (session=\"51f047b51bd9e1e741b0c6240c739ae4\", element=\"9b7bbe2f-7bfe-480b-a8c0-939a12a270a5\")>,\n",
       " <selenium.webdriver.remote.webelement.WebElement (session=\"51f047b51bd9e1e741b0c6240c739ae4\", element=\"b62474c5-e002-4620-b7bc-2276294cf0c2\")>,\n",
       " <selenium.webdriver.remote.webelement.WebElement (session=\"51f047b51bd9e1e741b0c6240c739ae4\", element=\"3a02e981-f4a6-417a-b925-752c2c7085c4\")>,\n",
       " <selenium.webdriver.remote.webelement.WebElement (session=\"51f047b51bd9e1e741b0c6240c739ae4\", element=\"316bfefd-8f54-4f16-b77a-3be9bc2229ce\")>,\n",
       " <selenium.webdriver.remote.webelement.WebElement (session=\"51f047b51bd9e1e741b0c6240c739ae4\", element=\"009b1568-884d-4969-9b8c-00d567f12e9a\")>,\n",
       " <selenium.webdriver.remote.webelement.WebElement (session=\"51f047b51bd9e1e741b0c6240c739ae4\", element=\"f271312a-df30-4ce6-9325-fa6d95968391\")>,\n",
       " <selenium.webdriver.remote.webelement.WebElement (session=\"51f047b51bd9e1e741b0c6240c739ae4\", element=\"9331f5cd-9495-4452-a7ca-8600f6b00e8c\")>,\n",
       " <selenium.webdriver.remote.webelement.WebElement (session=\"51f047b51bd9e1e741b0c6240c739ae4\", element=\"f1fc231e-f165-4979-8bb0-622554972259\")>,\n",
       " <selenium.webdriver.remote.webelement.WebElement (session=\"51f047b51bd9e1e741b0c6240c739ae4\", element=\"f37a67b0-b6e4-4bcd-bef0-e22c3ff6518c\")>,\n",
       " <selenium.webdriver.remote.webelement.WebElement (session=\"51f047b51bd9e1e741b0c6240c739ae4\", element=\"33d48f5a-7fbd-457c-b776-94e2e795dd84\")>,\n",
       " <selenium.webdriver.remote.webelement.WebElement (session=\"51f047b51bd9e1e741b0c6240c739ae4\", element=\"93ae9e3c-c380-4d22-8342-82e221c194bb\")>,\n",
       " <selenium.webdriver.remote.webelement.WebElement (session=\"51f047b51bd9e1e741b0c6240c739ae4\", element=\"3b010d95-4fb4-4529-b78a-7b65c9d2a313\")>,\n",
       " <selenium.webdriver.remote.webelement.WebElement (session=\"51f047b51bd9e1e741b0c6240c739ae4\", element=\"29ff9585-a85a-422a-a2db-5f857c82ef2e\")>,\n",
       " <selenium.webdriver.remote.webelement.WebElement (session=\"51f047b51bd9e1e741b0c6240c739ae4\", element=\"77d2bacd-ad09-41d2-9a5b-e616681f93a0\")>,\n",
       " <selenium.webdriver.remote.webelement.WebElement (session=\"51f047b51bd9e1e741b0c6240c739ae4\", element=\"59909b6c-a482-4d80-9ee7-c968c62bbab3\")>,\n",
       " <selenium.webdriver.remote.webelement.WebElement (session=\"51f047b51bd9e1e741b0c6240c739ae4\", element=\"46233544-24f9-426b-8de5-7f03f8f59685\")>,\n",
       " <selenium.webdriver.remote.webelement.WebElement (session=\"51f047b51bd9e1e741b0c6240c739ae4\", element=\"d41f951c-c5a6-469a-b80d-9bbd94f6dd42\")>,\n",
       " <selenium.webdriver.remote.webelement.WebElement (session=\"51f047b51bd9e1e741b0c6240c739ae4\", element=\"41d9d59e-ca16-459d-b6b2-5c79336dc352\")>,\n",
       " <selenium.webdriver.remote.webelement.WebElement (session=\"51f047b51bd9e1e741b0c6240c739ae4\", element=\"90a70134-fc84-48a4-9d7d-0a671e00f86a\")>,\n",
       " <selenium.webdriver.remote.webelement.WebElement (session=\"51f047b51bd9e1e741b0c6240c739ae4\", element=\"7d219aaa-7d0f-4fbf-8d41-e03cbd2f3a7e\")>,\n",
       " <selenium.webdriver.remote.webelement.WebElement (session=\"51f047b51bd9e1e741b0c6240c739ae4\", element=\"2a842019-e010-47f3-acea-0c1ba8ef425e\")>,\n",
       " <selenium.webdriver.remote.webelement.WebElement (session=\"51f047b51bd9e1e741b0c6240c739ae4\", element=\"d53154e9-f354-49b5-ade7-0c205ee4e311\")>,\n",
       " <selenium.webdriver.remote.webelement.WebElement (session=\"51f047b51bd9e1e741b0c6240c739ae4\", element=\"a803e644-d073-4afa-bed4-386030431616\")>,\n",
       " <selenium.webdriver.remote.webelement.WebElement (session=\"51f047b51bd9e1e741b0c6240c739ae4\", element=\"a34b5f77-4b90-4474-b28d-477ad003b992\")>,\n",
       " <selenium.webdriver.remote.webelement.WebElement (session=\"51f047b51bd9e1e741b0c6240c739ae4\", element=\"160e635e-9c51-4d19-85f1-24b9be129ec1\")>,\n",
       " <selenium.webdriver.remote.webelement.WebElement (session=\"51f047b51bd9e1e741b0c6240c739ae4\", element=\"0a69b469-da12-4ba0-af86-3138c5bad609\")>,\n",
       " <selenium.webdriver.remote.webelement.WebElement (session=\"51f047b51bd9e1e741b0c6240c739ae4\", element=\"f951242a-ece6-480e-8811-c03612e63512\")>,\n",
       " <selenium.webdriver.remote.webelement.WebElement (session=\"51f047b51bd9e1e741b0c6240c739ae4\", element=\"2b457494-a618-4d9c-8f4d-c9e5efd67399\")>,\n",
       " <selenium.webdriver.remote.webelement.WebElement (session=\"51f047b51bd9e1e741b0c6240c739ae4\", element=\"4438d9d8-cffa-433c-bca6-7e622f83c9c8\")>,\n",
       " <selenium.webdriver.remote.webelement.WebElement (session=\"51f047b51bd9e1e741b0c6240c739ae4\", element=\"5f027635-1bb2-40bb-bd73-3bba54ddfef1\")>,\n",
       " <selenium.webdriver.remote.webelement.WebElement (session=\"51f047b51bd9e1e741b0c6240c739ae4\", element=\"2b72dc32-0196-4b60-858e-2f3e951c301a\")>,\n",
       " <selenium.webdriver.remote.webelement.WebElement (session=\"51f047b51bd9e1e741b0c6240c739ae4\", element=\"7f079830-42d8-4e25-a342-505221d7937c\")>,\n",
       " <selenium.webdriver.remote.webelement.WebElement (session=\"51f047b51bd9e1e741b0c6240c739ae4\", element=\"78576043-9ac3-4cb0-b0b6-ed79ab23d62a\")>,\n",
       " <selenium.webdriver.remote.webelement.WebElement (session=\"51f047b51bd9e1e741b0c6240c739ae4\", element=\"eb6b6f25-48ee-4e00-8987-699b12772a5a\")>,\n",
       " <selenium.webdriver.remote.webelement.WebElement (session=\"51f047b51bd9e1e741b0c6240c739ae4\", element=\"c6cd36ac-d706-435d-9a94-d32d24f2c8d1\")>,\n",
       " <selenium.webdriver.remote.webelement.WebElement (session=\"51f047b51bd9e1e741b0c6240c739ae4\", element=\"3ede6d24-a379-4fba-94a2-0fcde3f3fc5a\")>,\n",
       " <selenium.webdriver.remote.webelement.WebElement (session=\"51f047b51bd9e1e741b0c6240c739ae4\", element=\"b994c895-fc93-4232-9a8b-3f1e8b9750f6\")>,\n",
       " <selenium.webdriver.remote.webelement.WebElement (session=\"51f047b51bd9e1e741b0c6240c739ae4\", element=\"6479da9c-5447-4104-8973-98767525b0ea\")>,\n",
       " <selenium.webdriver.remote.webelement.WebElement (session=\"51f047b51bd9e1e741b0c6240c739ae4\", element=\"91ae7e2a-469c-4f5d-8958-2224241385b4\")>,\n",
       " <selenium.webdriver.remote.webelement.WebElement (session=\"51f047b51bd9e1e741b0c6240c739ae4\", element=\"b5ba0f56-5090-4ca3-9499-ed33fda3ff0c\")>,\n",
       " <selenium.webdriver.remote.webelement.WebElement (session=\"51f047b51bd9e1e741b0c6240c739ae4\", element=\"d825f978-d74b-4677-b7e8-2973ca74ec62\")>,\n",
       " <selenium.webdriver.remote.webelement.WebElement (session=\"51f047b51bd9e1e741b0c6240c739ae4\", element=\"423c04ee-ed48-463e-ac6f-5e9abec9546a\")>,\n",
       " <selenium.webdriver.remote.webelement.WebElement (session=\"51f047b51bd9e1e741b0c6240c739ae4\", element=\"7786fe3a-74b4-4e4d-98bd-767193eabc9f\")>,\n",
       " <selenium.webdriver.remote.webelement.WebElement (session=\"51f047b51bd9e1e741b0c6240c739ae4\", element=\"b2f8ffa9-b5d1-43b2-bdae-9a3d136f4119\")>,\n",
       " <selenium.webdriver.remote.webelement.WebElement (session=\"51f047b51bd9e1e741b0c6240c739ae4\", element=\"5de9ebba-ed37-41e7-8020-c2184860b5dd\")>,\n",
       " <selenium.webdriver.remote.webelement.WebElement (session=\"51f047b51bd9e1e741b0c6240c739ae4\", element=\"dbaa2595-e739-4ab2-942f-8053d49334e0\")>,\n",
       " <selenium.webdriver.remote.webelement.WebElement (session=\"51f047b51bd9e1e741b0c6240c739ae4\", element=\"f610bfa2-3b4a-4650-a963-5c5dc574e1ee\")>,\n",
       " <selenium.webdriver.remote.webelement.WebElement (session=\"51f047b51bd9e1e741b0c6240c739ae4\", element=\"444896a2-1657-44e5-a44b-a786b16f2655\")>,\n",
       " <selenium.webdriver.remote.webelement.WebElement (session=\"51f047b51bd9e1e741b0c6240c739ae4\", element=\"0b424d21-ca0b-4bcf-85bf-b65a087a3450\")>,\n",
       " <selenium.webdriver.remote.webelement.WebElement (session=\"51f047b51bd9e1e741b0c6240c739ae4\", element=\"92eba15d-c946-4be6-ab11-a8f50db6445a\")>,\n",
       " <selenium.webdriver.remote.webelement.WebElement (session=\"51f047b51bd9e1e741b0c6240c739ae4\", element=\"76854727-1a47-4678-8b2f-4c6e634b6b1d\")>,\n",
       " <selenium.webdriver.remote.webelement.WebElement (session=\"51f047b51bd9e1e741b0c6240c739ae4\", element=\"da3534d9-f9e6-4b5b-92ae-49c1476bcf03\")>,\n",
       " <selenium.webdriver.remote.webelement.WebElement (session=\"51f047b51bd9e1e741b0c6240c739ae4\", element=\"dcba650b-59ac-4424-b0fb-a9a1fe9f519a\")>,\n",
       " <selenium.webdriver.remote.webelement.WebElement (session=\"51f047b51bd9e1e741b0c6240c739ae4\", element=\"e52c43da-dc8b-4f29-822e-7be60416097e\")>,\n",
       " <selenium.webdriver.remote.webelement.WebElement (session=\"51f047b51bd9e1e741b0c6240c739ae4\", element=\"eb0bfc44-600f-4f03-8c7e-f919444b385f\")>,\n",
       " <selenium.webdriver.remote.webelement.WebElement (session=\"51f047b51bd9e1e741b0c6240c739ae4\", element=\"79c7bc47-8698-4e6f-8be0-a40487932d11\")>,\n",
       " <selenium.webdriver.remote.webelement.WebElement (session=\"51f047b51bd9e1e741b0c6240c739ae4\", element=\"66e8cc39-9889-4f12-b3bf-7136a0904b02\")>,\n",
       " <selenium.webdriver.remote.webelement.WebElement (session=\"51f047b51bd9e1e741b0c6240c739ae4\", element=\"732c3fe9-d45a-42b0-9f93-b1f863078831\")>,\n",
       " <selenium.webdriver.remote.webelement.WebElement (session=\"51f047b51bd9e1e741b0c6240c739ae4\", element=\"9f809d6d-e993-42c3-892a-5db8c5f3c841\")>,\n",
       " <selenium.webdriver.remote.webelement.WebElement (session=\"51f047b51bd9e1e741b0c6240c739ae4\", element=\"59094dc4-98be-43ff-a996-ed0d42e06ae2\")>,\n",
       " <selenium.webdriver.remote.webelement.WebElement (session=\"51f047b51bd9e1e741b0c6240c739ae4\", element=\"04434477-1219-4057-9253-f6542a2ab2f4\")>,\n",
       " <selenium.webdriver.remote.webelement.WebElement (session=\"51f047b51bd9e1e741b0c6240c739ae4\", element=\"d26d6dd8-361c-4d8c-9f87-737dc79aef25\")>,\n",
       " <selenium.webdriver.remote.webelement.WebElement (session=\"51f047b51bd9e1e741b0c6240c739ae4\", element=\"ce953d93-47f6-4efa-b325-f1ee68324649\")>,\n",
       " <selenium.webdriver.remote.webelement.WebElement (session=\"51f047b51bd9e1e741b0c6240c739ae4\", element=\"3f951a15-b2c8-45c6-a340-93030622cd06\")>,\n",
       " <selenium.webdriver.remote.webelement.WebElement (session=\"51f047b51bd9e1e741b0c6240c739ae4\", element=\"8a5484d6-f82c-4569-9581-282409088667\")>,\n",
       " <selenium.webdriver.remote.webelement.WebElement (session=\"51f047b51bd9e1e741b0c6240c739ae4\", element=\"30a69e8b-2113-4918-ba2e-30137f017a6e\")>,\n",
       " <selenium.webdriver.remote.webelement.WebElement (session=\"51f047b51bd9e1e741b0c6240c739ae4\", element=\"8c1c2cbd-f3ec-47ce-8ca6-897d65f1d086\")>,\n",
       " <selenium.webdriver.remote.webelement.WebElement (session=\"51f047b51bd9e1e741b0c6240c739ae4\", element=\"0847cb30-e611-4f75-8571-6f4f57005c3b\")>,\n",
       " <selenium.webdriver.remote.webelement.WebElement (session=\"51f047b51bd9e1e741b0c6240c739ae4\", element=\"d51d0b01-ea67-43d4-b8e6-747598399b0f\")>,\n",
       " <selenium.webdriver.remote.webelement.WebElement (session=\"51f047b51bd9e1e741b0c6240c739ae4\", element=\"9a22bae4-2d77-4fc0-931f-536b5bf602fe\")>,\n",
       " <selenium.webdriver.remote.webelement.WebElement (session=\"51f047b51bd9e1e741b0c6240c739ae4\", element=\"595f1b79-f62c-4d17-a549-b9ab822299eb\")>,\n",
       " <selenium.webdriver.remote.webelement.WebElement (session=\"51f047b51bd9e1e741b0c6240c739ae4\", element=\"25d09787-119f-417b-9b6b-594bd85df49c\")>,\n",
       " <selenium.webdriver.remote.webelement.WebElement (session=\"51f047b51bd9e1e741b0c6240c739ae4\", element=\"34d48855-3832-4fbe-853b-e1a8d7554fb5\")>,\n",
       " <selenium.webdriver.remote.webelement.WebElement (session=\"51f047b51bd9e1e741b0c6240c739ae4\", element=\"4e7f2f51-8e5a-47e8-9c2e-56c58b8389bd\")>,\n",
       " <selenium.webdriver.remote.webelement.WebElement (session=\"51f047b51bd9e1e741b0c6240c739ae4\", element=\"f10ad35a-ddac-4ab8-8c30-fec530b02608\")>,\n",
       " <selenium.webdriver.remote.webelement.WebElement (session=\"51f047b51bd9e1e741b0c6240c739ae4\", element=\"53803b53-5206-46da-8f9c-c883d4c2c62d\")>,\n",
       " <selenium.webdriver.remote.webelement.WebElement (session=\"51f047b51bd9e1e741b0c6240c739ae4\", element=\"571d62ef-ee6f-4b38-b4e4-2b6f073116b6\")>,\n",
       " <selenium.webdriver.remote.webelement.WebElement (session=\"51f047b51bd9e1e741b0c6240c739ae4\", element=\"1d4f6521-c2af-4af5-9f30-3bf4e6531154\")>,\n",
       " <selenium.webdriver.remote.webelement.WebElement (session=\"51f047b51bd9e1e741b0c6240c739ae4\", element=\"3e3acf24-d7dd-4aa0-bd3e-915b8992de96\")>,\n",
       " <selenium.webdriver.remote.webelement.WebElement (session=\"51f047b51bd9e1e741b0c6240c739ae4\", element=\"46e90def-286f-4c98-9d8b-6b4e9ea184da\")>,\n",
       " <selenium.webdriver.remote.webelement.WebElement (session=\"51f047b51bd9e1e741b0c6240c739ae4\", element=\"544b965f-6551-40e6-a4ca-057bfdbb4f1e\")>,\n",
       " <selenium.webdriver.remote.webelement.WebElement (session=\"51f047b51bd9e1e741b0c6240c739ae4\", element=\"3def7126-f43d-41bd-b196-1b44927c3e4c\")>,\n",
       " <selenium.webdriver.remote.webelement.WebElement (session=\"51f047b51bd9e1e741b0c6240c739ae4\", element=\"29fb2d9d-6dc1-4280-b1fb-d8857bdd3d3f\")>,\n",
       " <selenium.webdriver.remote.webelement.WebElement (session=\"51f047b51bd9e1e741b0c6240c739ae4\", element=\"c15773b1-488b-46c3-a355-d8432253fb96\")>,\n",
       " <selenium.webdriver.remote.webelement.WebElement (session=\"51f047b51bd9e1e741b0c6240c739ae4\", element=\"f3a6fceb-7092-4038-9de5-c893a20f64dc\")>,\n",
       " <selenium.webdriver.remote.webelement.WebElement (session=\"51f047b51bd9e1e741b0c6240c739ae4\", element=\"9d382159-b458-486a-82f7-f2adb37c32d7\")>,\n",
       " <selenium.webdriver.remote.webelement.WebElement (session=\"51f047b51bd9e1e741b0c6240c739ae4\", element=\"c1ff2ef7-272e-4f0f-9b16-06b78ef81579\")>,\n",
       " <selenium.webdriver.remote.webelement.WebElement (session=\"51f047b51bd9e1e741b0c6240c739ae4\", element=\"cdf18d42-7e48-4989-bd4e-f1c8f8d76649\")>,\n",
       " <selenium.webdriver.remote.webelement.WebElement (session=\"51f047b51bd9e1e741b0c6240c739ae4\", element=\"2ef8fd1b-be5b-4036-b032-950be731c1ef\")>,\n",
       " <selenium.webdriver.remote.webelement.WebElement (session=\"51f047b51bd9e1e741b0c6240c739ae4\", element=\"0eb4d37b-1dec-475c-84b0-0709fadfd1aa\")>,\n",
       " <selenium.webdriver.remote.webelement.WebElement (session=\"51f047b51bd9e1e741b0c6240c739ae4\", element=\"48a14f4c-0c2d-440a-8aa5-29c659c1c757\")>,\n",
       " <selenium.webdriver.remote.webelement.WebElement (session=\"51f047b51bd9e1e741b0c6240c739ae4\", element=\"d110346d-9b33-404f-b880-c55e7574ef28\")>]"
      ]
     },
     "execution_count": 12,
     "metadata": {},
     "output_type": "execute_result"
    }
   ],
   "source": [
    "line4=browser.find_elements(\"xpath\",\"//div[@class='td-wrap-in']\")\n",
    "line4"
   ]
  },
  {
   "cell_type": "code",
   "execution_count": 13,
   "id": "17b4b527",
   "metadata": {},
   "outputs": [
    {
     "data": {
      "text/plain": [
       "['91.3', '99.3', '96.5', '96.7', '87.3', '36.9', '57.1', '77.5', '91.4']"
      ]
     },
     "execution_count": 13,
     "metadata": {},
     "output_type": "execute_result"
    }
   ],
   "source": [
    "#PARSING DATA\n",
    "value=[]\n",
    "for data in line4:\n",
    "    #get the text data\n",
    "    temp=data.text\n",
    "    value.append(temp)\n",
    "value_h=value[11:20]\n",
    "value_h"
   ]
  },
  {
   "cell_type": "code",
   "execution_count": 14,
   "id": "80ae1d3f",
   "metadata": {},
   "outputs": [
    {
     "data": {
      "text/plain": [
       "{'Name': 'Peking University',\n",
       " 'Location': 'Beijing, China (Mainland)',\n",
       " 'Rank': '12',\n",
       " 'Overall Score': '91.3',\n",
       " 'Academic Reputation': '99.3',\n",
       " 'Employer Reputation': '96.5',\n",
       " 'Citations per Faculty': '96.7',\n",
       " 'Faculty Student Ratio': '87.3',\n",
       " 'International Students Ratio': '36.9',\n",
       " 'International Faculty Ratio': '57.1',\n",
       " 'International Research Network\\nUnweighted': '77.5',\n",
       " 'Employment Outcomes\\nUnweighted': '91.4'}"
      ]
     },
     "execution_count": 14,
     "metadata": {},
     "output_type": "execute_result"
    }
   ],
   "source": [
    "d={}\n",
    "d['Name']=value[10]\n",
    "d['Location']=address[1]\n",
    "d['Rank']=Rank[1]\n",
    "for i in range(len(column)):\n",
    "    d[column[i]]=value_h[i]\n",
    "d"
   ]
  },
  {
   "cell_type": "code",
   "execution_count": null,
   "id": "a1f465ea",
   "metadata": {},
   "outputs": [],
   "source": []
  },
  {
   "cell_type": "code",
   "execution_count": 15,
   "id": "2bd7c425",
   "metadata": {},
   "outputs": [
    {
     "data": {
      "text/plain": [
       "'{\"Name\": \"Peking University\", \"Location\": \"Beijing, China (Mainland)\", \"Rank\": \"12\", \"Overall Score\": \"91.3\", \"Academic Reputation\": \"99.3\", \"Employer Reputation\": \"96.5\", \"Citations per Faculty\": \"96.7\", \"Faculty Student Ratio\": \"87.3\", \"International Students Ratio\": \"36.9\", \"International Faculty Ratio\": \"57.1\", \"International Research Network\\\\nUnweighted\": \"77.5\", \"Employment Outcomes\\\\nUnweighted\": \"91.4\"}'"
      ]
     },
     "execution_count": 15,
     "metadata": {},
     "output_type": "execute_result"
    }
   ],
   "source": [
    "s1=json.dumps(d)\n",
    "s1"
   ]
  },
  {
   "cell_type": "code",
   "execution_count": 18,
   "id": "5437b630",
   "metadata": {},
   "outputs": [],
   "source": [
    "with open('Peking University.json','w') as f:\n",
    "    json.dump(d,f)"
   ]
  },
  {
   "cell_type": "code",
   "execution_count": null,
   "id": "07931635",
   "metadata": {},
   "outputs": [],
   "source": []
  }
 ],
 "metadata": {
  "kernelspec": {
   "display_name": "Python 3.9.12 ('base')",
   "language": "python",
   "name": "python3"
  },
  "language_info": {
   "codemirror_mode": {
    "name": "ipython",
    "version": 3
   },
   "file_extension": ".py",
   "mimetype": "text/x-python",
   "name": "python",
   "nbconvert_exporter": "python",
   "pygments_lexer": "ipython3",
   "version": "3.9.12"
  },
  "vscode": {
   "interpreter": {
    "hash": "ad2bdc8ecc057115af97d19610ffacc2b4e99fae6737bb82f5d7fb13d2f2c186"
   }
  }
 },
 "nbformat": 4,
 "nbformat_minor": 5
}
