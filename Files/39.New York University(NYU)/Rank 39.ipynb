{
 "cells": [
  {
   "cell_type": "code",
   "execution_count": 12,
   "id": "3c478f96",
   "metadata": {},
   "outputs": [],
   "source": [
    "from selenium import webdriver\n",
    "from selenium.webdriver.chrome.service import Service\n",
    "import pandas as pd\n",
    "import json\n",
    "\n"
   ]
  },
  {
   "cell_type": "code",
   "execution_count": 13,
   "id": "d6df8b58",
   "metadata": {},
   "outputs": [],
   "source": [
    "\n",
    "path = Service('C:\\chromedriver.exe')\n"
   ]
  },
  {
   "cell_type": "code",
   "execution_count": 14,
   "id": "46a743e4",
   "metadata": {},
   "outputs": [],
   "source": [
    "# set path for the driver\n",
    "browser = webdriver.Chrome(service = path)"
   ]
  },
  {
   "cell_type": "code",
   "execution_count": 15,
   "id": "ee2bc637",
   "metadata": {},
   "outputs": [],
   "source": [
    "url = \"https://www.topuniversities.com/university-rankings/world-university-rankings/2023\""
   ]
  },
  {
   "cell_type": "code",
   "execution_count": 16,
   "id": "9691df85",
   "metadata": {},
   "outputs": [],
   "source": [
    "# open the page url ion chrome\n",
    "browser.get(url)\n"
   ]
  },
  {
   "cell_type": "code",
   "execution_count": 17,
   "id": "4c4ec2b6",
   "metadata": {},
   "outputs": [
    {
     "data": {
      "text/plain": [
       "[<selenium.webdriver.remote.webelement.WebElement (session=\"501be61a9c91b4465e52fb8e5e51b7c8\", element=\"481989a6-e239-44ca-8238-bd9152f7323f\")>,\n",
       " <selenium.webdriver.remote.webelement.WebElement (session=\"501be61a9c91b4465e52fb8e5e51b7c8\", element=\"88e9b443-53e9-486e-906a-446d1cc353dc\")>,\n",
       " <selenium.webdriver.remote.webelement.WebElement (session=\"501be61a9c91b4465e52fb8e5e51b7c8\", element=\"3aac60d0-48ca-4bdd-901d-a2e308c9175d\")>,\n",
       " <selenium.webdriver.remote.webelement.WebElement (session=\"501be61a9c91b4465e52fb8e5e51b7c8\", element=\"da69320c-f888-4cb6-9776-8a99e3dc62d5\")>,\n",
       " <selenium.webdriver.remote.webelement.WebElement (session=\"501be61a9c91b4465e52fb8e5e51b7c8\", element=\"cf3ead09-386b-4aed-add7-1e54519ede31\")>,\n",
       " <selenium.webdriver.remote.webelement.WebElement (session=\"501be61a9c91b4465e52fb8e5e51b7c8\", element=\"b64f2e73-7ede-4c6a-8345-7d0dc3b6bdba\")>,\n",
       " <selenium.webdriver.remote.webelement.WebElement (session=\"501be61a9c91b4465e52fb8e5e51b7c8\", element=\"d7431320-19a9-4e3e-82c1-05ad42ce7416\")>,\n",
       " <selenium.webdriver.remote.webelement.WebElement (session=\"501be61a9c91b4465e52fb8e5e51b7c8\", element=\"ef1e4c5e-254b-42ee-befc-0af1e50e4f0f\")>,\n",
       " <selenium.webdriver.remote.webelement.WebElement (session=\"501be61a9c91b4465e52fb8e5e51b7c8\", element=\"d6c71784-6c7d-4747-9223-19ed62fe484f\")>,\n",
       " <selenium.webdriver.remote.webelement.WebElement (session=\"501be61a9c91b4465e52fb8e5e51b7c8\", element=\"1390a0b2-a8d1-440f-9c6a-f372e7983b63\")>,\n",
       " <selenium.webdriver.remote.webelement.WebElement (session=\"501be61a9c91b4465e52fb8e5e51b7c8\", element=\"a89488b1-5e28-47f6-b70f-294fefbfbf8a\")>,\n",
       " <selenium.webdriver.remote.webelement.WebElement (session=\"501be61a9c91b4465e52fb8e5e51b7c8\", element=\"7c6570aa-a129-4639-bf44-3263ae01b19d\")>,\n",
       " <selenium.webdriver.remote.webelement.WebElement (session=\"501be61a9c91b4465e52fb8e5e51b7c8\", element=\"85d2a355-c63e-49e2-bbc9-66b6244c4efb\")>,\n",
       " <selenium.webdriver.remote.webelement.WebElement (session=\"501be61a9c91b4465e52fb8e5e51b7c8\", element=\"b217d323-32c3-48a9-bd3c-84d2c767d693\")>,\n",
       " <selenium.webdriver.remote.webelement.WebElement (session=\"501be61a9c91b4465e52fb8e5e51b7c8\", element=\"cb46cf58-9200-440d-a94a-c8d2e8cbb9b1\")>,\n",
       " <selenium.webdriver.remote.webelement.WebElement (session=\"501be61a9c91b4465e52fb8e5e51b7c8\", element=\"8e4caace-cd1d-44b1-bbc3-2eb4d6341e3c\")>,\n",
       " <selenium.webdriver.remote.webelement.WebElement (session=\"501be61a9c91b4465e52fb8e5e51b7c8\", element=\"20932b74-baf6-4dc0-958a-88052164f3d4\")>,\n",
       " <selenium.webdriver.remote.webelement.WebElement (session=\"501be61a9c91b4465e52fb8e5e51b7c8\", element=\"bae70855-2267-45f4-89bf-8d450ca60304\")>,\n",
       " <selenium.webdriver.remote.webelement.WebElement (session=\"501be61a9c91b4465e52fb8e5e51b7c8\", element=\"54674348-1d9e-4e81-984d-268961e25c87\")>,\n",
       " <selenium.webdriver.remote.webelement.WebElement (session=\"501be61a9c91b4465e52fb8e5e51b7c8\", element=\"fcdc6f24-1564-4d69-84b2-3dac06c364e3\")>]"
      ]
     },
     "execution_count": 17,
     "metadata": {},
     "output_type": "execute_result"
    }
   ],
   "source": [
    "\n",
    "line1=browser.find_elements(\"xpath\",\"//div[@class='location ']\")\n",
    "line1"
   ]
  },
  {
   "cell_type": "code",
   "execution_count": 18,
   "id": "6db85e5d",
   "metadata": {},
   "outputs": [
    {
     "data": {
      "text/plain": [
       "['Montreal, Canada',\n",
       " 'Evanston, United States',\n",
       " 'Parkville, Australia',\n",
       " 'Shanghai, China (Mainland)',\n",
       " 'Toronto, Canada',\n",
       " 'Kyoto, Japan',\n",
       " 'London, United Kingdom',\n",
       " 'Hong Kong SAR, Hong Kong SAR',\n",
       " 'New York City, United States',\n",
       " 'Hong Kong SAR, Hong Kong SAR']"
      ]
     },
     "execution_count": 18,
     "metadata": {},
     "output_type": "execute_result"
    }
   ],
   "source": [
    "address=[]\n",
    "for data in line1:\n",
    "    #get the text data\n",
    "    temp=data.text\n",
    "    address.append(temp)\n",
    "address=address[10:]\n",
    "address"
   ]
  },
  {
   "cell_type": "code",
   "execution_count": 19,
   "id": "1f688e00",
   "metadata": {},
   "outputs": [
    {
     "data": {
      "text/plain": [
       "[<selenium.webdriver.remote.webelement.WebElement (session=\"501be61a9c91b4465e52fb8e5e51b7c8\", element=\"e1c464b0-dcce-4697-826d-73a5742a2785\")>,\n",
       " <selenium.webdriver.remote.webelement.WebElement (session=\"501be61a9c91b4465e52fb8e5e51b7c8\", element=\"abfd5971-5603-4eff-a6fb-85a7df467cb1\")>,\n",
       " <selenium.webdriver.remote.webelement.WebElement (session=\"501be61a9c91b4465e52fb8e5e51b7c8\", element=\"545058fd-6fed-4923-8609-e4eee60a5f9e\")>,\n",
       " <selenium.webdriver.remote.webelement.WebElement (session=\"501be61a9c91b4465e52fb8e5e51b7c8\", element=\"22e1fe11-a6bf-4d65-9831-c8320465210d\")>,\n",
       " <selenium.webdriver.remote.webelement.WebElement (session=\"501be61a9c91b4465e52fb8e5e51b7c8\", element=\"3b12ddb3-8ee0-48db-a4fd-cb075e42be3c\")>,\n",
       " <selenium.webdriver.remote.webelement.WebElement (session=\"501be61a9c91b4465e52fb8e5e51b7c8\", element=\"6b0049aa-cf84-4bb8-98f5-3c1d4ea5ad48\")>,\n",
       " <selenium.webdriver.remote.webelement.WebElement (session=\"501be61a9c91b4465e52fb8e5e51b7c8\", element=\"f5576101-9178-4349-8b30-d65c6be992fb\")>,\n",
       " <selenium.webdriver.remote.webelement.WebElement (session=\"501be61a9c91b4465e52fb8e5e51b7c8\", element=\"5a0345aa-dbd4-4a5d-8192-e4b57a51cc1a\")>,\n",
       " <selenium.webdriver.remote.webelement.WebElement (session=\"501be61a9c91b4465e52fb8e5e51b7c8\", element=\"c5ad3f9d-8652-4bcb-bb3f-37837546d9f7\")>,\n",
       " <selenium.webdriver.remote.webelement.WebElement (session=\"501be61a9c91b4465e52fb8e5e51b7c8\", element=\"999da70a-db72-4f95-b502-1ee66cdde142\")>]"
      ]
     },
     "execution_count": 19,
     "metadata": {},
     "output_type": "execute_result"
    }
   ],
   "source": [
    "\n",
    "line2=browser.find_elements(\"xpath\",\"//div[@class='_univ-rank ']\")\n",
    "line2"
   ]
  },
  {
   "cell_type": "code",
   "execution_count": 20,
   "id": "6a4df799",
   "metadata": {},
   "outputs": [
    {
     "data": {
      "text/plain": [
       "['31', '32', '33', '=34', '=34', '36', '37', '38', '39', '40']"
      ]
     },
     "execution_count": 20,
     "metadata": {},
     "output_type": "execute_result"
    }
   ],
   "source": [
    "Rank=[]\n",
    "for data in line2:\n",
    "    #get the text data\n",
    "    temp=data.text\n",
    "    Rank.append(temp)\n",
    "Rank"
   ]
  },
  {
   "cell_type": "code",
   "execution_count": 21,
   "id": "ed9393ab",
   "metadata": {},
   "outputs": [
    {
     "data": {
      "text/plain": [
       "[<selenium.webdriver.remote.webelement.WebElement (session=\"501be61a9c91b4465e52fb8e5e51b7c8\", element=\"bbeaa704-ab9a-4eb3-8df5-7233c2ea2185\")>,\n",
       " <selenium.webdriver.remote.webelement.WebElement (session=\"501be61a9c91b4465e52fb8e5e51b7c8\", element=\"d28495e2-c99f-4972-8586-41fc06c31bfe\")>,\n",
       " <selenium.webdriver.remote.webelement.WebElement (session=\"501be61a9c91b4465e52fb8e5e51b7c8\", element=\"3bcbc5be-2731-4460-a371-68497b7a3c69\")>,\n",
       " <selenium.webdriver.remote.webelement.WebElement (session=\"501be61a9c91b4465e52fb8e5e51b7c8\", element=\"26f6e57e-e679-4984-9ea1-6f302ed5c139\")>,\n",
       " <selenium.webdriver.remote.webelement.WebElement (session=\"501be61a9c91b4465e52fb8e5e51b7c8\", element=\"170ec95e-8377-40b8-ae86-5e337eca6488\")>,\n",
       " <selenium.webdriver.remote.webelement.WebElement (session=\"501be61a9c91b4465e52fb8e5e51b7c8\", element=\"d33827cd-c95f-4f77-a9eb-5a9c9ad69234\")>,\n",
       " <selenium.webdriver.remote.webelement.WebElement (session=\"501be61a9c91b4465e52fb8e5e51b7c8\", element=\"7a6ad4a7-0223-4757-a8ba-9a548e1105fb\")>,\n",
       " <selenium.webdriver.remote.webelement.WebElement (session=\"501be61a9c91b4465e52fb8e5e51b7c8\", element=\"06607caf-04dc-4b1e-9ce0-cee2ffa6f037\")>,\n",
       " <selenium.webdriver.remote.webelement.WebElement (session=\"501be61a9c91b4465e52fb8e5e51b7c8\", element=\"e2473c61-485d-4f5e-8186-22f467c62096\")>]"
      ]
     },
     "execution_count": 21,
     "metadata": {},
     "output_type": "execute_result"
    }
   ],
   "source": [
    "# GET EACH COLLEGE SPECIFICATION HEADERS\n",
    "line3=browser.find_elements(\"xpath\",\"//div[@class='_click-function_ind']\")\n",
    "line3"
   ]
  },
  {
   "cell_type": "code",
   "execution_count": 22,
   "id": "b931afdd",
   "metadata": {},
   "outputs": [
    {
     "data": {
      "text/plain": [
       "['Overall Score',\n",
       " 'Academic Reputation',\n",
       " 'Employer Reputation',\n",
       " 'Citations per Faculty',\n",
       " 'Faculty Student Ratio',\n",
       " 'International Students Ratio',\n",
       " 'International Faculty Ratio',\n",
       " 'International Research Network\\nUnweighted',\n",
       " 'Employment Outcomes\\nUnweighted']"
      ]
     },
     "execution_count": 22,
     "metadata": {},
     "output_type": "execute_result"
    }
   ],
   "source": [
    "#PARSING DATA\n",
    "column=[]\n",
    "for data in line3:\n",
    "    #get the text data\n",
    "    temp=data.text\n",
    "    column.append(temp)\n",
    "column"
   ]
  },
  {
   "cell_type": "code",
   "execution_count": 24,
   "id": "3d6623d1",
   "metadata": {},
   "outputs": [
    {
     "data": {
      "text/plain": [
       "[<selenium.webdriver.remote.webelement.WebElement (session=\"501be61a9c91b4465e52fb8e5e51b7c8\", element=\"6b35eda1-aa4b-444e-b447-bb3500b700bb\")>,\n",
       " <selenium.webdriver.remote.webelement.WebElement (session=\"501be61a9c91b4465e52fb8e5e51b7c8\", element=\"f0751ff4-baa3-444e-9656-3ef041f6e27a\")>,\n",
       " <selenium.webdriver.remote.webelement.WebElement (session=\"501be61a9c91b4465e52fb8e5e51b7c8\", element=\"0a27d4b9-f425-4426-8b51-966c1aa0a1ce\")>,\n",
       " <selenium.webdriver.remote.webelement.WebElement (session=\"501be61a9c91b4465e52fb8e5e51b7c8\", element=\"54b54a89-daad-40b0-86e1-a14282b2ef77\")>,\n",
       " <selenium.webdriver.remote.webelement.WebElement (session=\"501be61a9c91b4465e52fb8e5e51b7c8\", element=\"79b8293d-632c-4c77-a6fe-951d134f4916\")>,\n",
       " <selenium.webdriver.remote.webelement.WebElement (session=\"501be61a9c91b4465e52fb8e5e51b7c8\", element=\"eaa9ae98-1062-4072-b1a0-97e31d14a3f8\")>,\n",
       " <selenium.webdriver.remote.webelement.WebElement (session=\"501be61a9c91b4465e52fb8e5e51b7c8\", element=\"cf3cd8ac-6f0b-40ca-bcf2-f7fa2336824d\")>,\n",
       " <selenium.webdriver.remote.webelement.WebElement (session=\"501be61a9c91b4465e52fb8e5e51b7c8\", element=\"7d7b5c76-a5c6-4399-9347-6b876d67184b\")>,\n",
       " <selenium.webdriver.remote.webelement.WebElement (session=\"501be61a9c91b4465e52fb8e5e51b7c8\", element=\"4f3d8087-b076-457f-a504-2e6ee5c633d0\")>,\n",
       " <selenium.webdriver.remote.webelement.WebElement (session=\"501be61a9c91b4465e52fb8e5e51b7c8\", element=\"b4a0ce38-ff0f-4a32-96da-e70aaa40bf55\")>,\n",
       " <selenium.webdriver.remote.webelement.WebElement (session=\"501be61a9c91b4465e52fb8e5e51b7c8\", element=\"0ead72e2-23be-4093-9fa2-7e7bc34ff005\")>,\n",
       " <selenium.webdriver.remote.webelement.WebElement (session=\"501be61a9c91b4465e52fb8e5e51b7c8\", element=\"7f184470-96ff-4f35-91d5-0c1389219cea\")>,\n",
       " <selenium.webdriver.remote.webelement.WebElement (session=\"501be61a9c91b4465e52fb8e5e51b7c8\", element=\"714ff7ff-fb9d-4197-a867-3618488f6bd7\")>,\n",
       " <selenium.webdriver.remote.webelement.WebElement (session=\"501be61a9c91b4465e52fb8e5e51b7c8\", element=\"fa3a87fe-d93e-4361-a182-4b24eebf027a\")>,\n",
       " <selenium.webdriver.remote.webelement.WebElement (session=\"501be61a9c91b4465e52fb8e5e51b7c8\", element=\"3f48f99b-53c4-4120-afc5-e0176d296561\")>,\n",
       " <selenium.webdriver.remote.webelement.WebElement (session=\"501be61a9c91b4465e52fb8e5e51b7c8\", element=\"4a83aaa7-5813-43de-a393-792d6c3bc6f6\")>,\n",
       " <selenium.webdriver.remote.webelement.WebElement (session=\"501be61a9c91b4465e52fb8e5e51b7c8\", element=\"e00ea59e-60b5-428c-9a9c-cbd38d12a040\")>,\n",
       " <selenium.webdriver.remote.webelement.WebElement (session=\"501be61a9c91b4465e52fb8e5e51b7c8\", element=\"37d0acda-f014-43a1-95f3-60b28f23a94f\")>,\n",
       " <selenium.webdriver.remote.webelement.WebElement (session=\"501be61a9c91b4465e52fb8e5e51b7c8\", element=\"78fc7947-3d3a-4930-827e-a4033956fbc9\")>,\n",
       " <selenium.webdriver.remote.webelement.WebElement (session=\"501be61a9c91b4465e52fb8e5e51b7c8\", element=\"d2c28a4b-ab8a-487a-a7b9-8656b754a526\")>,\n",
       " <selenium.webdriver.remote.webelement.WebElement (session=\"501be61a9c91b4465e52fb8e5e51b7c8\", element=\"c5ad4598-e18c-4b00-8ea1-4d5402fa2a06\")>,\n",
       " <selenium.webdriver.remote.webelement.WebElement (session=\"501be61a9c91b4465e52fb8e5e51b7c8\", element=\"9aba29dd-5808-46db-82dd-ac9f7fb61edf\")>,\n",
       " <selenium.webdriver.remote.webelement.WebElement (session=\"501be61a9c91b4465e52fb8e5e51b7c8\", element=\"70581bd4-5c93-47b3-864a-49577d39bf68\")>,\n",
       " <selenium.webdriver.remote.webelement.WebElement (session=\"501be61a9c91b4465e52fb8e5e51b7c8\", element=\"73657f9a-160d-446f-bf83-573c5b35a356\")>,\n",
       " <selenium.webdriver.remote.webelement.WebElement (session=\"501be61a9c91b4465e52fb8e5e51b7c8\", element=\"12c3e4e1-d910-4363-a815-4ed55e993b33\")>,\n",
       " <selenium.webdriver.remote.webelement.WebElement (session=\"501be61a9c91b4465e52fb8e5e51b7c8\", element=\"5d5a9289-381a-485b-866e-01f168c489a6\")>,\n",
       " <selenium.webdriver.remote.webelement.WebElement (session=\"501be61a9c91b4465e52fb8e5e51b7c8\", element=\"291d3054-a9e1-4d5d-9de4-37a5672ddfc3\")>,\n",
       " <selenium.webdriver.remote.webelement.WebElement (session=\"501be61a9c91b4465e52fb8e5e51b7c8\", element=\"349d5575-05c5-4e62-93da-10c2ab01fd36\")>,\n",
       " <selenium.webdriver.remote.webelement.WebElement (session=\"501be61a9c91b4465e52fb8e5e51b7c8\", element=\"95deebfd-ef36-4cce-9001-b5c4134c857c\")>,\n",
       " <selenium.webdriver.remote.webelement.WebElement (session=\"501be61a9c91b4465e52fb8e5e51b7c8\", element=\"f8e5b665-a09a-4a44-b748-853fa5a1f7c0\")>,\n",
       " <selenium.webdriver.remote.webelement.WebElement (session=\"501be61a9c91b4465e52fb8e5e51b7c8\", element=\"52c66c5d-0a5f-4ebd-ad5c-8359cc7a322f\")>,\n",
       " <selenium.webdriver.remote.webelement.WebElement (session=\"501be61a9c91b4465e52fb8e5e51b7c8\", element=\"1db32fb4-f8a1-4a7b-8adc-578ede27a993\")>,\n",
       " <selenium.webdriver.remote.webelement.WebElement (session=\"501be61a9c91b4465e52fb8e5e51b7c8\", element=\"2ddee2e7-d1c8-4993-9927-98d41a647938\")>,\n",
       " <selenium.webdriver.remote.webelement.WebElement (session=\"501be61a9c91b4465e52fb8e5e51b7c8\", element=\"9834df41-5997-4972-9752-876709b1ee08\")>,\n",
       " <selenium.webdriver.remote.webelement.WebElement (session=\"501be61a9c91b4465e52fb8e5e51b7c8\", element=\"75118221-de41-404a-b7ba-c15d5cc53233\")>,\n",
       " <selenium.webdriver.remote.webelement.WebElement (session=\"501be61a9c91b4465e52fb8e5e51b7c8\", element=\"d13afcdf-b532-45ae-8770-f32475b86b84\")>,\n",
       " <selenium.webdriver.remote.webelement.WebElement (session=\"501be61a9c91b4465e52fb8e5e51b7c8\", element=\"a3ab44ff-7c35-4b64-86ef-5349e2c1290b\")>,\n",
       " <selenium.webdriver.remote.webelement.WebElement (session=\"501be61a9c91b4465e52fb8e5e51b7c8\", element=\"7369dc97-534b-4d57-b760-6efadb5560dc\")>,\n",
       " <selenium.webdriver.remote.webelement.WebElement (session=\"501be61a9c91b4465e52fb8e5e51b7c8\", element=\"048bdc17-30c2-4e82-af3d-e7a89bd29198\")>,\n",
       " <selenium.webdriver.remote.webelement.WebElement (session=\"501be61a9c91b4465e52fb8e5e51b7c8\", element=\"7a84ae04-1edc-48ab-8974-f72bd344c626\")>,\n",
       " <selenium.webdriver.remote.webelement.WebElement (session=\"501be61a9c91b4465e52fb8e5e51b7c8\", element=\"44be899b-6e2f-44ad-a518-b9bef0ca9270\")>,\n",
       " <selenium.webdriver.remote.webelement.WebElement (session=\"501be61a9c91b4465e52fb8e5e51b7c8\", element=\"beb7883c-b06c-44a7-ba0f-fb05e1042454\")>,\n",
       " <selenium.webdriver.remote.webelement.WebElement (session=\"501be61a9c91b4465e52fb8e5e51b7c8\", element=\"b798aa72-e1c4-4aec-87a8-7e08690a659a\")>,\n",
       " <selenium.webdriver.remote.webelement.WebElement (session=\"501be61a9c91b4465e52fb8e5e51b7c8\", element=\"caf27298-13e2-4b0c-9030-987177b068f1\")>,\n",
       " <selenium.webdriver.remote.webelement.WebElement (session=\"501be61a9c91b4465e52fb8e5e51b7c8\", element=\"37c18392-ecd1-4a0d-85d9-fc35d44199b3\")>,\n",
       " <selenium.webdriver.remote.webelement.WebElement (session=\"501be61a9c91b4465e52fb8e5e51b7c8\", element=\"8bab284e-0e09-401b-b9d6-1d8683f08bec\")>,\n",
       " <selenium.webdriver.remote.webelement.WebElement (session=\"501be61a9c91b4465e52fb8e5e51b7c8\", element=\"f8077f5d-6e6e-44eb-9be5-0c703e8a0ee8\")>,\n",
       " <selenium.webdriver.remote.webelement.WebElement (session=\"501be61a9c91b4465e52fb8e5e51b7c8\", element=\"ce84ee0b-4d36-4789-859a-eb72d0f3d1d8\")>,\n",
       " <selenium.webdriver.remote.webelement.WebElement (session=\"501be61a9c91b4465e52fb8e5e51b7c8\", element=\"2af715b6-a943-405e-9fda-98e7997339f1\")>,\n",
       " <selenium.webdriver.remote.webelement.WebElement (session=\"501be61a9c91b4465e52fb8e5e51b7c8\", element=\"21708550-a04e-41c6-b8aa-544166634a09\")>,\n",
       " <selenium.webdriver.remote.webelement.WebElement (session=\"501be61a9c91b4465e52fb8e5e51b7c8\", element=\"a229d9e5-df53-4c25-9b06-f591b2004073\")>,\n",
       " <selenium.webdriver.remote.webelement.WebElement (session=\"501be61a9c91b4465e52fb8e5e51b7c8\", element=\"4081d9c4-366e-4cc2-9b97-cceb9d407eb1\")>,\n",
       " <selenium.webdriver.remote.webelement.WebElement (session=\"501be61a9c91b4465e52fb8e5e51b7c8\", element=\"d8bb5e1e-33a7-4654-94c9-cb24d02dcfcf\")>,\n",
       " <selenium.webdriver.remote.webelement.WebElement (session=\"501be61a9c91b4465e52fb8e5e51b7c8\", element=\"c12b8e74-7941-45b8-a92d-17432def784d\")>,\n",
       " <selenium.webdriver.remote.webelement.WebElement (session=\"501be61a9c91b4465e52fb8e5e51b7c8\", element=\"006d4fa1-0d88-4ce9-b899-5335403e5e88\")>,\n",
       " <selenium.webdriver.remote.webelement.WebElement (session=\"501be61a9c91b4465e52fb8e5e51b7c8\", element=\"7ef25625-3bf6-4b70-acfe-ee0d7ab5ac93\")>,\n",
       " <selenium.webdriver.remote.webelement.WebElement (session=\"501be61a9c91b4465e52fb8e5e51b7c8\", element=\"92c58b5c-73ca-4a39-a230-565fd7069b65\")>,\n",
       " <selenium.webdriver.remote.webelement.WebElement (session=\"501be61a9c91b4465e52fb8e5e51b7c8\", element=\"53f04c27-a49d-4513-bc82-b3a7d930381b\")>,\n",
       " <selenium.webdriver.remote.webelement.WebElement (session=\"501be61a9c91b4465e52fb8e5e51b7c8\", element=\"c1925c69-2ce6-4a82-8a8a-d36c0e3f0a73\")>,\n",
       " <selenium.webdriver.remote.webelement.WebElement (session=\"501be61a9c91b4465e52fb8e5e51b7c8\", element=\"652f0ae5-3580-4d12-b768-8720e94b97db\")>,\n",
       " <selenium.webdriver.remote.webelement.WebElement (session=\"501be61a9c91b4465e52fb8e5e51b7c8\", element=\"16d196df-906b-4a71-94df-1f6023466b15\")>,\n",
       " <selenium.webdriver.remote.webelement.WebElement (session=\"501be61a9c91b4465e52fb8e5e51b7c8\", element=\"45ed2efc-230f-47fc-a335-32f0e4a672e4\")>,\n",
       " <selenium.webdriver.remote.webelement.WebElement (session=\"501be61a9c91b4465e52fb8e5e51b7c8\", element=\"7d6411d9-8562-443d-8177-e23174ee2a07\")>,\n",
       " <selenium.webdriver.remote.webelement.WebElement (session=\"501be61a9c91b4465e52fb8e5e51b7c8\", element=\"76523fe2-791c-428b-8f25-5d11c9f4baa8\")>,\n",
       " <selenium.webdriver.remote.webelement.WebElement (session=\"501be61a9c91b4465e52fb8e5e51b7c8\", element=\"632795a5-3c9e-49b8-8f0a-c3d8923a982a\")>,\n",
       " <selenium.webdriver.remote.webelement.WebElement (session=\"501be61a9c91b4465e52fb8e5e51b7c8\", element=\"c7087931-101d-46fc-b643-a63737d70dff\")>,\n",
       " <selenium.webdriver.remote.webelement.WebElement (session=\"501be61a9c91b4465e52fb8e5e51b7c8\", element=\"0a169390-df7a-4265-8b26-8adbdcb3524c\")>,\n",
       " <selenium.webdriver.remote.webelement.WebElement (session=\"501be61a9c91b4465e52fb8e5e51b7c8\", element=\"53092eaf-10dc-4481-a612-1093423f07e3\")>,\n",
       " <selenium.webdriver.remote.webelement.WebElement (session=\"501be61a9c91b4465e52fb8e5e51b7c8\", element=\"193c8161-4dcc-4e59-95e8-64b82ba49b3f\")>,\n",
       " <selenium.webdriver.remote.webelement.WebElement (session=\"501be61a9c91b4465e52fb8e5e51b7c8\", element=\"55125b34-bd8d-4883-8484-fefe1ab2ea5a\")>,\n",
       " <selenium.webdriver.remote.webelement.WebElement (session=\"501be61a9c91b4465e52fb8e5e51b7c8\", element=\"b45c6460-4d54-4024-b17b-31367d2fec5b\")>,\n",
       " <selenium.webdriver.remote.webelement.WebElement (session=\"501be61a9c91b4465e52fb8e5e51b7c8\", element=\"ee3de169-fd0e-4c40-a0ca-b6db0850f883\")>,\n",
       " <selenium.webdriver.remote.webelement.WebElement (session=\"501be61a9c91b4465e52fb8e5e51b7c8\", element=\"e442a884-60bc-4b4b-8e36-876175dc84bf\")>,\n",
       " <selenium.webdriver.remote.webelement.WebElement (session=\"501be61a9c91b4465e52fb8e5e51b7c8\", element=\"d27c406e-3b9d-49e3-8f5f-bec6ec3425fd\")>,\n",
       " <selenium.webdriver.remote.webelement.WebElement (session=\"501be61a9c91b4465e52fb8e5e51b7c8\", element=\"83a9c7dd-825d-4bfd-9d68-4f4ebb856c48\")>,\n",
       " <selenium.webdriver.remote.webelement.WebElement (session=\"501be61a9c91b4465e52fb8e5e51b7c8\", element=\"9b44418c-8a27-49bc-a778-13677d40267a\")>,\n",
       " <selenium.webdriver.remote.webelement.WebElement (session=\"501be61a9c91b4465e52fb8e5e51b7c8\", element=\"85910a28-3921-4b60-bac3-f2ffc0b7a7b0\")>,\n",
       " <selenium.webdriver.remote.webelement.WebElement (session=\"501be61a9c91b4465e52fb8e5e51b7c8\", element=\"880d8749-cddc-428d-95dd-1b534aad1a10\")>,\n",
       " <selenium.webdriver.remote.webelement.WebElement (session=\"501be61a9c91b4465e52fb8e5e51b7c8\", element=\"06b24c48-7ade-4e67-97a2-715f94090ee5\")>,\n",
       " <selenium.webdriver.remote.webelement.WebElement (session=\"501be61a9c91b4465e52fb8e5e51b7c8\", element=\"16c5e64b-d7db-4ff0-a2cc-6e1e86febcfa\")>,\n",
       " <selenium.webdriver.remote.webelement.WebElement (session=\"501be61a9c91b4465e52fb8e5e51b7c8\", element=\"529b10ec-c888-436d-93c6-31423f564fbe\")>,\n",
       " <selenium.webdriver.remote.webelement.WebElement (session=\"501be61a9c91b4465e52fb8e5e51b7c8\", element=\"010ebc4f-4ca8-4231-90eb-6f1fa2d02eac\")>,\n",
       " <selenium.webdriver.remote.webelement.WebElement (session=\"501be61a9c91b4465e52fb8e5e51b7c8\", element=\"32ea96fb-68f7-4adf-bae1-71c6805b625a\")>,\n",
       " <selenium.webdriver.remote.webelement.WebElement (session=\"501be61a9c91b4465e52fb8e5e51b7c8\", element=\"49792a65-d54f-4860-8105-c28a83e76e63\")>,\n",
       " <selenium.webdriver.remote.webelement.WebElement (session=\"501be61a9c91b4465e52fb8e5e51b7c8\", element=\"3f8750f5-2101-4fb9-b8fe-e3f560955dfe\")>,\n",
       " <selenium.webdriver.remote.webelement.WebElement (session=\"501be61a9c91b4465e52fb8e5e51b7c8\", element=\"b31ef439-9cfa-4f83-aa81-6d82b4e1e5ad\")>,\n",
       " <selenium.webdriver.remote.webelement.WebElement (session=\"501be61a9c91b4465e52fb8e5e51b7c8\", element=\"f33de2be-be21-48d6-a730-debae414923b\")>,\n",
       " <selenium.webdriver.remote.webelement.WebElement (session=\"501be61a9c91b4465e52fb8e5e51b7c8\", element=\"482916a2-df16-486f-8319-a6507dd016be\")>,\n",
       " <selenium.webdriver.remote.webelement.WebElement (session=\"501be61a9c91b4465e52fb8e5e51b7c8\", element=\"3787138e-fd35-450b-b923-e18cf2db803b\")>,\n",
       " <selenium.webdriver.remote.webelement.WebElement (session=\"501be61a9c91b4465e52fb8e5e51b7c8\", element=\"0674cf88-7db7-4d23-9f46-fe3bd7ac4ea0\")>,\n",
       " <selenium.webdriver.remote.webelement.WebElement (session=\"501be61a9c91b4465e52fb8e5e51b7c8\", element=\"183101bf-cf3a-4e69-bb2b-dbebac8c50ef\")>,\n",
       " <selenium.webdriver.remote.webelement.WebElement (session=\"501be61a9c91b4465e52fb8e5e51b7c8\", element=\"1eb9011e-286e-4718-8e90-898549fdf1b9\")>,\n",
       " <selenium.webdriver.remote.webelement.WebElement (session=\"501be61a9c91b4465e52fb8e5e51b7c8\", element=\"cf3d5999-d40a-4b8c-a40b-61089f999f9e\")>,\n",
       " <selenium.webdriver.remote.webelement.WebElement (session=\"501be61a9c91b4465e52fb8e5e51b7c8\", element=\"86aa6b0a-7cc6-41f8-8ff2-917022d9680b\")>,\n",
       " <selenium.webdriver.remote.webelement.WebElement (session=\"501be61a9c91b4465e52fb8e5e51b7c8\", element=\"9285afb8-b25e-4d21-b87d-87afa625f7ce\")>,\n",
       " <selenium.webdriver.remote.webelement.WebElement (session=\"501be61a9c91b4465e52fb8e5e51b7c8\", element=\"f6185a13-147e-4e29-ba7b-c0eff8c9dc7f\")>,\n",
       " <selenium.webdriver.remote.webelement.WebElement (session=\"501be61a9c91b4465e52fb8e5e51b7c8\", element=\"6a6d985b-f0a4-43a1-851f-39b52b641be9\")>,\n",
       " <selenium.webdriver.remote.webelement.WebElement (session=\"501be61a9c91b4465e52fb8e5e51b7c8\", element=\"7b8b8e97-4d32-4509-9480-163085a7fc12\")>,\n",
       " <selenium.webdriver.remote.webelement.WebElement (session=\"501be61a9c91b4465e52fb8e5e51b7c8\", element=\"5e484458-cbd5-4c2f-b98a-58effc5f9b5e\")>,\n",
       " <selenium.webdriver.remote.webelement.WebElement (session=\"501be61a9c91b4465e52fb8e5e51b7c8\", element=\"e4d08168-1b80-49f3-b9e9-2fa35b579a0f\")>]"
      ]
     },
     "execution_count": 24,
     "metadata": {},
     "output_type": "execute_result"
    }
   ],
   "source": [
    "line4=browser.find_elements(\"xpath\",\"//div[@class='td-wrap-in']\")\n",
    "line4"
   ]
  },
  {
   "cell_type": "code",
   "execution_count": 26,
   "id": "0239477f",
   "metadata": {},
   "outputs": [
    {
     "data": {
      "text/plain": [
       "['80.3', '95.9', '99', '28.9', '98.1', '94.4', '31.3', '92', '99.7']"
      ]
     },
     "execution_count": 26,
     "metadata": {},
     "output_type": "execute_result"
    }
   ],
   "source": [
    "#PARSING DATA\n",
    "value=[]\n",
    "for data in line4:\n",
    "    #get the text data\n",
    "    temp=data.text\n",
    "    value.append(temp)\n",
    "value_h=value[81:90]\n",
    "value_h"
   ]
  },
  {
   "cell_type": "code",
   "execution_count": 27,
   "id": "d9e4b6f9",
   "metadata": {},
   "outputs": [
    {
     "data": {
      "text/plain": [
       "{'Name': 'New York University (NYU)',\n",
       " 'Location': 'New York City, United States',\n",
       " 'Rank': '39',\n",
       " 'Overall Score': '80.3',\n",
       " 'Academic Reputation': '95.9',\n",
       " 'Employer Reputation': '99',\n",
       " 'Citations per Faculty': '28.9',\n",
       " 'Faculty Student Ratio': '98.1',\n",
       " 'International Students Ratio': '94.4',\n",
       " 'International Faculty Ratio': '31.3',\n",
       " 'International Research Network\\nUnweighted': '92',\n",
       " 'Employment Outcomes\\nUnweighted': '99.7'}"
      ]
     },
     "execution_count": 27,
     "metadata": {},
     "output_type": "execute_result"
    }
   ],
   "source": [
    "d={}\n",
    "d['Name']=value[80]\n",
    "d['Location']=address[8]\n",
    "d['Rank']=Rank[8]\n",
    "for i in range(len(column)):\n",
    "    d[column[i]]=value_h[i]\n",
    "d"
   ]
  },
  {
   "cell_type": "code",
   "execution_count": 28,
   "id": "670fc791",
   "metadata": {},
   "outputs": [
    {
     "data": {
      "text/plain": [
       "'{\"Name\": \"New York University (NYU)\", \"Location\": \"New York City, United States\", \"Rank\": \"39\", \"Overall Score\": \"80.3\", \"Academic Reputation\": \"95.9\", \"Employer Reputation\": \"99\", \"Citations per Faculty\": \"28.9\", \"Faculty Student Ratio\": \"98.1\", \"International Students Ratio\": \"94.4\", \"International Faculty Ratio\": \"31.3\", \"International Research Network\\\\nUnweighted\": \"92\", \"Employment Outcomes\\\\nUnweighted\": \"99.7\"}'"
      ]
     },
     "execution_count": 28,
     "metadata": {},
     "output_type": "execute_result"
    }
   ],
   "source": [
    "s1=json.dumps(d)\n",
    "s1"
   ]
  },
  {
   "cell_type": "code",
   "execution_count": 29,
   "id": "c03ee25e",
   "metadata": {},
   "outputs": [],
   "source": [
    "\n",
    "with open('New York University (NYU).json','w') as f:\n",
    "    json.dump(d,f)\n"
   ]
  },
  {
   "cell_type": "code",
   "execution_count": null,
   "id": "c0cd561d",
   "metadata": {},
   "outputs": [],
   "source": []
  },
  {
   "cell_type": "code",
   "execution_count": null,
   "id": "2f94bdf6",
   "metadata": {},
   "outputs": [],
   "source": []
  }
 ],
 "metadata": {
  "kernelspec": {
   "display_name": "Python 3.9.12 ('base')",
   "language": "python",
   "name": "python3"
  },
  "language_info": {
   "codemirror_mode": {
    "name": "ipython",
    "version": 3
   },
   "file_extension": ".py",
   "mimetype": "text/x-python",
   "name": "python",
   "nbconvert_exporter": "python",
   "pygments_lexer": "ipython3",
   "version": "3.9.12"
  },
  "vscode": {
   "interpreter": {
    "hash": "ad2bdc8ecc057115af97d19610ffacc2b4e99fae6737bb82f5d7fb13d2f2c186"
   }
  }
 },
 "nbformat": 4,
 "nbformat_minor": 5
}
