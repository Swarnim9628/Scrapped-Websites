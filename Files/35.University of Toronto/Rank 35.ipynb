{
 "cells": [
  {
   "cell_type": "code",
   "execution_count": 1,
   "id": "c923f6b2",
   "metadata": {},
   "outputs": [],
   "source": [
    "from selenium import webdriver\n",
    "from selenium.webdriver.chrome.service import Service\n",
    "import pandas as pd\n",
    "import json\n"
   ]
  },
  {
   "cell_type": "code",
   "execution_count": 2,
   "id": "b2d27e4f",
   "metadata": {},
   "outputs": [],
   "source": [
    "path = Service('C:\\chromedriver.exe')"
   ]
  },
  {
   "cell_type": "code",
   "execution_count": 3,
   "id": "46566f59",
   "metadata": {},
   "outputs": [],
   "source": [
    "\n",
    "# set path for the driver\n",
    "browser = webdriver.Chrome(service = path)"
   ]
  },
  {
   "cell_type": "code",
   "execution_count": 4,
   "id": "90a0dbfb",
   "metadata": {},
   "outputs": [],
   "source": [
    "url = \"https://www.topuniversities.com/university-rankings/world-university-rankings/2023\"\n"
   ]
  },
  {
   "cell_type": "code",
   "execution_count": 5,
   "id": "06a2eab2",
   "metadata": {},
   "outputs": [],
   "source": [
    "\n",
    "# open the page url ion chrome\n",
    "browser.get(url)"
   ]
  },
  {
   "cell_type": "code",
   "execution_count": 6,
   "id": "3fb2a765",
   "metadata": {},
   "outputs": [
    {
     "data": {
      "text/plain": [
       "[<selenium.webdriver.remote.webelement.WebElement (session=\"62f01e2b3b8d64c90033a26355e14382\", element=\"e44a5283-681a-4e0a-aafc-eb82f34c68b3\")>,\n",
       " <selenium.webdriver.remote.webelement.WebElement (session=\"62f01e2b3b8d64c90033a26355e14382\", element=\"19d7488d-ea2c-488a-94da-fea3b3609ec1\")>,\n",
       " <selenium.webdriver.remote.webelement.WebElement (session=\"62f01e2b3b8d64c90033a26355e14382\", element=\"145d1e3e-d760-4854-9a2a-ef379154b78a\")>,\n",
       " <selenium.webdriver.remote.webelement.WebElement (session=\"62f01e2b3b8d64c90033a26355e14382\", element=\"074f9bdd-d917-4f98-a16a-a72749d3bc8e\")>,\n",
       " <selenium.webdriver.remote.webelement.WebElement (session=\"62f01e2b3b8d64c90033a26355e14382\", element=\"41115a71-5ffb-497e-9ab1-4d9ece555fc0\")>,\n",
       " <selenium.webdriver.remote.webelement.WebElement (session=\"62f01e2b3b8d64c90033a26355e14382\", element=\"4b2d7bca-6f47-4d3f-9783-8ae146ebcd40\")>,\n",
       " <selenium.webdriver.remote.webelement.WebElement (session=\"62f01e2b3b8d64c90033a26355e14382\", element=\"cb4087e8-17c8-4a54-81aa-4b7eb22c54e3\")>,\n",
       " <selenium.webdriver.remote.webelement.WebElement (session=\"62f01e2b3b8d64c90033a26355e14382\", element=\"56456f37-ab1c-4c87-b4ec-117f7f964e61\")>,\n",
       " <selenium.webdriver.remote.webelement.WebElement (session=\"62f01e2b3b8d64c90033a26355e14382\", element=\"38720e59-a055-48a7-a2a0-d9ade3b3e762\")>,\n",
       " <selenium.webdriver.remote.webelement.WebElement (session=\"62f01e2b3b8d64c90033a26355e14382\", element=\"13d63b12-ab7a-4e14-8edc-7af1d223faf3\")>,\n",
       " <selenium.webdriver.remote.webelement.WebElement (session=\"62f01e2b3b8d64c90033a26355e14382\", element=\"fd2b838e-b033-4698-a9f2-8fec3af475f4\")>,\n",
       " <selenium.webdriver.remote.webelement.WebElement (session=\"62f01e2b3b8d64c90033a26355e14382\", element=\"f233131c-640e-4895-a319-9efb2cd85d05\")>,\n",
       " <selenium.webdriver.remote.webelement.WebElement (session=\"62f01e2b3b8d64c90033a26355e14382\", element=\"f8ad7b7a-8047-47c0-a82b-c6672a074e0d\")>,\n",
       " <selenium.webdriver.remote.webelement.WebElement (session=\"62f01e2b3b8d64c90033a26355e14382\", element=\"4c666865-cbec-4b80-86f6-d8b6e4a8aa98\")>,\n",
       " <selenium.webdriver.remote.webelement.WebElement (session=\"62f01e2b3b8d64c90033a26355e14382\", element=\"ed32cde0-2bb0-4d9b-aa23-17c25b6a94c5\")>,\n",
       " <selenium.webdriver.remote.webelement.WebElement (session=\"62f01e2b3b8d64c90033a26355e14382\", element=\"001050db-b17b-4803-ad45-b2977cd08ce2\")>,\n",
       " <selenium.webdriver.remote.webelement.WebElement (session=\"62f01e2b3b8d64c90033a26355e14382\", element=\"74d842c9-cd37-4233-a1d8-67b398a657a9\")>,\n",
       " <selenium.webdriver.remote.webelement.WebElement (session=\"62f01e2b3b8d64c90033a26355e14382\", element=\"ff11a40a-0f6a-4756-9392-916961d1202b\")>,\n",
       " <selenium.webdriver.remote.webelement.WebElement (session=\"62f01e2b3b8d64c90033a26355e14382\", element=\"7c15b94d-5a68-40f9-9509-0f524fbd2f6b\")>,\n",
       " <selenium.webdriver.remote.webelement.WebElement (session=\"62f01e2b3b8d64c90033a26355e14382\", element=\"37bc862b-3998-4cb2-a565-935f831f1e12\")>]"
      ]
     },
     "execution_count": 6,
     "metadata": {},
     "output_type": "execute_result"
    }
   ],
   "source": [
    "line1=browser.find_elements(\"xpath\",\"//div[@class='location ']\")\n",
    "line1"
   ]
  },
  {
   "cell_type": "code",
   "execution_count": 7,
   "id": "17479980",
   "metadata": {},
   "outputs": [
    {
     "data": {
      "text/plain": [
       "['Montreal, Canada',\n",
       " 'Evanston, United States',\n",
       " 'Parkville, Australia',\n",
       " 'Shanghai, China (Mainland)',\n",
       " 'Toronto, Canada',\n",
       " 'Kyoto, Japan',\n",
       " 'London, United Kingdom',\n",
       " 'Hong Kong SAR, Hong Kong SAR',\n",
       " 'New York City, United States',\n",
       " 'Hong Kong SAR, Hong Kong SAR']"
      ]
     },
     "execution_count": 7,
     "metadata": {},
     "output_type": "execute_result"
    }
   ],
   "source": [
    "address=[]\n",
    "for data in line1:\n",
    "    #get the text data\n",
    "    temp=data.text\n",
    "    address.append(temp)\n",
    "address=address[10:]\n",
    "address"
   ]
  },
  {
   "cell_type": "code",
   "execution_count": 8,
   "id": "360502bb",
   "metadata": {},
   "outputs": [
    {
     "data": {
      "text/plain": [
       "[<selenium.webdriver.remote.webelement.WebElement (session=\"62f01e2b3b8d64c90033a26355e14382\", element=\"d59a5dca-c70b-4828-80e2-04d9e8ecfd5f\")>,\n",
       " <selenium.webdriver.remote.webelement.WebElement (session=\"62f01e2b3b8d64c90033a26355e14382\", element=\"1d313d86-2d4b-4a79-a0e9-0737fe748d42\")>,\n",
       " <selenium.webdriver.remote.webelement.WebElement (session=\"62f01e2b3b8d64c90033a26355e14382\", element=\"bcd6247f-fbc1-4d3f-9e1e-3b55c2714866\")>,\n",
       " <selenium.webdriver.remote.webelement.WebElement (session=\"62f01e2b3b8d64c90033a26355e14382\", element=\"276e33e9-bd04-4956-ac54-7ff0ebf35ed9\")>,\n",
       " <selenium.webdriver.remote.webelement.WebElement (session=\"62f01e2b3b8d64c90033a26355e14382\", element=\"2510aa8f-8db0-4ff5-87c5-60db03cba5d5\")>,\n",
       " <selenium.webdriver.remote.webelement.WebElement (session=\"62f01e2b3b8d64c90033a26355e14382\", element=\"fdbc76d3-fbc4-4fe8-bc88-68ee51f18a23\")>,\n",
       " <selenium.webdriver.remote.webelement.WebElement (session=\"62f01e2b3b8d64c90033a26355e14382\", element=\"5d654f8d-0a95-4025-8250-3c91c6b3cd8f\")>,\n",
       " <selenium.webdriver.remote.webelement.WebElement (session=\"62f01e2b3b8d64c90033a26355e14382\", element=\"23d8a809-f9d7-411c-99d3-2f3a8b290ec1\")>,\n",
       " <selenium.webdriver.remote.webelement.WebElement (session=\"62f01e2b3b8d64c90033a26355e14382\", element=\"9551073f-2da0-459e-9935-bdaa190f4923\")>,\n",
       " <selenium.webdriver.remote.webelement.WebElement (session=\"62f01e2b3b8d64c90033a26355e14382\", element=\"3dcb7eac-4ad0-481a-9428-16c3a7bef376\")>]"
      ]
     },
     "execution_count": 8,
     "metadata": {},
     "output_type": "execute_result"
    }
   ],
   "source": [
    "line2=browser.find_elements(\"xpath\",\"//div[@class='_univ-rank ']\")\n",
    "line2"
   ]
  },
  {
   "cell_type": "code",
   "execution_count": 9,
   "id": "b3bfbcb7",
   "metadata": {},
   "outputs": [
    {
     "data": {
      "text/plain": [
       "['31', '32', '33', '=34', '=34', '36', '37', '38', '39', '40']"
      ]
     },
     "execution_count": 9,
     "metadata": {},
     "output_type": "execute_result"
    }
   ],
   "source": [
    "Rank=[]\n",
    "for data in line2:\n",
    "    #get the text data\n",
    "    temp=data.text\n",
    "    Rank.append(temp)\n",
    "Rank"
   ]
  },
  {
   "cell_type": "code",
   "execution_count": 10,
   "id": "c63948ce",
   "metadata": {},
   "outputs": [
    {
     "data": {
      "text/plain": [
       "[<selenium.webdriver.remote.webelement.WebElement (session=\"62f01e2b3b8d64c90033a26355e14382\", element=\"2ba27bc8-ded7-4a3d-817b-d8a8f7794a7e\")>,\n",
       " <selenium.webdriver.remote.webelement.WebElement (session=\"62f01e2b3b8d64c90033a26355e14382\", element=\"9d91eb29-3c78-4b29-aa17-39dbddbdb6d1\")>,\n",
       " <selenium.webdriver.remote.webelement.WebElement (session=\"62f01e2b3b8d64c90033a26355e14382\", element=\"47a3c2ef-4dfe-415c-ad56-37959e804517\")>,\n",
       " <selenium.webdriver.remote.webelement.WebElement (session=\"62f01e2b3b8d64c90033a26355e14382\", element=\"0f721e9b-e55e-4eb0-8e44-9f377df6099f\")>,\n",
       " <selenium.webdriver.remote.webelement.WebElement (session=\"62f01e2b3b8d64c90033a26355e14382\", element=\"d822f7ad-61a1-4473-9b17-518c3a7f5686\")>,\n",
       " <selenium.webdriver.remote.webelement.WebElement (session=\"62f01e2b3b8d64c90033a26355e14382\", element=\"b8c0d20c-4014-40e9-86a4-59eff69a20fc\")>,\n",
       " <selenium.webdriver.remote.webelement.WebElement (session=\"62f01e2b3b8d64c90033a26355e14382\", element=\"e1aaf621-0cb1-46c9-8908-f926d6745984\")>,\n",
       " <selenium.webdriver.remote.webelement.WebElement (session=\"62f01e2b3b8d64c90033a26355e14382\", element=\"35be30ae-4a18-4841-8afe-f359100e7d0c\")>,\n",
       " <selenium.webdriver.remote.webelement.WebElement (session=\"62f01e2b3b8d64c90033a26355e14382\", element=\"a905a2d9-5ef8-4c93-8532-afe3de7171c8\")>]"
      ]
     },
     "execution_count": 10,
     "metadata": {},
     "output_type": "execute_result"
    }
   ],
   "source": [
    "line3=browser.find_elements(\"xpath\",\"//div[@class='_click-function_ind']\")\n",
    "line3"
   ]
  },
  {
   "cell_type": "code",
   "execution_count": 11,
   "id": "84474bd0",
   "metadata": {},
   "outputs": [
    {
     "data": {
      "text/plain": [
       "['Overall Score',\n",
       " 'Academic Reputation',\n",
       " 'Employer Reputation',\n",
       " 'Citations per Faculty',\n",
       " 'Faculty Student Ratio',\n",
       " 'International Students Ratio',\n",
       " 'International Faculty Ratio',\n",
       " 'International Research Network\\nUnweighted',\n",
       " 'Employment Outcomes\\nUnweighted']"
      ]
     },
     "execution_count": 11,
     "metadata": {},
     "output_type": "execute_result"
    }
   ],
   "source": [
    "#PARSING DATA\n",
    "column=[]\n",
    "for data in line3:\n",
    "    #get the text data\n",
    "    temp=data.text\n",
    "    column.append(temp)\n",
    "column"
   ]
  },
  {
   "cell_type": "code",
   "execution_count": 12,
   "id": "dd9660d9",
   "metadata": {},
   "outputs": [
    {
     "data": {
      "text/plain": [
       "[<selenium.webdriver.remote.webelement.WebElement (session=\"62f01e2b3b8d64c90033a26355e14382\", element=\"d724e8ec-3703-4772-ba91-192a53bc59e7\")>,\n",
       " <selenium.webdriver.remote.webelement.WebElement (session=\"62f01e2b3b8d64c90033a26355e14382\", element=\"090117ee-94dc-486f-a22f-2ed3477ca1e0\")>,\n",
       " <selenium.webdriver.remote.webelement.WebElement (session=\"62f01e2b3b8d64c90033a26355e14382\", element=\"4a55dcc4-34a1-48c9-846e-151546dbb001\")>,\n",
       " <selenium.webdriver.remote.webelement.WebElement (session=\"62f01e2b3b8d64c90033a26355e14382\", element=\"22931246-c275-4bcb-861a-7231f836a806\")>,\n",
       " <selenium.webdriver.remote.webelement.WebElement (session=\"62f01e2b3b8d64c90033a26355e14382\", element=\"5923b05d-84b8-4b23-9e36-064321ceb72e\")>,\n",
       " <selenium.webdriver.remote.webelement.WebElement (session=\"62f01e2b3b8d64c90033a26355e14382\", element=\"5a8ee778-d800-41ef-a1b4-4f35a0a0d5a3\")>,\n",
       " <selenium.webdriver.remote.webelement.WebElement (session=\"62f01e2b3b8d64c90033a26355e14382\", element=\"7cb115bf-2d9b-4b2a-a281-c084e1cec00b\")>,\n",
       " <selenium.webdriver.remote.webelement.WebElement (session=\"62f01e2b3b8d64c90033a26355e14382\", element=\"bf25a521-7475-43a9-8457-a4751c9da3bf\")>,\n",
       " <selenium.webdriver.remote.webelement.WebElement (session=\"62f01e2b3b8d64c90033a26355e14382\", element=\"242e3c6d-ceb5-47f6-a97a-4fcc33825d09\")>,\n",
       " <selenium.webdriver.remote.webelement.WebElement (session=\"62f01e2b3b8d64c90033a26355e14382\", element=\"a7f398f9-f758-466b-9107-f1155595e8d5\")>,\n",
       " <selenium.webdriver.remote.webelement.WebElement (session=\"62f01e2b3b8d64c90033a26355e14382\", element=\"66fe68a6-f85e-4b03-80d0-2d8777864fea\")>,\n",
       " <selenium.webdriver.remote.webelement.WebElement (session=\"62f01e2b3b8d64c90033a26355e14382\", element=\"02c48b84-8a8a-4a3f-8b9b-e23499b1a2f2\")>,\n",
       " <selenium.webdriver.remote.webelement.WebElement (session=\"62f01e2b3b8d64c90033a26355e14382\", element=\"9112df42-c30e-4312-b939-85bd4df1b1e4\")>,\n",
       " <selenium.webdriver.remote.webelement.WebElement (session=\"62f01e2b3b8d64c90033a26355e14382\", element=\"6b92ab5e-c08c-4c4d-bfb9-3aecec37841b\")>,\n",
       " <selenium.webdriver.remote.webelement.WebElement (session=\"62f01e2b3b8d64c90033a26355e14382\", element=\"92eb91a1-9700-4601-8372-5f17bab50321\")>,\n",
       " <selenium.webdriver.remote.webelement.WebElement (session=\"62f01e2b3b8d64c90033a26355e14382\", element=\"fa19b34f-aa99-4a91-bc95-cfc48451cc19\")>,\n",
       " <selenium.webdriver.remote.webelement.WebElement (session=\"62f01e2b3b8d64c90033a26355e14382\", element=\"0bcedf91-17f6-49ca-a34b-80c876833661\")>,\n",
       " <selenium.webdriver.remote.webelement.WebElement (session=\"62f01e2b3b8d64c90033a26355e14382\", element=\"8217c3c2-0aab-488b-9134-237b487c3f23\")>,\n",
       " <selenium.webdriver.remote.webelement.WebElement (session=\"62f01e2b3b8d64c90033a26355e14382\", element=\"049617af-2ee2-40ca-be96-3991878bb7c0\")>,\n",
       " <selenium.webdriver.remote.webelement.WebElement (session=\"62f01e2b3b8d64c90033a26355e14382\", element=\"82614a81-db88-4d4b-80b7-653a90930d9a\")>,\n",
       " <selenium.webdriver.remote.webelement.WebElement (session=\"62f01e2b3b8d64c90033a26355e14382\", element=\"e269e4cf-6a07-43e5-9bf5-b52041835f01\")>,\n",
       " <selenium.webdriver.remote.webelement.WebElement (session=\"62f01e2b3b8d64c90033a26355e14382\", element=\"a1d2826d-0191-4df4-91cc-23620287d366\")>,\n",
       " <selenium.webdriver.remote.webelement.WebElement (session=\"62f01e2b3b8d64c90033a26355e14382\", element=\"474bf6c9-f4b4-46f8-bb46-718caaed081a\")>,\n",
       " <selenium.webdriver.remote.webelement.WebElement (session=\"62f01e2b3b8d64c90033a26355e14382\", element=\"7fde5117-afdb-4bd6-8ec4-f2f2021441d4\")>,\n",
       " <selenium.webdriver.remote.webelement.WebElement (session=\"62f01e2b3b8d64c90033a26355e14382\", element=\"a72cfc6b-9c50-4625-abf1-e380762f1bfb\")>,\n",
       " <selenium.webdriver.remote.webelement.WebElement (session=\"62f01e2b3b8d64c90033a26355e14382\", element=\"5c2586e1-715d-4f85-8a13-6d2bcd602ff0\")>,\n",
       " <selenium.webdriver.remote.webelement.WebElement (session=\"62f01e2b3b8d64c90033a26355e14382\", element=\"9159c01e-5d0f-4e60-b76d-81a520089d62\")>,\n",
       " <selenium.webdriver.remote.webelement.WebElement (session=\"62f01e2b3b8d64c90033a26355e14382\", element=\"fd4b2995-6809-4fd4-af5c-a834323d3c2e\")>,\n",
       " <selenium.webdriver.remote.webelement.WebElement (session=\"62f01e2b3b8d64c90033a26355e14382\", element=\"f76b1a05-6131-4be8-a864-18730ccc665f\")>,\n",
       " <selenium.webdriver.remote.webelement.WebElement (session=\"62f01e2b3b8d64c90033a26355e14382\", element=\"40b852ad-ec5c-4b25-874b-2b376e64d590\")>,\n",
       " <selenium.webdriver.remote.webelement.WebElement (session=\"62f01e2b3b8d64c90033a26355e14382\", element=\"8e9f67bd-2ce7-4292-861d-99907c9e5984\")>,\n",
       " <selenium.webdriver.remote.webelement.WebElement (session=\"62f01e2b3b8d64c90033a26355e14382\", element=\"99bdf7ca-e8be-46d4-aea4-2aa883945caf\")>,\n",
       " <selenium.webdriver.remote.webelement.WebElement (session=\"62f01e2b3b8d64c90033a26355e14382\", element=\"e17c143e-ef6c-42f7-b9d4-4186d1486a85\")>,\n",
       " <selenium.webdriver.remote.webelement.WebElement (session=\"62f01e2b3b8d64c90033a26355e14382\", element=\"24b36597-e8dd-4d0b-8f4c-ce0516ff70bb\")>,\n",
       " <selenium.webdriver.remote.webelement.WebElement (session=\"62f01e2b3b8d64c90033a26355e14382\", element=\"f1711a44-7729-4d8a-b230-6655042f06bf\")>,\n",
       " <selenium.webdriver.remote.webelement.WebElement (session=\"62f01e2b3b8d64c90033a26355e14382\", element=\"9abe4114-86c4-4fc4-ba37-a3d9f1a977b0\")>,\n",
       " <selenium.webdriver.remote.webelement.WebElement (session=\"62f01e2b3b8d64c90033a26355e14382\", element=\"c229212b-4efd-452a-a0f8-55a5de443d09\")>,\n",
       " <selenium.webdriver.remote.webelement.WebElement (session=\"62f01e2b3b8d64c90033a26355e14382\", element=\"da84e678-b610-4b5a-8b36-ed9f0a3d5089\")>,\n",
       " <selenium.webdriver.remote.webelement.WebElement (session=\"62f01e2b3b8d64c90033a26355e14382\", element=\"7d68bbcd-0b22-4e54-944f-be5a8f6ab70b\")>,\n",
       " <selenium.webdriver.remote.webelement.WebElement (session=\"62f01e2b3b8d64c90033a26355e14382\", element=\"ddb70491-1da8-4571-885e-a308b6d197c7\")>,\n",
       " <selenium.webdriver.remote.webelement.WebElement (session=\"62f01e2b3b8d64c90033a26355e14382\", element=\"be239476-d5be-452a-8792-def6b4206715\")>,\n",
       " <selenium.webdriver.remote.webelement.WebElement (session=\"62f01e2b3b8d64c90033a26355e14382\", element=\"7c0daec1-ed61-4e70-b39c-a37a88042cec\")>,\n",
       " <selenium.webdriver.remote.webelement.WebElement (session=\"62f01e2b3b8d64c90033a26355e14382\", element=\"af5d6bc2-d6eb-43e4-b591-33ec9f03f495\")>,\n",
       " <selenium.webdriver.remote.webelement.WebElement (session=\"62f01e2b3b8d64c90033a26355e14382\", element=\"80f99656-ffc2-4416-92ee-bdcb70a49774\")>,\n",
       " <selenium.webdriver.remote.webelement.WebElement (session=\"62f01e2b3b8d64c90033a26355e14382\", element=\"5de8fcec-361d-48e2-ad26-7cb6bc2f535d\")>,\n",
       " <selenium.webdriver.remote.webelement.WebElement (session=\"62f01e2b3b8d64c90033a26355e14382\", element=\"1a8b68b8-7767-4ff4-8609-f1de9cfd7e92\")>,\n",
       " <selenium.webdriver.remote.webelement.WebElement (session=\"62f01e2b3b8d64c90033a26355e14382\", element=\"47b9a1fc-7d64-4f81-84da-04e0d1d1e191\")>,\n",
       " <selenium.webdriver.remote.webelement.WebElement (session=\"62f01e2b3b8d64c90033a26355e14382\", element=\"57481f49-6dfa-4fa0-ade5-b7cd9c47c05c\")>,\n",
       " <selenium.webdriver.remote.webelement.WebElement (session=\"62f01e2b3b8d64c90033a26355e14382\", element=\"7b621349-087b-4c26-b8de-e9ffa57fbe42\")>,\n",
       " <selenium.webdriver.remote.webelement.WebElement (session=\"62f01e2b3b8d64c90033a26355e14382\", element=\"03a65ebc-b50d-4718-b9a8-58fc3423c7fb\")>,\n",
       " <selenium.webdriver.remote.webelement.WebElement (session=\"62f01e2b3b8d64c90033a26355e14382\", element=\"1e0a40f0-a902-473c-ad09-e655583a91d3\")>,\n",
       " <selenium.webdriver.remote.webelement.WebElement (session=\"62f01e2b3b8d64c90033a26355e14382\", element=\"a864e414-4ffa-4bb9-9e6c-d736e1cb87fb\")>,\n",
       " <selenium.webdriver.remote.webelement.WebElement (session=\"62f01e2b3b8d64c90033a26355e14382\", element=\"652c2e71-b59b-44db-aa35-c67ee3593320\")>,\n",
       " <selenium.webdriver.remote.webelement.WebElement (session=\"62f01e2b3b8d64c90033a26355e14382\", element=\"53fd23e5-6372-442a-bc29-42cd1e4daaba\")>,\n",
       " <selenium.webdriver.remote.webelement.WebElement (session=\"62f01e2b3b8d64c90033a26355e14382\", element=\"c7b000cf-2cc1-443a-a621-bfc08f6b1aa8\")>,\n",
       " <selenium.webdriver.remote.webelement.WebElement (session=\"62f01e2b3b8d64c90033a26355e14382\", element=\"40ed667c-876c-4101-bebb-43fc85ef3bc1\")>,\n",
       " <selenium.webdriver.remote.webelement.WebElement (session=\"62f01e2b3b8d64c90033a26355e14382\", element=\"851d9182-48e2-4e7e-93f8-3734641930b7\")>,\n",
       " <selenium.webdriver.remote.webelement.WebElement (session=\"62f01e2b3b8d64c90033a26355e14382\", element=\"4f8288ee-d234-4b3c-add0-e0636425ca47\")>,\n",
       " <selenium.webdriver.remote.webelement.WebElement (session=\"62f01e2b3b8d64c90033a26355e14382\", element=\"4d462f9a-495a-4e7c-97af-f7c1e49b4c45\")>,\n",
       " <selenium.webdriver.remote.webelement.WebElement (session=\"62f01e2b3b8d64c90033a26355e14382\", element=\"74f2c403-ab77-4e4d-9620-2b7bd01cc0ee\")>,\n",
       " <selenium.webdriver.remote.webelement.WebElement (session=\"62f01e2b3b8d64c90033a26355e14382\", element=\"9600cac6-b087-44aa-9ea8-6d2a1614321f\")>,\n",
       " <selenium.webdriver.remote.webelement.WebElement (session=\"62f01e2b3b8d64c90033a26355e14382\", element=\"e774858d-22bb-4087-87a7-e5a5c190c0a2\")>,\n",
       " <selenium.webdriver.remote.webelement.WebElement (session=\"62f01e2b3b8d64c90033a26355e14382\", element=\"149382f8-8cdc-4a85-be2c-d49106e934f9\")>,\n",
       " <selenium.webdriver.remote.webelement.WebElement (session=\"62f01e2b3b8d64c90033a26355e14382\", element=\"d2e7d1f0-1867-4533-b736-dcc88087486b\")>,\n",
       " <selenium.webdriver.remote.webelement.WebElement (session=\"62f01e2b3b8d64c90033a26355e14382\", element=\"17a3fafb-e7e8-4ded-abca-e49c3a5e459f\")>,\n",
       " <selenium.webdriver.remote.webelement.WebElement (session=\"62f01e2b3b8d64c90033a26355e14382\", element=\"056984fc-e7dd-49b7-8b5d-ce1ded23201a\")>,\n",
       " <selenium.webdriver.remote.webelement.WebElement (session=\"62f01e2b3b8d64c90033a26355e14382\", element=\"ef28847e-46af-488a-8f69-b3c939336836\")>,\n",
       " <selenium.webdriver.remote.webelement.WebElement (session=\"62f01e2b3b8d64c90033a26355e14382\", element=\"a8fd1944-b7a7-436c-9e7c-61ebb46e357d\")>,\n",
       " <selenium.webdriver.remote.webelement.WebElement (session=\"62f01e2b3b8d64c90033a26355e14382\", element=\"58064651-b35d-4784-a0d9-d6e4cfc4bc78\")>,\n",
       " <selenium.webdriver.remote.webelement.WebElement (session=\"62f01e2b3b8d64c90033a26355e14382\", element=\"38d9262d-23f9-4259-abd4-58e203ecc2b0\")>,\n",
       " <selenium.webdriver.remote.webelement.WebElement (session=\"62f01e2b3b8d64c90033a26355e14382\", element=\"c3f66929-9d0e-404b-8e17-a75a1801fedb\")>,\n",
       " <selenium.webdriver.remote.webelement.WebElement (session=\"62f01e2b3b8d64c90033a26355e14382\", element=\"16353bdf-c9fb-4607-b561-3562907c4059\")>,\n",
       " <selenium.webdriver.remote.webelement.WebElement (session=\"62f01e2b3b8d64c90033a26355e14382\", element=\"0d80a6d0-16d6-4d63-9243-87a7e205464a\")>,\n",
       " <selenium.webdriver.remote.webelement.WebElement (session=\"62f01e2b3b8d64c90033a26355e14382\", element=\"a0cc2eca-b4e1-4b6f-ac02-2d24670579ff\")>,\n",
       " <selenium.webdriver.remote.webelement.WebElement (session=\"62f01e2b3b8d64c90033a26355e14382\", element=\"ff8a0cef-0289-4e9b-87dd-19386175c376\")>,\n",
       " <selenium.webdriver.remote.webelement.WebElement (session=\"62f01e2b3b8d64c90033a26355e14382\", element=\"2eadb732-3191-49ec-85f8-5319d18ea434\")>,\n",
       " <selenium.webdriver.remote.webelement.WebElement (session=\"62f01e2b3b8d64c90033a26355e14382\", element=\"fdb1f425-9ab5-4954-9b37-93c64e2a3cb5\")>,\n",
       " <selenium.webdriver.remote.webelement.WebElement (session=\"62f01e2b3b8d64c90033a26355e14382\", element=\"e97ac8d5-1605-471e-92cc-465bf730bb8d\")>,\n",
       " <selenium.webdriver.remote.webelement.WebElement (session=\"62f01e2b3b8d64c90033a26355e14382\", element=\"5cfb6c8c-68ae-4fc1-b3ef-c3fe8bb95757\")>,\n",
       " <selenium.webdriver.remote.webelement.WebElement (session=\"62f01e2b3b8d64c90033a26355e14382\", element=\"738bd717-b481-4f51-8f15-233f3c746c20\")>,\n",
       " <selenium.webdriver.remote.webelement.WebElement (session=\"62f01e2b3b8d64c90033a26355e14382\", element=\"f6c80334-8d0a-4341-8506-fcf244e0f3b0\")>,\n",
       " <selenium.webdriver.remote.webelement.WebElement (session=\"62f01e2b3b8d64c90033a26355e14382\", element=\"87075533-b3e1-4513-8665-450abcf09db1\")>,\n",
       " <selenium.webdriver.remote.webelement.WebElement (session=\"62f01e2b3b8d64c90033a26355e14382\", element=\"9a2662fb-17da-4187-ba3c-f59ba85540a1\")>,\n",
       " <selenium.webdriver.remote.webelement.WebElement (session=\"62f01e2b3b8d64c90033a26355e14382\", element=\"052e2373-c1da-4081-b4da-f08f5757f3da\")>,\n",
       " <selenium.webdriver.remote.webelement.WebElement (session=\"62f01e2b3b8d64c90033a26355e14382\", element=\"2ce3677e-3b9f-4f44-9dfb-8493c53c6d8e\")>,\n",
       " <selenium.webdriver.remote.webelement.WebElement (session=\"62f01e2b3b8d64c90033a26355e14382\", element=\"85bf29d2-de36-495b-9a87-d86e9c0df6ee\")>,\n",
       " <selenium.webdriver.remote.webelement.WebElement (session=\"62f01e2b3b8d64c90033a26355e14382\", element=\"aa12e03d-a193-46b2-b34b-31513687af59\")>,\n",
       " <selenium.webdriver.remote.webelement.WebElement (session=\"62f01e2b3b8d64c90033a26355e14382\", element=\"83f6f2a6-f4a6-4cc6-a519-e955f674c886\")>,\n",
       " <selenium.webdriver.remote.webelement.WebElement (session=\"62f01e2b3b8d64c90033a26355e14382\", element=\"04488e8b-f3f1-4d10-b8ee-71f6b6c43576\")>,\n",
       " <selenium.webdriver.remote.webelement.WebElement (session=\"62f01e2b3b8d64c90033a26355e14382\", element=\"83c05d22-a2e2-4a2c-96c6-433fadac0123\")>,\n",
       " <selenium.webdriver.remote.webelement.WebElement (session=\"62f01e2b3b8d64c90033a26355e14382\", element=\"a82897d5-425d-477a-900b-f1cb495023f4\")>,\n",
       " <selenium.webdriver.remote.webelement.WebElement (session=\"62f01e2b3b8d64c90033a26355e14382\", element=\"37ba91f3-707b-418c-aa32-1339fb7d7339\")>,\n",
       " <selenium.webdriver.remote.webelement.WebElement (session=\"62f01e2b3b8d64c90033a26355e14382\", element=\"c5df44c5-5dc1-49bb-a6fb-eceb97a62a54\")>,\n",
       " <selenium.webdriver.remote.webelement.WebElement (session=\"62f01e2b3b8d64c90033a26355e14382\", element=\"994822fe-2821-48fe-a432-b8497620c86b\")>,\n",
       " <selenium.webdriver.remote.webelement.WebElement (session=\"62f01e2b3b8d64c90033a26355e14382\", element=\"7ac431f3-fa89-4f42-a91f-b7f6a8386458\")>,\n",
       " <selenium.webdriver.remote.webelement.WebElement (session=\"62f01e2b3b8d64c90033a26355e14382\", element=\"e04a33f0-5472-4431-96a2-aa3d6e2a70cb\")>,\n",
       " <selenium.webdriver.remote.webelement.WebElement (session=\"62f01e2b3b8d64c90033a26355e14382\", element=\"b9395985-1572-4857-9f5c-2c3569836d2c\")>,\n",
       " <selenium.webdriver.remote.webelement.WebElement (session=\"62f01e2b3b8d64c90033a26355e14382\", element=\"631f8029-e8ee-4805-a106-ae5944bb99cf\")>,\n",
       " <selenium.webdriver.remote.webelement.WebElement (session=\"62f01e2b3b8d64c90033a26355e14382\", element=\"1b8b3123-16f7-4771-9470-2591e0dfabfb\")>,\n",
       " <selenium.webdriver.remote.webelement.WebElement (session=\"62f01e2b3b8d64c90033a26355e14382\", element=\"d96512f7-c351-48e3-8158-69a1985d0ef0\")>]"
      ]
     },
     "execution_count": 12,
     "metadata": {},
     "output_type": "execute_result"
    }
   ],
   "source": [
    "line4=browser.find_elements(\"xpath\",\"//div[@class='td-wrap-in']\")\n",
    "line4"
   ]
  },
  {
   "cell_type": "code",
   "execution_count": 13,
   "id": "33864962",
   "metadata": {},
   "outputs": [
    {
     "data": {
      "text/plain": [
       "['81.5', '99.6', '98.3', '43.5', '65.6', '95.7', '95.8', '96.7', '94']"
      ]
     },
     "execution_count": 13,
     "metadata": {},
     "output_type": "execute_result"
    }
   ],
   "source": [
    "#PARSING DATA\n",
    "value=[]\n",
    "for data in line4:\n",
    "    #get the text data\n",
    "    temp=data.text\n",
    "    value.append(temp)\n",
    "value_h=value[41:50]\n",
    "value_h"
   ]
  },
  {
   "cell_type": "code",
   "execution_count": 14,
   "id": "5a8c14e9",
   "metadata": {},
   "outputs": [
    {
     "data": {
      "text/plain": [
       "{'Name': 'University of Toronto',\n",
       " 'Location': 'Toronto, Canada',\n",
       " 'Rank': '=34',\n",
       " 'Overall Score': '81.5',\n",
       " 'Academic Reputation': '99.6',\n",
       " 'Employer Reputation': '98.3',\n",
       " 'Citations per Faculty': '43.5',\n",
       " 'Faculty Student Ratio': '65.6',\n",
       " 'International Students Ratio': '95.7',\n",
       " 'International Faculty Ratio': '95.8',\n",
       " 'International Research Network\\nUnweighted': '96.7',\n",
       " 'Employment Outcomes\\nUnweighted': '94'}"
      ]
     },
     "execution_count": 14,
     "metadata": {},
     "output_type": "execute_result"
    }
   ],
   "source": [
    "d={}\n",
    "d['Name']=value[40]\n",
    "d['Location']=address[4]\n",
    "d['Rank']=Rank[4]\n",
    "for i in range(len(column)):\n",
    "    d[column[i]]=value_h[i]\n",
    "d"
   ]
  },
  {
   "cell_type": "code",
   "execution_count": 15,
   "id": "d023a51d",
   "metadata": {},
   "outputs": [
    {
     "data": {
      "text/plain": [
       "'{\"Name\": \"University of Toronto\", \"Location\": \"Toronto, Canada\", \"Rank\": \"=34\", \"Overall Score\": \"81.5\", \"Academic Reputation\": \"99.6\", \"Employer Reputation\": \"98.3\", \"Citations per Faculty\": \"43.5\", \"Faculty Student Ratio\": \"65.6\", \"International Students Ratio\": \"95.7\", \"International Faculty Ratio\": \"95.8\", \"International Research Network\\\\nUnweighted\": \"96.7\", \"Employment Outcomes\\\\nUnweighted\": \"94\"}'"
      ]
     },
     "execution_count": 15,
     "metadata": {},
     "output_type": "execute_result"
    }
   ],
   "source": [
    "s1=json.dumps(d)\n",
    "s1"
   ]
  },
  {
   "cell_type": "code",
   "execution_count": 16,
   "id": "c0874823",
   "metadata": {},
   "outputs": [],
   "source": [
    "with open('University of Toronto.json','w') as f:\n",
    "    json.dump(d,f)\n"
   ]
  },
  {
   "cell_type": "code",
   "execution_count": null,
   "id": "1985e032",
   "metadata": {},
   "outputs": [],
   "source": []
  }
 ],
 "metadata": {
  "kernelspec": {
   "display_name": "Python 3.9.12 ('base')",
   "language": "python",
   "name": "python3"
  },
  "language_info": {
   "codemirror_mode": {
    "name": "ipython",
    "version": 3
   },
   "file_extension": ".py",
   "mimetype": "text/x-python",
   "name": "python",
   "nbconvert_exporter": "python",
   "pygments_lexer": "ipython3",
   "version": "3.9.12"
  },
  "vscode": {
   "interpreter": {
    "hash": "ad2bdc8ecc057115af97d19610ffacc2b4e99fae6737bb82f5d7fb13d2f2c186"
   }
  }
 },
 "nbformat": 4,
 "nbformat_minor": 5
}
