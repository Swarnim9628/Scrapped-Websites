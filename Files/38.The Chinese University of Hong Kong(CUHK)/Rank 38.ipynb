{
 "cells": [
  {
   "cell_type": "code",
   "execution_count": 1,
   "id": "d1ddecca",
   "metadata": {},
   "outputs": [],
   "source": [
    "from selenium import webdriver\n",
    "from selenium.webdriver.chrome.service import Service\n",
    "import pandas as pd\n",
    "import json"
   ]
  },
  {
   "cell_type": "code",
   "execution_count": 2,
   "id": "8cfff932",
   "metadata": {},
   "outputs": [],
   "source": [
    "path = Service('C:\\chromedriver.exe')"
   ]
  },
  {
   "cell_type": "code",
   "execution_count": 3,
   "id": "f0196f97",
   "metadata": {},
   "outputs": [],
   "source": [
    "# set path for the driver\n",
    "browser = webdriver.Chrome(service = path)"
   ]
  },
  {
   "cell_type": "code",
   "execution_count": 4,
   "id": "5d05f7d3",
   "metadata": {},
   "outputs": [],
   "source": [
    "url = \"https://www.topuniversities.com/university-rankings/world-university-rankings/2023\""
   ]
  },
  {
   "cell_type": "code",
   "execution_count": 5,
   "id": "9dc0a3b0",
   "metadata": {},
   "outputs": [],
   "source": [
    "# open the page url ion chrome\n",
    "browser.get(url)\n"
   ]
  },
  {
   "cell_type": "code",
   "execution_count": 6,
   "id": "2252ef2d",
   "metadata": {},
   "outputs": [
    {
     "data": {
      "text/plain": [
       "[<selenium.webdriver.remote.webelement.WebElement (session=\"4e84c5de234c9f205cb0e0995792b4c2\", element=\"b97a1bca-d0cf-4ef8-9592-7640a12cc5bb\")>,\n",
       " <selenium.webdriver.remote.webelement.WebElement (session=\"4e84c5de234c9f205cb0e0995792b4c2\", element=\"8b78d2ba-c7ea-402c-9bfa-b2f24440f57e\")>,\n",
       " <selenium.webdriver.remote.webelement.WebElement (session=\"4e84c5de234c9f205cb0e0995792b4c2\", element=\"8d1624a2-aef5-4cdb-a044-6c16a7d34ce3\")>,\n",
       " <selenium.webdriver.remote.webelement.WebElement (session=\"4e84c5de234c9f205cb0e0995792b4c2\", element=\"6556ba9f-f175-460a-8faa-711dc05b97cc\")>,\n",
       " <selenium.webdriver.remote.webelement.WebElement (session=\"4e84c5de234c9f205cb0e0995792b4c2\", element=\"8b4695f6-8768-4c3c-996c-9dce04bbec84\")>,\n",
       " <selenium.webdriver.remote.webelement.WebElement (session=\"4e84c5de234c9f205cb0e0995792b4c2\", element=\"d591462d-d261-40fa-9589-8e57efcee681\")>,\n",
       " <selenium.webdriver.remote.webelement.WebElement (session=\"4e84c5de234c9f205cb0e0995792b4c2\", element=\"df066054-ac54-45b2-b40c-efbf51b3eff8\")>,\n",
       " <selenium.webdriver.remote.webelement.WebElement (session=\"4e84c5de234c9f205cb0e0995792b4c2\", element=\"1084f37f-58cd-4da6-a2fd-97b25da98f86\")>,\n",
       " <selenium.webdriver.remote.webelement.WebElement (session=\"4e84c5de234c9f205cb0e0995792b4c2\", element=\"3705dd91-89d8-491b-b079-ea48540d16f8\")>,\n",
       " <selenium.webdriver.remote.webelement.WebElement (session=\"4e84c5de234c9f205cb0e0995792b4c2\", element=\"d09bd322-57e0-4a1c-bce5-e09fe9e1af07\")>,\n",
       " <selenium.webdriver.remote.webelement.WebElement (session=\"4e84c5de234c9f205cb0e0995792b4c2\", element=\"c33ae905-9b17-4bb4-9172-193f89b34b9d\")>,\n",
       " <selenium.webdriver.remote.webelement.WebElement (session=\"4e84c5de234c9f205cb0e0995792b4c2\", element=\"cc13125d-2fc7-4a83-b62d-fb74dfde694a\")>,\n",
       " <selenium.webdriver.remote.webelement.WebElement (session=\"4e84c5de234c9f205cb0e0995792b4c2\", element=\"ea7ef7d0-823b-455a-9da5-6bfd113ae2c0\")>,\n",
       " <selenium.webdriver.remote.webelement.WebElement (session=\"4e84c5de234c9f205cb0e0995792b4c2\", element=\"1265010e-2a8a-4b43-a612-77b048823a62\")>,\n",
       " <selenium.webdriver.remote.webelement.WebElement (session=\"4e84c5de234c9f205cb0e0995792b4c2\", element=\"56214684-0448-43e3-b13f-df86f68f9d9c\")>,\n",
       " <selenium.webdriver.remote.webelement.WebElement (session=\"4e84c5de234c9f205cb0e0995792b4c2\", element=\"f913bd57-15b8-4499-9e9a-3f6ff2da7f1e\")>,\n",
       " <selenium.webdriver.remote.webelement.WebElement (session=\"4e84c5de234c9f205cb0e0995792b4c2\", element=\"6efad7c3-0ed6-4f09-a365-e9eb7ca4178a\")>,\n",
       " <selenium.webdriver.remote.webelement.WebElement (session=\"4e84c5de234c9f205cb0e0995792b4c2\", element=\"10a21a0e-5d0d-4fee-affe-1a3ee51b0058\")>,\n",
       " <selenium.webdriver.remote.webelement.WebElement (session=\"4e84c5de234c9f205cb0e0995792b4c2\", element=\"3b6faa65-b195-4054-98fb-0d332daae5d0\")>,\n",
       " <selenium.webdriver.remote.webelement.WebElement (session=\"4e84c5de234c9f205cb0e0995792b4c2\", element=\"c962d84e-18c4-43d6-a212-6d4dc2100d5a\")>]"
      ]
     },
     "execution_count": 6,
     "metadata": {},
     "output_type": "execute_result"
    }
   ],
   "source": [
    "line1=browser.find_elements(\"xpath\",\"//div[@class='location ']\")\n",
    "line1"
   ]
  },
  {
   "cell_type": "code",
   "execution_count": 7,
   "id": "e7755cd6",
   "metadata": {},
   "outputs": [
    {
     "data": {
      "text/plain": [
       "['Montreal, Canada',\n",
       " 'Evanston, United States',\n",
       " 'Parkville, Australia',\n",
       " 'Shanghai, China (Mainland)',\n",
       " 'Toronto, Canada',\n",
       " 'Kyoto, Japan',\n",
       " 'London, United Kingdom',\n",
       " 'Hong Kong SAR, Hong Kong SAR',\n",
       " 'New York City, United States',\n",
       " 'Hong Kong SAR, Hong Kong SAR']"
      ]
     },
     "execution_count": 7,
     "metadata": {},
     "output_type": "execute_result"
    }
   ],
   "source": [
    "address=[]\n",
    "for data in line1:\n",
    "    #get the text data\n",
    "    temp=data.text\n",
    "    address.append(temp)\n",
    "address=address[10:]\n",
    "address"
   ]
  },
  {
   "cell_type": "code",
   "execution_count": 8,
   "id": "808be728",
   "metadata": {},
   "outputs": [
    {
     "data": {
      "text/plain": [
       "[<selenium.webdriver.remote.webelement.WebElement (session=\"4e84c5de234c9f205cb0e0995792b4c2\", element=\"174f4abc-4515-44dd-9628-a332a8cb1647\")>,\n",
       " <selenium.webdriver.remote.webelement.WebElement (session=\"4e84c5de234c9f205cb0e0995792b4c2\", element=\"dfc1fedc-5e19-49b5-b9b5-be8eb5c8603a\")>,\n",
       " <selenium.webdriver.remote.webelement.WebElement (session=\"4e84c5de234c9f205cb0e0995792b4c2\", element=\"af1c598c-c683-46da-9159-b5e47c5b7c85\")>,\n",
       " <selenium.webdriver.remote.webelement.WebElement (session=\"4e84c5de234c9f205cb0e0995792b4c2\", element=\"2b30a306-56ed-4afb-a076-0a13431ab81f\")>,\n",
       " <selenium.webdriver.remote.webelement.WebElement (session=\"4e84c5de234c9f205cb0e0995792b4c2\", element=\"2bd15cd4-220f-4d82-b745-d9fe61b2f1df\")>,\n",
       " <selenium.webdriver.remote.webelement.WebElement (session=\"4e84c5de234c9f205cb0e0995792b4c2\", element=\"3e8dbb13-c0b6-4810-a2a7-f92656d4d15a\")>,\n",
       " <selenium.webdriver.remote.webelement.WebElement (session=\"4e84c5de234c9f205cb0e0995792b4c2\", element=\"84f3e252-72bd-43b6-9a8f-f9321e1ac03e\")>,\n",
       " <selenium.webdriver.remote.webelement.WebElement (session=\"4e84c5de234c9f205cb0e0995792b4c2\", element=\"53da485e-a1ce-4f84-8b8d-be6ba3662cab\")>,\n",
       " <selenium.webdriver.remote.webelement.WebElement (session=\"4e84c5de234c9f205cb0e0995792b4c2\", element=\"149fd3cb-a295-4902-b5cb-454aef8e5ec1\")>,\n",
       " <selenium.webdriver.remote.webelement.WebElement (session=\"4e84c5de234c9f205cb0e0995792b4c2\", element=\"71c6a9ec-7849-4f34-af49-7d9970fe94fd\")>]"
      ]
     },
     "execution_count": 8,
     "metadata": {},
     "output_type": "execute_result"
    }
   ],
   "source": [
    "line2=browser.find_elements(\"xpath\",\"//div[@class='_univ-rank ']\")\n",
    "line2"
   ]
  },
  {
   "cell_type": "code",
   "execution_count": 9,
   "id": "3b278ebc",
   "metadata": {},
   "outputs": [
    {
     "data": {
      "text/plain": [
       "['31', '32', '33', '=34', '=34', '36', '37', '38', '39', '40']"
      ]
     },
     "execution_count": 9,
     "metadata": {},
     "output_type": "execute_result"
    }
   ],
   "source": [
    "Rank=[]\n",
    "for data in line2:\n",
    "    #get the text data\n",
    "    temp=data.text\n",
    "    Rank.append(temp)\n",
    "Rank"
   ]
  },
  {
   "cell_type": "code",
   "execution_count": 10,
   "id": "6a3cffd8",
   "metadata": {},
   "outputs": [
    {
     "data": {
      "text/plain": [
       "[<selenium.webdriver.remote.webelement.WebElement (session=\"4e84c5de234c9f205cb0e0995792b4c2\", element=\"29c0726c-9623-4374-b958-285abd68f009\")>,\n",
       " <selenium.webdriver.remote.webelement.WebElement (session=\"4e84c5de234c9f205cb0e0995792b4c2\", element=\"3cca7f05-837f-4efe-b4ba-3cd870b79ace\")>,\n",
       " <selenium.webdriver.remote.webelement.WebElement (session=\"4e84c5de234c9f205cb0e0995792b4c2\", element=\"34911014-a22f-4fdb-9f45-1bba631b94d6\")>,\n",
       " <selenium.webdriver.remote.webelement.WebElement (session=\"4e84c5de234c9f205cb0e0995792b4c2\", element=\"37a55fc4-d0f4-4da6-b3ed-fc1c94659c00\")>,\n",
       " <selenium.webdriver.remote.webelement.WebElement (session=\"4e84c5de234c9f205cb0e0995792b4c2\", element=\"d6f7a831-ff6f-474f-b0cf-cfb81f36ec4c\")>,\n",
       " <selenium.webdriver.remote.webelement.WebElement (session=\"4e84c5de234c9f205cb0e0995792b4c2\", element=\"ebfd6eca-200e-4a8b-971d-a33f9889b845\")>,\n",
       " <selenium.webdriver.remote.webelement.WebElement (session=\"4e84c5de234c9f205cb0e0995792b4c2\", element=\"5aa0e7c4-b5da-4bb4-aa05-2bae874b91ed\")>,\n",
       " <selenium.webdriver.remote.webelement.WebElement (session=\"4e84c5de234c9f205cb0e0995792b4c2\", element=\"47bb5e87-de0d-4767-bf89-57e5d6fbc6f5\")>,\n",
       " <selenium.webdriver.remote.webelement.WebElement (session=\"4e84c5de234c9f205cb0e0995792b4c2\", element=\"06858666-ce1c-4a03-86d3-7f8d7b521015\")>]"
      ]
     },
     "execution_count": 10,
     "metadata": {},
     "output_type": "execute_result"
    }
   ],
   "source": [
    "# GET EACH COLLEGE SPECIFICATION HEADERS\n",
    "line3=browser.find_elements(\"xpath\",\"//div[@class='_click-function_ind']\")\n",
    "line3"
   ]
  },
  {
   "cell_type": "code",
   "execution_count": 11,
   "id": "09dddda1",
   "metadata": {},
   "outputs": [
    {
     "data": {
      "text/plain": [
       "['Overall Score',\n",
       " 'Academic Reputation',\n",
       " 'Employer Reputation',\n",
       " 'Citations per Faculty',\n",
       " 'Faculty Student Ratio',\n",
       " 'International Students Ratio',\n",
       " 'International Faculty Ratio',\n",
       " 'International Research Network\\nUnweighted',\n",
       " 'Employment Outcomes\\nUnweighted']"
      ]
     },
     "execution_count": 11,
     "metadata": {},
     "output_type": "execute_result"
    }
   ],
   "source": [
    "#PARSING DATA\n",
    "column=[]\n",
    "for data in line3:\n",
    "    #get the text data\n",
    "    temp=data.text\n",
    "    column.append(temp)\n",
    "column"
   ]
  },
  {
   "cell_type": "code",
   "execution_count": 12,
   "id": "fe20d7dc",
   "metadata": {},
   "outputs": [
    {
     "data": {
      "text/plain": [
       "[<selenium.webdriver.remote.webelement.WebElement (session=\"4e84c5de234c9f205cb0e0995792b4c2\", element=\"f7f0a5c1-0892-4089-98df-74d32edb020f\")>,\n",
       " <selenium.webdriver.remote.webelement.WebElement (session=\"4e84c5de234c9f205cb0e0995792b4c2\", element=\"dc4d65ce-09ba-4d74-8ae6-472c612d3f11\")>,\n",
       " <selenium.webdriver.remote.webelement.WebElement (session=\"4e84c5de234c9f205cb0e0995792b4c2\", element=\"999dfb90-97c9-4a65-8d8b-e5ac1c3fa3f4\")>,\n",
       " <selenium.webdriver.remote.webelement.WebElement (session=\"4e84c5de234c9f205cb0e0995792b4c2\", element=\"a3aa5cad-32f9-4eab-9ca1-da3b299c461c\")>,\n",
       " <selenium.webdriver.remote.webelement.WebElement (session=\"4e84c5de234c9f205cb0e0995792b4c2\", element=\"40d9e0ff-269c-4a66-956b-855a53e728ef\")>,\n",
       " <selenium.webdriver.remote.webelement.WebElement (session=\"4e84c5de234c9f205cb0e0995792b4c2\", element=\"6c5b6ce5-1536-40d0-a150-9dddeefc3b1f\")>,\n",
       " <selenium.webdriver.remote.webelement.WebElement (session=\"4e84c5de234c9f205cb0e0995792b4c2\", element=\"d1234910-621e-4d28-a9b5-4166a158c52b\")>,\n",
       " <selenium.webdriver.remote.webelement.WebElement (session=\"4e84c5de234c9f205cb0e0995792b4c2\", element=\"ea868026-675c-44fc-91e1-01cacfbab030\")>,\n",
       " <selenium.webdriver.remote.webelement.WebElement (session=\"4e84c5de234c9f205cb0e0995792b4c2\", element=\"e48dcbf0-48f7-4c4d-bc74-4ffa7d8b92de\")>,\n",
       " <selenium.webdriver.remote.webelement.WebElement (session=\"4e84c5de234c9f205cb0e0995792b4c2\", element=\"67beba99-f219-4c5f-a85a-1c81b1a65085\")>,\n",
       " <selenium.webdriver.remote.webelement.WebElement (session=\"4e84c5de234c9f205cb0e0995792b4c2\", element=\"58dc73a5-d4d5-4467-8ccc-40d9f28b10f6\")>,\n",
       " <selenium.webdriver.remote.webelement.WebElement (session=\"4e84c5de234c9f205cb0e0995792b4c2\", element=\"f9b9927d-215d-4dc5-9c4c-6462f64c65fd\")>,\n",
       " <selenium.webdriver.remote.webelement.WebElement (session=\"4e84c5de234c9f205cb0e0995792b4c2\", element=\"4e6eb7f4-df2f-4cb2-bf46-ff4de60c9fcb\")>,\n",
       " <selenium.webdriver.remote.webelement.WebElement (session=\"4e84c5de234c9f205cb0e0995792b4c2\", element=\"630609ce-7958-41e0-b0b5-6a294a664b79\")>,\n",
       " <selenium.webdriver.remote.webelement.WebElement (session=\"4e84c5de234c9f205cb0e0995792b4c2\", element=\"22c7f83e-154d-4c16-b223-0d7964c90b7a\")>,\n",
       " <selenium.webdriver.remote.webelement.WebElement (session=\"4e84c5de234c9f205cb0e0995792b4c2\", element=\"d7006ac6-6f06-418e-9221-9479e2b51383\")>,\n",
       " <selenium.webdriver.remote.webelement.WebElement (session=\"4e84c5de234c9f205cb0e0995792b4c2\", element=\"7f59b212-d35e-456c-a8b5-73a795fb4c6a\")>,\n",
       " <selenium.webdriver.remote.webelement.WebElement (session=\"4e84c5de234c9f205cb0e0995792b4c2\", element=\"62b55593-7662-40fe-97b3-b4c4756d9ba7\")>,\n",
       " <selenium.webdriver.remote.webelement.WebElement (session=\"4e84c5de234c9f205cb0e0995792b4c2\", element=\"29caf8b0-74cb-4a39-a6f3-54d80b6e2087\")>,\n",
       " <selenium.webdriver.remote.webelement.WebElement (session=\"4e84c5de234c9f205cb0e0995792b4c2\", element=\"0ff2004d-deb0-4615-b30b-3d3ab4dda83f\")>,\n",
       " <selenium.webdriver.remote.webelement.WebElement (session=\"4e84c5de234c9f205cb0e0995792b4c2\", element=\"2f24efc1-df52-4a07-8d20-879f0431b437\")>,\n",
       " <selenium.webdriver.remote.webelement.WebElement (session=\"4e84c5de234c9f205cb0e0995792b4c2\", element=\"732f045c-79e1-4310-9886-b68d67a8e8c2\")>,\n",
       " <selenium.webdriver.remote.webelement.WebElement (session=\"4e84c5de234c9f205cb0e0995792b4c2\", element=\"7998e236-cacc-46ab-951a-2acb66b9861d\")>,\n",
       " <selenium.webdriver.remote.webelement.WebElement (session=\"4e84c5de234c9f205cb0e0995792b4c2\", element=\"cd42b0b7-ca9e-4dde-9669-6b049f4d0506\")>,\n",
       " <selenium.webdriver.remote.webelement.WebElement (session=\"4e84c5de234c9f205cb0e0995792b4c2\", element=\"b8fce281-af15-4a9b-9d0e-46dc8557c1b8\")>,\n",
       " <selenium.webdriver.remote.webelement.WebElement (session=\"4e84c5de234c9f205cb0e0995792b4c2\", element=\"25d6c2ef-1e08-4f73-a968-c07736e0d68f\")>,\n",
       " <selenium.webdriver.remote.webelement.WebElement (session=\"4e84c5de234c9f205cb0e0995792b4c2\", element=\"4843dc56-5bc4-44af-b138-5c834de4a71b\")>,\n",
       " <selenium.webdriver.remote.webelement.WebElement (session=\"4e84c5de234c9f205cb0e0995792b4c2\", element=\"4d701a5f-efa7-429b-a861-0127ec5f5003\")>,\n",
       " <selenium.webdriver.remote.webelement.WebElement (session=\"4e84c5de234c9f205cb0e0995792b4c2\", element=\"f58da70c-d966-48b8-a956-40dda66f1589\")>,\n",
       " <selenium.webdriver.remote.webelement.WebElement (session=\"4e84c5de234c9f205cb0e0995792b4c2\", element=\"420d740a-6280-49cd-9d74-9b7ba428950e\")>,\n",
       " <selenium.webdriver.remote.webelement.WebElement (session=\"4e84c5de234c9f205cb0e0995792b4c2\", element=\"41f74d0c-aeca-4637-81d9-b01f3e9ebf11\")>,\n",
       " <selenium.webdriver.remote.webelement.WebElement (session=\"4e84c5de234c9f205cb0e0995792b4c2\", element=\"02c66824-f537-46c8-9bf2-b3f975e01d3a\")>,\n",
       " <selenium.webdriver.remote.webelement.WebElement (session=\"4e84c5de234c9f205cb0e0995792b4c2\", element=\"6f12caa2-2a8a-40a5-af8d-96a1b3410033\")>,\n",
       " <selenium.webdriver.remote.webelement.WebElement (session=\"4e84c5de234c9f205cb0e0995792b4c2\", element=\"a8fca3b9-99c4-45cf-8fea-43cddbca6164\")>,\n",
       " <selenium.webdriver.remote.webelement.WebElement (session=\"4e84c5de234c9f205cb0e0995792b4c2\", element=\"80036cef-e95e-463b-bbde-421496a0f998\")>,\n",
       " <selenium.webdriver.remote.webelement.WebElement (session=\"4e84c5de234c9f205cb0e0995792b4c2\", element=\"001986c2-8c6e-47c0-9975-d276bc70332d\")>,\n",
       " <selenium.webdriver.remote.webelement.WebElement (session=\"4e84c5de234c9f205cb0e0995792b4c2\", element=\"ea083a85-3526-4e2e-b620-c463dc1ce96b\")>,\n",
       " <selenium.webdriver.remote.webelement.WebElement (session=\"4e84c5de234c9f205cb0e0995792b4c2\", element=\"d9eba5ad-4b9d-47cd-aa42-f766d47e262c\")>,\n",
       " <selenium.webdriver.remote.webelement.WebElement (session=\"4e84c5de234c9f205cb0e0995792b4c2\", element=\"efb4ca6d-9d88-49e7-aa9c-d1f38766a5ee\")>,\n",
       " <selenium.webdriver.remote.webelement.WebElement (session=\"4e84c5de234c9f205cb0e0995792b4c2\", element=\"2ae6cfdc-f2e3-4bda-a4c7-83884479ead8\")>,\n",
       " <selenium.webdriver.remote.webelement.WebElement (session=\"4e84c5de234c9f205cb0e0995792b4c2\", element=\"c06dceaf-88b5-4ad0-a776-0acf2aac2da7\")>,\n",
       " <selenium.webdriver.remote.webelement.WebElement (session=\"4e84c5de234c9f205cb0e0995792b4c2\", element=\"1fe04c78-9fb6-4f0e-b3fc-1ee37a760330\")>,\n",
       " <selenium.webdriver.remote.webelement.WebElement (session=\"4e84c5de234c9f205cb0e0995792b4c2\", element=\"0fb9ad2c-2093-4517-88f9-ea8ea56c63e8\")>,\n",
       " <selenium.webdriver.remote.webelement.WebElement (session=\"4e84c5de234c9f205cb0e0995792b4c2\", element=\"8359adeb-f40d-4612-bb24-c75a81d52182\")>,\n",
       " <selenium.webdriver.remote.webelement.WebElement (session=\"4e84c5de234c9f205cb0e0995792b4c2\", element=\"ab6eb669-f939-4fc3-8e13-51fd8de9285d\")>,\n",
       " <selenium.webdriver.remote.webelement.WebElement (session=\"4e84c5de234c9f205cb0e0995792b4c2\", element=\"21ba3c03-da71-47d6-af1c-bb2087e49aef\")>,\n",
       " <selenium.webdriver.remote.webelement.WebElement (session=\"4e84c5de234c9f205cb0e0995792b4c2\", element=\"53cbc4ba-eee0-4ff6-974e-b12739c5177f\")>,\n",
       " <selenium.webdriver.remote.webelement.WebElement (session=\"4e84c5de234c9f205cb0e0995792b4c2\", element=\"3289c84f-97f7-4f29-a916-b66032a025ff\")>,\n",
       " <selenium.webdriver.remote.webelement.WebElement (session=\"4e84c5de234c9f205cb0e0995792b4c2\", element=\"73be5903-d14b-4ec6-b63d-a9ef210bff0c\")>,\n",
       " <selenium.webdriver.remote.webelement.WebElement (session=\"4e84c5de234c9f205cb0e0995792b4c2\", element=\"84de0a0d-3219-4a55-bd31-0860903e10a8\")>,\n",
       " <selenium.webdriver.remote.webelement.WebElement (session=\"4e84c5de234c9f205cb0e0995792b4c2\", element=\"586e0daf-47eb-40ca-9a7b-7da34ba23d50\")>,\n",
       " <selenium.webdriver.remote.webelement.WebElement (session=\"4e84c5de234c9f205cb0e0995792b4c2\", element=\"fabb5206-210c-4cca-9902-db9c33596294\")>,\n",
       " <selenium.webdriver.remote.webelement.WebElement (session=\"4e84c5de234c9f205cb0e0995792b4c2\", element=\"b4f67870-7c22-471f-925c-141d1cfb51ec\")>,\n",
       " <selenium.webdriver.remote.webelement.WebElement (session=\"4e84c5de234c9f205cb0e0995792b4c2\", element=\"5598bc9b-75f6-4b2e-b799-318a27940883\")>,\n",
       " <selenium.webdriver.remote.webelement.WebElement (session=\"4e84c5de234c9f205cb0e0995792b4c2\", element=\"6f2e6f7b-7306-4729-88d6-896744b85492\")>,\n",
       " <selenium.webdriver.remote.webelement.WebElement (session=\"4e84c5de234c9f205cb0e0995792b4c2\", element=\"aefd10fc-007e-4a67-8a8b-16f1fd536b92\")>,\n",
       " <selenium.webdriver.remote.webelement.WebElement (session=\"4e84c5de234c9f205cb0e0995792b4c2\", element=\"2a194052-0ca2-4c7c-b8b8-0123ff009f2c\")>,\n",
       " <selenium.webdriver.remote.webelement.WebElement (session=\"4e84c5de234c9f205cb0e0995792b4c2\", element=\"225af89f-0ba2-4fe0-aa5d-aefd569b188b\")>,\n",
       " <selenium.webdriver.remote.webelement.WebElement (session=\"4e84c5de234c9f205cb0e0995792b4c2\", element=\"7fcff4d9-5edf-41db-82ad-352980ca153c\")>,\n",
       " <selenium.webdriver.remote.webelement.WebElement (session=\"4e84c5de234c9f205cb0e0995792b4c2\", element=\"3fed8ce8-d472-4b79-93b9-4aabb6221525\")>,\n",
       " <selenium.webdriver.remote.webelement.WebElement (session=\"4e84c5de234c9f205cb0e0995792b4c2\", element=\"1f39d016-6dce-425e-9a5b-5433518ba6b3\")>,\n",
       " <selenium.webdriver.remote.webelement.WebElement (session=\"4e84c5de234c9f205cb0e0995792b4c2\", element=\"ddb33c13-34e8-42b9-ad75-e7d2a94fb712\")>,\n",
       " <selenium.webdriver.remote.webelement.WebElement (session=\"4e84c5de234c9f205cb0e0995792b4c2\", element=\"010d7de9-9aa6-49e7-9191-1e2d0882650c\")>,\n",
       " <selenium.webdriver.remote.webelement.WebElement (session=\"4e84c5de234c9f205cb0e0995792b4c2\", element=\"e50126d6-9a73-44e3-890f-f204e1859fe7\")>,\n",
       " <selenium.webdriver.remote.webelement.WebElement (session=\"4e84c5de234c9f205cb0e0995792b4c2\", element=\"6a7e88d4-06f1-4540-87af-8da642891e64\")>,\n",
       " <selenium.webdriver.remote.webelement.WebElement (session=\"4e84c5de234c9f205cb0e0995792b4c2\", element=\"7ebab1d6-7b3a-4185-9a84-be29e553cdb5\")>,\n",
       " <selenium.webdriver.remote.webelement.WebElement (session=\"4e84c5de234c9f205cb0e0995792b4c2\", element=\"ed24078a-7a28-481b-975f-86d756e23665\")>,\n",
       " <selenium.webdriver.remote.webelement.WebElement (session=\"4e84c5de234c9f205cb0e0995792b4c2\", element=\"11cc64dc-a11f-40ab-b4e1-0b24c698cfae\")>,\n",
       " <selenium.webdriver.remote.webelement.WebElement (session=\"4e84c5de234c9f205cb0e0995792b4c2\", element=\"c36aaf93-53d3-499e-abe5-cdac654a8139\")>,\n",
       " <selenium.webdriver.remote.webelement.WebElement (session=\"4e84c5de234c9f205cb0e0995792b4c2\", element=\"50c9a305-1bab-4c7f-9874-6f9bf978ac22\")>,\n",
       " <selenium.webdriver.remote.webelement.WebElement (session=\"4e84c5de234c9f205cb0e0995792b4c2\", element=\"033565f2-bbed-47e3-9aef-e3ff2e542c64\")>,\n",
       " <selenium.webdriver.remote.webelement.WebElement (session=\"4e84c5de234c9f205cb0e0995792b4c2\", element=\"a05f749c-9ee7-4154-9297-3c4dd5c400ab\")>,\n",
       " <selenium.webdriver.remote.webelement.WebElement (session=\"4e84c5de234c9f205cb0e0995792b4c2\", element=\"d42f947b-11e6-43f4-944e-37e5e5bf6fc3\")>,\n",
       " <selenium.webdriver.remote.webelement.WebElement (session=\"4e84c5de234c9f205cb0e0995792b4c2\", element=\"35e523c9-da06-4515-ab7f-12975bb329f6\")>,\n",
       " <selenium.webdriver.remote.webelement.WebElement (session=\"4e84c5de234c9f205cb0e0995792b4c2\", element=\"be512205-1e3c-413f-8279-c9600a2c0375\")>,\n",
       " <selenium.webdriver.remote.webelement.WebElement (session=\"4e84c5de234c9f205cb0e0995792b4c2\", element=\"7f1fad8c-9b61-466f-a756-ea1cbf703647\")>,\n",
       " <selenium.webdriver.remote.webelement.WebElement (session=\"4e84c5de234c9f205cb0e0995792b4c2\", element=\"20703d8d-0f03-435b-a3cf-803876c424e6\")>,\n",
       " <selenium.webdriver.remote.webelement.WebElement (session=\"4e84c5de234c9f205cb0e0995792b4c2\", element=\"d4895eac-9dba-4437-b0cf-5cb56aa40d41\")>,\n",
       " <selenium.webdriver.remote.webelement.WebElement (session=\"4e84c5de234c9f205cb0e0995792b4c2\", element=\"4a485824-1f40-426d-83b9-68138eb8d57e\")>,\n",
       " <selenium.webdriver.remote.webelement.WebElement (session=\"4e84c5de234c9f205cb0e0995792b4c2\", element=\"8bb94b74-55f6-475a-8e00-8a8eaaede24e\")>,\n",
       " <selenium.webdriver.remote.webelement.WebElement (session=\"4e84c5de234c9f205cb0e0995792b4c2\", element=\"b07691bd-5ada-4394-8c42-1a0acc6bae85\")>,\n",
       " <selenium.webdriver.remote.webelement.WebElement (session=\"4e84c5de234c9f205cb0e0995792b4c2\", element=\"bfd04c8f-15ee-46ea-9c0c-97865216ccfb\")>,\n",
       " <selenium.webdriver.remote.webelement.WebElement (session=\"4e84c5de234c9f205cb0e0995792b4c2\", element=\"372aa40c-d544-4793-a499-05eaa64720a2\")>,\n",
       " <selenium.webdriver.remote.webelement.WebElement (session=\"4e84c5de234c9f205cb0e0995792b4c2\", element=\"98c21fdb-e64f-4d41-8772-1d7a0a789163\")>,\n",
       " <selenium.webdriver.remote.webelement.WebElement (session=\"4e84c5de234c9f205cb0e0995792b4c2\", element=\"b9654e24-38c7-4387-8116-aef800e128f1\")>,\n",
       " <selenium.webdriver.remote.webelement.WebElement (session=\"4e84c5de234c9f205cb0e0995792b4c2\", element=\"5fee3b6a-e6f2-4997-b8b1-3d8853ff7f4d\")>,\n",
       " <selenium.webdriver.remote.webelement.WebElement (session=\"4e84c5de234c9f205cb0e0995792b4c2\", element=\"cb1fdfd3-deb5-4553-bc4d-a4dcf5b2b6ba\")>,\n",
       " <selenium.webdriver.remote.webelement.WebElement (session=\"4e84c5de234c9f205cb0e0995792b4c2\", element=\"fe7b9679-5994-463a-ba6c-0785d1701462\")>,\n",
       " <selenium.webdriver.remote.webelement.WebElement (session=\"4e84c5de234c9f205cb0e0995792b4c2\", element=\"590cf17e-e90a-494e-a833-3c222b48d4dd\")>,\n",
       " <selenium.webdriver.remote.webelement.WebElement (session=\"4e84c5de234c9f205cb0e0995792b4c2\", element=\"84af1bc5-144f-4cdd-a1fd-2e70493e7f50\")>,\n",
       " <selenium.webdriver.remote.webelement.WebElement (session=\"4e84c5de234c9f205cb0e0995792b4c2\", element=\"2b96dbd2-19a5-4564-9c82-c340b30788fe\")>,\n",
       " <selenium.webdriver.remote.webelement.WebElement (session=\"4e84c5de234c9f205cb0e0995792b4c2\", element=\"8e8f5b58-8705-449e-9f51-505be10fafc8\")>,\n",
       " <selenium.webdriver.remote.webelement.WebElement (session=\"4e84c5de234c9f205cb0e0995792b4c2\", element=\"1d303e12-92fc-4894-b6c3-8f13b71aad0b\")>,\n",
       " <selenium.webdriver.remote.webelement.WebElement (session=\"4e84c5de234c9f205cb0e0995792b4c2\", element=\"34cabd26-ef9b-4664-b18b-fec18525a93a\")>,\n",
       " <selenium.webdriver.remote.webelement.WebElement (session=\"4e84c5de234c9f205cb0e0995792b4c2\", element=\"8a59a72c-3951-4440-b3c9-d1178664d287\")>,\n",
       " <selenium.webdriver.remote.webelement.WebElement (session=\"4e84c5de234c9f205cb0e0995792b4c2\", element=\"d261f102-93e1-4bf2-85dc-e43f1ca1ed61\")>,\n",
       " <selenium.webdriver.remote.webelement.WebElement (session=\"4e84c5de234c9f205cb0e0995792b4c2\", element=\"b3cd89a1-5d96-4c7d-8969-565cc03caf33\")>,\n",
       " <selenium.webdriver.remote.webelement.WebElement (session=\"4e84c5de234c9f205cb0e0995792b4c2\", element=\"211177de-4eb7-4847-9527-1bffa759945e\")>,\n",
       " <selenium.webdriver.remote.webelement.WebElement (session=\"4e84c5de234c9f205cb0e0995792b4c2\", element=\"d6f69959-e275-4c79-a587-558af3b7a3b7\")>,\n",
       " <selenium.webdriver.remote.webelement.WebElement (session=\"4e84c5de234c9f205cb0e0995792b4c2\", element=\"6a58aa0e-8fc2-4248-856c-2541a34879bf\")>]"
      ]
     },
     "execution_count": 12,
     "metadata": {},
     "output_type": "execute_result"
    }
   ],
   "source": [
    "line4=browser.find_elements(\"xpath\",\"//div[@class='td-wrap-in']\")\n",
    "line4"
   ]
  },
  {
   "cell_type": "code",
   "execution_count": 14,
   "id": "983215b6",
   "metadata": {},
   "outputs": [
    {
     "data": {
      "text/plain": [
       "['80.6', '87.3', '49.6', '92.9', '60.9', '90.5', '100', '74.9', '79.4']"
      ]
     },
     "execution_count": 14,
     "metadata": {},
     "output_type": "execute_result"
    }
   ],
   "source": [
    "#PARSING DATA\n",
    "value=[]\n",
    "for data in line4:\n",
    "    #get the text data\n",
    "    temp=data.text\n",
    "    value.append(temp)\n",
    "value_h=value[71:80]\n",
    "value_h"
   ]
  },
  {
   "cell_type": "code",
   "execution_count": 16,
   "id": "52c3343c",
   "metadata": {},
   "outputs": [
    {
     "data": {
      "text/plain": [
       "{'Name': 'The Chinese University of Hong Kong (CUHK)',\n",
       " 'Location': 'Hong Kong SAR, Hong Kong SAR',\n",
       " 'Rank': '38',\n",
       " 'Overall Score': '80.6',\n",
       " 'Academic Reputation': '87.3',\n",
       " 'Employer Reputation': '49.6',\n",
       " 'Citations per Faculty': '92.9',\n",
       " 'Faculty Student Ratio': '60.9',\n",
       " 'International Students Ratio': '90.5',\n",
       " 'International Faculty Ratio': '100',\n",
       " 'International Research Network\\nUnweighted': '74.9',\n",
       " 'Employment Outcomes\\nUnweighted': '79.4'}"
      ]
     },
     "execution_count": 16,
     "metadata": {},
     "output_type": "execute_result"
    }
   ],
   "source": [
    "d={}\n",
    "d['Name']=value[70]\n",
    "d['Location']=address[7]\n",
    "d['Rank']=Rank[7]\n",
    "for i in range(len(column)):\n",
    "    d[column[i]]=value_h[i]\n",
    "d"
   ]
  },
  {
   "cell_type": "code",
   "execution_count": 17,
   "id": "86f87c40",
   "metadata": {},
   "outputs": [
    {
     "data": {
      "text/plain": [
       "'{\"Name\": \"The Chinese University of Hong Kong (CUHK)\", \"Location\": \"Hong Kong SAR, Hong Kong SAR\", \"Rank\": \"38\", \"Overall Score\": \"80.6\", \"Academic Reputation\": \"87.3\", \"Employer Reputation\": \"49.6\", \"Citations per Faculty\": \"92.9\", \"Faculty Student Ratio\": \"60.9\", \"International Students Ratio\": \"90.5\", \"International Faculty Ratio\": \"100\", \"International Research Network\\\\nUnweighted\": \"74.9\", \"Employment Outcomes\\\\nUnweighted\": \"79.4\"}'"
      ]
     },
     "execution_count": 17,
     "metadata": {},
     "output_type": "execute_result"
    }
   ],
   "source": [
    "s1=json.dumps(d)\n",
    "s1"
   ]
  },
  {
   "cell_type": "code",
   "execution_count": 18,
   "id": "4e8f201e",
   "metadata": {},
   "outputs": [],
   "source": [
    "with open('The Chinese University of Hong Kong (CUHK).json','w') as f:\n",
    "    json.dump(d,f)\n"
   ]
  },
  {
   "cell_type": "code",
   "execution_count": null,
   "id": "742f74c8",
   "metadata": {},
   "outputs": [],
   "source": []
  },
  {
   "cell_type": "code",
   "execution_count": null,
   "id": "2d37dfc8",
   "metadata": {},
   "outputs": [],
   "source": []
  }
 ],
 "metadata": {
  "kernelspec": {
   "display_name": "Python 3.9.12 ('base')",
   "language": "python",
   "name": "python3"
  },
  "language_info": {
   "codemirror_mode": {
    "name": "ipython",
    "version": 3
   },
   "file_extension": ".py",
   "mimetype": "text/x-python",
   "name": "python",
   "nbconvert_exporter": "python",
   "pygments_lexer": "ipython3",
   "version": "3.9.12"
  },
  "vscode": {
   "interpreter": {
    "hash": "ad2bdc8ecc057115af97d19610ffacc2b4e99fae6737bb82f5d7fb13d2f2c186"
   }
  }
 },
 "nbformat": 4,
 "nbformat_minor": 5
}
