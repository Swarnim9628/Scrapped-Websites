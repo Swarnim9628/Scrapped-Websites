{
 "cells": [
  {
   "cell_type": "code",
   "execution_count": 6,
   "id": "5d595331",
   "metadata": {},
   "outputs": [],
   "source": [
    "from selenium import webdriver\n",
    "from selenium.webdriver.chrome.service import Service\n",
    "import pandas as pd\n",
    "import json"
   ]
  },
  {
   "cell_type": "code",
   "execution_count": 7,
   "id": "a920a00f",
   "metadata": {},
   "outputs": [],
   "source": [
    "path = Service('C:\\chromedriver.exe')"
   ]
  },
  {
   "cell_type": "code",
   "execution_count": 8,
   "id": "54d71531",
   "metadata": {},
   "outputs": [],
   "source": [
    "# set path for the driver\n",
    "browser = webdriver.Chrome(service = path)\n"
   ]
  },
  {
   "cell_type": "code",
   "execution_count": 9,
   "id": "630e53fe",
   "metadata": {},
   "outputs": [],
   "source": [
    "url = \"https://www.topuniversities.com/university-rankings/world-university-rankings/2023\""
   ]
  },
  {
   "cell_type": "code",
   "execution_count": 10,
   "id": "a1caac02",
   "metadata": {},
   "outputs": [],
   "source": [
    "\n",
    "# open the page url ion chrome\n",
    "browser.get(url)"
   ]
  },
  {
   "cell_type": "code",
   "execution_count": 11,
   "id": "e50028e0",
   "metadata": {},
   "outputs": [
    {
     "data": {
      "text/plain": [
       "[<selenium.webdriver.remote.webelement.WebElement (session=\"0f7b4e04c2edbbd0ef91bfded1efb600\", element=\"599227b6-e675-4be6-9afc-013fc7faed05\")>,\n",
       " <selenium.webdriver.remote.webelement.WebElement (session=\"0f7b4e04c2edbbd0ef91bfded1efb600\", element=\"0b649aee-f6a1-4565-b746-55d5c7f8e856\")>,\n",
       " <selenium.webdriver.remote.webelement.WebElement (session=\"0f7b4e04c2edbbd0ef91bfded1efb600\", element=\"d8df9460-ef07-4fe1-82f6-ba32dae77df6\")>,\n",
       " <selenium.webdriver.remote.webelement.WebElement (session=\"0f7b4e04c2edbbd0ef91bfded1efb600\", element=\"5a598abf-4b12-406f-9e9b-59ebb05b6c67\")>,\n",
       " <selenium.webdriver.remote.webelement.WebElement (session=\"0f7b4e04c2edbbd0ef91bfded1efb600\", element=\"53c52575-be19-4a6c-a89e-798fdcdc18c1\")>,\n",
       " <selenium.webdriver.remote.webelement.WebElement (session=\"0f7b4e04c2edbbd0ef91bfded1efb600\", element=\"574edcfd-28ab-435e-931e-7359f0cdedea\")>,\n",
       " <selenium.webdriver.remote.webelement.WebElement (session=\"0f7b4e04c2edbbd0ef91bfded1efb600\", element=\"7095036c-cdf1-40d9-9fa1-99bb522c2676\")>,\n",
       " <selenium.webdriver.remote.webelement.WebElement (session=\"0f7b4e04c2edbbd0ef91bfded1efb600\", element=\"ad6293d7-0936-4293-810b-f310ba1f7dc0\")>,\n",
       " <selenium.webdriver.remote.webelement.WebElement (session=\"0f7b4e04c2edbbd0ef91bfded1efb600\", element=\"cf62c20f-88d3-4b88-a983-030b8fd47fe7\")>,\n",
       " <selenium.webdriver.remote.webelement.WebElement (session=\"0f7b4e04c2edbbd0ef91bfded1efb600\", element=\"edf8c7c2-d4ca-44cb-a1b7-94e4605f4067\")>,\n",
       " <selenium.webdriver.remote.webelement.WebElement (session=\"0f7b4e04c2edbbd0ef91bfded1efb600\", element=\"30e77520-f0d0-4ad7-84b3-70e40161236f\")>,\n",
       " <selenium.webdriver.remote.webelement.WebElement (session=\"0f7b4e04c2edbbd0ef91bfded1efb600\", element=\"d5132975-6486-41cf-80d4-cdaf2e9ce6ce\")>,\n",
       " <selenium.webdriver.remote.webelement.WebElement (session=\"0f7b4e04c2edbbd0ef91bfded1efb600\", element=\"0132c7ab-302d-427a-9a37-023e24104407\")>,\n",
       " <selenium.webdriver.remote.webelement.WebElement (session=\"0f7b4e04c2edbbd0ef91bfded1efb600\", element=\"baccb8d5-898d-4629-8427-9bb252886504\")>,\n",
       " <selenium.webdriver.remote.webelement.WebElement (session=\"0f7b4e04c2edbbd0ef91bfded1efb600\", element=\"78310225-d6bf-4306-abed-6f038b9991d9\")>,\n",
       " <selenium.webdriver.remote.webelement.WebElement (session=\"0f7b4e04c2edbbd0ef91bfded1efb600\", element=\"6d46c8e9-66b3-474c-900c-0ce73883f84d\")>,\n",
       " <selenium.webdriver.remote.webelement.WebElement (session=\"0f7b4e04c2edbbd0ef91bfded1efb600\", element=\"388c28d0-a389-460a-89c0-cf1569ddec51\")>,\n",
       " <selenium.webdriver.remote.webelement.WebElement (session=\"0f7b4e04c2edbbd0ef91bfded1efb600\", element=\"48aabb78-11fe-49e5-ae0c-937f50a913d4\")>,\n",
       " <selenium.webdriver.remote.webelement.WebElement (session=\"0f7b4e04c2edbbd0ef91bfded1efb600\", element=\"2a35b438-eae0-4052-8db5-53223d444d6a\")>,\n",
       " <selenium.webdriver.remote.webelement.WebElement (session=\"0f7b4e04c2edbbd0ef91bfded1efb600\", element=\"bd2eda97-fb24-4a6d-83a7-3a1dad1c2627\")>]"
      ]
     },
     "execution_count": 11,
     "metadata": {},
     "output_type": "execute_result"
    }
   ],
   "source": [
    "\n",
    "line1=browser.find_elements(\"xpath\",\"//div[@class='location ']\")\n",
    "line1"
   ]
  },
  {
   "cell_type": "code",
   "execution_count": 12,
   "id": "af391958",
   "metadata": {},
   "outputs": [
    {
     "data": {
      "text/plain": [
       "['Montreal, Canada',\n",
       " 'Evanston, United States',\n",
       " 'Parkville, Australia',\n",
       " 'Shanghai, China (Mainland)',\n",
       " 'Toronto, Canada',\n",
       " 'Kyoto, Japan',\n",
       " 'London, United Kingdom',\n",
       " 'Hong Kong SAR, Hong Kong SAR',\n",
       " 'New York City, United States',\n",
       " 'Hong Kong SAR, Hong Kong SAR']"
      ]
     },
     "execution_count": 12,
     "metadata": {},
     "output_type": "execute_result"
    }
   ],
   "source": [
    "address=[]\n",
    "for data in line1:\n",
    "    #get the text data\n",
    "    temp=data.text\n",
    "    address.append(temp)\n",
    "address=address[10:]\n",
    "address"
   ]
  },
  {
   "cell_type": "code",
   "execution_count": 13,
   "id": "2f180659",
   "metadata": {},
   "outputs": [
    {
     "data": {
      "text/plain": [
       "[<selenium.webdriver.remote.webelement.WebElement (session=\"0f7b4e04c2edbbd0ef91bfded1efb600\", element=\"2b4902a6-e2ee-4c32-a44f-a618adddf661\")>,\n",
       " <selenium.webdriver.remote.webelement.WebElement (session=\"0f7b4e04c2edbbd0ef91bfded1efb600\", element=\"e406eebb-2e39-4e0d-a5ff-87a7890791b6\")>,\n",
       " <selenium.webdriver.remote.webelement.WebElement (session=\"0f7b4e04c2edbbd0ef91bfded1efb600\", element=\"17fa7b1a-3805-4e3f-a598-37cbd1046988\")>,\n",
       " <selenium.webdriver.remote.webelement.WebElement (session=\"0f7b4e04c2edbbd0ef91bfded1efb600\", element=\"0ccc6b0d-5535-4154-aad9-89bcd0a1022f\")>,\n",
       " <selenium.webdriver.remote.webelement.WebElement (session=\"0f7b4e04c2edbbd0ef91bfded1efb600\", element=\"263f5f56-7517-4f04-a77f-25d99a5c0a63\")>,\n",
       " <selenium.webdriver.remote.webelement.WebElement (session=\"0f7b4e04c2edbbd0ef91bfded1efb600\", element=\"3a7917cd-55bf-4517-a53a-237827fe6412\")>,\n",
       " <selenium.webdriver.remote.webelement.WebElement (session=\"0f7b4e04c2edbbd0ef91bfded1efb600\", element=\"dccc46fc-7796-4660-b4d7-63262649e83d\")>,\n",
       " <selenium.webdriver.remote.webelement.WebElement (session=\"0f7b4e04c2edbbd0ef91bfded1efb600\", element=\"c541084f-fa2e-4d3c-b5ce-a362bcdc0af2\")>,\n",
       " <selenium.webdriver.remote.webelement.WebElement (session=\"0f7b4e04c2edbbd0ef91bfded1efb600\", element=\"ba7e1f4a-2b86-4f2f-8a65-6acd017da6c2\")>,\n",
       " <selenium.webdriver.remote.webelement.WebElement (session=\"0f7b4e04c2edbbd0ef91bfded1efb600\", element=\"7d3e0a19-3d6b-471d-9802-4f6f7a05efda\")>]"
      ]
     },
     "execution_count": 13,
     "metadata": {},
     "output_type": "execute_result"
    }
   ],
   "source": [
    "line2=browser.find_elements(\"xpath\",\"//div[@class='_univ-rank ']\")\n",
    "line2"
   ]
  },
  {
   "cell_type": "code",
   "execution_count": 14,
   "id": "0bfadc8a",
   "metadata": {},
   "outputs": [
    {
     "data": {
      "text/plain": [
       "['31', '32', '33', '=34', '=34', '36', '37', '38', '39', '40']"
      ]
     },
     "execution_count": 14,
     "metadata": {},
     "output_type": "execute_result"
    }
   ],
   "source": [
    "Rank=[]\n",
    "for data in line2:\n",
    "    #get the text data\n",
    "    temp=data.text\n",
    "    Rank.append(temp)\n",
    "Rank"
   ]
  },
  {
   "cell_type": "code",
   "execution_count": 15,
   "id": "c1cfb6f8",
   "metadata": {},
   "outputs": [
    {
     "data": {
      "text/plain": [
       "[<selenium.webdriver.remote.webelement.WebElement (session=\"0f7b4e04c2edbbd0ef91bfded1efb600\", element=\"e172582e-fd5a-4538-afdb-362c3f952d43\")>,\n",
       " <selenium.webdriver.remote.webelement.WebElement (session=\"0f7b4e04c2edbbd0ef91bfded1efb600\", element=\"b0d36a14-b566-4add-a22e-8f1ba90538a9\")>,\n",
       " <selenium.webdriver.remote.webelement.WebElement (session=\"0f7b4e04c2edbbd0ef91bfded1efb600\", element=\"b65ac408-23a4-431f-b2ce-4afaccd17b99\")>,\n",
       " <selenium.webdriver.remote.webelement.WebElement (session=\"0f7b4e04c2edbbd0ef91bfded1efb600\", element=\"47c9eac6-ab45-4742-83ac-fe887ccf61ec\")>,\n",
       " <selenium.webdriver.remote.webelement.WebElement (session=\"0f7b4e04c2edbbd0ef91bfded1efb600\", element=\"914c807b-09cd-4821-89ad-f49f64fd91ab\")>,\n",
       " <selenium.webdriver.remote.webelement.WebElement (session=\"0f7b4e04c2edbbd0ef91bfded1efb600\", element=\"7a2c0503-aada-4372-bc9f-0eb82098adf4\")>,\n",
       " <selenium.webdriver.remote.webelement.WebElement (session=\"0f7b4e04c2edbbd0ef91bfded1efb600\", element=\"db3aa2a3-c20d-4e63-b106-9434db03cdcd\")>,\n",
       " <selenium.webdriver.remote.webelement.WebElement (session=\"0f7b4e04c2edbbd0ef91bfded1efb600\", element=\"df557b6f-65e2-45ac-8937-2cca6cd4c842\")>,\n",
       " <selenium.webdriver.remote.webelement.WebElement (session=\"0f7b4e04c2edbbd0ef91bfded1efb600\", element=\"bc6f0efa-7ca5-4a7b-80a7-86d61b7f6e29\")>]"
      ]
     },
     "execution_count": 15,
     "metadata": {},
     "output_type": "execute_result"
    }
   ],
   "source": [
    "\n",
    "# GET EACH COLLEGE SPECIFICATION HEADERS\n",
    "line3=browser.find_elements(\"xpath\",\"//div[@class='_click-function_ind']\")\n",
    "line3"
   ]
  },
  {
   "cell_type": "code",
   "execution_count": 16,
   "id": "be5f0b83",
   "metadata": {},
   "outputs": [
    {
     "data": {
      "text/plain": [
       "['Overall Score',\n",
       " 'Academic Reputation',\n",
       " 'Employer Reputation',\n",
       " 'Citations per Faculty',\n",
       " 'Faculty Student Ratio',\n",
       " 'International Students Ratio',\n",
       " 'International Faculty Ratio',\n",
       " 'International Research Network\\nUnweighted',\n",
       " 'Employment Outcomes\\nUnweighted']"
      ]
     },
     "execution_count": 16,
     "metadata": {},
     "output_type": "execute_result"
    }
   ],
   "source": [
    "#PARSING DATA\n",
    "column=[]\n",
    "for data in line3:\n",
    "    #get the text data\n",
    "    temp=data.text\n",
    "    column.append(temp)\n",
    "column"
   ]
  },
  {
   "cell_type": "code",
   "execution_count": 17,
   "id": "d6257eb1",
   "metadata": {},
   "outputs": [
    {
     "data": {
      "text/plain": [
       "[<selenium.webdriver.remote.webelement.WebElement (session=\"0f7b4e04c2edbbd0ef91bfded1efb600\", element=\"d4ac5113-fc06-44ba-8c19-5576056e0e0e\")>,\n",
       " <selenium.webdriver.remote.webelement.WebElement (session=\"0f7b4e04c2edbbd0ef91bfded1efb600\", element=\"2dddf2df-464e-4a78-a986-1151439b5f05\")>,\n",
       " <selenium.webdriver.remote.webelement.WebElement (session=\"0f7b4e04c2edbbd0ef91bfded1efb600\", element=\"c8f870ac-a0f3-4d20-8e62-6451b1aec8ad\")>,\n",
       " <selenium.webdriver.remote.webelement.WebElement (session=\"0f7b4e04c2edbbd0ef91bfded1efb600\", element=\"c415a52f-38dc-4da5-a09c-709570e33242\")>,\n",
       " <selenium.webdriver.remote.webelement.WebElement (session=\"0f7b4e04c2edbbd0ef91bfded1efb600\", element=\"c0447544-337d-40db-b8ee-92565fa94b71\")>,\n",
       " <selenium.webdriver.remote.webelement.WebElement (session=\"0f7b4e04c2edbbd0ef91bfded1efb600\", element=\"45368458-af85-47bc-bfbd-77323ecb869c\")>,\n",
       " <selenium.webdriver.remote.webelement.WebElement (session=\"0f7b4e04c2edbbd0ef91bfded1efb600\", element=\"1c9d97ef-6e1b-4322-b0f9-b0122f2d544d\")>,\n",
       " <selenium.webdriver.remote.webelement.WebElement (session=\"0f7b4e04c2edbbd0ef91bfded1efb600\", element=\"9c6d8f7d-ed71-408b-9628-04c389100fa2\")>,\n",
       " <selenium.webdriver.remote.webelement.WebElement (session=\"0f7b4e04c2edbbd0ef91bfded1efb600\", element=\"55036ca5-3507-408b-b850-4d54e547eb14\")>,\n",
       " <selenium.webdriver.remote.webelement.WebElement (session=\"0f7b4e04c2edbbd0ef91bfded1efb600\", element=\"170eee3e-6442-48bf-a298-c1ecaaf259ba\")>,\n",
       " <selenium.webdriver.remote.webelement.WebElement (session=\"0f7b4e04c2edbbd0ef91bfded1efb600\", element=\"b33be7d5-3608-4ada-a2bf-ab94b11cb29a\")>,\n",
       " <selenium.webdriver.remote.webelement.WebElement (session=\"0f7b4e04c2edbbd0ef91bfded1efb600\", element=\"9106b4c1-40af-4062-9a65-827add23fb9e\")>,\n",
       " <selenium.webdriver.remote.webelement.WebElement (session=\"0f7b4e04c2edbbd0ef91bfded1efb600\", element=\"8154657c-ce2c-4586-8baa-8dfd7a5ea07e\")>,\n",
       " <selenium.webdriver.remote.webelement.WebElement (session=\"0f7b4e04c2edbbd0ef91bfded1efb600\", element=\"50e36e13-95bd-4e06-9210-04698d8e3485\")>,\n",
       " <selenium.webdriver.remote.webelement.WebElement (session=\"0f7b4e04c2edbbd0ef91bfded1efb600\", element=\"13051956-c77c-4ea4-b7fc-dac0afd92fc5\")>,\n",
       " <selenium.webdriver.remote.webelement.WebElement (session=\"0f7b4e04c2edbbd0ef91bfded1efb600\", element=\"d3746db5-2e6f-4f2b-8e2d-e9e443fdfd6d\")>,\n",
       " <selenium.webdriver.remote.webelement.WebElement (session=\"0f7b4e04c2edbbd0ef91bfded1efb600\", element=\"5d401d91-017e-4443-ae66-d685d0063b77\")>,\n",
       " <selenium.webdriver.remote.webelement.WebElement (session=\"0f7b4e04c2edbbd0ef91bfded1efb600\", element=\"dfbed136-325e-4d69-b387-09b7038ce6d2\")>,\n",
       " <selenium.webdriver.remote.webelement.WebElement (session=\"0f7b4e04c2edbbd0ef91bfded1efb600\", element=\"fdbab5fa-95e5-449c-9a33-3737bcbafce5\")>,\n",
       " <selenium.webdriver.remote.webelement.WebElement (session=\"0f7b4e04c2edbbd0ef91bfded1efb600\", element=\"2f572b1a-51b4-4e58-b784-8f868260e37f\")>,\n",
       " <selenium.webdriver.remote.webelement.WebElement (session=\"0f7b4e04c2edbbd0ef91bfded1efb600\", element=\"da3439b3-4da6-4774-9894-f515cd486352\")>,\n",
       " <selenium.webdriver.remote.webelement.WebElement (session=\"0f7b4e04c2edbbd0ef91bfded1efb600\", element=\"3ae89834-5c72-4df2-a2bd-1eb0979c6c7e\")>,\n",
       " <selenium.webdriver.remote.webelement.WebElement (session=\"0f7b4e04c2edbbd0ef91bfded1efb600\", element=\"c294470c-be57-44db-8a32-f3abbc939af7\")>,\n",
       " <selenium.webdriver.remote.webelement.WebElement (session=\"0f7b4e04c2edbbd0ef91bfded1efb600\", element=\"1e50847d-c4e0-4946-8eef-f4c53332c3a9\")>,\n",
       " <selenium.webdriver.remote.webelement.WebElement (session=\"0f7b4e04c2edbbd0ef91bfded1efb600\", element=\"13d926b5-d521-4184-90ca-5b1835215b1f\")>,\n",
       " <selenium.webdriver.remote.webelement.WebElement (session=\"0f7b4e04c2edbbd0ef91bfded1efb600\", element=\"795da3af-cc13-4739-82e2-f86310844abe\")>,\n",
       " <selenium.webdriver.remote.webelement.WebElement (session=\"0f7b4e04c2edbbd0ef91bfded1efb600\", element=\"2bec6018-8514-4865-8771-a94ad17aa85b\")>,\n",
       " <selenium.webdriver.remote.webelement.WebElement (session=\"0f7b4e04c2edbbd0ef91bfded1efb600\", element=\"320b57c6-7924-42ab-adc3-311720fd7c31\")>,\n",
       " <selenium.webdriver.remote.webelement.WebElement (session=\"0f7b4e04c2edbbd0ef91bfded1efb600\", element=\"985f32c2-c8c9-45a5-b422-1b537f178999\")>,\n",
       " <selenium.webdriver.remote.webelement.WebElement (session=\"0f7b4e04c2edbbd0ef91bfded1efb600\", element=\"63536fb6-21fe-4450-a820-4ced81f43ba9\")>,\n",
       " <selenium.webdriver.remote.webelement.WebElement (session=\"0f7b4e04c2edbbd0ef91bfded1efb600\", element=\"64eb37bd-7cfb-4207-ae43-f43889870607\")>,\n",
       " <selenium.webdriver.remote.webelement.WebElement (session=\"0f7b4e04c2edbbd0ef91bfded1efb600\", element=\"7a673e50-d560-4350-bd56-708cb0a2cc78\")>,\n",
       " <selenium.webdriver.remote.webelement.WebElement (session=\"0f7b4e04c2edbbd0ef91bfded1efb600\", element=\"75edfea1-0d33-4e40-9f87-a0aed2fd5363\")>,\n",
       " <selenium.webdriver.remote.webelement.WebElement (session=\"0f7b4e04c2edbbd0ef91bfded1efb600\", element=\"759ce5c0-358d-4a00-9009-316e30b7aed4\")>,\n",
       " <selenium.webdriver.remote.webelement.WebElement (session=\"0f7b4e04c2edbbd0ef91bfded1efb600\", element=\"0a4f42f4-5905-4cfe-ab25-05d3d7ad4d0d\")>,\n",
       " <selenium.webdriver.remote.webelement.WebElement (session=\"0f7b4e04c2edbbd0ef91bfded1efb600\", element=\"23e3e461-b3d5-47cb-bf37-758a2a173522\")>,\n",
       " <selenium.webdriver.remote.webelement.WebElement (session=\"0f7b4e04c2edbbd0ef91bfded1efb600\", element=\"95f2ba02-0bf6-4ee7-b003-214015e8c589\")>,\n",
       " <selenium.webdriver.remote.webelement.WebElement (session=\"0f7b4e04c2edbbd0ef91bfded1efb600\", element=\"a3ce21f8-8d02-4eb7-a1a9-6be47e0d33ee\")>,\n",
       " <selenium.webdriver.remote.webelement.WebElement (session=\"0f7b4e04c2edbbd0ef91bfded1efb600\", element=\"41cc7f5c-9695-4bf9-8495-03a9648ae37f\")>,\n",
       " <selenium.webdriver.remote.webelement.WebElement (session=\"0f7b4e04c2edbbd0ef91bfded1efb600\", element=\"56f387d1-5eee-4a53-90d9-ada749bc6e8b\")>,\n",
       " <selenium.webdriver.remote.webelement.WebElement (session=\"0f7b4e04c2edbbd0ef91bfded1efb600\", element=\"c5819d46-c67f-44c0-9f4b-9d8fbb62cde1\")>,\n",
       " <selenium.webdriver.remote.webelement.WebElement (session=\"0f7b4e04c2edbbd0ef91bfded1efb600\", element=\"fd215e0a-49a6-43b2-b237-1889aa7a91d3\")>,\n",
       " <selenium.webdriver.remote.webelement.WebElement (session=\"0f7b4e04c2edbbd0ef91bfded1efb600\", element=\"f377d337-67fe-4b25-b52f-3e8ab6da83d4\")>,\n",
       " <selenium.webdriver.remote.webelement.WebElement (session=\"0f7b4e04c2edbbd0ef91bfded1efb600\", element=\"44bec089-7e03-43fe-b39e-768b51f97927\")>,\n",
       " <selenium.webdriver.remote.webelement.WebElement (session=\"0f7b4e04c2edbbd0ef91bfded1efb600\", element=\"e89ef46d-ffa4-4774-99ae-f047803f3648\")>,\n",
       " <selenium.webdriver.remote.webelement.WebElement (session=\"0f7b4e04c2edbbd0ef91bfded1efb600\", element=\"746df6b3-633b-4884-b3a8-4ef4f466a8ad\")>,\n",
       " <selenium.webdriver.remote.webelement.WebElement (session=\"0f7b4e04c2edbbd0ef91bfded1efb600\", element=\"72e63ee8-146e-4101-b491-61784ff3582f\")>,\n",
       " <selenium.webdriver.remote.webelement.WebElement (session=\"0f7b4e04c2edbbd0ef91bfded1efb600\", element=\"7554f4ab-e02e-400b-be55-b6270d0c7bd8\")>,\n",
       " <selenium.webdriver.remote.webelement.WebElement (session=\"0f7b4e04c2edbbd0ef91bfded1efb600\", element=\"5e6b5791-664d-45d1-b5e1-4027ac7ac557\")>,\n",
       " <selenium.webdriver.remote.webelement.WebElement (session=\"0f7b4e04c2edbbd0ef91bfded1efb600\", element=\"825e58b4-d4e4-485b-88ca-46ff1cacb479\")>,\n",
       " <selenium.webdriver.remote.webelement.WebElement (session=\"0f7b4e04c2edbbd0ef91bfded1efb600\", element=\"1df45073-f36c-41c2-92ff-44609cf6f4d6\")>,\n",
       " <selenium.webdriver.remote.webelement.WebElement (session=\"0f7b4e04c2edbbd0ef91bfded1efb600\", element=\"e9c6643d-1525-41ae-b67b-892303f326e2\")>,\n",
       " <selenium.webdriver.remote.webelement.WebElement (session=\"0f7b4e04c2edbbd0ef91bfded1efb600\", element=\"1f670e55-a548-4790-ad7d-92c993bd733d\")>,\n",
       " <selenium.webdriver.remote.webelement.WebElement (session=\"0f7b4e04c2edbbd0ef91bfded1efb600\", element=\"8eeda3dd-bf3c-4dba-a59e-708e21b734f2\")>,\n",
       " <selenium.webdriver.remote.webelement.WebElement (session=\"0f7b4e04c2edbbd0ef91bfded1efb600\", element=\"79d9bbee-f02b-47df-8f95-0a17778df329\")>,\n",
       " <selenium.webdriver.remote.webelement.WebElement (session=\"0f7b4e04c2edbbd0ef91bfded1efb600\", element=\"60131795-bcd0-4ace-900a-79d8e82e4eac\")>,\n",
       " <selenium.webdriver.remote.webelement.WebElement (session=\"0f7b4e04c2edbbd0ef91bfded1efb600\", element=\"0f0f9b3b-588d-4bc0-bad6-83ac51e24a58\")>,\n",
       " <selenium.webdriver.remote.webelement.WebElement (session=\"0f7b4e04c2edbbd0ef91bfded1efb600\", element=\"21021ccc-5415-440d-9e39-325307c4fc37\")>,\n",
       " <selenium.webdriver.remote.webelement.WebElement (session=\"0f7b4e04c2edbbd0ef91bfded1efb600\", element=\"f84702a9-3f50-40bb-b15a-f282868a8e6a\")>,\n",
       " <selenium.webdriver.remote.webelement.WebElement (session=\"0f7b4e04c2edbbd0ef91bfded1efb600\", element=\"7af3be05-6628-4dce-904c-8e871f92ea54\")>,\n",
       " <selenium.webdriver.remote.webelement.WebElement (session=\"0f7b4e04c2edbbd0ef91bfded1efb600\", element=\"a29608f5-23c2-4261-a49a-f7fb9a7fcb61\")>,\n",
       " <selenium.webdriver.remote.webelement.WebElement (session=\"0f7b4e04c2edbbd0ef91bfded1efb600\", element=\"7f466300-072d-4ba0-9217-8b669707ffce\")>,\n",
       " <selenium.webdriver.remote.webelement.WebElement (session=\"0f7b4e04c2edbbd0ef91bfded1efb600\", element=\"c8d4f230-5ba1-433c-972d-b9ac53774098\")>,\n",
       " <selenium.webdriver.remote.webelement.WebElement (session=\"0f7b4e04c2edbbd0ef91bfded1efb600\", element=\"4488ed5d-045b-467e-bf50-c0bf53eeb998\")>,\n",
       " <selenium.webdriver.remote.webelement.WebElement (session=\"0f7b4e04c2edbbd0ef91bfded1efb600\", element=\"8b30b43a-21f0-4995-8e2a-fc603937a50d\")>,\n",
       " <selenium.webdriver.remote.webelement.WebElement (session=\"0f7b4e04c2edbbd0ef91bfded1efb600\", element=\"7893e733-0289-48c4-a23f-4b2977f7c1f7\")>,\n",
       " <selenium.webdriver.remote.webelement.WebElement (session=\"0f7b4e04c2edbbd0ef91bfded1efb600\", element=\"89c2a0a6-c9cc-499c-94b9-adc9e881f4eb\")>,\n",
       " <selenium.webdriver.remote.webelement.WebElement (session=\"0f7b4e04c2edbbd0ef91bfded1efb600\", element=\"ea394e56-0b58-44c7-8f99-bd24d6dc9e07\")>,\n",
       " <selenium.webdriver.remote.webelement.WebElement (session=\"0f7b4e04c2edbbd0ef91bfded1efb600\", element=\"f387041f-4e56-4f11-b1cf-26201eb0f9e0\")>,\n",
       " <selenium.webdriver.remote.webelement.WebElement (session=\"0f7b4e04c2edbbd0ef91bfded1efb600\", element=\"76b6a77f-3a86-476e-a488-c97648473125\")>,\n",
       " <selenium.webdriver.remote.webelement.WebElement (session=\"0f7b4e04c2edbbd0ef91bfded1efb600\", element=\"07a65fdb-ee7b-47cc-9217-1a924ff0a8a7\")>,\n",
       " <selenium.webdriver.remote.webelement.WebElement (session=\"0f7b4e04c2edbbd0ef91bfded1efb600\", element=\"54b5605a-8bc2-419e-ae62-1b6cdfbf870a\")>,\n",
       " <selenium.webdriver.remote.webelement.WebElement (session=\"0f7b4e04c2edbbd0ef91bfded1efb600\", element=\"378a7d81-6fa0-4c5e-b48b-97f17486ff11\")>,\n",
       " <selenium.webdriver.remote.webelement.WebElement (session=\"0f7b4e04c2edbbd0ef91bfded1efb600\", element=\"18cc9aaf-09ed-41fd-8a1d-1f272598fa7e\")>,\n",
       " <selenium.webdriver.remote.webelement.WebElement (session=\"0f7b4e04c2edbbd0ef91bfded1efb600\", element=\"ecc03c9b-331f-4989-b003-69d9aef3a062\")>,\n",
       " <selenium.webdriver.remote.webelement.WebElement (session=\"0f7b4e04c2edbbd0ef91bfded1efb600\", element=\"da418322-1027-450b-9d47-b81b815d26e3\")>,\n",
       " <selenium.webdriver.remote.webelement.WebElement (session=\"0f7b4e04c2edbbd0ef91bfded1efb600\", element=\"1b3f9aaa-72b5-4b73-833b-c7938388bdc0\")>,\n",
       " <selenium.webdriver.remote.webelement.WebElement (session=\"0f7b4e04c2edbbd0ef91bfded1efb600\", element=\"cf586454-2569-429d-affc-e1dca4e06a4b\")>,\n",
       " <selenium.webdriver.remote.webelement.WebElement (session=\"0f7b4e04c2edbbd0ef91bfded1efb600\", element=\"2026249d-b9ef-4269-b56f-290c0527232b\")>,\n",
       " <selenium.webdriver.remote.webelement.WebElement (session=\"0f7b4e04c2edbbd0ef91bfded1efb600\", element=\"a5de7d6e-c6f5-4526-85e8-ccd4916d9e23\")>,\n",
       " <selenium.webdriver.remote.webelement.WebElement (session=\"0f7b4e04c2edbbd0ef91bfded1efb600\", element=\"f7c52bce-0063-42da-9abc-243feb14e6f5\")>,\n",
       " <selenium.webdriver.remote.webelement.WebElement (session=\"0f7b4e04c2edbbd0ef91bfded1efb600\", element=\"2cf279bc-ca95-4219-a7c5-df43387e71b4\")>,\n",
       " <selenium.webdriver.remote.webelement.WebElement (session=\"0f7b4e04c2edbbd0ef91bfded1efb600\", element=\"0f945439-c0a0-41cf-b5a2-413dd45407bf\")>,\n",
       " <selenium.webdriver.remote.webelement.WebElement (session=\"0f7b4e04c2edbbd0ef91bfded1efb600\", element=\"f02d29ac-8626-4b0b-a3b6-f63f3e8bc0e9\")>,\n",
       " <selenium.webdriver.remote.webelement.WebElement (session=\"0f7b4e04c2edbbd0ef91bfded1efb600\", element=\"1ffbfd48-dd9e-482a-bd95-dfa2375b313f\")>,\n",
       " <selenium.webdriver.remote.webelement.WebElement (session=\"0f7b4e04c2edbbd0ef91bfded1efb600\", element=\"761167e2-227b-4e65-bc2d-67819efc866f\")>,\n",
       " <selenium.webdriver.remote.webelement.WebElement (session=\"0f7b4e04c2edbbd0ef91bfded1efb600\", element=\"bfea529d-bad6-4bd6-b133-667e07c5811e\")>,\n",
       " <selenium.webdriver.remote.webelement.WebElement (session=\"0f7b4e04c2edbbd0ef91bfded1efb600\", element=\"a8bcd363-eb1d-46b9-94b5-6d40a6528f67\")>,\n",
       " <selenium.webdriver.remote.webelement.WebElement (session=\"0f7b4e04c2edbbd0ef91bfded1efb600\", element=\"7aaee141-4b41-4a23-b79a-2f96da7c7fbc\")>,\n",
       " <selenium.webdriver.remote.webelement.WebElement (session=\"0f7b4e04c2edbbd0ef91bfded1efb600\", element=\"f7e50f39-585b-46ce-b794-c4815547d9ca\")>,\n",
       " <selenium.webdriver.remote.webelement.WebElement (session=\"0f7b4e04c2edbbd0ef91bfded1efb600\", element=\"ba51e70e-6ca2-4c67-8d73-a229f92df9c6\")>,\n",
       " <selenium.webdriver.remote.webelement.WebElement (session=\"0f7b4e04c2edbbd0ef91bfded1efb600\", element=\"7857ce6b-755d-4e96-9310-efe00b5ead5c\")>,\n",
       " <selenium.webdriver.remote.webelement.WebElement (session=\"0f7b4e04c2edbbd0ef91bfded1efb600\", element=\"f571e65e-6511-46eb-bbb9-a5b69956d3bb\")>,\n",
       " <selenium.webdriver.remote.webelement.WebElement (session=\"0f7b4e04c2edbbd0ef91bfded1efb600\", element=\"9a7903b2-c880-4503-a568-d302ba934190\")>,\n",
       " <selenium.webdriver.remote.webelement.WebElement (session=\"0f7b4e04c2edbbd0ef91bfded1efb600\", element=\"09ce21bb-2c11-4480-a2a6-f0fcb3cb2620\")>,\n",
       " <selenium.webdriver.remote.webelement.WebElement (session=\"0f7b4e04c2edbbd0ef91bfded1efb600\", element=\"0a5925cf-145a-4930-9981-70cd53be8f22\")>,\n",
       " <selenium.webdriver.remote.webelement.WebElement (session=\"0f7b4e04c2edbbd0ef91bfded1efb600\", element=\"23261318-8922-464c-aef6-be60fd5df428\")>,\n",
       " <selenium.webdriver.remote.webelement.WebElement (session=\"0f7b4e04c2edbbd0ef91bfded1efb600\", element=\"5a22ceac-87ab-4ec1-bbf0-d20ca878438f\")>,\n",
       " <selenium.webdriver.remote.webelement.WebElement (session=\"0f7b4e04c2edbbd0ef91bfded1efb600\", element=\"0394b1b2-d1a5-45e1-be24-7216eca2d9bf\")>,\n",
       " <selenium.webdriver.remote.webelement.WebElement (session=\"0f7b4e04c2edbbd0ef91bfded1efb600\", element=\"bcf67712-c43e-4c98-ae48-faa9fb1507ab\")>]"
      ]
     },
     "execution_count": 17,
     "metadata": {},
     "output_type": "execute_result"
    }
   ],
   "source": [
    "\n",
    "line4=browser.find_elements(\"xpath\",\"//div[@class='td-wrap-in']\")\n",
    "line4"
   ]
  },
  {
   "cell_type": "code",
   "execution_count": 18,
   "id": "ab289a1c",
   "metadata": {},
   "outputs": [
    {
     "data": {
      "text/plain": [
       "['79.8', '82', '50.1', '98.6', '62.6', '87.9', '100', '56.2', '91.2']"
      ]
     },
     "execution_count": 18,
     "metadata": {},
     "output_type": "execute_result"
    }
   ],
   "source": [
    "#PARSING DATA\n",
    "value=[]\n",
    "for data in line4:\n",
    "    #get the text data\n",
    "    temp=data.text\n",
    "    value.append(temp)\n",
    "value_h=value[91:100]\n",
    "value_h"
   ]
  },
  {
   "cell_type": "code",
   "execution_count": 19,
   "id": "be65edd2",
   "metadata": {},
   "outputs": [
    {
     "data": {
      "text/plain": [
       "{'Name': 'The Hong Kong University of Science and Technology',\n",
       " 'Location': 'Hong Kong SAR, Hong Kong SAR',\n",
       " 'Rank': '40',\n",
       " 'Overall Score': '79.8',\n",
       " 'Academic Reputation': '82',\n",
       " 'Employer Reputation': '50.1',\n",
       " 'Citations per Faculty': '98.6',\n",
       " 'Faculty Student Ratio': '62.6',\n",
       " 'International Students Ratio': '87.9',\n",
       " 'International Faculty Ratio': '100',\n",
       " 'International Research Network\\nUnweighted': '56.2',\n",
       " 'Employment Outcomes\\nUnweighted': '91.2'}"
      ]
     },
     "execution_count": 19,
     "metadata": {},
     "output_type": "execute_result"
    }
   ],
   "source": [
    "d={}\n",
    "d['Name']=value[90]\n",
    "d['Location']=address[9]\n",
    "d['Rank']=Rank[9]\n",
    "for i in range(len(column)):\n",
    "    d[column[i]]=value_h[i]\n",
    "d"
   ]
  },
  {
   "cell_type": "code",
   "execution_count": 20,
   "id": "6be33b90",
   "metadata": {},
   "outputs": [
    {
     "data": {
      "text/plain": [
       "'{\"Name\": \"The Hong Kong University of Science and Technology\", \"Location\": \"Hong Kong SAR, Hong Kong SAR\", \"Rank\": \"40\", \"Overall Score\": \"79.8\", \"Academic Reputation\": \"82\", \"Employer Reputation\": \"50.1\", \"Citations per Faculty\": \"98.6\", \"Faculty Student Ratio\": \"62.6\", \"International Students Ratio\": \"87.9\", \"International Faculty Ratio\": \"100\", \"International Research Network\\\\nUnweighted\": \"56.2\", \"Employment Outcomes\\\\nUnweighted\": \"91.2\"}'"
      ]
     },
     "execution_count": 20,
     "metadata": {},
     "output_type": "execute_result"
    }
   ],
   "source": [
    "s1=json.dumps(d)\n",
    "s1"
   ]
  },
  {
   "cell_type": "code",
   "execution_count": 21,
   "id": "baf1bcbe",
   "metadata": {},
   "outputs": [],
   "source": [
    "with open('The Hong Kong University of Science and Technology.json','w') as f:\n",
    "    json.dump(d,f)\n"
   ]
  },
  {
   "cell_type": "code",
   "execution_count": null,
   "id": "bf8fcc14",
   "metadata": {},
   "outputs": [],
   "source": []
  }
 ],
 "metadata": {
  "kernelspec": {
   "display_name": "Python 3.9.12 ('base')",
   "language": "python",
   "name": "python3"
  },
  "language_info": {
   "codemirror_mode": {
    "name": "ipython",
    "version": 3
   },
   "file_extension": ".py",
   "mimetype": "text/x-python",
   "name": "python",
   "nbconvert_exporter": "python",
   "pygments_lexer": "ipython3",
   "version": "3.9.12"
  },
  "vscode": {
   "interpreter": {
    "hash": "ad2bdc8ecc057115af97d19610ffacc2b4e99fae6737bb82f5d7fb13d2f2c186"
   }
  }
 },
 "nbformat": 4,
 "nbformat_minor": 5
}
